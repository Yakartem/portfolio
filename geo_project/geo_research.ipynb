{
 "cells": [
  {
   "cell_type": "markdown",
   "metadata": {},
   "source": [
    "# Выбор локации для скважины"
   ]
  },
  {
   "cell_type": "markdown",
   "metadata": {},
   "source": [
    "- В избранном регионе ищут месторождения, для каждого определяют значения признаков;\n",
    "- Строят модель и оценивают объём запасов;\n",
    "- Выбирают месторождения с самым высокими оценками значений. Количество месторождений зависит от бюджета компании и стоимости разработки одной скважины;\n",
    "- Прибыль равна суммарной прибыли отобранных месторождений."
   ]
  },
  {
   "cell_type": "code",
   "execution_count": 1,
   "metadata": {},
   "outputs": [],
   "source": [
    "import pandas as pd\n",
    "import numpy as np\n",
    "from sklearn.linear_model import LinearRegression\n",
    "from sklearn.model_selection import train_test_split\n",
    "from sklearn.metrics import mean_squared_error\n",
    "from tqdm.notebook import tqdm\n",
    "import seaborn as sns\n",
    "import matplotlib.pyplot as plt\n",
    "import matplotlib"
   ]
  },
  {
   "cell_type": "markdown",
   "metadata": {},
   "source": [
    "## Загрузка и подготовка данных"
   ]
  },
  {
   "cell_type": "markdown",
   "metadata": {},
   "source": [
    "Для начала просмотрим имеющиеся данные:"
   ]
  },
  {
   "cell_type": "code",
   "execution_count": 2,
   "metadata": {},
   "outputs": [],
   "source": [
    "data_0 = pd.read_csv('./datasets/geo_data_0.csv')\n",
    "data_1 = pd.read_csv('./datasets/geo_data_1.csv')\n",
    "data_2 = pd.read_csv('./datasets/geo_data_2.csv')\n",
    "data_0.name = 'data_0'\n",
    "data_1.name = 'data_1'\n",
    "data_2.name = 'data_2'"
   ]
  },
  {
   "cell_type": "code",
   "execution_count": 3,
   "metadata": {
    "scrolled": false
   },
   "outputs": [
    {
     "name": "stdout",
     "output_type": "stream",
     "text": [
      "<class 'pandas.core.frame.DataFrame'>\n",
      "RangeIndex: 100000 entries, 0 to 99999\n",
      "Data columns (total 5 columns):\n",
      " #   Column   Non-Null Count   Dtype  \n",
      "---  ------   --------------   -----  \n",
      " 0   id       100000 non-null  object \n",
      " 1   f0       100000 non-null  float64\n",
      " 2   f1       100000 non-null  float64\n",
      " 3   f2       100000 non-null  float64\n",
      " 4   product  100000 non-null  float64\n",
      "dtypes: float64(4), object(1)\n",
      "memory usage: 3.8+ MB\n"
     ]
    },
    {
     "data": {
      "text/html": [
       "<div>\n",
       "<style scoped>\n",
       "    .dataframe tbody tr th:only-of-type {\n",
       "        vertical-align: middle;\n",
       "    }\n",
       "\n",
       "    .dataframe tbody tr th {\n",
       "        vertical-align: top;\n",
       "    }\n",
       "\n",
       "    .dataframe thead th {\n",
       "        text-align: right;\n",
       "    }\n",
       "</style>\n",
       "<table border=\"1\" class=\"dataframe\">\n",
       "  <thead>\n",
       "    <tr style=\"text-align: right;\">\n",
       "      <th></th>\n",
       "      <th>id</th>\n",
       "      <th>f0</th>\n",
       "      <th>f1</th>\n",
       "      <th>f2</th>\n",
       "      <th>product</th>\n",
       "    </tr>\n",
       "  </thead>\n",
       "  <tbody>\n",
       "    <tr>\n",
       "      <th>0</th>\n",
       "      <td>txEyH</td>\n",
       "      <td>0.705745</td>\n",
       "      <td>-0.497823</td>\n",
       "      <td>1.221170</td>\n",
       "      <td>105.280062</td>\n",
       "    </tr>\n",
       "    <tr>\n",
       "      <th>1</th>\n",
       "      <td>2acmU</td>\n",
       "      <td>1.334711</td>\n",
       "      <td>-0.340164</td>\n",
       "      <td>4.365080</td>\n",
       "      <td>73.037750</td>\n",
       "    </tr>\n",
       "    <tr>\n",
       "      <th>2</th>\n",
       "      <td>409Wp</td>\n",
       "      <td>1.022732</td>\n",
       "      <td>0.151990</td>\n",
       "      <td>1.419926</td>\n",
       "      <td>85.265647</td>\n",
       "    </tr>\n",
       "    <tr>\n",
       "      <th>3</th>\n",
       "      <td>iJLyR</td>\n",
       "      <td>-0.032172</td>\n",
       "      <td>0.139033</td>\n",
       "      <td>2.978566</td>\n",
       "      <td>168.620776</td>\n",
       "    </tr>\n",
       "    <tr>\n",
       "      <th>4</th>\n",
       "      <td>Xdl7t</td>\n",
       "      <td>1.988431</td>\n",
       "      <td>0.155413</td>\n",
       "      <td>4.751769</td>\n",
       "      <td>154.036647</td>\n",
       "    </tr>\n",
       "  </tbody>\n",
       "</table>\n",
       "</div>"
      ],
      "text/plain": [
       "      id        f0        f1        f2     product\n",
       "0  txEyH  0.705745 -0.497823  1.221170  105.280062\n",
       "1  2acmU  1.334711 -0.340164  4.365080   73.037750\n",
       "2  409Wp  1.022732  0.151990  1.419926   85.265647\n",
       "3  iJLyR -0.032172  0.139033  2.978566  168.620776\n",
       "4  Xdl7t  1.988431  0.155413  4.751769  154.036647"
      ]
     },
     "metadata": {},
     "output_type": "display_data"
    },
    {
     "data": {
      "text/html": [
       "<div>\n",
       "<style scoped>\n",
       "    .dataframe tbody tr th:only-of-type {\n",
       "        vertical-align: middle;\n",
       "    }\n",
       "\n",
       "    .dataframe tbody tr th {\n",
       "        vertical-align: top;\n",
       "    }\n",
       "\n",
       "    .dataframe thead th {\n",
       "        text-align: right;\n",
       "    }\n",
       "</style>\n",
       "<table border=\"1\" class=\"dataframe\">\n",
       "  <thead>\n",
       "    <tr style=\"text-align: right;\">\n",
       "      <th></th>\n",
       "      <th>f0</th>\n",
       "      <th>f1</th>\n",
       "      <th>f2</th>\n",
       "      <th>product</th>\n",
       "    </tr>\n",
       "  </thead>\n",
       "  <tbody>\n",
       "    <tr>\n",
       "      <th>count</th>\n",
       "      <td>100000.000000</td>\n",
       "      <td>100000.000000</td>\n",
       "      <td>100000.000000</td>\n",
       "      <td>100000.000000</td>\n",
       "    </tr>\n",
       "    <tr>\n",
       "      <th>mean</th>\n",
       "      <td>0.500419</td>\n",
       "      <td>0.250143</td>\n",
       "      <td>2.502647</td>\n",
       "      <td>92.500000</td>\n",
       "    </tr>\n",
       "    <tr>\n",
       "      <th>std</th>\n",
       "      <td>0.871832</td>\n",
       "      <td>0.504433</td>\n",
       "      <td>3.248248</td>\n",
       "      <td>44.288691</td>\n",
       "    </tr>\n",
       "    <tr>\n",
       "      <th>min</th>\n",
       "      <td>-1.408605</td>\n",
       "      <td>-0.848218</td>\n",
       "      <td>-12.088328</td>\n",
       "      <td>0.000000</td>\n",
       "    </tr>\n",
       "    <tr>\n",
       "      <th>25%</th>\n",
       "      <td>-0.072580</td>\n",
       "      <td>-0.200881</td>\n",
       "      <td>0.287748</td>\n",
       "      <td>56.497507</td>\n",
       "    </tr>\n",
       "    <tr>\n",
       "      <th>50%</th>\n",
       "      <td>0.502360</td>\n",
       "      <td>0.250252</td>\n",
       "      <td>2.515969</td>\n",
       "      <td>91.849972</td>\n",
       "    </tr>\n",
       "    <tr>\n",
       "      <th>75%</th>\n",
       "      <td>1.073581</td>\n",
       "      <td>0.700646</td>\n",
       "      <td>4.715088</td>\n",
       "      <td>128.564089</td>\n",
       "    </tr>\n",
       "    <tr>\n",
       "      <th>max</th>\n",
       "      <td>2.362331</td>\n",
       "      <td>1.343769</td>\n",
       "      <td>16.003790</td>\n",
       "      <td>185.364347</td>\n",
       "    </tr>\n",
       "  </tbody>\n",
       "</table>\n",
       "</div>"
      ],
      "text/plain": [
       "                  f0             f1             f2        product\n",
       "count  100000.000000  100000.000000  100000.000000  100000.000000\n",
       "mean        0.500419       0.250143       2.502647      92.500000\n",
       "std         0.871832       0.504433       3.248248      44.288691\n",
       "min        -1.408605      -0.848218     -12.088328       0.000000\n",
       "25%        -0.072580      -0.200881       0.287748      56.497507\n",
       "50%         0.502360       0.250252       2.515969      91.849972\n",
       "75%         1.073581       0.700646       4.715088     128.564089\n",
       "max         2.362331       1.343769      16.003790     185.364347"
      ]
     },
     "execution_count": 3,
     "metadata": {},
     "output_type": "execute_result"
    }
   ],
   "source": [
    "data_0.info()\n",
    "display(data_0.head(5))\n",
    "data_0.describe()"
   ]
  },
  {
   "cell_type": "code",
   "execution_count": 4,
   "metadata": {},
   "outputs": [
    {
     "name": "stdout",
     "output_type": "stream",
     "text": [
      "<class 'pandas.core.frame.DataFrame'>\n",
      "RangeIndex: 100000 entries, 0 to 99999\n",
      "Data columns (total 5 columns):\n",
      " #   Column   Non-Null Count   Dtype  \n",
      "---  ------   --------------   -----  \n",
      " 0   id       100000 non-null  object \n",
      " 1   f0       100000 non-null  float64\n",
      " 2   f1       100000 non-null  float64\n",
      " 3   f2       100000 non-null  float64\n",
      " 4   product  100000 non-null  float64\n",
      "dtypes: float64(4), object(1)\n",
      "memory usage: 3.8+ MB\n"
     ]
    },
    {
     "data": {
      "text/html": [
       "<div>\n",
       "<style scoped>\n",
       "    .dataframe tbody tr th:only-of-type {\n",
       "        vertical-align: middle;\n",
       "    }\n",
       "\n",
       "    .dataframe tbody tr th {\n",
       "        vertical-align: top;\n",
       "    }\n",
       "\n",
       "    .dataframe thead th {\n",
       "        text-align: right;\n",
       "    }\n",
       "</style>\n",
       "<table border=\"1\" class=\"dataframe\">\n",
       "  <thead>\n",
       "    <tr style=\"text-align: right;\">\n",
       "      <th></th>\n",
       "      <th>id</th>\n",
       "      <th>f0</th>\n",
       "      <th>f1</th>\n",
       "      <th>f2</th>\n",
       "      <th>product</th>\n",
       "    </tr>\n",
       "  </thead>\n",
       "  <tbody>\n",
       "    <tr>\n",
       "      <th>0</th>\n",
       "      <td>kBEdx</td>\n",
       "      <td>-15.001348</td>\n",
       "      <td>-8.276000</td>\n",
       "      <td>-0.005876</td>\n",
       "      <td>3.179103</td>\n",
       "    </tr>\n",
       "    <tr>\n",
       "      <th>1</th>\n",
       "      <td>62mP7</td>\n",
       "      <td>14.272088</td>\n",
       "      <td>-3.475083</td>\n",
       "      <td>0.999183</td>\n",
       "      <td>26.953261</td>\n",
       "    </tr>\n",
       "    <tr>\n",
       "      <th>2</th>\n",
       "      <td>vyE1P</td>\n",
       "      <td>6.263187</td>\n",
       "      <td>-5.948386</td>\n",
       "      <td>5.001160</td>\n",
       "      <td>134.766305</td>\n",
       "    </tr>\n",
       "    <tr>\n",
       "      <th>3</th>\n",
       "      <td>KcrkZ</td>\n",
       "      <td>-13.081196</td>\n",
       "      <td>-11.506057</td>\n",
       "      <td>4.999415</td>\n",
       "      <td>137.945408</td>\n",
       "    </tr>\n",
       "    <tr>\n",
       "      <th>4</th>\n",
       "      <td>AHL4O</td>\n",
       "      <td>12.702195</td>\n",
       "      <td>-8.147433</td>\n",
       "      <td>5.004363</td>\n",
       "      <td>134.766305</td>\n",
       "    </tr>\n",
       "  </tbody>\n",
       "</table>\n",
       "</div>"
      ],
      "text/plain": [
       "      id         f0         f1        f2     product\n",
       "0  kBEdx -15.001348  -8.276000 -0.005876    3.179103\n",
       "1  62mP7  14.272088  -3.475083  0.999183   26.953261\n",
       "2  vyE1P   6.263187  -5.948386  5.001160  134.766305\n",
       "3  KcrkZ -13.081196 -11.506057  4.999415  137.945408\n",
       "4  AHL4O  12.702195  -8.147433  5.004363  134.766305"
      ]
     },
     "metadata": {},
     "output_type": "display_data"
    },
    {
     "data": {
      "text/html": [
       "<div>\n",
       "<style scoped>\n",
       "    .dataframe tbody tr th:only-of-type {\n",
       "        vertical-align: middle;\n",
       "    }\n",
       "\n",
       "    .dataframe tbody tr th {\n",
       "        vertical-align: top;\n",
       "    }\n",
       "\n",
       "    .dataframe thead th {\n",
       "        text-align: right;\n",
       "    }\n",
       "</style>\n",
       "<table border=\"1\" class=\"dataframe\">\n",
       "  <thead>\n",
       "    <tr style=\"text-align: right;\">\n",
       "      <th></th>\n",
       "      <th>f0</th>\n",
       "      <th>f1</th>\n",
       "      <th>f2</th>\n",
       "      <th>product</th>\n",
       "    </tr>\n",
       "  </thead>\n",
       "  <tbody>\n",
       "    <tr>\n",
       "      <th>count</th>\n",
       "      <td>100000.000000</td>\n",
       "      <td>100000.000000</td>\n",
       "      <td>100000.000000</td>\n",
       "      <td>100000.000000</td>\n",
       "    </tr>\n",
       "    <tr>\n",
       "      <th>mean</th>\n",
       "      <td>1.141296</td>\n",
       "      <td>-4.796579</td>\n",
       "      <td>2.494541</td>\n",
       "      <td>68.825000</td>\n",
       "    </tr>\n",
       "    <tr>\n",
       "      <th>std</th>\n",
       "      <td>8.965932</td>\n",
       "      <td>5.119872</td>\n",
       "      <td>1.703572</td>\n",
       "      <td>45.944423</td>\n",
       "    </tr>\n",
       "    <tr>\n",
       "      <th>min</th>\n",
       "      <td>-31.609576</td>\n",
       "      <td>-26.358598</td>\n",
       "      <td>-0.018144</td>\n",
       "      <td>0.000000</td>\n",
       "    </tr>\n",
       "    <tr>\n",
       "      <th>25%</th>\n",
       "      <td>-6.298551</td>\n",
       "      <td>-8.267985</td>\n",
       "      <td>1.000021</td>\n",
       "      <td>26.953261</td>\n",
       "    </tr>\n",
       "    <tr>\n",
       "      <th>50%</th>\n",
       "      <td>1.153055</td>\n",
       "      <td>-4.813172</td>\n",
       "      <td>2.011479</td>\n",
       "      <td>57.085625</td>\n",
       "    </tr>\n",
       "    <tr>\n",
       "      <th>75%</th>\n",
       "      <td>8.621015</td>\n",
       "      <td>-1.332816</td>\n",
       "      <td>3.999904</td>\n",
       "      <td>107.813044</td>\n",
       "    </tr>\n",
       "    <tr>\n",
       "      <th>max</th>\n",
       "      <td>29.421755</td>\n",
       "      <td>18.734063</td>\n",
       "      <td>5.019721</td>\n",
       "      <td>137.945408</td>\n",
       "    </tr>\n",
       "  </tbody>\n",
       "</table>\n",
       "</div>"
      ],
      "text/plain": [
       "                  f0             f1             f2        product\n",
       "count  100000.000000  100000.000000  100000.000000  100000.000000\n",
       "mean        1.141296      -4.796579       2.494541      68.825000\n",
       "std         8.965932       5.119872       1.703572      45.944423\n",
       "min       -31.609576     -26.358598      -0.018144       0.000000\n",
       "25%        -6.298551      -8.267985       1.000021      26.953261\n",
       "50%         1.153055      -4.813172       2.011479      57.085625\n",
       "75%         8.621015      -1.332816       3.999904     107.813044\n",
       "max        29.421755      18.734063       5.019721     137.945408"
      ]
     },
     "execution_count": 4,
     "metadata": {},
     "output_type": "execute_result"
    }
   ],
   "source": [
    "data_1.info()\n",
    "display(data_1.head(5))\n",
    "data_1.describe()"
   ]
  },
  {
   "cell_type": "code",
   "execution_count": 5,
   "metadata": {},
   "outputs": [
    {
     "name": "stdout",
     "output_type": "stream",
     "text": [
      "<class 'pandas.core.frame.DataFrame'>\n",
      "RangeIndex: 100000 entries, 0 to 99999\n",
      "Data columns (total 5 columns):\n",
      " #   Column   Non-Null Count   Dtype  \n",
      "---  ------   --------------   -----  \n",
      " 0   id       100000 non-null  object \n",
      " 1   f0       100000 non-null  float64\n",
      " 2   f1       100000 non-null  float64\n",
      " 3   f2       100000 non-null  float64\n",
      " 4   product  100000 non-null  float64\n",
      "dtypes: float64(4), object(1)\n",
      "memory usage: 3.8+ MB\n"
     ]
    },
    {
     "data": {
      "text/html": [
       "<div>\n",
       "<style scoped>\n",
       "    .dataframe tbody tr th:only-of-type {\n",
       "        vertical-align: middle;\n",
       "    }\n",
       "\n",
       "    .dataframe tbody tr th {\n",
       "        vertical-align: top;\n",
       "    }\n",
       "\n",
       "    .dataframe thead th {\n",
       "        text-align: right;\n",
       "    }\n",
       "</style>\n",
       "<table border=\"1\" class=\"dataframe\">\n",
       "  <thead>\n",
       "    <tr style=\"text-align: right;\">\n",
       "      <th></th>\n",
       "      <th>id</th>\n",
       "      <th>f0</th>\n",
       "      <th>f1</th>\n",
       "      <th>f2</th>\n",
       "      <th>product</th>\n",
       "    </tr>\n",
       "  </thead>\n",
       "  <tbody>\n",
       "    <tr>\n",
       "      <th>0</th>\n",
       "      <td>fwXo0</td>\n",
       "      <td>-1.146987</td>\n",
       "      <td>0.963328</td>\n",
       "      <td>-0.828965</td>\n",
       "      <td>27.758673</td>\n",
       "    </tr>\n",
       "    <tr>\n",
       "      <th>1</th>\n",
       "      <td>WJtFt</td>\n",
       "      <td>0.262778</td>\n",
       "      <td>0.269839</td>\n",
       "      <td>-2.530187</td>\n",
       "      <td>56.069697</td>\n",
       "    </tr>\n",
       "    <tr>\n",
       "      <th>2</th>\n",
       "      <td>ovLUW</td>\n",
       "      <td>0.194587</td>\n",
       "      <td>0.289035</td>\n",
       "      <td>-5.586433</td>\n",
       "      <td>62.871910</td>\n",
       "    </tr>\n",
       "    <tr>\n",
       "      <th>3</th>\n",
       "      <td>q6cA6</td>\n",
       "      <td>2.236060</td>\n",
       "      <td>-0.553760</td>\n",
       "      <td>0.930038</td>\n",
       "      <td>114.572842</td>\n",
       "    </tr>\n",
       "    <tr>\n",
       "      <th>4</th>\n",
       "      <td>WPMUX</td>\n",
       "      <td>-0.515993</td>\n",
       "      <td>1.716266</td>\n",
       "      <td>5.899011</td>\n",
       "      <td>149.600746</td>\n",
       "    </tr>\n",
       "  </tbody>\n",
       "</table>\n",
       "</div>"
      ],
      "text/plain": [
       "      id        f0        f1        f2     product\n",
       "0  fwXo0 -1.146987  0.963328 -0.828965   27.758673\n",
       "1  WJtFt  0.262778  0.269839 -2.530187   56.069697\n",
       "2  ovLUW  0.194587  0.289035 -5.586433   62.871910\n",
       "3  q6cA6  2.236060 -0.553760  0.930038  114.572842\n",
       "4  WPMUX -0.515993  1.716266  5.899011  149.600746"
      ]
     },
     "metadata": {},
     "output_type": "display_data"
    },
    {
     "data": {
      "text/html": [
       "<div>\n",
       "<style scoped>\n",
       "    .dataframe tbody tr th:only-of-type {\n",
       "        vertical-align: middle;\n",
       "    }\n",
       "\n",
       "    .dataframe tbody tr th {\n",
       "        vertical-align: top;\n",
       "    }\n",
       "\n",
       "    .dataframe thead th {\n",
       "        text-align: right;\n",
       "    }\n",
       "</style>\n",
       "<table border=\"1\" class=\"dataframe\">\n",
       "  <thead>\n",
       "    <tr style=\"text-align: right;\">\n",
       "      <th></th>\n",
       "      <th>f0</th>\n",
       "      <th>f1</th>\n",
       "      <th>f2</th>\n",
       "      <th>product</th>\n",
       "    </tr>\n",
       "  </thead>\n",
       "  <tbody>\n",
       "    <tr>\n",
       "      <th>count</th>\n",
       "      <td>100000.000000</td>\n",
       "      <td>100000.000000</td>\n",
       "      <td>100000.000000</td>\n",
       "      <td>100000.000000</td>\n",
       "    </tr>\n",
       "    <tr>\n",
       "      <th>mean</th>\n",
       "      <td>0.002023</td>\n",
       "      <td>-0.002081</td>\n",
       "      <td>2.495128</td>\n",
       "      <td>95.000000</td>\n",
       "    </tr>\n",
       "    <tr>\n",
       "      <th>std</th>\n",
       "      <td>1.732045</td>\n",
       "      <td>1.730417</td>\n",
       "      <td>3.473445</td>\n",
       "      <td>44.749921</td>\n",
       "    </tr>\n",
       "    <tr>\n",
       "      <th>min</th>\n",
       "      <td>-8.760004</td>\n",
       "      <td>-7.084020</td>\n",
       "      <td>-11.970335</td>\n",
       "      <td>0.000000</td>\n",
       "    </tr>\n",
       "    <tr>\n",
       "      <th>25%</th>\n",
       "      <td>-1.162288</td>\n",
       "      <td>-1.174820</td>\n",
       "      <td>0.130359</td>\n",
       "      <td>59.450441</td>\n",
       "    </tr>\n",
       "    <tr>\n",
       "      <th>50%</th>\n",
       "      <td>0.009424</td>\n",
       "      <td>-0.009482</td>\n",
       "      <td>2.484236</td>\n",
       "      <td>94.925613</td>\n",
       "    </tr>\n",
       "    <tr>\n",
       "      <th>75%</th>\n",
       "      <td>1.158535</td>\n",
       "      <td>1.163678</td>\n",
       "      <td>4.858794</td>\n",
       "      <td>130.595027</td>\n",
       "    </tr>\n",
       "    <tr>\n",
       "      <th>max</th>\n",
       "      <td>7.238262</td>\n",
       "      <td>7.844801</td>\n",
       "      <td>16.739402</td>\n",
       "      <td>190.029838</td>\n",
       "    </tr>\n",
       "  </tbody>\n",
       "</table>\n",
       "</div>"
      ],
      "text/plain": [
       "                  f0             f1             f2        product\n",
       "count  100000.000000  100000.000000  100000.000000  100000.000000\n",
       "mean        0.002023      -0.002081       2.495128      95.000000\n",
       "std         1.732045       1.730417       3.473445      44.749921\n",
       "min        -8.760004      -7.084020     -11.970335       0.000000\n",
       "25%        -1.162288      -1.174820       0.130359      59.450441\n",
       "50%         0.009424      -0.009482       2.484236      94.925613\n",
       "75%         1.158535       1.163678       4.858794     130.595027\n",
       "max         7.238262       7.844801      16.739402     190.029838"
      ]
     },
     "execution_count": 5,
     "metadata": {},
     "output_type": "execute_result"
    }
   ],
   "source": [
    "data_2.info()\n",
    "display(data_2.head(5))\n",
    "data_2.describe()"
   ]
  },
  {
   "cell_type": "markdown",
   "metadata": {},
   "source": [
    "Пропусков нет, данные представленны аналогично друг другу. Проверим данные на наличие дубликатов:"
   ]
  },
  {
   "cell_type": "code",
   "execution_count": 6,
   "metadata": {
    "scrolled": true
   },
   "outputs": [
    {
     "name": "stdout",
     "output_type": "stream",
     "text": [
      "0\n",
      "0\n",
      "0\n"
     ]
    }
   ],
   "source": [
    "print(data_0.duplicated().sum())\n",
    "print(data_1.duplicated().sum())\n",
    "print(data_2.duplicated().sum())"
   ]
  },
  {
   "cell_type": "markdown",
   "metadata": {},
   "source": [
    "Явных дубликатов нет, проверим на дубликаты по `id` скважины:"
   ]
  },
  {
   "cell_type": "code",
   "execution_count": 7,
   "metadata": {},
   "outputs": [
    {
     "name": "stdout",
     "output_type": "stream",
     "text": [
      "10\n",
      "4\n",
      "4\n"
     ]
    }
   ],
   "source": [
    "print(data_0['id'].duplicated().sum())\n",
    "print(data_1['id'].duplicated().sum())\n",
    "print(data_2['id'].duplicated().sum())"
   ]
  },
  {
   "cell_type": "markdown",
   "metadata": {},
   "source": [
    "А вот некоторые скважины повторяются, причем повторяются имея при этом разные значения в остальных столбцах. Помним, что в условии задания указано, что каждая скважина имеет свой <b> уникальный </b> id. Проверим насколько сильно отличаются данные у дубликатов, возможно они очень близки и это просто данные двух измерений с небольшими отклонениями:"
   ]
  },
  {
   "cell_type": "code",
   "execution_count": 8,
   "metadata": {},
   "outputs": [],
   "source": [
    "def dup(data):\n",
    "    for i in data[data['id'].duplicated()].index:\n",
    "        display(data[data['id'] == data.loc[i, 'id']])"
   ]
  },
  {
   "cell_type": "code",
   "execution_count": 9,
   "metadata": {
    "scrolled": true
   },
   "outputs": [
    {
     "data": {
      "text/html": [
       "<div>\n",
       "<style scoped>\n",
       "    .dataframe tbody tr th:only-of-type {\n",
       "        vertical-align: middle;\n",
       "    }\n",
       "\n",
       "    .dataframe tbody tr th {\n",
       "        vertical-align: top;\n",
       "    }\n",
       "\n",
       "    .dataframe thead th {\n",
       "        text-align: right;\n",
       "    }\n",
       "</style>\n",
       "<table border=\"1\" class=\"dataframe\">\n",
       "  <thead>\n",
       "    <tr style=\"text-align: right;\">\n",
       "      <th></th>\n",
       "      <th>id</th>\n",
       "      <th>f0</th>\n",
       "      <th>f1</th>\n",
       "      <th>f2</th>\n",
       "      <th>product</th>\n",
       "    </tr>\n",
       "  </thead>\n",
       "  <tbody>\n",
       "    <tr>\n",
       "      <th>931</th>\n",
       "      <td>HZww2</td>\n",
       "      <td>0.755284</td>\n",
       "      <td>0.368511</td>\n",
       "      <td>1.863211</td>\n",
       "      <td>30.681774</td>\n",
       "    </tr>\n",
       "    <tr>\n",
       "      <th>7530</th>\n",
       "      <td>HZww2</td>\n",
       "      <td>1.061194</td>\n",
       "      <td>-0.373969</td>\n",
       "      <td>10.430210</td>\n",
       "      <td>158.828695</td>\n",
       "    </tr>\n",
       "  </tbody>\n",
       "</table>\n",
       "</div>"
      ],
      "text/plain": [
       "         id        f0        f1         f2     product\n",
       "931   HZww2  0.755284  0.368511   1.863211   30.681774\n",
       "7530  HZww2  1.061194 -0.373969  10.430210  158.828695"
      ]
     },
     "metadata": {},
     "output_type": "display_data"
    },
    {
     "data": {
      "text/html": [
       "<div>\n",
       "<style scoped>\n",
       "    .dataframe tbody tr th:only-of-type {\n",
       "        vertical-align: middle;\n",
       "    }\n",
       "\n",
       "    .dataframe tbody tr th {\n",
       "        vertical-align: top;\n",
       "    }\n",
       "\n",
       "    .dataframe thead th {\n",
       "        text-align: right;\n",
       "    }\n",
       "</style>\n",
       "<table border=\"1\" class=\"dataframe\">\n",
       "  <thead>\n",
       "    <tr style=\"text-align: right;\">\n",
       "      <th></th>\n",
       "      <th>id</th>\n",
       "      <th>f0</th>\n",
       "      <th>f1</th>\n",
       "      <th>f2</th>\n",
       "      <th>product</th>\n",
       "    </tr>\n",
       "  </thead>\n",
       "  <tbody>\n",
       "    <tr>\n",
       "      <th>1364</th>\n",
       "      <td>bxg6G</td>\n",
       "      <td>0.411645</td>\n",
       "      <td>0.856830</td>\n",
       "      <td>-3.653440</td>\n",
       "      <td>73.604260</td>\n",
       "    </tr>\n",
       "    <tr>\n",
       "      <th>41724</th>\n",
       "      <td>bxg6G</td>\n",
       "      <td>-0.823752</td>\n",
       "      <td>0.546319</td>\n",
       "      <td>3.630479</td>\n",
       "      <td>93.007798</td>\n",
       "    </tr>\n",
       "  </tbody>\n",
       "</table>\n",
       "</div>"
      ],
      "text/plain": [
       "          id        f0        f1        f2    product\n",
       "1364   bxg6G  0.411645  0.856830 -3.653440  73.604260\n",
       "41724  bxg6G -0.823752  0.546319  3.630479  93.007798"
      ]
     },
     "metadata": {},
     "output_type": "display_data"
    },
    {
     "data": {
      "text/html": [
       "<div>\n",
       "<style scoped>\n",
       "    .dataframe tbody tr th:only-of-type {\n",
       "        vertical-align: middle;\n",
       "    }\n",
       "\n",
       "    .dataframe tbody tr th {\n",
       "        vertical-align: top;\n",
       "    }\n",
       "\n",
       "    .dataframe thead th {\n",
       "        text-align: right;\n",
       "    }\n",
       "</style>\n",
       "<table border=\"1\" class=\"dataframe\">\n",
       "  <thead>\n",
       "    <tr style=\"text-align: right;\">\n",
       "      <th></th>\n",
       "      <th>id</th>\n",
       "      <th>f0</th>\n",
       "      <th>f1</th>\n",
       "      <th>f2</th>\n",
       "      <th>product</th>\n",
       "    </tr>\n",
       "  </thead>\n",
       "  <tbody>\n",
       "    <tr>\n",
       "      <th>3389</th>\n",
       "      <td>A5aEY</td>\n",
       "      <td>-0.039949</td>\n",
       "      <td>0.156872</td>\n",
       "      <td>0.209861</td>\n",
       "      <td>89.249364</td>\n",
       "    </tr>\n",
       "    <tr>\n",
       "      <th>51970</th>\n",
       "      <td>A5aEY</td>\n",
       "      <td>-0.180335</td>\n",
       "      <td>0.935548</td>\n",
       "      <td>-2.094773</td>\n",
       "      <td>33.020205</td>\n",
       "    </tr>\n",
       "  </tbody>\n",
       "</table>\n",
       "</div>"
      ],
      "text/plain": [
       "          id        f0        f1        f2    product\n",
       "3389   A5aEY -0.039949  0.156872  0.209861  89.249364\n",
       "51970  A5aEY -0.180335  0.935548 -2.094773  33.020205"
      ]
     },
     "metadata": {},
     "output_type": "display_data"
    },
    {
     "data": {
      "text/html": [
       "<div>\n",
       "<style scoped>\n",
       "    .dataframe tbody tr th:only-of-type {\n",
       "        vertical-align: middle;\n",
       "    }\n",
       "\n",
       "    .dataframe tbody tr th {\n",
       "        vertical-align: top;\n",
       "    }\n",
       "\n",
       "    .dataframe thead th {\n",
       "        text-align: right;\n",
       "    }\n",
       "</style>\n",
       "<table border=\"1\" class=\"dataframe\">\n",
       "  <thead>\n",
       "    <tr style=\"text-align: right;\">\n",
       "      <th></th>\n",
       "      <th>id</th>\n",
       "      <th>f0</th>\n",
       "      <th>f1</th>\n",
       "      <th>f2</th>\n",
       "      <th>product</th>\n",
       "    </tr>\n",
       "  </thead>\n",
       "  <tbody>\n",
       "    <tr>\n",
       "      <th>1949</th>\n",
       "      <td>QcMuo</td>\n",
       "      <td>0.506563</td>\n",
       "      <td>-0.323775</td>\n",
       "      <td>-2.215583</td>\n",
       "      <td>75.496502</td>\n",
       "    </tr>\n",
       "    <tr>\n",
       "      <th>63593</th>\n",
       "      <td>QcMuo</td>\n",
       "      <td>0.635635</td>\n",
       "      <td>-0.473422</td>\n",
       "      <td>0.862670</td>\n",
       "      <td>64.578675</td>\n",
       "    </tr>\n",
       "  </tbody>\n",
       "</table>\n",
       "</div>"
      ],
      "text/plain": [
       "          id        f0        f1        f2    product\n",
       "1949   QcMuo  0.506563 -0.323775 -2.215583  75.496502\n",
       "63593  QcMuo  0.635635 -0.473422  0.862670  64.578675"
      ]
     },
     "metadata": {},
     "output_type": "display_data"
    },
    {
     "data": {
      "text/html": [
       "<div>\n",
       "<style scoped>\n",
       "    .dataframe tbody tr th:only-of-type {\n",
       "        vertical-align: middle;\n",
       "    }\n",
       "\n",
       "    .dataframe tbody tr th {\n",
       "        vertical-align: top;\n",
       "    }\n",
       "\n",
       "    .dataframe thead th {\n",
       "        text-align: right;\n",
       "    }\n",
       "</style>\n",
       "<table border=\"1\" class=\"dataframe\">\n",
       "  <thead>\n",
       "    <tr style=\"text-align: right;\">\n",
       "      <th></th>\n",
       "      <th>id</th>\n",
       "      <th>f0</th>\n",
       "      <th>f1</th>\n",
       "      <th>f2</th>\n",
       "      <th>product</th>\n",
       "    </tr>\n",
       "  </thead>\n",
       "  <tbody>\n",
       "    <tr>\n",
       "      <th>64022</th>\n",
       "      <td>74z30</td>\n",
       "      <td>0.741456</td>\n",
       "      <td>0.459229</td>\n",
       "      <td>5.153109</td>\n",
       "      <td>140.771492</td>\n",
       "    </tr>\n",
       "    <tr>\n",
       "      <th>66136</th>\n",
       "      <td>74z30</td>\n",
       "      <td>1.084962</td>\n",
       "      <td>-0.312358</td>\n",
       "      <td>6.990771</td>\n",
       "      <td>127.643327</td>\n",
       "    </tr>\n",
       "  </tbody>\n",
       "</table>\n",
       "</div>"
      ],
      "text/plain": [
       "          id        f0        f1        f2     product\n",
       "64022  74z30  0.741456  0.459229  5.153109  140.771492\n",
       "66136  74z30  1.084962 -0.312358  6.990771  127.643327"
      ]
     },
     "metadata": {},
     "output_type": "display_data"
    },
    {
     "data": {
      "text/html": [
       "<div>\n",
       "<style scoped>\n",
       "    .dataframe tbody tr th:only-of-type {\n",
       "        vertical-align: middle;\n",
       "    }\n",
       "\n",
       "    .dataframe tbody tr th {\n",
       "        vertical-align: top;\n",
       "    }\n",
       "\n",
       "    .dataframe thead th {\n",
       "        text-align: right;\n",
       "    }\n",
       "</style>\n",
       "<table border=\"1\" class=\"dataframe\">\n",
       "  <thead>\n",
       "    <tr style=\"text-align: right;\">\n",
       "      <th></th>\n",
       "      <th>id</th>\n",
       "      <th>f0</th>\n",
       "      <th>f1</th>\n",
       "      <th>f2</th>\n",
       "      <th>product</th>\n",
       "    </tr>\n",
       "  </thead>\n",
       "  <tbody>\n",
       "    <tr>\n",
       "      <th>42529</th>\n",
       "      <td>AGS9W</td>\n",
       "      <td>1.454747</td>\n",
       "      <td>-0.479651</td>\n",
       "      <td>0.683380</td>\n",
       "      <td>126.370504</td>\n",
       "    </tr>\n",
       "    <tr>\n",
       "      <th>69163</th>\n",
       "      <td>AGS9W</td>\n",
       "      <td>-0.933795</td>\n",
       "      <td>0.116194</td>\n",
       "      <td>-3.655896</td>\n",
       "      <td>19.230453</td>\n",
       "    </tr>\n",
       "  </tbody>\n",
       "</table>\n",
       "</div>"
      ],
      "text/plain": [
       "          id        f0        f1        f2     product\n",
       "42529  AGS9W  1.454747 -0.479651  0.683380  126.370504\n",
       "69163  AGS9W -0.933795  0.116194 -3.655896   19.230453"
      ]
     },
     "metadata": {},
     "output_type": "display_data"
    },
    {
     "data": {
      "text/html": [
       "<div>\n",
       "<style scoped>\n",
       "    .dataframe tbody tr th:only-of-type {\n",
       "        vertical-align: middle;\n",
       "    }\n",
       "\n",
       "    .dataframe tbody tr th {\n",
       "        vertical-align: top;\n",
       "    }\n",
       "\n",
       "    .dataframe thead th {\n",
       "        text-align: right;\n",
       "    }\n",
       "</style>\n",
       "<table border=\"1\" class=\"dataframe\">\n",
       "  <thead>\n",
       "    <tr style=\"text-align: right;\">\n",
       "      <th></th>\n",
       "      <th>id</th>\n",
       "      <th>f0</th>\n",
       "      <th>f1</th>\n",
       "      <th>f2</th>\n",
       "      <th>product</th>\n",
       "    </tr>\n",
       "  </thead>\n",
       "  <tbody>\n",
       "    <tr>\n",
       "      <th>21426</th>\n",
       "      <td>Tdehs</td>\n",
       "      <td>0.829407</td>\n",
       "      <td>0.298807</td>\n",
       "      <td>-0.049563</td>\n",
       "      <td>96.035308</td>\n",
       "    </tr>\n",
       "    <tr>\n",
       "      <th>75715</th>\n",
       "      <td>Tdehs</td>\n",
       "      <td>0.112079</td>\n",
       "      <td>0.430296</td>\n",
       "      <td>3.218993</td>\n",
       "      <td>60.964018</td>\n",
       "    </tr>\n",
       "  </tbody>\n",
       "</table>\n",
       "</div>"
      ],
      "text/plain": [
       "          id        f0        f1        f2    product\n",
       "21426  Tdehs  0.829407  0.298807 -0.049563  96.035308\n",
       "75715  Tdehs  0.112079  0.430296  3.218993  60.964018"
      ]
     },
     "metadata": {},
     "output_type": "display_data"
    },
    {
     "data": {
      "text/html": [
       "<div>\n",
       "<style scoped>\n",
       "    .dataframe tbody tr th:only-of-type {\n",
       "        vertical-align: middle;\n",
       "    }\n",
       "\n",
       "    .dataframe tbody tr th {\n",
       "        vertical-align: top;\n",
       "    }\n",
       "\n",
       "    .dataframe thead th {\n",
       "        text-align: right;\n",
       "    }\n",
       "</style>\n",
       "<table border=\"1\" class=\"dataframe\">\n",
       "  <thead>\n",
       "    <tr style=\"text-align: right;\">\n",
       "      <th></th>\n",
       "      <th>id</th>\n",
       "      <th>f0</th>\n",
       "      <th>f1</th>\n",
       "      <th>f2</th>\n",
       "      <th>product</th>\n",
       "    </tr>\n",
       "  </thead>\n",
       "  <tbody>\n",
       "    <tr>\n",
       "      <th>16633</th>\n",
       "      <td>fiKDv</td>\n",
       "      <td>0.157341</td>\n",
       "      <td>1.028359</td>\n",
       "      <td>5.585586</td>\n",
       "      <td>95.817889</td>\n",
       "    </tr>\n",
       "    <tr>\n",
       "      <th>90815</th>\n",
       "      <td>fiKDv</td>\n",
       "      <td>0.049883</td>\n",
       "      <td>0.841313</td>\n",
       "      <td>6.394613</td>\n",
       "      <td>137.346586</td>\n",
       "    </tr>\n",
       "  </tbody>\n",
       "</table>\n",
       "</div>"
      ],
      "text/plain": [
       "          id        f0        f1        f2     product\n",
       "16633  fiKDv  0.157341  1.028359  5.585586   95.817889\n",
       "90815  fiKDv  0.049883  0.841313  6.394613  137.346586"
      ]
     },
     "metadata": {},
     "output_type": "display_data"
    },
    {
     "data": {
      "text/html": [
       "<div>\n",
       "<style scoped>\n",
       "    .dataframe tbody tr th:only-of-type {\n",
       "        vertical-align: middle;\n",
       "    }\n",
       "\n",
       "    .dataframe tbody tr th {\n",
       "        vertical-align: top;\n",
       "    }\n",
       "\n",
       "    .dataframe thead th {\n",
       "        text-align: right;\n",
       "    }\n",
       "</style>\n",
       "<table border=\"1\" class=\"dataframe\">\n",
       "  <thead>\n",
       "    <tr style=\"text-align: right;\">\n",
       "      <th></th>\n",
       "      <th>id</th>\n",
       "      <th>f0</th>\n",
       "      <th>f1</th>\n",
       "      <th>f2</th>\n",
       "      <th>product</th>\n",
       "    </tr>\n",
       "  </thead>\n",
       "  <tbody>\n",
       "    <tr>\n",
       "      <th>60140</th>\n",
       "      <td>TtcGQ</td>\n",
       "      <td>0.569276</td>\n",
       "      <td>-0.104876</td>\n",
       "      <td>6.440215</td>\n",
       "      <td>85.350186</td>\n",
       "    </tr>\n",
       "    <tr>\n",
       "      <th>92341</th>\n",
       "      <td>TtcGQ</td>\n",
       "      <td>0.110711</td>\n",
       "      <td>1.022689</td>\n",
       "      <td>0.911381</td>\n",
       "      <td>101.318008</td>\n",
       "    </tr>\n",
       "  </tbody>\n",
       "</table>\n",
       "</div>"
      ],
      "text/plain": [
       "          id        f0        f1        f2     product\n",
       "60140  TtcGQ  0.569276 -0.104876  6.440215   85.350186\n",
       "92341  TtcGQ  0.110711  1.022689  0.911381  101.318008"
      ]
     },
     "metadata": {},
     "output_type": "display_data"
    },
    {
     "data": {
      "text/html": [
       "<div>\n",
       "<style scoped>\n",
       "    .dataframe tbody tr th:only-of-type {\n",
       "        vertical-align: middle;\n",
       "    }\n",
       "\n",
       "    .dataframe tbody tr th {\n",
       "        vertical-align: top;\n",
       "    }\n",
       "\n",
       "    .dataframe thead th {\n",
       "        text-align: right;\n",
       "    }\n",
       "</style>\n",
       "<table border=\"1\" class=\"dataframe\">\n",
       "  <thead>\n",
       "    <tr style=\"text-align: right;\">\n",
       "      <th></th>\n",
       "      <th>id</th>\n",
       "      <th>f0</th>\n",
       "      <th>f1</th>\n",
       "      <th>f2</th>\n",
       "      <th>product</th>\n",
       "    </tr>\n",
       "  </thead>\n",
       "  <tbody>\n",
       "    <tr>\n",
       "      <th>89582</th>\n",
       "      <td>bsk9y</td>\n",
       "      <td>0.398908</td>\n",
       "      <td>-0.400253</td>\n",
       "      <td>10.122376</td>\n",
       "      <td>163.433078</td>\n",
       "    </tr>\n",
       "    <tr>\n",
       "      <th>97785</th>\n",
       "      <td>bsk9y</td>\n",
       "      <td>0.378429</td>\n",
       "      <td>0.005837</td>\n",
       "      <td>0.160827</td>\n",
       "      <td>160.637302</td>\n",
       "    </tr>\n",
       "  </tbody>\n",
       "</table>\n",
       "</div>"
      ],
      "text/plain": [
       "          id        f0        f1         f2     product\n",
       "89582  bsk9y  0.398908 -0.400253  10.122376  163.433078\n",
       "97785  bsk9y  0.378429  0.005837   0.160827  160.637302"
      ]
     },
     "metadata": {},
     "output_type": "display_data"
    }
   ],
   "source": [
    "dup(data_0)"
   ]
  },
  {
   "cell_type": "code",
   "execution_count": 10,
   "metadata": {
    "scrolled": true
   },
   "outputs": [
    {
     "data": {
      "text/html": [
       "<div>\n",
       "<style scoped>\n",
       "    .dataframe tbody tr th:only-of-type {\n",
       "        vertical-align: middle;\n",
       "    }\n",
       "\n",
       "    .dataframe tbody tr th {\n",
       "        vertical-align: top;\n",
       "    }\n",
       "\n",
       "    .dataframe thead th {\n",
       "        text-align: right;\n",
       "    }\n",
       "</style>\n",
       "<table border=\"1\" class=\"dataframe\">\n",
       "  <thead>\n",
       "    <tr style=\"text-align: right;\">\n",
       "      <th></th>\n",
       "      <th>id</th>\n",
       "      <th>f0</th>\n",
       "      <th>f1</th>\n",
       "      <th>f2</th>\n",
       "      <th>product</th>\n",
       "    </tr>\n",
       "  </thead>\n",
       "  <tbody>\n",
       "    <tr>\n",
       "      <th>1305</th>\n",
       "      <td>LHZR0</td>\n",
       "      <td>11.170835</td>\n",
       "      <td>-1.945066</td>\n",
       "      <td>3.002872</td>\n",
       "      <td>80.859783</td>\n",
       "    </tr>\n",
       "    <tr>\n",
       "      <th>41906</th>\n",
       "      <td>LHZR0</td>\n",
       "      <td>-8.989672</td>\n",
       "      <td>-4.286607</td>\n",
       "      <td>2.009139</td>\n",
       "      <td>57.085625</td>\n",
       "    </tr>\n",
       "  </tbody>\n",
       "</table>\n",
       "</div>"
      ],
      "text/plain": [
       "          id         f0        f1        f2    product\n",
       "1305   LHZR0  11.170835 -1.945066  3.002872  80.859783\n",
       "41906  LHZR0  -8.989672 -4.286607  2.009139  57.085625"
      ]
     },
     "metadata": {},
     "output_type": "display_data"
    },
    {
     "data": {
      "text/html": [
       "<div>\n",
       "<style scoped>\n",
       "    .dataframe tbody tr th:only-of-type {\n",
       "        vertical-align: middle;\n",
       "    }\n",
       "\n",
       "    .dataframe tbody tr th {\n",
       "        vertical-align: top;\n",
       "    }\n",
       "\n",
       "    .dataframe thead th {\n",
       "        text-align: right;\n",
       "    }\n",
       "</style>\n",
       "<table border=\"1\" class=\"dataframe\">\n",
       "  <thead>\n",
       "    <tr style=\"text-align: right;\">\n",
       "      <th></th>\n",
       "      <th>id</th>\n",
       "      <th>f0</th>\n",
       "      <th>f1</th>\n",
       "      <th>f2</th>\n",
       "      <th>product</th>\n",
       "    </tr>\n",
       "  </thead>\n",
       "  <tbody>\n",
       "    <tr>\n",
       "      <th>2721</th>\n",
       "      <td>bfPNe</td>\n",
       "      <td>-9.494442</td>\n",
       "      <td>-5.463692</td>\n",
       "      <td>4.006042</td>\n",
       "      <td>110.992147</td>\n",
       "    </tr>\n",
       "    <tr>\n",
       "      <th>82178</th>\n",
       "      <td>bfPNe</td>\n",
       "      <td>-6.202799</td>\n",
       "      <td>-4.820045</td>\n",
       "      <td>2.995107</td>\n",
       "      <td>84.038886</td>\n",
       "    </tr>\n",
       "  </tbody>\n",
       "</table>\n",
       "</div>"
      ],
      "text/plain": [
       "          id        f0        f1        f2     product\n",
       "2721   bfPNe -9.494442 -5.463692  4.006042  110.992147\n",
       "82178  bfPNe -6.202799 -4.820045  2.995107   84.038886"
      ]
     },
     "metadata": {},
     "output_type": "display_data"
    },
    {
     "data": {
      "text/html": [
       "<div>\n",
       "<style scoped>\n",
       "    .dataframe tbody tr th:only-of-type {\n",
       "        vertical-align: middle;\n",
       "    }\n",
       "\n",
       "    .dataframe tbody tr th {\n",
       "        vertical-align: top;\n",
       "    }\n",
       "\n",
       "    .dataframe thead th {\n",
       "        text-align: right;\n",
       "    }\n",
       "</style>\n",
       "<table border=\"1\" class=\"dataframe\">\n",
       "  <thead>\n",
       "    <tr style=\"text-align: right;\">\n",
       "      <th></th>\n",
       "      <th>id</th>\n",
       "      <th>f0</th>\n",
       "      <th>f1</th>\n",
       "      <th>f2</th>\n",
       "      <th>product</th>\n",
       "    </tr>\n",
       "  </thead>\n",
       "  <tbody>\n",
       "    <tr>\n",
       "      <th>47591</th>\n",
       "      <td>wt4Uk</td>\n",
       "      <td>-9.091098</td>\n",
       "      <td>-8.109279</td>\n",
       "      <td>-0.002314</td>\n",
       "      <td>3.179103</td>\n",
       "    </tr>\n",
       "    <tr>\n",
       "      <th>82873</th>\n",
       "      <td>wt4Uk</td>\n",
       "      <td>10.259972</td>\n",
       "      <td>-9.376355</td>\n",
       "      <td>4.994297</td>\n",
       "      <td>134.766305</td>\n",
       "    </tr>\n",
       "  </tbody>\n",
       "</table>\n",
       "</div>"
      ],
      "text/plain": [
       "          id         f0        f1        f2     product\n",
       "47591  wt4Uk  -9.091098 -8.109279 -0.002314    3.179103\n",
       "82873  wt4Uk  10.259972 -9.376355  4.994297  134.766305"
      ]
     },
     "metadata": {},
     "output_type": "display_data"
    },
    {
     "data": {
      "text/html": [
       "<div>\n",
       "<style scoped>\n",
       "    .dataframe tbody tr th:only-of-type {\n",
       "        vertical-align: middle;\n",
       "    }\n",
       "\n",
       "    .dataframe tbody tr th {\n",
       "        vertical-align: top;\n",
       "    }\n",
       "\n",
       "    .dataframe thead th {\n",
       "        text-align: right;\n",
       "    }\n",
       "</style>\n",
       "<table border=\"1\" class=\"dataframe\">\n",
       "  <thead>\n",
       "    <tr style=\"text-align: right;\">\n",
       "      <th></th>\n",
       "      <th>id</th>\n",
       "      <th>f0</th>\n",
       "      <th>f1</th>\n",
       "      <th>f2</th>\n",
       "      <th>product</th>\n",
       "    </tr>\n",
       "  </thead>\n",
       "  <tbody>\n",
       "    <tr>\n",
       "      <th>5849</th>\n",
       "      <td>5ltQ6</td>\n",
       "      <td>-3.435401</td>\n",
       "      <td>-12.296043</td>\n",
       "      <td>1.999796</td>\n",
       "      <td>57.085625</td>\n",
       "    </tr>\n",
       "    <tr>\n",
       "      <th>84461</th>\n",
       "      <td>5ltQ6</td>\n",
       "      <td>18.213839</td>\n",
       "      <td>2.191999</td>\n",
       "      <td>3.993869</td>\n",
       "      <td>107.813044</td>\n",
       "    </tr>\n",
       "  </tbody>\n",
       "</table>\n",
       "</div>"
      ],
      "text/plain": [
       "          id         f0         f1        f2     product\n",
       "5849   5ltQ6  -3.435401 -12.296043  1.999796   57.085625\n",
       "84461  5ltQ6  18.213839   2.191999  3.993869  107.813044"
      ]
     },
     "metadata": {},
     "output_type": "display_data"
    }
   ],
   "source": [
    "dup(data_1)"
   ]
  },
  {
   "cell_type": "code",
   "execution_count": 11,
   "metadata": {
    "scrolled": true
   },
   "outputs": [
    {
     "data": {
      "text/html": [
       "<div>\n",
       "<style scoped>\n",
       "    .dataframe tbody tr th:only-of-type {\n",
       "        vertical-align: middle;\n",
       "    }\n",
       "\n",
       "    .dataframe tbody tr th {\n",
       "        vertical-align: top;\n",
       "    }\n",
       "\n",
       "    .dataframe thead th {\n",
       "        text-align: right;\n",
       "    }\n",
       "</style>\n",
       "<table border=\"1\" class=\"dataframe\">\n",
       "  <thead>\n",
       "    <tr style=\"text-align: right;\">\n",
       "      <th></th>\n",
       "      <th>id</th>\n",
       "      <th>f0</th>\n",
       "      <th>f1</th>\n",
       "      <th>f2</th>\n",
       "      <th>product</th>\n",
       "    </tr>\n",
       "  </thead>\n",
       "  <tbody>\n",
       "    <tr>\n",
       "      <th>28039</th>\n",
       "      <td>xCHr8</td>\n",
       "      <td>1.633027</td>\n",
       "      <td>0.368135</td>\n",
       "      <td>-2.378367</td>\n",
       "      <td>6.120525</td>\n",
       "    </tr>\n",
       "    <tr>\n",
       "      <th>43233</th>\n",
       "      <td>xCHr8</td>\n",
       "      <td>-0.847066</td>\n",
       "      <td>2.101796</td>\n",
       "      <td>5.597130</td>\n",
       "      <td>184.388641</td>\n",
       "    </tr>\n",
       "  </tbody>\n",
       "</table>\n",
       "</div>"
      ],
      "text/plain": [
       "          id        f0        f1        f2     product\n",
       "28039  xCHr8  1.633027  0.368135 -2.378367    6.120525\n",
       "43233  xCHr8 -0.847066  2.101796  5.597130  184.388641"
      ]
     },
     "metadata": {},
     "output_type": "display_data"
    },
    {
     "data": {
      "text/html": [
       "<div>\n",
       "<style scoped>\n",
       "    .dataframe tbody tr th:only-of-type {\n",
       "        vertical-align: middle;\n",
       "    }\n",
       "\n",
       "    .dataframe tbody tr th {\n",
       "        vertical-align: top;\n",
       "    }\n",
       "\n",
       "    .dataframe thead th {\n",
       "        text-align: right;\n",
       "    }\n",
       "</style>\n",
       "<table border=\"1\" class=\"dataframe\">\n",
       "  <thead>\n",
       "    <tr style=\"text-align: right;\">\n",
       "      <th></th>\n",
       "      <th>id</th>\n",
       "      <th>f0</th>\n",
       "      <th>f1</th>\n",
       "      <th>f2</th>\n",
       "      <th>product</th>\n",
       "    </tr>\n",
       "  </thead>\n",
       "  <tbody>\n",
       "    <tr>\n",
       "      <th>11449</th>\n",
       "      <td>VF7Jo</td>\n",
       "      <td>2.122656</td>\n",
       "      <td>-0.858275</td>\n",
       "      <td>5.746001</td>\n",
       "      <td>181.716817</td>\n",
       "    </tr>\n",
       "    <tr>\n",
       "      <th>49564</th>\n",
       "      <td>VF7Jo</td>\n",
       "      <td>-0.883115</td>\n",
       "      <td>0.560537</td>\n",
       "      <td>0.723601</td>\n",
       "      <td>136.233420</td>\n",
       "    </tr>\n",
       "  </tbody>\n",
       "</table>\n",
       "</div>"
      ],
      "text/plain": [
       "          id        f0        f1        f2     product\n",
       "11449  VF7Jo  2.122656 -0.858275  5.746001  181.716817\n",
       "49564  VF7Jo -0.883115  0.560537  0.723601  136.233420"
      ]
     },
     "metadata": {},
     "output_type": "display_data"
    },
    {
     "data": {
      "text/html": [
       "<div>\n",
       "<style scoped>\n",
       "    .dataframe tbody tr th:only-of-type {\n",
       "        vertical-align: middle;\n",
       "    }\n",
       "\n",
       "    .dataframe tbody tr th {\n",
       "        vertical-align: top;\n",
       "    }\n",
       "\n",
       "    .dataframe thead th {\n",
       "        text-align: right;\n",
       "    }\n",
       "</style>\n",
       "<table border=\"1\" class=\"dataframe\">\n",
       "  <thead>\n",
       "    <tr style=\"text-align: right;\">\n",
       "      <th></th>\n",
       "      <th>id</th>\n",
       "      <th>f0</th>\n",
       "      <th>f1</th>\n",
       "      <th>f2</th>\n",
       "      <th>product</th>\n",
       "    </tr>\n",
       "  </thead>\n",
       "  <tbody>\n",
       "    <tr>\n",
       "      <th>45404</th>\n",
       "      <td>KUPhW</td>\n",
       "      <td>0.231846</td>\n",
       "      <td>-1.698941</td>\n",
       "      <td>4.990775</td>\n",
       "      <td>11.716299</td>\n",
       "    </tr>\n",
       "    <tr>\n",
       "      <th>55967</th>\n",
       "      <td>KUPhW</td>\n",
       "      <td>1.211150</td>\n",
       "      <td>3.176408</td>\n",
       "      <td>5.543540</td>\n",
       "      <td>132.831802</td>\n",
       "    </tr>\n",
       "  </tbody>\n",
       "</table>\n",
       "</div>"
      ],
      "text/plain": [
       "          id        f0        f1        f2     product\n",
       "45404  KUPhW  0.231846 -1.698941  4.990775   11.716299\n",
       "55967  KUPhW  1.211150  3.176408  5.543540  132.831802"
      ]
     },
     "metadata": {},
     "output_type": "display_data"
    },
    {
     "data": {
      "text/html": [
       "<div>\n",
       "<style scoped>\n",
       "    .dataframe tbody tr th:only-of-type {\n",
       "        vertical-align: middle;\n",
       "    }\n",
       "\n",
       "    .dataframe tbody tr th {\n",
       "        vertical-align: top;\n",
       "    }\n",
       "\n",
       "    .dataframe thead th {\n",
       "        text-align: right;\n",
       "    }\n",
       "</style>\n",
       "<table border=\"1\" class=\"dataframe\">\n",
       "  <thead>\n",
       "    <tr style=\"text-align: right;\">\n",
       "      <th></th>\n",
       "      <th>id</th>\n",
       "      <th>f0</th>\n",
       "      <th>f1</th>\n",
       "      <th>f2</th>\n",
       "      <th>product</th>\n",
       "    </tr>\n",
       "  </thead>\n",
       "  <tbody>\n",
       "    <tr>\n",
       "      <th>44378</th>\n",
       "      <td>Vcm5J</td>\n",
       "      <td>-1.229484</td>\n",
       "      <td>-2.439204</td>\n",
       "      <td>1.222909</td>\n",
       "      <td>137.968290</td>\n",
       "    </tr>\n",
       "    <tr>\n",
       "      <th>95090</th>\n",
       "      <td>Vcm5J</td>\n",
       "      <td>2.587702</td>\n",
       "      <td>1.986875</td>\n",
       "      <td>2.482245</td>\n",
       "      <td>92.327572</td>\n",
       "    </tr>\n",
       "  </tbody>\n",
       "</table>\n",
       "</div>"
      ],
      "text/plain": [
       "          id        f0        f1        f2     product\n",
       "44378  Vcm5J -1.229484 -2.439204  1.222909  137.968290\n",
       "95090  Vcm5J  2.587702  1.986875  2.482245   92.327572"
      ]
     },
     "metadata": {},
     "output_type": "display_data"
    }
   ],
   "source": [
    "dup(data_2)"
   ]
  },
  {
   "cell_type": "markdown",
   "metadata": {},
   "source": [
    "Наше предположение касательно того, что дубликаты представляют из себя близкие данные с небольшой разницей между собой неверно. Переименуем дубликаты, что бы избавиться от дублирования id скважин:"
   ]
  },
  {
   "cell_type": "code",
   "execution_count": 12,
   "metadata": {
    "scrolled": true
   },
   "outputs": [
    {
     "name": "stdout",
     "output_type": "stream",
     "text": [
      "0\n",
      "0\n",
      "0\n"
     ]
    }
   ],
   "source": [
    "for df in [data_0, data_1, data_2]:\n",
    "    df.loc[df['id'].duplicated() == True, 'id'] = df[df['id'].duplicated() == True]['id'].transform(lambda x: x + '_duplicated')\n",
    "    print(df['id'].duplicated().sum())"
   ]
  },
  {
   "cell_type": "markdown",
   "metadata": {},
   "source": [
    "От дубликатов в столбце с уникальным (на деле оказалось, что не таким уж и уникальным) именем каждой скважины разобрались. Теперь можно приступать к обучению модели."
   ]
  },
  {
   "cell_type": "markdown",
   "metadata": {},
   "source": [
    "## Обучение и проверка модели"
   ]
  },
  {
   "cell_type": "markdown",
   "metadata": {},
   "source": [
    "### Разделение данных на валидационную и обучающие выборки"
   ]
  },
  {
   "cell_type": "markdown",
   "metadata": {},
   "source": [
    "Разделим имеющиеся данные на валидационные и обучающие выборки для каждого набора данных по регионам:"
   ]
  },
  {
   "cell_type": "code",
   "execution_count": 13,
   "metadata": {},
   "outputs": [],
   "source": [
    "def split_data(df):\n",
    "    target = df['product']\n",
    "    features = df[['f0', 'f1', 'f2']]\n",
    "    features_train, features_valid, target_train, target_valid = train_test_split(\n",
    "        features, target, test_size=0.25, random_state=17)\n",
    "    \n",
    "    \n",
    "    globals().update({f'features_train_{df.name[-1]}': features_train,\n",
    "                    f'features_valid_{df.name[-1]}': features_valid,\n",
    "                    f'target_train_{df.name[-1]}': target_train,\n",
    "                    f'target_valid_{df.name[-1]}': target_valid})"
   ]
  },
  {
   "cell_type": "code",
   "execution_count": 14,
   "metadata": {},
   "outputs": [
    {
     "name": "stdout",
     "output_type": "stream",
     "text": [
      "(75000, 3)\n",
      "(25000, 3)\n",
      "(75000,)\n",
      "(25000,)\n",
      "(75000, 3)\n",
      "(25000, 3)\n",
      "(75000,)\n",
      "(25000,)\n",
      "(75000, 3)\n",
      "(25000, 3)\n",
      "(75000,)\n",
      "(25000,)\n"
     ]
    }
   ],
   "source": [
    "for i in [data_0, data_1, data_2]:\n",
    "    split_data(i)\n",
    "\n",
    "for i in range(3):\n",
    "    print(locals().get(f'features_train_{i}').shape)\n",
    "    print(locals().get(f'features_valid_{i}').shape)\n",
    "    print(locals().get(f'target_train_{i}').shape)\n",
    "    print(locals().get(f'target_valid_{i}').shape)"
   ]
  },
  {
   "cell_type": "markdown",
   "metadata": {},
   "source": [
    "Данные разделены на выборки, размер выборок проверен. Теперь можно приступать к обучению моделей."
   ]
  },
  {
   "cell_type": "markdown",
   "metadata": {},
   "source": [
    "### Обучение моделей"
   ]
  },
  {
   "cell_type": "markdown",
   "metadata": {},
   "source": [
    "Мы знаем, что для предсказания нам необходимо использовать модель линейной регрессии, остальные модели по условию задания мы не применяем. Обучим по модели для каждого из регионов:"
   ]
  },
  {
   "cell_type": "code",
   "execution_count": 15,
   "metadata": {},
   "outputs": [],
   "source": [
    "for i in range(3):\n",
    "    locals().update({f'model_{i}': LinearRegression()})\n",
    "    locals().get(f'model_{i}').fit(locals().get(f'features_train_{i}'), locals().get(f'target_train_{i}'))\n",
    "    locals().update({f'prediction_{i}': locals().get(f'model_{i}').predict(locals().get(f'features_valid_{i}'))})"
   ]
  },
  {
   "cell_type": "markdown",
   "metadata": {},
   "source": [
    "### Расчет предсказанного значения среднего запаса сырья и RMSE модели."
   ]
  },
  {
   "cell_type": "code",
   "execution_count": 16,
   "metadata": {},
   "outputs": [
    {
     "name": "stdout",
     "output_type": "stream",
     "text": [
      "Среднее предсказанное моделью значение для региона 1: 92.39\n",
      "RMSE для региона 1: 37.79\n",
      "Среднее предсказанное моделью значение для региона 2: 68.82\n",
      "RMSE для региона 2: 0.89\n",
      "Среднее предсказанное моделью значение для региона 3: 95.09\n",
      "RMSE для региона 3: 40.14\n"
     ]
    }
   ],
   "source": [
    "for i in range(3):\n",
    "    locals().update({f'mean_predict_{i}': locals().get(f\"prediction_{i}\").mean()})\n",
    "    print(f'Среднее предсказанное моделью значение для региона {i+1}: {locals().get(f\"mean_predict_{i}\"):.2f}')\n",
    "    locals().update({f'rmse_{i}': mean_squared_error(locals().get(f\"target_valid_{i}\"), locals().get(f\"prediction_{i}\"))**0.5})\n",
    "    print(f'RMSE для региона {i+1}: {locals().get(f\"rmse_{i}\"):.2f}')"
   ]
  },
  {
   "cell_type": "markdown",
   "metadata": {},
   "source": [
    "### Выводы раздела"
   ]
  },
  {
   "cell_type": "markdown",
   "metadata": {},
   "source": [
    "Среднее предсказанное значение находится близко к среднему значению каждого региона, которое мы видили при изучении данных в самом начале. Для второго региона ошибка получилась достаточно маленькая, в то время как для регионов 1 и 3 она значительно выше."
   ]
  },
  {
   "cell_type": "markdown",
   "metadata": {},
   "source": [
    "## Подготовка к расчёту прибыли"
   ]
  },
  {
   "cell_type": "markdown",
   "metadata": {},
   "source": [
    "### Рассчет достаточного объём сырья для безубыточной разработки новой скважины"
   ]
  },
  {
   "cell_type": "markdown",
   "metadata": {},
   "source": [
    "Мы знаем, что на разработку скважин в регионе выделяется 10 млрд. рублей. В регионе производится разработка 200 скважин. Исходя из этих данных посчитаем, сколько необходимо добыть сырья из скважины, для того, что бы её разработка окупилась:"
   ]
  },
  {
   "cell_type": "code",
   "execution_count": 17,
   "metadata": {},
   "outputs": [],
   "source": [
    "BUDGET = 10000000000\n",
    "WELL_NUM = 200\n",
    "BAR_COST = 450\n",
    "RESEARCH_NUM = 500"
   ]
  },
  {
   "cell_type": "code",
   "execution_count": 18,
   "metadata": {},
   "outputs": [
    {
     "data": {
      "text/plain": [
       "50000000.0"
      ]
     },
     "execution_count": 18,
     "metadata": {},
     "output_type": "execute_result"
    }
   ],
   "source": [
    "min_profit = BUDGET / WELL_NUM\n",
    "min_profit"
   ]
  },
  {
   "cell_type": "markdown",
   "metadata": {},
   "source": [
    "50 млн. рублей требуется для разработки одной скважины. Зная цену сырья 450 руб/баррель посчитаем какой необходим минимальный ресурс скважины:"
   ]
  },
  {
   "cell_type": "code",
   "execution_count": 19,
   "metadata": {},
   "outputs": [
    {
     "data": {
      "text/plain": [
       "111.11111111111111"
      ]
     },
     "execution_count": 19,
     "metadata": {},
     "output_type": "execute_result"
    }
   ],
   "source": [
    "min_resource =  min_profit / (BAR_COST*1000)\n",
    "min_resource"
   ]
  },
  {
   "cell_type": "markdown",
   "metadata": {},
   "source": [
    "Итак, требуется минимум 112 тыс. баррелей ресурса скважины, что бы окупить её разработку. Это значение заметно выше средних значений ресурса скважин во всех регионах."
   ]
  },
  {
   "cell_type": "markdown",
   "metadata": {},
   "source": [
    "### Выводы"
   ]
  },
  {
   "cell_type": "markdown",
   "metadata": {},
   "source": [
    "Среднее значение ресурса в скважинах заметно меньше требуемого для окупаемости разработки. В то же время можно смело заявлять, что в каждом регионе есть скважины, обладающие таким или даже большим ресурсом. Предварительно можно утверждать, что наибольшее количество подходящих скважин находится в 1ом регионе, но это мы проверим в следующем разделе."
   ]
  },
  {
   "cell_type": "markdown",
   "metadata": {},
   "source": [
    "## Расчёт прибыли и рисков "
   ]
  },
  {
   "cell_type": "markdown",
   "metadata": {},
   "source": [
    "Для начала напишем функцию, которая проведет выбор 200 лучших вариантов скважин из выборки, состоящей из 500 скважин, затем рассчитает ресурс выбранных скважин и потенциальную прибыль (убыток) полученную с их разработки."
   ]
  },
  {
   "cell_type": "code",
   "execution_count": 20,
   "metadata": {},
   "outputs": [],
   "source": [
    "def profit_counter(sample, true_sample):\n",
    "    s = sample.sort_values(ascending=False)\n",
    "    i = s.head(WELL_NUM).index\n",
    "    true_sample = pd.Series(true_sample)\n",
    "    return ((true_sample.loc[i,].sum() * BAR_COST * 1000) - BUDGET)"
   ]
  },
  {
   "cell_type": "markdown",
   "metadata": {},
   "source": [
    "Теперь используя данную функцию применим технику Bootstrap и проведем расчет прибыли для тысячи выборок по 500 потенциальным скважинам:"
   ]
  },
  {
   "cell_type": "code",
   "execution_count": 21,
   "metadata": {},
   "outputs": [
    {
     "data": {
      "application/vnd.jupyter.widget-view+json": {
       "model_id": "131e0bb550a34ea4967ba429b8f7f1a8",
       "version_major": 2,
       "version_minor": 0
      },
      "text/plain": [
       "0it [00:00, ?it/s]"
      ]
     },
     "metadata": {},
     "output_type": "display_data"
    }
   ],
   "source": [
    "state = np.random.RandomState(17)\n",
    "\n",
    "pbar = tqdm()\n",
    "pbar.reset(total=1000)\n",
    "\n",
    "values_0 = []\n",
    "values_1 = []\n",
    "values_2 = []\n",
    "\n",
    "prediction_0_series = pd.Series(prediction_0, index=target_valid_0.index)\n",
    "prediction_1_series = pd.Series(prediction_1, index=target_valid_1.index)\n",
    "prediction_2_series = pd.Series(prediction_2, index=target_valid_2.index)\n",
    "\n",
    "for i in range(1000):\n",
    "    sub_prediction_0 = prediction_0_series.sample(n=RESEARCH_NUM, replace=True, random_state=state)\n",
    "    sub_prediction_1 = prediction_1_series.sample(n=RESEARCH_NUM, replace=True, random_state=state)\n",
    "    sub_prediction_2 = prediction_2_series.sample(n=RESEARCH_NUM, replace=True, random_state=state)\n",
    "    values_0.append(profit_counter(sub_prediction_0, target_valid_0))\n",
    "    values_1.append(profit_counter(sub_prediction_1, target_valid_1))\n",
    "    values_2.append(profit_counter(sub_prediction_2, target_valid_2))\n",
    "    pbar.update()\n",
    "    \n",
    "values_0_series = pd.Series(values_0)\n",
    "values_1_series = pd.Series(values_1)\n",
    "values_2_series = pd.Series(values_2)\n",
    "\n",
    "mean_0 = values_0_series.mean()\n",
    "mean_1 = values_1_series.mean()\n",
    "mean_2 = values_2_series.mean()\n",
    "\n",
    "quantiles_0 = values_0_series.quantile([0.025, 0.975])\n",
    "quantiles_1 = values_1_series.quantile([0.025, 0.975])\n",
    "quantiles_2 = values_2_series.quantile([0.025, 0.975])"
   ]
  },
  {
   "cell_type": "code",
   "execution_count": 22,
   "metadata": {},
   "outputs": [
    {
     "name": "stdout",
     "output_type": "stream",
     "text": [
      "Риск убытков для 1ого региона: 5.10%\n",
      "Риск убытков для 2ого региона: 1.40%\n",
      "Риск убытков для 3его региона: 9.40%\n"
     ]
    }
   ],
   "source": [
    "print(f'Риск убытков для 1ого региона: {(values_0_series[values_0_series <= 0].shape[0] / values_0_series.shape[0])*100:.2f}%')\n",
    "print(f'Риск убытков для 2ого региона: {(values_1_series[values_1_series <= 0].shape[0] / values_1_series.shape[0])*100:.2f}%')\n",
    "print(f'Риск убытков для 3его региона: {(values_2_series[values_2_series <= 0].shape[0] / values_2_series.shape[0])*100:.2f}%')"
   ]
  },
  {
   "cell_type": "markdown",
   "metadata": {},
   "source": [
    "Изучим на графиках полученные результаты:"
   ]
  },
  {
   "cell_type": "code",
   "execution_count": 23,
   "metadata": {
    "scrolled": false
   },
   "outputs": [
    {
     "data": {
      "image/png": "[encoded data removed]",
      "text/plain": [
       "<Figure size 432x288 with 1 Axes>"
      ]
     },
     "metadata": {
      "needs_background": "light"
     },
     "output_type": "display_data"
    }
   ],
   "source": [
    "for_plot = pd.DataFrame({'1ый': values_0_series, '2ой': values_1_series, '3ий':values_2_series})\n",
    "for_plot\n",
    "ax = sns.boxplot(data = for_plot, showfliers=False)\n",
    "sns.set_style(\"whitegrid\")\n",
    "ax.set_title(f'Полученные значения прибыли после Bootstrap \\n')\n",
    "ax.set_xlabel(xlabel='Регион')\n",
    "ax.set_ylabel(ylabel='Прибыль, $10^9$ руб')\n",
    "plt.show()"
   ]
  },
  {
   "cell_type": "code",
   "execution_count": 24,
   "metadata": {},
   "outputs": [
    {
     "data": {
      "image/png": "[encoded data removed]",
      "text/plain": [
       "<Figure size 432x288 with 1 Axes>"
      ]
     },
     "metadata": {},
     "output_type": "display_data"
    },
    {
     "data": {
      "image/png": "[encoded data removed]",
      "text/plain": [
       "<Figure size 432x288 with 1 Axes>"
      ]
     },
     "metadata": {},
     "output_type": "display_data"
    },
    {
     "data": {
      "image/png": "[encoded data removed]",
      "text/plain": [
       "<Figure size 432x288 with 1 Axes>"
      ]
     },
     "metadata": {},
     "output_type": "display_data"
    }
   ],
   "source": [
    "results = pd.DataFrame([quantiles_0, quantiles_1, quantiles_2])\n",
    "results['mean'] = [mean_0, mean_1, mean_2]\n",
    "results.columns = ['Начало доверительного интервала', 'Конец доверительного интервала', 'Среднее значение']\n",
    "\n",
    "for i in ['Начало доверительного интервала', 'Конец доверительного интервала', 'Среднее значение']:\n",
    "    ax = sns.barplot(data = results.reset_index(),\n",
    "                     x='index', \n",
    "                     y=i,\n",
    "                     )\n",
    "    \n",
    "    \n",
    "    new_labels = ['1ый регион', '2ой регион', '3ий регион']\n",
    "\n",
    "    ax.xaxis.set_ticklabels(new_labels)\n",
    "    \n",
    "    sns.set_style(\"whitegrid\")\n",
    "\n",
    "    ax.set_title(f'{i}\\n')\n",
    "    ax.set_xlabel(xlabel='Регион')\n",
    "    ax.set_ylabel(ylabel='Прибыль, руб')\n",
    "    plt.show()"
   ]
  },
  {
   "cell_type": "code",
   "execution_count": 25,
   "metadata": {
    "scrolled": false
   },
   "outputs": [
    {
     "data": {
      "text/html": [
       "<div>\n",
       "<style scoped>\n",
       "    .dataframe tbody tr th:only-of-type {\n",
       "        vertical-align: middle;\n",
       "    }\n",
       "\n",
       "    .dataframe tbody tr th {\n",
       "        vertical-align: top;\n",
       "    }\n",
       "\n",
       "    .dataframe thead th {\n",
       "        text-align: right;\n",
       "    }\n",
       "</style>\n",
       "<table border=\"1\" class=\"dataframe\">\n",
       "  <thead>\n",
       "    <tr style=\"text-align: right;\">\n",
       "      <th></th>\n",
       "      <th>1ый</th>\n",
       "      <th>2ой</th>\n",
       "      <th>3ий</th>\n",
       "    </tr>\n",
       "  </thead>\n",
       "  <tbody>\n",
       "    <tr>\n",
       "      <th>0</th>\n",
       "      <td>5.872234e+08</td>\n",
       "      <td>5.405703e+08</td>\n",
       "      <td>1.791475e+08</td>\n",
       "    </tr>\n",
       "    <tr>\n",
       "      <th>1</th>\n",
       "      <td>2.812297e+08</td>\n",
       "      <td>6.988689e+08</td>\n",
       "      <td>6.777869e+08</td>\n",
       "    </tr>\n",
       "    <tr>\n",
       "      <th>2</th>\n",
       "      <td>1.196534e+08</td>\n",
       "      <td>2.294468e+08</td>\n",
       "      <td>5.640180e+08</td>\n",
       "    </tr>\n",
       "    <tr>\n",
       "      <th>3</th>\n",
       "      <td>2.595247e+08</td>\n",
       "      <td>2.094184e+08</td>\n",
       "      <td>3.375046e+08</td>\n",
       "    </tr>\n",
       "    <tr>\n",
       "      <th>4</th>\n",
       "      <td>7.216087e+08</td>\n",
       "      <td>1.502664e+08</td>\n",
       "      <td>-2.092664e+08</td>\n",
       "    </tr>\n",
       "    <tr>\n",
       "      <th>...</th>\n",
       "      <td>...</td>\n",
       "      <td>...</td>\n",
       "      <td>...</td>\n",
       "    </tr>\n",
       "    <tr>\n",
       "      <th>995</th>\n",
       "      <td>8.719876e+07</td>\n",
       "      <td>7.730111e+08</td>\n",
       "      <td>7.106375e+08</td>\n",
       "    </tr>\n",
       "    <tr>\n",
       "      <th>996</th>\n",
       "      <td>1.716440e+08</td>\n",
       "      <td>3.771092e+08</td>\n",
       "      <td>6.821807e+08</td>\n",
       "    </tr>\n",
       "    <tr>\n",
       "      <th>997</th>\n",
       "      <td>6.638818e+08</td>\n",
       "      <td>1.837299e+08</td>\n",
       "      <td>3.918588e+08</td>\n",
       "    </tr>\n",
       "    <tr>\n",
       "      <th>998</th>\n",
       "      <td>7.272724e+08</td>\n",
       "      <td>5.155038e+08</td>\n",
       "      <td>2.307903e+08</td>\n",
       "    </tr>\n",
       "    <tr>\n",
       "      <th>999</th>\n",
       "      <td>5.960879e+08</td>\n",
       "      <td>5.804404e+08</td>\n",
       "      <td>4.569761e+08</td>\n",
       "    </tr>\n",
       "  </tbody>\n",
       "</table>\n",
       "<p>1000 rows × 3 columns</p>\n",
       "</div>"
      ],
      "text/plain": [
       "              1ый           2ой           3ий\n",
       "0    5.872234e+08  5.405703e+08  1.791475e+08\n",
       "1    2.812297e+08  6.988689e+08  6.777869e+08\n",
       "2    1.196534e+08  2.294468e+08  5.640180e+08\n",
       "3    2.595247e+08  2.094184e+08  3.375046e+08\n",
       "4    7.216087e+08  1.502664e+08 -2.092664e+08\n",
       "..            ...           ...           ...\n",
       "995  8.719876e+07  7.730111e+08  7.106375e+08\n",
       "996  1.716440e+08  3.771092e+08  6.821807e+08\n",
       "997  6.638818e+08  1.837299e+08  3.918588e+08\n",
       "998  7.272724e+08  5.155038e+08  2.307903e+08\n",
       "999  5.960879e+08  5.804404e+08  4.569761e+08\n",
       "\n",
       "[1000 rows x 3 columns]"
      ]
     },
     "execution_count": 25,
     "metadata": {},
     "output_type": "execute_result"
    }
   ],
   "source": [
    "for_plot"
   ]
  },
  {
   "cell_type": "code",
   "execution_count": 26,
   "metadata": {},
   "outputs": [
    {
     "data": {
      "text/html": [
       "<div>\n",
       "<style scoped>\n",
       "    .dataframe tbody tr th:only-of-type {\n",
       "        vertical-align: middle;\n",
       "    }\n",
       "\n",
       "    .dataframe tbody tr th {\n",
       "        vertical-align: top;\n",
       "    }\n",
       "\n",
       "    .dataframe thead th {\n",
       "        text-align: right;\n",
       "    }\n",
       "</style>\n",
       "<table border=\"1\" class=\"dataframe\">\n",
       "  <thead>\n",
       "    <tr style=\"text-align: right;\">\n",
       "      <th></th>\n",
       "      <th>Начало доверительного интервала</th>\n",
       "      <th>Конец доверительного интервала</th>\n",
       "      <th>Среднее значение</th>\n",
       "    </tr>\n",
       "  </thead>\n",
       "  <tbody>\n",
       "    <tr>\n",
       "      <th>0</th>\n",
       "      <td>-9.407069e+07</td>\n",
       "      <td>9.550835e+08</td>\n",
       "      <td>4.316429e+08</td>\n",
       "    </tr>\n",
       "    <tr>\n",
       "      <th>1</th>\n",
       "      <td>4.025197e+07</td>\n",
       "      <td>8.146865e+08</td>\n",
       "      <td>4.322410e+08</td>\n",
       "    </tr>\n",
       "    <tr>\n",
       "      <th>2</th>\n",
       "      <td>-1.538878e+08</td>\n",
       "      <td>8.566424e+08</td>\n",
       "      <td>3.322105e+08</td>\n",
       "    </tr>\n",
       "  </tbody>\n",
       "</table>\n",
       "</div>"
      ],
      "text/plain": [
       "   Начало доверительного интервала  Конец доверительного интервала  \\\n",
       "0                    -9.407069e+07                    9.550835e+08   \n",
       "1                     4.025197e+07                    8.146865e+08   \n",
       "2                    -1.538878e+08                    8.566424e+08   \n",
       "\n",
       "   Среднее значение  \n",
       "0      4.316429e+08  \n",
       "1      4.322410e+08  \n",
       "2      3.322105e+08  "
      ]
     },
     "execution_count": 26,
     "metadata": {},
     "output_type": "execute_result"
    }
   ],
   "source": [
    "results"
   ]
  },
  {
   "cell_type": "markdown",
   "metadata": {},
   "source": [
    "### Вывод"
   ]
  },
  {
   "cell_type": "markdown",
   "metadata": {},
   "source": [
    "Только регион №2 удовлетворяет требованиям по рискам"
   ]
  },
  {
   "cell_type": "markdown",
   "metadata": {},
   "source": [
    "## Выводы"
   ]
  },
  {
   "cell_type": "markdown",
   "metadata": {},
   "source": [
    "Исходя из полученых результатов можно утверждать, что для разработки скважин нам подходит 2ой регион. Он отвечает требованиям по рискам и имеет наибольшее среднее значение прибыли."
   ]
  }
 ],
 "metadata": {
  "ExecuteTimeLog": [
   {
    "duration": 748,
    "start_time": "2021-11-15T17:49:21.803Z"
   },
   {
    "duration": 479,
    "start_time": "2021-11-15T17:50:14.735Z"
   },
   {
    "duration": 25,
    "start_time": "2021-11-15T17:50:20.446Z"
   },
   {
    "duration": 486,
    "start_time": "2021-11-15T17:50:27.694Z"
   },
   {
    "duration": 16,
    "start_time": "2021-11-15T17:50:31.179Z"
   },
   {
    "duration": 15,
    "start_time": "2021-11-15T17:50:36.896Z"
   },
   {
    "duration": 12,
    "start_time": "2021-11-15T17:51:21.075Z"
   },
   {
    "duration": 15,
    "start_time": "2021-11-15T17:51:30.827Z"
   },
   {
    "duration": 14,
    "start_time": "2021-11-15T17:51:36.338Z"
   },
   {
    "duration": 15,
    "start_time": "2021-11-15T17:51:39.611Z"
   },
   {
    "duration": 580,
    "start_time": "2021-11-22T13:27:46.980Z"
   },
   {
    "duration": 367,
    "start_time": "2021-11-22T13:27:47.562Z"
   },
   {
    "duration": 10,
    "start_time": "2021-11-22T13:27:47.931Z"
   },
   {
    "duration": 9,
    "start_time": "2021-11-22T13:27:47.943Z"
   },
   {
    "duration": 9,
    "start_time": "2021-11-22T13:27:47.953Z"
   },
   {
    "duration": 24,
    "start_time": "2021-11-22T13:29:43.043Z"
   },
   {
    "duration": 17,
    "start_time": "2021-11-22T13:29:53.331Z"
   },
   {
    "duration": 16,
    "start_time": "2021-11-22T13:29:59.003Z"
   },
   {
    "duration": 17,
    "start_time": "2021-11-22T13:30:03.943Z"
   },
   {
    "duration": 1170,
    "start_time": "2021-11-22T13:31:06.361Z"
   },
   {
    "duration": 283,
    "start_time": "2021-11-22T13:31:29.941Z"
   },
   {
    "duration": 223,
    "start_time": "2021-11-22T13:31:42.920Z"
   },
   {
    "duration": 1144,
    "start_time": "2021-11-22T13:31:47.995Z"
   },
   {
    "duration": 849,
    "start_time": "2021-11-22T13:32:20.848Z"
   },
   {
    "duration": 12,
    "start_time": "2021-11-22T13:32:27.057Z"
   },
   {
    "duration": 933,
    "start_time": "2021-11-22T13:32:30.160Z"
   },
   {
    "duration": 859,
    "start_time": "2021-11-22T13:33:37.976Z"
   },
   {
    "duration": 174,
    "start_time": "2021-11-22T13:33:52.339Z"
   },
   {
    "duration": 176,
    "start_time": "2021-11-22T13:34:01.859Z"
   },
   {
    "duration": 2491,
    "start_time": "2021-11-22T13:34:21.647Z"
   },
   {
    "duration": 2450,
    "start_time": "2021-11-22T13:34:34.945Z"
   },
   {
    "duration": 150,
    "start_time": "2021-11-22T13:35:35.942Z"
   },
   {
    "duration": 149,
    "start_time": "2021-11-22T13:36:38.254Z"
   },
   {
    "duration": 39,
    "start_time": "2021-11-22T13:37:26.842Z"
   },
   {
    "duration": 50,
    "start_time": "2021-11-22T13:37:59.389Z"
   },
   {
    "duration": 148,
    "start_time": "2021-11-22T13:39:18.169Z"
   },
   {
    "duration": 153,
    "start_time": "2021-11-22T13:39:23.237Z"
   },
   {
    "duration": 148,
    "start_time": "2021-11-22T13:39:28.832Z"
   },
   {
    "duration": 147,
    "start_time": "2021-11-22T13:39:32.326Z"
   },
   {
    "duration": 47,
    "start_time": "2021-11-22T13:40:19.981Z"
   },
   {
    "duration": 36,
    "start_time": "2021-11-22T13:40:29.257Z"
   },
   {
    "duration": 215,
    "start_time": "2021-11-22T15:27:24.222Z"
   },
   {
    "duration": 208,
    "start_time": "2021-11-22T15:27:29.661Z"
   },
   {
    "duration": 11563,
    "start_time": "2021-11-22T15:27:38.528Z"
   },
   {
    "duration": 1051,
    "start_time": "2021-11-22T15:28:58.962Z"
   },
   {
    "duration": 46,
    "start_time": "2021-11-22T16:18:37.688Z"
   },
   {
    "duration": 218,
    "start_time": "2021-11-22T16:19:29.592Z"
   },
   {
    "duration": 206,
    "start_time": "2021-11-22T16:19:43.014Z"
   },
   {
    "duration": 208,
    "start_time": "2021-11-22T16:19:52.604Z"
   },
   {
    "duration": 219,
    "start_time": "2021-11-22T16:19:57.507Z"
   },
   {
    "duration": 216,
    "start_time": "2021-11-22T16:20:01.507Z"
   },
   {
    "duration": 286,
    "start_time": "2021-11-22T16:31:44.545Z"
   },
   {
    "duration": 46,
    "start_time": "2021-11-22T16:33:35.018Z"
   },
   {
    "duration": 36,
    "start_time": "2021-11-22T16:33:59.175Z"
   },
   {
    "duration": 105,
    "start_time": "2021-11-22T16:34:27.493Z"
   },
   {
    "duration": 121,
    "start_time": "2021-11-22T16:34:50.689Z"
   },
   {
    "duration": 295,
    "start_time": "2021-11-23T11:07:56.654Z"
   },
   {
    "duration": 609,
    "start_time": "2021-11-23T11:08:02.925Z"
   },
   {
    "duration": 364,
    "start_time": "2021-11-23T11:08:04.168Z"
   },
   {
    "duration": 22,
    "start_time": "2021-11-23T11:08:04.625Z"
   },
   {
    "duration": 16,
    "start_time": "2021-11-23T11:08:05.662Z"
   },
   {
    "duration": 15,
    "start_time": "2021-11-23T11:08:06.858Z"
   },
   {
    "duration": 106,
    "start_time": "2021-11-23T11:08:09.341Z"
   },
   {
    "duration": 45,
    "start_time": "2021-11-23T11:08:33.273Z"
   },
   {
    "duration": 3,
    "start_time": "2021-11-23T11:09:51.030Z"
   },
   {
    "duration": 114,
    "start_time": "2021-11-23T11:10:04.280Z"
   },
   {
    "duration": 60,
    "start_time": "2021-11-23T11:10:21.925Z"
   },
   {
    "duration": 59,
    "start_time": "2021-11-23T11:10:38.229Z"
   },
   {
    "duration": 91,
    "start_time": "2021-11-23T11:12:14.527Z"
   },
   {
    "duration": 36,
    "start_time": "2021-11-23T11:12:25.147Z"
   },
   {
    "duration": 117,
    "start_time": "2021-11-23T12:02:53.456Z"
   },
   {
    "duration": 443,
    "start_time": "2021-11-23T16:19:19.952Z"
   },
   {
    "duration": 84,
    "start_time": "2021-11-23T16:31:06.119Z"
   },
   {
    "duration": 286,
    "start_time": "2021-11-23T16:31:12.477Z"
   },
   {
    "duration": 4,
    "start_time": "2021-11-23T16:31:17.319Z"
   },
   {
    "duration": 4,
    "start_time": "2021-11-23T16:31:35.532Z"
   },
   {
    "duration": 12,
    "start_time": "2021-11-23T16:33:47.769Z"
   },
   {
    "duration": 4,
    "start_time": "2021-11-23T16:37:56.228Z"
   },
   {
    "duration": 286,
    "start_time": "2021-11-23T16:43:29.530Z"
   },
   {
    "duration": 251,
    "start_time": "2021-11-23T16:43:32.457Z"
   },
   {
    "duration": 1169,
    "start_time": "2021-11-23T16:46:34.302Z"
   },
   {
    "duration": 386,
    "start_time": "2021-11-23T16:46:35.474Z"
   },
   {
    "duration": 24,
    "start_time": "2021-11-23T16:46:35.864Z"
   },
   {
    "duration": 15,
    "start_time": "2021-11-23T16:46:35.890Z"
   },
   {
    "duration": 16,
    "start_time": "2021-11-23T16:46:35.907Z"
   },
   {
    "duration": 165,
    "start_time": "2021-11-23T16:46:35.925Z"
   },
   {
    "duration": 78,
    "start_time": "2021-11-23T16:46:36.092Z"
   },
   {
    "duration": 5,
    "start_time": "2021-11-23T16:46:36.173Z"
   },
   {
    "duration": 145,
    "start_time": "2021-11-23T16:46:36.180Z"
   },
   {
    "duration": 77,
    "start_time": "2021-11-23T16:46:36.327Z"
   },
   {
    "duration": 82,
    "start_time": "2021-11-23T16:46:36.405Z"
   },
   {
    "duration": 136,
    "start_time": "2021-11-23T16:46:36.489Z"
   },
   {
    "duration": 3,
    "start_time": "2021-11-23T16:46:36.627Z"
   },
   {
    "duration": 9,
    "start_time": "2021-11-23T16:46:36.631Z"
   },
   {
    "duration": 396,
    "start_time": "2021-11-23T16:53:10.412Z"
   },
   {
    "duration": 43,
    "start_time": "2021-11-23T16:53:19.600Z"
   },
   {
    "duration": 257,
    "start_time": "2021-11-23T16:54:06.813Z"
   },
   {
    "duration": 260,
    "start_time": "2021-11-23T16:55:34.489Z"
   },
   {
    "duration": 3,
    "start_time": "2021-11-23T16:55:45.369Z"
   },
   {
    "duration": 39,
    "start_time": "2021-11-23T16:56:07.948Z"
   },
   {
    "duration": 672,
    "start_time": "2021-11-23T16:56:39.400Z"
   },
   {
    "duration": 2,
    "start_time": "2021-11-23T16:56:56.460Z"
   },
   {
    "duration": 82,
    "start_time": "2021-11-23T16:57:04.491Z"
   },
   {
    "duration": 696,
    "start_time": "2021-11-23T16:57:46.839Z"
   },
   {
    "duration": 81,
    "start_time": "2021-11-23T16:58:56.972Z"
   },
   {
    "duration": 39,
    "start_time": "2021-11-23T16:59:06.013Z"
   },
   {
    "duration": 2,
    "start_time": "2021-11-23T16:59:11.566Z"
   },
   {
    "duration": 4,
    "start_time": "2021-11-23T16:59:19.659Z"
   },
   {
    "duration": 38,
    "start_time": "2021-11-23T17:00:32.879Z"
   },
   {
    "duration": 4,
    "start_time": "2021-11-23T17:01:23.428Z"
   },
   {
    "duration": 312,
    "start_time": "2021-11-23T17:06:07.996Z"
   },
   {
    "duration": 14,
    "start_time": "2021-11-23T17:06:10.147Z"
   },
   {
    "duration": 480,
    "start_time": "2021-11-23T17:08:10.687Z"
   },
   {
    "duration": 290,
    "start_time": "2021-11-23T17:08:14.708Z"
   },
   {
    "duration": 256,
    "start_time": "2021-11-23T17:08:26.141Z"
   },
   {
    "duration": 257,
    "start_time": "2021-11-23T17:08:42.667Z"
   },
   {
    "duration": 243,
    "start_time": "2021-11-23T17:09:13.475Z"
   },
   {
    "duration": 4,
    "start_time": "2021-11-23T17:10:20.682Z"
   },
   {
    "duration": 4,
    "start_time": "2021-11-23T17:11:58.889Z"
   },
   {
    "duration": 7336,
    "start_time": "2021-11-23T17:12:18.838Z"
   },
   {
    "duration": 4,
    "start_time": "2021-11-23T17:13:27.114Z"
   },
   {
    "duration": 16,
    "start_time": "2021-11-23T17:13:28.366Z"
   },
   {
    "duration": 258,
    "start_time": "2021-11-23T17:13:43.186Z"
   },
   {
    "duration": 4,
    "start_time": "2021-11-23T17:15:17.679Z"
   },
   {
    "duration": 16,
    "start_time": "2021-11-23T17:15:18.552Z"
   },
   {
    "duration": 413,
    "start_time": "2021-11-23T17:15:19.233Z"
   },
   {
    "duration": 5,
    "start_time": "2021-11-23T17:15:41.210Z"
   },
   {
    "duration": 4,
    "start_time": "2021-11-23T17:15:46.840Z"
   },
   {
    "duration": 262,
    "start_time": "2021-11-23T17:15:58.225Z"
   },
   {
    "duration": 4,
    "start_time": "2021-11-23T17:16:30.679Z"
   },
   {
    "duration": 16,
    "start_time": "2021-11-23T17:16:31.332Z"
   },
   {
    "duration": 255,
    "start_time": "2021-11-23T17:16:31.862Z"
   },
   {
    "duration": 49,
    "start_time": "2021-11-23T17:16:56.771Z"
   },
   {
    "duration": 296,
    "start_time": "2021-11-23T17:17:49.791Z"
   },
   {
    "duration": 3,
    "start_time": "2021-11-23T17:17:55.915Z"
   },
   {
    "duration": 4,
    "start_time": "2021-11-23T17:18:35.429Z"
   },
   {
    "duration": 15,
    "start_time": "2021-11-23T17:18:36.542Z"
   },
   {
    "duration": 250,
    "start_time": "2021-11-23T17:18:37.175Z"
   },
   {
    "duration": 4,
    "start_time": "2021-11-23T17:18:40.093Z"
   },
   {
    "duration": 4,
    "start_time": "2021-11-23T17:20:17.098Z"
   },
   {
    "duration": 15,
    "start_time": "2021-11-23T17:20:17.899Z"
   },
   {
    "duration": 241,
    "start_time": "2021-11-23T17:20:18.365Z"
   },
   {
    "duration": 5,
    "start_time": "2021-11-23T17:21:03.877Z"
   },
   {
    "duration": 260,
    "start_time": "2021-11-23T17:21:08.901Z"
   },
   {
    "duration": 4,
    "start_time": "2021-11-23T17:21:09.640Z"
   },
   {
    "duration": 118,
    "start_time": "2021-11-23T17:21:54.809Z"
   },
   {
    "duration": 95,
    "start_time": "2021-11-23T17:22:10.191Z"
   },
   {
    "duration": 3,
    "start_time": "2021-11-23T17:22:14.649Z"
   },
   {
    "duration": 25,
    "start_time": "2021-11-23T17:22:16.392Z"
   },
   {
    "duration": 4,
    "start_time": "2021-11-23T17:27:50.589Z"
   },
   {
    "duration": 18,
    "start_time": "2021-11-23T17:27:52.156Z"
   },
   {
    "duration": 240,
    "start_time": "2021-11-23T17:27:53.199Z"
   },
   {
    "duration": 4,
    "start_time": "2021-11-23T17:27:54.724Z"
   },
   {
    "duration": 4,
    "start_time": "2021-11-23T17:32:41.972Z"
   },
   {
    "duration": 15,
    "start_time": "2021-11-23T17:32:43.189Z"
   },
   {
    "duration": 285,
    "start_time": "2021-11-23T17:32:43.887Z"
   },
   {
    "duration": 4,
    "start_time": "2021-11-23T17:32:45.887Z"
   },
   {
    "duration": 4,
    "start_time": "2021-11-23T17:32:53.415Z"
   },
   {
    "duration": 18,
    "start_time": "2021-11-23T17:32:54.309Z"
   },
   {
    "duration": 4,
    "start_time": "2021-11-23T17:33:36.383Z"
   },
   {
    "duration": 20,
    "start_time": "2021-11-23T17:33:37.018Z"
   },
   {
    "duration": 10,
    "start_time": "2021-11-23T17:33:38.222Z"
   },
   {
    "duration": 4,
    "start_time": "2021-11-23T17:33:47.385Z"
   },
   {
    "duration": 4,
    "start_time": "2021-11-23T17:34:04.867Z"
   },
   {
    "duration": 18,
    "start_time": "2021-11-23T17:34:05.482Z"
   },
   {
    "duration": 10,
    "start_time": "2021-11-23T17:34:13.271Z"
   },
   {
    "duration": 40,
    "start_time": "2021-11-23T17:35:54.348Z"
   },
   {
    "duration": 5,
    "start_time": "2021-11-23T17:36:06.081Z"
   },
   {
    "duration": 243,
    "start_time": "2021-11-23T17:41:44.368Z"
   },
   {
    "duration": 4,
    "start_time": "2021-11-23T17:41:52.399Z"
   },
   {
    "duration": 5,
    "start_time": "2021-11-23T17:42:45.756Z"
   },
   {
    "duration": 80,
    "start_time": "2021-11-23T17:46:21.947Z"
   },
   {
    "duration": 258,
    "start_time": "2021-11-23T17:46:33.194Z"
   },
   {
    "duration": 3,
    "start_time": "2021-11-23T17:47:01.188Z"
   },
   {
    "duration": 2,
    "start_time": "2021-11-23T17:47:08.169Z"
   },
   {
    "duration": 3,
    "start_time": "2021-11-23T17:47:18.279Z"
   },
   {
    "duration": 5,
    "start_time": "2021-11-23T17:47:41.862Z"
   },
   {
    "duration": 39,
    "start_time": "2021-11-23T17:49:21.894Z"
   },
   {
    "duration": 90,
    "start_time": "2021-11-23T18:21:06.607Z"
   },
   {
    "duration": 81,
    "start_time": "2021-11-23T18:26:38.374Z"
   },
   {
    "duration": 3,
    "start_time": "2021-11-23T18:26:45.373Z"
   },
   {
    "duration": 20,
    "start_time": "2021-11-23T18:29:59.113Z"
   },
   {
    "duration": 138,
    "start_time": "2021-11-23T18:48:04.427Z"
   },
   {
    "duration": 3,
    "start_time": "2021-11-23T18:48:47.214Z"
   },
   {
    "duration": 3,
    "start_time": "2021-11-23T18:48:51.538Z"
   },
   {
    "duration": 198,
    "start_time": "2021-11-23T18:49:45.766Z"
   },
   {
    "duration": 4,
    "start_time": "2021-11-23T19:02:27.809Z"
   },
   {
    "duration": 249,
    "start_time": "2021-11-23T19:02:51.490Z"
   },
   {
    "duration": 302,
    "start_time": "2021-11-23T19:02:54.767Z"
   },
   {
    "duration": 4,
    "start_time": "2021-11-23T19:02:56.825Z"
   },
   {
    "duration": 4,
    "start_time": "2021-11-23T19:03:39.009Z"
   },
   {
    "duration": 5,
    "start_time": "2021-11-23T19:03:43.054Z"
   },
   {
    "duration": 6,
    "start_time": "2021-11-23T19:04:23.580Z"
   },
   {
    "duration": 3,
    "start_time": "2021-11-23T19:05:26.273Z"
   },
   {
    "duration": 246,
    "start_time": "2021-11-23T19:06:51.835Z"
   },
   {
    "duration": 7,
    "start_time": "2021-11-23T19:07:21.692Z"
   },
   {
    "duration": 243,
    "start_time": "2021-11-23T19:12:40.892Z"
   },
   {
    "duration": 306,
    "start_time": "2021-11-23T19:13:27.188Z"
   },
   {
    "duration": 259,
    "start_time": "2021-11-23T19:13:59.271Z"
   },
   {
    "duration": 248,
    "start_time": "2021-11-23T19:14:31.659Z"
   },
   {
    "duration": 246,
    "start_time": "2021-11-23T19:14:36.305Z"
   },
   {
    "duration": 7,
    "start_time": "2021-11-23T19:15:53.963Z"
   },
   {
    "duration": 84,
    "start_time": "2021-11-23T19:17:48.319Z"
   },
   {
    "duration": 79,
    "start_time": "2021-11-23T19:18:10.644Z"
   },
   {
    "duration": 83,
    "start_time": "2021-11-23T19:18:15.392Z"
   },
   {
    "duration": 132,
    "start_time": "2021-11-23T19:18:24.575Z"
   },
   {
    "duration": 7,
    "start_time": "2021-11-23T19:18:31.656Z"
   },
   {
    "duration": 416,
    "start_time": "2021-11-23T19:45:20.188Z"
   },
   {
    "duration": 264,
    "start_time": "2021-11-23T19:46:35.845Z"
   },
   {
    "duration": 10,
    "start_time": "2021-11-23T19:46:46.759Z"
   },
   {
    "duration": 260,
    "start_time": "2021-11-23T19:47:33.813Z"
   },
   {
    "duration": 9,
    "start_time": "2021-11-23T19:47:51.749Z"
   },
   {
    "duration": 12,
    "start_time": "2021-11-23T19:49:53.011Z"
   },
   {
    "duration": 11,
    "start_time": "2021-11-23T19:50:06.607Z"
   },
   {
    "duration": 8,
    "start_time": "2021-11-23T19:50:12.041Z"
   },
   {
    "duration": 495,
    "start_time": "2021-11-23T19:51:00.236Z"
   },
   {
    "duration": 10,
    "start_time": "2021-11-23T19:51:05.890Z"
   },
   {
    "duration": 328,
    "start_time": "2021-11-23T19:51:22.386Z"
   },
   {
    "duration": 5,
    "start_time": "2021-11-23T19:51:29.632Z"
   },
   {
    "duration": 7,
    "start_time": "2021-11-23T19:51:37.770Z"
   },
   {
    "duration": 8,
    "start_time": "2021-11-23T19:52:32.538Z"
   },
   {
    "duration": 8,
    "start_time": "2021-11-23T19:52:41.366Z"
   },
   {
    "duration": 7,
    "start_time": "2021-11-23T19:52:50.065Z"
   },
   {
    "duration": 323,
    "start_time": "2021-11-23T19:52:55.616Z"
   },
   {
    "duration": 5,
    "start_time": "2021-11-23T19:53:00.694Z"
   },
   {
    "duration": 8,
    "start_time": "2021-11-23T19:53:12.052Z"
   },
   {
    "duration": 9,
    "start_time": "2021-11-23T19:53:17.233Z"
   },
   {
    "duration": 8,
    "start_time": "2021-11-23T19:53:53.327Z"
   },
   {
    "duration": 11,
    "start_time": "2021-11-23T19:53:59.797Z"
   },
   {
    "duration": 10,
    "start_time": "2021-11-23T19:54:05.060Z"
   },
   {
    "duration": 9,
    "start_time": "2021-11-23T19:54:09.153Z"
   },
   {
    "duration": 9,
    "start_time": "2021-11-23T20:18:02.312Z"
   },
   {
    "duration": 47,
    "start_time": "2021-11-23T20:19:09.343Z"
   },
   {
    "duration": 49,
    "start_time": "2021-11-23T20:19:14.057Z"
   },
   {
    "duration": 57,
    "start_time": "2021-11-23T20:19:24.251Z"
   },
   {
    "duration": 53,
    "start_time": "2021-11-23T20:19:52.103Z"
   },
   {
    "duration": 54,
    "start_time": "2021-11-23T20:19:58.002Z"
   },
   {
    "duration": 11,
    "start_time": "2021-11-23T20:22:30.061Z"
   },
   {
    "duration": 4,
    "start_time": "2021-11-23T21:03:57.540Z"
   },
   {
    "duration": 4,
    "start_time": "2021-11-23T21:06:15.076Z"
   },
   {
    "duration": 3,
    "start_time": "2021-11-23T21:20:48.585Z"
   },
   {
    "duration": 3,
    "start_time": "2021-11-23T21:25:48.728Z"
   },
   {
    "duration": 4,
    "start_time": "2021-11-23T21:25:50.023Z"
   },
   {
    "duration": 3,
    "start_time": "2021-11-23T21:25:51.593Z"
   },
   {
    "duration": 3,
    "start_time": "2021-11-23T21:26:22.206Z"
   },
   {
    "duration": 4,
    "start_time": "2021-11-23T21:26:23.437Z"
   },
   {
    "duration": 4,
    "start_time": "2021-11-23T21:26:26.257Z"
   },
   {
    "duration": 3,
    "start_time": "2021-11-23T21:32:57.697Z"
   },
   {
    "duration": 8,
    "start_time": "2021-11-23T21:33:38.553Z"
   },
   {
    "duration": 3,
    "start_time": "2021-11-23T21:34:23.902Z"
   },
   {
    "duration": 8,
    "start_time": "2021-11-23T21:34:24.327Z"
   },
   {
    "duration": 3,
    "start_time": "2021-11-23T21:34:28.231Z"
   },
   {
    "duration": 8,
    "start_time": "2021-11-23T21:34:29.576Z"
   },
   {
    "duration": 4,
    "start_time": "2021-11-23T21:34:36.339Z"
   },
   {
    "duration": 8,
    "start_time": "2021-11-23T21:34:37.223Z"
   },
   {
    "duration": 3,
    "start_time": "2021-11-23T21:40:27.661Z"
   },
   {
    "duration": 9788,
    "start_time": "2021-11-23T22:09:48.827Z"
   },
   {
    "duration": 3186,
    "start_time": "2021-11-23T22:11:05.728Z"
   },
   {
    "duration": 2393,
    "start_time": "2021-11-23T22:11:39.959Z"
   },
   {
    "duration": 5,
    "start_time": "2021-11-23T22:12:11.675Z"
   },
   {
    "duration": 9,
    "start_time": "2021-11-23T22:12:16.419Z"
   },
   {
    "duration": 12,
    "start_time": "2021-11-23T22:13:16.834Z"
   },
   {
    "duration": 2650,
    "start_time": "2021-11-23T22:15:08.223Z"
   },
   {
    "duration": 11,
    "start_time": "2021-11-23T22:15:12.585Z"
   },
   {
    "duration": 3,
    "start_time": "2021-11-23T22:15:40.987Z"
   },
   {
    "duration": 2653,
    "start_time": "2021-11-23T22:15:42.187Z"
   },
   {
    "duration": 10,
    "start_time": "2021-11-23T22:15:46.442Z"
   },
   {
    "duration": 2423,
    "start_time": "2021-11-23T22:18:20.897Z"
   },
   {
    "duration": 300,
    "start_time": "2021-11-23T22:20:40.163Z"
   },
   {
    "duration": 266,
    "start_time": "2021-11-23T22:21:47.956Z"
   },
   {
    "duration": 260,
    "start_time": "2021-11-23T22:21:59.463Z"
   },
   {
    "duration": 279,
    "start_time": "2021-11-23T22:22:13.336Z"
   },
   {
    "duration": 6,
    "start_time": "2021-11-23T22:22:25.356Z"
   },
   {
    "duration": 669,
    "start_time": "2021-11-23T22:23:07.286Z"
   },
   {
    "duration": 198,
    "start_time": "2021-11-23T22:25:25.850Z"
   },
   {
    "duration": 134,
    "start_time": "2021-11-23T22:25:29.644Z"
   },
   {
    "duration": 359,
    "start_time": "2021-11-23T22:26:25.972Z"
   },
   {
    "duration": 409,
    "start_time": "2021-11-23T22:29:55.871Z"
   },
   {
    "duration": 2166,
    "start_time": "2021-11-23T22:31:37.565Z"
   },
   {
    "duration": 634,
    "start_time": "2021-11-23T22:32:46.924Z"
   },
   {
    "duration": 258,
    "start_time": "2021-11-23T22:32:52.087Z"
   },
   {
    "duration": 263,
    "start_time": "2021-11-23T22:32:59.409Z"
   },
   {
    "duration": 89,
    "start_time": "2021-11-23T22:34:41.729Z"
   },
   {
    "duration": 1893,
    "start_time": "2021-11-23T22:34:48.579Z"
   },
   {
    "duration": 249,
    "start_time": "2021-11-23T22:35:48.768Z"
   },
   {
    "duration": 315,
    "start_time": "2021-11-23T22:36:01.289Z"
   },
   {
    "duration": 252,
    "start_time": "2021-11-23T22:36:14.500Z"
   },
   {
    "duration": 345,
    "start_time": "2021-11-23T22:36:19.360Z"
   },
   {
    "duration": 4,
    "start_time": "2021-11-23T22:36:29.221Z"
   },
   {
    "duration": 251,
    "start_time": "2021-11-23T22:36:33.399Z"
   },
   {
    "duration": 4,
    "start_time": "2021-11-23T22:36:36.277Z"
   },
   {
    "duration": 5,
    "start_time": "2021-11-23T22:36:45.310Z"
   },
   {
    "duration": 270,
    "start_time": "2021-11-23T22:36:50.798Z"
   },
   {
    "duration": 255,
    "start_time": "2021-11-23T22:37:53.712Z"
   },
   {
    "duration": 262,
    "start_time": "2021-11-23T22:37:57.666Z"
   },
   {
    "duration": 242,
    "start_time": "2021-11-23T22:38:47.729Z"
   },
   {
    "duration": 281,
    "start_time": "2021-11-23T22:38:51.941Z"
   },
   {
    "duration": 10,
    "start_time": "2021-11-23T22:39:01.826Z"
   },
   {
    "duration": 9,
    "start_time": "2021-11-23T22:39:16.322Z"
   },
   {
    "duration": 10,
    "start_time": "2021-11-23T22:39:54.289Z"
   },
   {
    "duration": 10,
    "start_time": "2021-11-23T22:40:07.401Z"
   },
   {
    "duration": 10,
    "start_time": "2021-11-23T22:40:14.204Z"
   },
   {
    "duration": 5,
    "start_time": "2021-11-23T22:40:25.206Z"
   },
   {
    "duration": 11,
    "start_time": "2021-11-23T22:40:30.639Z"
   },
   {
    "duration": 238,
    "start_time": "2021-11-23T22:40:36.280Z"
   },
   {
    "duration": 2293,
    "start_time": "2021-11-23T22:42:21.152Z"
   },
   {
    "duration": 12,
    "start_time": "2021-11-23T22:42:32.459Z"
   },
   {
    "duration": 80,
    "start_time": "2021-11-23T22:45:22.092Z"
   },
   {
    "duration": 86,
    "start_time": "2021-11-23T22:45:33.547Z"
   },
   {
    "duration": 7521,
    "start_time": "2021-11-23T22:45:59.061Z"
   },
   {
    "duration": 10055,
    "start_time": "2021-11-23T22:46:54.823Z"
   },
   {
    "duration": 264,
    "start_time": "2021-11-23T22:47:25.034Z"
   },
   {
    "duration": 6,
    "start_time": "2021-11-23T22:47:30.986Z"
   },
   {
    "duration": 293,
    "start_time": "2021-11-23T22:47:36.428Z"
   },
   {
    "duration": 446,
    "start_time": "2021-11-23T22:48:47.387Z"
   },
   {
    "duration": 6828,
    "start_time": "2021-11-23T22:49:36.542Z"
   },
   {
    "duration": 6228,
    "start_time": "2021-11-23T22:51:27.195Z"
   },
   {
    "duration": 6201,
    "start_time": "2021-11-23T22:51:43.785Z"
   },
   {
    "duration": 7,
    "start_time": "2021-11-23T22:52:00.494Z"
   },
   {
    "duration": 5,
    "start_time": "2021-11-23T22:52:07.648Z"
   },
   {
    "duration": 129,
    "start_time": "2021-11-23T22:52:17.841Z"
   },
   {
    "duration": 122,
    "start_time": "2021-11-23T22:52:44.031Z"
   },
   {
    "duration": 5,
    "start_time": "2021-11-23T22:53:44.965Z"
   },
   {
    "duration": 10,
    "start_time": "2021-11-23T22:53:50.426Z"
   },
   {
    "duration": 121,
    "start_time": "2021-11-23T22:53:52.414Z"
   },
   {
    "duration": 4,
    "start_time": "2021-11-23T22:54:08.251Z"
   },
   {
    "duration": 124,
    "start_time": "2021-11-23T22:54:24.164Z"
   },
   {
    "duration": 122,
    "start_time": "2021-11-23T22:54:47.676Z"
   },
   {
    "duration": 424,
    "start_time": "2021-11-23T22:55:09.459Z"
   },
   {
    "duration": 121,
    "start_time": "2021-11-23T22:55:36.146Z"
   },
   {
    "duration": 2090,
    "start_time": "2021-11-23T22:57:09.701Z"
   },
   {
    "duration": 267,
    "start_time": "2021-11-23T22:57:43.759Z"
   },
   {
    "duration": 235,
    "start_time": "2021-11-23T22:58:01.467Z"
   },
   {
    "duration": 260,
    "start_time": "2021-11-23T22:59:14.376Z"
   },
   {
    "duration": 248,
    "start_time": "2021-11-23T22:59:33.178Z"
   },
   {
    "duration": 25,
    "start_time": "2021-11-23T23:00:25.739Z"
   },
   {
    "duration": 19,
    "start_time": "2021-11-23T23:00:30.092Z"
   },
   {
    "duration": 224,
    "start_time": "2021-11-23T23:00:41.854Z"
   },
   {
    "duration": 26,
    "start_time": "2021-11-23T23:00:53.226Z"
   },
   {
    "duration": 569,
    "start_time": "2021-11-23T23:00:53.693Z"
   },
   {
    "duration": 10,
    "start_time": "2021-11-23T23:01:01.720Z"
   },
   {
    "duration": 25,
    "start_time": "2021-11-23T23:01:50.612Z"
   },
   {
    "duration": 18,
    "start_time": "2021-11-23T23:01:52.381Z"
   },
   {
    "duration": 360,
    "start_time": "2021-11-23T23:02:01.875Z"
   },
   {
    "duration": 11,
    "start_time": "2021-11-23T23:02:19.150Z"
   },
   {
    "duration": 18,
    "start_time": "2021-11-23T23:02:27.689Z"
   },
   {
    "duration": 1007,
    "start_time": "2021-11-23T23:06:28.405Z"
   },
   {
    "duration": 10,
    "start_time": "2021-11-23T23:06:36.983Z"
   },
   {
    "duration": 5,
    "start_time": "2021-11-23T23:06:42.243Z"
   },
   {
    "duration": 12,
    "start_time": "2021-11-23T23:06:43.110Z"
   },
   {
    "duration": 11,
    "start_time": "2021-11-23T23:07:03.879Z"
   },
   {
    "duration": 20,
    "start_time": "2021-11-23T23:07:05.243Z"
   },
   {
    "duration": 5,
    "start_time": "2021-11-23T23:07:17.379Z"
   },
   {
    "duration": 8,
    "start_time": "2021-11-23T23:07:18.580Z"
   },
   {
    "duration": 1270,
    "start_time": "2021-11-23T23:07:31.448Z"
   },
   {
    "duration": 8,
    "start_time": "2021-11-23T23:07:32.735Z"
   },
   {
    "duration": 251,
    "start_time": "2021-11-23T23:07:56.734Z"
   },
   {
    "duration": 301,
    "start_time": "2021-11-23T23:08:01.375Z"
   },
   {
    "duration": 627,
    "start_time": "2021-11-23T23:08:07.091Z"
   },
   {
    "duration": 5,
    "start_time": "2021-11-23T23:08:11.764Z"
   },
   {
    "duration": 9,
    "start_time": "2021-11-23T23:08:13.353Z"
   },
   {
    "duration": 256,
    "start_time": "2021-11-23T23:09:16.398Z"
   },
   {
    "duration": 4,
    "start_time": "2021-11-23T23:10:22.955Z"
   },
   {
    "duration": 12,
    "start_time": "2021-11-23T23:10:23.504Z"
   },
   {
    "duration": 270,
    "start_time": "2021-11-23T23:10:39.107Z"
   },
   {
    "duration": 220,
    "start_time": "2021-11-23T23:10:42.128Z"
   },
   {
    "duration": 261,
    "start_time": "2021-11-23T23:11:00.009Z"
   },
   {
    "duration": 252,
    "start_time": "2021-11-23T23:13:04.045Z"
   },
   {
    "duration": 10,
    "start_time": "2021-11-23T23:15:35.787Z"
   },
   {
    "duration": 11,
    "start_time": "2021-11-23T23:15:59.536Z"
   },
   {
    "duration": 11,
    "start_time": "2021-11-23T23:16:26.743Z"
   },
   {
    "duration": 11,
    "start_time": "2021-11-23T23:16:36.376Z"
   },
   {
    "duration": 12,
    "start_time": "2021-11-23T23:16:58.026Z"
   },
   {
    "duration": 4,
    "start_time": "2021-11-23T23:17:03.066Z"
   },
   {
    "duration": 11,
    "start_time": "2021-11-23T23:17:03.495Z"
   },
   {
    "duration": 11,
    "start_time": "2021-11-23T23:17:05.021Z"
   },
   {
    "duration": 251,
    "start_time": "2021-11-23T23:17:46.172Z"
   },
   {
    "duration": 286,
    "start_time": "2021-11-23T23:18:20.456Z"
   },
   {
    "duration": 315,
    "start_time": "2021-11-23T23:18:27.116Z"
   },
   {
    "duration": 269,
    "start_time": "2021-11-23T23:18:35.683Z"
   },
   {
    "duration": 269,
    "start_time": "2021-11-23T23:18:58.819Z"
   },
   {
    "duration": 261,
    "start_time": "2021-11-23T23:20:26.383Z"
   },
   {
    "duration": 253,
    "start_time": "2021-11-23T23:21:29.626Z"
   },
   {
    "duration": 227,
    "start_time": "2021-11-23T23:23:51.596Z"
   },
   {
    "duration": 231,
    "start_time": "2021-11-23T23:24:00.875Z"
   },
   {
    "duration": 423,
    "start_time": "2021-11-23T23:24:28.546Z"
   },
   {
    "duration": 553,
    "start_time": "2021-11-23T23:24:33.692Z"
   },
   {
    "duration": 507,
    "start_time": "2021-11-23T23:26:31.246Z"
   },
   {
    "duration": 2083,
    "start_time": "2021-11-23T23:27:50.429Z"
   },
   {
    "duration": 400,
    "start_time": "2021-11-23T23:28:21.007Z"
   },
   {
    "duration": 383,
    "start_time": "2021-11-23T23:29:01.376Z"
   },
   {
    "duration": 698,
    "start_time": "2021-11-23T23:29:24.825Z"
   },
   {
    "duration": 348,
    "start_time": "2021-11-23T23:29:54.134Z"
   },
   {
    "duration": 399,
    "start_time": "2021-11-23T23:30:20.674Z"
   },
   {
    "duration": 116,
    "start_time": "2021-11-23T23:30:39.067Z"
   },
   {
    "duration": 135,
    "start_time": "2021-11-23T23:30:55.149Z"
   },
   {
    "duration": 132,
    "start_time": "2021-11-23T23:31:46.794Z"
   },
   {
    "duration": 126,
    "start_time": "2021-11-23T23:33:11.615Z"
   },
   {
    "duration": 456,
    "start_time": "2021-11-23T23:35:49.695Z"
   },
   {
    "duration": 137,
    "start_time": "2021-11-23T23:36:54.558Z"
   },
   {
    "duration": 132,
    "start_time": "2021-11-23T23:38:31.340Z"
   },
   {
    "duration": 11,
    "start_time": "2021-11-23T23:38:56.758Z"
   },
   {
    "duration": 120,
    "start_time": "2021-11-23T23:38:59.116Z"
   },
   {
    "duration": 357,
    "start_time": "2021-11-23T23:39:48.917Z"
   },
   {
    "duration": 378,
    "start_time": "2021-11-23T23:40:08.160Z"
   },
   {
    "duration": 688,
    "start_time": "2021-11-23T23:40:16.067Z"
   },
   {
    "duration": 408,
    "start_time": "2021-11-23T23:40:24.066Z"
   },
   {
    "duration": 123,
    "start_time": "2021-11-23T23:40:28.809Z"
   },
   {
    "duration": 11,
    "start_time": "2021-11-23T23:40:40.655Z"
   },
   {
    "duration": 126,
    "start_time": "2021-11-23T23:40:56.422Z"
   },
   {
    "duration": 11,
    "start_time": "2021-11-23T23:41:44.280Z"
   },
   {
    "duration": 123,
    "start_time": "2021-11-23T23:41:47.472Z"
   },
   {
    "duration": 93,
    "start_time": "2021-11-23T23:48:11.753Z"
   },
   {
    "duration": 141,
    "start_time": "2021-11-23T23:48:20.947Z"
   },
   {
    "duration": 129,
    "start_time": "2021-11-23T23:48:23.439Z"
   },
   {
    "duration": 456,
    "start_time": "2021-11-23T23:50:03.467Z"
   },
   {
    "duration": 137,
    "start_time": "2021-11-23T23:54:42.431Z"
   },
   {
    "duration": 132,
    "start_time": "2021-11-23T23:58:41.804Z"
   },
   {
    "duration": 134,
    "start_time": "2021-11-23T23:59:41.327Z"
   },
   {
    "duration": 379,
    "start_time": "2021-11-24T07:02:44.219Z"
   },
   {
    "duration": 4,
    "start_time": "2021-11-24T07:02:47.203Z"
   },
   {
    "duration": 14,
    "start_time": "2021-11-24T07:02:48.114Z"
   },
   {
    "duration": 5,
    "start_time": "2021-11-24T07:02:55.103Z"
   },
   {
    "duration": 4,
    "start_time": "2021-11-24T07:03:15.117Z"
   },
   {
    "duration": 5335,
    "start_time": "2021-11-24T07:06:32.774Z"
   },
   {
    "duration": 485,
    "start_time": "2021-11-24T07:06:38.113Z"
   },
   {
    "duration": 75,
    "start_time": "2021-11-24T07:06:38.601Z"
   },
   {
    "duration": 86,
    "start_time": "2021-11-24T07:06:38.680Z"
   },
   {
    "duration": 101,
    "start_time": "2021-11-24T07:06:38.768Z"
   },
   {
    "duration": 206,
    "start_time": "2021-11-24T07:06:38.871Z"
   },
   {
    "duration": 62,
    "start_time": "2021-11-24T07:06:39.079Z"
   },
   {
    "duration": 5,
    "start_time": "2021-11-24T07:06:39.147Z"
   },
   {
    "duration": 216,
    "start_time": "2021-11-24T07:06:39.156Z"
   },
   {
    "duration": 126,
    "start_time": "2021-11-24T07:06:39.375Z"
   },
   {
    "duration": 105,
    "start_time": "2021-11-24T07:06:39.503Z"
   },
   {
    "duration": 144,
    "start_time": "2021-11-24T07:06:39.610Z"
   },
   {
    "duration": 5,
    "start_time": "2021-11-24T07:06:39.757Z"
   },
   {
    "duration": 75,
    "start_time": "2021-11-24T07:06:39.765Z"
   },
   {
    "duration": 360,
    "start_time": "2021-11-24T07:06:39.842Z"
   },
   {
    "duration": 103,
    "start_time": "2021-11-24T07:06:40.205Z"
   },
   {
    "duration": 4,
    "start_time": "2021-11-24T07:06:40.311Z"
   },
   {
    "duration": 5,
    "start_time": "2021-11-24T07:06:40.401Z"
   },
   {
    "duration": 8,
    "start_time": "2021-11-24T07:06:40.409Z"
   },
   {
    "duration": 10,
    "start_time": "2021-11-24T07:06:40.419Z"
   },
   {
    "duration": 684,
    "start_time": "2021-11-24T07:06:40.431Z"
   },
   {
    "duration": -8451,
    "start_time": "2021-11-24T07:06:49.568Z"
   },
   {
    "duration": -8477,
    "start_time": "2021-11-24T07:06:49.596Z"
   },
   {
    "duration": 4880,
    "start_time": "2021-11-24T07:08:09.369Z"
   },
   {
    "duration": 5,
    "start_time": "2021-11-24T07:08:23.994Z"
   },
   {
    "duration": 7,
    "start_time": "2021-11-24T07:08:25.100Z"
   },
   {
    "duration": 4,
    "start_time": "2021-11-24T07:18:39.019Z"
   },
   {
    "duration": 1090,
    "start_time": "2021-11-24T07:19:21.478Z"
   },
   {
    "duration": 5,
    "start_time": "2021-11-24T07:19:50.477Z"
   },
   {
    "duration": 1122,
    "start_time": "2021-11-24T07:19:52.844Z"
   },
   {
    "duration": 5,
    "start_time": "2021-11-24T07:20:13.155Z"
   },
   {
    "duration": 1148,
    "start_time": "2021-11-24T07:20:14.498Z"
   },
   {
    "duration": 5,
    "start_time": "2021-11-24T07:21:45.356Z"
   },
   {
    "duration": 8,
    "start_time": "2021-11-24T07:22:30.255Z"
   },
   {
    "duration": 706,
    "start_time": "2021-11-24T07:22:50.913Z"
   },
   {
    "duration": 8,
    "start_time": "2021-11-24T07:23:09.931Z"
   },
   {
    "duration": 5,
    "start_time": "2021-11-24T07:24:26.093Z"
   },
   {
    "duration": 8,
    "start_time": "2021-11-24T07:24:26.436Z"
   },
   {
    "duration": 1124,
    "start_time": "2021-11-24T07:24:31.642Z"
   },
   {
    "duration": 6,
    "start_time": "2021-11-24T07:25:01.347Z"
   },
   {
    "duration": 8,
    "start_time": "2021-11-24T07:25:09.425Z"
   },
   {
    "duration": 8,
    "start_time": "2021-11-24T07:30:23.497Z"
   },
   {
    "duration": 5,
    "start_time": "2021-11-24T07:31:37.550Z"
   },
   {
    "duration": 6404,
    "start_time": "2021-11-24T07:31:39.574Z"
   },
   {
    "duration": 16,
    "start_time": "2021-11-24T07:31:56.828Z"
   },
   {
    "duration": 15,
    "start_time": "2021-11-24T07:32:07.057Z"
   },
   {
    "duration": 805,
    "start_time": "2021-11-24T07:41:55.173Z"
   },
   {
    "duration": 120,
    "start_time": "2021-11-24T07:42:10.025Z"
   },
   {
    "duration": 208,
    "start_time": "2021-11-24T07:42:14.742Z"
   },
   {
    "duration": 279,
    "start_time": "2021-11-24T07:46:03.510Z"
   },
   {
    "duration": 263,
    "start_time": "2021-11-24T07:46:15.582Z"
   },
   {
    "duration": 587,
    "start_time": "2021-11-24T07:46:28.637Z"
   },
   {
    "duration": 577,
    "start_time": "2021-11-24T07:47:12.970Z"
   },
   {
    "duration": 800,
    "start_time": "2021-11-24T07:47:22.339Z"
   },
   {
    "duration": 679,
    "start_time": "2021-11-24T07:47:28.350Z"
   },
   {
    "duration": 606,
    "start_time": "2021-11-24T07:47:52.630Z"
   },
   {
    "duration": 651,
    "start_time": "2021-11-24T07:48:02.024Z"
   },
   {
    "duration": 652,
    "start_time": "2021-11-24T07:48:13.230Z"
   },
   {
    "duration": 1096,
    "start_time": "2021-11-24T07:48:20.322Z"
   },
   {
    "duration": 634,
    "start_time": "2021-11-24T07:48:30.624Z"
   },
   {
    "duration": 1057,
    "start_time": "2021-11-24T07:48:38.107Z"
   },
   {
    "duration": 621,
    "start_time": "2021-11-24T07:50:28.012Z"
   },
   {
    "duration": 3168,
    "start_time": "2021-11-24T07:50:36.891Z"
   },
   {
    "duration": 294,
    "start_time": "2021-11-24T07:50:41.788Z"
   },
   {
    "duration": 497,
    "start_time": "2021-11-24T07:51:52.297Z"
   },
   {
    "duration": 349,
    "start_time": "2021-11-24T07:52:00.493Z"
   },
   {
    "duration": 335,
    "start_time": "2021-11-24T07:52:04.978Z"
   },
   {
    "duration": 17,
    "start_time": "2021-11-24T07:52:05.316Z"
   },
   {
    "duration": 356,
    "start_time": "2021-11-24T07:53:05.300Z"
   },
   {
    "duration": 836,
    "start_time": "2021-11-24T07:53:10.392Z"
   },
   {
    "duration": 376,
    "start_time": "2021-11-24T07:53:39.712Z"
   },
   {
    "duration": 988,
    "start_time": "2021-11-24T07:54:46.372Z"
   },
   {
    "duration": 299,
    "start_time": "2021-11-24T07:54:54.294Z"
   },
   {
    "duration": 352,
    "start_time": "2021-11-24T07:55:02.894Z"
   },
   {
    "duration": 425,
    "start_time": "2021-11-24T07:55:28.511Z"
   },
   {
    "duration": 369,
    "start_time": "2021-11-24T07:55:55.158Z"
   },
   {
    "duration": 373,
    "start_time": "2021-11-24T07:56:16.213Z"
   },
   {
    "duration": 364,
    "start_time": "2021-11-24T07:56:28.440Z"
   },
   {
    "duration": 399,
    "start_time": "2021-11-24T07:57:05.841Z"
   },
   {
    "duration": 569,
    "start_time": "2021-11-24T08:00:36.208Z"
   },
   {
    "duration": 397,
    "start_time": "2021-11-24T08:01:17.167Z"
   },
   {
    "duration": 399,
    "start_time": "2021-11-24T08:01:30.772Z"
   },
   {
    "duration": 427,
    "start_time": "2021-11-24T08:01:48.916Z"
   },
   {
    "duration": 423,
    "start_time": "2021-11-24T08:01:57.892Z"
   },
   {
    "duration": 407,
    "start_time": "2021-11-24T08:02:04.485Z"
   },
   {
    "duration": 12,
    "start_time": "2021-11-24T08:04:13.074Z"
   },
   {
    "duration": 400,
    "start_time": "2021-11-24T08:06:34.185Z"
   },
   {
    "duration": 374,
    "start_time": "2021-11-24T08:06:53.260Z"
   },
   {
    "duration": 556,
    "start_time": "2021-11-24T08:07:11.834Z"
   },
   {
    "duration": 718,
    "start_time": "2021-11-24T08:08:34.359Z"
   },
   {
    "duration": 324,
    "start_time": "2021-11-24T08:08:52.996Z"
   },
   {
    "duration": 324,
    "start_time": "2021-11-24T08:09:03.912Z"
   },
   {
    "duration": 400,
    "start_time": "2021-11-24T08:10:38.418Z"
   },
   {
    "duration": 338,
    "start_time": "2021-11-24T08:10:58.950Z"
   },
   {
    "duration": 394,
    "start_time": "2021-11-24T08:11:30.988Z"
   },
   {
    "duration": 364,
    "start_time": "2021-11-24T08:12:22.415Z"
   },
   {
    "duration": 341,
    "start_time": "2021-11-24T08:13:12.124Z"
   },
   {
    "duration": 360,
    "start_time": "2021-11-24T08:13:22.146Z"
   },
   {
    "duration": 372,
    "start_time": "2021-11-24T08:13:35.224Z"
   },
   {
    "duration": 355,
    "start_time": "2021-11-24T08:13:57.977Z"
   },
   {
    "duration": 365,
    "start_time": "2021-11-24T08:13:59.583Z"
   },
   {
    "duration": 390,
    "start_time": "2021-11-24T08:14:08.046Z"
   },
   {
    "duration": 282,
    "start_time": "2021-11-24T08:14:14.268Z"
   },
   {
    "duration": 389,
    "start_time": "2021-11-24T08:14:33.263Z"
   },
   {
    "duration": 10159,
    "start_time": "2021-11-24T08:14:42.633Z"
   },
   {
    "duration": -8379,
    "start_time": "2021-11-24T08:15:15.096Z"
   },
   {
    "duration": 237,
    "start_time": "2021-11-24T08:15:28.969Z"
   },
   {
    "duration": 297,
    "start_time": "2021-11-24T08:15:55.686Z"
   },
   {
    "duration": 282,
    "start_time": "2021-11-24T08:16:21.063Z"
   },
   {
    "duration": 290,
    "start_time": "2021-11-24T08:16:35.187Z"
   },
   {
    "duration": 13,
    "start_time": "2021-11-24T08:17:53.097Z"
   },
   {
    "duration": 288,
    "start_time": "2021-11-24T08:18:08.636Z"
   },
   {
    "duration": 336,
    "start_time": "2021-11-24T08:18:25.507Z"
   },
   {
    "duration": 124,
    "start_time": "2021-11-24T08:19:04.931Z"
   },
   {
    "duration": 123,
    "start_time": "2021-11-24T08:19:10.041Z"
   },
   {
    "duration": 386,
    "start_time": "2021-11-24T08:19:46.982Z"
   },
   {
    "duration": 398,
    "start_time": "2021-11-24T08:20:43.314Z"
   },
   {
    "duration": 386,
    "start_time": "2021-11-24T08:20:54.566Z"
   },
   {
    "duration": 586,
    "start_time": "2021-11-24T08:22:04.344Z"
   },
   {
    "duration": 412,
    "start_time": "2021-11-24T08:22:14.897Z"
   },
   {
    "duration": 361,
    "start_time": "2021-11-24T08:22:54.849Z"
   },
   {
    "duration": 379,
    "start_time": "2021-11-24T08:23:12.613Z"
   },
   {
    "duration": 376,
    "start_time": "2021-11-24T08:23:21.693Z"
   },
   {
    "duration": 394,
    "start_time": "2021-11-24T08:26:41.495Z"
   },
   {
    "duration": 1047,
    "start_time": "2021-11-24T08:33:37.169Z"
   },
   {
    "duration": 410,
    "start_time": "2021-11-24T08:34:30.750Z"
   },
   {
    "duration": 869,
    "start_time": "2021-11-24T08:36:22.841Z"
   },
   {
    "duration": 343,
    "start_time": "2021-11-24T08:38:57.682Z"
   },
   {
    "duration": 368,
    "start_time": "2021-11-24T08:39:24.315Z"
   },
   {
    "duration": 580,
    "start_time": "2021-11-24T08:39:41.085Z"
   },
   {
    "duration": 781,
    "start_time": "2021-11-24T08:46:29.954Z"
   },
   {
    "duration": 1062,
    "start_time": "2021-11-24T08:47:00.473Z"
   },
   {
    "duration": 868,
    "start_time": "2021-11-24T08:47:10.665Z"
   },
   {
    "duration": 882,
    "start_time": "2021-11-24T08:50:11.311Z"
   },
   {
    "duration": 917,
    "start_time": "2021-11-24T08:53:44.666Z"
   },
   {
    "duration": 545,
    "start_time": "2021-11-24T08:54:00.882Z"
   },
   {
    "duration": 581,
    "start_time": "2021-11-24T08:54:25.644Z"
   },
   {
    "duration": 1089,
    "start_time": "2021-11-24T08:54:40.154Z"
   },
   {
    "duration": 560,
    "start_time": "2021-11-24T08:54:51.893Z"
   },
   {
    "duration": 403,
    "start_time": "2021-11-24T08:57:51.925Z"
   },
   {
    "duration": 542,
    "start_time": "2021-11-24T08:59:57.190Z"
   },
   {
    "duration": 265,
    "start_time": "2021-11-24T09:00:28.813Z"
   },
   {
    "duration": 374,
    "start_time": "2021-11-24T09:01:14.692Z"
   },
   {
    "duration": 1534,
    "start_time": "2021-11-24T09:01:50.022Z"
   },
   {
    "duration": 1758,
    "start_time": "2021-11-24T09:02:33.128Z"
   },
   {
    "duration": 1583,
    "start_time": "2021-11-24T09:03:06.163Z"
   },
   {
    "duration": 1628,
    "start_time": "2021-11-24T09:05:34.649Z"
   },
   {
    "duration": 1894,
    "start_time": "2021-11-24T09:05:55.641Z"
   },
   {
    "duration": 1744,
    "start_time": "2021-11-24T09:06:37.422Z"
   },
   {
    "duration": 1799,
    "start_time": "2021-11-24T09:07:05.326Z"
   },
   {
    "duration": 1724,
    "start_time": "2021-11-24T09:07:18.630Z"
   },
   {
    "duration": 532,
    "start_time": "2021-11-24T09:09:16.534Z"
   },
   {
    "duration": 368,
    "start_time": "2021-11-24T09:09:30.675Z"
   },
   {
    "duration": 1900,
    "start_time": "2021-11-24T09:09:40.604Z"
   },
   {
    "duration": 355,
    "start_time": "2021-11-24T09:10:12.704Z"
   },
   {
    "duration": 141,
    "start_time": "2021-11-24T09:10:31.831Z"
   },
   {
    "duration": 342,
    "start_time": "2021-11-24T09:10:36.402Z"
   },
   {
    "duration": 352,
    "start_time": "2021-11-24T09:11:06.074Z"
   },
   {
    "duration": 350,
    "start_time": "2021-11-24T09:11:22.025Z"
   },
   {
    "duration": 362,
    "start_time": "2021-11-24T09:23:22.581Z"
   },
   {
    "duration": 358,
    "start_time": "2021-11-24T09:23:31.292Z"
   },
   {
    "duration": 8,
    "start_time": "2021-11-24T09:23:46.141Z"
   },
   {
    "duration": 356,
    "start_time": "2021-11-24T09:24:05.326Z"
   },
   {
    "duration": 8,
    "start_time": "2021-11-24T09:24:10.570Z"
   },
   {
    "duration": 17,
    "start_time": "2021-11-24T09:24:16.082Z"
   },
   {
    "duration": 602,
    "start_time": "2021-11-24T09:24:40.253Z"
   },
   {
    "duration": 361,
    "start_time": "2021-11-24T09:24:54.801Z"
   },
   {
    "duration": 337,
    "start_time": "2021-11-24T09:25:20.258Z"
   },
   {
    "duration": 107,
    "start_time": "2021-11-24T09:27:35.738Z"
   },
   {
    "duration": 338,
    "start_time": "2021-11-24T09:27:47.050Z"
   },
   {
    "duration": 332,
    "start_time": "2021-11-24T09:28:12.698Z"
   },
   {
    "duration": 426,
    "start_time": "2021-11-24T09:29:07.496Z"
   },
   {
    "duration": 345,
    "start_time": "2021-11-24T09:29:09.176Z"
   },
   {
    "duration": 1545,
    "start_time": "2021-11-24T09:29:20.040Z"
   },
   {
    "duration": 1621,
    "start_time": "2021-11-24T09:32:20.954Z"
   },
   {
    "duration": 1960,
    "start_time": "2021-11-24T09:32:50.621Z"
   },
   {
    "duration": 873,
    "start_time": "2021-11-24T09:33:08.396Z"
   },
   {
    "duration": 600,
    "start_time": "2021-11-24T09:33:24.788Z"
   },
   {
    "duration": 344,
    "start_time": "2021-11-24T09:33:30.260Z"
   },
   {
    "duration": 987,
    "start_time": "2021-11-24T09:33:52.389Z"
   },
   {
    "duration": 872,
    "start_time": "2021-11-24T09:33:59.672Z"
   },
   {
    "duration": 840,
    "start_time": "2021-11-24T09:34:08.418Z"
   },
   {
    "duration": 854,
    "start_time": "2021-11-24T09:35:25.506Z"
   },
   {
    "duration": 845,
    "start_time": "2021-11-24T09:35:48.035Z"
   },
   {
    "duration": 661,
    "start_time": "2021-11-24T09:42:56.870Z"
   },
   {
    "duration": 638,
    "start_time": "2021-11-24T09:44:16.493Z"
   },
   {
    "duration": 629,
    "start_time": "2021-11-24T09:45:17.042Z"
   },
   {
    "duration": 606,
    "start_time": "2021-11-24T09:48:57.836Z"
   },
   {
    "duration": 603,
    "start_time": "2021-11-24T09:49:28.668Z"
   },
   {
    "duration": 604,
    "start_time": "2021-11-24T09:49:39.469Z"
   },
   {
    "duration": 3446,
    "start_time": "2021-11-24T09:49:48.656Z"
   },
   {
    "duration": 647,
    "start_time": "2021-11-24T09:49:54.007Z"
   },
   {
    "duration": 674,
    "start_time": "2021-11-24T09:50:15.897Z"
   },
   {
    "duration": 1104,
    "start_time": "2021-11-24T09:51:02.774Z"
   },
   {
    "duration": 582,
    "start_time": "2021-11-24T09:52:42.276Z"
   },
   {
    "duration": 946,
    "start_time": "2021-11-24T09:52:49.779Z"
   },
   {
    "duration": 596,
    "start_time": "2021-11-24T09:55:16.782Z"
   },
   {
    "duration": 832,
    "start_time": "2021-11-24T09:55:49.421Z"
   },
   {
    "duration": 790,
    "start_time": "2021-11-24T09:55:53.813Z"
   },
   {
    "duration": 769,
    "start_time": "2021-11-24T09:55:56.572Z"
   },
   {
    "duration": 16,
    "start_time": "2021-11-24T09:56:33.897Z"
   },
   {
    "duration": 11,
    "start_time": "2021-11-24T09:56:57.778Z"
   },
   {
    "duration": 11,
    "start_time": "2021-11-24T10:02:57.688Z"
   },
   {
    "duration": 379,
    "start_time": "2021-11-24T10:03:18.528Z"
   },
   {
    "duration": 11,
    "start_time": "2021-11-24T10:03:24.713Z"
   },
   {
    "duration": 13,
    "start_time": "2021-11-24T10:03:30.257Z"
   },
   {
    "duration": 9,
    "start_time": "2021-11-24T10:03:34.850Z"
   },
   {
    "duration": 8,
    "start_time": "2021-11-24T10:03:38.105Z"
   },
   {
    "duration": 9,
    "start_time": "2021-11-24T10:03:45.701Z"
   },
   {
    "duration": 479,
    "start_time": "2021-11-24T10:04:05.252Z"
   },
   {
    "duration": 8,
    "start_time": "2021-11-24T10:04:15.046Z"
   },
   {
    "duration": 329,
    "start_time": "2021-11-24T10:05:36.440Z"
   },
   {
    "duration": 17,
    "start_time": "2021-11-24T10:05:43.331Z"
   },
   {
    "duration": 14,
    "start_time": "2021-11-24T10:06:10.678Z"
   },
   {
    "duration": 15,
    "start_time": "2021-11-24T10:06:33.187Z"
   },
   {
    "duration": 5778,
    "start_time": "2021-11-24T10:09:17.971Z"
   },
   {
    "duration": 484,
    "start_time": "2021-11-24T10:09:23.753Z"
   },
   {
    "duration": 92,
    "start_time": "2021-11-24T10:09:24.241Z"
   },
   {
    "duration": 84,
    "start_time": "2021-11-24T10:09:24.336Z"
   },
   {
    "duration": 84,
    "start_time": "2021-11-24T10:09:24.423Z"
   },
   {
    "duration": 201,
    "start_time": "2021-11-24T10:09:24.510Z"
   },
   {
    "duration": 50,
    "start_time": "2021-11-24T10:09:24.714Z"
   },
   {
    "duration": 4,
    "start_time": "2021-11-24T10:09:24.768Z"
   },
   {
    "duration": 236,
    "start_time": "2021-11-24T10:09:24.776Z"
   },
   {
    "duration": 106,
    "start_time": "2021-11-24T10:09:25.014Z"
   },
   {
    "duration": 103,
    "start_time": "2021-11-24T10:09:25.123Z"
   },
   {
    "duration": 149,
    "start_time": "2021-11-24T10:09:25.228Z"
   },
   {
    "duration": 5,
    "start_time": "2021-11-24T10:09:25.380Z"
   },
   {
    "duration": 73,
    "start_time": "2021-11-24T10:09:25.387Z"
   },
   {
    "duration": 341,
    "start_time": "2021-11-24T10:09:25.462Z"
   },
   {
    "duration": 194,
    "start_time": "2021-11-24T10:09:25.806Z"
   },
   {
    "duration": 4,
    "start_time": "2021-11-24T10:09:26.003Z"
   },
   {
    "duration": 10,
    "start_time": "2021-11-24T10:09:26.010Z"
   },
   {
    "duration": 10,
    "start_time": "2021-11-24T10:09:26.023Z"
   },
   {
    "duration": 7,
    "start_time": "2021-11-24T10:09:26.035Z"
   },
   {
    "duration": 5958,
    "start_time": "2021-11-24T10:09:26.045Z"
   },
   {
    "duration": 15,
    "start_time": "2021-11-24T10:09:32.005Z"
   },
   {
    "duration": 489,
    "start_time": "2021-11-24T10:09:32.024Z"
   },
   {
    "duration": 508,
    "start_time": "2021-11-24T10:09:32.516Z"
   },
   {
    "duration": -8172,
    "start_time": "2021-11-24T10:09:41.198Z"
   },
   {
    "duration": -8172,
    "start_time": "2021-11-24T10:09:41.200Z"
   },
   {
    "duration": 338,
    "start_time": "2021-11-24T10:13:44.329Z"
   },
   {
    "duration": 823,
    "start_time": "2021-11-24T10:13:55.013Z"
   },
   {
    "duration": 16,
    "start_time": "2021-11-24T10:13:58.517Z"
   },
   {
    "duration": 11,
    "start_time": "2021-11-24T10:13:58.770Z"
   },
   {
    "duration": 4938,
    "start_time": "2021-11-24T10:14:09.971Z"
   },
   {
    "duration": 501,
    "start_time": "2021-11-24T10:14:14.912Z"
   },
   {
    "duration": 92,
    "start_time": "2021-11-24T10:14:15.417Z"
   },
   {
    "duration": 90,
    "start_time": "2021-11-24T10:14:15.512Z"
   },
   {
    "duration": 69,
    "start_time": "2021-11-24T10:14:15.605Z"
   },
   {
    "duration": 224,
    "start_time": "2021-11-24T10:14:15.700Z"
   },
   {
    "duration": 74,
    "start_time": "2021-11-24T10:14:15.927Z"
   },
   {
    "duration": 4,
    "start_time": "2021-11-24T10:14:16.006Z"
   },
   {
    "duration": 227,
    "start_time": "2021-11-24T10:14:16.015Z"
   },
   {
    "duration": 110,
    "start_time": "2021-11-24T10:14:16.245Z"
   },
   {
    "duration": 107,
    "start_time": "2021-11-24T10:14:16.357Z"
   },
   {
    "duration": 185,
    "start_time": "2021-11-24T10:14:16.466Z"
   },
   {
    "duration": 5,
    "start_time": "2021-11-24T10:14:16.653Z"
   },
   {
    "duration": 77,
    "start_time": "2021-11-24T10:14:16.661Z"
   },
   {
    "duration": 362,
    "start_time": "2021-11-24T10:14:16.740Z"
   },
   {
    "duration": 196,
    "start_time": "2021-11-24T10:14:17.106Z"
   },
   {
    "duration": 4,
    "start_time": "2021-11-24T10:14:17.305Z"
   },
   {
    "duration": 9,
    "start_time": "2021-11-24T10:14:17.312Z"
   },
   {
    "duration": 7,
    "start_time": "2021-11-24T10:14:17.323Z"
   },
   {
    "duration": 8,
    "start_time": "2021-11-24T10:14:17.333Z"
   },
   {
    "duration": 6023,
    "start_time": "2021-11-24T10:14:17.343Z"
   },
   {
    "duration": 34,
    "start_time": "2021-11-24T10:14:23.369Z"
   },
   {
    "duration": 495,
    "start_time": "2021-11-24T10:14:23.409Z"
   },
   {
    "duration": 878,
    "start_time": "2021-11-24T10:14:23.906Z"
   },
   {
    "duration": 20,
    "start_time": "2021-11-24T10:14:24.787Z"
   },
   {
    "duration": 18,
    "start_time": "2021-11-24T10:14:24.810Z"
   }
  ],
  "kernelspec": {
   "display_name": "Python 3 (ipykernel)",
   "language": "python",
   "name": "python3"
  },
  "language_info": {
   "codemirror_mode": {
    "name": "ipython",
    "version": 3
   },
   "file_extension": ".py",
   "mimetype": "text/x-python",
   "name": "python",
   "nbconvert_exporter": "python",
   "pygments_lexer": "ipython3",
   "version": "3.8.13"
  },
  "toc": {
   "base_numbering": 1,
   "nav_menu": {},
   "number_sections": true,
   "sideBar": true,
   "skip_h1_title": true,
   "title_cell": "Table of Contents",
   "title_sidebar": "Contents",
   "toc_cell": false,
   "toc_position": {},
   "toc_section_display": true,
   "toc_window_display": false
  }
 },
 "nbformat": 4,
 "nbformat_minor": 2
}
