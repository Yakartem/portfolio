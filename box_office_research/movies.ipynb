{
 "cells": [
  {
   "cell_type": "code",
   "execution_count": 1,
   "metadata": {},
   "outputs": [],
   "source": [
    "import pandas as pd\n",
    "import seaborn as sns\n",
    "import matplotlib.pyplot as plt\n",
    "import numpy as np"
   ]
  },
  {
   "cell_type": "markdown",
   "metadata": {
    "id": "sIfNaMOxgFyK"
   },
   "source": [
    "# Исследование данных о российском кинопрокате\n",
    "\n"
   ]
  },
  {
   "cell_type": "markdown",
   "metadata": {
    "id": "3bSlkCsbgFyL"
   },
   "source": [
    "### Шаг 1. Откроем файлы с данными и объединим их в один датафрейм. "
   ]
  },
  {
   "cell_type": "markdown",
   "metadata": {},
   "source": [
    "Для начала прочитаем оба предоставленных датасета, посмотрим что в них есть, с чем предстоит работать:"
   ]
  },
  {
   "cell_type": "code",
   "execution_count": 2,
   "metadata": {
    "id": "dw87FlzMgFyM"
   },
   "outputs": [],
   "source": [
    "df = pd.read_csv('./datasets/mkrf_movies.csv')\n",
    "df_box = pd.read_csv('./datasets/mkrf_shows.csv')"
   ]
  },
  {
   "cell_type": "code",
   "execution_count": 3,
   "metadata": {
    "scrolled": false
   },
   "outputs": [
    {
     "data": {
      "text/html": [
       "<div>\n",
       "<style scoped>\n",
       "    .dataframe tbody tr th:only-of-type {\n",
       "        vertical-align: middle;\n",
       "    }\n",
       "\n",
       "    .dataframe tbody tr th {\n",
       "        vertical-align: top;\n",
       "    }\n",
       "\n",
       "    .dataframe thead th {\n",
       "        text-align: right;\n",
       "    }\n",
       "</style>\n",
       "<table border=\"1\" class=\"dataframe\">\n",
       "  <thead>\n",
       "    <tr style=\"text-align: right;\">\n",
       "      <th></th>\n",
       "      <th>title</th>\n",
       "      <th>puNumber</th>\n",
       "      <th>show_start_date</th>\n",
       "      <th>type</th>\n",
       "      <th>film_studio</th>\n",
       "      <th>production_country</th>\n",
       "      <th>director</th>\n",
       "      <th>producer</th>\n",
       "      <th>age_restriction</th>\n",
       "      <th>refundable_support</th>\n",
       "      <th>nonrefundable_support</th>\n",
       "      <th>budget</th>\n",
       "      <th>financing_source</th>\n",
       "      <th>ratings</th>\n",
       "      <th>genres</th>\n",
       "    </tr>\n",
       "  </thead>\n",
       "  <tbody>\n",
       "    <tr>\n",
       "      <th>0</th>\n",
       "      <td>Открытый простор</td>\n",
       "      <td>221048915</td>\n",
       "      <td>2015-11-27T12:00:00.000Z</td>\n",
       "      <td>Художественный</td>\n",
       "      <td>Тачстоун Пикчерз, Кобальт Пикчерз, Бикон Пикче...</td>\n",
       "      <td>США</td>\n",
       "      <td>Кевин Костнер</td>\n",
       "      <td>Дэвид Валдес, Кевин Костнер, Джейк Эбертс</td>\n",
       "      <td>«18+» - запрещено для детей</td>\n",
       "      <td>NaN</td>\n",
       "      <td>NaN</td>\n",
       "      <td>NaN</td>\n",
       "      <td>NaN</td>\n",
       "      <td>7.2</td>\n",
       "      <td>боевик,драма,мелодрама</td>\n",
       "    </tr>\n",
       "    <tr>\n",
       "      <th>1</th>\n",
       "      <td>Особо важное задание</td>\n",
       "      <td>111013716</td>\n",
       "      <td>2016-09-13T12:00:00.000Z</td>\n",
       "      <td>Художественный</td>\n",
       "      <td>Киностудия \"Мосфильм\"</td>\n",
       "      <td>СССР</td>\n",
       "      <td>Е.Матвеев</td>\n",
       "      <td>NaN</td>\n",
       "      <td>«6+» - для детей старше 6 лет</td>\n",
       "      <td>NaN</td>\n",
       "      <td>NaN</td>\n",
       "      <td>NaN</td>\n",
       "      <td>NaN</td>\n",
       "      <td>6.6</td>\n",
       "      <td>драма,военный</td>\n",
       "    </tr>\n",
       "    <tr>\n",
       "      <th>2</th>\n",
       "      <td>Особо опасен</td>\n",
       "      <td>221038416</td>\n",
       "      <td>2016-10-10T12:00:00.000Z</td>\n",
       "      <td>Художественный</td>\n",
       "      <td>Юниверсал Пикчерз, Кикстарт Продакшнз, Марк Пл...</td>\n",
       "      <td>США</td>\n",
       "      <td>Тимур Бекмамбетов</td>\n",
       "      <td>Джим Лемли, Джейсон Нетер, Марк Е.Платт, Яйн Смит</td>\n",
       "      <td>«18+» - запрещено для детей</td>\n",
       "      <td>NaN</td>\n",
       "      <td>NaN</td>\n",
       "      <td>NaN</td>\n",
       "      <td>NaN</td>\n",
       "      <td>6.8</td>\n",
       "      <td>фантастика,боевик,триллер</td>\n",
       "    </tr>\n",
       "    <tr>\n",
       "      <th>3</th>\n",
       "      <td>Особо опасен</td>\n",
       "      <td>221026916</td>\n",
       "      <td>2016-06-10T12:00:00.000Z</td>\n",
       "      <td>Художественный</td>\n",
       "      <td>Юниверсал Пикчерз, Кикстарт Продакшнз, Марк Пл...</td>\n",
       "      <td>США</td>\n",
       "      <td>Тимур Бекмамбетов</td>\n",
       "      <td>Джим Лемли, Джейсон Нетер, Марк Е.Платт, Яйн Смит</td>\n",
       "      <td>«18+» - запрещено для детей</td>\n",
       "      <td>NaN</td>\n",
       "      <td>NaN</td>\n",
       "      <td>NaN</td>\n",
       "      <td>NaN</td>\n",
       "      <td>6.8</td>\n",
       "      <td>фантастика,боевик,триллер</td>\n",
       "    </tr>\n",
       "    <tr>\n",
       "      <th>4</th>\n",
       "      <td>Особо опасен</td>\n",
       "      <td>221030815</td>\n",
       "      <td>2015-07-29T12:00:00.000Z</td>\n",
       "      <td>Художественный</td>\n",
       "      <td>Юниверсал Пикчерз, Кикстарт Продакшнз, Марк Пл...</td>\n",
       "      <td>США</td>\n",
       "      <td>Тимур Бекмамбетов</td>\n",
       "      <td>Джим Лемли, Джейсон Нетер, Марк Е.Платт, Яйн Смит</td>\n",
       "      <td>«18+» - запрещено для детей</td>\n",
       "      <td>NaN</td>\n",
       "      <td>NaN</td>\n",
       "      <td>NaN</td>\n",
       "      <td>NaN</td>\n",
       "      <td>6.8</td>\n",
       "      <td>фантастика,боевик,триллер</td>\n",
       "    </tr>\n",
       "    <tr>\n",
       "      <th>...</th>\n",
       "      <td>...</td>\n",
       "      <td>...</td>\n",
       "      <td>...</td>\n",
       "      <td>...</td>\n",
       "      <td>...</td>\n",
       "      <td>...</td>\n",
       "      <td>...</td>\n",
       "      <td>...</td>\n",
       "      <td>...</td>\n",
       "      <td>...</td>\n",
       "      <td>...</td>\n",
       "      <td>...</td>\n",
       "      <td>...</td>\n",
       "      <td>...</td>\n",
       "      <td>...</td>\n",
       "    </tr>\n",
       "    <tr>\n",
       "      <th>7481</th>\n",
       "      <td>Сад художника: Американский импрессионизм</td>\n",
       "      <td>126008019</td>\n",
       "      <td>2019-12-23T12:00:00.000Z</td>\n",
       "      <td>Прочие</td>\n",
       "      <td>Севен Артс Продакшнз</td>\n",
       "      <td>Великобритания</td>\n",
       "      <td>Фил Грабски</td>\n",
       "      <td>Фил Грабски</td>\n",
       "      <td>«12+» - для детей старше 12 лет</td>\n",
       "      <td>NaN</td>\n",
       "      <td>NaN</td>\n",
       "      <td>NaN</td>\n",
       "      <td>NaN</td>\n",
       "      <td>NaN</td>\n",
       "      <td>NaN</td>\n",
       "    </tr>\n",
       "    <tr>\n",
       "      <th>7482</th>\n",
       "      <td>Звериная ярость</td>\n",
       "      <td>121037819</td>\n",
       "      <td>2019-12-24T12:00:00.000Z</td>\n",
       "      <td>Художественный</td>\n",
       "      <td>Дэниел Гродник Продакшнз, Вандерфилм Медиа Кор...</td>\n",
       "      <td>США</td>\n",
       "      <td>Ник Пауэлл</td>\n",
       "      <td>Джефф Боулер, Дэниэл Гродник, Луильо Руис, Брэ...</td>\n",
       "      <td>«16+» - для детей старше 16 лет</td>\n",
       "      <td>NaN</td>\n",
       "      <td>NaN</td>\n",
       "      <td>NaN</td>\n",
       "      <td>NaN</td>\n",
       "      <td>5.4</td>\n",
       "      <td>боевик,триллер</td>\n",
       "    </tr>\n",
       "    <tr>\n",
       "      <th>7483</th>\n",
       "      <td>Щенячий патруль: Скорей спешим на помощь!</td>\n",
       "      <td>124010819</td>\n",
       "      <td>2019-12-28T12:00:00.000Z</td>\n",
       "      <td>Художественный</td>\n",
       "      <td>Никелодеон Анимейшн Студиос, Спин Мастер</td>\n",
       "      <td>США - Канада</td>\n",
       "      <td>Чарльз Е.Бастьен</td>\n",
       "      <td>Дженнифер Додж</td>\n",
       "      <td>«0+» - для любой зрительской аудитории</td>\n",
       "      <td>NaN</td>\n",
       "      <td>NaN</td>\n",
       "      <td>NaN</td>\n",
       "      <td>NaN</td>\n",
       "      <td>NaN</td>\n",
       "      <td>NaN</td>\n",
       "    </tr>\n",
       "    <tr>\n",
       "      <th>7484</th>\n",
       "      <td>Машины песенки. Серия \"Испанские мотивы\"</td>\n",
       "      <td>124010619</td>\n",
       "      <td>2019-12-30T12:00:00.000Z</td>\n",
       "      <td>Анимационный</td>\n",
       "      <td>Анимаккорд Лтд., ООО Студия \"АНИМАККОРД\"</td>\n",
       "      <td>Республика Кипр, Россия</td>\n",
       "      <td>А.Беляев</td>\n",
       "      <td>Д.Ловейко</td>\n",
       "      <td>«0+» - для любой зрительской аудитории</td>\n",
       "      <td>NaN</td>\n",
       "      <td>NaN</td>\n",
       "      <td>NaN</td>\n",
       "      <td>NaN</td>\n",
       "      <td>NaN</td>\n",
       "      <td>NaN</td>\n",
       "    </tr>\n",
       "    <tr>\n",
       "      <th>7485</th>\n",
       "      <td>Машины песенки. Серия \"Когда цветут кактусы\"</td>\n",
       "      <td>124010719</td>\n",
       "      <td>2019-12-30T12:00:00.000Z</td>\n",
       "      <td>Анимационный</td>\n",
       "      <td>Анимаккорд Лтд., ООО Студия \"АНИМАККОРД\"</td>\n",
       "      <td>Республика Кипр, Россия</td>\n",
       "      <td>И.Трусов</td>\n",
       "      <td>Д.Ловейко</td>\n",
       "      <td>«0+» - для любой зрительской аудитории</td>\n",
       "      <td>NaN</td>\n",
       "      <td>NaN</td>\n",
       "      <td>NaN</td>\n",
       "      <td>NaN</td>\n",
       "      <td>6.3</td>\n",
       "      <td>комедия,вестерн</td>\n",
       "    </tr>\n",
       "  </tbody>\n",
       "</table>\n",
       "<p>7486 rows × 15 columns</p>\n",
       "</div>"
      ],
      "text/plain": [
       "                                             title   puNumber  \\\n",
       "0                                 Открытый простор  221048915   \n",
       "1                             Особо важное задание  111013716   \n",
       "2                                     Особо опасен  221038416   \n",
       "3                                     Особо опасен  221026916   \n",
       "4                                     Особо опасен  221030815   \n",
       "...                                            ...        ...   \n",
       "7481     Сад художника: Американский импрессионизм  126008019   \n",
       "7482                               Звериная ярость  121037819   \n",
       "7483     Щенячий патруль: Скорей спешим на помощь!  124010819   \n",
       "7484      Машины песенки. Серия \"Испанские мотивы\"  124010619   \n",
       "7485  Машины песенки. Серия \"Когда цветут кактусы\"  124010719   \n",
       "\n",
       "               show_start_date             type  \\\n",
       "0     2015-11-27T12:00:00.000Z   Художественный   \n",
       "1     2016-09-13T12:00:00.000Z   Художественный   \n",
       "2     2016-10-10T12:00:00.000Z   Художественный   \n",
       "3     2016-06-10T12:00:00.000Z   Художественный   \n",
       "4     2015-07-29T12:00:00.000Z   Художественный   \n",
       "...                        ...              ...   \n",
       "7481  2019-12-23T12:00:00.000Z           Прочие   \n",
       "7482  2019-12-24T12:00:00.000Z   Художественный   \n",
       "7483  2019-12-28T12:00:00.000Z   Художественный   \n",
       "7484  2019-12-30T12:00:00.000Z     Анимационный   \n",
       "7485  2019-12-30T12:00:00.000Z     Анимационный   \n",
       "\n",
       "                                            film_studio  \\\n",
       "0     Тачстоун Пикчерз, Кобальт Пикчерз, Бикон Пикче...   \n",
       "1                                 Киностудия \"Мосфильм\"   \n",
       "2     Юниверсал Пикчерз, Кикстарт Продакшнз, Марк Пл...   \n",
       "3     Юниверсал Пикчерз, Кикстарт Продакшнз, Марк Пл...   \n",
       "4     Юниверсал Пикчерз, Кикстарт Продакшнз, Марк Пл...   \n",
       "...                                                 ...   \n",
       "7481                               Севен Артс Продакшнз   \n",
       "7482  Дэниел Гродник Продакшнз, Вандерфилм Медиа Кор...   \n",
       "7483           Никелодеон Анимейшн Студиос, Спин Мастер   \n",
       "7484           Анимаккорд Лтд., ООО Студия \"АНИМАККОРД\"   \n",
       "7485           Анимаккорд Лтд., ООО Студия \"АНИМАККОРД\"   \n",
       "\n",
       "           production_country           director  \\\n",
       "0                         США      Кевин Костнер   \n",
       "1                        СССР          Е.Матвеев   \n",
       "2                         США  Тимур Бекмамбетов   \n",
       "3                         США  Тимур Бекмамбетов   \n",
       "4                         США  Тимур Бекмамбетов   \n",
       "...                       ...                ...   \n",
       "7481           Великобритания        Фил Грабски   \n",
       "7482                      США         Ник Пауэлл   \n",
       "7483             США - Канада   Чарльз Е.Бастьен   \n",
       "7484  Республика Кипр, Россия           А.Беляев   \n",
       "7485  Республика Кипр, Россия           И.Трусов   \n",
       "\n",
       "                                               producer  \\\n",
       "0             Дэвид Валдес, Кевин Костнер, Джейк Эбертс   \n",
       "1                                                   NaN   \n",
       "2     Джим Лемли, Джейсон Нетер, Марк Е.Платт, Яйн Смит   \n",
       "3     Джим Лемли, Джейсон Нетер, Марк Е.Платт, Яйн Смит   \n",
       "4     Джим Лемли, Джейсон Нетер, Марк Е.Платт, Яйн Смит   \n",
       "...                                                 ...   \n",
       "7481                                        Фил Грабски   \n",
       "7482  Джефф Боулер, Дэниэл Гродник, Луильо Руис, Брэ...   \n",
       "7483                                     Дженнифер Додж   \n",
       "7484                                          Д.Ловейко   \n",
       "7485                                          Д.Ловейко   \n",
       "\n",
       "                             age_restriction  refundable_support  \\\n",
       "0                «18+» - запрещено для детей                 NaN   \n",
       "1              «6+» - для детей старше 6 лет                 NaN   \n",
       "2                «18+» - запрещено для детей                 NaN   \n",
       "3                «18+» - запрещено для детей                 NaN   \n",
       "4                «18+» - запрещено для детей                 NaN   \n",
       "...                                      ...                 ...   \n",
       "7481         «12+» - для детей старше 12 лет                 NaN   \n",
       "7482         «16+» - для детей старше 16 лет                 NaN   \n",
       "7483  «0+» - для любой зрительской аудитории                 NaN   \n",
       "7484  «0+» - для любой зрительской аудитории                 NaN   \n",
       "7485  «0+» - для любой зрительской аудитории                 NaN   \n",
       "\n",
       "      nonrefundable_support  budget financing_source ratings  \\\n",
       "0                       NaN     NaN              NaN     7.2   \n",
       "1                       NaN     NaN              NaN     6.6   \n",
       "2                       NaN     NaN              NaN     6.8   \n",
       "3                       NaN     NaN              NaN     6.8   \n",
       "4                       NaN     NaN              NaN     6.8   \n",
       "...                     ...     ...              ...     ...   \n",
       "7481                    NaN     NaN              NaN     NaN   \n",
       "7482                    NaN     NaN              NaN     5.4   \n",
       "7483                    NaN     NaN              NaN     NaN   \n",
       "7484                    NaN     NaN              NaN     NaN   \n",
       "7485                    NaN     NaN              NaN     6.3   \n",
       "\n",
       "                         genres  \n",
       "0        боевик,драма,мелодрама  \n",
       "1                 драма,военный  \n",
       "2     фантастика,боевик,триллер  \n",
       "3     фантастика,боевик,триллер  \n",
       "4     фантастика,боевик,триллер  \n",
       "...                         ...  \n",
       "7481                        NaN  \n",
       "7482             боевик,триллер  \n",
       "7483                        NaN  \n",
       "7484                        NaN  \n",
       "7485            комедия,вестерн  \n",
       "\n",
       "[7486 rows x 15 columns]"
      ]
     },
     "execution_count": 3,
     "metadata": {},
     "output_type": "execute_result"
    }
   ],
   "source": [
    "df"
   ]
  },
  {
   "cell_type": "code",
   "execution_count": 4,
   "metadata": {
    "scrolled": false
   },
   "outputs": [
    {
     "data": {
      "text/html": [
       "<div>\n",
       "<style scoped>\n",
       "    .dataframe tbody tr th:only-of-type {\n",
       "        vertical-align: middle;\n",
       "    }\n",
       "\n",
       "    .dataframe tbody tr th {\n",
       "        vertical-align: top;\n",
       "    }\n",
       "\n",
       "    .dataframe thead th {\n",
       "        text-align: right;\n",
       "    }\n",
       "</style>\n",
       "<table border=\"1\" class=\"dataframe\">\n",
       "  <thead>\n",
       "    <tr style=\"text-align: right;\">\n",
       "      <th></th>\n",
       "      <th>puNumber</th>\n",
       "      <th>box_office</th>\n",
       "    </tr>\n",
       "  </thead>\n",
       "  <tbody>\n",
       "    <tr>\n",
       "      <th>0</th>\n",
       "      <td>111000113</td>\n",
       "      <td>2.450000e+03</td>\n",
       "    </tr>\n",
       "    <tr>\n",
       "      <th>1</th>\n",
       "      <td>111000115</td>\n",
       "      <td>6.104000e+04</td>\n",
       "    </tr>\n",
       "    <tr>\n",
       "      <th>2</th>\n",
       "      <td>111000116</td>\n",
       "      <td>1.530300e+08</td>\n",
       "    </tr>\n",
       "    <tr>\n",
       "      <th>3</th>\n",
       "      <td>111000117</td>\n",
       "      <td>1.226096e+07</td>\n",
       "    </tr>\n",
       "    <tr>\n",
       "      <th>4</th>\n",
       "      <td>111000118</td>\n",
       "      <td>1.636841e+08</td>\n",
       "    </tr>\n",
       "    <tr>\n",
       "      <th>...</th>\n",
       "      <td>...</td>\n",
       "      <td>...</td>\n",
       "    </tr>\n",
       "    <tr>\n",
       "      <th>3153</th>\n",
       "      <td>224014814</td>\n",
       "      <td>1.530000e+03</td>\n",
       "    </tr>\n",
       "    <tr>\n",
       "      <th>3154</th>\n",
       "      <td>224021411</td>\n",
       "      <td>9.270000e+03</td>\n",
       "    </tr>\n",
       "    <tr>\n",
       "      <th>3155</th>\n",
       "      <td>224022410</td>\n",
       "      <td>4.000000e+02</td>\n",
       "    </tr>\n",
       "    <tr>\n",
       "      <th>3156</th>\n",
       "      <td>224023210</td>\n",
       "      <td>3.600000e+02</td>\n",
       "    </tr>\n",
       "    <tr>\n",
       "      <th>3157</th>\n",
       "      <td>224026410</td>\n",
       "      <td>4.000000e+02</td>\n",
       "    </tr>\n",
       "  </tbody>\n",
       "</table>\n",
       "<p>3158 rows × 2 columns</p>\n",
       "</div>"
      ],
      "text/plain": [
       "       puNumber    box_office\n",
       "0     111000113  2.450000e+03\n",
       "1     111000115  6.104000e+04\n",
       "2     111000116  1.530300e+08\n",
       "3     111000117  1.226096e+07\n",
       "4     111000118  1.636841e+08\n",
       "...         ...           ...\n",
       "3153  224014814  1.530000e+03\n",
       "3154  224021411  9.270000e+03\n",
       "3155  224022410  4.000000e+02\n",
       "3156  224023210  3.600000e+02\n",
       "3157  224026410  4.000000e+02\n",
       "\n",
       "[3158 rows x 2 columns]"
      ]
     },
     "execution_count": 4,
     "metadata": {},
     "output_type": "execute_result"
    }
   ],
   "source": [
    "df_box"
   ]
  },
  {
   "cell_type": "code",
   "execution_count": 5,
   "metadata": {},
   "outputs": [
    {
     "name": "stdout",
     "output_type": "stream",
     "text": [
      "<class 'pandas.core.frame.DataFrame'>\n",
      "RangeIndex: 7486 entries, 0 to 7485\n",
      "Data columns (total 15 columns):\n",
      " #   Column                 Non-Null Count  Dtype  \n",
      "---  ------                 --------------  -----  \n",
      " 0   title                  7486 non-null   object \n",
      " 1   puNumber               7486 non-null   object \n",
      " 2   show_start_date        7486 non-null   object \n",
      " 3   type                   7486 non-null   object \n",
      " 4   film_studio            7468 non-null   object \n",
      " 5   production_country     7484 non-null   object \n",
      " 6   director               7477 non-null   object \n",
      " 7   producer               6918 non-null   object \n",
      " 8   age_restriction        7486 non-null   object \n",
      " 9   refundable_support     332 non-null    float64\n",
      " 10  nonrefundable_support  332 non-null    float64\n",
      " 11  budget                 332 non-null    float64\n",
      " 12  financing_source       332 non-null    object \n",
      " 13  ratings                6519 non-null   object \n",
      " 14  genres                 6510 non-null   object \n",
      "dtypes: float64(3), object(12)\n",
      "memory usage: 877.4+ KB\n"
     ]
    }
   ],
   "source": [
    "df.info()"
   ]
  },
  {
   "cell_type": "code",
   "execution_count": 6,
   "metadata": {
    "scrolled": true
   },
   "outputs": [
    {
     "name": "stdout",
     "output_type": "stream",
     "text": [
      "<class 'pandas.core.frame.DataFrame'>\n",
      "RangeIndex: 3158 entries, 0 to 3157\n",
      "Data columns (total 2 columns):\n",
      " #   Column      Non-Null Count  Dtype  \n",
      "---  ------      --------------  -----  \n",
      " 0   puNumber    3158 non-null   int64  \n",
      " 1   box_office  3158 non-null   float64\n",
      "dtypes: float64(1), int64(1)\n",
      "memory usage: 49.5 KB\n"
     ]
    }
   ],
   "source": [
    "df_box.info()"
   ]
  },
  {
   "cell_type": "markdown",
   "metadata": {},
   "source": [
    "Сразу можем сделать вывод, что оба датасета можно объеденить по номеру прокатного удостоверения `puNumber`, но как мы могли заметить, тип данных в этих столбцах отличается. Приведем эти столбцы к единому типу данных и объеденим их:"
   ]
  },
  {
   "cell_type": "code",
   "execution_count": 7,
   "metadata": {
    "scrolled": true
   },
   "outputs": [],
   "source": [
    "df['puNumber'] = pd.to_numeric(df['puNumber'], errors='coerce').astype('Int64')\n",
    "df_box['puNumber'] = df_box['puNumber'].astype('Int64')\n",
    "df = df.merge(df_box, on='puNumber', how='left')"
   ]
  },
  {
   "cell_type": "markdown",
   "metadata": {
    "id": "KLDGpPG0gFyM"
   },
   "source": [
    "### Шаг 2. Предобработка данных"
   ]
  },
  {
   "cell_type": "markdown",
   "metadata": {
    "id": "ssWwKXsxgFyO"
   },
   "source": [
    "#### Шаг 2.1. Проверим типы данных"
   ]
  },
  {
   "cell_type": "markdown",
   "metadata": {},
   "source": [
    "Изучим данные, имеющиеся в нашем распоряжении:"
   ]
  },
  {
   "cell_type": "code",
   "execution_count": 8,
   "metadata": {
    "id": "kVGSplJOgFyO"
   },
   "outputs": [
    {
     "name": "stdout",
     "output_type": "stream",
     "text": [
      "<class 'pandas.core.frame.DataFrame'>\n",
      "Int64Index: 7486 entries, 0 to 7485\n",
      "Data columns (total 16 columns):\n",
      " #   Column                 Non-Null Count  Dtype  \n",
      "---  ------                 --------------  -----  \n",
      " 0   title                  7486 non-null   object \n",
      " 1   puNumber               7485 non-null   Int64  \n",
      " 2   show_start_date        7486 non-null   object \n",
      " 3   type                   7486 non-null   object \n",
      " 4   film_studio            7468 non-null   object \n",
      " 5   production_country     7484 non-null   object \n",
      " 6   director               7477 non-null   object \n",
      " 7   producer               6918 non-null   object \n",
      " 8   age_restriction        7486 non-null   object \n",
      " 9   refundable_support     332 non-null    float64\n",
      " 10  nonrefundable_support  332 non-null    float64\n",
      " 11  budget                 332 non-null    float64\n",
      " 12  financing_source       332 non-null    object \n",
      " 13  ratings                6519 non-null   object \n",
      " 14  genres                 6510 non-null   object \n",
      " 15  box_office             3158 non-null   float64\n",
      "dtypes: Int64(1), float64(4), object(11)\n",
      "memory usage: 1001.5+ KB\n"
     ]
    }
   ],
   "source": [
    "df.info()"
   ]
  },
  {
   "cell_type": "markdown",
   "metadata": {},
   "source": [
    "Проведем изменение типов данных в следующих столбцах: `show_start_date`, `ratings`, `refundable_support`, `nonrefundable_support` и `budget`:"
   ]
  },
  {
   "cell_type": "code",
   "execution_count": 9,
   "metadata": {},
   "outputs": [],
   "source": [
    "df['show_start_date'] = pd.to_datetime(df['show_start_date'], format='%Y-%m-%dT12:00:00.000Z')"
   ]
  },
  {
   "cell_type": "code",
   "execution_count": 10,
   "metadata": {},
   "outputs": [
    {
     "data": {
      "text/plain": [
       "array(['7.2', '6.6', '6.8', '7.7', '8.3', '8.0', '7.8', '8.1', '7.1',\n",
       "       '6.0', '7.4', '5.8', '8.7', '6.3', '6.9', '5.0', '4.3', '7.3',\n",
       "       '7.0', '6.4', nan, '8.2', '7.5', '6.7', '7.9', '5.9', '6.2', '5.6',\n",
       "       '6.5', '2.4', '7.6', '6.1', '8.6', '8.5', '8.8', '5.5', '5.1',\n",
       "       '5.7', '5.4', '99%', '4.4', '4.5', '5.3', '4.1', '8.4', '2.6',\n",
       "       '3.8', '4.6', '4.8', '4.0', '3.0', '1.6', '4.2', '5.2', '4.7',\n",
       "       '4.9', '3.9', '2.7', '3.3', '2.9', '28%', '3.7', '1.4', '3.1',\n",
       "       '97%', '3.5', '3.2', '2.8', '1.5', '2.1', '2.5', '9.2', '3.4',\n",
       "       '1.1', '3.6', '83%', '64%', '91%', '94%', '62%', '79%', '90%',\n",
       "       '19%', '88%', '1.0', '89%', '1.3', '1.9', '1.8', '1.2', '1.7',\n",
       "       '9.0', '98%', '8.9', '9.1'], dtype=object)"
      ]
     },
     "execution_count": 10,
     "metadata": {},
     "output_type": "execute_result"
    }
   ],
   "source": [
    "df['ratings'].unique()"
   ]
  },
  {
   "cell_type": "code",
   "execution_count": 11,
   "metadata": {},
   "outputs": [],
   "source": [
    "def rating(string):\n",
    "    if '%' in str(string):\n",
    "        return float(string[0:-1])/10\n",
    "    else:\n",
    "        return string"
   ]
  },
  {
   "cell_type": "code",
   "execution_count": 12,
   "metadata": {
    "scrolled": true
   },
   "outputs": [],
   "source": [
    "df['ratings'] = df['ratings'].apply(rating)"
   ]
  },
  {
   "cell_type": "code",
   "execution_count": 13,
   "metadata": {},
   "outputs": [],
   "source": [
    "df['ratings'] = pd.to_numeric(df['ratings'], downcast='float')"
   ]
  },
  {
   "cell_type": "code",
   "execution_count": 14,
   "metadata": {},
   "outputs": [],
   "source": [
    "df[['refundable_support', 'nonrefundable_support', 'budget']] = df[['refundable_support', 'nonrefundable_support', 'budget']].astype('Int64')"
   ]
  },
  {
   "cell_type": "markdown",
   "metadata": {
    "id": "i0MOLbF-gFyP"
   },
   "source": [
    "#### Шаг 2.2. Изучим пропуски в датафрейме\n"
   ]
  },
  {
   "cell_type": "markdown",
   "metadata": {},
   "source": [
    "Изучим какую часть от всей длины датафрейма составляют пропуски:"
   ]
  },
  {
   "cell_type": "code",
   "execution_count": 15,
   "metadata": {
    "id": "8MJD_lkngFyP"
   },
   "outputs": [
    {
     "data": {
      "text/plain": [
       "title                    0.000000\n",
       "puNumber                 0.000134\n",
       "show_start_date          0.000000\n",
       "type                     0.000000\n",
       "film_studio              0.002404\n",
       "production_country       0.000267\n",
       "director                 0.001202\n",
       "producer                 0.075875\n",
       "age_restriction          0.000000\n",
       "refundable_support       0.955651\n",
       "nonrefundable_support    0.955651\n",
       "budget                   0.955651\n",
       "financing_source         0.955651\n",
       "ratings                  0.129174\n",
       "genres                   0.130377\n",
       "box_office               0.578146\n",
       "dtype: float64"
      ]
     },
     "execution_count": 15,
     "metadata": {},
     "output_type": "execute_result"
    }
   ],
   "source": [
    "df.isna().mean()"
   ]
  },
  {
   "cell_type": "markdown",
   "metadata": {},
   "source": [
    "Пойдем по всем столбцам с пропусками по порядку. Для начала рассмотрим пропуска в колонке с номером прокатного удостоверения. Исходя из того, что мы видели в выводе датафрейма выше, можно сделать вывод что прокатное удостоверение выдается даже не на сам фильм (поскольку на один и тот же фильм может быть выдано несколько прокатных удостоверений (пример строки с индексами 2-4). По какой логике они выдаются нам неизвестно, соответственно заполнить их мы не имеем возможности. Оставляем эти пропуски как есть."
   ]
  },
  {
   "cell_type": "markdown",
   "metadata": {},
   "source": [
    "Далее на очереди студия-производитель фильма. Проверим, есть ли среди них фильмы, у которых повторяется название, но в одном из них студия-производитель указана, а в другой-нет. Для этого напишем функцию, которая будет проверять, есть ли для указанной колонки такие фильмы, которые несколько раз встречаются в таблице, но имеют разные пропуски:"
   ]
  },
  {
   "cell_type": "code",
   "execution_count": 16,
   "metadata": {},
   "outputs": [],
   "source": [
    "def check(cat):\n",
    "    return df[df['title'].isin(df[df[cat].isna()]['title'].unique()) &~ df[cat].isna()]['title'].count()"
   ]
  },
  {
   "cell_type": "code",
   "execution_count": 17,
   "metadata": {
    "scrolled": true
   },
   "outputs": [
    {
     "data": {
      "text/plain": [
       "0"
      ]
     },
     "execution_count": 17,
     "metadata": {},
     "output_type": "execute_result"
    }
   ],
   "source": [
    "check('film_studio')"
   ]
  },
  {
   "cell_type": "markdown",
   "metadata": {},
   "source": [
    "Таких фильмов нет, из чего можно сделать вывод что ошибок с технической частью при выгрузке этого столбца не было. Выведем и изучим эти строки:"
   ]
  },
  {
   "cell_type": "code",
   "execution_count": 18,
   "metadata": {
    "scrolled": false
   },
   "outputs": [
    {
     "data": {
      "text/html": [
       "<div>\n",
       "<style scoped>\n",
       "    .dataframe tbody tr th:only-of-type {\n",
       "        vertical-align: middle;\n",
       "    }\n",
       "\n",
       "    .dataframe tbody tr th {\n",
       "        vertical-align: top;\n",
       "    }\n",
       "\n",
       "    .dataframe thead th {\n",
       "        text-align: right;\n",
       "    }\n",
       "</style>\n",
       "<table border=\"1\" class=\"dataframe\">\n",
       "  <thead>\n",
       "    <tr style=\"text-align: right;\">\n",
       "      <th></th>\n",
       "      <th>title</th>\n",
       "      <th>puNumber</th>\n",
       "      <th>show_start_date</th>\n",
       "      <th>type</th>\n",
       "      <th>film_studio</th>\n",
       "      <th>production_country</th>\n",
       "      <th>director</th>\n",
       "      <th>producer</th>\n",
       "      <th>age_restriction</th>\n",
       "      <th>refundable_support</th>\n",
       "      <th>nonrefundable_support</th>\n",
       "      <th>budget</th>\n",
       "      <th>financing_source</th>\n",
       "      <th>ratings</th>\n",
       "      <th>genres</th>\n",
       "      <th>box_office</th>\n",
       "    </tr>\n",
       "  </thead>\n",
       "  <tbody>\n",
       "    <tr>\n",
       "      <th>1293</th>\n",
       "      <td>Stars in Shorts</td>\n",
       "      <td>121011114</td>\n",
       "      <td>2014-06-03</td>\n",
       "      <td>Художественный</td>\n",
       "      <td>NaN</td>\n",
       "      <td>США, Великобритания</td>\n",
       "      <td>Роберт Фестингер, Руперт Френд, Джей Камен, Ни...</td>\n",
       "      <td>Татьяна Келли, Роберта Мунро, Руперт Френд, До...</td>\n",
       "      <td>«16+» - для детей старше 16 лет</td>\n",
       "      <td>&lt;NA&gt;</td>\n",
       "      <td>&lt;NA&gt;</td>\n",
       "      <td>&lt;NA&gt;</td>\n",
       "      <td>NaN</td>\n",
       "      <td>7.3</td>\n",
       "      <td>комедия</td>\n",
       "      <td>NaN</td>\n",
       "    </tr>\n",
       "    <tr>\n",
       "      <th>4441</th>\n",
       "      <td>Мульт личности. Выпуск 5</td>\n",
       "      <td>214000410</td>\n",
       "      <td>2010-01-25</td>\n",
       "      <td>Художественный</td>\n",
       "      <td>NaN</td>\n",
       "      <td>NaN</td>\n",
       "      <td>NaN</td>\n",
       "      <td>NaN</td>\n",
       "      <td>«0+» - для любой зрительской аудитории</td>\n",
       "      <td>&lt;NA&gt;</td>\n",
       "      <td>&lt;NA&gt;</td>\n",
       "      <td>&lt;NA&gt;</td>\n",
       "      <td>NaN</td>\n",
       "      <td>4.0</td>\n",
       "      <td>мультфильм,комедия</td>\n",
       "      <td>NaN</td>\n",
       "    </tr>\n",
       "    <tr>\n",
       "      <th>6105</th>\n",
       "      <td>Значит любит</td>\n",
       "      <td>111013818</td>\n",
       "      <td>2018-08-10</td>\n",
       "      <td>Художественный</td>\n",
       "      <td>NaN</td>\n",
       "      <td>Россия</td>\n",
       "      <td>А.Краевский</td>\n",
       "      <td>Е.Щербакова</td>\n",
       "      <td>«18+» - запрещено для детей</td>\n",
       "      <td>&lt;NA&gt;</td>\n",
       "      <td>&lt;NA&gt;</td>\n",
       "      <td>&lt;NA&gt;</td>\n",
       "      <td>NaN</td>\n",
       "      <td>NaN</td>\n",
       "      <td>NaN</td>\n",
       "      <td>NaN</td>\n",
       "    </tr>\n",
       "    <tr>\n",
       "      <th>6181</th>\n",
       "      <td>Несейка. Младшая дочь</td>\n",
       "      <td>112007018</td>\n",
       "      <td>2018-09-01</td>\n",
       "      <td>Документальный</td>\n",
       "      <td>NaN</td>\n",
       "      <td>Россия</td>\n",
       "      <td>В.Марин</td>\n",
       "      <td>Д.Якунин, Ф.Абрютин, О.Филонова</td>\n",
       "      <td>«6+» - для детей старше 6 лет</td>\n",
       "      <td>&lt;NA&gt;</td>\n",
       "      <td>&lt;NA&gt;</td>\n",
       "      <td>&lt;NA&gt;</td>\n",
       "      <td>NaN</td>\n",
       "      <td>NaN</td>\n",
       "      <td>NaN</td>\n",
       "      <td>NaN</td>\n",
       "    </tr>\n",
       "    <tr>\n",
       "      <th>6379</th>\n",
       "      <td>Ян Антонышев</td>\n",
       "      <td>112011818</td>\n",
       "      <td>2018-11-15</td>\n",
       "      <td>Документальный</td>\n",
       "      <td>NaN</td>\n",
       "      <td>Россия</td>\n",
       "      <td>Е.Окопная</td>\n",
       "      <td>Е.Герасимов</td>\n",
       "      <td>«12+» - для детей старше 12 лет</td>\n",
       "      <td>&lt;NA&gt;</td>\n",
       "      <td>&lt;NA&gt;</td>\n",
       "      <td>&lt;NA&gt;</td>\n",
       "      <td>NaN</td>\n",
       "      <td>NaN</td>\n",
       "      <td>NaN</td>\n",
       "      <td>NaN</td>\n",
       "    </tr>\n",
       "    <tr>\n",
       "      <th>6380</th>\n",
       "      <td>Ян Антонышев</td>\n",
       "      <td>112011918</td>\n",
       "      <td>2018-11-15</td>\n",
       "      <td>Документальный</td>\n",
       "      <td>NaN</td>\n",
       "      <td>Россия</td>\n",
       "      <td>Е.Окопная</td>\n",
       "      <td>Е.Герасимов</td>\n",
       "      <td>«12+» - для детей старше 12 лет</td>\n",
       "      <td>&lt;NA&gt;</td>\n",
       "      <td>&lt;NA&gt;</td>\n",
       "      <td>&lt;NA&gt;</td>\n",
       "      <td>NaN</td>\n",
       "      <td>NaN</td>\n",
       "      <td>NaN</td>\n",
       "      <td>NaN</td>\n",
       "    </tr>\n",
       "    <tr>\n",
       "      <th>6399</th>\n",
       "      <td>Доживем до каникул?..</td>\n",
       "      <td>111021918</td>\n",
       "      <td>2018-11-15</td>\n",
       "      <td>Художественный</td>\n",
       "      <td>NaN</td>\n",
       "      <td>Россия</td>\n",
       "      <td>Я.Хальпукова (псевдоним Яна Мартынец)</td>\n",
       "      <td>Я.Хальпукова (псевдоним Яна Мартынец)</td>\n",
       "      <td>«12+» - для детей старше 12 лет</td>\n",
       "      <td>&lt;NA&gt;</td>\n",
       "      <td>&lt;NA&gt;</td>\n",
       "      <td>&lt;NA&gt;</td>\n",
       "      <td>NaN</td>\n",
       "      <td>NaN</td>\n",
       "      <td>NaN</td>\n",
       "      <td>41225.0</td>\n",
       "    </tr>\n",
       "    <tr>\n",
       "      <th>6485</th>\n",
       "      <td>До и После</td>\n",
       "      <td>112014418</td>\n",
       "      <td>2018-12-05</td>\n",
       "      <td>Документальный</td>\n",
       "      <td>NaN</td>\n",
       "      <td>Россия</td>\n",
       "      <td>А.Новокреповская</td>\n",
       "      <td>А.Новокреповская</td>\n",
       "      <td>«6+» - для детей старше 6 лет</td>\n",
       "      <td>&lt;NA&gt;</td>\n",
       "      <td>&lt;NA&gt;</td>\n",
       "      <td>&lt;NA&gt;</td>\n",
       "      <td>NaN</td>\n",
       "      <td>6.9</td>\n",
       "      <td>драма,криминал,детектив</td>\n",
       "      <td>NaN</td>\n",
       "    </tr>\n",
       "    <tr>\n",
       "      <th>6494</th>\n",
       "      <td>Калмыцкий геше Нгаванг Вангьял</td>\n",
       "      <td>113002018</td>\n",
       "      <td>2018-12-05</td>\n",
       "      <td>Научно-популярный</td>\n",
       "      <td>NaN</td>\n",
       "      <td>Россия</td>\n",
       "      <td>И.Долгина</td>\n",
       "      <td>И.Долгина</td>\n",
       "      <td>«12+» - для детей старше 12 лет</td>\n",
       "      <td>&lt;NA&gt;</td>\n",
       "      <td>&lt;NA&gt;</td>\n",
       "      <td>&lt;NA&gt;</td>\n",
       "      <td>NaN</td>\n",
       "      <td>NaN</td>\n",
       "      <td>NaN</td>\n",
       "      <td>NaN</td>\n",
       "    </tr>\n",
       "    <tr>\n",
       "      <th>6497</th>\n",
       "      <td>Мой папа Чингисхан</td>\n",
       "      <td>112014918</td>\n",
       "      <td>2018-12-06</td>\n",
       "      <td>Документальный</td>\n",
       "      <td>NaN</td>\n",
       "      <td>Россия</td>\n",
       "      <td>А.Сайфуллина</td>\n",
       "      <td>А.Сайфуллина</td>\n",
       "      <td>«12+» - для детей старше 12 лет</td>\n",
       "      <td>&lt;NA&gt;</td>\n",
       "      <td>&lt;NA&gt;</td>\n",
       "      <td>&lt;NA&gt;</td>\n",
       "      <td>NaN</td>\n",
       "      <td>NaN</td>\n",
       "      <td>NaN</td>\n",
       "      <td>NaN</td>\n",
       "    </tr>\n",
       "    <tr>\n",
       "      <th>6498</th>\n",
       "      <td>В плену города грёз</td>\n",
       "      <td>112014818</td>\n",
       "      <td>2018-12-06</td>\n",
       "      <td>Документальный</td>\n",
       "      <td>NaN</td>\n",
       "      <td>Россия</td>\n",
       "      <td>В.Витовцев</td>\n",
       "      <td>О.Мичи</td>\n",
       "      <td>«18+» - запрещено для детей</td>\n",
       "      <td>&lt;NA&gt;</td>\n",
       "      <td>&lt;NA&gt;</td>\n",
       "      <td>&lt;NA&gt;</td>\n",
       "      <td>NaN</td>\n",
       "      <td>7.9</td>\n",
       "      <td>фантастика,боевик,триллер</td>\n",
       "      <td>NaN</td>\n",
       "    </tr>\n",
       "    <tr>\n",
       "      <th>6499</th>\n",
       "      <td>Последнее фото</td>\n",
       "      <td>112014518</td>\n",
       "      <td>2018-12-06</td>\n",
       "      <td>Документальный</td>\n",
       "      <td>NaN</td>\n",
       "      <td>Россия</td>\n",
       "      <td>Е.Севастьянов</td>\n",
       "      <td>Е.Севастьянов</td>\n",
       "      <td>«18+» - запрещено для детей</td>\n",
       "      <td>&lt;NA&gt;</td>\n",
       "      <td>&lt;NA&gt;</td>\n",
       "      <td>&lt;NA&gt;</td>\n",
       "      <td>NaN</td>\n",
       "      <td>NaN</td>\n",
       "      <td>NaN</td>\n",
       "      <td>NaN</td>\n",
       "    </tr>\n",
       "    <tr>\n",
       "      <th>6507</th>\n",
       "      <td>Мой селфхарм</td>\n",
       "      <td>113001918</td>\n",
       "      <td>2018-12-06</td>\n",
       "      <td>Научно-популярный</td>\n",
       "      <td>NaN</td>\n",
       "      <td>Россия</td>\n",
       "      <td>Я.Лаптев (псевдоним Яков Раскалов)</td>\n",
       "      <td>Я.Лаптев (псевдоним Яков Раскалов)</td>\n",
       "      <td>«18+» - запрещено для детей</td>\n",
       "      <td>&lt;NA&gt;</td>\n",
       "      <td>&lt;NA&gt;</td>\n",
       "      <td>&lt;NA&gt;</td>\n",
       "      <td>NaN</td>\n",
       "      <td>NaN</td>\n",
       "      <td>NaN</td>\n",
       "      <td>NaN</td>\n",
       "    </tr>\n",
       "    <tr>\n",
       "      <th>6511</th>\n",
       "      <td>Обстоятельства места и времени</td>\n",
       "      <td>112015018</td>\n",
       "      <td>2018-12-12</td>\n",
       "      <td>Документальный</td>\n",
       "      <td>NaN</td>\n",
       "      <td>Россия</td>\n",
       "      <td>Д.Кабаков</td>\n",
       "      <td>Д.Кабаков</td>\n",
       "      <td>«12+» - для детей старше 12 лет</td>\n",
       "      <td>&lt;NA&gt;</td>\n",
       "      <td>&lt;NA&gt;</td>\n",
       "      <td>&lt;NA&gt;</td>\n",
       "      <td>NaN</td>\n",
       "      <td>NaN</td>\n",
       "      <td>NaN</td>\n",
       "      <td>NaN</td>\n",
       "    </tr>\n",
       "    <tr>\n",
       "      <th>6638</th>\n",
       "      <td>Эрик Булатов. Моя Третьяковка, серии 1-2</td>\n",
       "      <td>113000319</td>\n",
       "      <td>2019-01-28</td>\n",
       "      <td>Научно-популярный</td>\n",
       "      <td>NaN</td>\n",
       "      <td>Россия</td>\n",
       "      <td>С.Гарькавый</td>\n",
       "      <td>Т.Пинская</td>\n",
       "      <td>«6+» - для детей старше 6 лет</td>\n",
       "      <td>&lt;NA&gt;</td>\n",
       "      <td>&lt;NA&gt;</td>\n",
       "      <td>&lt;NA&gt;</td>\n",
       "      <td>NaN</td>\n",
       "      <td>NaN</td>\n",
       "      <td>NaN</td>\n",
       "      <td>NaN</td>\n",
       "    </tr>\n",
       "    <tr>\n",
       "      <th>6639</th>\n",
       "      <td>Брови</td>\n",
       "      <td>111000719</td>\n",
       "      <td>2019-03-01</td>\n",
       "      <td>Художественный</td>\n",
       "      <td>NaN</td>\n",
       "      <td>Россия</td>\n",
       "      <td>О.Штром</td>\n",
       "      <td>В.Максимов, В.Степанов, Г.Киракосян, О.Штром</td>\n",
       "      <td>«16+» - для детей старше 16 лет</td>\n",
       "      <td>&lt;NA&gt;</td>\n",
       "      <td>&lt;NA&gt;</td>\n",
       "      <td>&lt;NA&gt;</td>\n",
       "      <td>NaN</td>\n",
       "      <td>NaN</td>\n",
       "      <td>NaN</td>\n",
       "      <td>NaN</td>\n",
       "    </tr>\n",
       "    <tr>\n",
       "      <th>6662</th>\n",
       "      <td>Топливо</td>\n",
       "      <td>111001419</td>\n",
       "      <td>2019-02-12</td>\n",
       "      <td>Художественный</td>\n",
       "      <td>NaN</td>\n",
       "      <td>Россия</td>\n",
       "      <td>М.Архипов</td>\n",
       "      <td>М.Архипов</td>\n",
       "      <td>«12+» - для детей старше 12 лет</td>\n",
       "      <td>&lt;NA&gt;</td>\n",
       "      <td>&lt;NA&gt;</td>\n",
       "      <td>&lt;NA&gt;</td>\n",
       "      <td>NaN</td>\n",
       "      <td>6.1</td>\n",
       "      <td>короткометражка,фантастика</td>\n",
       "      <td>NaN</td>\n",
       "    </tr>\n",
       "    <tr>\n",
       "      <th>6722</th>\n",
       "      <td>Путешествие в Париж</td>\n",
       "      <td>111002919</td>\n",
       "      <td>2019-03-01</td>\n",
       "      <td>Художественный</td>\n",
       "      <td>NaN</td>\n",
       "      <td>Россия</td>\n",
       "      <td>М.Олейник (псевдоним - Мария Полякова)</td>\n",
       "      <td>Н.Савко</td>\n",
       "      <td>«16+» - для детей старше 16 лет</td>\n",
       "      <td>&lt;NA&gt;</td>\n",
       "      <td>&lt;NA&gt;</td>\n",
       "      <td>&lt;NA&gt;</td>\n",
       "      <td>NaN</td>\n",
       "      <td>NaN</td>\n",
       "      <td>NaN</td>\n",
       "      <td>NaN</td>\n",
       "    </tr>\n",
       "  </tbody>\n",
       "</table>\n",
       "</div>"
      ],
      "text/plain": [
       "                                         title   puNumber show_start_date  \\\n",
       "1293                           Stars in Shorts  121011114      2014-06-03   \n",
       "4441                  Мульт личности. Выпуск 5  214000410      2010-01-25   \n",
       "6105                              Значит любит  111013818      2018-08-10   \n",
       "6181                     Несейка. Младшая дочь  112007018      2018-09-01   \n",
       "6379                              Ян Антонышев  112011818      2018-11-15   \n",
       "6380                              Ян Антонышев  112011918      2018-11-15   \n",
       "6399                     Доживем до каникул?..  111021918      2018-11-15   \n",
       "6485                                До и После  112014418      2018-12-05   \n",
       "6494            Калмыцкий геше Нгаванг Вангьял  113002018      2018-12-05   \n",
       "6497                        Мой папа Чингисхан  112014918      2018-12-06   \n",
       "6498                       В плену города грёз  112014818      2018-12-06   \n",
       "6499                            Последнее фото  112014518      2018-12-06   \n",
       "6507                              Мой селфхарм  113001918      2018-12-06   \n",
       "6511            Обстоятельства места и времени  112015018      2018-12-12   \n",
       "6638  Эрик Булатов. Моя Третьяковка, серии 1-2  113000319      2019-01-28   \n",
       "6639                                     Брови  111000719      2019-03-01   \n",
       "6662                                   Топливо  111001419      2019-02-12   \n",
       "6722                       Путешествие в Париж  111002919      2019-03-01   \n",
       "\n",
       "                   type film_studio   production_country  \\\n",
       "1293     Художественный         NaN  США, Великобритания   \n",
       "4441     Художественный         NaN                  NaN   \n",
       "6105     Художественный         NaN               Россия   \n",
       "6181     Документальный         NaN               Россия   \n",
       "6379     Документальный         NaN               Россия   \n",
       "6380     Документальный         NaN               Россия   \n",
       "6399     Художественный         NaN               Россия   \n",
       "6485     Документальный         NaN               Россия   \n",
       "6494  Научно-популярный         NaN               Россия   \n",
       "6497     Документальный         NaN               Россия   \n",
       "6498     Документальный         NaN               Россия   \n",
       "6499     Документальный         NaN               Россия   \n",
       "6507  Научно-популярный         NaN               Россия   \n",
       "6511     Документальный         NaN               Россия   \n",
       "6638  Научно-популярный         NaN               Россия   \n",
       "6639     Художественный         NaN               Россия   \n",
       "6662     Художественный         NaN               Россия   \n",
       "6722     Художественный         NaN               Россия   \n",
       "\n",
       "                                               director  \\\n",
       "1293  Роберт Фестингер, Руперт Френд, Джей Камен, Ни...   \n",
       "4441                                                NaN   \n",
       "6105                                        А.Краевский   \n",
       "6181                                            В.Марин   \n",
       "6379                                          Е.Окопная   \n",
       "6380                                          Е.Окопная   \n",
       "6399              Я.Хальпукова (псевдоним Яна Мартынец)   \n",
       "6485                                   А.Новокреповская   \n",
       "6494                                          И.Долгина   \n",
       "6497                                       А.Сайфуллина   \n",
       "6498                                         В.Витовцев   \n",
       "6499                                      Е.Севастьянов   \n",
       "6507                 Я.Лаптев (псевдоним Яков Раскалов)   \n",
       "6511                                          Д.Кабаков   \n",
       "6638                                        С.Гарькавый   \n",
       "6639                                            О.Штром   \n",
       "6662                                          М.Архипов   \n",
       "6722             М.Олейник (псевдоним - Мария Полякова)   \n",
       "\n",
       "                                               producer  \\\n",
       "1293  Татьяна Келли, Роберта Мунро, Руперт Френд, До...   \n",
       "4441                                                NaN   \n",
       "6105                                        Е.Щербакова   \n",
       "6181                    Д.Якунин, Ф.Абрютин, О.Филонова   \n",
       "6379                                        Е.Герасимов   \n",
       "6380                                        Е.Герасимов   \n",
       "6399              Я.Хальпукова (псевдоним Яна Мартынец)   \n",
       "6485                                   А.Новокреповская   \n",
       "6494                                          И.Долгина   \n",
       "6497                                       А.Сайфуллина   \n",
       "6498                                             О.Мичи   \n",
       "6499                                      Е.Севастьянов   \n",
       "6507                 Я.Лаптев (псевдоним Яков Раскалов)   \n",
       "6511                                          Д.Кабаков   \n",
       "6638                                          Т.Пинская   \n",
       "6639       В.Максимов, В.Степанов, Г.Киракосян, О.Штром   \n",
       "6662                                          М.Архипов   \n",
       "6722                                            Н.Савко   \n",
       "\n",
       "                             age_restriction  refundable_support  \\\n",
       "1293         «16+» - для детей старше 16 лет                <NA>   \n",
       "4441  «0+» - для любой зрительской аудитории                <NA>   \n",
       "6105             «18+» - запрещено для детей                <NA>   \n",
       "6181           «6+» - для детей старше 6 лет                <NA>   \n",
       "6379         «12+» - для детей старше 12 лет                <NA>   \n",
       "6380         «12+» - для детей старше 12 лет                <NA>   \n",
       "6399         «12+» - для детей старше 12 лет                <NA>   \n",
       "6485           «6+» - для детей старше 6 лет                <NA>   \n",
       "6494         «12+» - для детей старше 12 лет                <NA>   \n",
       "6497         «12+» - для детей старше 12 лет                <NA>   \n",
       "6498             «18+» - запрещено для детей                <NA>   \n",
       "6499             «18+» - запрещено для детей                <NA>   \n",
       "6507             «18+» - запрещено для детей                <NA>   \n",
       "6511         «12+» - для детей старше 12 лет                <NA>   \n",
       "6638           «6+» - для детей старше 6 лет                <NA>   \n",
       "6639         «16+» - для детей старше 16 лет                <NA>   \n",
       "6662         «12+» - для детей старше 12 лет                <NA>   \n",
       "6722         «16+» - для детей старше 16 лет                <NA>   \n",
       "\n",
       "      nonrefundable_support  budget financing_source  ratings  \\\n",
       "1293                   <NA>    <NA>              NaN      7.3   \n",
       "4441                   <NA>    <NA>              NaN      4.0   \n",
       "6105                   <NA>    <NA>              NaN      NaN   \n",
       "6181                   <NA>    <NA>              NaN      NaN   \n",
       "6379                   <NA>    <NA>              NaN      NaN   \n",
       "6380                   <NA>    <NA>              NaN      NaN   \n",
       "6399                   <NA>    <NA>              NaN      NaN   \n",
       "6485                   <NA>    <NA>              NaN      6.9   \n",
       "6494                   <NA>    <NA>              NaN      NaN   \n",
       "6497                   <NA>    <NA>              NaN      NaN   \n",
       "6498                   <NA>    <NA>              NaN      7.9   \n",
       "6499                   <NA>    <NA>              NaN      NaN   \n",
       "6507                   <NA>    <NA>              NaN      NaN   \n",
       "6511                   <NA>    <NA>              NaN      NaN   \n",
       "6638                   <NA>    <NA>              NaN      NaN   \n",
       "6639                   <NA>    <NA>              NaN      NaN   \n",
       "6662                   <NA>    <NA>              NaN      6.1   \n",
       "6722                   <NA>    <NA>              NaN      NaN   \n",
       "\n",
       "                          genres  box_office  \n",
       "1293                     комедия         NaN  \n",
       "4441          мультфильм,комедия         NaN  \n",
       "6105                         NaN         NaN  \n",
       "6181                         NaN         NaN  \n",
       "6379                         NaN         NaN  \n",
       "6380                         NaN         NaN  \n",
       "6399                         NaN     41225.0  \n",
       "6485     драма,криминал,детектив         NaN  \n",
       "6494                         NaN         NaN  \n",
       "6497                         NaN         NaN  \n",
       "6498   фантастика,боевик,триллер         NaN  \n",
       "6499                         NaN         NaN  \n",
       "6507                         NaN         NaN  \n",
       "6511                         NaN         NaN  \n",
       "6638                         NaN         NaN  \n",
       "6639                         NaN         NaN  \n",
       "6662  короткометражка,фантастика         NaN  \n",
       "6722                         NaN         NaN  "
      ]
     },
     "execution_count": 18,
     "metadata": {},
     "output_type": "execute_result"
    }
   ],
   "source": [
    "df[df['film_studio'].isna()]"
   ]
  },
  {
   "cell_type": "markdown",
   "metadata": {},
   "source": [
    "Среди этих фильмов ничего общего. заполним пропуска в этом столбце на `unknown`"
   ]
  },
  {
   "cell_type": "code",
   "execution_count": 19,
   "metadata": {},
   "outputs": [],
   "source": [
    "df['film_studio'] = df['film_studio'].fillna('unknown')"
   ]
  },
  {
   "cell_type": "markdown",
   "metadata": {},
   "source": [
    "Переходим к изучению пропусков в столбце с указанием страны-производителя. Проверим пропуски нашей функцией `check`:"
   ]
  },
  {
   "cell_type": "code",
   "execution_count": 20,
   "metadata": {},
   "outputs": [
    {
     "data": {
      "text/plain": [
       "0"
      ]
     },
     "execution_count": 20,
     "metadata": {},
     "output_type": "execute_result"
    }
   ],
   "source": [
    "check('production_country')"
   ]
  },
  {
   "cell_type": "markdown",
   "metadata": {},
   "source": [
    "Пропусков, удовлетворяющим заданным условиям нет, посмотрим на фильмы, попавшие в данную категорию:"
   ]
  },
  {
   "cell_type": "code",
   "execution_count": 21,
   "metadata": {},
   "outputs": [
    {
     "data": {
      "text/html": [
       "<div>\n",
       "<style scoped>\n",
       "    .dataframe tbody tr th:only-of-type {\n",
       "        vertical-align: middle;\n",
       "    }\n",
       "\n",
       "    .dataframe tbody tr th {\n",
       "        vertical-align: top;\n",
       "    }\n",
       "\n",
       "    .dataframe thead th {\n",
       "        text-align: right;\n",
       "    }\n",
       "</style>\n",
       "<table border=\"1\" class=\"dataframe\">\n",
       "  <thead>\n",
       "    <tr style=\"text-align: right;\">\n",
       "      <th></th>\n",
       "      <th>title</th>\n",
       "      <th>puNumber</th>\n",
       "      <th>show_start_date</th>\n",
       "      <th>type</th>\n",
       "      <th>film_studio</th>\n",
       "      <th>production_country</th>\n",
       "      <th>director</th>\n",
       "      <th>producer</th>\n",
       "      <th>age_restriction</th>\n",
       "      <th>refundable_support</th>\n",
       "      <th>nonrefundable_support</th>\n",
       "      <th>budget</th>\n",
       "      <th>financing_source</th>\n",
       "      <th>ratings</th>\n",
       "      <th>genres</th>\n",
       "      <th>box_office</th>\n",
       "    </tr>\n",
       "  </thead>\n",
       "  <tbody>\n",
       "    <tr>\n",
       "      <th>3186</th>\n",
       "      <td>Детский юмористический киножурнал \"Ералаш. Ну ...</td>\n",
       "      <td>111001216</td>\n",
       "      <td>2016-02-09</td>\n",
       "      <td>Художественный</td>\n",
       "      <td>ООО \"Продюсерский центр ЕРАЛАШ\"</td>\n",
       "      <td>NaN</td>\n",
       "      <td>Р.Светлов, И.Магитон, А.Арутюнян, Л.Мирский, А...</td>\n",
       "      <td>ООО \"Продюсерский центр ЕРАЛАШ\"</td>\n",
       "      <td>«0+» - для любой зрительской аудитории</td>\n",
       "      <td>&lt;NA&gt;</td>\n",
       "      <td>&lt;NA&gt;</td>\n",
       "      <td>&lt;NA&gt;</td>\n",
       "      <td>NaN</td>\n",
       "      <td>7.2</td>\n",
       "      <td>детский,комедия</td>\n",
       "      <td>194527.0</td>\n",
       "    </tr>\n",
       "    <tr>\n",
       "      <th>4441</th>\n",
       "      <td>Мульт личности. Выпуск 5</td>\n",
       "      <td>214000410</td>\n",
       "      <td>2010-01-25</td>\n",
       "      <td>Художественный</td>\n",
       "      <td>unknown</td>\n",
       "      <td>NaN</td>\n",
       "      <td>NaN</td>\n",
       "      <td>NaN</td>\n",
       "      <td>«0+» - для любой зрительской аудитории</td>\n",
       "      <td>&lt;NA&gt;</td>\n",
       "      <td>&lt;NA&gt;</td>\n",
       "      <td>&lt;NA&gt;</td>\n",
       "      <td>NaN</td>\n",
       "      <td>4.0</td>\n",
       "      <td>мультфильм,комедия</td>\n",
       "      <td>NaN</td>\n",
       "    </tr>\n",
       "  </tbody>\n",
       "</table>\n",
       "</div>"
      ],
      "text/plain": [
       "                                                  title   puNumber  \\\n",
       "3186  Детский юмористический киножурнал \"Ералаш. Ну ...  111001216   \n",
       "4441                           Мульт личности. Выпуск 5  214000410   \n",
       "\n",
       "     show_start_date            type                      film_studio  \\\n",
       "3186      2016-02-09  Художественный  ООО \"Продюсерский центр ЕРАЛАШ\"   \n",
       "4441      2010-01-25  Художественный                          unknown   \n",
       "\n",
       "     production_country                                           director  \\\n",
       "3186                NaN  Р.Светлов, И.Магитон, А.Арутюнян, Л.Мирский, А...   \n",
       "4441                NaN                                                NaN   \n",
       "\n",
       "                             producer                         age_restriction  \\\n",
       "3186  ООО \"Продюсерский центр ЕРАЛАШ\"  «0+» - для любой зрительской аудитории   \n",
       "4441                              NaN  «0+» - для любой зрительской аудитории   \n",
       "\n",
       "      refundable_support  nonrefundable_support  budget financing_source  \\\n",
       "3186                <NA>                   <NA>    <NA>              NaN   \n",
       "4441                <NA>                   <NA>    <NA>              NaN   \n",
       "\n",
       "      ratings              genres  box_office  \n",
       "3186      7.2     детский,комедия    194527.0  \n",
       "4441      4.0  мультфильм,комедия         NaN  "
      ]
     },
     "execution_count": 21,
     "metadata": {},
     "output_type": "execute_result"
    }
   ],
   "source": [
    "df[df['production_country'].isna()]"
   ]
  },
  {
   "cell_type": "markdown",
   "metadata": {},
   "source": [
    "Происхождение этих фильмов очевидно, так что можно смело заполнить эти пропуски вручную:"
   ]
  },
  {
   "cell_type": "code",
   "execution_count": 22,
   "metadata": {},
   "outputs": [],
   "source": [
    "df['production_country'] = df['production_country'].fillna('Россия')"
   ]
  },
  {
   "cell_type": "markdown",
   "metadata": {},
   "source": [
    "Следующий столбец с пропусками это столбец с указанием режиссера проекта. Проверим этот столбце нашей функцией:"
   ]
  },
  {
   "cell_type": "code",
   "execution_count": 23,
   "metadata": {},
   "outputs": [
    {
     "data": {
      "text/plain": [
       "0"
      ]
     },
     "execution_count": 23,
     "metadata": {},
     "output_type": "execute_result"
    }
   ],
   "source": [
    "check('director')"
   ]
  },
  {
   "cell_type": "markdown",
   "metadata": {},
   "source": [
    "Пропусков, удовлетворяющим нашим критериям нет. Выведем строки с отсутствующими режиссерами и изучим их:"
   ]
  },
  {
   "cell_type": "code",
   "execution_count": 24,
   "metadata": {
    "scrolled": false
   },
   "outputs": [
    {
     "data": {
      "text/html": [
       "<div>\n",
       "<style scoped>\n",
       "    .dataframe tbody tr th:only-of-type {\n",
       "        vertical-align: middle;\n",
       "    }\n",
       "\n",
       "    .dataframe tbody tr th {\n",
       "        vertical-align: top;\n",
       "    }\n",
       "\n",
       "    .dataframe thead th {\n",
       "        text-align: right;\n",
       "    }\n",
       "</style>\n",
       "<table border=\"1\" class=\"dataframe\">\n",
       "  <thead>\n",
       "    <tr style=\"text-align: right;\">\n",
       "      <th></th>\n",
       "      <th>title</th>\n",
       "      <th>puNumber</th>\n",
       "      <th>show_start_date</th>\n",
       "      <th>type</th>\n",
       "      <th>film_studio</th>\n",
       "      <th>production_country</th>\n",
       "      <th>director</th>\n",
       "      <th>producer</th>\n",
       "      <th>age_restriction</th>\n",
       "      <th>refundable_support</th>\n",
       "      <th>nonrefundable_support</th>\n",
       "      <th>budget</th>\n",
       "      <th>financing_source</th>\n",
       "      <th>ratings</th>\n",
       "      <th>genres</th>\n",
       "      <th>box_office</th>\n",
       "    </tr>\n",
       "  </thead>\n",
       "  <tbody>\n",
       "    <tr>\n",
       "      <th>764</th>\n",
       "      <td>Три звезды. Концерт в Waldbuhne Theater, Берли...</td>\n",
       "      <td>126003512</td>\n",
       "      <td>2012-12-04</td>\n",
       "      <td>Прочие</td>\n",
       "      <td>Райзинг Алтернатив</td>\n",
       "      <td>Великобритания</td>\n",
       "      <td>NaN</td>\n",
       "      <td>Вальдбюне Театр</td>\n",
       "      <td>«0+» - для любой зрительской аудитории</td>\n",
       "      <td>&lt;NA&gt;</td>\n",
       "      <td>&lt;NA&gt;</td>\n",
       "      <td>&lt;NA&gt;</td>\n",
       "      <td>NaN</td>\n",
       "      <td>NaN</td>\n",
       "      <td>NaN</td>\n",
       "      <td>44350.0</td>\n",
       "    </tr>\n",
       "    <tr>\n",
       "      <th>1735</th>\n",
       "      <td>Помпеи. Британский музей</td>\n",
       "      <td>126003413</td>\n",
       "      <td>2013-09-11</td>\n",
       "      <td>Прочие</td>\n",
       "      <td>МортуСкрин, Британский музей</td>\n",
       "      <td>Великобритания</td>\n",
       "      <td>NaN</td>\n",
       "      <td>Британский музей</td>\n",
       "      <td>«0+» - для любой зрительской аудитории</td>\n",
       "      <td>&lt;NA&gt;</td>\n",
       "      <td>&lt;NA&gt;</td>\n",
       "      <td>&lt;NA&gt;</td>\n",
       "      <td>NaN</td>\n",
       "      <td>NaN</td>\n",
       "      <td>NaN</td>\n",
       "      <td>NaN</td>\n",
       "    </tr>\n",
       "    <tr>\n",
       "      <th>3840</th>\n",
       "      <td>Зур концерт (Большой концерт).</td>\n",
       "      <td>217027010</td>\n",
       "      <td>2010-06-24</td>\n",
       "      <td>Художественный</td>\n",
       "      <td>ООО \"Барс Рекордс\"</td>\n",
       "      <td>Россия</td>\n",
       "      <td>NaN</td>\n",
       "      <td>NaN</td>\n",
       "      <td>«12+» - для детей старше 12 лет</td>\n",
       "      <td>&lt;NA&gt;</td>\n",
       "      <td>&lt;NA&gt;</td>\n",
       "      <td>&lt;NA&gt;</td>\n",
       "      <td>NaN</td>\n",
       "      <td>NaN</td>\n",
       "      <td>NaN</td>\n",
       "      <td>NaN</td>\n",
       "    </tr>\n",
       "    <tr>\n",
       "      <th>4052</th>\n",
       "      <td>Ганс Сэйфуллин \"Авылым чишмэлэре. Ганс Сэйфулл...</td>\n",
       "      <td>217017310</td>\n",
       "      <td>2010-04-22</td>\n",
       "      <td>Художественный</td>\n",
       "      <td>ООО \"Барс-Рекордс\"</td>\n",
       "      <td>Россия</td>\n",
       "      <td>NaN</td>\n",
       "      <td>NaN</td>\n",
       "      <td>«0+» - для любой зрительской аудитории</td>\n",
       "      <td>&lt;NA&gt;</td>\n",
       "      <td>&lt;NA&gt;</td>\n",
       "      <td>&lt;NA&gt;</td>\n",
       "      <td>NaN</td>\n",
       "      <td>NaN</td>\n",
       "      <td>NaN</td>\n",
       "      <td>NaN</td>\n",
       "    </tr>\n",
       "    <tr>\n",
       "      <th>4298</th>\n",
       "      <td>Изге Вэли (Святой Валентин)</td>\n",
       "      <td>217020610</td>\n",
       "      <td>2010-05-20</td>\n",
       "      <td>Художественный</td>\n",
       "      <td>ООО \"Барс Рекордс\"</td>\n",
       "      <td>Россия</td>\n",
       "      <td>NaN</td>\n",
       "      <td>NaN</td>\n",
       "      <td>«12+» - для детей старше 12 лет</td>\n",
       "      <td>&lt;NA&gt;</td>\n",
       "      <td>&lt;NA&gt;</td>\n",
       "      <td>&lt;NA&gt;</td>\n",
       "      <td>NaN</td>\n",
       "      <td>NaN</td>\n",
       "      <td>NaN</td>\n",
       "      <td>NaN</td>\n",
       "    </tr>\n",
       "    <tr>\n",
       "      <th>4415</th>\n",
       "      <td>Bon Jovi. The Circle Tour</td>\n",
       "      <td>126001710</td>\n",
       "      <td>2010-11-11</td>\n",
       "      <td>Прочие</td>\n",
       "      <td>Эншутц Интертейнмент Груп</td>\n",
       "      <td>США</td>\n",
       "      <td>NaN</td>\n",
       "      <td>Эншутц Интертейнмент Груп</td>\n",
       "      <td>«0+» - для любой зрительской аудитории</td>\n",
       "      <td>&lt;NA&gt;</td>\n",
       "      <td>&lt;NA&gt;</td>\n",
       "      <td>&lt;NA&gt;</td>\n",
       "      <td>NaN</td>\n",
       "      <td>7.9</td>\n",
       "      <td>концерт,музыка</td>\n",
       "      <td>NaN</td>\n",
       "    </tr>\n",
       "    <tr>\n",
       "      <th>4441</th>\n",
       "      <td>Мульт личности. Выпуск 5</td>\n",
       "      <td>214000410</td>\n",
       "      <td>2010-01-25</td>\n",
       "      <td>Художественный</td>\n",
       "      <td>unknown</td>\n",
       "      <td>Россия</td>\n",
       "      <td>NaN</td>\n",
       "      <td>NaN</td>\n",
       "      <td>«0+» - для любой зрительской аудитории</td>\n",
       "      <td>&lt;NA&gt;</td>\n",
       "      <td>&lt;NA&gt;</td>\n",
       "      <td>&lt;NA&gt;</td>\n",
       "      <td>NaN</td>\n",
       "      <td>4.0</td>\n",
       "      <td>мультфильм,комедия</td>\n",
       "      <td>NaN</td>\n",
       "    </tr>\n",
       "    <tr>\n",
       "      <th>4923</th>\n",
       "      <td>Георг Фридрих Гендель. Мессия. Оратория. Корол...</td>\n",
       "      <td>126001111</td>\n",
       "      <td>2011-04-25</td>\n",
       "      <td>Прочие</td>\n",
       "      <td>Опус Арт</td>\n",
       "      <td>Великобритания</td>\n",
       "      <td>NaN</td>\n",
       "      <td>Короевский колледж Кембриджа</td>\n",
       "      <td>«0+» - для любой зрительской аудитории</td>\n",
       "      <td>&lt;NA&gt;</td>\n",
       "      <td>&lt;NA&gt;</td>\n",
       "      <td>&lt;NA&gt;</td>\n",
       "      <td>NaN</td>\n",
       "      <td>NaN</td>\n",
       "      <td>NaN</td>\n",
       "      <td>NaN</td>\n",
       "    </tr>\n",
       "    <tr>\n",
       "      <th>4942</th>\n",
       "      <td>Питер Гэбриэл и New Blood Orchestra 3D</td>\n",
       "      <td>126002711</td>\n",
       "      <td>2011-11-11</td>\n",
       "      <td>Прочие</td>\n",
       "      <td>Омниверс Визион</td>\n",
       "      <td>Великобритания</td>\n",
       "      <td>NaN</td>\n",
       "      <td>Омниверс Визион</td>\n",
       "      <td>«0+» - для любой зрительской аудитории</td>\n",
       "      <td>&lt;NA&gt;</td>\n",
       "      <td>&lt;NA&gt;</td>\n",
       "      <td>&lt;NA&gt;</td>\n",
       "      <td>NaN</td>\n",
       "      <td>6.7</td>\n",
       "      <td>концерт,музыка</td>\n",
       "      <td>NaN</td>\n",
       "    </tr>\n",
       "  </tbody>\n",
       "</table>\n",
       "</div>"
      ],
      "text/plain": [
       "                                                  title   puNumber  \\\n",
       "764   Три звезды. Концерт в Waldbuhne Theater, Берли...  126003512   \n",
       "1735                           Помпеи. Британский музей  126003413   \n",
       "3840                     Зур концерт (Большой концерт).  217027010   \n",
       "4052  Ганс Сэйфуллин \"Авылым чишмэлэре. Ганс Сэйфулл...  217017310   \n",
       "4298                        Изге Вэли (Святой Валентин)  217020610   \n",
       "4415                          Bon Jovi. The Circle Tour  126001710   \n",
       "4441                           Мульт личности. Выпуск 5  214000410   \n",
       "4923  Георг Фридрих Гендель. Мессия. Оратория. Корол...  126001111   \n",
       "4942             Питер Гэбриэл и New Blood Orchestra 3D  126002711   \n",
       "\n",
       "     show_start_date            type                   film_studio  \\\n",
       "764       2012-12-04          Прочие            Райзинг Алтернатив   \n",
       "1735      2013-09-11          Прочие  МортуСкрин, Британский музей   \n",
       "3840      2010-06-24  Художественный            ООО \"Барс Рекордс\"   \n",
       "4052      2010-04-22  Художественный            ООО \"Барс-Рекордс\"   \n",
       "4298      2010-05-20  Художественный            ООО \"Барс Рекордс\"   \n",
       "4415      2010-11-11          Прочие     Эншутц Интертейнмент Груп   \n",
       "4441      2010-01-25  Художественный                       unknown   \n",
       "4923      2011-04-25          Прочие                      Опус Арт   \n",
       "4942      2011-11-11          Прочие               Омниверс Визион   \n",
       "\n",
       "     production_country director                      producer  \\\n",
       "764      Великобритания      NaN               Вальдбюне Театр   \n",
       "1735     Великобритания      NaN              Британский музей   \n",
       "3840             Россия      NaN                           NaN   \n",
       "4052             Россия      NaN                           NaN   \n",
       "4298             Россия      NaN                           NaN   \n",
       "4415                США      NaN     Эншутц Интертейнмент Груп   \n",
       "4441             Россия      NaN                           NaN   \n",
       "4923     Великобритания      NaN  Короевский колледж Кембриджа   \n",
       "4942     Великобритания      NaN               Омниверс Визион   \n",
       "\n",
       "                             age_restriction  refundable_support  \\\n",
       "764   «0+» - для любой зрительской аудитории                <NA>   \n",
       "1735  «0+» - для любой зрительской аудитории                <NA>   \n",
       "3840         «12+» - для детей старше 12 лет                <NA>   \n",
       "4052  «0+» - для любой зрительской аудитории                <NA>   \n",
       "4298         «12+» - для детей старше 12 лет                <NA>   \n",
       "4415  «0+» - для любой зрительской аудитории                <NA>   \n",
       "4441  «0+» - для любой зрительской аудитории                <NA>   \n",
       "4923  «0+» - для любой зрительской аудитории                <NA>   \n",
       "4942  «0+» - для любой зрительской аудитории                <NA>   \n",
       "\n",
       "      nonrefundable_support  budget financing_source  ratings  \\\n",
       "764                    <NA>    <NA>              NaN      NaN   \n",
       "1735                   <NA>    <NA>              NaN      NaN   \n",
       "3840                   <NA>    <NA>              NaN      NaN   \n",
       "4052                   <NA>    <NA>              NaN      NaN   \n",
       "4298                   <NA>    <NA>              NaN      NaN   \n",
       "4415                   <NA>    <NA>              NaN      7.9   \n",
       "4441                   <NA>    <NA>              NaN      4.0   \n",
       "4923                   <NA>    <NA>              NaN      NaN   \n",
       "4942                   <NA>    <NA>              NaN      6.7   \n",
       "\n",
       "                  genres  box_office  \n",
       "764                  NaN     44350.0  \n",
       "1735                 NaN         NaN  \n",
       "3840                 NaN         NaN  \n",
       "4052                 NaN         NaN  \n",
       "4298                 NaN         NaN  \n",
       "4415      концерт,музыка         NaN  \n",
       "4441  мультфильм,комедия         NaN  \n",
       "4923                 NaN         NaN  \n",
       "4942      концерт,музыка         NaN  "
      ]
     },
     "execution_count": 24,
     "metadata": {},
     "output_type": "execute_result"
    }
   ],
   "source": [
    "df[df['director'].isna()]"
   ]
  },
  {
   "cell_type": "markdown",
   "metadata": {},
   "source": [
    "В основном это записи концертов, хотя есть и другие типы фильмов. Так же заполним пропуски спомощью `unknown`:"
   ]
  },
  {
   "cell_type": "code",
   "execution_count": 25,
   "metadata": {},
   "outputs": [],
   "source": [
    "df['director'] = df['director'].fillna('unknown')"
   ]
  },
  {
   "cell_type": "markdown",
   "metadata": {},
   "source": [
    "Изучим столбец с указанием продюссера:"
   ]
  },
  {
   "cell_type": "code",
   "execution_count": 26,
   "metadata": {
    "scrolled": true
   },
   "outputs": [
    {
     "data": {
      "text/plain": [
       "8"
      ]
     },
     "execution_count": 26,
     "metadata": {},
     "output_type": "execute_result"
    }
   ],
   "source": [
    "check('producer')"
   ]
  },
  {
   "cell_type": "code",
   "execution_count": 27,
   "metadata": {
    "scrolled": true
   },
   "outputs": [
    {
     "data": {
      "text/html": [
       "<div>\n",
       "<style scoped>\n",
       "    .dataframe tbody tr th:only-of-type {\n",
       "        vertical-align: middle;\n",
       "    }\n",
       "\n",
       "    .dataframe tbody tr th {\n",
       "        vertical-align: top;\n",
       "    }\n",
       "\n",
       "    .dataframe thead th {\n",
       "        text-align: right;\n",
       "    }\n",
       "</style>\n",
       "<table border=\"1\" class=\"dataframe\">\n",
       "  <thead>\n",
       "    <tr style=\"text-align: right;\">\n",
       "      <th></th>\n",
       "      <th>title</th>\n",
       "      <th>puNumber</th>\n",
       "      <th>show_start_date</th>\n",
       "      <th>type</th>\n",
       "      <th>film_studio</th>\n",
       "      <th>production_country</th>\n",
       "      <th>director</th>\n",
       "      <th>producer</th>\n",
       "      <th>age_restriction</th>\n",
       "      <th>refundable_support</th>\n",
       "      <th>nonrefundable_support</th>\n",
       "      <th>budget</th>\n",
       "      <th>financing_source</th>\n",
       "      <th>ratings</th>\n",
       "      <th>genres</th>\n",
       "      <th>box_office</th>\n",
       "    </tr>\n",
       "  </thead>\n",
       "  <tbody>\n",
       "    <tr>\n",
       "      <th>266</th>\n",
       "      <td>Прощание</td>\n",
       "      <td>111029414</td>\n",
       "      <td>2014-12-24</td>\n",
       "      <td>Художественный</td>\n",
       "      <td>Киностудия \"Мосфильм\"</td>\n",
       "      <td>СССР</td>\n",
       "      <td>Э.Климов</td>\n",
       "      <td>NaN</td>\n",
       "      <td>«12+» - для детей старше 12 лет</td>\n",
       "      <td>&lt;NA&gt;</td>\n",
       "      <td>&lt;NA&gt;</td>\n",
       "      <td>&lt;NA&gt;</td>\n",
       "      <td>NaN</td>\n",
       "      <td>7.2</td>\n",
       "      <td>драма</td>\n",
       "      <td>NaN</td>\n",
       "    </tr>\n",
       "    <tr>\n",
       "      <th>5514</th>\n",
       "      <td>Прощание</td>\n",
       "      <td>211037617</td>\n",
       "      <td>2017-09-07</td>\n",
       "      <td>Художественный</td>\n",
       "      <td>Всероссийский государственный институт кинемат...</td>\n",
       "      <td>Россия</td>\n",
       "      <td>А.Петровская</td>\n",
       "      <td>В.Найговзина</td>\n",
       "      <td>«16+» - для детей старше 16 лет</td>\n",
       "      <td>&lt;NA&gt;</td>\n",
       "      <td>&lt;NA&gt;</td>\n",
       "      <td>&lt;NA&gt;</td>\n",
       "      <td>NaN</td>\n",
       "      <td>7.2</td>\n",
       "      <td>драма</td>\n",
       "      <td>NaN</td>\n",
       "    </tr>\n",
       "    <tr>\n",
       "      <th>6909</th>\n",
       "      <td>Прощание</td>\n",
       "      <td>111007519</td>\n",
       "      <td>2019-05-01</td>\n",
       "      <td>Художественный</td>\n",
       "      <td>ИП Киселев Алексей Евгеньевич</td>\n",
       "      <td>Россия</td>\n",
       "      <td>М.Фомина</td>\n",
       "      <td>А.Киселев</td>\n",
       "      <td>«16+» - для детей старше 16 лет</td>\n",
       "      <td>&lt;NA&gt;</td>\n",
       "      <td>&lt;NA&gt;</td>\n",
       "      <td>&lt;NA&gt;</td>\n",
       "      <td>NaN</td>\n",
       "      <td>7.2</td>\n",
       "      <td>драма</td>\n",
       "      <td>NaN</td>\n",
       "    </tr>\n",
       "    <tr>\n",
       "      <th>7281</th>\n",
       "      <td>Прощание</td>\n",
       "      <td>121028719</td>\n",
       "      <td>2019-10-07</td>\n",
       "      <td>Художественный</td>\n",
       "      <td>Биг Бич Филмз, Депз оф Филд, Киндред Спирит</td>\n",
       "      <td>США</td>\n",
       "      <td>Лулу Ванг</td>\n",
       "      <td>Анита Го, Даниэль Тейт Мелиа, Эндрю Миано</td>\n",
       "      <td>«16+» - для детей старше 16 лет</td>\n",
       "      <td>&lt;NA&gt;</td>\n",
       "      <td>&lt;NA&gt;</td>\n",
       "      <td>&lt;NA&gt;</td>\n",
       "      <td>NaN</td>\n",
       "      <td>7.2</td>\n",
       "      <td>драма</td>\n",
       "      <td>2617932.5</td>\n",
       "    </tr>\n",
       "  </tbody>\n",
       "</table>\n",
       "</div>"
      ],
      "text/plain": [
       "         title   puNumber show_start_date             type  \\\n",
       "266   Прощание  111029414      2014-12-24   Художественный   \n",
       "5514  Прощание  211037617      2017-09-07   Художественный   \n",
       "6909  Прощание  111007519      2019-05-01   Художественный   \n",
       "7281  Прощание  121028719      2019-10-07   Художественный   \n",
       "\n",
       "                                            film_studio production_country  \\\n",
       "266                               Киностудия \"Мосфильм\"               СССР   \n",
       "5514  Всероссийский государственный институт кинемат...             Россия   \n",
       "6909                      ИП Киселев Алексей Евгеньевич             Россия   \n",
       "7281        Биг Бич Филмз, Депз оф Филд, Киндред Спирит                США   \n",
       "\n",
       "          director                                   producer  \\\n",
       "266       Э.Климов                                        NaN   \n",
       "5514  А.Петровская                               В.Найговзина   \n",
       "6909      М.Фомина                                  А.Киселев   \n",
       "7281     Лулу Ванг  Анита Го, Даниэль Тейт Мелиа, Эндрю Миано   \n",
       "\n",
       "                      age_restriction  refundable_support  \\\n",
       "266   «12+» - для детей старше 12 лет                <NA>   \n",
       "5514  «16+» - для детей старше 16 лет                <NA>   \n",
       "6909  «16+» - для детей старше 16 лет                <NA>   \n",
       "7281  «16+» - для детей старше 16 лет                <NA>   \n",
       "\n",
       "      nonrefundable_support  budget financing_source  ratings genres  \\\n",
       "266                    <NA>    <NA>              NaN      7.2  драма   \n",
       "5514                   <NA>    <NA>              NaN      7.2  драма   \n",
       "6909                   <NA>    <NA>              NaN      7.2  драма   \n",
       "7281                   <NA>    <NA>              NaN      7.2  драма   \n",
       "\n",
       "      box_office  \n",
       "266          NaN  \n",
       "5514         NaN  \n",
       "6909         NaN  \n",
       "7281   2617932.5  "
      ]
     },
     "metadata": {},
     "output_type": "display_data"
    },
    {
     "data": {
      "text/html": [
       "<div>\n",
       "<style scoped>\n",
       "    .dataframe tbody tr th:only-of-type {\n",
       "        vertical-align: middle;\n",
       "    }\n",
       "\n",
       "    .dataframe tbody tr th {\n",
       "        vertical-align: top;\n",
       "    }\n",
       "\n",
       "    .dataframe thead th {\n",
       "        text-align: right;\n",
       "    }\n",
       "</style>\n",
       "<table border=\"1\" class=\"dataframe\">\n",
       "  <thead>\n",
       "    <tr style=\"text-align: right;\">\n",
       "      <th></th>\n",
       "      <th>title</th>\n",
       "      <th>puNumber</th>\n",
       "      <th>show_start_date</th>\n",
       "      <th>type</th>\n",
       "      <th>film_studio</th>\n",
       "      <th>production_country</th>\n",
       "      <th>director</th>\n",
       "      <th>producer</th>\n",
       "      <th>age_restriction</th>\n",
       "      <th>refundable_support</th>\n",
       "      <th>nonrefundable_support</th>\n",
       "      <th>budget</th>\n",
       "      <th>financing_source</th>\n",
       "      <th>ratings</th>\n",
       "      <th>genres</th>\n",
       "      <th>box_office</th>\n",
       "    </tr>\n",
       "  </thead>\n",
       "  <tbody>\n",
       "    <tr>\n",
       "      <th>86</th>\n",
       "      <td>Валентина</td>\n",
       "      <td>111012713</td>\n",
       "      <td>2013-12-19</td>\n",
       "      <td>Художественный</td>\n",
       "      <td>Киностудия \"Мосфильм\"</td>\n",
       "      <td>СССР</td>\n",
       "      <td>Г.Панфилов</td>\n",
       "      <td>NaN</td>\n",
       "      <td>«6+» - для детей старше 6 лет</td>\n",
       "      <td>&lt;NA&gt;</td>\n",
       "      <td>&lt;NA&gt;</td>\n",
       "      <td>&lt;NA&gt;</td>\n",
       "      <td>NaN</td>\n",
       "      <td>7.5</td>\n",
       "      <td>драма</td>\n",
       "      <td>NaN</td>\n",
       "    </tr>\n",
       "    <tr>\n",
       "      <th>6899</th>\n",
       "      <td>Валентина</td>\n",
       "      <td>112003919</td>\n",
       "      <td>2019-05-03</td>\n",
       "      <td>Документальный</td>\n",
       "      <td>ООО Кинокомпания \"Мастерская\"</td>\n",
       "      <td>Россия</td>\n",
       "      <td>Д.Былинушкина</td>\n",
       "      <td>С.Медведева, Ю.Медведева, М.Стрелкова, В.Черкашин</td>\n",
       "      <td>«12+» - для детей старше 12 лет</td>\n",
       "      <td>&lt;NA&gt;</td>\n",
       "      <td>&lt;NA&gt;</td>\n",
       "      <td>&lt;NA&gt;</td>\n",
       "      <td>NaN</td>\n",
       "      <td>7.5</td>\n",
       "      <td>драма</td>\n",
       "      <td>NaN</td>\n",
       "    </tr>\n",
       "  </tbody>\n",
       "</table>\n",
       "</div>"
      ],
      "text/plain": [
       "          title   puNumber show_start_date            type  \\\n",
       "86    Валентина  111012713      2013-12-19  Художественный   \n",
       "6899  Валентина  112003919      2019-05-03  Документальный   \n",
       "\n",
       "                        film_studio production_country       director  \\\n",
       "86            Киностудия \"Мосфильм\"               СССР     Г.Панфилов   \n",
       "6899  ООО Кинокомпания \"Мастерская\"             Россия  Д.Былинушкина   \n",
       "\n",
       "                                               producer  \\\n",
       "86                                                  NaN   \n",
       "6899  С.Медведева, Ю.Медведева, М.Стрелкова, В.Черкашин   \n",
       "\n",
       "                      age_restriction  refundable_support  \\\n",
       "86      «6+» - для детей старше 6 лет                <NA>   \n",
       "6899  «12+» - для детей старше 12 лет                <NA>   \n",
       "\n",
       "      nonrefundable_support  budget financing_source  ratings genres  \\\n",
       "86                     <NA>    <NA>              NaN      7.5  драма   \n",
       "6899                   <NA>    <NA>              NaN      7.5  драма   \n",
       "\n",
       "      box_office  \n",
       "86           NaN  \n",
       "6899         NaN  "
      ]
     },
     "metadata": {},
     "output_type": "display_data"
    },
    {
     "data": {
      "text/html": [
       "<div>\n",
       "<style scoped>\n",
       "    .dataframe tbody tr th:only-of-type {\n",
       "        vertical-align: middle;\n",
       "    }\n",
       "\n",
       "    .dataframe tbody tr th {\n",
       "        vertical-align: top;\n",
       "    }\n",
       "\n",
       "    .dataframe thead th {\n",
       "        text-align: right;\n",
       "    }\n",
       "</style>\n",
       "<table border=\"1\" class=\"dataframe\">\n",
       "  <thead>\n",
       "    <tr style=\"text-align: right;\">\n",
       "      <th></th>\n",
       "      <th>title</th>\n",
       "      <th>puNumber</th>\n",
       "      <th>show_start_date</th>\n",
       "      <th>type</th>\n",
       "      <th>film_studio</th>\n",
       "      <th>production_country</th>\n",
       "      <th>director</th>\n",
       "      <th>producer</th>\n",
       "      <th>age_restriction</th>\n",
       "      <th>refundable_support</th>\n",
       "      <th>nonrefundable_support</th>\n",
       "      <th>budget</th>\n",
       "      <th>financing_source</th>\n",
       "      <th>ratings</th>\n",
       "      <th>genres</th>\n",
       "      <th>box_office</th>\n",
       "    </tr>\n",
       "  </thead>\n",
       "  <tbody>\n",
       "    <tr>\n",
       "      <th>3268</th>\n",
       "      <td>Ложные признания</td>\n",
       "      <td>121034216</td>\n",
       "      <td>2016-12-21</td>\n",
       "      <td>Художественный</td>\n",
       "      <td>Арт Франс, Идеаль Аудиенс, Маха Продюксьон, Од...</td>\n",
       "      <td>Франция</td>\n",
       "      <td>Люк Бонди</td>\n",
       "      <td>NaN</td>\n",
       "      <td>«16+» - для детей старше 16 лет</td>\n",
       "      <td>&lt;NA&gt;</td>\n",
       "      <td>&lt;NA&gt;</td>\n",
       "      <td>&lt;NA&gt;</td>\n",
       "      <td>NaN</td>\n",
       "      <td>5.4</td>\n",
       "      <td>драма,комедия</td>\n",
       "      <td>1242819.0</td>\n",
       "    </tr>\n",
       "    <tr>\n",
       "      <th>6870</th>\n",
       "      <td>Ложные признания</td>\n",
       "      <td>126001119</td>\n",
       "      <td>2019-04-26</td>\n",
       "      <td>Прочие</td>\n",
       "      <td>Гуд Компани Пикчерз</td>\n",
       "      <td>Дания - США</td>\n",
       "      <td>Катрин Филип</td>\n",
       "      <td>Рейнхарт Бетц, Пол Видерхольд, Катрин Шальстрём</td>\n",
       "      <td>«18+» - запрещено для детей</td>\n",
       "      <td>&lt;NA&gt;</td>\n",
       "      <td>&lt;NA&gt;</td>\n",
       "      <td>&lt;NA&gt;</td>\n",
       "      <td>NaN</td>\n",
       "      <td>5.4</td>\n",
       "      <td>драма,комедия</td>\n",
       "      <td>NaN</td>\n",
       "    </tr>\n",
       "  </tbody>\n",
       "</table>\n",
       "</div>"
      ],
      "text/plain": [
       "                 title   puNumber show_start_date            type  \\\n",
       "3268  Ложные признания  121034216      2016-12-21  Художественный   \n",
       "6870  Ложные признания  126001119      2019-04-26          Прочие   \n",
       "\n",
       "                                            film_studio production_country  \\\n",
       "3268  Арт Франс, Идеаль Аудиенс, Маха Продюксьон, Од...            Франция   \n",
       "6870                                Гуд Компани Пикчерз        Дания - США   \n",
       "\n",
       "          director                                         producer  \\\n",
       "3268     Люк Бонди                                              NaN   \n",
       "6870  Катрин Филип  Рейнхарт Бетц, Пол Видерхольд, Катрин Шальстрём   \n",
       "\n",
       "                      age_restriction  refundable_support  \\\n",
       "3268  «16+» - для детей старше 16 лет                <NA>   \n",
       "6870      «18+» - запрещено для детей                <NA>   \n",
       "\n",
       "      nonrefundable_support  budget financing_source  ratings         genres  \\\n",
       "3268                   <NA>    <NA>              NaN      5.4  драма,комедия   \n",
       "6870                   <NA>    <NA>              NaN      5.4  драма,комедия   \n",
       "\n",
       "      box_office  \n",
       "3268   1242819.0  \n",
       "6870         NaN  "
      ]
     },
     "metadata": {},
     "output_type": "display_data"
    },
    {
     "data": {
      "text/html": [
       "<div>\n",
       "<style scoped>\n",
       "    .dataframe tbody tr th:only-of-type {\n",
       "        vertical-align: middle;\n",
       "    }\n",
       "\n",
       "    .dataframe tbody tr th {\n",
       "        vertical-align: top;\n",
       "    }\n",
       "\n",
       "    .dataframe thead th {\n",
       "        text-align: right;\n",
       "    }\n",
       "</style>\n",
       "<table border=\"1\" class=\"dataframe\">\n",
       "  <thead>\n",
       "    <tr style=\"text-align: right;\">\n",
       "      <th></th>\n",
       "      <th>title</th>\n",
       "      <th>puNumber</th>\n",
       "      <th>show_start_date</th>\n",
       "      <th>type</th>\n",
       "      <th>film_studio</th>\n",
       "      <th>production_country</th>\n",
       "      <th>director</th>\n",
       "      <th>producer</th>\n",
       "      <th>age_restriction</th>\n",
       "      <th>refundable_support</th>\n",
       "      <th>nonrefundable_support</th>\n",
       "      <th>budget</th>\n",
       "      <th>financing_source</th>\n",
       "      <th>ratings</th>\n",
       "      <th>genres</th>\n",
       "      <th>box_office</th>\n",
       "    </tr>\n",
       "  </thead>\n",
       "  <tbody>\n",
       "    <tr>\n",
       "      <th>5430</th>\n",
       "      <td>Вторжение</td>\n",
       "      <td>124002417</td>\n",
       "      <td>2017-08-01</td>\n",
       "      <td>Анимационный</td>\n",
       "      <td>Баобаб Студиос</td>\n",
       "      <td>США</td>\n",
       "      <td>Эрик Дарнелл</td>\n",
       "      <td>NaN</td>\n",
       "      <td>«6+» - для детей старше 6 лет</td>\n",
       "      <td>&lt;NA&gt;</td>\n",
       "      <td>&lt;NA&gt;</td>\n",
       "      <td>&lt;NA&gt;</td>\n",
       "      <td>NaN</td>\n",
       "      <td>5.7</td>\n",
       "      <td>фантастика,боевик</td>\n",
       "      <td>NaN</td>\n",
       "    </tr>\n",
       "    <tr>\n",
       "      <th>7474</th>\n",
       "      <td>Вторжение</td>\n",
       "      <td>111022519</td>\n",
       "      <td>2019-12-23</td>\n",
       "      <td>Художественный</td>\n",
       "      <td>ООО \"Арт Пикчерс Студия\", ООО \"Водород 2011\"</td>\n",
       "      <td>Россия</td>\n",
       "      <td>Ф.Бондарчук</td>\n",
       "      <td>Ф.Бондарчук, М.Врубель, А.Андрющенко, Д.Рудовский</td>\n",
       "      <td>«12+» - для детей старше 12 лет</td>\n",
       "      <td>100000000</td>\n",
       "      <td>400000000</td>\n",
       "      <td>944000000</td>\n",
       "      <td>Фонд кино</td>\n",
       "      <td>5.7</td>\n",
       "      <td>фантастика,боевик</td>\n",
       "      <td>NaN</td>\n",
       "    </tr>\n",
       "  </tbody>\n",
       "</table>\n",
       "</div>"
      ],
      "text/plain": [
       "          title   puNumber show_start_date             type  \\\n",
       "5430  Вторжение  124002417      2017-08-01     Анимационный   \n",
       "7474  Вторжение  111022519      2019-12-23   Художественный   \n",
       "\n",
       "                                       film_studio production_country  \\\n",
       "5430                                Баобаб Студиос                США   \n",
       "7474  ООО \"Арт Пикчерс Студия\", ООО \"Водород 2011\"             Россия   \n",
       "\n",
       "          director                                           producer  \\\n",
       "5430  Эрик Дарнелл                                                NaN   \n",
       "7474   Ф.Бондарчук  Ф.Бондарчук, М.Врубель, А.Андрющенко, Д.Рудовский   \n",
       "\n",
       "                      age_restriction  refundable_support  \\\n",
       "5430    «6+» - для детей старше 6 лет                <NA>   \n",
       "7474  «12+» - для детей старше 12 лет           100000000   \n",
       "\n",
       "      nonrefundable_support     budget financing_source  ratings  \\\n",
       "5430                   <NA>       <NA>              NaN      5.7   \n",
       "7474              400000000  944000000        Фонд кино      5.7   \n",
       "\n",
       "                 genres  box_office  \n",
       "5430  фантастика,боевик         NaN  \n",
       "7474  фантастика,боевик         NaN  "
      ]
     },
     "metadata": {},
     "output_type": "display_data"
    },
    {
     "data": {
      "text/html": [
       "<div>\n",
       "<style scoped>\n",
       "    .dataframe tbody tr th:only-of-type {\n",
       "        vertical-align: middle;\n",
       "    }\n",
       "\n",
       "    .dataframe tbody tr th {\n",
       "        vertical-align: top;\n",
       "    }\n",
       "\n",
       "    .dataframe thead th {\n",
       "        text-align: right;\n",
       "    }\n",
       "</style>\n",
       "<table border=\"1\" class=\"dataframe\">\n",
       "  <thead>\n",
       "    <tr style=\"text-align: right;\">\n",
       "      <th></th>\n",
       "      <th>title</th>\n",
       "      <th>puNumber</th>\n",
       "      <th>show_start_date</th>\n",
       "      <th>type</th>\n",
       "      <th>film_studio</th>\n",
       "      <th>production_country</th>\n",
       "      <th>director</th>\n",
       "      <th>producer</th>\n",
       "      <th>age_restriction</th>\n",
       "      <th>refundable_support</th>\n",
       "      <th>nonrefundable_support</th>\n",
       "      <th>budget</th>\n",
       "      <th>financing_source</th>\n",
       "      <th>ratings</th>\n",
       "      <th>genres</th>\n",
       "      <th>box_office</th>\n",
       "    </tr>\n",
       "  </thead>\n",
       "  <tbody>\n",
       "    <tr>\n",
       "      <th>309</th>\n",
       "      <td>Успех</td>\n",
       "      <td>111027414</td>\n",
       "      <td>2014-12-24</td>\n",
       "      <td>Художественный</td>\n",
       "      <td>Киностудия \"Мосфильм\"</td>\n",
       "      <td>СССР</td>\n",
       "      <td>К.Худяков</td>\n",
       "      <td>NaN</td>\n",
       "      <td>«12+» - для детей старше 12 лет</td>\n",
       "      <td>&lt;NA&gt;</td>\n",
       "      <td>&lt;NA&gt;</td>\n",
       "      <td>&lt;NA&gt;</td>\n",
       "      <td>NaN</td>\n",
       "      <td>7.8</td>\n",
       "      <td>драма</td>\n",
       "      <td>NaN</td>\n",
       "    </tr>\n",
       "    <tr>\n",
       "      <th>5937</th>\n",
       "      <td>Успех</td>\n",
       "      <td>111008418</td>\n",
       "      <td>2018-06-14</td>\n",
       "      <td>Художественный</td>\n",
       "      <td>Сунцов Валентин Валерьевич</td>\n",
       "      <td>Россия</td>\n",
       "      <td>В.Сунцов</td>\n",
       "      <td>В.Сунцов</td>\n",
       "      <td>«12+» - для детей старше 12 лет</td>\n",
       "      <td>&lt;NA&gt;</td>\n",
       "      <td>&lt;NA&gt;</td>\n",
       "      <td>&lt;NA&gt;</td>\n",
       "      <td>NaN</td>\n",
       "      <td>7.8</td>\n",
       "      <td>драма</td>\n",
       "      <td>NaN</td>\n",
       "    </tr>\n",
       "    <tr>\n",
       "      <th>7322</th>\n",
       "      <td>Успех</td>\n",
       "      <td>111018519</td>\n",
       "      <td>2019-11-04</td>\n",
       "      <td>Художественный</td>\n",
       "      <td>ООО \"Кинодом\"</td>\n",
       "      <td>Россия</td>\n",
       "      <td>П.Руминов</td>\n",
       "      <td>С.Бобза, Г.Малков, В.Поляков, М.Кучмент</td>\n",
       "      <td>«12+» - для детей старше 12 лет</td>\n",
       "      <td>5000000</td>\n",
       "      <td>20000000</td>\n",
       "      <td>75000000</td>\n",
       "      <td>Фонд кино</td>\n",
       "      <td>7.8</td>\n",
       "      <td>драма</td>\n",
       "      <td>3181218.0</td>\n",
       "    </tr>\n",
       "  </tbody>\n",
       "</table>\n",
       "</div>"
      ],
      "text/plain": [
       "      title   puNumber show_start_date             type  \\\n",
       "309   Успех  111027414      2014-12-24   Художественный   \n",
       "5937  Успех  111008418      2018-06-14   Художественный   \n",
       "7322  Успех  111018519      2019-11-04   Художественный   \n",
       "\n",
       "                     film_studio production_country   director  \\\n",
       "309        Киностудия \"Мосфильм\"               СССР  К.Худяков   \n",
       "5937  Сунцов Валентин Валерьевич             Россия   В.Сунцов   \n",
       "7322               ООО \"Кинодом\"             Россия  П.Руминов   \n",
       "\n",
       "                                     producer  \\\n",
       "309                                       NaN   \n",
       "5937                                 В.Сунцов   \n",
       "7322  С.Бобза, Г.Малков, В.Поляков, М.Кучмент   \n",
       "\n",
       "                      age_restriction  refundable_support  \\\n",
       "309   «12+» - для детей старше 12 лет                <NA>   \n",
       "5937  «12+» - для детей старше 12 лет                <NA>   \n",
       "7322  «12+» - для детей старше 12 лет             5000000   \n",
       "\n",
       "      nonrefundable_support    budget financing_source  ratings genres  \\\n",
       "309                    <NA>      <NA>              NaN      7.8  драма   \n",
       "5937                   <NA>      <NA>              NaN      7.8  драма   \n",
       "7322               20000000  75000000        Фонд кино      7.8  драма   \n",
       "\n",
       "      box_office  \n",
       "309          NaN  \n",
       "5937         NaN  \n",
       "7322   3181218.0  "
      ]
     },
     "metadata": {},
     "output_type": "display_data"
    }
   ],
   "source": [
    "titles = list(set(df[df['title'].isin(df[df['producer'].isna()]['title'].unique()) &~ df['producer'].isna()]['title'].to_list()))\n",
    "for title in titles:\n",
    "    display(df[(df['title'] == title)])"
   ]
  },
  {
   "cell_type": "markdown",
   "metadata": {},
   "source": [
    "Наша функция наконец-то нашла несколько фильмов, с повторяющимися названиями, но имеющих разные данные в указанном нами столбце. К сожалению, при ближайшем изучении этих картин можно сделать вывод, что это разные фильмы с одним названием. Так что все также заполняем пропуска `unknown`:"
   ]
  },
  {
   "cell_type": "code",
   "execution_count": 28,
   "metadata": {},
   "outputs": [],
   "source": [
    "df['producer'] = df['producer'].fillna('unknown')"
   ]
  },
  {
   "cell_type": "markdown",
   "metadata": {},
   "source": [
    "Слудющие пропуски идут в столбцах `refundable_support`, `nonrefundable_support`. Проверим их нашей функцией:"
   ]
  },
  {
   "cell_type": "code",
   "execution_count": 29,
   "metadata": {},
   "outputs": [
    {
     "name": "stdout",
     "output_type": "stream",
     "text": [
      "5\n",
      "5\n"
     ]
    }
   ],
   "source": [
    "print(check('refundable_support'))\n",
    "print(check('nonrefundable_support'))"
   ]
  },
  {
   "cell_type": "code",
   "execution_count": 30,
   "metadata": {
    "scrolled": false
   },
   "outputs": [
    {
     "data": {
      "text/html": [
       "<div>\n",
       "<style scoped>\n",
       "    .dataframe tbody tr th:only-of-type {\n",
       "        vertical-align: middle;\n",
       "    }\n",
       "\n",
       "    .dataframe tbody tr th {\n",
       "        vertical-align: top;\n",
       "    }\n",
       "\n",
       "    .dataframe thead th {\n",
       "        text-align: right;\n",
       "    }\n",
       "</style>\n",
       "<table border=\"1\" class=\"dataframe\">\n",
       "  <thead>\n",
       "    <tr style=\"text-align: right;\">\n",
       "      <th></th>\n",
       "      <th>title</th>\n",
       "      <th>puNumber</th>\n",
       "      <th>show_start_date</th>\n",
       "      <th>type</th>\n",
       "      <th>film_studio</th>\n",
       "      <th>production_country</th>\n",
       "      <th>director</th>\n",
       "      <th>producer</th>\n",
       "      <th>age_restriction</th>\n",
       "      <th>refundable_support</th>\n",
       "      <th>nonrefundable_support</th>\n",
       "      <th>budget</th>\n",
       "      <th>financing_source</th>\n",
       "      <th>ratings</th>\n",
       "      <th>genres</th>\n",
       "      <th>box_office</th>\n",
       "    </tr>\n",
       "  </thead>\n",
       "  <tbody>\n",
       "    <tr>\n",
       "      <th>5829</th>\n",
       "      <td>Прощаться не будем</td>\n",
       "      <td>111003418</td>\n",
       "      <td>2018-06-21</td>\n",
       "      <td>Художественный</td>\n",
       "      <td>ООО \"РФГ Корп\", ООО \"Студия \"МОСТ\"</td>\n",
       "      <td>Россия</td>\n",
       "      <td>П.Дроздов</td>\n",
       "      <td>А.Петрухин</td>\n",
       "      <td>«6+» - для детей старше 6 лет</td>\n",
       "      <td>0</td>\n",
       "      <td>35000000</td>\n",
       "      <td>109814241</td>\n",
       "      <td>Министерство культуры</td>\n",
       "      <td>5.8</td>\n",
       "      <td>военный,драма,история</td>\n",
       "      <td>5539973.15</td>\n",
       "    </tr>\n",
       "    <tr>\n",
       "      <th>6360</th>\n",
       "      <td>Прощаться не будем</td>\n",
       "      <td>111021318</td>\n",
       "      <td>2018-11-06</td>\n",
       "      <td>Художественный</td>\n",
       "      <td>ООО \"Студия \"МОСТ\", ООО \"РФГ Корп\"</td>\n",
       "      <td>Россия</td>\n",
       "      <td>П.Дроздов</td>\n",
       "      <td>А.Петрухин</td>\n",
       "      <td>«12+» - для детей старше 12 лет</td>\n",
       "      <td>&lt;NA&gt;</td>\n",
       "      <td>&lt;NA&gt;</td>\n",
       "      <td>&lt;NA&gt;</td>\n",
       "      <td>NaN</td>\n",
       "      <td>5.8</td>\n",
       "      <td>военный,драма,история</td>\n",
       "      <td>NaN</td>\n",
       "    </tr>\n",
       "  </tbody>\n",
       "</table>\n",
       "</div>"
      ],
      "text/plain": [
       "                   title   puNumber show_start_date             type  \\\n",
       "5829  Прощаться не будем  111003418      2018-06-21   Художественный   \n",
       "6360  Прощаться не будем  111021318      2018-11-06   Художественный   \n",
       "\n",
       "                             film_studio production_country   director  \\\n",
       "5829  ООО \"РФГ Корп\", ООО \"Студия \"МОСТ\"             Россия  П.Дроздов   \n",
       "6360  ООО \"Студия \"МОСТ\", ООО \"РФГ Корп\"             Россия  П.Дроздов   \n",
       "\n",
       "        producer                  age_restriction  refundable_support  \\\n",
       "5829  А.Петрухин    «6+» - для детей старше 6 лет                   0   \n",
       "6360  А.Петрухин  «12+» - для детей старше 12 лет                <NA>   \n",
       "\n",
       "      nonrefundable_support     budget       financing_source  ratings  \\\n",
       "5829               35000000  109814241  Министерство культуры      5.8   \n",
       "6360                   <NA>       <NA>                    NaN      5.8   \n",
       "\n",
       "                     genres  box_office  \n",
       "5829  военный,драма,история  5539973.15  \n",
       "6360  военный,драма,история         NaN  "
      ]
     },
     "metadata": {},
     "output_type": "display_data"
    },
    {
     "data": {
      "text/html": [
       "<div>\n",
       "<style scoped>\n",
       "    .dataframe tbody tr th:only-of-type {\n",
       "        vertical-align: middle;\n",
       "    }\n",
       "\n",
       "    .dataframe tbody tr th {\n",
       "        vertical-align: top;\n",
       "    }\n",
       "\n",
       "    .dataframe thead th {\n",
       "        text-align: right;\n",
       "    }\n",
       "</style>\n",
       "<table border=\"1\" class=\"dataframe\">\n",
       "  <thead>\n",
       "    <tr style=\"text-align: right;\">\n",
       "      <th></th>\n",
       "      <th>title</th>\n",
       "      <th>puNumber</th>\n",
       "      <th>show_start_date</th>\n",
       "      <th>type</th>\n",
       "      <th>film_studio</th>\n",
       "      <th>production_country</th>\n",
       "      <th>director</th>\n",
       "      <th>producer</th>\n",
       "      <th>age_restriction</th>\n",
       "      <th>refundable_support</th>\n",
       "      <th>nonrefundable_support</th>\n",
       "      <th>budget</th>\n",
       "      <th>financing_source</th>\n",
       "      <th>ratings</th>\n",
       "      <th>genres</th>\n",
       "      <th>box_office</th>\n",
       "    </tr>\n",
       "  </thead>\n",
       "  <tbody>\n",
       "    <tr>\n",
       "      <th>3614</th>\n",
       "      <td>Три сестры</td>\n",
       "      <td>111004417</td>\n",
       "      <td>2017-06-09</td>\n",
       "      <td>Художественный</td>\n",
       "      <td>ООО \"РТВ\", АО \"ТПО \"Киностудия им. М.Горького\"...</td>\n",
       "      <td>Россия</td>\n",
       "      <td>Ю.Грымов</td>\n",
       "      <td>Ю.Грымов, С.Зернов</td>\n",
       "      <td>«16+» - для детей старше 16 лет</td>\n",
       "      <td>0</td>\n",
       "      <td>25000000</td>\n",
       "      <td>37878787</td>\n",
       "      <td>Министерство культуры</td>\n",
       "      <td>NaN</td>\n",
       "      <td>NaN</td>\n",
       "      <td>1067649.0</td>\n",
       "    </tr>\n",
       "    <tr>\n",
       "      <th>6725</th>\n",
       "      <td>Три сестры</td>\n",
       "      <td>114001219</td>\n",
       "      <td>2019-03-15</td>\n",
       "      <td>Анимационный</td>\n",
       "      <td>ФГУП \"ТПО \"Киностудия \"Союзмультфильм\"</td>\n",
       "      <td>Россия</td>\n",
       "      <td>С.Андрианова</td>\n",
       "      <td>Б.Машковцев</td>\n",
       "      <td>«12+» - для детей старше 12 лет</td>\n",
       "      <td>&lt;NA&gt;</td>\n",
       "      <td>&lt;NA&gt;</td>\n",
       "      <td>&lt;NA&gt;</td>\n",
       "      <td>NaN</td>\n",
       "      <td>NaN</td>\n",
       "      <td>NaN</td>\n",
       "      <td>NaN</td>\n",
       "    </tr>\n",
       "  </tbody>\n",
       "</table>\n",
       "</div>"
      ],
      "text/plain": [
       "           title   puNumber show_start_date            type  \\\n",
       "3614  Три сестры  111004417      2017-06-09  Художественный   \n",
       "6725  Три сестры  114001219      2019-03-15    Анимационный   \n",
       "\n",
       "                                            film_studio production_country  \\\n",
       "3614  ООО \"РТВ\", АО \"ТПО \"Киностудия им. М.Горького\"...             Россия   \n",
       "6725             ФГУП \"ТПО \"Киностудия \"Союзмультфильм\"             Россия   \n",
       "\n",
       "          director            producer                  age_restriction  \\\n",
       "3614      Ю.Грымов  Ю.Грымов, С.Зернов  «16+» - для детей старше 16 лет   \n",
       "6725  С.Андрианова         Б.Машковцев  «12+» - для детей старше 12 лет   \n",
       "\n",
       "      refundable_support  nonrefundable_support    budget  \\\n",
       "3614                   0               25000000  37878787   \n",
       "6725                <NA>                   <NA>      <NA>   \n",
       "\n",
       "           financing_source  ratings genres  box_office  \n",
       "3614  Министерство культуры      NaN    NaN   1067649.0  \n",
       "6725                    NaN      NaN    NaN         NaN  "
      ]
     },
     "metadata": {},
     "output_type": "display_data"
    },
    {
     "data": {
      "text/html": [
       "<div>\n",
       "<style scoped>\n",
       "    .dataframe tbody tr th:only-of-type {\n",
       "        vertical-align: middle;\n",
       "    }\n",
       "\n",
       "    .dataframe tbody tr th {\n",
       "        vertical-align: top;\n",
       "    }\n",
       "\n",
       "    .dataframe thead th {\n",
       "        text-align: right;\n",
       "    }\n",
       "</style>\n",
       "<table border=\"1\" class=\"dataframe\">\n",
       "  <thead>\n",
       "    <tr style=\"text-align: right;\">\n",
       "      <th></th>\n",
       "      <th>title</th>\n",
       "      <th>puNumber</th>\n",
       "      <th>show_start_date</th>\n",
       "      <th>type</th>\n",
       "      <th>film_studio</th>\n",
       "      <th>production_country</th>\n",
       "      <th>director</th>\n",
       "      <th>producer</th>\n",
       "      <th>age_restriction</th>\n",
       "      <th>refundable_support</th>\n",
       "      <th>nonrefundable_support</th>\n",
       "      <th>budget</th>\n",
       "      <th>financing_source</th>\n",
       "      <th>ratings</th>\n",
       "      <th>genres</th>\n",
       "      <th>box_office</th>\n",
       "    </tr>\n",
       "  </thead>\n",
       "  <tbody>\n",
       "    <tr>\n",
       "      <th>5430</th>\n",
       "      <td>Вторжение</td>\n",
       "      <td>124002417</td>\n",
       "      <td>2017-08-01</td>\n",
       "      <td>Анимационный</td>\n",
       "      <td>Баобаб Студиос</td>\n",
       "      <td>США</td>\n",
       "      <td>Эрик Дарнелл</td>\n",
       "      <td>unknown</td>\n",
       "      <td>«6+» - для детей старше 6 лет</td>\n",
       "      <td>&lt;NA&gt;</td>\n",
       "      <td>&lt;NA&gt;</td>\n",
       "      <td>&lt;NA&gt;</td>\n",
       "      <td>NaN</td>\n",
       "      <td>5.7</td>\n",
       "      <td>фантастика,боевик</td>\n",
       "      <td>NaN</td>\n",
       "    </tr>\n",
       "    <tr>\n",
       "      <th>7474</th>\n",
       "      <td>Вторжение</td>\n",
       "      <td>111022519</td>\n",
       "      <td>2019-12-23</td>\n",
       "      <td>Художественный</td>\n",
       "      <td>ООО \"Арт Пикчерс Студия\", ООО \"Водород 2011\"</td>\n",
       "      <td>Россия</td>\n",
       "      <td>Ф.Бондарчук</td>\n",
       "      <td>Ф.Бондарчук, М.Врубель, А.Андрющенко, Д.Рудовский</td>\n",
       "      <td>«12+» - для детей старше 12 лет</td>\n",
       "      <td>100000000</td>\n",
       "      <td>400000000</td>\n",
       "      <td>944000000</td>\n",
       "      <td>Фонд кино</td>\n",
       "      <td>5.7</td>\n",
       "      <td>фантастика,боевик</td>\n",
       "      <td>NaN</td>\n",
       "    </tr>\n",
       "  </tbody>\n",
       "</table>\n",
       "</div>"
      ],
      "text/plain": [
       "          title   puNumber show_start_date             type  \\\n",
       "5430  Вторжение  124002417      2017-08-01     Анимационный   \n",
       "7474  Вторжение  111022519      2019-12-23   Художественный   \n",
       "\n",
       "                                       film_studio production_country  \\\n",
       "5430                                Баобаб Студиос                США   \n",
       "7474  ООО \"Арт Пикчерс Студия\", ООО \"Водород 2011\"             Россия   \n",
       "\n",
       "          director                                           producer  \\\n",
       "5430  Эрик Дарнелл                                            unknown   \n",
       "7474   Ф.Бондарчук  Ф.Бондарчук, М.Врубель, А.Андрющенко, Д.Рудовский   \n",
       "\n",
       "                      age_restriction  refundable_support  \\\n",
       "5430    «6+» - для детей старше 6 лет                <NA>   \n",
       "7474  «12+» - для детей старше 12 лет           100000000   \n",
       "\n",
       "      nonrefundable_support     budget financing_source  ratings  \\\n",
       "5430                   <NA>       <NA>              NaN      5.7   \n",
       "7474              400000000  944000000        Фонд кино      5.7   \n",
       "\n",
       "                 genres  box_office  \n",
       "5430  фантастика,боевик         NaN  \n",
       "7474  фантастика,боевик         NaN  "
      ]
     },
     "metadata": {},
     "output_type": "display_data"
    },
    {
     "data": {
      "text/html": [
       "<div>\n",
       "<style scoped>\n",
       "    .dataframe tbody tr th:only-of-type {\n",
       "        vertical-align: middle;\n",
       "    }\n",
       "\n",
       "    .dataframe tbody tr th {\n",
       "        vertical-align: top;\n",
       "    }\n",
       "\n",
       "    .dataframe thead th {\n",
       "        text-align: right;\n",
       "    }\n",
       "</style>\n",
       "<table border=\"1\" class=\"dataframe\">\n",
       "  <thead>\n",
       "    <tr style=\"text-align: right;\">\n",
       "      <th></th>\n",
       "      <th>title</th>\n",
       "      <th>puNumber</th>\n",
       "      <th>show_start_date</th>\n",
       "      <th>type</th>\n",
       "      <th>film_studio</th>\n",
       "      <th>production_country</th>\n",
       "      <th>director</th>\n",
       "      <th>producer</th>\n",
       "      <th>age_restriction</th>\n",
       "      <th>refundable_support</th>\n",
       "      <th>nonrefundable_support</th>\n",
       "      <th>budget</th>\n",
       "      <th>financing_source</th>\n",
       "      <th>ratings</th>\n",
       "      <th>genres</th>\n",
       "      <th>box_office</th>\n",
       "    </tr>\n",
       "  </thead>\n",
       "  <tbody>\n",
       "    <tr>\n",
       "      <th>6488</th>\n",
       "      <td>Мысленный волк</td>\n",
       "      <td>111023718</td>\n",
       "      <td>2019-06-01</td>\n",
       "      <td>Художественный</td>\n",
       "      <td>ООО САГа\"</td>\n",
       "      <td>Россия</td>\n",
       "      <td>Валерия Гай Германика</td>\n",
       "      <td>Андрей Савельев, Артем Васильев</td>\n",
       "      <td>«16+» - для детей старше 16 лет</td>\n",
       "      <td>&lt;NA&gt;</td>\n",
       "      <td>&lt;NA&gt;</td>\n",
       "      <td>&lt;NA&gt;</td>\n",
       "      <td>NaN</td>\n",
       "      <td>5.3</td>\n",
       "      <td>фэнтези,драма,фильм-нуар</td>\n",
       "      <td>NaN</td>\n",
       "    </tr>\n",
       "    <tr>\n",
       "      <th>6898</th>\n",
       "      <td>Мысленный волк</td>\n",
       "      <td>111007419</td>\n",
       "      <td>2019-06-09</td>\n",
       "      <td>Художественный</td>\n",
       "      <td>ООО \"САГА\"</td>\n",
       "      <td>Россия</td>\n",
       "      <td>Валерия Гай Германика</td>\n",
       "      <td>А.Савельев, А.Васильев, Валерия Гай Германика</td>\n",
       "      <td>«16+» - для детей старше 16 лет</td>\n",
       "      <td>0</td>\n",
       "      <td>30000000</td>\n",
       "      <td>48000000</td>\n",
       "      <td>Министерство культуры</td>\n",
       "      <td>5.3</td>\n",
       "      <td>фэнтези,драма,фильм-нуар</td>\n",
       "      <td>2258384.0</td>\n",
       "    </tr>\n",
       "  </tbody>\n",
       "</table>\n",
       "</div>"
      ],
      "text/plain": [
       "               title   puNumber show_start_date             type film_studio  \\\n",
       "6488  Мысленный волк  111023718      2019-06-01   Художественный   ООО САГа\"   \n",
       "6898  Мысленный волк  111007419      2019-06-09   Художественный  ООО \"САГА\"   \n",
       "\n",
       "     production_country               director  \\\n",
       "6488             Россия  Валерия Гай Германика   \n",
       "6898             Россия  Валерия Гай Германика   \n",
       "\n",
       "                                           producer  \\\n",
       "6488                Андрей Савельев, Артем Васильев   \n",
       "6898  А.Савельев, А.Васильев, Валерия Гай Германика   \n",
       "\n",
       "                      age_restriction  refundable_support  \\\n",
       "6488  «16+» - для детей старше 16 лет                <NA>   \n",
       "6898  «16+» - для детей старше 16 лет                   0   \n",
       "\n",
       "      nonrefundable_support    budget       financing_source  ratings  \\\n",
       "6488                   <NA>      <NA>                    NaN      5.3   \n",
       "6898               30000000  48000000  Министерство культуры      5.3   \n",
       "\n",
       "                        genres  box_office  \n",
       "6488  фэнтези,драма,фильм-нуар         NaN  \n",
       "6898  фэнтези,драма,фильм-нуар   2258384.0  "
      ]
     },
     "metadata": {},
     "output_type": "display_data"
    },
    {
     "data": {
      "text/html": [
       "<div>\n",
       "<style scoped>\n",
       "    .dataframe tbody tr th:only-of-type {\n",
       "        vertical-align: middle;\n",
       "    }\n",
       "\n",
       "    .dataframe tbody tr th {\n",
       "        vertical-align: top;\n",
       "    }\n",
       "\n",
       "    .dataframe thead th {\n",
       "        text-align: right;\n",
       "    }\n",
       "</style>\n",
       "<table border=\"1\" class=\"dataframe\">\n",
       "  <thead>\n",
       "    <tr style=\"text-align: right;\">\n",
       "      <th></th>\n",
       "      <th>title</th>\n",
       "      <th>puNumber</th>\n",
       "      <th>show_start_date</th>\n",
       "      <th>type</th>\n",
       "      <th>film_studio</th>\n",
       "      <th>production_country</th>\n",
       "      <th>director</th>\n",
       "      <th>producer</th>\n",
       "      <th>age_restriction</th>\n",
       "      <th>refundable_support</th>\n",
       "      <th>nonrefundable_support</th>\n",
       "      <th>budget</th>\n",
       "      <th>financing_source</th>\n",
       "      <th>ratings</th>\n",
       "      <th>genres</th>\n",
       "      <th>box_office</th>\n",
       "    </tr>\n",
       "  </thead>\n",
       "  <tbody>\n",
       "    <tr>\n",
       "      <th>309</th>\n",
       "      <td>Успех</td>\n",
       "      <td>111027414</td>\n",
       "      <td>2014-12-24</td>\n",
       "      <td>Художественный</td>\n",
       "      <td>Киностудия \"Мосфильм\"</td>\n",
       "      <td>СССР</td>\n",
       "      <td>К.Худяков</td>\n",
       "      <td>unknown</td>\n",
       "      <td>«12+» - для детей старше 12 лет</td>\n",
       "      <td>&lt;NA&gt;</td>\n",
       "      <td>&lt;NA&gt;</td>\n",
       "      <td>&lt;NA&gt;</td>\n",
       "      <td>NaN</td>\n",
       "      <td>7.8</td>\n",
       "      <td>драма</td>\n",
       "      <td>NaN</td>\n",
       "    </tr>\n",
       "    <tr>\n",
       "      <th>5937</th>\n",
       "      <td>Успех</td>\n",
       "      <td>111008418</td>\n",
       "      <td>2018-06-14</td>\n",
       "      <td>Художественный</td>\n",
       "      <td>Сунцов Валентин Валерьевич</td>\n",
       "      <td>Россия</td>\n",
       "      <td>В.Сунцов</td>\n",
       "      <td>В.Сунцов</td>\n",
       "      <td>«12+» - для детей старше 12 лет</td>\n",
       "      <td>&lt;NA&gt;</td>\n",
       "      <td>&lt;NA&gt;</td>\n",
       "      <td>&lt;NA&gt;</td>\n",
       "      <td>NaN</td>\n",
       "      <td>7.8</td>\n",
       "      <td>драма</td>\n",
       "      <td>NaN</td>\n",
       "    </tr>\n",
       "    <tr>\n",
       "      <th>7322</th>\n",
       "      <td>Успех</td>\n",
       "      <td>111018519</td>\n",
       "      <td>2019-11-04</td>\n",
       "      <td>Художественный</td>\n",
       "      <td>ООО \"Кинодом\"</td>\n",
       "      <td>Россия</td>\n",
       "      <td>П.Руминов</td>\n",
       "      <td>С.Бобза, Г.Малков, В.Поляков, М.Кучмент</td>\n",
       "      <td>«12+» - для детей старше 12 лет</td>\n",
       "      <td>5000000</td>\n",
       "      <td>20000000</td>\n",
       "      <td>75000000</td>\n",
       "      <td>Фонд кино</td>\n",
       "      <td>7.8</td>\n",
       "      <td>драма</td>\n",
       "      <td>3181218.0</td>\n",
       "    </tr>\n",
       "  </tbody>\n",
       "</table>\n",
       "</div>"
      ],
      "text/plain": [
       "      title   puNumber show_start_date             type  \\\n",
       "309   Успех  111027414      2014-12-24   Художественный   \n",
       "5937  Успех  111008418      2018-06-14   Художественный   \n",
       "7322  Успех  111018519      2019-11-04   Художественный   \n",
       "\n",
       "                     film_studio production_country   director  \\\n",
       "309        Киностудия \"Мосфильм\"               СССР  К.Худяков   \n",
       "5937  Сунцов Валентин Валерьевич             Россия   В.Сунцов   \n",
       "7322               ООО \"Кинодом\"             Россия  П.Руминов   \n",
       "\n",
       "                                     producer  \\\n",
       "309                                   unknown   \n",
       "5937                                 В.Сунцов   \n",
       "7322  С.Бобза, Г.Малков, В.Поляков, М.Кучмент   \n",
       "\n",
       "                      age_restriction  refundable_support  \\\n",
       "309   «12+» - для детей старше 12 лет                <NA>   \n",
       "5937  «12+» - для детей старше 12 лет                <NA>   \n",
       "7322  «12+» - для детей старше 12 лет             5000000   \n",
       "\n",
       "      nonrefundable_support    budget financing_source  ratings genres  \\\n",
       "309                    <NA>      <NA>              NaN      7.8  драма   \n",
       "5937                   <NA>      <NA>              NaN      7.8  драма   \n",
       "7322               20000000  75000000        Фонд кино      7.8  драма   \n",
       "\n",
       "      box_office  \n",
       "309          NaN  \n",
       "5937         NaN  \n",
       "7322   3181218.0  "
      ]
     },
     "metadata": {},
     "output_type": "display_data"
    }
   ],
   "source": [
    "titles = list(set(df[df['title'].isin(df[df['refundable_support'].isna()]['title'].unique()) &~ df['refundable_support'].isna()]['title'].to_list()))\n",
    "for title in titles:\n",
    "    display(df[(df['title'] == title)])"
   ]
  },
  {
   "cell_type": "markdown",
   "metadata": {},
   "source": [
    "А вот тут ситуация уже интереснее. Мы имеем 3 группы фильмов, у которых просто совпали названия, и 2 повторяющихся фильма, под разными прокатными удостоверениями. Заполнить в этих 2ух фильмах пропуски в столбцах поддержки у нас не получится, поскольку в этом случае эти данные будут учтены дважды. Оставим пропуски в столбцах `refundable_support`, `nonrefundable_support`, `budget` и `financing_source` как есть. Поскольку для столбцов о поддержке и источнике поддержки пропуски это просто отсутствие этой поддержки."
   ]
  },
  {
   "cell_type": "markdown",
   "metadata": {},
   "source": [
    "Далее следуют пропуска в столбце `raitings`:"
   ]
  },
  {
   "cell_type": "code",
   "execution_count": 31,
   "metadata": {
    "scrolled": true
   },
   "outputs": [
    {
     "data": {
      "text/plain": [
       "0"
      ]
     },
     "execution_count": 31,
     "metadata": {},
     "output_type": "execute_result"
    }
   ],
   "source": [
    "check('ratings')"
   ]
  },
  {
   "cell_type": "markdown",
   "metadata": {},
   "source": [
    "Просто так заполнить этот столбец мы не можем, оставляем пропуски. Перейдем к столбу с указанием жанра фильма:"
   ]
  },
  {
   "cell_type": "code",
   "execution_count": 32,
   "metadata": {
    "scrolled": true
   },
   "outputs": [
    {
     "data": {
      "text/plain": [
       "0"
      ]
     },
     "execution_count": 32,
     "metadata": {},
     "output_type": "execute_result"
    }
   ],
   "source": [
    "check('genres')"
   ]
  },
  {
   "cell_type": "markdown",
   "metadata": {},
   "source": [
    "Жанры мы также не сможем заполнить, но тут мы можем заполнить пропуски на `unknown`:"
   ]
  },
  {
   "cell_type": "code",
   "execution_count": 33,
   "metadata": {},
   "outputs": [],
   "source": [
    "df['genres'] = df['genres'].fillna('unknown')"
   ]
  },
  {
   "cell_type": "markdown",
   "metadata": {},
   "source": [
    "И последний столбец это сборы. В нем пропуски мы сможем заполнить, разве что только вручную, а искать информацию о сборах для 4 тыс. фильмов это сизифов труд. Будем надеятся, что имеющихся данных о сборах будет достаточно для анализа."
   ]
  },
  {
   "cell_type": "code",
   "execution_count": 34,
   "metadata": {},
   "outputs": [
    {
     "name": "stdout",
     "output_type": "stream",
     "text": [
      "<class 'pandas.core.frame.DataFrame'>\n",
      "Int64Index: 7486 entries, 0 to 7485\n",
      "Data columns (total 16 columns):\n",
      " #   Column                 Non-Null Count  Dtype         \n",
      "---  ------                 --------------  -----         \n",
      " 0   title                  7486 non-null   object        \n",
      " 1   puNumber               7485 non-null   Int64         \n",
      " 2   show_start_date        7486 non-null   datetime64[ns]\n",
      " 3   type                   7486 non-null   object        \n",
      " 4   film_studio            7486 non-null   object        \n",
      " 5   production_country     7486 non-null   object        \n",
      " 6   director               7486 non-null   object        \n",
      " 7   producer               7486 non-null   object        \n",
      " 8   age_restriction        7486 non-null   object        \n",
      " 9   refundable_support     332 non-null    Int64         \n",
      " 10  nonrefundable_support  332 non-null    Int64         \n",
      " 11  budget                 332 non-null    Int64         \n",
      " 12  financing_source       332 non-null    object        \n",
      " 13  ratings                6519 non-null   float32       \n",
      " 14  genres                 7486 non-null   object        \n",
      " 15  box_office             3158 non-null   float64       \n",
      "dtypes: Int64(4), datetime64[ns](1), float32(1), float64(1), object(9)\n",
      "memory usage: 994.2+ KB\n"
     ]
    }
   ],
   "source": [
    "df.info()"
   ]
  },
  {
   "cell_type": "markdown",
   "metadata": {
    "id": "4c6k1t9ygFyQ"
   },
   "source": [
    "#### Шаг 2.3. Изучим дубликаты в датафрейме"
   ]
  },
  {
   "cell_type": "markdown",
   "metadata": {},
   "source": [
    "Для начала сделаем самое очевидное: проверим, нет ли в датафрейме явных дубликатов:"
   ]
  },
  {
   "cell_type": "code",
   "execution_count": 35,
   "metadata": {
    "id": "aKck8RIdgFyQ"
   },
   "outputs": [
    {
     "data": {
      "text/plain": [
       "0"
      ]
     },
     "execution_count": 35,
     "metadata": {},
     "output_type": "execute_result"
    }
   ],
   "source": [
    "df.duplicated().sum()"
   ]
  },
  {
   "cell_type": "markdown",
   "metadata": {},
   "source": [
    "Явных дубликатов нет. Но ранее мы заметили, что могут быть два разных прокатных удостоверения на один и тот же фильм, в зависимости, возможно, от даты проката. Проверим, если ли дублирование номеров прокатных удостоверений:"
   ]
  },
  {
   "cell_type": "code",
   "execution_count": 36,
   "metadata": {
    "id": "aKck8RIdgFyQ"
   },
   "outputs": [
    {
     "data": {
      "text/plain": [
       "2"
      ]
     },
     "execution_count": 36,
     "metadata": {},
     "output_type": "execute_result"
    }
   ],
   "source": [
    "df['puNumber'].duplicated().sum()"
   ]
  },
  {
   "cell_type": "markdown",
   "metadata": {},
   "source": [
    "Есть два таких фильма. Взглянем на них поближе:"
   ]
  },
  {
   "cell_type": "code",
   "execution_count": 37,
   "metadata": {
    "scrolled": false
   },
   "outputs": [
    {
     "data": {
      "text/html": [
       "<div>\n",
       "<style scoped>\n",
       "    .dataframe tbody tr th:only-of-type {\n",
       "        vertical-align: middle;\n",
       "    }\n",
       "\n",
       "    .dataframe tbody tr th {\n",
       "        vertical-align: top;\n",
       "    }\n",
       "\n",
       "    .dataframe thead th {\n",
       "        text-align: right;\n",
       "    }\n",
       "</style>\n",
       "<table border=\"1\" class=\"dataframe\">\n",
       "  <thead>\n",
       "    <tr style=\"text-align: right;\">\n",
       "      <th></th>\n",
       "      <th>title</th>\n",
       "      <th>puNumber</th>\n",
       "      <th>show_start_date</th>\n",
       "      <th>type</th>\n",
       "      <th>film_studio</th>\n",
       "      <th>production_country</th>\n",
       "      <th>director</th>\n",
       "      <th>producer</th>\n",
       "      <th>age_restriction</th>\n",
       "      <th>refundable_support</th>\n",
       "      <th>nonrefundable_support</th>\n",
       "      <th>budget</th>\n",
       "      <th>financing_source</th>\n",
       "      <th>ratings</th>\n",
       "      <th>genres</th>\n",
       "      <th>box_office</th>\n",
       "    </tr>\n",
       "  </thead>\n",
       "  <tbody>\n",
       "    <tr>\n",
       "      <th>4638</th>\n",
       "      <td>Как жениться и остаться холостым</td>\n",
       "      <td>221154310</td>\n",
       "      <td>2010-12-17</td>\n",
       "      <td>Художественный</td>\n",
       "      <td>Ше Вам, Скрипт Ассосье, Тэ Фэ 1 Фильм Продюксь...</td>\n",
       "      <td>Франция</td>\n",
       "      <td>Эрик Лартиго</td>\n",
       "      <td>Амандин Било, Алан Шаба</td>\n",
       "      <td>«16+» - для детей старше 16 лет</td>\n",
       "      <td>&lt;NA&gt;</td>\n",
       "      <td>&lt;NA&gt;</td>\n",
       "      <td>&lt;NA&gt;</td>\n",
       "      <td>NaN</td>\n",
       "      <td>7.0</td>\n",
       "      <td>мелодрама,комедия</td>\n",
       "      <td>NaN</td>\n",
       "    </tr>\n",
       "    <tr>\n",
       "      <th>4639</th>\n",
       "      <td>Иоанна - женщина на папском престоле /По роман...</td>\n",
       "      <td>221154310</td>\n",
       "      <td>2010-12-17</td>\n",
       "      <td>Художественный</td>\n",
       "      <td>Константин Фильм, А Эр Ди Дегето Фильм, Дюне ...</td>\n",
       "      <td>Германия - Великобритания - Италия - Испания</td>\n",
       "      <td>Зенке Вортманн</td>\n",
       "      <td>Оливер Бербен, Дорис Д.Хайнце, Фарук Элтан</td>\n",
       "      <td>«16+» - для детей старше 16 лет</td>\n",
       "      <td>&lt;NA&gt;</td>\n",
       "      <td>&lt;NA&gt;</td>\n",
       "      <td>&lt;NA&gt;</td>\n",
       "      <td>NaN</td>\n",
       "      <td>7.6</td>\n",
       "      <td>драма,мелодрама,история</td>\n",
       "      <td>NaN</td>\n",
       "    </tr>\n",
       "  </tbody>\n",
       "</table>\n",
       "</div>"
      ],
      "text/plain": [
       "                                                  title   puNumber  \\\n",
       "4638                   Как жениться и остаться холостым  221154310   \n",
       "4639  Иоанна - женщина на папском престоле /По роман...  221154310   \n",
       "\n",
       "     show_start_date            type  \\\n",
       "4638      2010-12-17  Художественный   \n",
       "4639      2010-12-17  Художественный   \n",
       "\n",
       "                                            film_studio  \\\n",
       "4638  Ше Вам, Скрипт Ассосье, Тэ Фэ 1 Фильм Продюксь...   \n",
       "4639   Константин Фильм, А Эр Ди Дегето Фильм, Дюне ...   \n",
       "\n",
       "                                production_country        director  \\\n",
       "4638                                       Франция    Эрик Лартиго   \n",
       "4639  Германия - Великобритания - Италия - Испания  Зенке Вортманн   \n",
       "\n",
       "                                        producer  \\\n",
       "4638                     Амандин Било, Алан Шаба   \n",
       "4639  Оливер Бербен, Дорис Д.Хайнце, Фарук Элтан   \n",
       "\n",
       "                      age_restriction  refundable_support  \\\n",
       "4638  «16+» - для детей старше 16 лет                <NA>   \n",
       "4639  «16+» - для детей старше 16 лет                <NA>   \n",
       "\n",
       "      nonrefundable_support  budget financing_source  ratings  \\\n",
       "4638                   <NA>    <NA>              NaN      7.0   \n",
       "4639                   <NA>    <NA>              NaN      7.6   \n",
       "\n",
       "                       genres  box_office  \n",
       "4638        мелодрама,комедия         NaN  \n",
       "4639  драма,мелодрама,история         NaN  "
      ]
     },
     "metadata": {},
     "output_type": "display_data"
    },
    {
     "data": {
      "text/html": [
       "<div>\n",
       "<style scoped>\n",
       "    .dataframe tbody tr th:only-of-type {\n",
       "        vertical-align: middle;\n",
       "    }\n",
       "\n",
       "    .dataframe tbody tr th {\n",
       "        vertical-align: top;\n",
       "    }\n",
       "\n",
       "    .dataframe thead th {\n",
       "        text-align: right;\n",
       "    }\n",
       "</style>\n",
       "<table border=\"1\" class=\"dataframe\">\n",
       "  <thead>\n",
       "    <tr style=\"text-align: right;\">\n",
       "      <th></th>\n",
       "      <th>title</th>\n",
       "      <th>puNumber</th>\n",
       "      <th>show_start_date</th>\n",
       "      <th>type</th>\n",
       "      <th>film_studio</th>\n",
       "      <th>production_country</th>\n",
       "      <th>director</th>\n",
       "      <th>producer</th>\n",
       "      <th>age_restriction</th>\n",
       "      <th>refundable_support</th>\n",
       "      <th>nonrefundable_support</th>\n",
       "      <th>budget</th>\n",
       "      <th>financing_source</th>\n",
       "      <th>ratings</th>\n",
       "      <th>genres</th>\n",
       "      <th>box_office</th>\n",
       "    </tr>\n",
       "  </thead>\n",
       "  <tbody>\n",
       "    <tr>\n",
       "      <th>5067</th>\n",
       "      <td>Анализируй это!</td>\n",
       "      <td>221054410</td>\n",
       "      <td>2010-05-25</td>\n",
       "      <td>Художественный</td>\n",
       "      <td>Уорнер Бразерс, Вилладж Роудшоу Филмз ЛТД</td>\n",
       "      <td>США-Австралия</td>\n",
       "      <td>ХЭрольд Рэмис</td>\n",
       "      <td>Джейн Розенталь, Пола Уейнстейн</td>\n",
       "      <td>«16+» - для детей старше 16 лет</td>\n",
       "      <td>&lt;NA&gt;</td>\n",
       "      <td>&lt;NA&gt;</td>\n",
       "      <td>&lt;NA&gt;</td>\n",
       "      <td>NaN</td>\n",
       "      <td>7.4</td>\n",
       "      <td>комедия,криминал</td>\n",
       "      <td>NaN</td>\n",
       "    </tr>\n",
       "    <tr>\n",
       "      <th>5068</th>\n",
       "      <td>Анализируй то!</td>\n",
       "      <td>221054410</td>\n",
       "      <td>2010-05-25</td>\n",
       "      <td>Художественный</td>\n",
       "      <td>Уорнер Бразерс, Виллидж Роадшоу Пикчерз, Эн-Пи...</td>\n",
       "      <td>США</td>\n",
       "      <td>Гарольд Реймис</td>\n",
       "      <td>Джейн Розенталь, Паул Уэйнстейн</td>\n",
       "      <td>«12+» - для детей старше 12 лет</td>\n",
       "      <td>&lt;NA&gt;</td>\n",
       "      <td>&lt;NA&gt;</td>\n",
       "      <td>&lt;NA&gt;</td>\n",
       "      <td>NaN</td>\n",
       "      <td>6.8</td>\n",
       "      <td>комедия,криминал</td>\n",
       "      <td>NaN</td>\n",
       "    </tr>\n",
       "  </tbody>\n",
       "</table>\n",
       "</div>"
      ],
      "text/plain": [
       "                title   puNumber show_start_date            type  \\\n",
       "5067  Анализируй это!  221054410      2010-05-25  Художественный   \n",
       "5068   Анализируй то!  221054410      2010-05-25  Художественный   \n",
       "\n",
       "                                            film_studio production_country  \\\n",
       "5067          Уорнер Бразерс, Вилладж Роудшоу Филмз ЛТД      США-Австралия   \n",
       "5068  Уорнер Бразерс, Виллидж Роадшоу Пикчерз, Эн-Пи...                США   \n",
       "\n",
       "            director                         producer  \\\n",
       "5067   ХЭрольд Рэмис  Джейн Розенталь, Пола Уейнстейн   \n",
       "5068  Гарольд Реймис  Джейн Розенталь, Паул Уэйнстейн   \n",
       "\n",
       "                      age_restriction  refundable_support  \\\n",
       "5067  «16+» - для детей старше 16 лет                <NA>   \n",
       "5068  «12+» - для детей старше 12 лет                <NA>   \n",
       "\n",
       "      nonrefundable_support  budget financing_source  ratings  \\\n",
       "5067                   <NA>    <NA>              NaN      7.4   \n",
       "5068                   <NA>    <NA>              NaN      6.8   \n",
       "\n",
       "                genres  box_office  \n",
       "5067  комедия,криминал         NaN  \n",
       "5068  комедия,криминал         NaN  "
      ]
     },
     "metadata": {},
     "output_type": "display_data"
    }
   ],
   "source": [
    "nums = df[df['puNumber'].duplicated()]['puNumber'].unique()\n",
    "for num in nums:\n",
    "    display(df[df['puNumber'] == num])"
   ]
  },
  {
   "cell_type": "markdown",
   "metadata": {},
   "source": [
    "После проверки данных по этим прокатным удостоверениям на сайте минкульта, можно сделать вывод, что либо у министерства культуры произошла ошибка при выдаче номера прокатного удостоверения, либо одно прокатное удостоверение может распространяться на несколько фильмов, что странно. Но по сути это 4 разных фильма с совпадающими номерами прокатных удостоверений."
   ]
  },
  {
   "cell_type": "markdown",
   "metadata": {},
   "source": [
    "Далее проверим дубликаты в столбце с названиями фильмов:"
   ]
  },
  {
   "cell_type": "code",
   "execution_count": 38,
   "metadata": {
    "scrolled": true
   },
   "outputs": [
    {
     "data": {
      "text/plain": [
       "title\n",
       "100 миллионов евро                   2\n",
       "127 часов                            2\n",
       "13 часов: Тайные солдаты Бенгази     2\n",
       "13-й район: Кирпичные особняки       2\n",
       "13.                                  2\n",
       "                                    ..\n",
       "Эскадрилья \"Лафайет\"                 2\n",
       "Этим утром в Нью-Йорке               2\n",
       "Я ненавижу день святого Валентина    2\n",
       "Я, снова я и мама                    2\n",
       "Ян Антонышев                         2\n",
       "Name: title, Length: 558, dtype: int64"
      ]
     },
     "execution_count": 38,
     "metadata": {},
     "output_type": "execute_result"
    }
   ],
   "source": [
    "df[df['title'].isin(\n",
    "    df[df['title'].duplicated()]['title'].unique()\n",
    ")].groupby('title')['title'].count()"
   ]
  },
  {
   "cell_type": "markdown",
   "metadata": {},
   "source": [
    "Оказалось, что некоторые фильмы выходили в прокат по несколько раз. И на каждый прокат имелся свой номер прокатного удостоверения. Кроме того, существуют разные фильмы, у которых просто совпадает название."
   ]
  },
  {
   "cell_type": "markdown",
   "metadata": {
    "id": "52fOPrEBgFyQ"
   },
   "source": [
    "#### Шаг 2.4. Изучим категориальные значения\n"
   ]
  },
  {
   "cell_type": "markdown",
   "metadata": {},
   "source": [
    "Изучим значения столбца с типом фильма:"
   ]
  },
  {
   "cell_type": "code",
   "execution_count": 39,
   "metadata": {
    "id": "PnXKIVdFgFyR"
   },
   "outputs": [
    {
     "data": {
      "text/plain": [
       "array(['Художественный', 'Анимационный', 'Прочие', 'Документальный',\n",
       "       'Научно-популярный', ' Художественный', ' Анимационный',\n",
       "       'Музыкально-развлекательный'], dtype=object)"
      ]
     },
     "execution_count": 39,
     "metadata": {},
     "output_type": "execute_result"
    }
   ],
   "source": [
    "df['type'].unique()"
   ]
  },
  {
   "cell_type": "markdown",
   "metadata": {},
   "source": [
    "Мы можем наблюдать, что у некоторых категорий в начале присутствует пробел, и поэтому они считаются другим типом фильма. Исправим это, заменив значения с пропусками на корректные."
   ]
  },
  {
   "cell_type": "code",
   "execution_count": 40,
   "metadata": {},
   "outputs": [],
   "source": [
    "df['type'] = df['type'].replace([' Художественный', ' Анимационный'], ['Художественный', 'Анимационный'])"
   ]
  },
  {
   "cell_type": "code",
   "execution_count": 41,
   "metadata": {
    "id": "PnXKIVdFgFyR"
   },
   "outputs": [
    {
     "data": {
      "text/plain": [
       "array(['Художественный', 'Анимационный', 'Прочие', 'Документальный',\n",
       "       'Научно-популярный', 'Музыкально-развлекательный'], dtype=object)"
      ]
     },
     "execution_count": 41,
     "metadata": {},
     "output_type": "execute_result"
    }
   ],
   "source": [
    "df['type'].unique()"
   ]
  },
  {
   "cell_type": "markdown",
   "metadata": {},
   "source": [
    "Проверим другие столбцы:"
   ]
  },
  {
   "cell_type": "code",
   "execution_count": 42,
   "metadata": {
    "id": "PnXKIVdFgFyR",
    "scrolled": true
   },
   "outputs": [
    {
     "data": {
      "text/plain": [
       "array(['США', 'СССР', 'Франция', 'СССР, Венгрия',\n",
       "       'Германия-Великобритания', 'Великобритания - Италия',\n",
       "       'Чехословакия', 'США - Франция - Турция', 'Новая Зеландия',\n",
       "       'Канада - Франция - Испания', 'США-Германия',\n",
       "       'США - Великобритания', 'Великобритания', 'США - Германия',\n",
       "       'Франция - Мексика - США', 'Россия, Казахстан, США',\n",
       "       'СССР, Швеция', 'СССР, Франция, Англия, Куба, ГДР', 'Германия',\n",
       "       'Великобритания-США-Германия-КНР',\n",
       "       'СССР, ЧССР, Западный Берлин, ПНР', 'СССР, Италия', 'Гонконг, КНР',\n",
       "       'США - Франция', 'США - Япония - Франция - Великобритания',\n",
       "       'Гонконг - Сингапур - Таиланд - Великобритания', 'США-Канада',\n",
       "       'Франция - Италия - Великобритания - США', 'Франция - США',\n",
       "       'Ирландия-Великобритания-Германия', 'Чехия', 'США-Австралия',\n",
       "       'СССР, Финляндия', 'США-Франция-Великобритания-Австрия',\n",
       "       'США - Бельгия', 'США - Ирландия - Великобритания',\n",
       "       'Великобритания - США',\n",
       "       'Люксембург - Нидерланды - Испания - Великобритания - США - Италия',\n",
       "       'Великобритания - Франция - США', 'Новая Зеландия - США',\n",
       "       'США - Великобритания - Чехия',\n",
       "       'Канада - Франция - Великобритания', 'Ирландия',\n",
       "       'Великобритания - Германия - США',\n",
       "       'США - Франция - Великобритания', 'Япония', 'СССР, Польша',\n",
       "       'Франция - Испания', 'Канада-Франция', 'Германия - Италия - США',\n",
       "       'Аргентина - Бразилия', 'Дания - Швейцария - Бельгия - Франция',\n",
       "       'США - Испания', 'Германия - США',\n",
       "       'Франция - Австрия - Германия - Италия - США', 'Австрия',\n",
       "       'США - Канада - Германия', 'США - Канада',\n",
       "       'СССР - Швейцария - Франция', 'Россия - Казахстан', 'Гонконг',\n",
       "       'Италия', 'США - ОАЭ', 'Россия',\n",
       "       'США - Франция - Испания - Великобритания',\n",
       "       'Великобритания - Франция', 'США-Италия-Испания-Аргентина',\n",
       "       'Франция-Великобритания', 'КНР - Гонконг',\n",
       "       'Франция - Италия - Швейцария', 'США - Новая Зеландия',\n",
       "       'Франция - Бельгия', 'КНР', 'Германия - Великобритания - Австрия',\n",
       "       'Великобритания - Израиль - Франция - Япония - США', 'Швеция',\n",
       "       'Испания', 'Дания', 'Франция - Бельгия - Люксембург',\n",
       "       'США - Индия - ОАЭ',\n",
       "       'Германия-Канада-Великобритания-Швейцария-Франция',\n",
       "       'Мексика - Чили', 'Аргентина', 'Бразилия', 'Чили', 'Австралия',\n",
       "       'Португалия - Франция', 'США - ЮАР', 'Исландия-Ирландия-Германия',\n",
       "       'США-Индонезия', 'Южная Корея', 'Мексика - Испания - Дания - США',\n",
       "       'Великобритания-США', 'Франция - Италия', 'США-Франция',\n",
       "       'США - Венгрия - Великобритания', 'Бельгия-Франция-Италия',\n",
       "       'Чехия - Германия', 'Германия - Франция', 'США-Нидерланды',\n",
       "       'Украина', 'Великобритания - Германия', 'Франция-Бельгия',\n",
       "       'США-Франция-Испания', 'Италия - Франция', 'Канада',\n",
       "       'Швеция-Франция-Дания', 'Германия-Франция-Польша',\n",
       "       'Франция-Великобритания - Германия',\n",
       "       'США - Бразилия - Франция - Австралия - Великобритания - Германия',\n",
       "       'Германия-Австрия', 'Германия-Италия- Шри-Ланка',\n",
       "       'Великобритания - Испания',\n",
       "       'США - Великобритания - Канада - Швеция',\n",
       "       'Босния и Герцеговина - Франция - Великобритания - Германия - Словения - Бельгия - Сербия',\n",
       "       'Великобритания - Франция - Италия - США', 'США-ОАЭ',\n",
       "       'Испания - Франция', 'США-Великобритания', 'США-ЮАР',\n",
       "       'Великобритания-Австралия - США',\n",
       "       'Норвегия - Швеция - Дания - Германия', 'Норвегия', 'Швейцария',\n",
       "       'Греция - Германия - Франция', 'Норвения', 'Южная Корея - США',\n",
       "       'Чили - Франция - США', 'Австрия - Германия - Франция',\n",
       "       'Швеция - Дания', 'Великобритания - Франция - Бельгия - Италия',\n",
       "       'Франция - Германия', 'Грузия - Франция - Люксембург',\n",
       "       'США - Франция - Великобритания - Бразилия ', 'США - КНР',\n",
       "       'Мексика - Франция', 'США - Германия - Гонконг - Сингапур',\n",
       "       'Финляндия - Австрия - Россия', 'Испания - Куба',\n",
       "       'Великобритания - ЮАР', 'Великобритания - Ирландия', 'Израиль',\n",
       "       'Бразилия - Германия - Порртугалия - Франция ',\n",
       "       'Франция - Канада - Бельгия', 'Франция-Испания',\n",
       "       'Испания - Канада - Япония', 'Иран', 'Швеция-Куба',\n",
       "       'США-Великобритания-Ирландия', 'Гонконг - КНР', 'Нидерланды',\n",
       "       'Испания - Канада', 'Япония-Великобритания',\n",
       "       'Великобритания - Норвегия - Дания - Германия',\n",
       "       'Финляндия - Франция - Германия',\n",
       "       'Мексика - Франция - Нидерланды - Германия', 'США - Индия',\n",
       "       'США-Великобритания-Индия', 'США-Канада-Бельгия',\n",
       "       'Республика Узбекистан', 'Италия ', 'Турция',\n",
       "       'Сербия - Словения - Хорватия - Черногория - Македония',\n",
       "       'Киргизия', 'Германия - Нидерланды - Беларусь - Россия - Латвия',\n",
       "       'Индия', 'Нидерланды - Россия - Германия',\n",
       "       'Великобритания - Нидерланды - Франция - Хорватия',\n",
       "       'Канада - Южная Корея',\n",
       "       'Великобритания - Польша - КНР - Индия - Норвегия',\n",
       "       'Япония - Франция - США - Южная Корея - Турция',\n",
       "       'Мексика - Аргентина - Великобритания', 'Израиль - Франция',\n",
       "       'Польша - Португалия - Франция - Великобритания',\n",
       "       'Австралия - США', 'США - Великобритания ',\n",
       "       'Франция - Люксембург - Бельгия', 'Армения',\n",
       "       'Бельгия - Люксембург - Франция - Швейцария',\n",
       "       'США - Великобритания - Канада', 'Норвегия - Швеция',\n",
       "       'Канада - Франция', 'КНР - Гонконг - США',\n",
       "       'США - Сингапур - Малайзия - Индонезия', 'Германия - Россия',\n",
       "       'Япония - Канада', 'Финляндия - Дания - Германия - Ирландия',\n",
       "       'Франция - Люксембург - Германия - Бельгия - Швейцария - Великобритания ',\n",
       "       'Канада - США', 'США-Италия-Испания', 'США-Испания',\n",
       "       'США - Швейцария - Франция', 'Испания - США - Колумбия',\n",
       "       'Канада-ЮАР', 'Франция - Россия',\n",
       "       'Германия - Финляндия - Австралия', 'Дания - Швеция', 'Бельгия',\n",
       "       'Германия - Франция - Австрия', 'Франция-Индия', 'ЮАР',\n",
       "       'Франция-Перу', 'Франция - Канада', 'Республика Беларусь',\n",
       "       'Великобритания - Австрия - Франция - США',\n",
       "       'Австрия-Германия-Франция', 'США-Россия', 'Германия-США',\n",
       "       'США - Южная Корея', 'Канада - КНР',\n",
       "       'Дания - Швеция - Италия - Франция - Германия',\n",
       "       'Франция-Италия-Испания-Венгрия', 'Франция - Германия - Бельгия',\n",
       "       'Франция-Великобритания-Чехия', 'Румыния - Франция - Бельгия',\n",
       "       'Болгария - Франция - Изриль',\n",
       "       'Израиль - Германия - Польша - Бельгия - Франция - Люксембург',\n",
       "       'Россия, Германия, Франция, Бельгия', 'Индонезия',\n",
       "       'Франция - Португалия', 'Великобритания - Пуэрто-Рико',\n",
       "       'СССР, ФРГ, Западный Берлин', 'Россия, Республика Беларусь',\n",
       "       'США, Великобритания', 'Франция - Австрия', 'Бельгия-Нидерланды',\n",
       "       'Великобритания - США - Индия', 'США - Великобритания - Австралия',\n",
       "       'Канада - Франция - США - ОАЭ - Великобритания',\n",
       "       'США - Австралия - Франция',\n",
       "       'Дания-Франция-Бельгия-Германия-Великобритания',\n",
       "       'Испания - Аргентина', 'Исландия - Финляндия',\n",
       "       'Россия-Польша-Голландия-Словакия', 'Дания - Германия - Швеция',\n",
       "       'Южная Корея - США - Канада', 'Таиланд', 'США-Мальта',\n",
       "       'США -Германия',\n",
       "       'Великобритания - Германия - Франция - Кипр - США', 'Мексика',\n",
       "       'США - Великобритания - Ирландия', 'США - Украина',\n",
       "       'США - Финляндия - Испания - Великобритания - Франция',\n",
       "       'Австралия-Великобритания',\n",
       "       'США - Канада - Афганистан - Бельгия - Франция',\n",
       "       'США - Великобритания - Германия - Новая Зеландия - Бельгия - Франция',\n",
       "       'Франция-Канада',\n",
       "       'Ирландия - Финляндия - Бельгия - Великобритания - США - Швейцария',\n",
       "       'Малайзия - США', 'Германия - Италия',\n",
       "       'США - Франция - Бельгия - Италия', 'Франция - Ирландия - Швеция',\n",
       "       'Азербайджан-Россия', 'Великобритания - Италия - Швейцария',\n",
       "       'США - Германия - Великобритания',\n",
       "       'Германия - Бельгия - США -Франция', 'США-Китай', 'Чили - Испания',\n",
       "       'Франция - Швейцария', 'Канада - Испания',\n",
       "       'США - Румыния - Великобритания', 'США - Япония',\n",
       "       'США - Россия - Франция', 'Франция-США', 'Парагвай',\n",
       "       'Германия - Канада', 'США - Канада - Великобритания',\n",
       "       'Финляндия - Канада', 'Уругвай-Мексика-Германия ', 'США - Чили',\n",
       "       'Германия - Аргентина - Нидерланды - Чили',\n",
       "       'США - Канада - Индонезия', 'Армения - Казахстан', 'Финляндия',\n",
       "       'Испания - Италия - Франция',\n",
       "       'Бельгия - Испания - Канада - Нидерланды',\n",
       "       'Великобритания - Франция - Швеция - Бельгия',\n",
       "       'Мексика - Эквадор - Канада - США - Франция - Малайзия - Италия - Аргентина - Германия - Индия  ',\n",
       "       'Франция - Бенльгия', 'Индия - Великобритания',\n",
       "       'Япония - Великобритания - Франция',\n",
       "       'Испания - Уругвай - Аргентина',\n",
       "       'Франция - Италия - Бельгия - Люксембург',\n",
       "       'Франция - Украина - Грузия - Армения',\n",
       "       'Сербия - Германия - Венгрия', 'Франция-Польша', 'Франция ',\n",
       "       'Румыния-США', 'Россия-Азербайджан',\n",
       "       'США - Нидерланды - Бельгия - Венгрия - Греция - Канада',\n",
       "       'Германия - Франция - Люксембург', 'США - Россия',\n",
       "       'Великобритания - США - Франция', 'США - Австралия - Дания',\n",
       "       'Бельгия-Франция', 'США-Мексика',\n",
       "       'Норвегия - Азербайджан - Россия - Колумбия - Великобритания - Венгрия - Румыния - Франция - Грузия',\n",
       "       'СЩА', 'Бразилия - Испания', 'Россия, Франция, Латвия',\n",
       "       'Нидерланды - США - Германия - Канада - Франция - Ирландия - Великобритания',\n",
       "       'Уругвай - Колумбия', 'США - Испания - Болгария',\n",
       "       'Армения - Германия', 'США - Великобритания- Франция - Швеция',\n",
       "       'США - Мексика', 'Австралия-Турция-США', 'Швеция - Германия',\n",
       "       'Польша - Италия - Россия', 'Франция - Бразилия',\n",
       "       'США - Канада - КНР', 'СССР, Венгрия, ЧССР, ГДР',\n",
       "       'Бельгия - Германия - Люксембург', 'СССР  ', 'СССР ', ' СССР ',\n",
       "       'США - Австралия', 'Бразилия - США',\n",
       "       'США - Великобритания - Канада - КНР', 'Франция - Чили',\n",
       "       'Франция - США - Великобритания - Колумбия - Бельгия - Россия',\n",
       "       'Дания - Великобритания - ЮАР', 'СССР   ',\n",
       "       'Россия-США-Канада-Люксембург', 'Россия - Республика Кипр',\n",
       "       'Германия - США - Швеция - Франция',\n",
       "       'Великобритания-Германия-Канада-ЮАР', ' СССР   ', 'СССР     ',\n",
       "       'Ирландия, Канада',\n",
       "       'Япония - Великобритания - Швейцария - Ирландия - Дания - Франция - Польша - Австралия - Канада  ',\n",
       "       'Великобритания, Канада', 'Бельгия - США',\n",
       "       'Великобритания - США - Россия', 'Россия-Украина',\n",
       "       'Германия - США - Великобритания - Израиль', 'Канада - Германия',\n",
       "       'США- Ю.Корея', 'Индия - Мексика',\n",
       "       'Великобритания - Франция - Республика Кипр - Швейцария - США - Сербия',\n",
       "       'Испания - Аргентина - Индия - США',\n",
       "       'Норвегия - Исландия - США - Великобритания ',\n",
       "       'Турция - Германя - Франция', 'Германия - Великобритания',\n",
       "       'Австралия - Германия', 'Мексика - Испания',\n",
       "       'Великобритания - США - Германия - Бельгия',\n",
       "       'США - Чехия - Франция', 'Россия - Италия', 'Франция-Россия',\n",
       "       'Норвегия - Дания - Швеция', 'Франция - Швейцария - Германия',\n",
       "       'Грузия - Украина', 'Россия - Эстония - Финляндия - Беларусь',\n",
       "       'США - Франция - ЮАР', 'Великобритания - США - Швейцария',\n",
       "       'Канада-США', 'Мексика - Нидерланды - Германия - Франция',\n",
       "       'США - Испания - Франция', 'США - Великобритания - КНР',\n",
       "       'США-Франция-Канада',\n",
       "       'Япония, Великобритания, Австрия, Германия, Ю.Корея',\n",
       "       'Великобритания - Ирландия - США', 'Бельгия - Италия - Франция ',\n",
       "       'Швейцария-Германия-ЮАР', 'Великобритания - США - Германия',\n",
       "       'Германия - Исландия', 'Испания - США', 'СССР    ', 'Хорватия',\n",
       "       'Финляндия - Исландия - Швеция',\n",
       "       'Канада - США - Германия - Франция',\n",
       "       'США - Великобритания - Испания', 'Ирландия-Великобритания',\n",
       "       'Аргентина - Испания', 'Австрия - Германия', ' СССР',\n",
       "       'Германия - Швейцария - Франция - Южная Корея - США',\n",
       "       'Украина - Нидерланды', 'Венгрия - Германия - Швеция',\n",
       "       'Германия - Франция -  Польша - Турция - Канада - Италия - Россия ',\n",
       "       'СССР, Афганистан', 'СССР, Монголия', 'Россия-Кипр',\n",
       "       'Россия, Грузия, Испания',\n",
       "       'Великобритания - Нидерланды - Германия - Франция - Бельгия - Австрия ',\n",
       "       'Испания - Великобритания - Франция',\n",
       "       'Дания - Норвегия - Великобритания',\n",
       "       'Бельгия - Франция - Люксембург',\n",
       "       'Италия - Франция - Швейцария - Великобритания',\n",
       "       'Франция - Бельгия - Великобритания - Испания - Германия - США',\n",
       "       'Швейцария - Израиль - Франция - Великобритания',\n",
       "       'Великобритания - США - Канада - Нидерланды - Франция',\n",
       "       'Россия, Италия', 'СССР, Албания',\n",
       "       'Россия, Украина, Республика Беларусь, Литва',\n",
       "       'Финляндия - Великобритания - Германия', 'Россия, Украина, Польша',\n",
       "       'Франция - Италия - Бельгия - КНР',\n",
       "       'Германия - Бельгия - Люксембург - Ирландия', 'КНР - Сингапур',\n",
       "       'Франция - Бельгия - Великобритания - США - Нидерланды - Канада',\n",
       "       'США - Россия - Польша - Германия - Пуэрто Рико',\n",
       "       'Франция - Бельгия - Канада', 'США ', 'Мексика - США',\n",
       "       'США - Гонконг - КНР ', 'Греция - Россия',\n",
       "       'Ирландия - Дания - Бельгия - Люксембург - Франция',\n",
       "       'Эстония - Россия',\n",
       "       'Великобритания - Исландия - Испания - Швейцария - США',\n",
       "       'Австралия - Великобритания - Бельгия - Индия',\n",
       "       'Швеция - Германия - Франция - Норвегия',\n",
       "       'Нидерланды - Бельгия - Германия - Ирландия',\n",
       "       'Нидерланды - Великобритания - Бельгия',\n",
       "       'США - Колумбия - Испания', 'Франция-Испания-Бельгия-Панама',\n",
       "       'США-Великобритания-Чехия-Румыния',\n",
       "       'Аргентина - Уругвай - Россия - Германия - Франция - Нидерланды',\n",
       "       'Швеция - Франция - Норвегия - Дания',\n",
       "       'Италия-Франция-Великобритания', 'Великобритания, Франция',\n",
       "       'Австралия, США', 'Венесуэла',\n",
       "       'Великобритания - США - Австралия - Ирландия - Германия - Куба - Канада',\n",
       "       'Южная Корея - КНР',\n",
       "       'Аргентина - Мексика - Бразилия - Франция - США', 'Швеция - США',\n",
       "       'Франция - Германия - Турция - Катар', 'Франция-Китай',\n",
       "       'Россия, Германия, Великобритания',\n",
       "       'Великобритания - Италия - Испания', 'Италия - Россия',\n",
       "       'Япония - КНР - Южная Корея', 'Россия, Германия',\n",
       "       'Россия-Ирландия', 'Македония - Франция - Великобритания',\n",
       "       'Франция - Бразилия - Италия', 'Россия-США', 'Армения-Россия',\n",
       "       'Россия, Румыния', 'Франция -  Бельгия', 'Грузия-Франция',\n",
       "       'ЮАР - США', 'Великобритания-США-Франция',\n",
       "       'Великобритания - США - Германия - Канада - Австралия',\n",
       "       'США-Ирландия', 'Россия, Республика Кипр',\n",
       "       'Германия - Люксембург - Франция', 'Россия-Франция',\n",
       "       'США - Нидерланды - Финляндия - Великобритания - Италия',\n",
       "       'Республика Кипр', 'Венгрия', 'Франция - США - Норвегия - Дания',\n",
       "       'Германия - Австрия - Ирландия', 'США - Финляндия',\n",
       "       'Италия-Великобритания', 'Россия, Испания',\n",
       "       'США - Великобритания - Болгария', 'Великобритания - Люксембург',\n",
       "       'Индия - США', 'США - Канада - Россия - Франция - Чили - Ирландия',\n",
       "       'Грузия-Россия',\n",
       "       'Дания - Австрия - Ирландия - Финляндия - Норвегия - Швеция - Нидерланды',\n",
       "       'США-КНР', 'Грузия', 'Австралия - Ирландия',\n",
       "       'Великобритания - Канада', 'Италия - Аргентина - Словения ',\n",
       "       'Испания - Франция - Нидерланды - Германия - Бельгия - Великобритания - Канада',\n",
       "       'Франция - Чехия - Бельгия',\n",
       "       'Великобритания - Франция - Германия - США',\n",
       "       'Ирландия - Великобритания - Франция - США - Германия - Нидерланды',\n",
       "       'США - Канада - Япония - КНР', 'Италия-Франция',\n",
       "       'США - Великобритания - Исландия', 'Великобритания-Франция',\n",
       "       'Франция - Германия - Нидерланды', 'Иран ',\n",
       "       'Франция - Германия - Швеция - США - Чехия - Словакия - Великобритания - Нидерланды',\n",
       "       'Франция - Канада - Н.Зеландия - США - Нидерланды - Германия - Швеция - Россия',\n",
       "       'Турция - США',\n",
       "       'Великобритания - США - Канада - Бельгия - Нидерланды - Австрия - Германия',\n",
       "       'Израиль - Франция - Германия - Палестина - США - Австрия - Великобритания',\n",
       "       'Аргентина - Франция - Испания', 'СССР, Россия',\n",
       "       'Великобритания - Франция - Италия - Индия - Дания - КНР - Бангладеш - Камбоджа - Гаити - Уганда',\n",
       "       'Италия - Франция - Швейцария',\n",
       "       'Ирландия - Великобритания - Канада', 'Перу', 'США - Норвегия',\n",
       "       'Испания-Канада', 'Китай-Гонконг', 'США - Германия - КНР',\n",
       "       'Великобритания - Новая Зеландия',\n",
       "       'Франция - Дания - Швеция - КНР',\n",
       "       'США - Великобритания - Германия - Бельгия - Дания',\n",
       "       'США - Франция - Канада - Германия - Австралия - Индия',\n",
       "       'СССР, Румыния, Франция', 'СССР, ГДР', 'Австралия-Ирландия',\n",
       "       'США - Китай', 'Великобритания - Франция - Австрия - Швеция',\n",
       "       'Россия, Таджикистан', 'Нидерланды - Бельгия - Болгария',\n",
       "       'Великобритания - Канада - США', 'Франция - Бельгия - Испания',\n",
       "       'Китай-Гонконг-США', 'Франция - Великобритания', 'США - Вьетнам',\n",
       "       'США - Германия - Франция', 'Германия - Франция - Бельгия',\n",
       "       'США - Италия',\n",
       "       'Германия - Дания - Испания - Швеция - Канада - Эстония - Франция',\n",
       "       'Княжество Андорра - Украина', 'Германия - Люксембург - Бельгия',\n",
       "       'Великобритания - Россия - Украина - США',\n",
       "       'Германия - Бельгия - Люксембург - Норвегия',\n",
       "       'США - Австралия - Новая Зеландия - Великобритания',\n",
       "       'США - Франция - Канада - Великобритания', 'Испания-Колумбия',\n",
       "       'Великобритания - Чехия - Франция', 'Россия, Украина', 'Исландия',\n",
       "       'Великобритания - Франция - Венгрия',\n",
       "       'Россия, Франция, Германия, Бельгия', 'Франция - Македония',\n",
       "       'Нидерланды - Франция - Германия - Бельгия - Швеция - Великобритания',\n",
       "       'Испания - США - Великобритания - Канада', 'Германия - Австрия',\n",
       "       'Республика Казахстан',\n",
       "       'Франция - Испания - Дания - Венгрия - Швейцария', 'Франция-КНР',\n",
       "       'США - Пуэрто-Рико - Франция ', 'Мексика - Тайвань - США',\n",
       "       'Великобритания - Испания - Непал - Индия - Венгрия - Гонконг - Германия - Дания - Бахрейн',\n",
       "       'Великобритания - Аргентина - США - Франция - Россия - Испания',\n",
       "       'КНР - США', 'Италия - США', 'Финляндия - Швеция - Германия',\n",
       "       'Канада- Испания', 'Франция - Бельгия - Чехия',\n",
       "       'Франция-Бельгия-Канада', 'Франция - Германия - США',\n",
       "       'США - Дания', 'Индия - КНР', 'Чехия-Великобритания-США',\n",
       "       'США-ФРГ-Россия', 'Ирландия-Нидерланды-Франция-США-Великобритания',\n",
       "       'Россия, Грузия, Хорватия, Испания',\n",
       "       'Финляндия - Швеция - Норвегия', 'Сербия - Великобритания - США',\n",
       "       'США - Великобритания - Франция - Гонконг', 'Швейцария - Франция',\n",
       "       'Швейцария - Великобритания', 'ОАЭ - США',\n",
       "       'США - Франция - Германия - Канада - Австралия ',\n",
       "       'Германия - Австралия', 'Иран, Франция',\n",
       "       'США - Великобритания - Новая Зеландия', 'США-Колумбия',\n",
       "       'США-Франция-Ирландия', 'Великобритания - Франция - Бельгия',\n",
       "       'США - Великобритания - Япония', 'США - Франция - Германия',\n",
       "       'Польша - Ирландия', 'Ирландия - Великобритания - Франция - США',\n",
       "       'США - Бельгия - Великобритания', 'СССР, ВНР',\n",
       "       'Испания - Франция - США - Великобритания - Бельгия',\n",
       "       'Франция - Дания - США', 'США - Гонконг', 'Бразилия - К;анада',\n",
       "       'Франция-Германия', 'США - Колумбия',\n",
       "       'США - Ирландия - Великобритания - Франция',\n",
       "       'Великобритания - США - Канада', 'Польша - Франция',\n",
       "       'Канада - США - Нидерланды - Великобритания - Аргентина',\n",
       "       'Великобритания - Дания', 'Франция - Бельгия - Япония',\n",
       "       'Россия,  Испания', 'Франция -Бельгия',\n",
       "       'США - Канада - Германия - Франция', 'США-Канада-Франция',\n",
       "       'Россия - Германия', 'Россия-Италия', 'Китай - Гонконг',\n",
       "       'Германия-Австрия-Франция-Италия', 'США-Япония',\n",
       "       'США - Германия - Канада', 'Испания-Мексика',\n",
       "       'США - Япония - Канада - Великобритания - Германия - Франция',\n",
       "       'США -Великобритания - Австралия', 'Россия-Украина-Германия',\n",
       "       'Израиль - Франция - Великобритания - Германия', 'Корея',\n",
       "       'Россия - Болгария', 'США-Индия',\n",
       "       'Германия-Канада-Франция-Бельгия', 'Германия-Кения',\n",
       "       'Франция - Монако', 'Франция-Испания-Швейцария',\n",
       "       'Австрия-Франция-Германия', 'Румыния',\n",
       "       'США-Великобритания-Франция', 'Канада-Великобритания',\n",
       "       'Канада-Бразилия-Япония', 'Германия - Дания - Норвегия',\n",
       "       'Дания - Германия', 'СССР - Италия',\n",
       "       'СССР - ГДР - Польша - Италия',\n",
       "       'США - Испания - Франция - Великобритания', 'Китай',\n",
       "       'Мексика-Аргентина',\n",
       "       'Германия - Великобритания - Италия - Испания',\n",
       "       'Франция-Германия-Великобритания', 'Россия - Германия - Швейцария',\n",
       "       'Франция-Австралия', 'Голландия', 'Швейцария-Франция',\n",
       "       'Россия-Белоруссия', 'Франция - Испания - Тайвань',\n",
       "       'США-Южная Корея-Новая Зеландия', 'Великобритания-Венгрия',\n",
       "       'Россия-Германия', 'Великобритания-Франция-Германия',\n",
       "       'Франция-Германия-Италия', 'Швеция-Финляндия-Франция-Норвегия',\n",
       "       'Франция-Италия', 'Германия-Израиль',\n",
       "       'Швеция - Германия - Дания - Норвегия', 'США-Бельгия',\n",
       "       'Франция-Гонконг-Ирландия', 'Эстония', 'Литва-Россия-Украина',\n",
       "       'Германия - Италия - Франция',\n",
       "       'Великобритания - Австрия - Германия', 'Бельгия - Франция',\n",
       "       'Россия-Казахстан', 'Испания - Мальта',\n",
       "       'Франция-Россия-Румыния-Италия-Бельгия', 'Россия - Польша',\n",
       "       'Испания - Мексика', 'США-Аргентина', 'Великобритания ',\n",
       "       'Израиль-США-Франция', 'США - Новая Зеландия - Япония',\n",
       "       'Франция - Чехия - Великобритания', 'Россия-Польша',\n",
       "       'Германия-Франция-Великобритания', 'США-Германия-Канада',\n",
       "       'США-Гонконг-Китай', 'США - Великобритания - Германия',\n",
       "       'США-Канада-Австралия', 'Япония-США-Франция',\n",
       "       'Франция-Испания-Германия', 'США - Хорватия - Босния-Герцеговина',\n",
       "       'Великобритания - Чехия - Франция - Италия',\n",
       "       'США - Германия - Нидерланды', 'Германия - Франция - Канада',\n",
       "       'Франция-Грузия-Германия-Россия-Украина-Бельгия',\n",
       "       'Великобритания - Франция - Италия', 'Россия - США',\n",
       "       'Франция - Италия - Иран', 'Россия - Азербайджан', 'Греция',\n",
       "       'Дания - США', 'США-Великобритания-Новая Зеландия',\n",
       "       'США-Германия-Австралия', 'США-Канада-Италия',\n",
       "       'США - Япония - Германия', 'Австралия-США',\n",
       "       'Франция - Великобритания - Багамские острова - США',\n",
       "       'Швейцария - Люксембург', 'Швейцария - Австрия',\n",
       "       'Германия - Швейцария', 'Дания-Швеция-Франция-Германия', 'Польша',\n",
       "       'Швейцария-Австрия', 'Бразилия - Канада - США',\n",
       "       'Нидерланды - Россия', 'Португалия', 'Франция-Аргентина',\n",
       "       'Швеция-Франция', 'Франция-Украина', 'Германия-Украина-Нидерланды',\n",
       "       'Италия-Швейцария', 'США-Германия-Великобритания',\n",
       "       'Латвия - Россия', 'Германия-Франция-Великобритания-США',\n",
       "       'Канада - Италия', 'США - Объединенные Арабские Эмираты',\n",
       "       'США-Венгрия', 'Малайзия', 'Россия - Германия - Украина',\n",
       "       'США - Австралия - Мексика', 'Литва - Венгрия', 'Германия - Китай',\n",
       "       'Казахстан', 'Республика Корея',\n",
       "       'США - Германия - Франция - Великобритания - Канада ',\n",
       "       'Бельгия - Германия - Люксембург - Франция', 'Франция - Греция',\n",
       "       'Италия - Канада', 'США - Великобритания - Франция',\n",
       "       'США-Италия-Греция', 'Германия - США - Великобритания - Ирландия',\n",
       "       'Великобритания - Франция - Германия',\n",
       "       'Германия - Нидерланды - ЮАР',\n",
       "       'США-Япония-Германия-Великобритания-Нидерланды',\n",
       "       'США-Япония-Германия-Великобритания',\n",
       "       'Германия - Франция - Польша',\n",
       "       'Таиланд-Великобритания-Франция-Германия-Испания-Нидерланды',\n",
       "       'Германия-Италия-Швейцария',\n",
       "       'Дания - Швеция - Великобритания - Франция - Германия - Нидерланды - Норвегия - Финляндия',\n",
       "       'Франция - Великобритания - Нидерланды - Люксембург',\n",
       "       'Нидерланды-Великобритания-Франция-Италия-Япония',\n",
       "       'Финляндия-Дания-Германия-Ирландия', 'Испания-Аргентина',\n",
       "       'Великобритания - Нидерланды - Франция - США', 'Канада - Мексика',\n",
       "       'США, Франция', 'Канада-Южная Корея-США',\n",
       "       'Великобритания - Франция - Бельгия - США', 'КНР - Канада - США',\n",
       "       'Италия - Франция - Германия',\n",
       "       'Швеция - Германия - Франция - Дания', 'Франция - США - Бельгия',\n",
       "       'Украина - Германия - Латвия - Эстония', 'Австрия - Люксембург',\n",
       "       'Великобритания - КНР', 'Монголия', 'Франция - Дания',\n",
       "       'Швеция - Дания - Финляндия',\n",
       "       'Сингапур - Великобритания - Индонезия - Канада - США',\n",
       "       'США - Германия - Япония', 'Таиланд - США', 'Франция - Нидерланды',\n",
       "       'Великобритания - Румыния', 'США - Мальта',\n",
       "       'Великобритания - Германия - Нидерланды - Дания',\n",
       "       'Франция - Германия - Литва - Нидерланды - Россия',\n",
       "       'США - ЮАР - Гонконг', 'Австралия - Колумбия',\n",
       "       'Великобритания - Польша', 'США - Великобритания - Швеция',\n",
       "       'Франция - Швеция - Дания - Норвегия', 'Болгария - США',\n",
       "       'СССР, ФРГ', 'Бельгия - Нидерланды - Франция',\n",
       "       'Финляндия - Германия', 'Болгария',\n",
       "       'Грузия - Россия - Украина - Хорватия - Германия',\n",
       "       'Франция - Люксембург', 'Франция - Германия - Австрия',\n",
       "       'Норвегия - США', 'Германия-Швеция', 'Франция - Германия - Италия',\n",
       "       'Франция-Германия-Австрия', 'КНР-США',\n",
       "       'Великобритания - Ирландия - США ',\n",
       "       'Дания - Латвия - Россия - США', 'Финляндия - Польша',\n",
       "       'Германия - Бельгия', 'Германия - США - Франция - Испания',\n",
       "       'Бельгия-Германия-Канада-Франция-США-Великобритания',\n",
       "       'Нидерланды - Бельгия - Люксембург', 'Канада-Германия',\n",
       "       'Люксембург - Бельгия - Франция', 'США-Великобритания-Австралия',\n",
       "       'Великобритания, Новая Зеландия', 'Бельгия, Великобритания, США',\n",
       "       'Великобритания, Австралия', 'Исландия, Бельгия',\n",
       "       'Испания - Швейцария - Великобритания - Германия - Новая Зеландия - Нидерланды - Канада',\n",
       "       'Франция, Бельгия', 'Великобритания, США', 'Киргизия-Россия',\n",
       "       'Германия, США', 'Великобритания, США, Испания',\n",
       "       'Италия - Швейцария - Германия', 'Россия, Армения',\n",
       "       'Франция, Германия', 'Китай, Канада, США', 'Германия, Австралия',\n",
       "       'КНР, США', 'США, Великобритания, Люксембург',\n",
       "       'Испания, Ирландия, Бельгия, Франция',\n",
       "       'Великобритания - Гонконг - Венгрия - США - Ирландия',\n",
       "       'США - Пуэрто Рико', 'Аргентина - Испания - Уругвай',\n",
       "       'Израиль - Германия - Франция - Швейцария',\n",
       "       'Великобритания - Мексика - США', 'Испания - Болгария - США',\n",
       "       'Россия-Словакия-Чехия',\n",
       "       'Швейцария - КНР - США - Россия - Республика Корея - Великобритания',\n",
       "       'Россия, Нидерланды, Финляндия',\n",
       "       'Испания - Бельгия - Франция - Португалия - Великобритания',\n",
       "       'Бразилия - Португалия - Франция', 'Швеция - Норвегия',\n",
       "       'Франция - Польша - Бельгия', 'CША', 'Китай, США',\n",
       "       'Италия, Франция, Германия', 'Германия - Австрия - Франция',\n",
       "       'Чехия - Словакия - Хорватия', 'Россия, Польша, Финляндия',\n",
       "       'Россия, Латвия, Чешская Республика',\n",
       "       'Франция - Великобритания - Камбоджа - США - КНР',\n",
       "       'Чехия - Испания - США', 'Германия - Люксембург - Дания',\n",
       "       'Великобритания - Испания - Германия', 'Дания - Исландия',\n",
       "       'Германия, Франция, Великобритания',\n",
       "       'Великобритания - Испания - Италия - Латвия - Франция - Эстония',\n",
       "       'Дания, Швеция, Великобритания, Франция, Германия, Норвегия, Финляндия, Нидерланды, Италия',\n",
       "       'Польша - Франция - Великобритания',\n",
       "       'Дания, Норвегия, Венгрия, Чехия',\n",
       "       'Дания - Франция - Германия - Швеция',\n",
       "       'Великобритания, Швеция, США',\n",
       "       'Канада, Франция, Италия, Швейцария, США', 'США, Индия',\n",
       "       'США - Великобритания - Германия - - Швеция - Канада',\n",
       "       'Италия, Франция', 'Республика Беларусь, Германия, США, Россия',\n",
       "       'Италия-Швейцария-Франция-Германия ',\n",
       "       'Россия - Франция - Великобритания - Латвия', 'Россия-Беларусь',\n",
       "       'Франция - Испания - Румыния - США - Бельгия', 'Италия-США',\n",
       "       'Россия, Австрия', 'Ирландия - Великобритания - США',\n",
       "       'Швейцария, Великобритания, Франция, США, Ирландия',\n",
       "       'Мексика, Франция, Германия, Дания, Швеция', 'Нидерланды, Бельгия',\n",
       "       'Швеция, Норвегия, Финляндия, Франция', 'Испания, Франция, Италия',\n",
       "       'Испания-Франция-Греция-Индия-США-Россия-Великобритания',\n",
       "       'Великобритания - Япония - США',\n",
       "       'Дания, Канада, Норвегия, Австралия, США', 'Аргентина, Испания',\n",
       "       'Россия, Германия, Казахстан, Польша, Китай',\n",
       "       'Португалия, Франция, Польша, США', 'США - Канада - Аргентина',\n",
       "       'Ливан-США', 'Япония - США', 'США, Гонконг ',\n",
       "       'Франция - Россия - Швейцария - Румыния - Венгрия',\n",
       "       'Аргентина-Испания', 'Россия, Сербия', 'США - Болгария - Мексика',\n",
       "       'США - Великобритания - Швейцария - Франция',\n",
       "       'Таиланд - КНР - США',\n",
       "       'Великобритания, Нидерланды, Польша, Швейцария, Франция',\n",
       "       'Ирландия - США',\n",
       "       'Германия - Франция - Великобритания - Польша - США',\n",
       "       'Великобритания-Франция-Италия', 'США - Австралия - Индия',\n",
       "       'Франция - КНР', 'Великобритания - Израиль',\n",
       "       'Великобритания - Норвегия - Кения - Хорватия',\n",
       "       'США - Бразилия - Великобритания - Канада', 'Германия, Бельгия',\n",
       "       'Австралия, Канада', 'США, Великобритания, Франция',\n",
       "       'Кения, Германия', 'Нидерланды, Бельгия, Люксембург', 'Колумбия',\n",
       "       'Латвия - Франция', 'Ирландия, Великобритания',\n",
       "       'Франция - Израиль - Германия', 'Швеция, Франция, Великобритания',\n",
       "       'Бельгия - Люксембург', 'Германия - Бельгия - Великобритания',\n",
       "       'Испания, Франция, Великобритания, Дания, Бельгия, Германия',\n",
       "       'Румыния, ЮАР, Иран, Франция, Канада, Великобритания',\n",
       "       'Германия, Франция', 'США, Япония',\n",
       "       'США, Великобритания, Ирландия, Люксембург', 'Республика Армения',\n",
       "       'США, Франция, Япония', 'Япония, США', 'Канада, США',\n",
       "       'Республика Кипр - Россия',\n",
       "       'Дания - Франция - Италия - Бельгия - Нидерланды',\n",
       "       'Россия - Грузия', 'Италия, Германия', 'Норвегия, Швеция, Дания',\n",
       "       'Республика Кипр, Россия', 'КНР, Индия, Гонконг, США',\n",
       "       'Израиль, Украина', 'США, Россия', 'США - КНР - Индия - Ю.Корея',\n",
       "       'США - Швеция', 'Франция, Канада', 'Россия-Китай',\n",
       "       'Канада, Великобритания', 'США, Германия',\n",
       "       'Канада, США, Каймановы острова',\n",
       "       'Бразилия, Уругвай, Дания, Норвегия, Чили, Швеция',\n",
       "       'Пуэрто-Рико, Великобритания, США',\n",
       "       'Уругвай - Аргентина - Испания',\n",
       "       'США - Великобритания - Италия - Израиль - Сербия - Индия',\n",
       "       'США - Канада - Франция - Индия', 'Великобритания - Россия - КНР',\n",
       "       'Франция, Новая Зеландия', 'Франция, Люксембург, Бельгия',\n",
       "       'Канада, США, Норвегия', 'Италия, Испания',\n",
       "       'Испания - Германия - Нидерланды', 'Бразилия - США - КНР ',\n",
       "       'Великобритания, Германия, Дания, США', '2019',\n",
       "       'Италия - Фрация - Бразилия - Германия',\n",
       "       'Норвегия - Швеция - Россия', 'Великобритания, Япония, США',\n",
       "       'Сша, Канада', 'Бельгия, Канада',\n",
       "       'Великобритания - Австралия - США', 'США, Канада', 'КНР - США ',\n",
       "       'Франция - Финляндия', 'Колумбия - США',\n",
       "       'Великобритания, Франция, Бельгия', 'Норвегия - Нидерланды',\n",
       "       'Великобритания, Канада, США', 'Япония, Великобритания',\n",
       "       'Италия - Бельгия - Франция', 'Россия, Бельгия, Финляндия',\n",
       "       'США, Украина', 'Франция, Норвегия',\n",
       "       'Великобритания, Южная Корея, Канада, США, Индия, Китай, Япония',\n",
       "       'Канада - Норвегия', 'Республика Кипр-Россия', 'Германия, Россия',\n",
       "       'Польша - Франция - Испания - Бразилия - Швеция',\n",
       "       'Австрия, Великобритания, Германия', 'Франция - Сенегал - Бельгия',\n",
       "       'Франция, Бельгия, Люксембург', 'Финляндия, Латвия', 'Пакистан',\n",
       "       'Германия, Франция, США', 'Германия - Великобритания - США',\n",
       "       'КНР - Франция', 'Дания, Норвегия, Швеция, Исландия',\n",
       "       'Республика Кипр, США, Россия', 'Новая Зеландия - КНР',\n",
       "       'Дания - Канада - Швеция - Франция - Германия - Великобритания - США'],\n",
       "      dtype=object)"
      ]
     },
     "execution_count": 42,
     "metadata": {},
     "output_type": "execute_result"
    }
   ],
   "source": [
    "df['production_country'].unique()"
   ]
  },
  {
   "cell_type": "code",
   "execution_count": 43,
   "metadata": {
    "id": "PnXKIVdFgFyR"
   },
   "outputs": [
    {
     "data": {
      "text/plain": [
       "array([nan, 'Министерство культуры', 'Фонд кино',\n",
       "       'Министерство культуры, Фонд кино'], dtype=object)"
      ]
     },
     "execution_count": 43,
     "metadata": {},
     "output_type": "execute_result"
    }
   ],
   "source": [
    "df['financing_source'].unique()"
   ]
  },
  {
   "cell_type": "code",
   "execution_count": 44,
   "metadata": {},
   "outputs": [
    {
     "data": {
      "text/plain": [
       "array(['«18+» - запрещено для детей', '«6+» - для детей старше 6 лет',\n",
       "       '«12+» - для детей старше 12 лет',\n",
       "       '«16+» - для детей старше 16 лет',\n",
       "       '«0+» - для любой зрительской аудитории'], dtype=object)"
      ]
     },
     "execution_count": 44,
     "metadata": {},
     "output_type": "execute_result"
    }
   ],
   "source": [
    "df['age_restriction'].unique()"
   ]
  },
  {
   "cell_type": "code",
   "execution_count": 45,
   "metadata": {
    "id": "PnXKIVdFgFyR"
   },
   "outputs": [
    {
     "data": {
      "text/plain": [
       "array(['боевик,драма,мелодрама', 'драма,военный',\n",
       "       'фантастика,боевик,триллер', 'драма', 'мелодрама,комедия',\n",
       "       'мюзикл,мелодрама,комедия', 'комедия,криминал',\n",
       "       'боевик,триллер,детектив', 'боевик,драма,приключения',\n",
       "       'драма,спорт', 'триллер,драма,мелодрама', 'комедия,мелодрама',\n",
       "       'драма,мелодрама,комедия', 'драма,мелодрама', 'драма,история',\n",
       "       'драма,мелодрама,семейный', 'комедия,мелодрама,криминал',\n",
       "       'комедия', 'боевик,драма,криминал', 'драма,комедия',\n",
       "       'ужасы,фантастика,комедия', 'мультфильм,короткометражка,мелодрама',\n",
       "       'драма,криминал', 'мультфильм,фантастика,фэнтези',\n",
       "       'триллер,драма,криминал', 'драма,мелодрама,биография',\n",
       "       'драма,комедия,военный', 'фантастика,драма,детектив',\n",
       "       'мюзикл,семейный', 'unknown', 'военный,приключения,драма',\n",
       "       'документальный,драма', 'драма,биография,история',\n",
       "       'боевик,триллер,драма', 'фэнтези,боевик',\n",
       "       'боевик,комедия,криминал', 'мюзикл,комедия,детский',\n",
       "       'комедия,мелодрама,драма', 'мультфильм,фэнтези,комедия',\n",
       "       'комедия,история', 'мелодрама', 'драма,биография,музыка',\n",
       "       'фэнтези,драма,мелодрама', 'триллер,военный',\n",
       "       'драма,мелодрама,военный', 'мюзикл,драма,мелодрама',\n",
       "       'мюзикл,комедия', 'мультфильм,приключения,семейный',\n",
       "       'ужасы,триллер', 'боевик,драма,военный', 'драма,боевик',\n",
       "       'мультфильм,драма,комедия', 'триллер,криминал',\n",
       "       'военный,биография,драма', 'комедия,семейный', 'военный',\n",
       "       'драма,семейный,биография', 'фэнтези,приключения,семейный',\n",
       "       'драма,криминал,биография', 'ужасы,триллер,детектив',\n",
       "       'боевик,история,драма', 'ужасы,триллер,драма',\n",
       "       'драма,криминал,спорт', 'документальный,короткометражка',\n",
       "       'триллер,драма', 'криминал,детектив,приключения',\n",
       "       'драма,комедия,криминал', 'драма,комедия,вестерн',\n",
       "       'драма,мелодрама,детектив', 'мелодрама,биография',\n",
       "       'фэнтези,мелодрама,драма', 'драма,мелодрама,история',\n",
       "       'комедия,приключения,история', 'приключения', 'драма,семейный',\n",
       "       'криминал,детектив', 'мультфильм,короткометражка,ужасы',\n",
       "       'фантастика,триллер,драма', 'фэнтези,мелодрама,комедия',\n",
       "       'драма,биография', 'комедия,криминал,история',\n",
       "       'триллер,драма,детектив', 'фантастика,комедия,приключения',\n",
       "       'фэнтези,семейный', 'ужасы,фантастика,боевик',\n",
       "       'мелодрама,криминал', 'комедия,приключения,мелодрама',\n",
       "       'боевик,триллер,приключения', 'боевик,приключения',\n",
       "       'боевик,триллер,криминал', 'документальный,военный,история',\n",
       "       'драма,музыка', 'боевик,драма', 'приключения,боевик',\n",
       "       'драма,военный,биография', 'триллер,драма,приключения',\n",
       "       'аниме,мультфильм,фэнтези', 'триллер,детектив,драма',\n",
       "       'боевик,триллер,мелодрама', 'боевик,история',\n",
       "       'приключения,история', 'драма,комедия,приключения',\n",
       "       'фэнтези,комедия,приключения', 'драма,вестерн',\n",
       "       'документальный,музыка', 'мелодрама,драма',\n",
       "       'триллер,криминал,детектив', 'ужасы', 'боевик,комедия,приключения',\n",
       "       'мультфильм,фэнтези,боевик', 'боевик,фэнтези,драма',\n",
       "       'фэнтези,драма', 'фэнтези,боевик,комедия',\n",
       "       'приключения,детский,комедия', 'документальный',\n",
       "       'боевик,триллер,комедия', 'мелодрама,комедия,криминал',\n",
       "       'драма,детектив', 'мюзикл,ужасы,триллер', 'детектив,триллер,ужасы',\n",
       "       'ужасы,фэнтези', 'ужасы,фэнтези,триллер', 'мультфильм,драма',\n",
       "       'ужасы,боевик,фантастика', 'боевик', 'фантастика,боевик',\n",
       "       'мелодрама,комедия,приключения', 'триллер,детектив',\n",
       "       'мюзикл,мелодрама,фэнтези', 'криминал', 'триллер,комедия,криминал',\n",
       "       'боевик,приключения,триллер', 'триллер,драма,военный',\n",
       "       'комедия,семейный,музыка', 'комедия,фантастика,мелодрама',\n",
       "       'фантастика,триллер,криминал', 'комедия,драма', 'боевик,военный',\n",
       "       'ужасы,фантастика,триллер', 'фантастика,драма,мелодрама',\n",
       "       'фэнтези,драма,детектив', 'боевик,триллер', 'боевик,драма,история',\n",
       "       'мультфильм,мюзикл,фэнтези', 'для взрослых,драма,мелодрама',\n",
       "       'мультфильм,боевик,детектив', 'фантастика,мелодрама,боевик',\n",
       "       'ужасы,фантастика,детектив', 'фантастика,боевик,приключения',\n",
       "       'мелодрама,комедия,спорт', 'комедия,боевик,приключения',\n",
       "       'документальный,приключения', 'мультфильм,короткометражка,детский',\n",
       "       'комедия,приключения', 'ужасы,драма', 'ужасы,фэнтези,боевик',\n",
       "       'мультфильм,фэнтези,детский', 'мюзикл,боевик,драма',\n",
       "       'семейный,комедия,драма', 'концерт,музыка', 'фэнтези,боевик,драма',\n",
       "       'драма,комедия,музыка', 'фантастика,фэнтези,боевик',\n",
       "       'фэнтези,комедия,семейный', 'фэнтези,драма,комедия',\n",
       "       'мультфильм,мюзикл,драма', 'триллер', 'боевик,криминал,триллер',\n",
       "       'мультфильм,приключения,драма', 'мелодрама,музыка',\n",
       "       'документальный,музыка,концерт', 'мультфильм,семейный',\n",
       "       'мультфильм,комедия,приключения', 'мультфильм,комедия,семейный',\n",
       "       'фантастика,драма', 'фэнтези,боевик,приключения',\n",
       "       'мультфильм,приключения', 'драма,военный,история', 'история',\n",
       "       'драма,приключения,военный',\n",
       "       'документальный,короткометражка,семейный',\n",
       "       'мелодрама,история,триллер', 'ужасы,детектив',\n",
       "       'мюзикл,комедия,приключения', 'драма,спорт,биография',\n",
       "       'фантастика,боевик,комедия', 'фантастика,приключения,детектив',\n",
       "       'короткометражка,драма,военный', 'драма,мультфильм',\n",
       "       'приключения,семейный', 'детектив', 'триллер,приключения',\n",
       "       'аниме,мультфильм,боевик', 'драма,комедия,биография',\n",
       "       'драма,комедия,спорт', 'боевик,мелодрама,комедия',\n",
       "       'семейный,комедия', 'фэнтези,боевик,триллер',\n",
       "       'документальный,фэнтези,семейный', 'фантастика,фэнтези,драма',\n",
       "       'ужасы,комедия,фэнтези', 'документальный,биография,музыка',\n",
       "       'фантастика,боевик,фэнтези', 'ужасы,боевик,триллер',\n",
       "       'комедия,криминал,семейный', 'приключения,драма',\n",
       "       'криминал,драма,триллер', 'драма,детектив,криминал',\n",
       "       'фэнтези,приключения,комедия', 'комедия,спорт',\n",
       "       'мюзикл,фэнтези,мелодрама', 'мультфильм,фэнтези,приключения',\n",
       "       'фантастика,фэнтези,приключения', 'фэнтези',\n",
       "       'фэнтези,приключения,боевик', 'фантастика,боевик,драма',\n",
       "       'криминал,драма', 'криминал,триллер,драма',\n",
       "       'драма,мелодрама,приключения', 'детский,комедия',\n",
       "       'фантастика,драма,боевик', 'мультфильм,семейный,фэнтези',\n",
       "       'концерт,музыка,документальный', 'ужасы,комедия,приключения',\n",
       "       'драма,мелодрама,криминал', 'ужасы,фантастика,фэнтези',\n",
       "       'боевик,комедия', 'мультфильм,фантастика,комедия', 'триллер,ужасы',\n",
       "       'мультфильм,мюзикл,комедия', 'мелодрама,фэнтези,триллер',\n",
       "       'детский,приключения,комедия', 'комедия,детектив',\n",
       "       'аниме,мультфильм,мелодрама', 'документальный,драма,семейный',\n",
       "       'документальный,биография,история', 'военный,боевик,драма',\n",
       "       'ужасы,комедия', 'комедия,приключения,семейный',\n",
       "       'приключения,биография,история', 'детский,приключения,семейный',\n",
       "       'спорт,драма,биография', 'аниме,мультфильм,ужасы',\n",
       "       'фантастика,боевик,криминал', 'мюзикл,драма',\n",
       "       'драма,криминал,детектив', 'аниме,мультфильм,драма',\n",
       "       'драма,триллер,приключения', 'триллер,криминал,драма',\n",
       "       'фэнтези,комедия,драма', 'мультфильм,комедия',\n",
       "       'драма,комедия,история', 'комедия,биография,история',\n",
       "       'мультфильм,фантастика,приключения', 'аниме,мультфильм,фантастика',\n",
       "       'мультфильм,фэнтези,семейный', 'мультфильм,боевик,комедия',\n",
       "       'комедия,криминал,спорт', 'документальный,мюзикл',\n",
       "       'мелодрама,комедия,музыка', 'биография',\n",
       "       'триллер,криминал,комедия', 'фантастика,драма,комедия',\n",
       "       'комедия,драма,мелодрама', 'фантастика,приключения,боевик',\n",
       "       'мультфильм,фэнтези,драма', 'триллер,комедия',\n",
       "       'драма,приключения,биография', 'фантастика,комедия',\n",
       "       'мелодрама,драма,комедия', 'боевик,криминал',\n",
       "       'драма,криминал,боевик', 'мультфильм,мюзикл,детский',\n",
       "       'драма,фэнтези', 'документальный,семейный',\n",
       "       'фэнтези,драма,приключения', 'ужасы,комедия,фантастика',\n",
       "       'драма,мелодрама,музыка', 'фэнтези,драма,семейный',\n",
       "       'триллер,мелодрама,драма', 'вестерн,боевик,драма',\n",
       "       'мультфильм,короткометражка,комедия', 'триллер,драма,история',\n",
       "       'ужасы,фантастика', 'ужасы,мелодрама,комедия',\n",
       "       'фэнтези,приключения', 'фантастика,триллер',\n",
       "       'ужасы,боевик,фэнтези', 'мультфильм,комедия,детский',\n",
       "       'триллер,драма,биография', 'мультфильм,ужасы,фэнтези',\n",
       "       'мультфильм,ужасы,фантастика', 'ужасы,боевик,комедия',\n",
       "       'драма,биография,спорт', 'мультфильм', 'мелодрама,комедия,драма',\n",
       "       'приключения,фантастика,семейный', 'комедия,криминал,детектив',\n",
       "       'ужасы,триллер,комедия', 'криминал,комедия,триллер',\n",
       "       'семейный,приключения,комедия', 'мультфильм,драма,приключения',\n",
       "       'ужасы,драма,детектив', 'драма,приключения,фэнтези',\n",
       "       'фантастика,мультфильм,драма', 'драма,триллер,детектив',\n",
       "       'драма,история,музыка', 'детский', 'триллер,боевик,криминал',\n",
       "       'драма,фантастика', 'комедия,драма,семейный',\n",
       "       'боевик,драма,комедия', 'комедия,ужасы',\n",
       "       'драма,фантастика,триллер', 'фантастика,драма,триллер',\n",
       "       'история,спорт,драма', 'документальный,биография',\n",
       "       'биография,история', 'спорт,драма', 'боевик,фэнтези',\n",
       "       'мультфильм,фэнтези', 'документальный,комедия,история',\n",
       "       'криминал,комедия,боевик', 'фэнтези,приключения,драма',\n",
       "       'музыка,концерт', 'триллер,драма,боевик',\n",
       "       'комедия,криминал,боевик', 'комедия,фантастика,боевик',\n",
       "       'вестерн,приключения,боевик', 'аниме,мультфильм,комедия',\n",
       "       'детектив,криминал,триллер', 'мультфильм,комедия,криминал',\n",
       "       'комедия,приключения,детектив', 'мелодрама,фантастика,драма',\n",
       "       'драма,комедия,семейный', 'приключения,фантастика',\n",
       "       'триллер,детектив,ужасы', 'комедия,приключения,фэнтези',\n",
       "       'фэнтези,триллер,драма', 'мелодрама,приключения,боевик',\n",
       "       'детектив,триллер,криминал', 'фэнтези,семейный,мелодрама',\n",
       "       'военный,драма', 'документальный,приключения,семейный',\n",
       "       'криминал,комедия,драма', 'комедия,фантастика',\n",
       "       'история,биография,драма', 'мелодрама,драма,музыка',\n",
       "       'боевик,мелодрама', 'комедия,криминал,триллер',\n",
       "       'детектив,триллер,боевик', 'комедия,боевик,криминал',\n",
       "       'комедия,вестерн', 'детский,мелодрама,семейный',\n",
       "       'короткометражка,мультфильм', 'комедия,фэнтези',\n",
       "       'фантастика,драма,ужасы', 'триллер,драма,ужасы',\n",
       "       'драма,фэнтези,история', 'комедия,драма,короткометражка',\n",
       "       'фэнтези,триллер,приключения', 'семейный',\n",
       "       'комедия,криминал,драма', 'комедия,фэнтези,ужасы',\n",
       "       'короткометражка,комедия,криминал', 'фантастика',\n",
       "       'триллер,ужасы,драма', 'мелодрама,драма,фэнтези',\n",
       "       'фантастика,приключения,драма', 'боевик,детектив',\n",
       "       'военный,драма,боевик', 'комедия,мелодрама,фэнтези',\n",
       "       'вестерн,криминал,триллер', 'драма,история,триллер',\n",
       "       'мультфильм,фантастика,боевик', 'детектив,драма,криминал',\n",
       "       'приключения,история,драма', 'мультфильм,семейный,детский',\n",
       "       'биография,драма,история', 'триллер,криминал,боевик',\n",
       "       'история,мелодрама', 'приключения,детский',\n",
       "       'музыка,приключения,концерт', 'военный,драма,комедия',\n",
       "       'фэнтези,боевик,военный', 'фантастика,детектив,боевик',\n",
       "       'мультфильм,фэнтези,история', 'биография,мелодрама,драма',\n",
       "       'документальный,биография,спорт', 'фантастика,комедия,детектив',\n",
       "       'музыка,концерт,документальный', 'триллер,боевик,приключения',\n",
       "       'триллер,драма,комедия', 'детектив,криминал',\n",
       "       'мультфильм,приключения,фэнтези', 'мелодрама,приключения',\n",
       "       'комедия,музыка', 'мелодрама,комедия,ужасы',\n",
       "       'драма,криминал,приключения', 'приключения,детектив,мелодрама',\n",
       "       'драма,криминал,фантастика', 'фэнтези,драма,биография',\n",
       "       'детектив,фантастика,криминал', 'триллер,драма,фантастика',\n",
       "       'ужасы,комедия,боевик', 'мелодрама,история', 'триллер,боевик',\n",
       "       'фильм-нуар,триллер,детектив', 'комедия,криминал,приключения',\n",
       "       'ужасы,триллер,мелодрама', 'военный,драма,история',\n",
       "       'драма,спорт,история', 'документальный,драма,история',\n",
       "       'триллер,мелодрама,детектив', 'детский,семейный',\n",
       "       'мюзикл,семейный,драма', 'биография,военный,драма',\n",
       "       'мультфильм,детский', 'боевик,криминал,драма',\n",
       "       'детектив,фэнтези,триллер', 'драма,боевик,приключения',\n",
       "       'драма,мелодрама,фэнтези', 'детектив,история,драма',\n",
       "       'фэнтези,боевик,ужасы', 'ужасы,фэнтези,мелодрама',\n",
       "       'ужасы,приключения', 'боевик,фантастика',\n",
       "       'ужасы,мелодрама,детектив', 'фантастика,триллер,приключения',\n",
       "       'боевик,приключения,история', 'приключения,боевик,триллер',\n",
       "       'детектив,ужасы,криминал', 'семейный,фэнтези', 'мюзикл,мелодрама',\n",
       "       'драма,военный,приключения', 'фантастика,драма,приключения',\n",
       "       'приключения,семейный,драма', 'история,драма,боевик',\n",
       "       'мультфильм,приключения,комедия', 'криминал,драма,комедия',\n",
       "       'ужасы,комедия,драма', 'комедия,семейный,приключения',\n",
       "       'мюзикл,фэнтези,драма', 'драма,вестерн,боевик',\n",
       "       'фантастика,триллер,детектив', 'драма,история,детектив',\n",
       "       'короткометражка,биография', 'мультфильм,приключения,фантастика',\n",
       "       'комедия,триллер', 'мультфильм,приключения,детектив',\n",
       "       'драма,триллер', 'ужасы,триллер,криминал',\n",
       "       'документальный,криминал,военный', 'ужасы,фэнтези,драма',\n",
       "       'фэнтези,комедия', 'ужасы,фэнтези,комедия', 'комедия,музыка,драма',\n",
       "       'мультфильм,приключения,военный', 'мюзикл,фэнтези,комедия',\n",
       "       'боевик,фантастика,приключения', 'триллер,ужасы,криминал',\n",
       "       'ужасы,фантастика,драма', 'фантастика,приключения,семейный',\n",
       "       'короткометражка,музыка', 'мелодрама,детектив,комедия',\n",
       "       'документальный,триллер,биография', 'боевик,фантастика,триллер',\n",
       "       'спорт,драма,комедия', 'фэнтези,мелодрама,приключения',\n",
       "       'триллер,детектив,криминал', 'короткометражка,мелодрама',\n",
       "       'мультфильм,семейный,спорт', 'комедия,фэнтези,мелодрама',\n",
       "       'драма,спорт,комедия', 'история,драма,мелодрама',\n",
       "       'драма,боевик,криминал', 'драма,комедия,триллер',\n",
       "       'аниме,мультфильм', 'документальный,ужасы',\n",
       "       'мультфильм,короткометражка', 'драма,история,военный',\n",
       "       'мультфильм,короткометражка,фэнтези', 'комедия,военный,музыка',\n",
       "       'биография,история,драма', 'ужасы,драма,мелодрама',\n",
       "       'драма,комедия,детектив', 'комедия,семейный,фантастика',\n",
       "       'мультфильм,семейный,комедия', 'история,детектив',\n",
       "       'приключения,мелодрама,детектив', 'мюзикл,комедия,мелодрама',\n",
       "       'драма,фантастика,ужасы', 'мультфильм,ужасы,комедия',\n",
       "       'для взрослых,драма,комедия', 'ужасы,комедия,музыка',\n",
       "       'комедия,история,драма', 'семейный,детектив,детский',\n",
       "       'короткометражка,драма', 'документальный,новости,драма',\n",
       "       'триллер,мелодрама', 'ужасы,драма,вестерн',\n",
       "       'мюзикл,фэнтези,семейный', 'вестерн,драма,триллер',\n",
       "       'приключения,вестерн,боевик', 'семейный,комедия,музыка',\n",
       "       'боевик,драма,вестерн', 'ужасы,драма,триллер',\n",
       "       'фантастика,мелодрама', 'комедия,криминал,биография',\n",
       "       'семейный,мультфильм,комедия', 'комедия,драма,криминал',\n",
       "       'фантастика,боевик,военный', 'приключения,биография,драма',\n",
       "       'приключения,триллер,биография', 'криминал,боевик,триллер',\n",
       "       'боевик,вестерн,приключения', 'история,драма',\n",
       "       'фантастика,фэнтези,комедия', 'мультфильм,детский,комедия',\n",
       "       'мелодрама,комедия,триллер', 'документальный,боевик,приключения',\n",
       "       'драма,приключения', 'мелодрама,военный,драма', 'триллер,фэнтези',\n",
       "       'драма,триллер,биография', 'фэнтези,боевик,семейный',\n",
       "       'фантастика,триллер,комедия', 'документальный,фэнтези',\n",
       "       'комедия,мультфильм,фантастика', 'криминал,биография,комедия',\n",
       "       'биография,спорт,драма', 'приключения,военный',\n",
       "       'мультфильм,семейный,драма', 'документальный,фэнтези,драма',\n",
       "       'комедия,боевик,фантастика', 'семейный,приключения,военный',\n",
       "       'триллер,ужасы,детектив', 'короткометражка',\n",
       "       'мелодрама,триллер,история', 'документальный,история',\n",
       "       'мультфильм,приключения,детский', 'драма,комедия,мультфильм',\n",
       "       'военный,детектив', 'семейный,приключения,документальный',\n",
       "       'детский,фэнтези', 'документальный,комедия', 'комедия,биография',\n",
       "       'криминал,комедия', 'спорт,мелодрама,криминал',\n",
       "       'фантастика,комедия,боевик', 'боевик,приключения,детектив',\n",
       "       'детектив,триллер,драма', 'документальный,фантастика',\n",
       "       'мелодрама,комедия,семейный', 'мультфильм,мелодрама,комедия',\n",
       "       'драма,спорт,семейный', 'фантастика,мелодрама,фэнтези',\n",
       "       'мюзикл,комедия,музыка', 'фантастика,триллер,мелодрама',\n",
       "       'приключения,комедия,фэнтези', 'фэнтези,боевик,детектив',\n",
       "       'фэнтези,боевик,мелодрама', 'комедия,военный',\n",
       "       'драма,спорт,боевик', 'мультфильм,боевик,триллер',\n",
       "       'мелодрама,семейный', 'фантастика,боевик,детектив',\n",
       "       'драма,приключения,история', 'документальный,драма,музыка',\n",
       "       'фантастика,триллер,боевик', 'фэнтези,боевик,вестерн',\n",
       "       'драма,комедия,мелодрама', 'ужасы,фэнтези,приключения',\n",
       "       'триллер,фэнтези,драма', 'мультфильм,мюзикл,мелодрама',\n",
       "       'ужасы,триллер,фантастика', 'триллер,мелодрама,комедия',\n",
       "       'ужасы,комедия,семейный', 'комедия,приключения,музыка',\n",
       "       'документальный,комедия,криминал', 'мелодрама,детектив',\n",
       "       'детский,приключения,фантастика', 'короткометражка,боевик,драма',\n",
       "       'боевик,комедия,семейный', 'фантастика,боевик,мелодрама',\n",
       "       'фэнтези,триллер,мелодрама', 'драма,детектив,история',\n",
       "       'боевик,криминал,детектив', 'мультфильм,фэнтези,мелодрама',\n",
       "       'мелодрама,драма,боевик', 'драма,вестерн,приключения',\n",
       "       'драма,приключения,мелодрама', 'фэнтези,боевик,криминал',\n",
       "       'фантастика,комедия,семейный', 'детский,фэнтези,приключения',\n",
       "       'ужасы,боевик', 'фантастика,мелодрама,комедия',\n",
       "       'семейный,спорт,боевик', 'триллер,биография,драма',\n",
       "       'ужасы,драма,комедия', 'мультфильм,фэнтези,триллер', 'мюзикл',\n",
       "       'боевик,спорт,драма', 'комедия,приключения,вестерн',\n",
       "       'документальный,ужасы,боевик', 'фантастика,боевик,семейный',\n",
       "       'военный,история', 'ужасы,боевик,криминал', 'детектив,триллер',\n",
       "       'драма,семейный,комедия', 'драма,детектив,приключения',\n",
       "       'драма,криминал,история', 'приключения,триллер',\n",
       "       'боевик,драма,биография', 'драма,приключения,триллер',\n",
       "       'комедия,фэнтези,приключения', 'фантастика,боевик,ужасы',\n",
       "       'драма,комедия,фантастика', 'детектив,криминал,драма',\n",
       "       'боевик,триллер,фэнтези', 'приключения,детектив,семейный',\n",
       "       'ужасы,комедия,криминал', 'мультфильм,биография,драма',\n",
       "       'история,боевик,фэнтези', 'детектив,криминал,боевик',\n",
       "       'приключения,фэнтези', 'комедия,приключения,спорт',\n",
       "       'драма,биография,мюзикл', 'комедия,семейный,фэнтези',\n",
       "       'детектив,драма,триллер', 'боевик,приключения,семейный',\n",
       "       'биография,спорт,комедия', 'фантастика,приключения,военный',\n",
       "       'документальный,драма,биография', 'детектив,приключения,драма',\n",
       "       'аниме,мультфильм,приключения', 'семейный,приключения',\n",
       "       'ужасы,фэнтези,детектив', 'семейный,документальный',\n",
       "       'драма,приключения,семейный', 'приключения,история,военный',\n",
       "       'фэнтези,мелодрама', 'фэнтези,триллер,детектив',\n",
       "       'документальный,спорт,биография', 'комедия,триллер,драма',\n",
       "       'драма,ужасы', 'биография,музыка,драма', 'фэнтези,ужасы',\n",
       "       'детектив,мелодрама,фэнтези', 'боевик,военный,история',\n",
       "       'биография,драма,криминал', 'триллер,мелодрама,криминал',\n",
       "       'семейный,мелодрама', 'биография,драма', 'военный,история,драма',\n",
       "       'фантастика,детектив,фэнтези', 'детектив,приключения,триллер',\n",
       "       'фантастика,приключения', 'мультфильм,короткометражка,мюзикл',\n",
       "       'мультфильм,детский,семейный', 'документальный,драма,комедия',\n",
       "       'комедия,приключения,криминал', 'документальный,семейный,музыка',\n",
       "       'мелодрама,музыка,драма', 'детектив,фантастика,триллер',\n",
       "       'драма,мелодрама,триллер', 'биография,драма,военный',\n",
       "       'приключения,фантастика,драма', 'детектив,фильм-нуар,комедия',\n",
       "       'документальный,спорт', 'триллер,фантастика,драма',\n",
       "       'биография,документальный', 'ужасы,фантастика,мелодрама',\n",
       "       'детектив,комедия', 'история,биография,военный',\n",
       "       'криминал,мелодрама', 'драма,криминал,вестерн',\n",
       "       'мелодрама,семейный,приключения', 'триллер,ужасы,мелодрама',\n",
       "       'фэнтези,драма,фильм-нуар', 'детектив,мелодрама',\n",
       "       'комедия,драма,биография', 'драма,военный,боевик',\n",
       "       'драма,комедия,ужасы', 'фантастика,драма,криминал',\n",
       "       'документальный,музыка,биография', 'мультфильм,боевик,приключения',\n",
       "       'короткометражка,фантастика', 'мультфильм,мелодрама,драма',\n",
       "       'боевик,военный,драма', 'фэнтези,семейный,приключения',\n",
       "       'детский,мультфильм,приключения', 'семейный,фэнтези,комедия',\n",
       "       'фэнтези,ужасы,триллер', 'ужасы,триллер,приключения',\n",
       "       'драма,боевик,история', 'фэнтези,комедия,детектив',\n",
       "       'история,приключения', 'аниме,мультфильм,короткометражка',\n",
       "       'драма,военный,триллер', 'биография,криминал,триллер',\n",
       "       'фантастика,фэнтези,детектив', 'вестерн,биография,драма',\n",
       "       'биография,музыка,мюзикл', 'драма,история,биография',\n",
       "       'приключения,драма,фантастика', 'комедия,фэнтези,криминал',\n",
       "       'биография,спорт,история', 'драма,криминал,семейный',\n",
       "       'детектив,боевик,история', 'ужасы,комедия,детектив',\n",
       "       'триллер,приключения,драма', 'фэнтези,комедия,криминал',\n",
       "       'триллер,криминал,приключения', 'комедия,детектив,приключения',\n",
       "       'фэнтези,драма,ужасы', 'ужасы,драма,военный', 'реальное ТВ',\n",
       "       'аниме,мультфильм,детектив', 'приключения,фэнтези,семейный',\n",
       "       'драма,биография,комедия', 'триллер,комедия,ужасы',\n",
       "       'музыка,мелодрама,фэнтези', 'мультфильм,история',\n",
       "       'мультфильм,комедия,фантастика', 'биография,криминал,драма',\n",
       "       'комедия,мелодрама,фантастика', 'криминал,боевик,комедия',\n",
       "       'история,криминал', 'детектив,комедия,драма',\n",
       "       'триллер,фантастика,боевик', 'криминал,боевик',\n",
       "       'комедия,драма,военный', 'драма,триллер,криминал',\n",
       "       'мультфильм,мелодрама,приключения', 'фантастика,фэнтези,триллер',\n",
       "       'короткометражка,драма,триллер', 'военный,боевик,история',\n",
       "       'боевик,драма,триллер', 'документальный,военный,драма',\n",
       "       'драма,криминал,фильм-нуар', 'мультфильм,детский,приключения',\n",
       "       'мелодрама,история,драма'], dtype=object)"
      ]
     },
     "execution_count": 45,
     "metadata": {},
     "output_type": "execute_result"
    }
   ],
   "source": [
    "df['genres'].unique()"
   ]
  },
  {
   "cell_type": "markdown",
   "metadata": {},
   "source": [
    "Можно заметить, что в столбце с информацией о стране-производителе существует проблема с разделителем в тех фильмах, где указано несколько стран. Причем проблема усложняется разным количеством пробелов между элементами, элементами-разделителями и наличием пробелов внетри названий самих стран. Приведем этот столбец к одному виду:"
   ]
  },
  {
   "cell_type": "code",
   "execution_count": 46,
   "metadata": {},
   "outputs": [],
   "source": [
    "df['production_country'] = df['production_country'].str.replace('-', ',').str.replace(' , ', ',').str.replace(' ,', ',').str.replace(', ', ',')"
   ]
  },
  {
   "cell_type": "markdown",
   "metadata": {},
   "source": [
    "Итак, единообразие достигнуто. Перейдем к следующему пункту."
   ]
  },
  {
   "cell_type": "markdown",
   "metadata": {
    "id": "XFSN5lrEgFyR"
   },
   "source": [
    "#### Шаг 2.5. Проверим количественные значения\n"
   ]
  },
  {
   "cell_type": "markdown",
   "metadata": {},
   "source": [
    "Изучим данные, которые даны нам в следующих столбцах: `refundable_support`, `nonrefundable_support`, `budget`, `box_office`:"
   ]
  },
  {
   "cell_type": "code",
   "execution_count": 47,
   "metadata": {
    "id": "YbzClBxagFyS"
   },
   "outputs": [
    {
     "data": {
      "text/html": [
       "<div>\n",
       "<style scoped>\n",
       "    .dataframe tbody tr th:only-of-type {\n",
       "        vertical-align: middle;\n",
       "    }\n",
       "\n",
       "    .dataframe tbody tr th {\n",
       "        vertical-align: top;\n",
       "    }\n",
       "\n",
       "    .dataframe thead th {\n",
       "        text-align: right;\n",
       "    }\n",
       "</style>\n",
       "<table border=\"1\" class=\"dataframe\">\n",
       "  <thead>\n",
       "    <tr style=\"text-align: right;\">\n",
       "      <th></th>\n",
       "      <th>refundable_support</th>\n",
       "      <th>nonrefundable_support</th>\n",
       "      <th>budget</th>\n",
       "      <th>box_office</th>\n",
       "    </tr>\n",
       "  </thead>\n",
       "  <tbody>\n",
       "    <tr>\n",
       "      <th>count</th>\n",
       "      <td>3.320000e+02</td>\n",
       "      <td>3.320000e+02</td>\n",
       "      <td>3.320000e+02</td>\n",
       "      <td>3.158000e+03</td>\n",
       "    </tr>\n",
       "    <tr>\n",
       "      <th>mean</th>\n",
       "      <td>1.186446e+07</td>\n",
       "      <td>4.898099e+07</td>\n",
       "      <td>1.272297e+08</td>\n",
       "      <td>7.647870e+07</td>\n",
       "    </tr>\n",
       "    <tr>\n",
       "      <th>std</th>\n",
       "      <td>2.491656e+07</td>\n",
       "      <td>5.998012e+07</td>\n",
       "      <td>1.885883e+08</td>\n",
       "      <td>2.403531e+08</td>\n",
       "    </tr>\n",
       "    <tr>\n",
       "      <th>min</th>\n",
       "      <td>0.000000e+00</td>\n",
       "      <td>0.000000e+00</td>\n",
       "      <td>0.000000e+00</td>\n",
       "      <td>0.000000e+00</td>\n",
       "    </tr>\n",
       "    <tr>\n",
       "      <th>25%</th>\n",
       "      <td>0.000000e+00</td>\n",
       "      <td>2.500000e+07</td>\n",
       "      <td>4.200000e+07</td>\n",
       "      <td>8.623900e+04</td>\n",
       "    </tr>\n",
       "    <tr>\n",
       "      <th>50%</th>\n",
       "      <td>0.000000e+00</td>\n",
       "      <td>3.000000e+07</td>\n",
       "      <td>6.864992e+07</td>\n",
       "      <td>2.327988e+06</td>\n",
       "    </tr>\n",
       "    <tr>\n",
       "      <th>75%</th>\n",
       "      <td>1.500000e+07</td>\n",
       "      <td>4.037500e+07</td>\n",
       "      <td>1.419853e+08</td>\n",
       "      <td>2.397967e+07</td>\n",
       "    </tr>\n",
       "    <tr>\n",
       "      <th>max</th>\n",
       "      <td>1.800000e+08</td>\n",
       "      <td>4.000000e+08</td>\n",
       "      <td>2.305074e+09</td>\n",
       "      <td>3.073569e+09</td>\n",
       "    </tr>\n",
       "  </tbody>\n",
       "</table>\n",
       "</div>"
      ],
      "text/plain": [
       "       refundable_support  nonrefundable_support        budget    box_office\n",
       "count        3.320000e+02           3.320000e+02  3.320000e+02  3.158000e+03\n",
       "mean         1.186446e+07           4.898099e+07  1.272297e+08  7.647870e+07\n",
       "std          2.491656e+07           5.998012e+07  1.885883e+08  2.403531e+08\n",
       "min          0.000000e+00           0.000000e+00  0.000000e+00  0.000000e+00\n",
       "25%          0.000000e+00           2.500000e+07  4.200000e+07  8.623900e+04\n",
       "50%          0.000000e+00           3.000000e+07  6.864992e+07  2.327988e+06\n",
       "75%          1.500000e+07           4.037500e+07  1.419853e+08  2.397967e+07\n",
       "max          1.800000e+08           4.000000e+08  2.305074e+09  3.073569e+09"
      ]
     },
     "execution_count": 47,
     "metadata": {},
     "output_type": "execute_result"
    }
   ],
   "source": [
    "df[~df[['refundable_support', 'nonrefundable_support', 'budget', 'box_office']].isna()][['refundable_support', 'nonrefundable_support', 'budget', 'box_office']].describe()"
   ]
  },
  {
   "cell_type": "markdown",
   "metadata": {},
   "source": [
    "Можно заметить, что у нас встречаются нулевые значения в этих столбцах, вместо пропусков. Уберем нулевые значения, заменив их пропусками:"
   ]
  },
  {
   "cell_type": "code",
   "execution_count": 48,
   "metadata": {},
   "outputs": [],
   "source": [
    "df[['refundable_support', 'nonrefundable_support', 'budget', 'box_office']] = df[['refundable_support', 'nonrefundable_support', 'budget', 'box_office']].replace(0, np.nan)"
   ]
  },
  {
   "cell_type": "code",
   "execution_count": 49,
   "metadata": {
    "id": "YbzClBxagFyS"
   },
   "outputs": [
    {
     "data": {
      "text/html": [
       "<div>\n",
       "<style scoped>\n",
       "    .dataframe tbody tr th:only-of-type {\n",
       "        vertical-align: middle;\n",
       "    }\n",
       "\n",
       "    .dataframe tbody tr th {\n",
       "        vertical-align: top;\n",
       "    }\n",
       "\n",
       "    .dataframe thead th {\n",
       "        text-align: right;\n",
       "    }\n",
       "</style>\n",
       "<table border=\"1\" class=\"dataframe\">\n",
       "  <thead>\n",
       "    <tr style=\"text-align: right;\">\n",
       "      <th></th>\n",
       "      <th>refundable_support</th>\n",
       "      <th>nonrefundable_support</th>\n",
       "      <th>budget</th>\n",
       "      <th>box_office</th>\n",
       "    </tr>\n",
       "  </thead>\n",
       "  <tbody>\n",
       "    <tr>\n",
       "      <th>count</th>\n",
       "      <td>1.110000e+02</td>\n",
       "      <td>3.230000e+02</td>\n",
       "      <td>3.150000e+02</td>\n",
       "      <td>3.134000e+03</td>\n",
       "    </tr>\n",
       "    <tr>\n",
       "      <th>mean</th>\n",
       "      <td>3.548649e+07</td>\n",
       "      <td>5.034578e+07</td>\n",
       "      <td>1.340961e+08</td>\n",
       "      <td>7.706437e+07</td>\n",
       "    </tr>\n",
       "    <tr>\n",
       "      <th>std</th>\n",
       "      <td>3.197288e+07</td>\n",
       "      <td>6.024321e+07</td>\n",
       "      <td>1.912260e+08</td>\n",
       "      <td>2.411784e+08</td>\n",
       "    </tr>\n",
       "    <tr>\n",
       "      <th>min</th>\n",
       "      <td>3.500000e+06</td>\n",
       "      <td>3.000000e+06</td>\n",
       "      <td>1.446246e+07</td>\n",
       "      <td>4.000000e+01</td>\n",
       "    </tr>\n",
       "    <tr>\n",
       "      <th>25%</th>\n",
       "      <td>1.500000e+07</td>\n",
       "      <td>2.500000e+07</td>\n",
       "      <td>4.615387e+07</td>\n",
       "      <td>1.010288e+05</td>\n",
       "    </tr>\n",
       "    <tr>\n",
       "      <th>50%</th>\n",
       "      <td>2.500000e+07</td>\n",
       "      <td>3.000000e+07</td>\n",
       "      <td>7.337955e+07</td>\n",
       "      <td>2.409099e+06</td>\n",
       "    </tr>\n",
       "    <tr>\n",
       "      <th>75%</th>\n",
       "      <td>5.000000e+07</td>\n",
       "      <td>4.500000e+07</td>\n",
       "      <td>1.500043e+08</td>\n",
       "      <td>2.456979e+07</td>\n",
       "    </tr>\n",
       "    <tr>\n",
       "      <th>max</th>\n",
       "      <td>1.800000e+08</td>\n",
       "      <td>4.000000e+08</td>\n",
       "      <td>2.305074e+09</td>\n",
       "      <td>3.073569e+09</td>\n",
       "    </tr>\n",
       "  </tbody>\n",
       "</table>\n",
       "</div>"
      ],
      "text/plain": [
       "       refundable_support  nonrefundable_support        budget    box_office\n",
       "count        1.110000e+02           3.230000e+02  3.150000e+02  3.134000e+03\n",
       "mean         3.548649e+07           5.034578e+07  1.340961e+08  7.706437e+07\n",
       "std          3.197288e+07           6.024321e+07  1.912260e+08  2.411784e+08\n",
       "min          3.500000e+06           3.000000e+06  1.446246e+07  4.000000e+01\n",
       "25%          1.500000e+07           2.500000e+07  4.615387e+07  1.010288e+05\n",
       "50%          2.500000e+07           3.000000e+07  7.337955e+07  2.409099e+06\n",
       "75%          5.000000e+07           4.500000e+07  1.500043e+08  2.456979e+07\n",
       "max          1.800000e+08           4.000000e+08  2.305074e+09  3.073569e+09"
      ]
     },
     "execution_count": 49,
     "metadata": {},
     "output_type": "execute_result"
    }
   ],
   "source": [
    "df[~df[['refundable_support', 'nonrefundable_support', 'budget', 'box_office']].isna()][['refundable_support', 'nonrefundable_support', 'budget', 'box_office']].describe()"
   ]
  },
  {
   "cell_type": "markdown",
   "metadata": {},
   "source": [
    "Теперь можно сделать выводы, применив метод `describe`. Мы видим, что колонка `box_office` имеет странные минимальные значения. Да и средние значения этого столбца не соотносятся с столбцом бюджета фильма. Извучим эти данные подробнее, отсортировав данные по колонке `box_office` и выведя строки с 10 минимальными значениями:"
   ]
  },
  {
   "cell_type": "code",
   "execution_count": 50,
   "metadata": {
    "scrolled": true
   },
   "outputs": [
    {
     "data": {
      "text/html": [
       "<div>\n",
       "<style scoped>\n",
       "    .dataframe tbody tr th:only-of-type {\n",
       "        vertical-align: middle;\n",
       "    }\n",
       "\n",
       "    .dataframe tbody tr th {\n",
       "        vertical-align: top;\n",
       "    }\n",
       "\n",
       "    .dataframe thead th {\n",
       "        text-align: right;\n",
       "    }\n",
       "</style>\n",
       "<table border=\"1\" class=\"dataframe\">\n",
       "  <thead>\n",
       "    <tr style=\"text-align: right;\">\n",
       "      <th></th>\n",
       "      <th>title</th>\n",
       "      <th>puNumber</th>\n",
       "      <th>show_start_date</th>\n",
       "      <th>type</th>\n",
       "      <th>film_studio</th>\n",
       "      <th>production_country</th>\n",
       "      <th>director</th>\n",
       "      <th>producer</th>\n",
       "      <th>age_restriction</th>\n",
       "      <th>refundable_support</th>\n",
       "      <th>nonrefundable_support</th>\n",
       "      <th>budget</th>\n",
       "      <th>financing_source</th>\n",
       "      <th>ratings</th>\n",
       "      <th>genres</th>\n",
       "      <th>box_office</th>\n",
       "    </tr>\n",
       "  </thead>\n",
       "  <tbody>\n",
       "    <tr>\n",
       "      <th>151</th>\n",
       "      <td>Жестокий романс</td>\n",
       "      <td>111006013</td>\n",
       "      <td>2013-10-18</td>\n",
       "      <td>Художественный</td>\n",
       "      <td>Киностудия \"Мосфильм\"</td>\n",
       "      <td>СССР</td>\n",
       "      <td>Э.Рязанов</td>\n",
       "      <td>unknown</td>\n",
       "      <td>«12+» - для детей старше 12 лет</td>\n",
       "      <td>&lt;NA&gt;</td>\n",
       "      <td>&lt;NA&gt;</td>\n",
       "      <td>&lt;NA&gt;</td>\n",
       "      <td>NaN</td>\n",
       "      <td>8.1</td>\n",
       "      <td>драма,мелодрама,история</td>\n",
       "      <td>40.0</td>\n",
       "    </tr>\n",
       "    <tr>\n",
       "      <th>2274</th>\n",
       "      <td>Каменный цветок.</td>\n",
       "      <td>111016714</td>\n",
       "      <td>2014-12-01</td>\n",
       "      <td>Художественный</td>\n",
       "      <td>Киностудия \"Мосфильм\"</td>\n",
       "      <td>СССР</td>\n",
       "      <td>А.Птушко</td>\n",
       "      <td>unknown</td>\n",
       "      <td>«0+» - для любой зрительской аудитории</td>\n",
       "      <td>&lt;NA&gt;</td>\n",
       "      <td>&lt;NA&gt;</td>\n",
       "      <td>&lt;NA&gt;</td>\n",
       "      <td>NaN</td>\n",
       "      <td>7.1</td>\n",
       "      <td>фэнтези,драма,мелодрама</td>\n",
       "      <td>50.0</td>\n",
       "    </tr>\n",
       "    <tr>\n",
       "      <th>3917</th>\n",
       "      <td>22 пули: Бессмертный</td>\n",
       "      <td>121006410</td>\n",
       "      <td>2010-04-01</td>\n",
       "      <td>Художественный</td>\n",
       "      <td>Еуроп Корпорейшн</td>\n",
       "      <td>Франция</td>\n",
       "      <td>Ришар Бери</td>\n",
       "      <td>Люк Бессон, Дидье Хорау, Пьер-Анж Ле Погам</td>\n",
       "      <td>«16+» - для детей старше 16 лет</td>\n",
       "      <td>&lt;NA&gt;</td>\n",
       "      <td>&lt;NA&gt;</td>\n",
       "      <td>&lt;NA&gt;</td>\n",
       "      <td>NaN</td>\n",
       "      <td>7.1</td>\n",
       "      <td>боевик,драма,криминал</td>\n",
       "      <td>75.0</td>\n",
       "    </tr>\n",
       "    <tr>\n",
       "      <th>1180</th>\n",
       "      <td>Астерикс и Обеликс в Британии 3D</td>\n",
       "      <td>121025012</td>\n",
       "      <td>2012-10-05</td>\n",
       "      <td>Художественный</td>\n",
       "      <td>Уайлд Банч, Фиделите Фильм, Филм Кайрос, Синет...</td>\n",
       "      <td>Франция,Италия,Испания,Венгрия</td>\n",
       "      <td>Лоран Тирар</td>\n",
       "      <td>Оливье Делбоск, Марк Миссонье</td>\n",
       "      <td>«6+» - для детей старше 6 лет</td>\n",
       "      <td>&lt;NA&gt;</td>\n",
       "      <td>&lt;NA&gt;</td>\n",
       "      <td>&lt;NA&gt;</td>\n",
       "      <td>NaN</td>\n",
       "      <td>5.6</td>\n",
       "      <td>комедия,приключения,семейный</td>\n",
       "      <td>80.0</td>\n",
       "    </tr>\n",
       "    <tr>\n",
       "      <th>164</th>\n",
       "      <td>За спичками</td>\n",
       "      <td>111006113</td>\n",
       "      <td>2013-10-18</td>\n",
       "      <td>Художественный</td>\n",
       "      <td>Киностудия \"Мосфильм\", \"СУОМИ-ФИЛЬМ\"</td>\n",
       "      <td>СССР,Финляндия</td>\n",
       "      <td>Л.Гайдай, Р.Орко</td>\n",
       "      <td>unknown</td>\n",
       "      <td>«12+» - для детей старше 12 лет</td>\n",
       "      <td>&lt;NA&gt;</td>\n",
       "      <td>&lt;NA&gt;</td>\n",
       "      <td>&lt;NA&gt;</td>\n",
       "      <td>NaN</td>\n",
       "      <td>7.5</td>\n",
       "      <td>комедия,приключения,история</td>\n",
       "      <td>100.0</td>\n",
       "    </tr>\n",
       "    <tr>\n",
       "      <th>4063</th>\n",
       "      <td>Ловец ветра</td>\n",
       "      <td>111009310</td>\n",
       "      <td>2010-10-21</td>\n",
       "      <td>Художественный</td>\n",
       "      <td>ГУП РБ Киностудия \"Башкортостан\"</td>\n",
       "      <td>Россия</td>\n",
       "      <td>А.Юмагулов</td>\n",
       "      <td>А.Юнусов</td>\n",
       "      <td>«16+» - для детей старше 16 лет</td>\n",
       "      <td>&lt;NA&gt;</td>\n",
       "      <td>&lt;NA&gt;</td>\n",
       "      <td>&lt;NA&gt;</td>\n",
       "      <td>NaN</td>\n",
       "      <td>7.5</td>\n",
       "      <td>драма,комедия</td>\n",
       "      <td>100.0</td>\n",
       "    </tr>\n",
       "    <tr>\n",
       "      <th>211</th>\n",
       "      <td>Одиноким предоставляется общежитие</td>\n",
       "      <td>111018614</td>\n",
       "      <td>2014-12-01</td>\n",
       "      <td>Художественный</td>\n",
       "      <td>Киностудия \"Мосфильм\"</td>\n",
       "      <td>СССР</td>\n",
       "      <td>С.Самсонов</td>\n",
       "      <td>unknown</td>\n",
       "      <td>«12+» - для детей старше 12 лет</td>\n",
       "      <td>&lt;NA&gt;</td>\n",
       "      <td>&lt;NA&gt;</td>\n",
       "      <td>&lt;NA&gt;</td>\n",
       "      <td>NaN</td>\n",
       "      <td>7.8</td>\n",
       "      <td>мелодрама,комедия</td>\n",
       "      <td>100.0</td>\n",
       "    </tr>\n",
       "    <tr>\n",
       "      <th>1499</th>\n",
       "      <td>Лучшие дни впереди</td>\n",
       "      <td>121023413</td>\n",
       "      <td>2013-09-03</td>\n",
       "      <td>Художественный</td>\n",
       "      <td>Ле Фильм дю Киоск, 27.11 Продюксьон, Директ си...</td>\n",
       "      <td>Франция</td>\n",
       "      <td>Марион Верну</td>\n",
       "      <td>Франсуа Краус, Дени Пино-Валенсьенн</td>\n",
       "      <td>«16+» - для детей старше 16 лет</td>\n",
       "      <td>&lt;NA&gt;</td>\n",
       "      <td>&lt;NA&gt;</td>\n",
       "      <td>&lt;NA&gt;</td>\n",
       "      <td>NaN</td>\n",
       "      <td>6.6</td>\n",
       "      <td>драма,комедия</td>\n",
       "      <td>100.0</td>\n",
       "    </tr>\n",
       "    <tr>\n",
       "      <th>351</th>\n",
       "      <td>Волшебное приключение</td>\n",
       "      <td>124000905</td>\n",
       "      <td>2015-01-18</td>\n",
       "      <td>Анимационный</td>\n",
       "      <td>Экшион Филмз, Патэ Синема, Болексбразерс</td>\n",
       "      <td>Великобритания,Франция</td>\n",
       "      <td>Дэйв Бортвик</td>\n",
       "      <td>Клауди Горский, Энди Лэйтон, Лаурен Родон, Пас...</td>\n",
       "      <td>«0+» - для любой зрительской аудитории</td>\n",
       "      <td>&lt;NA&gt;</td>\n",
       "      <td>&lt;NA&gt;</td>\n",
       "      <td>&lt;NA&gt;</td>\n",
       "      <td>NaN</td>\n",
       "      <td>5.7</td>\n",
       "      <td>мультфильм,фэнтези,комедия</td>\n",
       "      <td>100.0</td>\n",
       "    </tr>\n",
       "    <tr>\n",
       "      <th>1269</th>\n",
       "      <td>Обещание /По произведению Стефана Цвейга/</td>\n",
       "      <td>121009914</td>\n",
       "      <td>2014-05-19</td>\n",
       "      <td>Художественный</td>\n",
       "      <td>Фиделите Фильм, Уалд Банч, Скоуп Пикчерз, Оран...</td>\n",
       "      <td>Франция,Бельгия</td>\n",
       "      <td>Патрис Леконт</td>\n",
       "      <td>Оливье Дебоск, Кристин де Жекель, Марк Миссонье</td>\n",
       "      <td>«18+» - запрещено для детей</td>\n",
       "      <td>&lt;NA&gt;</td>\n",
       "      <td>&lt;NA&gt;</td>\n",
       "      <td>&lt;NA&gt;</td>\n",
       "      <td>NaN</td>\n",
       "      <td>7.1</td>\n",
       "      <td>боевик,драма,приключения</td>\n",
       "      <td>100.0</td>\n",
       "    </tr>\n",
       "  </tbody>\n",
       "</table>\n",
       "</div>"
      ],
      "text/plain": [
       "                                          title   puNumber show_start_date  \\\n",
       "151                             Жестокий романс  111006013      2013-10-18   \n",
       "2274                           Каменный цветок.  111016714      2014-12-01   \n",
       "3917                       22 пули: Бессмертный  121006410      2010-04-01   \n",
       "1180           Астерикс и Обеликс в Британии 3D  121025012      2012-10-05   \n",
       "164                                 За спичками  111006113      2013-10-18   \n",
       "4063                                Ловец ветра  111009310      2010-10-21   \n",
       "211          Одиноким предоставляется общежитие  111018614      2014-12-01   \n",
       "1499                         Лучшие дни впереди  121023413      2013-09-03   \n",
       "351                       Волшебное приключение  124000905      2015-01-18   \n",
       "1269  Обещание /По произведению Стефана Цвейга/  121009914      2014-05-19   \n",
       "\n",
       "                type                                        film_studio  \\\n",
       "151   Художественный                              Киностудия \"Мосфильм\"   \n",
       "2274  Художественный                              Киностудия \"Мосфильм\"   \n",
       "3917  Художественный                                   Еуроп Корпорейшн   \n",
       "1180  Художественный  Уайлд Банч, Фиделите Фильм, Филм Кайрос, Синет...   \n",
       "164   Художественный              Киностудия \"Мосфильм\", \"СУОМИ-ФИЛЬМ\"    \n",
       "4063  Художественный                   ГУП РБ Киностудия \"Башкортостан\"   \n",
       "211   Художественный                              Киностудия \"Мосфильм\"   \n",
       "1499  Художественный  Ле Фильм дю Киоск, 27.11 Продюксьон, Директ си...   \n",
       "351     Анимационный           Экшион Филмз, Патэ Синема, Болексбразерс   \n",
       "1269  Художественный  Фиделите Фильм, Уалд Банч, Скоуп Пикчерз, Оран...   \n",
       "\n",
       "                  production_country          director  \\\n",
       "151                             СССР         Э.Рязанов   \n",
       "2274                            СССР          А.Птушко   \n",
       "3917                         Франция        Ришар Бери   \n",
       "1180  Франция,Италия,Испания,Венгрия       Лоран Тирар   \n",
       "164                   СССР,Финляндия  Л.Гайдай, Р.Орко   \n",
       "4063                          Россия        А.Юмагулов   \n",
       "211                             СССР        С.Самсонов   \n",
       "1499                         Франция      Марион Верну   \n",
       "351           Великобритания,Франция      Дэйв Бортвик   \n",
       "1269                 Франция,Бельгия     Патрис Леконт   \n",
       "\n",
       "                                               producer  \\\n",
       "151                                             unknown   \n",
       "2274                                            unknown   \n",
       "3917         Люк Бессон, Дидье Хорау, Пьер-Анж Ле Погам   \n",
       "1180                      Оливье Делбоск, Марк Миссонье   \n",
       "164                                             unknown   \n",
       "4063                                           А.Юнусов   \n",
       "211                                             unknown   \n",
       "1499                Франсуа Краус, Дени Пино-Валенсьенн   \n",
       "351   Клауди Горский, Энди Лэйтон, Лаурен Родон, Пас...   \n",
       "1269    Оливье Дебоск, Кристин де Жекель, Марк Миссонье   \n",
       "\n",
       "                             age_restriction  refundable_support  \\\n",
       "151          «12+» - для детей старше 12 лет                <NA>   \n",
       "2274  «0+» - для любой зрительской аудитории                <NA>   \n",
       "3917         «16+» - для детей старше 16 лет                <NA>   \n",
       "1180           «6+» - для детей старше 6 лет                <NA>   \n",
       "164          «12+» - для детей старше 12 лет                <NA>   \n",
       "4063         «16+» - для детей старше 16 лет                <NA>   \n",
       "211          «12+» - для детей старше 12 лет                <NA>   \n",
       "1499         «16+» - для детей старше 16 лет                <NA>   \n",
       "351   «0+» - для любой зрительской аудитории                <NA>   \n",
       "1269             «18+» - запрещено для детей                <NA>   \n",
       "\n",
       "      nonrefundable_support  budget financing_source  ratings  \\\n",
       "151                    <NA>    <NA>              NaN      8.1   \n",
       "2274                   <NA>    <NA>              NaN      7.1   \n",
       "3917                   <NA>    <NA>              NaN      7.1   \n",
       "1180                   <NA>    <NA>              NaN      5.6   \n",
       "164                    <NA>    <NA>              NaN      7.5   \n",
       "4063                   <NA>    <NA>              NaN      7.5   \n",
       "211                    <NA>    <NA>              NaN      7.8   \n",
       "1499                   <NA>    <NA>              NaN      6.6   \n",
       "351                    <NA>    <NA>              NaN      5.7   \n",
       "1269                   <NA>    <NA>              NaN      7.1   \n",
       "\n",
       "                            genres  box_office  \n",
       "151        драма,мелодрама,история        40.0  \n",
       "2274       фэнтези,драма,мелодрама        50.0  \n",
       "3917         боевик,драма,криминал        75.0  \n",
       "1180  комедия,приключения,семейный        80.0  \n",
       "164    комедия,приключения,история       100.0  \n",
       "4063                 драма,комедия       100.0  \n",
       "211              мелодрама,комедия       100.0  \n",
       "1499                 драма,комедия       100.0  \n",
       "351     мультфильм,фэнтези,комедия       100.0  \n",
       "1269      боевик,драма,приключения       100.0  "
      ]
     },
     "execution_count": 50,
     "metadata": {},
     "output_type": "execute_result"
    }
   ],
   "source": [
    "df[~df['box_office'].isna()].sort_values(by='box_office').head(10)"
   ]
  },
  {
   "cell_type": "markdown",
   "metadata": {},
   "source": [
    "Значения сборов в 100 рублей выглядят уже даже не странно, а абсурдно. Что-то с этими значениями не так. Будем разбираться. Для начала посмотрим, сколько фильмов имеют нереалистичное значение в столбце `box_office`:"
   ]
  },
  {
   "cell_type": "code",
   "execution_count": 51,
   "metadata": {},
   "outputs": [
    {
     "data": {
      "text/plain": [
       "782"
      ]
     },
     "execution_count": 51,
     "metadata": {},
     "output_type": "execute_result"
    }
   ],
   "source": [
    "df[df['box_office'] <= 100000]['box_office'].count()"
   ]
  },
  {
   "cell_type": "code",
   "execution_count": 52,
   "metadata": {},
   "outputs": [
    {
     "data": {
      "image/png": "[encoded data removed]",
      "text/plain": [
       "<Figure size 432x288 with 1 Axes>"
      ]
     },
     "metadata": {
      "needs_background": "light"
     },
     "output_type": "display_data"
    }
   ],
   "source": [
    "ax = sns.boxplot(data = df, y='box_office', showfliers=False)\n",
    "ax.set_title('Сборы за фильм \\n')\n",
    "ax.set_ylabel(ylabel='Сборы с одного фильма в прокате, 10$^7$ руб')\n",
    "plt.show()"
   ]
  },
  {
   "cell_type": "markdown",
   "metadata": {},
   "source": [
    "Как мы видим, фильмов у которых странно низкие значения в столбце сборов - много. При рассмотрении общей картины нам придется отфильтровывать данные результаты, по той причине, что мы не знаем почему и по какой логике эти строки имеют настолько низкие значения. Будем принимать за корректные значения от 100000."
   ]
  },
  {
   "cell_type": "markdown",
   "metadata": {
    "id": "Eu6oWp2CgFyS"
   },
   "source": [
    "#### Шаг 2.6. Добавим новые столбцы\n",
    "\n",
    "\n",
    "\n"
   ]
  },
  {
   "cell_type": "code",
   "execution_count": 53,
   "metadata": {
    "id": "I-yd1DkWgFyT"
   },
   "outputs": [],
   "source": [
    "df['year'] = df['show_start_date'].apply(lambda x: x.year)"
   ]
  },
  {
   "cell_type": "markdown",
   "metadata": {},
   "source": [
    "Напишем функцию, которая будет разделять строку про символу \",\" и возвращать первое значение в получившемся списке."
   ]
  },
  {
   "cell_type": "code",
   "execution_count": 54,
   "metadata": {
    "id": "LSbRZKbMgFyU"
   },
   "outputs": [],
   "source": [
    "def first_value(string):\n",
    "    return string.split(',')[0]"
   ]
  },
  {
   "cell_type": "code",
   "execution_count": 55,
   "metadata": {},
   "outputs": [],
   "source": [
    "df['main_director_name'] = df['director'].apply(first_value)"
   ]
  },
  {
   "cell_type": "code",
   "execution_count": 56,
   "metadata": {},
   "outputs": [],
   "source": [
    "df['main_genre'] = df['genres'].apply(first_value)"
   ]
  },
  {
   "cell_type": "markdown",
   "metadata": {
    "id": "1FsCXHwdgFyU"
   },
   "source": [
    "- Посчитаем, какую долю от общего бюджета фильма составляет государственная поддержка."
   ]
  },
  {
   "cell_type": "code",
   "execution_count": 57,
   "metadata": {
    "id": "LV6qFuZLgFyV"
   },
   "outputs": [],
   "source": [
    "df['support_raito'] = (df['refundable_support'].fillna(0) + df['nonrefundable_support'].fillna(0)) / df['budget']"
   ]
  },
  {
   "cell_type": "markdown",
   "metadata": {
    "id": "6t4EukPLgFyV"
   },
   "source": [
    "### Шаг 3. Проведем исследовательский анализ данных\n"
   ]
  },
  {
   "cell_type": "markdown",
   "metadata": {
    "id": "vAH8WCzugFyV"
   },
   "source": [
    "- Посмотрим, сколько фильмов выходило в прокат каждый год. Обратите внимание, что данные о прокате в кинотеатрах известны не для всех фильмов. Посчитайте, какую долю составляют фильмы с указанной информацией о прокате в кинотеатрах:"
   ]
  },
  {
   "cell_type": "code",
   "execution_count": 58,
   "metadata": {
    "id": "ABeV47y7gFyW"
   },
   "outputs": [
    {
     "data": {
      "text/plain": [
       "year\n",
       "2010    101\n",
       "2011    109\n",
       "2012    123\n",
       "2013    179\n",
       "2014    273\n",
       "2015    462\n",
       "2016    525\n",
       "2017    357\n",
       "2018    475\n",
       "2019    530\n",
       "Name: box_office, dtype: int64"
      ]
     },
     "execution_count": 58,
     "metadata": {},
     "output_type": "execute_result"
    }
   ],
   "source": [
    "df.groupby('year')['box_office'].count()"
   ]
  },
  {
   "cell_type": "code",
   "execution_count": 59,
   "metadata": {
    "scrolled": true
   },
   "outputs": [
    {
     "data": {
      "text/plain": [
       "0.5813518567993589"
      ]
     },
     "execution_count": 59,
     "metadata": {},
     "output_type": "execute_result"
    }
   ],
   "source": [
    "df['box_office'].isna().mean()"
   ]
  },
  {
   "cell_type": "markdown",
   "metadata": {},
   "source": [
    "Почти у 42% есть информация о прокате в кинотеатрах."
   ]
  },
  {
   "cell_type": "markdown",
   "metadata": {
    "id": "BEOdcIrIgFyW"
   },
   "source": [
    "Изучим, как менялась динамика проката по годам."
   ]
  },
  {
   "cell_type": "code",
   "execution_count": 60,
   "metadata": {
    "id": "tfEhofYvgFyX",
    "scrolled": true
   },
   "outputs": [
    {
     "data": {
      "image/png": "[encoded data removed]",
      "text/plain": [
       "<Figure size 432x288 with 1 Axes>"
      ]
     },
     "metadata": {
      "needs_background": "light"
     },
     "output_type": "display_data"
    }
   ],
   "source": [
    "ax = sns.barplot(data = df.groupby('year')['box_office'].sum().reset_index().query('box_office > 100000'), x='year', y='box_office')\n",
    "ax.set_title('Сборы за год \\n')\n",
    "ax.set_xlabel(xlabel='год')\n",
    "ax.set_ylabel(ylabel='Сборы за год, $10^1$$^0$ руб')\n",
    "plt.xticks(rotation=45, ha='right')\n",
    "plt.show()"
   ]
  },
  {
   "cell_type": "markdown",
   "metadata": {},
   "source": [
    "Судя по графику, данные о сборах начали вносить с конца 2014 года. Поэтому мы можем рассматривать только года с 2015 до 2019. В целом, в 2015 году была минимальная сумма сборов, а в 2018-максимальная. Отобразим максимальные значения для этих годов:"
   ]
  },
  {
   "cell_type": "code",
   "execution_count": 61,
   "metadata": {
    "scrolled": true
   },
   "outputs": [
    {
     "data": {
      "text/plain": [
       "count    5.000000e+00\n",
       "mean     4.680430e+10\n",
       "std      4.136626e+09\n",
       "min      3.949737e+10\n",
       "25%      4.786630e+10\n",
       "50%      4.842571e+10\n",
       "75%      4.856371e+10\n",
       "max      4.966840e+10\n",
       "Name: box_office, dtype: float64"
      ]
     },
     "execution_count": 61,
     "metadata": {},
     "output_type": "execute_result"
    }
   ],
   "source": [
    "df[df['year'] > 2014].groupby('year')['box_office'].sum().describe()"
   ]
  },
  {
   "cell_type": "markdown",
   "metadata": {},
   "source": [
    "Минимальное значение - 39,5 миллиарда рублей в 2015 году, максимальное - 49,7 миллиарда рублей в 2018 году."
   ]
  },
  {
   "cell_type": "markdown",
   "metadata": {
    "id": "G-7qS-N-gFyY"
   },
   "source": [
    "помощью сводной таблицы посчитаем среднюю и медианную сумму сборов для каждого года."
   ]
  },
  {
   "cell_type": "code",
   "execution_count": 62,
   "metadata": {
    "id": "jmp-rgg9gFyY"
   },
   "outputs": [
    {
     "data": {
      "text/html": [
       "<div>\n",
       "<style scoped>\n",
       "    .dataframe tbody tr th:only-of-type {\n",
       "        vertical-align: middle;\n",
       "    }\n",
       "\n",
       "    .dataframe tbody tr th {\n",
       "        vertical-align: top;\n",
       "    }\n",
       "\n",
       "    .dataframe thead tr th {\n",
       "        text-align: left;\n",
       "    }\n",
       "\n",
       "    .dataframe thead tr:last-of-type th {\n",
       "        text-align: right;\n",
       "    }\n",
       "</style>\n",
       "<table border=\"1\" class=\"dataframe\">\n",
       "  <thead>\n",
       "    <tr>\n",
       "      <th></th>\n",
       "      <th>mean</th>\n",
       "      <th>median</th>\n",
       "    </tr>\n",
       "    <tr>\n",
       "      <th></th>\n",
       "      <th>box_office</th>\n",
       "      <th>box_office</th>\n",
       "    </tr>\n",
       "    <tr>\n",
       "      <th>year</th>\n",
       "      <th></th>\n",
       "      <th></th>\n",
       "    </tr>\n",
       "  </thead>\n",
       "  <tbody>\n",
       "    <tr>\n",
       "      <th>2010</th>\n",
       "      <td>2.404608e+04</td>\n",
       "      <td>1710.000</td>\n",
       "    </tr>\n",
       "    <tr>\n",
       "      <th>2011</th>\n",
       "      <td>1.293832e+05</td>\n",
       "      <td>3000.000</td>\n",
       "    </tr>\n",
       "    <tr>\n",
       "      <th>2012</th>\n",
       "      <td>5.654815e+04</td>\n",
       "      <td>6220.000</td>\n",
       "    </tr>\n",
       "    <tr>\n",
       "      <th>2013</th>\n",
       "      <td>1.664788e+05</td>\n",
       "      <td>3580.000</td>\n",
       "    </tr>\n",
       "    <tr>\n",
       "      <th>2014</th>\n",
       "      <td>2.727089e+07</td>\n",
       "      <td>20400.000</td>\n",
       "    </tr>\n",
       "    <tr>\n",
       "      <th>2015</th>\n",
       "      <td>8.549213e+07</td>\n",
       "      <td>5003450.150</td>\n",
       "    </tr>\n",
       "    <tr>\n",
       "      <th>2016</th>\n",
       "      <td>9.117390e+07</td>\n",
       "      <td>3915041.020</td>\n",
       "    </tr>\n",
       "    <tr>\n",
       "      <th>2017</th>\n",
       "      <td>1.360328e+08</td>\n",
       "      <td>9968340.000</td>\n",
       "    </tr>\n",
       "    <tr>\n",
       "      <th>2018</th>\n",
       "      <td>1.045651e+08</td>\n",
       "      <td>8891102.210</td>\n",
       "    </tr>\n",
       "    <tr>\n",
       "      <th>2019</th>\n",
       "      <td>9.136926e+07</td>\n",
       "      <td>4627798.345</td>\n",
       "    </tr>\n",
       "  </tbody>\n",
       "</table>\n",
       "</div>"
      ],
      "text/plain": [
       "              mean       median\n",
       "        box_office   box_office\n",
       "year                           \n",
       "2010  2.404608e+04     1710.000\n",
       "2011  1.293832e+05     3000.000\n",
       "2012  5.654815e+04     6220.000\n",
       "2013  1.664788e+05     3580.000\n",
       "2014  2.727089e+07    20400.000\n",
       "2015  8.549213e+07  5003450.150\n",
       "2016  9.117390e+07  3915041.020\n",
       "2017  1.360328e+08  9968340.000\n",
       "2018  1.045651e+08  8891102.210\n",
       "2019  9.136926e+07  4627798.345"
      ]
     },
     "execution_count": 62,
     "metadata": {},
     "output_type": "execute_result"
    }
   ],
   "source": [
    "df.pivot_table(index='year', values='box_office', aggfunc=['mean', 'median'])"
   ]
  },
  {
   "cell_type": "markdown",
   "metadata": {},
   "source": [
    "Из этой таблицы можно сделать вывод о том, что не смотря на то, что максимальные сборы были достигнуты в 2018 году, максимальные средние и медианные значения сборов были достигнуты в 2017 году. А максимальный уровень сборов был достигнут за счет количества фильмов, а не их сборов."
   ]
  },
  {
   "cell_type": "markdown",
   "metadata": {
    "id": "Ok89WFwJgFyZ"
   },
   "source": [
    "Определим, влияет ли возрастное ограничение аудитории («6+», «12+», «16+», «18+» и т. д.) на сборы фильма в прокате в период с 2015 по 2019 год."
   ]
  },
  {
   "cell_type": "markdown",
   "metadata": {},
   "source": [
    "Создадим отдельный столбец, с сокращенной записью возрастной категории:"
   ]
  },
  {
   "cell_type": "code",
   "execution_count": 63,
   "metadata": {},
   "outputs": [],
   "source": [
    "def age_short(string):\n",
    "    return string.split('«')[1].split('»')[0]"
   ]
  },
  {
   "cell_type": "code",
   "execution_count": 64,
   "metadata": {},
   "outputs": [],
   "source": [
    "df['age_short'] = df['age_restriction'].apply(age_short)"
   ]
  },
  {
   "cell_type": "markdown",
   "metadata": {},
   "source": [
    "Создадим графики, показывающие сборы фильмов для каждой возрастной категории за определенный год:"
   ]
  },
  {
   "cell_type": "code",
   "execution_count": 65,
   "metadata": {
    "id": "jsSbEqfjgFya",
    "scrolled": false
   },
   "outputs": [
    {
     "data": {
      "image/png": "[encoded data removed]",
      "text/plain": [
       "<Figure size 432x288 with 1 Axes>"
      ]
     },
     "metadata": {},
     "output_type": "display_data"
    },
    {
     "data": {
      "image/png": "[encoded data removed]",
      "text/plain": [
       "<Figure size 432x288 with 1 Axes>"
      ]
     },
     "metadata": {},
     "output_type": "display_data"
    },
    {
     "data": {
      "image/png": "[encoded data removed]",
      "text/plain": [
       "<Figure size 432x288 with 1 Axes>"
      ]
     },
     "metadata": {},
     "output_type": "display_data"
    },
    {
     "data": {
      "image/png": "[encoded data removed]",
      "text/plain": [
       "<Figure size 432x288 with 1 Axes>"
      ]
     },
     "metadata": {},
     "output_type": "display_data"
    },
    {
     "data": {
      "image/png": "[encoded data removed]",
      "text/plain": [
       "<Figure size 432x288 with 1 Axes>"
      ]
     },
     "metadata": {},
     "output_type": "display_data"
    }
   ],
   "source": [
    "cats = ['0+', '6+', '12+', '16+', '18+']\n",
    "for year in df.query('year > 2014')['year'].unique():\n",
    "    sns.set_style(\"whitegrid\")\n",
    "    ax = sns.barplot(data = df[df['year'] == year].groupby('age_short')['box_office'].sum().reindex(cats).reset_index().query('box_office > 100000'), x='age_short', y='box_office')\n",
    "    rects = ax.patches    \n",
    "    lst = []\n",
    "    for age in cats:\n",
    "        lst.append(df[(df['year'] == year) & (df['age_short'] == age)].query('box_office > 100000')['title'].count())\n",
    "    for rect, label in zip(rects, lst):\n",
    "        height = rect.get_height()\n",
    "        ax.text(rect.get_x() + rect.get_width() / 2, height + 5, label, ha='center', va='bottom')\n",
    "    ax.set_title(f'Сборы за {year} год \\n')\n",
    "    ax.set_xlabel(xlabel='Возрастная категория')\n",
    "    ax.set_ylabel(ylabel='Сборы за год, $10^1$$^0$ руб')\n",
    "    plt.ylim((0,2e10))\n",
    "    plt.show()"
   ]
  },
  {
   "cell_type": "markdown",
   "metadata": {},
   "source": [
    "Над общим значением сборов указано количество фильмов, которые эти сборы обеспечили. Из этих графиков можно сделать вывод о том, что не смотря на то, что фильмы категории \"16+\" хоть и обеспечили бОльшую часть сборов, каждый фильм по отдельности собрал кассу меньшую, чем, например, фильмы категории \"6+\" и \"12+\". Изменение соотношения сборов для каждой категории можно объяснить количеством фильмов, выходящих для каждой категории. Например в 2017 году мы видим, что фильмов \"6+\" и \"12+\" выходило гораздо меньше чем в другие года, и из-за этого присутствует спад сборов для фильмов этой категории в этом году."
   ]
  },
  {
   "cell_type": "markdown",
   "metadata": {
    "id": "l_Kg6Ku4gFya"
   },
   "source": [
    "### Шаг 4. Исследуем фильмы, которые получили государственную поддержку"
   ]
  },
  {
   "cell_type": "markdown",
   "metadata": {},
   "source": [
    "Создадим столбец, в котором будет посчитана суммарная полученная поддержка:"
   ]
  },
  {
   "cell_type": "code",
   "execution_count": 66,
   "metadata": {
    "id": "W9QKpjUdgFyb"
   },
   "outputs": [],
   "source": [
    "df['total_support'] = (df['refundable_support'].fillna(0) + df['nonrefundable_support'].fillna(0))\n",
    "df['total_support'] = df['total_support'].replace(0, np.nan)"
   ]
  },
  {
   "cell_type": "markdown",
   "metadata": {},
   "source": [
    "Изучим корреляцию рейтинга фильма и его сборов от полученной поддержки:"
   ]
  },
  {
   "cell_type": "code",
   "execution_count": 67,
   "metadata": {
    "scrolled": false
   },
   "outputs": [
    {
     "data": {
      "text/html": [
       "<div>\n",
       "<style scoped>\n",
       "    .dataframe tbody tr th:only-of-type {\n",
       "        vertical-align: middle;\n",
       "    }\n",
       "\n",
       "    .dataframe tbody tr th {\n",
       "        vertical-align: top;\n",
       "    }\n",
       "\n",
       "    .dataframe thead th {\n",
       "        text-align: right;\n",
       "    }\n",
       "</style>\n",
       "<table border=\"1\" class=\"dataframe\">\n",
       "  <thead>\n",
       "    <tr style=\"text-align: right;\">\n",
       "      <th></th>\n",
       "      <th>ratings</th>\n",
       "      <th>box_office</th>\n",
       "      <th>total_support</th>\n",
       "    </tr>\n",
       "  </thead>\n",
       "  <tbody>\n",
       "    <tr>\n",
       "      <th>ratings</th>\n",
       "      <td>1.000000</td>\n",
       "      <td>0.143755</td>\n",
       "      <td>0.102222</td>\n",
       "    </tr>\n",
       "    <tr>\n",
       "      <th>box_office</th>\n",
       "      <td>0.143755</td>\n",
       "      <td>1.000000</td>\n",
       "      <td>0.488976</td>\n",
       "    </tr>\n",
       "    <tr>\n",
       "      <th>total_support</th>\n",
       "      <td>0.102222</td>\n",
       "      <td>0.488976</td>\n",
       "      <td>1.000000</td>\n",
       "    </tr>\n",
       "  </tbody>\n",
       "</table>\n",
       "</div>"
      ],
      "text/plain": [
       "                ratings  box_office  total_support\n",
       "ratings        1.000000    0.143755       0.102222\n",
       "box_office     0.143755    1.000000       0.488976\n",
       "total_support  0.102222    0.488976       1.000000"
      ]
     },
     "execution_count": 67,
     "metadata": {},
     "output_type": "execute_result"
    }
   ],
   "source": [
    "df[~df['total_support'].isna()][['ratings', 'box_office', 'total_support']].corr()"
   ]
  },
  {
   "cell_type": "markdown",
   "metadata": {},
   "source": [
    "Отсюда мы видим низкую зависимость рейтинга получивших поддержку фильмов от полученной поддержки. Также можно заметить, что сборы имеют более ярко выраженную зависимость от полученной поддержки. Следовательно, можно сделать вывод, что средства выделенные на поддержку влияют не на качество конечного продукта, а на его продвижение и рекламу."
   ]
  },
  {
   "cell_type": "markdown",
   "metadata": {},
   "source": [
    "Изучим показатели рейтинга для фильмов, получивших поддержку:"
   ]
  },
  {
   "cell_type": "code",
   "execution_count": 68,
   "metadata": {},
   "outputs": [
    {
     "data": {
      "text/plain": [
       "count    316.000000\n",
       "mean       6.020885\n",
       "std        1.148944\n",
       "min        1.000000\n",
       "25%        5.300000\n",
       "50%        6.200000\n",
       "75%        6.700000\n",
       "max        9.400000\n",
       "Name: ratings, dtype: float64"
      ]
     },
     "execution_count": 68,
     "metadata": {},
     "output_type": "execute_result"
    }
   ],
   "source": [
    "df[~df['total_support'].isna()]['ratings'].describe()"
   ]
  },
  {
   "cell_type": "markdown",
   "metadata": {},
   "source": [
    "В основном эти фильмы имеют весьма невысокий балл, в районе 5,5-6,5. Это может означать только то, что выбор фильмов получающих поддержку весьма сомнителен."
   ]
  },
  {
   "cell_type": "markdown",
   "metadata": {},
   "source": [
    "Добавим столбец, с показателем окупаемости фильмов, получивших поддержку:"
   ]
  },
  {
   "cell_type": "code",
   "execution_count": 69,
   "metadata": {},
   "outputs": [
    {
     "data": {
      "text/plain": [
       "count         315\n",
       "mean          NaN\n",
       "std          <NA>\n",
       "min           NaN\n",
       "25%      0.019466\n",
       "50%      0.148664\n",
       "75%      0.858777\n",
       "max           NaN\n",
       "Name: payback_ratio, dtype: object"
      ]
     },
     "execution_count": 69,
     "metadata": {},
     "output_type": "execute_result"
    }
   ],
   "source": [
    "df['payback_ratio'] = df[~df['total_support'].isna()]['box_office'] / df[~df['total_support'].isna()]['budget']\n",
    "df['payback_ratio'].describe()"
   ]
  },
  {
   "cell_type": "code",
   "execution_count": 70,
   "metadata": {},
   "outputs": [
    {
     "data": {
      "text/plain": [
       "0.746031746031746"
      ]
     },
     "execution_count": 70,
     "metadata": {},
     "output_type": "execute_result"
    }
   ],
   "source": [
    "df[df['payback_ratio'] < 1]['payback_ratio'].count() / df['payback_ratio'].count()"
   ]
  },
  {
   "cell_type": "markdown",
   "metadata": {},
   "source": [
    "Всего 22% фильмов, получивших поддержку смогли окупиться в прокате (и это еще мы не учитывали часть от сборов, которую оставляют себе кинотаетры, а это порядка 50% от стоимости билета)."
   ]
  },
  {
   "cell_type": "markdown",
   "metadata": {},
   "source": [
    "Посчитаем, сколько приносят фильмы, получившие поддержку своим создателям:"
   ]
  },
  {
   "cell_type": "code",
   "execution_count": 71,
   "metadata": {},
   "outputs": [
    {
     "data": {
      "text/plain": [
       "count            307\n",
       "mean             NaN\n",
       "std             <NA>\n",
       "min              NaN\n",
       "25%      -37996434.0\n",
       "50%      -13759195.0\n",
       "75%      22247452.17\n",
       "max              NaN\n",
       "dtype: object"
      ]
     },
     "execution_count": 71,
     "metadata": {},
     "output_type": "execute_result"
    }
   ],
   "source": [
    "(df[~df['total_support'].isna()]['box_office'] - df[~df['total_support'].isna()]['budget'] + df[~df['total_support'].isna()]['nonrefundable_support']).describe()"
   ]
  },
  {
   "cell_type": "markdown",
   "metadata": {},
   "source": [
    "Большая часть таких фильмов даже убыточна, но есть и исключения из правила, которые и поднимают среднее значение на уровень в 41 миллион рублей (следует также учитывать, что для некоторых фильмов была выделена поддержка на безвозвратной основе, что покрыло часть затрат на стадии производства)."
   ]
  },
  {
   "cell_type": "markdown",
   "metadata": {},
   "source": [
    "Теперь обратим внимание на то, фильмы каких жанров чаще всего получают государственную поддержку:"
   ]
  },
  {
   "cell_type": "code",
   "execution_count": 72,
   "metadata": {},
   "outputs": [
    {
     "data": {
      "text/plain": [
       "main_genre\n",
       "драма         93\n",
       "комедия       74\n",
       "мультфильм    31\n",
       "unknown       16\n",
       "триллер       15\n",
       "Name: main_genre, dtype: int64"
      ]
     },
     "execution_count": 72,
     "metadata": {},
     "output_type": "execute_result"
    }
   ],
   "source": [
    "df[~df['total_support'].isna()].groupby('main_genre')['main_genre'].count().sort_values(ascending=False).head()"
   ]
  },
  {
   "cell_type": "markdown",
   "metadata": {},
   "source": [
    "Чаще всего средства выделяются на драмы и комедии. Изучим окупаемость даных жанров:"
   ]
  },
  {
   "cell_type": "code",
   "execution_count": 73,
   "metadata": {
    "scrolled": true
   },
   "outputs": [
    {
     "data": {
      "text/html": [
       "<div>\n",
       "<style scoped>\n",
       "    .dataframe tbody tr th:only-of-type {\n",
       "        vertical-align: middle;\n",
       "    }\n",
       "\n",
       "    .dataframe tbody tr th {\n",
       "        vertical-align: top;\n",
       "    }\n",
       "\n",
       "    .dataframe thead th {\n",
       "        text-align: right;\n",
       "    }\n",
       "</style>\n",
       "<table border=\"1\" class=\"dataframe\">\n",
       "  <thead>\n",
       "    <tr style=\"text-align: right;\">\n",
       "      <th></th>\n",
       "      <th>payback_ratio</th>\n",
       "    </tr>\n",
       "    <tr>\n",
       "      <th>main_genre</th>\n",
       "      <th></th>\n",
       "    </tr>\n",
       "  </thead>\n",
       "  <tbody>\n",
       "    <tr>\n",
       "      <th>спорт</th>\n",
       "      <td>2.408273</td>\n",
       "    </tr>\n",
       "    <tr>\n",
       "      <th>комедия</th>\n",
       "      <td>1.527474</td>\n",
       "    </tr>\n",
       "    <tr>\n",
       "      <th>биография</th>\n",
       "      <td>1.136724</td>\n",
       "    </tr>\n",
       "    <tr>\n",
       "      <th>ужасы</th>\n",
       "      <td>1.050834</td>\n",
       "    </tr>\n",
       "    <tr>\n",
       "      <th>мультфильм</th>\n",
       "      <td>0.997862</td>\n",
       "    </tr>\n",
       "    <tr>\n",
       "      <th>военный</th>\n",
       "      <td>0.857312</td>\n",
       "    </tr>\n",
       "    <tr>\n",
       "      <th>семейный</th>\n",
       "      <td>0.752485</td>\n",
       "    </tr>\n",
       "    <tr>\n",
       "      <th>unknown</th>\n",
       "      <td>0.73432</td>\n",
       "    </tr>\n",
       "    <tr>\n",
       "      <th>боевик</th>\n",
       "      <td>0.593031</td>\n",
       "    </tr>\n",
       "    <tr>\n",
       "      <th>приключения</th>\n",
       "      <td>0.578861</td>\n",
       "    </tr>\n",
       "    <tr>\n",
       "      <th>история</th>\n",
       "      <td>0.561304</td>\n",
       "    </tr>\n",
       "    <tr>\n",
       "      <th>фэнтези</th>\n",
       "      <td>0.427616</td>\n",
       "    </tr>\n",
       "    <tr>\n",
       "      <th>драма</th>\n",
       "      <td>0.410662</td>\n",
       "    </tr>\n",
       "    <tr>\n",
       "      <th>реальное ТВ</th>\n",
       "      <td>0.409014</td>\n",
       "    </tr>\n",
       "    <tr>\n",
       "      <th>фантастика</th>\n",
       "      <td>0.38786</td>\n",
       "    </tr>\n",
       "    <tr>\n",
       "      <th>криминал</th>\n",
       "      <td>0.317476</td>\n",
       "    </tr>\n",
       "    <tr>\n",
       "      <th>триллер</th>\n",
       "      <td>0.261799</td>\n",
       "    </tr>\n",
       "    <tr>\n",
       "      <th>мюзикл</th>\n",
       "      <td>0.15564</td>\n",
       "    </tr>\n",
       "    <tr>\n",
       "      <th>детектив</th>\n",
       "      <td>0.071361</td>\n",
       "    </tr>\n",
       "    <tr>\n",
       "      <th>мелодрама</th>\n",
       "      <td>0.042194</td>\n",
       "    </tr>\n",
       "    <tr>\n",
       "      <th>детский</th>\n",
       "      <td>0.02166</td>\n",
       "    </tr>\n",
       "  </tbody>\n",
       "</table>\n",
       "</div>"
      ],
      "text/plain": [
       "             payback_ratio\n",
       "main_genre                \n",
       "спорт             2.408273\n",
       "комедия           1.527474\n",
       "биография         1.136724\n",
       "ужасы             1.050834\n",
       "мультфильм        0.997862\n",
       "военный           0.857312\n",
       "семейный          0.752485\n",
       "unknown            0.73432\n",
       "боевик            0.593031\n",
       "приключения       0.578861\n",
       "история           0.561304\n",
       "фэнтези           0.427616\n",
       "драма             0.410662\n",
       "реальное ТВ       0.409014\n",
       "фантастика         0.38786\n",
       "криминал          0.317476\n",
       "триллер           0.261799\n",
       "мюзикл             0.15564\n",
       "детектив          0.071361\n",
       "мелодрама         0.042194\n",
       "детский            0.02166"
      ]
     },
     "execution_count": 73,
     "metadata": {},
     "output_type": "execute_result"
    }
   ],
   "source": [
    "df[~df['total_support'].isna()].pivot_table(index='main_genre', values='payback_ratio', aggfunc='mean').sort_values(by='payback_ratio', ascending=False)"
   ]
  },
  {
   "cell_type": "markdown",
   "metadata": {},
   "source": [
    "Не смотря на то, что жанр \"драма\" получает поддержку чаще всего, окупается он далеко не так хорошо. В то же время комедии в среднем имеют неплохую окупаемость (хотя при вычете доли кинотеатра они окупаться перестанут). Стабильнее всего окупается спортивный жанр."
   ]
  },
  {
   "cell_type": "markdown",
   "metadata": {},
   "source": [
    "Теперь изучим какой из источников поддержки более рационально тратит средства на поддержку фильмов:"
   ]
  },
  {
   "cell_type": "code",
   "execution_count": 74,
   "metadata": {},
   "outputs": [
    {
     "data": {
      "text/html": [
       "<div>\n",
       "<style scoped>\n",
       "    .dataframe tbody tr th:only-of-type {\n",
       "        vertical-align: middle;\n",
       "    }\n",
       "\n",
       "    .dataframe tbody tr th {\n",
       "        vertical-align: top;\n",
       "    }\n",
       "\n",
       "    .dataframe thead th {\n",
       "        text-align: right;\n",
       "    }\n",
       "</style>\n",
       "<table border=\"1\" class=\"dataframe\">\n",
       "  <thead>\n",
       "    <tr style=\"text-align: right;\">\n",
       "      <th></th>\n",
       "      <th>payback_ratio</th>\n",
       "      <th>ratings</th>\n",
       "    </tr>\n",
       "    <tr>\n",
       "      <th>financing_source</th>\n",
       "      <th></th>\n",
       "      <th></th>\n",
       "    </tr>\n",
       "  </thead>\n",
       "  <tbody>\n",
       "    <tr>\n",
       "      <th>Министерство культуры</th>\n",
       "      <td>0.403936</td>\n",
       "      <td>6.152941</td>\n",
       "    </tr>\n",
       "    <tr>\n",
       "      <th>Министерство культуры, Фонд кино</th>\n",
       "      <td>0.170092</td>\n",
       "      <td>6.438095</td>\n",
       "    </tr>\n",
       "    <tr>\n",
       "      <th>Фонд кино</th>\n",
       "      <td>1.280543</td>\n",
       "      <td>5.816901</td>\n",
       "    </tr>\n",
       "  </tbody>\n",
       "</table>\n",
       "</div>"
      ],
      "text/plain": [
       "                                  payback_ratio   ratings\n",
       "financing_source                                         \n",
       "Министерство культуры                  0.403936  6.152941\n",
       "Министерство культуры, Фонд кино       0.170092  6.438095\n",
       "Фонд кино                              1.280543  5.816901"
      ]
     },
     "execution_count": 74,
     "metadata": {},
     "output_type": "execute_result"
    }
   ],
   "source": [
    "df[~df['total_support'].isna()].pivot_table(index='financing_source', values=['ratings', 'payback_ratio'], aggfunc='mean')"
   ]
  },
  {
   "cell_type": "markdown",
   "metadata": {},
   "source": [
    "Когда Минкульт объеденяется с Фондом кино для поддержки фильма, чаще всего получается неплохое кино с крайне низкой окупаемостью. Также можно заметить, что Министерство культуры поддерживает фильмы со средним рейтингом выше, чем Фонд кино, но их окупаемость ниже."
   ]
  },
  {
   "cell_type": "markdown",
   "metadata": {},
   "source": [
    "Обратим внимание на количество средств как возвратных, так и не-возвратных, потраченных на поддержку каждой из организаций:"
   ]
  },
  {
   "cell_type": "code",
   "execution_count": 75,
   "metadata": {},
   "outputs": [
    {
     "data": {
      "text/html": [
       "<div>\n",
       "<style scoped>\n",
       "    .dataframe tbody tr th:only-of-type {\n",
       "        vertical-align: middle;\n",
       "    }\n",
       "\n",
       "    .dataframe tbody tr th {\n",
       "        vertical-align: top;\n",
       "    }\n",
       "\n",
       "    .dataframe thead th {\n",
       "        text-align: right;\n",
       "    }\n",
       "</style>\n",
       "<table border=\"1\" class=\"dataframe\">\n",
       "  <thead>\n",
       "    <tr style=\"text-align: right;\">\n",
       "      <th></th>\n",
       "      <th>nonrefundable_support</th>\n",
       "      <th>refundable_support</th>\n",
       "    </tr>\n",
       "    <tr>\n",
       "      <th>financing_source</th>\n",
       "      <th></th>\n",
       "      <th></th>\n",
       "    </tr>\n",
       "  </thead>\n",
       "  <tbody>\n",
       "    <tr>\n",
       "      <th>Министерство культуры</th>\n",
       "      <td>4836661000</td>\n",
       "      <td>0</td>\n",
       "    </tr>\n",
       "    <tr>\n",
       "      <th>Министерство культуры, Фонд кино</th>\n",
       "      <td>859931354</td>\n",
       "      <td>325500000</td>\n",
       "    </tr>\n",
       "    <tr>\n",
       "      <th>Фонд кино</th>\n",
       "      <td>10565095958</td>\n",
       "      <td>3613500000</td>\n",
       "    </tr>\n",
       "  </tbody>\n",
       "</table>\n",
       "</div>"
      ],
      "text/plain": [
       "                                  nonrefundable_support  refundable_support\n",
       "financing_source                                                           \n",
       "Министерство культуры                        4836661000                   0\n",
       "Министерство культуры, Фонд кино              859931354           325500000\n",
       "Фонд кино                                   10565095958          3613500000"
      ]
     },
     "execution_count": 75,
     "metadata": {},
     "output_type": "execute_result"
    }
   ],
   "source": [
    "df[~df['total_support'].isna()].pivot_table(index='financing_source', values=['refundable_support', 'nonrefundable_support'], aggfunc='sum')"
   ]
  },
  {
   "cell_type": "markdown",
   "metadata": {},
   "source": [
    "Минестерсво культуры выдет средства на безвозвратной основе, а Фонд кино - как на возвратной, так и на безвозратной основе."
   ]
  },
  {
   "cell_type": "markdown",
   "metadata": {
    "id": "V2gYwMcPgFyd"
   },
   "source": [
    "### Шаг 5. Напишите общий вывод"
   ]
  },
  {
   "cell_type": "markdown",
   "metadata": {
    "id": "AYRg3dzXgFye"
   },
   "source": [
    "На основе имеющихся данных, можно сказать что основную часть прибыли приносят фильмы не получавшие поддержки от государства (чаще всего эти фильмы вообще не приносят доход). Лучшие сборы на фильм показывают фильмы возрастных категорий \"6+\" и \"12+\", в то время, как наибольшие суммарные сборы относятся к категории \"16+\" (в основном потому, что фильмов этой категории больше всего). В ходе исследования также было отмечено, что фильмы, получившие государственную поддержку имеют невысокий рейтинг и в подавляющем большинстве не окупаются. Чаще всего поддержку получают драмы и комедии, но драмы плохо окупаются. В целом складывается впечатление, что Министерству культуры и Фонду кино стоит пересмотреть критерии, по которым оказывается поддержка и вести более жесткий контроль над тратой выделяемых средств, поскольку на данный момент качество и окупаемость фильмов весьма слабо зависит от оказаной государством поддержки."
   ]
  }
 ],
 "metadata": {
  "ExecuteTimeLog": [
   {
    "duration": 537,
    "start_time": "2021-07-07T10:12:08.634Z"
   },
   {
    "duration": 206,
    "start_time": "2021-07-07T10:12:30.191Z"
   },
   {
    "duration": 227,
    "start_time": "2021-07-07T10:12:33.078Z"
   },
   {
    "duration": 153,
    "start_time": "2021-07-07T10:13:42.146Z"
   },
   {
    "duration": 233,
    "start_time": "2021-07-07T10:30:09.252Z"
   },
   {
    "duration": 19,
    "start_time": "2021-07-07T10:30:15.577Z"
   },
   {
    "duration": 18,
    "start_time": "2021-07-07T10:30:57.348Z"
   },
   {
    "duration": 19,
    "start_time": "2021-07-07T10:31:17.452Z"
   },
   {
    "duration": 21,
    "start_time": "2021-07-07T10:31:32.227Z"
   },
   {
    "duration": 27,
    "start_time": "2021-07-07T10:32:06.588Z"
   },
   {
    "duration": 23,
    "start_time": "2021-07-07T10:32:43.645Z"
   },
   {
    "duration": 24,
    "start_time": "2021-07-07T10:33:06.948Z"
   },
   {
    "duration": 7,
    "start_time": "2021-07-07T10:33:28.558Z"
   },
   {
    "duration": 23,
    "start_time": "2021-07-07T10:33:43.761Z"
   },
   {
    "duration": 28,
    "start_time": "2021-07-07T10:34:13.466Z"
   },
   {
    "duration": 23,
    "start_time": "2021-07-07T10:35:56.187Z"
   },
   {
    "duration": 6,
    "start_time": "2021-07-07T10:36:48.182Z"
   },
   {
    "duration": 14,
    "start_time": "2021-07-07T10:37:49.641Z"
   },
   {
    "duration": 6,
    "start_time": "2021-07-07T10:38:06.694Z"
   },
   {
    "duration": 6,
    "start_time": "2021-07-07T10:38:13.493Z"
   },
   {
    "duration": 19,
    "start_time": "2021-07-07T10:38:44.056Z"
   },
   {
    "duration": 186,
    "start_time": "2021-07-07T10:48:35.618Z"
   },
   {
    "duration": 24,
    "start_time": "2021-07-07T10:48:51.498Z"
   },
   {
    "duration": 20,
    "start_time": "2021-07-07T10:48:59.415Z"
   },
   {
    "duration": 20,
    "start_time": "2021-07-07T10:53:02.195Z"
   },
   {
    "duration": 188,
    "start_time": "2021-07-07T10:54:40.486Z"
   },
   {
    "duration": 115,
    "start_time": "2021-07-07T10:54:52.552Z"
   },
   {
    "duration": 214,
    "start_time": "2021-07-07T10:54:56.354Z"
   },
   {
    "duration": 47,
    "start_time": "2021-07-07T10:54:58.282Z"
   },
   {
    "duration": 217,
    "start_time": "2021-07-07T10:59:16.075Z"
   },
   {
    "duration": 51,
    "start_time": "2021-07-07T10:59:16.243Z"
   },
   {
    "duration": 578,
    "start_time": "2021-07-07T10:59:18.774Z"
   },
   {
    "duration": 161,
    "start_time": "2021-07-07T10:59:21.238Z"
   },
   {
    "duration": 59,
    "start_time": "2021-07-07T10:59:21.453Z"
   },
   {
    "duration": 3,
    "start_time": "2021-07-07T11:02:10.786Z"
   },
   {
    "duration": 13,
    "start_time": "2021-07-07T11:07:07.722Z"
   },
   {
    "duration": 26,
    "start_time": "2021-07-07T11:07:17.958Z"
   },
   {
    "duration": 22,
    "start_time": "2021-07-07T11:08:17.939Z"
   },
   {
    "duration": 212,
    "start_time": "2021-07-07T11:08:19.665Z"
   },
   {
    "duration": 21,
    "start_time": "2021-07-07T11:08:29.945Z"
   },
   {
    "duration": 31,
    "start_time": "2021-07-07T11:08:38.899Z"
   },
   {
    "duration": 23,
    "start_time": "2021-07-07T11:08:54.527Z"
   },
   {
    "duration": 8,
    "start_time": "2021-07-07T11:18:55.974Z"
   },
   {
    "duration": 7,
    "start_time": "2021-07-07T11:19:03.639Z"
   },
   {
    "duration": 7,
    "start_time": "2021-07-07T11:19:06.444Z"
   },
   {
    "duration": 578,
    "start_time": "2021-07-07T12:09:59.576Z"
   },
   {
    "duration": 195,
    "start_time": "2021-07-07T12:10:00.156Z"
   },
   {
    "duration": 115,
    "start_time": "2021-07-07T12:10:00.353Z"
   },
   {
    "duration": 3,
    "start_time": "2021-07-07T12:10:00.470Z"
   },
   {
    "duration": 32,
    "start_time": "2021-07-07T12:10:00.474Z"
   },
   {
    "duration": 23,
    "start_time": "2021-07-07T12:10:00.508Z"
   },
   {
    "duration": 19,
    "start_time": "2021-07-07T12:10:00.533Z"
   },
   {
    "duration": 44,
    "start_time": "2021-07-07T12:10:00.553Z"
   },
   {
    "duration": 7,
    "start_time": "2021-07-07T12:10:00.600Z"
   },
   {
    "duration": 7,
    "start_time": "2021-07-07T12:19:45.761Z"
   },
   {
    "duration": 21,
    "start_time": "2021-07-07T12:21:35.482Z"
   },
   {
    "duration": 21,
    "start_time": "2021-07-07T12:29:23.569Z"
   },
   {
    "duration": 525,
    "start_time": "2021-07-07T12:29:44.542Z"
   },
   {
    "duration": 214,
    "start_time": "2021-07-07T12:29:45.069Z"
   },
   {
    "duration": 92,
    "start_time": "2021-07-07T12:29:45.285Z"
   },
   {
    "duration": 3,
    "start_time": "2021-07-07T12:29:45.379Z"
   },
   {
    "duration": 28,
    "start_time": "2021-07-07T12:29:45.384Z"
   },
   {
    "duration": 23,
    "start_time": "2021-07-07T12:29:45.413Z"
   },
   {
    "duration": 21,
    "start_time": "2021-07-07T12:29:45.437Z"
   },
   {
    "duration": 41,
    "start_time": "2021-07-07T12:29:45.460Z"
   },
   {
    "duration": 7,
    "start_time": "2021-07-07T12:29:45.502Z"
   },
   {
    "duration": 20,
    "start_time": "2021-07-07T12:29:45.511Z"
   },
   {
    "duration": 12,
    "start_time": "2021-07-07T12:34:02.800Z"
   },
   {
    "duration": 7,
    "start_time": "2021-07-07T12:35:10.479Z"
   },
   {
    "duration": 8,
    "start_time": "2021-07-07T12:35:22.440Z"
   },
   {
    "duration": 6,
    "start_time": "2021-07-07T12:35:35.649Z"
   },
   {
    "duration": 6,
    "start_time": "2021-07-07T12:35:43.107Z"
   },
   {
    "duration": 22,
    "start_time": "2021-07-07T12:38:03.029Z"
   },
   {
    "duration": 10,
    "start_time": "2021-07-07T12:38:06.592Z"
   },
   {
    "duration": 563,
    "start_time": "2021-07-07T12:38:46.493Z"
   },
   {
    "duration": 265,
    "start_time": "2021-07-07T12:38:47.058Z"
   },
   {
    "duration": 94,
    "start_time": "2021-07-07T12:38:47.325Z"
   },
   {
    "duration": 3,
    "start_time": "2021-07-07T12:38:47.422Z"
   },
   {
    "duration": 30,
    "start_time": "2021-07-07T12:38:47.427Z"
   },
   {
    "duration": 16,
    "start_time": "2021-07-07T12:38:53.305Z"
   },
   {
    "duration": 10,
    "start_time": "2021-07-07T12:38:53.499Z"
   },
   {
    "duration": 8,
    "start_time": "2021-07-07T12:39:48.161Z"
   },
   {
    "duration": 27,
    "start_time": "2021-07-07T12:41:17.629Z"
   },
   {
    "duration": 17,
    "start_time": "2021-07-07T12:41:17.867Z"
   },
   {
    "duration": 21,
    "start_time": "2021-07-07T12:41:19.310Z"
   },
   {
    "duration": 7,
    "start_time": "2021-07-07T12:41:19.544Z"
   },
   {
    "duration": 20,
    "start_time": "2021-07-07T12:41:20.504Z"
   },
   {
    "duration": 554,
    "start_time": "2021-07-07T12:56:23.696Z"
   },
   {
    "duration": 200,
    "start_time": "2021-07-07T12:56:25.234Z"
   },
   {
    "duration": 119,
    "start_time": "2021-07-07T12:56:25.480Z"
   },
   {
    "duration": 4,
    "start_time": "2021-07-07T12:56:25.762Z"
   },
   {
    "duration": 26,
    "start_time": "2021-07-07T12:56:27.172Z"
   },
   {
    "duration": 12,
    "start_time": "2021-07-07T12:56:29.051Z"
   },
   {
    "duration": 10,
    "start_time": "2021-07-07T12:56:29.291Z"
   },
   {
    "duration": 8,
    "start_time": "2021-07-07T12:56:29.623Z"
   },
   {
    "duration": 28,
    "start_time": "2021-07-07T12:56:32.137Z"
   },
   {
    "duration": 19,
    "start_time": "2021-07-07T12:56:39.785Z"
   },
   {
    "duration": 20,
    "start_time": "2021-07-07T12:56:44.297Z"
   },
   {
    "duration": 7,
    "start_time": "2021-07-07T12:56:45.392Z"
   },
   {
    "duration": 23,
    "start_time": "2021-07-07T12:56:46.615Z"
   },
   {
    "duration": 4,
    "start_time": "2021-07-07T12:57:06.625Z"
   },
   {
    "duration": 32,
    "start_time": "2021-07-07T12:57:36.690Z"
   },
   {
    "duration": 18,
    "start_time": "2021-07-07T12:58:00.149Z"
   },
   {
    "duration": 15,
    "start_time": "2021-07-07T12:59:16.793Z"
   },
   {
    "duration": 7,
    "start_time": "2021-07-07T13:19:22.624Z"
   },
   {
    "duration": 6,
    "start_time": "2021-07-07T14:17:33.527Z"
   },
   {
    "duration": 9,
    "start_time": "2021-07-07T14:17:48.409Z"
   },
   {
    "duration": 8,
    "start_time": "2021-07-07T14:20:13.060Z"
   },
   {
    "duration": 8,
    "start_time": "2021-07-07T14:20:37.957Z"
   },
   {
    "duration": 8,
    "start_time": "2021-07-07T14:20:47.470Z"
   },
   {
    "duration": 9,
    "start_time": "2021-07-07T14:20:54.503Z"
   },
   {
    "duration": 10,
    "start_time": "2021-07-07T14:28:57.763Z"
   },
   {
    "duration": 3,
    "start_time": "2021-07-07T14:30:23.377Z"
   },
   {
    "duration": 3,
    "start_time": "2021-07-07T14:30:36.489Z"
   },
   {
    "duration": 103,
    "start_time": "2021-07-07T14:30:52.351Z"
   },
   {
    "duration": 8,
    "start_time": "2021-07-07T14:30:54.763Z"
   },
   {
    "duration": 8,
    "start_time": "2021-07-07T14:31:29.301Z"
   },
   {
    "duration": 13,
    "start_time": "2021-07-07T14:31:44.516Z"
   },
   {
    "duration": 7,
    "start_time": "2021-07-07T14:33:10.972Z"
   },
   {
    "duration": 11,
    "start_time": "2021-07-07T14:33:27.780Z"
   },
   {
    "duration": 8,
    "start_time": "2021-07-07T14:34:44.588Z"
   },
   {
    "duration": 57,
    "start_time": "2021-07-07T14:35:59.042Z"
   },
   {
    "duration": 3,
    "start_time": "2021-07-07T14:36:28.168Z"
   },
   {
    "duration": 5,
    "start_time": "2021-07-07T14:36:46.254Z"
   },
   {
    "duration": 4,
    "start_time": "2021-07-07T14:36:52.714Z"
   },
   {
    "duration": 3,
    "start_time": "2021-07-07T14:36:56.612Z"
   },
   {
    "duration": 4,
    "start_time": "2021-07-07T14:36:57.049Z"
   },
   {
    "duration": 3,
    "start_time": "2021-07-07T14:39:21.214Z"
   },
   {
    "duration": 7,
    "start_time": "2021-07-07T14:39:52.406Z"
   },
   {
    "duration": 11,
    "start_time": "2021-07-07T14:39:58.576Z"
   },
   {
    "duration": 9,
    "start_time": "2021-07-07T14:40:26.301Z"
   },
   {
    "duration": 10,
    "start_time": "2021-07-07T14:40:31.704Z"
   },
   {
    "duration": 11,
    "start_time": "2021-07-07T14:40:36.249Z"
   },
   {
    "duration": 10,
    "start_time": "2021-07-07T14:40:39.783Z"
   },
   {
    "duration": 9,
    "start_time": "2021-07-07T14:40:48.558Z"
   },
   {
    "duration": 10,
    "start_time": "2021-07-07T14:40:57.143Z"
   },
   {
    "duration": 9,
    "start_time": "2021-07-07T14:41:06.074Z"
   },
   {
    "duration": 4324,
    "start_time": "2021-07-07T14:41:22.004Z"
   },
   {
    "duration": 11,
    "start_time": "2021-07-07T14:41:33.392Z"
   },
   {
    "duration": 9,
    "start_time": "2021-07-07T14:41:39.288Z"
   },
   {
    "duration": 569,
    "start_time": "2021-07-07T14:42:14.387Z"
   },
   {
    "duration": 197,
    "start_time": "2021-07-07T14:42:14.959Z"
   },
   {
    "duration": 84,
    "start_time": "2021-07-07T14:42:16.052Z"
   },
   {
    "duration": 4,
    "start_time": "2021-07-07T14:42:16.900Z"
   },
   {
    "duration": 27,
    "start_time": "2021-07-07T14:42:19.898Z"
   },
   {
    "duration": 12,
    "start_time": "2021-07-07T14:42:21.577Z"
   },
   {
    "duration": 9,
    "start_time": "2021-07-07T14:42:21.813Z"
   },
   {
    "duration": 9,
    "start_time": "2021-07-07T14:42:22.569Z"
   },
   {
    "duration": 29,
    "start_time": "2021-07-07T14:42:25.837Z"
   },
   {
    "duration": 20,
    "start_time": "2021-07-07T14:42:27.003Z"
   },
   {
    "duration": 21,
    "start_time": "2021-07-07T14:42:28.767Z"
   },
   {
    "duration": 7,
    "start_time": "2021-07-07T14:42:29.838Z"
   },
   {
    "duration": 4,
    "start_time": "2021-07-07T14:43:25.493Z"
   },
   {
    "duration": 7,
    "start_time": "2021-07-07T14:43:26.573Z"
   },
   {
    "duration": 10,
    "start_time": "2021-07-07T14:43:31.639Z"
   },
   {
    "duration": 9,
    "start_time": "2021-07-07T14:43:32.046Z"
   },
   {
    "duration": 10,
    "start_time": "2021-07-07T14:43:33.301Z"
   },
   {
    "duration": 12,
    "start_time": "2021-07-07T14:43:33.658Z"
   },
   {
    "duration": 8,
    "start_time": "2021-07-07T14:43:34.552Z"
   },
   {
    "duration": 9,
    "start_time": "2021-07-07T14:43:35.058Z"
   },
   {
    "duration": 12,
    "start_time": "2021-07-07T14:43:35.914Z"
   },
   {
    "duration": 17,
    "start_time": "2021-07-07T14:45:34.368Z"
   },
   {
    "duration": 512,
    "start_time": "2021-07-07T14:51:58.236Z"
   },
   {
    "duration": 223,
    "start_time": "2021-07-07T14:51:58.750Z"
   },
   {
    "duration": 93,
    "start_time": "2021-07-07T14:51:58.977Z"
   },
   {
    "duration": 4,
    "start_time": "2021-07-07T14:51:59.071Z"
   },
   {
    "duration": 37,
    "start_time": "2021-07-07T14:51:59.077Z"
   },
   {
    "duration": 18,
    "start_time": "2021-07-07T14:51:59.116Z"
   },
   {
    "duration": 10,
    "start_time": "2021-07-07T14:51:59.137Z"
   },
   {
    "duration": 8,
    "start_time": "2021-07-07T14:51:59.149Z"
   },
   {
    "duration": 54,
    "start_time": "2021-07-07T14:51:59.158Z"
   },
   {
    "duration": 18,
    "start_time": "2021-07-07T14:51:59.213Z"
   },
   {
    "duration": 22,
    "start_time": "2021-07-07T14:51:59.232Z"
   },
   {
    "duration": 36,
    "start_time": "2021-07-07T14:51:59.255Z"
   },
   {
    "duration": 7,
    "start_time": "2021-07-07T14:51:59.293Z"
   },
   {
    "duration": 10,
    "start_time": "2021-07-07T14:51:59.302Z"
   },
   {
    "duration": 9,
    "start_time": "2021-07-07T14:51:59.313Z"
   },
   {
    "duration": 11,
    "start_time": "2021-07-07T14:51:59.324Z"
   },
   {
    "duration": 8,
    "start_time": "2021-07-07T14:51:59.337Z"
   },
   {
    "duration": 46,
    "start_time": "2021-07-07T14:51:59.347Z"
   },
   {
    "duration": 22,
    "start_time": "2021-07-07T14:51:59.395Z"
   },
   {
    "duration": 24,
    "start_time": "2021-07-07T14:57:32.911Z"
   },
   {
    "duration": 7,
    "start_time": "2021-07-07T14:58:22.070Z"
   },
   {
    "duration": 4,
    "start_time": "2021-07-07T14:59:11.239Z"
   },
   {
    "duration": 25,
    "start_time": "2021-07-07T15:07:22.208Z"
   },
   {
    "duration": 16,
    "start_time": "2021-07-07T15:08:25.560Z"
   },
   {
    "duration": 15,
    "start_time": "2021-07-07T15:08:40.647Z"
   },
   {
    "duration": 14,
    "start_time": "2021-07-07T15:08:46.669Z"
   },
   {
    "duration": 533,
    "start_time": "2021-07-07T15:18:07.440Z"
   },
   {
    "duration": 173,
    "start_time": "2021-07-07T15:18:07.974Z"
   },
   {
    "duration": 84,
    "start_time": "2021-07-07T15:18:08.149Z"
   },
   {
    "duration": 3,
    "start_time": "2021-07-07T15:18:08.235Z"
   },
   {
    "duration": 30,
    "start_time": "2021-07-07T15:18:08.240Z"
   },
   {
    "duration": 22,
    "start_time": "2021-07-07T15:18:08.272Z"
   },
   {
    "duration": 11,
    "start_time": "2021-07-07T15:18:08.295Z"
   },
   {
    "duration": 11,
    "start_time": "2021-07-07T15:18:08.309Z"
   },
   {
    "duration": 40,
    "start_time": "2021-07-07T15:18:08.322Z"
   },
   {
    "duration": 42,
    "start_time": "2021-07-07T15:18:08.364Z"
   },
   {
    "duration": 22,
    "start_time": "2021-07-07T15:18:08.408Z"
   },
   {
    "duration": 5,
    "start_time": "2021-07-07T15:18:08.432Z"
   },
   {
    "duration": 13,
    "start_time": "2021-07-07T15:18:08.439Z"
   },
   {
    "duration": 9,
    "start_time": "2021-07-07T15:18:08.454Z"
   },
   {
    "duration": 32,
    "start_time": "2021-07-07T15:18:08.465Z"
   },
   {
    "duration": 10,
    "start_time": "2021-07-07T15:18:08.501Z"
   },
   {
    "duration": 7,
    "start_time": "2021-07-07T15:18:08.513Z"
   },
   {
    "duration": 11,
    "start_time": "2021-07-07T15:18:08.521Z"
   },
   {
    "duration": 17,
    "start_time": "2021-07-07T15:18:08.534Z"
   },
   {
    "duration": 44,
    "start_time": "2021-07-07T15:18:08.553Z"
   },
   {
    "duration": 22,
    "start_time": "2021-07-07T15:18:08.599Z"
   },
   {
    "duration": 61,
    "start_time": "2021-07-07T15:18:08.622Z"
   },
   {
    "duration": 7,
    "start_time": "2021-07-07T15:18:39.457Z"
   },
   {
    "duration": 5,
    "start_time": "2021-07-07T16:05:17.020Z"
   },
   {
    "duration": 5,
    "start_time": "2021-07-07T16:51:28.794Z"
   },
   {
    "duration": 546,
    "start_time": "2021-07-07T16:52:26.306Z"
   },
   {
    "duration": 203,
    "start_time": "2021-07-07T16:52:27.523Z"
   },
   {
    "duration": 85,
    "start_time": "2021-07-07T16:52:27.736Z"
   },
   {
    "duration": 4,
    "start_time": "2021-07-07T16:52:27.899Z"
   },
   {
    "duration": 25,
    "start_time": "2021-07-07T16:52:28.674Z"
   },
   {
    "duration": 8,
    "start_time": "2021-07-07T16:52:32.956Z"
   },
   {
    "duration": 18,
    "start_time": "2021-07-07T16:52:35.616Z"
   },
   {
    "duration": 6,
    "start_time": "2021-07-07T16:52:36.913Z"
   },
   {
    "duration": 11,
    "start_time": "2021-07-07T16:52:40.258Z"
   },
   {
    "duration": 10,
    "start_time": "2021-07-07T16:52:46.251Z"
   },
   {
    "duration": 8,
    "start_time": "2021-07-07T16:52:47.182Z"
   },
   {
    "duration": 27,
    "start_time": "2021-07-07T16:53:20.391Z"
   },
   {
    "duration": 20,
    "start_time": "2021-07-07T16:53:22.022Z"
   },
   {
    "duration": 23,
    "start_time": "2021-07-07T16:53:23.690Z"
   },
   {
    "duration": 8,
    "start_time": "2021-07-07T16:53:24.261Z"
   },
   {
    "duration": 4,
    "start_time": "2021-07-07T16:53:38.733Z"
   },
   {
    "duration": 7,
    "start_time": "2021-07-07T16:53:40.445Z"
   },
   {
    "duration": 11,
    "start_time": "2021-07-07T16:53:41.348Z"
   },
   {
    "duration": 13,
    "start_time": "2021-07-07T16:53:45.250Z"
   },
   {
    "duration": 12,
    "start_time": "2021-07-07T16:53:45.467Z"
   },
   {
    "duration": 4,
    "start_time": "2021-07-07T16:55:32.704Z"
   },
   {
    "duration": 12,
    "start_time": "2021-07-07T16:55:49.012Z"
   },
   {
    "duration": 18,
    "start_time": "2021-07-07T16:55:49.547Z"
   },
   {
    "duration": 611,
    "start_time": "2021-07-07T16:58:35.156Z"
   },
   {
    "duration": 200,
    "start_time": "2021-07-07T16:58:35.770Z"
   },
   {
    "duration": 86,
    "start_time": "2021-07-07T16:58:35.972Z"
   },
   {
    "duration": 3,
    "start_time": "2021-07-07T16:58:36.060Z"
   },
   {
    "duration": 27,
    "start_time": "2021-07-07T16:58:36.065Z"
   },
   {
    "duration": 8,
    "start_time": "2021-07-07T16:58:36.094Z"
   },
   {
    "duration": 17,
    "start_time": "2021-07-07T16:58:36.103Z"
   },
   {
    "duration": 5,
    "start_time": "2021-07-07T16:58:36.123Z"
   },
   {
    "duration": 11,
    "start_time": "2021-07-07T16:58:36.130Z"
   },
   {
    "duration": 7,
    "start_time": "2021-07-07T16:58:36.143Z"
   },
   {
    "duration": 37,
    "start_time": "2021-07-07T16:58:36.152Z"
   },
   {
    "duration": 27,
    "start_time": "2021-07-07T16:58:36.191Z"
   },
   {
    "duration": 19,
    "start_time": "2021-07-07T16:58:36.219Z"
   },
   {
    "duration": 49,
    "start_time": "2021-07-07T16:58:36.240Z"
   },
   {
    "duration": 6,
    "start_time": "2021-07-07T16:58:36.291Z"
   },
   {
    "duration": 3,
    "start_time": "2021-07-07T16:58:36.299Z"
   },
   {
    "duration": 13,
    "start_time": "2021-07-07T16:58:36.304Z"
   },
   {
    "duration": 10,
    "start_time": "2021-07-07T16:58:36.319Z"
   },
   {
    "duration": 10,
    "start_time": "2021-07-07T16:58:36.331Z"
   },
   {
    "duration": 44,
    "start_time": "2021-07-07T16:58:36.343Z"
   },
   {
    "duration": 4,
    "start_time": "2021-07-07T16:58:36.388Z"
   },
   {
    "duration": 13,
    "start_time": "2021-07-07T16:58:36.394Z"
   },
   {
    "duration": 16,
    "start_time": "2021-07-07T16:58:36.410Z"
   },
   {
    "duration": 8,
    "start_time": "2021-07-07T17:02:31.629Z"
   },
   {
    "duration": 8,
    "start_time": "2021-07-07T17:02:34.308Z"
   },
   {
    "duration": 6,
    "start_time": "2021-07-07T17:05:13.483Z"
   },
   {
    "duration": 17,
    "start_time": "2021-07-07T17:05:20.606Z"
   },
   {
    "duration": 7,
    "start_time": "2021-07-07T17:05:34.638Z"
   },
   {
    "duration": 3,
    "start_time": "2021-07-07T17:06:31.883Z"
   },
   {
    "duration": 570,
    "start_time": "2021-07-07T17:06:37.165Z"
   },
   {
    "duration": 174,
    "start_time": "2021-07-07T17:06:37.737Z"
   },
   {
    "duration": 47,
    "start_time": "2021-07-07T17:06:37.913Z"
   },
   {
    "duration": 3,
    "start_time": "2021-07-07T17:06:37.962Z"
   },
   {
    "duration": 27,
    "start_time": "2021-07-07T17:06:37.967Z"
   },
   {
    "duration": 7,
    "start_time": "2021-07-07T17:06:37.996Z"
   },
   {
    "duration": 16,
    "start_time": "2021-07-07T17:06:38.005Z"
   },
   {
    "duration": 6,
    "start_time": "2021-07-07T17:06:38.024Z"
   },
   {
    "duration": 12,
    "start_time": "2021-07-07T17:06:38.031Z"
   },
   {
    "duration": 41,
    "start_time": "2021-07-07T17:06:38.045Z"
   },
   {
    "duration": 8,
    "start_time": "2021-07-07T17:06:38.088Z"
   },
   {
    "duration": 26,
    "start_time": "2021-07-07T17:06:38.098Z"
   },
   {
    "duration": 17,
    "start_time": "2021-07-07T17:06:38.126Z"
   },
   {
    "duration": 43,
    "start_time": "2021-07-07T17:06:38.144Z"
   },
   {
    "duration": 6,
    "start_time": "2021-07-07T17:06:38.188Z"
   },
   {
    "duration": 5,
    "start_time": "2021-07-07T17:06:38.195Z"
   },
   {
    "duration": 9,
    "start_time": "2021-07-07T17:06:38.201Z"
   },
   {
    "duration": 12,
    "start_time": "2021-07-07T17:06:38.212Z"
   },
   {
    "duration": 11,
    "start_time": "2021-07-07T17:06:38.226Z"
   },
   {
    "duration": 47,
    "start_time": "2021-07-07T17:06:38.239Z"
   },
   {
    "duration": 4,
    "start_time": "2021-07-07T17:06:38.288Z"
   },
   {
    "duration": 13,
    "start_time": "2021-07-07T17:06:38.293Z"
   },
   {
    "duration": 5,
    "start_time": "2021-07-07T17:06:38.309Z"
   },
   {
    "duration": 18,
    "start_time": "2021-07-07T17:06:38.325Z"
   },
   {
    "duration": 20,
    "start_time": "2021-07-07T17:07:02.805Z"
   },
   {
    "duration": 19,
    "start_time": "2021-07-07T17:07:08.527Z"
   },
   {
    "duration": 19,
    "start_time": "2021-07-07T17:07:12.758Z"
   },
   {
    "duration": 22,
    "start_time": "2021-07-07T17:07:17.497Z"
   },
   {
    "duration": 19,
    "start_time": "2021-07-07T17:07:19.645Z"
   },
   {
    "duration": 10,
    "start_time": "2021-07-07T17:07:34.239Z"
   },
   {
    "duration": 17,
    "start_time": "2021-07-07T17:07:54.144Z"
   },
   {
    "duration": 14,
    "start_time": "2021-07-07T17:08:14.357Z"
   },
   {
    "duration": 616,
    "start_time": "2021-07-07T17:08:45.254Z"
   },
   {
    "duration": 178,
    "start_time": "2021-07-07T17:08:45.872Z"
   },
   {
    "duration": 60,
    "start_time": "2021-07-07T17:08:46.054Z"
   },
   {
    "duration": 3,
    "start_time": "2021-07-07T17:08:46.116Z"
   },
   {
    "duration": 26,
    "start_time": "2021-07-07T17:08:46.121Z"
   },
   {
    "duration": 7,
    "start_time": "2021-07-07T17:08:46.149Z"
   },
   {
    "duration": 17,
    "start_time": "2021-07-07T17:08:46.158Z"
   },
   {
    "duration": 14,
    "start_time": "2021-07-07T17:08:46.176Z"
   },
   {
    "duration": 17,
    "start_time": "2021-07-07T17:08:46.193Z"
   },
   {
    "duration": 9,
    "start_time": "2021-07-07T17:08:46.211Z"
   },
   {
    "duration": 21,
    "start_time": "2021-07-07T17:08:46.221Z"
   },
   {
    "duration": 49,
    "start_time": "2021-07-07T17:08:46.244Z"
   },
   {
    "duration": 24,
    "start_time": "2021-07-07T17:08:46.295Z"
   },
   {
    "duration": 22,
    "start_time": "2021-07-07T17:08:46.321Z"
   },
   {
    "duration": 6,
    "start_time": "2021-07-07T17:08:46.345Z"
   },
   {
    "duration": 5,
    "start_time": "2021-07-07T17:08:46.353Z"
   },
   {
    "duration": 13,
    "start_time": "2021-07-07T17:08:46.386Z"
   },
   {
    "duration": 12,
    "start_time": "2021-07-07T17:08:46.402Z"
   },
   {
    "duration": 10,
    "start_time": "2021-07-07T17:08:46.415Z"
   },
   {
    "duration": 7,
    "start_time": "2021-07-07T17:08:46.427Z"
   },
   {
    "duration": 8,
    "start_time": "2021-07-07T17:08:46.435Z"
   },
   {
    "duration": 68,
    "start_time": "2021-07-07T17:08:46.446Z"
   },
   {
    "duration": 13,
    "start_time": "2021-07-07T17:08:46.516Z"
   },
   {
    "duration": 78,
    "start_time": "2021-07-07T17:08:46.530Z"
   },
   {
    "duration": 40,
    "start_time": "2021-07-07T17:09:08.185Z"
   },
   {
    "duration": 16,
    "start_time": "2021-07-07T17:09:19.324Z"
   },
   {
    "duration": 21,
    "start_time": "2021-07-07T17:09:23.290Z"
   },
   {
    "duration": 13,
    "start_time": "2021-07-07T17:09:54.812Z"
   },
   {
    "duration": 13,
    "start_time": "2021-07-07T17:10:02.039Z"
   },
   {
    "duration": 10,
    "start_time": "2021-07-07T17:10:29.632Z"
   },
   {
    "duration": 13,
    "start_time": "2021-07-07T17:10:52.372Z"
   },
   {
    "duration": 13,
    "start_time": "2021-07-07T17:11:17.270Z"
   },
   {
    "duration": 13,
    "start_time": "2021-07-07T17:14:59.284Z"
   },
   {
    "duration": 547,
    "start_time": "2021-07-07T17:18:52.403Z"
   },
   {
    "duration": 163,
    "start_time": "2021-07-07T17:18:52.952Z"
   },
   {
    "duration": 44,
    "start_time": "2021-07-07T17:18:53.117Z"
   },
   {
    "duration": 3,
    "start_time": "2021-07-07T17:18:53.162Z"
   },
   {
    "duration": 26,
    "start_time": "2021-07-07T17:18:53.167Z"
   },
   {
    "duration": 6,
    "start_time": "2021-07-07T17:18:53.195Z"
   },
   {
    "duration": 15,
    "start_time": "2021-07-07T17:18:53.203Z"
   },
   {
    "duration": 5,
    "start_time": "2021-07-07T17:18:53.220Z"
   },
   {
    "duration": 11,
    "start_time": "2021-07-07T17:18:53.228Z"
   },
   {
    "duration": 9,
    "start_time": "2021-07-07T17:18:53.241Z"
   },
   {
    "duration": 41,
    "start_time": "2021-07-07T17:18:53.252Z"
   },
   {
    "duration": 33,
    "start_time": "2021-07-07T17:18:53.295Z"
   },
   {
    "duration": 19,
    "start_time": "2021-07-07T17:18:53.330Z"
   },
   {
    "duration": 49,
    "start_time": "2021-07-07T17:18:53.350Z"
   },
   {
    "duration": 5,
    "start_time": "2021-07-07T17:18:53.401Z"
   },
   {
    "duration": 5,
    "start_time": "2021-07-07T17:18:53.408Z"
   },
   {
    "duration": 11,
    "start_time": "2021-07-07T17:18:53.414Z"
   },
   {
    "duration": 9,
    "start_time": "2021-07-07T17:18:53.427Z"
   },
   {
    "duration": 10,
    "start_time": "2021-07-07T17:18:53.437Z"
   },
   {
    "duration": 39,
    "start_time": "2021-07-07T17:18:53.448Z"
   },
   {
    "duration": 26,
    "start_time": "2021-07-07T17:18:55.799Z"
   },
   {
    "duration": 598,
    "start_time": "2021-07-07T17:20:17.862Z"
   },
   {
    "duration": 161,
    "start_time": "2021-07-07T17:20:18.462Z"
   },
   {
    "duration": 45,
    "start_time": "2021-07-07T17:20:18.626Z"
   },
   {
    "duration": 4,
    "start_time": "2021-07-07T17:20:18.673Z"
   },
   {
    "duration": 38,
    "start_time": "2021-07-07T17:20:26.877Z"
   },
   {
    "duration": 7,
    "start_time": "2021-07-07T17:20:37.405Z"
   },
   {
    "duration": 19,
    "start_time": "2021-07-07T17:20:51.534Z"
   },
   {
    "duration": 5,
    "start_time": "2021-07-07T17:20:57.228Z"
   },
   {
    "duration": 7,
    "start_time": "2021-07-07T17:21:08.235Z"
   },
   {
    "duration": 19,
    "start_time": "2021-07-07T17:21:42.158Z"
   },
   {
    "duration": 14,
    "start_time": "2021-07-07T17:21:50.225Z"
   },
   {
    "duration": 22,
    "start_time": "2021-07-07T17:22:54.104Z"
   },
   {
    "duration": 5,
    "start_time": "2021-07-07T17:22:56.371Z"
   },
   {
    "duration": 14,
    "start_time": "2021-07-07T17:22:58.316Z"
   },
   {
    "duration": 5,
    "start_time": "2021-07-07T17:22:58.493Z"
   },
   {
    "duration": 35,
    "start_time": "2021-07-07T17:22:59.666Z"
   },
   {
    "duration": 6,
    "start_time": "2021-07-07T17:23:02.410Z"
   },
   {
    "duration": 611,
    "start_time": "2021-07-07T17:24:59.664Z"
   },
   {
    "duration": 178,
    "start_time": "2021-07-07T17:25:01.945Z"
   },
   {
    "duration": 47,
    "start_time": "2021-07-07T17:25:02.125Z"
   },
   {
    "duration": 2,
    "start_time": "2021-07-07T17:25:07.903Z"
   },
   {
    "duration": 254,
    "start_time": "2021-07-07T17:25:08.232Z"
   },
   {
    "duration": 182,
    "start_time": "2021-07-07T17:25:08.671Z"
   },
   {
    "duration": 6,
    "start_time": "2021-07-07T17:25:13.104Z"
   },
   {
    "duration": 36,
    "start_time": "2021-07-07T17:25:13.662Z"
   },
   {
    "duration": 7,
    "start_time": "2021-07-07T17:25:14.528Z"
   },
   {
    "duration": 24,
    "start_time": "2021-07-07T17:25:27.982Z"
   },
   {
    "duration": 3,
    "start_time": "2021-07-07T17:25:48.982Z"
   },
   {
    "duration": 165,
    "start_time": "2021-07-07T17:25:48.987Z"
   },
   {
    "duration": 50,
    "start_time": "2021-07-07T17:25:49.154Z"
   },
   {
    "duration": 4,
    "start_time": "2021-07-07T17:25:49.206Z"
   },
   {
    "duration": 26,
    "start_time": "2021-07-07T17:25:49.212Z"
   },
   {
    "duration": 7,
    "start_time": "2021-07-07T17:25:49.240Z"
   },
   {
    "duration": 16,
    "start_time": "2021-07-07T17:25:49.249Z"
   },
   {
    "duration": 22,
    "start_time": "2021-07-07T17:25:49.266Z"
   },
   {
    "duration": 16,
    "start_time": "2021-07-07T17:25:49.291Z"
   },
   {
    "duration": 9,
    "start_time": "2021-07-07T17:25:49.309Z"
   },
   {
    "duration": 7,
    "start_time": "2021-07-07T17:25:49.319Z"
   },
   {
    "duration": 28,
    "start_time": "2021-07-07T17:25:49.328Z"
   },
   {
    "duration": 44,
    "start_time": "2021-07-07T17:25:49.357Z"
   },
   {
    "duration": 22,
    "start_time": "2021-07-07T17:25:49.403Z"
   },
   {
    "duration": 7,
    "start_time": "2021-07-07T17:25:49.427Z"
   },
   {
    "duration": 3,
    "start_time": "2021-07-07T17:25:49.436Z"
   },
   {
    "duration": 44,
    "start_time": "2021-07-07T17:25:49.441Z"
   },
   {
    "duration": 12,
    "start_time": "2021-07-07T17:25:49.488Z"
   },
   {
    "duration": 13,
    "start_time": "2021-07-07T17:25:49.502Z"
   },
   {
    "duration": 10,
    "start_time": "2021-07-07T17:25:49.516Z"
   },
   {
    "duration": 62,
    "start_time": "2021-07-07T17:25:49.527Z"
   },
   {
    "duration": 26,
    "start_time": "2021-07-07T17:26:51.809Z"
   },
   {
    "duration": 26,
    "start_time": "2021-07-07T17:26:55.759Z"
   },
   {
    "duration": 26,
    "start_time": "2021-07-07T17:27:04.501Z"
   },
   {
    "duration": 25,
    "start_time": "2021-07-07T17:28:24.859Z"
   },
   {
    "duration": 21,
    "start_time": "2021-07-07T17:28:55.250Z"
   },
   {
    "duration": 21,
    "start_time": "2021-07-07T17:28:58.885Z"
   },
   {
    "duration": 7,
    "start_time": "2021-07-07T17:45:40.972Z"
   },
   {
    "duration": 13,
    "start_time": "2021-07-07T17:45:42.529Z"
   },
   {
    "duration": 27,
    "start_time": "2021-07-07T17:45:51.026Z"
   },
   {
    "duration": 518,
    "start_time": "2021-07-07T17:46:15.532Z"
   },
   {
    "duration": 235,
    "start_time": "2021-07-07T17:46:16.053Z"
   },
   {
    "duration": 80,
    "start_time": "2021-07-07T17:46:16.292Z"
   },
   {
    "duration": 5,
    "start_time": "2021-07-07T17:46:16.373Z"
   },
   {
    "duration": 26,
    "start_time": "2021-07-07T17:46:16.380Z"
   },
   {
    "duration": 7,
    "start_time": "2021-07-07T17:46:16.408Z"
   },
   {
    "duration": 16,
    "start_time": "2021-07-07T17:46:16.418Z"
   },
   {
    "duration": 5,
    "start_time": "2021-07-07T17:46:16.436Z"
   },
   {
    "duration": 13,
    "start_time": "2021-07-07T17:46:16.442Z"
   },
   {
    "duration": 35,
    "start_time": "2021-07-07T17:46:16.456Z"
   },
   {
    "duration": 8,
    "start_time": "2021-07-07T17:46:16.493Z"
   },
   {
    "duration": 28,
    "start_time": "2021-07-07T17:46:16.502Z"
   },
   {
    "duration": 17,
    "start_time": "2021-07-07T17:46:16.532Z"
   },
   {
    "duration": 44,
    "start_time": "2021-07-07T17:46:16.551Z"
   },
   {
    "duration": 6,
    "start_time": "2021-07-07T17:46:16.597Z"
   },
   {
    "duration": 4,
    "start_time": "2021-07-07T17:46:16.605Z"
   },
   {
    "duration": 9,
    "start_time": "2021-07-07T17:46:16.610Z"
   },
   {
    "duration": 9,
    "start_time": "2021-07-07T17:46:16.621Z"
   },
   {
    "duration": 10,
    "start_time": "2021-07-07T17:46:16.632Z"
   },
   {
    "duration": 43,
    "start_time": "2021-07-07T17:46:16.644Z"
   },
   {
    "duration": 26,
    "start_time": "2021-07-07T17:46:16.689Z"
   },
   {
    "duration": 19,
    "start_time": "2021-07-07T17:46:16.718Z"
   },
   {
    "duration": 8,
    "start_time": "2021-07-07T17:46:16.738Z"
   },
   {
    "duration": 43,
    "start_time": "2021-07-07T17:46:16.747Z"
   },
   {
    "duration": 19,
    "start_time": "2021-07-07T17:46:16.791Z"
   },
   {
    "duration": 9,
    "start_time": "2021-07-07T17:46:16.812Z"
   },
   {
    "duration": 60,
    "start_time": "2021-07-07T17:46:16.822Z"
   },
   {
    "duration": -8,
    "start_time": "2021-07-07T17:46:16.892Z"
   },
   {
    "duration": 12,
    "start_time": "2021-07-07T17:48:47.707Z"
   },
   {
    "duration": 553,
    "start_time": "2021-07-07T18:10:09.350Z"
   },
   {
    "duration": 230,
    "start_time": "2021-07-07T18:10:09.905Z"
   },
   {
    "duration": 97,
    "start_time": "2021-07-07T18:10:10.137Z"
   },
   {
    "duration": 5,
    "start_time": "2021-07-07T18:10:10.236Z"
   },
   {
    "duration": 29,
    "start_time": "2021-07-07T18:10:10.242Z"
   },
   {
    "duration": 7,
    "start_time": "2021-07-07T18:10:10.272Z"
   },
   {
    "duration": 15,
    "start_time": "2021-07-07T18:10:10.281Z"
   },
   {
    "duration": 4,
    "start_time": "2021-07-07T18:10:10.299Z"
   },
   {
    "duration": 14,
    "start_time": "2021-07-07T18:10:10.305Z"
   },
   {
    "duration": 8,
    "start_time": "2021-07-07T18:10:10.321Z"
   },
   {
    "duration": 8,
    "start_time": "2021-07-07T18:10:10.331Z"
   },
   {
    "duration": 56,
    "start_time": "2021-07-07T18:10:10.341Z"
   },
   {
    "duration": 19,
    "start_time": "2021-07-07T18:10:10.399Z"
   },
   {
    "duration": 23,
    "start_time": "2021-07-07T18:10:10.419Z"
   },
   {
    "duration": 6,
    "start_time": "2021-07-07T18:10:10.444Z"
   },
   {
    "duration": 9,
    "start_time": "2021-07-07T18:10:10.451Z"
   },
   {
    "duration": 30,
    "start_time": "2021-07-07T18:10:10.462Z"
   },
   {
    "duration": 9,
    "start_time": "2021-07-07T18:10:10.494Z"
   },
   {
    "duration": 14,
    "start_time": "2021-07-07T18:10:10.505Z"
   },
   {
    "duration": 7,
    "start_time": "2021-07-07T18:10:10.521Z"
   },
   {
    "duration": 26,
    "start_time": "2021-07-07T18:10:10.530Z"
   },
   {
    "duration": 44,
    "start_time": "2021-07-07T18:10:10.558Z"
   },
   {
    "duration": 7,
    "start_time": "2021-07-07T18:10:10.605Z"
   },
   {
    "duration": 11,
    "start_time": "2021-07-07T18:10:10.614Z"
   },
   {
    "duration": 19,
    "start_time": "2021-07-07T18:10:10.626Z"
   },
   {
    "duration": 44,
    "start_time": "2021-07-07T18:10:10.646Z"
   },
   {
    "duration": 516,
    "start_time": "2021-07-07T18:14:00.826Z"
   },
   {
    "duration": 230,
    "start_time": "2021-07-07T18:14:01.344Z"
   },
   {
    "duration": 105,
    "start_time": "2021-07-07T18:14:01.576Z"
   },
   {
    "duration": 5,
    "start_time": "2021-07-07T18:14:01.683Z"
   },
   {
    "duration": 46,
    "start_time": "2021-07-07T18:14:01.690Z"
   },
   {
    "duration": 7,
    "start_time": "2021-07-07T18:14:01.738Z"
   },
   {
    "duration": 20,
    "start_time": "2021-07-07T18:14:01.747Z"
   },
   {
    "duration": 16,
    "start_time": "2021-07-07T18:14:01.769Z"
   },
   {
    "duration": 14,
    "start_time": "2021-07-07T18:14:01.787Z"
   },
   {
    "duration": 15,
    "start_time": "2021-07-07T18:14:01.803Z"
   },
   {
    "duration": 12,
    "start_time": "2021-07-07T18:14:01.820Z"
   },
   {
    "duration": 35,
    "start_time": "2021-07-07T18:14:01.833Z"
   },
   {
    "duration": 31,
    "start_time": "2021-07-07T18:14:01.869Z"
   },
   {
    "duration": 37,
    "start_time": "2021-07-07T18:14:01.902Z"
   },
   {
    "duration": 8,
    "start_time": "2021-07-07T18:14:01.942Z"
   },
   {
    "duration": 16,
    "start_time": "2021-07-07T18:14:01.952Z"
   },
   {
    "duration": 13,
    "start_time": "2021-07-07T18:14:01.970Z"
   },
   {
    "duration": 32,
    "start_time": "2021-07-07T18:14:01.985Z"
   },
   {
    "duration": 11,
    "start_time": "2021-07-07T18:14:02.019Z"
   },
   {
    "duration": 22,
    "start_time": "2021-07-07T18:14:02.031Z"
   },
   {
    "duration": 27,
    "start_time": "2021-07-07T18:14:02.055Z"
   },
   {
    "duration": 18,
    "start_time": "2021-07-07T18:14:02.084Z"
   },
   {
    "duration": 18,
    "start_time": "2021-07-07T18:14:02.106Z"
   },
   {
    "duration": 11,
    "start_time": "2021-07-07T18:14:02.126Z"
   },
   {
    "duration": 21,
    "start_time": "2021-07-07T18:14:02.138Z"
   },
   {
    "duration": 32,
    "start_time": "2021-07-07T18:14:02.161Z"
   },
   {
    "duration": 28,
    "start_time": "2021-07-07T18:14:44.295Z"
   },
   {
    "duration": 6,
    "start_time": "2021-07-07T18:15:05.834Z"
   },
   {
    "duration": 511,
    "start_time": "2021-07-07T18:15:41.541Z"
   },
   {
    "duration": 183,
    "start_time": "2021-07-07T18:15:42.054Z"
   },
   {
    "duration": 50,
    "start_time": "2021-07-07T18:15:42.239Z"
   },
   {
    "duration": 5,
    "start_time": "2021-07-07T18:15:42.291Z"
   },
   {
    "duration": 48,
    "start_time": "2021-07-07T18:15:42.297Z"
   },
   {
    "duration": 8,
    "start_time": "2021-07-07T18:15:42.346Z"
   },
   {
    "duration": 17,
    "start_time": "2021-07-07T18:15:42.356Z"
   },
   {
    "duration": 15,
    "start_time": "2021-07-07T18:15:42.375Z"
   },
   {
    "duration": 12,
    "start_time": "2021-07-07T18:15:42.392Z"
   },
   {
    "duration": 7,
    "start_time": "2021-07-07T18:15:42.406Z"
   },
   {
    "duration": 7,
    "start_time": "2021-07-07T18:15:42.415Z"
   },
   {
    "duration": 29,
    "start_time": "2021-07-07T18:15:42.423Z"
   },
   {
    "duration": 43,
    "start_time": "2021-07-07T18:15:42.453Z"
   },
   {
    "duration": 18,
    "start_time": "2021-07-07T18:15:42.497Z"
   },
   {
    "duration": 6,
    "start_time": "2021-07-07T18:15:42.516Z"
   },
   {
    "duration": 3,
    "start_time": "2021-07-07T18:15:42.523Z"
   },
   {
    "duration": 18,
    "start_time": "2021-07-07T18:15:42.528Z"
   },
   {
    "duration": 10,
    "start_time": "2021-07-07T18:15:42.547Z"
   },
   {
    "duration": 36,
    "start_time": "2021-07-07T18:15:42.559Z"
   },
   {
    "duration": 8,
    "start_time": "2021-07-07T18:15:42.597Z"
   },
   {
    "duration": 28,
    "start_time": "2021-07-07T18:15:42.606Z"
   },
   {
    "duration": 52,
    "start_time": "2021-07-07T18:15:42.635Z"
   },
   {
    "duration": 7,
    "start_time": "2021-07-07T18:15:42.690Z"
   },
   {
    "duration": 10,
    "start_time": "2021-07-07T18:15:42.699Z"
   },
   {
    "duration": 19,
    "start_time": "2021-07-07T18:15:42.711Z"
   },
   {
    "duration": 9,
    "start_time": "2021-07-07T18:15:42.732Z"
   },
   {
    "duration": 5,
    "start_time": "2021-07-07T18:15:42.743Z"
   },
   {
    "duration": 1450,
    "start_time": "2021-07-07T18:15:51.984Z"
   },
   {
    "duration": 161,
    "start_time": "2021-07-07T18:15:53.435Z"
   },
   {
    "duration": 124,
    "start_time": "2021-07-07T18:15:53.598Z"
   },
   {
    "duration": 5,
    "start_time": "2021-07-07T18:15:53.724Z"
   },
   {
    "duration": 34,
    "start_time": "2021-07-07T18:15:53.730Z"
   },
   {
    "duration": 7,
    "start_time": "2021-07-07T18:15:53.765Z"
   },
   {
    "duration": 15,
    "start_time": "2021-07-07T18:15:53.773Z"
   },
   {
    "duration": 5,
    "start_time": "2021-07-07T18:15:53.791Z"
   },
   {
    "duration": 19,
    "start_time": "2021-07-07T18:15:53.798Z"
   },
   {
    "duration": 9,
    "start_time": "2021-07-07T18:15:53.818Z"
   },
   {
    "duration": 19,
    "start_time": "2021-07-07T18:15:53.828Z"
   },
   {
    "duration": 27,
    "start_time": "2021-07-07T18:15:53.848Z"
   },
   {
    "duration": 16,
    "start_time": "2021-07-07T18:15:53.884Z"
   },
   {
    "duration": 29,
    "start_time": "2021-07-07T18:15:53.901Z"
   },
   {
    "duration": 5,
    "start_time": "2021-07-07T18:15:53.932Z"
   },
   {
    "duration": 15,
    "start_time": "2021-07-07T18:15:53.939Z"
   },
   {
    "duration": 13,
    "start_time": "2021-07-07T18:15:53.956Z"
   },
   {
    "duration": 20,
    "start_time": "2021-07-07T18:15:53.971Z"
   },
   {
    "duration": 14,
    "start_time": "2021-07-07T18:15:53.992Z"
   },
   {
    "duration": 9,
    "start_time": "2021-07-07T18:15:54.009Z"
   },
   {
    "duration": 28,
    "start_time": "2021-07-07T18:15:54.020Z"
   },
   {
    "duration": 50,
    "start_time": "2021-07-07T18:15:54.051Z"
   },
   {
    "duration": 8,
    "start_time": "2021-07-07T18:15:54.105Z"
   },
   {
    "duration": 11,
    "start_time": "2021-07-07T18:15:54.115Z"
   },
   {
    "duration": 20,
    "start_time": "2021-07-07T18:15:54.128Z"
   },
   {
    "duration": 13,
    "start_time": "2021-07-07T18:15:54.184Z"
   },
   {
    "duration": 7,
    "start_time": "2021-07-07T18:15:54.199Z"
   },
   {
    "duration": 7,
    "start_time": "2021-07-07T18:17:08.042Z"
   },
   {
    "duration": 8,
    "start_time": "2021-07-07T18:17:21.008Z"
   },
   {
    "duration": 7,
    "start_time": "2021-07-07T18:17:29.003Z"
   },
   {
    "duration": 8,
    "start_time": "2021-07-07T18:17:32.492Z"
   },
   {
    "duration": 9,
    "start_time": "2021-07-07T18:17:41.758Z"
   },
   {
    "duration": 255,
    "start_time": "2021-07-07T18:20:20.897Z"
   },
   {
    "duration": 173,
    "start_time": "2021-07-07T18:20:26.636Z"
   },
   {
    "duration": 7,
    "start_time": "2021-07-07T18:21:47.164Z"
   },
   {
    "duration": 254,
    "start_time": "2021-07-07T18:23:08.703Z"
   },
   {
    "duration": 21,
    "start_time": "2021-07-07T18:23:22.506Z"
   },
   {
    "duration": 315,
    "start_time": "2021-07-07T18:25:54.801Z"
   },
   {
    "duration": 34,
    "start_time": "2021-07-07T18:26:51.817Z"
   },
   {
    "duration": 327,
    "start_time": "2021-07-07T18:26:56.147Z"
   },
   {
    "duration": 342,
    "start_time": "2021-07-07T18:27:15.887Z"
   },
   {
    "duration": 302,
    "start_time": "2021-07-07T18:28:18.569Z"
   },
   {
    "duration": 226,
    "start_time": "2021-07-07T18:29:20.879Z"
   },
   {
    "duration": 207,
    "start_time": "2021-07-07T18:29:58.114Z"
   },
   {
    "duration": 140,
    "start_time": "2021-07-07T18:32:04.372Z"
   },
   {
    "duration": 158,
    "start_time": "2021-07-07T18:32:32.508Z"
   },
   {
    "duration": 145,
    "start_time": "2021-07-07T18:32:41.365Z"
   },
   {
    "duration": 132,
    "start_time": "2021-07-07T18:32:45.199Z"
   },
   {
    "duration": 11,
    "start_time": "2021-07-07T18:35:24.679Z"
   },
   {
    "duration": 268,
    "start_time": "2021-07-07T18:36:16.145Z"
   },
   {
    "duration": 227,
    "start_time": "2021-07-07T18:37:04.918Z"
   },
   {
    "duration": 3,
    "start_time": "2021-07-07T18:37:33.012Z"
   },
   {
    "duration": 671,
    "start_time": "2021-07-07T18:37:38.295Z"
   },
   {
    "duration": 54,
    "start_time": "2021-07-07T18:37:53.406Z"
   },
   {
    "duration": 631,
    "start_time": "2021-07-07T18:37:56.463Z"
   },
   {
    "duration": 19,
    "start_time": "2021-07-07T18:39:40.535Z"
   },
   {
    "duration": 20,
    "start_time": "2021-07-07T18:40:12.236Z"
   },
   {
    "duration": 633,
    "start_time": "2021-07-07T18:42:00.398Z"
   },
   {
    "duration": 218,
    "start_time": "2021-07-07T18:42:01.033Z"
   },
   {
    "duration": 49,
    "start_time": "2021-07-07T18:42:01.253Z"
   },
   {
    "duration": 5,
    "start_time": "2021-07-07T18:42:01.303Z"
   },
   {
    "duration": 27,
    "start_time": "2021-07-07T18:42:01.310Z"
   },
   {
    "duration": 8,
    "start_time": "2021-07-07T18:42:01.339Z"
   },
   {
    "duration": 20,
    "start_time": "2021-07-07T18:42:01.348Z"
   },
   {
    "duration": 6,
    "start_time": "2021-07-07T18:42:01.386Z"
   },
   {
    "duration": 16,
    "start_time": "2021-07-07T18:42:01.394Z"
   },
   {
    "duration": 9,
    "start_time": "2021-07-07T18:42:01.411Z"
   },
   {
    "duration": 11,
    "start_time": "2021-07-07T18:42:01.421Z"
   },
   {
    "duration": 31,
    "start_time": "2021-07-07T18:42:01.434Z"
   },
   {
    "duration": 18,
    "start_time": "2021-07-07T18:42:01.485Z"
   },
   {
    "duration": 23,
    "start_time": "2021-07-07T18:42:01.505Z"
   },
   {
    "duration": 6,
    "start_time": "2021-07-07T18:42:01.530Z"
   },
   {
    "duration": 10,
    "start_time": "2021-07-07T18:42:01.538Z"
   },
   {
    "duration": 13,
    "start_time": "2021-07-07T18:42:01.550Z"
   },
   {
    "duration": 24,
    "start_time": "2021-07-07T18:42:01.564Z"
   },
   {
    "duration": 20,
    "start_time": "2021-07-07T18:42:01.590Z"
   },
   {
    "duration": 8,
    "start_time": "2021-07-07T18:42:01.611Z"
   },
   {
    "duration": 31,
    "start_time": "2021-07-07T18:42:01.620Z"
   },
   {
    "duration": 39,
    "start_time": "2021-07-07T18:42:01.653Z"
   },
   {
    "duration": 8,
    "start_time": "2021-07-07T18:42:01.696Z"
   },
   {
    "duration": 13,
    "start_time": "2021-07-07T18:42:01.705Z"
   },
   {
    "duration": 20,
    "start_time": "2021-07-07T18:42:01.720Z"
   },
   {
    "duration": 12,
    "start_time": "2021-07-07T18:42:01.741Z"
   },
   {
    "duration": 35,
    "start_time": "2021-07-07T18:42:01.755Z"
   },
   {
    "duration": 14,
    "start_time": "2021-07-07T18:42:01.792Z"
   },
   {
    "duration": 188,
    "start_time": "2021-07-07T18:42:01.808Z"
   },
   {
    "duration": 19,
    "start_time": "2021-07-07T18:42:01.998Z"
   },
   {
    "duration": 175,
    "start_time": "2021-07-07T18:42:02.019Z"
   },
   {
    "duration": 134,
    "start_time": "2021-07-07T18:42:02.196Z"
   },
   {
    "duration": 10,
    "start_time": "2021-07-07T18:42:02.331Z"
   },
   {
    "duration": 19,
    "start_time": "2021-07-07T18:42:02.343Z"
   },
   {
    "duration": 628,
    "start_time": "2021-07-07T18:46:30.701Z"
   },
   {
    "duration": 183,
    "start_time": "2021-07-07T18:46:31.331Z"
   },
   {
    "duration": 48,
    "start_time": "2021-07-07T18:46:31.516Z"
   },
   {
    "duration": 5,
    "start_time": "2021-07-07T18:46:31.566Z"
   },
   {
    "duration": 28,
    "start_time": "2021-07-07T18:46:31.572Z"
   },
   {
    "duration": 8,
    "start_time": "2021-07-07T18:46:31.602Z"
   },
   {
    "duration": 19,
    "start_time": "2021-07-07T18:46:31.611Z"
   },
   {
    "duration": 6,
    "start_time": "2021-07-07T18:46:31.633Z"
   },
   {
    "duration": 17,
    "start_time": "2021-07-07T18:46:31.642Z"
   },
   {
    "duration": 10,
    "start_time": "2021-07-07T18:46:31.684Z"
   },
   {
    "duration": 9,
    "start_time": "2021-07-07T18:46:31.695Z"
   },
   {
    "duration": 28,
    "start_time": "2021-07-07T18:46:31.705Z"
   },
   {
    "duration": 18,
    "start_time": "2021-07-07T18:46:31.735Z"
   },
   {
    "duration": 48,
    "start_time": "2021-07-07T18:46:31.755Z"
   },
   {
    "duration": 6,
    "start_time": "2021-07-07T18:46:31.804Z"
   },
   {
    "duration": 4,
    "start_time": "2021-07-07T18:46:31.812Z"
   },
   {
    "duration": 9,
    "start_time": "2021-07-07T18:46:31.817Z"
   },
   {
    "duration": 10,
    "start_time": "2021-07-07T18:46:31.827Z"
   },
   {
    "duration": 12,
    "start_time": "2021-07-07T18:46:31.838Z"
   },
   {
    "duration": 39,
    "start_time": "2021-07-07T18:46:31.851Z"
   },
   {
    "duration": 24,
    "start_time": "2021-07-07T18:46:31.892Z"
   },
   {
    "duration": 15,
    "start_time": "2021-07-07T18:46:31.918Z"
   },
   {
    "duration": 7,
    "start_time": "2021-07-07T18:46:31.936Z"
   },
   {
    "duration": 8,
    "start_time": "2021-07-07T18:46:31.944Z"
   },
   {
    "duration": 19,
    "start_time": "2021-07-07T18:46:31.984Z"
   },
   {
    "duration": 10,
    "start_time": "2021-07-07T18:46:32.004Z"
   },
   {
    "duration": 5,
    "start_time": "2021-07-07T18:46:32.016Z"
   },
   {
    "duration": 9,
    "start_time": "2021-07-07T18:46:32.023Z"
   },
   {
    "duration": 199,
    "start_time": "2021-07-07T18:46:32.033Z"
   },
   {
    "duration": 19,
    "start_time": "2021-07-07T18:46:32.234Z"
   },
   {
    "duration": 159,
    "start_time": "2021-07-07T18:46:32.255Z"
   },
   {
    "duration": 134,
    "start_time": "2021-07-07T18:46:32.416Z"
   },
   {
    "duration": 10,
    "start_time": "2021-07-07T18:46:32.552Z"
   },
   {
    "duration": 34,
    "start_time": "2021-07-07T18:46:32.563Z"
   },
   {
    "duration": 1039,
    "start_time": "2021-07-08T08:41:09.419Z"
   },
   {
    "duration": 333,
    "start_time": "2021-07-08T08:41:10.459Z"
   },
   {
    "duration": 173,
    "start_time": "2021-07-08T08:41:10.794Z"
   },
   {
    "duration": 5,
    "start_time": "2021-07-08T08:41:10.968Z"
   },
   {
    "duration": 25,
    "start_time": "2021-07-08T08:41:10.975Z"
   },
   {
    "duration": 9,
    "start_time": "2021-07-08T08:41:11.002Z"
   },
   {
    "duration": 18,
    "start_time": "2021-07-08T08:41:11.013Z"
   },
   {
    "duration": 6,
    "start_time": "2021-07-08T08:41:11.033Z"
   },
   {
    "duration": 44,
    "start_time": "2021-07-08T08:41:11.042Z"
   },
   {
    "duration": 10,
    "start_time": "2021-07-08T08:41:11.088Z"
   },
   {
    "duration": 9,
    "start_time": "2021-07-08T08:41:11.100Z"
   },
   {
    "duration": 27,
    "start_time": "2021-07-08T08:41:11.111Z"
   },
   {
    "duration": 46,
    "start_time": "2021-07-08T08:41:11.140Z"
   },
   {
    "duration": 17,
    "start_time": "2021-07-08T08:41:11.187Z"
   },
   {
    "duration": 6,
    "start_time": "2021-07-08T08:41:11.206Z"
   },
   {
    "duration": 5,
    "start_time": "2021-07-08T08:41:11.213Z"
   },
   {
    "duration": 10,
    "start_time": "2021-07-08T08:41:11.219Z"
   },
   {
    "duration": 9,
    "start_time": "2021-07-08T08:41:11.230Z"
   },
   {
    "duration": 45,
    "start_time": "2021-07-08T08:41:11.241Z"
   },
   {
    "duration": 7,
    "start_time": "2021-07-08T08:41:11.287Z"
   },
   {
    "duration": 24,
    "start_time": "2021-07-08T08:41:11.296Z"
   },
   {
    "duration": 16,
    "start_time": "2021-07-08T08:41:11.322Z"
   },
   {
    "duration": 7,
    "start_time": "2021-07-08T08:41:11.341Z"
   },
   {
    "duration": 41,
    "start_time": "2021-07-08T08:41:11.349Z"
   },
   {
    "duration": 17,
    "start_time": "2021-07-08T08:41:11.391Z"
   },
   {
    "duration": 9,
    "start_time": "2021-07-08T08:41:11.410Z"
   },
   {
    "duration": 5,
    "start_time": "2021-07-08T08:41:11.421Z"
   },
   {
    "duration": 6,
    "start_time": "2021-07-08T08:41:11.428Z"
   },
   {
    "duration": 198,
    "start_time": "2021-07-08T08:41:11.435Z"
   },
   {
    "duration": 18,
    "start_time": "2021-07-08T08:41:11.635Z"
   },
   {
    "duration": 155,
    "start_time": "2021-07-08T08:41:11.655Z"
   },
   {
    "duration": 138,
    "start_time": "2021-07-08T08:41:11.811Z"
   },
   {
    "duration": 10,
    "start_time": "2021-07-08T08:41:11.950Z"
   },
   {
    "duration": 29,
    "start_time": "2021-07-08T08:41:11.961Z"
   },
   {
    "duration": 171,
    "start_time": "2021-07-08T08:47:44.522Z"
   },
   {
    "duration": 124,
    "start_time": "2021-07-08T08:47:46.872Z"
   },
   {
    "duration": 191,
    "start_time": "2021-07-08T08:47:58.148Z"
   },
   {
    "duration": 191,
    "start_time": "2021-07-08T08:48:07.412Z"
   },
   {
    "duration": 261,
    "start_time": "2021-07-08T08:48:10.385Z"
   },
   {
    "duration": 255,
    "start_time": "2021-07-08T08:48:14.494Z"
   },
   {
    "duration": 219,
    "start_time": "2021-07-08T08:48:22.752Z"
   },
   {
    "duration": 173,
    "start_time": "2021-07-08T08:49:06.395Z"
   },
   {
    "duration": 180,
    "start_time": "2021-07-08T08:49:21.011Z"
   },
   {
    "duration": 6,
    "start_time": "2021-07-08T08:50:31.697Z"
   },
   {
    "duration": 10,
    "start_time": "2021-07-08T08:50:47.394Z"
   },
   {
    "duration": 11,
    "start_time": "2021-07-08T08:53:49.332Z"
   },
   {
    "duration": 171,
    "start_time": "2021-07-08T08:54:28.408Z"
   },
   {
    "duration": 636,
    "start_time": "2021-07-08T09:02:48.385Z"
   },
   {
    "duration": 227,
    "start_time": "2021-07-08T09:02:49.023Z"
   },
   {
    "duration": 104,
    "start_time": "2021-07-08T09:02:49.252Z"
   },
   {
    "duration": 5,
    "start_time": "2021-07-08T09:02:49.358Z"
   },
   {
    "duration": 27,
    "start_time": "2021-07-08T09:02:49.365Z"
   },
   {
    "duration": 8,
    "start_time": "2021-07-08T09:02:49.394Z"
   },
   {
    "duration": 18,
    "start_time": "2021-07-08T09:02:49.404Z"
   },
   {
    "duration": 6,
    "start_time": "2021-07-08T09:02:49.424Z"
   },
   {
    "duration": 11,
    "start_time": "2021-07-08T09:02:49.433Z"
   },
   {
    "duration": 13,
    "start_time": "2021-07-08T09:02:49.485Z"
   },
   {
    "duration": 9,
    "start_time": "2021-07-08T09:02:49.500Z"
   },
   {
    "duration": 38,
    "start_time": "2021-07-08T09:02:49.511Z"
   },
   {
    "duration": 42,
    "start_time": "2021-07-08T09:02:49.551Z"
   },
   {
    "duration": 21,
    "start_time": "2021-07-08T09:02:49.594Z"
   },
   {
    "duration": 6,
    "start_time": "2021-07-08T09:02:49.616Z"
   },
   {
    "duration": 3,
    "start_time": "2021-07-08T09:02:49.623Z"
   },
   {
    "duration": 9,
    "start_time": "2021-07-08T09:02:49.628Z"
   },
   {
    "duration": 52,
    "start_time": "2021-07-08T09:02:49.638Z"
   },
   {
    "duration": 11,
    "start_time": "2021-07-08T09:02:49.692Z"
   },
   {
    "duration": 8,
    "start_time": "2021-07-08T09:02:49.704Z"
   },
   {
    "duration": 27,
    "start_time": "2021-07-08T09:02:49.713Z"
   },
   {
    "duration": 59,
    "start_time": "2021-07-08T09:02:49.741Z"
   },
   {
    "duration": 8,
    "start_time": "2021-07-08T09:02:49.803Z"
   },
   {
    "duration": 14,
    "start_time": "2021-07-08T09:02:49.813Z"
   },
   {
    "duration": 20,
    "start_time": "2021-07-08T09:02:49.829Z"
   },
   {
    "duration": 44,
    "start_time": "2021-07-08T09:02:49.851Z"
   },
   {
    "duration": 14,
    "start_time": "2021-07-08T09:02:49.896Z"
   },
   {
    "duration": 221,
    "start_time": "2021-07-08T09:02:49.912Z"
   },
   {
    "duration": 6,
    "start_time": "2021-07-08T09:02:50.134Z"
   },
   {
    "duration": 206,
    "start_time": "2021-07-08T09:02:50.142Z"
   },
   {
    "duration": 19,
    "start_time": "2021-07-08T09:02:50.350Z"
   },
   {
    "duration": 21,
    "start_time": "2021-07-08T09:02:50.370Z"
   },
   {
    "duration": 20,
    "start_time": "2021-07-08T09:02:50.393Z"
   },
   {
    "duration": 5,
    "start_time": "2021-07-08T09:02:50.414Z"
   },
   {
    "duration": 5,
    "start_time": "2021-07-08T09:03:34.173Z"
   },
   {
    "duration": 6,
    "start_time": "2021-07-08T09:04:49.062Z"
   },
   {
    "duration": 9,
    "start_time": "2021-07-08T09:04:50.118Z"
   },
   {
    "duration": 14,
    "start_time": "2021-07-08T09:04:58.512Z"
   },
   {
    "duration": 9,
    "start_time": "2021-07-08T09:05:10.988Z"
   },
   {
    "duration": 11,
    "start_time": "2021-07-08T09:05:11.743Z"
   },
   {
    "duration": 7,
    "start_time": "2021-07-08T09:05:25.677Z"
   },
   {
    "duration": 13,
    "start_time": "2021-07-08T09:05:47.189Z"
   },
   {
    "duration": 13,
    "start_time": "2021-07-08T09:05:54.755Z"
   },
   {
    "duration": 4,
    "start_time": "2021-07-08T09:06:29.189Z"
   },
   {
    "duration": 244,
    "start_time": "2021-07-08T09:06:29.195Z"
   },
   {
    "duration": 91,
    "start_time": "2021-07-08T09:06:29.441Z"
   },
   {
    "duration": 4,
    "start_time": "2021-07-08T09:06:29.534Z"
   },
   {
    "duration": 28,
    "start_time": "2021-07-08T09:06:29.540Z"
   },
   {
    "duration": 6,
    "start_time": "2021-07-08T09:06:29.570Z"
   },
   {
    "duration": 18,
    "start_time": "2021-07-08T09:06:29.578Z"
   },
   {
    "duration": 5,
    "start_time": "2021-07-08T09:06:29.597Z"
   },
   {
    "duration": 13,
    "start_time": "2021-07-08T09:06:29.605Z"
   },
   {
    "duration": 8,
    "start_time": "2021-07-08T09:06:29.620Z"
   },
   {
    "duration": 7,
    "start_time": "2021-07-08T09:06:29.630Z"
   },
   {
    "duration": 63,
    "start_time": "2021-07-08T09:06:29.639Z"
   },
   {
    "duration": 17,
    "start_time": "2021-07-08T09:06:29.704Z"
   },
   {
    "duration": 20,
    "start_time": "2021-07-08T09:06:29.723Z"
   },
   {
    "duration": 6,
    "start_time": "2021-07-08T09:06:29.745Z"
   },
   {
    "duration": 3,
    "start_time": "2021-07-08T09:06:29.752Z"
   },
   {
    "duration": 7,
    "start_time": "2021-07-08T09:06:29.785Z"
   },
   {
    "duration": 11,
    "start_time": "2021-07-08T09:06:29.794Z"
   },
   {
    "duration": 15,
    "start_time": "2021-07-08T09:06:29.807Z"
   },
   {
    "duration": 8,
    "start_time": "2021-07-08T09:06:29.823Z"
   },
   {
    "duration": 70,
    "start_time": "2021-07-08T09:06:29.832Z"
   },
   {
    "duration": 17,
    "start_time": "2021-07-08T09:06:29.903Z"
   },
   {
    "duration": 9,
    "start_time": "2021-07-08T09:06:29.921Z"
   },
   {
    "duration": 9,
    "start_time": "2021-07-08T09:06:29.932Z"
   },
   {
    "duration": 57,
    "start_time": "2021-07-08T09:06:29.942Z"
   },
   {
    "duration": 11,
    "start_time": "2021-07-08T09:06:30.001Z"
   },
   {
    "duration": 19,
    "start_time": "2021-07-08T09:06:30.016Z"
   },
   {
    "duration": 217,
    "start_time": "2021-07-08T09:06:30.037Z"
   },
   {
    "duration": 6,
    "start_time": "2021-07-08T09:06:30.255Z"
   },
   {
    "duration": 205,
    "start_time": "2021-07-08T09:06:30.263Z"
   },
   {
    "duration": 27,
    "start_time": "2021-07-08T09:06:30.470Z"
   },
   {
    "duration": 11,
    "start_time": "2021-07-08T09:06:30.500Z"
   },
   {
    "duration": 31,
    "start_time": "2021-07-08T09:06:30.513Z"
   },
   {
    "duration": 18,
    "start_time": "2021-07-08T09:06:30.546Z"
   },
   {
    "duration": 11,
    "start_time": "2021-07-08T09:06:30.566Z"
   },
   {
    "duration": 19,
    "start_time": "2021-07-08T09:06:30.579Z"
   },
   {
    "duration": 20,
    "start_time": "2021-07-08T09:06:49.466Z"
   },
   {
    "duration": 9,
    "start_time": "2021-07-08T09:06:51.994Z"
   },
   {
    "duration": 20,
    "start_time": "2021-07-08T09:06:52.273Z"
   },
   {
    "duration": 246,
    "start_time": "2021-07-08T09:10:21.272Z"
   },
   {
    "duration": 84,
    "start_time": "2021-07-08T09:10:21.436Z"
   },
   {
    "duration": 7,
    "start_time": "2021-07-08T09:10:37.608Z"
   },
   {
    "duration": 189,
    "start_time": "2021-07-08T09:10:38.573Z"
   },
   {
    "duration": 185,
    "start_time": "2021-07-08T09:10:53.181Z"
   },
   {
    "duration": 11,
    "start_time": "2021-07-08T09:10:59.549Z"
   },
   {
    "duration": 42,
    "start_time": "2021-07-08T09:10:59.709Z"
   },
   {
    "duration": 12,
    "start_time": "2021-07-08T09:11:02.857Z"
   },
   {
    "duration": 28,
    "start_time": "2021-07-08T09:11:10.062Z"
   },
   {
    "duration": 249,
    "start_time": "2021-07-08T09:11:37.388Z"
   },
   {
    "duration": 232,
    "start_time": "2021-07-08T09:11:49.485Z"
   },
   {
    "duration": 453,
    "start_time": "2021-07-08T09:12:01.546Z"
   },
   {
    "duration": 440,
    "start_time": "2021-07-08T09:12:12.347Z"
   },
   {
    "duration": 213,
    "start_time": "2021-07-08T09:13:32.196Z"
   },
   {
    "duration": 172,
    "start_time": "2021-07-08T09:14:07.400Z"
   },
   {
    "duration": 185,
    "start_time": "2021-07-08T09:14:14.905Z"
   },
   {
    "duration": 209,
    "start_time": "2021-07-08T09:14:40.109Z"
   },
   {
    "duration": 201,
    "start_time": "2021-07-08T09:14:54.506Z"
   },
   {
    "duration": 622,
    "start_time": "2021-07-08T09:18:14.497Z"
   },
   {
    "duration": 220,
    "start_time": "2021-07-08T09:18:15.121Z"
   },
   {
    "duration": 79,
    "start_time": "2021-07-08T09:18:15.343Z"
   },
   {
    "duration": 4,
    "start_time": "2021-07-08T09:18:15.425Z"
   },
   {
    "duration": 24,
    "start_time": "2021-07-08T09:18:15.431Z"
   },
   {
    "duration": 8,
    "start_time": "2021-07-08T09:18:15.457Z"
   },
   {
    "duration": 16,
    "start_time": "2021-07-08T09:18:15.466Z"
   },
   {
    "duration": 5,
    "start_time": "2021-07-08T09:18:15.484Z"
   },
   {
    "duration": 10,
    "start_time": "2021-07-08T09:18:15.493Z"
   },
   {
    "duration": 8,
    "start_time": "2021-07-08T09:18:15.504Z"
   },
   {
    "duration": 7,
    "start_time": "2021-07-08T09:18:15.513Z"
   },
   {
    "duration": 26,
    "start_time": "2021-07-08T09:18:15.522Z"
   },
   {
    "duration": 49,
    "start_time": "2021-07-08T09:18:15.550Z"
   },
   {
    "duration": 21,
    "start_time": "2021-07-08T09:18:15.601Z"
   },
   {
    "duration": 8,
    "start_time": "2021-07-08T09:18:15.624Z"
   },
   {
    "duration": 3,
    "start_time": "2021-07-08T09:18:15.634Z"
   },
   {
    "duration": 8,
    "start_time": "2021-07-08T09:18:15.639Z"
   },
   {
    "duration": 45,
    "start_time": "2021-07-08T09:18:15.649Z"
   },
   {
    "duration": 13,
    "start_time": "2021-07-08T09:18:15.696Z"
   },
   {
    "duration": 10,
    "start_time": "2021-07-08T09:18:15.711Z"
   },
   {
    "duration": 64,
    "start_time": "2021-07-08T09:18:15.722Z"
   },
   {
    "duration": 19,
    "start_time": "2021-07-08T09:18:15.788Z"
   },
   {
    "duration": 9,
    "start_time": "2021-07-08T09:18:15.809Z"
   },
   {
    "duration": 9,
    "start_time": "2021-07-08T09:18:15.820Z"
   },
   {
    "duration": 18,
    "start_time": "2021-07-08T09:18:15.831Z"
   },
   {
    "duration": 43,
    "start_time": "2021-07-08T09:18:15.851Z"
   },
   {
    "duration": 12,
    "start_time": "2021-07-08T09:18:15.897Z"
   },
   {
    "duration": 219,
    "start_time": "2021-07-08T09:18:15.911Z"
   },
   {
    "duration": 8,
    "start_time": "2021-07-08T09:18:16.132Z"
   },
   {
    "duration": 199,
    "start_time": "2021-07-08T09:18:16.141Z"
   },
   {
    "duration": 18,
    "start_time": "2021-07-08T09:18:16.341Z"
   },
   {
    "duration": 24,
    "start_time": "2021-07-08T09:18:16.361Z"
   },
   {
    "duration": 24,
    "start_time": "2021-07-08T09:18:16.387Z"
   },
   {
    "duration": 211,
    "start_time": "2021-07-08T09:18:16.413Z"
   },
   {
    "duration": 18,
    "start_time": "2021-07-08T09:18:16.626Z"
   },
   {
    "duration": 596,
    "start_time": "2021-07-08T10:06:33.623Z"
   },
   {
    "duration": 181,
    "start_time": "2021-07-08T10:06:34.221Z"
   },
   {
    "duration": 176,
    "start_time": "2021-07-08T10:06:34.635Z"
   },
   {
    "duration": 239,
    "start_time": "2021-07-08T10:06:55.572Z"
   },
   {
    "duration": 6,
    "start_time": "2021-07-08T10:06:57.687Z"
   },
   {
    "duration": 4,
    "start_time": "2021-07-08T10:07:03.956Z"
   },
   {
    "duration": 4,
    "start_time": "2021-07-08T10:07:10.376Z"
   },
   {
    "duration": 4,
    "start_time": "2021-07-08T10:17:19.889Z"
   },
   {
    "duration": 3,
    "start_time": "2021-07-08T10:19:19.407Z"
   },
   {
    "duration": 197,
    "start_time": "2021-07-08T10:19:19.412Z"
   },
   {
    "duration": 127,
    "start_time": "2021-07-08T10:19:19.611Z"
   },
   {
    "duration": 4,
    "start_time": "2021-07-08T10:19:19.740Z"
   },
   {
    "duration": 27,
    "start_time": "2021-07-08T10:19:19.746Z"
   },
   {
    "duration": 7,
    "start_time": "2021-07-08T10:19:19.775Z"
   },
   {
    "duration": 30,
    "start_time": "2021-07-08T10:19:19.784Z"
   },
   {
    "duration": 7,
    "start_time": "2021-07-08T10:19:19.817Z"
   },
   {
    "duration": 26,
    "start_time": "2021-07-08T10:19:19.826Z"
   },
   {
    "duration": 18,
    "start_time": "2021-07-08T10:19:19.854Z"
   },
   {
    "duration": 14,
    "start_time": "2021-07-08T10:19:19.874Z"
   },
   {
    "duration": 48,
    "start_time": "2021-07-08T10:19:19.890Z"
   },
   {
    "duration": 17,
    "start_time": "2021-07-08T10:19:19.940Z"
   },
   {
    "duration": 38,
    "start_time": "2021-07-08T10:19:19.959Z"
   },
   {
    "duration": 8,
    "start_time": "2021-07-08T10:19:19.999Z"
   },
   {
    "duration": 15,
    "start_time": "2021-07-08T10:19:20.009Z"
   },
   {
    "duration": 22,
    "start_time": "2021-07-08T10:19:20.026Z"
   },
   {
    "duration": 10,
    "start_time": "2021-07-08T10:19:20.050Z"
   },
   {
    "duration": 10,
    "start_time": "2021-07-08T10:19:20.062Z"
   },
   {
    "duration": 20,
    "start_time": "2021-07-08T10:19:20.073Z"
   },
   {
    "duration": 29,
    "start_time": "2021-07-08T10:19:20.095Z"
   },
   {
    "duration": 17,
    "start_time": "2021-07-08T10:19:20.126Z"
   },
   {
    "duration": 40,
    "start_time": "2021-07-08T10:19:20.146Z"
   },
   {
    "duration": 15,
    "start_time": "2021-07-08T10:19:20.189Z"
   },
   {
    "duration": 19,
    "start_time": "2021-07-08T10:19:20.206Z"
   },
   {
    "duration": 10,
    "start_time": "2021-07-08T10:19:20.226Z"
   },
   {
    "duration": 11,
    "start_time": "2021-07-08T10:19:20.238Z"
   },
   {
    "duration": 297,
    "start_time": "2021-07-08T10:19:20.250Z"
   },
   {
    "duration": 6,
    "start_time": "2021-07-08T10:19:20.549Z"
   },
   {
    "duration": 191,
    "start_time": "2021-07-08T10:19:20.557Z"
   },
   {
    "duration": 19,
    "start_time": "2021-07-08T10:19:20.750Z"
   },
   {
    "duration": 20,
    "start_time": "2021-07-08T10:19:20.771Z"
   },
   {
    "duration": 15,
    "start_time": "2021-07-08T10:19:20.793Z"
   },
   {
    "duration": 222,
    "start_time": "2021-07-08T10:19:20.809Z"
   },
   {
    "duration": 20,
    "start_time": "2021-07-08T10:19:21.033Z"
   },
   {
    "duration": 27,
    "start_time": "2021-07-08T10:45:04.055Z"
   },
   {
    "duration": 8,
    "start_time": "2021-07-08T10:45:08.478Z"
   },
   {
    "duration": 8,
    "start_time": "2021-07-08T10:45:31.982Z"
   },
   {
    "duration": 10,
    "start_time": "2021-07-08T10:46:01.221Z"
   },
   {
    "duration": 17,
    "start_time": "2021-07-08T10:46:40.011Z"
   },
   {
    "duration": 193,
    "start_time": "2021-07-08T10:48:19.471Z"
   },
   {
    "duration": 225,
    "start_time": "2021-07-08T10:49:26.480Z"
   },
   {
    "duration": 204,
    "start_time": "2021-07-08T10:49:59.992Z"
   },
   {
    "duration": 435,
    "start_time": "2021-07-08T10:50:06.779Z"
   },
   {
    "duration": 199,
    "start_time": "2021-07-08T10:50:14.891Z"
   },
   {
    "duration": 204,
    "start_time": "2021-07-08T10:50:18.501Z"
   },
   {
    "duration": 244,
    "start_time": "2021-07-08T10:50:23.359Z"
   },
   {
    "duration": 192,
    "start_time": "2021-07-08T10:50:29.135Z"
   },
   {
    "duration": 218,
    "start_time": "2021-07-08T10:50:33.092Z"
   },
   {
    "duration": 207,
    "start_time": "2021-07-08T10:52:45.381Z"
   },
   {
    "duration": 5,
    "start_time": "2021-07-08T10:53:34.641Z"
   },
   {
    "duration": 196,
    "start_time": "2021-07-08T10:53:41.478Z"
   },
   {
    "duration": 43,
    "start_time": "2021-07-08T10:53:50.335Z"
   },
   {
    "duration": 32,
    "start_time": "2021-07-08T10:53:55.294Z"
   },
   {
    "duration": 55,
    "start_time": "2021-07-08T10:54:09.675Z"
   },
   {
    "duration": 16,
    "start_time": "2021-07-08T10:54:12.260Z"
   },
   {
    "duration": 15,
    "start_time": "2021-07-08T10:54:49.150Z"
   },
   {
    "duration": 20,
    "start_time": "2021-07-08T10:56:07.596Z"
   },
   {
    "duration": 16,
    "start_time": "2021-07-08T10:58:26.276Z"
   },
   {
    "duration": 22,
    "start_time": "2021-07-08T10:59:00.486Z"
   },
   {
    "duration": 18,
    "start_time": "2021-07-08T11:02:09.653Z"
   },
   {
    "duration": 10,
    "start_time": "2021-07-08T11:03:44.331Z"
   },
   {
    "duration": 10,
    "start_time": "2021-07-08T11:03:54.055Z"
   },
   {
    "duration": 12,
    "start_time": "2021-07-08T11:04:41.967Z"
   },
   {
    "duration": 24,
    "start_time": "2021-07-08T11:07:30.732Z"
   },
   {
    "duration": 6,
    "start_time": "2021-07-08T11:07:37.364Z"
   },
   {
    "duration": 16,
    "start_time": "2021-07-08T11:08:01.819Z"
   },
   {
    "duration": 17,
    "start_time": "2021-07-08T11:09:47.488Z"
   },
   {
    "duration": 246,
    "start_time": "2021-07-08T11:10:00.830Z"
   },
   {
    "duration": 18,
    "start_time": "2021-07-08T11:13:55.195Z"
   },
   {
    "duration": 204,
    "start_time": "2021-07-08T11:14:04.951Z"
   },
   {
    "duration": 19,
    "start_time": "2021-07-08T11:15:10.613Z"
   },
   {
    "duration": 680,
    "start_time": "2021-07-08T11:16:25.793Z"
   },
   {
    "duration": 451,
    "start_time": "2021-07-08T11:16:40.313Z"
   },
   {
    "duration": 469,
    "start_time": "2021-07-08T11:17:21.286Z"
   },
   {
    "duration": 20,
    "start_time": "2021-07-08T11:19:12.554Z"
   },
   {
    "duration": 35,
    "start_time": "2021-07-08T11:20:05.484Z"
   },
   {
    "duration": 53,
    "start_time": "2021-07-08T11:21:40.050Z"
   },
   {
    "duration": 13,
    "start_time": "2021-07-08T11:22:26.059Z"
   },
   {
    "duration": 19,
    "start_time": "2021-07-08T11:22:47.419Z"
   },
   {
    "duration": 25,
    "start_time": "2021-07-08T11:23:19.958Z"
   },
   {
    "duration": 29,
    "start_time": "2021-07-08T11:23:25.415Z"
   },
   {
    "duration": 10,
    "start_time": "2021-07-08T11:24:45.138Z"
   },
   {
    "duration": 19,
    "start_time": "2021-07-08T11:24:54.498Z"
   },
   {
    "duration": 12,
    "start_time": "2021-07-08T11:25:32.225Z"
   },
   {
    "duration": 19,
    "start_time": "2021-07-08T11:25:37.092Z"
   },
   {
    "duration": 17,
    "start_time": "2021-07-08T11:25:58.116Z"
   },
   {
    "duration": 15,
    "start_time": "2021-07-08T11:26:02.258Z"
   },
   {
    "duration": 8,
    "start_time": "2021-07-08T11:26:59.682Z"
   },
   {
    "duration": 184,
    "start_time": "2021-07-08T11:27:21.894Z"
   },
   {
    "duration": 8,
    "start_time": "2021-07-08T11:27:23.824Z"
   },
   {
    "duration": 202,
    "start_time": "2021-07-08T11:27:23.962Z"
   },
   {
    "duration": 360,
    "start_time": "2021-07-08T11:28:33.215Z"
   },
   {
    "duration": 231,
    "start_time": "2021-07-08T11:32:05.542Z"
   },
   {
    "duration": 607,
    "start_time": "2021-07-08T11:36:27.854Z"
   },
   {
    "duration": 241,
    "start_time": "2021-07-08T11:36:28.463Z"
   },
   {
    "duration": 67,
    "start_time": "2021-07-08T11:36:28.709Z"
   },
   {
    "duration": 5,
    "start_time": "2021-07-08T11:36:28.778Z"
   },
   {
    "duration": 32,
    "start_time": "2021-07-08T11:36:28.784Z"
   },
   {
    "duration": 11,
    "start_time": "2021-07-08T11:36:28.819Z"
   },
   {
    "duration": 20,
    "start_time": "2021-07-08T11:36:28.834Z"
   },
   {
    "duration": 36,
    "start_time": "2021-07-08T11:36:28.857Z"
   },
   {
    "duration": 16,
    "start_time": "2021-07-08T11:36:28.895Z"
   },
   {
    "duration": 14,
    "start_time": "2021-07-08T11:36:28.913Z"
   },
   {
    "duration": 9,
    "start_time": "2021-07-08T11:36:28.930Z"
   },
   {
    "duration": 55,
    "start_time": "2021-07-08T11:36:28.941Z"
   },
   {
    "duration": 27,
    "start_time": "2021-07-08T11:36:28.999Z"
   },
   {
    "duration": 30,
    "start_time": "2021-07-08T11:36:29.028Z"
   },
   {
    "duration": 31,
    "start_time": "2021-07-08T11:36:29.060Z"
   },
   {
    "duration": 3,
    "start_time": "2021-07-08T11:36:29.093Z"
   },
   {
    "duration": 12,
    "start_time": "2021-07-08T11:36:29.099Z"
   },
   {
    "duration": 11,
    "start_time": "2021-07-08T11:36:29.112Z"
   },
   {
    "duration": 12,
    "start_time": "2021-07-08T11:36:29.125Z"
   },
   {
    "duration": 9,
    "start_time": "2021-07-08T11:36:29.139Z"
   },
   {
    "duration": 31,
    "start_time": "2021-07-08T11:36:29.191Z"
   },
   {
    "duration": 17,
    "start_time": "2021-07-08T11:36:29.226Z"
   },
   {
    "duration": 7,
    "start_time": "2021-07-08T11:36:29.245Z"
   },
   {
    "duration": 10,
    "start_time": "2021-07-08T11:36:29.254Z"
   },
   {
    "duration": 30,
    "start_time": "2021-07-08T11:36:29.292Z"
   },
   {
    "duration": 11,
    "start_time": "2021-07-08T11:36:29.324Z"
   },
   {
    "duration": 11,
    "start_time": "2021-07-08T11:36:29.337Z"
   },
   {
    "duration": 230,
    "start_time": "2021-07-08T11:36:29.349Z"
   },
   {
    "duration": 13,
    "start_time": "2021-07-08T11:36:29.588Z"
   },
   {
    "duration": 205,
    "start_time": "2021-07-08T11:36:29.603Z"
   },
   {
    "duration": 20,
    "start_time": "2021-07-08T11:36:29.810Z"
   },
   {
    "duration": 9,
    "start_time": "2021-07-08T11:36:29.832Z"
   },
   {
    "duration": 16,
    "start_time": "2021-07-08T11:36:29.843Z"
   },
   {
    "duration": 283,
    "start_time": "2021-07-08T11:36:29.861Z"
   },
   {
    "duration": 50,
    "start_time": "2021-07-08T11:36:30.146Z"
   },
   {
    "duration": 14,
    "start_time": "2021-07-08T11:36:30.198Z"
   },
   {
    "duration": 11,
    "start_time": "2021-07-08T11:36:30.214Z"
   },
   {
    "duration": 245,
    "start_time": "2021-07-08T11:36:30.227Z"
   },
   {
    "duration": 439,
    "start_time": "2021-07-08T11:36:30.474Z"
   },
   {
    "duration": 210,
    "start_time": "2021-07-08T11:36:30.915Z"
   },
   {
    "duration": 15,
    "start_time": "2021-07-08T11:36:31.127Z"
   },
   {
    "duration": 17,
    "start_time": "2021-07-08T11:38:20.451Z"
   },
   {
    "duration": 642,
    "start_time": "2021-07-08T11:46:17.881Z"
   },
   {
    "duration": 210,
    "start_time": "2021-07-08T11:46:18.525Z"
   },
   {
    "duration": 104,
    "start_time": "2021-07-08T11:46:18.741Z"
   },
   {
    "duration": 8,
    "start_time": "2021-07-08T11:46:18.847Z"
   },
   {
    "duration": 25,
    "start_time": "2021-07-08T11:46:18.857Z"
   },
   {
    "duration": 14,
    "start_time": "2021-07-08T11:46:18.884Z"
   },
   {
    "duration": 22,
    "start_time": "2021-07-08T11:46:18.900Z"
   },
   {
    "duration": 5,
    "start_time": "2021-07-08T11:46:18.924Z"
   },
   {
    "duration": 13,
    "start_time": "2021-07-08T11:46:18.931Z"
   },
   {
    "duration": 45,
    "start_time": "2021-07-08T11:46:18.946Z"
   },
   {
    "duration": 12,
    "start_time": "2021-07-08T11:46:18.993Z"
   },
   {
    "duration": 38,
    "start_time": "2021-07-08T11:46:19.006Z"
   },
   {
    "duration": 50,
    "start_time": "2021-07-08T11:46:19.046Z"
   },
   {
    "duration": 29,
    "start_time": "2021-07-08T11:46:19.099Z"
   },
   {
    "duration": 7,
    "start_time": "2021-07-08T11:46:19.130Z"
   },
   {
    "duration": 3,
    "start_time": "2021-07-08T11:46:19.139Z"
   },
   {
    "duration": 11,
    "start_time": "2021-07-08T11:46:19.144Z"
   },
   {
    "duration": 40,
    "start_time": "2021-07-08T11:46:19.157Z"
   },
   {
    "duration": 15,
    "start_time": "2021-07-08T11:46:19.199Z"
   },
   {
    "duration": 10,
    "start_time": "2021-07-08T11:46:19.217Z"
   },
   {
    "duration": 68,
    "start_time": "2021-07-08T11:46:19.230Z"
   },
   {
    "duration": 17,
    "start_time": "2021-07-08T11:46:19.301Z"
   },
   {
    "duration": 7,
    "start_time": "2021-07-08T11:46:19.321Z"
   },
   {
    "duration": 11,
    "start_time": "2021-07-08T11:46:19.330Z"
   },
   {
    "duration": 59,
    "start_time": "2021-07-08T11:46:19.343Z"
   },
   {
    "duration": 17,
    "start_time": "2021-07-08T11:46:19.405Z"
   },
   {
    "duration": 16,
    "start_time": "2021-07-08T11:46:19.424Z"
   },
   {
    "duration": 252,
    "start_time": "2021-07-08T11:46:19.443Z"
   },
   {
    "duration": 9,
    "start_time": "2021-07-08T11:46:19.697Z"
   },
   {
    "duration": 224,
    "start_time": "2021-07-08T11:46:19.708Z"
   },
   {
    "duration": 21,
    "start_time": "2021-07-08T11:46:19.934Z"
   },
   {
    "duration": 9,
    "start_time": "2021-07-08T11:46:19.956Z"
   },
   {
    "duration": 32,
    "start_time": "2021-07-08T11:46:19.967Z"
   },
   {
    "duration": 288,
    "start_time": "2021-07-08T11:46:20.004Z"
   },
   {
    "duration": 23,
    "start_time": "2021-07-08T11:46:20.300Z"
   },
   {
    "duration": 11,
    "start_time": "2021-07-08T11:46:20.325Z"
   },
   {
    "duration": 11,
    "start_time": "2021-07-08T11:46:20.339Z"
   },
   {
    "duration": 259,
    "start_time": "2021-07-08T11:46:20.352Z"
   },
   {
    "duration": 438,
    "start_time": "2021-07-08T11:46:20.613Z"
   },
   {
    "duration": 207,
    "start_time": "2021-07-08T11:46:21.054Z"
   },
   {
    "duration": 27,
    "start_time": "2021-07-08T11:46:21.262Z"
   },
   {
    "duration": 19,
    "start_time": "2021-07-08T11:46:21.291Z"
   },
   {
    "duration": 820,
    "start_time": "2021-07-08T11:49:01.655Z"
   },
   {
    "duration": 372,
    "start_time": "2021-07-08T11:49:02.478Z"
   },
   {
    "duration": 98,
    "start_time": "2021-07-08T11:49:02.853Z"
   },
   {
    "duration": 6,
    "start_time": "2021-07-08T11:49:02.953Z"
   },
   {
    "duration": 39,
    "start_time": "2021-07-08T11:49:02.960Z"
   },
   {
    "duration": 9,
    "start_time": "2021-07-08T11:49:03.003Z"
   },
   {
    "duration": 23,
    "start_time": "2021-07-08T11:49:03.014Z"
   },
   {
    "duration": 6,
    "start_time": "2021-07-08T11:49:03.041Z"
   },
   {
    "duration": 20,
    "start_time": "2021-07-08T11:49:03.049Z"
   },
   {
    "duration": 18,
    "start_time": "2021-07-08T11:49:03.084Z"
   },
   {
    "duration": 14,
    "start_time": "2021-07-08T11:49:03.104Z"
   },
   {
    "duration": 39,
    "start_time": "2021-07-08T11:49:03.119Z"
   },
   {
    "duration": 38,
    "start_time": "2021-07-08T11:49:03.160Z"
   },
   {
    "duration": 26,
    "start_time": "2021-07-08T11:49:03.200Z"
   },
   {
    "duration": 7,
    "start_time": "2021-07-08T11:49:03.227Z"
   },
   {
    "duration": 4,
    "start_time": "2021-07-08T11:49:03.236Z"
   },
   {
    "duration": 15,
    "start_time": "2021-07-08T11:49:03.243Z"
   },
   {
    "duration": 21,
    "start_time": "2021-07-08T11:49:03.285Z"
   },
   {
    "duration": 17,
    "start_time": "2021-07-08T11:49:03.309Z"
   },
   {
    "duration": 10,
    "start_time": "2021-07-08T11:49:03.328Z"
   },
   {
    "duration": 65,
    "start_time": "2021-07-08T11:49:03.340Z"
   },
   {
    "duration": 18,
    "start_time": "2021-07-08T11:49:03.407Z"
   },
   {
    "duration": 8,
    "start_time": "2021-07-08T11:49:03.428Z"
   },
   {
    "duration": 15,
    "start_time": "2021-07-08T11:49:03.438Z"
   },
   {
    "duration": 40,
    "start_time": "2021-07-08T11:49:03.455Z"
   },
   {
    "duration": 12,
    "start_time": "2021-07-08T11:49:03.497Z"
   },
   {
    "duration": 29,
    "start_time": "2021-07-08T11:49:03.511Z"
   },
   {
    "duration": 285,
    "start_time": "2021-07-08T11:49:03.542Z"
   },
   {
    "duration": 8,
    "start_time": "2021-07-08T11:49:03.829Z"
   },
   {
    "duration": 227,
    "start_time": "2021-07-08T11:49:03.838Z"
   },
   {
    "duration": 40,
    "start_time": "2021-07-08T11:49:04.066Z"
   },
   {
    "duration": 10,
    "start_time": "2021-07-08T11:49:04.108Z"
   },
   {
    "duration": 26,
    "start_time": "2021-07-08T11:49:04.121Z"
   },
   {
    "duration": 290,
    "start_time": "2021-07-08T11:49:04.149Z"
   },
   {
    "duration": 26,
    "start_time": "2021-07-08T11:49:04.441Z"
   },
   {
    "duration": 31,
    "start_time": "2021-07-08T11:49:04.470Z"
   },
   {
    "duration": 14,
    "start_time": "2021-07-08T11:49:04.503Z"
   },
   {
    "duration": 259,
    "start_time": "2021-07-08T11:49:04.521Z"
   },
   {
    "duration": 480,
    "start_time": "2021-07-08T11:49:04.782Z"
   },
   {
    "duration": 225,
    "start_time": "2021-07-08T11:49:05.264Z"
   },
   {
    "duration": 22,
    "start_time": "2021-07-08T11:49:05.491Z"
   },
   {
    "duration": 24,
    "start_time": "2021-07-08T11:49:05.515Z"
   },
   {
    "duration": 634,
    "start_time": "2021-07-08T11:52:24.960Z"
   },
   {
    "duration": 199,
    "start_time": "2021-07-08T11:52:25.599Z"
   },
   {
    "duration": 106,
    "start_time": "2021-07-08T11:52:25.803Z"
   },
   {
    "duration": 7,
    "start_time": "2021-07-08T11:52:25.911Z"
   },
   {
    "duration": 29,
    "start_time": "2021-07-08T11:52:25.920Z"
   },
   {
    "duration": 7,
    "start_time": "2021-07-08T11:52:25.951Z"
   },
   {
    "duration": 26,
    "start_time": "2021-07-08T11:52:25.961Z"
   },
   {
    "duration": 11,
    "start_time": "2021-07-08T11:52:25.990Z"
   },
   {
    "duration": 29,
    "start_time": "2021-07-08T11:52:26.005Z"
   },
   {
    "duration": 9,
    "start_time": "2021-07-08T11:52:26.036Z"
   },
   {
    "duration": 8,
    "start_time": "2021-07-08T11:52:26.047Z"
   },
   {
    "duration": 63,
    "start_time": "2021-07-08T11:52:26.057Z"
   },
   {
    "duration": 17,
    "start_time": "2021-07-08T11:52:26.122Z"
   },
   {
    "duration": 43,
    "start_time": "2021-07-08T11:52:26.142Z"
   },
   {
    "duration": 17,
    "start_time": "2021-07-08T11:52:26.187Z"
   },
   {
    "duration": 5,
    "start_time": "2021-07-08T11:52:26.206Z"
   },
   {
    "duration": 12,
    "start_time": "2021-07-08T11:52:26.212Z"
   },
   {
    "duration": 11,
    "start_time": "2021-07-08T11:52:26.226Z"
   },
   {
    "duration": 12,
    "start_time": "2021-07-08T11:52:26.238Z"
   },
   {
    "duration": 38,
    "start_time": "2021-07-08T11:52:26.252Z"
   },
   {
    "duration": 40,
    "start_time": "2021-07-08T11:52:26.292Z"
   },
   {
    "duration": 17,
    "start_time": "2021-07-08T11:52:26.336Z"
   },
   {
    "duration": 39,
    "start_time": "2021-07-08T11:52:26.355Z"
   },
   {
    "duration": 11,
    "start_time": "2021-07-08T11:52:26.395Z"
   },
   {
    "duration": 23,
    "start_time": "2021-07-08T11:52:26.408Z"
   },
   {
    "duration": 12,
    "start_time": "2021-07-08T11:52:26.432Z"
   },
   {
    "duration": 41,
    "start_time": "2021-07-08T11:52:26.446Z"
   },
   {
    "duration": 215,
    "start_time": "2021-07-08T11:52:26.493Z"
   },
   {
    "duration": 8,
    "start_time": "2021-07-08T11:52:26.710Z"
   },
   {
    "duration": 228,
    "start_time": "2021-07-08T11:52:26.720Z"
   },
   {
    "duration": 18,
    "start_time": "2021-07-08T11:52:26.950Z"
   },
   {
    "duration": 35,
    "start_time": "2021-07-08T11:52:26.969Z"
   },
   {
    "duration": 23,
    "start_time": "2021-07-08T11:52:27.006Z"
   },
   {
    "duration": 258,
    "start_time": "2021-07-08T11:52:27.030Z"
   },
   {
    "duration": 24,
    "start_time": "2021-07-08T11:52:27.290Z"
   },
   {
    "duration": 12,
    "start_time": "2021-07-08T11:52:27.316Z"
   },
   {
    "duration": 10,
    "start_time": "2021-07-08T11:52:27.329Z"
   },
   {
    "duration": 298,
    "start_time": "2021-07-08T11:52:27.341Z"
   },
   {
    "duration": 436,
    "start_time": "2021-07-08T11:52:27.641Z"
   },
   {
    "duration": 216,
    "start_time": "2021-07-08T11:52:28.079Z"
   },
   {
    "duration": 20,
    "start_time": "2021-07-08T11:52:28.297Z"
   },
   {
    "duration": 17,
    "start_time": "2021-07-08T11:52:28.319Z"
   },
   {
    "duration": 1465,
    "start_time": "2021-08-15T07:51:59.418Z"
   },
   {
    "duration": 123,
    "start_time": "2021-08-15T07:53:32.459Z"
   },
   {
    "duration": 38,
    "start_time": "2021-08-15T07:53:36.731Z"
   },
   {
    "duration": 13,
    "start_time": "2021-08-15T07:53:45.405Z"
   },
   {
    "duration": 398,
    "start_time": "2021-08-15T07:56:55.810Z"
   },
   {
    "duration": 117,
    "start_time": "2021-08-15T07:56:57.791Z"
   },
   {
    "duration": 29,
    "start_time": "2021-08-15T07:56:58.070Z"
   },
   {
    "duration": 12,
    "start_time": "2021-08-15T07:56:59.121Z"
   },
   {
    "duration": 1096,
    "start_time": "2021-08-15T07:58:03.454Z"
   },
   {
    "duration": 301,
    "start_time": "2021-08-15T07:58:49.898Z"
   },
   {
    "duration": 19,
    "start_time": "2021-08-15T07:59:31.060Z"
   },
   {
    "duration": 8,
    "start_time": "2021-08-15T07:59:48.005Z"
   },
   {
    "duration": 19,
    "start_time": "2021-08-15T07:59:49.985Z"
   },
   {
    "duration": 8,
    "start_time": "2021-08-15T07:59:50.384Z"
   },
   {
    "duration": 1136,
    "start_time": "2021-08-15T08:01:19.147Z"
   },
   {
    "duration": 8,
    "start_time": "2021-08-15T08:01:41.313Z"
   },
   {
    "duration": 316,
    "start_time": "2021-08-15T08:02:01.039Z"
   },
   {
    "duration": 273,
    "start_time": "2021-08-15T08:02:04.717Z"
   },
   {
    "duration": 250,
    "start_time": "2021-08-15T08:02:09.326Z"
   },
   {
    "duration": 1772,
    "start_time": "2021-08-15T08:03:24.843Z"
   },
   {
    "duration": 12,
    "start_time": "2021-08-15T08:05:29.491Z"
   },
   {
    "duration": 266,
    "start_time": "2021-08-15T08:06:54.620Z"
   },
   {
    "duration": 1068,
    "start_time": "2021-08-15T08:07:16.333Z"
   },
   {
    "duration": 1044,
    "start_time": "2021-08-15T08:07:35.507Z"
   },
   {
    "duration": 8,
    "start_time": "2021-08-15T08:07:53.430Z"
   },
   {
    "duration": 9,
    "start_time": "2021-08-15T08:07:56.961Z"
   },
   {
    "duration": 7,
    "start_time": "2021-08-15T08:08:06.209Z"
   },
   {
    "duration": 9,
    "start_time": "2021-08-15T08:08:11.446Z"
   },
   {
    "duration": 130,
    "start_time": "2021-08-15T08:08:18.278Z"
   },
   {
    "duration": 30,
    "start_time": "2021-08-15T08:08:18.647Z"
   },
   {
    "duration": 16,
    "start_time": "2021-08-15T08:08:19.580Z"
   },
   {
    "duration": 12,
    "start_time": "2021-08-15T08:08:34.823Z"
   },
   {
    "duration": 15,
    "start_time": "2021-08-15T08:08:45.687Z"
   },
   {
    "duration": 8,
    "start_time": "2021-08-15T08:08:46.795Z"
   },
   {
    "duration": 3272,
    "start_time": "2021-08-15T08:09:11.567Z"
   },
   {
    "duration": 3397,
    "start_time": "2021-08-15T08:09:28.233Z"
   },
   {
    "duration": 3323,
    "start_time": "2021-08-15T08:09:46.315Z"
   },
   {
    "duration": 3313,
    "start_time": "2021-08-15T08:10:18.895Z"
   },
   {
    "duration": 3324,
    "start_time": "2021-08-15T08:11:19.187Z"
   },
   {
    "duration": 3345,
    "start_time": "2021-08-15T08:11:31.022Z"
   },
   {
    "duration": 1395,
    "start_time": "2021-08-15T08:11:48.673Z"
   },
   {
    "duration": 159,
    "start_time": "2021-08-15T08:11:51.148Z"
   },
   {
    "duration": 36,
    "start_time": "2021-08-15T08:11:51.835Z"
   },
   {
    "duration": 13,
    "start_time": "2021-08-15T08:11:52.274Z"
   },
   {
    "duration": 16,
    "start_time": "2021-08-15T08:11:53.432Z"
   },
   {
    "duration": 9,
    "start_time": "2021-08-15T08:11:55.568Z"
   },
   {
    "duration": 11,
    "start_time": "2021-08-15T08:11:56.866Z"
   },
   {
    "duration": 7,
    "start_time": "2021-08-15T08:12:07.100Z"
   },
   {
    "duration": 4,
    "start_time": "2021-08-15T08:12:19.319Z"
   },
   {
    "duration": 127,
    "start_time": "2021-08-15T08:12:20.388Z"
   },
   {
    "duration": 30,
    "start_time": "2021-08-15T08:12:20.626Z"
   },
   {
    "duration": 12,
    "start_time": "2021-08-15T08:12:20.910Z"
   },
   {
    "duration": 14,
    "start_time": "2021-08-15T08:12:21.983Z"
   },
   {
    "duration": 9,
    "start_time": "2021-08-15T08:12:23.714Z"
   },
   {
    "duration": 13,
    "start_time": "2021-08-15T08:12:26.968Z"
   },
   {
    "duration": 421,
    "start_time": "2021-08-15T08:12:30.787Z"
   },
   {
    "duration": 8,
    "start_time": "2021-08-15T08:12:45.216Z"
   },
   {
    "duration": 9,
    "start_time": "2021-08-15T08:13:01.973Z"
   },
   {
    "duration": 307,
    "start_time": "2021-08-15T08:13:13.385Z"
   },
   {
    "duration": 34,
    "start_time": "2021-08-15T08:15:58.303Z"
   },
   {
    "duration": 53,
    "start_time": "2021-08-15T08:17:53.641Z"
   },
   {
    "duration": 1322,
    "start_time": "2021-08-15T08:18:46.141Z"
   },
   {
    "duration": 122,
    "start_time": "2021-08-15T08:18:48.503Z"
   },
   {
    "duration": 37,
    "start_time": "2021-08-15T08:18:48.877Z"
   },
   {
    "duration": 13,
    "start_time": "2021-08-15T08:18:49.317Z"
   },
   {
    "duration": 17,
    "start_time": "2021-08-15T08:18:50.598Z"
   },
   {
    "duration": 8,
    "start_time": "2021-08-15T08:18:52.277Z"
   },
   {
    "duration": 17,
    "start_time": "2021-08-15T08:18:53.550Z"
   },
   {
    "duration": 1406,
    "start_time": "2021-08-15T08:19:05.449Z"
   },
   {
    "duration": 121,
    "start_time": "2021-08-15T08:19:07.334Z"
   },
   {
    "duration": 40,
    "start_time": "2021-08-15T08:19:07.695Z"
   },
   {
    "duration": 15,
    "start_time": "2021-08-15T08:19:08.405Z"
   },
   {
    "duration": 17,
    "start_time": "2021-08-15T08:19:10.155Z"
   },
   {
    "duration": 7,
    "start_time": "2021-08-15T08:19:12.452Z"
   },
   {
    "duration": 14,
    "start_time": "2021-08-15T08:19:14.152Z"
   },
   {
    "duration": 48,
    "start_time": "2021-08-15T08:19:17.496Z"
   },
   {
    "duration": 24,
    "start_time": "2021-08-15T08:19:32.071Z"
   },
   {
    "duration": 17,
    "start_time": "2021-08-15T08:19:45.610Z"
   },
   {
    "duration": 53,
    "start_time": "2021-08-15T08:20:44.230Z"
   },
   {
    "duration": 1482,
    "start_time": "2021-08-15T08:22:11.879Z"
   },
   {
    "duration": 120,
    "start_time": "2021-08-15T08:22:13.364Z"
   },
   {
    "duration": 34,
    "start_time": "2021-08-15T08:22:13.490Z"
   },
   {
    "duration": 15,
    "start_time": "2021-08-15T08:22:13.526Z"
   },
   {
    "duration": 16,
    "start_time": "2021-08-15T08:22:13.543Z"
   },
   {
    "duration": 8,
    "start_time": "2021-08-15T08:22:13.562Z"
   },
   {
    "duration": 64,
    "start_time": "2021-08-15T08:22:13.573Z"
   },
   {
    "duration": 1338,
    "start_time": "2021-08-15T08:22:53.547Z"
   },
   {
    "duration": 109,
    "start_time": "2021-08-15T08:22:54.888Z"
   },
   {
    "duration": 35,
    "start_time": "2021-08-15T08:22:55.000Z"
   },
   {
    "duration": 12,
    "start_time": "2021-08-15T08:22:55.038Z"
   },
   {
    "duration": 48,
    "start_time": "2021-08-15T08:22:55.053Z"
   },
   {
    "duration": 10,
    "start_time": "2021-08-15T08:22:55.103Z"
   },
   {
    "duration": 29,
    "start_time": "2021-08-15T08:22:55.116Z"
   },
   {
    "duration": 17,
    "start_time": "2021-08-15T08:25:38.822Z"
   },
   {
    "duration": 36,
    "start_time": "2021-08-15T08:27:46.742Z"
   },
   {
    "duration": 27,
    "start_time": "2021-08-15T08:28:02.556Z"
   },
   {
    "duration": 155,
    "start_time": "2021-08-15T08:34:37.111Z"
   },
   {
    "duration": 7,
    "start_time": "2021-08-15T08:34:40.527Z"
   },
   {
    "duration": 8,
    "start_time": "2021-08-15T08:34:46.624Z"
   },
   {
    "duration": 14,
    "start_time": "2021-08-15T08:44:49.764Z"
   },
   {
    "duration": 396,
    "start_time": "2021-08-15T09:45:41.935Z"
   },
   {
    "duration": 24,
    "start_time": "2021-08-15T09:46:48.486Z"
   },
   {
    "duration": 7,
    "start_time": "2021-08-15T09:46:54.673Z"
   },
   {
    "duration": 7,
    "start_time": "2021-08-15T09:46:58.395Z"
   },
   {
    "duration": 37,
    "start_time": "2021-08-15T09:47:05.874Z"
   },
   {
    "duration": 12,
    "start_time": "2021-08-15T09:47:42.279Z"
   },
   {
    "duration": 16,
    "start_time": "2021-08-15T09:47:53.254Z"
   },
   {
    "duration": 14,
    "start_time": "2021-08-15T09:49:27.444Z"
   },
   {
    "duration": 6,
    "start_time": "2021-08-15T09:59:19.650Z"
   },
   {
    "duration": 5,
    "start_time": "2021-08-15T09:59:59.836Z"
   },
   {
    "duration": 22,
    "start_time": "2021-08-15T10:00:12.027Z"
   },
   {
    "duration": 7,
    "start_time": "2021-08-15T10:00:24.091Z"
   },
   {
    "duration": 34,
    "start_time": "2021-08-15T10:01:27.646Z"
   },
   {
    "duration": 9,
    "start_time": "2021-08-15T10:02:03.491Z"
   },
   {
    "duration": 93,
    "start_time": "2021-08-15T10:03:02.685Z"
   },
   {
    "duration": 85,
    "start_time": "2021-08-15T10:03:20.936Z"
   },
   {
    "duration": 292,
    "start_time": "2021-08-15T10:03:33.507Z"
   },
   {
    "duration": 292,
    "start_time": "2021-08-15T10:05:04.551Z"
   },
   {
    "duration": 420,
    "start_time": "2021-08-15T10:05:13.941Z"
   },
   {
    "duration": 36,
    "start_time": "2021-08-15T10:05:24.582Z"
   },
   {
    "duration": 38,
    "start_time": "2021-08-15T10:06:49.698Z"
   },
   {
    "duration": 19,
    "start_time": "2021-08-15T10:06:54.673Z"
   },
   {
    "duration": 14,
    "start_time": "2021-08-15T10:07:01.610Z"
   },
   {
    "duration": 14,
    "start_time": "2021-08-15T10:07:12.005Z"
   },
   {
    "duration": 6,
    "start_time": "2021-08-15T10:09:23.199Z"
   },
   {
    "duration": 5,
    "start_time": "2021-08-15T10:11:58.074Z"
   },
   {
    "duration": 12,
    "start_time": "2021-08-15T10:12:12.796Z"
   },
   {
    "duration": 1522,
    "start_time": "2021-08-15T10:12:27.467Z"
   },
   {
    "duration": 206,
    "start_time": "2021-08-15T10:12:28.993Z"
   },
   {
    "duration": 73,
    "start_time": "2021-08-15T10:12:29.216Z"
   },
   {
    "duration": 24,
    "start_time": "2021-08-15T10:12:29.295Z"
   },
   {
    "duration": 56,
    "start_time": "2021-08-15T10:12:29.323Z"
   },
   {
    "duration": 32,
    "start_time": "2021-08-15T10:12:29.383Z"
   },
   {
    "duration": 60,
    "start_time": "2021-08-15T10:12:29.419Z"
   },
   {
    "duration": 21,
    "start_time": "2021-08-15T10:12:29.483Z"
   },
   {
    "duration": 17,
    "start_time": "2021-08-15T10:12:29.508Z"
   },
   {
    "duration": 8,
    "start_time": "2021-08-15T10:12:29.527Z"
   },
   {
    "duration": 18,
    "start_time": "2021-08-15T10:12:29.538Z"
   },
   {
    "duration": 5,
    "start_time": "2021-08-15T10:12:29.559Z"
   },
   {
    "duration": 41,
    "start_time": "2021-08-15T10:12:29.567Z"
   },
   {
    "duration": 10,
    "start_time": "2021-08-15T10:12:29.610Z"
   },
   {
    "duration": 455,
    "start_time": "2021-08-15T10:14:27.333Z"
   },
   {
    "duration": 12,
    "start_time": "2021-08-15T10:14:32.448Z"
   },
   {
    "duration": 113,
    "start_time": "2021-08-15T10:15:25.224Z"
   },
   {
    "duration": 24,
    "start_time": "2021-08-15T10:15:28.906Z"
   },
   {
    "duration": 18,
    "start_time": "2021-08-15T10:22:01.342Z"
   },
   {
    "duration": 24,
    "start_time": "2021-08-15T10:22:12.092Z"
   },
   {
    "duration": 6,
    "start_time": "2021-08-15T10:24:03.654Z"
   },
   {
    "duration": 12,
    "start_time": "2021-08-15T10:25:43.577Z"
   },
   {
    "duration": 29,
    "start_time": "2021-08-15T10:26:37.667Z"
   },
   {
    "duration": 1534,
    "start_time": "2021-08-15T10:28:12.067Z"
   },
   {
    "duration": 156,
    "start_time": "2021-08-15T10:28:13.604Z"
   },
   {
    "duration": 34,
    "start_time": "2021-08-15T10:28:13.763Z"
   },
   {
    "duration": 15,
    "start_time": "2021-08-15T10:28:13.800Z"
   },
   {
    "duration": 20,
    "start_time": "2021-08-15T10:28:13.817Z"
   },
   {
    "duration": 9,
    "start_time": "2021-08-15T10:28:13.840Z"
   },
   {
    "duration": 66,
    "start_time": "2021-08-15T10:28:13.852Z"
   },
   {
    "duration": 18,
    "start_time": "2021-08-15T10:28:13.921Z"
   },
   {
    "duration": 18,
    "start_time": "2021-08-15T10:28:13.944Z"
   },
   {
    "duration": 41,
    "start_time": "2021-08-15T10:28:13.964Z"
   },
   {
    "duration": 12,
    "start_time": "2021-08-15T10:28:14.008Z"
   },
   {
    "duration": 6,
    "start_time": "2021-08-15T10:28:14.022Z"
   },
   {
    "duration": 5,
    "start_time": "2021-08-15T10:28:16.768Z"
   },
   {
    "duration": 12,
    "start_time": "2021-08-15T10:28:18.243Z"
   },
   {
    "duration": 33,
    "start_time": "2021-08-15T10:28:51.500Z"
   },
   {
    "duration": 12,
    "start_time": "2021-08-15T10:28:53.027Z"
   },
   {
    "duration": 33,
    "start_time": "2021-08-15T10:28:53.366Z"
   },
   {
    "duration": 5,
    "start_time": "2021-08-15T10:36:10.695Z"
   },
   {
    "duration": 11,
    "start_time": "2021-08-15T10:36:13.118Z"
   },
   {
    "duration": 24,
    "start_time": "2021-08-15T10:36:13.840Z"
   },
   {
    "duration": 6,
    "start_time": "2021-08-15T10:36:17.709Z"
   },
   {
    "duration": 12,
    "start_time": "2021-08-15T10:36:19.430Z"
   },
   {
    "duration": 28,
    "start_time": "2021-08-15T10:36:22.730Z"
   },
   {
    "duration": 1398,
    "start_time": "2021-08-15T10:38:32.056Z"
   },
   {
    "duration": 141,
    "start_time": "2021-08-15T10:38:33.457Z"
   },
   {
    "duration": 35,
    "start_time": "2021-08-15T10:38:33.601Z"
   },
   {
    "duration": 15,
    "start_time": "2021-08-15T10:38:33.638Z"
   },
   {
    "duration": 16,
    "start_time": "2021-08-15T10:38:33.656Z"
   },
   {
    "duration": 8,
    "start_time": "2021-08-15T10:38:33.701Z"
   },
   {
    "duration": 30,
    "start_time": "2021-08-15T10:38:33.712Z"
   },
   {
    "duration": 16,
    "start_time": "2021-08-15T10:38:33.745Z"
   },
   {
    "duration": 47,
    "start_time": "2021-08-15T10:38:33.764Z"
   },
   {
    "duration": 404,
    "start_time": "2021-08-15T10:38:33.814Z"
   },
   {
    "duration": -251,
    "start_time": "2021-08-15T10:38:34.471Z"
   },
   {
    "duration": -266,
    "start_time": "2021-08-15T10:38:34.487Z"
   },
   {
    "duration": -266,
    "start_time": "2021-08-15T10:38:34.489Z"
   },
   {
    "duration": -266,
    "start_time": "2021-08-15T10:38:34.490Z"
   },
   {
    "duration": -265,
    "start_time": "2021-08-15T10:38:34.491Z"
   },
   {
    "duration": -266,
    "start_time": "2021-08-15T10:38:34.493Z"
   },
   {
    "duration": -266,
    "start_time": "2021-08-15T10:38:34.494Z"
   },
   {
    "duration": -266,
    "start_time": "2021-08-15T10:38:34.496Z"
   },
   {
    "duration": -266,
    "start_time": "2021-08-15T10:38:34.497Z"
   },
   {
    "duration": -266,
    "start_time": "2021-08-15T10:38:34.498Z"
   },
   {
    "duration": 5,
    "start_time": "2021-08-15T10:38:51.697Z"
   },
   {
    "duration": 308,
    "start_time": "2021-08-15T10:39:14.981Z"
   },
   {
    "duration": 1362,
    "start_time": "2021-08-15T10:39:48.208Z"
   },
   {
    "duration": 131,
    "start_time": "2021-08-15T10:39:49.573Z"
   },
   {
    "duration": 35,
    "start_time": "2021-08-15T10:39:49.707Z"
   },
   {
    "duration": 17,
    "start_time": "2021-08-15T10:39:49.745Z"
   },
   {
    "duration": 37,
    "start_time": "2021-08-15T10:39:49.765Z"
   },
   {
    "duration": 8,
    "start_time": "2021-08-15T10:39:49.805Z"
   },
   {
    "duration": 29,
    "start_time": "2021-08-15T10:39:49.815Z"
   },
   {
    "duration": 15,
    "start_time": "2021-08-15T10:39:49.848Z"
   },
   {
    "duration": 47,
    "start_time": "2021-08-15T10:39:49.866Z"
   },
   {
    "duration": 7,
    "start_time": "2021-08-15T10:39:49.915Z"
   },
   {
    "duration": 17,
    "start_time": "2021-08-15T10:39:49.924Z"
   },
   {
    "duration": 4,
    "start_time": "2021-08-15T10:39:49.944Z"
   },
   {
    "duration": 15,
    "start_time": "2021-08-15T10:39:49.950Z"
   },
   {
    "duration": 66,
    "start_time": "2021-08-15T10:39:49.967Z"
   },
   {
    "duration": 9,
    "start_time": "2021-08-15T10:39:50.035Z"
   },
   {
    "duration": 13,
    "start_time": "2021-08-15T10:39:50.046Z"
   },
   {
    "duration": 54,
    "start_time": "2021-08-15T10:39:50.061Z"
   },
   {
    "duration": 10,
    "start_time": "2021-08-15T10:39:50.118Z"
   },
   {
    "duration": 17,
    "start_time": "2021-08-15T10:39:50.130Z"
   },
   {
    "duration": 40,
    "start_time": "2021-08-15T10:39:50.149Z"
   },
   {
    "duration": 426,
    "start_time": "2021-08-15T10:40:08.115Z"
   },
   {
    "duration": 14,
    "start_time": "2021-08-15T10:41:41.816Z"
   },
   {
    "duration": 11,
    "start_time": "2021-08-15T10:41:57.687Z"
   },
   {
    "duration": 29,
    "start_time": "2021-08-15T10:42:19.664Z"
   },
   {
    "duration": 1413,
    "start_time": "2021-08-15T10:42:24.459Z"
   },
   {
    "duration": 122,
    "start_time": "2021-08-15T10:42:25.875Z"
   },
   {
    "duration": 41,
    "start_time": "2021-08-15T10:42:26.001Z"
   },
   {
    "duration": 15,
    "start_time": "2021-08-15T10:42:26.044Z"
   },
   {
    "duration": 41,
    "start_time": "2021-08-15T10:42:26.061Z"
   },
   {
    "duration": 8,
    "start_time": "2021-08-15T10:42:26.105Z"
   },
   {
    "duration": 44,
    "start_time": "2021-08-15T10:42:26.115Z"
   },
   {
    "duration": 42,
    "start_time": "2021-08-15T10:42:26.161Z"
   },
   {
    "duration": 16,
    "start_time": "2021-08-15T10:42:26.207Z"
   },
   {
    "duration": 9,
    "start_time": "2021-08-15T10:42:26.227Z"
   },
   {
    "duration": 15,
    "start_time": "2021-08-15T10:42:26.238Z"
   },
   {
    "duration": 5,
    "start_time": "2021-08-15T10:42:26.255Z"
   },
   {
    "duration": 50,
    "start_time": "2021-08-15T10:42:26.262Z"
   },
   {
    "duration": 34,
    "start_time": "2021-08-15T10:42:26.314Z"
   },
   {
    "duration": 9,
    "start_time": "2021-08-15T10:42:26.350Z"
   },
   {
    "duration": 44,
    "start_time": "2021-08-15T10:42:26.362Z"
   },
   {
    "duration": 23,
    "start_time": "2021-08-15T10:42:26.409Z"
   },
   {
    "duration": 8,
    "start_time": "2021-08-15T10:42:26.434Z"
   },
   {
    "duration": 12,
    "start_time": "2021-08-15T10:42:26.444Z"
   },
   {
    "duration": 59,
    "start_time": "2021-08-15T10:42:26.459Z"
   },
   {
    "duration": 1427,
    "start_time": "2021-08-15T10:43:17.147Z"
   },
   {
    "duration": 124,
    "start_time": "2021-08-15T10:43:18.577Z"
   },
   {
    "duration": 37,
    "start_time": "2021-08-15T10:43:18.704Z"
   },
   {
    "duration": 13,
    "start_time": "2021-08-15T10:43:18.743Z"
   },
   {
    "duration": 43,
    "start_time": "2021-08-15T10:43:18.759Z"
   },
   {
    "duration": 8,
    "start_time": "2021-08-15T10:43:18.805Z"
   },
   {
    "duration": 35,
    "start_time": "2021-08-15T10:43:18.815Z"
   },
   {
    "duration": 49,
    "start_time": "2021-08-15T10:43:18.853Z"
   },
   {
    "duration": 16,
    "start_time": "2021-08-15T10:43:18.905Z"
   },
   {
    "duration": 8,
    "start_time": "2021-08-15T10:43:18.923Z"
   },
   {
    "duration": 15,
    "start_time": "2021-08-15T10:43:18.933Z"
   },
   {
    "duration": 5,
    "start_time": "2021-08-15T10:43:18.951Z"
   },
   {
    "duration": 51,
    "start_time": "2021-08-15T10:43:18.958Z"
   },
   {
    "duration": 43,
    "start_time": "2021-08-15T10:43:19.012Z"
   },
   {
    "duration": 10,
    "start_time": "2021-08-15T10:43:19.058Z"
   },
   {
    "duration": 38,
    "start_time": "2021-08-15T10:43:19.070Z"
   },
   {
    "duration": 24,
    "start_time": "2021-08-15T10:43:19.111Z"
   },
   {
    "duration": 11,
    "start_time": "2021-08-15T10:43:19.137Z"
   },
   {
    "duration": 20,
    "start_time": "2021-08-15T10:43:19.150Z"
   },
   {
    "duration": 48,
    "start_time": "2021-08-15T10:43:19.172Z"
   },
   {
    "duration": 1384,
    "start_time": "2021-08-15T10:44:30.395Z"
   },
   {
    "duration": 122,
    "start_time": "2021-08-15T10:44:32.649Z"
   },
   {
    "duration": 39,
    "start_time": "2021-08-15T10:44:32.982Z"
   },
   {
    "duration": 14,
    "start_time": "2021-08-15T10:44:33.287Z"
   },
   {
    "duration": 15,
    "start_time": "2021-08-15T10:44:37.418Z"
   },
   {
    "duration": 8,
    "start_time": "2021-08-15T10:44:38.224Z"
   },
   {
    "duration": 43,
    "start_time": "2021-08-15T10:44:41.018Z"
   },
   {
    "duration": 33,
    "start_time": "2021-08-15T10:44:48.207Z"
   },
   {
    "duration": 39,
    "start_time": "2021-08-15T10:44:56.665Z"
   },
   {
    "duration": 404,
    "start_time": "2021-08-15T10:45:18.371Z"
   },
   {
    "duration": 9,
    "start_time": "2021-08-15T10:45:38.223Z"
   },
   {
    "duration": 8,
    "start_time": "2021-08-15T10:45:44.093Z"
   },
   {
    "duration": 27,
    "start_time": "2021-08-15T10:46:49.767Z"
   },
   {
    "duration": 321,
    "start_time": "2021-08-15T10:50:26.639Z"
   },
   {
    "duration": 1539,
    "start_time": "2021-08-15T10:50:30.339Z"
   },
   {
    "duration": 114,
    "start_time": "2021-08-15T10:50:31.880Z"
   },
   {
    "duration": 36,
    "start_time": "2021-08-15T10:50:31.997Z"
   },
   {
    "duration": 14,
    "start_time": "2021-08-15T10:50:32.825Z"
   },
   {
    "duration": 16,
    "start_time": "2021-08-15T10:50:33.752Z"
   },
   {
    "duration": 8,
    "start_time": "2021-08-15T10:50:35.237Z"
   },
   {
    "duration": 33,
    "start_time": "2021-08-15T10:50:37.619Z"
   },
   {
    "duration": 11,
    "start_time": "2021-08-15T10:51:20.716Z"
   },
   {
    "duration": 17,
    "start_time": "2021-08-15T10:53:27.969Z"
   },
   {
    "duration": 1473,
    "start_time": "2021-08-15T10:54:16.452Z"
   },
   {
    "duration": 134,
    "start_time": "2021-08-15T10:54:18.493Z"
   },
   {
    "duration": 37,
    "start_time": "2021-08-15T10:54:18.960Z"
   },
   {
    "duration": 14,
    "start_time": "2021-08-15T10:54:19.223Z"
   },
   {
    "duration": 17,
    "start_time": "2021-08-15T10:54:23.970Z"
   },
   {
    "duration": 8,
    "start_time": "2021-08-15T10:54:24.215Z"
   },
   {
    "duration": 9,
    "start_time": "2021-08-15T10:54:34.147Z"
   },
   {
    "duration": 25,
    "start_time": "2021-08-15T10:55:08.503Z"
   },
   {
    "duration": 11,
    "start_time": "2021-08-15T10:58:06.947Z"
   },
   {
    "duration": 13,
    "start_time": "2021-08-15T10:58:21.860Z"
   },
   {
    "duration": 10,
    "start_time": "2021-08-15T10:58:35.861Z"
   },
   {
    "duration": 11,
    "start_time": "2021-08-15T10:58:38.287Z"
   },
   {
    "duration": 18,
    "start_time": "2021-08-15T11:02:13.322Z"
   },
   {
    "duration": 387,
    "start_time": "2021-08-15T11:05:14.088Z"
   },
   {
    "duration": 272,
    "start_time": "2021-08-15T11:06:33.046Z"
   },
   {
    "duration": 12,
    "start_time": "2021-08-15T11:07:10.867Z"
   },
   {
    "duration": 1038,
    "start_time": "2021-08-15T11:07:19.598Z"
   },
   {
    "duration": 1462,
    "start_time": "2021-08-15T11:07:37.206Z"
   },
   {
    "duration": 149,
    "start_time": "2021-08-15T11:07:38.671Z"
   },
   {
    "duration": 34,
    "start_time": "2021-08-15T11:07:38.823Z"
   },
   {
    "duration": 12,
    "start_time": "2021-08-15T11:07:38.860Z"
   },
   {
    "duration": 27,
    "start_time": "2021-08-15T11:07:38.875Z"
   },
   {
    "duration": 15,
    "start_time": "2021-08-15T11:07:38.905Z"
   },
   {
    "duration": 1164,
    "start_time": "2021-08-15T11:07:38.923Z"
   },
   {
    "duration": -567,
    "start_time": "2021-08-15T11:07:40.657Z"
   },
   {
    "duration": -566,
    "start_time": "2021-08-15T11:07:40.658Z"
   },
   {
    "duration": -570,
    "start_time": "2021-08-15T11:07:40.663Z"
   },
   {
    "duration": -569,
    "start_time": "2021-08-15T11:07:40.664Z"
   },
   {
    "duration": -568,
    "start_time": "2021-08-15T11:07:40.665Z"
   },
   {
    "duration": -591,
    "start_time": "2021-08-15T11:07:40.690Z"
   },
   {
    "duration": -591,
    "start_time": "2021-08-15T11:07:40.691Z"
   },
   {
    "duration": -593,
    "start_time": "2021-08-15T11:07:40.694Z"
   },
   {
    "duration": -592,
    "start_time": "2021-08-15T11:07:40.695Z"
   },
   {
    "duration": -591,
    "start_time": "2021-08-15T11:07:40.696Z"
   },
   {
    "duration": -591,
    "start_time": "2021-08-15T11:07:40.697Z"
   },
   {
    "duration": -590,
    "start_time": "2021-08-15T11:07:40.698Z"
   },
   {
    "duration": -589,
    "start_time": "2021-08-15T11:07:40.699Z"
   },
   {
    "duration": 4,
    "start_time": "2021-08-15T11:07:50.612Z"
   },
   {
    "duration": 5,
    "start_time": "2021-08-15T11:10:31.750Z"
   },
   {
    "duration": 1015,
    "start_time": "2021-08-15T11:10:34.906Z"
   },
   {
    "duration": 33,
    "start_time": "2021-08-15T11:14:24.155Z"
   },
   {
    "duration": 23,
    "start_time": "2021-08-15T11:14:46.557Z"
   },
   {
    "duration": 39,
    "start_time": "2021-08-15T11:14:55.694Z"
   },
   {
    "duration": 9,
    "start_time": "2021-08-15T11:15:09.105Z"
   },
   {
    "duration": 17,
    "start_time": "2021-08-15T11:15:53.554Z"
   },
   {
    "duration": 1015,
    "start_time": "2021-08-15T11:16:05.060Z"
   },
   {
    "duration": 99,
    "start_time": "2021-08-15T11:19:08.438Z"
   },
   {
    "duration": 370,
    "start_time": "2021-08-15T11:19:12.801Z"
   },
   {
    "duration": 17,
    "start_time": "2021-08-15T11:21:49.992Z"
   },
   {
    "duration": 5,
    "start_time": "2021-08-15T11:21:54.137Z"
   },
   {
    "duration": 290,
    "start_time": "2021-08-15T11:22:21.144Z"
   },
   {
    "duration": 22,
    "start_time": "2021-08-15T11:22:31.893Z"
   },
   {
    "duration": 1408,
    "start_time": "2021-08-15T11:22:38.158Z"
   },
   {
    "duration": 152,
    "start_time": "2021-08-15T11:22:39.569Z"
   },
   {
    "duration": 39,
    "start_time": "2021-08-15T11:22:39.730Z"
   },
   {
    "duration": 28,
    "start_time": "2021-08-15T11:22:39.772Z"
   },
   {
    "duration": 18,
    "start_time": "2021-08-15T11:22:39.803Z"
   },
   {
    "duration": 8,
    "start_time": "2021-08-15T11:22:39.824Z"
   },
   {
    "duration": 66,
    "start_time": "2021-08-15T11:22:39.835Z"
   },
   {
    "duration": 20,
    "start_time": "2021-08-15T11:22:39.906Z"
   },
   {
    "duration": 19,
    "start_time": "2021-08-15T11:22:39.929Z"
   },
   {
    "duration": 9,
    "start_time": "2021-08-15T11:22:39.950Z"
   },
   {
    "duration": 59,
    "start_time": "2021-08-15T11:22:39.962Z"
   },
   {
    "duration": 9,
    "start_time": "2021-08-15T11:22:40.025Z"
   },
   {
    "duration": 22,
    "start_time": "2021-08-15T11:22:40.036Z"
   },
   {
    "duration": 57,
    "start_time": "2021-08-15T11:22:40.061Z"
   },
   {
    "duration": 7,
    "start_time": "2021-08-15T11:22:40.120Z"
   },
   {
    "duration": 20,
    "start_time": "2021-08-15T11:22:40.129Z"
   },
   {
    "duration": 24,
    "start_time": "2021-08-15T11:22:40.151Z"
   },
   {
    "duration": 6,
    "start_time": "2021-08-15T11:22:40.200Z"
   },
   {
    "duration": 17,
    "start_time": "2021-08-15T11:22:40.209Z"
   },
   {
    "duration": 32,
    "start_time": "2021-08-15T11:22:40.228Z"
   },
   {
    "duration": 11,
    "start_time": "2021-08-15T11:25:48.697Z"
   },
   {
    "duration": 17,
    "start_time": "2021-08-15T11:25:55.826Z"
   },
   {
    "duration": 1357,
    "start_time": "2021-08-15T11:26:53.318Z"
   },
   {
    "duration": 129,
    "start_time": "2021-08-15T11:26:54.677Z"
   },
   {
    "duration": 36,
    "start_time": "2021-08-15T11:26:54.809Z"
   },
   {
    "duration": 12,
    "start_time": "2021-08-15T11:26:54.848Z"
   },
   {
    "duration": 41,
    "start_time": "2021-08-15T11:26:54.862Z"
   },
   {
    "duration": 7,
    "start_time": "2021-08-15T11:26:54.905Z"
   },
   {
    "duration": 30,
    "start_time": "2021-08-15T11:26:54.914Z"
   },
   {
    "duration": 14,
    "start_time": "2021-08-15T11:26:54.948Z"
   },
   {
    "duration": 39,
    "start_time": "2021-08-15T11:26:54.965Z"
   },
   {
    "duration": 7,
    "start_time": "2021-08-15T11:26:55.007Z"
   },
   {
    "duration": 12,
    "start_time": "2021-08-15T11:26:55.017Z"
   },
   {
    "duration": 12,
    "start_time": "2021-08-15T11:26:55.031Z"
   },
   {
    "duration": 4,
    "start_time": "2021-08-15T11:26:55.045Z"
   },
   {
    "duration": 56,
    "start_time": "2021-08-15T11:26:55.052Z"
   },
   {
    "duration": 36,
    "start_time": "2021-08-15T11:26:55.111Z"
   },
   {
    "duration": 10,
    "start_time": "2021-08-15T11:26:55.149Z"
   },
   {
    "duration": 48,
    "start_time": "2021-08-15T11:26:55.161Z"
   },
   {
    "duration": 26,
    "start_time": "2021-08-15T11:26:55.211Z"
   },
   {
    "duration": 12,
    "start_time": "2021-08-15T11:26:55.239Z"
   },
   {
    "duration": 18,
    "start_time": "2021-08-15T11:26:55.253Z"
   },
   {
    "duration": 54,
    "start_time": "2021-08-15T11:26:55.273Z"
   },
   {
    "duration": 5,
    "start_time": "2021-08-15T11:30:31.731Z"
   },
   {
    "duration": 14,
    "start_time": "2021-08-15T11:46:20.639Z"
   },
   {
    "duration": 388,
    "start_time": "2021-08-15T11:49:34.157Z"
   },
   {
    "duration": 17,
    "start_time": "2021-08-15T11:49:43.584Z"
   },
   {
    "duration": 34,
    "start_time": "2021-08-15T11:50:20.985Z"
   },
   {
    "duration": 15,
    "start_time": "2021-08-15T11:50:45.156Z"
   },
   {
    "duration": 285,
    "start_time": "2021-08-15T11:51:25.062Z"
   },
   {
    "duration": 289,
    "start_time": "2021-08-15T11:51:29.870Z"
   },
   {
    "duration": 15,
    "start_time": "2021-08-15T11:51:36.444Z"
   },
   {
    "duration": 13,
    "start_time": "2021-08-15T11:51:43.083Z"
   },
   {
    "duration": 268,
    "start_time": "2021-08-15T11:55:28.978Z"
   },
   {
    "duration": 31,
    "start_time": "2021-08-15T11:55:37.852Z"
   },
   {
    "duration": 134,
    "start_time": "2021-08-15T11:55:46.390Z"
   },
   {
    "duration": 151,
    "start_time": "2021-08-15T11:56:36.351Z"
   },
   {
    "duration": 3,
    "start_time": "2021-08-15T12:00:02.658Z"
   },
   {
    "duration": 4,
    "start_time": "2021-08-15T12:00:42.214Z"
   },
   {
    "duration": 6,
    "start_time": "2021-08-15T12:01:01.887Z"
   },
   {
    "duration": 27,
    "start_time": "2021-08-15T12:02:55.183Z"
   },
   {
    "duration": 136,
    "start_time": "2021-08-15T12:03:19.802Z"
   },
   {
    "duration": 134,
    "start_time": "2021-08-15T12:07:06.771Z"
   },
   {
    "duration": 145,
    "start_time": "2021-08-15T12:07:14.802Z"
   },
   {
    "duration": 12,
    "start_time": "2021-08-15T13:08:43.735Z"
   },
   {
    "duration": -15,
    "start_time": "2021-08-15T13:11:22.283Z"
   },
   {
    "duration": 14,
    "start_time": "2021-08-15T13:11:26.623Z"
   },
   {
    "duration": 6,
    "start_time": "2021-08-15T13:12:29.739Z"
   },
   {
    "duration": 13,
    "start_time": "2021-08-15T13:12:31.204Z"
   },
   {
    "duration": 14,
    "start_time": "2021-08-15T13:16:31.976Z"
   },
   {
    "duration": 51,
    "start_time": "2021-08-15T13:19:34.496Z"
   },
   {
    "duration": 8,
    "start_time": "2021-08-15T13:23:36.627Z"
   },
   {
    "duration": 11,
    "start_time": "2021-08-15T13:23:57.171Z"
   },
   {
    "duration": 9,
    "start_time": "2021-08-15T13:24:01.396Z"
   },
   {
    "duration": 28,
    "start_time": "2021-08-15T13:24:33.539Z"
   },
   {
    "duration": 53,
    "start_time": "2021-08-15T13:26:53.535Z"
   },
   {
    "duration": 337,
    "start_time": "2021-08-15T18:58:13.777Z"
   },
   {
    "duration": 1523,
    "start_time": "2021-08-15T18:58:28.712Z"
   },
   {
    "duration": 115,
    "start_time": "2021-08-15T18:58:30.238Z"
   },
   {
    "duration": 38,
    "start_time": "2021-08-15T18:58:30.359Z"
   },
   {
    "duration": 13,
    "start_time": "2021-08-15T18:58:30.399Z"
   },
   {
    "duration": 46,
    "start_time": "2021-08-15T18:58:30.415Z"
   },
   {
    "duration": 8,
    "start_time": "2021-08-15T18:58:30.464Z"
   },
   {
    "duration": 36,
    "start_time": "2021-08-15T18:58:30.476Z"
   },
   {
    "duration": 17,
    "start_time": "2021-08-15T18:58:30.515Z"
   },
   {
    "duration": 18,
    "start_time": "2021-08-15T18:58:30.554Z"
   },
   {
    "duration": 13,
    "start_time": "2021-08-15T18:58:30.574Z"
   },
   {
    "duration": 35,
    "start_time": "2021-08-15T18:58:30.590Z"
   },
   {
    "duration": 33,
    "start_time": "2021-08-15T18:58:30.627Z"
   },
   {
    "duration": 13,
    "start_time": "2021-08-15T18:58:30.663Z"
   },
   {
    "duration": 41,
    "start_time": "2021-08-15T18:58:30.679Z"
   },
   {
    "duration": 43,
    "start_time": "2021-08-15T18:58:30.722Z"
   },
   {
    "duration": 14,
    "start_time": "2021-08-15T18:58:30.767Z"
   },
   {
    "duration": 23,
    "start_time": "2021-08-15T18:58:30.783Z"
   },
   {
    "duration": 34,
    "start_time": "2021-08-15T18:58:30.808Z"
   },
   {
    "duration": 11,
    "start_time": "2021-08-15T18:58:30.855Z"
   },
   {
    "duration": 21,
    "start_time": "2021-08-15T18:58:30.868Z"
   },
   {
    "duration": 47,
    "start_time": "2021-08-15T18:58:30.891Z"
   },
   {
    "duration": 27,
    "start_time": "2021-08-15T18:58:30.943Z"
   },
   {
    "duration": 25,
    "start_time": "2021-08-15T18:58:30.973Z"
   },
   {
    "duration": 3,
    "start_time": "2021-08-15T18:58:31.000Z"
   },
   {
    "duration": 29,
    "start_time": "2021-08-15T18:58:31.005Z"
   },
   {
    "duration": 48,
    "start_time": "2021-08-15T18:58:31.037Z"
   },
   {
    "duration": 132,
    "start_time": "2021-08-15T18:58:31.088Z"
   },
   {
    "duration": 42,
    "start_time": "2021-08-15T18:58:31.222Z"
   },
   {
    "duration": 40,
    "start_time": "2021-08-15T18:58:31.266Z"
   },
   {
    "duration": 8,
    "start_time": "2021-08-15T18:58:31.308Z"
   },
   {
    "duration": 34,
    "start_time": "2021-08-15T18:58:31.319Z"
   },
   {
    "duration": 37,
    "start_time": "2021-08-15T18:58:31.357Z"
   },
   {
    "duration": 7,
    "start_time": "2021-08-15T18:58:31.397Z"
   },
   {
    "duration": 81,
    "start_time": "2021-08-15T18:58:31.407Z"
   },
   {
    "duration": 14882,
    "start_time": "2021-08-15T18:58:31.490Z"
   },
   {
    "duration": 10,
    "start_time": "2021-08-15T19:05:24.658Z"
   },
   {
    "duration": 11,
    "start_time": "2021-08-15T19:05:29.093Z"
   },
   {
    "duration": 26,
    "start_time": "2021-08-15T19:05:54.413Z"
   },
   {
    "duration": 383,
    "start_time": "2021-08-15T19:06:39.807Z"
   },
   {
    "duration": 15,
    "start_time": "2021-08-15T19:06:43.705Z"
   },
   {
    "duration": 46,
    "start_time": "2021-08-15T19:07:30.040Z"
   },
   {
    "duration": 18,
    "start_time": "2021-08-15T19:07:51.122Z"
   },
   {
    "duration": 20,
    "start_time": "2021-08-15T19:08:39.995Z"
   },
   {
    "duration": 7,
    "start_time": "2021-08-15T20:35:49.758Z"
   },
   {
    "duration": 7,
    "start_time": "2021-08-15T20:59:03.738Z"
   },
   {
    "duration": 7,
    "start_time": "2021-08-15T20:59:09.665Z"
   },
   {
    "duration": 15,
    "start_time": "2021-08-15T21:00:06.311Z"
   },
   {
    "duration": 12,
    "start_time": "2021-08-15T21:02:04.744Z"
   },
   {
    "duration": 260,
    "start_time": "2021-08-15T21:17:40.391Z"
   },
   {
    "duration": 268,
    "start_time": "2021-08-15T21:17:55.158Z"
   },
   {
    "duration": 276,
    "start_time": "2021-08-15T21:18:16.609Z"
   },
   {
    "duration": 25,
    "start_time": "2021-08-15T21:18:24.890Z"
   },
   {
    "duration": 252,
    "start_time": "2021-08-15T21:19:57.145Z"
   },
   {
    "duration": 12,
    "start_time": "2021-08-15T21:20:17.203Z"
   },
   {
    "duration": 18,
    "start_time": "2021-08-15T21:20:28.091Z"
   },
   {
    "duration": 19,
    "start_time": "2021-08-15T21:21:22.752Z"
   },
   {
    "duration": 29,
    "start_time": "2021-08-15T21:21:27.767Z"
   },
   {
    "duration": 29,
    "start_time": "2021-08-15T21:22:33.792Z"
   },
   {
    "duration": 35,
    "start_time": "2021-08-15T21:22:39.968Z"
   },
   {
    "duration": 81,
    "start_time": "2021-08-15T21:23:17.905Z"
   },
   {
    "duration": 94,
    "start_time": "2021-08-15T21:23:26.570Z"
   },
   {
    "duration": 92,
    "start_time": "2021-08-15T21:23:40.750Z"
   },
   {
    "duration": 31,
    "start_time": "2021-08-15T21:25:20.400Z"
   },
   {
    "duration": 1605,
    "start_time": "2021-08-15T21:25:27.827Z"
   },
   {
    "duration": 115,
    "start_time": "2021-08-15T21:25:29.435Z"
   },
   {
    "duration": 35,
    "start_time": "2021-08-15T21:25:29.553Z"
   },
   {
    "duration": 28,
    "start_time": "2021-08-15T21:25:29.592Z"
   },
   {
    "duration": 39,
    "start_time": "2021-08-15T21:25:29.623Z"
   },
   {
    "duration": 12,
    "start_time": "2021-08-15T21:25:29.666Z"
   },
   {
    "duration": 73,
    "start_time": "2021-08-15T21:25:29.682Z"
   },
   {
    "duration": 19,
    "start_time": "2021-08-15T21:25:29.760Z"
   },
   {
    "duration": 17,
    "start_time": "2021-08-15T21:25:29.782Z"
   },
   {
    "duration": 9,
    "start_time": "2021-08-15T21:25:29.854Z"
   },
   {
    "duration": 15,
    "start_time": "2021-08-15T21:25:29.866Z"
   },
   {
    "duration": 74,
    "start_time": "2021-08-15T21:25:29.884Z"
   },
   {
    "duration": 4,
    "start_time": "2021-08-15T21:25:29.960Z"
   },
   {
    "duration": 36,
    "start_time": "2021-08-15T21:25:29.967Z"
   },
   {
    "duration": 81,
    "start_time": "2021-08-15T21:25:30.005Z"
   },
   {
    "duration": 69,
    "start_time": "2021-08-15T21:25:30.089Z"
   },
   {
    "duration": 35,
    "start_time": "2021-08-15T21:25:30.160Z"
   },
   {
    "duration": 68,
    "start_time": "2021-08-15T21:25:30.197Z"
   },
   {
    "duration": 27,
    "start_time": "2021-08-15T21:25:30.267Z"
   },
   {
    "duration": 63,
    "start_time": "2021-08-15T21:25:30.296Z"
   },
   {
    "duration": 39,
    "start_time": "2021-08-15T21:25:30.361Z"
   },
   {
    "duration": 54,
    "start_time": "2021-08-15T21:25:30.402Z"
   },
   {
    "duration": 37,
    "start_time": "2021-08-15T21:25:30.462Z"
   },
   {
    "duration": 4,
    "start_time": "2021-08-15T21:25:30.502Z"
   },
   {
    "duration": 50,
    "start_time": "2021-08-15T21:25:30.509Z"
   },
   {
    "duration": 59,
    "start_time": "2021-08-15T21:25:30.562Z"
   },
   {
    "duration": 164,
    "start_time": "2021-08-15T21:25:30.624Z"
   },
   {
    "duration": 13,
    "start_time": "2021-08-15T21:25:30.790Z"
   },
   {
    "duration": 31,
    "start_time": "2021-08-15T21:25:30.805Z"
   },
   {
    "duration": 33,
    "start_time": "2021-08-15T21:25:30.838Z"
   },
   {
    "duration": 44,
    "start_time": "2021-08-15T21:25:30.873Z"
   },
   {
    "duration": 60,
    "start_time": "2021-08-15T21:25:30.919Z"
   },
   {
    "duration": 7,
    "start_time": "2021-08-15T21:25:30.982Z"
   },
   {
    "duration": 75,
    "start_time": "2021-08-15T21:25:30.991Z"
   },
   {
    "duration": 19,
    "start_time": "2021-08-15T21:25:31.068Z"
   },
   {
    "duration": 13,
    "start_time": "2021-08-15T21:25:31.090Z"
   },
   {
    "duration": 21,
    "start_time": "2021-08-15T21:25:31.106Z"
   },
   {
    "duration": 26,
    "start_time": "2021-08-15T21:25:31.130Z"
   },
   {
    "duration": 24,
    "start_time": "2021-08-15T21:25:31.158Z"
   },
   {
    "duration": 24,
    "start_time": "2021-08-15T21:25:31.184Z"
   },
   {
    "duration": 31,
    "start_time": "2021-08-15T21:25:31.212Z"
   },
   {
    "duration": 37,
    "start_time": "2021-08-15T21:26:57.730Z"
   },
   {
    "duration": 26,
    "start_time": "2021-08-15T21:28:00.513Z"
   },
   {
    "duration": 26,
    "start_time": "2021-08-15T21:28:02.844Z"
   },
   {
    "duration": 7,
    "start_time": "2021-08-15T21:35:08.869Z"
   },
   {
    "duration": 1577,
    "start_time": "2021-08-16T19:08:10.551Z"
   },
   {
    "duration": 112,
    "start_time": "2021-08-16T19:08:12.131Z"
   },
   {
    "duration": 43,
    "start_time": "2021-08-16T19:08:12.246Z"
   },
   {
    "duration": 18,
    "start_time": "2021-08-16T19:08:12.293Z"
   },
   {
    "duration": 19,
    "start_time": "2021-08-16T19:08:12.313Z"
   },
   {
    "duration": 10,
    "start_time": "2021-08-16T19:08:12.335Z"
   },
   {
    "duration": 29,
    "start_time": "2021-08-16T19:08:12.383Z"
   },
   {
    "duration": 17,
    "start_time": "2021-08-16T19:08:12.416Z"
   },
   {
    "duration": 51,
    "start_time": "2021-08-16T19:08:12.436Z"
   },
   {
    "duration": 9,
    "start_time": "2021-08-16T19:08:12.490Z"
   },
   {
    "duration": 10,
    "start_time": "2021-08-16T19:08:12.502Z"
   },
   {
    "duration": 12,
    "start_time": "2021-08-16T19:08:12.515Z"
   },
   {
    "duration": 5,
    "start_time": "2021-08-16T19:08:12.529Z"
   },
   {
    "duration": 53,
    "start_time": "2021-08-16T19:08:12.537Z"
   },
   {
    "duration": 34,
    "start_time": "2021-08-16T19:08:12.592Z"
   },
   {
    "duration": 5,
    "start_time": "2021-08-16T19:08:12.628Z"
   },
   {
    "duration": 15,
    "start_time": "2021-08-16T19:08:12.635Z"
   },
   {
    "duration": 64,
    "start_time": "2021-08-16T19:08:12.652Z"
   },
   {
    "duration": 19,
    "start_time": "2021-08-16T19:08:12.718Z"
   },
   {
    "duration": 15,
    "start_time": "2021-08-16T19:08:12.740Z"
   },
   {
    "duration": 58,
    "start_time": "2021-08-16T19:08:12.758Z"
   },
   {
    "duration": 6,
    "start_time": "2021-08-16T19:08:12.819Z"
   },
   {
    "duration": 15,
    "start_time": "2021-08-16T19:08:12.886Z"
   },
   {
    "duration": 3,
    "start_time": "2021-08-16T19:08:12.904Z"
   },
   {
    "duration": 7,
    "start_time": "2021-08-16T19:08:12.910Z"
   },
   {
    "duration": 82,
    "start_time": "2021-08-16T19:08:12.919Z"
   },
   {
    "duration": 278,
    "start_time": "2021-08-16T19:08:13.004Z"
   },
   {
    "duration": 13,
    "start_time": "2021-08-16T19:08:13.285Z"
   },
   {
    "duration": 13,
    "start_time": "2021-08-16T19:08:13.300Z"
   },
   {
    "duration": 4,
    "start_time": "2021-08-16T19:08:13.315Z"
   },
   {
    "duration": 67,
    "start_time": "2021-08-16T19:08:13.322Z"
   },
   {
    "duration": 92,
    "start_time": "2021-08-16T19:08:13.392Z"
   },
   {
    "duration": 8,
    "start_time": "2021-08-16T19:08:13.486Z"
   },
   {
    "duration": 109,
    "start_time": "2021-08-16T19:08:13.496Z"
   },
   {
    "duration": 90,
    "start_time": "2021-08-16T19:08:13.608Z"
   },
   {
    "duration": 8,
    "start_time": "2021-08-16T19:08:13.701Z"
   },
   {
    "duration": 7,
    "start_time": "2021-08-16T19:08:13.712Z"
   },
   {
    "duration": 8,
    "start_time": "2021-08-16T19:08:13.722Z"
   },
   {
    "duration": 52,
    "start_time": "2021-08-16T19:08:13.733Z"
   },
   {
    "duration": 9,
    "start_time": "2021-08-16T19:08:13.788Z"
   },
   {
    "duration": 13,
    "start_time": "2021-08-16T19:08:13.800Z"
   },
   {
    "duration": 68,
    "start_time": "2021-08-16T19:08:13.815Z"
   },
   {
    "duration": 30,
    "start_time": "2021-08-16T19:11:16.598Z"
   },
   {
    "duration": 34,
    "start_time": "2021-08-16T19:11:48.420Z"
   },
   {
    "duration": 34,
    "start_time": "2021-08-16T19:12:55.067Z"
   },
   {
    "duration": 35,
    "start_time": "2021-08-16T19:16:26.842Z"
   },
   {
    "duration": 104,
    "start_time": "2021-08-16T19:17:11.462Z"
   },
   {
    "duration": 3,
    "start_time": "2021-08-16T19:29:31.897Z"
   },
   {
    "duration": 21,
    "start_time": "2021-08-16T19:29:50.772Z"
   },
   {
    "duration": 40,
    "start_time": "2021-08-16T19:30:15.297Z"
   },
   {
    "duration": 10,
    "start_time": "2021-08-16T19:30:40.427Z"
   },
   {
    "duration": 91,
    "start_time": "2021-08-16T19:30:49.632Z"
   },
   {
    "duration": 36,
    "start_time": "2021-08-16T19:35:10.126Z"
   },
   {
    "duration": 394,
    "start_time": "2021-08-17T16:28:16.279Z"
   },
   {
    "duration": 1520,
    "start_time": "2021-08-17T16:28:23.330Z"
   },
   {
    "duration": 160,
    "start_time": "2021-08-17T16:28:24.854Z"
   },
   {
    "duration": 51,
    "start_time": "2021-08-17T16:28:25.018Z"
   },
   {
    "duration": 20,
    "start_time": "2021-08-17T16:28:25.073Z"
   },
   {
    "duration": 24,
    "start_time": "2021-08-17T16:28:25.096Z"
   },
   {
    "duration": 11,
    "start_time": "2021-08-17T16:28:25.123Z"
   },
   {
    "duration": 38,
    "start_time": "2021-08-17T16:28:25.168Z"
   },
   {
    "duration": 18,
    "start_time": "2021-08-17T16:28:25.211Z"
   },
   {
    "duration": 51,
    "start_time": "2021-08-17T16:28:25.233Z"
   },
   {
    "duration": 8,
    "start_time": "2021-08-17T16:28:25.287Z"
   },
   {
    "duration": 13,
    "start_time": "2021-08-17T16:28:25.299Z"
   },
   {
    "duration": 52,
    "start_time": "2021-08-17T16:28:25.315Z"
   },
   {
    "duration": 5,
    "start_time": "2021-08-17T16:28:25.370Z"
   },
   {
    "duration": 18,
    "start_time": "2021-08-17T16:28:25.377Z"
   },
   {
    "duration": 35,
    "start_time": "2021-08-17T16:28:25.398Z"
   },
   {
    "duration": 37,
    "start_time": "2021-08-17T16:28:25.435Z"
   },
   {
    "duration": 17,
    "start_time": "2021-08-17T16:28:25.476Z"
   },
   {
    "duration": 27,
    "start_time": "2021-08-17T16:28:25.495Z"
   },
   {
    "duration": 43,
    "start_time": "2021-08-17T16:28:25.524Z"
   },
   {
    "duration": 24,
    "start_time": "2021-08-17T16:28:25.570Z"
   },
   {
    "duration": 31,
    "start_time": "2021-08-17T16:28:25.597Z"
   },
   {
    "duration": 45,
    "start_time": "2021-08-17T16:28:25.631Z"
   },
   {
    "duration": 15,
    "start_time": "2021-08-17T16:28:25.681Z"
   },
   {
    "duration": 145,
    "start_time": "2021-08-17T16:28:25.699Z"
   },
   {
    "duration": 24,
    "start_time": "2021-08-17T16:28:25.846Z"
   },
   {
    "duration": 30,
    "start_time": "2021-08-17T16:28:25.873Z"
   },
   {
    "duration": 204,
    "start_time": "2021-08-17T16:28:25.905Z"
   },
   {
    "duration": 19,
    "start_time": "2021-08-17T16:28:26.112Z"
   },
   {
    "duration": 46,
    "start_time": "2021-08-17T16:28:26.134Z"
   },
   {
    "duration": 7,
    "start_time": "2021-08-17T16:28:26.183Z"
   },
   {
    "duration": 23,
    "start_time": "2021-08-17T16:28:26.193Z"
   },
   {
    "duration": 70,
    "start_time": "2021-08-17T16:28:26.219Z"
   },
   {
    "duration": 7,
    "start_time": "2021-08-17T16:28:26.292Z"
   },
   {
    "duration": 77,
    "start_time": "2021-08-17T16:28:26.302Z"
   },
   {
    "duration": 27,
    "start_time": "2021-08-17T16:28:26.382Z"
   },
   {
    "duration": 13,
    "start_time": "2021-08-17T16:28:26.411Z"
   },
   {
    "duration": 41,
    "start_time": "2021-08-17T16:28:26.426Z"
   },
   {
    "duration": 10,
    "start_time": "2021-08-17T16:28:26.470Z"
   },
   {
    "duration": 19,
    "start_time": "2021-08-17T16:28:26.484Z"
   },
   {
    "duration": 8,
    "start_time": "2021-08-17T16:28:26.507Z"
   },
   {
    "duration": 56,
    "start_time": "2021-08-17T16:28:26.519Z"
   },
   {
    "duration": 46,
    "start_time": "2021-08-17T16:28:26.579Z"
   },
   {
    "duration": 153,
    "start_time": "2021-08-17T16:28:26.628Z"
   },
   {
    "duration": 11,
    "start_time": "2021-08-17T16:28:26.783Z"
   },
   {
    "duration": 127,
    "start_time": "2021-08-17T16:28:26.796Z"
   },
   {
    "duration": 49,
    "start_time": "2021-08-17T16:28:26.926Z"
   },
   {
    "duration": 10,
    "start_time": "2021-08-17T16:47:01.449Z"
   },
   {
    "duration": 10,
    "start_time": "2021-08-17T16:54:40.918Z"
   },
   {
    "duration": 479,
    "start_time": "2021-08-17T18:08:12.702Z"
   },
   {
    "duration": 220,
    "start_time": "2021-08-17T18:09:37.137Z"
   },
   {
    "duration": 352,
    "start_time": "2021-08-17T18:10:12.403Z"
   },
   {
    "duration": 354,
    "start_time": "2021-08-17T18:11:29.636Z"
   },
   {
    "duration": 222,
    "start_time": "2021-08-17T18:19:02.163Z"
   },
   {
    "duration": 325,
    "start_time": "2021-08-17T18:39:46.934Z"
   },
   {
    "duration": 41,
    "start_time": "2021-08-17T18:40:10.847Z"
   },
   {
    "duration": 43,
    "start_time": "2021-08-17T18:40:16.189Z"
   },
   {
    "duration": 4,
    "start_time": "2021-08-17T19:01:09.200Z"
   },
   {
    "duration": 1612,
    "start_time": "2021-08-17T19:01:53.801Z"
   },
   {
    "duration": 4,
    "start_time": "2021-08-17T19:02:00.447Z"
   },
   {
    "duration": 9,
    "start_time": "2021-08-17T19:02:01.296Z"
   },
   {
    "duration": 8414,
    "start_time": "2021-08-17T19:02:29.684Z"
   },
   {
    "duration": 11,
    "start_time": "2021-08-17T19:02:51.294Z"
   },
   {
    "duration": 47,
    "start_time": "2021-08-17T19:02:54.087Z"
   },
   {
    "duration": 32,
    "start_time": "2021-08-17T19:03:49.512Z"
   },
   {
    "duration": 41,
    "start_time": "2021-08-17T19:03:57.300Z"
   },
   {
    "duration": 10,
    "start_time": "2021-08-17T19:04:22.983Z"
   },
   {
    "duration": 9,
    "start_time": "2021-08-17T19:04:23.489Z"
   },
   {
    "duration": 1459,
    "start_time": "2021-08-17T19:04:27.982Z"
   },
   {
    "duration": 103,
    "start_time": "2021-08-17T19:04:29.444Z"
   },
   {
    "duration": 33,
    "start_time": "2021-08-17T19:04:29.550Z"
   },
   {
    "duration": 13,
    "start_time": "2021-08-17T19:04:29.586Z"
   },
   {
    "duration": 15,
    "start_time": "2021-08-17T19:04:29.601Z"
   },
   {
    "duration": 7,
    "start_time": "2021-08-17T19:04:29.619Z"
   },
   {
    "duration": 60,
    "start_time": "2021-08-17T19:04:29.628Z"
   },
   {
    "duration": 16,
    "start_time": "2021-08-17T19:04:29.692Z"
   },
   {
    "duration": 15,
    "start_time": "2021-08-17T19:04:29.711Z"
   },
   {
    "duration": 7,
    "start_time": "2021-08-17T19:04:29.729Z"
   },
   {
    "duration": 38,
    "start_time": "2021-08-17T19:04:29.738Z"
   },
   {
    "duration": 12,
    "start_time": "2021-08-17T19:04:29.779Z"
   },
   {
    "duration": 5,
    "start_time": "2021-08-17T19:04:29.793Z"
   },
   {
    "duration": 16,
    "start_time": "2021-08-17T19:04:29.801Z"
   },
   {
    "duration": 78,
    "start_time": "2021-08-17T19:04:29.819Z"
   },
   {
    "duration": 8,
    "start_time": "2021-08-17T19:04:29.900Z"
   },
   {
    "duration": 15,
    "start_time": "2021-08-17T19:04:29.910Z"
   },
   {
    "duration": 56,
    "start_time": "2021-08-17T19:04:29.928Z"
   },
   {
    "duration": 7,
    "start_time": "2021-08-17T19:04:29.986Z"
   },
   {
    "duration": 14,
    "start_time": "2021-08-17T19:04:29.995Z"
   },
   {
    "duration": 63,
    "start_time": "2021-08-17T19:04:30.012Z"
   },
   {
    "duration": 16,
    "start_time": "2021-08-17T19:04:30.078Z"
   },
   {
    "duration": 19,
    "start_time": "2021-08-17T19:04:30.099Z"
   },
   {
    "duration": 157,
    "start_time": "2021-08-17T19:04:30.121Z"
   },
   {
    "duration": 5,
    "start_time": "2021-08-17T19:04:30.280Z"
   },
   {
    "duration": 34,
    "start_time": "2021-08-17T19:04:30.287Z"
   },
   {
    "duration": 163,
    "start_time": "2021-08-17T19:04:30.323Z"
   },
   {
    "duration": 16,
    "start_time": "2021-08-17T19:04:30.489Z"
   },
   {
    "duration": 59,
    "start_time": "2021-08-17T19:04:30.508Z"
   },
   {
    "duration": 5,
    "start_time": "2021-08-17T19:04:30.570Z"
   },
   {
    "duration": 19,
    "start_time": "2021-08-17T19:04:30.578Z"
   },
   {
    "duration": 86,
    "start_time": "2021-08-17T19:04:30.599Z"
   },
   {
    "duration": 9,
    "start_time": "2021-08-17T19:04:30.687Z"
   },
   {
    "duration": 107,
    "start_time": "2021-08-17T19:04:30.698Z"
   },
   {
    "duration": 72,
    "start_time": "2021-08-17T19:04:30.807Z"
   },
   {
    "duration": 6,
    "start_time": "2021-08-17T19:04:30.881Z"
   },
   {
    "duration": 20,
    "start_time": "2021-08-17T19:04:30.889Z"
   },
   {
    "duration": 57,
    "start_time": "2021-08-17T19:04:30.911Z"
   },
   {
    "duration": 20,
    "start_time": "2021-08-17T19:04:30.971Z"
   },
   {
    "duration": 10,
    "start_time": "2021-08-17T19:04:30.993Z"
   },
   {
    "duration": 68,
    "start_time": "2021-08-17T19:04:31.005Z"
   },
   {
    "duration": 29,
    "start_time": "2021-08-17T19:04:31.076Z"
   },
   {
    "duration": 261,
    "start_time": "2021-08-17T19:04:31.107Z"
   },
   {
    "duration": 11,
    "start_time": "2021-08-17T19:04:31.370Z"
   },
   {
    "duration": 151,
    "start_time": "2021-08-17T19:04:31.383Z"
   },
   {
    "duration": 71,
    "start_time": "2021-08-17T19:04:31.536Z"
   },
   {
    "duration": 11,
    "start_time": "2021-08-17T19:04:31.610Z"
   },
   {
    "duration": 244,
    "start_time": "2021-08-17T19:04:31.624Z"
   },
   {
    "duration": 41,
    "start_time": "2021-08-17T19:04:31.871Z"
   },
   {
    "duration": 4,
    "start_time": "2021-08-17T19:04:31.914Z"
   },
   {
    "duration": 12,
    "start_time": "2021-08-17T19:04:31.920Z"
   },
   {
    "duration": 37,
    "start_time": "2021-08-17T19:04:31.934Z"
   },
   {
    "duration": 27,
    "start_time": "2021-08-17T19:15:50.145Z"
   },
   {
    "duration": 45,
    "start_time": "2021-08-17T19:15:56.407Z"
   },
   {
    "duration": 54,
    "start_time": "2021-08-17T19:16:13.079Z"
   },
   {
    "duration": 26,
    "start_time": "2021-08-17T19:20:08.736Z"
   },
   {
    "duration": 50,
    "start_time": "2021-08-17T19:20:12.165Z"
   },
   {
    "duration": 21,
    "start_time": "2021-08-17T19:20:28.092Z"
   },
   {
    "duration": 55,
    "start_time": "2021-08-17T19:20:29.471Z"
   },
   {
    "duration": 24,
    "start_time": "2021-08-17T19:21:08.981Z"
   },
   {
    "duration": 49,
    "start_time": "2021-08-17T19:21:28.230Z"
   },
   {
    "duration": 8,
    "start_time": "2021-08-17T19:23:25.028Z"
   },
   {
    "duration": 24,
    "start_time": "2021-08-17T19:26:08.529Z"
   },
   {
    "duration": 51,
    "start_time": "2021-08-17T19:26:09.320Z"
   },
   {
    "duration": 21,
    "start_time": "2021-08-17T19:29:56.565Z"
   },
   {
    "duration": 50,
    "start_time": "2021-08-17T19:29:59.312Z"
   },
   {
    "duration": 8502,
    "start_time": "2021-08-17T19:31:41.459Z"
   },
   {
    "duration": 51,
    "start_time": "2021-08-17T19:31:57.519Z"
   },
   {
    "duration": 21,
    "start_time": "2021-08-17T19:32:13.623Z"
   },
   {
    "duration": 52,
    "start_time": "2021-08-17T19:32:13.929Z"
   },
   {
    "duration": 21,
    "start_time": "2021-08-17T19:32:49.427Z"
   },
   {
    "duration": 49,
    "start_time": "2021-08-17T19:32:53.184Z"
   },
   {
    "duration": 17,
    "start_time": "2021-08-17T19:41:48.001Z"
   },
   {
    "duration": 21,
    "start_time": "2021-08-17T19:43:28.138Z"
   },
   {
    "duration": 17,
    "start_time": "2021-08-17T19:43:28.780Z"
   },
   {
    "duration": 21,
    "start_time": "2021-08-17T19:43:40.394Z"
   },
   {
    "duration": 18,
    "start_time": "2021-08-17T19:43:57.925Z"
   },
   {
    "duration": 21,
    "start_time": "2021-08-17T19:44:19.716Z"
   },
   {
    "duration": 20,
    "start_time": "2021-08-17T19:44:24.398Z"
   },
   {
    "duration": 102,
    "start_time": "2021-08-17T19:44:31.155Z"
   },
   {
    "duration": 23,
    "start_time": "2021-08-17T19:44:32.564Z"
   },
   {
    "duration": 13,
    "start_time": "2021-08-17T19:47:32.576Z"
   },
   {
    "duration": 9,
    "start_time": "2021-08-17T19:48:08.498Z"
   },
   {
    "duration": 7,
    "start_time": "2021-08-17T19:48:23.114Z"
   },
   {
    "duration": 6,
    "start_time": "2021-08-17T19:57:49.671Z"
   },
   {
    "duration": 17,
    "start_time": "2021-08-17T19:57:49.915Z"
   },
   {
    "duration": 322,
    "start_time": "2021-08-17T19:58:05.621Z"
   },
   {
    "duration": 5,
    "start_time": "2021-08-17T19:58:10.730Z"
   },
   {
    "duration": 339,
    "start_time": "2021-08-17T20:05:01.115Z"
   },
   {
    "duration": 353,
    "start_time": "2021-08-17T20:15:19.083Z"
   },
   {
    "duration": 339,
    "start_time": "2021-08-17T20:15:27.045Z"
   },
   {
    "duration": 5,
    "start_time": "2021-08-17T20:15:43.785Z"
   },
   {
    "duration": 368,
    "start_time": "2021-08-17T20:16:42.270Z"
   },
   {
    "duration": 5,
    "start_time": "2021-08-17T20:16:53.983Z"
   },
   {
    "duration": 15,
    "start_time": "2021-08-17T20:18:18.730Z"
   },
   {
    "duration": 14,
    "start_time": "2021-08-17T20:20:06.887Z"
   },
   {
    "duration": 48,
    "start_time": "2021-08-17T20:20:10.204Z"
   },
   {
    "duration": 7,
    "start_time": "2021-08-17T20:22:17.446Z"
   },
   {
    "duration": 49,
    "start_time": "2021-08-17T20:22:18.684Z"
   },
   {
    "duration": 8,
    "start_time": "2021-08-17T20:22:55.526Z"
   },
   {
    "duration": 53,
    "start_time": "2021-08-17T20:22:57.882Z"
   },
   {
    "duration": 18,
    "start_time": "2021-08-17T20:25:45.278Z"
   },
   {
    "duration": 6,
    "start_time": "2021-08-17T20:40:17.334Z"
   },
   {
    "duration": 34,
    "start_time": "2021-08-17T20:40:22.769Z"
   },
   {
    "duration": 9,
    "start_time": "2021-08-17T20:40:40.516Z"
   },
   {
    "duration": 6,
    "start_time": "2021-08-17T20:44:10.884Z"
   },
   {
    "duration": 8,
    "start_time": "2021-08-17T20:45:06.335Z"
   },
   {
    "duration": 7,
    "start_time": "2021-08-17T20:45:14.134Z"
   },
   {
    "duration": 11,
    "start_time": "2021-08-17T20:47:32.108Z"
   },
   {
    "duration": 316,
    "start_time": "2021-08-17T20:47:50.553Z"
   },
   {
    "duration": 534,
    "start_time": "2021-08-17T20:48:04.690Z"
   },
   {
    "duration": 780,
    "start_time": "2021-08-17T20:48:19.536Z"
   },
   {
    "duration": 322,
    "start_time": "2021-08-17T20:49:00.506Z"
   },
   {
    "duration": 440,
    "start_time": "2021-08-17T20:50:15.775Z"
   },
   {
    "duration": 395,
    "start_time": "2021-08-17T20:50:30.238Z"
   },
   {
    "duration": 634,
    "start_time": "2021-08-17T20:52:36.093Z"
   },
   {
    "duration": 525,
    "start_time": "2021-08-17T20:52:43.415Z"
   },
   {
    "duration": 193,
    "start_time": "2021-08-17T20:52:57.561Z"
   },
   {
    "duration": 418,
    "start_time": "2021-08-17T20:53:11.347Z"
   },
   {
    "duration": 347,
    "start_time": "2021-08-17T20:53:35.009Z"
   },
   {
    "duration": 343,
    "start_time": "2021-08-17T20:54:09.540Z"
   },
   {
    "duration": 339,
    "start_time": "2021-08-17T20:54:14.920Z"
   },
   {
    "duration": 416,
    "start_time": "2021-08-17T20:54:56.523Z"
   },
   {
    "duration": 697,
    "start_time": "2021-08-17T20:55:23.812Z"
   },
   {
    "duration": 433,
    "start_time": "2021-08-17T20:55:28.811Z"
   },
   {
    "duration": 702,
    "start_time": "2021-08-17T20:57:00.839Z"
   },
   {
    "duration": 654,
    "start_time": "2021-08-17T20:57:20.701Z"
   },
   {
    "duration": 288,
    "start_time": "2021-08-17T20:57:30.437Z"
   },
   {
    "duration": 331,
    "start_time": "2021-08-17T20:57:43.251Z"
   },
   {
    "duration": 294,
    "start_time": "2021-08-17T20:58:11.479Z"
   },
   {
    "duration": 285,
    "start_time": "2021-08-17T20:58:15.214Z"
   },
   {
    "duration": 409,
    "start_time": "2021-08-17T20:58:17.959Z"
   },
   {
    "duration": 286,
    "start_time": "2021-08-17T20:58:21.821Z"
   },
   {
    "duration": 334,
    "start_time": "2021-08-17T20:58:25.115Z"
   },
   {
    "duration": 12,
    "start_time": "2021-08-17T21:01:13.622Z"
   },
   {
    "duration": 15,
    "start_time": "2021-08-17T21:01:36.009Z"
   },
   {
    "duration": 22,
    "start_time": "2021-08-17T21:02:40.578Z"
   },
   {
    "duration": 19,
    "start_time": "2021-08-17T21:03:29.966Z"
   },
   {
    "duration": 31,
    "start_time": "2021-08-17T21:20:24.896Z"
   },
   {
    "duration": 7,
    "start_time": "2021-08-17T21:21:37.355Z"
   },
   {
    "duration": 338,
    "start_time": "2021-08-18T18:39:21.894Z"
   },
   {
    "duration": 1644,
    "start_time": "2021-08-18T18:39:26.824Z"
   },
   {
    "duration": 180,
    "start_time": "2021-08-18T18:39:28.471Z"
   },
   {
    "duration": 36,
    "start_time": "2021-08-18T18:39:28.653Z"
   },
   {
    "duration": 14,
    "start_time": "2021-08-18T18:39:28.692Z"
   },
   {
    "duration": 47,
    "start_time": "2021-08-18T18:39:28.709Z"
   },
   {
    "duration": 9,
    "start_time": "2021-08-18T18:39:28.758Z"
   },
   {
    "duration": 29,
    "start_time": "2021-08-18T18:39:28.769Z"
   },
   {
    "duration": 16,
    "start_time": "2021-08-18T18:39:28.802Z"
   },
   {
    "duration": 49,
    "start_time": "2021-08-18T18:39:28.821Z"
   },
   {
    "duration": 10,
    "start_time": "2021-08-18T18:39:28.873Z"
   },
   {
    "duration": 14,
    "start_time": "2021-08-18T18:39:28.886Z"
   },
   {
    "duration": 12,
    "start_time": "2021-08-18T18:39:28.903Z"
   },
   {
    "duration": 42,
    "start_time": "2021-08-18T18:39:28.917Z"
   },
   {
    "duration": 18,
    "start_time": "2021-08-18T18:39:28.961Z"
   },
   {
    "duration": 39,
    "start_time": "2021-08-18T18:39:28.982Z"
   },
   {
    "duration": 5,
    "start_time": "2021-08-18T18:39:29.024Z"
   },
   {
    "duration": 13,
    "start_time": "2021-08-18T18:39:29.056Z"
   },
   {
    "duration": 31,
    "start_time": "2021-08-18T18:39:29.072Z"
   },
   {
    "duration": 12,
    "start_time": "2021-08-18T18:39:29.105Z"
   },
   {
    "duration": 45,
    "start_time": "2021-08-18T18:39:29.119Z"
   },
   {
    "duration": 30,
    "start_time": "2021-08-18T18:39:29.166Z"
   },
   {
    "duration": 6,
    "start_time": "2021-08-18T18:39:29.199Z"
   },
   {
    "duration": 57,
    "start_time": "2021-08-18T18:39:29.211Z"
   },
   {
    "duration": 142,
    "start_time": "2021-08-18T18:39:29.271Z"
   },
   {
    "duration": 5,
    "start_time": "2021-08-18T18:39:29.415Z"
   },
   {
    "duration": 56,
    "start_time": "2021-08-18T18:39:29.422Z"
   },
   {
    "duration": 149,
    "start_time": "2021-08-18T18:39:29.480Z"
   },
   {
    "duration": 29,
    "start_time": "2021-08-18T18:39:29.632Z"
   },
   {
    "duration": 13,
    "start_time": "2021-08-18T18:39:29.664Z"
   },
   {
    "duration": 5,
    "start_time": "2021-08-18T18:39:29.680Z"
   },
   {
    "duration": 16,
    "start_time": "2021-08-18T18:39:29.687Z"
   },
   {
    "duration": 83,
    "start_time": "2021-08-18T18:39:29.706Z"
   },
   {
    "duration": 10,
    "start_time": "2021-08-18T18:39:29.792Z"
   },
   {
    "duration": 97,
    "start_time": "2021-08-18T18:39:29.805Z"
   },
   {
    "duration": 18,
    "start_time": "2021-08-18T18:39:29.905Z"
   },
   {
    "duration": 35,
    "start_time": "2021-08-18T18:39:29.925Z"
   },
   {
    "duration": 8,
    "start_time": "2021-08-18T18:39:29.962Z"
   },
   {
    "duration": 12,
    "start_time": "2021-08-18T18:39:29.973Z"
   },
   {
    "duration": 17,
    "start_time": "2021-08-18T18:39:29.988Z"
   },
   {
    "duration": 8,
    "start_time": "2021-08-18T18:39:30.008Z"
   },
   {
    "duration": 43,
    "start_time": "2021-08-18T18:39:30.018Z"
   },
   {
    "duration": 15,
    "start_time": "2021-08-18T18:39:30.063Z"
   },
   {
    "duration": 32,
    "start_time": "2021-08-18T18:39:30.080Z"
   },
   {
    "duration": 150,
    "start_time": "2021-08-18T18:39:30.114Z"
   },
   {
    "duration": 11,
    "start_time": "2021-08-18T18:39:30.267Z"
   },
   {
    "duration": 116,
    "start_time": "2021-08-18T18:39:30.280Z"
   },
   {
    "duration": 33,
    "start_time": "2021-08-18T18:39:30.398Z"
   },
   {
    "duration": 23,
    "start_time": "2021-08-18T18:39:30.434Z"
   },
   {
    "duration": 235,
    "start_time": "2021-08-18T18:39:30.460Z"
   },
   {
    "duration": 58,
    "start_time": "2021-08-18T18:39:30.698Z"
   },
   {
    "duration": 5,
    "start_time": "2021-08-18T18:39:30.759Z"
   },
   {
    "duration": 36,
    "start_time": "2021-08-18T18:39:30.767Z"
   },
   {
    "duration": 23,
    "start_time": "2021-08-18T18:39:30.806Z"
   },
   {
    "duration": 20,
    "start_time": "2021-08-18T18:39:30.832Z"
   },
   {
    "duration": 24,
    "start_time": "2021-08-18T18:39:30.854Z"
   },
   {
    "duration": 8,
    "start_time": "2021-08-18T18:39:30.881Z"
   },
   {
    "duration": 500,
    "start_time": "2021-08-18T18:39:30.892Z"
   },
   {
    "duration": 16,
    "start_time": "2021-08-18T18:39:31.394Z"
   },
   {
    "duration": 51,
    "start_time": "2021-08-18T18:39:31.412Z"
   },
   {
    "duration": 414,
    "start_time": "2021-08-18T18:39:31.466Z"
   },
   {
    "duration": 290,
    "start_time": "2021-08-18T18:40:40.760Z"
   },
   {
    "duration": 277,
    "start_time": "2021-08-18T18:40:48.847Z"
   },
   {
    "duration": 1644,
    "start_time": "2021-08-18T18:41:59.112Z"
   },
   {
    "duration": 1616,
    "start_time": "2021-08-18T18:42:46.196Z"
   },
   {
    "duration": 101,
    "start_time": "2021-08-18T18:45:12.643Z"
   },
   {
    "duration": 560,
    "start_time": "2021-08-18T18:45:24.991Z"
   },
   {
    "duration": 535,
    "start_time": "2021-08-18T18:47:24.010Z"
   },
   {
    "duration": 1664,
    "start_time": "2021-08-18T18:47:34.128Z"
   },
   {
    "duration": 1679,
    "start_time": "2021-08-18T18:47:44.952Z"
   },
   {
    "duration": 1713,
    "start_time": "2021-08-18T18:47:54.028Z"
   },
   {
    "duration": 1838,
    "start_time": "2021-08-18T18:49:01.810Z"
   },
   {
    "duration": 585,
    "start_time": "2021-08-18T18:49:20.606Z"
   },
   {
    "duration": 1680,
    "start_time": "2021-08-18T18:49:28.045Z"
   },
   {
    "duration": 641,
    "start_time": "2021-08-18T18:53:26.657Z"
   },
   {
    "duration": 1610,
    "start_time": "2021-08-18T18:53:36.413Z"
   },
   {
    "duration": 6814,
    "start_time": "2021-08-18T18:58:42.145Z"
   },
   {
    "duration": 1683,
    "start_time": "2021-08-18T18:59:44.335Z"
   },
   {
    "duration": 4,
    "start_time": "2021-08-18T19:04:59.547Z"
   },
   {
    "duration": 4,
    "start_time": "2021-08-18T19:06:20.726Z"
   },
   {
    "duration": 4,
    "start_time": "2021-08-18T19:09:25.241Z"
   },
   {
    "duration": 1308,
    "start_time": "2021-08-18T19:09:52.082Z"
   },
   {
    "duration": 5,
    "start_time": "2021-08-18T19:10:02.190Z"
   },
   {
    "duration": 1441,
    "start_time": "2021-08-18T19:10:03.386Z"
   },
   {
    "duration": 4,
    "start_time": "2021-08-18T19:10:12.657Z"
   },
   {
    "duration": 1781,
    "start_time": "2021-08-18T19:10:13.165Z"
   },
   {
    "duration": 4,
    "start_time": "2021-08-18T19:11:23.309Z"
   },
   {
    "duration": 1587,
    "start_time": "2021-08-18T19:11:24.692Z"
   },
   {
    "duration": 4,
    "start_time": "2021-08-18T19:11:32.235Z"
   },
   {
    "duration": 1352,
    "start_time": "2021-08-18T19:11:32.935Z"
   },
   {
    "duration": 3,
    "start_time": "2021-08-18T19:11:40.156Z"
   },
   {
    "duration": 12,
    "start_time": "2021-08-18T19:11:40.863Z"
   },
   {
    "duration": 64,
    "start_time": "2021-08-18T19:11:47.887Z"
   },
   {
    "duration": 1425,
    "start_time": "2021-08-18T19:12:04.979Z"
   },
   {
    "duration": 528,
    "start_time": "2021-08-18T19:13:34.292Z"
   },
   {
    "duration": 1756,
    "start_time": "2021-08-18T19:13:42.627Z"
   },
   {
    "duration": 1580,
    "start_time": "2021-08-18T19:15:47.211Z"
   },
   {
    "duration": 1750,
    "start_time": "2021-08-18T19:16:45.252Z"
   },
   {
    "duration": 1851,
    "start_time": "2021-08-18T19:18:36.610Z"
   },
   {
    "duration": 1560,
    "start_time": "2021-08-18T19:19:11.290Z"
   },
   {
    "duration": 387,
    "start_time": "2021-08-18T19:19:32.118Z"
   },
   {
    "duration": 1672,
    "start_time": "2021-08-18T19:20:36.018Z"
   },
   {
    "duration": 1622,
    "start_time": "2021-08-18T19:20:57.338Z"
   },
   {
    "duration": 9,
    "start_time": "2021-08-18T19:26:13.067Z"
   },
   {
    "duration": 286,
    "start_time": "2021-08-18T19:31:04.965Z"
   },
   {
    "duration": 21,
    "start_time": "2021-08-18T19:31:15.295Z"
   },
   {
    "duration": 101,
    "start_time": "2021-08-18T19:36:33.004Z"
   },
   {
    "duration": 97,
    "start_time": "2021-08-18T19:36:56.707Z"
   },
   {
    "duration": 105,
    "start_time": "2021-08-18T19:36:59.584Z"
   },
   {
    "duration": 125,
    "start_time": "2021-08-18T19:38:18.977Z"
   },
   {
    "duration": 91,
    "start_time": "2021-08-18T19:38:28.404Z"
   },
   {
    "duration": 111,
    "start_time": "2021-08-18T19:38:49.567Z"
   },
   {
    "duration": 97,
    "start_time": "2021-08-18T19:39:08.299Z"
   },
   {
    "duration": 1678,
    "start_time": "2021-08-18T19:39:23.750Z"
   },
   {
    "duration": 182,
    "start_time": "2021-08-18T19:39:55.556Z"
   },
   {
    "duration": 1587,
    "start_time": "2021-08-18T19:40:07.189Z"
   },
   {
    "duration": 128,
    "start_time": "2021-08-18T19:42:06.104Z"
   },
   {
    "duration": 1761,
    "start_time": "2021-08-18T19:42:48.399Z"
   },
   {
    "duration": 892,
    "start_time": "2021-08-18T19:45:07.112Z"
   },
   {
    "duration": 605,
    "start_time": "2021-08-18T19:45:20.180Z"
   },
   {
    "duration": 575,
    "start_time": "2021-08-18T19:45:29.764Z"
   },
   {
    "duration": 575,
    "start_time": "2021-08-18T19:45:38.936Z"
   },
   {
    "duration": 608,
    "start_time": "2021-08-18T19:45:44.010Z"
   },
   {
    "duration": 592,
    "start_time": "2021-08-18T19:45:46.768Z"
   },
   {
    "duration": 575,
    "start_time": "2021-08-18T19:47:31.698Z"
   },
   {
    "duration": 571,
    "start_time": "2021-08-18T19:47:37.114Z"
   },
   {
    "duration": 785,
    "start_time": "2021-08-18T19:47:43.761Z"
   },
   {
    "duration": 988,
    "start_time": "2021-08-18T19:47:46.205Z"
   },
   {
    "duration": 1806,
    "start_time": "2021-08-18T19:48:54.398Z"
   },
   {
    "duration": 102,
    "start_time": "2021-08-18T19:49:18.570Z"
   },
   {
    "duration": 1710,
    "start_time": "2021-08-18T19:49:22.524Z"
   },
   {
    "duration": 102,
    "start_time": "2021-08-18T19:50:09.878Z"
   },
   {
    "duration": 563,
    "start_time": "2021-08-18T19:50:18.076Z"
   },
   {
    "duration": 577,
    "start_time": "2021-08-18T19:50:46.342Z"
   },
   {
    "duration": 4276,
    "start_time": "2021-08-18T19:51:02.050Z"
   },
   {
    "duration": 2601,
    "start_time": "2021-08-18T19:52:47.314Z"
   },
   {
    "duration": 14115,
    "start_time": "2021-08-18T19:54:29.501Z"
   },
   {
    "duration": 7542,
    "start_time": "2021-08-18T19:54:52.129Z"
   },
   {
    "duration": 1019,
    "start_time": "2021-08-18T19:55:45.440Z"
   },
   {
    "duration": 8,
    "start_time": "2021-08-18T19:56:15.792Z"
   },
   {
    "duration": 7,
    "start_time": "2021-08-18T19:56:39.034Z"
   },
   {
    "duration": 8,
    "start_time": "2021-08-18T19:56:54.451Z"
   },
   {
    "duration": 1401,
    "start_time": "2021-08-18T19:57:06.583Z"
   },
   {
    "duration": 113,
    "start_time": "2021-08-18T19:58:41.955Z"
   },
   {
    "duration": 94,
    "start_time": "2021-08-18T19:59:05.024Z"
   },
   {
    "duration": 3343,
    "start_time": "2021-08-18T19:59:11.068Z"
   },
   {
    "duration": 4362,
    "start_time": "2021-08-18T19:59:56.268Z"
   },
   {
    "duration": 1737,
    "start_time": "2021-08-18T20:02:10.985Z"
   },
   {
    "duration": 4810,
    "start_time": "2021-08-18T20:02:18.200Z"
   },
   {
    "duration": 108,
    "start_time": "2021-08-18T20:02:39.944Z"
   },
   {
    "duration": 4430,
    "start_time": "2021-08-18T20:02:45.550Z"
   },
   {
    "duration": 102,
    "start_time": "2021-08-18T20:04:39.080Z"
   },
   {
    "duration": 107,
    "start_time": "2021-08-18T20:04:45.321Z"
   },
   {
    "duration": 101,
    "start_time": "2021-08-18T20:04:49.022Z"
   },
   {
    "duration": 555,
    "start_time": "2021-08-18T20:11:24.674Z"
   },
   {
    "duration": 706,
    "start_time": "2021-08-18T20:11:55.535Z"
   },
   {
    "duration": 583,
    "start_time": "2021-08-18T20:16:11.562Z"
   },
   {
    "duration": 573,
    "start_time": "2021-08-18T20:16:20.526Z"
   },
   {
    "duration": 700,
    "start_time": "2021-08-18T20:16:40.177Z"
   },
   {
    "duration": 684,
    "start_time": "2021-08-18T20:16:46.258Z"
   },
   {
    "duration": 624,
    "start_time": "2021-08-18T20:17:10.195Z"
   },
   {
    "duration": 694,
    "start_time": "2021-08-18T20:23:16.584Z"
   },
   {
    "duration": 683,
    "start_time": "2021-08-18T20:31:45.130Z"
   },
   {
    "duration": 613,
    "start_time": "2021-08-18T20:33:01.284Z"
   },
   {
    "duration": 1914,
    "start_time": "2021-08-18T20:33:31.895Z"
   },
   {
    "duration": 2055,
    "start_time": "2021-08-18T20:33:49.754Z"
   },
   {
    "duration": 24,
    "start_time": "2021-08-18T20:48:46.208Z"
   },
   {
    "duration": 112,
    "start_time": "2021-08-18T20:56:44.654Z"
   },
   {
    "duration": 8,
    "start_time": "2021-08-18T20:57:06.966Z"
   },
   {
    "duration": 106,
    "start_time": "2021-08-18T20:57:09.990Z"
   },
   {
    "duration": 9,
    "start_time": "2021-08-18T20:57:20.576Z"
   },
   {
    "duration": 290,
    "start_time": "2021-08-18T20:59:07.974Z"
   },
   {
    "duration": 22,
    "start_time": "2021-08-18T21:00:09.898Z"
   },
   {
    "duration": 20,
    "start_time": "2021-08-18T21:01:00.857Z"
   },
   {
    "duration": 10,
    "start_time": "2021-08-18T21:02:05.163Z"
   },
   {
    "duration": 14,
    "start_time": "2021-08-18T21:05:29.192Z"
   },
   {
    "duration": 15,
    "start_time": "2021-08-18T21:10:37.294Z"
   },
   {
    "duration": 15,
    "start_time": "2021-08-18T21:10:46.699Z"
   },
   {
    "duration": 30,
    "start_time": "2021-08-18T21:10:55.078Z"
   },
   {
    "duration": 44,
    "start_time": "2021-08-18T21:12:11.591Z"
   },
   {
    "duration": 92,
    "start_time": "2021-08-18T21:12:32.782Z"
   },
   {
    "duration": 11,
    "start_time": "2021-08-18T21:12:41.008Z"
   },
   {
    "duration": 13,
    "start_time": "2021-08-18T21:14:01.427Z"
   },
   {
    "duration": 135,
    "start_time": "2021-08-18T21:14:10.655Z"
   },
   {
    "duration": 8,
    "start_time": "2021-08-18T21:14:13.878Z"
   },
   {
    "duration": 6,
    "start_time": "2021-08-18T21:14:20.400Z"
   },
   {
    "duration": 12,
    "start_time": "2021-08-18T21:14:50.367Z"
   },
   {
    "duration": 265,
    "start_time": "2021-08-18T21:15:31.825Z"
   },
   {
    "duration": 277,
    "start_time": "2021-08-18T21:15:56.774Z"
   },
   {
    "duration": 23,
    "start_time": "2021-08-18T21:16:09.108Z"
   },
   {
    "duration": 11,
    "start_time": "2021-08-18T21:17:43.644Z"
   },
   {
    "duration": 11,
    "start_time": "2021-08-18T21:23:39.889Z"
   },
   {
    "duration": 11,
    "start_time": "2021-08-18T21:24:07.585Z"
   },
   {
    "duration": 11,
    "start_time": "2021-08-18T21:24:12.771Z"
   },
   {
    "duration": 18,
    "start_time": "2021-08-18T21:27:18.243Z"
   },
   {
    "duration": 23,
    "start_time": "2021-08-18T21:30:13.202Z"
   },
   {
    "duration": 417,
    "start_time": "2021-08-18T21:32:07.362Z"
   },
   {
    "duration": 22,
    "start_time": "2021-08-18T21:32:31.420Z"
   },
   {
    "duration": 22,
    "start_time": "2021-08-18T21:34:39.494Z"
   },
   {
    "duration": 39,
    "start_time": "2021-08-18T21:37:37.109Z"
   },
   {
    "duration": 13,
    "start_time": "2021-08-18T21:37:46.223Z"
   },
   {
    "duration": 13,
    "start_time": "2021-08-18T21:38:05.157Z"
   },
   {
    "duration": 16,
    "start_time": "2021-08-18T21:38:13.452Z"
   },
   {
    "duration": 20,
    "start_time": "2021-08-18T21:40:46.513Z"
   },
   {
    "duration": 19,
    "start_time": "2021-08-18T21:40:52.063Z"
   },
   {
    "duration": 292,
    "start_time": "2021-08-18T21:41:09.267Z"
   },
   {
    "duration": 283,
    "start_time": "2021-08-18T21:41:55.256Z"
   },
   {
    "duration": 22,
    "start_time": "2021-08-18T21:42:00.132Z"
   },
   {
    "duration": 23,
    "start_time": "2021-08-18T21:42:15.554Z"
   },
   {
    "duration": 62,
    "start_time": "2021-08-18T21:44:43.281Z"
   },
   {
    "duration": 24,
    "start_time": "2021-08-18T21:46:46.446Z"
   },
   {
    "duration": 91,
    "start_time": "2021-08-18T21:47:40.445Z"
   },
   {
    "duration": 299,
    "start_time": "2021-08-18T21:47:44.077Z"
   },
   {
    "duration": 64,
    "start_time": "2021-08-18T21:47:52.185Z"
   },
   {
    "duration": 34,
    "start_time": "2021-08-18T21:48:02.064Z"
   },
   {
    "duration": 24,
    "start_time": "2021-08-18T21:49:32.282Z"
   },
   {
    "duration": 7058,
    "start_time": "2021-08-18T21:51:19.057Z"
   },
   {
    "duration": 302,
    "start_time": "2021-08-18T21:51:44.215Z"
   },
   {
    "duration": 20,
    "start_time": "2021-08-18T21:51:48.630Z"
   },
   {
    "duration": 96,
    "start_time": "2021-08-18T21:53:33.738Z"
   },
   {
    "duration": 123,
    "start_time": "2021-08-18T21:53:39.994Z"
   },
   {
    "duration": 116,
    "start_time": "2021-08-18T21:53:53.306Z"
   },
   {
    "duration": 105,
    "start_time": "2021-08-18T21:53:58.424Z"
   },
   {
    "duration": 33,
    "start_time": "2021-08-18T21:54:08.230Z"
   },
   {
    "duration": 189,
    "start_time": "2021-08-18T21:54:14.313Z"
   },
   {
    "duration": 194,
    "start_time": "2021-08-18T21:57:17.213Z"
   },
   {
    "duration": 7,
    "start_time": "2021-08-18T22:01:13.943Z"
   },
   {
    "duration": 25,
    "start_time": "2021-08-18T22:04:51.335Z"
   },
   {
    "duration": 27,
    "start_time": "2021-08-18T22:08:38.574Z"
   },
   {
    "duration": 24,
    "start_time": "2021-08-18T22:14:44.725Z"
   },
   {
    "duration": 19,
    "start_time": "2021-08-18T22:15:01.110Z"
   },
   {
    "duration": 1419,
    "start_time": "2021-08-18T22:37:41.586Z"
   },
   {
    "duration": 133,
    "start_time": "2021-08-18T22:37:43.007Z"
   },
   {
    "duration": 36,
    "start_time": "2021-08-18T22:37:43.144Z"
   },
   {
    "duration": 26,
    "start_time": "2021-08-18T22:37:43.183Z"
   },
   {
    "duration": 16,
    "start_time": "2021-08-18T22:37:43.211Z"
   },
   {
    "duration": 7,
    "start_time": "2021-08-18T22:37:43.230Z"
   },
   {
    "duration": 28,
    "start_time": "2021-08-18T22:37:43.257Z"
   },
   {
    "duration": 17,
    "start_time": "2021-08-18T22:37:43.289Z"
   },
   {
    "duration": 49,
    "start_time": "2021-08-18T22:37:43.309Z"
   },
   {
    "duration": 7,
    "start_time": "2021-08-18T22:37:43.361Z"
   },
   {
    "duration": 18,
    "start_time": "2021-08-18T22:37:43.371Z"
   },
   {
    "duration": 23,
    "start_time": "2021-08-18T22:37:43.392Z"
   },
   {
    "duration": 15,
    "start_time": "2021-08-18T22:37:43.417Z"
   },
   {
    "duration": 32,
    "start_time": "2021-08-18T22:37:43.435Z"
   },
   {
    "duration": 52,
    "start_time": "2021-08-18T22:37:43.470Z"
   },
   {
    "duration": 21,
    "start_time": "2021-08-18T22:37:43.524Z"
   },
   {
    "duration": 19,
    "start_time": "2021-08-18T22:37:43.547Z"
   },
   {
    "duration": 37,
    "start_time": "2021-08-18T22:37:43.568Z"
   },
   {
    "duration": 18,
    "start_time": "2021-08-18T22:37:43.607Z"
   },
   {
    "duration": 20,
    "start_time": "2021-08-18T22:37:43.627Z"
   },
   {
    "duration": 38,
    "start_time": "2021-08-18T22:37:43.650Z"
   },
   {
    "duration": 25,
    "start_time": "2021-08-18T22:37:43.690Z"
   },
   {
    "duration": 24,
    "start_time": "2021-08-18T22:37:43.721Z"
   },
   {
    "duration": 136,
    "start_time": "2021-08-18T22:37:43.749Z"
   },
   {
    "duration": 5,
    "start_time": "2021-08-18T22:37:43.887Z"
   },
   {
    "duration": 41,
    "start_time": "2021-08-18T22:37:43.894Z"
   },
   {
    "duration": 149,
    "start_time": "2021-08-18T22:37:43.937Z"
   },
   {
    "duration": 12,
    "start_time": "2021-08-18T22:37:44.089Z"
   },
   {
    "duration": 23,
    "start_time": "2021-08-18T22:37:44.103Z"
   },
   {
    "duration": 29,
    "start_time": "2021-08-18T22:37:44.128Z"
   },
   {
    "duration": 40,
    "start_time": "2021-08-18T22:37:44.159Z"
   },
   {
    "duration": 50,
    "start_time": "2021-08-18T22:37:44.202Z"
   },
   {
    "duration": 7,
    "start_time": "2021-08-18T22:37:44.254Z"
   },
   {
    "duration": 69,
    "start_time": "2021-08-18T22:37:44.263Z"
   },
   {
    "duration": 26,
    "start_time": "2021-08-18T22:37:44.335Z"
   },
   {
    "duration": 7,
    "start_time": "2021-08-18T22:37:44.364Z"
   },
   {
    "duration": 11,
    "start_time": "2021-08-18T22:37:44.374Z"
   },
   {
    "duration": 8,
    "start_time": "2021-08-18T22:37:44.387Z"
   },
   {
    "duration": 14,
    "start_time": "2021-08-18T22:37:44.397Z"
   },
   {
    "duration": 43,
    "start_time": "2021-08-18T22:37:44.414Z"
   },
   {
    "duration": 7,
    "start_time": "2021-08-18T22:37:44.459Z"
   },
   {
    "duration": 15,
    "start_time": "2021-08-18T22:37:44.468Z"
   },
   {
    "duration": 28,
    "start_time": "2021-08-18T22:37:44.485Z"
   },
   {
    "duration": 142,
    "start_time": "2021-08-18T22:37:44.515Z"
   },
   {
    "duration": 10,
    "start_time": "2021-08-18T22:37:44.659Z"
   },
   {
    "duration": 122,
    "start_time": "2021-08-18T22:37:44.671Z"
   },
   {
    "duration": 36,
    "start_time": "2021-08-18T22:37:44.795Z"
   },
   {
    "duration": 27,
    "start_time": "2021-08-18T22:37:44.833Z"
   },
   {
    "duration": 234,
    "start_time": "2021-08-18T22:37:44.862Z"
   },
   {
    "duration": 61,
    "start_time": "2021-08-18T22:37:45.098Z"
   },
   {
    "duration": 3,
    "start_time": "2021-08-18T22:37:45.161Z"
   },
   {
    "duration": 12,
    "start_time": "2021-08-18T22:37:45.166Z"
   },
   {
    "duration": 15,
    "start_time": "2021-08-18T22:37:45.180Z"
   },
   {
    "duration": 9,
    "start_time": "2021-08-18T22:37:45.198Z"
   },
   {
    "duration": 11,
    "start_time": "2021-08-18T22:37:45.209Z"
   },
   {
    "duration": 5,
    "start_time": "2021-08-18T22:37:45.222Z"
   },
   {
    "duration": 493,
    "start_time": "2021-08-18T22:37:45.256Z"
   },
   {
    "duration": 17,
    "start_time": "2021-08-18T22:37:45.757Z"
   },
   {
    "duration": 29,
    "start_time": "2021-08-18T22:37:45.776Z"
   },
   {
    "duration": 4,
    "start_time": "2021-08-18T22:37:45.807Z"
   },
   {
    "duration": 46,
    "start_time": "2021-08-18T22:37:45.813Z"
   },
   {
    "duration": 1928,
    "start_time": "2021-08-18T22:37:45.862Z"
   },
   {
    "duration": 8,
    "start_time": "2021-08-18T22:37:47.793Z"
   },
   {
    "duration": 27,
    "start_time": "2021-08-18T22:37:47.803Z"
   },
   {
    "duration": 29,
    "start_time": "2021-08-18T22:37:47.832Z"
   },
   {
    "duration": 19,
    "start_time": "2021-08-18T22:37:47.863Z"
   },
   {
    "duration": 15,
    "start_time": "2021-08-18T22:37:47.884Z"
   },
   {
    "duration": 23,
    "start_time": "2021-08-18T22:37:47.907Z"
   },
   {
    "duration": 43,
    "start_time": "2021-08-18T22:37:47.932Z"
   },
   {
    "duration": 31,
    "start_time": "2021-08-18T22:37:47.977Z"
   },
   {
    "duration": 27,
    "start_time": "2021-08-18T22:37:48.011Z"
   },
   {
    "duration": 38,
    "start_time": "2021-08-18T22:37:48.041Z"
   },
   {
    "duration": 22,
    "start_time": "2021-08-18T22:37:48.082Z"
   },
   {
    "duration": 1401,
    "start_time": "2021-08-19T05:03:14.624Z"
   },
   {
    "duration": 111,
    "start_time": "2021-08-19T05:03:16.027Z"
   },
   {
    "duration": 35,
    "start_time": "2021-08-19T05:03:16.141Z"
   },
   {
    "duration": 12,
    "start_time": "2021-08-19T05:03:16.179Z"
   },
   {
    "duration": 17,
    "start_time": "2021-08-19T05:03:16.193Z"
   },
   {
    "duration": 6,
    "start_time": "2021-08-19T05:03:16.213Z"
   },
   {
    "duration": 41,
    "start_time": "2021-08-19T05:03:16.222Z"
   },
   {
    "duration": 48,
    "start_time": "2021-08-19T05:03:16.269Z"
   },
   {
    "duration": 22,
    "start_time": "2021-08-19T05:03:16.321Z"
   },
   {
    "duration": 11,
    "start_time": "2021-08-19T05:03:16.346Z"
   },
   {
    "duration": 43,
    "start_time": "2021-08-19T05:03:16.360Z"
   },
   {
    "duration": 17,
    "start_time": "2021-08-19T05:03:16.406Z"
   },
   {
    "duration": 6,
    "start_time": "2021-08-19T05:03:16.426Z"
   },
   {
    "duration": 21,
    "start_time": "2021-08-19T05:03:16.435Z"
   },
   {
    "duration": 65,
    "start_time": "2021-08-19T05:03:16.458Z"
   },
   {
    "duration": 6,
    "start_time": "2021-08-19T05:03:16.525Z"
   },
   {
    "duration": 15,
    "start_time": "2021-08-19T05:03:16.533Z"
   },
   {
    "duration": 54,
    "start_time": "2021-08-19T05:03:16.550Z"
   },
   {
    "duration": 9,
    "start_time": "2021-08-19T05:03:16.606Z"
   },
   {
    "duration": 18,
    "start_time": "2021-08-19T05:03:16.617Z"
   },
   {
    "duration": 29,
    "start_time": "2021-08-19T05:03:16.638Z"
   },
   {
    "duration": 30,
    "start_time": "2021-08-19T05:03:16.670Z"
   },
   {
    "duration": 16,
    "start_time": "2021-08-19T05:03:16.707Z"
   },
   {
    "duration": 145,
    "start_time": "2021-08-19T05:03:16.726Z"
   },
   {
    "duration": 28,
    "start_time": "2021-08-19T05:03:16.874Z"
   },
   {
    "duration": 35,
    "start_time": "2021-08-19T05:03:16.905Z"
   },
   {
    "duration": 160,
    "start_time": "2021-08-19T05:03:16.942Z"
   },
   {
    "duration": 14,
    "start_time": "2021-08-19T05:03:17.104Z"
   },
   {
    "duration": 12,
    "start_time": "2021-08-19T05:03:17.120Z"
   },
   {
    "duration": 4,
    "start_time": "2021-08-19T05:03:17.135Z"
   },
   {
    "duration": 18,
    "start_time": "2021-08-19T05:03:17.141Z"
   },
   {
    "duration": 38,
    "start_time": "2021-08-19T05:03:17.201Z"
   },
   {
    "duration": 7,
    "start_time": "2021-08-19T05:03:17.241Z"
   },
   {
    "duration": 76,
    "start_time": "2021-08-19T05:03:17.250Z"
   },
   {
    "duration": 18,
    "start_time": "2021-08-19T05:03:17.328Z"
   },
   {
    "duration": 6,
    "start_time": "2021-08-19T05:03:17.348Z"
   },
   {
    "duration": 14,
    "start_time": "2021-08-19T05:03:17.356Z"
   },
   {
    "duration": 6,
    "start_time": "2021-08-19T05:03:17.400Z"
   },
   {
    "duration": 19,
    "start_time": "2021-08-19T05:03:17.408Z"
   },
   {
    "duration": 6,
    "start_time": "2021-08-19T05:03:17.429Z"
   },
   {
    "duration": 9,
    "start_time": "2021-08-19T05:03:17.437Z"
   },
   {
    "duration": 14,
    "start_time": "2021-08-19T05:03:17.448Z"
   },
   {
    "duration": 27,
    "start_time": "2021-08-19T05:03:17.500Z"
   },
   {
    "duration": 125,
    "start_time": "2021-08-19T05:03:17.529Z"
   },
   {
    "duration": 9,
    "start_time": "2021-08-19T05:03:17.657Z"
   },
   {
    "duration": 103,
    "start_time": "2021-08-19T05:03:17.668Z"
   },
   {
    "duration": 42,
    "start_time": "2021-08-19T05:03:17.774Z"
   },
   {
    "duration": 8,
    "start_time": "2021-08-19T05:03:17.819Z"
   },
   {
    "duration": 227,
    "start_time": "2021-08-19T05:03:17.830Z"
   },
   {
    "duration": 47,
    "start_time": "2021-08-19T05:03:18.059Z"
   },
   {
    "duration": 24,
    "start_time": "2021-08-19T05:03:18.108Z"
   },
   {
    "duration": 24,
    "start_time": "2021-08-19T05:03:18.134Z"
   },
   {
    "duration": 27,
    "start_time": "2021-08-19T05:03:18.161Z"
   },
   {
    "duration": 20,
    "start_time": "2021-08-19T05:03:18.191Z"
   },
   {
    "duration": 18,
    "start_time": "2021-08-19T05:03:18.214Z"
   },
   {
    "duration": 17,
    "start_time": "2021-08-19T05:03:18.235Z"
   },
   {
    "duration": 490,
    "start_time": "2021-08-19T05:03:18.254Z"
   },
   {
    "duration": 17,
    "start_time": "2021-08-19T05:03:18.746Z"
   },
   {
    "duration": 52,
    "start_time": "2021-08-19T05:03:18.765Z"
   },
   {
    "duration": 4,
    "start_time": "2021-08-19T05:03:18.819Z"
   },
   {
    "duration": 13,
    "start_time": "2021-08-19T05:03:18.826Z"
   },
   {
    "duration": 1943,
    "start_time": "2021-08-19T05:03:18.842Z"
   },
   {
    "duration": 20,
    "start_time": "2021-08-19T05:03:20.788Z"
   },
   {
    "duration": 22,
    "start_time": "2021-08-19T05:03:20.810Z"
   },
   {
    "duration": 16,
    "start_time": "2021-08-19T05:03:20.834Z"
   },
   {
    "duration": 48,
    "start_time": "2021-08-19T05:03:20.852Z"
   },
   {
    "duration": 13,
    "start_time": "2021-08-19T05:03:20.902Z"
   },
   {
    "duration": 32,
    "start_time": "2021-08-19T05:03:20.924Z"
   },
   {
    "duration": 16,
    "start_time": "2021-08-19T05:03:20.959Z"
   },
   {
    "duration": 26,
    "start_time": "2021-08-19T05:03:21.000Z"
   },
   {
    "duration": 30,
    "start_time": "2021-08-19T05:03:21.029Z"
   },
   {
    "duration": 55,
    "start_time": "2021-08-19T05:03:21.062Z"
   },
   {
    "duration": 7,
    "start_time": "2021-08-19T05:03:21.120Z"
   },
   {
    "duration": 1438,
    "start_time": "2021-08-19T14:29:47.590Z"
   },
   {
    "duration": 148,
    "start_time": "2021-08-19T14:29:49.030Z"
   },
   {
    "duration": 34,
    "start_time": "2021-08-19T14:29:49.181Z"
   },
   {
    "duration": 25,
    "start_time": "2021-08-19T14:29:49.217Z"
   },
   {
    "duration": 16,
    "start_time": "2021-08-19T14:29:49.245Z"
   },
   {
    "duration": 9,
    "start_time": "2021-08-19T14:29:49.263Z"
   },
   {
    "duration": 37,
    "start_time": "2021-08-19T14:29:49.274Z"
   },
   {
    "duration": 17,
    "start_time": "2021-08-19T14:29:49.314Z"
   },
   {
    "duration": 33,
    "start_time": "2021-08-19T14:29:49.334Z"
   },
   {
    "duration": 14,
    "start_time": "2021-08-19T14:29:49.370Z"
   },
   {
    "duration": 18,
    "start_time": "2021-08-19T14:29:49.387Z"
   },
   {
    "duration": 20,
    "start_time": "2021-08-19T14:29:49.408Z"
   },
   {
    "duration": 8,
    "start_time": "2021-08-19T14:29:49.431Z"
   },
   {
    "duration": 27,
    "start_time": "2021-08-19T14:29:49.442Z"
   },
   {
    "duration": 36,
    "start_time": "2021-08-19T14:29:49.471Z"
   },
   {
    "duration": 18,
    "start_time": "2021-08-19T14:29:49.509Z"
   },
   {
    "duration": 31,
    "start_time": "2021-08-19T14:29:49.530Z"
   },
   {
    "duration": 38,
    "start_time": "2021-08-19T14:29:49.564Z"
   },
   {
    "duration": 11,
    "start_time": "2021-08-19T14:29:49.604Z"
   },
   {
    "duration": 22,
    "start_time": "2021-08-19T14:29:49.617Z"
   },
   {
    "duration": 40,
    "start_time": "2021-08-19T14:29:49.641Z"
   },
   {
    "duration": 7,
    "start_time": "2021-08-19T14:29:49.683Z"
   },
   {
    "duration": 22,
    "start_time": "2021-08-19T14:29:49.696Z"
   },
   {
    "duration": 166,
    "start_time": "2021-08-19T14:29:49.723Z"
   },
   {
    "duration": 5,
    "start_time": "2021-08-19T14:29:49.892Z"
   },
   {
    "duration": 56,
    "start_time": "2021-08-19T14:29:49.900Z"
   },
   {
    "duration": 140,
    "start_time": "2021-08-19T14:29:49.959Z"
   },
   {
    "duration": 14,
    "start_time": "2021-08-19T14:29:50.101Z"
   },
   {
    "duration": 43,
    "start_time": "2021-08-19T14:29:50.117Z"
   },
   {
    "duration": 5,
    "start_time": "2021-08-19T14:29:50.163Z"
   },
   {
    "duration": 18,
    "start_time": "2021-08-19T14:29:50.170Z"
   },
   {
    "duration": 65,
    "start_time": "2021-08-19T14:29:50.190Z"
   },
   {
    "duration": 8,
    "start_time": "2021-08-19T14:29:50.258Z"
   },
   {
    "duration": 58,
    "start_time": "2021-08-19T14:29:50.269Z"
   },
   {
    "duration": 43,
    "start_time": "2021-08-19T14:29:50.329Z"
   },
   {
    "duration": 5,
    "start_time": "2021-08-19T14:29:50.375Z"
   },
   {
    "duration": 9,
    "start_time": "2021-08-19T14:29:50.382Z"
   },
   {
    "duration": 11,
    "start_time": "2021-08-19T14:29:50.393Z"
   },
   {
    "duration": 49,
    "start_time": "2021-08-19T14:29:50.407Z"
   },
   {
    "duration": 7,
    "start_time": "2021-08-19T14:29:50.459Z"
   },
   {
    "duration": 9,
    "start_time": "2021-08-19T14:29:50.469Z"
   },
   {
    "duration": 15,
    "start_time": "2021-08-19T14:29:50.480Z"
   },
   {
    "duration": 65,
    "start_time": "2021-08-19T14:29:50.498Z"
   },
   {
    "duration": 121,
    "start_time": "2021-08-19T14:29:50.565Z"
   },
   {
    "duration": 9,
    "start_time": "2021-08-19T14:29:50.689Z"
   },
   {
    "duration": 115,
    "start_time": "2021-08-19T14:29:50.700Z"
   },
   {
    "duration": 47,
    "start_time": "2021-08-19T14:29:50.818Z"
   },
   {
    "duration": 9,
    "start_time": "2021-08-19T14:29:50.867Z"
   },
   {
    "duration": 231,
    "start_time": "2021-08-19T14:29:50.878Z"
   },
   {
    "duration": 51,
    "start_time": "2021-08-19T14:29:51.111Z"
   },
   {
    "duration": 3,
    "start_time": "2021-08-19T14:29:51.165Z"
   },
   {
    "duration": 29,
    "start_time": "2021-08-19T14:29:51.171Z"
   },
   {
    "duration": 20,
    "start_time": "2021-08-19T14:29:51.202Z"
   },
   {
    "duration": 14,
    "start_time": "2021-08-19T14:29:51.225Z"
   },
   {
    "duration": 26,
    "start_time": "2021-08-19T14:29:51.241Z"
   },
   {
    "duration": 7,
    "start_time": "2021-08-19T14:29:51.269Z"
   },
   {
    "duration": 491,
    "start_time": "2021-08-19T14:29:51.278Z"
   },
   {
    "duration": 18,
    "start_time": "2021-08-19T14:29:51.772Z"
   },
   {
    "duration": 32,
    "start_time": "2021-08-19T14:29:51.793Z"
   },
   {
    "duration": 28,
    "start_time": "2021-08-19T14:29:51.828Z"
   },
   {
    "duration": 20,
    "start_time": "2021-08-19T14:29:51.859Z"
   },
   {
    "duration": 1937,
    "start_time": "2021-08-19T14:29:51.882Z"
   },
   {
    "duration": 8,
    "start_time": "2021-08-19T14:29:53.821Z"
   },
   {
    "duration": 33,
    "start_time": "2021-08-19T14:29:53.832Z"
   },
   {
    "duration": 17,
    "start_time": "2021-08-19T14:29:53.867Z"
   },
   {
    "duration": 21,
    "start_time": "2021-08-19T14:29:53.886Z"
   },
   {
    "duration": 53,
    "start_time": "2021-08-19T14:29:53.909Z"
   },
   {
    "duration": 21,
    "start_time": "2021-08-19T14:29:53.971Z"
   },
   {
    "duration": 14,
    "start_time": "2021-08-19T14:29:53.994Z"
   },
   {
    "duration": 63,
    "start_time": "2021-08-19T14:29:54.010Z"
   },
   {
    "duration": 24,
    "start_time": "2021-08-19T14:29:54.075Z"
   },
   {
    "duration": 26,
    "start_time": "2021-08-19T14:29:54.101Z"
   },
   {
    "duration": 30,
    "start_time": "2021-08-19T14:29:54.129Z"
   },
   {
    "duration": 1472,
    "start_time": "2021-08-19T14:30:12.345Z"
   },
   {
    "duration": 131,
    "start_time": "2021-08-19T14:30:13.819Z"
   },
   {
    "duration": 35,
    "start_time": "2021-08-19T14:30:13.953Z"
   },
   {
    "duration": 12,
    "start_time": "2021-08-19T14:30:13.991Z"
   },
   {
    "duration": 16,
    "start_time": "2021-08-19T14:30:14.005Z"
   },
   {
    "duration": 37,
    "start_time": "2021-08-19T14:30:14.024Z"
   },
   {
    "duration": 32,
    "start_time": "2021-08-19T14:30:14.063Z"
   },
   {
    "duration": 18,
    "start_time": "2021-08-19T14:30:14.098Z"
   },
   {
    "duration": 45,
    "start_time": "2021-08-19T14:30:14.119Z"
   },
   {
    "duration": 2003,
    "start_time": "2021-08-19T14:30:14.167Z"
   },
   {
    "duration": -1,
    "start_time": "2021-08-19T14:30:16.177Z"
   },
   {
    "duration": -2,
    "start_time": "2021-08-19T14:30:16.179Z"
   },
   {
    "duration": -18,
    "start_time": "2021-08-19T14:30:16.197Z"
   },
   {
    "duration": -18,
    "start_time": "2021-08-19T14:30:16.199Z"
   },
   {
    "duration": -22,
    "start_time": "2021-08-19T14:30:16.204Z"
   },
   {
    "duration": -26,
    "start_time": "2021-08-19T14:30:16.210Z"
   },
   {
    "duration": -26,
    "start_time": "2021-08-19T14:30:16.212Z"
   },
   {
    "duration": -27,
    "start_time": "2021-08-19T14:30:16.214Z"
   },
   {
    "duration": -33,
    "start_time": "2021-08-19T14:30:16.221Z"
   },
   {
    "duration": -36,
    "start_time": "2021-08-19T14:30:16.226Z"
   },
   {
    "duration": -37,
    "start_time": "2021-08-19T14:30:16.228Z"
   },
   {
    "duration": -40,
    "start_time": "2021-08-19T14:30:16.233Z"
   },
   {
    "duration": -55,
    "start_time": "2021-08-19T14:30:16.249Z"
   },
   {
    "duration": -58,
    "start_time": "2021-08-19T14:30:16.254Z"
   },
   {
    "duration": -63,
    "start_time": "2021-08-19T14:30:16.260Z"
   },
   {
    "duration": -64,
    "start_time": "2021-08-19T14:30:16.262Z"
   },
   {
    "duration": -68,
    "start_time": "2021-08-19T14:30:16.268Z"
   },
   {
    "duration": -69,
    "start_time": "2021-08-19T14:30:16.270Z"
   },
   {
    "duration": -88,
    "start_time": "2021-08-19T14:30:16.291Z"
   },
   {
    "duration": -91,
    "start_time": "2021-08-19T14:30:16.296Z"
   },
   {
    "duration": -95,
    "start_time": "2021-08-19T14:30:16.301Z"
   },
   {
    "duration": -95,
    "start_time": "2021-08-19T14:30:16.303Z"
   },
   {
    "duration": -101,
    "start_time": "2021-08-19T14:30:16.310Z"
   },
   {
    "duration": -131,
    "start_time": "2021-08-19T14:30:16.341Z"
   },
   {
    "duration": -131,
    "start_time": "2021-08-19T14:30:16.343Z"
   },
   {
    "duration": -132,
    "start_time": "2021-08-19T14:30:16.345Z"
   },
   {
    "duration": -92,
    "start_time": "2021-08-19T14:30:16.348Z"
   },
   {
    "duration": -91,
    "start_time": "2021-08-19T14:30:16.349Z"
   },
   {
    "duration": -93,
    "start_time": "2021-08-19T14:30:16.352Z"
   },
   {
    "duration": -174,
    "start_time": "2021-08-19T14:30:16.434Z"
   },
   {
    "duration": -199,
    "start_time": "2021-08-19T14:30:16.461Z"
   },
   {
    "duration": -214,
    "start_time": "2021-08-19T14:30:16.477Z"
   },
   {
    "duration": -219,
    "start_time": "2021-08-19T14:30:16.483Z"
   },
   {
    "duration": -332,
    "start_time": "2021-08-19T14:30:16.598Z"
   },
   {
    "duration": -336,
    "start_time": "2021-08-19T14:30:16.603Z"
   },
   {
    "duration": -340,
    "start_time": "2021-08-19T14:30:16.608Z"
   },
   {
    "duration": -341,
    "start_time": "2021-08-19T14:30:16.610Z"
   },
   {
    "duration": -341,
    "start_time": "2021-08-19T14:30:16.612Z"
   },
   {
    "duration": -342,
    "start_time": "2021-08-19T14:30:16.614Z"
   },
   {
    "duration": -341,
    "start_time": "2021-08-19T14:30:16.615Z"
   },
   {
    "duration": -342,
    "start_time": "2021-08-19T14:30:16.617Z"
   },
   {
    "duration": -342,
    "start_time": "2021-08-19T14:30:16.618Z"
   },
   {
    "duration": -343,
    "start_time": "2021-08-19T14:30:16.620Z"
   },
   {
    "duration": -343,
    "start_time": "2021-08-19T14:30:16.622Z"
   },
   {
    "duration": -343,
    "start_time": "2021-08-19T14:30:16.623Z"
   },
   {
    "duration": -344,
    "start_time": "2021-08-19T14:30:16.625Z"
   },
   {
    "duration": -344,
    "start_time": "2021-08-19T14:30:16.627Z"
   },
   {
    "duration": -344,
    "start_time": "2021-08-19T14:30:16.628Z"
   },
   {
    "duration": -344,
    "start_time": "2021-08-19T14:30:16.630Z"
   },
   {
    "duration": -344,
    "start_time": "2021-08-19T14:30:16.631Z"
   },
   {
    "duration": -345,
    "start_time": "2021-08-19T14:30:16.633Z"
   },
   {
    "duration": -345,
    "start_time": "2021-08-19T14:30:16.635Z"
   },
   {
    "duration": -345,
    "start_time": "2021-08-19T14:30:16.636Z"
   },
   {
    "duration": -282,
    "start_time": "2021-08-19T14:30:16.638Z"
   },
   {
    "duration": -283,
    "start_time": "2021-08-19T14:30:16.640Z"
   },
   {
    "duration": -282,
    "start_time": "2021-08-19T14:30:16.641Z"
   },
   {
    "duration": -283,
    "start_time": "2021-08-19T14:30:16.643Z"
   },
   {
    "duration": -283,
    "start_time": "2021-08-19T14:30:16.644Z"
   },
   {
    "duration": -284,
    "start_time": "2021-08-19T14:30:16.646Z"
   },
   {
    "duration": -284,
    "start_time": "2021-08-19T14:30:16.648Z"
   },
   {
    "duration": -284,
    "start_time": "2021-08-19T14:30:16.649Z"
   },
   {
    "duration": -286,
    "start_time": "2021-08-19T14:30:16.653Z"
   },
   {
    "duration": -289,
    "start_time": "2021-08-19T14:30:16.657Z"
   },
   {
    "duration": 7,
    "start_time": "2021-08-19T14:31:12.629Z"
   },
   {
    "duration": 4,
    "start_time": "2021-08-19T14:43:41.237Z"
   },
   {
    "duration": 1458,
    "start_time": "2021-08-19T14:43:55.979Z"
   },
   {
    "duration": 4,
    "start_time": "2021-08-19T14:44:10.550Z"
   },
   {
    "duration": 1334,
    "start_time": "2021-08-19T14:44:12.457Z"
   },
   {
    "duration": 1567,
    "start_time": "2021-08-19T14:44:45.203Z"
   },
   {
    "duration": 154,
    "start_time": "2021-08-19T14:44:46.773Z"
   },
   {
    "duration": 55,
    "start_time": "2021-08-19T14:44:46.932Z"
   },
   {
    "duration": 18,
    "start_time": "2021-08-19T14:44:46.991Z"
   },
   {
    "duration": 52,
    "start_time": "2021-08-19T14:44:47.013Z"
   },
   {
    "duration": 10,
    "start_time": "2021-08-19T14:44:47.068Z"
   },
   {
    "duration": 38,
    "start_time": "2021-08-19T14:44:47.081Z"
   },
   {
    "duration": 49,
    "start_time": "2021-08-19T14:44:47.123Z"
   },
   {
    "duration": 23,
    "start_time": "2021-08-19T14:44:47.176Z"
   },
   {
    "duration": 6,
    "start_time": "2021-08-19T14:44:47.202Z"
   },
   {
    "duration": 4,
    "start_time": "2021-08-19T14:44:50.455Z"
   },
   {
    "duration": 2013,
    "start_time": "2021-08-19T14:44:52.543Z"
   },
   {
    "duration": 4,
    "start_time": "2021-08-19T14:45:28.326Z"
   },
   {
    "duration": 1592,
    "start_time": "2021-08-19T14:45:30.221Z"
   },
   {
    "duration": 5,
    "start_time": "2021-08-19T14:45:36.441Z"
   },
   {
    "duration": 4,
    "start_time": "2021-08-19T14:45:42.532Z"
   },
   {
    "duration": 1350,
    "start_time": "2021-08-19T14:45:43.538Z"
   },
   {
    "duration": 4,
    "start_time": "2021-08-19T14:45:47.842Z"
   },
   {
    "duration": 1301,
    "start_time": "2021-08-19T14:45:48.479Z"
   },
   {
    "duration": 4,
    "start_time": "2021-08-19T14:45:53.737Z"
   },
   {
    "duration": 1732,
    "start_time": "2021-08-19T14:45:55.649Z"
   },
   {
    "duration": 5,
    "start_time": "2021-08-19T14:46:02.482Z"
   },
   {
    "duration": 112,
    "start_time": "2021-08-19T14:47:17.287Z"
   },
   {
    "duration": 4,
    "start_time": "2021-08-19T14:47:21.541Z"
   },
   {
    "duration": 1349,
    "start_time": "2021-08-19T14:47:22.861Z"
   },
   {
    "duration": 4,
    "start_time": "2021-08-19T14:49:53.662Z"
   },
   {
    "duration": 1333,
    "start_time": "2021-08-19T14:49:54.151Z"
   },
   {
    "duration": 6,
    "start_time": "2021-08-19T15:19:07.302Z"
   },
   {
    "duration": 4,
    "start_time": "2021-08-19T15:24:36.565Z"
   },
   {
    "duration": 1368,
    "start_time": "2021-08-19T15:24:37.087Z"
   },
   {
    "duration": 5,
    "start_time": "2021-08-19T15:25:02.601Z"
   },
   {
    "duration": 4,
    "start_time": "2021-08-19T15:25:11.237Z"
   },
   {
    "duration": 1391,
    "start_time": "2021-08-19T15:25:11.824Z"
   },
   {
    "duration": 4,
    "start_time": "2021-08-19T15:25:18.580Z"
   },
   {
    "duration": 1299,
    "start_time": "2021-08-19T15:25:19.391Z"
   },
   {
    "duration": 126,
    "start_time": "2021-08-19T15:32:35.559Z"
   },
   {
    "duration": 4,
    "start_time": "2021-08-19T15:32:38.617Z"
   },
   {
    "duration": 1323,
    "start_time": "2021-08-19T15:32:40.373Z"
   },
   {
    "duration": 5,
    "start_time": "2021-08-19T15:35:14.852Z"
   },
   {
    "duration": 5,
    "start_time": "2021-08-19T15:35:33.887Z"
   },
   {
    "duration": 4,
    "start_time": "2021-08-19T15:35:38.805Z"
   },
   {
    "duration": 1449,
    "start_time": "2021-08-19T15:35:39.415Z"
   },
   {
    "duration": 1416,
    "start_time": "2021-08-19T15:35:55.718Z"
   },
   {
    "duration": 296,
    "start_time": "2021-08-19T15:36:25.519Z"
   },
   {
    "duration": 294,
    "start_time": "2021-08-19T15:36:35.264Z"
   },
   {
    "duration": 288,
    "start_time": "2021-08-19T15:36:55.275Z"
   },
   {
    "duration": 5,
    "start_time": "2021-08-19T15:37:01.311Z"
   },
   {
    "duration": 5,
    "start_time": "2021-08-19T15:37:06.266Z"
   },
   {
    "duration": 1356,
    "start_time": "2021-08-19T15:37:06.973Z"
   },
   {
    "duration": 6,
    "start_time": "2021-08-19T15:37:17.962Z"
   },
   {
    "duration": 7,
    "start_time": "2021-08-19T15:37:45.562Z"
   },
   {
    "duration": 5110,
    "start_time": "2021-08-19T15:37:58.697Z"
   },
   {
    "duration": 6,
    "start_time": "2021-08-19T15:38:19.371Z"
   },
   {
    "duration": 6,
    "start_time": "2021-08-19T15:38:22.924Z"
   },
   {
    "duration": 6,
    "start_time": "2021-08-19T15:38:30.199Z"
   },
   {
    "duration": 6,
    "start_time": "2021-08-19T15:38:34.887Z"
   },
   {
    "duration": 1461,
    "start_time": "2021-08-19T15:38:49.590Z"
   },
   {
    "duration": 147,
    "start_time": "2021-08-19T15:38:52.156Z"
   },
   {
    "duration": 36,
    "start_time": "2021-08-19T15:38:52.736Z"
   },
   {
    "duration": 14,
    "start_time": "2021-08-19T15:38:53.346Z"
   },
   {
    "duration": 16,
    "start_time": "2021-08-19T15:38:53.790Z"
   },
   {
    "duration": 8,
    "start_time": "2021-08-19T15:38:54.222Z"
   },
   {
    "duration": 30,
    "start_time": "2021-08-19T15:38:55.175Z"
   },
   {
    "duration": 16,
    "start_time": "2021-08-19T15:38:58.342Z"
   },
   {
    "duration": 17,
    "start_time": "2021-08-19T15:38:59.928Z"
   },
   {
    "duration": 7,
    "start_time": "2021-08-19T15:39:00.971Z"
   },
   {
    "duration": 5,
    "start_time": "2021-08-19T15:39:10.556Z"
   },
   {
    "duration": 1445,
    "start_time": "2021-08-19T15:39:11.311Z"
   },
   {
    "duration": 4,
    "start_time": "2021-08-19T15:40:25.427Z"
   },
   {
    "duration": 1563,
    "start_time": "2021-08-19T15:40:26.209Z"
   },
   {
    "duration": 279,
    "start_time": "2021-08-19T15:40:42.488Z"
   },
   {
    "duration": 262,
    "start_time": "2021-08-19T15:40:48.464Z"
   },
   {
    "duration": 4,
    "start_time": "2021-08-19T15:44:11.257Z"
   },
   {
    "duration": 1874,
    "start_time": "2021-08-19T15:44:11.543Z"
   },
   {
    "duration": 4,
    "start_time": "2021-08-19T15:44:22.794Z"
   },
   {
    "duration": 1712,
    "start_time": "2021-08-19T15:44:24.041Z"
   },
   {
    "duration": 8,
    "start_time": "2021-08-19T15:45:07.197Z"
   },
   {
    "duration": 1905,
    "start_time": "2021-08-19T15:45:07.670Z"
   },
   {
    "duration": 6,
    "start_time": "2021-08-19T15:45:29.474Z"
   },
   {
    "duration": 6,
    "start_time": "2021-08-19T15:45:33.669Z"
   },
   {
    "duration": 4,
    "start_time": "2021-08-19T15:45:40.632Z"
   },
   {
    "duration": 1654,
    "start_time": "2021-08-19T15:45:41.319Z"
   },
   {
    "duration": 4,
    "start_time": "2021-08-19T15:46:16.559Z"
   },
   {
    "duration": 2066,
    "start_time": "2021-08-19T15:46:17.399Z"
   },
   {
    "duration": 4,
    "start_time": "2021-08-19T15:46:23.171Z"
   },
   {
    "duration": 1644,
    "start_time": "2021-08-19T15:46:23.684Z"
   },
   {
    "duration": 5,
    "start_time": "2021-08-19T15:47:08.303Z"
   },
   {
    "duration": 442,
    "start_time": "2021-08-19T15:47:14.888Z"
   },
   {
    "duration": 5,
    "start_time": "2021-08-19T15:47:18.447Z"
   },
   {
    "duration": 4,
    "start_time": "2021-08-19T15:47:36.910Z"
   },
   {
    "duration": 5,
    "start_time": "2021-08-19T15:47:43.401Z"
   },
   {
    "duration": 1931,
    "start_time": "2021-08-19T15:48:08.923Z"
   },
   {
    "duration": 399,
    "start_time": "2021-08-19T15:48:25.341Z"
   },
   {
    "duration": 1746,
    "start_time": "2021-08-19T15:48:41.335Z"
   },
   {
    "duration": 2312,
    "start_time": "2021-08-19T15:48:49.381Z"
   },
   {
    "duration": 4,
    "start_time": "2021-08-19T15:49:16.185Z"
   },
   {
    "duration": 13,
    "start_time": "2021-08-19T15:49:16.725Z"
   },
   {
    "duration": 10,
    "start_time": "2021-08-19T15:49:28.258Z"
   },
   {
    "duration": 8,
    "start_time": "2021-08-19T15:49:37.837Z"
   },
   {
    "duration": 8,
    "start_time": "2021-08-19T15:49:42.620Z"
   },
   {
    "duration": 18,
    "start_time": "2021-08-19T15:49:45.437Z"
   },
   {
    "duration": 1519,
    "start_time": "2021-08-19T15:49:51.613Z"
   },
   {
    "duration": 112,
    "start_time": "2021-08-19T15:49:53.134Z"
   },
   {
    "duration": 53,
    "start_time": "2021-08-19T15:49:53.252Z"
   },
   {
    "duration": 17,
    "start_time": "2021-08-19T15:49:53.308Z"
   },
   {
    "duration": 40,
    "start_time": "2021-08-19T15:49:53.327Z"
   },
   {
    "duration": 7,
    "start_time": "2021-08-19T15:49:53.370Z"
   },
   {
    "duration": 44,
    "start_time": "2021-08-19T15:49:53.382Z"
   },
   {
    "duration": 45,
    "start_time": "2021-08-19T15:49:53.430Z"
   },
   {
    "duration": 25,
    "start_time": "2021-08-19T15:49:53.478Z"
   },
   {
    "duration": 18,
    "start_time": "2021-08-19T15:49:53.506Z"
   },
   {
    "duration": 29,
    "start_time": "2021-08-19T15:49:53.527Z"
   },
   {
    "duration": 16,
    "start_time": "2021-08-19T15:49:53.559Z"
   },
   {
    "duration": 14,
    "start_time": "2021-08-19T15:49:53.578Z"
   },
   {
    "duration": 24,
    "start_time": "2021-08-19T15:49:53.595Z"
   },
   {
    "duration": 17,
    "start_time": "2021-08-19T15:49:53.621Z"
   },
   {
    "duration": 5,
    "start_time": "2021-08-19T15:49:53.656Z"
   },
   {
    "duration": 28,
    "start_time": "2021-08-19T15:49:53.664Z"
   },
   {
    "duration": 42,
    "start_time": "2021-08-19T15:49:53.695Z"
   },
   {
    "duration": 16,
    "start_time": "2021-08-19T15:49:53.740Z"
   },
   {
    "duration": 23,
    "start_time": "2021-08-19T15:49:53.758Z"
   },
   {
    "duration": 47,
    "start_time": "2021-08-19T15:49:53.783Z"
   },
   {
    "duration": 19,
    "start_time": "2021-08-19T15:49:53.838Z"
   },
   {
    "duration": 30,
    "start_time": "2021-08-19T15:49:53.864Z"
   },
   {
    "duration": 66,
    "start_time": "2021-08-19T15:49:53.897Z"
   },
   {
    "duration": 15,
    "start_time": "2021-08-19T15:49:53.967Z"
   },
   {
    "duration": 72,
    "start_time": "2021-08-19T15:49:53.985Z"
   },
   {
    "duration": 238,
    "start_time": "2021-08-19T15:49:54.059Z"
   },
   {
    "duration": 58,
    "start_time": "2021-08-19T15:49:54.300Z"
   },
   {
    "duration": 105,
    "start_time": "2021-08-19T15:49:54.361Z"
   },
   {
    "duration": 398,
    "start_time": "2021-08-19T15:49:54.469Z"
   },
   {
    "duration": 19,
    "start_time": "2021-08-19T15:49:54.870Z"
   },
   {
    "duration": 77,
    "start_time": "2021-08-19T15:49:54.892Z"
   },
   {
    "duration": 7,
    "start_time": "2021-08-19T15:49:54.972Z"
   },
   {
    "duration": 28,
    "start_time": "2021-08-19T15:49:54.982Z"
   },
   {
    "duration": 75,
    "start_time": "2021-08-19T15:49:55.013Z"
   },
   {
    "duration": 8,
    "start_time": "2021-08-19T15:49:55.091Z"
   },
   {
    "duration": 71,
    "start_time": "2021-08-19T15:49:55.102Z"
   },
   {
    "duration": 18,
    "start_time": "2021-08-19T15:49:55.176Z"
   },
   {
    "duration": 6,
    "start_time": "2021-08-19T15:49:55.196Z"
   },
   {
    "duration": 8,
    "start_time": "2021-08-19T15:49:55.205Z"
   },
   {
    "duration": 42,
    "start_time": "2021-08-19T15:49:55.215Z"
   },
   {
    "duration": 15,
    "start_time": "2021-08-19T15:49:55.261Z"
   },
   {
    "duration": 15,
    "start_time": "2021-08-19T15:49:55.278Z"
   },
   {
    "duration": 20,
    "start_time": "2021-08-19T15:49:55.296Z"
   },
   {
    "duration": 56,
    "start_time": "2021-08-19T15:49:55.319Z"
   },
   {
    "duration": 32,
    "start_time": "2021-08-19T15:49:55.378Z"
   },
   {
    "duration": 129,
    "start_time": "2021-08-19T15:49:55.413Z"
   },
   {
    "duration": 11,
    "start_time": "2021-08-19T15:49:55.544Z"
   },
   {
    "duration": 107,
    "start_time": "2021-08-19T15:49:55.557Z"
   },
   {
    "duration": 37,
    "start_time": "2021-08-19T15:49:55.667Z"
   },
   {
    "duration": 12,
    "start_time": "2021-08-19T15:49:55.707Z"
   },
   {
    "duration": 260,
    "start_time": "2021-08-19T15:49:55.722Z"
   },
   {
    "duration": 41,
    "start_time": "2021-08-19T15:49:55.984Z"
   },
   {
    "duration": 29,
    "start_time": "2021-08-19T15:49:56.027Z"
   },
   {
    "duration": 13,
    "start_time": "2021-08-19T15:49:56.059Z"
   },
   {
    "duration": 22,
    "start_time": "2021-08-19T15:49:56.074Z"
   },
   {
    "duration": 16,
    "start_time": "2021-08-19T15:49:56.098Z"
   },
   {
    "duration": 11,
    "start_time": "2021-08-19T15:49:56.117Z"
   },
   {
    "duration": 13,
    "start_time": "2021-08-19T15:49:56.130Z"
   },
   {
    "duration": 520,
    "start_time": "2021-08-19T15:49:56.146Z"
   },
   {
    "duration": 16,
    "start_time": "2021-08-19T15:49:56.669Z"
   },
   {
    "duration": 32,
    "start_time": "2021-08-19T15:49:56.687Z"
   },
   {
    "duration": 35,
    "start_time": "2021-08-19T15:49:56.721Z"
   },
   {
    "duration": 11,
    "start_time": "2021-08-19T15:49:56.758Z"
   },
   {
    "duration": 2083,
    "start_time": "2021-08-19T15:49:56.772Z"
   },
   {
    "duration": 9,
    "start_time": "2021-08-19T15:49:58.858Z"
   },
   {
    "duration": 19,
    "start_time": "2021-08-19T15:49:58.876Z"
   },
   {
    "duration": 57,
    "start_time": "2021-08-19T15:49:58.899Z"
   },
   {
    "duration": 19,
    "start_time": "2021-08-19T15:49:58.959Z"
   },
   {
    "duration": 11,
    "start_time": "2021-08-19T15:49:58.981Z"
   },
   {
    "duration": 61,
    "start_time": "2021-08-19T15:49:58.995Z"
   },
   {
    "duration": 15,
    "start_time": "2021-08-19T15:49:59.059Z"
   },
   {
    "duration": 26,
    "start_time": "2021-08-19T15:49:59.076Z"
   },
   {
    "duration": 58,
    "start_time": "2021-08-19T15:49:59.105Z"
   },
   {
    "duration": 29,
    "start_time": "2021-08-19T15:49:59.165Z"
   },
   {
    "duration": 7,
    "start_time": "2021-08-19T15:49:59.197Z"
   },
   {
    "duration": 207,
    "start_time": "2021-08-19T15:56:37.258Z"
   },
   {
    "duration": 250,
    "start_time": "2021-08-19T15:56:57.777Z"
   },
   {
    "duration": 209,
    "start_time": "2021-08-19T15:57:55.941Z"
   },
   {
    "duration": 224,
    "start_time": "2021-08-19T15:58:15.267Z"
   },
   {
    "duration": 12,
    "start_time": "2021-08-19T15:58:39.549Z"
   },
   {
    "duration": 1495,
    "start_time": "2021-08-19T16:07:13.530Z"
   },
   {
    "duration": 111,
    "start_time": "2021-08-19T16:07:15.028Z"
   },
   {
    "duration": 36,
    "start_time": "2021-08-19T16:07:15.142Z"
   },
   {
    "duration": 12,
    "start_time": "2021-08-19T16:07:15.181Z"
   },
   {
    "duration": 19,
    "start_time": "2021-08-19T16:07:15.196Z"
   },
   {
    "duration": 39,
    "start_time": "2021-08-19T16:07:15.218Z"
   },
   {
    "duration": 32,
    "start_time": "2021-08-19T16:07:15.260Z"
   },
   {
    "duration": 17,
    "start_time": "2021-08-19T16:07:15.296Z"
   },
   {
    "duration": 40,
    "start_time": "2021-08-19T16:07:15.316Z"
   },
   {
    "duration": 6,
    "start_time": "2021-08-19T16:07:15.358Z"
   },
   {
    "duration": 9,
    "start_time": "2021-08-19T16:07:15.367Z"
   },
   {
    "duration": 14,
    "start_time": "2021-08-19T16:07:15.378Z"
   },
   {
    "duration": 8,
    "start_time": "2021-08-19T16:07:15.394Z"
   },
   {
    "duration": 12,
    "start_time": "2021-08-19T16:07:15.404Z"
   },
   {
    "duration": 43,
    "start_time": "2021-08-19T16:07:15.418Z"
   },
   {
    "duration": 5,
    "start_time": "2021-08-19T16:07:15.464Z"
   },
   {
    "duration": 20,
    "start_time": "2021-08-19T16:07:15.471Z"
   },
   {
    "duration": 62,
    "start_time": "2021-08-19T16:07:15.494Z"
   },
   {
    "duration": 6,
    "start_time": "2021-08-19T16:07:15.558Z"
   },
   {
    "duration": 18,
    "start_time": "2021-08-19T16:07:15.566Z"
   },
   {
    "duration": 28,
    "start_time": "2021-08-19T16:07:15.586Z"
   },
   {
    "duration": 6,
    "start_time": "2021-08-19T16:07:15.616Z"
   },
   {
    "duration": 13,
    "start_time": "2021-08-19T16:07:15.656Z"
   },
   {
    "duration": 30,
    "start_time": "2021-08-19T16:07:15.673Z"
   },
   {
    "duration": 8,
    "start_time": "2021-08-19T16:07:15.705Z"
   },
   {
    "duration": 45,
    "start_time": "2021-08-19T16:07:15.716Z"
   },
   {
    "duration": 149,
    "start_time": "2021-08-19T16:07:15.764Z"
   },
   {
    "duration": 6,
    "start_time": "2021-08-19T16:07:15.917Z"
   },
   {
    "duration": 60,
    "start_time": "2021-08-19T16:07:15.925Z"
   },
   {
    "duration": 140,
    "start_time": "2021-08-19T16:07:15.987Z"
   },
   {
    "duration": 36,
    "start_time": "2021-08-19T16:07:16.129Z"
   },
   {
    "duration": 14,
    "start_time": "2021-08-19T16:07:16.168Z"
   },
   {
    "duration": 9,
    "start_time": "2021-08-19T16:07:16.185Z"
   },
   {
    "duration": 18,
    "start_time": "2021-08-19T16:07:16.196Z"
   },
   {
    "duration": 67,
    "start_time": "2021-08-19T16:07:16.216Z"
   },
   {
    "duration": 8,
    "start_time": "2021-08-19T16:07:16.285Z"
   },
   {
    "duration": 75,
    "start_time": "2021-08-19T16:07:16.295Z"
   },
   {
    "duration": 19,
    "start_time": "2021-08-19T16:07:16.372Z"
   },
   {
    "duration": 6,
    "start_time": "2021-08-19T16:07:16.393Z"
   },
   {
    "duration": 6,
    "start_time": "2021-08-19T16:07:16.401Z"
   },
   {
    "duration": 47,
    "start_time": "2021-08-19T16:07:16.410Z"
   },
   {
    "duration": 13,
    "start_time": "2021-08-19T16:07:16.459Z"
   },
   {
    "duration": 7,
    "start_time": "2021-08-19T16:07:16.474Z"
   },
   {
    "duration": 9,
    "start_time": "2021-08-19T16:07:16.484Z"
   },
   {
    "duration": 13,
    "start_time": "2021-08-19T16:07:16.495Z"
   },
   {
    "duration": 64,
    "start_time": "2021-08-19T16:07:16.510Z"
   },
   {
    "duration": 126,
    "start_time": "2021-08-19T16:07:16.577Z"
   },
   {
    "duration": 11,
    "start_time": "2021-08-19T16:07:16.705Z"
   },
   {
    "duration": 113,
    "start_time": "2021-08-19T16:07:16.719Z"
   },
   {
    "duration": 45,
    "start_time": "2021-08-19T16:07:16.835Z"
   },
   {
    "duration": 10,
    "start_time": "2021-08-19T16:07:16.883Z"
   },
   {
    "duration": 411,
    "start_time": "2021-08-19T16:07:16.895Z"
   },
   {
    "duration": 54,
    "start_time": "2021-08-19T16:07:17.308Z"
   },
   {
    "duration": 3,
    "start_time": "2021-08-19T16:07:17.365Z"
   },
   {
    "duration": 12,
    "start_time": "2021-08-19T16:07:17.370Z"
   },
   {
    "duration": 16,
    "start_time": "2021-08-19T16:07:17.384Z"
   },
   {
    "duration": 13,
    "start_time": "2021-08-19T16:07:17.402Z"
   },
   {
    "duration": 18,
    "start_time": "2021-08-19T16:07:17.417Z"
   },
   {
    "duration": 23,
    "start_time": "2021-08-19T16:07:17.437Z"
   },
   {
    "duration": 344,
    "start_time": "2021-08-19T16:07:17.462Z"
   },
   {
    "duration": 18,
    "start_time": "2021-08-19T16:07:17.809Z"
   },
   {
    "duration": 54,
    "start_time": "2021-08-19T16:07:17.830Z"
   },
   {
    "duration": 4,
    "start_time": "2021-08-19T16:07:17.886Z"
   },
   {
    "duration": 16,
    "start_time": "2021-08-19T16:07:17.892Z"
   },
   {
    "duration": 2057,
    "start_time": "2021-08-19T16:07:17.911Z"
   },
   {
    "duration": 8,
    "start_time": "2021-08-19T16:07:19.970Z"
   },
   {
    "duration": 17,
    "start_time": "2021-08-19T16:07:19.980Z"
   },
   {
    "duration": 14,
    "start_time": "2021-08-19T16:07:20.004Z"
   },
   {
    "duration": 53,
    "start_time": "2021-08-19T16:07:20.020Z"
   },
   {
    "duration": 13,
    "start_time": "2021-08-19T16:07:20.075Z"
   },
   {
    "duration": 23,
    "start_time": "2021-08-19T16:07:20.090Z"
   },
   {
    "duration": 53,
    "start_time": "2021-08-19T16:07:20.116Z"
   },
   {
    "duration": 27,
    "start_time": "2021-08-19T16:07:20.171Z"
   },
   {
    "duration": 32,
    "start_time": "2021-08-19T16:07:20.200Z"
   },
   {
    "duration": 29,
    "start_time": "2021-08-19T16:07:20.255Z"
   },
   {
    "duration": 7,
    "start_time": "2021-08-19T16:07:20.287Z"
   },
   {
    "duration": 1395,
    "start_time": "2021-08-20T05:25:37.329Z"
   },
   {
    "duration": 99,
    "start_time": "2021-08-20T05:25:38.727Z"
   },
   {
    "duration": 34,
    "start_time": "2021-08-20T05:25:38.829Z"
   },
   {
    "duration": 12,
    "start_time": "2021-08-20T05:25:38.866Z"
   },
   {
    "duration": 15,
    "start_time": "2021-08-20T05:25:38.883Z"
   },
   {
    "duration": 7,
    "start_time": "2021-08-20T05:25:38.900Z"
   },
   {
    "duration": 30,
    "start_time": "2021-08-20T05:25:38.909Z"
   },
   {
    "duration": 44,
    "start_time": "2021-08-20T05:25:38.943Z"
   },
   {
    "duration": 16,
    "start_time": "2021-08-20T05:25:38.990Z"
   },
   {
    "duration": 17,
    "start_time": "2021-08-20T05:25:39.008Z"
   },
   {
    "duration": 15,
    "start_time": "2021-08-20T05:25:39.027Z"
   },
   {
    "duration": 10,
    "start_time": "2021-08-20T05:25:39.044Z"
   },
   {
    "duration": 9,
    "start_time": "2021-08-20T05:25:39.057Z"
   },
   {
    "duration": 12,
    "start_time": "2021-08-20T05:25:39.083Z"
   },
   {
    "duration": 12,
    "start_time": "2021-08-20T05:25:39.097Z"
   },
   {
    "duration": 4,
    "start_time": "2021-08-20T05:25:39.112Z"
   },
   {
    "duration": 19,
    "start_time": "2021-08-20T05:25:39.118Z"
   },
   {
    "duration": 70,
    "start_time": "2021-08-20T05:25:39.139Z"
   },
   {
    "duration": 8,
    "start_time": "2021-08-20T05:25:39.211Z"
   },
   {
    "duration": 13,
    "start_time": "2021-08-20T05:25:39.221Z"
   },
   {
    "duration": 47,
    "start_time": "2021-08-20T05:25:39.237Z"
   },
   {
    "duration": 9,
    "start_time": "2021-08-20T05:25:39.286Z"
   },
   {
    "duration": 13,
    "start_time": "2021-08-20T05:25:39.303Z"
   },
   {
    "duration": 72,
    "start_time": "2021-08-20T05:25:39.321Z"
   },
   {
    "duration": 6,
    "start_time": "2021-08-20T05:25:39.396Z"
   },
   {
    "duration": 15,
    "start_time": "2021-08-20T05:25:39.405Z"
   },
   {
    "duration": 170,
    "start_time": "2021-08-20T05:25:39.423Z"
   },
   {
    "duration": 5,
    "start_time": "2021-08-20T05:25:39.595Z"
   },
   {
    "duration": 30,
    "start_time": "2021-08-20T05:25:39.602Z"
   },
   {
    "duration": 168,
    "start_time": "2021-08-20T05:25:39.635Z"
   },
   {
    "duration": 15,
    "start_time": "2021-08-20T05:25:39.806Z"
   },
   {
    "duration": 15,
    "start_time": "2021-08-20T05:25:39.824Z"
   },
   {
    "duration": 45,
    "start_time": "2021-08-20T05:25:39.842Z"
   },
   {
    "duration": 17,
    "start_time": "2021-08-20T05:25:39.890Z"
   },
   {
    "duration": 38,
    "start_time": "2021-08-20T05:25:39.910Z"
   },
   {
    "duration": 10,
    "start_time": "2021-08-20T05:25:39.983Z"
   },
   {
    "duration": 54,
    "start_time": "2021-08-20T05:25:39.996Z"
   },
   {
    "duration": 20,
    "start_time": "2021-08-20T05:25:40.082Z"
   },
   {
    "duration": 8,
    "start_time": "2021-08-20T05:25:40.105Z"
   },
   {
    "duration": 23,
    "start_time": "2021-08-20T05:25:40.116Z"
   },
   {
    "duration": 29,
    "start_time": "2021-08-20T05:25:40.141Z"
   },
   {
    "duration": 63,
    "start_time": "2021-08-20T05:25:40.173Z"
   },
   {
    "duration": 7,
    "start_time": "2021-08-20T05:25:40.239Z"
   },
   {
    "duration": 7,
    "start_time": "2021-08-20T05:25:40.249Z"
   },
   {
    "duration": 10,
    "start_time": "2021-08-20T05:25:40.258Z"
   },
   {
    "duration": 31,
    "start_time": "2021-08-20T05:25:40.270Z"
   },
   {
    "duration": 106,
    "start_time": "2021-08-20T05:25:40.303Z"
   },
   {
    "duration": 10,
    "start_time": "2021-08-20T05:25:40.411Z"
   },
   {
    "duration": 113,
    "start_time": "2021-08-20T05:25:40.423Z"
   },
   {
    "duration": 46,
    "start_time": "2021-08-20T05:25:40.538Z"
   },
   {
    "duration": 9,
    "start_time": "2021-08-20T05:25:40.586Z"
   },
   {
    "duration": 375,
    "start_time": "2021-08-20T05:25:40.597Z"
   },
   {
    "duration": 43,
    "start_time": "2021-08-20T05:25:40.974Z"
   },
   {
    "duration": 19,
    "start_time": "2021-08-20T05:25:41.019Z"
   },
   {
    "duration": 31,
    "start_time": "2021-08-20T05:25:41.040Z"
   },
   {
    "duration": 21,
    "start_time": "2021-08-20T05:25:41.073Z"
   },
   {
    "duration": 20,
    "start_time": "2021-08-20T05:25:41.096Z"
   },
   {
    "duration": 37,
    "start_time": "2021-08-20T05:25:41.118Z"
   },
   {
    "duration": 10,
    "start_time": "2021-08-20T05:25:41.158Z"
   },
   {
    "duration": 305,
    "start_time": "2021-08-20T05:25:41.170Z"
   },
   {
    "duration": 17,
    "start_time": "2021-08-20T05:25:41.481Z"
   },
   {
    "duration": 31,
    "start_time": "2021-08-20T05:25:41.501Z"
   },
   {
    "duration": 12,
    "start_time": "2021-08-20T05:25:41.534Z"
   },
   {
    "duration": 39,
    "start_time": "2021-08-20T05:25:41.548Z"
   },
   {
    "duration": 1893,
    "start_time": "2021-08-20T05:25:41.589Z"
   },
   {
    "duration": 9,
    "start_time": "2021-08-20T05:25:43.484Z"
   },
   {
    "duration": 17,
    "start_time": "2021-08-20T05:25:43.496Z"
   },
   {
    "duration": 16,
    "start_time": "2021-08-20T05:25:43.520Z"
   },
   {
    "duration": 58,
    "start_time": "2021-08-20T05:25:43.539Z"
   },
   {
    "duration": 12,
    "start_time": "2021-08-20T05:25:43.599Z"
   },
   {
    "duration": 21,
    "start_time": "2021-08-20T05:25:43.614Z"
   },
   {
    "duration": 47,
    "start_time": "2021-08-20T05:25:43.637Z"
   },
   {
    "duration": 24,
    "start_time": "2021-08-20T05:25:43.687Z"
   },
   {
    "duration": 24,
    "start_time": "2021-08-20T05:25:43.714Z"
   },
   {
    "duration": 61,
    "start_time": "2021-08-20T05:25:43.741Z"
   },
   {
    "duration": 6,
    "start_time": "2021-08-20T05:25:43.804Z"
   },
   {
    "duration": 3,
    "start_time": "2021-08-20T05:43:13.549Z"
   },
   {
    "duration": 469,
    "start_time": "2021-08-20T05:44:31.625Z"
   },
   {
    "duration": 4,
    "start_time": "2021-08-20T05:44:36.250Z"
   },
   {
    "duration": 5,
    "start_time": "2021-08-20T05:44:41.190Z"
   },
   {
    "duration": 4,
    "start_time": "2021-08-20T05:44:58.275Z"
   },
   {
    "duration": 5,
    "start_time": "2021-08-20T05:44:59.564Z"
   },
   {
    "duration": 4,
    "start_time": "2021-08-20T05:46:03.370Z"
   },
   {
    "duration": 6,
    "start_time": "2021-08-20T05:46:04.359Z"
   },
   {
    "duration": 4,
    "start_time": "2021-08-20T05:46:28.195Z"
   },
   {
    "duration": 5,
    "start_time": "2021-08-20T05:46:29.159Z"
   },
   {
    "duration": 6,
    "start_time": "2021-08-20T05:46:29.919Z"
   },
   {
    "duration": 6,
    "start_time": "2021-08-20T05:46:36.641Z"
   },
   {
    "duration": 4,
    "start_time": "2021-08-20T05:46:38.060Z"
   },
   {
    "duration": 6,
    "start_time": "2021-08-20T05:46:38.949Z"
   },
   {
    "duration": 4,
    "start_time": "2021-08-20T05:46:52.340Z"
   },
   {
    "duration": 6,
    "start_time": "2021-08-20T05:46:53.159Z"
   },
   {
    "duration": 4,
    "start_time": "2021-08-20T05:47:09.110Z"
   },
   {
    "duration": 4,
    "start_time": "2021-08-20T05:47:09.920Z"
   },
   {
    "duration": 4,
    "start_time": "2021-08-20T05:47:36.585Z"
   },
   {
    "duration": 4,
    "start_time": "2021-08-20T05:47:37.590Z"
   },
   {
    "duration": 4,
    "start_time": "2021-08-20T05:47:43.890Z"
   },
   {
    "duration": 5,
    "start_time": "2021-08-20T05:47:44.644Z"
   },
   {
    "duration": 5,
    "start_time": "2021-08-20T05:48:09.584Z"
   },
   {
    "duration": 5,
    "start_time": "2021-08-20T05:48:10.529Z"
   }
  ],
  "colab": {
   "name": "DA+. Сборный проект 1. Шаблон (1).ipynb",
   "provenance": []
  },
  "kernelspec": {
   "display_name": "Python 3 (ipykernel)",
   "language": "python",
   "name": "python3"
  },
  "language_info": {
   "codemirror_mode": {
    "name": "ipython",
    "version": 3
   },
   "file_extension": ".py",
   "mimetype": "text/x-python",
   "name": "python",
   "nbconvert_exporter": "python",
   "pygments_lexer": "ipython3",
   "version": "3.8.13"
  },
  "toc": {
   "base_numbering": 1,
   "nav_menu": {},
   "number_sections": true,
   "sideBar": true,
   "skip_h1_title": true,
   "title_cell": "Table of Contents",
   "title_sidebar": "Contents",
   "toc_cell": false,
   "toc_position": {
    "height": "calc(100% - 180px)",
    "left": "10px",
    "top": "150px",
    "width": "375.391px"
   },
   "toc_section_display": true,
   "toc_window_display": true
  }
 },
 "nbformat": 4,
 "nbformat_minor": 1
}
