{
 "cells": [
  {
   "cell_type": "markdown",
   "metadata": {},
   "source": [
    "# Исследование надёжности заёмщиков"
   ]
  },
  {
   "cell_type": "markdown",
   "metadata": {},
   "source": [
    "**Цель исследования** — проверить выдвинутые гипотезы закзчика:\n",
    "1. Наличие детей влияет на возврат кредита в срок.\n",
    "2. Семейное положение влияет на возврат кредита в срок.\n",
    "3. От уровня дохода зависит возврат кредита в срок.\n",
    "4. Цель, на которую был взят кредит, влияет на вероятность возврата кредита в срок.\n",
    "\n",
    "**Ход исследования**\n",
    "\n",
    "Исследование пройдет в 4 этапа:\n",
    "1. Обзор данных.\n",
    "2. Предобработка данных.\n",
    "3. Проверка гипотез.\n",
    "4. Общий вывод по проведенному исследованию."
   ]
  },
  {
   "cell_type": "markdown",
   "metadata": {},
   "source": [
    "## Шаг 1. Изучение общей информации"
   ]
  },
  {
   "cell_type": "markdown",
   "metadata": {},
   "source": [
    "### Изучение общей информации"
   ]
  },
  {
   "cell_type": "markdown",
   "metadata": {},
   "source": [
    "С помощью библиотеки `pandas` прочитаем данные и просмотрим первые 10 строк таблицы, чтобы понять с какими данными необходимо будет работать:"
   ]
  },
  {
   "cell_type": "code",
   "execution_count": 1,
   "metadata": {
    "scrolled": false
   },
   "outputs": [
    {
     "data": {
      "text/html": [
       "<div>\n",
       "<style scoped>\n",
       "    .dataframe tbody tr th:only-of-type {\n",
       "        vertical-align: middle;\n",
       "    }\n",
       "\n",
       "    .dataframe tbody tr th {\n",
       "        vertical-align: top;\n",
       "    }\n",
       "\n",
       "    .dataframe thead th {\n",
       "        text-align: right;\n",
       "    }\n",
       "</style>\n",
       "<table border=\"1\" class=\"dataframe\">\n",
       "  <thead>\n",
       "    <tr style=\"text-align: right;\">\n",
       "      <th></th>\n",
       "      <th>children</th>\n",
       "      <th>days_employed</th>\n",
       "      <th>dob_years</th>\n",
       "      <th>education</th>\n",
       "      <th>education_id</th>\n",
       "      <th>family_status</th>\n",
       "      <th>family_status_id</th>\n",
       "      <th>gender</th>\n",
       "      <th>income_type</th>\n",
       "      <th>debt</th>\n",
       "      <th>total_income</th>\n",
       "      <th>purpose</th>\n",
       "    </tr>\n",
       "  </thead>\n",
       "  <tbody>\n",
       "    <tr>\n",
       "      <th>0</th>\n",
       "      <td>1</td>\n",
       "      <td>-8437.673028</td>\n",
       "      <td>42</td>\n",
       "      <td>высшее</td>\n",
       "      <td>0</td>\n",
       "      <td>женат / замужем</td>\n",
       "      <td>0</td>\n",
       "      <td>F</td>\n",
       "      <td>сотрудник</td>\n",
       "      <td>0</td>\n",
       "      <td>253875.639453</td>\n",
       "      <td>покупка жилья</td>\n",
       "    </tr>\n",
       "    <tr>\n",
       "      <th>1</th>\n",
       "      <td>1</td>\n",
       "      <td>-4024.803754</td>\n",
       "      <td>36</td>\n",
       "      <td>среднее</td>\n",
       "      <td>1</td>\n",
       "      <td>женат / замужем</td>\n",
       "      <td>0</td>\n",
       "      <td>F</td>\n",
       "      <td>сотрудник</td>\n",
       "      <td>0</td>\n",
       "      <td>112080.014102</td>\n",
       "      <td>приобретение автомобиля</td>\n",
       "    </tr>\n",
       "    <tr>\n",
       "      <th>2</th>\n",
       "      <td>0</td>\n",
       "      <td>-5623.422610</td>\n",
       "      <td>33</td>\n",
       "      <td>Среднее</td>\n",
       "      <td>1</td>\n",
       "      <td>женат / замужем</td>\n",
       "      <td>0</td>\n",
       "      <td>M</td>\n",
       "      <td>сотрудник</td>\n",
       "      <td>0</td>\n",
       "      <td>145885.952297</td>\n",
       "      <td>покупка жилья</td>\n",
       "    </tr>\n",
       "    <tr>\n",
       "      <th>3</th>\n",
       "      <td>3</td>\n",
       "      <td>-4124.747207</td>\n",
       "      <td>32</td>\n",
       "      <td>среднее</td>\n",
       "      <td>1</td>\n",
       "      <td>женат / замужем</td>\n",
       "      <td>0</td>\n",
       "      <td>M</td>\n",
       "      <td>сотрудник</td>\n",
       "      <td>0</td>\n",
       "      <td>267628.550329</td>\n",
       "      <td>дополнительное образование</td>\n",
       "    </tr>\n",
       "    <tr>\n",
       "      <th>4</th>\n",
       "      <td>0</td>\n",
       "      <td>340266.072047</td>\n",
       "      <td>53</td>\n",
       "      <td>среднее</td>\n",
       "      <td>1</td>\n",
       "      <td>гражданский брак</td>\n",
       "      <td>1</td>\n",
       "      <td>F</td>\n",
       "      <td>пенсионер</td>\n",
       "      <td>0</td>\n",
       "      <td>158616.077870</td>\n",
       "      <td>сыграть свадьбу</td>\n",
       "    </tr>\n",
       "    <tr>\n",
       "      <th>5</th>\n",
       "      <td>0</td>\n",
       "      <td>-926.185831</td>\n",
       "      <td>27</td>\n",
       "      <td>высшее</td>\n",
       "      <td>0</td>\n",
       "      <td>гражданский брак</td>\n",
       "      <td>1</td>\n",
       "      <td>M</td>\n",
       "      <td>компаньон</td>\n",
       "      <td>0</td>\n",
       "      <td>255763.565419</td>\n",
       "      <td>покупка жилья</td>\n",
       "    </tr>\n",
       "    <tr>\n",
       "      <th>6</th>\n",
       "      <td>0</td>\n",
       "      <td>-2879.202052</td>\n",
       "      <td>43</td>\n",
       "      <td>высшее</td>\n",
       "      <td>0</td>\n",
       "      <td>женат / замужем</td>\n",
       "      <td>0</td>\n",
       "      <td>F</td>\n",
       "      <td>компаньон</td>\n",
       "      <td>0</td>\n",
       "      <td>240525.971920</td>\n",
       "      <td>операции с жильем</td>\n",
       "    </tr>\n",
       "    <tr>\n",
       "      <th>7</th>\n",
       "      <td>0</td>\n",
       "      <td>-152.779569</td>\n",
       "      <td>50</td>\n",
       "      <td>СРЕДНЕЕ</td>\n",
       "      <td>1</td>\n",
       "      <td>женат / замужем</td>\n",
       "      <td>0</td>\n",
       "      <td>M</td>\n",
       "      <td>сотрудник</td>\n",
       "      <td>0</td>\n",
       "      <td>135823.934197</td>\n",
       "      <td>образование</td>\n",
       "    </tr>\n",
       "    <tr>\n",
       "      <th>8</th>\n",
       "      <td>2</td>\n",
       "      <td>-6929.865299</td>\n",
       "      <td>35</td>\n",
       "      <td>ВЫСШЕЕ</td>\n",
       "      <td>0</td>\n",
       "      <td>гражданский брак</td>\n",
       "      <td>1</td>\n",
       "      <td>F</td>\n",
       "      <td>сотрудник</td>\n",
       "      <td>0</td>\n",
       "      <td>95856.832424</td>\n",
       "      <td>на проведение свадьбы</td>\n",
       "    </tr>\n",
       "    <tr>\n",
       "      <th>9</th>\n",
       "      <td>0</td>\n",
       "      <td>-2188.756445</td>\n",
       "      <td>41</td>\n",
       "      <td>среднее</td>\n",
       "      <td>1</td>\n",
       "      <td>женат / замужем</td>\n",
       "      <td>0</td>\n",
       "      <td>M</td>\n",
       "      <td>сотрудник</td>\n",
       "      <td>0</td>\n",
       "      <td>144425.938277</td>\n",
       "      <td>покупка жилья для семьи</td>\n",
       "    </tr>\n",
       "  </tbody>\n",
       "</table>\n",
       "</div>"
      ],
      "text/plain": [
       "   children  days_employed  dob_years education  education_id  \\\n",
       "0         1   -8437.673028         42    высшее             0   \n",
       "1         1   -4024.803754         36   среднее             1   \n",
       "2         0   -5623.422610         33   Среднее             1   \n",
       "3         3   -4124.747207         32   среднее             1   \n",
       "4         0  340266.072047         53   среднее             1   \n",
       "5         0    -926.185831         27    высшее             0   \n",
       "6         0   -2879.202052         43    высшее             0   \n",
       "7         0    -152.779569         50   СРЕДНЕЕ             1   \n",
       "8         2   -6929.865299         35    ВЫСШЕЕ             0   \n",
       "9         0   -2188.756445         41   среднее             1   \n",
       "\n",
       "      family_status  family_status_id gender income_type  debt   total_income  \\\n",
       "0   женат / замужем                 0      F   сотрудник     0  253875.639453   \n",
       "1   женат / замужем                 0      F   сотрудник     0  112080.014102   \n",
       "2   женат / замужем                 0      M   сотрудник     0  145885.952297   \n",
       "3   женат / замужем                 0      M   сотрудник     0  267628.550329   \n",
       "4  гражданский брак                 1      F   пенсионер     0  158616.077870   \n",
       "5  гражданский брак                 1      M   компаньон     0  255763.565419   \n",
       "6   женат / замужем                 0      F   компаньон     0  240525.971920   \n",
       "7   женат / замужем                 0      M   сотрудник     0  135823.934197   \n",
       "8  гражданский брак                 1      F   сотрудник     0   95856.832424   \n",
       "9   женат / замужем                 0      M   сотрудник     0  144425.938277   \n",
       "\n",
       "                      purpose  \n",
       "0               покупка жилья  \n",
       "1     приобретение автомобиля  \n",
       "2               покупка жилья  \n",
       "3  дополнительное образование  \n",
       "4             сыграть свадьбу  \n",
       "5               покупка жилья  \n",
       "6           операции с жильем  \n",
       "7                 образование  \n",
       "8       на проведение свадьбы  \n",
       "9     покупка жилья для семьи  "
      ]
     },
     "execution_count": 1,
     "metadata": {},
     "output_type": "execute_result"
    }
   ],
   "source": [
    "import pandas as pd\n",
    "\n",
    "df = pd.read_csv('./datasets/data.csv')\n",
    "df.head(10)"
   ]
  },
  {
   "cell_type": "markdown",
   "metadata": {},
   "source": [
    "Также необходимо получить общую информацию о таблице:"
   ]
  },
  {
   "cell_type": "code",
   "execution_count": 2,
   "metadata": {},
   "outputs": [
    {
     "name": "stdout",
     "output_type": "stream",
     "text": [
      "<class 'pandas.core.frame.DataFrame'>\n",
      "RangeIndex: 21525 entries, 0 to 21524\n",
      "Data columns (total 12 columns):\n",
      " #   Column            Non-Null Count  Dtype  \n",
      "---  ------            --------------  -----  \n",
      " 0   children          21525 non-null  int64  \n",
      " 1   days_employed     19351 non-null  float64\n",
      " 2   dob_years         21525 non-null  int64  \n",
      " 3   education         21525 non-null  object \n",
      " 4   education_id      21525 non-null  int64  \n",
      " 5   family_status     21525 non-null  object \n",
      " 6   family_status_id  21525 non-null  int64  \n",
      " 7   gender            21525 non-null  object \n",
      " 8   income_type       21525 non-null  object \n",
      " 9   debt              21525 non-null  int64  \n",
      " 10  total_income      19351 non-null  float64\n",
      " 11  purpose           21525 non-null  object \n",
      "dtypes: float64(2), int64(5), object(5)\n",
      "memory usage: 2.0+ MB\n"
     ]
    }
   ],
   "source": [
    "df.info()"
   ]
  },
  {
   "cell_type": "markdown",
   "metadata": {},
   "source": [
    "### Вывод"
   ]
  },
  {
   "cell_type": "markdown",
   "metadata": {},
   "source": [
    "Данные представляют из себя список информации заемщиках, а именно: количество детей, трудовой стаж, возраст, образование, семейное положение, пол, занятость, наличие задолжностей по возврату кредита, доход и цель получения кредита.\n",
    "\n",
    "В данных втречаются пропуски, но только в колонках `days_employed` и `total_income` (трудовой стаж и доход соответственно). Причем количество пропусков равное. Вероятно пропуски присутствуют у заемщиков не имеющих постоянного места работы.\n",
    "\n",
    "Также в столбце `days_employed` количество дней указано отрицательным числом и имеются аномалии (Например в строке с \n",
    "индексом 4. Весьма сомнительно что человек может иметь трудовой стаж более 900 лет).\n",
    "\n",
    "Дополнительно требуется обратить внимание на столбец `purpose` (цель получения кредита). Указанные в нем цели не приведены к общим типам и записаны в свободной форме.\n",
    "\n",
    "Следует отметить что столбец `education` имеет данные записанные разными регистарми.\n",
    "\n",
    "Предварительно можно утверждать, что предоставленных данных будет достаточно для проверки гипотез после их предобработки."
   ]
  },
  {
   "cell_type": "markdown",
   "metadata": {},
   "source": [
    "## Шаг 2. Предобработка данных"
   ]
  },
  {
   "cell_type": "markdown",
   "metadata": {},
   "source": [
    "### Обработка пропусков"
   ]
  },
  {
   "cell_type": "markdown",
   "metadata": {},
   "source": [
    "#### Изучение природы пропусков"
   ]
  },
  {
   "cell_type": "markdown",
   "metadata": {},
   "source": [
    "В самом начале оценим соотношение пропустков относительно всей длины датафрейма:"
   ]
  },
  {
   "cell_type": "code",
   "execution_count": 3,
   "metadata": {},
   "outputs": [
    {
     "data": {
      "text/plain": [
       "children            0.000000\n",
       "days_employed       0.100999\n",
       "dob_years           0.000000\n",
       "education           0.000000\n",
       "education_id        0.000000\n",
       "family_status       0.000000\n",
       "family_status_id    0.000000\n",
       "gender              0.000000\n",
       "income_type         0.000000\n",
       "debt                0.000000\n",
       "total_income        0.100999\n",
       "purpose             0.000000\n",
       "dtype: float64"
      ]
     },
     "execution_count": 3,
     "metadata": {},
     "output_type": "execute_result"
    }
   ],
   "source": [
    "df.isna().mean()"
   ]
  },
  {
   "cell_type": "markdown",
   "metadata": {},
   "source": [
    "Пропуски в столбцах `days_employed` и `total_income` занимают примерно по 10% от всей длины датафрейма. Это довольно большая часть данных. Но для того, чтобы понять, что именно я могу сделать с пропусками, в первую очередь требуется изучить их природу. В выводах к первому разделу я обратил внимание на то, что количество прокусков в колонках с трудовым стажем и доходом равны. Для начала посмотрим, какие типы занятостей имеются в предоставленных данных и в каком количестве."
   ]
  },
  {
   "cell_type": "code",
   "execution_count": 4,
   "metadata": {},
   "outputs": [
    {
     "data": {
      "text/plain": [
       "income_type\n",
       "сотрудник          11119\n",
       "компаньон           5085\n",
       "пенсионер           3856\n",
       "госслужащий         1459\n",
       "безработный            2\n",
       "предприниматель        2\n",
       "в декрете              1\n",
       "студент                1\n",
       "Name: income_type, dtype: int64"
      ]
     },
     "execution_count": 4,
     "metadata": {},
     "output_type": "execute_result"
    }
   ],
   "source": [
    "df.groupby('income_type')['income_type'].count().sort_values(ascending = False)"
   ]
  },
  {
   "cell_type": "markdown",
   "metadata": {},
   "source": [
    "В списке мы видим категорию \"безработный\", но в данную категорию попадает всего 2 заемщика, в то время как пропусков на 3 порядка больше. Изначальное предположение о природе пропусков неверно."
   ]
  },
  {
   "cell_type": "markdown",
   "metadata": {},
   "source": [
    "Продолжим изучать связь рода деятельности с наличием пропусков. Посчитаем количество пропусков для каждого из родов деятельности:"
   ]
  },
  {
   "cell_type": "code",
   "execution_count": 5,
   "metadata": {},
   "outputs": [
    {
     "data": {
      "text/html": [
       "<div>\n",
       "<style scoped>\n",
       "    .dataframe tbody tr th:only-of-type {\n",
       "        vertical-align: middle;\n",
       "    }\n",
       "\n",
       "    .dataframe tbody tr th {\n",
       "        vertical-align: top;\n",
       "    }\n",
       "\n",
       "    .dataframe thead th {\n",
       "        text-align: right;\n",
       "    }\n",
       "</style>\n",
       "<table border=\"1\" class=\"dataframe\">\n",
       "  <thead>\n",
       "    <tr style=\"text-align: right;\">\n",
       "      <th></th>\n",
       "      <th>income_type</th>\n",
       "      <th>days_employed</th>\n",
       "      <th>total_income</th>\n",
       "    </tr>\n",
       "    <tr>\n",
       "      <th>income_type</th>\n",
       "      <th></th>\n",
       "      <th></th>\n",
       "      <th></th>\n",
       "    </tr>\n",
       "  </thead>\n",
       "  <tbody>\n",
       "    <tr>\n",
       "      <th>сотрудник</th>\n",
       "      <td>0</td>\n",
       "      <td>1105</td>\n",
       "      <td>1105</td>\n",
       "    </tr>\n",
       "    <tr>\n",
       "      <th>компаньон</th>\n",
       "      <td>0</td>\n",
       "      <td>508</td>\n",
       "      <td>508</td>\n",
       "    </tr>\n",
       "    <tr>\n",
       "      <th>пенсионер</th>\n",
       "      <td>0</td>\n",
       "      <td>413</td>\n",
       "      <td>413</td>\n",
       "    </tr>\n",
       "    <tr>\n",
       "      <th>госслужащий</th>\n",
       "      <td>0</td>\n",
       "      <td>147</td>\n",
       "      <td>147</td>\n",
       "    </tr>\n",
       "    <tr>\n",
       "      <th>предприниматель</th>\n",
       "      <td>0</td>\n",
       "      <td>1</td>\n",
       "      <td>1</td>\n",
       "    </tr>\n",
       "    <tr>\n",
       "      <th>безработный</th>\n",
       "      <td>0</td>\n",
       "      <td>0</td>\n",
       "      <td>0</td>\n",
       "    </tr>\n",
       "    <tr>\n",
       "      <th>в декрете</th>\n",
       "      <td>0</td>\n",
       "      <td>0</td>\n",
       "      <td>0</td>\n",
       "    </tr>\n",
       "    <tr>\n",
       "      <th>студент</th>\n",
       "      <td>0</td>\n",
       "      <td>0</td>\n",
       "      <td>0</td>\n",
       "    </tr>\n",
       "  </tbody>\n",
       "</table>\n",
       "</div>"
      ],
      "text/plain": [
       "                 income_type  days_employed  total_income\n",
       "income_type                                              \n",
       "сотрудник                  0           1105          1105\n",
       "компаньон                  0            508           508\n",
       "пенсионер                  0            413           413\n",
       "госслужащий                0            147           147\n",
       "предприниматель            0              1             1\n",
       "безработный                0              0             0\n",
       "в декрете                  0              0             0\n",
       "студент                    0              0             0"
      ]
     },
     "execution_count": 5,
     "metadata": {},
     "output_type": "execute_result"
    }
   ],
   "source": [
    "df[['income_type','days_employed','total_income']].groupby('income_type').apply(lambda group: group.apply(pd.isna).sum()).sort_values(by = 'days_employed', ascending = False)"
   ]
  },
  {
   "cell_type": "markdown",
   "metadata": {},
   "source": [
    "Исходя из этого можно сделать вывод, что пропуски никак не связаны с родом занятий заемщика. И судя по тому, что количество пропусков в столбце с доходом и в столбце со стажем совпадает для каждой категории, то, скорее всего, пропуски находятся в одинаковых строках. Но требуется проверить и данное утверждение. Для этого удалим все строки с пропусками, и если их количество"
   ]
  },
  {
   "cell_type": "code",
   "execution_count": 6,
   "metadata": {
    "scrolled": true
   },
   "outputs": [
    {
     "data": {
      "text/plain": [
       "children            0\n",
       "days_employed       0\n",
       "dob_years           0\n",
       "education           0\n",
       "education_id        0\n",
       "family_status       0\n",
       "family_status_id    0\n",
       "gender              0\n",
       "income_type         0\n",
       "debt                0\n",
       "total_income        0\n",
       "purpose             0\n",
       "dtype: int64"
      ]
     },
     "execution_count": 6,
     "metadata": {},
     "output_type": "execute_result"
    }
   ],
   "source": [
    "df_dropped = df.dropna(subset = ['days_employed'])\n",
    "df_dropped.isna().sum()"
   ]
  },
  {
   "cell_type": "markdown",
   "metadata": {},
   "source": [
    "Как и предполагалось, пропуски в столбце стажа соответствуют пропускам в доходах. Это могло быть вызвано ошибкой при выгрузке данных, ошибкой при внесении человеком данных в базу, либо эти данные могли не быть запрошены при оформлении кредита данным клиентам (что крайне маловероятно)."
   ]
  },
  {
   "cell_type": "markdown",
   "metadata": {},
   "source": [
    "#### Исследование аномалных значений в столбце стажа работы"
   ]
  },
  {
   "cell_type": "markdown",
   "metadata": {},
   "source": [
    "Для заполнения пропусков в столбце с доходами мы расчитаем средний доход для каждой из категорий заемщиков по роду деятельности и их стажу. Для начала избавимся от аномалий (которые, скорее всего, возникли при выгрузке данных) в столбце стажа. Для этого для начала определим максимальные и минимальные значения в столбце стажа:"
   ]
  },
  {
   "cell_type": "code",
   "execution_count": 7,
   "metadata": {
    "scrolled": true
   },
   "outputs": [
    {
     "data": {
      "text/html": [
       "<div>\n",
       "<style scoped>\n",
       "    .dataframe tbody tr th:only-of-type {\n",
       "        vertical-align: middle;\n",
       "    }\n",
       "\n",
       "    .dataframe tbody tr th {\n",
       "        vertical-align: top;\n",
       "    }\n",
       "\n",
       "    .dataframe thead th {\n",
       "        text-align: right;\n",
       "    }\n",
       "</style>\n",
       "<table border=\"1\" class=\"dataframe\">\n",
       "  <thead>\n",
       "    <tr style=\"text-align: right;\">\n",
       "      <th></th>\n",
       "      <th>children</th>\n",
       "      <th>days_employed</th>\n",
       "      <th>dob_years</th>\n",
       "      <th>education</th>\n",
       "      <th>education_id</th>\n",
       "      <th>family_status</th>\n",
       "      <th>family_status_id</th>\n",
       "      <th>gender</th>\n",
       "      <th>income_type</th>\n",
       "      <th>debt</th>\n",
       "      <th>total_income</th>\n",
       "      <th>purpose</th>\n",
       "    </tr>\n",
       "  </thead>\n",
       "  <tbody>\n",
       "    <tr>\n",
       "      <th>6954</th>\n",
       "      <td>0</td>\n",
       "      <td>401755.400475</td>\n",
       "      <td>56</td>\n",
       "      <td>среднее</td>\n",
       "      <td>1</td>\n",
       "      <td>вдовец / вдова</td>\n",
       "      <td>2</td>\n",
       "      <td>F</td>\n",
       "      <td>пенсионер</td>\n",
       "      <td>0</td>\n",
       "      <td>176278.441171</td>\n",
       "      <td>ремонт жилью</td>\n",
       "    </tr>\n",
       "  </tbody>\n",
       "</table>\n",
       "</div>"
      ],
      "text/plain": [
       "      children  days_employed  dob_years education  education_id  \\\n",
       "6954         0  401755.400475         56   среднее             1   \n",
       "\n",
       "       family_status  family_status_id gender income_type  debt  \\\n",
       "6954  вдовец / вдова                 2      F   пенсионер     0   \n",
       "\n",
       "       total_income       purpose  \n",
       "6954  176278.441171  ремонт жилью  "
      ]
     },
     "execution_count": 7,
     "metadata": {},
     "output_type": "execute_result"
    }
   ],
   "source": [
    "df[df['days_employed'] == max(df['days_employed'])]"
   ]
  },
  {
   "cell_type": "code",
   "execution_count": 8,
   "metadata": {
    "scrolled": true
   },
   "outputs": [
    {
     "data": {
      "text/html": [
       "<div>\n",
       "<style scoped>\n",
       "    .dataframe tbody tr th:only-of-type {\n",
       "        vertical-align: middle;\n",
       "    }\n",
       "\n",
       "    .dataframe tbody tr th {\n",
       "        vertical-align: top;\n",
       "    }\n",
       "\n",
       "    .dataframe thead th {\n",
       "        text-align: right;\n",
       "    }\n",
       "</style>\n",
       "<table border=\"1\" class=\"dataframe\">\n",
       "  <thead>\n",
       "    <tr style=\"text-align: right;\">\n",
       "      <th></th>\n",
       "      <th>children</th>\n",
       "      <th>days_employed</th>\n",
       "      <th>dob_years</th>\n",
       "      <th>education</th>\n",
       "      <th>education_id</th>\n",
       "      <th>family_status</th>\n",
       "      <th>family_status_id</th>\n",
       "      <th>gender</th>\n",
       "      <th>income_type</th>\n",
       "      <th>debt</th>\n",
       "      <th>total_income</th>\n",
       "      <th>purpose</th>\n",
       "    </tr>\n",
       "  </thead>\n",
       "  <tbody>\n",
       "    <tr>\n",
       "      <th>16335</th>\n",
       "      <td>1</td>\n",
       "      <td>-18388.949901</td>\n",
       "      <td>61</td>\n",
       "      <td>среднее</td>\n",
       "      <td>1</td>\n",
       "      <td>женат / замужем</td>\n",
       "      <td>0</td>\n",
       "      <td>F</td>\n",
       "      <td>сотрудник</td>\n",
       "      <td>0</td>\n",
       "      <td>186178.934089</td>\n",
       "      <td>операции с недвижимостью</td>\n",
       "    </tr>\n",
       "  </tbody>\n",
       "</table>\n",
       "</div>"
      ],
      "text/plain": [
       "       children  days_employed  dob_years education  education_id  \\\n",
       "16335         1  -18388.949901         61   среднее             1   \n",
       "\n",
       "         family_status  family_status_id gender income_type  debt  \\\n",
       "16335  женат / замужем                 0      F   сотрудник     0   \n",
       "\n",
       "        total_income                   purpose  \n",
       "16335  186178.934089  операции с недвижимостью  "
      ]
     },
     "execution_count": 8,
     "metadata": {},
     "output_type": "execute_result"
    }
   ],
   "source": [
    "df[df['days_employed'] == min(df['days_employed'])]"
   ]
  },
  {
   "cell_type": "markdown",
   "metadata": {},
   "source": [
    "Подробнее рассмотрим \"сломанную\" часть, где стаж имеет положительное значение:"
   ]
  },
  {
   "cell_type": "code",
   "execution_count": 9,
   "metadata": {
    "scrolled": true
   },
   "outputs": [
    {
     "data": {
      "text/plain": [
       "328728.72060451825"
      ]
     },
     "execution_count": 9,
     "metadata": {},
     "output_type": "execute_result"
    }
   ],
   "source": [
    "df[df['days_employed'] > 0]['days_employed'].min()"
   ]
  },
  {
   "cell_type": "markdown",
   "metadata": {},
   "source": [
    "Выглядит все также неправдаподобно."
   ]
  },
  {
   "cell_type": "markdown",
   "metadata": {},
   "source": [
    "Продолжим исследование данных. Узнаем какие категории работников попадают в неправдоподобную часть (те строки, где стаж работы в днях имеет положительное значение). Также посчитаем количество попадающих в эту категорию строк:"
   ]
  },
  {
   "cell_type": "code",
   "execution_count": 10,
   "metadata": {
    "scrolled": true
   },
   "outputs": [
    {
     "data": {
      "text/plain": [
       "['пенсионер', 'безработный']"
      ]
     },
     "execution_count": 10,
     "metadata": {},
     "output_type": "execute_result"
    }
   ],
   "source": [
    "df[df['days_employed'] > 0]['income_type'].unique().tolist()"
   ]
  },
  {
   "cell_type": "markdown",
   "metadata": {},
   "source": [
    "Посчитаем количество пенсионеров попадающих в эту категорию:"
   ]
  },
  {
   "cell_type": "code",
   "execution_count": 11,
   "metadata": {
    "scrolled": true
   },
   "outputs": [
    {
     "data": {
      "text/plain": [
       "3443"
      ]
     },
     "execution_count": 11,
     "metadata": {},
     "output_type": "execute_result"
    }
   ],
   "source": [
    "df[(df['days_employed'] > 0) & (df['income_type'] == 'пенсионер')]['income_type'].count()"
   ]
  },
  {
   "cell_type": "markdown",
   "metadata": {},
   "source": [
    "Посчитаем количество безработных попадающих в эту категорию:"
   ]
  },
  {
   "cell_type": "code",
   "execution_count": 12,
   "metadata": {},
   "outputs": [
    {
     "data": {
      "text/plain": [
       "2"
      ]
     },
     "execution_count": 12,
     "metadata": {},
     "output_type": "execute_result"
    }
   ],
   "source": [
    "df[(df['days_employed'] > 0) & (df['income_type'] == 'безработный')]['income_type'].count()"
   ]
  },
  {
   "cell_type": "markdown",
   "metadata": {},
   "source": [
    "Как мы видим, в неправдоподобную часть попадают все безработные и бОльшая часть пенсионеров. Из блока 2.1.1 мы знаем, что у безработных пропусков в столбцах дохода не было, значит и заполнять пропуска для этой категории заемщиков не нужно. Следовательно данные о их стаже не так важны."
   ]
  },
  {
   "cell_type": "markdown",
   "metadata": {},
   "source": [
    "Другое дело - пенсионеры. Среди пенсионеров имелись пропуски в столбце доходов. Поэтому проверим - имеются ли пропуски у пенсионеров со \"сломанным\" стажем в столбцах с доходами:"
   ]
  },
  {
   "cell_type": "code",
   "execution_count": 13,
   "metadata": {
    "scrolled": true
   },
   "outputs": [
    {
     "data": {
      "text/plain": [
       "0"
      ]
     },
     "execution_count": 13,
     "metadata": {},
     "output_type": "execute_result"
    }
   ],
   "source": [
    "df[(df['days_employed'] > 0) & (df['income_type'] == 'пенсионер')]['income_type'].isna().sum()"
   ]
  },
  {
   "cell_type": "markdown",
   "metadata": {},
   "source": [
    "Как мы видим, пенсионеры у которых \"сломан\" стаж не имеют пропусков в столбце доходов, так что и стаж их нам не особо интересен. Приступим к вычислению средних значений дохода в зависимости от стажа для каждой категории. Расчет будет произведен для следующих категорий: **сотрудник, компаньон и госслужащий**. Для остальных категорий проводить расчет либо не требуется, т.к. у них нет пропусков в столбце доходов, либо их доля к общей длине датасета слишком мала, либо это пенсионеры для которых я просто рассчитаю среднее значение дохода."
   ]
  },
  {
   "cell_type": "markdown",
   "metadata": {},
   "source": [
    "#### Исследование зависимости дохода от уровня образования и пола"
   ]
  },
  {
   "cell_type": "markdown",
   "metadata": {},
   "source": [
    "Проведем исследование насколько зависит доход от образования и пола для категорий, расчет средних доходов которых мы будем проводить чтобы заполненить пропуски. Для этого напишем функцию для расчета среднего уровня дохода для указанной категории:"
   ]
  },
  {
   "cell_type": "code",
   "execution_count": 14,
   "metadata": {},
   "outputs": [],
   "source": [
    "def avg_inc_cat(category):\n",
    "    df_avg_inc = df.groupby(category)['total_income'].mean().reset_index().rename(columns = {'total_income': 'avg_income'})\n",
    "    return df_avg_inc"
   ]
  },
  {
   "cell_type": "markdown",
   "metadata": {},
   "source": [
    "Расчитаем средний уровень дохода в зависимости от пола заемщика:"
   ]
  },
  {
   "cell_type": "code",
   "execution_count": 15,
   "metadata": {},
   "outputs": [
    {
     "data": {
      "text/plain": [
       "[Text(0.5, 0, 'Пол'), Text(0, 0.5, 'Доход, руб')]"
      ]
     },
     "execution_count": 15,
     "metadata": {},
     "output_type": "execute_result"
    },
    {
     "data": {
      "image/png": "[encoded data removed]",
      "text/plain": [
       "<Figure size 432x288 with 1 Axes>"
      ]
     },
     "metadata": {
      "needs_background": "light"
     },
     "output_type": "display_data"
    }
   ],
   "source": [
    "import seaborn as sns\n",
    "sns.barplot(data = avg_inc_cat('gender'), x = 'gender', y = 'avg_income').set_title('Средний доход людей в зависимости от пола').axes.set(xlabel='Пол', ylabel='Доход, руб')"
   ]
  },
  {
   "cell_type": "markdown",
   "metadata": {},
   "source": [
    "Как бы нам не хотелось жить в равноправном мире, данные говорят что до этого нам еще далеко и средний доход в зависимости от пола отличается. Еще мы заметили новую аномалию: у некоторых заемщиков не указан пол. Данная аномалия определенно вызвана человеческой ошибкой при внесении данных. Посмотрим насколько она велика:"
   ]
  },
  {
   "cell_type": "code",
   "execution_count": 16,
   "metadata": {
    "scrolled": true
   },
   "outputs": [
    {
     "data": {
      "text/html": [
       "<div>\n",
       "<style scoped>\n",
       "    .dataframe tbody tr th:only-of-type {\n",
       "        vertical-align: middle;\n",
       "    }\n",
       "\n",
       "    .dataframe tbody tr th {\n",
       "        vertical-align: top;\n",
       "    }\n",
       "\n",
       "    .dataframe thead th {\n",
       "        text-align: right;\n",
       "    }\n",
       "</style>\n",
       "<table border=\"1\" class=\"dataframe\">\n",
       "  <thead>\n",
       "    <tr style=\"text-align: right;\">\n",
       "      <th></th>\n",
       "      <th>children</th>\n",
       "      <th>days_employed</th>\n",
       "      <th>dob_years</th>\n",
       "      <th>education</th>\n",
       "      <th>education_id</th>\n",
       "      <th>family_status</th>\n",
       "      <th>family_status_id</th>\n",
       "      <th>gender</th>\n",
       "      <th>income_type</th>\n",
       "      <th>debt</th>\n",
       "      <th>total_income</th>\n",
       "      <th>purpose</th>\n",
       "    </tr>\n",
       "  </thead>\n",
       "  <tbody>\n",
       "    <tr>\n",
       "      <th>10701</th>\n",
       "      <td>0</td>\n",
       "      <td>-2358.600502</td>\n",
       "      <td>24</td>\n",
       "      <td>неоконченное высшее</td>\n",
       "      <td>2</td>\n",
       "      <td>гражданский брак</td>\n",
       "      <td>1</td>\n",
       "      <td>XNA</td>\n",
       "      <td>компаньон</td>\n",
       "      <td>0</td>\n",
       "      <td>203905.157261</td>\n",
       "      <td>покупка недвижимости</td>\n",
       "    </tr>\n",
       "  </tbody>\n",
       "</table>\n",
       "</div>"
      ],
      "text/plain": [
       "       children  days_employed  dob_years            education  education_id  \\\n",
       "10701         0   -2358.600502         24  неоконченное высшее             2   \n",
       "\n",
       "          family_status  family_status_id gender income_type  debt  \\\n",
       "10701  гражданский брак                 1    XNA   компаньон     0   \n",
       "\n",
       "        total_income               purpose  \n",
       "10701  203905.157261  покупка недвижимости  "
      ]
     },
     "execution_count": 16,
     "metadata": {},
     "output_type": "execute_result"
    }
   ],
   "source": [
    "df[df['gender'] == 'XNA']"
   ]
  },
  {
   "cell_type": "markdown",
   "metadata": {},
   "source": [
    "Всего один заемщик, без пропусков данных о стаже и доходе. На общий результат эта ошибка влиять не будет."
   ]
  },
  {
   "cell_type": "markdown",
   "metadata": {},
   "source": [
    "Теперь проверим влияет ли уровень образования на средний доход:"
   ]
  },
  {
   "cell_type": "code",
   "execution_count": 17,
   "metadata": {},
   "outputs": [
    {
     "data": {
      "text/plain": [
       "[Text(0.5, 0, 'образование, id'), Text(0, 0.5, 'Доход, руб')]"
      ]
     },
     "execution_count": 17,
     "metadata": {},
     "output_type": "execute_result"
    },
    {
     "data": {
      "image/png": "[encoded data removed]",
      "text/plain": [
       "<Figure size 432x288 with 1 Axes>"
      ]
     },
     "metadata": {
      "needs_background": "light"
     },
     "output_type": "display_data"
    }
   ],
   "source": [
    "sns.barplot(data = avg_inc_cat('education_id'), x = 'education_id', y = 'avg_income').set_title('Средний доход людей с определенным уровнем образования').axes.set(xlabel='образование, id', ylabel='Доход, руб')"
   ]
  },
  {
   "cell_type": "markdown",
   "metadata": {},
   "source": [
    "Явно заметно, что от уровня образования зависит доход. При заполнении пропусков это также необходимо учесть."
   ]
  },
  {
   "cell_type": "markdown",
   "metadata": {},
   "source": [
    "#### Исследование зависимости стажа от возраста заемщика."
   ]
  },
  {
   "cell_type": "markdown",
   "metadata": {},
   "source": [
    "Следующая проблема состоит в том, что для людей с пропусками в столбце доходов также отсутствует значение стажа. Предположим что стаж напрямую зависит от возраста. Проверим данное утверждение построив график зависимости стажа в годах от возраста заемщика имеющего род деятельности \"сотрудник\":"
   ]
  },
  {
   "cell_type": "code",
   "execution_count": 18,
   "metadata": {
    "scrolled": true
   },
   "outputs": [
    {
     "data": {
      "text/plain": [
       "[Text(0.5, 0, 'возраст, лет'), Text(0, 0.5, 'стаж, лет')]"
      ]
     },
     "execution_count": 18,
     "metadata": {},
     "output_type": "execute_result"
    },
    {
     "data": {
      "image/png": "[encoded data removed]",
      "text/plain": [
       "<Figure size 432x288 with 1 Axes>"
      ]
     },
     "metadata": {
      "needs_background": "light"
     },
     "output_type": "display_data"
    }
   ],
   "source": [
    "data_for_plot_de_s = df[(df['days_employed'] < 0) & (df['income_type'] == 'сотрудник')]['days_employed'].dropna() / -365.25\n",
    "data_for_plot_dy_s = df[(df['days_employed'] < 0) & (df['income_type'] == 'сотрудник')]['dob_years'].dropna()\n",
    "sns.lineplot(x=data_for_plot_dy_s, y=data_for_plot_de_s).set_title('Зависимость стажа от возраста. Категория \"сотрудник\"').axes.set(xlabel='возраст, лет', ylabel='стаж, лет')"
   ]
  },
  {
   "cell_type": "markdown",
   "metadata": {},
   "source": [
    "Как оказалось, в столбце с возрастом также присутствует аномалия, и возраст некоторых заемщиков равен 0. Эта аномалия, скорее всего, вызвана человеческим фактором при внесении данных в датасет. Исправим это добавив дополнительное условие, что возраст не может быть равен 0:"
   ]
  },
  {
   "cell_type": "code",
   "execution_count": 19,
   "metadata": {
    "scrolled": false
   },
   "outputs": [
    {
     "data": {
      "text/plain": [
       "[Text(0.5, 0, 'возраст, лет'), Text(0, 0.5, 'стаж, лет')]"
      ]
     },
     "execution_count": 19,
     "metadata": {},
     "output_type": "execute_result"
    },
    {
     "data": {
      "image/png": "[encoded data removed]",
      "text/plain": [
       "<Figure size 432x288 with 1 Axes>"
      ]
     },
     "metadata": {
      "needs_background": "light"
     },
     "output_type": "display_data"
    }
   ],
   "source": [
    "data_for_plot_de_s = df[(df['days_employed'] < 0) & (df['income_type'] == 'сотрудник') & (df['dob_years'] != 0)]['days_employed'].dropna() / -365.25\n",
    "data_for_plot_dy_s = df[(df['days_employed'] < 0) & (df['income_type'] == 'сотрудник') & (df['dob_years'] != 0)]['dob_years'].dropna()\n",
    "sns.lineplot(x=data_for_plot_dy_s, y=data_for_plot_de_s).set_title('Зависимость стажа от возраста. Категория \"сотрудник\"').axes.set(xlabel='возраст, лет', ylabel='стаж, лет')"
   ]
  },
  {
   "cell_type": "markdown",
   "metadata": {},
   "source": [
    "Теперь график отражает действительность и мы видим, что в среднем стаж имеет прямую зависимость от возраста."
   ]
  },
  {
   "cell_type": "markdown",
   "metadata": {},
   "source": [
    "Построим аналогичные графики для остальных интересующих нас категорий:"
   ]
  },
  {
   "cell_type": "code",
   "execution_count": 20,
   "metadata": {
    "scrolled": true
   },
   "outputs": [
    {
     "data": {
      "text/plain": [
       "[Text(0.5, 0, 'возраст, лет'), Text(0, 0.5, 'стаж, лет')]"
      ]
     },
     "execution_count": 20,
     "metadata": {},
     "output_type": "execute_result"
    },
    {
     "data": {
      "image/png": "[encoded data removed]",
      "text/plain": [
       "<Figure size 432x288 with 1 Axes>"
      ]
     },
     "metadata": {
      "needs_background": "light"
     },
     "output_type": "display_data"
    }
   ],
   "source": [
    "data_for_plot_de_c = df[(df['days_employed'] < 0) & (df['income_type'] == 'госслужащий') & (df['dob_years'] != 0)]['days_employed'].dropna() / -365.25\n",
    "data_for_plot_dy_c = df[(df['days_employed'] < 0) & (df['income_type'] == 'госслужащий') & (df['dob_years'] != 0)]['dob_years'].dropna()\n",
    "sns.lineplot(x=data_for_plot_dy_c, y=data_for_plot_de_c).set_title('Зависимость стажа от возраста. Категория \"госслужащий\"').axes.set(xlabel='возраст, лет', ylabel='стаж, лет')"
   ]
  },
  {
   "cell_type": "code",
   "execution_count": 21,
   "metadata": {},
   "outputs": [
    {
     "data": {
      "text/plain": [
       "[Text(0.5, 0, 'возраст, лет'), Text(0, 0.5, 'стаж, лет')]"
      ]
     },
     "execution_count": 21,
     "metadata": {},
     "output_type": "execute_result"
    },
    {
     "data": {
      "image/png": "[encoded data removed]",
      "text/plain": [
       "<Figure size 432x288 with 1 Axes>"
      ]
     },
     "metadata": {
      "needs_background": "light"
     },
     "output_type": "display_data"
    }
   ],
   "source": [
    "data_for_plot_de_c = df[(df['days_employed'] < 0) & (df['income_type'] == 'компаньон') & (df['dob_years'] != 0)]['days_employed'].dropna() / -365.25\n",
    "data_for_plot_dy_c = df[(df['days_employed'] < 0) & (df['income_type'] == 'компаньон') & (df['dob_years'] != 0)]['dob_years'].dropna()\n",
    "sns.lineplot(x=data_for_plot_dy_c, y=data_for_plot_de_c).set_title('Зависимость стажа от возраста. Категория \"компаньон\"').axes.set(xlabel='возраст, лет', ylabel='стаж, лет')"
   ]
  },
  {
   "cell_type": "markdown",
   "metadata": {},
   "source": [
    "Исходя их вышепредставленных расчетов можно сделать вывод, что можно заполнить пропуска в колонке стажа исходя из возраста"
   ]
  },
  {
   "cell_type": "markdown",
   "metadata": {},
   "source": [
    "#### Функция для расчета стажа заемщика в зависимости от его возраста"
   ]
  },
  {
   "cell_type": "markdown",
   "metadata": {},
   "source": [
    "Теперь напишем функцию, которая будет расчитывать предполагаемый стаж исходя из востраста заемщика. Для этого применим линейную интерполяцию (за первую точку возмем усредненное значение стажа для заемщиков, чей возраст на 1-3 лет меньше указанного, за вторую - тех, чей возраст больше на 1-3 лет):"
   ]
  },
  {
   "cell_type": "code",
   "execution_count": 22,
   "metadata": {},
   "outputs": [],
   "source": [
    "def days(age):\n",
    "    years_min = df[df['dob_years'] != 0]['dob_years'].min()\n",
    "    years_max = df[df['dob_years'] != 0]['dob_years'].max()\n",
    "    if years_min + 3 <= age <= years_max - 3:\n",
    "        days_emp = df[(df['dob_years'] <= age - 3) & (df['dob_years'] <= age - 1) & (df['days_employed'] < 0)]['days_employed'].mean() + (df[(df['dob_years'] <= age + 1) & (df['dob_years'] <= age + 3) & (df['days_employed'] < 0)]['days_employed'].mean() - df[(df['dob_years'] <= age - 3) & (df['dob_years'] <= age - 1) & (df['days_employed'] < 0)]['days_employed'].mean())/2\n",
    "        return (days_emp)\n",
    "    elif years_min + 3 > age:\n",
    "        days_emp = df[(df['dob_years'] <= age) & (df['dob_years'] <= age + 2) & (df['days_employed'] < 0)]['days_employed'].mean() + (df[(df['dob_years'] <= age + 2) & (df['dob_years'] <= age + 5) & (df['days_employed'] < 0)]['days_employed'].mean() - df[(df['dob_years'] <= age) & (df['dob_years'] <= age + 2) & (df['days_employed'] < 0)]['days_employed'].mean())/1.4\n",
    "        return (days_emp)\n",
    "    elif years_max - 3 < age:\n",
    "        days_emp = df[(df['dob_years'] <= age - 5) & (df['dob_years'] <= age - 2) & (df['days_employed'] < 0)]['days_employed'].mean() + (df[(df['dob_years'] <= age) & (df['dob_years'] <= age - 2) & (df['days_employed'] < 0)]['days_employed'].mean() - df[(df['dob_years'] <= age - 2) & (df['dob_years'] <= age - 5) & (df['days_employed'] < 0)]['days_employed'].mean())/1.4\n",
    "        return (days_emp)"
   ]
  },
  {
   "cell_type": "markdown",
   "metadata": {},
   "source": [
    "#### Заполнение пропусков в столбце стажа"
   ]
  },
  {
   "cell_type": "markdown",
   "metadata": {},
   "source": [
    "Теперь мы готовы заполнить пропуски в столбце стажа."
   ]
  },
  {
   "cell_type": "code",
   "execution_count": 23,
   "metadata": {},
   "outputs": [],
   "source": [
    "inx_with_na = df.index[df['days_employed'].isna()].tolist()\n",
    "for inx in inx_with_na:\n",
    "    if df.loc[inx, 'dob_years'] != 0:\n",
    "        df.loc[inx, 'days_employed'] = days(df.loc[inx, 'dob_years'])"
   ]
  },
  {
   "cell_type": "markdown",
   "metadata": {},
   "source": [
    "Выполним проверку:"
   ]
  },
  {
   "cell_type": "code",
   "execution_count": 24,
   "metadata": {},
   "outputs": [
    {
     "name": "stdout",
     "output_type": "stream",
     "text": [
      "<class 'pandas.core.frame.DataFrame'>\n",
      "RangeIndex: 21525 entries, 0 to 21524\n",
      "Data columns (total 12 columns):\n",
      " #   Column            Non-Null Count  Dtype  \n",
      "---  ------            --------------  -----  \n",
      " 0   children          21525 non-null  int64  \n",
      " 1   days_employed     21515 non-null  float64\n",
      " 2   dob_years         21525 non-null  int64  \n",
      " 3   education         21525 non-null  object \n",
      " 4   education_id      21525 non-null  int64  \n",
      " 5   family_status     21525 non-null  object \n",
      " 6   family_status_id  21525 non-null  int64  \n",
      " 7   gender            21525 non-null  object \n",
      " 8   income_type       21525 non-null  object \n",
      " 9   debt              21525 non-null  int64  \n",
      " 10  total_income      19351 non-null  float64\n",
      " 11  purpose           21525 non-null  object \n",
      "dtypes: float64(2), int64(5), object(5)\n",
      "memory usage: 2.0+ MB\n"
     ]
    }
   ],
   "source": [
    "df.info()"
   ]
  },
  {
   "cell_type": "markdown",
   "metadata": {},
   "source": [
    "Мы видим, что до сих пор присутствует 10 пропусков. Изучим их внимательнее:"
   ]
  },
  {
   "cell_type": "code",
   "execution_count": 25,
   "metadata": {
    "scrolled": false
   },
   "outputs": [
    {
     "data": {
      "text/html": [
       "<div>\n",
       "<style scoped>\n",
       "    .dataframe tbody tr th:only-of-type {\n",
       "        vertical-align: middle;\n",
       "    }\n",
       "\n",
       "    .dataframe tbody tr th {\n",
       "        vertical-align: top;\n",
       "    }\n",
       "\n",
       "    .dataframe thead th {\n",
       "        text-align: right;\n",
       "    }\n",
       "</style>\n",
       "<table border=\"1\" class=\"dataframe\">\n",
       "  <thead>\n",
       "    <tr style=\"text-align: right;\">\n",
       "      <th></th>\n",
       "      <th>children</th>\n",
       "      <th>days_employed</th>\n",
       "      <th>dob_years</th>\n",
       "      <th>education</th>\n",
       "      <th>education_id</th>\n",
       "      <th>family_status</th>\n",
       "      <th>family_status_id</th>\n",
       "      <th>gender</th>\n",
       "      <th>income_type</th>\n",
       "      <th>debt</th>\n",
       "      <th>total_income</th>\n",
       "      <th>purpose</th>\n",
       "    </tr>\n",
       "  </thead>\n",
       "  <tbody>\n",
       "    <tr>\n",
       "      <th>1890</th>\n",
       "      <td>0</td>\n",
       "      <td>NaN</td>\n",
       "      <td>0</td>\n",
       "      <td>высшее</td>\n",
       "      <td>0</td>\n",
       "      <td>Не женат / не замужем</td>\n",
       "      <td>4</td>\n",
       "      <td>F</td>\n",
       "      <td>сотрудник</td>\n",
       "      <td>0</td>\n",
       "      <td>NaN</td>\n",
       "      <td>жилье</td>\n",
       "    </tr>\n",
       "    <tr>\n",
       "      <th>2284</th>\n",
       "      <td>0</td>\n",
       "      <td>NaN</td>\n",
       "      <td>0</td>\n",
       "      <td>среднее</td>\n",
       "      <td>1</td>\n",
       "      <td>вдовец / вдова</td>\n",
       "      <td>2</td>\n",
       "      <td>F</td>\n",
       "      <td>пенсионер</td>\n",
       "      <td>0</td>\n",
       "      <td>NaN</td>\n",
       "      <td>недвижимость</td>\n",
       "    </tr>\n",
       "    <tr>\n",
       "      <th>4064</th>\n",
       "      <td>1</td>\n",
       "      <td>NaN</td>\n",
       "      <td>0</td>\n",
       "      <td>среднее</td>\n",
       "      <td>1</td>\n",
       "      <td>гражданский брак</td>\n",
       "      <td>1</td>\n",
       "      <td>M</td>\n",
       "      <td>компаньон</td>\n",
       "      <td>0</td>\n",
       "      <td>NaN</td>\n",
       "      <td>ремонт жилью</td>\n",
       "    </tr>\n",
       "    <tr>\n",
       "      <th>5014</th>\n",
       "      <td>0</td>\n",
       "      <td>NaN</td>\n",
       "      <td>0</td>\n",
       "      <td>среднее</td>\n",
       "      <td>1</td>\n",
       "      <td>женат / замужем</td>\n",
       "      <td>0</td>\n",
       "      <td>F</td>\n",
       "      <td>компаньон</td>\n",
       "      <td>0</td>\n",
       "      <td>NaN</td>\n",
       "      <td>покупка недвижимости</td>\n",
       "    </tr>\n",
       "    <tr>\n",
       "      <th>6411</th>\n",
       "      <td>0</td>\n",
       "      <td>NaN</td>\n",
       "      <td>0</td>\n",
       "      <td>высшее</td>\n",
       "      <td>0</td>\n",
       "      <td>гражданский брак</td>\n",
       "      <td>1</td>\n",
       "      <td>F</td>\n",
       "      <td>пенсионер</td>\n",
       "      <td>0</td>\n",
       "      <td>NaN</td>\n",
       "      <td>свадьба</td>\n",
       "    </tr>\n",
       "    <tr>\n",
       "      <th>6670</th>\n",
       "      <td>0</td>\n",
       "      <td>NaN</td>\n",
       "      <td>0</td>\n",
       "      <td>Высшее</td>\n",
       "      <td>0</td>\n",
       "      <td>в разводе</td>\n",
       "      <td>3</td>\n",
       "      <td>F</td>\n",
       "      <td>пенсионер</td>\n",
       "      <td>0</td>\n",
       "      <td>NaN</td>\n",
       "      <td>покупка жилой недвижимости</td>\n",
       "    </tr>\n",
       "    <tr>\n",
       "      <th>8574</th>\n",
       "      <td>0</td>\n",
       "      <td>NaN</td>\n",
       "      <td>0</td>\n",
       "      <td>среднее</td>\n",
       "      <td>1</td>\n",
       "      <td>женат / замужем</td>\n",
       "      <td>0</td>\n",
       "      <td>F</td>\n",
       "      <td>сотрудник</td>\n",
       "      <td>0</td>\n",
       "      <td>NaN</td>\n",
       "      <td>недвижимость</td>\n",
       "    </tr>\n",
       "    <tr>\n",
       "      <th>12403</th>\n",
       "      <td>3</td>\n",
       "      <td>NaN</td>\n",
       "      <td>0</td>\n",
       "      <td>среднее</td>\n",
       "      <td>1</td>\n",
       "      <td>женат / замужем</td>\n",
       "      <td>0</td>\n",
       "      <td>M</td>\n",
       "      <td>сотрудник</td>\n",
       "      <td>0</td>\n",
       "      <td>NaN</td>\n",
       "      <td>операции с коммерческой недвижимостью</td>\n",
       "    </tr>\n",
       "    <tr>\n",
       "      <th>13741</th>\n",
       "      <td>0</td>\n",
       "      <td>NaN</td>\n",
       "      <td>0</td>\n",
       "      <td>среднее</td>\n",
       "      <td>1</td>\n",
       "      <td>гражданский брак</td>\n",
       "      <td>1</td>\n",
       "      <td>F</td>\n",
       "      <td>сотрудник</td>\n",
       "      <td>0</td>\n",
       "      <td>NaN</td>\n",
       "      <td>на проведение свадьбы</td>\n",
       "    </tr>\n",
       "    <tr>\n",
       "      <th>19829</th>\n",
       "      <td>0</td>\n",
       "      <td>NaN</td>\n",
       "      <td>0</td>\n",
       "      <td>среднее</td>\n",
       "      <td>1</td>\n",
       "      <td>женат / замужем</td>\n",
       "      <td>0</td>\n",
       "      <td>F</td>\n",
       "      <td>сотрудник</td>\n",
       "      <td>0</td>\n",
       "      <td>NaN</td>\n",
       "      <td>жилье</td>\n",
       "    </tr>\n",
       "  </tbody>\n",
       "</table>\n",
       "</div>"
      ],
      "text/plain": [
       "       children  days_employed  dob_years education  education_id  \\\n",
       "1890          0            NaN          0    высшее             0   \n",
       "2284          0            NaN          0   среднее             1   \n",
       "4064          1            NaN          0   среднее             1   \n",
       "5014          0            NaN          0   среднее             1   \n",
       "6411          0            NaN          0    высшее             0   \n",
       "6670          0            NaN          0    Высшее             0   \n",
       "8574          0            NaN          0   среднее             1   \n",
       "12403         3            NaN          0   среднее             1   \n",
       "13741         0            NaN          0   среднее             1   \n",
       "19829         0            NaN          0   среднее             1   \n",
       "\n",
       "               family_status  family_status_id gender income_type  debt  \\\n",
       "1890   Не женат / не замужем                 4      F   сотрудник     0   \n",
       "2284          вдовец / вдова                 2      F   пенсионер     0   \n",
       "4064        гражданский брак                 1      M   компаньон     0   \n",
       "5014         женат / замужем                 0      F   компаньон     0   \n",
       "6411        гражданский брак                 1      F   пенсионер     0   \n",
       "6670               в разводе                 3      F   пенсионер     0   \n",
       "8574         женат / замужем                 0      F   сотрудник     0   \n",
       "12403        женат / замужем                 0      M   сотрудник     0   \n",
       "13741       гражданский брак                 1      F   сотрудник     0   \n",
       "19829        женат / замужем                 0      F   сотрудник     0   \n",
       "\n",
       "       total_income                                purpose  \n",
       "1890            NaN                                  жилье  \n",
       "2284            NaN                           недвижимость  \n",
       "4064            NaN                           ремонт жилью  \n",
       "5014            NaN                   покупка недвижимости  \n",
       "6411            NaN                                свадьба  \n",
       "6670            NaN             покупка жилой недвижимости  \n",
       "8574            NaN                           недвижимость  \n",
       "12403           NaN  операции с коммерческой недвижимостью  \n",
       "13741           NaN                  на проведение свадьбы  \n",
       "19829           NaN                                  жилье  "
      ]
     },
     "execution_count": 25,
     "metadata": {},
     "output_type": "execute_result"
    }
   ],
   "source": [
    "df[df['days_employed'].isna()]"
   ]
  },
  {
   "cell_type": "markdown",
   "metadata": {},
   "source": [
    "В итоге мы имеем пропуски для людей у которых не заполнены данные ни о стаже, ни о возрасте, ни о доходах. Мы запомнили что такие данные есть и вернемся к ним позже."
   ]
  },
  {
   "cell_type": "markdown",
   "metadata": {},
   "source": [
    "Таким образом мы избавились почти от всех пропусков в столбце стажа и теперь сможем расчитать предполагаемый доход заемщиков исходя из стажа, образования и пола."
   ]
  },
  {
   "cell_type": "markdown",
   "metadata": {},
   "source": [
    "#### Функция для расчета среднего значения дохода для расчитываемых категорий"
   ]
  },
  {
   "cell_type": "markdown",
   "metadata": {},
   "source": [
    "Напишем функцию, которая будет разбивать всех заемщиков попадающих в указанную категорию по типу занятости, образованию, полу и стажу. Для расчета будет использоваться усредненное значение дохода тех заемщиков, чей стаж находится в диапазоне +- год от искомого, плюс учитывается уровень образования, пол и тип занятости:"
   ]
  },
  {
   "cell_type": "code",
   "execution_count": 26,
   "metadata": {},
   "outputs": [],
   "source": [
    "date_filter = (df['days_employed'] > df['days_employed'] - 356) & (df['days_employed'] < df['days_employed'] + 356)\n",
    "income_type_filter = df['income_type'].isin(['сотрудник', 'компаньон', 'госслужащий'])\n",
    "days_employed_filter = ~df['days_employed'].isna()\n",
    "total_filter = date_filter & income_type_filter & days_employed_filter\n",
    " \n",
    "transformed_df = df[total_filter].groupby(['education_id', 'gender', 'income_type'])['total_income'].transform('mean')\n",
    " \n",
    "df.loc[total_filter, 'total_income'] = df.loc[total_filter, 'total_income'].fillna(transformed_df)"
   ]
  },
  {
   "cell_type": "markdown",
   "metadata": {},
   "source": [
    "Проверим заполнение данных:"
   ]
  },
  {
   "cell_type": "code",
   "execution_count": 27,
   "metadata": {
    "scrolled": true
   },
   "outputs": [
    {
     "name": "stdout",
     "output_type": "stream",
     "text": [
      "<class 'pandas.core.frame.DataFrame'>\n",
      "RangeIndex: 21525 entries, 0 to 21524\n",
      "Data columns (total 12 columns):\n",
      " #   Column            Non-Null Count  Dtype  \n",
      "---  ------            --------------  -----  \n",
      " 0   children          21525 non-null  int64  \n",
      " 1   days_employed     21515 non-null  float64\n",
      " 2   dob_years         21525 non-null  int64  \n",
      " 3   education         21525 non-null  object \n",
      " 4   education_id      21525 non-null  int64  \n",
      " 5   family_status     21525 non-null  object \n",
      " 6   family_status_id  21525 non-null  int64  \n",
      " 7   gender            21525 non-null  object \n",
      " 8   income_type       21525 non-null  object \n",
      " 9   debt              21525 non-null  int64  \n",
      " 10  total_income      21104 non-null  float64\n",
      " 11  purpose           21525 non-null  object \n",
      "dtypes: float64(2), int64(5), object(5)\n",
      "memory usage: 2.0+ MB\n"
     ]
    }
   ],
   "source": [
    "df.info()"
   ]
  },
  {
   "cell_type": "markdown",
   "metadata": {},
   "source": [
    "Не забываем, что мы до сих пор не учитывали пенсионеров. Еще мы помним, что для части заемщиков мы не смогли посчитать стаж по причине отсутствия у них возраста. Проверим куда у нас закрались пропуски для категорий сотрудник, компаньон, госслужащий:"
   ]
  },
  {
   "cell_type": "code",
   "execution_count": 28,
   "metadata": {
    "scrolled": true
   },
   "outputs": [
    {
     "data": {
      "text/html": [
       "<div>\n",
       "<style scoped>\n",
       "    .dataframe tbody tr th:only-of-type {\n",
       "        vertical-align: middle;\n",
       "    }\n",
       "\n",
       "    .dataframe tbody tr th {\n",
       "        vertical-align: top;\n",
       "    }\n",
       "\n",
       "    .dataframe thead th {\n",
       "        text-align: right;\n",
       "    }\n",
       "</style>\n",
       "<table border=\"1\" class=\"dataframe\">\n",
       "  <thead>\n",
       "    <tr style=\"text-align: right;\">\n",
       "      <th></th>\n",
       "      <th>children</th>\n",
       "      <th>days_employed</th>\n",
       "      <th>dob_years</th>\n",
       "      <th>education</th>\n",
       "      <th>education_id</th>\n",
       "      <th>family_status</th>\n",
       "      <th>family_status_id</th>\n",
       "      <th>gender</th>\n",
       "      <th>income_type</th>\n",
       "      <th>debt</th>\n",
       "      <th>total_income</th>\n",
       "      <th>purpose</th>\n",
       "    </tr>\n",
       "  </thead>\n",
       "  <tbody>\n",
       "  </tbody>\n",
       "</table>\n",
       "</div>"
      ],
      "text/plain": [
       "Empty DataFrame\n",
       "Columns: [children, days_employed, dob_years, education, education_id, family_status, family_status_id, gender, income_type, debt, total_income, purpose]\n",
       "Index: []"
      ]
     },
     "execution_count": 28,
     "metadata": {},
     "output_type": "execute_result"
    }
   ],
   "source": [
    "df[df['total_income'].isna() & df['income_type'].isin(['сотрудник', 'компаньон', 'госслужащий']) & (df['dob_years'] != 0)]"
   ]
  },
  {
   "cell_type": "markdown",
   "metadata": {},
   "source": [
    "Нашлось одно исключение, для которого наша функция не сработала. Возможно не получилось корректно интерполировать данные для данного случая. Проверим какие еще заемщики из этой категории присутствуют в датасете:"
   ]
  },
  {
   "cell_type": "code",
   "execution_count": 29,
   "metadata": {
    "scrolled": true
   },
   "outputs": [
    {
     "data": {
      "text/html": [
       "<div>\n",
       "<style scoped>\n",
       "    .dataframe tbody tr th:only-of-type {\n",
       "        vertical-align: middle;\n",
       "    }\n",
       "\n",
       "    .dataframe tbody tr th {\n",
       "        vertical-align: top;\n",
       "    }\n",
       "\n",
       "    .dataframe thead th {\n",
       "        text-align: right;\n",
       "    }\n",
       "</style>\n",
       "<table border=\"1\" class=\"dataframe\">\n",
       "  <thead>\n",
       "    <tr style=\"text-align: right;\">\n",
       "      <th></th>\n",
       "      <th>children</th>\n",
       "      <th>days_employed</th>\n",
       "      <th>dob_years</th>\n",
       "      <th>education</th>\n",
       "      <th>education_id</th>\n",
       "      <th>family_status</th>\n",
       "      <th>family_status_id</th>\n",
       "      <th>gender</th>\n",
       "      <th>income_type</th>\n",
       "      <th>debt</th>\n",
       "      <th>total_income</th>\n",
       "      <th>purpose</th>\n",
       "    </tr>\n",
       "  </thead>\n",
       "  <tbody>\n",
       "    <tr>\n",
       "      <th>2367</th>\n",
       "      <td>1</td>\n",
       "      <td>-3043.933615</td>\n",
       "      <td>37</td>\n",
       "      <td>начальное</td>\n",
       "      <td>3</td>\n",
       "      <td>гражданский брак</td>\n",
       "      <td>1</td>\n",
       "      <td>F</td>\n",
       "      <td>госслужащий</td>\n",
       "      <td>1</td>\n",
       "      <td>73471.521358</td>\n",
       "      <td>высшее образование</td>\n",
       "    </tr>\n",
       "    <tr>\n",
       "      <th>4951</th>\n",
       "      <td>0</td>\n",
       "      <td>-2531.601190</td>\n",
       "      <td>59</td>\n",
       "      <td>начальное</td>\n",
       "      <td>3</td>\n",
       "      <td>женат / замужем</td>\n",
       "      <td>0</td>\n",
       "      <td>F</td>\n",
       "      <td>госслужащий</td>\n",
       "      <td>0</td>\n",
       "      <td>105766.403301</td>\n",
       "      <td>строительство недвижимости</td>\n",
       "    </tr>\n",
       "    <tr>\n",
       "      <th>8142</th>\n",
       "      <td>0</td>\n",
       "      <td>-2310.128290</td>\n",
       "      <td>64</td>\n",
       "      <td>начальное</td>\n",
       "      <td>3</td>\n",
       "      <td>гражданский брак</td>\n",
       "      <td>1</td>\n",
       "      <td>F</td>\n",
       "      <td>госслужащий</td>\n",
       "      <td>0</td>\n",
       "      <td>89618.962330</td>\n",
       "      <td>сыграть свадьбу</td>\n",
       "    </tr>\n",
       "    <tr>\n",
       "      <th>17014</th>\n",
       "      <td>0</td>\n",
       "      <td>-1658.972637</td>\n",
       "      <td>39</td>\n",
       "      <td>начальное</td>\n",
       "      <td>3</td>\n",
       "      <td>женат / замужем</td>\n",
       "      <td>0</td>\n",
       "      <td>F</td>\n",
       "      <td>госслужащий</td>\n",
       "      <td>0</td>\n",
       "      <td>89618.962330</td>\n",
       "      <td>операции с коммерческой недвижимостью</td>\n",
       "    </tr>\n",
       "  </tbody>\n",
       "</table>\n",
       "</div>"
      ],
      "text/plain": [
       "       children  days_employed  dob_years  education  education_id  \\\n",
       "2367          1   -3043.933615         37  начальное             3   \n",
       "4951          0   -2531.601190         59  начальное             3   \n",
       "8142          0   -2310.128290         64  начальное             3   \n",
       "17014         0   -1658.972637         39  начальное             3   \n",
       "\n",
       "          family_status  family_status_id gender  income_type  debt  \\\n",
       "2367   гражданский брак                 1      F  госслужащий     1   \n",
       "4951    женат / замужем                 0      F  госслужащий     0   \n",
       "8142   гражданский брак                 1      F  госслужащий     0   \n",
       "17014   женат / замужем                 0      F  госслужащий     0   \n",
       "\n",
       "        total_income                                purpose  \n",
       "2367    73471.521358                     высшее образование  \n",
       "4951   105766.403301             строительство недвижимости  \n",
       "8142    89618.962330                        сыграть свадьбу  \n",
       "17014   89618.962330  операции с коммерческой недвижимостью  "
      ]
     },
     "execution_count": 29,
     "metadata": {},
     "output_type": "execute_result"
    }
   ],
   "source": [
    "df[(df['education_id'] == 3) & (df['gender'] == 'F') & (df['income_type'] == 'госслужащий')]"
   ]
  },
  {
   "cell_type": "markdown",
   "metadata": {},
   "source": [
    "Действительно, в данном случае линейная интерполяция не сработала. Тогда просто запоним эту строчку средним значением и сразу выведем её на экран для проверки:"
   ]
  },
  {
   "cell_type": "code",
   "execution_count": 30,
   "metadata": {
    "scrolled": true
   },
   "outputs": [
    {
     "data": {
      "text/html": [
       "<div>\n",
       "<style scoped>\n",
       "    .dataframe tbody tr th:only-of-type {\n",
       "        vertical-align: middle;\n",
       "    }\n",
       "\n",
       "    .dataframe tbody tr th {\n",
       "        vertical-align: top;\n",
       "    }\n",
       "\n",
       "    .dataframe thead th {\n",
       "        text-align: right;\n",
       "    }\n",
       "</style>\n",
       "<table border=\"1\" class=\"dataframe\">\n",
       "  <thead>\n",
       "    <tr style=\"text-align: right;\">\n",
       "      <th></th>\n",
       "      <th>children</th>\n",
       "      <th>days_employed</th>\n",
       "      <th>dob_years</th>\n",
       "      <th>education</th>\n",
       "      <th>education_id</th>\n",
       "      <th>family_status</th>\n",
       "      <th>family_status_id</th>\n",
       "      <th>gender</th>\n",
       "      <th>income_type</th>\n",
       "      <th>debt</th>\n",
       "      <th>total_income</th>\n",
       "      <th>purpose</th>\n",
       "    </tr>\n",
       "  </thead>\n",
       "  <tbody>\n",
       "    <tr>\n",
       "      <th>2367</th>\n",
       "      <td>1</td>\n",
       "      <td>-3043.933615</td>\n",
       "      <td>37</td>\n",
       "      <td>начальное</td>\n",
       "      <td>3</td>\n",
       "      <td>гражданский брак</td>\n",
       "      <td>1</td>\n",
       "      <td>F</td>\n",
       "      <td>госслужащий</td>\n",
       "      <td>1</td>\n",
       "      <td>73471.521358</td>\n",
       "      <td>высшее образование</td>\n",
       "    </tr>\n",
       "    <tr>\n",
       "      <th>4951</th>\n",
       "      <td>0</td>\n",
       "      <td>-2531.601190</td>\n",
       "      <td>59</td>\n",
       "      <td>начальное</td>\n",
       "      <td>3</td>\n",
       "      <td>женат / замужем</td>\n",
       "      <td>0</td>\n",
       "      <td>F</td>\n",
       "      <td>госслужащий</td>\n",
       "      <td>0</td>\n",
       "      <td>105766.403301</td>\n",
       "      <td>строительство недвижимости</td>\n",
       "    </tr>\n",
       "    <tr>\n",
       "      <th>8142</th>\n",
       "      <td>0</td>\n",
       "      <td>-2310.128290</td>\n",
       "      <td>64</td>\n",
       "      <td>начальное</td>\n",
       "      <td>3</td>\n",
       "      <td>гражданский брак</td>\n",
       "      <td>1</td>\n",
       "      <td>F</td>\n",
       "      <td>госслужащий</td>\n",
       "      <td>0</td>\n",
       "      <td>89618.962330</td>\n",
       "      <td>сыграть свадьбу</td>\n",
       "    </tr>\n",
       "    <tr>\n",
       "      <th>17014</th>\n",
       "      <td>0</td>\n",
       "      <td>-1658.972637</td>\n",
       "      <td>39</td>\n",
       "      <td>начальное</td>\n",
       "      <td>3</td>\n",
       "      <td>женат / замужем</td>\n",
       "      <td>0</td>\n",
       "      <td>F</td>\n",
       "      <td>госслужащий</td>\n",
       "      <td>0</td>\n",
       "      <td>89618.962330</td>\n",
       "      <td>операции с коммерческой недвижимостью</td>\n",
       "    </tr>\n",
       "  </tbody>\n",
       "</table>\n",
       "</div>"
      ],
      "text/plain": [
       "       children  days_employed  dob_years  education  education_id  \\\n",
       "2367          1   -3043.933615         37  начальное             3   \n",
       "4951          0   -2531.601190         59  начальное             3   \n",
       "8142          0   -2310.128290         64  начальное             3   \n",
       "17014         0   -1658.972637         39  начальное             3   \n",
       "\n",
       "          family_status  family_status_id gender  income_type  debt  \\\n",
       "2367   гражданский брак                 1      F  госслужащий     1   \n",
       "4951    женат / замужем                 0      F  госслужащий     0   \n",
       "8142   гражданский брак                 1      F  госслужащий     0   \n",
       "17014   женат / замужем                 0      F  госслужащий     0   \n",
       "\n",
       "        total_income                                purpose  \n",
       "2367    73471.521358                     высшее образование  \n",
       "4951   105766.403301             строительство недвижимости  \n",
       "8142    89618.962330                        сыграть свадьбу  \n",
       "17014   89618.962330  операции с коммерческой недвижимостью  "
      ]
     },
     "execution_count": 30,
     "metadata": {},
     "output_type": "execute_result"
    }
   ],
   "source": [
    "df.loc[17014, 'total_income'] = df[(df['education_id'] == 3) & (df['gender'] == 'F') & (df['income_type'] == 'госслужащий')]['total_income'].mean()\n",
    "df[(df['education_id'] == 3) & (df['gender'] == 'F') & (df['income_type'] == 'госслужащий')]"
   ]
  },
  {
   "cell_type": "markdown",
   "metadata": {},
   "source": [
    "Осталась последняя большая категория с пропущенными значениями дохода. Это пенсионеры. Поскольку стаж у пенсионеров \"сломан\" нам придется просто заполнить пропуски средним значением для этой категории."
   ]
  },
  {
   "cell_type": "code",
   "execution_count": 31,
   "metadata": {},
   "outputs": [],
   "source": [
    "df[df['income_type'] == 'пенсионер'] = df[df['income_type'] == 'пенсионер'].fillna(df[df['income_type'] == 'пенсионер']['total_income'].mean())"
   ]
  },
  {
   "cell_type": "code",
   "execution_count": 32,
   "metadata": {
    "scrolled": true
   },
   "outputs": [
    {
     "name": "stdout",
     "output_type": "stream",
     "text": [
      "<class 'pandas.core.frame.DataFrame'>\n",
      "RangeIndex: 21525 entries, 0 to 21524\n",
      "Data columns (total 12 columns):\n",
      " #   Column            Non-Null Count  Dtype  \n",
      "---  ------            --------------  -----  \n",
      " 0   children          21525 non-null  int64  \n",
      " 1   days_employed     21518 non-null  float64\n",
      " 2   dob_years         21525 non-null  int64  \n",
      " 3   education         21525 non-null  object \n",
      " 4   education_id      21525 non-null  int64  \n",
      " 5   family_status     21525 non-null  object \n",
      " 6   family_status_id  21525 non-null  int64  \n",
      " 7   gender            21525 non-null  object \n",
      " 8   income_type       21525 non-null  object \n",
      " 9   debt              21525 non-null  int64  \n",
      " 10  total_income      21517 non-null  float64\n",
      " 11  purpose           21525 non-null  object \n",
      "dtypes: float64(2), int64(5), object(5)\n",
      "memory usage: 2.0+ MB\n"
     ]
    }
   ],
   "source": [
    "df.info()"
   ]
  },
  {
   "cell_type": "markdown",
   "metadata": {},
   "source": [
    "Осталось меньше 10 заемщиков с пропусками. Изучим их:"
   ]
  },
  {
   "cell_type": "code",
   "execution_count": 33,
   "metadata": {
    "scrolled": false
   },
   "outputs": [
    {
     "data": {
      "text/html": [
       "<div>\n",
       "<style scoped>\n",
       "    .dataframe tbody tr th:only-of-type {\n",
       "        vertical-align: middle;\n",
       "    }\n",
       "\n",
       "    .dataframe tbody tr th {\n",
       "        vertical-align: top;\n",
       "    }\n",
       "\n",
       "    .dataframe thead th {\n",
       "        text-align: right;\n",
       "    }\n",
       "</style>\n",
       "<table border=\"1\" class=\"dataframe\">\n",
       "  <thead>\n",
       "    <tr style=\"text-align: right;\">\n",
       "      <th></th>\n",
       "      <th>children</th>\n",
       "      <th>days_employed</th>\n",
       "      <th>dob_years</th>\n",
       "      <th>education</th>\n",
       "      <th>education_id</th>\n",
       "      <th>family_status</th>\n",
       "      <th>family_status_id</th>\n",
       "      <th>gender</th>\n",
       "      <th>income_type</th>\n",
       "      <th>debt</th>\n",
       "      <th>total_income</th>\n",
       "      <th>purpose</th>\n",
       "    </tr>\n",
       "  </thead>\n",
       "  <tbody>\n",
       "    <tr>\n",
       "      <th>1890</th>\n",
       "      <td>0</td>\n",
       "      <td>NaN</td>\n",
       "      <td>0</td>\n",
       "      <td>высшее</td>\n",
       "      <td>0</td>\n",
       "      <td>Не женат / не замужем</td>\n",
       "      <td>4</td>\n",
       "      <td>F</td>\n",
       "      <td>сотрудник</td>\n",
       "      <td>0</td>\n",
       "      <td>NaN</td>\n",
       "      <td>жилье</td>\n",
       "    </tr>\n",
       "    <tr>\n",
       "      <th>4064</th>\n",
       "      <td>1</td>\n",
       "      <td>NaN</td>\n",
       "      <td>0</td>\n",
       "      <td>среднее</td>\n",
       "      <td>1</td>\n",
       "      <td>гражданский брак</td>\n",
       "      <td>1</td>\n",
       "      <td>M</td>\n",
       "      <td>компаньон</td>\n",
       "      <td>0</td>\n",
       "      <td>NaN</td>\n",
       "      <td>ремонт жилью</td>\n",
       "    </tr>\n",
       "    <tr>\n",
       "      <th>5014</th>\n",
       "      <td>0</td>\n",
       "      <td>NaN</td>\n",
       "      <td>0</td>\n",
       "      <td>среднее</td>\n",
       "      <td>1</td>\n",
       "      <td>женат / замужем</td>\n",
       "      <td>0</td>\n",
       "      <td>F</td>\n",
       "      <td>компаньон</td>\n",
       "      <td>0</td>\n",
       "      <td>NaN</td>\n",
       "      <td>покупка недвижимости</td>\n",
       "    </tr>\n",
       "    <tr>\n",
       "      <th>5936</th>\n",
       "      <td>0</td>\n",
       "      <td>-2257.505356</td>\n",
       "      <td>58</td>\n",
       "      <td>высшее</td>\n",
       "      <td>0</td>\n",
       "      <td>женат / замужем</td>\n",
       "      <td>0</td>\n",
       "      <td>M</td>\n",
       "      <td>предприниматель</td>\n",
       "      <td>0</td>\n",
       "      <td>NaN</td>\n",
       "      <td>покупка жилой недвижимости</td>\n",
       "    </tr>\n",
       "    <tr>\n",
       "      <th>8574</th>\n",
       "      <td>0</td>\n",
       "      <td>NaN</td>\n",
       "      <td>0</td>\n",
       "      <td>среднее</td>\n",
       "      <td>1</td>\n",
       "      <td>женат / замужем</td>\n",
       "      <td>0</td>\n",
       "      <td>F</td>\n",
       "      <td>сотрудник</td>\n",
       "      <td>0</td>\n",
       "      <td>NaN</td>\n",
       "      <td>недвижимость</td>\n",
       "    </tr>\n",
       "    <tr>\n",
       "      <th>12403</th>\n",
       "      <td>3</td>\n",
       "      <td>NaN</td>\n",
       "      <td>0</td>\n",
       "      <td>среднее</td>\n",
       "      <td>1</td>\n",
       "      <td>женат / замужем</td>\n",
       "      <td>0</td>\n",
       "      <td>M</td>\n",
       "      <td>сотрудник</td>\n",
       "      <td>0</td>\n",
       "      <td>NaN</td>\n",
       "      <td>операции с коммерческой недвижимостью</td>\n",
       "    </tr>\n",
       "    <tr>\n",
       "      <th>13741</th>\n",
       "      <td>0</td>\n",
       "      <td>NaN</td>\n",
       "      <td>0</td>\n",
       "      <td>среднее</td>\n",
       "      <td>1</td>\n",
       "      <td>гражданский брак</td>\n",
       "      <td>1</td>\n",
       "      <td>F</td>\n",
       "      <td>сотрудник</td>\n",
       "      <td>0</td>\n",
       "      <td>NaN</td>\n",
       "      <td>на проведение свадьбы</td>\n",
       "    </tr>\n",
       "    <tr>\n",
       "      <th>19829</th>\n",
       "      <td>0</td>\n",
       "      <td>NaN</td>\n",
       "      <td>0</td>\n",
       "      <td>среднее</td>\n",
       "      <td>1</td>\n",
       "      <td>женат / замужем</td>\n",
       "      <td>0</td>\n",
       "      <td>F</td>\n",
       "      <td>сотрудник</td>\n",
       "      <td>0</td>\n",
       "      <td>NaN</td>\n",
       "      <td>жилье</td>\n",
       "    </tr>\n",
       "  </tbody>\n",
       "</table>\n",
       "</div>"
      ],
      "text/plain": [
       "       children  days_employed  dob_years education  education_id  \\\n",
       "1890          0            NaN          0    высшее             0   \n",
       "4064          1            NaN          0   среднее             1   \n",
       "5014          0            NaN          0   среднее             1   \n",
       "5936          0   -2257.505356         58    высшее             0   \n",
       "8574          0            NaN          0   среднее             1   \n",
       "12403         3            NaN          0   среднее             1   \n",
       "13741         0            NaN          0   среднее             1   \n",
       "19829         0            NaN          0   среднее             1   \n",
       "\n",
       "               family_status  family_status_id gender      income_type  debt  \\\n",
       "1890   Не женат / не замужем                 4      F        сотрудник     0   \n",
       "4064        гражданский брак                 1      M        компаньон     0   \n",
       "5014         женат / замужем                 0      F        компаньон     0   \n",
       "5936         женат / замужем                 0      M  предприниматель     0   \n",
       "8574         женат / замужем                 0      F        сотрудник     0   \n",
       "12403        женат / замужем                 0      M        сотрудник     0   \n",
       "13741       гражданский брак                 1      F        сотрудник     0   \n",
       "19829        женат / замужем                 0      F        сотрудник     0   \n",
       "\n",
       "       total_income                                purpose  \n",
       "1890            NaN                                  жилье  \n",
       "4064            NaN                           ремонт жилью  \n",
       "5014            NaN                   покупка недвижимости  \n",
       "5936            NaN             покупка жилой недвижимости  \n",
       "8574            NaN                           недвижимость  \n",
       "12403           NaN  операции с коммерческой недвижимостью  \n",
       "13741           NaN                  на проведение свадьбы  \n",
       "19829           NaN                                  жилье  "
      ]
     },
     "execution_count": 33,
     "metadata": {},
     "output_type": "execute_result"
    }
   ],
   "source": [
    "df[df['days_employed'].isna() | df['total_income'].isna()]"
   ]
  },
  {
   "cell_type": "markdown",
   "metadata": {},
   "source": [
    "Мы видим, что при расчете стажа случайно зацепили категорию \"предприниматель\". Но ситуацию это не меняет, данные стажа далее в расчетах использоваться не будут, а для расчета дохода для данной категории слишком мало данных (как мы помним, предпринимателей было всего 2 на весь датасет). Итак, осталось всего 8 строк в которых встречаются пропуски данных. Проверим какая это доля от всего датасета:"
   ]
  },
  {
   "cell_type": "code",
   "execution_count": 34,
   "metadata": {},
   "outputs": [
    {
     "data": {
      "text/plain": [
       "children            0.000000\n",
       "days_employed       0.000325\n",
       "dob_years           0.000000\n",
       "education           0.000000\n",
       "education_id        0.000000\n",
       "family_status       0.000000\n",
       "family_status_id    0.000000\n",
       "gender              0.000000\n",
       "income_type         0.000000\n",
       "debt                0.000000\n",
       "total_income        0.000372\n",
       "purpose             0.000000\n",
       "dtype: float64"
      ]
     },
     "execution_count": 34,
     "metadata": {},
     "output_type": "execute_result"
    }
   ],
   "source": [
    "df.isna().mean()"
   ]
  },
  {
   "cell_type": "markdown",
   "metadata": {},
   "source": [
    "Всего 0,04%. За неимением возможности заполнить эти пропуски просто удалим эти данные."
   ]
  },
  {
   "cell_type": "code",
   "execution_count": 35,
   "metadata": {},
   "outputs": [
    {
     "data": {
      "text/plain": [
       "children            0\n",
       "days_employed       0\n",
       "dob_years           0\n",
       "education           0\n",
       "education_id        0\n",
       "family_status       0\n",
       "family_status_id    0\n",
       "gender              0\n",
       "income_type         0\n",
       "debt                0\n",
       "total_income        0\n",
       "purpose             0\n",
       "dtype: int64"
      ]
     },
     "execution_count": 35,
     "metadata": {},
     "output_type": "execute_result"
    }
   ],
   "source": [
    "df = df.dropna().reset_index(drop = True)\n",
    "df.isna().sum()"
   ]
  },
  {
   "cell_type": "markdown",
   "metadata": {},
   "source": [
    "Заменим также нулевые значения возраста. Для начала узнаем, сколько именно у нас таких строк:"
   ]
  },
  {
   "cell_type": "code",
   "execution_count": 36,
   "metadata": {},
   "outputs": [
    {
     "data": {
      "text/plain": [
       "94"
      ]
     },
     "execution_count": 36,
     "metadata": {},
     "output_type": "execute_result"
    }
   ],
   "source": [
    "df[df['dob_years'] == 0]['dob_years'].count()"
   ]
  },
  {
   "cell_type": "markdown",
   "metadata": {},
   "source": [
    "Заполним пропуска в столбце возраста, рассчитав значение исходя из стажа:"
   ]
  },
  {
   "cell_type": "code",
   "execution_count": 37,
   "metadata": {},
   "outputs": [],
   "source": [
    "def years_old(days_emp):\n",
    "    if days_emp < 0:\n",
    "        return int(df[(df['days_employed'] > days_emp - 365) & (df['days_employed'] < days_emp + 365)]['dob_years'].mean())\n",
    "    else:\n",
    "        return 0"
   ]
  },
  {
   "cell_type": "code",
   "execution_count": 38,
   "metadata": {
    "scrolled": false
   },
   "outputs": [],
   "source": [
    "df.loc[df['dob_years'] == 0, 'dob_years'] = df.loc[df['dob_years'] == 0, 'days_employed'].apply(lambda x: years_old(x))"
   ]
  },
  {
   "cell_type": "code",
   "execution_count": 39,
   "metadata": {
    "scrolled": false
   },
   "outputs": [
    {
     "data": {
      "text/html": [
       "<div>\n",
       "<style scoped>\n",
       "    .dataframe tbody tr th:only-of-type {\n",
       "        vertical-align: middle;\n",
       "    }\n",
       "\n",
       "    .dataframe tbody tr th {\n",
       "        vertical-align: top;\n",
       "    }\n",
       "\n",
       "    .dataframe thead th {\n",
       "        text-align: right;\n",
       "    }\n",
       "</style>\n",
       "<table border=\"1\" class=\"dataframe\">\n",
       "  <thead>\n",
       "    <tr style=\"text-align: right;\">\n",
       "      <th></th>\n",
       "      <th>children</th>\n",
       "      <th>days_employed</th>\n",
       "      <th>dob_years</th>\n",
       "      <th>education</th>\n",
       "      <th>education_id</th>\n",
       "      <th>family_status</th>\n",
       "      <th>family_status_id</th>\n",
       "      <th>gender</th>\n",
       "      <th>income_type</th>\n",
       "      <th>debt</th>\n",
       "      <th>total_income</th>\n",
       "      <th>purpose</th>\n",
       "    </tr>\n",
       "  </thead>\n",
       "  <tbody>\n",
       "  </tbody>\n",
       "</table>\n",
       "</div>"
      ],
      "text/plain": [
       "Empty DataFrame\n",
       "Columns: [children, days_employed, dob_years, education, education_id, family_status, family_status_id, gender, income_type, debt, total_income, purpose]\n",
       "Index: []"
      ]
     },
     "execution_count": 39,
     "metadata": {},
     "output_type": "execute_result"
    }
   ],
   "source": [
    "df[df['dob_years'].isna()]"
   ]
  },
  {
   "cell_type": "code",
   "execution_count": 40,
   "metadata": {
    "scrolled": true
   },
   "outputs": [
    {
     "data": {
      "text/html": [
       "<div>\n",
       "<style scoped>\n",
       "    .dataframe tbody tr th:only-of-type {\n",
       "        vertical-align: middle;\n",
       "    }\n",
       "\n",
       "    .dataframe tbody tr th {\n",
       "        vertical-align: top;\n",
       "    }\n",
       "\n",
       "    .dataframe thead th {\n",
       "        text-align: right;\n",
       "    }\n",
       "</style>\n",
       "<table border=\"1\" class=\"dataframe\">\n",
       "  <thead>\n",
       "    <tr style=\"text-align: right;\">\n",
       "      <th></th>\n",
       "      <th>children</th>\n",
       "      <th>days_employed</th>\n",
       "      <th>dob_years</th>\n",
       "      <th>education</th>\n",
       "      <th>education_id</th>\n",
       "      <th>family_status</th>\n",
       "      <th>family_status_id</th>\n",
       "      <th>gender</th>\n",
       "      <th>income_type</th>\n",
       "      <th>debt</th>\n",
       "      <th>total_income</th>\n",
       "      <th>purpose</th>\n",
       "    </tr>\n",
       "  </thead>\n",
       "  <tbody>\n",
       "    <tr>\n",
       "      <th>99</th>\n",
       "      <td>0</td>\n",
       "      <td>346541.618895</td>\n",
       "      <td>0</td>\n",
       "      <td>Среднее</td>\n",
       "      <td>1</td>\n",
       "      <td>женат / замужем</td>\n",
       "      <td>0</td>\n",
       "      <td>F</td>\n",
       "      <td>пенсионер</td>\n",
       "      <td>0</td>\n",
       "      <td>71291.522491</td>\n",
       "      <td>автомобиль</td>\n",
       "    </tr>\n",
       "    <tr>\n",
       "      <th>578</th>\n",
       "      <td>0</td>\n",
       "      <td>397856.565013</td>\n",
       "      <td>0</td>\n",
       "      <td>среднее</td>\n",
       "      <td>1</td>\n",
       "      <td>женат / замужем</td>\n",
       "      <td>0</td>\n",
       "      <td>F</td>\n",
       "      <td>пенсионер</td>\n",
       "      <td>0</td>\n",
       "      <td>97620.687042</td>\n",
       "      <td>строительство собственной недвижимости</td>\n",
       "    </tr>\n",
       "    <tr>\n",
       "      <th>1175</th>\n",
       "      <td>0</td>\n",
       "      <td>370879.508002</td>\n",
       "      <td>0</td>\n",
       "      <td>среднее</td>\n",
       "      <td>1</td>\n",
       "      <td>женат / замужем</td>\n",
       "      <td>0</td>\n",
       "      <td>F</td>\n",
       "      <td>пенсионер</td>\n",
       "      <td>0</td>\n",
       "      <td>313949.845188</td>\n",
       "      <td>получение дополнительного образования</td>\n",
       "    </tr>\n",
       "    <tr>\n",
       "      <th>1897</th>\n",
       "      <td>0</td>\n",
       "      <td>370144.537021</td>\n",
       "      <td>0</td>\n",
       "      <td>среднее</td>\n",
       "      <td>1</td>\n",
       "      <td>вдовец / вдова</td>\n",
       "      <td>2</td>\n",
       "      <td>F</td>\n",
       "      <td>пенсионер</td>\n",
       "      <td>0</td>\n",
       "      <td>127400.268338</td>\n",
       "      <td>на покупку автомобиля</td>\n",
       "    </tr>\n",
       "    <tr>\n",
       "      <th>2283</th>\n",
       "      <td>0</td>\n",
       "      <td>137127.465690</td>\n",
       "      <td>0</td>\n",
       "      <td>среднее</td>\n",
       "      <td>1</td>\n",
       "      <td>вдовец / вдова</td>\n",
       "      <td>2</td>\n",
       "      <td>F</td>\n",
       "      <td>пенсионер</td>\n",
       "      <td>0</td>\n",
       "      <td>137127.465690</td>\n",
       "      <td>недвижимость</td>\n",
       "    </tr>\n",
       "  </tbody>\n",
       "</table>\n",
       "</div>"
      ],
      "text/plain": [
       "      children  days_employed  dob_years education  education_id  \\\n",
       "99           0  346541.618895          0   Среднее             1   \n",
       "578          0  397856.565013          0   среднее             1   \n",
       "1175         0  370879.508002          0   среднее             1   \n",
       "1897         0  370144.537021          0   среднее             1   \n",
       "2283         0  137127.465690          0   среднее             1   \n",
       "\n",
       "        family_status  family_status_id gender income_type  debt  \\\n",
       "99    женат / замужем                 0      F   пенсионер     0   \n",
       "578   женат / замужем                 0      F   пенсионер     0   \n",
       "1175  женат / замужем                 0      F   пенсионер     0   \n",
       "1897   вдовец / вдова                 2      F   пенсионер     0   \n",
       "2283   вдовец / вдова                 2      F   пенсионер     0   \n",
       "\n",
       "       total_income                                 purpose  \n",
       "99     71291.522491                              автомобиль  \n",
       "578    97620.687042  строительство собственной недвижимости  \n",
       "1175  313949.845188   получение дополнительного образования  \n",
       "1897  127400.268338                   на покупку автомобиля  \n",
       "2283  137127.465690                            недвижимость  "
      ]
     },
     "execution_count": 40,
     "metadata": {},
     "output_type": "execute_result"
    }
   ],
   "source": [
    "df[df['dob_years'] == 0].head()"
   ]
  },
  {
   "cell_type": "markdown",
   "metadata": {},
   "source": [
    "**Вывод**"
   ]
  },
  {
   "cell_type": "markdown",
   "metadata": {},
   "source": [
    "Было проведено исследование, от каких факторов зависит доход и проведено заполнение рассчитываемых пропусков в столбце доходов. Столбец со стажем использовался для расчета дохода и далее в расчетах не понадобится. Как и столбец с возрастом, бОльшую часть нулевых значений которого мы также заполнили исходя из указанного стажа. Часть нулевых значений пришлось оставить из-за неимения возможности расчета исходя из значения стажа. Также было обнаружено несколько аномалий/ошибок в данных."
   ]
  },
  {
   "cell_type": "markdown",
   "metadata": {},
   "source": [
    "### Замена типа данных"
   ]
  },
  {
   "cell_type": "markdown",
   "metadata": {},
   "source": [
    "Просмотрим типы данных встречающихся в нашем датасете:"
   ]
  },
  {
   "cell_type": "code",
   "execution_count": 41,
   "metadata": {
    "scrolled": true
   },
   "outputs": [
    {
     "name": "stdout",
     "output_type": "stream",
     "text": [
      "<class 'pandas.core.frame.DataFrame'>\n",
      "RangeIndex: 21517 entries, 0 to 21516\n",
      "Data columns (total 12 columns):\n",
      " #   Column            Non-Null Count  Dtype  \n",
      "---  ------            --------------  -----  \n",
      " 0   children          21517 non-null  int64  \n",
      " 1   days_employed     21517 non-null  float64\n",
      " 2   dob_years         21517 non-null  int64  \n",
      " 3   education         21517 non-null  object \n",
      " 4   education_id      21517 non-null  int64  \n",
      " 5   family_status     21517 non-null  object \n",
      " 6   family_status_id  21517 non-null  int64  \n",
      " 7   gender            21517 non-null  object \n",
      " 8   income_type       21517 non-null  object \n",
      " 9   debt              21517 non-null  int64  \n",
      " 10  total_income      21517 non-null  float64\n",
      " 11  purpose           21517 non-null  object \n",
      "dtypes: float64(2), int64(5), object(5)\n",
      "memory usage: 2.0+ MB\n"
     ]
    }
   ],
   "source": [
    "df.info()"
   ]
  },
  {
   "cell_type": "markdown",
   "metadata": {},
   "source": [
    "Из данных требующих обработки хочется выделить следующие: стаж (указан в днях, имеет отрицательное значение, есть \"сломанные\" значения, записан вещественным числом. В последующем исследовании нам не пригодится) и доход (записан в вещественном формате, необходимо перевести в целочисленный)."
   ]
  },
  {
   "cell_type": "markdown",
   "metadata": {},
   "source": [
    "Итак, мы имеем что из данных, которые нам потребуются в последующем и требуют замены их типа, у нас столбец дохода. Приведем значения в этом столбце к целочисленным значениям и проверим замену:"
   ]
  },
  {
   "cell_type": "code",
   "execution_count": 42,
   "metadata": {},
   "outputs": [
    {
     "data": {
      "text/plain": [
       "dtype('int32')"
      ]
     },
     "execution_count": 42,
     "metadata": {},
     "output_type": "execute_result"
    }
   ],
   "source": [
    "df['total_income'] = df['total_income'].astype('int')\n",
    "df['total_income'].dtypes"
   ]
  },
  {
   "cell_type": "markdown",
   "metadata": {},
   "source": [
    "**Вывод**"
   ]
  },
  {
   "cell_type": "markdown",
   "metadata": {},
   "source": [
    "Мы заменили тип данных в столбце дохода на целочисленные знаения."
   ]
  },
  {
   "cell_type": "markdown",
   "metadata": {},
   "source": [
    "### Обработка дубликатов"
   ]
  },
  {
   "cell_type": "markdown",
   "metadata": {},
   "source": [
    "В столбце `education` из-за записанных в разных регистах данных встречаются пропуски. Для того, что бы наглядно это подвердить сравним количество уникальных значений в сталбцах `education` и `education_id`:"
   ]
  },
  {
   "cell_type": "code",
   "execution_count": 43,
   "metadata": {},
   "outputs": [
    {
     "name": "stdout",
     "output_type": "stream",
     "text": [
      "Столбец \"education\": 15\n",
      "Столбец \"education_id\": 5\n"
     ]
    }
   ],
   "source": [
    "print(f'Столбец \"education\": {len(df[\"education\"].unique())}\\nСтолбец \"education_id\": {len(df[\"education_id\"].unique())}')"
   ]
  },
  {
   "cell_type": "markdown",
   "metadata": {},
   "source": [
    "Как наглядно видно: вариантов образования всего 5, в то время, как из названий 15. Изучим подробнее откуда берется такая разница:"
   ]
  },
  {
   "cell_type": "code",
   "execution_count": 44,
   "metadata": {},
   "outputs": [
    {
     "data": {
      "text/plain": [
       "array(['высшее', 'среднее', 'Среднее', 'СРЕДНЕЕ', 'ВЫСШЕЕ',\n",
       "       'неоконченное высшее', 'начальное', 'Высшее',\n",
       "       'НЕОКОНЧЕННОЕ ВЫСШЕЕ', 'Неоконченное высшее', 'НАЧАЛЬНОЕ',\n",
       "       'Начальное', 'Ученая степень', 'УЧЕНАЯ СТЕПЕНЬ', 'ученая степень'],\n",
       "      dtype=object)"
      ]
     },
     "execution_count": 44,
     "metadata": {},
     "output_type": "execute_result"
    }
   ],
   "source": [
    "df[\"education\"].unique()"
   ]
  },
  {
   "cell_type": "markdown",
   "metadata": {},
   "source": [
    "Все из-за неоднотипного внесения данных в базу. Опять же эта ошибка явно вызвана человеческим фактором. Исправим это и сразу же проверим:"
   ]
  },
  {
   "cell_type": "code",
   "execution_count": 45,
   "metadata": {},
   "outputs": [
    {
     "data": {
      "text/plain": [
       "array(['высшее', 'среднее', 'неоконченное высшее', 'начальное',\n",
       "       'ученая степень'], dtype=object)"
      ]
     },
     "execution_count": 45,
     "metadata": {},
     "output_type": "execute_result"
    }
   ],
   "source": [
    "df['education'] = df['education'].str.lower()\n",
    "df['education'].unique()"
   ]
  },
  {
   "cell_type": "markdown",
   "metadata": {},
   "source": [
    "Теперь в этом столбце дубликатов уровня образования нет. Проверим теперь данные на наличие явных дубликатов данных:"
   ]
  },
  {
   "cell_type": "code",
   "execution_count": 46,
   "metadata": {
    "scrolled": true
   },
   "outputs": [
    {
     "data": {
      "text/plain": [
       "0"
      ]
     },
     "execution_count": 46,
     "metadata": {},
     "output_type": "execute_result"
    }
   ],
   "source": [
    "df.duplicated().sum()"
   ]
  },
  {
   "cell_type": "markdown",
   "metadata": {},
   "source": [
    "Явных дубликатов нет."
   ]
  },
  {
   "cell_type": "markdown",
   "metadata": {},
   "source": [
    "**Вывод**"
   ]
  },
  {
   "cell_type": "markdown",
   "metadata": {},
   "source": [
    "Мы избавились от дубликатов в колонке образования и проверили датафрейм на наличие явных дубликатов."
   ]
  },
  {
   "cell_type": "markdown",
   "metadata": {},
   "source": [
    "### Лемматизация"
   ]
  },
  {
   "cell_type": "markdown",
   "metadata": {},
   "source": [
    "Лемматизация пригодится нам для обработки информации, предоставленной в столбце `purpose` (цель получения кредита), поскольку данные, как нами было выше отмечено, вносились туда в свободной форме. "
   ]
  },
  {
   "cell_type": "code",
   "execution_count": 59,
   "metadata": {},
   "outputs": [
    {
     "data": {
      "application/vnd.jupyter.widget-view+json": {
       "model_id": "c0e66a112f384f11bfd319767a20fc38",
       "version_major": 2,
       "version_minor": 0
      },
      "text/plain": [
       "0it [00:00, ?it/s]"
      ]
     },
     "metadata": {},
     "output_type": "display_data"
    },
    {
     "data": {
      "text/plain": [
       "0                         покупка, ,жилье,\\n\n",
       "1               приобретение, ,автомобиль,\\n\n",
       "2                         покупка, ,жилье,\\n\n",
       "3            дополнительный, ,образование,\\n\n",
       "4                       сыграть, ,свадьба,\\n\n",
       "                        ...                 \n",
       "21512                операция, ,с, ,жилье,\\n\n",
       "21513             сделка, ,с, ,автомобиль,\\n\n",
       "21514                        недвижимость,\\n\n",
       "21515    на, ,покупка, ,свой, ,автомобиль,\\n\n",
       "21516           на, ,покупка, ,автомобиль,\\n\n",
       "Name: lemmatized, Length: 21517, dtype: object"
      ]
     },
     "execution_count": 59,
     "metadata": {},
     "output_type": "execute_result"
    }
   ],
   "source": [
    "from pymystem3 import Mystem\n",
    "m = Mystem()\n",
    "pbar = tqdm()\n",
    "pbar.reset(total=len(df['purpose']))\n",
    "for index in range(len(df['purpose'])):\n",
    "    df.loc[index, 'lemmatized'] = ','.join(m.lemmatize(df.loc[index, 'purpose']))\n",
    "    pbar.update()\n",
    "df['lemmatized']"
   ]
  },
  {
   "cell_type": "markdown",
   "metadata": {},
   "source": [
    "**Вывод**"
   ]
  },
  {
   "cell_type": "markdown",
   "metadata": {},
   "source": [
    "Теперь провести категоризацию данных по цели станет возможным."
   ]
  },
  {
   "cell_type": "markdown",
   "metadata": {},
   "source": [
    "### Категоризация данных"
   ]
  },
  {
   "cell_type": "markdown",
   "metadata": {},
   "source": [
    "Изучим данные о цели получения кредита, полученные после лемматизации."
   ]
  },
  {
   "cell_type": "code",
   "execution_count": 60,
   "metadata": {},
   "outputs": [
    {
     "data": {
      "text/plain": [
       "{'\\n',\n",
       " ' ',\n",
       " 'автомобиль',\n",
       " 'высокий',\n",
       " 'для',\n",
       " 'дополнительный',\n",
       " 'жилой',\n",
       " 'жилье',\n",
       " 'заниматься',\n",
       " 'коммерческий',\n",
       " 'на',\n",
       " 'недвижимость',\n",
       " 'образование',\n",
       " 'операция',\n",
       " 'подержанный',\n",
       " 'подержать',\n",
       " 'покупка',\n",
       " 'получение',\n",
       " 'приобретение',\n",
       " 'проведение',\n",
       " 'профильный',\n",
       " 'ремонт',\n",
       " 'с',\n",
       " 'свадьба',\n",
       " 'свой',\n",
       " 'сдача',\n",
       " 'сделка',\n",
       " 'семья',\n",
       " 'со',\n",
       " 'собственный',\n",
       " 'строительство',\n",
       " 'сыграть'}"
      ]
     },
     "execution_count": 60,
     "metadata": {},
     "output_type": "execute_result"
    }
   ],
   "source": [
    "purp_list = []\n",
    "for index in range(len(df['lemmatized'])):\n",
    "    purp_list.extend(df.loc[index ,'lemmatized'].split(','))\n",
    "purp_unique = set(purp_list)\n",
    "purp_unique"
   ]
  },
  {
   "cell_type": "markdown",
   "metadata": {},
   "source": [
    "Итак, изучив все уникальные слова, полученные лемматизацие, можно прийти к выводу, что целей на которые берется кредит не так уж и много. А именно: недвижимость (ключевые слова: жилье, недвижимость), ремонт (ключевые слова: ремонт, строительство), свадьба (ключевые слова: свадьба), автомобили (ключевые слова: автомобиль), образование (ключевые слова: образование). Дополнительного внимания требует значение \"операция\" т.к. это слово имеет значение как в медицине, так и в торговле. Найдем все строки, в которых встречается слово \"операция\" не в контексте недвижимости:"
   ]
  },
  {
   "cell_type": "code",
   "execution_count": 61,
   "metadata": {
    "scrolled": true
   },
   "outputs": [
    {
     "data": {
      "text/plain": [
       "0"
      ]
     },
     "execution_count": 61,
     "metadata": {},
     "output_type": "execute_result"
    }
   ],
   "source": [
    "df[df['lemmatized'].str.contains('операция') & (~df['lemmatized'].str.contains('недвижимость')) & (~df['lemmatized'].str.contains('жилье'))]['lemmatized'].count()"
   ]
  },
  {
   "cell_type": "markdown",
   "metadata": {},
   "source": [
    "Слово \"операция\" используется только в категории \"недвижимость\"."
   ]
  },
  {
   "cell_type": "markdown",
   "metadata": {},
   "source": [
    "Присвоим каждому типу цели категорию, для этого напишем функцию определения категории:"
   ]
  },
  {
   "cell_type": "code",
   "execution_count": 62,
   "metadata": {},
   "outputs": [],
   "source": [
    "def purpose_type(purp_lemm):\n",
    "    if 'автомобиль' in purp_lemm:\n",
    "        return 'автомобиль'\n",
    "    elif 'ремонт' in purp_lemm or 'строительство' in purp_lemm:\n",
    "        return 'ремонт'\n",
    "    elif 'жилье' in purp_lemm or 'недвижимость' in purp_lemm:\n",
    "        return 'недвижимость'\n",
    "    elif 'свадьба' in purp_lemm:\n",
    "        return 'свадьба'\n",
    "    elif 'образование' in purp_lemm:\n",
    "        return 'образование'"
   ]
  },
  {
   "cell_type": "markdown",
   "metadata": {},
   "source": [
    "Добавим столбец, в котором укажем тип цели:"
   ]
  },
  {
   "cell_type": "code",
   "execution_count": 63,
   "metadata": {},
   "outputs": [],
   "source": [
    "df['purpose_type'] = df['lemmatized'].apply(purpose_type)"
   ]
  },
  {
   "cell_type": "markdown",
   "metadata": {},
   "source": [
    "**Вывод**"
   ]
  },
  {
   "cell_type": "markdown",
   "metadata": {},
   "source": [
    "Теперь существует всего 5 типов целей и они указаны для каждой стоки в датасете."
   ]
  },
  {
   "cell_type": "markdown",
   "metadata": {},
   "source": [
    "## Шаг 3. Проверим изначально поставленные гипотезы"
   ]
  },
  {
   "cell_type": "markdown",
   "metadata": {},
   "source": [
    "- Есть ли зависимость между наличием детей и возвратом кредита в срок?"
   ]
  },
  {
   "cell_type": "markdown",
   "metadata": {},
   "source": [
    "Для начала расчитаем среднее количество задержек по возврату кредитов для всех заемщиков:"
   ]
  },
  {
   "cell_type": "code",
   "execution_count": 64,
   "metadata": {
    "scrolled": true
   },
   "outputs": [
    {
     "name": "stdout",
     "output_type": "stream",
     "text": [
      "Среднее количество задолжностей на одного заемщика: 0.081\n"
     ]
    }
   ],
   "source": [
    "print(f'Среднее количество задолжностей на одного заемщика: {df[\"debt\"].mean():.3f}')"
   ]
  },
  {
   "cell_type": "markdown",
   "metadata": {},
   "source": [
    "Расчитаем среднее количество задолжностей на одного заемщика с определенным количеством детей:"
   ]
  },
  {
   "cell_type": "code",
   "execution_count": 65,
   "metadata": {},
   "outputs": [
    {
     "data": {
      "text/plain": [
       "children\n",
       " 20    0.105\n",
       " 4     0.098\n",
       " 2     0.094\n",
       " 1     0.092\n",
       " 3     0.082\n",
       " 0     0.075\n",
       "-1     0.021\n",
       " 5     0.000\n",
       "Name: debt, dtype: float64"
      ]
     },
     "execution_count": 65,
     "metadata": {},
     "output_type": "execute_result"
    }
   ],
   "source": [
    "df_children = df.groupby('children')['debt'].mean().round(decimals=3).sort_values(ascending = False)\n",
    "df_children"
   ]
  },
  {
   "cell_type": "markdown",
   "metadata": {},
   "source": [
    "Мы видим отрицательное значение (-1) и неправдоподобное значение (20). Скорее всего сюда закралась ошибка, и вместо -1 должно быть 1, а вместо 20 - 2. Исправим это:"
   ]
  },
  {
   "cell_type": "code",
   "execution_count": 66,
   "metadata": {},
   "outputs": [],
   "source": [
    "df['children'] = df['children'].replace(-1, 1)\n",
    "df['children'] = df['children'].replace(20, 2)"
   ]
  },
  {
   "cell_type": "markdown",
   "metadata": {},
   "source": [
    "Перезапишем созданный нами датафрейм:"
   ]
  },
  {
   "cell_type": "code",
   "execution_count": 67,
   "metadata": {
    "scrolled": true
   },
   "outputs": [
    {
     "data": {
      "text/plain": [
       "children\n",
       "4    0.098\n",
       "2    0.095\n",
       "1    0.091\n",
       "3    0.082\n",
       "0    0.075\n",
       "5    0.000\n",
       "Name: debt, dtype: float64"
      ]
     },
     "execution_count": 67,
     "metadata": {},
     "output_type": "execute_result"
    }
   ],
   "source": [
    "df_children = df.groupby('children')['debt'].mean().round(decimals=3).sort_values(ascending = False)\n",
    "df_children"
   ]
  },
  {
   "cell_type": "markdown",
   "metadata": {},
   "source": [
    "Для наглядности построим график:"
   ]
  },
  {
   "cell_type": "code",
   "execution_count": 74,
   "metadata": {},
   "outputs": [
    {
     "data": {
      "image/png": "[encoded data removed]",
      "text/plain": [
       "<Figure size 432x288 with 1 Axes>"
      ]
     },
     "metadata": {
      "needs_background": "light"
     },
     "output_type": "display_data"
    }
   ],
   "source": [
    "import matplotlib.pyplot as plt\n",
    "df_child = pd.DataFrame({'children': df_children.keys().tolist(), 'debt': df_children.values.tolist()})\n",
    "ax = sns.barplot(data = df_child, x='children', y = 'debt').set_title('Зависимость наличия задолжностей на человека от количества детей').axes.set(xlabel='детей, шт', ylabel='задолжностей, шт/чел')\n",
    "\n",
    "_ = plt.axhline(df['debt'].mean(), color='red')"
   ]
  },
  {
   "cell_type": "markdown",
   "metadata": {},
   "source": [
    "Посмотрим насколько велико множество заемщиков с 5 детьми:"
   ]
  },
  {
   "cell_type": "code",
   "execution_count": 75,
   "metadata": {},
   "outputs": [
    {
     "data": {
      "text/plain": [
       "9"
      ]
     },
     "execution_count": 75,
     "metadata": {},
     "output_type": "execute_result"
    }
   ],
   "source": [
    "df[df['children'] == 5]['children'].count()"
   ]
  },
  {
   "cell_type": "markdown",
   "metadata": {},
   "source": [
    "Всего 9 человек с 5ю детьми, относительно общей массы слишком маленькая часть чтобы её учитывать в общей статистике."
   ]
  },
  {
   "cell_type": "markdown",
   "metadata": {},
   "source": [
    "**Вывод**"
   ]
  },
  {
   "cell_type": "markdown",
   "metadata": {},
   "source": [
    "Как мы видим, с количеством детей количество задолжностей действительно растет. Из закономерности выбивается только группа с 3 и с 5 детьми. Но для любого количества детей, кроме 5 (но это скорее исключение т.к. их доля слишком мала), верно утверждение, что кол-во задолжностей на заемщика с детьми больше, чем на заемщика без детей."
   ]
  },
  {
   "cell_type": "markdown",
   "metadata": {},
   "source": [
    "- Есть ли зависимость между семейным положением и возвратом кредита в срок?"
   ]
  },
  {
   "cell_type": "markdown",
   "metadata": {},
   "source": [
    "Расчитаем среднее количество задолжностей на человека каждого из 5 семейных положений:"
   ]
  },
  {
   "cell_type": "code",
   "execution_count": 76,
   "metadata": {
    "scrolled": false
   },
   "outputs": [
    {
     "data": {
      "text/plain": [
       "family_status\n",
       "Не женат / не замужем    0.097\n",
       "гражданский брак         0.093\n",
       "женат / замужем          0.075\n",
       "в разводе                0.071\n",
       "вдовец / вдова           0.066\n",
       "Name: debt, dtype: float64"
      ]
     },
     "execution_count": 76,
     "metadata": {},
     "output_type": "execute_result"
    }
   ],
   "source": [
    "df_family = df.groupby('family_status')['debt'].mean().round(decimals=3).sort_values(ascending = False)\n",
    "df_family"
   ]
  },
  {
   "cell_type": "code",
   "execution_count": 78,
   "metadata": {},
   "outputs": [
    {
     "data": {
      "image/png": "[encoded data removed]",
      "text/plain": [
       "<Figure size 648x288 with 1 Axes>"
      ]
     },
     "metadata": {
      "needs_background": "light"
     },
     "output_type": "display_data"
    }
   ],
   "source": [
    "df_family_status = pd.DataFrame({'family_status': df_family.keys().tolist(), 'debt': df_family.values.tolist()})\n",
    "fig = plt.figure(figsize=(9,4))\n",
    "\n",
    "ax = sns.barplot(data = df_family_status, x='family_status', y = 'debt')\n",
    "ax.set_title('Зависимость наличия задолжностей на человека от его семейного положения')\n",
    "ax.set_xlabel(xlabel='семейное положение')\n",
    "ax.set_ylabel(ylabel='задолжностей, шт/чел')\n",
    "\n",
    "new_labels = ['\\\\\\n'.join(lable.get_text().split('/')) for lable in ax.xaxis.get_ticklabels()]\n",
    "\n",
    "ax.xaxis.set_ticklabels(new_labels, rotation=30)\n",
    "_ = plt.axhline(df['debt'].mean(), color='red')\n",
    "plt.show()"
   ]
  },
  {
   "cell_type": "markdown",
   "metadata": {},
   "source": [
    "**Вывод**"
   ]
  },
  {
   "cell_type": "markdown",
   "metadata": {},
   "source": [
    "Не состоящие в браке или состоящие в браке люди значительно чаще имеют задолжность по кредиту."
   ]
  },
  {
   "cell_type": "markdown",
   "metadata": {},
   "source": [
    "- Есть ли зависимость между уровнем дохода и возвратом кредита в срок?"
   ]
  },
  {
   "cell_type": "code",
   "execution_count": 79,
   "metadata": {
    "scrolled": true
   },
   "outputs": [
    {
     "data": {
      "text/html": [
       "<div>\n",
       "<style scoped>\n",
       "    .dataframe tbody tr th:only-of-type {\n",
       "        vertical-align: middle;\n",
       "    }\n",
       "\n",
       "    .dataframe tbody tr th {\n",
       "        vertical-align: top;\n",
       "    }\n",
       "\n",
       "    .dataframe thead th {\n",
       "        text-align: right;\n",
       "    }\n",
       "</style>\n",
       "<table border=\"1\" class=\"dataframe\">\n",
       "  <thead>\n",
       "    <tr style=\"text-align: right;\">\n",
       "      <th></th>\n",
       "      <th>уровень дохода</th>\n",
       "      <th>задолжностей на человека</th>\n",
       "    </tr>\n",
       "  </thead>\n",
       "  <tbody>\n",
       "    <tr>\n",
       "      <th>0</th>\n",
       "      <td>до 100000</td>\n",
       "      <td>0.082890</td>\n",
       "    </tr>\n",
       "    <tr>\n",
       "      <th>1</th>\n",
       "      <td>100000 - 150000</td>\n",
       "      <td>0.085275</td>\n",
       "    </tr>\n",
       "    <tr>\n",
       "      <th>2</th>\n",
       "      <td>150000 - 200000</td>\n",
       "      <td>0.089304</td>\n",
       "    </tr>\n",
       "    <tr>\n",
       "      <th>3</th>\n",
       "      <td>200000 - 250000</td>\n",
       "      <td>0.070906</td>\n",
       "    </tr>\n",
       "    <tr>\n",
       "      <th>4</th>\n",
       "      <td>250000 - 300000</td>\n",
       "      <td>0.064631</td>\n",
       "    </tr>\n",
       "    <tr>\n",
       "      <th>5</th>\n",
       "      <td>более 300000</td>\n",
       "      <td>0.071525</td>\n",
       "    </tr>\n",
       "  </tbody>\n",
       "</table>\n",
       "</div>"
      ],
      "text/plain": [
       "    уровень дохода  задолжностей на человека\n",
       "0        до 100000                  0.082890\n",
       "1  100000 - 150000                  0.085275\n",
       "2  150000 - 200000                  0.089304\n",
       "3  200000 - 250000                  0.070906\n",
       "4  250000 - 300000                  0.064631\n",
       "5     более 300000                  0.071525"
      ]
     },
     "execution_count": 79,
     "metadata": {},
     "output_type": "execute_result"
    }
   ],
   "source": [
    "income_ranges = [100000, 150000, 200000, 250000, 300000]\n",
    "\n",
    "debt_columns = []\n",
    "for index in range(len(income_ranges) -1):\n",
    "    rng = range(income_ranges[index],income_ranges[index+1])\n",
    "    debt_columns.append(df[df['total_income'].isin(rng)]['debt'].mean())\n",
    "debt_columns.insert(0, df[df['total_income'].isin(range(0 ,income_ranges[index]))]['debt'].mean())\n",
    "debt_columns.append(df[df['total_income'] >= income_ranges[-1]]['debt'].mean())\n",
    "income_ranges_names = list(map(lambda x: str(income_ranges[x]) + ' - ' + str(income_ranges[x+1]), range(len(income_ranges)-1)))\n",
    "income_ranges_names.insert(0, f'до {income_ranges[0]}')\n",
    "income_ranges_names.append(f'более {income_ranges[-1]}')\n",
    "df_income = pd.DataFrame({'уровень дохода':income_ranges_names, 'задолжностей на человека':debt_columns})\n",
    "df_income"
   ]
  },
  {
   "cell_type": "code",
   "execution_count": 80,
   "metadata": {
    "scrolled": true
   },
   "outputs": [
    {
     "data": {
      "image/png": "[encoded data removed]",
      "text/plain": [
       "<Figure size 720x288 with 1 Axes>"
      ]
     },
     "metadata": {
      "needs_background": "light"
     },
     "output_type": "display_data"
    }
   ],
   "source": [
    "fig = plt.figure(figsize=(10,4))\n",
    "\n",
    "ax = sns.barplot(data = df_income, x='уровень дохода', y = 'задолжностей на человека')\n",
    "ax.set_title('Зависимость наличия задолжностей на человека от его дохода')\n",
    "ax.set_ylabel(ylabel='задолжностей, шт/чел')\n",
    "\n",
    "new_labels = ['\\\\\\n'.join(lable.get_text().split('/')) for lable in ax.xaxis.get_ticklabels()]\n",
    "\n",
    "ax.xaxis.set_ticklabels(new_labels)\n",
    "plt.xticks(rotation=45, ha='right')\n",
    "_ = plt.axhline(df['debt'].mean(), color='red')\n",
    "plt.show()"
   ]
  },
  {
   "cell_type": "markdown",
   "metadata": {},
   "source": [
    "**Вывод**"
   ]
  },
  {
   "cell_type": "markdown",
   "metadata": {},
   "source": [
    "Как мы видим, начиная с дохода в 200 т.р. количество задолжностей на человека становится меньше среднего значения."
   ]
  },
  {
   "cell_type": "markdown",
   "metadata": {},
   "source": [
    "- Как разные цели кредита влияют на его возврат в срок?"
   ]
  },
  {
   "cell_type": "markdown",
   "metadata": {},
   "source": [
    "Расчитаем среднее количество задолжностей на человека каждого из 5 семейных положений:"
   ]
  },
  {
   "cell_type": "code",
   "execution_count": 81,
   "metadata": {},
   "outputs": [
    {
     "data": {
      "text/plain": [
       "purpose_type\n",
       "автомобиль      0.093\n",
       "образование     0.092\n",
       "свадьба         0.079\n",
       "недвижимость    0.072\n",
       "ремонт          0.072\n",
       "Name: debt, dtype: float64"
      ]
     },
     "execution_count": 81,
     "metadata": {},
     "output_type": "execute_result"
    }
   ],
   "source": [
    "df_purpose = df.groupby('purpose_type')['debt'].mean().round(decimals=3).sort_values(ascending = False)\n",
    "df_purpose"
   ]
  },
  {
   "cell_type": "code",
   "execution_count": 82,
   "metadata": {},
   "outputs": [
    {
     "data": {
      "image/png": "[encoded data removed]",
      "text/plain": [
       "<Figure size 432x288 with 1 Axes>"
      ]
     },
     "metadata": {
      "needs_background": "light"
     },
     "output_type": "display_data"
    }
   ],
   "source": [
    "df_purpose_type = pd.DataFrame({'purpose_type': df_purpose.keys().tolist(), 'debt': df_purpose.values.tolist()})\n",
    "sns.barplot(data = df_purpose_type, x='purpose_type', y = 'debt').set_title('Зависимость наличия задолжностей на человека от цели, на которую брался кредит').axes.set(xlabel='Цель кредита', ylabel='задолжностей, шт/чел')\n",
    "_ = plt.axhline(df['debt'].mean(), color='red')"
   ]
  },
  {
   "cell_type": "markdown",
   "metadata": {},
   "source": [
    "**Вывод**"
   ]
  },
  {
   "cell_type": "markdown",
   "metadata": {},
   "source": [
    "Заемщики берущие кредит на автомобиль или образование чаще имеют просрочки по платежам, чем люди, берущие кредит на другие цели."
   ]
  },
  {
   "cell_type": "markdown",
   "metadata": {},
   "source": [
    "## Шаг 4. Общий вывод"
   ]
  },
  {
   "cell_type": "markdown",
   "metadata": {},
   "source": [
    "В ходе исследования мы проверили следующие гипотезы:\n",
    "1. **Наличие детей влияет на возврат кредита в срок.**\n",
    "Как оказалось, да влияет. В среднем, чем больше детей у заемщика, тем больше шанс того, что у него образуется задолженость.\n",
    "\n",
    "2. **Семейное положение влияет на возврат кредита в срок.**\n",
    "Да, влияет. Для категорий \"не женат/не замужем\" и \"гражданский брак\" количество задолжностей на человека выше.\n",
    "\n",
    "3. **От уровня дохода зависит возврат кредита в срок.**\n",
    "Да, влияет. Чем выше в среднем доход, тем меньше задолжностей на человека.\n",
    "\n",
    "4. **Цель, на которую был взят кредит, влияет на вероятность возврата кредита в срок.**\n",
    "Да, в среднем люди берущие кредит на автомобиль или образование менее охотно возвращают кредит вовремя.\n",
    "\n",
    "Исходя из полученных результатов идеальный заемщик это вдовец/вдова без детей, с зарплатой более 200 т.р., покупающий недвижимость или делающий ремонт."
   ]
  }
 ],
 "metadata": {
  "ExecuteTimeLog": [
   {
    "duration": 913,
    "start_time": "2021-07-16T10:37:16.102Z"
   },
   {
    "duration": 17,
    "start_time": "2021-07-16T10:41:30.159Z"
   },
   {
    "duration": 79,
    "start_time": "2021-07-16T11:33:00.161Z"
   },
   {
    "duration": 16,
    "start_time": "2021-07-16T11:33:04.774Z"
   },
   {
    "duration": 473,
    "start_time": "2021-07-16T11:33:23.309Z"
   },
   {
    "duration": 6,
    "start_time": "2021-07-16T11:34:00.590Z"
   },
   {
    "duration": 439,
    "start_time": "2021-07-16T11:42:14.429Z"
   },
   {
    "duration": 14,
    "start_time": "2021-07-16T11:42:39.708Z"
   },
   {
    "duration": 13,
    "start_time": "2021-07-16T11:43:07.309Z"
   },
   {
    "duration": 355,
    "start_time": "2021-07-16T11:44:43.867Z"
   },
   {
    "duration": 7,
    "start_time": "2021-07-16T11:44:48.091Z"
   },
   {
    "duration": 390,
    "start_time": "2021-07-16T11:45:27.828Z"
   },
   {
    "duration": 11,
    "start_time": "2021-07-16T11:45:47.235Z"
   },
   {
    "duration": 11,
    "start_time": "2021-07-16T11:47:28.369Z"
   },
   {
    "duration": 11,
    "start_time": "2021-07-16T11:47:38.220Z"
   },
   {
    "duration": 12,
    "start_time": "2021-07-16T11:54:31.988Z"
   },
   {
    "duration": 11,
    "start_time": "2021-07-16T11:56:10.506Z"
   },
   {
    "duration": 11,
    "start_time": "2021-07-16T11:56:23.762Z"
   },
   {
    "duration": 9,
    "start_time": "2021-07-16T11:56:29.629Z"
   },
   {
    "duration": 24,
    "start_time": "2021-07-16T11:56:42.898Z"
   },
   {
    "duration": 8,
    "start_time": "2021-07-16T11:56:44.672Z"
   },
   {
    "duration": 9,
    "start_time": "2021-07-16T11:57:34.995Z"
   },
   {
    "duration": 8,
    "start_time": "2021-07-16T11:57:40.391Z"
   },
   {
    "duration": 754,
    "start_time": "2021-07-16T12:02:00.322Z"
   },
   {
    "duration": 112,
    "start_time": "2021-07-16T12:02:09.920Z"
   },
   {
    "duration": 17,
    "start_time": "2021-07-16T12:05:51.682Z"
   },
   {
    "duration": 10,
    "start_time": "2021-07-16T12:05:54.685Z"
   },
   {
    "duration": 10,
    "start_time": "2021-07-16T12:06:22.779Z"
   },
   {
    "duration": 11,
    "start_time": "2021-07-16T12:06:35.414Z"
   },
   {
    "duration": 371,
    "start_time": "2021-07-16T12:08:14.001Z"
   },
   {
    "duration": 14,
    "start_time": "2021-07-16T12:08:33.504Z"
   },
   {
    "duration": 834,
    "start_time": "2021-07-16T12:08:49.522Z"
   },
   {
    "duration": 20,
    "start_time": "2021-07-16T12:08:50.359Z"
   },
   {
    "duration": 16,
    "start_time": "2021-07-16T12:08:50.384Z"
   },
   {
    "duration": 16,
    "start_time": "2021-07-16T12:08:50.403Z"
   },
   {
    "duration": 67,
    "start_time": "2021-07-16T12:08:50.421Z"
   },
   {
    "duration": 25,
    "start_time": "2021-07-16T12:08:50.490Z"
   },
   {
    "duration": 11,
    "start_time": "2021-07-16T12:09:10.950Z"
   },
   {
    "duration": 149,
    "start_time": "2021-07-16T12:09:21.774Z"
   },
   {
    "duration": 431,
    "start_time": "2021-07-16T12:09:29.525Z"
   },
   {
    "duration": 11,
    "start_time": "2021-07-16T12:09:48.109Z"
   },
   {
    "duration": 10,
    "start_time": "2021-07-16T12:09:50.001Z"
   },
   {
    "duration": 20,
    "start_time": "2021-07-16T12:10:00.787Z"
   },
   {
    "duration": 9,
    "start_time": "2021-07-16T12:10:02.979Z"
   },
   {
    "duration": 852,
    "start_time": "2021-07-16T12:10:13.062Z"
   },
   {
    "duration": 16,
    "start_time": "2021-07-16T12:10:13.917Z"
   },
   {
    "duration": 32,
    "start_time": "2021-07-16T12:10:13.936Z"
   },
   {
    "duration": 12,
    "start_time": "2021-07-16T12:10:13.970Z"
   },
   {
    "duration": 25,
    "start_time": "2021-07-16T12:10:13.984Z"
   },
   {
    "duration": 11,
    "start_time": "2021-07-16T12:10:14.011Z"
   },
   {
    "duration": 7,
    "start_time": "2021-07-16T12:17:18.058Z"
   },
   {
    "duration": 13,
    "start_time": "2021-07-16T12:17:37.275Z"
   },
   {
    "duration": 7,
    "start_time": "2021-07-16T12:18:29.552Z"
   },
   {
    "duration": 15,
    "start_time": "2021-07-16T12:18:37.985Z"
   },
   {
    "duration": 7,
    "start_time": "2021-07-16T12:18:47.899Z"
   },
   {
    "duration": 420,
    "start_time": "2021-07-16T12:21:02.621Z"
   },
   {
    "duration": 443,
    "start_time": "2021-07-16T12:21:25.757Z"
   },
   {
    "duration": 7,
    "start_time": "2021-07-16T12:21:46.810Z"
   },
   {
    "duration": 347,
    "start_time": "2021-07-16T12:34:27.048Z"
   },
   {
    "duration": 9676,
    "start_time": "2021-07-16T12:35:20.944Z"
   },
   {
    "duration": 8880,
    "start_time": "2021-07-16T12:36:45.738Z"
   },
   {
    "duration": 578,
    "start_time": "2021-07-16T12:37:10.334Z"
   },
   {
    "duration": 379,
    "start_time": "2021-07-16T12:37:20.823Z"
   },
   {
    "duration": 401,
    "start_time": "2021-07-16T12:37:27.092Z"
   },
   {
    "duration": 399,
    "start_time": "2021-07-16T12:37:31.096Z"
   },
   {
    "duration": 29,
    "start_time": "2021-07-16T12:39:58.075Z"
   },
   {
    "duration": 15,
    "start_time": "2021-07-16T12:40:04.928Z"
   },
   {
    "duration": 12,
    "start_time": "2021-07-16T12:41:53.329Z"
   },
   {
    "duration": 12,
    "start_time": "2021-07-16T12:42:24.510Z"
   },
   {
    "duration": 33,
    "start_time": "2021-07-16T12:42:58.752Z"
   },
   {
    "duration": 26,
    "start_time": "2021-07-16T12:43:13.161Z"
   },
   {
    "duration": 6,
    "start_time": "2021-07-16T12:43:30.914Z"
   },
   {
    "duration": 360,
    "start_time": "2021-07-16T12:44:46.234Z"
   },
   {
    "duration": 8658,
    "start_time": "2021-07-16T12:44:57.428Z"
   },
   {
    "duration": 12,
    "start_time": "2021-07-16T12:46:17.258Z"
   },
   {
    "duration": 12,
    "start_time": "2021-07-16T12:46:33.554Z"
   },
   {
    "duration": 390,
    "start_time": "2021-07-16T12:47:57.440Z"
   },
   {
    "duration": 124,
    "start_time": "2021-07-16T12:48:19.431Z"
   },
   {
    "duration": 44,
    "start_time": "2021-07-16T12:55:38.085Z"
   },
   {
    "duration": 30,
    "start_time": "2021-07-16T12:55:56.322Z"
   },
   {
    "duration": 23,
    "start_time": "2021-07-16T12:56:12.932Z"
   },
   {
    "duration": 16,
    "start_time": "2021-07-16T12:57:01.019Z"
   },
   {
    "duration": 16,
    "start_time": "2021-07-16T12:58:09.923Z"
   },
   {
    "duration": 6,
    "start_time": "2021-07-16T13:07:58.728Z"
   },
   {
    "duration": 365,
    "start_time": "2021-07-16T13:08:03.126Z"
   },
   {
    "duration": 570,
    "start_time": "2021-07-16T13:08:05.796Z"
   },
   {
    "duration": 558,
    "start_time": "2021-07-16T13:08:13.947Z"
   },
   {
    "duration": 361,
    "start_time": "2021-07-16T13:08:17.045Z"
   },
   {
    "duration": 372,
    "start_time": "2021-07-16T13:08:18.765Z"
   },
   {
    "duration": 360,
    "start_time": "2021-07-16T13:08:20.731Z"
   },
   {
    "duration": 473,
    "start_time": "2021-07-16T13:08:23.646Z"
   },
   {
    "duration": 370,
    "start_time": "2021-07-16T13:08:34.270Z"
   },
   {
    "duration": 333,
    "start_time": "2021-07-16T13:08:36.916Z"
   },
   {
    "duration": 392,
    "start_time": "2021-07-16T13:08:38.870Z"
   },
   {
    "duration": 6,
    "start_time": "2021-07-16T13:08:41.835Z"
   },
   {
    "duration": 7,
    "start_time": "2021-07-16T13:10:05.569Z"
   },
   {
    "duration": 326,
    "start_time": "2021-07-16T13:10:13.808Z"
   },
   {
    "duration": 324,
    "start_time": "2021-07-16T13:10:16.849Z"
   },
   {
    "duration": 7,
    "start_time": "2021-07-16T13:10:19.743Z"
   },
   {
    "duration": 7,
    "start_time": "2021-07-16T13:10:44.062Z"
   },
   {
    "duration": 258,
    "start_time": "2021-07-16T13:24:15.463Z"
   },
   {
    "duration": 111,
    "start_time": "2021-07-16T13:24:22.906Z"
   },
   {
    "duration": 95,
    "start_time": "2021-07-16T13:25:38.783Z"
   },
   {
    "duration": 31,
    "start_time": "2021-07-16T13:25:47.896Z"
   },
   {
    "duration": 34,
    "start_time": "2021-07-16T13:25:56.159Z"
   },
   {
    "duration": 38,
    "start_time": "2021-07-16T13:26:46.986Z"
   },
   {
    "duration": 64,
    "start_time": "2021-07-16T13:27:16.067Z"
   },
   {
    "duration": 109,
    "start_time": "2021-07-16T13:27:50.418Z"
   },
   {
    "duration": 145,
    "start_time": "2021-07-16T13:28:29.952Z"
   },
   {
    "duration": 125,
    "start_time": "2021-07-16T13:29:05.059Z"
   },
   {
    "duration": 243,
    "start_time": "2021-07-16T13:29:30.090Z"
   },
   {
    "duration": 57,
    "start_time": "2021-07-16T13:29:47.118Z"
   },
   {
    "duration": 116,
    "start_time": "2021-07-16T13:30:04.186Z"
   },
   {
    "duration": 56,
    "start_time": "2021-07-16T13:30:15.020Z"
   },
   {
    "duration": 11,
    "start_time": "2021-07-16T14:39:01.152Z"
   },
   {
    "duration": 16,
    "start_time": "2021-07-16T14:54:39.773Z"
   },
   {
    "duration": 975,
    "start_time": "2021-07-16T14:54:54.875Z"
   },
   {
    "duration": 28,
    "start_time": "2021-07-16T14:54:55.853Z"
   },
   {
    "duration": 16,
    "start_time": "2021-07-16T14:54:55.886Z"
   },
   {
    "duration": 63,
    "start_time": "2021-07-16T14:54:55.905Z"
   },
   {
    "duration": 58,
    "start_time": "2021-07-16T14:54:55.972Z"
   },
   {
    "duration": 45,
    "start_time": "2021-07-16T14:54:56.032Z"
   },
   {
    "duration": 13,
    "start_time": "2021-07-16T14:55:38.071Z"
   },
   {
    "duration": 445,
    "start_time": "2021-07-16T14:57:47.036Z"
   },
   {
    "duration": 365,
    "start_time": "2021-07-16T14:58:05.402Z"
   },
   {
    "duration": 19,
    "start_time": "2021-07-16T14:58:33.428Z"
   },
   {
    "duration": 13,
    "start_time": "2021-07-16T14:59:00.220Z"
   },
   {
    "duration": 19,
    "start_time": "2021-07-16T15:07:13.696Z"
   },
   {
    "duration": 256,
    "start_time": "2021-07-16T16:56:10.574Z"
   },
   {
    "duration": 610,
    "start_time": "2021-07-16T16:56:33.854Z"
   },
   {
    "duration": 11,
    "start_time": "2021-07-16T16:56:34.466Z"
   },
   {
    "duration": 13,
    "start_time": "2021-07-16T16:56:34.479Z"
   },
   {
    "duration": 7,
    "start_time": "2021-07-16T16:56:34.494Z"
   },
   {
    "duration": 37,
    "start_time": "2021-07-16T16:56:34.503Z"
   },
   {
    "duration": 12,
    "start_time": "2021-07-16T16:56:34.541Z"
   },
   {
    "duration": 43,
    "start_time": "2021-07-16T16:56:34.554Z"
   },
   {
    "duration": 272,
    "start_time": "2021-07-16T16:57:11.215Z"
   },
   {
    "duration": 7,
    "start_time": "2021-07-16T16:57:34.463Z"
   },
   {
    "duration": 6,
    "start_time": "2021-07-16T16:57:50.083Z"
   },
   {
    "duration": 951,
    "start_time": "2021-07-16T16:58:38.654Z"
   },
   {
    "duration": 13,
    "start_time": "2021-07-16T16:59:02.904Z"
   },
   {
    "duration": 7,
    "start_time": "2021-07-16T17:04:02.243Z"
   },
   {
    "duration": 256,
    "start_time": "2021-07-16T17:20:18.643Z"
   },
   {
    "duration": 5396,
    "start_time": "2021-07-16T17:20:22.285Z"
   },
   {
    "duration": 6,
    "start_time": "2021-07-16T17:21:10.230Z"
   },
   {
    "duration": 7,
    "start_time": "2021-07-16T17:21:22.546Z"
   },
   {
    "duration": 8,
    "start_time": "2021-07-16T17:21:35.499Z"
   },
   {
    "duration": 84,
    "start_time": "2021-07-16T17:22:50.342Z"
   },
   {
    "duration": 83,
    "start_time": "2021-07-16T17:23:10.640Z"
   },
   {
    "duration": 12,
    "start_time": "2021-07-16T17:23:43.858Z"
   },
   {
    "duration": 13,
    "start_time": "2021-07-16T17:24:06.345Z"
   },
   {
    "duration": 12,
    "start_time": "2021-07-16T17:24:13.026Z"
   },
   {
    "duration": 7,
    "start_time": "2021-07-16T17:43:38.049Z"
   },
   {
    "duration": 8,
    "start_time": "2021-07-16T17:44:50.355Z"
   },
   {
    "duration": 7,
    "start_time": "2021-07-16T17:45:06.752Z"
   },
   {
    "duration": 8,
    "start_time": "2021-07-16T17:45:08.053Z"
   },
   {
    "duration": 6,
    "start_time": "2021-07-16T17:48:12.595Z"
   },
   {
    "duration": 8,
    "start_time": "2021-07-16T17:48:13.099Z"
   },
   {
    "duration": 7,
    "start_time": "2021-07-16T17:48:13.503Z"
   },
   {
    "duration": 8,
    "start_time": "2021-07-16T17:50:49.066Z"
   },
   {
    "duration": 9,
    "start_time": "2021-07-16T17:53:44.803Z"
   },
   {
    "duration": 106,
    "start_time": "2021-07-16T17:54:31.989Z"
   },
   {
    "duration": 81,
    "start_time": "2021-07-16T17:54:43.016Z"
   },
   {
    "duration": 73,
    "start_time": "2021-07-16T17:54:50.673Z"
   },
   {
    "duration": 25,
    "start_time": "2021-07-16T17:54:56.671Z"
   },
   {
    "duration": 11,
    "start_time": "2021-07-16T17:55:03.497Z"
   },
   {
    "duration": 216,
    "start_time": "2021-07-16T17:55:13.012Z"
   },
   {
    "duration": 82,
    "start_time": "2021-07-16T17:55:40.389Z"
   },
   {
    "duration": 547,
    "start_time": "2021-07-16T17:55:53.360Z"
   },
   {
    "duration": 21,
    "start_time": "2021-07-16T17:55:59.795Z"
   },
   {
    "duration": 18,
    "start_time": "2021-07-16T17:56:21.279Z"
   },
   {
    "duration": 10,
    "start_time": "2021-07-16T17:56:25.867Z"
   },
   {
    "duration": 599,
    "start_time": "2021-07-16T17:56:39.309Z"
   },
   {
    "duration": 10,
    "start_time": "2021-07-16T17:56:39.910Z"
   },
   {
    "duration": 11,
    "start_time": "2021-07-16T17:56:39.921Z"
   },
   {
    "duration": 9,
    "start_time": "2021-07-16T17:56:39.934Z"
   },
   {
    "duration": 47,
    "start_time": "2021-07-16T17:56:39.944Z"
   },
   {
    "duration": 12,
    "start_time": "2021-07-16T17:56:39.993Z"
   },
   {
    "duration": 15,
    "start_time": "2021-07-16T17:56:40.006Z"
   },
   {
    "duration": 12,
    "start_time": "2021-07-16T17:56:40.023Z"
   },
   {
    "duration": 4,
    "start_time": "2021-07-16T17:56:40.037Z"
   },
   {
    "duration": 8,
    "start_time": "2021-07-16T17:56:40.043Z"
   },
   {
    "duration": 13,
    "start_time": "2021-07-16T17:56:40.053Z"
   },
   {
    "duration": 32,
    "start_time": "2021-07-16T17:56:40.067Z"
   },
   {
    "duration": 21,
    "start_time": "2021-07-16T17:56:50.095Z"
   },
   {
    "duration": 9,
    "start_time": "2021-07-16T17:57:54.576Z"
   },
   {
    "duration": 8,
    "start_time": "2021-07-16T18:00:21.041Z"
   },
   {
    "duration": 318,
    "start_time": "2021-07-16T18:11:51.355Z"
   },
   {
    "duration": 12,
    "start_time": "2021-07-16T18:12:21.411Z"
   },
   {
    "duration": 11,
    "start_time": "2021-07-16T18:13:08.341Z"
   },
   {
    "duration": 15,
    "start_time": "2021-07-16T18:13:41.864Z"
   },
   {
    "duration": 15,
    "start_time": "2021-07-16T18:20:27.461Z"
   },
   {
    "duration": 824,
    "start_time": "2021-07-16T18:20:35.349Z"
   },
   {
    "duration": 20,
    "start_time": "2021-07-16T18:20:43.229Z"
   },
   {
    "duration": 20,
    "start_time": "2021-07-16T18:20:57.585Z"
   },
   {
    "duration": 20,
    "start_time": "2021-07-16T18:21:22.674Z"
   },
   {
    "duration": 10,
    "start_time": "2021-07-16T18:21:54.786Z"
   },
   {
    "duration": 19,
    "start_time": "2021-07-16T18:22:29.460Z"
   },
   {
    "duration": 7,
    "start_time": "2021-07-16T18:25:52.923Z"
   },
   {
    "duration": 6,
    "start_time": "2021-07-16T18:26:06.786Z"
   },
   {
    "duration": 4,
    "start_time": "2021-07-16T18:30:22.628Z"
   },
   {
    "duration": 5,
    "start_time": "2021-07-16T18:30:38.080Z"
   },
   {
    "duration": 13,
    "start_time": "2021-07-16T18:31:58.304Z"
   },
   {
    "duration": 22,
    "start_time": "2021-07-16T18:32:05.426Z"
   },
   {
    "duration": 14,
    "start_time": "2021-07-16T18:32:20.766Z"
   },
   {
    "duration": 8,
    "start_time": "2021-07-16T18:33:01.660Z"
   },
   {
    "duration": 8,
    "start_time": "2021-07-16T18:33:14.850Z"
   },
   {
    "duration": 7,
    "start_time": "2021-07-16T18:35:09.609Z"
   },
   {
    "duration": 4,
    "start_time": "2021-07-16T18:59:50.757Z"
   },
   {
    "duration": 442,
    "start_time": "2021-07-16T19:00:32.757Z"
   },
   {
    "duration": 482,
    "start_time": "2021-07-16T19:01:09.194Z"
   },
   {
    "duration": 4,
    "start_time": "2021-07-16T19:01:36.947Z"
   },
   {
    "duration": 24,
    "start_time": "2021-07-16T19:01:39.129Z"
   },
   {
    "duration": 4,
    "start_time": "2021-07-16T19:02:27.272Z"
   },
   {
    "duration": 16,
    "start_time": "2021-07-16T19:02:29.419Z"
   },
   {
    "duration": 17,
    "start_time": "2021-07-16T19:02:38.370Z"
   },
   {
    "duration": 17,
    "start_time": "2021-07-16T19:02:41.193Z"
   },
   {
    "duration": 4,
    "start_time": "2021-07-16T19:03:49.727Z"
   },
   {
    "duration": 19,
    "start_time": "2021-07-16T19:03:50.927Z"
   },
   {
    "duration": 17,
    "start_time": "2021-07-16T19:03:57.135Z"
   },
   {
    "duration": 17,
    "start_time": "2021-07-16T19:04:01.685Z"
   },
   {
    "duration": 17,
    "start_time": "2021-07-16T19:04:04.785Z"
   },
   {
    "duration": 17,
    "start_time": "2021-07-16T19:04:07.288Z"
   },
   {
    "duration": 16,
    "start_time": "2021-07-16T19:04:10.188Z"
   },
   {
    "duration": 4,
    "start_time": "2021-07-16T19:20:40.452Z"
   },
   {
    "duration": 18,
    "start_time": "2021-07-16T19:20:41.903Z"
   },
   {
    "duration": 19,
    "start_time": "2021-07-16T19:20:45.060Z"
   },
   {
    "duration": 19,
    "start_time": "2021-07-16T19:20:47.669Z"
   },
   {
    "duration": 4,
    "start_time": "2021-07-16T19:21:23.371Z"
   },
   {
    "duration": 19,
    "start_time": "2021-07-16T19:21:25.139Z"
   },
   {
    "duration": 5,
    "start_time": "2021-07-16T19:23:42.951Z"
   },
   {
    "duration": 19,
    "start_time": "2021-07-16T19:23:43.358Z"
   },
   {
    "duration": 20,
    "start_time": "2021-07-16T19:27:31.676Z"
   },
   {
    "duration": 18,
    "start_time": "2021-07-16T19:27:34.479Z"
   },
   {
    "duration": 21,
    "start_time": "2021-07-16T19:27:37.163Z"
   },
   {
    "duration": 16,
    "start_time": "2021-07-16T19:27:39.710Z"
   },
   {
    "duration": 17,
    "start_time": "2021-07-16T19:27:42.691Z"
   },
   {
    "duration": 4,
    "start_time": "2021-07-16T19:27:50.071Z"
   },
   {
    "duration": 18,
    "start_time": "2021-07-16T19:27:50.675Z"
   },
   {
    "duration": 4,
    "start_time": "2021-07-16T19:28:07.687Z"
   },
   {
    "duration": 19,
    "start_time": "2021-07-16T19:28:17.522Z"
   },
   {
    "duration": 222,
    "start_time": "2021-07-16T19:28:21.674Z"
   },
   {
    "duration": 18,
    "start_time": "2021-07-16T19:28:24.752Z"
   },
   {
    "duration": 16,
    "start_time": "2021-07-16T19:28:27.415Z"
   },
   {
    "duration": 18,
    "start_time": "2021-07-16T19:28:30.320Z"
   },
   {
    "duration": 17,
    "start_time": "2021-07-16T19:28:34.795Z"
   },
   {
    "duration": 16,
    "start_time": "2021-07-16T19:28:37.207Z"
   },
   {
    "duration": 18,
    "start_time": "2021-07-16T19:28:40.084Z"
   },
   {
    "duration": 17,
    "start_time": "2021-07-16T19:28:47.130Z"
   },
   {
    "duration": 16,
    "start_time": "2021-07-16T19:28:49.443Z"
   },
   {
    "duration": 16,
    "start_time": "2021-07-16T19:28:51.712Z"
   },
   {
    "duration": 16,
    "start_time": "2021-07-16T19:28:54.063Z"
   },
   {
    "duration": 23,
    "start_time": "2021-07-16T19:28:56.272Z"
   },
   {
    "duration": 18,
    "start_time": "2021-07-16T19:28:58.582Z"
   },
   {
    "duration": 17,
    "start_time": "2021-07-16T19:29:46.201Z"
   },
   {
    "duration": 16,
    "start_time": "2021-07-16T19:29:49.112Z"
   },
   {
    "duration": 16,
    "start_time": "2021-07-16T19:29:52.901Z"
   },
   {
    "duration": 15,
    "start_time": "2021-07-16T19:29:55.660Z"
   },
   {
    "duration": 4,
    "start_time": "2021-07-16T19:30:34.332Z"
   },
   {
    "duration": 14,
    "start_time": "2021-07-16T19:30:35.549Z"
   },
   {
    "duration": 14,
    "start_time": "2021-07-16T19:30:38.904Z"
   },
   {
    "duration": 13,
    "start_time": "2021-07-16T19:31:05.576Z"
   },
   {
    "duration": 13,
    "start_time": "2021-07-16T19:31:40.871Z"
   },
   {
    "duration": 4,
    "start_time": "2021-07-16T19:31:42.825Z"
   },
   {
    "duration": 14,
    "start_time": "2021-07-16T19:31:43.307Z"
   },
   {
    "duration": 606,
    "start_time": "2021-07-16T19:31:48.993Z"
   },
   {
    "duration": 10,
    "start_time": "2021-07-16T19:31:49.601Z"
   },
   {
    "duration": 8,
    "start_time": "2021-07-16T19:31:49.613Z"
   },
   {
    "duration": 7,
    "start_time": "2021-07-16T19:31:49.622Z"
   },
   {
    "duration": 34,
    "start_time": "2021-07-16T19:31:49.631Z"
   },
   {
    "duration": 33,
    "start_time": "2021-07-16T19:31:49.667Z"
   },
   {
    "duration": 12,
    "start_time": "2021-07-16T19:31:49.702Z"
   },
   {
    "duration": 12,
    "start_time": "2021-07-16T19:31:49.715Z"
   },
   {
    "duration": 6,
    "start_time": "2021-07-16T19:31:49.729Z"
   },
   {
    "duration": 7,
    "start_time": "2021-07-16T19:31:49.737Z"
   },
   {
    "duration": 7,
    "start_time": "2021-07-16T19:31:49.746Z"
   },
   {
    "duration": 7,
    "start_time": "2021-07-16T19:31:49.791Z"
   },
   {
    "duration": 4,
    "start_time": "2021-07-16T19:31:49.800Z"
   },
   {
    "duration": 16,
    "start_time": "2021-07-16T19:31:49.806Z"
   },
   {
    "duration": 12,
    "start_time": "2021-07-16T19:31:49.823Z"
   },
   {
    "duration": 14,
    "start_time": "2021-07-16T19:31:49.837Z"
   },
   {
    "duration": 7,
    "start_time": "2021-07-16T19:31:49.852Z"
   },
   {
    "duration": 36,
    "start_time": "2021-07-16T19:31:49.860Z"
   },
   {
    "duration": 4,
    "start_time": "2021-07-16T19:32:45.306Z"
   },
   {
    "duration": 15,
    "start_time": "2021-07-16T19:32:47.144Z"
   },
   {
    "duration": 4,
    "start_time": "2021-07-16T19:32:51.650Z"
   },
   {
    "duration": 14,
    "start_time": "2021-07-16T19:32:51.960Z"
   },
   {
    "duration": 4,
    "start_time": "2021-07-16T19:33:29.472Z"
   },
   {
    "duration": 14,
    "start_time": "2021-07-16T19:33:29.787Z"
   },
   {
    "duration": 4,
    "start_time": "2021-07-16T19:35:45.949Z"
   },
   {
    "duration": 16,
    "start_time": "2021-07-16T19:35:46.402Z"
   },
   {
    "duration": 4,
    "start_time": "2021-07-16T19:35:59.674Z"
   },
   {
    "duration": 17,
    "start_time": "2021-07-16T19:36:00.192Z"
   },
   {
    "duration": 22,
    "start_time": "2021-07-16T19:37:03.284Z"
   },
   {
    "duration": 4,
    "start_time": "2021-07-16T19:37:06.271Z"
   },
   {
    "duration": 19,
    "start_time": "2021-07-16T19:37:06.786Z"
   },
   {
    "duration": 5,
    "start_time": "2021-07-16T19:37:22.292Z"
   },
   {
    "duration": 18,
    "start_time": "2021-07-16T19:37:22.860Z"
   },
   {
    "duration": 16,
    "start_time": "2021-07-16T19:38:02.518Z"
   },
   {
    "duration": 5,
    "start_time": "2021-07-16T19:38:31.712Z"
   },
   {
    "duration": 15,
    "start_time": "2021-07-16T19:38:32.292Z"
   },
   {
    "duration": 4,
    "start_time": "2021-07-16T19:38:42.895Z"
   },
   {
    "duration": 15,
    "start_time": "2021-07-16T19:38:43.510Z"
   },
   {
    "duration": 5,
    "start_time": "2021-07-16T19:38:47.102Z"
   },
   {
    "duration": 15,
    "start_time": "2021-07-16T19:38:47.466Z"
   },
   {
    "duration": 20,
    "start_time": "2021-07-16T19:39:27.986Z"
   },
   {
    "duration": 5,
    "start_time": "2021-07-16T19:46:37.250Z"
   },
   {
    "duration": 15,
    "start_time": "2021-07-16T19:46:37.690Z"
   },
   {
    "duration": 4,
    "start_time": "2021-07-16T19:47:01.605Z"
   },
   {
    "duration": 17,
    "start_time": "2021-07-16T19:47:02.163Z"
   },
   {
    "duration": 8,
    "start_time": "2021-07-16T19:47:21.692Z"
   },
   {
    "duration": 5,
    "start_time": "2021-07-16T19:48:07.822Z"
   },
   {
    "duration": 557,
    "start_time": "2021-07-16T19:48:08.299Z"
   },
   {
    "duration": 4,
    "start_time": "2021-07-16T19:48:25.353Z"
   },
   {
    "duration": 17,
    "start_time": "2021-07-16T19:48:25.960Z"
   },
   {
    "duration": 4,
    "start_time": "2021-07-16T19:49:30.495Z"
   },
   {
    "duration": 17,
    "start_time": "2021-07-16T19:49:31.293Z"
   },
   {
    "duration": 10,
    "start_time": "2021-07-16T19:49:41.317Z"
   },
   {
    "duration": 4,
    "start_time": "2021-07-16T19:49:47.879Z"
   },
   {
    "duration": 16,
    "start_time": "2021-07-16T19:49:48.850Z"
   },
   {
    "duration": 19,
    "start_time": "2021-07-16T19:49:59.067Z"
   },
   {
    "duration": 5,
    "start_time": "2021-07-16T19:51:32.858Z"
   },
   {
    "duration": 17,
    "start_time": "2021-07-16T19:51:37.087Z"
   },
   {
    "duration": 18,
    "start_time": "2021-07-16T19:51:41.172Z"
   },
   {
    "duration": 21,
    "start_time": "2021-07-16T19:51:44.997Z"
   },
   {
    "duration": 17,
    "start_time": "2021-07-16T19:51:49.401Z"
   },
   {
    "duration": 897,
    "start_time": "2021-07-16T19:52:59.172Z"
   },
   {
    "duration": 936,
    "start_time": "2021-07-16T19:53:12.133Z"
   },
   {
    "duration": 8,
    "start_time": "2021-07-16T19:53:37.527Z"
   },
   {
    "duration": 17,
    "start_time": "2021-07-16T19:53:57.905Z"
   },
   {
    "duration": 17,
    "start_time": "2021-07-16T19:54:00.450Z"
   },
   {
    "duration": 17,
    "start_time": "2021-07-16T19:54:06.277Z"
   },
   {
    "duration": 17,
    "start_time": "2021-07-16T19:54:09.793Z"
   },
   {
    "duration": 17,
    "start_time": "2021-07-16T19:54:12.159Z"
   },
   {
    "duration": 17,
    "start_time": "2021-07-16T19:54:14.369Z"
   },
   {
    "duration": 16,
    "start_time": "2021-07-16T19:54:16.667Z"
   },
   {
    "duration": 17,
    "start_time": "2021-07-16T19:54:19.776Z"
   },
   {
    "duration": 17,
    "start_time": "2021-07-16T19:54:30.019Z"
   },
   {
    "duration": 5,
    "start_time": "2021-07-16T19:55:23.006Z"
   },
   {
    "duration": 17,
    "start_time": "2021-07-16T19:55:23.792Z"
   },
   {
    "duration": 5,
    "start_time": "2021-07-16T19:55:33.791Z"
   },
   {
    "duration": 16,
    "start_time": "2021-07-16T19:55:34.130Z"
   },
   {
    "duration": 19,
    "start_time": "2021-07-16T19:55:40.433Z"
   },
   {
    "duration": 17,
    "start_time": "2021-07-16T19:55:45.224Z"
   },
   {
    "duration": 17,
    "start_time": "2021-07-16T19:58:09.086Z"
   },
   {
    "duration": 17,
    "start_time": "2021-07-16T19:58:13.100Z"
   },
   {
    "duration": 17,
    "start_time": "2021-07-16T19:58:16.967Z"
   },
   {
    "duration": 17,
    "start_time": "2021-07-16T19:58:19.969Z"
   },
   {
    "duration": 17,
    "start_time": "2021-07-16T19:58:22.984Z"
   },
   {
    "duration": 18,
    "start_time": "2021-07-16T19:58:26.068Z"
   },
   {
    "duration": 214,
    "start_time": "2021-07-16T20:06:04.071Z"
   },
   {
    "duration": 233,
    "start_time": "2021-07-16T20:06:39.601Z"
   },
   {
    "duration": 22,
    "start_time": "2021-07-16T20:06:47.154Z"
   },
   {
    "duration": 8,
    "start_time": "2021-07-16T20:06:59.102Z"
   },
   {
    "duration": 9,
    "start_time": "2021-07-16T20:07:05.837Z"
   },
   {
    "duration": 4,
    "start_time": "2021-07-16T20:19:07.429Z"
   },
   {
    "duration": 232,
    "start_time": "2021-07-16T20:19:31.429Z"
   },
   {
    "duration": 4,
    "start_time": "2021-07-16T20:19:38.134Z"
   },
   {
    "duration": 4,
    "start_time": "2021-07-16T20:20:10.671Z"
   },
   {
    "duration": 7,
    "start_time": "2021-07-16T20:20:15.008Z"
   },
   {
    "duration": 11,
    "start_time": "2021-07-16T20:20:49.197Z"
   },
   {
    "duration": 1347,
    "start_time": "2021-07-17T11:06:00.577Z"
   },
   {
    "duration": 637,
    "start_time": "2021-07-17T11:06:18.569Z"
   },
   {
    "duration": 11,
    "start_time": "2021-07-17T11:06:19.209Z"
   },
   {
    "duration": 9,
    "start_time": "2021-07-17T11:06:19.223Z"
   },
   {
    "duration": 8,
    "start_time": "2021-07-17T11:06:19.234Z"
   },
   {
    "duration": 60,
    "start_time": "2021-07-17T11:06:19.243Z"
   },
   {
    "duration": 12,
    "start_time": "2021-07-17T11:06:19.305Z"
   },
   {
    "duration": 11,
    "start_time": "2021-07-17T11:06:19.319Z"
   },
   {
    "duration": 18,
    "start_time": "2021-07-17T11:06:19.332Z"
   },
   {
    "duration": 33,
    "start_time": "2021-07-17T11:06:19.353Z"
   },
   {
    "duration": 7,
    "start_time": "2021-07-17T11:06:19.388Z"
   },
   {
    "duration": 7,
    "start_time": "2021-07-17T11:06:19.397Z"
   },
   {
    "duration": 8,
    "start_time": "2021-07-17T11:06:19.406Z"
   },
   {
    "duration": 5,
    "start_time": "2021-07-17T11:06:19.415Z"
   },
   {
    "duration": 1002,
    "start_time": "2021-07-17T11:06:19.422Z"
   },
   {
    "duration": 16,
    "start_time": "2021-07-17T11:06:20.426Z"
   },
   {
    "duration": 9,
    "start_time": "2021-07-17T11:06:20.443Z"
   },
   {
    "duration": 399,
    "start_time": "2021-07-17T11:08:03.401Z"
   },
   {
    "duration": 1322,
    "start_time": "2021-07-17T11:09:45.174Z"
   },
   {
    "duration": 1600,
    "start_time": "2021-07-17T11:45:41.000Z"
   },
   {
    "duration": 1573,
    "start_time": "2021-07-17T11:45:59.672Z"
   },
   {
    "duration": 1492,
    "start_time": "2021-07-17T11:46:36.739Z"
   },
   {
    "duration": 1361,
    "start_time": "2021-07-17T11:47:24.348Z"
   },
   {
    "duration": 1542,
    "start_time": "2021-07-17T11:48:32.349Z"
   },
   {
    "duration": 1361,
    "start_time": "2021-07-17T11:49:03.654Z"
   },
   {
    "duration": 1501,
    "start_time": "2021-07-17T11:49:25.941Z"
   },
   {
    "duration": 1520,
    "start_time": "2021-07-17T11:49:34.756Z"
   },
   {
    "duration": 1566,
    "start_time": "2021-07-17T11:50:36.493Z"
   },
   {
    "duration": 1500,
    "start_time": "2021-07-17T11:52:48.930Z"
   },
   {
    "duration": 59,
    "start_time": "2021-07-17T11:53:26.502Z"
   },
   {
    "duration": 1506,
    "start_time": "2021-07-17T11:53:36.795Z"
   },
   {
    "duration": 1496,
    "start_time": "2021-07-17T11:53:52.127Z"
   },
   {
    "duration": 1494,
    "start_time": "2021-07-17T11:53:58.241Z"
   },
   {
    "duration": 1555,
    "start_time": "2021-07-17T11:54:15.646Z"
   },
   {
    "duration": 1595,
    "start_time": "2021-07-17T11:56:14.151Z"
   },
   {
    "duration": 1384,
    "start_time": "2021-07-17T11:57:00.277Z"
   },
   {
    "duration": 1278,
    "start_time": "2021-07-17T12:03:25.472Z"
   },
   {
    "duration": 1338,
    "start_time": "2021-07-17T12:06:03.555Z"
   },
   {
    "duration": 1250,
    "start_time": "2021-07-17T12:06:58.456Z"
   },
   {
    "duration": 1281,
    "start_time": "2021-07-17T12:07:07.394Z"
   },
   {
    "duration": 1244,
    "start_time": "2021-07-17T12:07:11.031Z"
   },
   {
    "duration": 1276,
    "start_time": "2021-07-17T12:10:54.209Z"
   },
   {
    "duration": 1255,
    "start_time": "2021-07-17T12:11:11.893Z"
   },
   {
    "duration": 1109,
    "start_time": "2021-07-17T12:11:29.842Z"
   },
   {
    "duration": 179,
    "start_time": "2021-07-17T12:15:22.342Z"
   },
   {
    "duration": 377,
    "start_time": "2021-07-17T12:15:32.315Z"
   },
   {
    "duration": 1297,
    "start_time": "2021-07-17T12:15:51.899Z"
   },
   {
    "duration": 1087,
    "start_time": "2021-07-17T12:18:14.317Z"
   },
   {
    "duration": 1313,
    "start_time": "2021-07-17T12:21:22.779Z"
   },
   {
    "duration": 1001,
    "start_time": "2021-07-17T12:22:20.750Z"
   },
   {
    "duration": 4,
    "start_time": "2021-07-17T12:45:10.692Z"
   },
   {
    "duration": 14,
    "start_time": "2021-07-17T12:45:17.548Z"
   },
   {
    "duration": 3,
    "start_time": "2021-07-17T12:56:32.495Z"
   },
   {
    "duration": 177,
    "start_time": "2021-07-17T12:56:44.355Z"
   },
   {
    "duration": 110,
    "start_time": "2021-07-17T12:56:49.592Z"
   },
   {
    "duration": 111,
    "start_time": "2021-07-17T12:57:35.067Z"
   },
   {
    "duration": 3,
    "start_time": "2021-07-17T12:57:37.684Z"
   },
   {
    "duration": 110,
    "start_time": "2021-07-17T12:57:38.075Z"
   },
   {
    "duration": 112,
    "start_time": "2021-07-17T12:57:45.227Z"
   },
   {
    "duration": 906,
    "start_time": "2021-07-17T12:57:51.875Z"
   },
   {
    "duration": 16,
    "start_time": "2021-07-17T12:57:55.086Z"
   },
   {
    "duration": 3,
    "start_time": "2021-07-17T12:58:27.646Z"
   },
   {
    "duration": 8,
    "start_time": "2021-07-17T12:58:28.646Z"
   },
   {
    "duration": 7,
    "start_time": "2021-07-17T12:59:36.014Z"
   },
   {
    "duration": 4,
    "start_time": "2021-07-17T12:59:55.186Z"
   },
   {
    "duration": 18,
    "start_time": "2021-07-17T12:59:55.733Z"
   },
   {
    "duration": 8,
    "start_time": "2021-07-17T13:00:00.785Z"
   },
   {
    "duration": 7,
    "start_time": "2021-07-17T13:00:03.788Z"
   },
   {
    "duration": 7,
    "start_time": "2021-07-17T13:00:06.607Z"
   },
   {
    "duration": 7,
    "start_time": "2021-07-17T13:00:08.649Z"
   },
   {
    "duration": 7,
    "start_time": "2021-07-17T13:00:11.104Z"
   },
   {
    "duration": 8,
    "start_time": "2021-07-17T13:00:13.875Z"
   },
   {
    "duration": 8,
    "start_time": "2021-07-17T13:00:17.703Z"
   },
   {
    "duration": 8,
    "start_time": "2021-07-17T13:00:21.547Z"
   },
   {
    "duration": 3,
    "start_time": "2021-07-17T13:04:13.927Z"
   },
   {
    "duration": 2,
    "start_time": "2021-07-17T13:07:20.814Z"
   },
   {
    "duration": 3,
    "start_time": "2021-07-17T13:15:02.181Z"
   },
   {
    "duration": 16,
    "start_time": "2021-07-17T13:15:13.951Z"
   },
   {
    "duration": 11,
    "start_time": "2021-07-17T13:19:48.725Z"
   },
   {
    "duration": 4,
    "start_time": "2021-07-17T13:20:24.446Z"
   },
   {
    "duration": 18,
    "start_time": "2021-07-17T13:20:26.156Z"
   },
   {
    "duration": 16,
    "start_time": "2021-07-17T13:22:28.887Z"
   },
   {
    "duration": 71,
    "start_time": "2021-07-17T13:31:28.425Z"
   },
   {
    "duration": 8,
    "start_time": "2021-07-17T13:31:42.342Z"
   },
   {
    "duration": 117,
    "start_time": "2021-07-17T13:32:11.245Z"
   },
   {
    "duration": 7,
    "start_time": "2021-07-17T13:32:15.962Z"
   },
   {
    "duration": 179,
    "start_time": "2021-07-17T13:33:23.633Z"
   },
   {
    "duration": 10,
    "start_time": "2021-07-17T13:33:26.481Z"
   },
   {
    "duration": 11,
    "start_time": "2021-07-17T13:35:30.400Z"
   },
   {
    "duration": 60,
    "start_time": "2021-07-17T13:35:47.763Z"
   },
   {
    "duration": 8,
    "start_time": "2021-07-17T13:35:50.671Z"
   },
   {
    "duration": 318,
    "start_time": "2021-07-17T13:40:30.794Z"
   },
   {
    "duration": 163,
    "start_time": "2021-07-17T13:40:44.241Z"
   },
   {
    "duration": 235,
    "start_time": "2021-07-17T13:41:19.918Z"
   },
   {
    "duration": 174,
    "start_time": "2021-07-17T13:41:54.349Z"
   },
   {
    "duration": 1363,
    "start_time": "2021-07-17T13:43:59.287Z"
   },
   {
    "duration": 156,
    "start_time": "2021-07-17T13:44:06.899Z"
   },
   {
    "duration": 329,
    "start_time": "2021-07-18T09:21:58.894Z"
   },
   {
    "duration": 867,
    "start_time": "2021-07-18T09:22:08.951Z"
   },
   {
    "duration": 15,
    "start_time": "2021-07-18T09:22:09.821Z"
   },
   {
    "duration": 13,
    "start_time": "2021-07-18T09:22:09.856Z"
   },
   {
    "duration": 11,
    "start_time": "2021-07-18T09:22:09.871Z"
   },
   {
    "duration": 90,
    "start_time": "2021-07-18T09:22:09.884Z"
   },
   {
    "duration": 18,
    "start_time": "2021-07-18T09:22:09.976Z"
   },
   {
    "duration": 20,
    "start_time": "2021-07-18T09:22:09.998Z"
   },
   {
    "duration": 50,
    "start_time": "2021-07-18T09:22:10.020Z"
   },
   {
    "duration": 13,
    "start_time": "2021-07-18T09:22:10.072Z"
   },
   {
    "duration": 10,
    "start_time": "2021-07-18T09:22:10.088Z"
   },
   {
    "duration": 12,
    "start_time": "2021-07-18T09:22:10.101Z"
   },
   {
    "duration": 48,
    "start_time": "2021-07-18T09:22:10.115Z"
   },
   {
    "duration": 20,
    "start_time": "2021-07-18T09:22:10.165Z"
   },
   {
    "duration": 5,
    "start_time": "2021-07-18T09:22:10.188Z"
   },
   {
    "duration": 965,
    "start_time": "2021-07-18T09:22:10.196Z"
   },
   {
    "duration": 19,
    "start_time": "2021-07-18T09:22:11.164Z"
   },
   {
    "duration": 304,
    "start_time": "2021-07-18T09:22:11.186Z"
   },
   {
    "duration": 7,
    "start_time": "2021-07-18T09:22:11.492Z"
   },
   {
    "duration": 2406,
    "start_time": "2021-07-18T09:22:11.502Z"
   },
   {
    "duration": 2335,
    "start_time": "2021-07-18T09:22:13.910Z"
   },
   {
    "duration": 1942,
    "start_time": "2021-07-18T09:22:16.254Z"
   },
   {
    "duration": 2097,
    "start_time": "2021-07-18T09:22:18.200Z"
   },
   {
    "duration": 8,
    "start_time": "2021-07-18T09:22:20.299Z"
   },
   {
    "duration": 45,
    "start_time": "2021-07-18T09:22:20.309Z"
   },
   {
    "duration": 13,
    "start_time": "2021-07-18T09:22:20.357Z"
   },
   {
    "duration": 297,
    "start_time": "2021-07-18T09:24:49.542Z"
   },
   {
    "duration": 335,
    "start_time": "2021-07-18T09:25:30.875Z"
   },
   {
    "duration": 5,
    "start_time": "2021-07-18T10:00:55.670Z"
   },
   {
    "duration": 659,
    "start_time": "2021-07-18T10:01:07.523Z"
   },
   {
    "duration": 7,
    "start_time": "2021-07-18T10:02:42.680Z"
   },
   {
    "duration": 14,
    "start_time": "2021-07-18T10:02:43.789Z"
   },
   {
    "duration": 5,
    "start_time": "2021-07-18T10:03:11.517Z"
   },
   {
    "duration": 13,
    "start_time": "2021-07-18T10:03:12.146Z"
   },
   {
    "duration": 5,
    "start_time": "2021-07-18T10:03:52.831Z"
   },
   {
    "duration": 15,
    "start_time": "2021-07-18T10:03:53.318Z"
   },
   {
    "duration": 17,
    "start_time": "2021-07-18T10:04:00.480Z"
   },
   {
    "duration": 5,
    "start_time": "2021-07-18T10:04:19.750Z"
   },
   {
    "duration": 13,
    "start_time": "2021-07-18T10:04:20.171Z"
   },
   {
    "duration": 16,
    "start_time": "2021-07-18T10:04:24.382Z"
   },
   {
    "duration": 14,
    "start_time": "2021-07-18T10:04:27.521Z"
   },
   {
    "duration": 6,
    "start_time": "2021-07-18T10:05:01.392Z"
   },
   {
    "duration": 16,
    "start_time": "2021-07-18T10:05:01.951Z"
   },
   {
    "duration": 15,
    "start_time": "2021-07-18T10:05:07.086Z"
   },
   {
    "duration": 16,
    "start_time": "2021-07-18T10:05:12.142Z"
   },
   {
    "duration": 283,
    "start_time": "2021-07-18T10:13:08.704Z"
   },
   {
    "duration": 15,
    "start_time": "2021-07-18T10:13:12.296Z"
   },
   {
    "duration": 25,
    "start_time": "2021-07-18T10:17:09.328Z"
   },
   {
    "duration": 24,
    "start_time": "2021-07-18T10:19:27.844Z"
   },
   {
    "duration": 298,
    "start_time": "2021-07-18T10:19:53.052Z"
   },
   {
    "duration": 30,
    "start_time": "2021-07-18T10:21:02.477Z"
   },
   {
    "duration": 28,
    "start_time": "2021-07-18T10:21:43.195Z"
   },
   {
    "duration": 19864,
    "start_time": "2021-07-18T10:28:56.313Z"
   },
   {
    "duration": 15,
    "start_time": "2021-07-18T10:29:28.016Z"
   },
   {
    "duration": 25,
    "start_time": "2021-07-18T10:30:44.446Z"
   },
   {
    "duration": 31,
    "start_time": "2021-07-18T10:31:38.257Z"
   },
   {
    "duration": 105,
    "start_time": "2021-07-18T10:40:56.088Z"
   },
   {
    "duration": 5,
    "start_time": "2021-07-18T10:42:11.176Z"
   },
   {
    "duration": 93,
    "start_time": "2021-07-18T10:42:30.497Z"
   },
   {
    "duration": 92,
    "start_time": "2021-07-18T10:42:50.451Z"
   },
   {
    "duration": 5,
    "start_time": "2021-07-18T10:43:35.264Z"
   },
   {
    "duration": 6,
    "start_time": "2021-07-18T10:44:39.877Z"
   },
   {
    "duration": 9,
    "start_time": "2021-07-18T10:45:43.087Z"
   },
   {
    "duration": 857,
    "start_time": "2021-07-18T10:45:51.623Z"
   },
   {
    "duration": 15,
    "start_time": "2021-07-18T10:45:52.483Z"
   },
   {
    "duration": 11,
    "start_time": "2021-07-18T10:45:52.501Z"
   },
   {
    "duration": 41,
    "start_time": "2021-07-18T10:45:52.515Z"
   },
   {
    "duration": 58,
    "start_time": "2021-07-18T10:45:52.558Z"
   },
   {
    "duration": 38,
    "start_time": "2021-07-18T10:45:52.618Z"
   },
   {
    "duration": 21,
    "start_time": "2021-07-18T10:45:52.659Z"
   },
   {
    "duration": 20,
    "start_time": "2021-07-18T10:45:52.684Z"
   },
   {
    "duration": 15,
    "start_time": "2021-07-18T10:45:52.708Z"
   },
   {
    "duration": 10,
    "start_time": "2021-07-18T10:45:52.755Z"
   },
   {
    "duration": 12,
    "start_time": "2021-07-18T10:45:52.767Z"
   },
   {
    "duration": 10,
    "start_time": "2021-07-18T10:45:52.782Z"
   },
   {
    "duration": 20,
    "start_time": "2021-07-18T10:45:52.794Z"
   },
   {
    "duration": 7,
    "start_time": "2021-07-18T10:45:52.817Z"
   },
   {
    "duration": 939,
    "start_time": "2021-07-18T10:45:52.856Z"
   },
   {
    "duration": 19,
    "start_time": "2021-07-18T10:45:53.797Z"
   },
   {
    "duration": 308,
    "start_time": "2021-07-18T10:45:53.819Z"
   },
   {
    "duration": 2350,
    "start_time": "2021-07-18T10:45:54.129Z"
   },
   {
    "duration": 2129,
    "start_time": "2021-07-18T10:45:56.482Z"
   },
   {
    "duration": 1658,
    "start_time": "2021-07-18T10:45:58.614Z"
   },
   {
    "duration": 1848,
    "start_time": "2021-07-18T10:46:00.274Z"
   },
   {
    "duration": 6,
    "start_time": "2021-07-18T10:46:02.124Z"
   },
   {
    "duration": 27500,
    "start_time": "2021-07-18T10:46:02.134Z"
   },
   {
    "duration": 23,
    "start_time": "2021-07-18T10:46:29.637Z"
   },
   {
    "duration": 8,
    "start_time": "2021-07-18T10:46:29.662Z"
   },
   {
    "duration": 29,
    "start_time": "2021-07-18T10:46:29.672Z"
   },
   {
    "duration": 14,
    "start_time": "2021-07-18T10:46:29.703Z"
   },
   {
    "duration": 21,
    "start_time": "2021-07-18T10:46:45.448Z"
   },
   {
    "duration": 20,
    "start_time": "2021-07-18T10:46:51.231Z"
   },
   {
    "duration": 18,
    "start_time": "2021-07-18T10:46:55.222Z"
   },
   {
    "duration": 17,
    "start_time": "2021-07-18T10:46:59.284Z"
   },
   {
    "duration": 5,
    "start_time": "2021-07-18T10:48:21.043Z"
   },
   {
    "duration": 822,
    "start_time": "2021-07-18T10:48:26.751Z"
   },
   {
    "duration": 15,
    "start_time": "2021-07-18T10:48:27.576Z"
   },
   {
    "duration": 20,
    "start_time": "2021-07-18T10:48:27.595Z"
   },
   {
    "duration": 24,
    "start_time": "2021-07-18T10:48:27.618Z"
   },
   {
    "duration": 63,
    "start_time": "2021-07-18T10:48:27.644Z"
   },
   {
    "duration": 18,
    "start_time": "2021-07-18T10:48:27.709Z"
   },
   {
    "duration": 40,
    "start_time": "2021-07-18T10:48:27.729Z"
   },
   {
    "duration": 20,
    "start_time": "2021-07-18T10:48:27.773Z"
   },
   {
    "duration": 10,
    "start_time": "2021-07-18T10:48:27.796Z"
   },
   {
    "duration": 8,
    "start_time": "2021-07-18T10:48:27.809Z"
   },
   {
    "duration": 12,
    "start_time": "2021-07-18T10:48:27.855Z"
   },
   {
    "duration": 14,
    "start_time": "2021-07-18T10:48:27.870Z"
   },
   {
    "duration": 24,
    "start_time": "2021-07-18T10:48:27.886Z"
   },
   {
    "duration": 21,
    "start_time": "2021-07-18T10:48:27.913Z"
   },
   {
    "duration": 934,
    "start_time": "2021-07-18T10:48:27.936Z"
   },
   {
    "duration": 18,
    "start_time": "2021-07-18T10:48:28.872Z"
   },
   {
    "duration": 303,
    "start_time": "2021-07-18T10:48:28.893Z"
   },
   {
    "duration": 2124,
    "start_time": "2021-07-18T10:48:29.199Z"
   },
   {
    "duration": 2109,
    "start_time": "2021-07-18T10:48:31.325Z"
   },
   {
    "duration": 1787,
    "start_time": "2021-07-18T10:48:33.437Z"
   },
   {
    "duration": 1851,
    "start_time": "2021-07-18T10:48:35.227Z"
   },
   {
    "duration": 6,
    "start_time": "2021-07-18T10:48:37.081Z"
   },
   {
    "duration": 16,
    "start_time": "2021-07-18T10:48:37.092Z"
   },
   {
    "duration": 30438,
    "start_time": "2021-07-18T10:48:37.111Z"
   },
   {
    "duration": 16,
    "start_time": "2021-07-18T10:49:07.555Z"
   },
   {
    "duration": 24,
    "start_time": "2021-07-18T10:49:07.573Z"
   },
   {
    "duration": 42,
    "start_time": "2021-07-18T10:49:07.600Z"
   },
   {
    "duration": 14,
    "start_time": "2021-07-18T10:49:07.645Z"
   },
   {
    "duration": 18,
    "start_time": "2021-07-18T10:49:20.503Z"
   },
   {
    "duration": 18,
    "start_time": "2021-07-18T10:49:35.099Z"
   },
   {
    "duration": 20,
    "start_time": "2021-07-18T10:49:39.437Z"
   },
   {
    "duration": 22,
    "start_time": "2021-07-18T10:49:50.266Z"
   },
   {
    "duration": 6689,
    "start_time": "2021-07-18T12:44:21.703Z"
   },
   {
    "duration": 7,
    "start_time": "2021-07-18T12:44:49.408Z"
   },
   {
    "duration": 6907,
    "start_time": "2021-07-18T12:45:10.714Z"
   },
   {
    "duration": 10,
    "start_time": "2021-07-18T12:45:23.912Z"
   },
   {
    "duration": 10,
    "start_time": "2021-07-18T12:45:32.626Z"
   },
   {
    "duration": 10,
    "start_time": "2021-07-18T12:46:42.923Z"
   },
   {
    "duration": 854,
    "start_time": "2021-07-18T12:46:50.232Z"
   },
   {
    "duration": 15,
    "start_time": "2021-07-18T12:46:51.088Z"
   },
   {
    "duration": 15,
    "start_time": "2021-07-18T12:46:51.106Z"
   },
   {
    "duration": 31,
    "start_time": "2021-07-18T12:46:51.124Z"
   },
   {
    "duration": 99,
    "start_time": "2021-07-18T12:46:51.158Z"
   },
   {
    "duration": 27,
    "start_time": "2021-07-18T12:46:51.260Z"
   },
   {
    "duration": 77,
    "start_time": "2021-07-18T12:46:51.290Z"
   },
   {
    "duration": 84,
    "start_time": "2021-07-18T12:46:51.372Z"
   },
   {
    "duration": 11,
    "start_time": "2021-07-18T12:46:51.460Z"
   },
   {
    "duration": 86,
    "start_time": "2021-07-18T12:46:51.475Z"
   },
   {
    "duration": 16,
    "start_time": "2021-07-18T12:46:51.564Z"
   },
   {
    "duration": 72,
    "start_time": "2021-07-18T12:46:51.583Z"
   },
   {
    "duration": 12,
    "start_time": "2021-07-18T12:46:51.657Z"
   },
   {
    "duration": 23,
    "start_time": "2021-07-18T12:46:51.671Z"
   },
   {
    "duration": 1197,
    "start_time": "2021-07-18T12:46:51.696Z"
   },
   {
    "duration": 19,
    "start_time": "2021-07-18T12:46:52.895Z"
   },
   {
    "duration": 312,
    "start_time": "2021-07-18T12:46:52.916Z"
   },
   {
    "duration": 2225,
    "start_time": "2021-07-18T12:46:53.232Z"
   },
   {
    "duration": 2167,
    "start_time": "2021-07-18T12:46:55.460Z"
   },
   {
    "duration": 1714,
    "start_time": "2021-07-18T12:46:57.631Z"
   },
   {
    "duration": 1963,
    "start_time": "2021-07-18T12:46:59.349Z"
   },
   {
    "duration": 7,
    "start_time": "2021-07-18T12:47:01.315Z"
   },
   {
    "duration": 32,
    "start_time": "2021-07-18T12:47:01.327Z"
   },
   {
    "duration": 10,
    "start_time": "2021-07-18T12:47:01.362Z"
   },
   {
    "duration": 28381,
    "start_time": "2021-07-18T12:47:01.375Z"
   },
   {
    "duration": 14,
    "start_time": "2021-07-18T12:47:29.759Z"
   },
   {
    "duration": 8,
    "start_time": "2021-07-18T12:47:29.775Z"
   },
   {
    "duration": 24,
    "start_time": "2021-07-18T12:47:29.786Z"
   },
   {
    "duration": 49,
    "start_time": "2021-07-18T12:47:29.812Z"
   },
   {
    "duration": 8,
    "start_time": "2021-07-18T12:49:29.743Z"
   },
   {
    "duration": 94,
    "start_time": "2021-07-18T12:49:39.054Z"
   },
   {
    "duration": 10,
    "start_time": "2021-07-18T12:49:42.527Z"
   },
   {
    "duration": 845,
    "start_time": "2021-07-18T12:50:29.062Z"
   },
   {
    "duration": 16,
    "start_time": "2021-07-18T12:50:29.910Z"
   },
   {
    "duration": 34,
    "start_time": "2021-07-18T12:50:29.932Z"
   },
   {
    "duration": 11,
    "start_time": "2021-07-18T12:50:29.968Z"
   },
   {
    "duration": 87,
    "start_time": "2021-07-18T12:50:29.982Z"
   },
   {
    "duration": 18,
    "start_time": "2021-07-18T12:50:30.071Z"
   },
   {
    "duration": 21,
    "start_time": "2021-07-18T12:50:30.093Z"
   },
   {
    "duration": 53,
    "start_time": "2021-07-18T12:50:30.117Z"
   },
   {
    "duration": 8,
    "start_time": "2021-07-18T12:50:30.172Z"
   },
   {
    "duration": 13,
    "start_time": "2021-07-18T12:50:30.183Z"
   },
   {
    "duration": 21,
    "start_time": "2021-07-18T12:50:30.199Z"
   },
   {
    "duration": 37,
    "start_time": "2021-07-18T12:50:30.223Z"
   },
   {
    "duration": 28,
    "start_time": "2021-07-18T12:50:30.263Z"
   },
   {
    "duration": 18,
    "start_time": "2021-07-18T12:50:30.293Z"
   },
   {
    "duration": 989,
    "start_time": "2021-07-18T12:50:30.314Z"
   },
   {
    "duration": 20,
    "start_time": "2021-07-18T12:50:31.305Z"
   },
   {
    "duration": 300,
    "start_time": "2021-07-18T12:50:31.328Z"
   },
   {
    "duration": 2113,
    "start_time": "2021-07-18T12:50:31.630Z"
   },
   {
    "duration": 2114,
    "start_time": "2021-07-18T12:50:33.745Z"
   },
   {
    "duration": 1665,
    "start_time": "2021-07-18T12:50:35.861Z"
   },
   {
    "duration": 1883,
    "start_time": "2021-07-18T12:50:37.529Z"
   },
   {
    "duration": 6,
    "start_time": "2021-07-18T12:50:39.418Z"
   },
   {
    "duration": 27518,
    "start_time": "2021-07-18T12:50:39.426Z"
   },
   {
    "duration": 18,
    "start_time": "2021-07-18T12:51:06.946Z"
   },
   {
    "duration": 7,
    "start_time": "2021-07-18T12:51:06.967Z"
   },
   {
    "duration": 33,
    "start_time": "2021-07-18T12:51:06.977Z"
   },
   {
    "duration": 41,
    "start_time": "2021-07-18T12:51:07.013Z"
   },
   {
    "duration": 12,
    "start_time": "2021-07-18T13:28:54.716Z"
   },
   {
    "duration": 909,
    "start_time": "2021-07-18T13:29:08.937Z"
   },
   {
    "duration": 14,
    "start_time": "2021-07-18T13:29:09.849Z"
   },
   {
    "duration": 15,
    "start_time": "2021-07-18T13:29:09.866Z"
   },
   {
    "duration": 10,
    "start_time": "2021-07-18T13:29:09.884Z"
   },
   {
    "duration": 90,
    "start_time": "2021-07-18T13:29:09.897Z"
   },
   {
    "duration": 30,
    "start_time": "2021-07-18T13:29:09.990Z"
   },
   {
    "duration": 62,
    "start_time": "2021-07-18T13:29:10.023Z"
   },
   {
    "duration": 42,
    "start_time": "2021-07-18T13:29:10.091Z"
   },
   {
    "duration": 21,
    "start_time": "2021-07-18T13:29:10.137Z"
   },
   {
    "duration": 36,
    "start_time": "2021-07-18T13:29:10.161Z"
   },
   {
    "duration": 25,
    "start_time": "2021-07-18T13:29:10.208Z"
   },
   {
    "duration": 38,
    "start_time": "2021-07-18T13:29:10.237Z"
   },
   {
    "duration": 29,
    "start_time": "2021-07-18T13:29:10.285Z"
   },
   {
    "duration": 13,
    "start_time": "2021-07-18T13:29:10.317Z"
   },
   {
    "duration": 1555,
    "start_time": "2021-07-18T13:29:10.333Z"
   },
   {
    "duration": 67,
    "start_time": "2021-07-18T13:29:11.890Z"
   },
   {
    "duration": 473,
    "start_time": "2021-07-18T13:29:11.960Z"
   },
   {
    "duration": 2161,
    "start_time": "2021-07-18T13:29:12.435Z"
   },
   {
    "duration": 2294,
    "start_time": "2021-07-18T13:29:14.598Z"
   },
   {
    "duration": 1666,
    "start_time": "2021-07-18T13:29:16.895Z"
   },
   {
    "duration": 1945,
    "start_time": "2021-07-18T13:29:18.563Z"
   },
   {
    "duration": 11,
    "start_time": "2021-07-18T13:29:20.511Z"
   },
   {
    "duration": 43177,
    "start_time": "2021-07-18T13:29:20.526Z"
   },
   {
    "duration": 14,
    "start_time": "2021-07-18T13:30:03.705Z"
   },
   {
    "duration": 7,
    "start_time": "2021-07-18T13:30:03.722Z"
   },
   {
    "duration": 24,
    "start_time": "2021-07-18T13:30:03.754Z"
   },
   {
    "duration": 15,
    "start_time": "2021-07-18T13:30:03.781Z"
   },
   {
    "duration": 412,
    "start_time": "2021-07-18T13:31:29.358Z"
   },
   {
    "duration": 7,
    "start_time": "2021-07-18T13:31:38.963Z"
   },
   {
    "duration": 7,
    "start_time": "2021-07-18T13:31:43.050Z"
   },
   {
    "duration": 6484,
    "start_time": "2021-07-18T13:36:48.889Z"
   },
   {
    "duration": 6612,
    "start_time": "2021-07-18T13:37:28.041Z"
   },
   {
    "duration": 6585,
    "start_time": "2021-07-18T13:37:39.828Z"
   },
   {
    "duration": 6649,
    "start_time": "2021-07-18T13:37:50.157Z"
   },
   {
    "duration": 13,
    "start_time": "2021-07-18T13:37:59.299Z"
   },
   {
    "duration": 12,
    "start_time": "2021-07-18T13:38:05.170Z"
   },
   {
    "duration": 101,
    "start_time": "2021-07-18T13:38:58.693Z"
   },
   {
    "duration": 14,
    "start_time": "2021-07-18T13:39:08.869Z"
   },
   {
    "duration": 89,
    "start_time": "2021-07-18T13:39:28.880Z"
   },
   {
    "duration": 91,
    "start_time": "2021-07-18T13:39:35.231Z"
   },
   {
    "duration": 9,
    "start_time": "2021-07-18T13:39:38.261Z"
   },
   {
    "duration": 21,
    "start_time": "2021-07-18T13:39:55.980Z"
   },
   {
    "duration": 22,
    "start_time": "2021-07-18T13:40:12.732Z"
   },
   {
    "duration": 14,
    "start_time": "2021-07-18T13:40:43.849Z"
   },
   {
    "duration": 6,
    "start_time": "2021-07-18T20:42:28.643Z"
   },
   {
    "duration": 13,
    "start_time": "2021-07-18T20:43:03.413Z"
   },
   {
    "duration": 14,
    "start_time": "2021-07-18T20:43:16.454Z"
   },
   {
    "duration": 14,
    "start_time": "2021-07-18T20:43:24.028Z"
   },
   {
    "duration": 14,
    "start_time": "2021-07-18T20:43:34.234Z"
   },
   {
    "duration": 5,
    "start_time": "2021-07-18T20:47:49.115Z"
   },
   {
    "duration": 5,
    "start_time": "2021-07-18T20:47:54.798Z"
   },
   {
    "duration": 88,
    "start_time": "2021-07-18T20:48:05.370Z"
   },
   {
    "duration": 5,
    "start_time": "2021-07-18T20:48:15.521Z"
   },
   {
    "duration": 6,
    "start_time": "2021-07-18T20:48:26.561Z"
   },
   {
    "duration": 6,
    "start_time": "2021-07-18T20:48:31.057Z"
   },
   {
    "duration": 6,
    "start_time": "2021-07-18T20:48:36.586Z"
   },
   {
    "duration": 7421,
    "start_time": "2021-07-18T20:52:38.437Z"
   },
   {
    "duration": 275,
    "start_time": "2021-07-18T20:55:05.289Z"
   },
   {
    "duration": 282,
    "start_time": "2021-07-18T20:55:27.704Z"
   },
   {
    "duration": 7254,
    "start_time": "2021-07-18T20:55:47.165Z"
   },
   {
    "duration": 7683,
    "start_time": "2021-07-18T20:57:17.408Z"
   },
   {
    "duration": 6918,
    "start_time": "2021-07-18T20:57:31.629Z"
   },
   {
    "duration": 292,
    "start_time": "2021-07-18T20:57:51.501Z"
   },
   {
    "duration": 293,
    "start_time": "2021-07-18T21:00:12.454Z"
   },
   {
    "duration": 282,
    "start_time": "2021-07-18T21:01:04.252Z"
   },
   {
    "duration": 280,
    "start_time": "2021-07-18T21:01:14.919Z"
   },
   {
    "duration": 293,
    "start_time": "2021-07-18T21:04:24.457Z"
   },
   {
    "duration": 318,
    "start_time": "2021-07-18T21:04:29.287Z"
   },
   {
    "duration": 317,
    "start_time": "2021-07-18T21:06:54.229Z"
   },
   {
    "duration": 301,
    "start_time": "2021-07-18T21:06:59.606Z"
   },
   {
    "duration": 24,
    "start_time": "2021-07-18T21:14:33.601Z"
   },
   {
    "duration": 269,
    "start_time": "2021-07-18T21:14:53.463Z"
   },
   {
    "duration": 7,
    "start_time": "2021-07-18T21:15:00.407Z"
   },
   {
    "duration": 26,
    "start_time": "2021-07-18T21:15:13.940Z"
   },
   {
    "duration": 6,
    "start_time": "2021-07-18T21:15:30.476Z"
   },
   {
    "duration": 7,
    "start_time": "2021-07-18T21:15:48.708Z"
   },
   {
    "duration": 15,
    "start_time": "2021-07-18T21:15:50.639Z"
   },
   {
    "duration": 6,
    "start_time": "2021-07-18T21:18:35.258Z"
   },
   {
    "duration": 271,
    "start_time": "2021-07-18T21:19:03.410Z"
   },
   {
    "duration": 18989,
    "start_time": "2021-07-18T21:20:33.420Z"
   },
   {
    "duration": 15,
    "start_time": "2021-07-18T21:21:15.262Z"
   },
   {
    "duration": 35,
    "start_time": "2021-07-18T21:22:04.583Z"
   },
   {
    "duration": 285,
    "start_time": "2021-07-18T21:24:47.319Z"
   },
   {
    "duration": 279,
    "start_time": "2021-07-18T21:25:19.371Z"
   },
   {
    "duration": 1203,
    "start_time": "2021-07-18T21:27:06.918Z"
   },
   {
    "duration": 339,
    "start_time": "2021-07-18T21:28:01.273Z"
   },
   {
    "duration": 303,
    "start_time": "2021-07-18T21:30:49.683Z"
   },
   {
    "duration": 102,
    "start_time": "2021-07-18T21:32:01.317Z"
   },
   {
    "duration": 91,
    "start_time": "2021-07-18T21:32:51.989Z"
   },
   {
    "duration": 94,
    "start_time": "2021-07-18T21:34:39.288Z"
   },
   {
    "duration": 94,
    "start_time": "2021-07-18T21:34:45.579Z"
   },
   {
    "duration": 90,
    "start_time": "2021-07-18T21:34:55.085Z"
   },
   {
    "duration": 957,
    "start_time": "2021-07-18T21:35:42.866Z"
   },
   {
    "duration": 15,
    "start_time": "2021-07-18T21:35:43.825Z"
   },
   {
    "duration": 27,
    "start_time": "2021-07-18T21:35:43.843Z"
   },
   {
    "duration": 10,
    "start_time": "2021-07-18T21:35:43.873Z"
   },
   {
    "duration": 96,
    "start_time": "2021-07-18T21:35:43.886Z"
   },
   {
    "duration": 18,
    "start_time": "2021-07-18T21:35:43.984Z"
   },
   {
    "duration": 52,
    "start_time": "2021-07-18T21:35:44.005Z"
   },
   {
    "duration": 20,
    "start_time": "2021-07-18T21:35:44.062Z"
   },
   {
    "duration": 10,
    "start_time": "2021-07-18T21:35:44.085Z"
   },
   {
    "duration": 9,
    "start_time": "2021-07-18T21:35:44.098Z"
   },
   {
    "duration": 12,
    "start_time": "2021-07-18T21:35:44.154Z"
   },
   {
    "duration": 11,
    "start_time": "2021-07-18T21:35:44.169Z"
   },
   {
    "duration": 12,
    "start_time": "2021-07-18T21:35:44.183Z"
   },
   {
    "duration": 6,
    "start_time": "2021-07-18T21:35:44.197Z"
   },
   {
    "duration": 1005,
    "start_time": "2021-07-18T21:35:44.206Z"
   },
   {
    "duration": 19,
    "start_time": "2021-07-18T21:35:45.214Z"
   },
   {
    "duration": 313,
    "start_time": "2021-07-18T21:35:45.236Z"
   },
   {
    "duration": 2524,
    "start_time": "2021-07-18T21:35:45.554Z"
   },
   {
    "duration": 2333,
    "start_time": "2021-07-18T21:35:48.081Z"
   },
   {
    "duration": 1758,
    "start_time": "2021-07-18T21:35:50.416Z"
   },
   {
    "duration": 2006,
    "start_time": "2021-07-18T21:35:52.176Z"
   },
   {
    "duration": 21,
    "start_time": "2021-07-18T21:35:54.184Z"
   },
   {
    "duration": 42747,
    "start_time": "2021-07-18T21:35:54.212Z"
   },
   {
    "duration": 25,
    "start_time": "2021-07-18T21:36:36.962Z"
   },
   {
    "duration": 26,
    "start_time": "2021-07-18T21:36:36.989Z"
   },
   {
    "duration": 37,
    "start_time": "2021-07-18T21:36:37.018Z"
   },
   {
    "duration": 94,
    "start_time": "2021-07-18T21:36:37.058Z"
   },
   {
    "duration": 1760,
    "start_time": "2021-07-18T21:36:35.394Z"
   },
   {
    "duration": 1754,
    "start_time": "2021-07-18T21:36:35.402Z"
   },
   {
    "duration": 1753,
    "start_time": "2021-07-18T21:36:35.404Z"
   },
   {
    "duration": 117,
    "start_time": "2021-07-18T21:37:09.814Z"
   },
   {
    "duration": 89,
    "start_time": "2021-07-18T21:37:23.720Z"
   },
   {
    "duration": 419,
    "start_time": "2021-07-18T21:38:34.773Z"
   },
   {
    "duration": 19245,
    "start_time": "2021-07-18T21:39:57.752Z"
   },
   {
    "duration": 291,
    "start_time": "2021-07-18T21:41:59.461Z"
   },
   {
    "duration": 118,
    "start_time": "2021-07-18T21:42:20.720Z"
   },
   {
    "duration": 28,
    "start_time": "2021-07-18T21:42:28.898Z"
   },
   {
    "duration": 37,
    "start_time": "2021-07-18T21:42:36.842Z"
   },
   {
    "duration": 12,
    "start_time": "2021-07-18T21:43:14.764Z"
   },
   {
    "duration": 265,
    "start_time": "2021-07-18T21:44:25.197Z"
   },
   {
    "duration": 24,
    "start_time": "2021-07-18T21:45:01.275Z"
   },
   {
    "duration": 1097,
    "start_time": "2021-07-18T21:57:55.031Z"
   },
   {
    "duration": 1102,
    "start_time": "2021-07-18T21:58:21.608Z"
   },
   {
    "duration": 18,
    "start_time": "2021-07-18T21:59:36.096Z"
   },
   {
    "duration": 872,
    "start_time": "2021-07-18T22:00:33.491Z"
   },
   {
    "duration": 16,
    "start_time": "2021-07-18T22:00:34.366Z"
   },
   {
    "duration": 17,
    "start_time": "2021-07-18T22:00:34.385Z"
   },
   {
    "duration": 11,
    "start_time": "2021-07-18T22:00:34.406Z"
   },
   {
    "duration": 77,
    "start_time": "2021-07-18T22:00:34.455Z"
   },
   {
    "duration": 39,
    "start_time": "2021-07-18T22:00:34.534Z"
   },
   {
    "duration": 22,
    "start_time": "2021-07-18T22:00:34.576Z"
   },
   {
    "duration": 62,
    "start_time": "2021-07-18T22:00:34.605Z"
   },
   {
    "duration": 12,
    "start_time": "2021-07-18T22:00:34.671Z"
   },
   {
    "duration": 11,
    "start_time": "2021-07-18T22:00:34.685Z"
   },
   {
    "duration": 27,
    "start_time": "2021-07-18T22:00:34.699Z"
   },
   {
    "duration": 28,
    "start_time": "2021-07-18T22:00:34.728Z"
   },
   {
    "duration": 26,
    "start_time": "2021-07-18T22:00:34.758Z"
   },
   {
    "duration": 15,
    "start_time": "2021-07-18T22:00:34.787Z"
   },
   {
    "duration": 1003,
    "start_time": "2021-07-18T22:00:34.804Z"
   },
   {
    "duration": 24,
    "start_time": "2021-07-18T22:00:35.810Z"
   },
   {
    "duration": 320,
    "start_time": "2021-07-18T22:00:35.837Z"
   },
   {
    "duration": 2256,
    "start_time": "2021-07-18T22:00:36.160Z"
   },
   {
    "duration": 2239,
    "start_time": "2021-07-18T22:00:38.418Z"
   },
   {
    "duration": 2394,
    "start_time": "2021-07-18T22:00:40.660Z"
   },
   {
    "duration": 2665,
    "start_time": "2021-07-18T22:00:43.058Z"
   },
   {
    "duration": 12,
    "start_time": "2021-07-18T22:00:45.725Z"
   },
   {
    "duration": 44995,
    "start_time": "2021-07-18T22:00:45.759Z"
   },
   {
    "duration": 15,
    "start_time": "2021-07-18T22:01:30.757Z"
   },
   {
    "duration": 27,
    "start_time": "2021-07-18T22:01:30.774Z"
   },
   {
    "duration": 18,
    "start_time": "2021-07-18T22:01:30.804Z"
   },
   {
    "duration": 14946,
    "start_time": "2021-07-18T22:01:30.825Z"
   },
   {
    "duration": 37,
    "start_time": "2021-07-18T22:01:45.773Z"
   },
   {
    "duration": 19,
    "start_time": "2021-07-18T22:01:45.813Z"
   },
   {
    "duration": 21,
    "start_time": "2021-07-18T22:01:45.855Z"
   },
   {
    "duration": 1241,
    "start_time": "2021-07-18T22:01:45.879Z"
   },
   {
    "duration": 1781,
    "start_time": "2021-07-18T22:01:45.342Z"
   },
   {
    "duration": 1779,
    "start_time": "2021-07-18T22:01:45.345Z"
   },
   {
    "duration": 1098,
    "start_time": "2021-07-18T22:02:13.819Z"
   },
   {
    "duration": 267,
    "start_time": "2021-07-18T22:03:08.820Z"
   },
   {
    "duration": 38,
    "start_time": "2021-07-18T22:03:18.068Z"
   },
   {
    "duration": 47,
    "start_time": "2021-07-18T22:04:49.174Z"
   },
   {
    "duration": 37,
    "start_time": "2021-07-18T22:04:57.756Z"
   },
   {
    "duration": 1147,
    "start_time": "2021-07-18T22:05:15.110Z"
   },
   {
    "duration": 1083,
    "start_time": "2021-07-18T22:05:35.633Z"
   },
   {
    "duration": 1098,
    "start_time": "2021-07-18T22:05:39.368Z"
   },
   {
    "duration": 296,
    "start_time": "2021-07-18T22:06:07.912Z"
   },
   {
    "duration": 294,
    "start_time": "2021-07-18T22:06:58.651Z"
   },
   {
    "duration": 566,
    "start_time": "2021-07-18T22:07:05.841Z"
   },
   {
    "duration": 280,
    "start_time": "2021-07-18T22:07:20.231Z"
   },
   {
    "duration": 40,
    "start_time": "2021-07-18T22:07:38.790Z"
   },
   {
    "duration": 24,
    "start_time": "2021-07-18T22:08:05.007Z"
   },
   {
    "duration": 20,
    "start_time": "2021-07-18T22:12:17.622Z"
   },
   {
    "duration": 360,
    "start_time": "2021-07-18T22:15:47.714Z"
   },
   {
    "duration": 290,
    "start_time": "2021-07-18T22:16:32.650Z"
   },
   {
    "duration": 291,
    "start_time": "2021-07-18T22:17:31.051Z"
   },
   {
    "duration": 112,
    "start_time": "2021-07-18T22:17:38.100Z"
   },
   {
    "duration": 302,
    "start_time": "2021-07-18T22:17:46.217Z"
   },
   {
    "duration": 8,
    "start_time": "2021-07-18T22:18:25.035Z"
   },
   {
    "duration": 8,
    "start_time": "2021-07-18T22:18:40.034Z"
   },
   {
    "duration": 7,
    "start_time": "2021-07-18T22:19:59.833Z"
   },
   {
    "duration": 841,
    "start_time": "2021-07-18T22:20:23.047Z"
   },
   {
    "duration": 15,
    "start_time": "2021-07-18T22:20:23.891Z"
   },
   {
    "duration": 12,
    "start_time": "2021-07-18T22:20:23.913Z"
   },
   {
    "duration": 37,
    "start_time": "2021-07-18T22:20:23.927Z"
   },
   {
    "duration": 56,
    "start_time": "2021-07-18T22:20:23.966Z"
   },
   {
    "duration": 43,
    "start_time": "2021-07-18T22:20:24.024Z"
   },
   {
    "duration": 31,
    "start_time": "2021-07-18T22:20:24.074Z"
   },
   {
    "duration": 47,
    "start_time": "2021-07-18T22:20:24.108Z"
   },
   {
    "duration": 10,
    "start_time": "2021-07-18T22:20:24.158Z"
   },
   {
    "duration": 10,
    "start_time": "2021-07-18T22:20:24.172Z"
   },
   {
    "duration": 15,
    "start_time": "2021-07-18T22:20:24.186Z"
   },
   {
    "duration": 63,
    "start_time": "2021-07-18T22:20:24.204Z"
   },
   {
    "duration": 17,
    "start_time": "2021-07-18T22:20:24.270Z"
   },
   {
    "duration": 7,
    "start_time": "2021-07-18T22:20:24.290Z"
   },
   {
    "duration": 996,
    "start_time": "2021-07-18T22:20:24.299Z"
   },
   {
    "duration": 20,
    "start_time": "2021-07-18T22:20:25.297Z"
   },
   {
    "duration": 306,
    "start_time": "2021-07-18T22:20:25.319Z"
   },
   {
    "duration": 2339,
    "start_time": "2021-07-18T22:20:25.627Z"
   },
   {
    "duration": 2229,
    "start_time": "2021-07-18T22:20:27.968Z"
   },
   {
    "duration": 1757,
    "start_time": "2021-07-18T22:20:30.199Z"
   },
   {
    "duration": 1910,
    "start_time": "2021-07-18T22:20:31.958Z"
   },
   {
    "duration": 12,
    "start_time": "2021-07-18T22:20:33.873Z"
   },
   {
    "duration": 48444,
    "start_time": "2021-07-18T22:20:33.888Z"
   },
   {
    "duration": 14,
    "start_time": "2021-07-18T22:21:22.335Z"
   },
   {
    "duration": 33,
    "start_time": "2021-07-18T22:21:22.355Z"
   },
   {
    "duration": 14,
    "start_time": "2021-07-18T22:21:22.391Z"
   },
   {
    "duration": 15453,
    "start_time": "2021-07-18T22:21:22.408Z"
   },
   {
    "duration": 8,
    "start_time": "2021-07-18T22:21:37.863Z"
   },
   {
    "duration": 29,
    "start_time": "2021-07-18T22:21:37.874Z"
   },
   {
    "duration": 33,
    "start_time": "2021-07-18T22:21:37.906Z"
   },
   {
    "duration": 23,
    "start_time": "2021-07-18T22:21:37.954Z"
   },
   {
    "duration": 45,
    "start_time": "2021-07-18T22:21:37.979Z"
   },
   {
    "duration": 17,
    "start_time": "2021-07-18T22:21:38.026Z"
   },
   {
    "duration": 8,
    "start_time": "2021-07-18T22:22:19.727Z"
   },
   {
    "duration": 8,
    "start_time": "2021-07-18T22:22:24.109Z"
   },
   {
    "duration": 415,
    "start_time": "2021-07-18T22:23:30.381Z"
   },
   {
    "duration": 14,
    "start_time": "2021-07-18T22:25:31.056Z"
   },
   {
    "duration": 291,
    "start_time": "2021-07-18T22:25:39.012Z"
   },
   {
    "duration": 34,
    "start_time": "2021-07-18T22:25:43.768Z"
   },
   {
    "duration": 337,
    "start_time": "2021-07-18T22:37:07.114Z"
   },
   {
    "duration": 34,
    "start_time": "2021-07-18T22:37:51.671Z"
   },
   {
    "duration": 17,
    "start_time": "2021-07-18T22:38:28.643Z"
   },
   {
    "duration": 21,
    "start_time": "2021-07-18T22:38:44.491Z"
   },
   {
    "duration": 14,
    "start_time": "2021-07-18T22:45:23.887Z"
   },
   {
    "duration": 939,
    "start_time": "2021-07-18T22:45:31.382Z"
   },
   {
    "duration": 16,
    "start_time": "2021-07-18T22:45:32.324Z"
   },
   {
    "duration": 14,
    "start_time": "2021-07-18T22:45:32.355Z"
   },
   {
    "duration": 14,
    "start_time": "2021-07-18T22:45:32.372Z"
   },
   {
    "duration": 100,
    "start_time": "2021-07-18T22:45:32.388Z"
   },
   {
    "duration": 18,
    "start_time": "2021-07-18T22:45:32.491Z"
   },
   {
    "duration": 44,
    "start_time": "2021-07-18T22:45:32.512Z"
   },
   {
    "duration": 32,
    "start_time": "2021-07-18T22:45:32.560Z"
   },
   {
    "duration": 18,
    "start_time": "2021-07-18T22:45:32.597Z"
   },
   {
    "duration": 39,
    "start_time": "2021-07-18T22:45:32.617Z"
   },
   {
    "duration": 12,
    "start_time": "2021-07-18T22:45:32.659Z"
   },
   {
    "duration": 15,
    "start_time": "2021-07-18T22:45:32.674Z"
   },
   {
    "duration": 20,
    "start_time": "2021-07-18T22:45:32.692Z"
   },
   {
    "duration": 42,
    "start_time": "2021-07-18T22:45:32.715Z"
   },
   {
    "duration": 1180,
    "start_time": "2021-07-18T22:45:32.760Z"
   },
   {
    "duration": 37,
    "start_time": "2021-07-18T22:45:33.943Z"
   },
   {
    "duration": 303,
    "start_time": "2021-07-18T22:45:33.983Z"
   },
   {
    "duration": 2774,
    "start_time": "2021-07-18T22:45:34.289Z"
   },
   {
    "duration": 2289,
    "start_time": "2021-07-18T22:45:37.066Z"
   },
   {
    "duration": 1808,
    "start_time": "2021-07-18T22:45:39.358Z"
   },
   {
    "duration": 2018,
    "start_time": "2021-07-18T22:45:41.168Z"
   },
   {
    "duration": 13,
    "start_time": "2021-07-18T22:45:43.189Z"
   },
   {
    "duration": 44301,
    "start_time": "2021-07-18T22:45:43.207Z"
   },
   {
    "duration": 14,
    "start_time": "2021-07-18T22:46:27.511Z"
   },
   {
    "duration": 38,
    "start_time": "2021-07-18T22:46:27.527Z"
   },
   {
    "duration": 6,
    "start_time": "2021-07-18T22:46:27.569Z"
   },
   {
    "duration": 16595,
    "start_time": "2021-07-18T22:46:27.578Z"
   },
   {
    "duration": 19,
    "start_time": "2021-07-18T22:46:44.176Z"
   },
   {
    "duration": 29,
    "start_time": "2021-07-18T22:46:44.198Z"
   },
   {
    "duration": 44,
    "start_time": "2021-07-18T22:46:44.229Z"
   },
   {
    "duration": 46,
    "start_time": "2021-07-18T22:46:44.275Z"
   },
   {
    "duration": 35,
    "start_time": "2021-07-18T22:46:44.323Z"
   },
   {
    "duration": 10,
    "start_time": "2021-07-18T22:46:44.360Z"
   },
   {
    "duration": 30,
    "start_time": "2021-07-18T22:46:44.373Z"
   },
   {
    "duration": 15,
    "start_time": "2021-07-18T22:46:44.405Z"
   },
   {
    "duration": 26,
    "start_time": "2021-07-18T22:47:20.304Z"
   },
   {
    "duration": 798,
    "start_time": "2021-07-18T22:47:25.877Z"
   },
   {
    "duration": 15,
    "start_time": "2021-07-18T22:47:26.678Z"
   },
   {
    "duration": 12,
    "start_time": "2021-07-18T22:47:26.697Z"
   },
   {
    "duration": 48,
    "start_time": "2021-07-18T22:47:26.712Z"
   },
   {
    "duration": 56,
    "start_time": "2021-07-18T22:47:26.763Z"
   },
   {
    "duration": 43,
    "start_time": "2021-07-18T22:47:26.821Z"
   },
   {
    "duration": 20,
    "start_time": "2021-07-18T22:47:26.866Z"
   },
   {
    "duration": 32,
    "start_time": "2021-07-18T22:47:26.890Z"
   },
   {
    "duration": 28,
    "start_time": "2021-07-18T22:47:26.926Z"
   },
   {
    "duration": 9,
    "start_time": "2021-07-18T22:47:26.956Z"
   },
   {
    "duration": 13,
    "start_time": "2021-07-18T22:47:26.968Z"
   },
   {
    "duration": 16,
    "start_time": "2021-07-18T22:47:26.983Z"
   },
   {
    "duration": 14,
    "start_time": "2021-07-18T22:47:27.002Z"
   },
   {
    "duration": 39,
    "start_time": "2021-07-18T22:47:27.019Z"
   },
   {
    "duration": 1003,
    "start_time": "2021-07-18T22:47:27.061Z"
   },
   {
    "duration": 19,
    "start_time": "2021-07-18T22:47:28.068Z"
   },
   {
    "duration": 307,
    "start_time": "2021-07-18T22:47:28.089Z"
   },
   {
    "duration": 2505,
    "start_time": "2021-07-18T22:47:28.399Z"
   },
   {
    "duration": 2914,
    "start_time": "2021-07-18T22:47:30.907Z"
   },
   {
    "duration": 1817,
    "start_time": "2021-07-18T22:47:33.824Z"
   },
   {
    "duration": 1929,
    "start_time": "2021-07-18T22:47:35.643Z"
   },
   {
    "duration": 13,
    "start_time": "2021-07-18T22:47:37.575Z"
   },
   {
    "duration": 47038,
    "start_time": "2021-07-18T22:47:37.593Z"
   },
   {
    "duration": 20,
    "start_time": "2021-07-18T22:48:24.634Z"
   },
   {
    "duration": 21,
    "start_time": "2021-07-18T22:48:24.657Z"
   },
   {
    "duration": 21,
    "start_time": "2021-07-18T22:48:24.681Z"
   },
   {
    "duration": 15296,
    "start_time": "2021-07-18T22:48:24.704Z"
   },
   {
    "duration": 14,
    "start_time": "2021-07-18T22:48:40.003Z"
   },
   {
    "duration": 43,
    "start_time": "2021-07-18T22:48:40.020Z"
   },
   {
    "duration": 24,
    "start_time": "2021-07-18T22:48:40.066Z"
   },
   {
    "duration": 61,
    "start_time": "2021-07-18T22:48:40.093Z"
   },
   {
    "duration": 47,
    "start_time": "2021-07-18T22:48:40.157Z"
   },
   {
    "duration": 14,
    "start_time": "2021-07-18T22:48:40.207Z"
   },
   {
    "duration": 53,
    "start_time": "2021-07-18T22:48:40.224Z"
   },
   {
    "duration": 20,
    "start_time": "2021-07-18T22:48:40.281Z"
   },
   {
    "duration": 65,
    "start_time": "2021-07-18T22:50:29.955Z"
   },
   {
    "duration": 49,
    "start_time": "2021-07-18T22:50:52.806Z"
   },
   {
    "duration": 39,
    "start_time": "2021-07-18T22:51:14.681Z"
   },
   {
    "duration": 43,
    "start_time": "2021-07-18T22:51:53.716Z"
   },
   {
    "duration": 17,
    "start_time": "2021-07-18T22:53:08.856Z"
   },
   {
    "duration": 44,
    "start_time": "2021-07-18T22:53:57.492Z"
   },
   {
    "duration": 22,
    "start_time": "2021-07-18T22:54:25.575Z"
   },
   {
    "duration": 16,
    "start_time": "2021-07-18T23:15:21.270Z"
   },
   {
    "duration": 42,
    "start_time": "2021-07-18T23:16:55.937Z"
   },
   {
    "duration": 24,
    "start_time": "2021-07-18T23:17:10.563Z"
   },
   {
    "duration": 24,
    "start_time": "2021-07-18T23:17:18.739Z"
   },
   {
    "duration": 43,
    "start_time": "2021-07-18T23:17:29.516Z"
   },
   {
    "duration": 406,
    "start_time": "2021-07-18T23:17:52.717Z"
   },
   {
    "duration": 46,
    "start_time": "2021-07-18T23:18:04.949Z"
   },
   {
    "duration": 28,
    "start_time": "2021-07-18T23:18:11.803Z"
   },
   {
    "duration": 28,
    "start_time": "2021-07-18T23:18:34.210Z"
   },
   {
    "duration": 27,
    "start_time": "2021-07-18T23:18:44.114Z"
   },
   {
    "duration": 24,
    "start_time": "2021-07-18T23:18:47.703Z"
   },
   {
    "duration": 615,
    "start_time": "2021-07-19T09:15:02.256Z"
   },
   {
    "duration": 9,
    "start_time": "2021-07-19T09:15:02.873Z"
   },
   {
    "duration": 26,
    "start_time": "2021-07-19T09:15:02.884Z"
   },
   {
    "duration": 25,
    "start_time": "2021-07-19T09:15:02.912Z"
   },
   {
    "duration": 49,
    "start_time": "2021-07-19T09:15:02.939Z"
   },
   {
    "duration": 12,
    "start_time": "2021-07-19T09:15:02.989Z"
   },
   {
    "duration": 22,
    "start_time": "2021-07-19T09:15:03.002Z"
   },
   {
    "duration": 25,
    "start_time": "2021-07-19T09:15:03.026Z"
   },
   {
    "duration": 19,
    "start_time": "2021-07-19T09:15:03.053Z"
   },
   {
    "duration": 14,
    "start_time": "2021-07-19T09:15:03.074Z"
   },
   {
    "duration": 13,
    "start_time": "2021-07-19T09:15:03.089Z"
   },
   {
    "duration": 18,
    "start_time": "2021-07-19T09:15:03.104Z"
   },
   {
    "duration": 13,
    "start_time": "2021-07-19T09:15:03.123Z"
   },
   {
    "duration": 23,
    "start_time": "2021-07-19T09:15:03.137Z"
   },
   {
    "duration": 673,
    "start_time": "2021-07-19T09:15:03.161Z"
   },
   {
    "duration": 14,
    "start_time": "2021-07-19T09:15:03.835Z"
   },
   {
    "duration": 173,
    "start_time": "2021-07-19T09:15:03.850Z"
   },
   {
    "duration": 1225,
    "start_time": "2021-07-19T09:15:04.024Z"
   },
   {
    "duration": 1201,
    "start_time": "2021-07-19T09:15:05.250Z"
   },
   {
    "duration": 1046,
    "start_time": "2021-07-19T09:15:06.453Z"
   },
   {
    "duration": 1049,
    "start_time": "2021-07-19T09:15:07.501Z"
   },
   {
    "duration": 8,
    "start_time": "2021-07-19T09:15:08.552Z"
   },
   {
    "duration": 23240,
    "start_time": "2021-07-19T09:15:08.564Z"
   },
   {
    "duration": 9,
    "start_time": "2021-07-19T09:15:31.806Z"
   },
   {
    "duration": 26,
    "start_time": "2021-07-19T09:15:31.816Z"
   },
   {
    "duration": 7,
    "start_time": "2021-07-19T09:15:31.844Z"
   },
   {
    "duration": 8905,
    "start_time": "2021-07-19T09:15:31.852Z"
   },
   {
    "duration": 9,
    "start_time": "2021-07-19T09:15:40.759Z"
   },
   {
    "duration": 26,
    "start_time": "2021-07-19T09:15:40.770Z"
   },
   {
    "duration": 14,
    "start_time": "2021-07-19T09:15:40.798Z"
   },
   {
    "duration": 28,
    "start_time": "2021-07-19T09:15:40.813Z"
   },
   {
    "duration": 18,
    "start_time": "2021-07-19T09:15:40.843Z"
   },
   {
    "duration": 14,
    "start_time": "2021-07-19T09:15:40.862Z"
   },
   {
    "duration": 23,
    "start_time": "2021-07-19T09:15:40.877Z"
   },
   {
    "duration": 9,
    "start_time": "2021-07-19T09:15:40.902Z"
   },
   {
    "duration": 31,
    "start_time": "2021-07-19T09:15:40.913Z"
   },
   {
    "duration": 11,
    "start_time": "2021-07-19T10:38:39.571Z"
   },
   {
    "duration": 4,
    "start_time": "2021-07-19T10:48:57.536Z"
   },
   {
    "duration": 392,
    "start_time": "2021-07-19T10:49:25.481Z"
   },
   {
    "duration": 270,
    "start_time": "2021-07-19T10:49:35.671Z"
   },
   {
    "duration": 343,
    "start_time": "2021-07-19T10:49:37.670Z"
   },
   {
    "duration": 4,
    "start_time": "2021-07-19T10:50:13.066Z"
   },
   {
    "duration": 10,
    "start_time": "2021-07-19T10:50:34.203Z"
   },
   {
    "duration": 15,
    "start_time": "2021-07-19T10:57:01.896Z"
   },
   {
    "duration": 7,
    "start_time": "2021-07-19T10:58:49.159Z"
   },
   {
    "duration": 15,
    "start_time": "2021-07-19T10:58:49.813Z"
   },
   {
    "duration": 8,
    "start_time": "2021-07-19T10:58:55.987Z"
   },
   {
    "duration": 15,
    "start_time": "2021-07-19T10:58:56.649Z"
   },
   {
    "duration": 7,
    "start_time": "2021-07-19T11:00:14.846Z"
   },
   {
    "duration": 660,
    "start_time": "2021-07-19T11:00:48.857Z"
   },
   {
    "duration": 10,
    "start_time": "2021-07-19T11:00:49.519Z"
   },
   {
    "duration": 8,
    "start_time": "2021-07-19T11:00:49.533Z"
   },
   {
    "duration": 7,
    "start_time": "2021-07-19T11:00:49.543Z"
   },
   {
    "duration": 35,
    "start_time": "2021-07-19T11:00:49.552Z"
   },
   {
    "duration": 12,
    "start_time": "2021-07-19T11:00:49.588Z"
   },
   {
    "duration": 11,
    "start_time": "2021-07-19T11:00:49.602Z"
   },
   {
    "duration": 12,
    "start_time": "2021-07-19T11:00:49.641Z"
   },
   {
    "duration": 11,
    "start_time": "2021-07-19T11:00:49.654Z"
   },
   {
    "duration": 5,
    "start_time": "2021-07-19T11:00:49.667Z"
   },
   {
    "duration": 7,
    "start_time": "2021-07-19T11:00:49.673Z"
   },
   {
    "duration": 14,
    "start_time": "2021-07-19T11:00:49.682Z"
   },
   {
    "duration": 9,
    "start_time": "2021-07-19T11:00:49.698Z"
   },
   {
    "duration": 4,
    "start_time": "2021-07-19T11:00:49.709Z"
   },
   {
    "duration": 685,
    "start_time": "2021-07-19T11:00:49.714Z"
   },
   {
    "duration": 12,
    "start_time": "2021-07-19T11:00:50.401Z"
   },
   {
    "duration": 171,
    "start_time": "2021-07-19T11:00:50.415Z"
   },
   {
    "duration": 1238,
    "start_time": "2021-07-19T11:00:50.588Z"
   },
   {
    "duration": 1230,
    "start_time": "2021-07-19T11:00:51.828Z"
   },
   {
    "duration": 965,
    "start_time": "2021-07-19T11:00:53.060Z"
   },
   {
    "duration": 1170,
    "start_time": "2021-07-19T11:00:54.027Z"
   },
   {
    "duration": 7,
    "start_time": "2021-07-19T11:00:55.200Z"
   },
   {
    "duration": 21,
    "start_time": "2021-07-19T11:00:55.209Z"
   },
   {
    "duration": 22737,
    "start_time": "2021-07-19T11:00:55.232Z"
   },
   {
    "duration": 9,
    "start_time": "2021-07-19T11:01:17.971Z"
   },
   {
    "duration": 15,
    "start_time": "2021-07-19T11:01:17.981Z"
   },
   {
    "duration": 11,
    "start_time": "2021-07-19T11:01:17.997Z"
   },
   {
    "duration": 8850,
    "start_time": "2021-07-19T11:01:18.009Z"
   },
   {
    "duration": 10,
    "start_time": "2021-07-19T11:01:26.860Z"
   },
   {
    "duration": 13,
    "start_time": "2021-07-19T11:01:26.871Z"
   },
   {
    "duration": 14,
    "start_time": "2021-07-19T11:01:26.885Z"
   },
   {
    "duration": 44,
    "start_time": "2021-07-19T11:01:26.900Z"
   },
   {
    "duration": 18,
    "start_time": "2021-07-19T11:01:26.945Z"
   },
   {
    "duration": 9,
    "start_time": "2021-07-19T11:01:26.964Z"
   },
   {
    "duration": 11,
    "start_time": "2021-07-19T11:01:26.974Z"
   },
   {
    "duration": 8,
    "start_time": "2021-07-19T11:01:26.987Z"
   },
   {
    "duration": 46,
    "start_time": "2021-07-19T11:01:26.996Z"
   },
   {
    "duration": 9,
    "start_time": "2021-07-19T11:01:27.044Z"
   },
   {
    "duration": 5,
    "start_time": "2021-07-19T11:01:27.055Z"
   },
   {
    "duration": 8,
    "start_time": "2021-07-19T11:03:55.181Z"
   },
   {
    "duration": 5,
    "start_time": "2021-07-19T11:04:06.020Z"
   },
   {
    "duration": 3,
    "start_time": "2021-07-19T11:13:03.630Z"
   },
   {
    "duration": 7,
    "start_time": "2021-07-19T11:13:13.708Z"
   },
   {
    "duration": 5,
    "start_time": "2021-07-19T11:14:58.693Z"
   },
   {
    "duration": 656,
    "start_time": "2021-07-19T11:15:12.633Z"
   },
   {
    "duration": 4,
    "start_time": "2021-07-19T11:16:26.212Z"
   },
   {
    "duration": 545,
    "start_time": "2021-07-19T11:16:26.996Z"
   },
   {
    "duration": 3,
    "start_time": "2021-07-19T11:17:17.996Z"
   },
   {
    "duration": 573,
    "start_time": "2021-07-19T11:17:18.880Z"
   },
   {
    "duration": 731,
    "start_time": "2021-07-19T11:17:56.393Z"
   },
   {
    "duration": 529,
    "start_time": "2021-07-19T11:18:11.956Z"
   },
   {
    "duration": 556,
    "start_time": "2021-07-19T11:19:04.825Z"
   },
   {
    "duration": 3,
    "start_time": "2021-07-19T11:19:56.028Z"
   },
   {
    "duration": 539,
    "start_time": "2021-07-19T11:19:58.181Z"
   },
   {
    "duration": 7,
    "start_time": "2021-07-19T11:24:55.907Z"
   },
   {
    "duration": 6,
    "start_time": "2021-07-19T11:25:01.037Z"
   },
   {
    "duration": 7,
    "start_time": "2021-07-19T11:25:08.217Z"
   },
   {
    "duration": 7,
    "start_time": "2021-07-19T11:25:39.616Z"
   },
   {
    "duration": 7,
    "start_time": "2021-07-19T11:25:46.863Z"
   },
   {
    "duration": 40928,
    "start_time": "2021-07-19T11:26:31.459Z"
   },
   {
    "duration": 6,
    "start_time": "2021-07-19T11:27:48.445Z"
   },
   {
    "duration": 600,
    "start_time": "2021-07-19T11:27:54.382Z"
   },
   {
    "duration": 11,
    "start_time": "2021-07-19T11:27:54.983Z"
   },
   {
    "duration": 21,
    "start_time": "2021-07-19T11:27:54.996Z"
   },
   {
    "duration": 19,
    "start_time": "2021-07-19T11:27:55.019Z"
   },
   {
    "duration": 46,
    "start_time": "2021-07-19T11:27:55.039Z"
   },
   {
    "duration": 15,
    "start_time": "2021-07-19T11:27:55.087Z"
   },
   {
    "duration": 15,
    "start_time": "2021-07-19T11:27:55.104Z"
   },
   {
    "duration": 20,
    "start_time": "2021-07-19T11:27:55.121Z"
   },
   {
    "duration": 12,
    "start_time": "2021-07-19T11:27:55.143Z"
   },
   {
    "duration": 23,
    "start_time": "2021-07-19T11:27:55.157Z"
   },
   {
    "duration": 19,
    "start_time": "2021-07-19T11:27:55.182Z"
   },
   {
    "duration": 12,
    "start_time": "2021-07-19T11:27:55.202Z"
   },
   {
    "duration": 19,
    "start_time": "2021-07-19T11:27:55.216Z"
   },
   {
    "duration": 9,
    "start_time": "2021-07-19T11:27:55.237Z"
   },
   {
    "duration": 664,
    "start_time": "2021-07-19T11:27:55.247Z"
   },
   {
    "duration": 14,
    "start_time": "2021-07-19T11:27:55.913Z"
   },
   {
    "duration": 191,
    "start_time": "2021-07-19T11:27:55.929Z"
   },
   {
    "duration": 1289,
    "start_time": "2021-07-19T11:27:56.122Z"
   },
   {
    "duration": 1338,
    "start_time": "2021-07-19T11:27:57.412Z"
   },
   {
    "duration": 1068,
    "start_time": "2021-07-19T11:27:58.752Z"
   },
   {
    "duration": 1205,
    "start_time": "2021-07-19T11:27:59.821Z"
   },
   {
    "duration": 13,
    "start_time": "2021-07-19T11:28:01.028Z"
   },
   {
    "duration": 28,
    "start_time": "2021-07-19T11:28:01.044Z"
   },
   {
    "duration": 22948,
    "start_time": "2021-07-19T11:28:01.074Z"
   },
   {
    "duration": 17,
    "start_time": "2021-07-19T11:28:24.024Z"
   },
   {
    "duration": 12,
    "start_time": "2021-07-19T11:28:24.043Z"
   },
   {
    "duration": 6,
    "start_time": "2021-07-19T11:28:24.056Z"
   },
   {
    "duration": 9192,
    "start_time": "2021-07-19T11:28:24.063Z"
   },
   {
    "duration": 9,
    "start_time": "2021-07-19T11:28:33.257Z"
   },
   {
    "duration": 13,
    "start_time": "2021-07-19T11:28:33.268Z"
   },
   {
    "duration": 15,
    "start_time": "2021-07-19T11:28:33.282Z"
   },
   {
    "duration": 45,
    "start_time": "2021-07-19T11:28:33.298Z"
   },
   {
    "duration": 20,
    "start_time": "2021-07-19T11:28:33.345Z"
   },
   {
    "duration": 9,
    "start_time": "2021-07-19T11:28:33.366Z"
   },
   {
    "duration": 12,
    "start_time": "2021-07-19T11:28:33.377Z"
   },
   {
    "duration": 9,
    "start_time": "2021-07-19T11:28:33.391Z"
   },
   {
    "duration": 46,
    "start_time": "2021-07-19T11:28:33.401Z"
   },
   {
    "duration": 11,
    "start_time": "2021-07-19T11:28:33.448Z"
   },
   {
    "duration": 4,
    "start_time": "2021-07-19T11:28:33.461Z"
   },
   {
    "duration": 8,
    "start_time": "2021-07-19T11:28:33.467Z"
   },
   {
    "duration": 4,
    "start_time": "2021-07-19T11:28:33.476Z"
   },
   {
    "duration": 9,
    "start_time": "2021-07-19T11:28:33.481Z"
   },
   {
    "duration": 9,
    "start_time": "2021-07-19T11:30:21.813Z"
   },
   {
    "duration": 155,
    "start_time": "2021-07-19T11:35:42.142Z"
   },
   {
    "duration": 622,
    "start_time": "2021-07-19T11:35:53.700Z"
   },
   {
    "duration": 11,
    "start_time": "2021-07-19T11:35:54.324Z"
   },
   {
    "duration": 11,
    "start_time": "2021-07-19T11:35:54.338Z"
   },
   {
    "duration": 9,
    "start_time": "2021-07-19T11:35:54.351Z"
   },
   {
    "duration": 38,
    "start_time": "2021-07-19T11:35:54.362Z"
   },
   {
    "duration": 46,
    "start_time": "2021-07-19T11:35:54.402Z"
   },
   {
    "duration": 13,
    "start_time": "2021-07-19T11:35:54.450Z"
   },
   {
    "duration": 13,
    "start_time": "2021-07-19T11:35:54.466Z"
   },
   {
    "duration": 10,
    "start_time": "2021-07-19T11:35:54.482Z"
   },
   {
    "duration": 7,
    "start_time": "2021-07-19T11:35:54.493Z"
   },
   {
    "duration": 41,
    "start_time": "2021-07-19T11:35:54.502Z"
   },
   {
    "duration": 8,
    "start_time": "2021-07-19T11:35:54.545Z"
   },
   {
    "duration": 9,
    "start_time": "2021-07-19T11:35:54.555Z"
   },
   {
    "duration": 5,
    "start_time": "2021-07-19T11:35:54.566Z"
   },
   {
    "duration": 693,
    "start_time": "2021-07-19T11:35:54.573Z"
   },
   {
    "duration": 12,
    "start_time": "2021-07-19T11:35:55.268Z"
   },
   {
    "duration": 175,
    "start_time": "2021-07-19T11:35:55.282Z"
   },
   {
    "duration": 1322,
    "start_time": "2021-07-19T11:35:55.459Z"
   },
   {
    "duration": 1263,
    "start_time": "2021-07-19T11:35:56.784Z"
   },
   {
    "duration": 981,
    "start_time": "2021-07-19T11:35:58.049Z"
   },
   {
    "duration": 1139,
    "start_time": "2021-07-19T11:35:59.040Z"
   },
   {
    "duration": 8,
    "start_time": "2021-07-19T11:36:00.181Z"
   },
   {
    "duration": 46,
    "start_time": "2021-07-19T11:36:00.193Z"
   },
   {
    "duration": 21816,
    "start_time": "2021-07-19T11:36:00.241Z"
   },
   {
    "duration": 9,
    "start_time": "2021-07-19T11:36:22.059Z"
   },
   {
    "duration": 14,
    "start_time": "2021-07-19T11:36:22.070Z"
   },
   {
    "duration": 4,
    "start_time": "2021-07-19T11:36:22.086Z"
   },
   {
    "duration": 9022,
    "start_time": "2021-07-19T11:36:22.093Z"
   },
   {
    "duration": 11,
    "start_time": "2021-07-19T11:36:31.117Z"
   },
   {
    "duration": 21,
    "start_time": "2021-07-19T11:36:31.130Z"
   },
   {
    "duration": 14,
    "start_time": "2021-07-19T11:36:31.153Z"
   },
   {
    "duration": 24,
    "start_time": "2021-07-19T11:36:31.169Z"
   },
   {
    "duration": 19,
    "start_time": "2021-07-19T11:36:31.195Z"
   },
   {
    "duration": 35,
    "start_time": "2021-07-19T11:36:31.215Z"
   },
   {
    "duration": 13,
    "start_time": "2021-07-19T11:36:31.251Z"
   },
   {
    "duration": 18,
    "start_time": "2021-07-19T11:36:31.265Z"
   },
   {
    "duration": 19,
    "start_time": "2021-07-19T11:36:31.284Z"
   },
   {
    "duration": 9,
    "start_time": "2021-07-19T11:36:31.305Z"
   },
   {
    "duration": 25,
    "start_time": "2021-07-19T11:36:31.316Z"
   },
   {
    "duration": 5,
    "start_time": "2021-07-19T11:36:31.343Z"
   },
   {
    "duration": 4,
    "start_time": "2021-07-19T11:36:31.350Z"
   },
   {
    "duration": 165,
    "start_time": "2021-07-19T11:36:31.355Z"
   },
   {
    "duration": 363,
    "start_time": "2021-07-19T11:46:13.731Z"
   },
   {
    "duration": 337,
    "start_time": "2021-07-19T11:46:46.798Z"
   },
   {
    "duration": 271,
    "start_time": "2021-07-19T11:47:07.851Z"
   },
   {
    "duration": 5,
    "start_time": "2021-07-19T11:47:12.750Z"
   },
   {
    "duration": 261,
    "start_time": "2021-07-19T11:47:19.185Z"
   },
   {
    "duration": 17,
    "start_time": "2021-07-19T11:47:49.836Z"
   },
   {
    "duration": 8,
    "start_time": "2021-07-19T11:48:27.058Z"
   },
   {
    "duration": 321,
    "start_time": "2021-07-19T11:48:50.867Z"
   },
   {
    "duration": 289,
    "start_time": "2021-07-19T11:48:55.638Z"
   },
   {
    "duration": 5,
    "start_time": "2021-07-19T11:49:09.142Z"
   },
   {
    "duration": 5,
    "start_time": "2021-07-19T11:49:36.218Z"
   },
   {
    "duration": 284,
    "start_time": "2021-07-19T11:49:41.421Z"
   },
   {
    "duration": 5,
    "start_time": "2021-07-19T11:50:44.149Z"
   },
   {
    "duration": 5,
    "start_time": "2021-07-19T11:51:02.648Z"
   },
   {
    "duration": 7,
    "start_time": "2021-07-19T11:51:09.057Z"
   },
   {
    "duration": 7,
    "start_time": "2021-07-19T11:51:16.995Z"
   },
   {
    "duration": 6,
    "start_time": "2021-07-19T11:51:25.420Z"
   },
   {
    "duration": 4,
    "start_time": "2021-07-19T11:52:46.865Z"
   },
   {
    "duration": 20,
    "start_time": "2021-07-19T11:55:15.846Z"
   },
   {
    "duration": 23,
    "start_time": "2021-07-19T11:55:26.155Z"
   },
   {
    "duration": 15,
    "start_time": "2021-07-19T11:57:49.914Z"
   },
   {
    "duration": 284,
    "start_time": "2021-07-19T12:21:34.292Z"
   },
   {
    "duration": 264,
    "start_time": "2021-07-19T12:22:49.595Z"
   },
   {
    "duration": 6498,
    "start_time": "2021-07-19T12:23:10.234Z"
   },
   {
    "duration": 891,
    "start_time": "2021-07-19T12:23:58.495Z"
   },
   {
    "duration": 36011,
    "start_time": "2021-07-19T12:25:49.329Z"
   },
   {
    "duration": 35267,
    "start_time": "2021-07-19T12:27:14.322Z"
   },
   {
    "duration": 143,
    "start_time": "2021-07-19T12:48:28.404Z"
   },
   {
    "duration": 261,
    "start_time": "2021-07-19T12:55:07.991Z"
   },
   {
    "duration": 10,
    "start_time": "2021-07-19T12:55:18.396Z"
   },
   {
    "duration": 7242,
    "start_time": "2021-07-19T12:55:48.982Z"
   },
   {
    "duration": 9,
    "start_time": "2021-07-19T12:57:08.651Z"
   },
   {
    "duration": 272,
    "start_time": "2021-07-19T12:57:43.661Z"
   },
   {
    "duration": 34,
    "start_time": "2021-07-19T12:57:50.636Z"
   },
   {
    "duration": 32,
    "start_time": "2021-07-19T13:00:15.049Z"
   },
   {
    "duration": 31,
    "start_time": "2021-07-19T13:01:12.621Z"
   },
   {
    "duration": 28,
    "start_time": "2021-07-19T13:05:14.263Z"
   },
   {
    "duration": 5,
    "start_time": "2021-07-19T13:08:58.526Z"
   },
   {
    "duration": 4,
    "start_time": "2021-07-19T13:09:11.334Z"
   },
   {
    "duration": 30,
    "start_time": "2021-07-19T13:17:18.743Z"
   },
   {
    "duration": 31,
    "start_time": "2021-07-19T13:17:28.664Z"
   },
   {
    "duration": 99,
    "start_time": "2021-07-19T13:34:08.860Z"
   },
   {
    "duration": 118,
    "start_time": "2021-07-19T13:34:26.522Z"
   },
   {
    "duration": 107,
    "start_time": "2021-07-19T13:34:33.719Z"
   },
   {
    "duration": 3,
    "start_time": "2021-07-19T13:34:39.177Z"
   },
   {
    "duration": 100,
    "start_time": "2021-07-19T13:35:08.592Z"
   },
   {
    "duration": 5,
    "start_time": "2021-07-19T13:35:15.498Z"
   },
   {
    "duration": 4,
    "start_time": "2021-07-19T13:35:23.865Z"
   },
   {
    "duration": 4,
    "start_time": "2021-07-19T13:35:26.106Z"
   },
   {
    "duration": 3,
    "start_time": "2021-07-19T13:35:29.097Z"
   },
   {
    "duration": 314,
    "start_time": "2021-07-19T13:39:32.136Z"
   },
   {
    "duration": 283,
    "start_time": "2021-07-19T13:39:47.384Z"
   },
   {
    "duration": 288,
    "start_time": "2021-07-19T13:41:31.721Z"
   },
   {
    "duration": 261,
    "start_time": "2021-07-19T13:42:03.311Z"
   },
   {
    "duration": 6959,
    "start_time": "2021-07-19T13:43:12.984Z"
   },
   {
    "duration": 10,
    "start_time": "2021-07-19T13:43:43.733Z"
   },
   {
    "duration": 22,
    "start_time": "2021-07-19T13:43:50.465Z"
   },
   {
    "duration": 5,
    "start_time": "2021-07-19T13:47:20.948Z"
   },
   {
    "duration": 271,
    "start_time": "2021-07-19T13:48:46.779Z"
   },
   {
    "duration": 94,
    "start_time": "2021-07-19T13:49:15.848Z"
   },
   {
    "duration": 93,
    "start_time": "2021-07-19T13:50:19.925Z"
   },
   {
    "duration": 7,
    "start_time": "2021-07-19T13:50:30.282Z"
   },
   {
    "duration": 4,
    "start_time": "2021-07-19T13:50:38.104Z"
   },
   {
    "duration": 5,
    "start_time": "2021-07-19T13:50:49.060Z"
   },
   {
    "duration": 4,
    "start_time": "2021-07-19T13:50:58.927Z"
   },
   {
    "duration": 86,
    "start_time": "2021-07-19T13:53:34.040Z"
   },
   {
    "duration": 108,
    "start_time": "2021-07-19T13:53:59.915Z"
   },
   {
    "duration": 288,
    "start_time": "2021-07-19T13:54:10.409Z"
   },
   {
    "duration": 8,
    "start_time": "2021-07-19T13:54:21.266Z"
   },
   {
    "duration": 4,
    "start_time": "2021-07-19T13:55:45.304Z"
   },
   {
    "duration": 5,
    "start_time": "2021-07-19T13:57:42.847Z"
   },
   {
    "duration": 660,
    "start_time": "2021-07-19T13:57:48.878Z"
   },
   {
    "duration": 12,
    "start_time": "2021-07-19T13:57:49.540Z"
   },
   {
    "duration": 9,
    "start_time": "2021-07-19T13:57:49.554Z"
   },
   {
    "duration": 11,
    "start_time": "2021-07-19T13:57:49.564Z"
   },
   {
    "duration": 39,
    "start_time": "2021-07-19T13:57:49.576Z"
   },
   {
    "duration": 13,
    "start_time": "2021-07-19T13:57:49.640Z"
   },
   {
    "duration": 13,
    "start_time": "2021-07-19T13:57:49.655Z"
   },
   {
    "duration": 15,
    "start_time": "2021-07-19T13:57:49.671Z"
   },
   {
    "duration": 6,
    "start_time": "2021-07-19T13:57:49.688Z"
   },
   {
    "duration": 10,
    "start_time": "2021-07-19T13:57:49.695Z"
   },
   {
    "duration": 14,
    "start_time": "2021-07-19T13:57:49.706Z"
   },
   {
    "duration": 19,
    "start_time": "2021-07-19T13:57:49.722Z"
   },
   {
    "duration": 14,
    "start_time": "2021-07-19T13:57:49.743Z"
   },
   {
    "duration": 18,
    "start_time": "2021-07-19T13:57:49.758Z"
   },
   {
    "duration": 725,
    "start_time": "2021-07-19T13:57:49.778Z"
   },
   {
    "duration": 11,
    "start_time": "2021-07-19T13:57:50.504Z"
   },
   {
    "duration": 180,
    "start_time": "2021-07-19T13:57:50.517Z"
   },
   {
    "duration": 1343,
    "start_time": "2021-07-19T13:57:50.699Z"
   },
   {
    "duration": 1308,
    "start_time": "2021-07-19T13:57:52.044Z"
   },
   {
    "duration": 957,
    "start_time": "2021-07-19T13:57:53.353Z"
   },
   {
    "duration": 1052,
    "start_time": "2021-07-19T13:57:54.311Z"
   },
   {
    "duration": 7,
    "start_time": "2021-07-19T13:57:55.365Z"
   },
   {
    "duration": 32,
    "start_time": "2021-07-19T13:57:55.376Z"
   },
   {
    "duration": 22506,
    "start_time": "2021-07-19T13:57:55.410Z"
   },
   {
    "duration": 9,
    "start_time": "2021-07-19T13:58:17.917Z"
   },
   {
    "duration": 20,
    "start_time": "2021-07-19T13:58:17.928Z"
   },
   {
    "duration": 14,
    "start_time": "2021-07-19T13:58:17.950Z"
   },
   {
    "duration": 8886,
    "start_time": "2021-07-19T13:58:17.966Z"
   },
   {
    "duration": 9,
    "start_time": "2021-07-19T13:58:26.854Z"
   },
   {
    "duration": 16,
    "start_time": "2021-07-19T13:58:26.865Z"
   },
   {
    "duration": 14,
    "start_time": "2021-07-19T13:58:26.883Z"
   },
   {
    "duration": 44,
    "start_time": "2021-07-19T13:58:26.898Z"
   },
   {
    "duration": 19,
    "start_time": "2021-07-19T13:58:26.944Z"
   },
   {
    "duration": 9,
    "start_time": "2021-07-19T13:58:26.965Z"
   },
   {
    "duration": 15,
    "start_time": "2021-07-19T13:58:26.976Z"
   },
   {
    "duration": 9,
    "start_time": "2021-07-19T13:58:26.993Z"
   },
   {
    "duration": 46,
    "start_time": "2021-07-19T13:58:27.003Z"
   },
   {
    "duration": 5,
    "start_time": "2021-07-19T13:58:27.051Z"
   },
   {
    "duration": 5,
    "start_time": "2021-07-19T13:58:27.057Z"
   },
   {
    "duration": 168,
    "start_time": "2021-07-19T13:58:27.064Z"
   },
   {
    "duration": 9,
    "start_time": "2021-07-19T13:58:27.241Z"
   },
   {
    "duration": 7,
    "start_time": "2021-07-19T13:58:27.252Z"
   },
   {
    "duration": 6,
    "start_time": "2021-07-19T13:58:27.261Z"
   },
   {
    "duration": 5,
    "start_time": "2021-07-19T13:58:27.268Z"
   },
   {
    "duration": 5,
    "start_time": "2021-07-19T13:58:27.274Z"
   },
   {
    "duration": 8,
    "start_time": "2021-07-19T13:58:27.281Z"
   },
   {
    "duration": 14,
    "start_time": "2021-07-19T13:58:27.290Z"
   },
   {
    "duration": 44,
    "start_time": "2021-07-19T13:58:27.306Z"
   },
   {
    "duration": 35739,
    "start_time": "2021-07-19T13:58:27.351Z"
   },
   {
    "duration": 146,
    "start_time": "2021-07-19T13:59:03.092Z"
   },
   {
    "duration": 33,
    "start_time": "2021-07-19T13:59:03.241Z"
   },
   {
    "duration": 8,
    "start_time": "2021-07-19T13:59:03.276Z"
   },
   {
    "duration": 22,
    "start_time": "2021-07-19T13:59:03.286Z"
   },
   {
    "duration": 15,
    "start_time": "2021-07-19T13:59:03.309Z"
   },
   {
    "duration": 20,
    "start_time": "2021-07-19T13:59:03.326Z"
   },
   {
    "duration": 8,
    "start_time": "2021-07-19T14:00:08.175Z"
   },
   {
    "duration": 123,
    "start_time": "2021-07-19T14:01:19.395Z"
   },
   {
    "duration": 364,
    "start_time": "2021-07-19T14:02:15.696Z"
   },
   {
    "duration": 8,
    "start_time": "2021-07-19T14:03:14.112Z"
   },
   {
    "duration": 8,
    "start_time": "2021-07-19T14:03:19.625Z"
   },
   {
    "duration": 435,
    "start_time": "2021-07-19T14:03:55.595Z"
   },
   {
    "duration": 5,
    "start_time": "2021-07-19T14:03:59.266Z"
   },
   {
    "duration": 6,
    "start_time": "2021-07-19T14:04:10.988Z"
   },
   {
    "duration": 187,
    "start_time": "2021-07-19T14:04:12.524Z"
   },
   {
    "duration": 117,
    "start_time": "2021-07-19T14:04:19.739Z"
   },
   {
    "duration": 104,
    "start_time": "2021-07-19T14:04:36.841Z"
   },
   {
    "duration": 284,
    "start_time": "2021-07-19T14:04:46.031Z"
   },
   {
    "duration": 342,
    "start_time": "2021-07-19T14:05:07.853Z"
   },
   {
    "duration": 8,
    "start_time": "2021-07-19T14:06:08.709Z"
   },
   {
    "duration": 280,
    "start_time": "2021-07-19T14:08:40.329Z"
   },
   {
    "duration": 120,
    "start_time": "2021-07-19T14:08:45.260Z"
   },
   {
    "duration": 115,
    "start_time": "2021-07-19T14:11:13.076Z"
   },
   {
    "duration": 277,
    "start_time": "2021-07-19T14:11:31.426Z"
   },
   {
    "duration": 289,
    "start_time": "2021-07-19T14:12:07.090Z"
   },
   {
    "duration": 282,
    "start_time": "2021-07-19T14:12:50.403Z"
   },
   {
    "duration": 17,
    "start_time": "2021-07-19T14:13:01.688Z"
   },
   {
    "duration": 274,
    "start_time": "2021-07-19T14:13:24.708Z"
   },
   {
    "duration": 277,
    "start_time": "2021-07-19T14:13:32.583Z"
   },
   {
    "duration": 21,
    "start_time": "2021-07-19T14:13:41.308Z"
   },
   {
    "duration": 284,
    "start_time": "2021-07-19T14:14:19.825Z"
   },
   {
    "duration": 285,
    "start_time": "2021-07-19T14:14:23.375Z"
   },
   {
    "duration": 19,
    "start_time": "2021-07-19T14:14:40.050Z"
   },
   {
    "duration": 15,
    "start_time": "2021-07-19T14:14:49.274Z"
   },
   {
    "duration": 15,
    "start_time": "2021-07-19T14:15:03.288Z"
   },
   {
    "duration": 378,
    "start_time": "2021-07-19T14:15:24.077Z"
   },
   {
    "duration": 352,
    "start_time": "2021-07-19T14:16:07.062Z"
   },
   {
    "duration": 302,
    "start_time": "2021-07-19T14:16:09.948Z"
   },
   {
    "duration": 284,
    "start_time": "2021-07-19T14:16:20.059Z"
   },
   {
    "duration": 113,
    "start_time": "2021-07-19T14:16:46.462Z"
   },
   {
    "duration": 306,
    "start_time": "2021-07-19T14:17:27.281Z"
   },
   {
    "duration": 115,
    "start_time": "2021-07-19T14:17:34.521Z"
   },
   {
    "duration": 295,
    "start_time": "2021-07-19T14:19:45.229Z"
   },
   {
    "duration": 270,
    "start_time": "2021-07-19T14:20:00.580Z"
   },
   {
    "duration": 282,
    "start_time": "2021-07-19T14:20:03.890Z"
   },
   {
    "duration": 290,
    "start_time": "2021-07-19T14:21:52.537Z"
   },
   {
    "duration": 262,
    "start_time": "2021-07-19T14:22:01.244Z"
   },
   {
    "duration": 504,
    "start_time": "2021-07-19T14:22:02.935Z"
   },
   {
    "duration": 557,
    "start_time": "2021-07-19T14:22:24.990Z"
   },
   {
    "duration": 274,
    "start_time": "2021-07-19T14:23:16.195Z"
   },
   {
    "duration": 14,
    "start_time": "2021-07-19T14:25:13.926Z"
   },
   {
    "duration": 18,
    "start_time": "2021-07-19T14:25:43.675Z"
   },
   {
    "duration": 278,
    "start_time": "2021-07-19T14:26:01.561Z"
   },
   {
    "duration": 121,
    "start_time": "2021-07-19T14:26:17.245Z"
   },
   {
    "duration": 7609,
    "start_time": "2021-07-19T14:27:33.512Z"
   },
   {
    "duration": 14,
    "start_time": "2021-07-19T14:27:51.641Z"
   },
   {
    "duration": 307,
    "start_time": "2021-07-19T14:28:07.369Z"
   },
   {
    "duration": 15,
    "start_time": "2021-07-19T14:28:13.100Z"
   },
   {
    "duration": 6944,
    "start_time": "2021-07-19T14:28:48.136Z"
   },
   {
    "duration": 4,
    "start_time": "2021-07-19T14:28:58.549Z"
   },
   {
    "duration": 5,
    "start_time": "2021-07-19T14:29:14.251Z"
   },
   {
    "duration": 6,
    "start_time": "2021-07-19T14:29:19.915Z"
   },
   {
    "duration": 286,
    "start_time": "2021-07-19T14:31:28.785Z"
   },
   {
    "duration": 261,
    "start_time": "2021-07-19T14:31:52.939Z"
   },
   {
    "duration": 265,
    "start_time": "2021-07-19T14:31:59.748Z"
   },
   {
    "duration": 12,
    "start_time": "2021-07-19T14:32:27.424Z"
   },
   {
    "duration": 567,
    "start_time": "2021-07-19T14:32:41.208Z"
   },
   {
    "duration": 277,
    "start_time": "2021-07-19T14:34:04.354Z"
   },
   {
    "duration": 631,
    "start_time": "2021-07-19T14:34:29.861Z"
   },
   {
    "duration": 265,
    "start_time": "2021-07-19T14:36:05.126Z"
   },
   {
    "duration": 268,
    "start_time": "2021-07-19T14:36:15.907Z"
   },
   {
    "duration": 269,
    "start_time": "2021-07-19T14:36:26.062Z"
   },
   {
    "duration": 299,
    "start_time": "2021-07-19T14:36:34.370Z"
   },
   {
    "duration": 148,
    "start_time": "2021-07-19T14:36:46.336Z"
   },
   {
    "duration": 114,
    "start_time": "2021-07-19T14:37:02.521Z"
   },
   {
    "duration": 262,
    "start_time": "2021-07-19T14:37:12.229Z"
   },
   {
    "duration": 265,
    "start_time": "2021-07-19T14:38:39.512Z"
   },
   {
    "duration": 259,
    "start_time": "2021-07-19T14:38:52.721Z"
   },
   {
    "duration": 7,
    "start_time": "2021-07-19T14:39:10.604Z"
   },
   {
    "duration": 270,
    "start_time": "2021-07-19T14:39:40.954Z"
   },
   {
    "duration": 281,
    "start_time": "2021-07-19T14:40:07.222Z"
   },
   {
    "duration": 280,
    "start_time": "2021-07-19T14:40:25.218Z"
   },
   {
    "duration": 5,
    "start_time": "2021-07-19T14:40:42.970Z"
   },
   {
    "duration": 5,
    "start_time": "2021-07-19T14:42:51.652Z"
   },
   {
    "duration": 6,
    "start_time": "2021-07-19T14:42:58.552Z"
   },
   {
    "duration": 15,
    "start_time": "2021-07-19T14:43:30.015Z"
   },
   {
    "duration": 267,
    "start_time": "2021-07-19T14:43:42.251Z"
   },
   {
    "duration": 270,
    "start_time": "2021-07-19T14:45:09.434Z"
   },
   {
    "duration": 119,
    "start_time": "2021-07-19T14:45:14.289Z"
   },
   {
    "duration": 14,
    "start_time": "2021-07-19T14:45:25.887Z"
   },
   {
    "duration": 11,
    "start_time": "2021-07-19T14:45:43.478Z"
   },
   {
    "duration": 10,
    "start_time": "2021-07-19T14:46:00.175Z"
   },
   {
    "duration": 7,
    "start_time": "2021-07-19T14:46:23.201Z"
   },
   {
    "duration": 8,
    "start_time": "2021-07-19T14:46:26.289Z"
   },
   {
    "duration": 275,
    "start_time": "2021-07-19T14:46:47.911Z"
   },
   {
    "duration": 280,
    "start_time": "2021-07-19T14:46:58.868Z"
   },
   {
    "duration": 269,
    "start_time": "2021-07-19T14:47:19.492Z"
   },
   {
    "duration": 280,
    "start_time": "2021-07-19T14:47:28.628Z"
   },
   {
    "duration": 7,
    "start_time": "2021-07-19T14:47:31.758Z"
   },
   {
    "duration": 202,
    "start_time": "2021-07-19T14:47:35.191Z"
   },
   {
    "duration": 258,
    "start_time": "2021-07-19T14:47:37.816Z"
   },
   {
    "duration": 270,
    "start_time": "2021-07-19T14:52:34.777Z"
   },
   {
    "duration": 269,
    "start_time": "2021-07-19T14:53:04.638Z"
   },
   {
    "duration": 270,
    "start_time": "2021-07-19T14:53:07.801Z"
   },
   {
    "duration": 10,
    "start_time": "2021-07-19T14:53:22.713Z"
   },
   {
    "duration": 10,
    "start_time": "2021-07-19T14:53:31.582Z"
   },
   {
    "duration": 260,
    "start_time": "2021-07-19T14:53:43.820Z"
   },
   {
    "duration": 284,
    "start_time": "2021-07-19T14:54:12.800Z"
   },
   {
    "duration": 8,
    "start_time": "2021-07-19T14:55:30.998Z"
   },
   {
    "duration": 274,
    "start_time": "2021-07-19T14:55:49.636Z"
   },
   {
    "duration": 116,
    "start_time": "2021-07-19T14:55:54.543Z"
   },
   {
    "duration": 8,
    "start_time": "2021-07-19T14:55:59.555Z"
   },
   {
    "duration": 8,
    "start_time": "2021-07-19T14:56:11.674Z"
   },
   {
    "duration": 8,
    "start_time": "2021-07-19T14:56:27.213Z"
   },
   {
    "duration": 125,
    "start_time": "2021-07-19T14:56:32.341Z"
   },
   {
    "duration": 130,
    "start_time": "2021-07-19T14:56:51.597Z"
   },
   {
    "duration": 209,
    "start_time": "2021-07-19T14:57:00.976Z"
   },
   {
    "duration": 141,
    "start_time": "2021-07-19T14:57:08.308Z"
   },
   {
    "duration": 162,
    "start_time": "2021-07-19T15:01:48.108Z"
   },
   {
    "duration": 153,
    "start_time": "2021-07-19T15:02:37.825Z"
   },
   {
    "duration": 8,
    "start_time": "2021-07-19T15:02:44.214Z"
   },
   {
    "duration": 158,
    "start_time": "2021-07-19T15:02:45.935Z"
   },
   {
    "duration": 259,
    "start_time": "2021-07-19T15:06:51.580Z"
   },
   {
    "duration": 8,
    "start_time": "2021-07-19T15:06:54.987Z"
   },
   {
    "duration": 6,
    "start_time": "2021-07-19T15:07:03.518Z"
   },
   {
    "duration": 8,
    "start_time": "2021-07-19T15:12:02.574Z"
   },
   {
    "duration": 188,
    "start_time": "2021-07-19T15:13:11.723Z"
   },
   {
    "duration": 271,
    "start_time": "2021-07-19T15:15:36.361Z"
   },
   {
    "duration": 275,
    "start_time": "2021-07-19T15:16:15.545Z"
   },
   {
    "duration": 8,
    "start_time": "2021-07-19T15:16:18.567Z"
   },
   {
    "duration": 267,
    "start_time": "2021-07-19T15:16:20.429Z"
   },
   {
    "duration": 8,
    "start_time": "2021-07-19T15:19:09.334Z"
   },
   {
    "duration": 272,
    "start_time": "2021-07-19T15:19:15.292Z"
   },
   {
    "duration": 161,
    "start_time": "2021-07-19T15:19:31.675Z"
   },
   {
    "duration": 172,
    "start_time": "2021-07-19T15:19:39.746Z"
   },
   {
    "duration": 445,
    "start_time": "2021-07-19T15:24:58.070Z"
   },
   {
    "duration": 402,
    "start_time": "2021-07-19T15:25:35.737Z"
   },
   {
    "duration": 421,
    "start_time": "2021-07-19T15:26:32.921Z"
   },
   {
    "duration": 416,
    "start_time": "2021-07-19T15:28:00.524Z"
   },
   {
    "duration": 470,
    "start_time": "2021-07-19T15:28:11.088Z"
   },
   {
    "duration": 835,
    "start_time": "2021-07-19T15:28:34.994Z"
   },
   {
    "duration": 157,
    "start_time": "2021-07-19T15:29:01.193Z"
   },
   {
    "duration": 809,
    "start_time": "2021-07-19T15:29:35.345Z"
   },
   {
    "duration": 524,
    "start_time": "2021-07-19T15:29:48.924Z"
   },
   {
    "duration": 450,
    "start_time": "2021-07-19T15:29:55.695Z"
   },
   {
    "duration": 455,
    "start_time": "2021-07-19T15:29:59.200Z"
   },
   {
    "duration": 117,
    "start_time": "2021-07-19T15:31:03.257Z"
   },
   {
    "duration": 167,
    "start_time": "2021-07-19T15:31:41.833Z"
   },
   {
    "duration": 154,
    "start_time": "2021-07-19T15:31:47.614Z"
   },
   {
    "duration": 446,
    "start_time": "2021-07-19T15:31:57.838Z"
   },
   {
    "duration": 409,
    "start_time": "2021-07-19T15:32:21.478Z"
   },
   {
    "duration": 493,
    "start_time": "2021-07-19T15:35:10.044Z"
   },
   {
    "duration": 160,
    "start_time": "2021-07-19T15:35:16.584Z"
   },
   {
    "duration": 425,
    "start_time": "2021-07-19T15:35:54.484Z"
   },
   {
    "duration": 413,
    "start_time": "2021-07-19T15:36:16.597Z"
   },
   {
    "duration": 897,
    "start_time": "2021-07-19T15:37:36.523Z"
   },
   {
    "duration": 451,
    "start_time": "2021-07-19T15:38:30.434Z"
   },
   {
    "duration": 157,
    "start_time": "2021-07-19T15:43:30.990Z"
   },
   {
    "duration": 169,
    "start_time": "2021-07-19T15:44:47.896Z"
   },
   {
    "duration": 12,
    "start_time": "2021-07-19T15:45:15.863Z"
   },
   {
    "duration": 17534,
    "start_time": "2021-07-19T15:47:06.362Z"
   },
   {
    "duration": 1952,
    "start_time": "2021-07-19T15:48:33.049Z"
   },
   {
    "duration": 2105,
    "start_time": "2021-07-19T15:53:25.835Z"
   },
   {
    "duration": 2192,
    "start_time": "2021-07-19T15:54:18.201Z"
   },
   {
    "duration": 1796,
    "start_time": "2021-07-19T15:54:25.394Z"
   },
   {
    "duration": 8,
    "start_time": "2021-07-19T15:55:04.501Z"
   },
   {
    "duration": 4,
    "start_time": "2021-07-19T15:56:38.884Z"
   },
   {
    "duration": 605,
    "start_time": "2021-07-19T15:56:47.201Z"
   },
   {
    "duration": 11,
    "start_time": "2021-07-19T15:56:47.807Z"
   },
   {
    "duration": 16,
    "start_time": "2021-07-19T15:56:47.822Z"
   },
   {
    "duration": 10,
    "start_time": "2021-07-19T15:56:47.839Z"
   },
   {
    "duration": 39,
    "start_time": "2021-07-19T15:56:47.850Z"
   },
   {
    "duration": 12,
    "start_time": "2021-07-19T15:56:47.891Z"
   },
   {
    "duration": 35,
    "start_time": "2021-07-19T15:56:47.906Z"
   },
   {
    "duration": 12,
    "start_time": "2021-07-19T15:56:47.943Z"
   },
   {
    "duration": 12,
    "start_time": "2021-07-19T15:56:47.957Z"
   },
   {
    "duration": 7,
    "start_time": "2021-07-19T15:56:47.970Z"
   },
   {
    "duration": 10,
    "start_time": "2021-07-19T15:56:47.979Z"
   },
   {
    "duration": 7,
    "start_time": "2021-07-19T15:56:47.990Z"
   },
   {
    "duration": 10,
    "start_time": "2021-07-19T15:56:47.998Z"
   },
   {
    "duration": 8,
    "start_time": "2021-07-19T15:56:48.010Z"
   },
   {
    "duration": 649,
    "start_time": "2021-07-19T15:56:48.041Z"
   },
   {
    "duration": 13,
    "start_time": "2021-07-19T15:56:48.693Z"
   },
   {
    "duration": 181,
    "start_time": "2021-07-19T15:56:48.708Z"
   },
   {
    "duration": 1289,
    "start_time": "2021-07-19T15:56:48.891Z"
   },
   {
    "duration": 1276,
    "start_time": "2021-07-19T15:56:50.182Z"
   },
   {
    "duration": 1009,
    "start_time": "2021-07-19T15:56:51.460Z"
   },
   {
    "duration": 1100,
    "start_time": "2021-07-19T15:56:52.470Z"
   },
   {
    "duration": 7,
    "start_time": "2021-07-19T15:56:53.574Z"
   },
   {
    "duration": 23,
    "start_time": "2021-07-19T15:56:53.584Z"
   },
   {
    "duration": 22706,
    "start_time": "2021-07-19T15:56:53.608Z"
   },
   {
    "duration": 10,
    "start_time": "2021-07-19T15:57:16.316Z"
   },
   {
    "duration": 20,
    "start_time": "2021-07-19T15:57:16.328Z"
   },
   {
    "duration": 4,
    "start_time": "2021-07-19T15:57:16.349Z"
   },
   {
    "duration": 9024,
    "start_time": "2021-07-19T15:57:16.355Z"
   },
   {
    "duration": 9,
    "start_time": "2021-07-19T15:57:25.381Z"
   },
   {
    "duration": 12,
    "start_time": "2021-07-19T15:57:25.392Z"
   },
   {
    "duration": 35,
    "start_time": "2021-07-19T15:57:25.406Z"
   },
   {
    "duration": 20,
    "start_time": "2021-07-19T15:57:25.442Z"
   },
   {
    "duration": 19,
    "start_time": "2021-07-19T15:57:25.463Z"
   },
   {
    "duration": 10,
    "start_time": "2021-07-19T15:57:25.484Z"
   },
   {
    "duration": 13,
    "start_time": "2021-07-19T15:57:25.495Z"
   },
   {
    "duration": 35,
    "start_time": "2021-07-19T15:57:25.510Z"
   },
   {
    "duration": 19,
    "start_time": "2021-07-19T15:57:25.547Z"
   },
   {
    "duration": 5,
    "start_time": "2021-07-19T15:57:25.567Z"
   },
   {
    "duration": 5,
    "start_time": "2021-07-19T15:57:25.574Z"
   },
   {
    "duration": 187,
    "start_time": "2021-07-19T15:57:25.581Z"
   },
   {
    "duration": 10,
    "start_time": "2021-07-19T15:57:25.769Z"
   },
   {
    "duration": 4,
    "start_time": "2021-07-19T15:57:25.781Z"
   },
   {
    "duration": 5,
    "start_time": "2021-07-19T15:57:25.787Z"
   },
   {
    "duration": 6,
    "start_time": "2021-07-19T15:57:25.794Z"
   },
   {
    "duration": 6,
    "start_time": "2021-07-19T15:57:25.801Z"
   },
   {
    "duration": 13,
    "start_time": "2021-07-19T15:57:25.808Z"
   },
   {
    "duration": 15,
    "start_time": "2021-07-19T15:57:25.841Z"
   },
   {
    "duration": 17,
    "start_time": "2021-07-19T15:57:25.858Z"
   },
   {
    "duration": 36209,
    "start_time": "2021-07-19T15:57:25.876Z"
   },
   {
    "duration": 143,
    "start_time": "2021-07-19T15:58:02.087Z"
   },
   {
    "duration": 34,
    "start_time": "2021-07-19T15:58:02.232Z"
   },
   {
    "duration": 3,
    "start_time": "2021-07-19T15:58:02.268Z"
   },
   {
    "duration": 12,
    "start_time": "2021-07-19T15:58:02.273Z"
   },
   {
    "duration": 4,
    "start_time": "2021-07-19T15:58:02.286Z"
   },
   {
    "duration": 14,
    "start_time": "2021-07-19T15:58:02.292Z"
   },
   {
    "duration": 272,
    "start_time": "2021-07-19T15:58:02.307Z"
   },
   {
    "duration": 6,
    "start_time": "2021-07-19T15:58:02.580Z"
   },
   {
    "duration": 12,
    "start_time": "2021-07-19T15:58:02.587Z"
   },
   {
    "duration": 181,
    "start_time": "2021-07-19T15:58:02.601Z"
   },
   {
    "duration": 2114,
    "start_time": "2021-07-19T15:58:02.784Z"
   },
   {
    "duration": 8,
    "start_time": "2021-07-19T15:58:04.900Z"
   },
   {
    "duration": 5,
    "start_time": "2021-07-19T15:59:03.609Z"
   },
   {
    "duration": 3,
    "start_time": "2021-07-19T15:59:57.596Z"
   },
   {
    "duration": 614,
    "start_time": "2021-07-19T16:00:02.873Z"
   },
   {
    "duration": 10,
    "start_time": "2021-07-19T16:00:03.489Z"
   },
   {
    "duration": 9,
    "start_time": "2021-07-19T16:00:03.501Z"
   },
   {
    "duration": 7,
    "start_time": "2021-07-19T16:00:03.511Z"
   },
   {
    "duration": 54,
    "start_time": "2021-07-19T16:00:03.520Z"
   },
   {
    "duration": 13,
    "start_time": "2021-07-19T16:00:03.576Z"
   },
   {
    "duration": 16,
    "start_time": "2021-07-19T16:00:03.590Z"
   },
   {
    "duration": 37,
    "start_time": "2021-07-19T16:00:03.608Z"
   },
   {
    "duration": 8,
    "start_time": "2021-07-19T16:00:03.647Z"
   },
   {
    "duration": 6,
    "start_time": "2021-07-19T16:00:03.657Z"
   },
   {
    "duration": 9,
    "start_time": "2021-07-19T16:00:03.664Z"
   },
   {
    "duration": 15,
    "start_time": "2021-07-19T16:00:03.675Z"
   },
   {
    "duration": 9,
    "start_time": "2021-07-19T16:00:03.692Z"
   },
   {
    "duration": 3,
    "start_time": "2021-07-19T16:00:03.703Z"
   },
   {
    "duration": 690,
    "start_time": "2021-07-19T16:00:03.708Z"
   },
   {
    "duration": 12,
    "start_time": "2021-07-19T16:00:04.400Z"
   },
   {
    "duration": 174,
    "start_time": "2021-07-19T16:00:04.414Z"
   },
   {
    "duration": 1244,
    "start_time": "2021-07-19T16:00:04.590Z"
   },
   {
    "duration": 1270,
    "start_time": "2021-07-19T16:00:05.835Z"
   },
   {
    "duration": 953,
    "start_time": "2021-07-19T16:00:07.107Z"
   },
   {
    "duration": 1078,
    "start_time": "2021-07-19T16:00:08.062Z"
   },
   {
    "duration": 8,
    "start_time": "2021-07-19T16:00:09.142Z"
   },
   {
    "duration": 32,
    "start_time": "2021-07-19T16:00:09.153Z"
   },
   {
    "duration": 24086,
    "start_time": "2021-07-19T16:00:09.187Z"
   },
   {
    "duration": 10,
    "start_time": "2021-07-19T16:00:33.274Z"
   },
   {
    "duration": 20,
    "start_time": "2021-07-19T16:00:33.285Z"
   },
   {
    "duration": 8,
    "start_time": "2021-07-19T16:00:33.307Z"
   },
   {
    "duration": 8992,
    "start_time": "2021-07-19T16:00:33.317Z"
   },
   {
    "duration": 9,
    "start_time": "2021-07-19T16:00:42.311Z"
   },
   {
    "duration": 24,
    "start_time": "2021-07-19T16:00:42.321Z"
   },
   {
    "duration": 15,
    "start_time": "2021-07-19T16:00:42.346Z"
   },
   {
    "duration": 23,
    "start_time": "2021-07-19T16:00:42.363Z"
   },
   {
    "duration": 19,
    "start_time": "2021-07-19T16:00:42.387Z"
   },
   {
    "duration": 34,
    "start_time": "2021-07-19T16:00:42.408Z"
   },
   {
    "duration": 17,
    "start_time": "2021-07-19T16:00:42.444Z"
   },
   {
    "duration": 12,
    "start_time": "2021-07-19T16:00:42.462Z"
   },
   {
    "duration": 26,
    "start_time": "2021-07-19T16:00:42.475Z"
   },
   {
    "duration": 5,
    "start_time": "2021-07-19T16:00:42.503Z"
   },
   {
    "duration": 4,
    "start_time": "2021-07-19T16:00:42.510Z"
   },
   {
    "duration": 182,
    "start_time": "2021-07-19T16:00:42.515Z"
   },
   {
    "duration": 9,
    "start_time": "2021-07-19T16:00:42.699Z"
   },
   {
    "duration": 12,
    "start_time": "2021-07-19T16:00:42.710Z"
   },
   {
    "duration": 10,
    "start_time": "2021-07-19T16:00:42.723Z"
   },
   {
    "duration": 11,
    "start_time": "2021-07-19T16:00:42.741Z"
   },
   {
    "duration": 17,
    "start_time": "2021-07-19T16:00:42.753Z"
   },
   {
    "duration": 16,
    "start_time": "2021-07-19T16:00:42.771Z"
   },
   {
    "duration": 31,
    "start_time": "2021-07-19T16:00:42.789Z"
   },
   {
    "duration": 27,
    "start_time": "2021-07-19T16:00:42.822Z"
   },
   {
    "duration": 37218,
    "start_time": "2021-07-19T16:00:42.850Z"
   },
   {
    "duration": 179,
    "start_time": "2021-07-19T16:01:20.070Z"
   },
   {
    "duration": 32,
    "start_time": "2021-07-19T16:01:20.251Z"
   },
   {
    "duration": 15,
    "start_time": "2021-07-19T16:01:20.285Z"
   },
   {
    "duration": 20,
    "start_time": "2021-07-19T16:01:20.301Z"
   },
   {
    "duration": 26,
    "start_time": "2021-07-19T16:01:20.322Z"
   },
   {
    "duration": 9,
    "start_time": "2021-07-19T16:01:20.350Z"
   },
   {
    "duration": 32,
    "start_time": "2021-07-19T16:01:20.360Z"
   },
   {
    "duration": 172,
    "start_time": "2021-07-19T16:01:20.394Z"
   },
   {
    "duration": 6,
    "start_time": "2021-07-19T16:01:20.567Z"
   },
   {
    "duration": 23,
    "start_time": "2021-07-19T16:01:20.574Z"
   },
   {
    "duration": 253,
    "start_time": "2021-07-19T16:01:20.599Z"
   },
   {
    "duration": 2261,
    "start_time": "2021-07-19T16:01:20.854Z"
   },
   {
    "duration": 9,
    "start_time": "2021-07-19T16:01:23.117Z"
   },
   {
    "duration": 160,
    "start_time": "2021-07-19T16:04:34.419Z"
   },
   {
    "duration": 606,
    "start_time": "2021-07-19T16:16:42.084Z"
   },
   {
    "duration": 10,
    "start_time": "2021-07-19T16:16:42.691Z"
   },
   {
    "duration": 8,
    "start_time": "2021-07-19T16:16:42.706Z"
   },
   {
    "duration": 7,
    "start_time": "2021-07-19T16:16:42.715Z"
   },
   {
    "duration": 49,
    "start_time": "2021-07-19T16:16:42.724Z"
   },
   {
    "duration": 12,
    "start_time": "2021-07-19T16:16:42.775Z"
   },
   {
    "duration": 12,
    "start_time": "2021-07-19T16:16:42.789Z"
   },
   {
    "duration": 40,
    "start_time": "2021-07-19T16:16:42.803Z"
   },
   {
    "duration": 7,
    "start_time": "2021-07-19T16:16:42.845Z"
   },
   {
    "duration": 7,
    "start_time": "2021-07-19T16:16:42.854Z"
   },
   {
    "duration": 7,
    "start_time": "2021-07-19T16:16:42.862Z"
   },
   {
    "duration": 8,
    "start_time": "2021-07-19T16:16:42.871Z"
   },
   {
    "duration": 9,
    "start_time": "2021-07-19T16:16:42.881Z"
   },
   {
    "duration": 3,
    "start_time": "2021-07-19T16:16:42.891Z"
   },
   {
    "duration": 695,
    "start_time": "2021-07-19T16:16:42.896Z"
   },
   {
    "duration": 11,
    "start_time": "2021-07-19T16:16:43.593Z"
   },
   {
    "duration": 169,
    "start_time": "2021-07-19T16:16:43.605Z"
   },
   {
    "duration": 1256,
    "start_time": "2021-07-19T16:16:43.775Z"
   },
   {
    "duration": 1208,
    "start_time": "2021-07-19T16:16:45.040Z"
   },
   {
    "duration": 942,
    "start_time": "2021-07-19T16:16:46.250Z"
   },
   {
    "duration": 1058,
    "start_time": "2021-07-19T16:16:47.193Z"
   },
   {
    "duration": 9,
    "start_time": "2021-07-19T16:16:48.254Z"
   },
   {
    "duration": 30,
    "start_time": "2021-07-19T16:16:48.265Z"
   },
   {
    "duration": 23597,
    "start_time": "2021-07-19T16:16:48.297Z"
   },
   {
    "duration": 11,
    "start_time": "2021-07-19T16:17:11.896Z"
   },
   {
    "duration": 19,
    "start_time": "2021-07-19T16:17:11.909Z"
   },
   {
    "duration": 6,
    "start_time": "2021-07-19T16:17:11.941Z"
   },
   {
    "duration": 9061,
    "start_time": "2021-07-19T16:17:11.949Z"
   },
   {
    "duration": 9,
    "start_time": "2021-07-19T16:17:21.012Z"
   },
   {
    "duration": 25,
    "start_time": "2021-07-19T16:17:21.023Z"
   },
   {
    "duration": 23,
    "start_time": "2021-07-19T16:17:21.050Z"
   },
   {
    "duration": 21,
    "start_time": "2021-07-19T16:17:21.074Z"
   },
   {
    "duration": 20,
    "start_time": "2021-07-19T16:17:21.096Z"
   },
   {
    "duration": 27,
    "start_time": "2021-07-19T16:17:21.118Z"
   },
   {
    "duration": 13,
    "start_time": "2021-07-19T16:17:21.146Z"
   },
   {
    "duration": 16,
    "start_time": "2021-07-19T16:17:21.160Z"
   },
   {
    "duration": 29,
    "start_time": "2021-07-19T16:17:21.178Z"
   },
   {
    "duration": 5,
    "start_time": "2021-07-19T16:17:21.209Z"
   },
   {
    "duration": 7,
    "start_time": "2021-07-19T16:17:21.216Z"
   },
   {
    "duration": 177,
    "start_time": "2021-07-19T16:17:21.224Z"
   },
   {
    "duration": 9,
    "start_time": "2021-07-19T16:17:21.403Z"
   },
   {
    "duration": 14,
    "start_time": "2021-07-19T16:17:21.414Z"
   },
   {
    "duration": 12,
    "start_time": "2021-07-19T16:17:21.429Z"
   },
   {
    "duration": 11,
    "start_time": "2021-07-19T16:17:21.443Z"
   },
   {
    "duration": 10,
    "start_time": "2021-07-19T16:17:21.455Z"
   },
   {
    "duration": 10,
    "start_time": "2021-07-19T16:17:21.467Z"
   },
   {
    "duration": 22,
    "start_time": "2021-07-19T16:17:21.478Z"
   },
   {
    "duration": 21,
    "start_time": "2021-07-19T16:17:21.501Z"
   },
   {
    "duration": 37058,
    "start_time": "2021-07-19T16:17:21.523Z"
   },
   {
    "duration": 169,
    "start_time": "2021-07-19T16:17:58.583Z"
   },
   {
    "duration": 36,
    "start_time": "2021-07-19T16:17:58.753Z"
   },
   {
    "duration": 3,
    "start_time": "2021-07-19T16:17:58.791Z"
   },
   {
    "duration": 14,
    "start_time": "2021-07-19T16:17:58.796Z"
   },
   {
    "duration": 9,
    "start_time": "2021-07-19T16:17:58.812Z"
   },
   {
    "duration": 13,
    "start_time": "2021-07-19T16:17:58.841Z"
   },
   {
    "duration": 307,
    "start_time": "2021-07-19T16:17:58.856Z"
   },
   {
    "duration": 6,
    "start_time": "2021-07-19T16:17:59.164Z"
   },
   {
    "duration": 11,
    "start_time": "2021-07-19T16:17:59.172Z"
   },
   {
    "duration": 206,
    "start_time": "2021-07-19T16:17:59.185Z"
   },
   {
    "duration": 2058,
    "start_time": "2021-07-19T16:17:59.393Z"
   },
   {
    "duration": 8,
    "start_time": "2021-07-19T16:18:01.453Z"
   },
   {
    "duration": 205,
    "start_time": "2021-07-19T16:18:01.462Z"
   },
   {
    "duration": 8,
    "start_time": "2021-07-19T16:22:32.283Z"
   },
   {
    "duration": 665,
    "start_time": "2021-07-19T16:22:39.808Z"
   },
   {
    "duration": 11,
    "start_time": "2021-07-19T16:22:40.475Z"
   },
   {
    "duration": 13,
    "start_time": "2021-07-19T16:22:40.489Z"
   },
   {
    "duration": 9,
    "start_time": "2021-07-19T16:22:40.504Z"
   },
   {
    "duration": 53,
    "start_time": "2021-07-19T16:22:40.514Z"
   },
   {
    "duration": 13,
    "start_time": "2021-07-19T16:22:40.569Z"
   },
   {
    "duration": 15,
    "start_time": "2021-07-19T16:22:40.584Z"
   },
   {
    "duration": 22,
    "start_time": "2021-07-19T16:22:40.602Z"
   },
   {
    "duration": 19,
    "start_time": "2021-07-19T16:22:40.626Z"
   },
   {
    "duration": 12,
    "start_time": "2021-07-19T16:22:40.647Z"
   },
   {
    "duration": 17,
    "start_time": "2021-07-19T16:22:40.661Z"
   },
   {
    "duration": 14,
    "start_time": "2021-07-19T16:22:40.680Z"
   },
   {
    "duration": 17,
    "start_time": "2021-07-19T16:22:40.695Z"
   },
   {
    "duration": 5,
    "start_time": "2021-07-19T16:22:40.714Z"
   },
   {
    "duration": 670,
    "start_time": "2021-07-19T16:22:40.721Z"
   },
   {
    "duration": 13,
    "start_time": "2021-07-19T16:22:41.393Z"
   },
   {
    "duration": 176,
    "start_time": "2021-07-19T16:22:41.408Z"
   },
   {
    "duration": 1453,
    "start_time": "2021-07-19T16:22:41.585Z"
   },
   {
    "duration": 1222,
    "start_time": "2021-07-19T16:22:43.041Z"
   },
   {
    "duration": 1070,
    "start_time": "2021-07-19T16:22:44.265Z"
   },
   {
    "duration": 1094,
    "start_time": "2021-07-19T16:22:45.337Z"
   },
   {
    "duration": 8,
    "start_time": "2021-07-19T16:22:46.440Z"
   },
   {
    "duration": 18,
    "start_time": "2021-07-19T16:22:46.451Z"
   },
   {
    "duration": 23541,
    "start_time": "2021-07-19T16:22:46.470Z"
   },
   {
    "duration": 11,
    "start_time": "2021-07-19T16:23:10.012Z"
   },
   {
    "duration": 22,
    "start_time": "2021-07-19T16:23:10.025Z"
   },
   {
    "duration": 7,
    "start_time": "2021-07-19T16:23:10.049Z"
   },
   {
    "duration": 9287,
    "start_time": "2021-07-19T16:23:10.057Z"
   },
   {
    "duration": 9,
    "start_time": "2021-07-19T16:23:19.345Z"
   },
   {
    "duration": 17,
    "start_time": "2021-07-19T16:23:19.356Z"
   },
   {
    "duration": 14,
    "start_time": "2021-07-19T16:23:19.375Z"
   },
   {
    "duration": 27,
    "start_time": "2021-07-19T16:23:19.391Z"
   },
   {
    "duration": 31,
    "start_time": "2021-07-19T16:23:19.419Z"
   },
   {
    "duration": 10,
    "start_time": "2021-07-19T16:23:19.452Z"
   },
   {
    "duration": 18,
    "start_time": "2021-07-19T16:23:19.463Z"
   },
   {
    "duration": 10,
    "start_time": "2021-07-19T16:23:19.482Z"
   },
   {
    "duration": 36,
    "start_time": "2021-07-19T16:23:19.494Z"
   },
   {
    "duration": 11,
    "start_time": "2021-07-19T16:23:19.532Z"
   },
   {
    "duration": 12,
    "start_time": "2021-07-19T16:23:19.545Z"
   },
   {
    "duration": 168,
    "start_time": "2021-07-19T16:23:19.558Z"
   },
   {
    "duration": 17,
    "start_time": "2021-07-19T16:23:19.728Z"
   },
   {
    "duration": 5,
    "start_time": "2021-07-19T16:23:19.746Z"
   },
   {
    "duration": 6,
    "start_time": "2021-07-19T16:23:19.752Z"
   },
   {
    "duration": 6,
    "start_time": "2021-07-19T16:23:19.760Z"
   },
   {
    "duration": 18,
    "start_time": "2021-07-19T16:23:19.767Z"
   },
   {
    "duration": 17,
    "start_time": "2021-07-19T16:23:19.786Z"
   },
   {
    "duration": 36430,
    "start_time": "2021-07-19T16:23:19.805Z"
   },
   {
    "duration": 157,
    "start_time": "2021-07-19T16:23:56.237Z"
   },
   {
    "duration": 47,
    "start_time": "2021-07-19T16:23:56.395Z"
   },
   {
    "duration": 3,
    "start_time": "2021-07-19T16:23:56.443Z"
   },
   {
    "duration": 18,
    "start_time": "2021-07-19T16:23:56.448Z"
   },
   {
    "duration": 9,
    "start_time": "2021-07-19T16:23:56.468Z"
   },
   {
    "duration": 20,
    "start_time": "2021-07-19T16:23:56.478Z"
   },
   {
    "duration": 6,
    "start_time": "2021-07-19T16:23:56.500Z"
   },
   {
    "duration": 13,
    "start_time": "2021-07-19T16:23:56.508Z"
   },
   {
    "duration": 204,
    "start_time": "2021-07-19T16:23:56.523Z"
   },
   {
    "duration": 13,
    "start_time": "2021-07-19T16:23:56.729Z"
   },
   {
    "duration": 13,
    "start_time": "2021-07-19T16:23:56.744Z"
   },
   {
    "duration": 260,
    "start_time": "2021-07-19T16:23:56.760Z"
   },
   {
    "duration": 2102,
    "start_time": "2021-07-19T16:23:57.022Z"
   },
   {
    "duration": 17,
    "start_time": "2021-07-19T16:23:59.126Z"
   },
   {
    "duration": 162,
    "start_time": "2021-07-19T16:23:59.145Z"
   },
   {
    "duration": 695,
    "start_time": "2021-07-19T16:57:55.661Z"
   },
   {
    "duration": 11,
    "start_time": "2021-07-19T16:57:56.358Z"
   },
   {
    "duration": 9,
    "start_time": "2021-07-19T16:57:56.374Z"
   },
   {
    "duration": 8,
    "start_time": "2021-07-19T16:57:56.385Z"
   },
   {
    "duration": 69,
    "start_time": "2021-07-19T16:57:56.395Z"
   },
   {
    "duration": 13,
    "start_time": "2021-07-19T16:57:56.465Z"
   },
   {
    "duration": 13,
    "start_time": "2021-07-19T16:57:56.480Z"
   },
   {
    "duration": 14,
    "start_time": "2021-07-19T16:57:56.495Z"
   },
   {
    "duration": 31,
    "start_time": "2021-07-19T16:57:56.510Z"
   },
   {
    "duration": 6,
    "start_time": "2021-07-19T16:57:56.542Z"
   },
   {
    "duration": 16,
    "start_time": "2021-07-19T16:57:56.550Z"
   },
   {
    "duration": 16,
    "start_time": "2021-07-19T16:57:56.568Z"
   },
   {
    "duration": 38,
    "start_time": "2021-07-19T16:57:56.586Z"
   },
   {
    "duration": 22,
    "start_time": "2021-07-19T16:57:56.627Z"
   },
   {
    "duration": 708,
    "start_time": "2021-07-19T16:57:56.650Z"
   },
   {
    "duration": 11,
    "start_time": "2021-07-19T16:57:57.360Z"
   },
   {
    "duration": 186,
    "start_time": "2021-07-19T16:57:57.372Z"
   },
   {
    "duration": 1278,
    "start_time": "2021-07-19T16:57:57.559Z"
   },
   {
    "duration": 1271,
    "start_time": "2021-07-19T16:57:58.841Z"
   },
   {
    "duration": 1001,
    "start_time": "2021-07-19T16:58:00.114Z"
   },
   {
    "duration": 1059,
    "start_time": "2021-07-19T16:58:01.117Z"
   },
   {
    "duration": 8,
    "start_time": "2021-07-19T16:58:02.180Z"
   },
   {
    "duration": 22581,
    "start_time": "2021-07-19T16:58:02.190Z"
   },
   {
    "duration": 9,
    "start_time": "2021-07-19T16:58:24.773Z"
   },
   {
    "duration": 29,
    "start_time": "2021-07-19T16:58:24.784Z"
   },
   {
    "duration": 15,
    "start_time": "2021-07-19T16:58:24.815Z"
   },
   {
    "duration": 8923,
    "start_time": "2021-07-19T16:58:24.831Z"
   },
   {
    "duration": 10,
    "start_time": "2021-07-19T16:58:33.755Z"
   },
   {
    "duration": 15,
    "start_time": "2021-07-19T16:58:33.766Z"
   },
   {
    "duration": 15,
    "start_time": "2021-07-19T16:58:33.783Z"
   },
   {
    "duration": 41,
    "start_time": "2021-07-19T16:58:33.799Z"
   },
   {
    "duration": 20,
    "start_time": "2021-07-19T16:58:33.842Z"
   },
   {
    "duration": 10,
    "start_time": "2021-07-19T16:58:33.864Z"
   },
   {
    "duration": 13,
    "start_time": "2021-07-19T16:58:33.875Z"
   },
   {
    "duration": 12,
    "start_time": "2021-07-19T16:58:33.890Z"
   },
   {
    "duration": 43,
    "start_time": "2021-07-19T16:58:33.904Z"
   },
   {
    "duration": 5,
    "start_time": "2021-07-19T16:58:33.949Z"
   },
   {
    "duration": 9,
    "start_time": "2021-07-19T16:58:33.956Z"
   },
   {
    "duration": 172,
    "start_time": "2021-07-19T16:58:33.966Z"
   },
   {
    "duration": 9,
    "start_time": "2021-07-19T16:58:34.140Z"
   },
   {
    "duration": 5,
    "start_time": "2021-07-19T16:58:34.151Z"
   },
   {
    "duration": 10,
    "start_time": "2021-07-19T16:58:34.157Z"
   },
   {
    "duration": 13,
    "start_time": "2021-07-19T16:58:34.168Z"
   },
   {
    "duration": 14,
    "start_time": "2021-07-19T16:58:34.183Z"
   },
   {
    "duration": 15,
    "start_time": "2021-07-19T16:58:34.199Z"
   },
   {
    "duration": 36067,
    "start_time": "2021-07-19T16:58:34.216Z"
   },
   {
    "duration": 150,
    "start_time": "2021-07-19T16:59:10.284Z"
   },
   {
    "duration": 35,
    "start_time": "2021-07-19T16:59:10.435Z"
   },
   {
    "duration": 4,
    "start_time": "2021-07-19T16:59:10.472Z"
   },
   {
    "duration": 12,
    "start_time": "2021-07-19T16:59:10.477Z"
   },
   {
    "duration": 5,
    "start_time": "2021-07-19T16:59:10.491Z"
   },
   {
    "duration": 15,
    "start_time": "2021-07-19T16:59:10.497Z"
   },
   {
    "duration": 27,
    "start_time": "2021-07-19T16:59:10.514Z"
   },
   {
    "duration": 7,
    "start_time": "2021-07-19T16:59:10.542Z"
   },
   {
    "duration": 179,
    "start_time": "2021-07-19T16:59:10.551Z"
   },
   {
    "duration": 11,
    "start_time": "2021-07-19T16:59:10.732Z"
   },
   {
    "duration": 10,
    "start_time": "2021-07-19T16:59:10.745Z"
   },
   {
    "duration": 239,
    "start_time": "2021-07-19T16:59:10.756Z"
   },
   {
    "duration": 1975,
    "start_time": "2021-07-19T16:59:10.996Z"
   },
   {
    "duration": 7,
    "start_time": "2021-07-19T16:59:12.973Z"
   },
   {
    "duration": 169,
    "start_time": "2021-07-19T16:59:12.981Z"
   },
   {
    "duration": 209,
    "start_time": "2021-07-19T17:27:40.585Z"
   },
   {
    "duration": 629,
    "start_time": "2021-07-19T17:27:43.993Z"
   },
   {
    "duration": 11,
    "start_time": "2021-07-19T17:27:44.623Z"
   },
   {
    "duration": 9,
    "start_time": "2021-07-19T17:27:44.636Z"
   },
   {
    "duration": 14,
    "start_time": "2021-07-19T17:27:44.647Z"
   },
   {
    "duration": 50,
    "start_time": "2021-07-19T17:27:44.662Z"
   },
   {
    "duration": 75,
    "start_time": "2021-07-19T17:27:44.714Z"
   },
   {
    "duration": -2620,
    "start_time": "2021-07-19T17:27:47.412Z"
   },
   {
    "duration": -2623,
    "start_time": "2021-07-19T17:27:47.416Z"
   },
   {
    "duration": -2626,
    "start_time": "2021-07-19T17:27:47.420Z"
   },
   {
    "duration": -2628,
    "start_time": "2021-07-19T17:27:47.423Z"
   },
   {
    "duration": -2634,
    "start_time": "2021-07-19T17:27:47.430Z"
   },
   {
    "duration": -2637,
    "start_time": "2021-07-19T17:27:47.434Z"
   },
   {
    "duration": -2640,
    "start_time": "2021-07-19T17:27:47.438Z"
   },
   {
    "duration": -2642,
    "start_time": "2021-07-19T17:27:47.441Z"
   },
   {
    "duration": -2645,
    "start_time": "2021-07-19T17:27:47.445Z"
   },
   {
    "duration": -2647,
    "start_time": "2021-07-19T17:27:47.448Z"
   },
   {
    "duration": -2649,
    "start_time": "2021-07-19T17:27:47.451Z"
   },
   {
    "duration": -2660,
    "start_time": "2021-07-19T17:27:47.463Z"
   },
   {
    "duration": -2663,
    "start_time": "2021-07-19T17:27:47.466Z"
   },
   {
    "duration": -2665,
    "start_time": "2021-07-19T17:27:47.469Z"
   },
   {
    "duration": -2667,
    "start_time": "2021-07-19T17:27:47.472Z"
   },
   {
    "duration": -2670,
    "start_time": "2021-07-19T17:27:47.476Z"
   },
   {
    "duration": -2673,
    "start_time": "2021-07-19T17:27:47.480Z"
   },
   {
    "duration": -2675,
    "start_time": "2021-07-19T17:27:47.483Z"
   },
   {
    "duration": -2677,
    "start_time": "2021-07-19T17:27:47.486Z"
   },
   {
    "duration": -2679,
    "start_time": "2021-07-19T17:27:47.489Z"
   },
   {
    "duration": -2685,
    "start_time": "2021-07-19T17:27:47.496Z"
   },
   {
    "duration": -2688,
    "start_time": "2021-07-19T17:27:47.499Z"
   },
   {
    "duration": -2690,
    "start_time": "2021-07-19T17:27:47.502Z"
   },
   {
    "duration": -2692,
    "start_time": "2021-07-19T17:27:47.505Z"
   },
   {
    "duration": -2696,
    "start_time": "2021-07-19T17:27:47.510Z"
   },
   {
    "duration": -2699,
    "start_time": "2021-07-19T17:27:47.514Z"
   },
   {
    "duration": -2702,
    "start_time": "2021-07-19T17:27:47.518Z"
   },
   {
    "duration": -2705,
    "start_time": "2021-07-19T17:27:47.521Z"
   },
   {
    "duration": -2708,
    "start_time": "2021-07-19T17:27:47.525Z"
   },
   {
    "duration": -2710,
    "start_time": "2021-07-19T17:27:47.529Z"
   },
   {
    "duration": -2752,
    "start_time": "2021-07-19T17:27:47.571Z"
   },
   {
    "duration": -2869,
    "start_time": "2021-07-19T17:27:47.689Z"
   },
   {
    "duration": -2895,
    "start_time": "2021-07-19T17:27:47.716Z"
   },
   {
    "duration": -2898,
    "start_time": "2021-07-19T17:27:47.720Z"
   },
   {
    "duration": -2906,
    "start_time": "2021-07-19T17:27:47.729Z"
   },
   {
    "duration": -2909,
    "start_time": "2021-07-19T17:27:47.733Z"
   },
   {
    "duration": -2911,
    "start_time": "2021-07-19T17:27:47.736Z"
   },
   {
    "duration": -2914,
    "start_time": "2021-07-19T17:27:47.740Z"
   },
   {
    "duration": -2916,
    "start_time": "2021-07-19T17:27:47.743Z"
   },
   {
    "duration": -2918,
    "start_time": "2021-07-19T17:27:47.746Z"
   },
   {
    "duration": -2920,
    "start_time": "2021-07-19T17:27:47.749Z"
   },
   {
    "duration": -2993,
    "start_time": "2021-07-19T17:27:47.823Z"
   },
   {
    "duration": -3041,
    "start_time": "2021-07-19T17:27:47.872Z"
   },
   {
    "duration": -2998,
    "start_time": "2021-07-19T17:27:47.883Z"
   },
   {
    "duration": -3001,
    "start_time": "2021-07-19T17:27:47.887Z"
   },
   {
    "duration": -3002,
    "start_time": "2021-07-19T17:27:47.889Z"
   },
   {
    "duration": -3004,
    "start_time": "2021-07-19T17:27:47.892Z"
   },
   {
    "duration": -3006,
    "start_time": "2021-07-19T17:27:47.895Z"
   },
   {
    "duration": -3008,
    "start_time": "2021-07-19T17:27:47.898Z"
   },
   {
    "duration": -3011,
    "start_time": "2021-07-19T17:27:47.901Z"
   },
   {
    "duration": -3013,
    "start_time": "2021-07-19T17:27:47.904Z"
   },
   {
    "duration": -3014,
    "start_time": "2021-07-19T17:27:47.907Z"
   },
   {
    "duration": -3017,
    "start_time": "2021-07-19T17:27:47.910Z"
   },
   {
    "duration": -3019,
    "start_time": "2021-07-19T17:27:47.913Z"
   },
   {
    "duration": -3022,
    "start_time": "2021-07-19T17:27:47.917Z"
   },
   {
    "duration": -3023,
    "start_time": "2021-07-19T17:27:47.920Z"
   },
   {
    "duration": -3025,
    "start_time": "2021-07-19T17:27:47.923Z"
   },
   {
    "duration": 60,
    "start_time": "2021-07-19T17:28:06.272Z"
   },
   {
    "duration": 9,
    "start_time": "2021-07-19T17:28:06.334Z"
   },
   {
    "duration": 12,
    "start_time": "2021-07-19T17:28:06.345Z"
   },
   {
    "duration": 26,
    "start_time": "2021-07-19T17:28:06.359Z"
   },
   {
    "duration": 40,
    "start_time": "2021-07-19T17:28:06.387Z"
   },
   {
    "duration": 217,
    "start_time": "2021-07-19T17:28:06.429Z"
   },
   {
    "duration": -2562,
    "start_time": "2021-07-19T17:28:09.212Z"
   },
   {
    "duration": -2565,
    "start_time": "2021-07-19T17:28:09.216Z"
   },
   {
    "duration": -2567,
    "start_time": "2021-07-19T17:28:09.220Z"
   },
   {
    "duration": -2570,
    "start_time": "2021-07-19T17:28:09.224Z"
   },
   {
    "duration": -2572,
    "start_time": "2021-07-19T17:28:09.227Z"
   },
   {
    "duration": -2576,
    "start_time": "2021-07-19T17:28:09.233Z"
   },
   {
    "duration": -2579,
    "start_time": "2021-07-19T17:28:09.237Z"
   },
   {
    "duration": -2580,
    "start_time": "2021-07-19T17:28:09.240Z"
   },
   {
    "duration": -2583,
    "start_time": "2021-07-19T17:28:09.244Z"
   },
   {
    "duration": -2584,
    "start_time": "2021-07-19T17:28:09.247Z"
   },
   {
    "duration": -2587,
    "start_time": "2021-07-19T17:28:09.251Z"
   },
   {
    "duration": -2590,
    "start_time": "2021-07-19T17:28:09.255Z"
   },
   {
    "duration": -2590,
    "start_time": "2021-07-19T17:28:09.257Z"
   },
   {
    "duration": -2592,
    "start_time": "2021-07-19T17:28:09.260Z"
   },
   {
    "duration": -2593,
    "start_time": "2021-07-19T17:28:09.263Z"
   },
   {
    "duration": -2595,
    "start_time": "2021-07-19T17:28:09.266Z"
   },
   {
    "duration": -2596,
    "start_time": "2021-07-19T17:28:09.269Z"
   },
   {
    "duration": -2600,
    "start_time": "2021-07-19T17:28:09.274Z"
   },
   {
    "duration": -2601,
    "start_time": "2021-07-19T17:28:09.277Z"
   },
   {
    "duration": -2604,
    "start_time": "2021-07-19T17:28:09.281Z"
   },
   {
    "duration": -2606,
    "start_time": "2021-07-19T17:28:09.284Z"
   },
   {
    "duration": -2608,
    "start_time": "2021-07-19T17:28:09.288Z"
   },
   {
    "duration": -2610,
    "start_time": "2021-07-19T17:28:09.291Z"
   },
   {
    "duration": -2611,
    "start_time": "2021-07-19T17:28:09.294Z"
   },
   {
    "duration": -2613,
    "start_time": "2021-07-19T17:28:09.297Z"
   },
   {
    "duration": -2616,
    "start_time": "2021-07-19T17:28:09.301Z"
   },
   {
    "duration": -2617,
    "start_time": "2021-07-19T17:28:09.304Z"
   },
   {
    "duration": -2619,
    "start_time": "2021-07-19T17:28:09.307Z"
   },
   {
    "duration": -2628,
    "start_time": "2021-07-19T17:28:09.317Z"
   },
   {
    "duration": -2633,
    "start_time": "2021-07-19T17:28:09.324Z"
   },
   {
    "duration": -2635,
    "start_time": "2021-07-19T17:28:09.327Z"
   },
   {
    "duration": -2636,
    "start_time": "2021-07-19T17:28:09.330Z"
   },
   {
    "duration": -2640,
    "start_time": "2021-07-19T17:28:09.335Z"
   },
   {
    "duration": -2642,
    "start_time": "2021-07-19T17:28:09.338Z"
   },
   {
    "duration": -2643,
    "start_time": "2021-07-19T17:28:09.341Z"
   },
   {
    "duration": -2645,
    "start_time": "2021-07-19T17:28:09.344Z"
   },
   {
    "duration": -2646,
    "start_time": "2021-07-19T17:28:09.347Z"
   },
   {
    "duration": -2649,
    "start_time": "2021-07-19T17:28:09.351Z"
   },
   {
    "duration": -2651,
    "start_time": "2021-07-19T17:28:09.354Z"
   },
   {
    "duration": -2696,
    "start_time": "2021-07-19T17:28:09.401Z"
   },
   {
    "duration": -2698,
    "start_time": "2021-07-19T17:28:09.404Z"
   },
   {
    "duration": -2700,
    "start_time": "2021-07-19T17:28:09.407Z"
   },
   {
    "duration": -2701,
    "start_time": "2021-07-19T17:28:09.410Z"
   },
   {
    "duration": -2704,
    "start_time": "2021-07-19T17:28:09.414Z"
   },
   {
    "duration": -2706,
    "start_time": "2021-07-19T17:28:09.417Z"
   },
   {
    "duration": -2708,
    "start_time": "2021-07-19T17:28:09.421Z"
   },
   {
    "duration": -2710,
    "start_time": "2021-07-19T17:28:09.424Z"
   },
   {
    "duration": -2725,
    "start_time": "2021-07-19T17:28:09.441Z"
   },
   {
    "duration": -2731,
    "start_time": "2021-07-19T17:28:09.448Z"
   },
   {
    "duration": -2734,
    "start_time": "2021-07-19T17:28:09.452Z"
   },
   {
    "duration": -2735,
    "start_time": "2021-07-19T17:28:09.455Z"
   },
   {
    "duration": -2736,
    "start_time": "2021-07-19T17:28:09.457Z"
   },
   {
    "duration": -2744,
    "start_time": "2021-07-19T17:28:09.466Z"
   },
   {
    "duration": -2746,
    "start_time": "2021-07-19T17:28:09.470Z"
   },
   {
    "duration": -2748,
    "start_time": "2021-07-19T17:28:09.473Z"
   },
   {
    "duration": -2752,
    "start_time": "2021-07-19T17:28:09.477Z"
   },
   {
    "duration": 177,
    "start_time": "2021-07-19T17:28:27.216Z"
   },
   {
    "duration": 47,
    "start_time": "2021-07-19T17:28:40.785Z"
   },
   {
    "duration": 28,
    "start_time": "2021-07-19T17:28:57.219Z"
   },
   {
    "duration": 66,
    "start_time": "2021-07-19T17:31:57.663Z"
   },
   {
    "duration": 10,
    "start_time": "2021-07-19T17:31:57.731Z"
   },
   {
    "duration": 9,
    "start_time": "2021-07-19T17:31:57.744Z"
   },
   {
    "duration": 37,
    "start_time": "2021-07-19T17:31:57.755Z"
   },
   {
    "duration": 41,
    "start_time": "2021-07-19T17:31:57.793Z"
   },
   {
    "duration": 62,
    "start_time": "2021-07-19T17:31:57.836Z"
   },
   {
    "duration": 12,
    "start_time": "2021-07-19T17:31:57.900Z"
   },
   {
    "duration": 14,
    "start_time": "2021-07-19T17:31:57.914Z"
   },
   {
    "duration": 13,
    "start_time": "2021-07-19T17:31:57.931Z"
   },
   {
    "duration": 42,
    "start_time": "2021-07-19T17:31:57.946Z"
   },
   {
    "duration": 9,
    "start_time": "2021-07-19T17:31:57.990Z"
   },
   {
    "duration": 12,
    "start_time": "2021-07-19T17:31:58.002Z"
   },
   {
    "duration": 10,
    "start_time": "2021-07-19T17:31:58.016Z"
   },
   {
    "duration": 8,
    "start_time": "2021-07-19T17:31:58.028Z"
   },
   {
    "duration": 3,
    "start_time": "2021-07-19T17:31:58.038Z"
   },
   {
    "duration": 740,
    "start_time": "2021-07-19T17:31:58.043Z"
   },
   {
    "duration": 16,
    "start_time": "2021-07-19T17:31:58.785Z"
   },
   {
    "duration": 206,
    "start_time": "2021-07-19T17:31:58.803Z"
   },
   {
    "duration": 1415,
    "start_time": "2021-07-19T17:31:59.011Z"
   },
   {
    "duration": 1351,
    "start_time": "2021-07-19T17:32:00.427Z"
   },
   {
    "duration": 1049,
    "start_time": "2021-07-19T17:32:01.780Z"
   },
   {
    "duration": 1175,
    "start_time": "2021-07-19T17:32:02.830Z"
   },
   {
    "duration": 79,
    "start_time": "2021-07-19T17:32:04.007Z"
   },
   {
    "duration": 23006,
    "start_time": "2021-07-19T17:32:04.089Z"
   },
   {
    "duration": 11,
    "start_time": "2021-07-19T17:32:27.097Z"
   },
   {
    "duration": 15,
    "start_time": "2021-07-19T17:32:27.109Z"
   },
   {
    "duration": 8,
    "start_time": "2021-07-19T17:32:27.128Z"
   },
   {
    "duration": 8994,
    "start_time": "2021-07-19T17:32:27.139Z"
   },
   {
    "duration": 11,
    "start_time": "2021-07-19T17:32:36.135Z"
   },
   {
    "duration": 14,
    "start_time": "2021-07-19T17:32:36.148Z"
   },
   {
    "duration": 33,
    "start_time": "2021-07-19T17:32:36.163Z"
   },
   {
    "duration": 21,
    "start_time": "2021-07-19T17:32:36.198Z"
   },
   {
    "duration": 20,
    "start_time": "2021-07-19T17:32:36.221Z"
   },
   {
    "duration": 12,
    "start_time": "2021-07-19T17:32:36.242Z"
   },
   {
    "duration": 17,
    "start_time": "2021-07-19T17:32:36.285Z"
   },
   {
    "duration": 10,
    "start_time": "2021-07-19T17:32:36.303Z"
   },
   {
    "duration": 20,
    "start_time": "2021-07-19T17:32:36.315Z"
   },
   {
    "duration": 5,
    "start_time": "2021-07-19T17:32:36.336Z"
   },
   {
    "duration": 6,
    "start_time": "2021-07-19T17:32:36.343Z"
   },
   {
    "duration": 192,
    "start_time": "2021-07-19T17:32:36.351Z"
   },
   {
    "duration": 10,
    "start_time": "2021-07-19T17:32:36.544Z"
   },
   {
    "duration": 4,
    "start_time": "2021-07-19T17:32:36.556Z"
   },
   {
    "duration": 22,
    "start_time": "2021-07-19T17:32:36.562Z"
   },
   {
    "duration": 4,
    "start_time": "2021-07-19T17:32:36.586Z"
   },
   {
    "duration": 21,
    "start_time": "2021-07-19T17:32:36.591Z"
   },
   {
    "duration": 16,
    "start_time": "2021-07-19T17:32:36.613Z"
   },
   {
    "duration": 36544,
    "start_time": "2021-07-19T17:32:36.631Z"
   },
   {
    "duration": 160,
    "start_time": "2021-07-19T17:33:13.176Z"
   },
   {
    "duration": 36,
    "start_time": "2021-07-19T17:33:13.338Z"
   },
   {
    "duration": 4,
    "start_time": "2021-07-19T17:33:13.385Z"
   },
   {
    "duration": 13,
    "start_time": "2021-07-19T17:33:13.391Z"
   },
   {
    "duration": 5,
    "start_time": "2021-07-19T17:33:13.406Z"
   },
   {
    "duration": 16,
    "start_time": "2021-07-19T17:33:13.413Z"
   },
   {
    "duration": 5,
    "start_time": "2021-07-19T17:33:13.430Z"
   },
   {
    "duration": 7,
    "start_time": "2021-07-19T17:33:13.437Z"
   },
   {
    "duration": 191,
    "start_time": "2021-07-19T17:33:13.485Z"
   },
   {
    "duration": 9,
    "start_time": "2021-07-19T17:33:13.678Z"
   },
   {
    "duration": 7,
    "start_time": "2021-07-19T17:33:13.689Z"
   },
   {
    "duration": 194,
    "start_time": "2021-07-19T17:33:13.698Z"
   },
   {
    "duration": 2157,
    "start_time": "2021-07-19T17:33:13.894Z"
   },
   {
    "duration": 9,
    "start_time": "2021-07-19T17:33:16.053Z"
   },
   {
    "duration": 193,
    "start_time": "2021-07-19T17:33:16.063Z"
   },
   {
    "duration": 390,
    "start_time": "2021-07-19T17:57:29.532Z"
   },
   {
    "duration": 376,
    "start_time": "2021-07-19T17:57:43.324Z"
   },
   {
    "duration": 303,
    "start_time": "2021-07-19T17:57:50.894Z"
   },
   {
    "duration": 265,
    "start_time": "2021-07-19T17:57:56.431Z"
   },
   {
    "duration": 295,
    "start_time": "2021-07-19T17:58:16.294Z"
   },
   {
    "duration": 54,
    "start_time": "2021-07-19T17:58:23.202Z"
   },
   {
    "duration": 384,
    "start_time": "2021-07-19T18:02:35.505Z"
   },
   {
    "duration": 408,
    "start_time": "2021-07-19T18:02:59.470Z"
   },
   {
    "duration": 463,
    "start_time": "2021-07-19T18:03:21.563Z"
   },
   {
    "duration": 356,
    "start_time": "2021-07-19T18:03:29.103Z"
   },
   {
    "duration": 355,
    "start_time": "2021-07-19T18:03:51.938Z"
   },
   {
    "duration": 360,
    "start_time": "2021-07-19T18:04:36.282Z"
   },
   {
    "duration": 365,
    "start_time": "2021-07-19T18:04:47.374Z"
   },
   {
    "duration": 57,
    "start_time": "2021-07-19T18:04:57.435Z"
   },
   {
    "duration": 383,
    "start_time": "2021-07-19T18:05:04.457Z"
   },
   {
    "duration": 378,
    "start_time": "2021-07-19T18:06:29.283Z"
   },
   {
    "duration": 509,
    "start_time": "2021-07-19T18:06:37.370Z"
   },
   {
    "duration": 171,
    "start_time": "2021-07-19T18:07:35.030Z"
   },
   {
    "duration": 172,
    "start_time": "2021-07-19T18:07:53.809Z"
   },
   {
    "duration": 172,
    "start_time": "2021-07-19T18:08:28.719Z"
   },
   {
    "duration": 67,
    "start_time": "2021-07-19T18:09:02.209Z"
   },
   {
    "duration": 174,
    "start_time": "2021-07-19T18:09:09.657Z"
   },
   {
    "duration": 184,
    "start_time": "2021-07-19T18:09:39.281Z"
   },
   {
    "duration": 495,
    "start_time": "2021-07-19T18:12:11.056Z"
   },
   {
    "duration": 274,
    "start_time": "2021-07-19T18:12:17.252Z"
   },
   {
    "duration": 348,
    "start_time": "2021-07-19T18:12:35.433Z"
   },
   {
    "duration": 180,
    "start_time": "2021-07-19T18:12:51.164Z"
   },
   {
    "duration": 172,
    "start_time": "2021-07-19T18:13:11.400Z"
   },
   {
    "duration": 177,
    "start_time": "2021-07-19T18:13:52.630Z"
   },
   {
    "duration": 197,
    "start_time": "2021-07-19T18:13:59.860Z"
   },
   {
    "duration": 180,
    "start_time": "2021-07-19T18:14:07.191Z"
   },
   {
    "duration": 59,
    "start_time": "2021-07-19T18:15:46.963Z"
   },
   {
    "duration": 58,
    "start_time": "2021-07-19T18:16:27.195Z"
   },
   {
    "duration": 474,
    "start_time": "2021-07-19T21:56:16.099Z"
   },
   {
    "duration": 761,
    "start_time": "2021-07-19T21:56:29.916Z"
   },
   {
    "duration": 912,
    "start_time": "2021-07-19T21:56:41.961Z"
   },
   {
    "duration": 15,
    "start_time": "2021-07-19T21:56:42.876Z"
   },
   {
    "duration": 13,
    "start_time": "2021-07-19T21:56:42.894Z"
   },
   {
    "duration": 11,
    "start_time": "2021-07-19T21:56:42.910Z"
   },
   {
    "duration": 99,
    "start_time": "2021-07-19T21:56:42.924Z"
   },
   {
    "duration": 70,
    "start_time": "2021-07-19T21:56:43.025Z"
   },
   {
    "duration": 1109,
    "start_time": "2021-07-19T21:56:43.097Z"
   },
   {
    "duration": 1956,
    "start_time": "2021-07-19T21:56:42.257Z"
   },
   {
    "duration": 1948,
    "start_time": "2021-07-19T21:56:42.267Z"
   },
   {
    "duration": 1947,
    "start_time": "2021-07-19T21:56:42.270Z"
   },
   {
    "duration": 1941,
    "start_time": "2021-07-19T21:56:42.277Z"
   },
   {
    "duration": 1935,
    "start_time": "2021-07-19T21:56:42.284Z"
   },
   {
    "duration": 1929,
    "start_time": "2021-07-19T21:56:42.292Z"
   },
   {
    "duration": 1924,
    "start_time": "2021-07-19T21:56:42.298Z"
   },
   {
    "duration": 1919,
    "start_time": "2021-07-19T21:56:42.305Z"
   },
   {
    "duration": 1916,
    "start_time": "2021-07-19T21:56:42.309Z"
   },
   {
    "duration": 1916,
    "start_time": "2021-07-19T21:56:42.311Z"
   },
   {
    "duration": 1914,
    "start_time": "2021-07-19T21:56:42.314Z"
   },
   {
    "duration": 1913,
    "start_time": "2021-07-19T21:56:42.316Z"
   },
   {
    "duration": 1912,
    "start_time": "2021-07-19T21:56:42.319Z"
   },
   {
    "duration": 1910,
    "start_time": "2021-07-19T21:56:42.322Z"
   },
   {
    "duration": 1908,
    "start_time": "2021-07-19T21:56:42.325Z"
   },
   {
    "duration": 1907,
    "start_time": "2021-07-19T21:56:42.328Z"
   },
   {
    "duration": 1905,
    "start_time": "2021-07-19T21:56:42.331Z"
   },
   {
    "duration": 1905,
    "start_time": "2021-07-19T21:56:42.333Z"
   },
   {
    "duration": 1904,
    "start_time": "2021-07-19T21:56:42.336Z"
   },
   {
    "duration": 1904,
    "start_time": "2021-07-19T21:56:42.338Z"
   },
   {
    "duration": 1902,
    "start_time": "2021-07-19T21:56:42.341Z"
   },
   {
    "duration": 1924,
    "start_time": "2021-07-19T21:56:42.343Z"
   },
   {
    "duration": 1923,
    "start_time": "2021-07-19T21:56:42.345Z"
   },
   {
    "duration": 1921,
    "start_time": "2021-07-19T21:56:42.348Z"
   },
   {
    "duration": 1921,
    "start_time": "2021-07-19T21:56:42.350Z"
   },
   {
    "duration": 1914,
    "start_time": "2021-07-19T21:56:42.358Z"
   },
   {
    "duration": 1913,
    "start_time": "2021-07-19T21:56:42.361Z"
   },
   {
    "duration": 1911,
    "start_time": "2021-07-19T21:56:42.364Z"
   },
   {
    "duration": 1910,
    "start_time": "2021-07-19T21:56:42.367Z"
   },
   {
    "duration": 1908,
    "start_time": "2021-07-19T21:56:42.370Z"
   },
   {
    "duration": 1907,
    "start_time": "2021-07-19T21:56:42.373Z"
   },
   {
    "duration": 1906,
    "start_time": "2021-07-19T21:56:42.376Z"
   },
   {
    "duration": 1905,
    "start_time": "2021-07-19T21:56:42.378Z"
   },
   {
    "duration": 1904,
    "start_time": "2021-07-19T21:56:42.381Z"
   },
   {
    "duration": 1840,
    "start_time": "2021-07-19T21:56:42.446Z"
   },
   {
    "duration": 1626,
    "start_time": "2021-07-19T21:56:42.662Z"
   },
   {
    "duration": 1624,
    "start_time": "2021-07-19T21:56:42.665Z"
   },
   {
    "duration": 1624,
    "start_time": "2021-07-19T21:56:42.667Z"
   },
   {
    "duration": 1623,
    "start_time": "2021-07-19T21:56:42.669Z"
   },
   {
    "duration": 1622,
    "start_time": "2021-07-19T21:56:42.672Z"
   },
   {
    "duration": 1621,
    "start_time": "2021-07-19T21:56:42.675Z"
   },
   {
    "duration": 1620,
    "start_time": "2021-07-19T21:56:42.677Z"
   },
   {
    "duration": 1619,
    "start_time": "2021-07-19T21:56:42.680Z"
   },
   {
    "duration": 1618,
    "start_time": "2021-07-19T21:56:42.682Z"
   },
   {
    "duration": 1617,
    "start_time": "2021-07-19T21:56:42.685Z"
   },
   {
    "duration": 1616,
    "start_time": "2021-07-19T21:56:42.688Z"
   },
   {
    "duration": 1615,
    "start_time": "2021-07-19T21:56:42.690Z"
   },
   {
    "duration": 1674,
    "start_time": "2021-07-19T21:56:42.693Z"
   },
   {
    "duration": 1673,
    "start_time": "2021-07-19T21:56:42.696Z"
   },
   {
    "duration": 1665,
    "start_time": "2021-07-19T21:56:42.705Z"
   },
   {
    "duration": 1663,
    "start_time": "2021-07-19T21:56:42.708Z"
   },
   {
    "duration": 1661,
    "start_time": "2021-07-19T21:56:42.711Z"
   },
   {
    "duration": 1661,
    "start_time": "2021-07-19T21:56:42.713Z"
   },
   {
    "duration": 1659,
    "start_time": "2021-07-19T21:56:42.716Z"
   },
   {
    "duration": 1658,
    "start_time": "2021-07-19T21:56:42.718Z"
   },
   {
    "duration": 1658,
    "start_time": "2021-07-19T21:56:42.720Z"
   },
   {
    "duration": 1656,
    "start_time": "2021-07-19T21:56:42.723Z"
   },
   {
    "duration": 1655,
    "start_time": "2021-07-19T21:56:42.725Z"
   },
   {
    "duration": 49,
    "start_time": "2021-07-19T21:56:53.610Z"
   },
   {
    "duration": 400,
    "start_time": "2021-07-19T21:58:20.102Z"
   },
   {
    "duration": 419,
    "start_time": "2021-07-19T21:59:06.566Z"
   },
   {
    "duration": 44,
    "start_time": "2021-07-19T21:59:16.777Z"
   },
   {
    "duration": 457,
    "start_time": "2021-07-19T21:59:21.736Z"
   },
   {
    "duration": 436,
    "start_time": "2021-07-19T21:59:36.572Z"
   },
   {
    "duration": 59,
    "start_time": "2021-07-19T21:59:46.264Z"
   },
   {
    "duration": 406,
    "start_time": "2021-07-19T22:00:54.203Z"
   },
   {
    "duration": 424,
    "start_time": "2021-07-19T22:01:03.598Z"
   },
   {
    "duration": 48,
    "start_time": "2021-07-19T22:01:07.530Z"
   },
   {
    "duration": 5,
    "start_time": "2021-07-19T22:03:53.306Z"
   },
   {
    "duration": 10583,
    "start_time": "2021-07-19T22:04:09.920Z"
   },
   {
    "duration": 24,
    "start_time": "2021-07-19T22:06:35.078Z"
   },
   {
    "duration": 4,
    "start_time": "2021-07-19T22:08:10.412Z"
   },
   {
    "duration": 792,
    "start_time": "2021-07-19T22:08:18.768Z"
   },
   {
    "duration": 4,
    "start_time": "2021-07-19T22:08:29.656Z"
   },
   {
    "duration": 10,
    "start_time": "2021-07-19T22:08:32.893Z"
   },
   {
    "duration": 5,
    "start_time": "2021-07-19T22:08:44.302Z"
   },
   {
    "duration": 14,
    "start_time": "2021-07-19T22:08:46.418Z"
   },
   {
    "duration": 6,
    "start_time": "2021-07-19T22:10:42.743Z"
   },
   {
    "duration": 766,
    "start_time": "2021-07-19T22:10:43.457Z"
   },
   {
    "duration": 4,
    "start_time": "2021-07-19T22:11:01.467Z"
   },
   {
    "duration": 774,
    "start_time": "2021-07-19T22:11:04.074Z"
   },
   {
    "duration": 4,
    "start_time": "2021-07-19T22:11:18.407Z"
   },
   {
    "duration": 738,
    "start_time": "2021-07-19T22:11:20.326Z"
   },
   {
    "duration": 5,
    "start_time": "2021-07-19T22:11:30.809Z"
   },
   {
    "duration": 1009,
    "start_time": "2021-07-19T22:11:31.514Z"
   },
   {
    "duration": 5,
    "start_time": "2021-07-19T22:12:12.449Z"
   },
   {
    "duration": 791,
    "start_time": "2021-07-19T22:12:13.253Z"
   },
   {
    "duration": 4,
    "start_time": "2021-07-19T22:12:21.076Z"
   },
   {
    "duration": 767,
    "start_time": "2021-07-19T22:12:23.426Z"
   },
   {
    "duration": 4,
    "start_time": "2021-07-19T22:13:05.215Z"
   },
   {
    "duration": 9,
    "start_time": "2021-07-19T22:13:05.881Z"
   },
   {
    "duration": 5,
    "start_time": "2021-07-19T22:13:44.711Z"
   },
   {
    "duration": 9,
    "start_time": "2021-07-19T22:13:46.000Z"
   },
   {
    "duration": 4,
    "start_time": "2021-07-19T22:13:59.708Z"
   },
   {
    "duration": 15,
    "start_time": "2021-07-19T22:14:00.703Z"
   },
   {
    "duration": 5,
    "start_time": "2021-07-19T22:14:15.865Z"
   },
   {
    "duration": 890,
    "start_time": "2021-07-19T22:15:18.438Z"
   },
   {
    "duration": 16,
    "start_time": "2021-07-19T22:15:19.331Z"
   },
   {
    "duration": 26,
    "start_time": "2021-07-19T22:15:19.350Z"
   },
   {
    "duration": 12,
    "start_time": "2021-07-19T22:15:19.379Z"
   },
   {
    "duration": 91,
    "start_time": "2021-07-19T22:15:19.394Z"
   },
   {
    "duration": 89,
    "start_time": "2021-07-19T22:15:19.488Z"
   },
   {
    "duration": 72,
    "start_time": "2021-07-19T22:15:19.580Z"
   },
   {
    "duration": 35,
    "start_time": "2021-07-19T22:15:19.657Z"
   },
   {
    "duration": 30,
    "start_time": "2021-07-19T22:15:19.696Z"
   },
   {
    "duration": 63,
    "start_time": "2021-07-19T22:15:19.729Z"
   },
   {
    "duration": 9,
    "start_time": "2021-07-19T22:15:19.794Z"
   },
   {
    "duration": 8,
    "start_time": "2021-07-19T22:15:19.805Z"
   },
   {
    "duration": 11,
    "start_time": "2021-07-19T22:15:19.816Z"
   },
   {
    "duration": 10,
    "start_time": "2021-07-19T22:15:19.868Z"
   },
   {
    "duration": 13,
    "start_time": "2021-07-19T22:15:19.880Z"
   },
   {
    "duration": 5,
    "start_time": "2021-07-19T22:15:19.895Z"
   },
   {
    "duration": 12,
    "start_time": "2021-07-19T22:15:19.902Z"
   },
   {
    "duration": 1023,
    "start_time": "2021-07-19T22:15:19.916Z"
   },
   {
    "duration": 28,
    "start_time": "2021-07-19T22:15:20.941Z"
   },
   {
    "duration": 289,
    "start_time": "2021-07-19T22:15:20.971Z"
   },
   {
    "duration": 2173,
    "start_time": "2021-07-19T22:15:21.267Z"
   },
   {
    "duration": 2447,
    "start_time": "2021-07-19T22:15:23.442Z"
   },
   {
    "duration": 1802,
    "start_time": "2021-07-19T22:15:25.895Z"
   },
   {
    "duration": 1926,
    "start_time": "2021-07-19T22:15:27.701Z"
   },
   {
    "duration": 15,
    "start_time": "2021-07-19T22:15:29.630Z"
   },
   {
    "duration": 44465,
    "start_time": "2021-07-19T22:15:29.647Z"
   },
   {
    "duration": 14,
    "start_time": "2021-07-19T22:16:14.114Z"
   },
   {
    "duration": 42,
    "start_time": "2021-07-19T22:16:14.131Z"
   },
   {
    "duration": 12,
    "start_time": "2021-07-19T22:16:14.175Z"
   },
   {
    "duration": 16078,
    "start_time": "2021-07-19T22:16:14.190Z"
   },
   {
    "duration": 14,
    "start_time": "2021-07-19T22:16:30.271Z"
   },
   {
    "duration": 24,
    "start_time": "2021-07-19T22:16:30.287Z"
   },
   {
    "duration": 72,
    "start_time": "2021-07-19T22:16:30.313Z"
   },
   {
    "duration": 31,
    "start_time": "2021-07-19T22:16:30.388Z"
   },
   {
    "duration": 51,
    "start_time": "2021-07-19T22:16:30.421Z"
   },
   {
    "duration": 14,
    "start_time": "2021-07-19T22:16:30.475Z"
   },
   {
    "duration": 36,
    "start_time": "2021-07-19T22:16:30.492Z"
   },
   {
    "duration": 13,
    "start_time": "2021-07-19T22:16:30.530Z"
   },
   {
    "duration": 41,
    "start_time": "2021-07-19T22:16:30.545Z"
   },
   {
    "duration": 7,
    "start_time": "2021-07-19T22:16:30.589Z"
   },
   {
    "duration": 15,
    "start_time": "2021-07-19T22:16:30.599Z"
   },
   {
    "duration": 329,
    "start_time": "2021-07-19T22:16:30.616Z"
   },
   {
    "duration": 20,
    "start_time": "2021-07-19T22:16:30.947Z"
   },
   {
    "duration": 7,
    "start_time": "2021-07-19T22:16:30.969Z"
   },
   {
    "duration": 10,
    "start_time": "2021-07-19T22:16:30.978Z"
   },
   {
    "duration": 10,
    "start_time": "2021-07-19T22:16:30.990Z"
   },
   {
    "duration": 42,
    "start_time": "2021-07-19T22:16:31.002Z"
   },
   {
    "duration": 26,
    "start_time": "2021-07-19T22:16:31.047Z"
   },
   {
    "duration": 50998,
    "start_time": "2021-07-19T22:16:31.075Z"
   },
   {
    "duration": 278,
    "start_time": "2021-07-19T22:17:22.075Z"
   },
   {
    "duration": 60,
    "start_time": "2021-07-19T22:17:22.356Z"
   },
   {
    "duration": 4,
    "start_time": "2021-07-19T22:17:22.418Z"
   },
   {
    "duration": 21,
    "start_time": "2021-07-19T22:17:22.424Z"
   },
   {
    "duration": 10,
    "start_time": "2021-07-19T22:17:22.468Z"
   },
   {
    "duration": 22,
    "start_time": "2021-07-19T22:17:22.481Z"
   },
   {
    "duration": 5,
    "start_time": "2021-07-19T22:17:22.506Z"
   },
   {
    "duration": 12,
    "start_time": "2021-07-19T22:17:22.514Z"
   },
   {
    "duration": 319,
    "start_time": "2021-07-19T22:17:22.528Z"
   },
   {
    "duration": 525,
    "start_time": "2021-07-19T22:17:22.850Z"
   },
   {
    "duration": 7,
    "start_time": "2021-07-19T22:17:23.377Z"
   },
   {
    "duration": 14,
    "start_time": "2021-07-19T22:17:23.387Z"
   },
   {
    "duration": 310,
    "start_time": "2021-07-19T22:17:23.403Z"
   },
   {
    "duration": 303,
    "start_time": "2021-07-19T22:17:23.715Z"
   },
   {
    "duration": 3088,
    "start_time": "2021-07-19T22:17:24.020Z"
   },
   {
    "duration": 11,
    "start_time": "2021-07-19T22:17:27.110Z"
   },
   {
    "duration": 303,
    "start_time": "2021-07-19T22:17:27.124Z"
   },
   {
    "duration": 11,
    "start_time": "2021-07-19T22:35:58.416Z"
   },
   {
    "duration": 891,
    "start_time": "2021-07-19T22:36:08.062Z"
   },
   {
    "duration": 15,
    "start_time": "2021-07-19T22:36:08.956Z"
   },
   {
    "duration": 13,
    "start_time": "2021-07-19T22:36:08.974Z"
   },
   {
    "duration": 11,
    "start_time": "2021-07-19T22:36:08.990Z"
   },
   {
    "duration": 92,
    "start_time": "2021-07-19T22:36:09.003Z"
   },
   {
    "duration": 47,
    "start_time": "2021-07-19T22:36:09.097Z"
   },
   {
    "duration": 65,
    "start_time": "2021-07-19T22:36:09.147Z"
   },
   {
    "duration": 19,
    "start_time": "2021-07-19T22:36:09.216Z"
   },
   {
    "duration": 44,
    "start_time": "2021-07-19T22:36:09.238Z"
   },
   {
    "duration": 22,
    "start_time": "2021-07-19T22:36:09.285Z"
   },
   {
    "duration": 8,
    "start_time": "2021-07-19T22:36:09.310Z"
   },
   {
    "duration": 48,
    "start_time": "2021-07-19T22:36:09.320Z"
   },
   {
    "duration": 11,
    "start_time": "2021-07-19T22:36:09.370Z"
   },
   {
    "duration": 10,
    "start_time": "2021-07-19T22:36:09.384Z"
   },
   {
    "duration": 15,
    "start_time": "2021-07-19T22:36:09.396Z"
   },
   {
    "duration": 5,
    "start_time": "2021-07-19T22:36:09.413Z"
   },
   {
    "duration": 47,
    "start_time": "2021-07-19T22:36:09.420Z"
   },
   {
    "duration": 962,
    "start_time": "2021-07-19T22:36:09.470Z"
   },
   {
    "duration": 19,
    "start_time": "2021-07-19T22:36:10.434Z"
   },
   {
    "duration": 300,
    "start_time": "2021-07-19T22:36:10.467Z"
   },
   {
    "duration": 2271,
    "start_time": "2021-07-19T22:36:10.769Z"
   },
   {
    "duration": 2257,
    "start_time": "2021-07-19T22:36:13.042Z"
   },
   {
    "duration": 1818,
    "start_time": "2021-07-19T22:36:15.305Z"
   },
   {
    "duration": 2349,
    "start_time": "2021-07-19T22:36:17.127Z"
   },
   {
    "duration": 12,
    "start_time": "2021-07-19T22:36:19.479Z"
   },
   {
    "duration": 43770,
    "start_time": "2021-07-19T22:36:19.493Z"
   },
   {
    "duration": 15,
    "start_time": "2021-07-19T22:37:03.267Z"
   },
   {
    "duration": 21,
    "start_time": "2021-07-19T22:37:03.284Z"
   },
   {
    "duration": 6,
    "start_time": "2021-07-19T22:37:03.308Z"
   },
   {
    "duration": 15665,
    "start_time": "2021-07-19T22:37:03.317Z"
   },
   {
    "duration": 14,
    "start_time": "2021-07-19T22:37:18.985Z"
   },
   {
    "duration": 21,
    "start_time": "2021-07-19T22:37:19.002Z"
   },
   {
    "duration": 56,
    "start_time": "2021-07-19T22:37:19.025Z"
   },
   {
    "duration": 33,
    "start_time": "2021-07-19T22:37:19.083Z"
   },
   {
    "duration": 50,
    "start_time": "2021-07-19T22:37:19.118Z"
   },
   {
    "duration": 15,
    "start_time": "2021-07-19T22:37:19.171Z"
   },
   {
    "duration": 22,
    "start_time": "2021-07-19T22:37:19.188Z"
   },
   {
    "duration": 13,
    "start_time": "2021-07-19T22:37:19.213Z"
   },
   {
    "duration": 63,
    "start_time": "2021-07-19T22:37:19.229Z"
   },
   {
    "duration": 8,
    "start_time": "2021-07-19T22:37:19.294Z"
   },
   {
    "duration": 5,
    "start_time": "2021-07-19T22:37:19.305Z"
   },
   {
    "duration": 1025,
    "start_time": "2021-07-19T22:37:19.312Z"
   },
   {
    "duration": 1993,
    "start_time": "2021-07-19T22:37:18.346Z"
   },
   {
    "duration": 1992,
    "start_time": "2021-07-19T22:37:18.349Z"
   },
   {
    "duration": 1992,
    "start_time": "2021-07-19T22:37:18.351Z"
   },
   {
    "duration": 1991,
    "start_time": "2021-07-19T22:37:18.353Z"
   },
   {
    "duration": 1990,
    "start_time": "2021-07-19T22:37:18.356Z"
   },
   {
    "duration": 1990,
    "start_time": "2021-07-19T22:37:18.358Z"
   },
   {
    "duration": 1990,
    "start_time": "2021-07-19T22:37:18.360Z"
   },
   {
    "duration": 1989,
    "start_time": "2021-07-19T22:37:18.362Z"
   },
   {
    "duration": 1983,
    "start_time": "2021-07-19T22:37:18.369Z"
   },
   {
    "duration": 1980,
    "start_time": "2021-07-19T22:37:18.374Z"
   },
   {
    "duration": 1978,
    "start_time": "2021-07-19T22:37:18.377Z"
   },
   {
    "duration": 1978,
    "start_time": "2021-07-19T22:37:18.379Z"
   },
   {
    "duration": 1976,
    "start_time": "2021-07-19T22:37:18.382Z"
   },
   {
    "duration": 1976,
    "start_time": "2021-07-19T22:37:18.384Z"
   },
   {
    "duration": 1975,
    "start_time": "2021-07-19T22:37:18.386Z"
   },
   {
    "duration": 1975,
    "start_time": "2021-07-19T22:37:18.388Z"
   },
   {
    "duration": 1973,
    "start_time": "2021-07-19T22:37:18.391Z"
   },
   {
    "duration": 1971,
    "start_time": "2021-07-19T22:37:18.396Z"
   },
   {
    "duration": 1969,
    "start_time": "2021-07-19T22:37:18.399Z"
   },
   {
    "duration": 1969,
    "start_time": "2021-07-19T22:37:18.401Z"
   },
   {
    "duration": 1969,
    "start_time": "2021-07-19T22:37:18.403Z"
   },
   {
    "duration": 1968,
    "start_time": "2021-07-19T22:37:18.405Z"
   },
   {
    "duration": 1967,
    "start_time": "2021-07-19T22:37:18.407Z"
   },
   {
    "duration": 1966,
    "start_time": "2021-07-19T22:37:18.409Z"
   },
   {
    "duration": 505,
    "start_time": "2021-07-19T22:39:35.828Z"
   },
   {
    "duration": 515,
    "start_time": "2021-07-19T22:40:30.069Z"
   },
   {
    "duration": 415,
    "start_time": "2021-07-19T22:43:20.654Z"
   },
   {
    "duration": 1556,
    "start_time": "2021-07-19T22:48:50.250Z"
   },
   {
    "duration": 1424,
    "start_time": "2021-07-19T22:49:41.940Z"
   },
   {
    "duration": 1487,
    "start_time": "2021-07-19T22:52:22.663Z"
   },
   {
    "duration": 203,
    "start_time": "2021-07-19T22:52:39.205Z"
   },
   {
    "duration": 207,
    "start_time": "2021-07-19T22:53:12.010Z"
   },
   {
    "duration": 198,
    "start_time": "2021-07-19T22:55:04.540Z"
   },
   {
    "duration": 198,
    "start_time": "2021-07-19T22:56:58.490Z"
   },
   {
    "duration": 10,
    "start_time": "2021-07-19T22:57:14.253Z"
   },
   {
    "duration": 205,
    "start_time": "2021-07-19T22:57:25.311Z"
   },
   {
    "duration": 202,
    "start_time": "2021-07-19T22:59:00.319Z"
   },
   {
    "duration": 840,
    "start_time": "2021-07-20T07:45:27.866Z"
   },
   {
    "duration": 13,
    "start_time": "2021-07-20T07:45:28.709Z"
   },
   {
    "duration": 12,
    "start_time": "2021-07-20T07:45:28.725Z"
   },
   {
    "duration": 24,
    "start_time": "2021-07-20T07:45:28.740Z"
   },
   {
    "duration": 54,
    "start_time": "2021-07-20T07:45:28.766Z"
   },
   {
    "duration": 70,
    "start_time": "2021-07-20T07:45:28.822Z"
   },
   {
    "duration": 65,
    "start_time": "2021-07-20T07:45:28.894Z"
   },
   {
    "duration": 19,
    "start_time": "2021-07-20T07:45:28.964Z"
   },
   {
    "duration": 20,
    "start_time": "2021-07-20T07:45:28.986Z"
   },
   {
    "duration": 55,
    "start_time": "2021-07-20T07:45:29.009Z"
   },
   {
    "duration": 21,
    "start_time": "2021-07-20T07:45:29.067Z"
   },
   {
    "duration": 10,
    "start_time": "2021-07-20T07:45:29.091Z"
   },
   {
    "duration": 13,
    "start_time": "2021-07-20T07:45:29.103Z"
   },
   {
    "duration": 39,
    "start_time": "2021-07-20T07:45:29.119Z"
   },
   {
    "duration": 15,
    "start_time": "2021-07-20T07:45:29.161Z"
   },
   {
    "duration": 5,
    "start_time": "2021-07-20T07:45:29.179Z"
   },
   {
    "duration": 6,
    "start_time": "2021-07-20T07:45:29.187Z"
   },
   {
    "duration": 941,
    "start_time": "2021-07-20T07:45:29.195Z"
   },
   {
    "duration": 24,
    "start_time": "2021-07-20T07:45:30.139Z"
   },
   {
    "duration": 278,
    "start_time": "2021-07-20T07:45:30.165Z"
   },
   {
    "duration": 2202,
    "start_time": "2021-07-20T07:45:30.456Z"
   },
   {
    "duration": 2284,
    "start_time": "2021-07-20T07:45:32.661Z"
   },
   {
    "duration": 1937,
    "start_time": "2021-07-20T07:45:34.955Z"
   },
   {
    "duration": 2020,
    "start_time": "2021-07-20T07:45:36.895Z"
   },
   {
    "duration": 13,
    "start_time": "2021-07-20T07:45:38.917Z"
   },
   {
    "duration": 40159,
    "start_time": "2021-07-20T07:45:38.932Z"
   },
   {
    "duration": 13,
    "start_time": "2021-07-20T07:46:19.094Z"
   },
   {
    "duration": 23,
    "start_time": "2021-07-20T07:46:19.109Z"
   },
   {
    "duration": 25,
    "start_time": "2021-07-20T07:46:19.134Z"
   },
   {
    "duration": 14442,
    "start_time": "2021-07-20T07:46:19.161Z"
   },
   {
    "duration": 13,
    "start_time": "2021-07-20T07:46:33.605Z"
   },
   {
    "duration": 38,
    "start_time": "2021-07-20T07:46:33.620Z"
   },
   {
    "duration": 26,
    "start_time": "2021-07-20T07:46:33.660Z"
   },
   {
    "duration": 29,
    "start_time": "2021-07-20T07:46:33.688Z"
   },
   {
    "duration": 60,
    "start_time": "2021-07-20T07:46:33.719Z"
   },
   {
    "duration": 13,
    "start_time": "2021-07-20T07:46:33.781Z"
   },
   {
    "duration": 19,
    "start_time": "2021-07-20T07:46:33.797Z"
   },
   {
    "duration": 43,
    "start_time": "2021-07-20T07:46:33.819Z"
   },
   {
    "duration": 27,
    "start_time": "2021-07-20T07:46:33.864Z"
   },
   {
    "duration": 7,
    "start_time": "2021-07-20T07:46:33.893Z"
   },
   {
    "duration": 5,
    "start_time": "2021-07-20T07:46:33.902Z"
   },
   {
    "duration": 227,
    "start_time": "2021-07-20T07:46:33.909Z"
   },
   {
    "duration": 23,
    "start_time": "2021-07-20T07:46:34.138Z"
   },
   {
    "duration": 6,
    "start_time": "2021-07-20T07:46:34.163Z"
   },
   {
    "duration": 9,
    "start_time": "2021-07-20T07:46:34.172Z"
   },
   {
    "duration": 10,
    "start_time": "2021-07-20T07:46:34.184Z"
   },
   {
    "duration": 22,
    "start_time": "2021-07-20T07:46:34.196Z"
   },
   {
    "duration": 55,
    "start_time": "2021-07-20T07:46:34.220Z"
   },
   {
    "duration": 47556,
    "start_time": "2021-07-20T07:46:34.277Z"
   },
   {
    "duration": 252,
    "start_time": "2021-07-20T07:47:21.836Z"
   },
   {
    "duration": 71,
    "start_time": "2021-07-20T07:47:22.091Z"
   },
   {
    "duration": 6,
    "start_time": "2021-07-20T07:47:22.165Z"
   },
   {
    "duration": 19,
    "start_time": "2021-07-20T07:47:22.173Z"
   },
   {
    "duration": 7,
    "start_time": "2021-07-20T07:47:22.195Z"
   },
   {
    "duration": 56,
    "start_time": "2021-07-20T07:47:22.205Z"
   },
   {
    "duration": 6,
    "start_time": "2021-07-20T07:47:22.264Z"
   },
   {
    "duration": 11,
    "start_time": "2021-07-20T07:47:22.272Z"
   },
   {
    "duration": 313,
    "start_time": "2021-07-20T07:47:22.285Z"
   },
   {
    "duration": 558,
    "start_time": "2021-07-20T07:47:22.601Z"
   },
   {
    "duration": 7,
    "start_time": "2021-07-20T07:47:23.161Z"
   },
   {
    "duration": 16,
    "start_time": "2021-07-20T07:47:23.170Z"
   },
   {
    "duration": 324,
    "start_time": "2021-07-20T07:47:23.188Z"
   },
   {
    "duration": 312,
    "start_time": "2021-07-20T07:47:23.515Z"
   },
   {
    "duration": 3861,
    "start_time": "2021-07-20T07:47:23.831Z"
   },
   {
    "duration": 15,
    "start_time": "2021-07-20T07:47:27.694Z"
   },
   {
    "duration": 432,
    "start_time": "2021-07-20T07:47:27.712Z"
   },
   {
    "duration": 1307,
    "start_time": "2021-07-20T09:33:08.893Z"
   },
   {
    "duration": 201,
    "start_time": "2021-07-20T09:33:29.433Z"
   },
   {
    "duration": 203,
    "start_time": "2021-07-20T09:33:40.154Z"
   },
   {
    "duration": 10,
    "start_time": "2021-07-20T09:33:58.038Z"
   },
   {
    "duration": 83,
    "start_time": "2021-07-20T09:34:02.748Z"
   },
   {
    "duration": 200,
    "start_time": "2021-07-20T10:09:44.390Z"
   },
   {
    "duration": 201,
    "start_time": "2021-07-20T10:14:53.614Z"
   },
   {
    "duration": 540,
    "start_time": "2021-07-20T10:15:09.822Z"
   },
   {
    "duration": 201,
    "start_time": "2021-07-20T10:59:08.407Z"
   },
   {
    "duration": 461,
    "start_time": "2021-07-20T11:00:47.822Z"
   },
   {
    "duration": 474,
    "start_time": "2021-07-20T11:31:06.677Z"
   },
   {
    "duration": 204,
    "start_time": "2021-07-20T11:31:26.305Z"
   },
   {
    "duration": 210,
    "start_time": "2021-07-20T12:17:03.618Z"
   },
   {
    "duration": 207,
    "start_time": "2021-07-20T12:17:25.439Z"
   },
   {
    "duration": 14,
    "start_time": "2021-07-20T12:17:34.241Z"
   },
   {
    "duration": 13,
    "start_time": "2021-07-20T12:18:26.754Z"
   },
   {
    "duration": 19,
    "start_time": "2021-07-20T12:18:50.397Z"
   },
   {
    "duration": 333,
    "start_time": "2021-07-20T12:20:24.061Z"
   },
   {
    "duration": 285,
    "start_time": "2021-07-20T12:20:33.209Z"
   },
   {
    "duration": 13,
    "start_time": "2021-07-20T12:21:32.259Z"
   },
   {
    "duration": 8,
    "start_time": "2021-07-20T12:21:48.282Z"
   },
   {
    "duration": 6,
    "start_time": "2021-07-20T12:21:52.820Z"
   },
   {
    "duration": 17,
    "start_time": "2021-07-20T12:26:06.959Z"
   },
   {
    "duration": 26,
    "start_time": "2021-07-20T12:30:32.783Z"
   },
   {
    "duration": 4,
    "start_time": "2021-07-20T12:39:48.997Z"
   },
   {
    "duration": 9,
    "start_time": "2021-07-20T12:39:53.109Z"
   },
   {
    "duration": 26,
    "start_time": "2021-07-20T12:39:54.176Z"
   },
   {
    "duration": 853,
    "start_time": "2021-07-20T12:40:07.722Z"
   },
   {
    "duration": 16,
    "start_time": "2021-07-20T12:40:08.578Z"
   },
   {
    "duration": 15,
    "start_time": "2021-07-20T12:40:08.598Z"
   },
   {
    "duration": 47,
    "start_time": "2021-07-20T12:40:08.616Z"
   },
   {
    "duration": 56,
    "start_time": "2021-07-20T12:40:08.665Z"
   },
   {
    "duration": 76,
    "start_time": "2021-07-20T12:40:08.723Z"
   },
   {
    "duration": 60,
    "start_time": "2021-07-20T12:40:08.802Z"
   },
   {
    "duration": 18,
    "start_time": "2021-07-20T12:40:08.866Z"
   },
   {
    "duration": 19,
    "start_time": "2021-07-20T12:40:08.887Z"
   },
   {
    "duration": 52,
    "start_time": "2021-07-20T12:40:08.908Z"
   },
   {
    "duration": 9,
    "start_time": "2021-07-20T12:40:08.963Z"
   },
   {
    "duration": 9,
    "start_time": "2021-07-20T12:40:08.974Z"
   },
   {
    "duration": 12,
    "start_time": "2021-07-20T12:40:08.985Z"
   },
   {
    "duration": 13,
    "start_time": "2021-07-20T12:40:09.000Z"
   },
   {
    "duration": 46,
    "start_time": "2021-07-20T12:40:09.015Z"
   },
   {
    "duration": 5,
    "start_time": "2021-07-20T12:40:09.064Z"
   },
   {
    "duration": 5,
    "start_time": "2021-07-20T12:40:09.072Z"
   },
   {
    "duration": 953,
    "start_time": "2021-07-20T12:40:09.079Z"
   },
   {
    "duration": 27,
    "start_time": "2021-07-20T12:40:10.035Z"
   },
   {
    "duration": 279,
    "start_time": "2021-07-20T12:40:10.064Z"
   },
   {
    "duration": 2233,
    "start_time": "2021-07-20T12:40:10.345Z"
   },
   {
    "duration": 2035,
    "start_time": "2021-07-20T12:40:12.580Z"
   },
   {
    "duration": 1795,
    "start_time": "2021-07-20T12:40:14.621Z"
   },
   {
    "duration": 1814,
    "start_time": "2021-07-20T12:40:16.420Z"
   },
   {
    "duration": 19,
    "start_time": "2021-07-20T12:40:18.237Z"
   },
   {
    "duration": 40402,
    "start_time": "2021-07-20T12:40:18.259Z"
   },
   {
    "duration": 13,
    "start_time": "2021-07-20T12:40:58.663Z"
   },
   {
    "duration": 36,
    "start_time": "2021-07-20T12:40:58.678Z"
   },
   {
    "duration": 17,
    "start_time": "2021-07-20T12:40:58.716Z"
   },
   {
    "duration": 15113,
    "start_time": "2021-07-20T12:40:58.736Z"
   },
   {
    "duration": 14,
    "start_time": "2021-07-20T12:41:13.852Z"
   },
   {
    "duration": 26,
    "start_time": "2021-07-20T12:41:13.869Z"
   },
   {
    "duration": 29,
    "start_time": "2021-07-20T12:41:13.898Z"
   },
   {
    "duration": 49,
    "start_time": "2021-07-20T12:41:13.930Z"
   },
   {
    "duration": 28,
    "start_time": "2021-07-20T12:41:13.981Z"
   },
   {
    "duration": 13,
    "start_time": "2021-07-20T12:41:14.012Z"
   },
   {
    "duration": 46,
    "start_time": "2021-07-20T12:41:14.027Z"
   },
   {
    "duration": 26,
    "start_time": "2021-07-20T12:41:14.076Z"
   },
   {
    "duration": 35,
    "start_time": "2021-07-20T12:41:14.104Z"
   },
   {
    "duration": 7,
    "start_time": "2021-07-20T12:41:14.156Z"
   },
   {
    "duration": 14,
    "start_time": "2021-07-20T12:41:14.165Z"
   },
   {
    "duration": 211,
    "start_time": "2021-07-20T12:41:14.182Z"
   },
   {
    "duration": 11,
    "start_time": "2021-07-20T12:41:14.395Z"
   },
   {
    "duration": 31,
    "start_time": "2021-07-20T12:41:14.408Z"
   },
   {
    "duration": 19,
    "start_time": "2021-07-20T12:41:14.442Z"
   },
   {
    "duration": 16,
    "start_time": "2021-07-20T12:41:14.464Z"
   },
   {
    "duration": 30,
    "start_time": "2021-07-20T12:41:14.483Z"
   },
   {
    "duration": 42,
    "start_time": "2021-07-20T12:41:14.516Z"
   },
   {
    "duration": 34,
    "start_time": "2021-07-20T12:41:14.560Z"
   },
   {
    "duration": 48429,
    "start_time": "2021-07-20T12:41:14.597Z"
   },
   {
    "duration": 262,
    "start_time": "2021-07-20T12:42:03.029Z"
   },
   {
    "duration": 48,
    "start_time": "2021-07-20T12:42:03.294Z"
   },
   {
    "duration": 5,
    "start_time": "2021-07-20T12:42:03.357Z"
   },
   {
    "duration": 18,
    "start_time": "2021-07-20T12:42:03.365Z"
   },
   {
    "duration": 6,
    "start_time": "2021-07-20T12:42:03.385Z"
   },
   {
    "duration": 18,
    "start_time": "2021-07-20T12:42:03.394Z"
   },
   {
    "duration": 7,
    "start_time": "2021-07-20T12:42:03.455Z"
   },
   {
    "duration": 12,
    "start_time": "2021-07-20T12:42:03.464Z"
   },
   {
    "duration": 317,
    "start_time": "2021-07-20T12:42:03.478Z"
   },
   {
    "duration": 558,
    "start_time": "2021-07-20T12:42:03.798Z"
   },
   {
    "duration": 7,
    "start_time": "2021-07-20T12:42:04.358Z"
   },
   {
    "duration": 13,
    "start_time": "2021-07-20T12:42:04.367Z"
   },
   {
    "duration": 298,
    "start_time": "2021-07-20T12:42:04.382Z"
   },
   {
    "duration": 304,
    "start_time": "2021-07-20T12:42:04.683Z"
   },
   {
    "duration": 2874,
    "start_time": "2021-07-20T12:42:04.990Z"
   },
   {
    "duration": 12,
    "start_time": "2021-07-20T12:42:07.866Z"
   },
   {
    "duration": 288,
    "start_time": "2021-07-20T12:42:07.880Z"
   },
   {
    "duration": 27,
    "start_time": "2021-07-20T12:47:19.027Z"
   },
   {
    "duration": 21,
    "start_time": "2021-07-20T12:47:26.381Z"
   },
   {
    "duration": 390,
    "start_time": "2021-07-20T14:04:32.750Z"
   },
   {
    "duration": 364,
    "start_time": "2021-07-20T14:04:52.040Z"
   },
   {
    "duration": 2923,
    "start_time": "2021-07-20T14:05:12.373Z"
   },
   {
    "duration": 84,
    "start_time": "2021-07-20T14:06:51.221Z"
   },
   {
    "duration": 4,
    "start_time": "2021-07-20T14:26:59.484Z"
   },
   {
    "duration": 98,
    "start_time": "2021-07-20T14:27:12.193Z"
   },
   {
    "duration": 6,
    "start_time": "2021-07-20T14:27:16.761Z"
   },
   {
    "duration": 5,
    "start_time": "2021-07-20T14:27:21.036Z"
   },
   {
    "duration": 5,
    "start_time": "2021-07-20T14:27:42.870Z"
   },
   {
    "duration": 4,
    "start_time": "2021-07-20T14:37:26.652Z"
   },
   {
    "duration": 97,
    "start_time": "2021-07-20T14:37:33.928Z"
   },
   {
    "duration": 389,
    "start_time": "2021-07-20T14:37:41.702Z"
   },
   {
    "duration": 347,
    "start_time": "2021-07-20T14:37:45.636Z"
   },
   {
    "duration": 7,
    "start_time": "2021-07-20T14:37:49.181Z"
   },
   {
    "duration": 264,
    "start_time": "2021-07-20T14:37:58.323Z"
   },
   {
    "duration": 5,
    "start_time": "2021-07-20T14:38:04.922Z"
   },
   {
    "duration": 6,
    "start_time": "2021-07-20T14:38:08.656Z"
   },
   {
    "duration": 7,
    "start_time": "2021-07-20T14:38:12.516Z"
   },
   {
    "duration": 301,
    "start_time": "2021-07-20T14:42:53.207Z"
   },
   {
    "duration": 243,
    "start_time": "2021-07-20T14:44:39.085Z"
   },
   {
    "duration": 14,
    "start_time": "2021-07-20T14:45:35.122Z"
   },
   {
    "duration": 269,
    "start_time": "2021-07-20T14:46:40.342Z"
   },
   {
    "duration": 43,
    "start_time": "2021-07-20T14:46:57.445Z"
   },
   {
    "duration": 17,
    "start_time": "2021-07-20T14:47:19.027Z"
   },
   {
    "duration": 42,
    "start_time": "2021-07-20T15:02:49.601Z"
   },
   {
    "duration": 95,
    "start_time": "2021-07-20T15:07:07.799Z"
   },
   {
    "duration": 95,
    "start_time": "2021-07-20T15:07:48.422Z"
   },
   {
    "duration": 128,
    "start_time": "2021-07-20T15:08:06.534Z"
   },
   {
    "duration": 340,
    "start_time": "2021-07-20T15:09:16.674Z"
   },
   {
    "duration": 353,
    "start_time": "2021-07-20T15:09:31.750Z"
   },
   {
    "duration": 359,
    "start_time": "2021-07-20T15:09:50.133Z"
   },
   {
    "duration": 398,
    "start_time": "2021-07-20T15:12:27.206Z"
   },
   {
    "duration": 367,
    "start_time": "2021-07-20T15:14:05.192Z"
   },
   {
    "duration": 115,
    "start_time": "2021-07-20T15:14:25.832Z"
   },
   {
    "duration": 99,
    "start_time": "2021-07-20T15:16:51.995Z"
   },
   {
    "duration": 92,
    "start_time": "2021-07-20T15:17:13.321Z"
   },
   {
    "duration": 88,
    "start_time": "2021-07-20T15:17:19.095Z"
   },
   {
    "duration": 97,
    "start_time": "2021-07-20T15:18:28.843Z"
   },
   {
    "duration": 96,
    "start_time": "2021-07-20T15:18:33.953Z"
   },
   {
    "duration": 590,
    "start_time": "2021-07-20T15:19:34.285Z"
   },
   {
    "duration": 94,
    "start_time": "2021-07-20T15:19:45.489Z"
   },
   {
    "duration": 89,
    "start_time": "2021-07-20T15:21:17.707Z"
   },
   {
    "duration": 93,
    "start_time": "2021-07-20T15:21:23.443Z"
   },
   {
    "duration": 743,
    "start_time": "2021-07-20T15:23:15.007Z"
   },
   {
    "duration": 718,
    "start_time": "2021-07-20T15:24:04.333Z"
   },
   {
    "duration": 349,
    "start_time": "2021-07-20T15:24:51.249Z"
   },
   {
    "duration": 98,
    "start_time": "2021-07-20T15:25:19.346Z"
   },
   {
    "duration": 97,
    "start_time": "2021-07-20T15:25:37.574Z"
   },
   {
    "duration": 104,
    "start_time": "2021-07-20T15:26:19.941Z"
   },
   {
    "duration": 102,
    "start_time": "2021-07-20T15:26:52.366Z"
   },
   {
    "duration": 98,
    "start_time": "2021-07-20T15:26:59.648Z"
   },
   {
    "duration": 437,
    "start_time": "2021-07-20T15:27:32.773Z"
   },
   {
    "duration": 97,
    "start_time": "2021-07-20T15:28:48.964Z"
   },
   {
    "duration": 419,
    "start_time": "2021-07-20T15:29:03.527Z"
   },
   {
    "duration": 398,
    "start_time": "2021-07-20T15:29:22.435Z"
   },
   {
    "duration": 404,
    "start_time": "2021-07-20T15:30:30.945Z"
   },
   {
    "duration": 466,
    "start_time": "2021-07-20T15:33:26.539Z"
   },
   {
    "duration": 103,
    "start_time": "2021-07-20T18:04:54.122Z"
   },
   {
    "duration": 90,
    "start_time": "2021-07-20T19:25:15.631Z"
   },
   {
    "duration": 338,
    "start_time": "2021-07-20T19:26:39.890Z"
   },
   {
    "duration": 860,
    "start_time": "2021-07-20T19:26:43.254Z"
   },
   {
    "duration": 14,
    "start_time": "2021-07-20T19:26:44.117Z"
   },
   {
    "duration": 27,
    "start_time": "2021-07-20T19:26:44.134Z"
   },
   {
    "duration": 12,
    "start_time": "2021-07-20T19:26:44.165Z"
   },
   {
    "duration": 84,
    "start_time": "2021-07-20T19:26:44.180Z"
   },
   {
    "duration": 46,
    "start_time": "2021-07-20T19:26:44.267Z"
   },
   {
    "duration": 69,
    "start_time": "2021-07-20T19:26:44.316Z"
   },
   {
    "duration": 18,
    "start_time": "2021-07-20T19:26:44.389Z"
   },
   {
    "duration": 18,
    "start_time": "2021-07-20T19:26:44.410Z"
   },
   {
    "duration": 53,
    "start_time": "2021-07-20T19:26:44.430Z"
   },
   {
    "duration": 9,
    "start_time": "2021-07-20T19:26:44.485Z"
   },
   {
    "duration": 8,
    "start_time": "2021-07-20T19:26:44.496Z"
   },
   {
    "duration": 10,
    "start_time": "2021-07-20T19:26:44.507Z"
   },
   {
    "duration": 14,
    "start_time": "2021-07-20T19:26:44.560Z"
   },
   {
    "duration": 11,
    "start_time": "2021-07-20T19:26:44.577Z"
   },
   {
    "duration": 6,
    "start_time": "2021-07-20T19:26:44.591Z"
   },
   {
    "duration": 7,
    "start_time": "2021-07-20T19:26:44.599Z"
   },
   {
    "duration": 984,
    "start_time": "2021-07-20T19:26:44.609Z"
   },
   {
    "duration": 17,
    "start_time": "2021-07-20T19:26:45.595Z"
   },
   {
    "duration": 286,
    "start_time": "2021-07-20T19:26:45.614Z"
   },
   {
    "duration": 2329,
    "start_time": "2021-07-20T19:26:45.903Z"
   },
   {
    "duration": 2216,
    "start_time": "2021-07-20T19:26:48.234Z"
   },
   {
    "duration": 1694,
    "start_time": "2021-07-20T19:26:50.462Z"
   },
   {
    "duration": 1913,
    "start_time": "2021-07-20T19:26:52.161Z"
   },
   {
    "duration": 12,
    "start_time": "2021-07-20T19:26:54.077Z"
   },
   {
    "duration": 43109,
    "start_time": "2021-07-20T19:26:54.091Z"
   },
   {
    "duration": 15,
    "start_time": "2021-07-20T19:27:37.202Z"
   },
   {
    "duration": 39,
    "start_time": "2021-07-20T19:27:37.219Z"
   },
   {
    "duration": 6,
    "start_time": "2021-07-20T19:27:37.262Z"
   },
   {
    "duration": 15210,
    "start_time": "2021-07-20T19:27:37.271Z"
   },
   {
    "duration": 14,
    "start_time": "2021-07-20T19:27:52.483Z"
   },
   {
    "duration": 20,
    "start_time": "2021-07-20T19:27:52.500Z"
   },
   {
    "duration": 57,
    "start_time": "2021-07-20T19:27:52.522Z"
   },
   {
    "duration": 31,
    "start_time": "2021-07-20T19:27:52.581Z"
   },
   {
    "duration": 60,
    "start_time": "2021-07-20T19:27:52.615Z"
   },
   {
    "duration": 17,
    "start_time": "2021-07-20T19:27:52.679Z"
   },
   {
    "duration": 21,
    "start_time": "2021-07-20T19:27:52.698Z"
   },
   {
    "duration": 46,
    "start_time": "2021-07-20T19:27:52.722Z"
   },
   {
    "duration": 27,
    "start_time": "2021-07-20T19:27:52.771Z"
   },
   {
    "duration": 6,
    "start_time": "2021-07-20T19:27:52.800Z"
   },
   {
    "duration": 5,
    "start_time": "2021-07-20T19:27:52.809Z"
   },
   {
    "duration": 232,
    "start_time": "2021-07-20T19:27:52.816Z"
   },
   {
    "duration": 18,
    "start_time": "2021-07-20T19:27:53.051Z"
   },
   {
    "duration": 21,
    "start_time": "2021-07-20T19:27:53.073Z"
   },
   {
    "duration": 20,
    "start_time": "2021-07-20T19:27:53.097Z"
   },
   {
    "duration": 47,
    "start_time": "2021-07-20T19:27:53.119Z"
   },
   {
    "duration": 8,
    "start_time": "2021-07-20T19:27:53.169Z"
   },
   {
    "duration": 7,
    "start_time": "2021-07-20T19:27:53.179Z"
   },
   {
    "duration": 21,
    "start_time": "2021-07-20T19:27:53.188Z"
   },
   {
    "duration": 69,
    "start_time": "2021-07-20T19:27:53.212Z"
   },
   {
    "duration": 50370,
    "start_time": "2021-07-20T19:27:53.283Z"
   },
   {
    "duration": 302,
    "start_time": "2021-07-20T19:28:43.657Z"
   },
   {
    "duration": 51,
    "start_time": "2021-07-20T19:28:43.962Z"
   },
   {
    "duration": 6,
    "start_time": "2021-07-20T19:28:44.015Z"
   },
   {
    "duration": 50,
    "start_time": "2021-07-20T19:28:44.023Z"
   },
   {
    "duration": 5,
    "start_time": "2021-07-20T19:28:44.075Z"
   },
   {
    "duration": 18,
    "start_time": "2021-07-20T19:28:44.083Z"
   },
   {
    "duration": 7,
    "start_time": "2021-07-20T19:28:44.103Z"
   },
   {
    "duration": 55,
    "start_time": "2021-07-20T19:28:44.112Z"
   },
   {
    "duration": 299,
    "start_time": "2021-07-20T19:28:44.169Z"
   },
   {
    "duration": 496,
    "start_time": "2021-07-20T19:28:44.471Z"
   },
   {
    "duration": 8,
    "start_time": "2021-07-20T19:28:44.970Z"
   },
   {
    "duration": 16,
    "start_time": "2021-07-20T19:28:44.981Z"
   },
   {
    "duration": 418,
    "start_time": "2021-07-20T19:28:45.000Z"
   },
   {
    "duration": 432,
    "start_time": "2021-07-20T19:28:45.420Z"
   },
   {
    "duration": 3051,
    "start_time": "2021-07-20T19:28:45.855Z"
   },
   {
    "duration": 112,
    "start_time": "2021-07-20T19:28:48.908Z"
   },
   {
    "duration": 422,
    "start_time": "2021-07-20T19:28:49.027Z"
   },
   {
    "duration": 16,
    "start_time": "2021-07-20T19:28:49.451Z"
   },
   {
    "duration": 384,
    "start_time": "2021-07-20T19:28:49.471Z"
   },
   {
    "duration": 364,
    "start_time": "2021-07-22T15:43:56.876Z"
   },
   {
    "duration": 6,
    "start_time": "2021-07-23T14:45:14.922Z"
   },
   {
    "duration": 419,
    "start_time": "2021-07-23T14:45:16.385Z"
   },
   {
    "duration": 849,
    "start_time": "2021-07-23T14:46:08.582Z"
   },
   {
    "duration": 16,
    "start_time": "2021-07-23T14:46:09.434Z"
   },
   {
    "duration": 13,
    "start_time": "2021-07-23T14:46:09.461Z"
   },
   {
    "duration": 12,
    "start_time": "2021-07-23T14:46:09.477Z"
   },
   {
    "duration": 88,
    "start_time": "2021-07-23T14:46:09.492Z"
   },
   {
    "duration": 48,
    "start_time": "2021-07-23T14:46:09.582Z"
   },
   {
    "duration": 66,
    "start_time": "2021-07-23T14:46:09.632Z"
   },
   {
    "duration": 18,
    "start_time": "2021-07-23T14:46:09.702Z"
   },
   {
    "duration": 42,
    "start_time": "2021-07-23T14:46:09.723Z"
   },
   {
    "duration": 23,
    "start_time": "2021-07-23T14:46:09.767Z"
   },
   {
    "duration": 16,
    "start_time": "2021-07-23T14:46:09.793Z"
   },
   {
    "duration": 11,
    "start_time": "2021-07-23T14:46:09.811Z"
   },
   {
    "duration": 39,
    "start_time": "2021-07-23T14:46:09.824Z"
   },
   {
    "duration": 9,
    "start_time": "2021-07-23T14:46:09.866Z"
   },
   {
    "duration": 16,
    "start_time": "2021-07-23T14:46:09.878Z"
   },
   {
    "duration": 7,
    "start_time": "2021-07-23T14:46:09.896Z"
   },
   {
    "duration": 11,
    "start_time": "2021-07-23T14:46:09.905Z"
   },
   {
    "duration": 957,
    "start_time": "2021-07-23T14:46:09.918Z"
   },
   {
    "duration": 18,
    "start_time": "2021-07-23T14:46:10.877Z"
   },
   {
    "duration": 303,
    "start_time": "2021-07-23T14:46:10.897Z"
   },
   {
    "duration": 2233,
    "start_time": "2021-07-23T14:46:11.202Z"
   },
   {
    "duration": 2532,
    "start_time": "2021-07-23T14:46:13.438Z"
   },
   {
    "duration": 2046,
    "start_time": "2021-07-23T14:46:15.975Z"
   },
   {
    "duration": 1943,
    "start_time": "2021-07-23T14:46:18.023Z"
   },
   {
    "duration": 12,
    "start_time": "2021-07-23T14:46:19.968Z"
   },
   {
    "duration": 42289,
    "start_time": "2021-07-23T14:46:19.982Z"
   },
   {
    "duration": 14,
    "start_time": "2021-07-23T14:47:02.273Z"
   },
   {
    "duration": 20,
    "start_time": "2021-07-23T14:47:02.289Z"
   },
   {
    "duration": 10,
    "start_time": "2021-07-23T14:47:02.311Z"
   },
   {
    "duration": 15507,
    "start_time": "2021-07-23T14:47:05.635Z"
   },
   {
    "duration": 15,
    "start_time": "2021-07-23T14:47:53.700Z"
   },
   {
    "duration": 23,
    "start_time": "2021-07-23T14:47:53.718Z"
   },
   {
    "duration": 27,
    "start_time": "2021-07-23T14:47:53.743Z"
   },
   {
    "duration": 34,
    "start_time": "2021-07-23T14:47:53.774Z"
   },
   {
    "duration": 69,
    "start_time": "2021-07-23T14:47:53.812Z"
   },
   {
    "duration": 15,
    "start_time": "2021-07-23T14:47:53.883Z"
   },
   {
    "duration": 21,
    "start_time": "2021-07-23T14:47:53.900Z"
   },
   {
    "duration": 44,
    "start_time": "2021-07-23T14:47:53.924Z"
   },
   {
    "duration": 26,
    "start_time": "2021-07-23T14:47:53.970Z"
   },
   {
    "duration": 8,
    "start_time": "2021-07-23T14:47:53.999Z"
   },
   {
    "duration": 15,
    "start_time": "2021-07-23T14:47:54.009Z"
   },
   {
    "duration": 231,
    "start_time": "2021-07-23T14:47:54.027Z"
   },
   {
    "duration": 12,
    "start_time": "2021-07-23T14:47:54.262Z"
   },
   {
    "duration": 27,
    "start_time": "2021-07-23T14:47:54.276Z"
   },
   {
    "duration": 19,
    "start_time": "2021-07-23T14:47:54.306Z"
   },
   {
    "duration": 36,
    "start_time": "2021-07-23T14:47:54.327Z"
   },
   {
    "duration": 6,
    "start_time": "2021-07-23T14:47:54.366Z"
   },
   {
    "duration": 12,
    "start_time": "2021-07-23T14:47:54.374Z"
   },
   {
    "duration": 24,
    "start_time": "2021-07-23T14:47:54.389Z"
   },
   {
    "duration": 65,
    "start_time": "2021-07-23T14:47:54.416Z"
   },
   {
    "duration": 50690,
    "start_time": "2021-07-23T14:47:54.484Z"
   },
   {
    "duration": 690,
    "start_time": "2021-07-23T14:48:45.177Z"
   },
   {
    "duration": 122,
    "start_time": "2021-07-23T14:48:45.875Z"
   },
   {
    "duration": 6,
    "start_time": "2021-07-23T14:48:46.001Z"
   },
   {
    "duration": 54,
    "start_time": "2021-07-23T14:48:46.010Z"
   },
   {
    "duration": 6,
    "start_time": "2021-07-23T14:48:46.068Z"
   },
   {
    "duration": 23,
    "start_time": "2021-07-23T14:48:46.077Z"
   },
   {
    "duration": 6,
    "start_time": "2021-07-23T14:48:46.103Z"
   },
   {
    "duration": 13,
    "start_time": "2021-07-23T14:48:46.112Z"
   },
   {
    "duration": 448,
    "start_time": "2021-07-23T14:48:46.163Z"
   },
   {
    "duration": 660,
    "start_time": "2021-07-23T14:48:46.614Z"
   },
   {
    "duration": 10,
    "start_time": "2021-07-23T14:48:47.277Z"
   },
   {
    "duration": 28,
    "start_time": "2021-07-23T14:48:47.289Z"
   },
   {
    "duration": 436,
    "start_time": "2021-07-23T14:48:47.320Z"
   },
   {
    "duration": 446,
    "start_time": "2021-07-23T14:48:47.762Z"
   },
   {
    "duration": 3996,
    "start_time": "2021-07-23T14:48:48.211Z"
   },
   {
    "duration": 157,
    "start_time": "2021-07-23T14:48:52.211Z"
   },
   {
    "duration": 603,
    "start_time": "2021-07-23T14:48:52.371Z"
   },
   {
    "duration": 16,
    "start_time": "2021-07-23T14:48:52.977Z"
   },
   {
    "duration": 535,
    "start_time": "2021-07-23T14:48:52.996Z"
   },
   {
    "duration": 1069,
    "start_time": "2021-07-23T17:32:28.111Z"
   },
   {
    "duration": 16,
    "start_time": "2021-07-23T17:32:29.183Z"
   },
   {
    "duration": 438,
    "start_time": "2021-07-23T17:32:29.202Z"
   },
   {
    "duration": 22,
    "start_time": "2021-07-23T17:32:29.643Z"
   },
   {
    "duration": 73,
    "start_time": "2021-07-23T17:32:29.667Z"
   },
   {
    "duration": 65,
    "start_time": "2021-07-23T17:32:29.743Z"
   },
   {
    "duration": 77,
    "start_time": "2021-07-23T17:32:29.811Z"
   },
   {
    "duration": 20,
    "start_time": "2021-07-23T17:32:29.891Z"
   },
   {
    "duration": 51,
    "start_time": "2021-07-23T17:32:29.914Z"
   },
   {
    "duration": 45,
    "start_time": "2021-07-23T17:32:29.967Z"
   },
   {
    "duration": 85,
    "start_time": "2021-07-23T17:32:30.014Z"
   },
   {
    "duration": 38,
    "start_time": "2021-07-23T17:32:30.101Z"
   },
   {
    "duration": 74,
    "start_time": "2021-07-23T17:32:30.142Z"
   },
   {
    "duration": 60,
    "start_time": "2021-07-23T17:32:30.218Z"
   },
   {
    "duration": 48,
    "start_time": "2021-07-23T17:32:30.280Z"
   },
   {
    "duration": 18,
    "start_time": "2021-07-23T17:32:30.330Z"
   },
   {
    "duration": 32,
    "start_time": "2021-07-23T17:32:30.351Z"
   },
   {
    "duration": 1034,
    "start_time": "2021-07-23T17:32:30.386Z"
   },
   {
    "duration": 18,
    "start_time": "2021-07-23T17:32:31.423Z"
   },
   {
    "duration": 339,
    "start_time": "2021-07-23T17:32:31.444Z"
   },
   {
    "duration": 2444,
    "start_time": "2021-07-23T17:32:31.785Z"
   },
   {
    "duration": 2566,
    "start_time": "2021-07-23T17:32:34.231Z"
   },
   {
    "duration": 1797,
    "start_time": "2021-07-23T17:32:36.801Z"
   },
   {
    "duration": 1935,
    "start_time": "2021-07-23T17:32:38.601Z"
   },
   {
    "duration": 12,
    "start_time": "2021-07-23T17:32:40.538Z"
   },
   {
    "duration": 43977,
    "start_time": "2021-07-23T17:32:40.563Z"
   },
   {
    "duration": 26,
    "start_time": "2021-07-23T17:33:24.543Z"
   },
   {
    "duration": 21,
    "start_time": "2021-07-23T17:33:24.572Z"
   },
   {
    "duration": 29,
    "start_time": "2021-07-23T17:33:33.406Z"
   },
   {
    "duration": 17,
    "start_time": "2021-07-23T17:33:38.236Z"
   },
   {
    "duration": 16,
    "start_time": "2021-07-23T17:33:43.954Z"
   },
   {
    "duration": 25,
    "start_time": "2021-07-23T17:33:49.628Z"
   },
   {
    "duration": 46,
    "start_time": "2021-07-23T17:34:10.600Z"
   },
   {
    "duration": 44,
    "start_time": "2021-07-23T17:34:15.164Z"
   },
   {
    "duration": 22,
    "start_time": "2021-07-23T17:34:17.861Z"
   },
   {
    "duration": 21,
    "start_time": "2021-07-23T17:34:22.602Z"
   },
   {
    "duration": 13,
    "start_time": "2021-07-23T17:34:33.264Z"
   },
   {
    "duration": 27,
    "start_time": "2021-07-23T17:34:37.119Z"
   },
   {
    "duration": 836,
    "start_time": "2021-07-23T17:41:13.009Z"
   },
   {
    "duration": 21,
    "start_time": "2021-07-23T17:41:13.851Z"
   },
   {
    "duration": 12,
    "start_time": "2021-07-23T17:41:13.875Z"
   },
   {
    "duration": 18,
    "start_time": "2021-07-23T17:41:13.890Z"
   },
   {
    "duration": 91,
    "start_time": "2021-07-23T17:41:13.911Z"
   },
   {
    "duration": 60,
    "start_time": "2021-07-23T17:41:14.005Z"
   },
   {
    "duration": 47,
    "start_time": "2021-07-23T17:41:14.067Z"
   },
   {
    "duration": 46,
    "start_time": "2021-07-23T17:41:14.118Z"
   },
   {
    "duration": 21,
    "start_time": "2021-07-23T17:41:14.168Z"
   },
   {
    "duration": 21,
    "start_time": "2021-07-23T17:41:14.192Z"
   },
   {
    "duration": 11,
    "start_time": "2021-07-23T17:41:14.216Z"
   },
   {
    "duration": 9,
    "start_time": "2021-07-23T17:41:14.262Z"
   },
   {
    "duration": 12,
    "start_time": "2021-07-23T17:41:14.273Z"
   },
   {
    "duration": 11,
    "start_time": "2021-07-23T17:41:14.288Z"
   },
   {
    "duration": 22,
    "start_time": "2021-07-23T17:41:14.303Z"
   },
   {
    "duration": 39,
    "start_time": "2021-07-23T17:41:14.328Z"
   },
   {
    "duration": 10,
    "start_time": "2021-07-23T17:41:14.370Z"
   },
   {
    "duration": 1346,
    "start_time": "2021-07-23T17:41:14.384Z"
   },
   {
    "duration": 29,
    "start_time": "2021-07-23T17:41:15.733Z"
   },
   {
    "duration": 297,
    "start_time": "2021-07-23T17:41:15.765Z"
   },
   {
    "duration": 2336,
    "start_time": "2021-07-23T17:41:16.064Z"
   },
   {
    "duration": 2291,
    "start_time": "2021-07-23T17:41:18.403Z"
   },
   {
    "duration": 1794,
    "start_time": "2021-07-23T17:41:20.696Z"
   },
   {
    "duration": 2024,
    "start_time": "2021-07-23T17:41:22.493Z"
   },
   {
    "duration": 12,
    "start_time": "2021-07-23T17:41:24.519Z"
   },
   {
    "duration": 24219,
    "start_time": "2021-07-23T17:41:24.537Z"
   },
   {
    "duration": -624,
    "start_time": "2021-07-23T17:41:49.385Z"
   },
   {
    "duration": -627,
    "start_time": "2021-07-23T17:41:49.389Z"
   },
   {
    "duration": -630,
    "start_time": "2021-07-23T17:41:49.393Z"
   },
   {
    "duration": -635,
    "start_time": "2021-07-23T17:41:49.400Z"
   },
   {
    "duration": -638,
    "start_time": "2021-07-23T17:41:49.404Z"
   },
   {
    "duration": -639,
    "start_time": "2021-07-23T17:41:49.407Z"
   },
   {
    "duration": -642,
    "start_time": "2021-07-23T17:41:49.411Z"
   },
   {
    "duration": -644,
    "start_time": "2021-07-23T17:41:49.414Z"
   },
   {
    "duration": -645,
    "start_time": "2021-07-23T17:41:49.417Z"
   },
   {
    "duration": -647,
    "start_time": "2021-07-23T17:41:49.420Z"
   },
   {
    "duration": -649,
    "start_time": "2021-07-23T17:41:49.423Z"
   },
   {
    "duration": -650,
    "start_time": "2021-07-23T17:41:49.426Z"
   },
   {
    "duration": -653,
    "start_time": "2021-07-23T17:41:49.430Z"
   },
   {
    "duration": -655,
    "start_time": "2021-07-23T17:41:49.433Z"
   },
   {
    "duration": -657,
    "start_time": "2021-07-23T17:41:49.436Z"
   },
   {
    "duration": -658,
    "start_time": "2021-07-23T17:41:49.439Z"
   },
   {
    "duration": -660,
    "start_time": "2021-07-23T17:41:49.442Z"
   },
   {
    "duration": -665,
    "start_time": "2021-07-23T17:41:49.449Z"
   },
   {
    "duration": -668,
    "start_time": "2021-07-23T17:41:49.453Z"
   },
   {
    "duration": -669,
    "start_time": "2021-07-23T17:41:49.455Z"
   },
   {
    "duration": -671,
    "start_time": "2021-07-23T17:41:49.459Z"
   },
   {
    "duration": -672,
    "start_time": "2021-07-23T17:41:49.461Z"
   },
   {
    "duration": -674,
    "start_time": "2021-07-23T17:41:49.464Z"
   },
   {
    "duration": -676,
    "start_time": "2021-07-23T17:41:49.467Z"
   },
   {
    "duration": -677,
    "start_time": "2021-07-23T17:41:49.470Z"
   },
   {
    "duration": -679,
    "start_time": "2021-07-23T17:41:49.473Z"
   },
   {
    "duration": -681,
    "start_time": "2021-07-23T17:41:49.476Z"
   },
   {
    "duration": -682,
    "start_time": "2021-07-23T17:41:49.478Z"
   },
   {
    "duration": -684,
    "start_time": "2021-07-23T17:41:49.482Z"
   },
   {
    "duration": -686,
    "start_time": "2021-07-23T17:41:49.485Z"
   },
   {
    "duration": -688,
    "start_time": "2021-07-23T17:41:49.488Z"
   },
   {
    "duration": -696,
    "start_time": "2021-07-23T17:41:49.498Z"
   },
   {
    "duration": -699,
    "start_time": "2021-07-23T17:41:49.502Z"
   },
   {
    "duration": -701,
    "start_time": "2021-07-23T17:41:49.505Z"
   },
   {
    "duration": -648,
    "start_time": "2021-07-23T17:41:49.509Z"
   },
   {
    "duration": -648,
    "start_time": "2021-07-23T17:41:49.511Z"
   },
   {
    "duration": -650,
    "start_time": "2021-07-23T17:41:49.514Z"
   },
   {
    "duration": -652,
    "start_time": "2021-07-23T17:41:49.517Z"
   },
   {
    "duration": -652,
    "start_time": "2021-07-23T17:41:49.519Z"
   },
   {
    "duration": -653,
    "start_time": "2021-07-23T17:41:49.521Z"
   },
   {
    "duration": -654,
    "start_time": "2021-07-23T17:41:49.524Z"
   },
   {
    "duration": -655,
    "start_time": "2021-07-23T17:41:49.526Z"
   },
   {
    "duration": -657,
    "start_time": "2021-07-23T17:41:49.529Z"
   },
   {
    "duration": -658,
    "start_time": "2021-07-23T17:41:49.532Z"
   },
   {
    "duration": -659,
    "start_time": "2021-07-23T17:41:49.534Z"
   },
   {
    "duration": 1792,
    "start_time": "2021-07-23T17:44:42.451Z"
   },
   {
    "duration": 11,
    "start_time": "2021-07-23T17:45:18.957Z"
   },
   {
    "duration": 1486,
    "start_time": "2021-07-23T17:45:35.269Z"
   },
   {
    "duration": 112,
    "start_time": "2021-07-23T17:46:18.517Z"
   },
   {
    "duration": 1575,
    "start_time": "2021-07-23T17:46:24.456Z"
   },
   {
    "duration": 6494,
    "start_time": "2021-07-23T17:46:38.059Z"
   },
   {
    "duration": 400,
    "start_time": "2021-07-23T17:46:53.219Z"
   },
   {
    "duration": 1846,
    "start_time": "2021-07-23T17:47:11.896Z"
   },
   {
    "duration": 1643,
    "start_time": "2021-07-23T17:47:49.129Z"
   },
   {
    "duration": 2167,
    "start_time": "2021-07-23T17:48:10.280Z"
   },
   {
    "duration": 934,
    "start_time": "2021-07-24T05:00:29.146Z"
   },
   {
    "duration": 15,
    "start_time": "2021-07-24T05:00:30.083Z"
   },
   {
    "duration": 20,
    "start_time": "2021-07-24T05:00:30.102Z"
   },
   {
    "duration": 13,
    "start_time": "2021-07-24T05:00:30.125Z"
   },
   {
    "duration": 59,
    "start_time": "2021-07-24T05:00:30.161Z"
   },
   {
    "duration": 69,
    "start_time": "2021-07-24T05:00:30.222Z"
   },
   {
    "duration": 48,
    "start_time": "2021-07-24T05:00:30.294Z"
   },
   {
    "duration": 20,
    "start_time": "2021-07-24T05:00:30.363Z"
   },
   {
    "duration": 20,
    "start_time": "2021-07-24T05:00:30.386Z"
   },
   {
    "duration": 31,
    "start_time": "2021-07-24T05:00:30.409Z"
   },
   {
    "duration": 9,
    "start_time": "2021-07-24T05:00:30.463Z"
   },
   {
    "duration": 21,
    "start_time": "2021-07-24T05:00:30.475Z"
   },
   {
    "duration": 14,
    "start_time": "2021-07-24T05:00:30.499Z"
   },
   {
    "duration": 14,
    "start_time": "2021-07-24T05:00:30.515Z"
   },
   {
    "duration": 41,
    "start_time": "2021-07-24T05:00:30.532Z"
   },
   {
    "duration": 7,
    "start_time": "2021-07-24T05:00:30.575Z"
   },
   {
    "duration": 8,
    "start_time": "2021-07-24T05:00:30.585Z"
   },
   {
    "duration": 1352,
    "start_time": "2021-07-24T05:00:30.596Z"
   },
   {
    "duration": 31,
    "start_time": "2021-07-24T05:00:31.951Z"
   },
   {
    "duration": 433,
    "start_time": "2021-07-24T05:00:31.985Z"
   },
   {
    "duration": 3741,
    "start_time": "2021-07-24T05:00:32.421Z"
   },
   {
    "duration": 3703,
    "start_time": "2021-07-24T05:00:36.165Z"
   },
   {
    "duration": 3015,
    "start_time": "2021-07-24T05:00:39.877Z"
   },
   {
    "duration": 3329,
    "start_time": "2021-07-24T05:00:42.898Z"
   },
   {
    "duration": 18,
    "start_time": "2021-07-24T05:00:46.231Z"
   },
   {
    "duration": 59174,
    "start_time": "2021-07-24T05:00:46.263Z"
   },
   {
    "duration": 23,
    "start_time": "2021-07-24T05:01:45.440Z"
   },
   {
    "duration": 21,
    "start_time": "2021-07-24T05:01:45.466Z"
   },
   {
    "duration": 8,
    "start_time": "2021-07-24T05:01:45.490Z"
   },
   {
    "duration": 10,
    "start_time": "2021-07-24T05:01:45.501Z"
   },
   {
    "duration": 63,
    "start_time": "2021-07-24T05:01:45.514Z"
   },
   {
    "duration": 14,
    "start_time": "2021-07-24T05:01:45.580Z"
   },
   {
    "duration": 17,
    "start_time": "2021-07-24T05:01:45.597Z"
   },
   {
    "duration": 57,
    "start_time": "2021-07-24T05:01:45.616Z"
   },
   {
    "duration": 36,
    "start_time": "2021-07-24T05:01:45.676Z"
   },
   {
    "duration": 65,
    "start_time": "2021-07-24T05:01:45.714Z"
   },
   {
    "duration": 15,
    "start_time": "2021-07-24T05:01:45.782Z"
   },
   {
    "duration": 23,
    "start_time": "2021-07-24T05:01:45.799Z"
   },
   {
    "duration": 39,
    "start_time": "2021-07-24T05:01:45.825Z"
   },
   {
    "duration": 28,
    "start_time": "2021-07-24T05:01:45.867Z"
   },
   {
    "duration": 9,
    "start_time": "2021-07-24T05:01:45.899Z"
   },
   {
    "duration": 11,
    "start_time": "2021-07-24T05:01:45.911Z"
   },
   {
    "duration": 340,
    "start_time": "2021-07-24T05:01:45.925Z"
   },
   {
    "duration": 15,
    "start_time": "2021-07-24T05:01:46.268Z"
   },
   {
    "duration": 21,
    "start_time": "2021-07-24T05:01:46.286Z"
   },
   {
    "duration": 20,
    "start_time": "2021-07-24T05:01:46.309Z"
   },
   {
    "duration": 36,
    "start_time": "2021-07-24T05:01:46.331Z"
   },
   {
    "duration": 8,
    "start_time": "2021-07-24T05:01:46.369Z"
   },
   {
    "duration": 14,
    "start_time": "2021-07-24T05:01:46.380Z"
   },
   {
    "duration": 67,
    "start_time": "2021-07-24T05:01:46.397Z"
   },
   {
    "duration": 34,
    "start_time": "2021-07-24T05:01:46.467Z"
   },
   {
    "duration": 56115,
    "start_time": "2021-07-24T05:01:46.504Z"
   },
   {
    "duration": 262,
    "start_time": "2021-07-24T05:02:42.623Z"
   },
   {
    "duration": 51,
    "start_time": "2021-07-24T05:02:42.888Z"
   },
   {
    "duration": 21,
    "start_time": "2021-07-24T05:02:42.942Z"
   },
   {
    "duration": 20,
    "start_time": "2021-07-24T05:02:42.966Z"
   },
   {
    "duration": 5,
    "start_time": "2021-07-24T05:02:42.989Z"
   },
   {
    "duration": 18,
    "start_time": "2021-07-24T05:02:42.997Z"
   },
   {
    "duration": 45,
    "start_time": "2021-07-24T05:02:43.018Z"
   },
   {
    "duration": 10,
    "start_time": "2021-07-24T05:02:43.066Z"
   },
   {
    "duration": 336,
    "start_time": "2021-07-24T05:02:43.079Z"
   },
   {
    "duration": 555,
    "start_time": "2021-07-24T05:02:43.418Z"
   },
   {
    "duration": 8,
    "start_time": "2021-07-24T05:02:43.975Z"
   },
   {
    "duration": 15,
    "start_time": "2021-07-24T05:02:43.985Z"
   },
   {
    "duration": 425,
    "start_time": "2021-07-24T05:02:44.003Z"
   },
   {
    "duration": 437,
    "start_time": "2021-07-24T05:02:44.430Z"
   },
   {
    "duration": 3103,
    "start_time": "2021-07-24T05:02:44.870Z"
   },
   {
    "duration": 126,
    "start_time": "2021-07-24T05:02:47.982Z"
   },
   {
    "duration": 453,
    "start_time": "2021-07-24T05:02:48.112Z"
   },
   {
    "duration": 13,
    "start_time": "2021-07-24T05:02:48.569Z"
   },
   {
    "duration": 437,
    "start_time": "2021-07-24T05:02:48.585Z"
   },
   {
    "duration": 120,
    "start_time": "2021-07-24T05:16:53.429Z"
   },
   {
    "duration": 120,
    "start_time": "2021-07-24T05:16:59.328Z"
   }
  ],
  "kernelspec": {
   "display_name": "Python 3 (ipykernel)",
   "language": "python",
   "name": "python3"
  },
  "language_info": {
   "codemirror_mode": {
    "name": "ipython",
    "version": 3
   },
   "file_extension": ".py",
   "mimetype": "text/x-python",
   "name": "python",
   "nbconvert_exporter": "python",
   "pygments_lexer": "ipython3",
   "version": "3.8.13"
  },
  "toc": {
   "base_numbering": 1,
   "nav_menu": {},
   "number_sections": true,
   "sideBar": true,
   "skip_h1_title": true,
   "title_cell": "Table of Contents",
   "title_sidebar": "Contents",
   "toc_cell": false,
   "toc_position": {
    "height": "calc(100% - 180px)",
    "left": "10px",
    "top": "150px",
    "width": "366.391px"
   },
   "toc_section_display": true,
   "toc_window_display": false
  }
 },
 "nbformat": 4,
 "nbformat_minor": 2
}
