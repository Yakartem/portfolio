{
 "cells": [
  {
   "cell_type": "markdown",
   "id": "GEqQaHzsZ_bA",
   "metadata": {
    "id": "GEqQaHzsZ_bA"
   },
   "source": [
    "## Предсказание стоимости жилья\n",
    "\n",
    "В проекте вам нужно обучить модель линейной регрессии на данных о жилье в Калифорнии в 1990 году. На основе данных нужно предсказать медианную стоимость дома в жилом массиве. Обучите модель и сделайте предсказания на тестовой выборке. Для оценки качества модели используйте метрики RMSE, MAE и R2."
   ]
  },
  {
   "cell_type": "code",
   "execution_count": 1,
   "id": "97bc83e1",
   "metadata": {},
   "outputs": [],
   "source": [
    "import pyspark\n",
    "from pyspark.sql import SparkSession\n",
    "from pyspark.sql.types import *\n",
    "import pyspark.sql.functions as F\n",
    "import numpy as np\n",
    "from pyspark.ml.feature import OneHotEncoder\n",
    "from pyspark.ml.feature import StringIndexer\n",
    "from pyspark.ml.feature import VectorAssembler\n",
    "from pyspark.ml.feature import StandardScaler\n",
    "from pyspark.ml.regression import LinearRegression\n",
    "from pyspark.ml.tuning import CrossValidator, ParamGridBuilder, CrossValidatorModel\n",
    "from pyspark.mllib.evaluation import RegressionMetrics\n",
    "from pyspark.ml.evaluation import RegressionEvaluator\n",
    "from pyspark.ml.feature import QuantileDiscretizer"
   ]
  },
  {
   "cell_type": "code",
   "execution_count": 2,
   "id": "7a1d8abf",
   "metadata": {},
   "outputs": [],
   "source": [
    "RANDOM_SEED=5632"
   ]
  },
  {
   "cell_type": "markdown",
   "id": "76524202",
   "metadata": {},
   "source": [
    "Инициализируем spark-сессию:"
   ]
  },
  {
   "cell_type": "code",
   "execution_count": 3,
   "id": "8a52435a",
   "metadata": {
    "scrolled": true
   },
   "outputs": [
    {
     "name": "stderr",
     "output_type": "stream",
     "text": [
      "log4j:ERROR Could not read configuration file from URL [file:/opt/conda/lib/python3.9/site-packages/pyspark/conf/log4j.properties].\n",
      "java.io.FileNotFoundException: /opt/conda/lib/python3.9/site-packages/pyspark/conf/log4j.properties (Permission denied)\n",
      "\tat java.io.FileInputStream.open0(Native Method)\n",
      "\tat java.io.FileInputStream.open(FileInputStream.java:195)\n",
      "\tat java.io.FileInputStream.<init>(FileInputStream.java:138)\n",
      "\tat java.io.FileInputStream.<init>(FileInputStream.java:93)\n",
      "\tat sun.net.www.protocol.file.FileURLConnection.connect(FileURLConnection.java:90)\n",
      "\tat sun.net.www.protocol.file.FileURLConnection.getInputStream(FileURLConnection.java:188)\n",
      "\tat org.apache.log4j.PropertyConfigurator.doConfigure(PropertyConfigurator.java:557)\n",
      "\tat org.apache.log4j.helpers.OptionConverter.selectAndConfigure(OptionConverter.java:526)\n",
      "\tat org.apache.log4j.LogManager.<clinit>(LogManager.java:127)\n",
      "\tat org.slf4j.impl.Log4jLoggerFactory.<init>(Log4jLoggerFactory.java:66)\n",
      "\tat org.slf4j.impl.StaticLoggerBinder.<init>(StaticLoggerBinder.java:72)\n",
      "\tat org.slf4j.impl.StaticLoggerBinder.<clinit>(StaticLoggerBinder.java:45)\n",
      "\tat org.apache.spark.internal.Logging$.org$apache$spark$internal$Logging$$isLog4j12(Logging.scala:222)\n",
      "\tat org.apache.spark.internal.Logging.initializeLogging(Logging.scala:127)\n",
      "\tat org.apache.spark.internal.Logging.initializeLogIfNecessary(Logging.scala:111)\n",
      "\tat org.apache.spark.internal.Logging.initializeLogIfNecessary$(Logging.scala:105)\n",
      "\tat org.apache.spark.deploy.SparkSubmit.initializeLogIfNecessary(SparkSubmit.scala:75)\n",
      "\tat org.apache.spark.deploy.SparkSubmit.doSubmit(SparkSubmit.scala:83)\n",
      "\tat org.apache.spark.deploy.SparkSubmit$$anon$2.doSubmit(SparkSubmit.scala:1007)\n",
      "\tat org.apache.spark.deploy.SparkSubmit$.main(SparkSubmit.scala:1016)\n",
      "\tat org.apache.spark.deploy.SparkSubmit.main(SparkSubmit.scala)\n",
      "log4j:ERROR Ignoring configuration file [file:/opt/conda/lib/python3.9/site-packages/pyspark/conf/log4j.properties].\n",
      "22/06/03 16:01:55 WARN NativeCodeLoader: Unable to load native-hadoop library for your platform... using builtin-java classes where applicable\n",
      "Using Spark's default log4j profile: org/apache/spark/log4j-defaults.properties\n",
      "Setting default log level to \"WARN\".\n",
      "To adjust logging level use sc.setLogLevel(newLevel). For SparkR, use setLogLevel(newLevel).\n"
     ]
    }
   ],
   "source": [
    "spark =  SparkSession \\\n",
    "         .builder \\\n",
    "         .master('local') \\\n",
    "         .appName('California project') \\\n",
    "         .getOrCreate()"
   ]
  },
  {
   "cell_type": "markdown",
   "id": "53871372",
   "metadata": {
    "id": "53871372"
   },
   "source": [
    "# Подготовка данных"
   ]
  },
  {
   "cell_type": "markdown",
   "id": "66792aae",
   "metadata": {},
   "source": [
    "Загрузим и изучим имеющиеся данные:"
   ]
  },
  {
   "cell_type": "code",
   "execution_count": 4,
   "id": "df92e3ec",
   "metadata": {
    "id": "df92e3ec"
   },
   "outputs": [
    {
     "name": "stderr",
     "output_type": "stream",
     "text": [
      "[Stage 1:>                                                          (0 + 1) / 1]\r"
     ]
    },
    {
     "name": "stdout",
     "output_type": "stream",
     "text": [
      "root\n",
      " |-- longitude: double (nullable = true)\n",
      " |-- latitude: double (nullable = true)\n",
      " |-- housing_median_age: double (nullable = true)\n",
      " |-- total_rooms: double (nullable = true)\n",
      " |-- total_bedrooms: double (nullable = true)\n",
      " |-- population: double (nullable = true)\n",
      " |-- households: double (nullable = true)\n",
      " |-- median_income: double (nullable = true)\n",
      " |-- median_house_value: double (nullable = true)\n",
      " |-- ocean_proximity: string (nullable = true)\n",
      "\n"
     ]
    },
    {
     "name": "stderr",
     "output_type": "stream",
     "text": [
      "                                                                                \r"
     ]
    }
   ],
   "source": [
    "df = spark.read.load('/datasets/housing.csv', format='csv', inferSchema=True, header='true')\n",
    "df.printSchema()"
   ]
  },
  {
   "cell_type": "code",
   "execution_count": 5,
   "id": "b9745be0",
   "metadata": {},
   "outputs": [
    {
     "name": "stdout",
     "output_type": "stream",
     "text": [
      "+---------+--------+------------------+-----------+--------------+----------+----------+-------------+------------------+---------------+\n",
      "|longitude|latitude|housing_median_age|total_rooms|total_bedrooms|population|households|median_income|median_house_value|ocean_proximity|\n",
      "+---------+--------+------------------+-----------+--------------+----------+----------+-------------+------------------+---------------+\n",
      "|  -122.23|   37.88|              41.0|      880.0|         129.0|     322.0|     126.0|       8.3252|          452600.0|       NEAR BAY|\n",
      "|  -122.22|   37.86|              21.0|     7099.0|        1106.0|    2401.0|    1138.0|       8.3014|          358500.0|       NEAR BAY|\n",
      "|  -122.24|   37.85|              52.0|     1467.0|         190.0|     496.0|     177.0|       7.2574|          352100.0|       NEAR BAY|\n",
      "|  -122.25|   37.85|              52.0|     1274.0|         235.0|     558.0|     219.0|       5.6431|          341300.0|       NEAR BAY|\n",
      "|  -122.25|   37.85|              52.0|     1627.0|         280.0|     565.0|     259.0|       3.8462|          342200.0|       NEAR BAY|\n",
      "|  -122.25|   37.85|              52.0|      919.0|         213.0|     413.0|     193.0|       4.0368|          269700.0|       NEAR BAY|\n",
      "|  -122.25|   37.84|              52.0|     2535.0|         489.0|    1094.0|     514.0|       3.6591|          299200.0|       NEAR BAY|\n",
      "|  -122.25|   37.84|              52.0|     3104.0|         687.0|    1157.0|     647.0|         3.12|          241400.0|       NEAR BAY|\n",
      "|  -122.26|   37.84|              42.0|     2555.0|         665.0|    1206.0|     595.0|       2.0804|          226700.0|       NEAR BAY|\n",
      "|  -122.25|   37.84|              52.0|     3549.0|         707.0|    1551.0|     714.0|       3.6912|          261100.0|       NEAR BAY|\n",
      "+---------+--------+------------------+-----------+--------------+----------+----------+-------------+------------------+---------------+\n",
      "only showing top 10 rows\n",
      "\n"
     ]
    }
   ],
   "source": [
    "df.show(10)"
   ]
  },
  {
   "cell_type": "code",
   "execution_count": 6,
   "id": "3522c2fe",
   "metadata": {
    "scrolled": true
   },
   "outputs": [
    {
     "name": "stderr",
     "output_type": "stream",
     "text": [
      "                                                                                \r"
     ]
    },
    {
     "data": {
      "text/html": [
       "<div>\n",
       "<style scoped>\n",
       "    .dataframe tbody tr th:only-of-type {\n",
       "        vertical-align: middle;\n",
       "    }\n",
       "\n",
       "    .dataframe tbody tr th {\n",
       "        vertical-align: top;\n",
       "    }\n",
       "\n",
       "    .dataframe thead th {\n",
       "        text-align: right;\n",
       "    }\n",
       "</style>\n",
       "<table border=\"1\" class=\"dataframe\">\n",
       "  <thead>\n",
       "    <tr style=\"text-align: right;\">\n",
       "      <th></th>\n",
       "      <th>summary</th>\n",
       "      <th>longitude</th>\n",
       "      <th>latitude</th>\n",
       "      <th>housing_median_age</th>\n",
       "      <th>total_rooms</th>\n",
       "      <th>total_bedrooms</th>\n",
       "      <th>population</th>\n",
       "      <th>households</th>\n",
       "      <th>median_income</th>\n",
       "      <th>median_house_value</th>\n",
       "      <th>ocean_proximity</th>\n",
       "    </tr>\n",
       "  </thead>\n",
       "  <tbody>\n",
       "    <tr>\n",
       "      <th>0</th>\n",
       "      <td>count</td>\n",
       "      <td>20640</td>\n",
       "      <td>20640</td>\n",
       "      <td>20640</td>\n",
       "      <td>20640</td>\n",
       "      <td>20433</td>\n",
       "      <td>20640</td>\n",
       "      <td>20640</td>\n",
       "      <td>20640</td>\n",
       "      <td>20640</td>\n",
       "      <td>20640</td>\n",
       "    </tr>\n",
       "    <tr>\n",
       "      <th>1</th>\n",
       "      <td>mean</td>\n",
       "      <td>-119.56970445736148</td>\n",
       "      <td>35.6318614341087</td>\n",
       "      <td>28.639486434108527</td>\n",
       "      <td>2635.7630813953488</td>\n",
       "      <td>537.8705525375618</td>\n",
       "      <td>1425.4767441860465</td>\n",
       "      <td>499.5396802325581</td>\n",
       "      <td>3.8706710029070246</td>\n",
       "      <td>206855.81690891474</td>\n",
       "      <td>None</td>\n",
       "    </tr>\n",
       "    <tr>\n",
       "      <th>2</th>\n",
       "      <td>stddev</td>\n",
       "      <td>2.003531723502584</td>\n",
       "      <td>2.135952397457101</td>\n",
       "      <td>12.58555761211163</td>\n",
       "      <td>2181.6152515827944</td>\n",
       "      <td>421.38507007403115</td>\n",
       "      <td>1132.46212176534</td>\n",
       "      <td>382.3297528316098</td>\n",
       "      <td>1.899821717945263</td>\n",
       "      <td>115395.61587441359</td>\n",
       "      <td>None</td>\n",
       "    </tr>\n",
       "    <tr>\n",
       "      <th>3</th>\n",
       "      <td>min</td>\n",
       "      <td>-124.35</td>\n",
       "      <td>32.54</td>\n",
       "      <td>1.0</td>\n",
       "      <td>2.0</td>\n",
       "      <td>1.0</td>\n",
       "      <td>3.0</td>\n",
       "      <td>1.0</td>\n",
       "      <td>0.4999</td>\n",
       "      <td>14999.0</td>\n",
       "      <td>&lt;1H OCEAN</td>\n",
       "    </tr>\n",
       "    <tr>\n",
       "      <th>4</th>\n",
       "      <td>max</td>\n",
       "      <td>-114.31</td>\n",
       "      <td>41.95</td>\n",
       "      <td>52.0</td>\n",
       "      <td>39320.0</td>\n",
       "      <td>6445.0</td>\n",
       "      <td>35682.0</td>\n",
       "      <td>6082.0</td>\n",
       "      <td>15.0001</td>\n",
       "      <td>500001.0</td>\n",
       "      <td>NEAR OCEAN</td>\n",
       "    </tr>\n",
       "  </tbody>\n",
       "</table>\n",
       "</div>"
      ],
      "text/plain": [
       "  summary            longitude           latitude  housing_median_age  \\\n",
       "0   count                20640              20640               20640   \n",
       "1    mean  -119.56970445736148   35.6318614341087  28.639486434108527   \n",
       "2  stddev    2.003531723502584  2.135952397457101   12.58555761211163   \n",
       "3     min              -124.35              32.54                 1.0   \n",
       "4     max              -114.31              41.95                52.0   \n",
       "\n",
       "          total_rooms      total_bedrooms          population  \\\n",
       "0               20640               20433               20640   \n",
       "1  2635.7630813953488   537.8705525375618  1425.4767441860465   \n",
       "2  2181.6152515827944  421.38507007403115    1132.46212176534   \n",
       "3                 2.0                 1.0                 3.0   \n",
       "4             39320.0              6445.0             35682.0   \n",
       "\n",
       "          households       median_income  median_house_value ocean_proximity  \n",
       "0              20640               20640               20640           20640  \n",
       "1  499.5396802325581  3.8706710029070246  206855.81690891474            None  \n",
       "2  382.3297528316098   1.899821717945263  115395.61587441359            None  \n",
       "3                1.0              0.4999             14999.0       <1H OCEAN  \n",
       "4             6082.0             15.0001            500001.0      NEAR OCEAN  "
      ]
     },
     "execution_count": 6,
     "metadata": {},
     "output_type": "execute_result"
    }
   ],
   "source": [
    "df.describe().toPandas()"
   ]
  },
  {
   "cell_type": "code",
   "execution_count": 7,
   "id": "e097a6b6",
   "metadata": {},
   "outputs": [
    {
     "name": "stdout",
     "output_type": "stream",
     "text": [
      "longitude: 0\n",
      "latitude: 0\n",
      "housing_median_age: 0\n",
      "total_rooms: 0\n",
      "total_bedrooms: 207\n",
      "population: 0\n",
      "households: 0\n",
      "median_income: 0\n",
      "median_house_value: 0\n",
      "ocean_proximity: 0\n"
     ]
    }
   ],
   "source": [
    "for col in df.columns:\n",
    "    counter = 0\n",
    "    counter = df.filter(f'{col} is NULL').count()\n",
    "    print(f'{col}: {counter}')"
   ]
  },
  {
   "cell_type": "markdown",
   "id": "548c6dea",
   "metadata": {},
   "source": [
    "Избавимся от пропусков:"
   ]
  },
  {
   "cell_type": "code",
   "execution_count": 8,
   "id": "8b4c072d",
   "metadata": {
    "scrolled": true
   },
   "outputs": [
    {
     "name": "stderr",
     "output_type": "stream",
     "text": [
      "                                                                                \r"
     ]
    },
    {
     "data": {
      "text/html": [
       "<div>\n",
       "<style scoped>\n",
       "    .dataframe tbody tr th:only-of-type {\n",
       "        vertical-align: middle;\n",
       "    }\n",
       "\n",
       "    .dataframe tbody tr th {\n",
       "        vertical-align: top;\n",
       "    }\n",
       "\n",
       "    .dataframe thead th {\n",
       "        text-align: right;\n",
       "    }\n",
       "</style>\n",
       "<table border=\"1\" class=\"dataframe\">\n",
       "  <thead>\n",
       "    <tr style=\"text-align: right;\">\n",
       "      <th></th>\n",
       "      <th>summary</th>\n",
       "      <th>longitude</th>\n",
       "      <th>latitude</th>\n",
       "      <th>housing_median_age</th>\n",
       "      <th>total_rooms</th>\n",
       "      <th>total_bedrooms</th>\n",
       "      <th>population</th>\n",
       "      <th>households</th>\n",
       "      <th>median_income</th>\n",
       "      <th>median_house_value</th>\n",
       "      <th>ocean_proximity</th>\n",
       "    </tr>\n",
       "  </thead>\n",
       "  <tbody>\n",
       "    <tr>\n",
       "      <th>0</th>\n",
       "      <td>count</td>\n",
       "      <td>20433</td>\n",
       "      <td>20433</td>\n",
       "      <td>20433</td>\n",
       "      <td>20433</td>\n",
       "      <td>20433</td>\n",
       "      <td>20433</td>\n",
       "      <td>20433</td>\n",
       "      <td>20433</td>\n",
       "      <td>20433</td>\n",
       "      <td>20433</td>\n",
       "    </tr>\n",
       "    <tr>\n",
       "      <th>1</th>\n",
       "      <td>mean</td>\n",
       "      <td>-119.57068859198068</td>\n",
       "      <td>35.63322125972706</td>\n",
       "      <td>28.633093525179856</td>\n",
       "      <td>2636.5042333480155</td>\n",
       "      <td>537.8705525375618</td>\n",
       "      <td>1424.9469485635982</td>\n",
       "      <td>499.43346547251997</td>\n",
       "      <td>3.8711616013312273</td>\n",
       "      <td>206864.41315519012</td>\n",
       "      <td>None</td>\n",
       "    </tr>\n",
       "    <tr>\n",
       "      <th>2</th>\n",
       "      <td>stddev</td>\n",
       "      <td>2.003577890751096</td>\n",
       "      <td>2.1363476663779872</td>\n",
       "      <td>12.591805202182835</td>\n",
       "      <td>2185.269566977601</td>\n",
       "      <td>421.38507007403115</td>\n",
       "      <td>1133.2084897449597</td>\n",
       "      <td>382.2992258828481</td>\n",
       "      <td>1.899291249306247</td>\n",
       "      <td>115435.66709858322</td>\n",
       "      <td>None</td>\n",
       "    </tr>\n",
       "    <tr>\n",
       "      <th>3</th>\n",
       "      <td>min</td>\n",
       "      <td>-124.35</td>\n",
       "      <td>32.54</td>\n",
       "      <td>1.0</td>\n",
       "      <td>2.0</td>\n",
       "      <td>1.0</td>\n",
       "      <td>3.0</td>\n",
       "      <td>1.0</td>\n",
       "      <td>0.4999</td>\n",
       "      <td>14999.0</td>\n",
       "      <td>&lt;1H OCEAN</td>\n",
       "    </tr>\n",
       "    <tr>\n",
       "      <th>4</th>\n",
       "      <td>max</td>\n",
       "      <td>-114.31</td>\n",
       "      <td>41.95</td>\n",
       "      <td>52.0</td>\n",
       "      <td>39320.0</td>\n",
       "      <td>6445.0</td>\n",
       "      <td>35682.0</td>\n",
       "      <td>6082.0</td>\n",
       "      <td>15.0001</td>\n",
       "      <td>500001.0</td>\n",
       "      <td>NEAR OCEAN</td>\n",
       "    </tr>\n",
       "  </tbody>\n",
       "</table>\n",
       "</div>"
      ],
      "text/plain": [
       "  summary            longitude            latitude  housing_median_age  \\\n",
       "0   count                20433               20433               20433   \n",
       "1    mean  -119.57068859198068   35.63322125972706  28.633093525179856   \n",
       "2  stddev    2.003577890751096  2.1363476663779872  12.591805202182835   \n",
       "3     min              -124.35               32.54                 1.0   \n",
       "4     max              -114.31               41.95                52.0   \n",
       "\n",
       "          total_rooms      total_bedrooms          population  \\\n",
       "0               20433               20433               20433   \n",
       "1  2636.5042333480155   537.8705525375618  1424.9469485635982   \n",
       "2   2185.269566977601  421.38507007403115  1133.2084897449597   \n",
       "3                 2.0                 1.0                 3.0   \n",
       "4             39320.0              6445.0             35682.0   \n",
       "\n",
       "           households       median_income  median_house_value ocean_proximity  \n",
       "0               20433               20433               20433           20433  \n",
       "1  499.43346547251997  3.8711616013312273  206864.41315519012            None  \n",
       "2   382.2992258828481   1.899291249306247  115435.66709858322            None  \n",
       "3                 1.0              0.4999             14999.0       <1H OCEAN  \n",
       "4              6082.0             15.0001            500001.0      NEAR OCEAN  "
      ]
     },
     "execution_count": 8,
     "metadata": {},
     "output_type": "execute_result"
    }
   ],
   "source": [
    "df = df.na.drop()\n",
    "df.describe().toPandas()"
   ]
  },
  {
   "cell_type": "markdown",
   "id": "576dcec6",
   "metadata": {},
   "source": [
    "Закодируем категориальные данные и создадим из них вектор:"
   ]
  },
  {
   "cell_type": "code",
   "execution_count": 9,
   "id": "2f9183cf",
   "metadata": {
    "scrolled": true
   },
   "outputs": [
    {
     "name": "stderr",
     "output_type": "stream",
     "text": [
      "                                                                                \r"
     ]
    },
    {
     "data": {
      "text/html": [
       "<div>\n",
       "<style scoped>\n",
       "    .dataframe tbody tr th:only-of-type {\n",
       "        vertical-align: middle;\n",
       "    }\n",
       "\n",
       "    .dataframe tbody tr th {\n",
       "        vertical-align: top;\n",
       "    }\n",
       "\n",
       "    .dataframe thead th {\n",
       "        text-align: right;\n",
       "    }\n",
       "</style>\n",
       "<table border=\"1\" class=\"dataframe\">\n",
       "  <thead>\n",
       "    <tr style=\"text-align: right;\">\n",
       "      <th></th>\n",
       "      <th>summary</th>\n",
       "      <th>longitude</th>\n",
       "      <th>latitude</th>\n",
       "      <th>housing_median_age</th>\n",
       "      <th>total_rooms</th>\n",
       "      <th>total_bedrooms</th>\n",
       "      <th>population</th>\n",
       "      <th>households</th>\n",
       "      <th>median_income</th>\n",
       "      <th>median_house_value</th>\n",
       "      <th>ocean_proximity</th>\n",
       "      <th>ocean_proximity_i</th>\n",
       "    </tr>\n",
       "  </thead>\n",
       "  <tbody>\n",
       "    <tr>\n",
       "      <th>0</th>\n",
       "      <td>count</td>\n",
       "      <td>20433</td>\n",
       "      <td>20433</td>\n",
       "      <td>20433</td>\n",
       "      <td>20433</td>\n",
       "      <td>20433</td>\n",
       "      <td>20433</td>\n",
       "      <td>20433</td>\n",
       "      <td>20433</td>\n",
       "      <td>20433</td>\n",
       "      <td>20433</td>\n",
       "      <td>20433</td>\n",
       "    </tr>\n",
       "    <tr>\n",
       "      <th>1</th>\n",
       "      <td>mean</td>\n",
       "      <td>-119.57068859198068</td>\n",
       "      <td>35.63322125972706</td>\n",
       "      <td>28.633093525179856</td>\n",
       "      <td>2636.5042333480155</td>\n",
       "      <td>537.8705525375618</td>\n",
       "      <td>1424.9469485635982</td>\n",
       "      <td>499.43346547251997</td>\n",
       "      <td>3.8711616013312273</td>\n",
       "      <td>206864.41315519012</td>\n",
       "      <td>None</td>\n",
       "      <td>0.9094112465129937</td>\n",
       "    </tr>\n",
       "    <tr>\n",
       "      <th>2</th>\n",
       "      <td>stddev</td>\n",
       "      <td>2.003577890751096</td>\n",
       "      <td>2.1363476663779872</td>\n",
       "      <td>12.591805202182835</td>\n",
       "      <td>2185.269566977601</td>\n",
       "      <td>421.38507007403115</td>\n",
       "      <td>1133.2084897449597</td>\n",
       "      <td>382.2992258828481</td>\n",
       "      <td>1.899291249306247</td>\n",
       "      <td>115435.66709858322</td>\n",
       "      <td>None</td>\n",
       "      <td>1.0045735326216698</td>\n",
       "    </tr>\n",
       "    <tr>\n",
       "      <th>3</th>\n",
       "      <td>min</td>\n",
       "      <td>-124.35</td>\n",
       "      <td>32.54</td>\n",
       "      <td>1.0</td>\n",
       "      <td>2.0</td>\n",
       "      <td>1.0</td>\n",
       "      <td>3.0</td>\n",
       "      <td>1.0</td>\n",
       "      <td>0.4999</td>\n",
       "      <td>14999.0</td>\n",
       "      <td>&lt;1H OCEAN</td>\n",
       "      <td>0.0</td>\n",
       "    </tr>\n",
       "    <tr>\n",
       "      <th>4</th>\n",
       "      <td>max</td>\n",
       "      <td>-114.31</td>\n",
       "      <td>41.95</td>\n",
       "      <td>52.0</td>\n",
       "      <td>39320.0</td>\n",
       "      <td>6445.0</td>\n",
       "      <td>35682.0</td>\n",
       "      <td>6082.0</td>\n",
       "      <td>15.0001</td>\n",
       "      <td>500001.0</td>\n",
       "      <td>NEAR OCEAN</td>\n",
       "      <td>4.0</td>\n",
       "    </tr>\n",
       "  </tbody>\n",
       "</table>\n",
       "</div>"
      ],
      "text/plain": [
       "  summary            longitude            latitude  housing_median_age  \\\n",
       "0   count                20433               20433               20433   \n",
       "1    mean  -119.57068859198068   35.63322125972706  28.633093525179856   \n",
       "2  stddev    2.003577890751096  2.1363476663779872  12.591805202182835   \n",
       "3     min              -124.35               32.54                 1.0   \n",
       "4     max              -114.31               41.95                52.0   \n",
       "\n",
       "          total_rooms      total_bedrooms          population  \\\n",
       "0               20433               20433               20433   \n",
       "1  2636.5042333480155   537.8705525375618  1424.9469485635982   \n",
       "2   2185.269566977601  421.38507007403115  1133.2084897449597   \n",
       "3                 2.0                 1.0                 3.0   \n",
       "4             39320.0              6445.0             35682.0   \n",
       "\n",
       "           households       median_income  median_house_value ocean_proximity  \\\n",
       "0               20433               20433               20433           20433   \n",
       "1  499.43346547251997  3.8711616013312273  206864.41315519012            None   \n",
       "2   382.2992258828481   1.899291249306247  115435.66709858322            None   \n",
       "3                 1.0              0.4999             14999.0       <1H OCEAN   \n",
       "4              6082.0             15.0001            500001.0      NEAR OCEAN   \n",
       "\n",
       "    ocean_proximity_i  \n",
       "0               20433  \n",
       "1  0.9094112465129937  \n",
       "2  1.0045735326216698  \n",
       "3                 0.0  \n",
       "4                 4.0  "
      ]
     },
     "execution_count": 9,
     "metadata": {},
     "output_type": "execute_result"
    }
   ],
   "source": [
    "indexer = StringIndexer(inputCols=['ocean_proximity'],\n",
    "                        outputCols=['ocean_proximity_i'])\n",
    "df = indexer.fit(df).transform(df)\n",
    "encoder = OneHotEncoder(inputCols=['ocean_proximity_i'],\n",
    "                        outputCols=['categorical_features'])\n",
    "df = encoder.fit(df).transform(df)\n",
    "df.describe().toPandas()"
   ]
  },
  {
   "cell_type": "code",
   "execution_count": 10,
   "id": "f77a523a",
   "metadata": {
    "scrolled": true
   },
   "outputs": [
    {
     "name": "stdout",
     "output_type": "stream",
     "text": [
      "+---------+--------+------------------+-----------+--------------+----------+----------+-------------+------------------+---------------+-----------------+--------------------+\n",
      "|longitude|latitude|housing_median_age|total_rooms|total_bedrooms|population|households|median_income|median_house_value|ocean_proximity|ocean_proximity_i|categorical_features|\n",
      "+---------+--------+------------------+-----------+--------------+----------+----------+-------------+------------------+---------------+-----------------+--------------------+\n",
      "|  -122.23|   37.88|              41.0|      880.0|         129.0|     322.0|     126.0|       8.3252|          452600.0|       NEAR BAY|              3.0|       (4,[3],[1.0])|\n",
      "|  -122.22|   37.86|              21.0|     7099.0|        1106.0|    2401.0|    1138.0|       8.3014|          358500.0|       NEAR BAY|              3.0|       (4,[3],[1.0])|\n",
      "|  -122.24|   37.85|              52.0|     1467.0|         190.0|     496.0|     177.0|       7.2574|          352100.0|       NEAR BAY|              3.0|       (4,[3],[1.0])|\n",
      "|  -122.25|   37.85|              52.0|     1274.0|         235.0|     558.0|     219.0|       5.6431|          341300.0|       NEAR BAY|              3.0|       (4,[3],[1.0])|\n",
      "|  -122.25|   37.85|              52.0|     1627.0|         280.0|     565.0|     259.0|       3.8462|          342200.0|       NEAR BAY|              3.0|       (4,[3],[1.0])|\n",
      "+---------+--------+------------------+-----------+--------------+----------+----------+-------------+------------------+---------------+-----------------+--------------------+\n",
      "only showing top 5 rows\n",
      "\n"
     ]
    }
   ],
   "source": [
    "df.show(5)"
   ]
  },
  {
   "cell_type": "markdown",
   "id": "eadbfcf6",
   "metadata": {},
   "source": [
    "Соберем все численные признаки в вектор и проскалируем их:"
   ]
  },
  {
   "cell_type": "code",
   "execution_count": 11,
   "id": "0cd2932c",
   "metadata": {},
   "outputs": [],
   "source": [
    "numerical_assembler = VectorAssembler(inputCols=['housing_median_age', \n",
    "                                                 'total_rooms', \n",
    "                                                 'total_bedrooms', \n",
    "                                                 'population', \n",
    "                                                 'households', \n",
    "                                                 'median_income'], \n",
    "                                      outputCol='numerical_features')\n",
    "\n",
    "df = numerical_assembler.transform(df)"
   ]
  },
  {
   "cell_type": "code",
   "execution_count": 12,
   "id": "801d4e2f",
   "metadata": {},
   "outputs": [],
   "source": [
    "discretizer = QuantileDiscretizer(numBuckets=5, inputCol=\"latitude\", outputCol=\"latitude_cat\")\n",
    "df = discretizer.fit(df).transform(df)"
   ]
  },
  {
   "cell_type": "code",
   "execution_count": 13,
   "id": "17d522c9",
   "metadata": {
    "scrolled": true
   },
   "outputs": [
    {
     "name": "stdout",
     "output_type": "stream",
     "text": [
      "+---------+--------+------------------+-----------+--------------+----------+----------+-------------+------------------+---------------+-----------------+--------------------+--------------------+------------+-----------------------+\n",
      "|longitude|latitude|housing_median_age|total_rooms|total_bedrooms|population|households|median_income|median_house_value|ocean_proximity|ocean_proximity_i|categorical_features|  numerical_features|latitude_cat|categorical_features_v2|\n",
      "+---------+--------+------------------+-----------+--------------+----------+----------+-------------+------------------+---------------+-----------------+--------------------+--------------------+------------+-----------------------+\n",
      "|  -122.23|   37.88|              41.0|      880.0|         129.0|     322.0|     126.0|       8.3252|          452600.0|       NEAR BAY|              3.0|       (4,[3],[1.0])|[41.0,880.0,129.0...|         4.0|              (4,[],[])|\n",
      "|  -122.22|   37.86|              21.0|     7099.0|        1106.0|    2401.0|    1138.0|       8.3014|          358500.0|       NEAR BAY|              3.0|       (4,[3],[1.0])|[21.0,7099.0,1106...|         4.0|              (4,[],[])|\n",
      "|  -122.24|   37.85|              52.0|     1467.0|         190.0|     496.0|     177.0|       7.2574|          352100.0|       NEAR BAY|              3.0|       (4,[3],[1.0])|[52.0,1467.0,190....|         4.0|              (4,[],[])|\n",
      "|  -122.25|   37.85|              52.0|     1274.0|         235.0|     558.0|     219.0|       5.6431|          341300.0|       NEAR BAY|              3.0|       (4,[3],[1.0])|[52.0,1274.0,235....|         4.0|              (4,[],[])|\n",
      "|  -122.25|   37.85|              52.0|     1627.0|         280.0|     565.0|     259.0|       3.8462|          342200.0|       NEAR BAY|              3.0|       (4,[3],[1.0])|[52.0,1627.0,280....|         4.0|              (4,[],[])|\n",
      "+---------+--------+------------------+-----------+--------------+----------+----------+-------------+------------------+---------------+-----------------+--------------------+--------------------+------------+-----------------------+\n",
      "only showing top 5 rows\n",
      "\n"
     ]
    }
   ],
   "source": [
    "encoder = OneHotEncoder(inputCols=['latitude_cat'],\n",
    "                        outputCols=['categorical_features_v2'])\n",
    "df = encoder.fit(df).transform(df)\n",
    "df.show(5)"
   ]
  },
  {
   "cell_type": "code",
   "execution_count": 14,
   "id": "ada6d74e",
   "metadata": {},
   "outputs": [],
   "source": [
    "cat_assembler = VectorAssembler(inputCols=['categorical_features', 'categorical_features_v2'], \n",
    "                                      outputCol='cat_features')\n",
    "\n",
    "df = cat_assembler.transform(df)"
   ]
  },
  {
   "cell_type": "code",
   "execution_count": 15,
   "id": "c648feb7",
   "metadata": {},
   "outputs": [
    {
     "name": "stderr",
     "output_type": "stream",
     "text": [
      "                                                                                \r"
     ]
    }
   ],
   "source": [
    "standardScaler = StandardScaler(inputCol='numerical_features', outputCol='numerical_features_scaled')\n",
    "df = standardScaler.fit(df).transform(df)"
   ]
  },
  {
   "cell_type": "code",
   "execution_count": 16,
   "id": "2b416ece",
   "metadata": {},
   "outputs": [
    {
     "name": "stdout",
     "output_type": "stream",
     "text": [
      "+-------------+-------------------------+\n",
      "| cat_features|numerical_features_scaled|\n",
      "+-------------+-------------------------+\n",
      "|(8,[3],[1.0])|     [3.25608594968515...|\n",
      "|(8,[3],[1.0])|     [1.66775134008264...|\n",
      "|(8,[3],[1.0])|     [4.12966998496654...|\n",
      "|(8,[3],[1.0])|     [4.12966998496654...|\n",
      "|(8,[3],[1.0])|     [4.12966998496654...|\n",
      "+-------------+-------------------------+\n",
      "only showing top 5 rows\n",
      "\n"
     ]
    }
   ],
   "source": [
    "df.select(['cat_features', 'numerical_features_scaled']).show(5)"
   ]
  },
  {
   "cell_type": "markdown",
   "id": "6efb96a8",
   "metadata": {},
   "source": [
    "Объеденяем признаки, на основе которых будет обучаться модель:"
   ]
  },
  {
   "cell_type": "code",
   "execution_count": 17,
   "id": "1fb16d6c",
   "metadata": {},
   "outputs": [],
   "source": [
    "all_features = ['cat_features','numerical_features_scaled']\n",
    "final_assembler = VectorAssembler(inputCols=all_features, outputCol='features') \n",
    "df = final_assembler.transform(df)"
   ]
  },
  {
   "cell_type": "code",
   "execution_count": 18,
   "id": "ea18462a",
   "metadata": {},
   "outputs": [
    {
     "name": "stdout",
     "output_type": "stream",
     "text": [
      "+-------------+-------------------------+\n",
      "| cat_features|numerical_features_scaled|\n",
      "+-------------+-------------------------+\n",
      "|(8,[3],[1.0])|     [3.25608594968515...|\n",
      "|(8,[3],[1.0])|     [1.66775134008264...|\n",
      "|(8,[3],[1.0])|     [4.12966998496654...|\n",
      "|(8,[3],[1.0])|     [4.12966998496654...|\n",
      "|(8,[3],[1.0])|     [4.12966998496654...|\n",
      "+-------------+-------------------------+\n",
      "only showing top 5 rows\n",
      "\n"
     ]
    }
   ],
   "source": [
    "df.select(all_features).show(5)"
   ]
  },
  {
   "cell_type": "markdown",
   "id": "9f0a82f3",
   "metadata": {
    "id": "9f0a82f3"
   },
   "source": [
    "# Обучение моделей"
   ]
  },
  {
   "cell_type": "markdown",
   "id": "68062d89",
   "metadata": {},
   "source": [
    "Разделим датасет на обучающую и тестовую выборки в соотошении 4:1 соответственно (предварительно задав RANDOM_SEED, что бы не скакали результаты):"
   ]
  },
  {
   "cell_type": "code",
   "execution_count": 19,
   "id": "bddb08c4",
   "metadata": {
    "id": "bddb08c4"
   },
   "outputs": [
    {
     "name": "stderr",
     "output_type": "stream",
     "text": [
      "[Stage 40:>                                                         (0 + 1) / 1]\r"
     ]
    },
    {
     "name": "stdout",
     "output_type": "stream",
     "text": [
      "Обучающая выборка: 16318 \n",
      "Тестовая выборка: 4115\n"
     ]
    },
    {
     "name": "stderr",
     "output_type": "stream",
     "text": [
      "                                                                                \r"
     ]
    }
   ],
   "source": [
    "target='median_house_value'\n",
    "#RANDOM_SEED=5632\n",
    "\n",
    "train_df, test_df = df.randomSplit([.8,.2], seed=RANDOM_SEED)\n",
    "print('Обучающая выборка:', train_df.count(), '\\nТестовая выборка:', test_df.count()) "
   ]
  },
  {
   "cell_type": "markdown",
   "id": "92e15fe7",
   "metadata": {},
   "source": [
    "Ну вот и пришло время обучить модель. Я попытался реализовать имеющуюся в pyspark кросс-валидацию:"
   ]
  },
  {
   "cell_type": "code",
   "execution_count": 20,
   "id": "02549db7",
   "metadata": {
    "scrolled": true
   },
   "outputs": [
    {
     "name": "stderr",
     "output_type": "stream",
     "text": [
      "22/06/03 16:02:43 WARN BLAS: Failed to load implementation from: com.github.fommil.netlib.NativeSystemBLAS\n",
      "22/06/03 16:02:43 WARN BLAS: Failed to load implementation from: com.github.fommil.netlib.NativeRefBLAS\n",
      "22/06/03 16:02:43 WARN LAPACK: Failed to load implementation from: com.github.fommil.netlib.NativeSystemLAPACK\n",
      "22/06/03 16:02:43 WARN LAPACK: Failed to load implementation from: com.github.fommil.netlib.NativeRefLAPACK\n",
      "                                                                                \r"
     ]
    }
   ],
   "source": [
    "lr = LinearRegression(labelCol=target, featuresCol='features')\n",
    "grid = ParamGridBuilder().addGrid(lr.maxIter, [1, 5, 10, 20, 50]).addGrid(lr.regParam, [0.001, 0.01, 0.1, 0.5, 1.0, 2.0]).addGrid(lr.elasticNetParam, [0.0, 0.25, 0.5, 0.75, 1.0]).build()\n",
    "evaluator = RegressionEvaluator(predictionCol=\"prediction\", labelCol=target)\n",
    "cv = CrossValidator(estimator=lr, estimatorParamMaps=grid, evaluator=evaluator, parallelism=2, numFolds = 4)\n",
    "cvModel = cv.fit(train_df)\n",
    "best = cvModel.bestModel"
   ]
  },
  {
   "cell_type": "code",
   "execution_count": 21,
   "id": "1b7f4c33",
   "metadata": {
    "scrolled": true
   },
   "outputs": [
    {
     "name": "stdout",
     "output_type": "stream",
     "text": [
      "На обучающей выборке R2: 0.6434870416786485\n",
      "На обучающей выборке RMSE: 68749.39551060466\n",
      "На обучающей выборке MSE: 4726479383.073549\n"
     ]
    },
    {
     "name": "stderr",
     "output_type": "stream",
     "text": [
      "                                                                                \r"
     ]
    },
    {
     "name": "stdout",
     "output_type": "stream",
     "text": [
      "На тестовой выборке R2: 0.6349861672629691\n",
      "На тестовой выборке RMSE: 70412.44392173366\n",
      "На тестовой выборке MSE: 4957912259.031287\n"
     ]
    }
   ],
   "source": [
    "predictions = best.transform(test_df)\n",
    "print('На обучающей выборке R2:', best.summary.r2)\n",
    "print('На обучающей выборке RMSE:', best.summary.rootMeanSquaredError)\n",
    "print('На обучающей выборке MSE:', best.summary.meanSquaredError)\n",
    "print('На тестовой выборке R2:', evaluator.setParams(metricName=\"r2\").evaluate(predictions))\n",
    "print('На тестовой выборке RMSE:', evaluator.setParams(metricName=\"rmse\").evaluate(predictions))\n",
    "print('На тестовой выборке MSE:', evaluator.setParams(metricName=\"mse\").evaluate(predictions))"
   ]
  },
  {
   "cell_type": "markdown",
   "id": "eaadd287",
   "metadata": {},
   "source": [
    "Вроде получается. А теперь те же данные, но обучаем только основываясь на численных проскаллированных данных:"
   ]
  },
  {
   "cell_type": "code",
   "execution_count": 22,
   "id": "f4adce88",
   "metadata": {},
   "outputs": [
    {
     "name": "stderr",
     "output_type": "stream",
     "text": [
      "                                                                                \r"
     ]
    }
   ],
   "source": [
    "lr_wo = LinearRegression(labelCol=target, featuresCol='numerical_features_scaled')\n",
    "grid_wo = ParamGridBuilder().addGrid(lr_wo.maxIter, [1, 5, 10, 20, 50]).addGrid(lr_wo.regParam, [0.001, 0.01, 0.1, 0.5, 1.0, 2.0]).addGrid(lr_wo.elasticNetParam, [0.0, 0.25, 0.5, 0.75, 1.0]).build()\n",
    "cv_wo = CrossValidator(estimator=lr_wo, estimatorParamMaps=grid_wo, evaluator=evaluator, parallelism=2, numFolds = 4)\n",
    "cvModel_wo = cv_wo.fit(train_df)\n",
    "best_wo = cvModel_wo.bestModel"
   ]
  },
  {
   "cell_type": "code",
   "execution_count": 23,
   "id": "f6182324",
   "metadata": {},
   "outputs": [
    {
     "name": "stdout",
     "output_type": "stream",
     "text": [
      "На обучающей выборке R2: 0.5688193061268736\n",
      "На обучающей выборке RMSE: 75606.80351794005\n",
      "На обучающей выборке MSE: 5716388738.200392\n",
      "На обучающей выборке R2: 0.5580721214435987\n",
      "На обучающей выборке RMSE: 77476.58265790308\n",
      "На обучающей выборке MSE: 6002620860.3468895\n"
     ]
    }
   ],
   "source": [
    "predictions_wo = best_wo.transform(test_df)\n",
    "print('На обучающей выборке R2:', best_wo.summary.r2)\n",
    "print('На обучающей выборке RMSE:', best_wo.summary.rootMeanSquaredError)\n",
    "print('На обучающей выборке MSE:', best_wo.summary.meanSquaredError)\n",
    "print('На обучающей выборке R2:', evaluator.setParams(metricName=\"r2\").evaluate(predictions_wo))\n",
    "print('На обучающей выборке RMSE:', evaluator.setParams(metricName=\"rmse\").evaluate(predictions_wo))\n",
    "print('На обучающей выборке MSE:', evaluator.setParams(metricName=\"mse\").evaluate(predictions_wo))"
   ]
  },
  {
   "cell_type": "code",
   "execution_count": 24,
   "id": "6adc0e5f",
   "metadata": {},
   "outputs": [],
   "source": [
    "spark.stop()"
   ]
  },
  {
   "cell_type": "markdown",
   "id": "757fd103",
   "metadata": {
    "id": "757fd103"
   },
   "source": [
    "# Анализ результатов"
   ]
  },
  {
   "cell_type": "markdown",
   "id": "fc04f710",
   "metadata": {},
   "source": [
    "По результатам обучения моделей можно сделать вывод, что лучший результат нам дает модель с использованием категориальных признаков в обучающих данных."
   ]
  }
 ],
 "metadata": {
  "ExecuteTimeLog": [
   {
    "duration": 533,
    "start_time": "2022-05-31T13:00:15.229Z"
   },
   {
    "duration": 2,
    "start_time": "2022-05-31T13:02:41.504Z"
   },
   {
    "duration": 4,
    "start_time": "2022-05-31T16:19:30.186Z"
   },
   {
    "duration": 3,
    "start_time": "2022-05-31T16:19:31.535Z"
   },
   {
    "duration": 67,
    "start_time": "2022-05-31T16:21:08.617Z"
   },
   {
    "duration": 9,
    "start_time": "2022-05-31T16:22:49.018Z"
   },
   {
    "duration": 19,
    "start_time": "2022-05-31T16:23:13.116Z"
   },
   {
    "duration": 2,
    "start_time": "2022-05-31T16:23:14.443Z"
   },
   {
    "duration": 8,
    "start_time": "2022-05-31T16:23:16.115Z"
   },
   {
    "duration": 20872,
    "start_time": "2022-05-31T16:23:53.979Z"
   },
   {
    "duration": 5,
    "start_time": "2022-05-31T16:24:16.758Z"
   },
   {
    "duration": 7,
    "start_time": "2022-05-31T16:24:21.374Z"
   },
   {
    "duration": 10,
    "start_time": "2022-05-31T16:24:21.867Z"
   },
   {
    "duration": 10619,
    "start_time": "2022-05-31T16:24:23.646Z"
   },
   {
    "duration": 3,
    "start_time": "2022-05-31T16:25:18.812Z"
   },
   {
    "duration": 4,
    "start_time": "2022-05-31T16:25:20.518Z"
   },
   {
    "duration": 1018,
    "start_time": "2022-05-31T16:25:21.587Z"
   },
   {
    "duration": 796,
    "start_time": "2022-05-31T16:37:57.693Z"
   },
   {
    "duration": 422,
    "start_time": "2022-06-01T12:52:20.122Z"
   },
   {
    "duration": 19514,
    "start_time": "2022-06-01T12:52:21.392Z"
   },
   {
    "duration": 3,
    "start_time": "2022-06-01T12:52:52.010Z"
   },
   {
    "duration": 6,
    "start_time": "2022-06-01T12:52:52.338Z"
   },
   {
    "duration": 9150,
    "start_time": "2022-06-01T12:52:54.374Z"
   },
   {
    "duration": 613,
    "start_time": "2022-06-01T12:53:03.526Z"
   },
   {
    "duration": 3,
    "start_time": "2022-06-01T12:59:18.423Z"
   },
   {
    "duration": 57,
    "start_time": "2022-06-01T13:50:18.213Z"
   },
   {
    "duration": 9,
    "start_time": "2022-06-01T13:50:39.532Z"
   },
   {
    "duration": 3620,
    "start_time": "2022-06-01T13:50:43.015Z"
   },
   {
    "duration": 1797,
    "start_time": "2022-06-01T13:51:57.226Z"
   },
   {
    "duration": 21,
    "start_time": "2022-06-01T13:54:04.532Z"
   },
   {
    "duration": 1416,
    "start_time": "2022-06-01T13:54:13.624Z"
   },
   {
    "duration": 1230,
    "start_time": "2022-06-01T14:00:53.411Z"
   },
   {
    "duration": 965,
    "start_time": "2022-06-01T14:00:55.387Z"
   },
   {
    "duration": 281,
    "start_time": "2022-06-01T14:12:06.968Z"
   },
   {
    "duration": 202,
    "start_time": "2022-06-01T14:14:30.071Z"
   },
   {
    "duration": 3,
    "start_time": "2022-06-01T14:15:57.209Z"
   },
   {
    "duration": 32,
    "start_time": "2022-06-01T14:16:28.748Z"
   },
   {
    "duration": 22,
    "start_time": "2022-06-01T14:16:54.073Z"
   },
   {
    "duration": 3843,
    "start_time": "2022-06-01T14:17:09.498Z"
   },
   {
    "duration": 102,
    "start_time": "2022-06-01T14:17:30.615Z"
   },
   {
    "duration": 3,
    "start_time": "2022-06-01T14:17:44.420Z"
   },
   {
    "duration": 4,
    "start_time": "2022-06-01T14:17:44.832Z"
   },
   {
    "duration": 659,
    "start_time": "2022-06-01T14:17:45.696Z"
   },
   {
    "duration": 278,
    "start_time": "2022-06-01T14:17:46.357Z"
   },
   {
    "duration": 802,
    "start_time": "2022-06-01T14:17:47.354Z"
   },
   {
    "duration": 901,
    "start_time": "2022-06-01T14:17:48.159Z"
   },
   {
    "duration": 2524,
    "start_time": "2022-06-01T14:17:50.504Z"
   },
   {
    "duration": 55,
    "start_time": "2022-06-01T14:18:38.709Z"
   },
   {
    "duration": 10,
    "start_time": "2022-06-01T14:18:49.029Z"
   },
   {
    "duration": 415,
    "start_time": "2022-06-01T14:19:09.209Z"
   },
   {
    "duration": 199,
    "start_time": "2022-06-01T14:19:26.731Z"
   },
   {
    "duration": 3,
    "start_time": "2022-06-01T14:28:06.468Z"
   },
   {
    "duration": 61,
    "start_time": "2022-06-01T14:31:18.120Z"
   },
   {
    "duration": 76,
    "start_time": "2022-06-01T14:31:24.328Z"
   },
   {
    "duration": 281,
    "start_time": "2022-06-01T14:31:34.413Z"
   },
   {
    "duration": 32,
    "start_time": "2022-06-01T14:46:57.246Z"
   },
   {
    "duration": 276,
    "start_time": "2022-06-01T14:47:22.685Z"
   },
   {
    "duration": 4,
    "start_time": "2022-06-01T14:48:12.204Z"
   },
   {
    "duration": 1147,
    "start_time": "2022-06-01T14:49:46.295Z"
   },
   {
    "duration": 2448,
    "start_time": "2022-06-01T14:50:59.299Z"
   },
   {
    "duration": 1636,
    "start_time": "2022-06-01T14:51:52.148Z"
   },
   {
    "duration": 1296,
    "start_time": "2022-06-01T14:52:04.528Z"
   },
   {
    "duration": 315,
    "start_time": "2022-06-01T14:52:22.615Z"
   },
   {
    "duration": 12,
    "start_time": "2022-06-01T15:22:27.358Z"
   },
   {
    "duration": 9,
    "start_time": "2022-06-01T15:40:38.424Z"
   },
   {
    "duration": 158,
    "start_time": "2022-06-01T15:41:07.771Z"
   },
   {
    "duration": 18,
    "start_time": "2022-06-01T15:41:24.243Z"
   },
   {
    "duration": 26,
    "start_time": "2022-06-01T15:41:43.083Z"
   },
   {
    "duration": 22,
    "start_time": "2022-06-01T15:43:11.859Z"
   },
   {
    "duration": 1911,
    "start_time": "2022-06-01T15:43:14.927Z"
   },
   {
    "duration": 21,
    "start_time": "2022-06-01T15:43:36.747Z"
   },
   {
    "duration": 13,
    "start_time": "2022-06-01T15:43:49.636Z"
   },
   {
    "duration": 14,
    "start_time": "2022-06-01T15:44:12.253Z"
   },
   {
    "duration": 17,
    "start_time": "2022-06-01T15:44:28.492Z"
   },
   {
    "duration": 17,
    "start_time": "2022-06-01T15:44:34.613Z"
   },
   {
    "duration": 14,
    "start_time": "2022-06-01T15:45:04.737Z"
   },
   {
    "duration": 1103,
    "start_time": "2022-06-01T15:47:11.230Z"
   },
   {
    "duration": 191,
    "start_time": "2022-06-01T15:48:38.271Z"
   },
   {
    "duration": 210,
    "start_time": "2022-06-01T15:49:05.541Z"
   },
   {
    "duration": 376,
    "start_time": "2022-06-01T15:49:10.159Z"
   },
   {
    "duration": 15,
    "start_time": "2022-06-01T15:49:18.283Z"
   },
   {
    "duration": 3,
    "start_time": "2022-06-01T15:51:53.856Z"
   },
   {
    "duration": 279,
    "start_time": "2022-06-01T15:52:03.353Z"
   },
   {
    "duration": 552,
    "start_time": "2022-06-01T15:53:09.011Z"
   },
   {
    "duration": 557,
    "start_time": "2022-06-01T15:53:25.878Z"
   },
   {
    "duration": 7,
    "start_time": "2022-06-01T15:53:42.361Z"
   },
   {
    "duration": 5,
    "start_time": "2022-06-01T15:53:42.803Z"
   },
   {
    "duration": 310,
    "start_time": "2022-06-01T15:53:43.914Z"
   },
   {
    "duration": 75,
    "start_time": "2022-06-01T15:53:44.713Z"
   },
   {
    "duration": 872,
    "start_time": "2022-06-01T15:53:45.456Z"
   },
   {
    "duration": 636,
    "start_time": "2022-06-01T15:53:46.330Z"
   },
   {
    "duration": 1559,
    "start_time": "2022-06-01T15:53:46.968Z"
   },
   {
    "duration": 194,
    "start_time": "2022-06-01T15:53:48.530Z"
   },
   {
    "duration": 17,
    "start_time": "2022-06-01T15:53:48.726Z"
   },
   {
    "duration": 19,
    "start_time": "2022-06-01T15:53:49.869Z"
   },
   {
    "duration": 319,
    "start_time": "2022-06-01T15:53:51.347Z"
   },
   {
    "duration": 142,
    "start_time": "2022-06-01T15:53:52.238Z"
   },
   {
    "duration": 19,
    "start_time": "2022-06-01T15:53:52.974Z"
   },
   {
    "duration": 989,
    "start_time": "2022-06-01T15:53:54.140Z"
   },
   {
    "duration": 1427,
    "start_time": "2022-06-01T15:53:57.720Z"
   },
   {
    "duration": 6,
    "start_time": "2022-06-01T15:54:25.646Z"
   },
   {
    "duration": 251,
    "start_time": "2022-06-01T15:54:34.087Z"
   },
   {
    "duration": 137,
    "start_time": "2022-06-01T15:54:50.790Z"
   },
   {
    "duration": 4,
    "start_time": "2022-06-01T15:57:21.347Z"
   },
   {
    "duration": 4,
    "start_time": "2022-06-01T15:57:21.689Z"
   },
   {
    "duration": 240,
    "start_time": "2022-06-01T15:57:22.369Z"
   },
   {
    "duration": 141,
    "start_time": "2022-06-01T15:57:22.722Z"
   },
   {
    "duration": 690,
    "start_time": "2022-06-01T15:57:23.257Z"
   },
   {
    "duration": 574,
    "start_time": "2022-06-01T15:57:23.949Z"
   },
   {
    "duration": 1336,
    "start_time": "2022-06-01T15:57:24.525Z"
   },
   {
    "duration": 196,
    "start_time": "2022-06-01T15:57:25.863Z"
   },
   {
    "duration": 15,
    "start_time": "2022-06-01T15:57:26.476Z"
   },
   {
    "duration": 16,
    "start_time": "2022-06-01T15:57:28.326Z"
   },
   {
    "duration": 468,
    "start_time": "2022-06-01T15:57:29.776Z"
   },
   {
    "duration": 205,
    "start_time": "2022-06-01T15:57:30.822Z"
   },
   {
    "duration": 22,
    "start_time": "2022-06-01T15:57:31.818Z"
   },
   {
    "duration": 222,
    "start_time": "2022-06-01T15:57:33.358Z"
   },
   {
    "duration": 896,
    "start_time": "2022-06-01T16:01:19.547Z"
   },
   {
    "duration": 17,
    "start_time": "2022-06-01T16:01:22.632Z"
   },
   {
    "duration": 1275,
    "start_time": "2022-06-01T16:01:35.477Z"
   },
   {
    "duration": 483,
    "start_time": "2022-06-01T16:02:31.863Z"
   },
   {
    "duration": 811,
    "start_time": "2022-06-01T16:03:46.016Z"
   },
   {
    "duration": 104,
    "start_time": "2022-06-01T16:07:25.589Z"
   },
   {
    "duration": 94,
    "start_time": "2022-06-01T16:07:36.206Z"
   },
   {
    "duration": 109,
    "start_time": "2022-06-01T16:07:43.069Z"
   },
   {
    "duration": 17,
    "start_time": "2022-06-01T16:08:22.087Z"
   },
   {
    "duration": 954,
    "start_time": "2022-06-01T16:11:55.472Z"
   },
   {
    "duration": 131,
    "start_time": "2022-06-01T16:13:59.297Z"
   },
   {
    "duration": 3,
    "start_time": "2022-06-01T16:14:03.545Z"
   },
   {
    "duration": 920,
    "start_time": "2022-06-01T16:14:11.425Z"
   },
   {
    "duration": 3,
    "start_time": "2022-06-01T16:15:15.686Z"
   },
   {
    "duration": 686,
    "start_time": "2022-06-01T16:15:16.780Z"
   },
   {
    "duration": 17,
    "start_time": "2022-06-01T16:15:18.120Z"
   },
   {
    "duration": 2,
    "start_time": "2022-06-01T16:15:27.506Z"
   },
   {
    "duration": 846,
    "start_time": "2022-06-01T16:15:29.222Z"
   },
   {
    "duration": 987,
    "start_time": "2022-06-01T16:15:30.071Z"
   },
   {
    "duration": 920,
    "start_time": "2022-06-01T16:20:03.113Z"
   },
   {
    "duration": 16160,
    "start_time": "2022-06-01T16:21:56.669Z"
   },
   {
    "duration": 19188,
    "start_time": "2022-06-01T16:22:41.659Z"
   },
   {
    "duration": 4,
    "start_time": "2022-06-01T16:23:28.219Z"
   },
   {
    "duration": 17806,
    "start_time": "2022-06-01T16:24:16.021Z"
   },
   {
    "duration": 5,
    "start_time": "2022-06-01T16:27:34.942Z"
   },
   {
    "duration": 9,
    "start_time": "2022-06-01T16:27:48.156Z"
   },
   {
    "duration": 7,
    "start_time": "2022-06-01T16:28:01.715Z"
   },
   {
    "duration": 8,
    "start_time": "2022-06-01T16:28:04.997Z"
   },
   {
    "duration": 4,
    "start_time": "2022-06-01T16:28:37.404Z"
   },
   {
    "duration": 7,
    "start_time": "2022-06-01T16:28:40.391Z"
   },
   {
    "duration": 3,
    "start_time": "2022-06-01T16:28:43.463Z"
   },
   {
    "duration": 7,
    "start_time": "2022-06-01T16:28:59.430Z"
   },
   {
    "duration": 8,
    "start_time": "2022-06-01T16:32:25.218Z"
   },
   {
    "duration": 83,
    "start_time": "2022-06-01T16:32:31.026Z"
   },
   {
    "duration": 68,
    "start_time": "2022-06-01T16:33:19.522Z"
   },
   {
    "duration": 68,
    "start_time": "2022-06-01T16:33:25.799Z"
   },
   {
    "duration": 698,
    "start_time": "2022-06-01T16:34:49.042Z"
   },
   {
    "duration": 202314,
    "start_time": "2022-06-01T16:34:50.550Z"
   },
   {
    "duration": 145,
    "start_time": "2022-06-01T16:38:12.866Z"
   },
   {
    "duration": 497,
    "start_time": "2022-06-01T16:41:50.094Z"
   },
   {
    "duration": 19,
    "start_time": "2022-06-01T16:42:43.021Z"
   },
   {
    "duration": 712,
    "start_time": "2022-06-01T16:42:58.834Z"
   },
   {
    "duration": 1187,
    "start_time": "2022-06-01T16:43:26.766Z"
   },
   {
    "duration": 184523,
    "start_time": "2022-06-01T16:43:44.327Z"
   },
   {
    "duration": 823,
    "start_time": "2022-06-01T16:46:48.851Z"
   },
   {
    "duration": 13011,
    "start_time": "2022-06-01T16:47:58.536Z"
   },
   {
    "duration": 0,
    "start_time": "2022-06-01T16:48:11.548Z"
   },
   {
    "duration": 177043,
    "start_time": "2022-06-01T16:50:29.494Z"
   },
   {
    "duration": 1189,
    "start_time": "2022-06-01T16:53:26.538Z"
   },
   {
    "duration": 278,
    "start_time": "2022-06-01T17:07:52.305Z"
   },
   {
    "duration": 356,
    "start_time": "2022-06-01T17:08:05.113Z"
   },
   {
    "duration": 14787,
    "start_time": "2022-06-01T17:08:05.471Z"
   },
   {
    "duration": 8891,
    "start_time": "2022-06-01T17:08:20.259Z"
   },
   {
    "duration": 678,
    "start_time": "2022-06-01T17:08:29.152Z"
   },
   {
    "duration": 4842,
    "start_time": "2022-06-01T17:08:29.833Z"
   },
   {
    "duration": 1980,
    "start_time": "2022-06-01T17:08:34.676Z"
   },
   {
    "duration": 4086,
    "start_time": "2022-06-01T17:08:36.657Z"
   },
   {
    "duration": 390,
    "start_time": "2022-06-01T17:08:40.745Z"
   },
   {
    "duration": 105,
    "start_time": "2022-06-01T17:08:41.137Z"
   },
   {
    "duration": 1196,
    "start_time": "2022-06-01T17:08:41.244Z"
   },
   {
    "duration": 395,
    "start_time": "2022-06-01T17:08:42.442Z"
   },
   {
    "duration": 93,
    "start_time": "2022-06-01T17:08:42.840Z"
   },
   {
    "duration": 295,
    "start_time": "2022-06-01T17:08:42.935Z"
   },
   {
    "duration": 2809,
    "start_time": "2022-06-01T17:08:43.233Z"
   },
   {
    "duration": 250795,
    "start_time": "2022-06-01T17:08:46.044Z"
   },
   {
    "duration": 1725,
    "start_time": "2022-06-01T17:12:56.841Z"
   },
   {
    "duration": 187573,
    "start_time": "2022-06-01T17:12:58.567Z"
   },
   {
    "duration": 1450,
    "start_time": "2022-06-01T17:16:06.141Z"
   },
   {
    "duration": 279,
    "start_time": "2022-06-01T17:16:07.593Z"
   },
   {
    "duration": 1318,
    "start_time": "2022-06-02T17:41:20.199Z"
   },
   {
    "duration": 43010,
    "start_time": "2022-06-02T17:41:21.520Z"
   },
   {
    "duration": 16460,
    "start_time": "2022-06-02T17:42:04.532Z"
   },
   {
    "duration": 1194,
    "start_time": "2022-06-02T17:42:20.995Z"
   },
   {
    "duration": 6988,
    "start_time": "2022-06-02T17:42:22.192Z"
   },
   {
    "duration": 2721,
    "start_time": "2022-06-02T17:42:29.182Z"
   },
   {
    "duration": 7706,
    "start_time": "2022-06-02T17:42:31.931Z"
   },
   {
    "duration": 595,
    "start_time": "2022-06-02T17:42:39.647Z"
   },
   {
    "duration": 258,
    "start_time": "2022-06-02T17:42:40.245Z"
   },
   {
    "duration": 1984,
    "start_time": "2022-06-02T17:42:40.505Z"
   },
   {
    "duration": 468,
    "start_time": "2022-06-02T17:42:42.490Z"
   },
   {
    "duration": 101,
    "start_time": "2022-06-02T17:42:42.960Z"
   },
   {
    "duration": 475,
    "start_time": "2022-06-02T17:42:43.064Z"
   },
   {
    "duration": 4021,
    "start_time": "2022-06-02T17:42:43.542Z"
   },
   {
    "duration": 320509,
    "start_time": "2022-06-02T17:42:47.565Z"
   },
   {
    "duration": 1692,
    "start_time": "2022-06-02T17:48:08.077Z"
   },
   {
    "duration": 275589,
    "start_time": "2022-06-02T17:48:09.771Z"
   },
   {
    "duration": 2209,
    "start_time": "2022-06-02T17:52:45.363Z"
   },
   {
    "duration": 785,
    "start_time": "2022-06-02T17:52:47.573Z"
   },
   {
    "duration": 19,
    "start_time": "2022-06-02T17:58:49.550Z"
   },
   {
    "duration": 508,
    "start_time": "2022-06-02T18:00:20.222Z"
   },
   {
    "duration": 10,
    "start_time": "2022-06-02T18:05:00.973Z"
   },
   {
    "duration": 7,
    "start_time": "2022-06-02T18:05:11.742Z"
   },
   {
    "duration": 34,
    "start_time": "2022-06-02T18:05:26.357Z"
   },
   {
    "duration": 6,
    "start_time": "2022-06-02T18:11:47.916Z"
   },
   {
    "duration": 326,
    "start_time": "2022-06-03T09:50:30.518Z"
   },
   {
    "duration": 15561,
    "start_time": "2022-06-03T09:50:30.846Z"
   },
   {
    "duration": 9400,
    "start_time": "2022-06-03T09:50:46.409Z"
   },
   {
    "duration": 789,
    "start_time": "2022-06-03T09:50:55.813Z"
   },
   {
    "duration": 5114,
    "start_time": "2022-06-03T09:50:56.604Z"
   },
   {
    "duration": 2010,
    "start_time": "2022-06-03T09:51:01.720Z"
   },
   {
    "duration": 5282,
    "start_time": "2022-06-03T09:51:03.732Z"
   },
   {
    "duration": 398,
    "start_time": "2022-06-03T09:51:09.016Z"
   },
   {
    "duration": 184,
    "start_time": "2022-06-03T09:51:09.416Z"
   },
   {
    "duration": 1304,
    "start_time": "2022-06-03T09:51:09.603Z"
   },
   {
    "duration": 487,
    "start_time": "2022-06-03T09:51:10.909Z"
   },
   {
    "duration": 92,
    "start_time": "2022-06-03T09:51:11.398Z"
   },
   {
    "duration": 338,
    "start_time": "2022-06-03T09:51:11.492Z"
   },
   {
    "duration": 3088,
    "start_time": "2022-06-03T09:51:11.832Z"
   },
   {
    "duration": 279907,
    "start_time": "2022-06-03T09:51:14.922Z"
   },
   {
    "duration": 1401,
    "start_time": "2022-06-03T09:55:54.832Z"
   },
   {
    "duration": 204376,
    "start_time": "2022-06-03T09:55:56.234Z"
   },
   {
    "duration": 1321,
    "start_time": "2022-06-03T09:59:20.612Z"
   },
   {
    "duration": 759,
    "start_time": "2022-06-03T09:59:21.935Z"
   },
   {
    "duration": 327,
    "start_time": "2022-06-03T10:07:58.815Z"
   },
   {
    "duration": 15359,
    "start_time": "2022-06-03T10:07:59.144Z"
   },
   {
    "duration": 9484,
    "start_time": "2022-06-03T10:08:14.506Z"
   },
   {
    "duration": 712,
    "start_time": "2022-06-03T10:08:23.993Z"
   },
   {
    "duration": 4823,
    "start_time": "2022-06-03T10:08:24.707Z"
   },
   {
    "duration": 1878,
    "start_time": "2022-06-03T10:08:29.531Z"
   },
   {
    "duration": 4813,
    "start_time": "2022-06-03T10:08:31.411Z"
   },
   {
    "duration": 326,
    "start_time": "2022-06-03T10:08:36.289Z"
   },
   {
    "duration": 198,
    "start_time": "2022-06-03T10:08:36.617Z"
   },
   {
    "duration": 1190,
    "start_time": "2022-06-03T10:08:36.816Z"
   },
   {
    "duration": 394,
    "start_time": "2022-06-03T10:08:38.008Z"
   },
   {
    "duration": 97,
    "start_time": "2022-06-03T10:08:38.404Z"
   },
   {
    "duration": 294,
    "start_time": "2022-06-03T10:08:38.503Z"
   },
   {
    "duration": 3292,
    "start_time": "2022-06-03T10:08:38.800Z"
   },
   {
    "duration": 272239,
    "start_time": "2022-06-03T10:08:42.094Z"
   },
   {
    "duration": 1554,
    "start_time": "2022-06-03T10:13:14.335Z"
   },
   {
    "duration": 201917,
    "start_time": "2022-06-03T10:13:15.891Z"
   },
   {
    "duration": 1336,
    "start_time": "2022-06-03T10:16:37.810Z"
   },
   {
    "duration": 4,
    "start_time": "2022-06-03T13:38:33.332Z"
   },
   {
    "duration": 7,
    "start_time": "2022-06-03T13:38:34.674Z"
   },
   {
    "duration": 676,
    "start_time": "2022-06-03T13:38:38.020Z"
   },
   {
    "duration": 110,
    "start_time": "2022-06-03T13:38:40.545Z"
   },
   {
    "duration": 1226,
    "start_time": "2022-06-03T13:38:42.796Z"
   },
   {
    "duration": 3,
    "start_time": "2022-06-03T13:38:45.287Z"
   },
   {
    "duration": 4,
    "start_time": "2022-06-03T13:38:56.655Z"
   },
   {
    "duration": 4,
    "start_time": "2022-06-03T13:38:57.417Z"
   },
   {
    "duration": 296,
    "start_time": "2022-06-03T13:38:58.493Z"
   },
   {
    "duration": 215,
    "start_time": "2022-06-03T13:38:59.975Z"
   },
   {
    "duration": 769,
    "start_time": "2022-06-03T13:39:00.622Z"
   },
   {
    "duration": 4,
    "start_time": "2022-06-03T13:39:03.036Z"
   },
   {
    "duration": 88,
    "start_time": "2022-06-03T13:39:12.312Z"
   },
   {
    "duration": 9,
    "start_time": "2022-06-03T13:39:36.616Z"
   },
   {
    "duration": 8,
    "start_time": "2022-06-03T13:39:44.004Z"
   },
   {
    "duration": 7,
    "start_time": "2022-06-03T13:39:48.812Z"
   },
   {
    "duration": 4,
    "start_time": "2022-06-03T13:39:50.874Z"
   },
   {
    "duration": 8,
    "start_time": "2022-06-03T13:39:54.924Z"
   },
   {
    "duration": 13,
    "start_time": "2022-06-03T13:56:12.721Z"
   },
   {
    "duration": 11,
    "start_time": "2022-06-03T14:00:46.727Z"
   },
   {
    "duration": 9,
    "start_time": "2022-06-03T14:01:11.301Z"
   },
   {
    "duration": 8,
    "start_time": "2022-06-03T14:01:17.078Z"
   },
   {
    "duration": 8,
    "start_time": "2022-06-03T14:02:20.198Z"
   },
   {
    "duration": 8,
    "start_time": "2022-06-03T14:07:30.916Z"
   },
   {
    "duration": 99,
    "start_time": "2022-06-03T14:09:35.665Z"
   },
   {
    "duration": 8,
    "start_time": "2022-06-03T14:09:57.176Z"
   },
   {
    "duration": 46,
    "start_time": "2022-06-03T14:10:05.599Z"
   },
   {
    "duration": 10,
    "start_time": "2022-06-03T14:10:11.968Z"
   },
   {
    "duration": 11,
    "start_time": "2022-06-03T14:12:07.636Z"
   },
   {
    "duration": 12,
    "start_time": "2022-06-03T14:12:15.127Z"
   },
   {
    "duration": 14,
    "start_time": "2022-06-03T14:12:27.465Z"
   },
   {
    "duration": 36,
    "start_time": "2022-06-03T14:12:42.164Z"
   },
   {
    "duration": 122,
    "start_time": "2022-06-03T14:12:50.891Z"
   },
   {
    "duration": 647,
    "start_time": "2022-06-03T14:14:12.871Z"
   },
   {
    "duration": 24,
    "start_time": "2022-06-03T14:14:28.934Z"
   },
   {
    "duration": 11,
    "start_time": "2022-06-03T14:15:15.131Z"
   },
   {
    "duration": 10,
    "start_time": "2022-06-03T14:15:40.782Z"
   },
   {
    "duration": 2768,
    "start_time": "2022-06-03T14:17:36.964Z"
   },
   {
    "duration": 1210,
    "start_time": "2022-06-03T14:19:38.094Z"
   },
   {
    "duration": 1836,
    "start_time": "2022-06-03T14:19:46.293Z"
   },
   {
    "duration": 98,
    "start_time": "2022-06-03T14:19:49.003Z"
   },
   {
    "duration": 19,
    "start_time": "2022-06-03T14:31:00.181Z"
   },
   {
    "duration": 2,
    "start_time": "2022-06-03T14:49:15.325Z"
   },
   {
    "duration": 53,
    "start_time": "2022-06-03T14:49:46.407Z"
   },
   {
    "duration": 2,
    "start_time": "2022-06-03T14:49:52.676Z"
   },
   {
    "duration": 3,
    "start_time": "2022-06-03T14:50:34.779Z"
   },
   {
    "duration": 29,
    "start_time": "2022-06-03T14:53:32.634Z"
   },
   {
    "duration": 31,
    "start_time": "2022-06-03T14:53:46.491Z"
   },
   {
    "duration": 4,
    "start_time": "2022-06-03T14:54:09.026Z"
   },
   {
    "duration": 3,
    "start_time": "2022-06-03T14:54:10.852Z"
   },
   {
    "duration": 3,
    "start_time": "2022-06-03T14:54:11.841Z"
   },
   {
    "duration": 343,
    "start_time": "2022-06-03T14:54:13.985Z"
   },
   {
    "duration": 99,
    "start_time": "2022-06-03T14:54:15.795Z"
   },
   {
    "duration": 800,
    "start_time": "2022-06-03T14:54:16.404Z"
   },
   {
    "duration": 1885,
    "start_time": "2022-06-03T14:54:18.496Z"
   },
   {
    "duration": 648,
    "start_time": "2022-06-03T14:54:22.047Z"
   },
   {
    "duration": 1487,
    "start_time": "2022-06-03T14:54:25.103Z"
   },
   {
    "duration": 101,
    "start_time": "2022-06-03T14:54:27.671Z"
   },
   {
    "duration": 3,
    "start_time": "2022-06-03T14:54:35.859Z"
   },
   {
    "duration": 32,
    "start_time": "2022-06-03T14:54:37.301Z"
   },
   {
    "duration": 25,
    "start_time": "2022-06-03T14:54:54.030Z"
   },
   {
    "duration": 31,
    "start_time": "2022-06-03T14:54:58.806Z"
   },
   {
    "duration": 9,
    "start_time": "2022-06-03T14:59:46.924Z"
   },
   {
    "duration": 3,
    "start_time": "2022-06-03T15:01:00.889Z"
   },
   {
    "duration": 12,
    "start_time": "2022-06-03T15:01:20.849Z"
   },
   {
    "duration": 24,
    "start_time": "2022-06-03T15:03:16.074Z"
   },
   {
    "duration": 43,
    "start_time": "2022-06-03T15:05:25.294Z"
   },
   {
    "duration": 3,
    "start_time": "2022-06-03T15:05:39.193Z"
   },
   {
    "duration": 710,
    "start_time": "2022-06-03T15:06:46.392Z"
   },
   {
    "duration": 6,
    "start_time": "2022-06-03T15:07:14.856Z"
   },
   {
    "duration": 302,
    "start_time": "2022-06-03T15:07:37.526Z"
   },
   {
    "duration": 1793,
    "start_time": "2022-06-03T15:09:13.335Z"
   },
   {
    "duration": 71,
    "start_time": "2022-06-03T15:10:07.340Z"
   },
   {
    "duration": 67,
    "start_time": "2022-06-03T15:10:07.631Z"
   },
   {
    "duration": 4,
    "start_time": "2022-06-03T15:10:13.112Z"
   },
   {
    "duration": 3,
    "start_time": "2022-06-03T15:10:14.373Z"
   },
   {
    "duration": 4,
    "start_time": "2022-06-03T15:10:15.212Z"
   },
   {
    "duration": 319,
    "start_time": "2022-06-03T15:10:16.076Z"
   },
   {
    "duration": 86,
    "start_time": "2022-06-03T15:10:17.165Z"
   },
   {
    "duration": 588,
    "start_time": "2022-06-03T15:10:17.714Z"
   },
   {
    "duration": 1611,
    "start_time": "2022-06-03T15:10:18.506Z"
   },
   {
    "duration": 581,
    "start_time": "2022-06-03T15:10:21.133Z"
   },
   {
    "duration": 1392,
    "start_time": "2022-06-03T15:10:23.119Z"
   },
   {
    "duration": 84,
    "start_time": "2022-06-03T15:10:51.662Z"
   },
   {
    "duration": 92,
    "start_time": "2022-06-03T15:10:53.209Z"
   },
   {
    "duration": 18,
    "start_time": "2022-06-03T15:10:59.870Z"
   },
   {
    "duration": 337,
    "start_time": "2022-06-03T15:11:01.382Z"
   },
   {
    "duration": 1148,
    "start_time": "2022-06-03T15:11:02.442Z"
   },
   {
    "duration": 72,
    "start_time": "2022-06-03T15:11:11.268Z"
   },
   {
    "duration": 4,
    "start_time": "2022-06-03T15:11:18.046Z"
   },
   {
    "duration": 2,
    "start_time": "2022-06-03T15:11:18.624Z"
   },
   {
    "duration": 4,
    "start_time": "2022-06-03T15:11:19.235Z"
   },
   {
    "duration": 201,
    "start_time": "2022-06-03T15:11:20.344Z"
   },
   {
    "duration": 64,
    "start_time": "2022-06-03T15:11:21.258Z"
   },
   {
    "duration": 509,
    "start_time": "2022-06-03T15:11:21.703Z"
   },
   {
    "duration": 1193,
    "start_time": "2022-06-03T15:11:23.149Z"
   },
   {
    "duration": 531,
    "start_time": "2022-06-03T15:11:25.372Z"
   },
   {
    "duration": 928,
    "start_time": "2022-06-03T15:11:26.939Z"
   },
   {
    "duration": 97,
    "start_time": "2022-06-03T15:11:30.281Z"
   },
   {
    "duration": 18,
    "start_time": "2022-06-03T15:11:31.921Z"
   },
   {
    "duration": 209,
    "start_time": "2022-06-03T15:11:32.501Z"
   },
   {
    "duration": 219,
    "start_time": "2022-06-03T15:11:33.630Z"
   },
   {
    "duration": 17,
    "start_time": "2022-06-03T15:13:32.055Z"
   },
   {
    "duration": 617,
    "start_time": "2022-06-03T15:13:37.384Z"
   },
   {
    "duration": 211,
    "start_time": "2022-06-03T15:13:41.008Z"
   },
   {
    "duration": 20,
    "start_time": "2022-06-03T15:13:56.221Z"
   },
   {
    "duration": 153,
    "start_time": "2022-06-03T15:13:57.401Z"
   },
   {
    "duration": 1995,
    "start_time": "2022-06-03T15:14:14.081Z"
   },
   {
    "duration": 235263,
    "start_time": "2022-06-03T15:14:22.448Z"
   },
   {
    "duration": 1715,
    "start_time": "2022-06-03T15:18:33.936Z"
   },
   {
    "duration": 8,
    "start_time": "2022-06-03T15:19:33.910Z"
   },
   {
    "duration": 10,
    "start_time": "2022-06-03T15:20:03.432Z"
   },
   {
    "duration": 5,
    "start_time": "2022-06-03T15:20:07.256Z"
   },
   {
    "duration": 27,
    "start_time": "2022-06-03T15:20:52.825Z"
   },
   {
    "duration": 21,
    "start_time": "2022-06-03T15:21:00.780Z"
   },
   {
    "duration": 17,
    "start_time": "2022-06-03T15:21:21.227Z"
   },
   {
    "duration": 27,
    "start_time": "2022-06-03T15:22:08.924Z"
   },
   {
    "duration": 412,
    "start_time": "2022-06-03T15:22:44.877Z"
   },
   {
    "duration": 3,
    "start_time": "2022-06-03T15:22:45.291Z"
   },
   {
    "duration": 16006,
    "start_time": "2022-06-03T15:22:45.296Z"
   },
   {
    "duration": 9708,
    "start_time": "2022-06-03T15:23:01.304Z"
   },
   {
    "duration": 788,
    "start_time": "2022-06-03T15:23:11.015Z"
   },
   {
    "duration": 5119,
    "start_time": "2022-06-03T15:23:11.804Z"
   },
   {
    "duration": 5506,
    "start_time": "2022-06-03T15:23:16.925Z"
   },
   {
    "duration": 1979,
    "start_time": "2022-06-03T15:23:22.433Z"
   },
   {
    "duration": 5076,
    "start_time": "2022-06-03T15:23:24.413Z"
   },
   {
    "duration": 409,
    "start_time": "2022-06-03T15:23:29.492Z"
   },
   {
    "duration": 105,
    "start_time": "2022-06-03T15:23:29.903Z"
   },
   {
    "duration": 805,
    "start_time": "2022-06-03T15:23:30.010Z"
   },
   {
    "duration": 576,
    "start_time": "2022-06-03T15:23:30.817Z"
   },
   {
    "duration": 25,
    "start_time": "2022-06-03T15:23:31.398Z"
   },
   {
    "duration": 1210,
    "start_time": "2022-06-03T15:23:31.491Z"
   },
   {
    "duration": 415,
    "start_time": "2022-06-03T15:23:32.703Z"
   },
   {
    "duration": 79,
    "start_time": "2022-06-03T15:23:33.120Z"
   },
   {
    "duration": 326,
    "start_time": "2022-06-03T15:23:33.201Z"
   },
   {
    "duration": 3398,
    "start_time": "2022-06-03T15:23:33.529Z"
   },
   {
    "duration": 288573,
    "start_time": "2022-06-03T15:23:36.929Z"
   },
   {
    "duration": 20,
    "start_time": "2022-06-03T15:28:25.504Z"
   },
   {
    "duration": 248476,
    "start_time": "2022-06-03T15:28:25.526Z"
   },
   {
    "duration": 21,
    "start_time": "2022-06-03T15:32:34.005Z"
   },
   {
    "duration": 284,
    "start_time": "2022-06-03T15:32:34.028Z"
   },
   {
    "duration": 164,
    "start_time": "2022-06-03T15:33:03.969Z"
   },
   {
    "duration": 35,
    "start_time": "2022-06-03T15:33:12.525Z"
   },
   {
    "duration": 26,
    "start_time": "2022-06-03T15:33:22.639Z"
   },
   {
    "duration": 25,
    "start_time": "2022-06-03T15:33:46.590Z"
   },
   {
    "duration": 8,
    "start_time": "2022-06-03T15:33:53.724Z"
   },
   {
    "duration": 19,
    "start_time": "2022-06-03T15:33:56.747Z"
   },
   {
    "duration": 5,
    "start_time": "2022-06-03T15:40:24.347Z"
   },
   {
    "duration": 4,
    "start_time": "2022-06-03T15:40:35.192Z"
   },
   {
    "duration": 23,
    "start_time": "2022-06-03T15:41:07.302Z"
   },
   {
    "duration": 413,
    "start_time": "2022-06-03T15:41:18.231Z"
   },
   {
    "duration": 3,
    "start_time": "2022-06-03T15:41:18.647Z"
   },
   {
    "duration": 16882,
    "start_time": "2022-06-03T15:41:18.652Z"
   },
   {
    "duration": 10245,
    "start_time": "2022-06-03T15:41:35.589Z"
   },
   {
    "duration": 866,
    "start_time": "2022-06-03T15:41:45.836Z"
   },
   {
    "duration": 5814,
    "start_time": "2022-06-03T15:41:46.704Z"
   },
   {
    "duration": 5821,
    "start_time": "2022-06-03T15:41:52.524Z"
   },
   {
    "duration": 2514,
    "start_time": "2022-06-03T15:41:58.390Z"
   },
   {
    "duration": 6083,
    "start_time": "2022-06-03T15:42:00.907Z"
   },
   {
    "duration": 405,
    "start_time": "2022-06-03T15:42:06.993Z"
   },
   {
    "duration": 116,
    "start_time": "2022-06-03T15:42:07.400Z"
   },
   {
    "duration": 1073,
    "start_time": "2022-06-03T15:42:07.518Z"
   },
   {
    "duration": 716,
    "start_time": "2022-06-03T15:42:08.592Z"
   },
   {
    "duration": 110,
    "start_time": "2022-06-03T15:42:09.310Z"
   },
   {
    "duration": 1384,
    "start_time": "2022-06-03T15:42:09.425Z"
   },
   {
    "duration": 493,
    "start_time": "2022-06-03T15:42:10.812Z"
   },
   {
    "duration": 90,
    "start_time": "2022-06-03T15:42:11.307Z"
   },
   {
    "duration": 399,
    "start_time": "2022-06-03T15:42:11.400Z"
   },
   {
    "duration": 4098,
    "start_time": "2022-06-03T15:42:11.801Z"
   },
   {
    "duration": 341216,
    "start_time": "2022-06-03T15:42:15.901Z"
   },
   {
    "duration": 0,
    "start_time": "2022-06-03T15:47:57.120Z"
   },
   {
    "duration": 0,
    "start_time": "2022-06-03T15:47:57.122Z"
   },
   {
    "duration": 0,
    "start_time": "2022-06-03T15:47:57.123Z"
   },
   {
    "duration": 0,
    "start_time": "2022-06-03T15:47:57.125Z"
   },
   {
    "duration": 0,
    "start_time": "2022-06-03T15:47:57.127Z"
   },
   {
    "duration": 0,
    "start_time": "2022-06-03T15:47:57.190Z"
   },
   {
    "duration": 4,
    "start_time": "2022-06-03T15:48:24.793Z"
   },
   {
    "duration": 2169,
    "start_time": "2022-06-03T15:48:37.263Z"
   },
   {
    "duration": 1620,
    "start_time": "2022-06-03T15:51:07.340Z"
   },
   {
    "duration": 1158,
    "start_time": "2022-06-03T15:51:37.860Z"
   },
   {
    "duration": 239571,
    "start_time": "2022-06-03T15:51:41.119Z"
   },
   {
    "duration": 1762,
    "start_time": "2022-06-03T15:55:40.693Z"
   },
   {
    "duration": 387,
    "start_time": "2022-06-03T16:01:47.604Z"
   },
   {
    "duration": 3,
    "start_time": "2022-06-03T16:01:47.993Z"
   },
   {
    "duration": 16329,
    "start_time": "2022-06-03T16:01:47.998Z"
   },
   {
    "duration": 9588,
    "start_time": "2022-06-03T16:02:04.330Z"
   },
   {
    "duration": 799,
    "start_time": "2022-06-03T16:02:13.921Z"
   },
   {
    "duration": 5108,
    "start_time": "2022-06-03T16:02:14.722Z"
   },
   {
    "duration": 4584,
    "start_time": "2022-06-03T16:02:19.832Z"
   },
   {
    "duration": 1883,
    "start_time": "2022-06-03T16:02:24.418Z"
   },
   {
    "duration": 4916,
    "start_time": "2022-06-03T16:02:26.304Z"
   },
   {
    "duration": 396,
    "start_time": "2022-06-03T16:02:31.222Z"
   },
   {
    "duration": 114,
    "start_time": "2022-06-03T16:02:31.620Z"
   },
   {
    "duration": 906,
    "start_time": "2022-06-03T16:02:31.791Z"
   },
   {
    "duration": 521,
    "start_time": "2022-06-03T16:02:32.699Z"
   },
   {
    "duration": 90,
    "start_time": "2022-06-03T16:02:33.223Z"
   },
   {
    "duration": 1387,
    "start_time": "2022-06-03T16:02:33.315Z"
   },
   {
    "duration": 505,
    "start_time": "2022-06-03T16:02:34.705Z"
   },
   {
    "duration": 91,
    "start_time": "2022-06-03T16:02:35.212Z"
   },
   {
    "duration": 320,
    "start_time": "2022-06-03T16:02:35.305Z"
   },
   {
    "duration": 4188,
    "start_time": "2022-06-03T16:02:35.627Z"
   },
   {
    "duration": 281477,
    "start_time": "2022-06-03T16:02:39.817Z"
   },
   {
    "duration": 1813,
    "start_time": "2022-06-03T16:07:21.296Z"
   },
   {
    "duration": 213685,
    "start_time": "2022-06-03T16:07:23.111Z"
   },
   {
    "duration": 1811,
    "start_time": "2022-06-03T16:10:56.798Z"
   },
   {
    "duration": 426,
    "start_time": "2022-06-03T16:10:58.611Z"
   }
  ],
  "colab": {
   "name": "PySparkSprint.ipynb",
   "provenance": []
  },
  "kernelspec": {
   "display_name": "Python 3 (ipykernel)",
   "language": "python",
   "name": "python3"
  },
  "language_info": {
   "codemirror_mode": {
    "name": "ipython",
    "version": 3
   },
   "file_extension": ".py",
   "mimetype": "text/x-python",
   "name": "python",
   "nbconvert_exporter": "python",
   "pygments_lexer": "ipython3",
   "version": "3.8.13"
  },
  "toc": {
   "base_numbering": 1,
   "nav_menu": {},
   "number_sections": true,
   "sideBar": true,
   "skip_h1_title": true,
   "title_cell": "Table of Contents",
   "title_sidebar": "Contents",
   "toc_cell": false,
   "toc_position": {},
   "toc_section_display": true,
   "toc_window_display": false
  }
 },
 "nbformat": 4,
 "nbformat_minor": 5
}
