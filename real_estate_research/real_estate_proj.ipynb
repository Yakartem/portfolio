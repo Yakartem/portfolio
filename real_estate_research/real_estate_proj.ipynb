{
 "cells": [
  {
   "cell_type": "markdown",
   "metadata": {},
   "source": [
    "# Исследование объявлений о продаже квартир"
   ]
  },
  {
   "cell_type": "markdown",
   "metadata": {},
   "source": [
    "**Цели исследования**:\n",
    "1. Изучить параметры цены, площади, числа комнат, высоты потолков. Построить для них гистограммы.\n",
    "2. Изучить время продажи квартиры. Изучить данные о слишком быстрых и слишком долгих продажах и объяснить их.\n",
    "3. Избавиться от \"выбросов\" в данных.\n",
    "4. Изучить влияние различных факторов на цену квартиры.\n",
    "5. Изучить данные о 10 городах с наименьшим количеством объявлений.\n",
    "6. Изучить как меняется цена в зависимости от расстояния до центра города на примере Санкт-Петербурга.\n",
    "7. Изучить квартиры в центре города и цены на них."
   ]
  },
  {
   "cell_type": "markdown",
   "metadata": {},
   "source": [
    "## Изучение данных из файла"
   ]
  },
  {
   "cell_type": "markdown",
   "metadata": {},
   "source": [
    "Прочитаем предоставленные нам данные и оценим их:"
   ]
  },
  {
   "cell_type": "code",
   "execution_count": 1,
   "metadata": {
    "scrolled": true
   },
   "outputs": [
    {
     "name": "stdout",
     "output_type": "stream",
     "text": [
      "<class 'pandas.core.frame.DataFrame'>\n",
      "RangeIndex: 23699 entries, 0 to 23698\n",
      "Data columns (total 1 columns):\n",
      " #   Column                                                                                                                                                                                                                                                                                           Non-Null Count  Dtype \n",
      "---  ------                                                                                                                                                                                                                                                                                           --------------  ----- \n",
      " 0   total_images\tlast_price\ttotal_area\tfirst_day_exposition\trooms\tceiling_height\tfloors_total\tliving_area\tfloor\tis_apartment\tstudio\topen_plan\tkitchen_area\tbalcony\tlocality_name\tairports_nearest\tcityCenters_nearest\tparks_around3000\tparks_nearest\tponds_around3000\tponds_nearest\tdays_exposition  23699 non-null  object\n",
      "dtypes: object(1)\n",
      "memory usage: 185.3+ KB\n"
     ]
    }
   ],
   "source": [
    "import pandas as pd\n",
    "df = pd.read_csv('datasets/real_estate_data.csv')\n",
    "df.info()"
   ]
  },
  {
   "cell_type": "markdown",
   "metadata": {},
   "source": [
    "Как мы видим, возникает проблема с разделителем. Избавимся от неё:"
   ]
  },
  {
   "cell_type": "code",
   "execution_count": 2,
   "metadata": {
    "scrolled": false
   },
   "outputs": [
    {
     "name": "stdout",
     "output_type": "stream",
     "text": [
      "<class 'pandas.core.frame.DataFrame'>\n",
      "RangeIndex: 23699 entries, 0 to 23698\n",
      "Data columns (total 22 columns):\n",
      " #   Column                Non-Null Count  Dtype  \n",
      "---  ------                --------------  -----  \n",
      " 0   total_images          23699 non-null  int64  \n",
      " 1   last_price            23699 non-null  float64\n",
      " 2   total_area            23699 non-null  float64\n",
      " 3   first_day_exposition  23699 non-null  object \n",
      " 4   rooms                 23699 non-null  int64  \n",
      " 5   ceiling_height        14504 non-null  float64\n",
      " 6   floors_total          23613 non-null  float64\n",
      " 7   living_area           21796 non-null  float64\n",
      " 8   floor                 23699 non-null  int64  \n",
      " 9   is_apartment          2775 non-null   object \n",
      " 10  studio                23699 non-null  bool   \n",
      " 11  open_plan             23699 non-null  bool   \n",
      " 12  kitchen_area          21421 non-null  float64\n",
      " 13  balcony               12180 non-null  float64\n",
      " 14  locality_name         23650 non-null  object \n",
      " 15  airports_nearest      18157 non-null  float64\n",
      " 16  cityCenters_nearest   18180 non-null  float64\n",
      " 17  parks_around3000      18181 non-null  float64\n",
      " 18  parks_nearest         8079 non-null   float64\n",
      " 19  ponds_around3000      18181 non-null  float64\n",
      " 20  ponds_nearest         9110 non-null   float64\n",
      " 21  days_exposition       20518 non-null  float64\n",
      "dtypes: bool(2), float64(14), int64(3), object(3)\n",
      "memory usage: 3.7+ MB\n"
     ]
    }
   ],
   "source": [
    "df = pd.read_csv('datasets/real_estate_data.csv', sep='\\t')\n",
    "df.info()"
   ]
  },
  {
   "cell_type": "code",
   "execution_count": 3,
   "metadata": {},
   "outputs": [
    {
     "data": {
      "text/html": [
       "<div>\n",
       "<style scoped>\n",
       "    .dataframe tbody tr th:only-of-type {\n",
       "        vertical-align: middle;\n",
       "    }\n",
       "\n",
       "    .dataframe tbody tr th {\n",
       "        vertical-align: top;\n",
       "    }\n",
       "\n",
       "    .dataframe thead th {\n",
       "        text-align: right;\n",
       "    }\n",
       "</style>\n",
       "<table border=\"1\" class=\"dataframe\">\n",
       "  <thead>\n",
       "    <tr style=\"text-align: right;\">\n",
       "      <th></th>\n",
       "      <th>total_images</th>\n",
       "      <th>last_price</th>\n",
       "      <th>total_area</th>\n",
       "      <th>first_day_exposition</th>\n",
       "      <th>rooms</th>\n",
       "      <th>ceiling_height</th>\n",
       "      <th>floors_total</th>\n",
       "      <th>living_area</th>\n",
       "      <th>floor</th>\n",
       "      <th>is_apartment</th>\n",
       "      <th>...</th>\n",
       "      <th>kitchen_area</th>\n",
       "      <th>balcony</th>\n",
       "      <th>locality_name</th>\n",
       "      <th>airports_nearest</th>\n",
       "      <th>cityCenters_nearest</th>\n",
       "      <th>parks_around3000</th>\n",
       "      <th>parks_nearest</th>\n",
       "      <th>ponds_around3000</th>\n",
       "      <th>ponds_nearest</th>\n",
       "      <th>days_exposition</th>\n",
       "    </tr>\n",
       "  </thead>\n",
       "  <tbody>\n",
       "    <tr>\n",
       "      <th>0</th>\n",
       "      <td>20</td>\n",
       "      <td>13000000.0</td>\n",
       "      <td>108.00</td>\n",
       "      <td>2019-03-07T00:00:00</td>\n",
       "      <td>3</td>\n",
       "      <td>2.70</td>\n",
       "      <td>16.0</td>\n",
       "      <td>51.00</td>\n",
       "      <td>8</td>\n",
       "      <td>NaN</td>\n",
       "      <td>...</td>\n",
       "      <td>25.00</td>\n",
       "      <td>NaN</td>\n",
       "      <td>Санкт-Петербург</td>\n",
       "      <td>18863.0</td>\n",
       "      <td>16028.0</td>\n",
       "      <td>1.0</td>\n",
       "      <td>482.0</td>\n",
       "      <td>2.0</td>\n",
       "      <td>755.0</td>\n",
       "      <td>NaN</td>\n",
       "    </tr>\n",
       "    <tr>\n",
       "      <th>1</th>\n",
       "      <td>7</td>\n",
       "      <td>3350000.0</td>\n",
       "      <td>40.40</td>\n",
       "      <td>2018-12-04T00:00:00</td>\n",
       "      <td>1</td>\n",
       "      <td>NaN</td>\n",
       "      <td>11.0</td>\n",
       "      <td>18.60</td>\n",
       "      <td>1</td>\n",
       "      <td>NaN</td>\n",
       "      <td>...</td>\n",
       "      <td>11.00</td>\n",
       "      <td>2.0</td>\n",
       "      <td>посёлок Шушары</td>\n",
       "      <td>12817.0</td>\n",
       "      <td>18603.0</td>\n",
       "      <td>0.0</td>\n",
       "      <td>NaN</td>\n",
       "      <td>0.0</td>\n",
       "      <td>NaN</td>\n",
       "      <td>81.0</td>\n",
       "    </tr>\n",
       "    <tr>\n",
       "      <th>2</th>\n",
       "      <td>10</td>\n",
       "      <td>5196000.0</td>\n",
       "      <td>56.00</td>\n",
       "      <td>2015-08-20T00:00:00</td>\n",
       "      <td>2</td>\n",
       "      <td>NaN</td>\n",
       "      <td>5.0</td>\n",
       "      <td>34.30</td>\n",
       "      <td>4</td>\n",
       "      <td>NaN</td>\n",
       "      <td>...</td>\n",
       "      <td>8.30</td>\n",
       "      <td>0.0</td>\n",
       "      <td>Санкт-Петербург</td>\n",
       "      <td>21741.0</td>\n",
       "      <td>13933.0</td>\n",
       "      <td>1.0</td>\n",
       "      <td>90.0</td>\n",
       "      <td>2.0</td>\n",
       "      <td>574.0</td>\n",
       "      <td>558.0</td>\n",
       "    </tr>\n",
       "    <tr>\n",
       "      <th>3</th>\n",
       "      <td>0</td>\n",
       "      <td>64900000.0</td>\n",
       "      <td>159.00</td>\n",
       "      <td>2015-07-24T00:00:00</td>\n",
       "      <td>3</td>\n",
       "      <td>NaN</td>\n",
       "      <td>14.0</td>\n",
       "      <td>NaN</td>\n",
       "      <td>9</td>\n",
       "      <td>NaN</td>\n",
       "      <td>...</td>\n",
       "      <td>NaN</td>\n",
       "      <td>0.0</td>\n",
       "      <td>Санкт-Петербург</td>\n",
       "      <td>28098.0</td>\n",
       "      <td>6800.0</td>\n",
       "      <td>2.0</td>\n",
       "      <td>84.0</td>\n",
       "      <td>3.0</td>\n",
       "      <td>234.0</td>\n",
       "      <td>424.0</td>\n",
       "    </tr>\n",
       "    <tr>\n",
       "      <th>4</th>\n",
       "      <td>2</td>\n",
       "      <td>10000000.0</td>\n",
       "      <td>100.00</td>\n",
       "      <td>2018-06-19T00:00:00</td>\n",
       "      <td>2</td>\n",
       "      <td>3.03</td>\n",
       "      <td>14.0</td>\n",
       "      <td>32.00</td>\n",
       "      <td>13</td>\n",
       "      <td>NaN</td>\n",
       "      <td>...</td>\n",
       "      <td>41.00</td>\n",
       "      <td>NaN</td>\n",
       "      <td>Санкт-Петербург</td>\n",
       "      <td>31856.0</td>\n",
       "      <td>8098.0</td>\n",
       "      <td>2.0</td>\n",
       "      <td>112.0</td>\n",
       "      <td>1.0</td>\n",
       "      <td>48.0</td>\n",
       "      <td>121.0</td>\n",
       "    </tr>\n",
       "    <tr>\n",
       "      <th>5</th>\n",
       "      <td>10</td>\n",
       "      <td>2890000.0</td>\n",
       "      <td>30.40</td>\n",
       "      <td>2018-09-10T00:00:00</td>\n",
       "      <td>1</td>\n",
       "      <td>NaN</td>\n",
       "      <td>12.0</td>\n",
       "      <td>14.40</td>\n",
       "      <td>5</td>\n",
       "      <td>NaN</td>\n",
       "      <td>...</td>\n",
       "      <td>9.10</td>\n",
       "      <td>NaN</td>\n",
       "      <td>городской посёлок Янино-1</td>\n",
       "      <td>NaN</td>\n",
       "      <td>NaN</td>\n",
       "      <td>NaN</td>\n",
       "      <td>NaN</td>\n",
       "      <td>NaN</td>\n",
       "      <td>NaN</td>\n",
       "      <td>55.0</td>\n",
       "    </tr>\n",
       "    <tr>\n",
       "      <th>6</th>\n",
       "      <td>6</td>\n",
       "      <td>3700000.0</td>\n",
       "      <td>37.30</td>\n",
       "      <td>2017-11-02T00:00:00</td>\n",
       "      <td>1</td>\n",
       "      <td>NaN</td>\n",
       "      <td>26.0</td>\n",
       "      <td>10.60</td>\n",
       "      <td>6</td>\n",
       "      <td>NaN</td>\n",
       "      <td>...</td>\n",
       "      <td>14.40</td>\n",
       "      <td>1.0</td>\n",
       "      <td>посёлок Парголово</td>\n",
       "      <td>52996.0</td>\n",
       "      <td>19143.0</td>\n",
       "      <td>0.0</td>\n",
       "      <td>NaN</td>\n",
       "      <td>0.0</td>\n",
       "      <td>NaN</td>\n",
       "      <td>155.0</td>\n",
       "    </tr>\n",
       "    <tr>\n",
       "      <th>7</th>\n",
       "      <td>5</td>\n",
       "      <td>7915000.0</td>\n",
       "      <td>71.60</td>\n",
       "      <td>2019-04-18T00:00:00</td>\n",
       "      <td>2</td>\n",
       "      <td>NaN</td>\n",
       "      <td>24.0</td>\n",
       "      <td>NaN</td>\n",
       "      <td>22</td>\n",
       "      <td>NaN</td>\n",
       "      <td>...</td>\n",
       "      <td>18.90</td>\n",
       "      <td>2.0</td>\n",
       "      <td>Санкт-Петербург</td>\n",
       "      <td>23982.0</td>\n",
       "      <td>11634.0</td>\n",
       "      <td>0.0</td>\n",
       "      <td>NaN</td>\n",
       "      <td>0.0</td>\n",
       "      <td>NaN</td>\n",
       "      <td>NaN</td>\n",
       "    </tr>\n",
       "    <tr>\n",
       "      <th>8</th>\n",
       "      <td>20</td>\n",
       "      <td>2900000.0</td>\n",
       "      <td>33.16</td>\n",
       "      <td>2018-05-23T00:00:00</td>\n",
       "      <td>1</td>\n",
       "      <td>NaN</td>\n",
       "      <td>27.0</td>\n",
       "      <td>15.43</td>\n",
       "      <td>26</td>\n",
       "      <td>NaN</td>\n",
       "      <td>...</td>\n",
       "      <td>8.81</td>\n",
       "      <td>NaN</td>\n",
       "      <td>посёлок Мурино</td>\n",
       "      <td>NaN</td>\n",
       "      <td>NaN</td>\n",
       "      <td>NaN</td>\n",
       "      <td>NaN</td>\n",
       "      <td>NaN</td>\n",
       "      <td>NaN</td>\n",
       "      <td>189.0</td>\n",
       "    </tr>\n",
       "    <tr>\n",
       "      <th>9</th>\n",
       "      <td>18</td>\n",
       "      <td>5400000.0</td>\n",
       "      <td>61.00</td>\n",
       "      <td>2017-02-26T00:00:00</td>\n",
       "      <td>3</td>\n",
       "      <td>2.50</td>\n",
       "      <td>9.0</td>\n",
       "      <td>43.60</td>\n",
       "      <td>7</td>\n",
       "      <td>NaN</td>\n",
       "      <td>...</td>\n",
       "      <td>6.50</td>\n",
       "      <td>2.0</td>\n",
       "      <td>Санкт-Петербург</td>\n",
       "      <td>50898.0</td>\n",
       "      <td>15008.0</td>\n",
       "      <td>0.0</td>\n",
       "      <td>NaN</td>\n",
       "      <td>0.0</td>\n",
       "      <td>NaN</td>\n",
       "      <td>289.0</td>\n",
       "    </tr>\n",
       "  </tbody>\n",
       "</table>\n",
       "<p>10 rows × 22 columns</p>\n",
       "</div>"
      ],
      "text/plain": [
       "   total_images  last_price  total_area first_day_exposition  rooms  \\\n",
       "0            20  13000000.0      108.00  2019-03-07T00:00:00      3   \n",
       "1             7   3350000.0       40.40  2018-12-04T00:00:00      1   \n",
       "2            10   5196000.0       56.00  2015-08-20T00:00:00      2   \n",
       "3             0  64900000.0      159.00  2015-07-24T00:00:00      3   \n",
       "4             2  10000000.0      100.00  2018-06-19T00:00:00      2   \n",
       "5            10   2890000.0       30.40  2018-09-10T00:00:00      1   \n",
       "6             6   3700000.0       37.30  2017-11-02T00:00:00      1   \n",
       "7             5   7915000.0       71.60  2019-04-18T00:00:00      2   \n",
       "8            20   2900000.0       33.16  2018-05-23T00:00:00      1   \n",
       "9            18   5400000.0       61.00  2017-02-26T00:00:00      3   \n",
       "\n",
       "   ceiling_height  floors_total  living_area  floor is_apartment  ...  \\\n",
       "0            2.70          16.0        51.00      8          NaN  ...   \n",
       "1             NaN          11.0        18.60      1          NaN  ...   \n",
       "2             NaN           5.0        34.30      4          NaN  ...   \n",
       "3             NaN          14.0          NaN      9          NaN  ...   \n",
       "4            3.03          14.0        32.00     13          NaN  ...   \n",
       "5             NaN          12.0        14.40      5          NaN  ...   \n",
       "6             NaN          26.0        10.60      6          NaN  ...   \n",
       "7             NaN          24.0          NaN     22          NaN  ...   \n",
       "8             NaN          27.0        15.43     26          NaN  ...   \n",
       "9            2.50           9.0        43.60      7          NaN  ...   \n",
       "\n",
       "   kitchen_area  balcony              locality_name  airports_nearest  \\\n",
       "0         25.00      NaN            Санкт-Петербург           18863.0   \n",
       "1         11.00      2.0             посёлок Шушары           12817.0   \n",
       "2          8.30      0.0            Санкт-Петербург           21741.0   \n",
       "3           NaN      0.0            Санкт-Петербург           28098.0   \n",
       "4         41.00      NaN            Санкт-Петербург           31856.0   \n",
       "5          9.10      NaN  городской посёлок Янино-1               NaN   \n",
       "6         14.40      1.0          посёлок Парголово           52996.0   \n",
       "7         18.90      2.0            Санкт-Петербург           23982.0   \n",
       "8          8.81      NaN             посёлок Мурино               NaN   \n",
       "9          6.50      2.0            Санкт-Петербург           50898.0   \n",
       "\n",
       "  cityCenters_nearest  parks_around3000  parks_nearest  ponds_around3000  \\\n",
       "0             16028.0               1.0          482.0               2.0   \n",
       "1             18603.0               0.0            NaN               0.0   \n",
       "2             13933.0               1.0           90.0               2.0   \n",
       "3              6800.0               2.0           84.0               3.0   \n",
       "4              8098.0               2.0          112.0               1.0   \n",
       "5                 NaN               NaN            NaN               NaN   \n",
       "6             19143.0               0.0            NaN               0.0   \n",
       "7             11634.0               0.0            NaN               0.0   \n",
       "8                 NaN               NaN            NaN               NaN   \n",
       "9             15008.0               0.0            NaN               0.0   \n",
       "\n",
       "   ponds_nearest  days_exposition  \n",
       "0          755.0              NaN  \n",
       "1            NaN             81.0  \n",
       "2          574.0            558.0  \n",
       "3          234.0            424.0  \n",
       "4           48.0            121.0  \n",
       "5            NaN             55.0  \n",
       "6            NaN            155.0  \n",
       "7            NaN              NaN  \n",
       "8            NaN            189.0  \n",
       "9            NaN            289.0  \n",
       "\n",
       "[10 rows x 22 columns]"
      ]
     },
     "execution_count": 3,
     "metadata": {},
     "output_type": "execute_result"
    }
   ],
   "source": [
    "df.head(10)"
   ]
  },
  {
   "cell_type": "markdown",
   "metadata": {},
   "source": [
    "### Вывод"
   ]
  },
  {
   "cell_type": "markdown",
   "metadata": {},
   "source": [
    "Итак, у нас имеются данные о недвижимости.\n",
    "\n",
    "Имеются пропуски в следующих столбцах: `ceiling_height`, `floors_total`, `living_area`, `is_apartment`, `kitchen_area`, `balcony`, `locality_name`, `airports_nearest`, `cityCenters_nearest`, `parks_around3000`, `parks_nearest`, `ponds_around3000`, `ponds_nearest`, `days_exposition`.\n",
    "Позднее мы изучим эти пропуски подробнее и избавимся от них.\n",
    "\n",
    "Приступим к предобработке данных."
   ]
  },
  {
   "cell_type": "markdown",
   "metadata": {},
   "source": [
    "## Предобработка данных"
   ]
  },
  {
   "cell_type": "markdown",
   "metadata": {},
   "source": [
    "Посчитаем и изучим подробнее количество пропусков."
   ]
  },
  {
   "cell_type": "code",
   "execution_count": 4,
   "metadata": {},
   "outputs": [
    {
     "data": {
      "text/plain": [
       "total_images                0\n",
       "last_price                  0\n",
       "total_area                  0\n",
       "first_day_exposition        0\n",
       "rooms                       0\n",
       "ceiling_height           9195\n",
       "floors_total               86\n",
       "living_area              1903\n",
       "floor                       0\n",
       "is_apartment            20924\n",
       "studio                      0\n",
       "open_plan                   0\n",
       "kitchen_area             2278\n",
       "balcony                 11519\n",
       "locality_name              49\n",
       "airports_nearest         5542\n",
       "cityCenters_nearest      5519\n",
       "parks_around3000         5518\n",
       "parks_nearest           15620\n",
       "ponds_around3000         5518\n",
       "ponds_nearest           14589\n",
       "days_exposition          3181\n",
       "dtype: int64"
      ]
     },
     "execution_count": 4,
     "metadata": {},
     "output_type": "execute_result"
    }
   ],
   "source": [
    "df.isna().sum()"
   ]
  },
  {
   "cell_type": "markdown",
   "metadata": {},
   "source": [
    "Доля данных с пропусками от общей длины датафрема:"
   ]
  },
  {
   "cell_type": "code",
   "execution_count": 5,
   "metadata": {},
   "outputs": [
    {
     "data": {
      "text/plain": [
       "is_apartment            0.882906\n",
       "parks_nearest           0.659100\n",
       "ponds_nearest           0.615596\n",
       "balcony                 0.486054\n",
       "ceiling_height          0.387991\n",
       "airports_nearest        0.233850\n",
       "cityCenters_nearest     0.232879\n",
       "ponds_around3000        0.232837\n",
       "parks_around3000        0.232837\n",
       "days_exposition         0.134225\n",
       "kitchen_area            0.096122\n",
       "living_area             0.080299\n",
       "floors_total            0.003629\n",
       "locality_name           0.002068\n",
       "total_images            0.000000\n",
       "last_price              0.000000\n",
       "studio                  0.000000\n",
       "floor                   0.000000\n",
       "rooms                   0.000000\n",
       "first_day_exposition    0.000000\n",
       "total_area              0.000000\n",
       "open_plan               0.000000\n",
       "dtype: float64"
      ]
     },
     "execution_count": 5,
     "metadata": {},
     "output_type": "execute_result"
    }
   ],
   "source": [
    "df.isna().mean().sort_values(ascending = False)"
   ]
  },
  {
   "cell_type": "markdown",
   "metadata": {},
   "source": [
    "Начнем заполнение пропусков в порядке убывания их количества."
   ]
  },
  {
   "cell_type": "code",
   "execution_count": 6,
   "metadata": {},
   "outputs": [
    {
     "data": {
      "text/plain": [
       "array([nan, False, True], dtype=object)"
      ]
     },
     "execution_count": 6,
     "metadata": {},
     "output_type": "execute_result"
    }
   ],
   "source": [
    "df['is_apartment'].unique()"
   ]
  },
  {
   "cell_type": "markdown",
   "metadata": {},
   "source": [
    "Итого имеем: столбец типа object с данными типа bool внутри, кроме того с большим количеством пропусков. Общей закономерности в зависимоти цены и площади от типа помещения не наблюдается, поэтому все что мы можем сделать с этим столбцом - заполнить пропуски плейсхолдером `unknown`"
   ]
  },
  {
   "cell_type": "code",
   "execution_count": 7,
   "metadata": {},
   "outputs": [],
   "source": [
    "df['is_apartment'] = df['is_apartment'].fillna('unknown')"
   ]
  },
  {
   "cell_type": "code",
   "execution_count": 8,
   "metadata": {
    "scrolled": true
   },
   "outputs": [
    {
     "data": {
      "text/plain": [
       "array(['unknown', False, True], dtype=object)"
      ]
     },
     "execution_count": 8,
     "metadata": {},
     "output_type": "execute_result"
    }
   ],
   "source": [
    "df['is_apartment'].unique()"
   ]
  },
  {
   "cell_type": "markdown",
   "metadata": {},
   "source": [
    "От пропусков в столбце типа помещения мы избавились, перейдем к следующему стоблбцу `parks_nearest`. Так как это расстояние до ближайшего парка, будем считать, что ближайший парк находится слишком далеко, что бы его учитывать. Для заполнения пропусков в этом столбце возьмем максимальное имеющееся расстояние до парка в столбце и умножим его на 2. Но для начала проверим, если ли среди них такие стоки, где указан парк в радиусе 3000 местров, но отсутствует расстояние до парка в колонке `parks_nearest`."
   ]
  },
  {
   "cell_type": "code",
   "execution_count": 9,
   "metadata": {
    "scrolled": true
   },
   "outputs": [
    {
     "data": {
      "text/plain": [
       "15620"
      ]
     },
     "execution_count": 9,
     "metadata": {},
     "output_type": "execute_result"
    }
   ],
   "source": [
    "df[(df['parks_around3000'] < 1) | df['parks_around3000'].isna()]['parks_nearest'].isna().sum()"
   ]
  },
  {
   "cell_type": "markdown",
   "metadata": {},
   "source": [
    "Число пропусков совпадает, значит нет таких строк, где при отсутствующем расстоянии до ближайшего парка есть указание на наличие парков в радиусе 3 км. Заполним пропуски, приняв для пропущенных ячеек минимальное расстояние до парка, равное удвоенному максимальному значению до ближайшего парка."
   ]
  },
  {
   "cell_type": "code",
   "execution_count": 10,
   "metadata": {},
   "outputs": [
    {
     "data": {
      "text/plain": [
       "455.0"
      ]
     },
     "metadata": {},
     "output_type": "display_data"
    },
    {
     "data": {
      "text/plain": [
       "count    8079.000000\n",
       "mean      490.804555\n",
       "std       342.317995\n",
       "min         1.000000\n",
       "25%       288.000000\n",
       "50%       455.000000\n",
       "75%       612.000000\n",
       "max      3190.000000\n",
       "Name: parks_nearest, dtype: float64"
      ]
     },
     "execution_count": 10,
     "metadata": {},
     "output_type": "execute_result"
    }
   ],
   "source": [
    "display(df['parks_nearest'].median())\n",
    "df['parks_nearest'].describe()"
   ]
  },
  {
   "cell_type": "code",
   "execution_count": 11,
   "metadata": {},
   "outputs": [],
   "source": [
    "df['parks_nearest'] = df['parks_nearest'].fillna(df['parks_nearest'].max() * 2)"
   ]
  },
  {
   "cell_type": "code",
   "execution_count": 12,
   "metadata": {},
   "outputs": [
    {
     "data": {
      "text/plain": [
       "0"
      ]
     },
     "execution_count": 12,
     "metadata": {},
     "output_type": "execute_result"
    }
   ],
   "source": [
    "df['parks_nearest'].isna().sum()"
   ]
  },
  {
   "cell_type": "markdown",
   "metadata": {},
   "source": [
    "От пропусков в колонце расстояния до ближайшего парка мы избавились. Проделаем все то же самое, но для водоемов."
   ]
  },
  {
   "cell_type": "code",
   "execution_count": 13,
   "metadata": {
    "scrolled": true
   },
   "outputs": [
    {
     "data": {
      "text/plain": [
       "14589"
      ]
     },
     "execution_count": 13,
     "metadata": {},
     "output_type": "execute_result"
    }
   ],
   "source": [
    "df[(df['ponds_around3000'] < 1) | df['ponds_around3000'].isna()]['ponds_nearest'].isna().sum()"
   ]
  },
  {
   "cell_type": "code",
   "execution_count": 14,
   "metadata": {
    "scrolled": false
   },
   "outputs": [
    {
     "data": {
      "text/plain": [
       "502.0"
      ]
     },
     "metadata": {},
     "output_type": "display_data"
    },
    {
     "data": {
      "text/plain": [
       "count    9110.000000\n",
       "mean      517.980900\n",
       "std       277.720643\n",
       "min        13.000000\n",
       "25%       294.000000\n",
       "50%       502.000000\n",
       "75%       729.000000\n",
       "max      1344.000000\n",
       "Name: ponds_nearest, dtype: float64"
      ]
     },
     "execution_count": 14,
     "metadata": {},
     "output_type": "execute_result"
    }
   ],
   "source": [
    "display(df['ponds_nearest'].median())\n",
    "df['ponds_nearest'].describe()"
   ]
  },
  {
   "cell_type": "code",
   "execution_count": 15,
   "metadata": {},
   "outputs": [],
   "source": [
    "df['ponds_nearest'] = df['ponds_nearest'].fillna(df['ponds_nearest'].max() * 3)"
   ]
  },
  {
   "cell_type": "code",
   "execution_count": 16,
   "metadata": {
    "scrolled": false
   },
   "outputs": [
    {
     "data": {
      "text/plain": [
       "0"
      ]
     },
     "execution_count": 16,
     "metadata": {},
     "output_type": "execute_result"
    }
   ],
   "source": [
    "df['ponds_nearest'].isna().sum()"
   ]
  },
  {
   "cell_type": "markdown",
   "metadata": {},
   "source": [
    "От пропусков в расстоянии до водоемов избавились. Переходим к пропускам в столбце балконов."
   ]
  },
  {
   "cell_type": "code",
   "execution_count": 17,
   "metadata": {},
   "outputs": [
    {
     "data": {
      "text/plain": [
       "array([nan,  2.,  0.,  1.,  5.,  4.,  3.])"
      ]
     },
     "execution_count": 17,
     "metadata": {},
     "output_type": "execute_result"
    }
   ],
   "source": [
    "df['balcony'].unique()"
   ]
  },
  {
   "cell_type": "markdown",
   "metadata": {},
   "source": [
    "Мы видим, что всегда указано целое количество балконов (и это логично, сомневаюсь что где-то можно найти квартиру с половиной балкона). Изучим значения в этом стоблце и заполним пропуски самым часто встречающимся. И разумеется, приведем данные в столбце к типу данных `int`"
   ]
  },
  {
   "cell_type": "code",
   "execution_count": 18,
   "metadata": {},
   "outputs": [
    {
     "data": {
      "text/plain": [
       "balcony\n",
       "0.0    3758\n",
       "1.0    4195\n",
       "2.0    3659\n",
       "3.0      81\n",
       "4.0     183\n",
       "5.0     304\n",
       "Name: balcony, dtype: int64"
      ]
     },
     "execution_count": 18,
     "metadata": {},
     "output_type": "execute_result"
    }
   ],
   "source": [
    "df.groupby('balcony')['balcony'].count()"
   ]
  },
  {
   "cell_type": "markdown",
   "metadata": {},
   "source": [
    "Чаще всего встречаются помещения с 0, 1 и 2мя балконами. Проверим зависимость количества балконов от количества комнат."
   ]
  },
  {
   "cell_type": "code",
   "execution_count": 19,
   "metadata": {
    "scrolled": true
   },
   "outputs": [
    {
     "data": {
      "text/plain": [
       "rooms\n",
       "0     2.0\n",
       "1     1.0\n",
       "2     1.0\n",
       "3     1.0\n",
       "4     1.0\n",
       "5     1.0\n",
       "6     1.0\n",
       "7     1.0\n",
       "8     0.0\n",
       "9     0.5\n",
       "10    1.0\n",
       "11    NaN\n",
       "12    NaN\n",
       "14    0.0\n",
       "15    NaN\n",
       "16    1.0\n",
       "19    NaN\n",
       "Name: balcony, dtype: float64"
      ]
     },
     "execution_count": 19,
     "metadata": {},
     "output_type": "execute_result"
    }
   ],
   "source": [
    "df.groupby(['rooms'])['balcony'].median()"
   ]
  },
  {
   "cell_type": "markdown",
   "metadata": {},
   "source": [
    "Чаще всего по 1 балкону на квартиру. Заполняем пропуска в столбце `balcony` единицами и идем дальше."
   ]
  },
  {
   "cell_type": "code",
   "execution_count": 20,
   "metadata": {},
   "outputs": [],
   "source": [
    "df['balcony'] = df['balcony'].fillna(1).astype('int')"
   ]
  },
  {
   "cell_type": "code",
   "execution_count": 21,
   "metadata": {},
   "outputs": [
    {
     "data": {
      "text/plain": [
       "0"
      ]
     },
     "execution_count": 21,
     "metadata": {},
     "output_type": "execute_result"
    }
   ],
   "source": [
    "df['balcony'].isna().sum()"
   ]
  },
  {
   "cell_type": "markdown",
   "metadata": {},
   "source": [
    "Далее у нас идет высота потолков (столбец `ceiling_height`). Заполним пропуски медианным значением."
   ]
  },
  {
   "cell_type": "code",
   "execution_count": 22,
   "metadata": {},
   "outputs": [],
   "source": [
    "df['ceiling_height'] = df['ceiling_height'].fillna(df['ceiling_height'].median())"
   ]
  },
  {
   "cell_type": "code",
   "execution_count": 23,
   "metadata": {},
   "outputs": [
    {
     "data": {
      "text/plain": [
       "0"
      ]
     },
     "execution_count": 23,
     "metadata": {},
     "output_type": "execute_result"
    }
   ],
   "source": [
    "df['ceiling_height'].isna().sum()"
   ]
  },
  {
   "cell_type": "markdown",
   "metadata": {},
   "source": [
    "Далее у нас идет расстояние до аэропорта. Пожалуй, поступим также как и с водоемами и парками, укажем расстояние в 2 раза больше максимально встречающегося."
   ]
  },
  {
   "cell_type": "code",
   "execution_count": 24,
   "metadata": {},
   "outputs": [],
   "source": [
    "df['airports_nearest'] = df['airports_nearest'].fillna(df['airports_nearest'].max() * 2)"
   ]
  },
  {
   "cell_type": "code",
   "execution_count": 25,
   "metadata": {
    "scrolled": false
   },
   "outputs": [
    {
     "data": {
      "text/plain": [
       "0"
      ]
     },
     "execution_count": 25,
     "metadata": {},
     "output_type": "execute_result"
    }
   ],
   "source": [
    "df['airports_nearest'].isna().sum()"
   ]
  },
  {
   "cell_type": "markdown",
   "metadata": {},
   "source": [
    "Далее идет расстояние до центра города. Также заполняем значениями в 2 раза больше максимального."
   ]
  },
  {
   "cell_type": "code",
   "execution_count": 26,
   "metadata": {},
   "outputs": [],
   "source": [
    "df['cityCenters_nearest'] = df['cityCenters_nearest'].fillna(df['cityCenters_nearest'].max() * 2)"
   ]
  },
  {
   "cell_type": "code",
   "execution_count": 27,
   "metadata": {
    "scrolled": false
   },
   "outputs": [
    {
     "data": {
      "text/plain": [
       "0"
      ]
     },
     "execution_count": 27,
     "metadata": {},
     "output_type": "execute_result"
    }
   ],
   "source": [
    "df['cityCenters_nearest'].isna().sum()"
   ]
  },
  {
   "cell_type": "markdown",
   "metadata": {},
   "source": [
    "Прожолжаем заполнять. Дальше на очереди парки и водоемы в радиусе 3 км. Проверим, не закралась ли ошибка в эти данные:"
   ]
  },
  {
   "cell_type": "code",
   "execution_count": 28,
   "metadata": {},
   "outputs": [
    {
     "data": {
      "text/plain": [
       "0"
      ]
     },
     "execution_count": 28,
     "metadata": {},
     "output_type": "execute_result"
    }
   ],
   "source": [
    "df[df['parks_around3000'].isna() & (df['parks_nearest'] >= 3000)]['parks_around3000'].count() "
   ]
  },
  {
   "cell_type": "code",
   "execution_count": 29,
   "metadata": {},
   "outputs": [
    {
     "data": {
      "text/plain": [
       "0"
      ]
     },
     "execution_count": 29,
     "metadata": {},
     "output_type": "execute_result"
    }
   ],
   "source": [
    "df[df['ponds_around3000'].isna() & (df['ponds_nearest'] >= 3000)]['ponds_around3000'].count() "
   ]
  },
  {
   "cell_type": "markdown",
   "metadata": {},
   "source": [
    "Отлично, ошибок нет. Заполняем эти столбцы нулями, и приводим их к формату `int`."
   ]
  },
  {
   "cell_type": "code",
   "execution_count": 30,
   "metadata": {},
   "outputs": [],
   "source": [
    "df['parks_around3000'] = df['parks_around3000'].fillna(0).astype('int')"
   ]
  },
  {
   "cell_type": "code",
   "execution_count": 31,
   "metadata": {
    "scrolled": true
   },
   "outputs": [
    {
     "data": {
      "text/plain": [
       "0"
      ]
     },
     "execution_count": 31,
     "metadata": {},
     "output_type": "execute_result"
    }
   ],
   "source": [
    "df['parks_around3000'].isna().sum()"
   ]
  },
  {
   "cell_type": "code",
   "execution_count": 32,
   "metadata": {},
   "outputs": [],
   "source": [
    "df['ponds_around3000'] = df['ponds_around3000'].fillna(0).astype('int')"
   ]
  },
  {
   "cell_type": "code",
   "execution_count": 33,
   "metadata": {
    "scrolled": true
   },
   "outputs": [
    {
     "data": {
      "text/plain": [
       "0"
      ]
     },
     "execution_count": 33,
     "metadata": {},
     "output_type": "execute_result"
    }
   ],
   "source": [
    "df['ponds_around3000'].isna().sum()"
   ]
  },
  {
   "cell_type": "markdown",
   "metadata": {},
   "source": [
    "Далее идет столбец с временем публикации объявление. Заполним пропуски медианными значениями и приведем их типу данных `int`:"
   ]
  },
  {
   "cell_type": "code",
   "execution_count": 34,
   "metadata": {},
   "outputs": [],
   "source": [
    "df['days_exposition'] = df['days_exposition'].fillna(df['days_exposition'].median()).astype('int')"
   ]
  },
  {
   "cell_type": "code",
   "execution_count": 35,
   "metadata": {
    "scrolled": false
   },
   "outputs": [
    {
     "data": {
      "text/plain": [
       "0"
      ]
     },
     "execution_count": 35,
     "metadata": {},
     "output_type": "execute_result"
    }
   ],
   "source": [
    "df['days_exposition'].isna().sum()"
   ]
  },
  {
   "cell_type": "markdown",
   "metadata": {},
   "source": [
    "Далее у нас идет столбец с площадью кухни. Тут не все так просто, поскольку существуют квартиры-студии, в которых, по сути, кухня не является отдельной комнатой, поэтому там может быть не указан метраж кухни отдельно. Проверим есть ли такие квартиры в датасете:"
   ]
  },
  {
   "cell_type": "code",
   "execution_count": 36,
   "metadata": {
    "scrolled": true
   },
   "outputs": [
    {
     "data": {
      "text/plain": [
       "studio\n",
       "False    2129\n",
       "True      149\n",
       "Name: studio, dtype: int64"
      ]
     },
     "execution_count": 36,
     "metadata": {},
     "output_type": "execute_result"
    }
   ],
   "source": [
    "df[df['kitchen_area'].isna()].groupby('studio')['studio'].count()"
   ]
  },
  {
   "cell_type": "markdown",
   "metadata": {},
   "source": [
    "Еще в датасете присутствуют данные о помещениях со свободной планировкой:"
   ]
  },
  {
   "cell_type": "code",
   "execution_count": 37,
   "metadata": {},
   "outputs": [
    {
     "data": {
      "text/plain": [
       "open_plan\n",
       "False    2211\n",
       "True       67\n",
       "Name: open_plan, dtype: int64"
      ]
     },
     "execution_count": 37,
     "metadata": {},
     "output_type": "execute_result"
    }
   ],
   "source": [
    "df[df['kitchen_area'].isna()].groupby('open_plan')['open_plan'].count()"
   ]
  },
  {
   "cell_type": "markdown",
   "metadata": {},
   "source": [
    "Такие квартиры есть, следовательно в них мы просто зануляем метраж кухни, а в остальных заполним медианным значением для каждого количества комнат в помещении."
   ]
  },
  {
   "cell_type": "code",
   "execution_count": 38,
   "metadata": {},
   "outputs": [],
   "source": [
    "df.loc[df['kitchen_area'].isna() & ((df['studio'] == True) | (df['open_plan'] == True)), 'kitchen_area'] = df[df['kitchen_area'].isna() & ((df['studio'] == True) | (df['open_plan'] == True))]['kitchen_area'].fillna(0)"
   ]
  },
  {
   "cell_type": "code",
   "execution_count": 39,
   "metadata": {},
   "outputs": [
    {
     "data": {
      "text/plain": [
       "2062"
      ]
     },
     "execution_count": 39,
     "metadata": {},
     "output_type": "execute_result"
    }
   ],
   "source": [
    "df['kitchen_area'].isna().sum()"
   ]
  },
  {
   "cell_type": "code",
   "execution_count": 40,
   "metadata": {},
   "outputs": [],
   "source": [
    "for room in df['rooms'].unique():\n",
    "    df.loc[df['kitchen_area'].isna() & df['rooms'].isin([room]), 'kitchen_area'] = df[df['kitchen_area'].isna() & df['rooms'].isin([room])]['kitchen_area'].fillna(df[df['rooms'].isin([room])]['kitchen_area'].median())"
   ]
  },
  {
   "cell_type": "code",
   "execution_count": 41,
   "metadata": {},
   "outputs": [
    {
     "data": {
      "text/plain": [
       "0"
      ]
     },
     "execution_count": 41,
     "metadata": {},
     "output_type": "execute_result"
    }
   ],
   "source": [
    "df['kitchen_area'].isna().sum()"
   ]
  },
  {
   "cell_type": "markdown",
   "metadata": {},
   "source": [
    "Перейдем к заполнению пропусков в столбце с жилой площадью `living_area`. Поступим также, как и с площадью кухонь. Заполним медианным значением пропуски исходя из количества комнат:"
   ]
  },
  {
   "cell_type": "code",
   "execution_count": 42,
   "metadata": {},
   "outputs": [],
   "source": [
    "for room in df['rooms'].unique():\n",
    "    df.loc[df['living_area'].isna() & df['rooms'].isin([room]), 'living_area'] = df[df['living_area'].isna() & df['rooms'].isin([room])]['living_area'].fillna(df[df['rooms'].isin([room])]['living_area'].median())"
   ]
  },
  {
   "cell_type": "code",
   "execution_count": 43,
   "metadata": {
    "scrolled": true
   },
   "outputs": [
    {
     "data": {
      "text/plain": [
       "0"
      ]
     },
     "execution_count": 43,
     "metadata": {},
     "output_type": "execute_result"
    }
   ],
   "source": [
    "df['living_area'].isna().sum()"
   ]
  },
  {
   "cell_type": "markdown",
   "metadata": {},
   "source": [
    "Далее на очереди пропуски в графе `floors_total` - количество этажей в здании. Тут так просто угадать не выйдет, но предполагать все же можно. Обычно самые популярные по количеству этажей здания - 1, 5, 9 и многоэтажки. Пропусков в разделе с указанием на каком этаже находится помещение у нас нет, поэтому заполним пропуски следуя из логики, что если помещение на 1ом этаже, то это одноэтажное здание, менее либо равно 5 - пятиэтажное, менее и равно 9 - девятиэтажное, если этаж больше 9, то будем считать его последним этажом в здании:"
   ]
  },
  {
   "cell_type": "code",
   "execution_count": 44,
   "metadata": {},
   "outputs": [
    {
     "data": {
      "text/plain": [
       "floors_total\n",
       "5.0     5788\n",
       "9.0     3761\n",
       "16.0    1376\n",
       "12.0    1362\n",
       "4.0     1200\n",
       "Name: floors_total, dtype: int64"
      ]
     },
     "execution_count": 44,
     "metadata": {},
     "output_type": "execute_result"
    }
   ],
   "source": [
    "df.groupby('floors_total')['floors_total'].count().sort_values(ascending = False).head(5)"
   ]
  },
  {
   "cell_type": "code",
   "execution_count": 45,
   "metadata": {},
   "outputs": [],
   "source": [
    "def floor_predict(floor):\n",
    "    if floor <= 1:\n",
    "        return 1\n",
    "    elif 1 < floor <= 5:\n",
    "        return 5\n",
    "    elif 5 < floor <= 9:\n",
    "        return 9\n",
    "    else:\n",
    "        return floor"
   ]
  },
  {
   "cell_type": "code",
   "execution_count": 46,
   "metadata": {},
   "outputs": [],
   "source": [
    "df.loc[df['floors_total'].isna(), 'floors_total'] = df[df['floors_total'].isna()]['floor'].apply(floor_predict)"
   ]
  },
  {
   "cell_type": "code",
   "execution_count": 47,
   "metadata": {
    "scrolled": true
   },
   "outputs": [
    {
     "data": {
      "text/plain": [
       "0"
      ]
     },
     "execution_count": 47,
     "metadata": {},
     "output_type": "execute_result"
    }
   ],
   "source": [
    "df['floors_total'].isna().sum()"
   ]
  },
  {
   "cell_type": "markdown",
   "metadata": {},
   "source": [
    "Последний столбец с пропусками - населенный пункт, в котором находится помещение. Тут мы никак не угадаем расположение, поэтому заполним пропуски филлером `unknown`"
   ]
  },
  {
   "cell_type": "code",
   "execution_count": 48,
   "metadata": {},
   "outputs": [],
   "source": [
    "df['locality_name'] = df['locality_name'].fillna('unknown')"
   ]
  },
  {
   "cell_type": "code",
   "execution_count": 49,
   "metadata": {},
   "outputs": [
    {
     "data": {
      "text/plain": [
       "0"
      ]
     },
     "execution_count": 49,
     "metadata": {},
     "output_type": "execute_result"
    }
   ],
   "source": [
    "df['locality_name'].isna().sum()"
   ]
  },
  {
   "cell_type": "markdown",
   "metadata": {},
   "source": [
    "Проверим наши замены и еще раз проверим тип данных в столбцах:"
   ]
  },
  {
   "cell_type": "code",
   "execution_count": 50,
   "metadata": {},
   "outputs": [
    {
     "name": "stdout",
     "output_type": "stream",
     "text": [
      "<class 'pandas.core.frame.DataFrame'>\n",
      "RangeIndex: 23699 entries, 0 to 23698\n",
      "Data columns (total 22 columns):\n",
      " #   Column                Non-Null Count  Dtype  \n",
      "---  ------                --------------  -----  \n",
      " 0   total_images          23699 non-null  int64  \n",
      " 1   last_price            23699 non-null  float64\n",
      " 2   total_area            23699 non-null  float64\n",
      " 3   first_day_exposition  23699 non-null  object \n",
      " 4   rooms                 23699 non-null  int64  \n",
      " 5   ceiling_height        23699 non-null  float64\n",
      " 6   floors_total          23699 non-null  float64\n",
      " 7   living_area           23699 non-null  float64\n",
      " 8   floor                 23699 non-null  int64  \n",
      " 9   is_apartment          23699 non-null  object \n",
      " 10  studio                23699 non-null  bool   \n",
      " 11  open_plan             23699 non-null  bool   \n",
      " 12  kitchen_area          23699 non-null  float64\n",
      " 13  balcony               23699 non-null  int32  \n",
      " 14  locality_name         23699 non-null  object \n",
      " 15  airports_nearest      23699 non-null  float64\n",
      " 16  cityCenters_nearest   23699 non-null  float64\n",
      " 17  parks_around3000      23699 non-null  int32  \n",
      " 18  parks_nearest         23699 non-null  float64\n",
      " 19  ponds_around3000      23699 non-null  int32  \n",
      " 20  ponds_nearest         23699 non-null  float64\n",
      " 21  days_exposition       23699 non-null  int32  \n",
      "dtypes: bool(2), float64(10), int32(4), int64(3), object(3)\n",
      "memory usage: 3.3+ MB\n"
     ]
    }
   ],
   "source": [
    "df.info()"
   ]
  },
  {
   "cell_type": "markdown",
   "metadata": {},
   "source": [
    "Мы можем перезаписать колонку с последней ценой в формате `int` вместо `float`, остальные данные оставляем так, как они есть."
   ]
  },
  {
   "cell_type": "code",
   "execution_count": 51,
   "metadata": {},
   "outputs": [],
   "source": [
    "df['last_price'] = df['last_price'].astype('int')\n",
    "df['floors_total'] = df['floors_total'].astype('int')"
   ]
  },
  {
   "cell_type": "markdown",
   "metadata": {},
   "source": [
    "Приведем данные о дате продажи в приемлемый вид:"
   ]
  },
  {
   "cell_type": "code",
   "execution_count": 52,
   "metadata": {},
   "outputs": [],
   "source": [
    "df['first_day_exposition'] = pd.to_datetime(df['first_day_exposition'], format = '%Y-%m-%dT00:00:00')"
   ]
  },
  {
   "cell_type": "markdown",
   "metadata": {},
   "source": [
    "## Расчёты и добавление результатов в таблицу"
   ]
  },
  {
   "cell_type": "markdown",
   "metadata": {},
   "source": [
    "Расчитаем и добавим в таблицу столбец с ценой за квадратный метр для каждого из помещений:"
   ]
  },
  {
   "cell_type": "code",
   "execution_count": 53,
   "metadata": {},
   "outputs": [
    {
     "data": {
      "text/html": [
       "<div>\n",
       "<style scoped>\n",
       "    .dataframe tbody tr th:only-of-type {\n",
       "        vertical-align: middle;\n",
       "    }\n",
       "\n",
       "    .dataframe tbody tr th {\n",
       "        vertical-align: top;\n",
       "    }\n",
       "\n",
       "    .dataframe thead th {\n",
       "        text-align: right;\n",
       "    }\n",
       "</style>\n",
       "<table border=\"1\" class=\"dataframe\">\n",
       "  <thead>\n",
       "    <tr style=\"text-align: right;\">\n",
       "      <th></th>\n",
       "      <th>total_images</th>\n",
       "      <th>last_price</th>\n",
       "      <th>total_area</th>\n",
       "      <th>first_day_exposition</th>\n",
       "      <th>rooms</th>\n",
       "      <th>ceiling_height</th>\n",
       "      <th>floors_total</th>\n",
       "      <th>living_area</th>\n",
       "      <th>floor</th>\n",
       "      <th>is_apartment</th>\n",
       "      <th>...</th>\n",
       "      <th>balcony</th>\n",
       "      <th>locality_name</th>\n",
       "      <th>airports_nearest</th>\n",
       "      <th>cityCenters_nearest</th>\n",
       "      <th>parks_around3000</th>\n",
       "      <th>parks_nearest</th>\n",
       "      <th>ponds_around3000</th>\n",
       "      <th>ponds_nearest</th>\n",
       "      <th>days_exposition</th>\n",
       "      <th>price_per_meter</th>\n",
       "    </tr>\n",
       "  </thead>\n",
       "  <tbody>\n",
       "    <tr>\n",
       "      <th>0</th>\n",
       "      <td>20</td>\n",
       "      <td>13000000</td>\n",
       "      <td>108.00</td>\n",
       "      <td>2019-03-07</td>\n",
       "      <td>3</td>\n",
       "      <td>2.70</td>\n",
       "      <td>16</td>\n",
       "      <td>51.0</td>\n",
       "      <td>8</td>\n",
       "      <td>unknown</td>\n",
       "      <td>...</td>\n",
       "      <td>1</td>\n",
       "      <td>Санкт-Петербург</td>\n",
       "      <td>18863.0</td>\n",
       "      <td>16028.0</td>\n",
       "      <td>1</td>\n",
       "      <td>482.0</td>\n",
       "      <td>2</td>\n",
       "      <td>755.0</td>\n",
       "      <td>95</td>\n",
       "      <td>120370.370370</td>\n",
       "    </tr>\n",
       "    <tr>\n",
       "      <th>1</th>\n",
       "      <td>7</td>\n",
       "      <td>3350000</td>\n",
       "      <td>40.40</td>\n",
       "      <td>2018-12-04</td>\n",
       "      <td>1</td>\n",
       "      <td>2.65</td>\n",
       "      <td>11</td>\n",
       "      <td>18.6</td>\n",
       "      <td>1</td>\n",
       "      <td>unknown</td>\n",
       "      <td>...</td>\n",
       "      <td>2</td>\n",
       "      <td>посёлок Шушары</td>\n",
       "      <td>12817.0</td>\n",
       "      <td>18603.0</td>\n",
       "      <td>0</td>\n",
       "      <td>6380.0</td>\n",
       "      <td>0</td>\n",
       "      <td>4032.0</td>\n",
       "      <td>81</td>\n",
       "      <td>82920.792079</td>\n",
       "    </tr>\n",
       "    <tr>\n",
       "      <th>2</th>\n",
       "      <td>10</td>\n",
       "      <td>5196000</td>\n",
       "      <td>56.00</td>\n",
       "      <td>2015-08-20</td>\n",
       "      <td>2</td>\n",
       "      <td>2.65</td>\n",
       "      <td>5</td>\n",
       "      <td>34.3</td>\n",
       "      <td>4</td>\n",
       "      <td>unknown</td>\n",
       "      <td>...</td>\n",
       "      <td>0</td>\n",
       "      <td>Санкт-Петербург</td>\n",
       "      <td>21741.0</td>\n",
       "      <td>13933.0</td>\n",
       "      <td>1</td>\n",
       "      <td>90.0</td>\n",
       "      <td>2</td>\n",
       "      <td>574.0</td>\n",
       "      <td>558</td>\n",
       "      <td>92785.714286</td>\n",
       "    </tr>\n",
       "    <tr>\n",
       "      <th>3</th>\n",
       "      <td>0</td>\n",
       "      <td>64900000</td>\n",
       "      <td>159.00</td>\n",
       "      <td>2015-07-24</td>\n",
       "      <td>3</td>\n",
       "      <td>2.65</td>\n",
       "      <td>14</td>\n",
       "      <td>45.0</td>\n",
       "      <td>9</td>\n",
       "      <td>unknown</td>\n",
       "      <td>...</td>\n",
       "      <td>0</td>\n",
       "      <td>Санкт-Петербург</td>\n",
       "      <td>28098.0</td>\n",
       "      <td>6800.0</td>\n",
       "      <td>2</td>\n",
       "      <td>84.0</td>\n",
       "      <td>3</td>\n",
       "      <td>234.0</td>\n",
       "      <td>424</td>\n",
       "      <td>408176.100629</td>\n",
       "    </tr>\n",
       "    <tr>\n",
       "      <th>4</th>\n",
       "      <td>2</td>\n",
       "      <td>10000000</td>\n",
       "      <td>100.00</td>\n",
       "      <td>2018-06-19</td>\n",
       "      <td>2</td>\n",
       "      <td>3.03</td>\n",
       "      <td>14</td>\n",
       "      <td>32.0</td>\n",
       "      <td>13</td>\n",
       "      <td>unknown</td>\n",
       "      <td>...</td>\n",
       "      <td>1</td>\n",
       "      <td>Санкт-Петербург</td>\n",
       "      <td>31856.0</td>\n",
       "      <td>8098.0</td>\n",
       "      <td>2</td>\n",
       "      <td>112.0</td>\n",
       "      <td>1</td>\n",
       "      <td>48.0</td>\n",
       "      <td>121</td>\n",
       "      <td>100000.000000</td>\n",
       "    </tr>\n",
       "    <tr>\n",
       "      <th>...</th>\n",
       "      <td>...</td>\n",
       "      <td>...</td>\n",
       "      <td>...</td>\n",
       "      <td>...</td>\n",
       "      <td>...</td>\n",
       "      <td>...</td>\n",
       "      <td>...</td>\n",
       "      <td>...</td>\n",
       "      <td>...</td>\n",
       "      <td>...</td>\n",
       "      <td>...</td>\n",
       "      <td>...</td>\n",
       "      <td>...</td>\n",
       "      <td>...</td>\n",
       "      <td>...</td>\n",
       "      <td>...</td>\n",
       "      <td>...</td>\n",
       "      <td>...</td>\n",
       "      <td>...</td>\n",
       "      <td>...</td>\n",
       "      <td>...</td>\n",
       "    </tr>\n",
       "    <tr>\n",
       "      <th>23694</th>\n",
       "      <td>9</td>\n",
       "      <td>9700000</td>\n",
       "      <td>133.81</td>\n",
       "      <td>2017-03-21</td>\n",
       "      <td>3</td>\n",
       "      <td>3.70</td>\n",
       "      <td>5</td>\n",
       "      <td>73.3</td>\n",
       "      <td>3</td>\n",
       "      <td>unknown</td>\n",
       "      <td>...</td>\n",
       "      <td>1</td>\n",
       "      <td>Санкт-Петербург</td>\n",
       "      <td>24665.0</td>\n",
       "      <td>4232.0</td>\n",
       "      <td>1</td>\n",
       "      <td>796.0</td>\n",
       "      <td>3</td>\n",
       "      <td>381.0</td>\n",
       "      <td>95</td>\n",
       "      <td>72490.845228</td>\n",
       "    </tr>\n",
       "    <tr>\n",
       "      <th>23695</th>\n",
       "      <td>14</td>\n",
       "      <td>3100000</td>\n",
       "      <td>59.00</td>\n",
       "      <td>2018-01-15</td>\n",
       "      <td>3</td>\n",
       "      <td>2.65</td>\n",
       "      <td>5</td>\n",
       "      <td>38.0</td>\n",
       "      <td>4</td>\n",
       "      <td>unknown</td>\n",
       "      <td>...</td>\n",
       "      <td>1</td>\n",
       "      <td>Тосно</td>\n",
       "      <td>169738.0</td>\n",
       "      <td>131936.0</td>\n",
       "      <td>0</td>\n",
       "      <td>6380.0</td>\n",
       "      <td>0</td>\n",
       "      <td>4032.0</td>\n",
       "      <td>45</td>\n",
       "      <td>52542.372881</td>\n",
       "    </tr>\n",
       "    <tr>\n",
       "      <th>23696</th>\n",
       "      <td>18</td>\n",
       "      <td>2500000</td>\n",
       "      <td>56.70</td>\n",
       "      <td>2018-02-11</td>\n",
       "      <td>2</td>\n",
       "      <td>2.65</td>\n",
       "      <td>3</td>\n",
       "      <td>29.7</td>\n",
       "      <td>1</td>\n",
       "      <td>unknown</td>\n",
       "      <td>...</td>\n",
       "      <td>1</td>\n",
       "      <td>село Рождествено</td>\n",
       "      <td>169738.0</td>\n",
       "      <td>131936.0</td>\n",
       "      <td>0</td>\n",
       "      <td>6380.0</td>\n",
       "      <td>0</td>\n",
       "      <td>4032.0</td>\n",
       "      <td>95</td>\n",
       "      <td>44091.710758</td>\n",
       "    </tr>\n",
       "    <tr>\n",
       "      <th>23697</th>\n",
       "      <td>13</td>\n",
       "      <td>11475000</td>\n",
       "      <td>76.75</td>\n",
       "      <td>2017-03-28</td>\n",
       "      <td>2</td>\n",
       "      <td>3.00</td>\n",
       "      <td>17</td>\n",
       "      <td>30.5</td>\n",
       "      <td>12</td>\n",
       "      <td>unknown</td>\n",
       "      <td>...</td>\n",
       "      <td>2</td>\n",
       "      <td>Санкт-Петербург</td>\n",
       "      <td>39140.0</td>\n",
       "      <td>10364.0</td>\n",
       "      <td>2</td>\n",
       "      <td>173.0</td>\n",
       "      <td>3</td>\n",
       "      <td>196.0</td>\n",
       "      <td>602</td>\n",
       "      <td>149511.400651</td>\n",
       "    </tr>\n",
       "    <tr>\n",
       "      <th>23698</th>\n",
       "      <td>4</td>\n",
       "      <td>1350000</td>\n",
       "      <td>32.30</td>\n",
       "      <td>2017-07-21</td>\n",
       "      <td>1</td>\n",
       "      <td>2.50</td>\n",
       "      <td>5</td>\n",
       "      <td>12.3</td>\n",
       "      <td>1</td>\n",
       "      <td>unknown</td>\n",
       "      <td>...</td>\n",
       "      <td>1</td>\n",
       "      <td>поселок Новый Учхоз</td>\n",
       "      <td>169738.0</td>\n",
       "      <td>131936.0</td>\n",
       "      <td>0</td>\n",
       "      <td>6380.0</td>\n",
       "      <td>0</td>\n",
       "      <td>4032.0</td>\n",
       "      <td>95</td>\n",
       "      <td>41795.665635</td>\n",
       "    </tr>\n",
       "  </tbody>\n",
       "</table>\n",
       "<p>23699 rows × 23 columns</p>\n",
       "</div>"
      ],
      "text/plain": [
       "       total_images  last_price  total_area first_day_exposition  rooms  \\\n",
       "0                20    13000000      108.00           2019-03-07      3   \n",
       "1                 7     3350000       40.40           2018-12-04      1   \n",
       "2                10     5196000       56.00           2015-08-20      2   \n",
       "3                 0    64900000      159.00           2015-07-24      3   \n",
       "4                 2    10000000      100.00           2018-06-19      2   \n",
       "...             ...         ...         ...                  ...    ...   \n",
       "23694             9     9700000      133.81           2017-03-21      3   \n",
       "23695            14     3100000       59.00           2018-01-15      3   \n",
       "23696            18     2500000       56.70           2018-02-11      2   \n",
       "23697            13    11475000       76.75           2017-03-28      2   \n",
       "23698             4     1350000       32.30           2017-07-21      1   \n",
       "\n",
       "       ceiling_height  floors_total  living_area  floor is_apartment  ...  \\\n",
       "0                2.70            16         51.0      8      unknown  ...   \n",
       "1                2.65            11         18.6      1      unknown  ...   \n",
       "2                2.65             5         34.3      4      unknown  ...   \n",
       "3                2.65            14         45.0      9      unknown  ...   \n",
       "4                3.03            14         32.0     13      unknown  ...   \n",
       "...               ...           ...          ...    ...          ...  ...   \n",
       "23694            3.70             5         73.3      3      unknown  ...   \n",
       "23695            2.65             5         38.0      4      unknown  ...   \n",
       "23696            2.65             3         29.7      1      unknown  ...   \n",
       "23697            3.00            17         30.5     12      unknown  ...   \n",
       "23698            2.50             5         12.3      1      unknown  ...   \n",
       "\n",
       "       balcony        locality_name  airports_nearest  cityCenters_nearest  \\\n",
       "0            1      Санкт-Петербург           18863.0              16028.0   \n",
       "1            2       посёлок Шушары           12817.0              18603.0   \n",
       "2            0      Санкт-Петербург           21741.0              13933.0   \n",
       "3            0      Санкт-Петербург           28098.0               6800.0   \n",
       "4            1      Санкт-Петербург           31856.0               8098.0   \n",
       "...        ...                  ...               ...                  ...   \n",
       "23694        1      Санкт-Петербург           24665.0               4232.0   \n",
       "23695        1                Тосно          169738.0             131936.0   \n",
       "23696        1     село Рождествено          169738.0             131936.0   \n",
       "23697        2      Санкт-Петербург           39140.0              10364.0   \n",
       "23698        1  поселок Новый Учхоз          169738.0             131936.0   \n",
       "\n",
       "      parks_around3000  parks_nearest  ponds_around3000  ponds_nearest  \\\n",
       "0                    1          482.0                 2          755.0   \n",
       "1                    0         6380.0                 0         4032.0   \n",
       "2                    1           90.0                 2          574.0   \n",
       "3                    2           84.0                 3          234.0   \n",
       "4                    2          112.0                 1           48.0   \n",
       "...                ...            ...               ...            ...   \n",
       "23694                1          796.0                 3          381.0   \n",
       "23695                0         6380.0                 0         4032.0   \n",
       "23696                0         6380.0                 0         4032.0   \n",
       "23697                2          173.0                 3          196.0   \n",
       "23698                0         6380.0                 0         4032.0   \n",
       "\n",
       "       days_exposition  price_per_meter  \n",
       "0                   95    120370.370370  \n",
       "1                   81     82920.792079  \n",
       "2                  558     92785.714286  \n",
       "3                  424    408176.100629  \n",
       "4                  121    100000.000000  \n",
       "...                ...              ...  \n",
       "23694               95     72490.845228  \n",
       "23695               45     52542.372881  \n",
       "23696               95     44091.710758  \n",
       "23697              602    149511.400651  \n",
       "23698               95     41795.665635  \n",
       "\n",
       "[23699 rows x 23 columns]"
      ]
     },
     "execution_count": 53,
     "metadata": {},
     "output_type": "execute_result"
    }
   ],
   "source": [
    "df['price_per_meter'] = df['last_price'] / df['total_area']\n",
    "df"
   ]
  },
  {
   "cell_type": "markdown",
   "metadata": {},
   "source": [
    "Добавим в таблицу данные о дне недели, месяце и годе выставления объявления:"
   ]
  },
  {
   "cell_type": "code",
   "execution_count": 54,
   "metadata": {
    "scrolled": false
   },
   "outputs": [
    {
     "data": {
      "text/html": [
       "<div>\n",
       "<style scoped>\n",
       "    .dataframe tbody tr th:only-of-type {\n",
       "        vertical-align: middle;\n",
       "    }\n",
       "\n",
       "    .dataframe tbody tr th {\n",
       "        vertical-align: top;\n",
       "    }\n",
       "\n",
       "    .dataframe thead th {\n",
       "        text-align: right;\n",
       "    }\n",
       "</style>\n",
       "<table border=\"1\" class=\"dataframe\">\n",
       "  <thead>\n",
       "    <tr style=\"text-align: right;\">\n",
       "      <th></th>\n",
       "      <th>total_images</th>\n",
       "      <th>last_price</th>\n",
       "      <th>total_area</th>\n",
       "      <th>first_day_exposition</th>\n",
       "      <th>rooms</th>\n",
       "      <th>ceiling_height</th>\n",
       "      <th>floors_total</th>\n",
       "      <th>living_area</th>\n",
       "      <th>floor</th>\n",
       "      <th>is_apartment</th>\n",
       "      <th>...</th>\n",
       "      <th>cityCenters_nearest</th>\n",
       "      <th>parks_around3000</th>\n",
       "      <th>parks_nearest</th>\n",
       "      <th>ponds_around3000</th>\n",
       "      <th>ponds_nearest</th>\n",
       "      <th>days_exposition</th>\n",
       "      <th>price_per_meter</th>\n",
       "      <th>day_of_week</th>\n",
       "      <th>month</th>\n",
       "      <th>year</th>\n",
       "    </tr>\n",
       "  </thead>\n",
       "  <tbody>\n",
       "    <tr>\n",
       "      <th>0</th>\n",
       "      <td>20</td>\n",
       "      <td>13000000</td>\n",
       "      <td>108.00</td>\n",
       "      <td>2019-03-07</td>\n",
       "      <td>3</td>\n",
       "      <td>2.70</td>\n",
       "      <td>16</td>\n",
       "      <td>51.0</td>\n",
       "      <td>8</td>\n",
       "      <td>unknown</td>\n",
       "      <td>...</td>\n",
       "      <td>16028.0</td>\n",
       "      <td>1</td>\n",
       "      <td>482.0</td>\n",
       "      <td>2</td>\n",
       "      <td>755.0</td>\n",
       "      <td>95</td>\n",
       "      <td>120370.370370</td>\n",
       "      <td>Thursday</td>\n",
       "      <td>March</td>\n",
       "      <td>2019</td>\n",
       "    </tr>\n",
       "    <tr>\n",
       "      <th>1</th>\n",
       "      <td>7</td>\n",
       "      <td>3350000</td>\n",
       "      <td>40.40</td>\n",
       "      <td>2018-12-04</td>\n",
       "      <td>1</td>\n",
       "      <td>2.65</td>\n",
       "      <td>11</td>\n",
       "      <td>18.6</td>\n",
       "      <td>1</td>\n",
       "      <td>unknown</td>\n",
       "      <td>...</td>\n",
       "      <td>18603.0</td>\n",
       "      <td>0</td>\n",
       "      <td>6380.0</td>\n",
       "      <td>0</td>\n",
       "      <td>4032.0</td>\n",
       "      <td>81</td>\n",
       "      <td>82920.792079</td>\n",
       "      <td>Tuesday</td>\n",
       "      <td>December</td>\n",
       "      <td>2018</td>\n",
       "    </tr>\n",
       "    <tr>\n",
       "      <th>2</th>\n",
       "      <td>10</td>\n",
       "      <td>5196000</td>\n",
       "      <td>56.00</td>\n",
       "      <td>2015-08-20</td>\n",
       "      <td>2</td>\n",
       "      <td>2.65</td>\n",
       "      <td>5</td>\n",
       "      <td>34.3</td>\n",
       "      <td>4</td>\n",
       "      <td>unknown</td>\n",
       "      <td>...</td>\n",
       "      <td>13933.0</td>\n",
       "      <td>1</td>\n",
       "      <td>90.0</td>\n",
       "      <td>2</td>\n",
       "      <td>574.0</td>\n",
       "      <td>558</td>\n",
       "      <td>92785.714286</td>\n",
       "      <td>Thursday</td>\n",
       "      <td>August</td>\n",
       "      <td>2015</td>\n",
       "    </tr>\n",
       "    <tr>\n",
       "      <th>3</th>\n",
       "      <td>0</td>\n",
       "      <td>64900000</td>\n",
       "      <td>159.00</td>\n",
       "      <td>2015-07-24</td>\n",
       "      <td>3</td>\n",
       "      <td>2.65</td>\n",
       "      <td>14</td>\n",
       "      <td>45.0</td>\n",
       "      <td>9</td>\n",
       "      <td>unknown</td>\n",
       "      <td>...</td>\n",
       "      <td>6800.0</td>\n",
       "      <td>2</td>\n",
       "      <td>84.0</td>\n",
       "      <td>3</td>\n",
       "      <td>234.0</td>\n",
       "      <td>424</td>\n",
       "      <td>408176.100629</td>\n",
       "      <td>Friday</td>\n",
       "      <td>July</td>\n",
       "      <td>2015</td>\n",
       "    </tr>\n",
       "    <tr>\n",
       "      <th>4</th>\n",
       "      <td>2</td>\n",
       "      <td>10000000</td>\n",
       "      <td>100.00</td>\n",
       "      <td>2018-06-19</td>\n",
       "      <td>2</td>\n",
       "      <td>3.03</td>\n",
       "      <td>14</td>\n",
       "      <td>32.0</td>\n",
       "      <td>13</td>\n",
       "      <td>unknown</td>\n",
       "      <td>...</td>\n",
       "      <td>8098.0</td>\n",
       "      <td>2</td>\n",
       "      <td>112.0</td>\n",
       "      <td>1</td>\n",
       "      <td>48.0</td>\n",
       "      <td>121</td>\n",
       "      <td>100000.000000</td>\n",
       "      <td>Tuesday</td>\n",
       "      <td>June</td>\n",
       "      <td>2018</td>\n",
       "    </tr>\n",
       "    <tr>\n",
       "      <th>...</th>\n",
       "      <td>...</td>\n",
       "      <td>...</td>\n",
       "      <td>...</td>\n",
       "      <td>...</td>\n",
       "      <td>...</td>\n",
       "      <td>...</td>\n",
       "      <td>...</td>\n",
       "      <td>...</td>\n",
       "      <td>...</td>\n",
       "      <td>...</td>\n",
       "      <td>...</td>\n",
       "      <td>...</td>\n",
       "      <td>...</td>\n",
       "      <td>...</td>\n",
       "      <td>...</td>\n",
       "      <td>...</td>\n",
       "      <td>...</td>\n",
       "      <td>...</td>\n",
       "      <td>...</td>\n",
       "      <td>...</td>\n",
       "      <td>...</td>\n",
       "    </tr>\n",
       "    <tr>\n",
       "      <th>23694</th>\n",
       "      <td>9</td>\n",
       "      <td>9700000</td>\n",
       "      <td>133.81</td>\n",
       "      <td>2017-03-21</td>\n",
       "      <td>3</td>\n",
       "      <td>3.70</td>\n",
       "      <td>5</td>\n",
       "      <td>73.3</td>\n",
       "      <td>3</td>\n",
       "      <td>unknown</td>\n",
       "      <td>...</td>\n",
       "      <td>4232.0</td>\n",
       "      <td>1</td>\n",
       "      <td>796.0</td>\n",
       "      <td>3</td>\n",
       "      <td>381.0</td>\n",
       "      <td>95</td>\n",
       "      <td>72490.845228</td>\n",
       "      <td>Tuesday</td>\n",
       "      <td>March</td>\n",
       "      <td>2017</td>\n",
       "    </tr>\n",
       "    <tr>\n",
       "      <th>23695</th>\n",
       "      <td>14</td>\n",
       "      <td>3100000</td>\n",
       "      <td>59.00</td>\n",
       "      <td>2018-01-15</td>\n",
       "      <td>3</td>\n",
       "      <td>2.65</td>\n",
       "      <td>5</td>\n",
       "      <td>38.0</td>\n",
       "      <td>4</td>\n",
       "      <td>unknown</td>\n",
       "      <td>...</td>\n",
       "      <td>131936.0</td>\n",
       "      <td>0</td>\n",
       "      <td>6380.0</td>\n",
       "      <td>0</td>\n",
       "      <td>4032.0</td>\n",
       "      <td>45</td>\n",
       "      <td>52542.372881</td>\n",
       "      <td>Monday</td>\n",
       "      <td>January</td>\n",
       "      <td>2018</td>\n",
       "    </tr>\n",
       "    <tr>\n",
       "      <th>23696</th>\n",
       "      <td>18</td>\n",
       "      <td>2500000</td>\n",
       "      <td>56.70</td>\n",
       "      <td>2018-02-11</td>\n",
       "      <td>2</td>\n",
       "      <td>2.65</td>\n",
       "      <td>3</td>\n",
       "      <td>29.7</td>\n",
       "      <td>1</td>\n",
       "      <td>unknown</td>\n",
       "      <td>...</td>\n",
       "      <td>131936.0</td>\n",
       "      <td>0</td>\n",
       "      <td>6380.0</td>\n",
       "      <td>0</td>\n",
       "      <td>4032.0</td>\n",
       "      <td>95</td>\n",
       "      <td>44091.710758</td>\n",
       "      <td>Sunday</td>\n",
       "      <td>February</td>\n",
       "      <td>2018</td>\n",
       "    </tr>\n",
       "    <tr>\n",
       "      <th>23697</th>\n",
       "      <td>13</td>\n",
       "      <td>11475000</td>\n",
       "      <td>76.75</td>\n",
       "      <td>2017-03-28</td>\n",
       "      <td>2</td>\n",
       "      <td>3.00</td>\n",
       "      <td>17</td>\n",
       "      <td>30.5</td>\n",
       "      <td>12</td>\n",
       "      <td>unknown</td>\n",
       "      <td>...</td>\n",
       "      <td>10364.0</td>\n",
       "      <td>2</td>\n",
       "      <td>173.0</td>\n",
       "      <td>3</td>\n",
       "      <td>196.0</td>\n",
       "      <td>602</td>\n",
       "      <td>149511.400651</td>\n",
       "      <td>Tuesday</td>\n",
       "      <td>March</td>\n",
       "      <td>2017</td>\n",
       "    </tr>\n",
       "    <tr>\n",
       "      <th>23698</th>\n",
       "      <td>4</td>\n",
       "      <td>1350000</td>\n",
       "      <td>32.30</td>\n",
       "      <td>2017-07-21</td>\n",
       "      <td>1</td>\n",
       "      <td>2.50</td>\n",
       "      <td>5</td>\n",
       "      <td>12.3</td>\n",
       "      <td>1</td>\n",
       "      <td>unknown</td>\n",
       "      <td>...</td>\n",
       "      <td>131936.0</td>\n",
       "      <td>0</td>\n",
       "      <td>6380.0</td>\n",
       "      <td>0</td>\n",
       "      <td>4032.0</td>\n",
       "      <td>95</td>\n",
       "      <td>41795.665635</td>\n",
       "      <td>Friday</td>\n",
       "      <td>July</td>\n",
       "      <td>2017</td>\n",
       "    </tr>\n",
       "  </tbody>\n",
       "</table>\n",
       "<p>23699 rows × 26 columns</p>\n",
       "</div>"
      ],
      "text/plain": [
       "       total_images  last_price  total_area first_day_exposition  rooms  \\\n",
       "0                20    13000000      108.00           2019-03-07      3   \n",
       "1                 7     3350000       40.40           2018-12-04      1   \n",
       "2                10     5196000       56.00           2015-08-20      2   \n",
       "3                 0    64900000      159.00           2015-07-24      3   \n",
       "4                 2    10000000      100.00           2018-06-19      2   \n",
       "...             ...         ...         ...                  ...    ...   \n",
       "23694             9     9700000      133.81           2017-03-21      3   \n",
       "23695            14     3100000       59.00           2018-01-15      3   \n",
       "23696            18     2500000       56.70           2018-02-11      2   \n",
       "23697            13    11475000       76.75           2017-03-28      2   \n",
       "23698             4     1350000       32.30           2017-07-21      1   \n",
       "\n",
       "       ceiling_height  floors_total  living_area  floor is_apartment  ...  \\\n",
       "0                2.70            16         51.0      8      unknown  ...   \n",
       "1                2.65            11         18.6      1      unknown  ...   \n",
       "2                2.65             5         34.3      4      unknown  ...   \n",
       "3                2.65            14         45.0      9      unknown  ...   \n",
       "4                3.03            14         32.0     13      unknown  ...   \n",
       "...               ...           ...          ...    ...          ...  ...   \n",
       "23694            3.70             5         73.3      3      unknown  ...   \n",
       "23695            2.65             5         38.0      4      unknown  ...   \n",
       "23696            2.65             3         29.7      1      unknown  ...   \n",
       "23697            3.00            17         30.5     12      unknown  ...   \n",
       "23698            2.50             5         12.3      1      unknown  ...   \n",
       "\n",
       "       cityCenters_nearest  parks_around3000  parks_nearest  ponds_around3000  \\\n",
       "0                  16028.0                 1          482.0                 2   \n",
       "1                  18603.0                 0         6380.0                 0   \n",
       "2                  13933.0                 1           90.0                 2   \n",
       "3                   6800.0                 2           84.0                 3   \n",
       "4                   8098.0                 2          112.0                 1   \n",
       "...                    ...               ...            ...               ...   \n",
       "23694               4232.0                 1          796.0                 3   \n",
       "23695             131936.0                 0         6380.0                 0   \n",
       "23696             131936.0                 0         6380.0                 0   \n",
       "23697              10364.0                 2          173.0                 3   \n",
       "23698             131936.0                 0         6380.0                 0   \n",
       "\n",
       "      ponds_nearest  days_exposition  price_per_meter  day_of_week     month  \\\n",
       "0             755.0               95    120370.370370     Thursday     March   \n",
       "1            4032.0               81     82920.792079      Tuesday  December   \n",
       "2             574.0              558     92785.714286     Thursday    August   \n",
       "3             234.0              424    408176.100629       Friday      July   \n",
       "4              48.0              121    100000.000000      Tuesday      June   \n",
       "...             ...              ...              ...          ...       ...   \n",
       "23694         381.0               95     72490.845228      Tuesday     March   \n",
       "23695        4032.0               45     52542.372881       Monday   January   \n",
       "23696        4032.0               95     44091.710758       Sunday  February   \n",
       "23697         196.0              602    149511.400651      Tuesday     March   \n",
       "23698        4032.0               95     41795.665635       Friday      July   \n",
       "\n",
       "       year  \n",
       "0      2019  \n",
       "1      2018  \n",
       "2      2015  \n",
       "3      2015  \n",
       "4      2018  \n",
       "...     ...  \n",
       "23694  2017  \n",
       "23695  2018  \n",
       "23696  2018  \n",
       "23697  2017  \n",
       "23698  2017  \n",
       "\n",
       "[23699 rows x 26 columns]"
      ]
     },
     "execution_count": 54,
     "metadata": {},
     "output_type": "execute_result"
    }
   ],
   "source": [
    "df['day_of_week'] = df['first_day_exposition'].dt.day_name()\n",
    "df['month'] = df['first_day_exposition'].dt.month_name()\n",
    "df['year'] = df['first_day_exposition'].dt.year\n",
    "df"
   ]
  },
  {
   "cell_type": "markdown",
   "metadata": {},
   "source": [
    "Далее добавим столбец в таблицу, в котором указан этаж на котором находится помещение (первый, последний или другой):"
   ]
  },
  {
   "cell_type": "code",
   "execution_count": 55,
   "metadata": {},
   "outputs": [],
   "source": [
    "df['floor_type'] = 'other'\n",
    "df['floor_type'] = df['floor_type'].where(df['floor'] != 1, 'first')\n",
    "df['floor_type'] = df['floor_type'].where(df['floor'] != df['floors_total'], 'last')"
   ]
  },
  {
   "cell_type": "markdown",
   "metadata": {},
   "source": [
    "Ну и последнее, что нам необходимо добавить в таблицу: отношение жилой площади помещения к общей и отношение площади кухни к общей:"
   ]
  },
  {
   "cell_type": "code",
   "execution_count": 56,
   "metadata": {
    "scrolled": false
   },
   "outputs": [
    {
     "data": {
      "text/html": [
       "<div>\n",
       "<style scoped>\n",
       "    .dataframe tbody tr th:only-of-type {\n",
       "        vertical-align: middle;\n",
       "    }\n",
       "\n",
       "    .dataframe tbody tr th {\n",
       "        vertical-align: top;\n",
       "    }\n",
       "\n",
       "    .dataframe thead th {\n",
       "        text-align: right;\n",
       "    }\n",
       "</style>\n",
       "<table border=\"1\" class=\"dataframe\">\n",
       "  <thead>\n",
       "    <tr style=\"text-align: right;\">\n",
       "      <th></th>\n",
       "      <th>total_images</th>\n",
       "      <th>last_price</th>\n",
       "      <th>total_area</th>\n",
       "      <th>first_day_exposition</th>\n",
       "      <th>rooms</th>\n",
       "      <th>ceiling_height</th>\n",
       "      <th>floors_total</th>\n",
       "      <th>living_area</th>\n",
       "      <th>floor</th>\n",
       "      <th>is_apartment</th>\n",
       "      <th>...</th>\n",
       "      <th>ponds_around3000</th>\n",
       "      <th>ponds_nearest</th>\n",
       "      <th>days_exposition</th>\n",
       "      <th>price_per_meter</th>\n",
       "      <th>day_of_week</th>\n",
       "      <th>month</th>\n",
       "      <th>year</th>\n",
       "      <th>floor_type</th>\n",
       "      <th>living_total_raito</th>\n",
       "      <th>kitchen_total_raito</th>\n",
       "    </tr>\n",
       "  </thead>\n",
       "  <tbody>\n",
       "    <tr>\n",
       "      <th>0</th>\n",
       "      <td>20</td>\n",
       "      <td>13000000</td>\n",
       "      <td>108.00</td>\n",
       "      <td>2019-03-07</td>\n",
       "      <td>3</td>\n",
       "      <td>2.70</td>\n",
       "      <td>16</td>\n",
       "      <td>51.0</td>\n",
       "      <td>8</td>\n",
       "      <td>unknown</td>\n",
       "      <td>...</td>\n",
       "      <td>2</td>\n",
       "      <td>755.0</td>\n",
       "      <td>95</td>\n",
       "      <td>120370.370370</td>\n",
       "      <td>Thursday</td>\n",
       "      <td>March</td>\n",
       "      <td>2019</td>\n",
       "      <td>other</td>\n",
       "      <td>0.472222</td>\n",
       "      <td>0.231481</td>\n",
       "    </tr>\n",
       "    <tr>\n",
       "      <th>1</th>\n",
       "      <td>7</td>\n",
       "      <td>3350000</td>\n",
       "      <td>40.40</td>\n",
       "      <td>2018-12-04</td>\n",
       "      <td>1</td>\n",
       "      <td>2.65</td>\n",
       "      <td>11</td>\n",
       "      <td>18.6</td>\n",
       "      <td>1</td>\n",
       "      <td>unknown</td>\n",
       "      <td>...</td>\n",
       "      <td>0</td>\n",
       "      <td>4032.0</td>\n",
       "      <td>81</td>\n",
       "      <td>82920.792079</td>\n",
       "      <td>Tuesday</td>\n",
       "      <td>December</td>\n",
       "      <td>2018</td>\n",
       "      <td>first</td>\n",
       "      <td>0.460396</td>\n",
       "      <td>0.272277</td>\n",
       "    </tr>\n",
       "    <tr>\n",
       "      <th>2</th>\n",
       "      <td>10</td>\n",
       "      <td>5196000</td>\n",
       "      <td>56.00</td>\n",
       "      <td>2015-08-20</td>\n",
       "      <td>2</td>\n",
       "      <td>2.65</td>\n",
       "      <td>5</td>\n",
       "      <td>34.3</td>\n",
       "      <td>4</td>\n",
       "      <td>unknown</td>\n",
       "      <td>...</td>\n",
       "      <td>2</td>\n",
       "      <td>574.0</td>\n",
       "      <td>558</td>\n",
       "      <td>92785.714286</td>\n",
       "      <td>Thursday</td>\n",
       "      <td>August</td>\n",
       "      <td>2015</td>\n",
       "      <td>other</td>\n",
       "      <td>0.612500</td>\n",
       "      <td>0.148214</td>\n",
       "    </tr>\n",
       "    <tr>\n",
       "      <th>3</th>\n",
       "      <td>0</td>\n",
       "      <td>64900000</td>\n",
       "      <td>159.00</td>\n",
       "      <td>2015-07-24</td>\n",
       "      <td>3</td>\n",
       "      <td>2.65</td>\n",
       "      <td>14</td>\n",
       "      <td>45.0</td>\n",
       "      <td>9</td>\n",
       "      <td>unknown</td>\n",
       "      <td>...</td>\n",
       "      <td>3</td>\n",
       "      <td>234.0</td>\n",
       "      <td>424</td>\n",
       "      <td>408176.100629</td>\n",
       "      <td>Friday</td>\n",
       "      <td>July</td>\n",
       "      <td>2015</td>\n",
       "      <td>other</td>\n",
       "      <td>0.283019</td>\n",
       "      <td>0.059748</td>\n",
       "    </tr>\n",
       "    <tr>\n",
       "      <th>4</th>\n",
       "      <td>2</td>\n",
       "      <td>10000000</td>\n",
       "      <td>100.00</td>\n",
       "      <td>2018-06-19</td>\n",
       "      <td>2</td>\n",
       "      <td>3.03</td>\n",
       "      <td>14</td>\n",
       "      <td>32.0</td>\n",
       "      <td>13</td>\n",
       "      <td>unknown</td>\n",
       "      <td>...</td>\n",
       "      <td>1</td>\n",
       "      <td>48.0</td>\n",
       "      <td>121</td>\n",
       "      <td>100000.000000</td>\n",
       "      <td>Tuesday</td>\n",
       "      <td>June</td>\n",
       "      <td>2018</td>\n",
       "      <td>other</td>\n",
       "      <td>0.320000</td>\n",
       "      <td>0.410000</td>\n",
       "    </tr>\n",
       "    <tr>\n",
       "      <th>...</th>\n",
       "      <td>...</td>\n",
       "      <td>...</td>\n",
       "      <td>...</td>\n",
       "      <td>...</td>\n",
       "      <td>...</td>\n",
       "      <td>...</td>\n",
       "      <td>...</td>\n",
       "      <td>...</td>\n",
       "      <td>...</td>\n",
       "      <td>...</td>\n",
       "      <td>...</td>\n",
       "      <td>...</td>\n",
       "      <td>...</td>\n",
       "      <td>...</td>\n",
       "      <td>...</td>\n",
       "      <td>...</td>\n",
       "      <td>...</td>\n",
       "      <td>...</td>\n",
       "      <td>...</td>\n",
       "      <td>...</td>\n",
       "      <td>...</td>\n",
       "    </tr>\n",
       "    <tr>\n",
       "      <th>23694</th>\n",
       "      <td>9</td>\n",
       "      <td>9700000</td>\n",
       "      <td>133.81</td>\n",
       "      <td>2017-03-21</td>\n",
       "      <td>3</td>\n",
       "      <td>3.70</td>\n",
       "      <td>5</td>\n",
       "      <td>73.3</td>\n",
       "      <td>3</td>\n",
       "      <td>unknown</td>\n",
       "      <td>...</td>\n",
       "      <td>3</td>\n",
       "      <td>381.0</td>\n",
       "      <td>95</td>\n",
       "      <td>72490.845228</td>\n",
       "      <td>Tuesday</td>\n",
       "      <td>March</td>\n",
       "      <td>2017</td>\n",
       "      <td>other</td>\n",
       "      <td>0.547792</td>\n",
       "      <td>0.103356</td>\n",
       "    </tr>\n",
       "    <tr>\n",
       "      <th>23695</th>\n",
       "      <td>14</td>\n",
       "      <td>3100000</td>\n",
       "      <td>59.00</td>\n",
       "      <td>2018-01-15</td>\n",
       "      <td>3</td>\n",
       "      <td>2.65</td>\n",
       "      <td>5</td>\n",
       "      <td>38.0</td>\n",
       "      <td>4</td>\n",
       "      <td>unknown</td>\n",
       "      <td>...</td>\n",
       "      <td>0</td>\n",
       "      <td>4032.0</td>\n",
       "      <td>45</td>\n",
       "      <td>52542.372881</td>\n",
       "      <td>Monday</td>\n",
       "      <td>January</td>\n",
       "      <td>2018</td>\n",
       "      <td>other</td>\n",
       "      <td>0.644068</td>\n",
       "      <td>0.144068</td>\n",
       "    </tr>\n",
       "    <tr>\n",
       "      <th>23696</th>\n",
       "      <td>18</td>\n",
       "      <td>2500000</td>\n",
       "      <td>56.70</td>\n",
       "      <td>2018-02-11</td>\n",
       "      <td>2</td>\n",
       "      <td>2.65</td>\n",
       "      <td>3</td>\n",
       "      <td>29.7</td>\n",
       "      <td>1</td>\n",
       "      <td>unknown</td>\n",
       "      <td>...</td>\n",
       "      <td>0</td>\n",
       "      <td>4032.0</td>\n",
       "      <td>95</td>\n",
       "      <td>44091.710758</td>\n",
       "      <td>Sunday</td>\n",
       "      <td>February</td>\n",
       "      <td>2018</td>\n",
       "      <td>first</td>\n",
       "      <td>0.523810</td>\n",
       "      <td>0.155203</td>\n",
       "    </tr>\n",
       "    <tr>\n",
       "      <th>23697</th>\n",
       "      <td>13</td>\n",
       "      <td>11475000</td>\n",
       "      <td>76.75</td>\n",
       "      <td>2017-03-28</td>\n",
       "      <td>2</td>\n",
       "      <td>3.00</td>\n",
       "      <td>17</td>\n",
       "      <td>30.5</td>\n",
       "      <td>12</td>\n",
       "      <td>unknown</td>\n",
       "      <td>...</td>\n",
       "      <td>3</td>\n",
       "      <td>196.0</td>\n",
       "      <td>602</td>\n",
       "      <td>149511.400651</td>\n",
       "      <td>Tuesday</td>\n",
       "      <td>March</td>\n",
       "      <td>2017</td>\n",
       "      <td>other</td>\n",
       "      <td>0.397394</td>\n",
       "      <td>0.303583</td>\n",
       "    </tr>\n",
       "    <tr>\n",
       "      <th>23698</th>\n",
       "      <td>4</td>\n",
       "      <td>1350000</td>\n",
       "      <td>32.30</td>\n",
       "      <td>2017-07-21</td>\n",
       "      <td>1</td>\n",
       "      <td>2.50</td>\n",
       "      <td>5</td>\n",
       "      <td>12.3</td>\n",
       "      <td>1</td>\n",
       "      <td>unknown</td>\n",
       "      <td>...</td>\n",
       "      <td>0</td>\n",
       "      <td>4032.0</td>\n",
       "      <td>95</td>\n",
       "      <td>41795.665635</td>\n",
       "      <td>Friday</td>\n",
       "      <td>July</td>\n",
       "      <td>2017</td>\n",
       "      <td>first</td>\n",
       "      <td>0.380805</td>\n",
       "      <td>0.278638</td>\n",
       "    </tr>\n",
       "  </tbody>\n",
       "</table>\n",
       "<p>23699 rows × 29 columns</p>\n",
       "</div>"
      ],
      "text/plain": [
       "       total_images  last_price  total_area first_day_exposition  rooms  \\\n",
       "0                20    13000000      108.00           2019-03-07      3   \n",
       "1                 7     3350000       40.40           2018-12-04      1   \n",
       "2                10     5196000       56.00           2015-08-20      2   \n",
       "3                 0    64900000      159.00           2015-07-24      3   \n",
       "4                 2    10000000      100.00           2018-06-19      2   \n",
       "...             ...         ...         ...                  ...    ...   \n",
       "23694             9     9700000      133.81           2017-03-21      3   \n",
       "23695            14     3100000       59.00           2018-01-15      3   \n",
       "23696            18     2500000       56.70           2018-02-11      2   \n",
       "23697            13    11475000       76.75           2017-03-28      2   \n",
       "23698             4     1350000       32.30           2017-07-21      1   \n",
       "\n",
       "       ceiling_height  floors_total  living_area  floor is_apartment  ...  \\\n",
       "0                2.70            16         51.0      8      unknown  ...   \n",
       "1                2.65            11         18.6      1      unknown  ...   \n",
       "2                2.65             5         34.3      4      unknown  ...   \n",
       "3                2.65            14         45.0      9      unknown  ...   \n",
       "4                3.03            14         32.0     13      unknown  ...   \n",
       "...               ...           ...          ...    ...          ...  ...   \n",
       "23694            3.70             5         73.3      3      unknown  ...   \n",
       "23695            2.65             5         38.0      4      unknown  ...   \n",
       "23696            2.65             3         29.7      1      unknown  ...   \n",
       "23697            3.00            17         30.5     12      unknown  ...   \n",
       "23698            2.50             5         12.3      1      unknown  ...   \n",
       "\n",
       "       ponds_around3000  ponds_nearest  days_exposition  price_per_meter  \\\n",
       "0                     2          755.0               95    120370.370370   \n",
       "1                     0         4032.0               81     82920.792079   \n",
       "2                     2          574.0              558     92785.714286   \n",
       "3                     3          234.0              424    408176.100629   \n",
       "4                     1           48.0              121    100000.000000   \n",
       "...                 ...            ...              ...              ...   \n",
       "23694                 3          381.0               95     72490.845228   \n",
       "23695                 0         4032.0               45     52542.372881   \n",
       "23696                 0         4032.0               95     44091.710758   \n",
       "23697                 3          196.0              602    149511.400651   \n",
       "23698                 0         4032.0               95     41795.665635   \n",
       "\n",
       "      day_of_week     month  year  floor_type  living_total_raito  \\\n",
       "0        Thursday     March  2019       other            0.472222   \n",
       "1         Tuesday  December  2018       first            0.460396   \n",
       "2        Thursday    August  2015       other            0.612500   \n",
       "3          Friday      July  2015       other            0.283019   \n",
       "4         Tuesday      June  2018       other            0.320000   \n",
       "...           ...       ...   ...         ...                 ...   \n",
       "23694     Tuesday     March  2017       other            0.547792   \n",
       "23695      Monday   January  2018       other            0.644068   \n",
       "23696      Sunday  February  2018       first            0.523810   \n",
       "23697     Tuesday     March  2017       other            0.397394   \n",
       "23698      Friday      July  2017       first            0.380805   \n",
       "\n",
       "       kitchen_total_raito  \n",
       "0                 0.231481  \n",
       "1                 0.272277  \n",
       "2                 0.148214  \n",
       "3                 0.059748  \n",
       "4                 0.410000  \n",
       "...                    ...  \n",
       "23694             0.103356  \n",
       "23695             0.144068  \n",
       "23696             0.155203  \n",
       "23697             0.303583  \n",
       "23698             0.278638  \n",
       "\n",
       "[23699 rows x 29 columns]"
      ]
     },
     "execution_count": 56,
     "metadata": {},
     "output_type": "execute_result"
    }
   ],
   "source": [
    "df['living_total_raito'] = df['living_area'] / df['total_area']\n",
    "df['kitchen_total_raito'] = df['kitchen_area'] / df['total_area']\n",
    "df"
   ]
  },
  {
   "cell_type": "markdown",
   "metadata": {},
   "source": [
    "## Исследовательский анализ данных"
   ]
  },
  {
   "cell_type": "code",
   "execution_count": 57,
   "metadata": {},
   "outputs": [],
   "source": [
    "import matplotlib.pyplot as plt\n",
    "import seaborn as sns"
   ]
  },
  {
   "cell_type": "markdown",
   "metadata": {},
   "source": [
    "Переходим к анализу данных. Для начала изучим данные о площади помещений."
   ]
  },
  {
   "cell_type": "code",
   "execution_count": 58,
   "metadata": {
    "scrolled": true
   },
   "outputs": [
    {
     "data": {
      "text/plain": [
       "count    23699.000000\n",
       "mean        60.348651\n",
       "std         35.654083\n",
       "min         12.000000\n",
       "25%         40.000000\n",
       "50%         52.000000\n",
       "75%         69.900000\n",
       "max        900.000000\n",
       "Name: total_area, dtype: float64"
      ]
     },
     "execution_count": 58,
     "metadata": {},
     "output_type": "execute_result"
    }
   ],
   "source": [
    "df['total_area'].describe()"
   ]
  },
  {
   "cell_type": "code",
   "execution_count": 59,
   "metadata": {
    "scrolled": true
   },
   "outputs": [
    {
     "data": {
      "text/plain": [
       "Text(0.5, 1.0, 'Площадь квартиры')"
      ]
     },
     "execution_count": 59,
     "metadata": {},
     "output_type": "execute_result"
    },
    {
     "data": {
      "image/png": "[encoded data removed]",
      "text/plain": [
       "<Figure size 432x288 with 1 Axes>"
      ]
     },
     "metadata": {
      "needs_background": "light"
     },
     "output_type": "display_data"
    }
   ],
   "source": [
    "ax = df['total_area'].hist(bins=100, range=(20,150))\n",
    "ax.set_xlabel(xlabel='Площадь, $м^2$')\n",
    "ax.set_ylabel(ylabel='Кол-во квартир с указанной площадью')\n",
    "ax.set_title('Площадь квартиры')"
   ]
  },
  {
   "cell_type": "markdown",
   "metadata": {},
   "source": [
    "Слишком большие максимальные и слишком маленькие минимальные. Также следует отметить большое количество помещений с жилой площадью около 30 $м^2$ и 45 $м^2$. "
   ]
  },
  {
   "cell_type": "markdown",
   "metadata": {},
   "source": [
    "Избавимся от слишком малых и слишком больших значений жилых площадей. Возьмем за нормальную жилую площадь промежуток между 25 и 50 $м^2$:"
   ]
  },
  {
   "cell_type": "code",
   "execution_count": 60,
   "metadata": {
    "scrolled": true
   },
   "outputs": [
    {
     "data": {
      "text/plain": [
       "Text(0.5, 1.0, 'Площадь квартиры')"
      ]
     },
     "execution_count": 60,
     "metadata": {},
     "output_type": "execute_result"
    },
    {
     "data": {
      "image/png": "[encoded data removed]",
      "text/plain": [
       "<Figure size 432x288 with 1 Axes>"
      ]
     },
     "metadata": {
      "needs_background": "light"
     },
     "output_type": "display_data"
    }
   ],
   "source": [
    "ax = df.query('25 <= total_area <= 100')['total_area'].hist(bins=100, range = (25,50))\n",
    "ax.set_xlabel(xlabel='Площадь, $м^2$')\n",
    "ax.set_ylabel(ylabel='Кол-во квартир с указанной площадью')\n",
    "ax.set_title('Площадь квартиры')"
   ]
  },
  {
   "cell_type": "markdown",
   "metadata": {},
   "source": [
    "При рассмотрении этой гистограммы мы можем заметить, что она идет волнами. Исходя из этого, можно предположить что существуют стандартные планировки, площадь которых совпадает."
   ]
  },
  {
   "cell_type": "code",
   "execution_count": 61,
   "metadata": {},
   "outputs": [
    {
     "data": {
      "text/plain": [
       "count    2.369900e+04\n",
       "mean     6.541549e+06\n",
       "std      1.088701e+07\n",
       "min      1.219000e+04\n",
       "25%      3.400000e+06\n",
       "50%      4.650000e+06\n",
       "75%      6.800000e+06\n",
       "max      7.630000e+08\n",
       "Name: last_price, dtype: float64"
      ]
     },
     "execution_count": 61,
     "metadata": {},
     "output_type": "execute_result"
    }
   ],
   "source": [
    "df['last_price'].describe()"
   ]
  },
  {
   "cell_type": "code",
   "execution_count": 62,
   "metadata": {
    "scrolled": false
   },
   "outputs": [
    {
     "data": {
      "text/plain": [
       "Text(0.5, 1.0, 'Стоимость квартиры')"
      ]
     },
     "execution_count": 62,
     "metadata": {},
     "output_type": "execute_result"
    },
    {
     "data": {
      "image/png": "[encoded data removed]",
      "text/plain": [
       "<Figure size 432x288 with 1 Axes>"
      ]
     },
     "metadata": {
      "needs_background": "light"
     },
     "output_type": "display_data"
    }
   ],
   "source": [
    "ax = df['last_price'].hist(bins=100, range = (0, 11000000))\n",
    "ax.set_xlabel(xlabel='Цена помещения, руб')\n",
    "ax.set_ylabel(ylabel='Кол-во квартир по указанной цене')\n",
    "ax.set_title('Стоимость квартиры')"
   ]
  },
  {
   "cell_type": "markdown",
   "metadata": {},
   "source": [
    "Ситуация такая же: минимальные и максимальные значения не соответствуют ожиданиям. Но гистограмма более-менее ровная, напоминает нормальное распределение. Наконец, рассмотрим высоту потолков:"
   ]
  },
  {
   "cell_type": "code",
   "execution_count": 63,
   "metadata": {},
   "outputs": [
    {
     "data": {
      "text/plain": [
       "count    23699.000000\n",
       "mean         2.724358\n",
       "std          0.988298\n",
       "min          1.000000\n",
       "25%          2.600000\n",
       "50%          2.650000\n",
       "75%          2.700000\n",
       "max        100.000000\n",
       "Name: ceiling_height, dtype: float64"
      ]
     },
     "execution_count": 63,
     "metadata": {},
     "output_type": "execute_result"
    }
   ],
   "source": [
    "df['ceiling_height'].describe()"
   ]
  },
  {
   "cell_type": "code",
   "execution_count": 64,
   "metadata": {},
   "outputs": [
    {
     "data": {
      "text/plain": [
       "Text(0.5, 1.0, 'Высота потолков в квартирах')"
      ]
     },
     "execution_count": 64,
     "metadata": {},
     "output_type": "execute_result"
    },
    {
     "data": {
      "image/png": "[encoded data removed]",
      "text/plain": [
       "<Figure size 432x288 with 1 Axes>"
      ]
     },
     "metadata": {
      "needs_background": "light"
     },
     "output_type": "display_data"
    }
   ],
   "source": [
    "ax = df['ceiling_height'].hist(bins=10, range=(2,4))\n",
    "ax.set_xlabel(xlabel='Высота потолков, м')\n",
    "ax.set_ylabel(ylabel='Кол-во квартир')\n",
    "ax.set_title('Высота потолков в квартирах')"
   ]
  },
  {
   "cell_type": "markdown",
   "metadata": {},
   "source": [
    "Согласно СНиПам высота потолка должа быть в районе 2,5-2,7 м для жилых помещений. Как мы видим, большинство помещений соответствуют стандартам. Остальные данные для жилых помещений выглядят нереалистино, хотя нежилые помещения могут нормироваться и бОльшей высотой потолка."
   ]
  },
  {
   "cell_type": "markdown",
   "metadata": {},
   "source": [
    "Изучим время продажи квартиры:"
   ]
  },
  {
   "cell_type": "code",
   "execution_count": 65,
   "metadata": {},
   "outputs": [
    {
     "data": {
      "text/plain": [
       "count    23699.000000\n",
       "mean       169.360226\n",
       "std        206.535633\n",
       "min          1.000000\n",
       "25%         45.000000\n",
       "50%         95.000000\n",
       "75%        199.000000\n",
       "max       1580.000000\n",
       "Name: days_exposition, dtype: float64"
      ]
     },
     "execution_count": 65,
     "metadata": {},
     "output_type": "execute_result"
    }
   ],
   "source": [
    "df['days_exposition'].describe()"
   ]
  },
  {
   "cell_type": "code",
   "execution_count": 66,
   "metadata": {},
   "outputs": [
    {
     "data": {
      "text/plain": [
       "Text(0.5, 1.0, 'Время продажи квартиры')"
      ]
     },
     "execution_count": 66,
     "metadata": {},
     "output_type": "execute_result"
    },
    {
     "data": {
      "image/png": "[encoded data removed]",
      "text/plain": [
       "<Figure size 432x288 with 1 Axes>"
      ]
     },
     "metadata": {
      "needs_background": "light"
     },
     "output_type": "display_data"
    }
   ],
   "source": [
    "ax = df['days_exposition'].hist(bins=50, range=(0,500))\n",
    "ax.set_xlabel(xlabel='Потребовалось дней на продажу, дней')\n",
    "ax.set_ylabel(ylabel='Кол-во проданых квартир')\n",
    "ax.set_title('Время продажи квартиры')"
   ]
  },
  {
   "cell_type": "markdown",
   "metadata": {},
   "source": [
    "Как мы видим, имеется очень выделяющийся пик продажи помещений на отметке около 100 дней. Это возникло из-за нашего заполнения пропусков. Если не обращать на него внимания, то мы видим, что большенство помещений продается не дольше 200 дней. Обычно помещения продаются около 150 дней. Необычно быстрой продажей можно считать продаже быстрее 45 дней, необычно долгой - больше 200 дней."
   ]
  },
  {
   "cell_type": "markdown",
   "metadata": {},
   "source": [
    "Изучим факторы, влияющие на стоимость квартиры:"
   ]
  },
  {
   "cell_type": "code",
   "execution_count": 67,
   "metadata": {
    "scrolled": true
   },
   "outputs": [
    {
     "data": {
      "text/plain": [
       "last_price             1.000000\n",
       "price_per_meter        0.736499\n",
       "total_area             0.653675\n",
       "living_area            0.556066\n",
       "kitchen_area           0.450682\n",
       "rooms                  0.363343\n",
       "ponds_around3000       0.208621\n",
       "parks_around3000       0.197840\n",
       "total_images           0.104473\n",
       "days_exposition        0.065469\n",
       "ceiling_height         0.064425\n",
       "floor                  0.026576\n",
       "balcony                0.020631\n",
       "floors_total          -0.006920\n",
       "open_plan             -0.008802\n",
       "studio                -0.025362\n",
       "living_total_raito    -0.036802\n",
       "year                  -0.043089\n",
       "kitchen_total_raito   -0.103613\n",
       "parks_nearest         -0.166338\n",
       "ponds_nearest         -0.168957\n",
       "airports_nearest      -0.170848\n",
       "cityCenters_nearest   -0.200258\n",
       "Name: last_price, dtype: float64"
      ]
     },
     "execution_count": 67,
     "metadata": {},
     "output_type": "execute_result"
    }
   ],
   "source": [
    "df.corr()['last_price'].sort_values(ascending = False)"
   ]
  },
  {
   "cell_type": "code",
   "execution_count": 68,
   "metadata": {},
   "outputs": [
    {
     "data": {
      "text/plain": [
       "<AxesSubplot:xlabel='floor_type', ylabel='last_price'>"
      ]
     },
     "execution_count": 68,
     "metadata": {},
     "output_type": "execute_result"
    },
    {
     "data": {
      "image/png": "[encoded data removed]",
      "text/plain": [
       "<Figure size 432x288 with 1 Axes>"
      ]
     },
     "metadata": {
      "needs_background": "light"
     },
     "output_type": "display_data"
    }
   ],
   "source": [
    "sns.barplot(data = df, x='floor_type', y='last_price')"
   ]
  },
  {
   "cell_type": "markdown",
   "metadata": {},
   "source": [
    "Итак, на стоимость квартиры в основном влияет цена за квадратный метр, площадь квартиры (от которой зависит и жилая площадь, и площадь кухни и количество комнат). Также наблюдается небольшая зависимость от наличия водоемов и парков в радиусе 3км. При отдалении от центра города также наблюдается снижение цены."
   ]
  },
  {
   "cell_type": "code",
   "execution_count": 69,
   "metadata": {
    "scrolled": true
   },
   "outputs": [
    {
     "data": {
      "image/png": "[encoded data removed]",
      "text/plain": [
       "<Figure size 432x288 with 1 Axes>"
      ]
     },
     "metadata": {
      "needs_background": "light"
     },
     "output_type": "display_data"
    }
   ],
   "source": [
    "ax = sns.barplot(data = df.groupby('month')['last_price'].mean().reset_index().sort_values('last_price'), x='month', y = 'last_price')\n",
    "ax.set_title('Зависимость цены от месяца выставления помещения на продажу \\n')\n",
    "ax.set_xlabel(xlabel='месяц')\n",
    "ax.set_ylabel(ylabel='цена, руб')\n",
    "plt.xticks(rotation=45, ha='right')\n",
    "new_labels = ['\\\\\\n'.join(lable.get_text().split('/')) for lable in ax.xaxis.get_ticklabels()]\n",
    "plt.show()"
   ]
  },
  {
   "cell_type": "markdown",
   "metadata": {},
   "source": [
    "Средняя цена на квартиры, выставленные в декабре, сентябре и апреле немного выше."
   ]
  },
  {
   "cell_type": "code",
   "execution_count": 70,
   "metadata": {
    "scrolled": false
   },
   "outputs": [
    {
     "data": {
      "image/png": "[encoded data removed]",
      "text/plain": [
       "<Figure size 432x288 with 1 Axes>"
      ]
     },
     "metadata": {
      "needs_background": "light"
     },
     "output_type": "display_data"
    }
   ],
   "source": [
    "ax = sns.barplot(data = df.groupby('day_of_week')['last_price'].mean().reset_index().sort_values('last_price'), x='day_of_week', y = 'last_price')\n",
    "ax.set_title('Зависимость цены от дня недели выставления помещения на продажу \\n')\n",
    "ax.set_xlabel(xlabel='День недели')\n",
    "ax.set_ylabel(ylabel='цена, руб')\n",
    "plt.xticks(rotation=45, ha='right')\n",
    "new_labels = ['\\\\\\n'.join(lable.get_text().split('/')) for lable in ax.xaxis.get_ticklabels()]\n",
    "plt.show()"
   ]
  },
  {
   "cell_type": "markdown",
   "metadata": {},
   "source": [
    "Зависимость цены от дня недели выставления квартиры крайне мала, разве что помещения выставленные в субботу имеют среднюю цену немного выше."
   ]
  },
  {
   "cell_type": "code",
   "execution_count": 71,
   "metadata": {
    "scrolled": true
   },
   "outputs": [
    {
     "data": {
      "image/png": "[encoded data removed]",
      "text/plain": [
       "<Figure size 432x288 with 1 Axes>"
      ]
     },
     "metadata": {
      "needs_background": "light"
     },
     "output_type": "display_data"
    }
   ],
   "source": [
    "ax = sns.barplot(data = df.groupby('year')['last_price'].mean().reset_index().sort_values('last_price'), x='year', y = 'last_price')\n",
    "ax.set_title('Зависимость цены от года выставления помещения на продажу \\n')\n",
    "ax.set_xlabel(xlabel='год')\n",
    "ax.set_ylabel(ylabel='цена, руб')\n",
    "plt.xticks(rotation=45, ha='right')\n",
    "new_labels = ['\\\\\\n'.join(lable.get_text().split('/')) for lable in ax.xaxis.get_ticklabels()]\n",
    "plt.show()"
   ]
  },
  {
   "cell_type": "markdown",
   "metadata": {},
   "source": [
    "А вот тут зависимость уже весьма и весьма заметна. В 2014 средняя стоимость помещения была намного выше, чем в последующие года. А в 2018 наблюдалась наименьшая стоимость."
   ]
  },
  {
   "cell_type": "code",
   "execution_count": 72,
   "metadata": {
    "scrolled": true
   },
   "outputs": [
    {
     "data": {
      "text/html": [
       "<div>\n",
       "<style scoped>\n",
       "    .dataframe tbody tr th:only-of-type {\n",
       "        vertical-align: middle;\n",
       "    }\n",
       "\n",
       "    .dataframe tbody tr th {\n",
       "        vertical-align: top;\n",
       "    }\n",
       "\n",
       "    .dataframe thead th {\n",
       "        text-align: right;\n",
       "    }\n",
       "</style>\n",
       "<table border=\"1\" class=\"dataframe\">\n",
       "  <thead>\n",
       "    <tr style=\"text-align: right;\">\n",
       "      <th></th>\n",
       "      <th>count</th>\n",
       "      <th>avg_price_per_meter</th>\n",
       "    </tr>\n",
       "    <tr>\n",
       "      <th>locality_name</th>\n",
       "      <th></th>\n",
       "      <th></th>\n",
       "    </tr>\n",
       "  </thead>\n",
       "  <tbody>\n",
       "    <tr>\n",
       "      <th>Санкт-Петербург</th>\n",
       "      <td>15721</td>\n",
       "      <td>114849.008794</td>\n",
       "    </tr>\n",
       "    <tr>\n",
       "      <th>Пушкин</th>\n",
       "      <td>369</td>\n",
       "      <td>103125.819291</td>\n",
       "    </tr>\n",
       "    <tr>\n",
       "      <th>деревня Кудрово</th>\n",
       "      <td>299</td>\n",
       "      <td>92473.547576</td>\n",
       "    </tr>\n",
       "    <tr>\n",
       "      <th>посёлок Парголово</th>\n",
       "      <td>327</td>\n",
       "      <td>90175.913458</td>\n",
       "    </tr>\n",
       "    <tr>\n",
       "      <th>посёлок Мурино</th>\n",
       "      <td>522</td>\n",
       "      <td>85752.189195</td>\n",
       "    </tr>\n",
       "    <tr>\n",
       "      <th>посёлок Шушары</th>\n",
       "      <td>440</td>\n",
       "      <td>78677.364217</td>\n",
       "    </tr>\n",
       "    <tr>\n",
       "      <th>Колпино</th>\n",
       "      <td>338</td>\n",
       "      <td>75424.579098</td>\n",
       "    </tr>\n",
       "    <tr>\n",
       "      <th>Гатчина</th>\n",
       "      <td>307</td>\n",
       "      <td>68746.146763</td>\n",
       "    </tr>\n",
       "    <tr>\n",
       "      <th>Всеволожск</th>\n",
       "      <td>398</td>\n",
       "      <td>68654.473986</td>\n",
       "    </tr>\n",
       "    <tr>\n",
       "      <th>Выборг</th>\n",
       "      <td>237</td>\n",
       "      <td>58141.909153</td>\n",
       "    </tr>\n",
       "  </tbody>\n",
       "</table>\n",
       "</div>"
      ],
      "text/plain": [
       "                   count  avg_price_per_meter\n",
       "locality_name                                \n",
       "Санкт-Петербург    15721        114849.008794\n",
       "Пушкин               369        103125.819291\n",
       "деревня Кудрово      299         92473.547576\n",
       "посёлок Парголово    327         90175.913458\n",
       "посёлок Мурино       522         85752.189195\n",
       "посёлок Шушары       440         78677.364217\n",
       "Колпино              338         75424.579098\n",
       "Гатчина              307         68746.146763\n",
       "Всеволожск           398         68654.473986\n",
       "Выборг               237         58141.909153"
      ]
     },
     "execution_count": 72,
     "metadata": {},
     "output_type": "execute_result"
    }
   ],
   "source": [
    "df_grouped = df.pivot_table(values='price_per_meter', index='locality_name', aggfunc=['count', 'mean'])\n",
    "df_grouped.columns = ('count', 'avg_price_per_meter')\n",
    "df_grouped.sort_values(by ='count', ascending=False).head(10).sort_values(by ='avg_price_per_meter', ascending=False)"
   ]
  },
  {
   "cell_type": "markdown",
   "metadata": {},
   "source": [
    "Собственно здесь мы видим в каких населенных пунктах из 10 самых больших по количеству объявлений, самая высокая средняя цена за квадратный метр."
   ]
  },
  {
   "cell_type": "code",
   "execution_count": 73,
   "metadata": {
    "scrolled": false
   },
   "outputs": [
    {
     "data": {
      "text/plain": [
       "Text(0.5, 1.0, 'Зависимость цены от расстояния до центра города \\n')"
      ]
     },
     "execution_count": 73,
     "metadata": {},
     "output_type": "execute_result"
    },
    {
     "data": {
      "image/png": "[encoded data removed]",
      "text/plain": [
       "<Figure size 1080x432 with 1 Axes>"
      ]
     },
     "metadata": {
      "needs_background": "light"
     },
     "output_type": "display_data"
    }
   ],
   "source": [
    "df_spb = df[df['locality_name'] == 'Санкт-Петербург'].copy()\n",
    "df_spb['center_round'] = (df_spb['cityCenters_nearest'] / 1000).round()\n",
    "df_spb_groupped = df_spb.groupby('center_round')['last_price'].mean()\n",
    "ax = df_spb_groupped.plot(xlim=(0,30), grid=True, figsize=(15,6))\n",
    "ax.set_xticks(list(range(0,30)))\n",
    "ax.set_xlabel(xlabel='Округленное расстояние до центра, км')\n",
    "ax.set_ylabel(ylabel='Цена, руб')\n",
    "ax.set_title('Зависимость цены от расстояния до центра города \\n')"
   ]
  },
  {
   "cell_type": "markdown",
   "metadata": {},
   "source": [
    "Итак, по динамике графика мы видим, что зона \"центра города\" заканчивается примерно на 3 км."
   ]
  },
  {
   "cell_type": "markdown",
   "metadata": {},
   "source": [
    "Приступим к изучению квартир, находящихся в центре города. Изучим площадь, цену, число комнат и высоту потолков для квартир в центре:"
   ]
  },
  {
   "cell_type": "code",
   "execution_count": 74,
   "metadata": {},
   "outputs": [
    {
     "data": {
      "text/html": [
       "<div>\n",
       "<style scoped>\n",
       "    .dataframe tbody tr th:only-of-type {\n",
       "        vertical-align: middle;\n",
       "    }\n",
       "\n",
       "    .dataframe tbody tr th {\n",
       "        vertical-align: top;\n",
       "    }\n",
       "\n",
       "    .dataframe thead th {\n",
       "        text-align: right;\n",
       "    }\n",
       "</style>\n",
       "<table border=\"1\" class=\"dataframe\">\n",
       "  <thead>\n",
       "    <tr style=\"text-align: right;\">\n",
       "      <th></th>\n",
       "      <th>total_area</th>\n",
       "      <th>last_price</th>\n",
       "      <th>rooms</th>\n",
       "      <th>ceiling_height</th>\n",
       "    </tr>\n",
       "  </thead>\n",
       "  <tbody>\n",
       "    <tr>\n",
       "      <th>count</th>\n",
       "      <td>879.000000</td>\n",
       "      <td>8.790000e+02</td>\n",
       "      <td>879.000000</td>\n",
       "      <td>879.000000</td>\n",
       "    </tr>\n",
       "    <tr>\n",
       "      <th>mean</th>\n",
       "      <td>98.632446</td>\n",
       "      <td>1.630205e+07</td>\n",
       "      <td>3.110353</td>\n",
       "      <td>3.069238</td>\n",
       "    </tr>\n",
       "    <tr>\n",
       "      <th>std</th>\n",
       "      <td>56.543138</td>\n",
       "      <td>2.645654e+07</td>\n",
       "      <td>1.486575</td>\n",
       "      <td>0.906031</td>\n",
       "    </tr>\n",
       "    <tr>\n",
       "      <th>min</th>\n",
       "      <td>12.000000</td>\n",
       "      <td>2.100000e+06</td>\n",
       "      <td>0.000000</td>\n",
       "      <td>2.500000</td>\n",
       "    </tr>\n",
       "    <tr>\n",
       "      <th>25%</th>\n",
       "      <td>63.300000</td>\n",
       "      <td>7.300000e+06</td>\n",
       "      <td>2.000000</td>\n",
       "      <td>2.650000</td>\n",
       "    </tr>\n",
       "    <tr>\n",
       "      <th>50%</th>\n",
       "      <td>85.000000</td>\n",
       "      <td>9.800000e+06</td>\n",
       "      <td>3.000000</td>\n",
       "      <td>3.000000</td>\n",
       "    </tr>\n",
       "    <tr>\n",
       "      <th>75%</th>\n",
       "      <td>116.500000</td>\n",
       "      <td>1.499500e+07</td>\n",
       "      <td>4.000000</td>\n",
       "      <td>3.300000</td>\n",
       "    </tr>\n",
       "    <tr>\n",
       "      <th>max</th>\n",
       "      <td>517.000000</td>\n",
       "      <td>4.013000e+08</td>\n",
       "      <td>14.000000</td>\n",
       "      <td>27.000000</td>\n",
       "    </tr>\n",
       "  </tbody>\n",
       "</table>\n",
       "</div>"
      ],
      "text/plain": [
       "       total_area    last_price       rooms  ceiling_height\n",
       "count  879.000000  8.790000e+02  879.000000      879.000000\n",
       "mean    98.632446  1.630205e+07    3.110353        3.069238\n",
       "std     56.543138  2.645654e+07    1.486575        0.906031\n",
       "min     12.000000  2.100000e+06    0.000000        2.500000\n",
       "25%     63.300000  7.300000e+06    2.000000        2.650000\n",
       "50%     85.000000  9.800000e+06    3.000000        3.000000\n",
       "75%    116.500000  1.499500e+07    4.000000        3.300000\n",
       "max    517.000000  4.013000e+08   14.000000       27.000000"
      ]
     },
     "execution_count": 74,
     "metadata": {},
     "output_type": "execute_result"
    }
   ],
   "source": [
    "df_spb_center = df_spb[df_spb['center_round'] <= 3].copy()\n",
    "df_spb_center[['total_area', 'last_price', 'rooms', 'ceiling_height']].describe()"
   ]
  },
  {
   "cell_type": "markdown",
   "metadata": {},
   "source": [
    "В центре представлено жилье лучше чем в среднем по всему датафрейму. Тут и потолки выше, и средняя площадь больше. Но и цена, само собой, кусается."
   ]
  },
  {
   "cell_type": "markdown",
   "metadata": {},
   "source": [
    "Изучим факторы, влияющие на стоимость квартир в центре больше всего:"
   ]
  },
  {
   "cell_type": "code",
   "execution_count": 75,
   "metadata": {
    "scrolled": false
   },
   "outputs": [
    {
     "data": {
      "text/plain": [
       "last_price             1.000000\n",
       "price_per_meter        0.828229\n",
       "total_area             0.565577\n",
       "living_area            0.474717\n",
       "kitchen_area           0.355750\n",
       "rooms                  0.240349\n",
       "floor                  0.224601\n",
       "floors_total           0.200792\n",
       "total_images           0.155351\n",
       "balcony                0.133823\n",
       "parks_around3000       0.105944\n",
       "ponds_around3000       0.060171\n",
       "airports_nearest       0.034224\n",
       "ceiling_height         0.031680\n",
       "days_exposition        0.022574\n",
       "open_plan             -0.022579\n",
       "year                  -0.024959\n",
       "studio                -0.025383\n",
       "living_total_raito    -0.043665\n",
       "parks_nearest         -0.068642\n",
       "ponds_nearest         -0.092314\n",
       "kitchen_total_raito   -0.095795\n",
       "cityCenters_nearest   -0.164656\n",
       "center_round          -0.180389\n",
       "Name: last_price, dtype: float64"
      ]
     },
     "execution_count": 75,
     "metadata": {},
     "output_type": "execute_result"
    }
   ],
   "source": [
    "df_spb_center.corr()['last_price'].sort_values(ascending=False)"
   ]
  },
  {
   "cell_type": "code",
   "execution_count": 76,
   "metadata": {},
   "outputs": [
    {
     "data": {
      "image/png": "[encoded data removed]",
      "text/plain": [
       "<Figure size 432x288 with 1 Axes>"
      ]
     },
     "metadata": {
      "needs_background": "light"
     },
     "output_type": "display_data"
    }
   ],
   "source": [
    "ax = sns.boxplot(data = df_spb_center, x='floor_type', y='last_price', showfliers=False)"
   ]
  },
  {
   "cell_type": "markdown",
   "metadata": {},
   "source": [
    "Все также продолжает влиять площадь помещения, жилая и кухонная площадь, количество комнат, этаж и количество этажей. Но также стоит отметить, что возрастает влияние таких факторов, как количество изображений в объявлении и уменьшается влияние наличия парков или водоемов в радиусе 3 км."
   ]
  },
  {
   "cell_type": "markdown",
   "metadata": {},
   "source": [
    "## Общий вывод"
   ]
  },
  {
   "cell_type": "markdown",
   "metadata": {},
   "source": [
    "Безусловно неджижимость не в центре и в центре города отличается как по ценам, так и по другим параметрам. Например ближе к центру города начинают меньше оказывать влияние на цену квартиры такие факторы как наличие парков и водоемов в радиусе 3 км. Но в целом влияние факторов более-менее одинаковое. Следует отметить, что цена на недвижимось сильно изменилась с 2014 года. Также мы обнаружили что цена зависит как и от дня выставления, так и от месяца выставления помещения на продажу. Но в целом влияние временного фактора (кроме года продажи) не оказывает сильного влияния. Очень сильно влияет на цену расположение помещения. В Крупных городах цена за квадратный метр значительно выше. Также можно заметить, что цена на помещения на первом этаже гораздо ниже цены помещений на других этажах."
   ]
  }
 ],
 "metadata": {
  "ExecuteTimeLog": [
   {
    "duration": 868,
    "start_time": "2021-08-04T18:51:21.350Z"
   },
   {
    "duration": 133,
    "start_time": "2021-08-04T18:53:29.458Z"
   },
   {
    "duration": 67,
    "start_time": "2021-08-04T18:54:04.913Z"
   },
   {
    "duration": 13,
    "start_time": "2021-08-04T19:31:17.440Z"
   },
   {
    "duration": 11,
    "start_time": "2021-08-04T19:31:27.416Z"
   },
   {
    "duration": 12,
    "start_time": "2021-08-04T19:32:06.070Z"
   },
   {
    "duration": 12,
    "start_time": "2021-08-04T19:35:31.572Z"
   },
   {
    "duration": 14,
    "start_time": "2021-08-04T19:36:53.557Z"
   },
   {
    "duration": 8498,
    "start_time": "2021-08-04T19:54:59.804Z"
   },
   {
    "duration": 7,
    "start_time": "2021-08-04T19:55:22.745Z"
   },
   {
    "duration": 8,
    "start_time": "2021-08-04T20:02:31.724Z"
   },
   {
    "duration": 6,
    "start_time": "2021-08-04T20:02:39.477Z"
   },
   {
    "duration": 12,
    "start_time": "2021-08-04T20:02:56.749Z"
   },
   {
    "duration": 7,
    "start_time": "2021-08-04T20:03:52.995Z"
   },
   {
    "duration": 855,
    "start_time": "2021-08-04T20:04:08.163Z"
   },
   {
    "duration": 104,
    "start_time": "2021-08-04T20:04:09.022Z"
   },
   {
    "duration": 64,
    "start_time": "2021-08-04T20:04:09.130Z"
   },
   {
    "duration": 15,
    "start_time": "2021-08-04T20:04:09.197Z"
   },
   {
    "duration": 13,
    "start_time": "2021-08-04T20:04:09.215Z"
   },
   {
    "duration": 42,
    "start_time": "2021-08-04T20:04:09.230Z"
   },
   {
    "duration": 517,
    "start_time": "2021-08-05T17:51:42.295Z"
   },
   {
    "duration": 581,
    "start_time": "2021-08-05T17:51:50.034Z"
   },
   {
    "duration": 73,
    "start_time": "2021-08-05T17:51:50.618Z"
   },
   {
    "duration": 31,
    "start_time": "2021-08-05T17:51:50.694Z"
   },
   {
    "duration": 9,
    "start_time": "2021-08-05T17:51:50.727Z"
   },
   {
    "duration": 11,
    "start_time": "2021-08-05T17:51:50.738Z"
   },
   {
    "duration": 39,
    "start_time": "2021-08-05T17:51:50.750Z"
   },
   {
    "duration": 349,
    "start_time": "2021-08-05T17:51:50.791Z"
   },
   {
    "duration": 5,
    "start_time": "2021-08-05T17:51:58.728Z"
   },
   {
    "duration": 203,
    "start_time": "2021-08-05T17:52:30.124Z"
   },
   {
    "duration": 177,
    "start_time": "2021-08-05T17:52:36.773Z"
   },
   {
    "duration": 21,
    "start_time": "2021-08-05T17:52:44.980Z"
   },
   {
    "duration": 19,
    "start_time": "2021-08-05T17:52:50.989Z"
   },
   {
    "duration": 8,
    "start_time": "2021-08-05T17:52:59.696Z"
   },
   {
    "duration": 8,
    "start_time": "2021-08-05T17:54:44.884Z"
   },
   {
    "duration": 7,
    "start_time": "2021-08-05T18:12:30.821Z"
   },
   {
    "duration": 19,
    "start_time": "2021-08-05T18:12:42.930Z"
   },
   {
    "duration": 19,
    "start_time": "2021-08-05T18:13:04.091Z"
   },
   {
    "duration": 6,
    "start_time": "2021-08-05T18:55:42.861Z"
   },
   {
    "duration": 5,
    "start_time": "2021-08-05T18:55:46.349Z"
   },
   {
    "duration": 12,
    "start_time": "2021-08-05T18:57:21.515Z"
   },
   {
    "duration": 4,
    "start_time": "2021-08-05T18:59:29.819Z"
   },
   {
    "duration": 5,
    "start_time": "2021-08-05T18:59:40.283Z"
   },
   {
    "duration": 5,
    "start_time": "2021-08-05T18:59:47.693Z"
   },
   {
    "duration": 4,
    "start_time": "2021-08-05T19:00:04.751Z"
   },
   {
    "duration": 5,
    "start_time": "2021-08-05T19:01:40.179Z"
   },
   {
    "duration": 633,
    "start_time": "2021-08-05T19:02:14.559Z"
   },
   {
    "duration": 62,
    "start_time": "2021-08-05T19:02:15.194Z"
   },
   {
    "duration": 43,
    "start_time": "2021-08-05T19:02:15.258Z"
   },
   {
    "duration": 18,
    "start_time": "2021-08-05T19:02:15.303Z"
   },
   {
    "duration": 22,
    "start_time": "2021-08-05T19:02:15.322Z"
   },
   {
    "duration": 13,
    "start_time": "2021-08-05T19:02:15.345Z"
   },
   {
    "duration": 19,
    "start_time": "2021-08-05T19:02:15.359Z"
   },
   {
    "duration": 18,
    "start_time": "2021-08-05T19:02:15.379Z"
   },
   {
    "duration": 7,
    "start_time": "2021-08-05T19:03:52.701Z"
   },
   {
    "duration": 10,
    "start_time": "2021-08-05T19:04:22.797Z"
   },
   {
    "duration": 8,
    "start_time": "2021-08-05T19:11:59.698Z"
   },
   {
    "duration": 893,
    "start_time": "2021-08-08T09:21:56.246Z"
   },
   {
    "duration": 186,
    "start_time": "2021-08-08T09:21:57.142Z"
   },
   {
    "duration": 103,
    "start_time": "2021-08-08T09:21:57.334Z"
   },
   {
    "duration": 17,
    "start_time": "2021-08-08T09:21:57.487Z"
   },
   {
    "duration": 19,
    "start_time": "2021-08-08T09:21:57.507Z"
   },
   {
    "duration": 57,
    "start_time": "2021-08-08T09:21:57.529Z"
   },
   {
    "duration": 10,
    "start_time": "2021-08-08T09:21:57.591Z"
   },
   {
    "duration": 8,
    "start_time": "2021-08-08T09:21:57.603Z"
   },
   {
    "duration": 12,
    "start_time": "2021-08-08T09:21:57.613Z"
   },
   {
    "duration": 5,
    "start_time": "2021-08-08T09:21:57.627Z"
   },
   {
    "duration": 58,
    "start_time": "2021-08-08T09:21:57.634Z"
   },
   {
    "duration": 17,
    "start_time": "2021-08-08T09:23:37.071Z"
   },
   {
    "duration": 12,
    "start_time": "2021-08-08T09:24:20.087Z"
   },
   {
    "duration": 12,
    "start_time": "2021-08-08T09:24:49.527Z"
   },
   {
    "duration": 864,
    "start_time": "2021-08-08T09:25:40.951Z"
   },
   {
    "duration": 96,
    "start_time": "2021-08-08T09:25:41.818Z"
   },
   {
    "duration": 49,
    "start_time": "2021-08-08T09:25:41.917Z"
   },
   {
    "duration": 31,
    "start_time": "2021-08-08T09:25:41.968Z"
   },
   {
    "duration": 13,
    "start_time": "2021-08-08T09:25:42.002Z"
   },
   {
    "duration": 7,
    "start_time": "2021-08-08T09:25:42.017Z"
   },
   {
    "duration": 7,
    "start_time": "2021-08-08T09:25:42.027Z"
   },
   {
    "duration": 52,
    "start_time": "2021-08-08T09:25:42.036Z"
   },
   {
    "duration": 12,
    "start_time": "2021-08-08T09:25:46.841Z"
   },
   {
    "duration": 13,
    "start_time": "2021-08-08T09:26:34.380Z"
   },
   {
    "duration": 11,
    "start_time": "2021-08-08T09:27:10.228Z"
   },
   {
    "duration": 6,
    "start_time": "2021-08-08T09:30:24.400Z"
   },
   {
    "duration": 7,
    "start_time": "2021-08-08T09:30:25.295Z"
   },
   {
    "duration": 13,
    "start_time": "2021-08-08T09:32:06.019Z"
   },
   {
    "duration": 6,
    "start_time": "2021-08-08T09:37:33.703Z"
   },
   {
    "duration": 8,
    "start_time": "2021-08-08T09:37:50.083Z"
   },
   {
    "duration": 7,
    "start_time": "2021-08-08T09:39:26.052Z"
   },
   {
    "duration": 6,
    "start_time": "2021-08-08T09:49:47.401Z"
   },
   {
    "duration": 6,
    "start_time": "2021-08-08T09:49:57.407Z"
   },
   {
    "duration": 6,
    "start_time": "2021-08-08T09:50:00.755Z"
   },
   {
    "duration": 438,
    "start_time": "2021-08-08T09:50:50.029Z"
   },
   {
    "duration": 435,
    "start_time": "2021-08-08T09:50:57.970Z"
   },
   {
    "duration": 6,
    "start_time": "2021-08-08T09:51:05.645Z"
   },
   {
    "duration": 33,
    "start_time": "2021-08-08T09:51:31.629Z"
   },
   {
    "duration": 8,
    "start_time": "2021-08-08T09:51:40.398Z"
   },
   {
    "duration": 352,
    "start_time": "2021-08-08T09:58:37.795Z"
   },
   {
    "duration": 354,
    "start_time": "2021-08-08T10:01:18.875Z"
   },
   {
    "duration": 9,
    "start_time": "2021-08-08T10:01:40.907Z"
   },
   {
    "duration": 7,
    "start_time": "2021-08-08T10:03:08.483Z"
   },
   {
    "duration": 6,
    "start_time": "2021-08-08T10:03:18.467Z"
   },
   {
    "duration": 12,
    "start_time": "2021-08-08T10:03:32.851Z"
   },
   {
    "duration": 5,
    "start_time": "2021-08-08T10:15:07.854Z"
   },
   {
    "duration": 5,
    "start_time": "2021-08-08T10:15:09.721Z"
   },
   {
    "duration": 6,
    "start_time": "2021-08-08T10:15:10.211Z"
   },
   {
    "duration": 5,
    "start_time": "2021-08-08T10:45:01.849Z"
   },
   {
    "duration": 7,
    "start_time": "2021-08-08T10:45:21.021Z"
   },
   {
    "duration": 5,
    "start_time": "2021-08-08T12:29:21.757Z"
   },
   {
    "duration": 7,
    "start_time": "2021-08-08T12:29:22.353Z"
   },
   {
    "duration": 6,
    "start_time": "2021-08-08T12:31:30.007Z"
   },
   {
    "duration": 6,
    "start_time": "2021-08-08T12:31:30.246Z"
   },
   {
    "duration": 15,
    "start_time": "2021-08-08T12:35:58.238Z"
   },
   {
    "duration": 119,
    "start_time": "2021-08-08T12:36:15.052Z"
   },
   {
    "duration": 12,
    "start_time": "2021-08-08T12:36:21.066Z"
   },
   {
    "duration": 11,
    "start_time": "2021-08-08T12:36:33.155Z"
   },
   {
    "duration": 11,
    "start_time": "2021-08-08T12:36:49.368Z"
   },
   {
    "duration": 11,
    "start_time": "2021-08-08T12:36:51.831Z"
   },
   {
    "duration": 10,
    "start_time": "2021-08-08T12:36:52.103Z"
   },
   {
    "duration": 7,
    "start_time": "2021-08-08T12:37:58.593Z"
   },
   {
    "duration": 6,
    "start_time": "2021-08-08T12:38:22.647Z"
   },
   {
    "duration": 5,
    "start_time": "2021-08-08T12:38:44.462Z"
   },
   {
    "duration": 6,
    "start_time": "2021-08-08T12:38:45.047Z"
   },
   {
    "duration": 5,
    "start_time": "2021-08-08T12:42:38.305Z"
   },
   {
    "duration": 6,
    "start_time": "2021-08-08T12:42:47.353Z"
   },
   {
    "duration": 869,
    "start_time": "2021-08-08T12:43:15.383Z"
   },
   {
    "duration": 96,
    "start_time": "2021-08-08T12:43:16.254Z"
   },
   {
    "duration": 54,
    "start_time": "2021-08-08T12:43:16.354Z"
   },
   {
    "duration": 11,
    "start_time": "2021-08-08T12:43:16.411Z"
   },
   {
    "duration": 13,
    "start_time": "2021-08-08T12:43:16.425Z"
   },
   {
    "duration": 6,
    "start_time": "2021-08-08T12:43:16.440Z"
   },
   {
    "duration": 48,
    "start_time": "2021-08-08T12:43:16.449Z"
   },
   {
    "duration": 13,
    "start_time": "2021-08-08T12:43:16.499Z"
   },
   {
    "duration": 11,
    "start_time": "2021-08-08T12:43:16.516Z"
   },
   {
    "duration": 5,
    "start_time": "2021-08-08T12:43:16.531Z"
   },
   {
    "duration": 6,
    "start_time": "2021-08-08T12:43:16.538Z"
   },
   {
    "duration": 16,
    "start_time": "2021-08-08T12:43:16.583Z"
   },
   {
    "duration": 6,
    "start_time": "2021-08-08T12:43:16.602Z"
   },
   {
    "duration": 7,
    "start_time": "2021-08-08T12:43:16.611Z"
   },
   {
    "duration": 14,
    "start_time": "2021-08-08T12:43:16.620Z"
   },
   {
    "duration": 55,
    "start_time": "2021-08-08T12:43:16.637Z"
   },
   {
    "duration": 10,
    "start_time": "2021-08-08T12:43:16.695Z"
   },
   {
    "duration": 6,
    "start_time": "2021-08-08T12:43:16.708Z"
   },
   {
    "duration": 7,
    "start_time": "2021-08-08T12:43:16.717Z"
   },
   {
    "duration": 6,
    "start_time": "2021-08-08T12:43:16.727Z"
   },
   {
    "duration": 6,
    "start_time": "2021-08-08T12:43:16.736Z"
   },
   {
    "duration": 8,
    "start_time": "2021-08-08T12:43:16.786Z"
   },
   {
    "duration": 7,
    "start_time": "2021-08-08T12:43:16.798Z"
   },
   {
    "duration": 8,
    "start_time": "2021-08-08T12:43:16.808Z"
   },
   {
    "duration": 7,
    "start_time": "2021-08-08T12:43:16.819Z"
   },
   {
    "duration": 67,
    "start_time": "2021-08-08T12:43:16.828Z"
   },
   {
    "duration": 8,
    "start_time": "2021-08-08T12:43:16.901Z"
   },
   {
    "duration": 7,
    "start_time": "2021-08-08T12:43:16.912Z"
   },
   {
    "duration": 9,
    "start_time": "2021-08-08T12:43:16.921Z"
   },
   {
    "duration": 6,
    "start_time": "2021-08-08T12:43:16.933Z"
   },
   {
    "duration": 6,
    "start_time": "2021-08-08T12:43:19.528Z"
   },
   {
    "duration": 6,
    "start_time": "2021-08-08T12:43:28.771Z"
   },
   {
    "duration": 6,
    "start_time": "2021-08-08T12:43:29.173Z"
   },
   {
    "duration": 11,
    "start_time": "2021-08-08T12:43:57.824Z"
   },
   {
    "duration": 865,
    "start_time": "2021-08-08T12:46:21.758Z"
   },
   {
    "duration": 90,
    "start_time": "2021-08-08T12:46:22.626Z"
   },
   {
    "duration": 65,
    "start_time": "2021-08-08T12:46:22.721Z"
   },
   {
    "duration": 17,
    "start_time": "2021-08-08T12:46:22.790Z"
   },
   {
    "duration": 13,
    "start_time": "2021-08-08T12:46:22.810Z"
   },
   {
    "duration": 7,
    "start_time": "2021-08-08T12:46:22.826Z"
   },
   {
    "duration": 8,
    "start_time": "2021-08-08T12:46:22.836Z"
   },
   {
    "duration": 10,
    "start_time": "2021-08-08T12:46:22.887Z"
   },
   {
    "duration": 11,
    "start_time": "2021-08-08T12:46:22.901Z"
   },
   {
    "duration": 6,
    "start_time": "2021-08-08T12:46:22.915Z"
   },
   {
    "duration": 7,
    "start_time": "2021-08-08T12:46:22.923Z"
   },
   {
    "duration": 55,
    "start_time": "2021-08-08T12:46:22.933Z"
   },
   {
    "duration": 6,
    "start_time": "2021-08-08T12:46:22.991Z"
   },
   {
    "duration": 9,
    "start_time": "2021-08-08T12:46:23.000Z"
   },
   {
    "duration": 11,
    "start_time": "2021-08-08T12:46:23.012Z"
   },
   {
    "duration": 9,
    "start_time": "2021-08-08T12:46:23.026Z"
   },
   {
    "duration": 8,
    "start_time": "2021-08-08T12:46:23.037Z"
   },
   {
    "duration": 7,
    "start_time": "2021-08-08T12:46:23.087Z"
   },
   {
    "duration": 6,
    "start_time": "2021-08-08T12:46:23.098Z"
   },
   {
    "duration": 5,
    "start_time": "2021-08-08T12:46:23.106Z"
   },
   {
    "duration": 6,
    "start_time": "2021-08-08T12:46:23.113Z"
   },
   {
    "duration": 5,
    "start_time": "2021-08-08T12:46:23.121Z"
   },
   {
    "duration": 59,
    "start_time": "2021-08-08T12:46:23.129Z"
   },
   {
    "duration": 15,
    "start_time": "2021-08-08T12:46:23.191Z"
   },
   {
    "duration": 13,
    "start_time": "2021-08-08T12:46:23.208Z"
   },
   {
    "duration": 13,
    "start_time": "2021-08-08T12:46:23.223Z"
   },
   {
    "duration": 9,
    "start_time": "2021-08-08T12:46:23.240Z"
   },
   {
    "duration": 38,
    "start_time": "2021-08-08T12:46:23.252Z"
   },
   {
    "duration": 6,
    "start_time": "2021-08-08T12:46:23.293Z"
   },
   {
    "duration": 6,
    "start_time": "2021-08-08T12:46:23.302Z"
   },
   {
    "duration": 7,
    "start_time": "2021-08-08T12:46:23.310Z"
   },
   {
    "duration": 8,
    "start_time": "2021-08-08T12:46:35.372Z"
   },
   {
    "duration": 6,
    "start_time": "2021-08-08T12:46:35.716Z"
   },
   {
    "duration": 9411,
    "start_time": "2021-08-08T12:49:11.791Z"
   },
   {
    "duration": 12,
    "start_time": "2021-08-08T12:49:26.422Z"
   },
   {
    "duration": 11,
    "start_time": "2021-08-08T12:50:34.379Z"
   },
   {
    "duration": 44,
    "start_time": "2021-08-08T12:50:38.470Z"
   },
   {
    "duration": 34,
    "start_time": "2021-08-08T12:50:42.486Z"
   },
   {
    "duration": 11,
    "start_time": "2021-08-08T12:50:55.628Z"
   },
   {
    "duration": 66,
    "start_time": "2021-08-08T12:58:57.274Z"
   },
   {
    "duration": 63,
    "start_time": "2021-08-08T12:59:17.399Z"
   },
   {
    "duration": 31,
    "start_time": "2021-08-08T12:59:52.327Z"
   },
   {
    "duration": 6,
    "start_time": "2021-08-08T13:00:06.743Z"
   },
   {
    "duration": 72,
    "start_time": "2021-08-08T13:01:36.284Z"
   },
   {
    "duration": 822,
    "start_time": "2021-08-08T13:02:05.720Z"
   },
   {
    "duration": 96,
    "start_time": "2021-08-08T13:02:06.544Z"
   },
   {
    "duration": 59,
    "start_time": "2021-08-08T13:02:06.644Z"
   },
   {
    "duration": 14,
    "start_time": "2021-08-08T13:02:06.706Z"
   },
   {
    "duration": 14,
    "start_time": "2021-08-08T13:02:06.723Z"
   },
   {
    "duration": 8,
    "start_time": "2021-08-08T13:02:06.739Z"
   },
   {
    "duration": 8,
    "start_time": "2021-08-08T13:02:06.790Z"
   },
   {
    "duration": 6,
    "start_time": "2021-08-08T13:02:06.802Z"
   },
   {
    "duration": 14,
    "start_time": "2021-08-08T13:02:06.811Z"
   },
   {
    "duration": 5,
    "start_time": "2021-08-08T13:02:06.828Z"
   },
   {
    "duration": 7,
    "start_time": "2021-08-08T13:02:06.835Z"
   },
   {
    "duration": 57,
    "start_time": "2021-08-08T13:02:06.844Z"
   },
   {
    "duration": 5,
    "start_time": "2021-08-08T13:02:06.903Z"
   },
   {
    "duration": 5,
    "start_time": "2021-08-08T13:02:06.911Z"
   },
   {
    "duration": 10,
    "start_time": "2021-08-08T13:02:06.918Z"
   },
   {
    "duration": 9,
    "start_time": "2021-08-08T13:02:06.930Z"
   },
   {
    "duration": 54,
    "start_time": "2021-08-08T13:02:06.942Z"
   },
   {
    "duration": 6,
    "start_time": "2021-08-08T13:02:06.998Z"
   },
   {
    "duration": 10,
    "start_time": "2021-08-08T13:02:07.006Z"
   },
   {
    "duration": 7,
    "start_time": "2021-08-08T13:02:07.018Z"
   },
   {
    "duration": 7,
    "start_time": "2021-08-08T13:02:07.027Z"
   },
   {
    "duration": 7,
    "start_time": "2021-08-08T13:02:07.036Z"
   },
   {
    "duration": 41,
    "start_time": "2021-08-08T13:02:07.048Z"
   },
   {
    "duration": 7,
    "start_time": "2021-08-08T13:02:07.092Z"
   },
   {
    "duration": 8,
    "start_time": "2021-08-08T13:02:07.101Z"
   },
   {
    "duration": 14,
    "start_time": "2021-08-08T13:02:07.111Z"
   },
   {
    "duration": 7,
    "start_time": "2021-08-08T13:02:07.128Z"
   },
   {
    "duration": 10,
    "start_time": "2021-08-08T13:02:07.138Z"
   },
   {
    "duration": 8,
    "start_time": "2021-08-08T13:02:07.188Z"
   },
   {
    "duration": 9,
    "start_time": "2021-08-08T13:02:07.199Z"
   },
   {
    "duration": 8,
    "start_time": "2021-08-08T13:02:07.210Z"
   },
   {
    "duration": 10,
    "start_time": "2021-08-08T13:02:07.221Z"
   },
   {
    "duration": 56,
    "start_time": "2021-08-08T13:02:07.233Z"
   },
   {
    "duration": 16,
    "start_time": "2021-08-08T13:02:07.292Z"
   },
   {
    "duration": 16,
    "start_time": "2021-08-08T13:02:10.682Z"
   },
   {
    "duration": 518,
    "start_time": "2021-08-08T13:19:52.251Z"
   },
   {
    "duration": 19,
    "start_time": "2021-08-08T13:28:00.095Z"
   },
   {
    "duration": 17,
    "start_time": "2021-08-08T13:28:12.898Z"
   },
   {
    "duration": 12,
    "start_time": "2021-08-08T13:37:48.346Z"
   },
   {
    "duration": 67,
    "start_time": "2021-08-08T13:37:52.405Z"
   },
   {
    "duration": 6,
    "start_time": "2021-08-08T13:38:28.828Z"
   },
   {
    "duration": 8,
    "start_time": "2021-08-08T13:38:38.180Z"
   },
   {
    "duration": 12,
    "start_time": "2021-08-08T18:09:26.859Z"
   },
   {
    "duration": 6,
    "start_time": "2021-08-08T18:09:27.161Z"
   },
   {
    "duration": 90,
    "start_time": "2021-08-08T18:11:08.300Z"
   },
   {
    "duration": 6,
    "start_time": "2021-08-08T18:11:13.502Z"
   },
   {
    "duration": 825,
    "start_time": "2021-08-08T18:15:09.030Z"
   },
   {
    "duration": 87,
    "start_time": "2021-08-08T18:15:09.858Z"
   },
   {
    "duration": 57,
    "start_time": "2021-08-08T18:15:09.948Z"
   },
   {
    "duration": 12,
    "start_time": "2021-08-08T18:15:10.008Z"
   },
   {
    "duration": 16,
    "start_time": "2021-08-08T18:15:10.022Z"
   },
   {
    "duration": 8,
    "start_time": "2021-08-08T18:15:10.040Z"
   },
   {
    "duration": 10,
    "start_time": "2021-08-08T18:15:10.087Z"
   },
   {
    "duration": 9,
    "start_time": "2021-08-08T18:15:10.102Z"
   },
   {
    "duration": 13,
    "start_time": "2021-08-08T18:15:10.115Z"
   },
   {
    "duration": 57,
    "start_time": "2021-08-08T18:15:10.130Z"
   },
   {
    "duration": 8,
    "start_time": "2021-08-08T18:15:10.190Z"
   },
   {
    "duration": 12,
    "start_time": "2021-08-08T18:15:10.201Z"
   },
   {
    "duration": 5,
    "start_time": "2021-08-08T18:15:10.215Z"
   },
   {
    "duration": 8,
    "start_time": "2021-08-08T18:15:10.222Z"
   },
   {
    "duration": 11,
    "start_time": "2021-08-08T18:15:10.232Z"
   },
   {
    "duration": 55,
    "start_time": "2021-08-08T18:15:10.245Z"
   },
   {
    "duration": 9,
    "start_time": "2021-08-08T18:15:10.303Z"
   },
   {
    "duration": 5,
    "start_time": "2021-08-08T18:15:10.315Z"
   },
   {
    "duration": 6,
    "start_time": "2021-08-08T18:15:10.323Z"
   },
   {
    "duration": 7,
    "start_time": "2021-08-08T18:15:10.331Z"
   },
   {
    "duration": 46,
    "start_time": "2021-08-08T18:15:10.341Z"
   },
   {
    "duration": 8,
    "start_time": "2021-08-08T18:15:10.390Z"
   },
   {
    "duration": 6,
    "start_time": "2021-08-08T18:15:10.403Z"
   },
   {
    "duration": 5,
    "start_time": "2021-08-08T18:15:10.412Z"
   },
   {
    "duration": 6,
    "start_time": "2021-08-08T18:15:10.420Z"
   },
   {
    "duration": 58,
    "start_time": "2021-08-08T18:15:10.428Z"
   },
   {
    "duration": 11,
    "start_time": "2021-08-08T18:15:10.489Z"
   },
   {
    "duration": 17,
    "start_time": "2021-08-08T18:15:10.502Z"
   },
   {
    "duration": 7,
    "start_time": "2021-08-08T18:15:10.521Z"
   },
   {
    "duration": 23,
    "start_time": "2021-08-08T18:15:10.530Z"
   },
   {
    "duration": 7,
    "start_time": "2021-08-08T18:15:10.556Z"
   },
   {
    "duration": 30,
    "start_time": "2021-08-08T18:15:10.565Z"
   },
   {
    "duration": 9,
    "start_time": "2021-08-08T18:15:10.597Z"
   },
   {
    "duration": 14,
    "start_time": "2021-08-08T18:15:10.608Z"
   },
   {
    "duration": 13,
    "start_time": "2021-08-08T18:15:10.624Z"
   },
   {
    "duration": 7,
    "start_time": "2021-08-08T18:15:10.640Z"
   },
   {
    "duration": 143,
    "start_time": "2021-08-08T18:15:10.691Z"
   },
   {
    "duration": 7,
    "start_time": "2021-08-08T18:15:10.837Z"
   },
   {
    "duration": 133,
    "start_time": "2021-08-08T18:16:04.065Z"
   },
   {
    "duration": 7,
    "start_time": "2021-08-08T18:16:04.850Z"
   },
   {
    "duration": 10,
    "start_time": "2021-08-08T18:18:25.661Z"
   },
   {
    "duration": 136,
    "start_time": "2021-08-08T18:19:11.573Z"
   },
   {
    "duration": 6,
    "start_time": "2021-08-08T18:19:21.916Z"
   },
   {
    "duration": 4,
    "start_time": "2021-08-08T19:04:42.842Z"
   },
   {
    "duration": 6,
    "start_time": "2021-08-08T19:05:05.699Z"
   },
   {
    "duration": 239,
    "start_time": "2021-08-08T19:18:10.942Z"
   },
   {
    "duration": 129,
    "start_time": "2021-08-08T19:18:18.776Z"
   },
   {
    "duration": 63,
    "start_time": "2021-08-08T19:18:23.797Z"
   },
   {
    "duration": 12,
    "start_time": "2021-08-08T19:19:21.892Z"
   },
   {
    "duration": 1925,
    "start_time": "2021-08-08T19:19:48.942Z"
   },
   {
    "duration": 388,
    "start_time": "2021-08-08T19:20:54.276Z"
   },
   {
    "duration": 123,
    "start_time": "2021-08-08T19:21:04.553Z"
   },
   {
    "duration": 2262,
    "start_time": "2021-08-08T19:21:48.514Z"
   },
   {
    "duration": 2017,
    "start_time": "2021-08-08T19:22:17.050Z"
   },
   {
    "duration": 5,
    "start_time": "2021-08-08T19:22:54.350Z"
   },
   {
    "duration": 2196,
    "start_time": "2021-08-08T19:22:54.935Z"
   },
   {
    "duration": 2121,
    "start_time": "2021-08-08T19:33:14.952Z"
   },
   {
    "duration": 4,
    "start_time": "2021-08-08T20:22:02.460Z"
   },
   {
    "duration": 9,
    "start_time": "2021-08-08T20:22:03.144Z"
   },
   {
    "duration": 8,
    "start_time": "2021-08-08T20:32:04.331Z"
   },
   {
    "duration": 11,
    "start_time": "2021-08-08T20:32:34.177Z"
   },
   {
    "duration": 379,
    "start_time": "2021-08-08T20:32:55.726Z"
   },
   {
    "duration": 17,
    "start_time": "2021-08-08T20:33:00.373Z"
   },
   {
    "duration": 6,
    "start_time": "2021-08-08T20:33:13.264Z"
   },
   {
    "duration": 67,
    "start_time": "2021-08-08T20:33:28.452Z"
   },
   {
    "duration": 9,
    "start_time": "2021-08-08T20:34:16.546Z"
   },
   {
    "duration": 71,
    "start_time": "2021-08-08T20:34:16.872Z"
   },
   {
    "duration": 9,
    "start_time": "2021-08-08T20:35:17.749Z"
   },
   {
    "duration": 10,
    "start_time": "2021-08-08T20:35:22.909Z"
   },
   {
    "duration": 58,
    "start_time": "2021-08-08T20:35:23.483Z"
   },
   {
    "duration": 8,
    "start_time": "2021-08-08T20:35:37.569Z"
   },
   {
    "duration": 73,
    "start_time": "2021-08-08T20:35:37.780Z"
   },
   {
    "duration": 11,
    "start_time": "2021-08-08T20:36:33.527Z"
   },
   {
    "duration": 11,
    "start_time": "2021-08-08T20:37:18.392Z"
   },
   {
    "duration": 9,
    "start_time": "2021-08-08T20:37:36.039Z"
   },
   {
    "duration": 9,
    "start_time": "2021-08-08T20:39:24.429Z"
   },
   {
    "duration": 13,
    "start_time": "2021-08-08T20:39:47.290Z"
   },
   {
    "duration": 57,
    "start_time": "2021-08-08T20:39:47.510Z"
   },
   {
    "duration": 9,
    "start_time": "2021-08-08T20:40:05.636Z"
   },
   {
    "duration": 57,
    "start_time": "2021-08-08T20:40:05.916Z"
   },
   {
    "duration": 856,
    "start_time": "2021-08-08T20:47:34.092Z"
   },
   {
    "duration": 96,
    "start_time": "2021-08-08T20:47:34.951Z"
   },
   {
    "duration": 60,
    "start_time": "2021-08-08T20:47:35.049Z"
   },
   {
    "duration": 11,
    "start_time": "2021-08-08T20:47:35.112Z"
   },
   {
    "duration": 12,
    "start_time": "2021-08-08T20:47:35.125Z"
   },
   {
    "duration": 6,
    "start_time": "2021-08-08T20:47:35.139Z"
   },
   {
    "duration": 47,
    "start_time": "2021-08-08T20:47:35.147Z"
   },
   {
    "duration": 6,
    "start_time": "2021-08-08T20:47:35.199Z"
   },
   {
    "duration": 11,
    "start_time": "2021-08-08T20:47:35.208Z"
   },
   {
    "duration": 5,
    "start_time": "2021-08-08T20:47:35.222Z"
   },
   {
    "duration": 6,
    "start_time": "2021-08-08T20:47:35.230Z"
   },
   {
    "duration": 16,
    "start_time": "2021-08-08T20:47:35.287Z"
   },
   {
    "duration": 5,
    "start_time": "2021-08-08T20:47:35.305Z"
   },
   {
    "duration": 7,
    "start_time": "2021-08-08T20:47:35.312Z"
   },
   {
    "duration": 8,
    "start_time": "2021-08-08T20:47:35.321Z"
   },
   {
    "duration": 8,
    "start_time": "2021-08-08T20:47:35.331Z"
   },
   {
    "duration": 15,
    "start_time": "2021-08-08T20:47:35.386Z"
   },
   {
    "duration": 6,
    "start_time": "2021-08-08T20:47:35.403Z"
   },
   {
    "duration": 8,
    "start_time": "2021-08-08T20:47:35.411Z"
   },
   {
    "duration": 6,
    "start_time": "2021-08-08T20:47:35.421Z"
   },
   {
    "duration": 9,
    "start_time": "2021-08-08T20:47:35.429Z"
   },
   {
    "duration": 45,
    "start_time": "2021-08-08T20:47:35.440Z"
   },
   {
    "duration": 13,
    "start_time": "2021-08-08T20:47:35.492Z"
   },
   {
    "duration": 7,
    "start_time": "2021-08-08T20:47:35.508Z"
   },
   {
    "duration": 6,
    "start_time": "2021-08-08T20:47:35.518Z"
   },
   {
    "duration": 13,
    "start_time": "2021-08-08T20:47:35.526Z"
   },
   {
    "duration": 53,
    "start_time": "2021-08-08T20:47:35.541Z"
   },
   {
    "duration": 10,
    "start_time": "2021-08-08T20:47:35.598Z"
   },
   {
    "duration": 5,
    "start_time": "2021-08-08T20:47:35.610Z"
   },
   {
    "duration": 8,
    "start_time": "2021-08-08T20:47:35.617Z"
   },
   {
    "duration": 8,
    "start_time": "2021-08-08T20:47:35.627Z"
   },
   {
    "duration": 8,
    "start_time": "2021-08-08T20:47:35.637Z"
   },
   {
    "duration": 15,
    "start_time": "2021-08-08T20:47:35.683Z"
   },
   {
    "duration": 12,
    "start_time": "2021-08-08T20:47:37.805Z"
   },
   {
    "duration": 12,
    "start_time": "2021-08-08T20:48:42.146Z"
   },
   {
    "duration": 6,
    "start_time": "2021-08-08T20:48:43.714Z"
   },
   {
    "duration": 136,
    "start_time": "2021-08-08T20:48:49.035Z"
   },
   {
    "duration": 7,
    "start_time": "2021-08-08T20:48:50.116Z"
   },
   {
    "duration": 139,
    "start_time": "2021-08-08T20:48:52.141Z"
   },
   {
    "duration": 6,
    "start_time": "2021-08-08T20:48:52.618Z"
   },
   {
    "duration": 11,
    "start_time": "2021-08-08T20:48:53.489Z"
   },
   {
    "duration": 4,
    "start_time": "2021-08-08T20:48:54.626Z"
   },
   {
    "duration": 15,
    "start_time": "2021-08-08T20:48:55.511Z"
   },
   {
    "duration": 56,
    "start_time": "2021-08-08T20:48:55.794Z"
   },
   {
    "duration": 9,
    "start_time": "2021-08-08T20:55:52.697Z"
   },
   {
    "duration": 12,
    "start_time": "2021-08-08T20:56:04.890Z"
   },
   {
    "duration": 62,
    "start_time": "2021-08-08T20:56:05.377Z"
   },
   {
    "duration": 7,
    "start_time": "2021-08-08T20:58:54.658Z"
   },
   {
    "duration": 57,
    "start_time": "2021-08-08T20:58:55.507Z"
   },
   {
    "duration": 8,
    "start_time": "2021-08-08T20:59:29.836Z"
   },
   {
    "duration": 74,
    "start_time": "2021-08-08T20:59:31.015Z"
   },
   {
    "duration": 868,
    "start_time": "2021-08-08T20:59:58.787Z"
   },
   {
    "duration": 95,
    "start_time": "2021-08-08T20:59:59.658Z"
   },
   {
    "duration": 54,
    "start_time": "2021-08-08T20:59:59.756Z"
   },
   {
    "duration": 10,
    "start_time": "2021-08-08T20:59:59.813Z"
   },
   {
    "duration": 12,
    "start_time": "2021-08-08T20:59:59.826Z"
   },
   {
    "duration": 7,
    "start_time": "2021-08-08T20:59:59.840Z"
   },
   {
    "duration": 38,
    "start_time": "2021-08-08T20:59:59.849Z"
   },
   {
    "duration": 9,
    "start_time": "2021-08-08T20:59:59.891Z"
   },
   {
    "duration": 13,
    "start_time": "2021-08-08T20:59:59.904Z"
   },
   {
    "duration": 5,
    "start_time": "2021-08-08T20:59:59.920Z"
   },
   {
    "duration": 6,
    "start_time": "2021-08-08T20:59:59.928Z"
   },
   {
    "duration": 53,
    "start_time": "2021-08-08T20:59:59.937Z"
   },
   {
    "duration": 6,
    "start_time": "2021-08-08T20:59:59.993Z"
   },
   {
    "duration": 12,
    "start_time": "2021-08-08T21:00:00.002Z"
   },
   {
    "duration": 14,
    "start_time": "2021-08-08T21:00:00.016Z"
   },
   {
    "duration": 9,
    "start_time": "2021-08-08T21:00:00.032Z"
   },
   {
    "duration": 50,
    "start_time": "2021-08-08T21:00:00.044Z"
   },
   {
    "duration": 6,
    "start_time": "2021-08-08T21:00:00.097Z"
   },
   {
    "duration": 10,
    "start_time": "2021-08-08T21:00:00.105Z"
   },
   {
    "duration": 14,
    "start_time": "2021-08-08T21:00:00.117Z"
   },
   {
    "duration": 21,
    "start_time": "2021-08-08T21:00:00.133Z"
   },
   {
    "duration": 14,
    "start_time": "2021-08-08T21:00:00.157Z"
   },
   {
    "duration": 30,
    "start_time": "2021-08-08T21:00:00.173Z"
   },
   {
    "duration": 33,
    "start_time": "2021-08-08T21:00:00.206Z"
   },
   {
    "duration": 29,
    "start_time": "2021-08-08T21:00:00.241Z"
   },
   {
    "duration": 34,
    "start_time": "2021-08-08T21:00:00.273Z"
   },
   {
    "duration": 18,
    "start_time": "2021-08-08T21:00:00.312Z"
   },
   {
    "duration": 24,
    "start_time": "2021-08-08T21:00:00.333Z"
   },
   {
    "duration": 20,
    "start_time": "2021-08-08T21:00:00.360Z"
   },
   {
    "duration": 27,
    "start_time": "2021-08-08T21:00:00.382Z"
   },
   {
    "duration": 18,
    "start_time": "2021-08-08T21:00:00.412Z"
   },
   {
    "duration": 23,
    "start_time": "2021-08-08T21:00:00.433Z"
   },
   {
    "duration": 22,
    "start_time": "2021-08-08T21:00:00.458Z"
   },
   {
    "duration": 20,
    "start_time": "2021-08-08T21:00:00.487Z"
   },
   {
    "duration": 18,
    "start_time": "2021-08-08T21:00:00.509Z"
   },
   {
    "duration": 10,
    "start_time": "2021-08-08T21:00:00.529Z"
   },
   {
    "duration": 175,
    "start_time": "2021-08-08T21:00:00.542Z"
   },
   {
    "duration": 7,
    "start_time": "2021-08-08T21:00:00.720Z"
   },
   {
    "duration": 160,
    "start_time": "2021-08-08T21:00:00.730Z"
   },
   {
    "duration": 7,
    "start_time": "2021-08-08T21:00:00.894Z"
   },
   {
    "duration": 12,
    "start_time": "2021-08-08T21:00:00.904Z"
   },
   {
    "duration": 5,
    "start_time": "2021-08-08T21:00:00.919Z"
   },
   {
    "duration": 15,
    "start_time": "2021-08-08T21:00:00.927Z"
   },
   {
    "duration": 118,
    "start_time": "2021-08-08T21:00:00.944Z"
   },
   {
    "duration": 27,
    "start_time": "2021-08-08T21:00:34.498Z"
   },
   {
    "duration": 25,
    "start_time": "2021-08-08T21:00:35.390Z"
   },
   {
    "duration": 812,
    "start_time": "2021-08-08T21:00:42.333Z"
   },
   {
    "duration": 93,
    "start_time": "2021-08-08T21:00:43.148Z"
   },
   {
    "duration": 63,
    "start_time": "2021-08-08T21:00:43.247Z"
   },
   {
    "duration": 12,
    "start_time": "2021-08-08T21:00:43.312Z"
   },
   {
    "duration": 13,
    "start_time": "2021-08-08T21:00:43.326Z"
   },
   {
    "duration": 7,
    "start_time": "2021-08-08T21:00:43.342Z"
   },
   {
    "duration": 7,
    "start_time": "2021-08-08T21:00:43.394Z"
   },
   {
    "duration": 8,
    "start_time": "2021-08-08T21:00:43.404Z"
   },
   {
    "duration": 12,
    "start_time": "2021-08-08T21:00:43.414Z"
   },
   {
    "duration": 5,
    "start_time": "2021-08-08T21:00:43.428Z"
   },
   {
    "duration": 8,
    "start_time": "2021-08-08T21:00:43.435Z"
   },
   {
    "duration": 51,
    "start_time": "2021-08-08T21:00:43.445Z"
   },
   {
    "duration": 5,
    "start_time": "2021-08-08T21:00:43.498Z"
   },
   {
    "duration": 7,
    "start_time": "2021-08-08T21:00:43.505Z"
   },
   {
    "duration": 9,
    "start_time": "2021-08-08T21:00:43.515Z"
   },
   {
    "duration": 8,
    "start_time": "2021-08-08T21:00:43.526Z"
   },
   {
    "duration": 52,
    "start_time": "2021-08-08T21:00:43.537Z"
   },
   {
    "duration": 19,
    "start_time": "2021-08-08T21:00:43.592Z"
   },
   {
    "duration": 6,
    "start_time": "2021-08-08T21:00:43.613Z"
   },
   {
    "duration": 7,
    "start_time": "2021-08-08T21:00:43.621Z"
   },
   {
    "duration": 5,
    "start_time": "2021-08-08T21:00:43.630Z"
   },
   {
    "duration": 5,
    "start_time": "2021-08-08T21:00:43.640Z"
   },
   {
    "duration": 44,
    "start_time": "2021-08-08T21:00:43.648Z"
   },
   {
    "duration": 9,
    "start_time": "2021-08-08T21:00:43.695Z"
   },
   {
    "duration": 14,
    "start_time": "2021-08-08T21:00:43.706Z"
   },
   {
    "duration": 17,
    "start_time": "2021-08-08T21:00:43.723Z"
   },
   {
    "duration": 8,
    "start_time": "2021-08-08T21:00:43.742Z"
   },
   {
    "duration": 41,
    "start_time": "2021-08-08T21:00:43.753Z"
   },
   {
    "duration": 7,
    "start_time": "2021-08-08T21:00:43.797Z"
   },
   {
    "duration": 17,
    "start_time": "2021-08-08T21:00:43.807Z"
   },
   {
    "duration": 14,
    "start_time": "2021-08-08T21:00:43.827Z"
   },
   {
    "duration": 16,
    "start_time": "2021-08-08T21:00:43.843Z"
   },
   {
    "duration": 9,
    "start_time": "2021-08-08T21:00:43.861Z"
   },
   {
    "duration": 25,
    "start_time": "2021-08-08T21:00:43.872Z"
   },
   {
    "duration": 13,
    "start_time": "2021-08-08T21:00:43.900Z"
   },
   {
    "duration": 31,
    "start_time": "2021-08-08T21:00:43.915Z"
   },
   {
    "duration": 151,
    "start_time": "2021-08-08T21:00:43.948Z"
   },
   {
    "duration": 6,
    "start_time": "2021-08-08T21:00:44.102Z"
   },
   {
    "duration": 150,
    "start_time": "2021-08-08T21:00:44.110Z"
   },
   {
    "duration": 7,
    "start_time": "2021-08-08T21:00:44.262Z"
   },
   {
    "duration": 25,
    "start_time": "2021-08-08T21:00:44.271Z"
   },
   {
    "duration": 7,
    "start_time": "2021-08-08T21:00:44.299Z"
   },
   {
    "duration": 20,
    "start_time": "2021-08-08T21:00:44.309Z"
   },
   {
    "duration": 30,
    "start_time": "2021-08-08T21:00:44.331Z"
   },
   {
    "duration": 9,
    "start_time": "2021-08-08T21:00:57.646Z"
   },
   {
    "duration": 7,
    "start_time": "2021-08-08T21:01:04.745Z"
   },
   {
    "duration": 852,
    "start_time": "2021-08-08T21:06:14.596Z"
   },
   {
    "duration": 90,
    "start_time": "2021-08-08T21:06:15.451Z"
   },
   {
    "duration": 61,
    "start_time": "2021-08-08T21:06:15.544Z"
   },
   {
    "duration": 12,
    "start_time": "2021-08-08T21:06:15.608Z"
   },
   {
    "duration": 12,
    "start_time": "2021-08-08T21:06:15.622Z"
   },
   {
    "duration": 8,
    "start_time": "2021-08-08T21:06:15.637Z"
   },
   {
    "duration": 48,
    "start_time": "2021-08-08T21:06:15.647Z"
   },
   {
    "duration": 7,
    "start_time": "2021-08-08T21:06:15.698Z"
   },
   {
    "duration": 14,
    "start_time": "2021-08-08T21:06:15.709Z"
   },
   {
    "duration": 5,
    "start_time": "2021-08-08T21:06:15.726Z"
   },
   {
    "duration": 7,
    "start_time": "2021-08-08T21:06:15.733Z"
   },
   {
    "duration": 46,
    "start_time": "2021-08-08T21:06:15.742Z"
   },
   {
    "duration": 6,
    "start_time": "2021-08-08T21:06:15.791Z"
   },
   {
    "duration": 7,
    "start_time": "2021-08-08T21:06:15.800Z"
   },
   {
    "duration": 8,
    "start_time": "2021-08-08T21:06:15.810Z"
   },
   {
    "duration": 11,
    "start_time": "2021-08-08T21:06:15.821Z"
   },
   {
    "duration": 13,
    "start_time": "2021-08-08T21:06:15.887Z"
   },
   {
    "duration": 7,
    "start_time": "2021-08-08T21:06:15.902Z"
   },
   {
    "duration": 7,
    "start_time": "2021-08-08T21:06:15.913Z"
   },
   {
    "duration": 7,
    "start_time": "2021-08-08T21:06:15.922Z"
   },
   {
    "duration": 57,
    "start_time": "2021-08-08T21:06:15.931Z"
   },
   {
    "duration": 11,
    "start_time": "2021-08-08T21:06:15.991Z"
   },
   {
    "duration": 7,
    "start_time": "2021-08-08T21:06:16.005Z"
   },
   {
    "duration": 6,
    "start_time": "2021-08-08T21:06:16.015Z"
   },
   {
    "duration": 8,
    "start_time": "2021-08-08T21:06:16.023Z"
   },
   {
    "duration": 11,
    "start_time": "2021-08-08T21:06:16.033Z"
   },
   {
    "duration": 48,
    "start_time": "2021-08-08T21:06:16.048Z"
   },
   {
    "duration": 7,
    "start_time": "2021-08-08T21:06:16.099Z"
   },
   {
    "duration": 8,
    "start_time": "2021-08-08T21:06:16.109Z"
   },
   {
    "duration": 9,
    "start_time": "2021-08-08T21:06:16.119Z"
   },
   {
    "duration": 7,
    "start_time": "2021-08-08T21:06:16.130Z"
   },
   {
    "duration": 50,
    "start_time": "2021-08-08T21:06:16.139Z"
   },
   {
    "duration": 8,
    "start_time": "2021-08-08T21:06:16.192Z"
   },
   {
    "duration": 14,
    "start_time": "2021-08-08T21:06:16.202Z"
   },
   {
    "duration": 12,
    "start_time": "2021-08-08T21:06:40.417Z"
   },
   {
    "duration": 15,
    "start_time": "2021-08-08T21:09:18.335Z"
   },
   {
    "duration": 6,
    "start_time": "2021-08-08T21:09:19.132Z"
   },
   {
    "duration": 13,
    "start_time": "2021-08-08T21:09:56.814Z"
   },
   {
    "duration": 7,
    "start_time": "2021-08-08T21:09:57.412Z"
   },
   {
    "duration": 890,
    "start_time": "2021-08-08T21:10:29.320Z"
   },
   {
    "duration": 96,
    "start_time": "2021-08-08T21:10:30.213Z"
   },
   {
    "duration": 47,
    "start_time": "2021-08-08T21:10:30.312Z"
   },
   {
    "duration": 32,
    "start_time": "2021-08-08T21:10:30.362Z"
   },
   {
    "duration": 14,
    "start_time": "2021-08-08T21:10:30.398Z"
   },
   {
    "duration": 8,
    "start_time": "2021-08-08T21:10:30.414Z"
   },
   {
    "duration": 21,
    "start_time": "2021-08-08T21:10:30.424Z"
   },
   {
    "duration": 37,
    "start_time": "2021-08-08T21:10:30.449Z"
   },
   {
    "duration": 14,
    "start_time": "2021-08-08T21:10:30.490Z"
   },
   {
    "duration": 8,
    "start_time": "2021-08-08T21:10:30.507Z"
   },
   {
    "duration": 28,
    "start_time": "2021-08-08T21:10:30.518Z"
   },
   {
    "duration": 18,
    "start_time": "2021-08-08T21:10:30.548Z"
   },
   {
    "duration": 18,
    "start_time": "2021-08-08T21:10:30.568Z"
   },
   {
    "duration": 19,
    "start_time": "2021-08-08T21:10:30.589Z"
   },
   {
    "duration": 15,
    "start_time": "2021-08-08T21:10:30.610Z"
   },
   {
    "duration": 15,
    "start_time": "2021-08-08T21:10:30.627Z"
   },
   {
    "duration": 11,
    "start_time": "2021-08-08T21:10:30.645Z"
   },
   {
    "duration": 27,
    "start_time": "2021-08-08T21:10:30.659Z"
   },
   {
    "duration": 9,
    "start_time": "2021-08-08T21:10:30.690Z"
   },
   {
    "duration": 10,
    "start_time": "2021-08-08T21:10:30.701Z"
   },
   {
    "duration": 11,
    "start_time": "2021-08-08T21:10:30.713Z"
   },
   {
    "duration": 13,
    "start_time": "2021-08-08T21:10:30.726Z"
   },
   {
    "duration": 15,
    "start_time": "2021-08-08T21:10:30.745Z"
   },
   {
    "duration": 27,
    "start_time": "2021-08-08T21:10:30.763Z"
   },
   {
    "duration": 14,
    "start_time": "2021-08-08T21:10:30.793Z"
   },
   {
    "duration": 22,
    "start_time": "2021-08-08T21:10:30.809Z"
   },
   {
    "duration": 19,
    "start_time": "2021-08-08T21:10:30.833Z"
   },
   {
    "duration": 13,
    "start_time": "2021-08-08T21:10:30.855Z"
   },
   {
    "duration": 18,
    "start_time": "2021-08-08T21:10:30.870Z"
   },
   {
    "duration": 28,
    "start_time": "2021-08-08T21:10:30.890Z"
   },
   {
    "duration": 13,
    "start_time": "2021-08-08T21:10:30.920Z"
   },
   {
    "duration": 12,
    "start_time": "2021-08-08T21:10:30.935Z"
   },
   {
    "duration": 6,
    "start_time": "2021-08-08T21:10:30.949Z"
   },
   {
    "duration": 21,
    "start_time": "2021-08-08T21:10:30.957Z"
   },
   {
    "duration": 22,
    "start_time": "2021-08-08T21:10:30.980Z"
   },
   {
    "duration": 14,
    "start_time": "2021-08-08T21:10:31.004Z"
   },
   {
    "duration": 14,
    "start_time": "2021-08-08T21:10:35.045Z"
   },
   {
    "duration": 7,
    "start_time": "2021-08-08T21:10:36.124Z"
   },
   {
    "duration": 135,
    "start_time": "2021-08-08T21:10:37.345Z"
   },
   {
    "duration": 6,
    "start_time": "2021-08-08T21:10:38.626Z"
   },
   {
    "duration": 131,
    "start_time": "2021-08-08T21:10:41.703Z"
   },
   {
    "duration": 7,
    "start_time": "2021-08-08T21:10:41.916Z"
   },
   {
    "duration": 10,
    "start_time": "2021-08-08T21:10:42.435Z"
   },
   {
    "duration": 4,
    "start_time": "2021-08-08T21:10:42.662Z"
   },
   {
    "duration": 9,
    "start_time": "2021-08-08T21:10:42.928Z"
   },
   {
    "duration": 8,
    "start_time": "2021-08-08T21:10:43.572Z"
   },
   {
    "duration": 8,
    "start_time": "2021-08-08T21:12:55.179Z"
   },
   {
    "duration": 9,
    "start_time": "2021-08-08T21:13:04.967Z"
   },
   {
    "duration": 12,
    "start_time": "2021-08-08T21:13:15.582Z"
   },
   {
    "duration": 10,
    "start_time": "2021-08-08T21:13:18.810Z"
   },
   {
    "duration": 7,
    "start_time": "2021-08-08T21:13:31.504Z"
   },
   {
    "duration": 7,
    "start_time": "2021-08-08T21:13:38.734Z"
   },
   {
    "duration": 9,
    "start_time": "2021-08-08T21:13:40.146Z"
   },
   {
    "duration": 7,
    "start_time": "2021-08-08T21:13:40.402Z"
   },
   {
    "duration": 6,
    "start_time": "2021-08-08T21:13:41.142Z"
   },
   {
    "duration": 7,
    "start_time": "2021-08-08T21:13:41.419Z"
   },
   {
    "duration": 14,
    "start_time": "2021-08-08T21:14:15.394Z"
   },
   {
    "duration": 5,
    "start_time": "2021-08-08T21:18:33.148Z"
   },
   {
    "duration": 464,
    "start_time": "2021-08-08T21:18:42.533Z"
   },
   {
    "duration": 362,
    "start_time": "2021-08-08T21:18:45.117Z"
   },
   {
    "duration": 391,
    "start_time": "2021-08-08T21:18:50.179Z"
   },
   {
    "duration": 7,
    "start_time": "2021-08-08T21:19:16.051Z"
   },
   {
    "duration": 14,
    "start_time": "2021-08-08T21:27:20.299Z"
   },
   {
    "duration": 69,
    "start_time": "2021-08-08T21:27:24.593Z"
   },
   {
    "duration": 6,
    "start_time": "2021-08-08T21:28:10.164Z"
   },
   {
    "duration": 5,
    "start_time": "2021-08-08T21:28:12.827Z"
   },
   {
    "duration": 72,
    "start_time": "2021-08-08T21:28:13.137Z"
   },
   {
    "duration": 830,
    "start_time": "2021-08-08T21:30:39.643Z"
   },
   {
    "duration": 97,
    "start_time": "2021-08-08T21:30:40.476Z"
   },
   {
    "duration": 57,
    "start_time": "2021-08-08T21:30:40.576Z"
   },
   {
    "duration": 14,
    "start_time": "2021-08-08T21:30:40.636Z"
   },
   {
    "duration": 45,
    "start_time": "2021-08-08T21:30:40.653Z"
   },
   {
    "duration": 7,
    "start_time": "2021-08-08T21:30:40.700Z"
   },
   {
    "duration": 9,
    "start_time": "2021-08-08T21:30:40.710Z"
   },
   {
    "duration": 6,
    "start_time": "2021-08-08T21:30:40.723Z"
   },
   {
    "duration": 15,
    "start_time": "2021-08-08T21:30:40.732Z"
   },
   {
    "duration": 10,
    "start_time": "2021-08-08T21:30:40.783Z"
   },
   {
    "duration": 8,
    "start_time": "2021-08-08T21:30:40.797Z"
   },
   {
    "duration": 13,
    "start_time": "2021-08-08T21:30:40.808Z"
   },
   {
    "duration": 11,
    "start_time": "2021-08-08T21:30:40.824Z"
   },
   {
    "duration": 56,
    "start_time": "2021-08-08T21:30:40.838Z"
   },
   {
    "duration": 7,
    "start_time": "2021-08-08T21:30:40.898Z"
   },
   {
    "duration": 10,
    "start_time": "2021-08-08T21:30:40.909Z"
   },
   {
    "duration": 12,
    "start_time": "2021-08-08T21:30:40.922Z"
   },
   {
    "duration": 56,
    "start_time": "2021-08-08T21:30:40.936Z"
   },
   {
    "duration": 9,
    "start_time": "2021-08-08T21:30:40.996Z"
   },
   {
    "duration": 10,
    "start_time": "2021-08-08T21:30:41.008Z"
   },
   {
    "duration": 8,
    "start_time": "2021-08-08T21:30:41.020Z"
   },
   {
    "duration": 6,
    "start_time": "2021-08-08T21:30:41.030Z"
   },
   {
    "duration": 6,
    "start_time": "2021-08-08T21:30:41.041Z"
   },
   {
    "duration": 11,
    "start_time": "2021-08-08T21:30:41.089Z"
   },
   {
    "duration": 7,
    "start_time": "2021-08-08T21:30:41.103Z"
   },
   {
    "duration": 13,
    "start_time": "2021-08-08T21:30:41.112Z"
   },
   {
    "duration": 10,
    "start_time": "2021-08-08T21:30:41.127Z"
   },
   {
    "duration": 7,
    "start_time": "2021-08-08T21:30:41.139Z"
   },
   {
    "duration": 11,
    "start_time": "2021-08-08T21:30:41.190Z"
   },
   {
    "duration": 13,
    "start_time": "2021-08-08T21:30:41.204Z"
   },
   {
    "duration": 17,
    "start_time": "2021-08-08T21:30:41.220Z"
   },
   {
    "duration": 16,
    "start_time": "2021-08-08T21:30:41.239Z"
   },
   {
    "duration": 6,
    "start_time": "2021-08-08T21:30:41.257Z"
   },
   {
    "duration": 39,
    "start_time": "2021-08-08T21:30:41.265Z"
   },
   {
    "duration": 26,
    "start_time": "2021-08-08T21:30:41.307Z"
   },
   {
    "duration": 18,
    "start_time": "2021-08-08T21:30:41.335Z"
   },
   {
    "duration": 14,
    "start_time": "2021-08-08T21:30:41.355Z"
   },
   {
    "duration": 156,
    "start_time": "2021-08-08T21:30:41.371Z"
   },
   {
    "duration": 6,
    "start_time": "2021-08-08T21:30:41.529Z"
   },
   {
    "duration": 153,
    "start_time": "2021-08-08T21:30:41.537Z"
   },
   {
    "duration": 8,
    "start_time": "2021-08-08T21:30:41.693Z"
   },
   {
    "duration": 18,
    "start_time": "2021-08-08T21:30:41.703Z"
   },
   {
    "duration": 11,
    "start_time": "2021-08-08T21:30:41.724Z"
   },
   {
    "duration": 21,
    "start_time": "2021-08-08T21:30:41.737Z"
   },
   {
    "duration": 12,
    "start_time": "2021-08-08T21:30:41.760Z"
   },
   {
    "duration": 20,
    "start_time": "2021-08-08T21:30:41.774Z"
   },
   {
    "duration": 10,
    "start_time": "2021-08-08T21:30:41.797Z"
   },
   {
    "duration": 28,
    "start_time": "2021-08-08T21:30:41.809Z"
   },
   {
    "duration": 6,
    "start_time": "2021-08-08T21:30:41.839Z"
   },
   {
    "duration": 18,
    "start_time": "2021-08-08T21:30:41.847Z"
   },
   {
    "duration": 94,
    "start_time": "2021-08-08T21:30:41.867Z"
   },
   {
    "duration": 10,
    "start_time": "2021-08-08T21:31:04.062Z"
   },
   {
    "duration": 6,
    "start_time": "2021-08-08T21:32:44.577Z"
   },
   {
    "duration": 859,
    "start_time": "2021-08-08T21:32:56.744Z"
   },
   {
    "duration": 100,
    "start_time": "2021-08-08T21:32:57.605Z"
   },
   {
    "duration": 46,
    "start_time": "2021-08-08T21:32:57.708Z"
   },
   {
    "duration": 33,
    "start_time": "2021-08-08T21:32:57.756Z"
   },
   {
    "duration": 17,
    "start_time": "2021-08-08T21:32:57.792Z"
   },
   {
    "duration": 8,
    "start_time": "2021-08-08T21:32:57.812Z"
   },
   {
    "duration": 9,
    "start_time": "2021-08-08T21:32:57.823Z"
   },
   {
    "duration": 49,
    "start_time": "2021-08-08T21:32:57.837Z"
   },
   {
    "duration": 13,
    "start_time": "2021-08-08T21:32:57.890Z"
   },
   {
    "duration": 5,
    "start_time": "2021-08-08T21:32:57.906Z"
   },
   {
    "duration": 7,
    "start_time": "2021-08-08T21:32:57.913Z"
   },
   {
    "duration": 15,
    "start_time": "2021-08-08T21:32:57.922Z"
   },
   {
    "duration": 5,
    "start_time": "2021-08-08T21:32:57.939Z"
   },
   {
    "duration": 46,
    "start_time": "2021-08-08T21:32:57.946Z"
   },
   {
    "duration": 9,
    "start_time": "2021-08-08T21:32:57.996Z"
   },
   {
    "duration": 7,
    "start_time": "2021-08-08T21:32:58.008Z"
   },
   {
    "duration": 8,
    "start_time": "2021-08-08T21:32:58.018Z"
   },
   {
    "duration": 5,
    "start_time": "2021-08-08T21:32:58.029Z"
   },
   {
    "duration": 58,
    "start_time": "2021-08-08T21:32:58.036Z"
   },
   {
    "duration": 7,
    "start_time": "2021-08-08T21:32:58.099Z"
   },
   {
    "duration": 6,
    "start_time": "2021-08-08T21:32:58.108Z"
   },
   {
    "duration": 5,
    "start_time": "2021-08-08T21:32:58.116Z"
   },
   {
    "duration": 7,
    "start_time": "2021-08-08T21:32:58.126Z"
   },
   {
    "duration": 5,
    "start_time": "2021-08-08T21:32:58.136Z"
   },
   {
    "duration": 51,
    "start_time": "2021-08-08T21:32:58.143Z"
   },
   {
    "duration": 11,
    "start_time": "2021-08-08T21:32:58.197Z"
   },
   {
    "duration": 9,
    "start_time": "2021-08-08T21:32:58.210Z"
   },
   {
    "duration": 6,
    "start_time": "2021-08-08T21:32:58.222Z"
   },
   {
    "duration": 6,
    "start_time": "2021-08-08T21:32:58.230Z"
   },
   {
    "duration": 56,
    "start_time": "2021-08-08T21:32:58.238Z"
   },
   {
    "duration": 10,
    "start_time": "2021-08-08T21:32:58.297Z"
   },
   {
    "duration": 9,
    "start_time": "2021-08-08T21:32:58.310Z"
   },
   {
    "duration": 6,
    "start_time": "2021-08-08T21:32:58.321Z"
   },
   {
    "duration": 14,
    "start_time": "2021-08-08T21:32:58.329Z"
   },
   {
    "duration": 52,
    "start_time": "2021-08-08T21:32:58.345Z"
   },
   {
    "duration": 13,
    "start_time": "2021-08-08T21:32:58.399Z"
   },
   {
    "duration": 6,
    "start_time": "2021-08-08T21:32:58.414Z"
   },
   {
    "duration": 179,
    "start_time": "2021-08-08T21:32:58.422Z"
   },
   {
    "duration": 6,
    "start_time": "2021-08-08T21:32:58.604Z"
   },
   {
    "duration": 160,
    "start_time": "2021-08-08T21:32:58.612Z"
   },
   {
    "duration": 7,
    "start_time": "2021-08-08T21:32:58.774Z"
   },
   {
    "duration": 9,
    "start_time": "2021-08-08T21:32:58.792Z"
   },
   {
    "duration": 4,
    "start_time": "2021-08-08T21:32:58.804Z"
   },
   {
    "duration": 10,
    "start_time": "2021-08-08T21:32:58.810Z"
   },
   {
    "duration": 8,
    "start_time": "2021-08-08T21:32:58.822Z"
   },
   {
    "duration": 8,
    "start_time": "2021-08-08T21:32:58.832Z"
   },
   {
    "duration": 47,
    "start_time": "2021-08-08T21:32:58.842Z"
   },
   {
    "duration": 19,
    "start_time": "2021-08-08T21:32:58.892Z"
   },
   {
    "duration": 6,
    "start_time": "2021-08-08T21:32:58.913Z"
   },
   {
    "duration": 12,
    "start_time": "2021-08-08T21:32:58.921Z"
   },
   {
    "duration": 119,
    "start_time": "2021-08-08T21:32:58.936Z"
   },
   {
    "duration": 13,
    "start_time": "2021-08-08T21:32:59.057Z"
   },
   {
    "duration": 89,
    "start_time": "2021-08-08T21:44:12.455Z"
   },
   {
    "duration": 5,
    "start_time": "2021-08-08T21:44:13.861Z"
   },
   {
    "duration": 75,
    "start_time": "2021-08-08T21:44:14.293Z"
   },
   {
    "duration": 452,
    "start_time": "2021-08-08T21:47:02.418Z"
   },
   {
    "duration": 1281,
    "start_time": "2021-08-08T21:47:01.591Z"
   },
   {
    "duration": 382,
    "start_time": "2021-08-08T21:47:14.152Z"
   },
   {
    "duration": 4,
    "start_time": "2021-08-08T21:47:20.396Z"
   },
   {
    "duration": 7,
    "start_time": "2021-08-08T21:47:21.124Z"
   },
   {
    "duration": 5,
    "start_time": "2021-08-08T21:47:45.299Z"
   },
   {
    "duration": 74,
    "start_time": "2021-08-08T21:47:45.306Z"
   },
   {
    "duration": 9576,
    "start_time": "2021-08-08T21:49:53.119Z"
   },
   {
    "duration": 10261,
    "start_time": "2021-08-08T21:50:21.631Z"
   },
   {
    "duration": 388,
    "start_time": "2021-08-08T21:50:54.116Z"
   },
   {
    "duration": 819,
    "start_time": "2021-08-08T21:51:16.128Z"
   },
   {
    "duration": 201,
    "start_time": "2021-08-08T21:51:33.640Z"
   },
   {
    "duration": 212,
    "start_time": "2021-08-08T21:52:13.537Z"
   },
   {
    "duration": 65,
    "start_time": "2021-08-08T21:52:18.083Z"
   },
   {
    "duration": 624,
    "start_time": "2021-08-08T21:53:38.247Z"
   },
   {
    "duration": 2023,
    "start_time": "2021-08-08T21:54:22.754Z"
   },
   {
    "duration": 572,
    "start_time": "2021-08-08T21:57:39.242Z"
   },
   {
    "duration": 638,
    "start_time": "2021-08-08T21:57:46.493Z"
   },
   {
    "duration": 212,
    "start_time": "2021-08-08T21:58:20.131Z"
   },
   {
    "duration": 69,
    "start_time": "2021-08-08T21:58:23.082Z"
   },
   {
    "duration": 413,
    "start_time": "2021-08-08T22:05:15.062Z"
   },
   {
    "duration": 367,
    "start_time": "2021-08-08T22:05:25.455Z"
   },
   {
    "duration": 337,
    "start_time": "2021-08-08T22:05:34.479Z"
   },
   {
    "duration": 432,
    "start_time": "2021-08-08T22:05:38.690Z"
   },
   {
    "duration": 391,
    "start_time": "2021-08-08T22:05:42.351Z"
   },
   {
    "duration": 383,
    "start_time": "2021-08-08T22:07:48.470Z"
   },
   {
    "duration": 359,
    "start_time": "2021-08-08T22:08:16.879Z"
   },
   {
    "duration": 383,
    "start_time": "2021-08-08T22:08:23.868Z"
   },
   {
    "duration": 401,
    "start_time": "2021-08-08T22:08:32.029Z"
   },
   {
    "duration": 343,
    "start_time": "2021-08-08T22:08:47.014Z"
   },
   {
    "duration": 375,
    "start_time": "2021-08-08T22:08:53.093Z"
   },
   {
    "duration": 359,
    "start_time": "2021-08-08T22:09:00.626Z"
   },
   {
    "duration": 422,
    "start_time": "2021-08-08T22:09:04.924Z"
   },
   {
    "duration": 355,
    "start_time": "2021-08-08T22:09:53.110Z"
   },
   {
    "duration": 378,
    "start_time": "2021-08-08T22:12:12.620Z"
   },
   {
    "duration": 414,
    "start_time": "2021-08-08T22:12:30.744Z"
   },
   {
    "duration": 415,
    "start_time": "2021-08-08T22:12:33.865Z"
   },
   {
    "duration": 402,
    "start_time": "2021-08-08T22:13:32.218Z"
   },
   {
    "duration": 449,
    "start_time": "2021-08-08T22:13:35.354Z"
   },
   {
    "duration": 401,
    "start_time": "2021-08-08T22:13:41.413Z"
   },
   {
    "duration": 380,
    "start_time": "2021-08-08T22:13:50.794Z"
   },
   {
    "duration": 386,
    "start_time": "2021-08-08T22:14:02.017Z"
   },
   {
    "duration": 754,
    "start_time": "2021-08-08T22:14:17.314Z"
   },
   {
    "duration": 355,
    "start_time": "2021-08-08T22:14:23.689Z"
   },
   {
    "duration": 446,
    "start_time": "2021-08-08T22:14:48.630Z"
   },
   {
    "duration": 403,
    "start_time": "2021-08-08T22:15:08.006Z"
   },
   {
    "duration": 401,
    "start_time": "2021-08-08T22:15:17.317Z"
   },
   {
    "duration": 39,
    "start_time": "2021-08-08T22:15:26.260Z"
   },
   {
    "duration": 69,
    "start_time": "2021-08-08T22:15:27.599Z"
   },
   {
    "duration": 97,
    "start_time": "2021-08-08T22:15:51.232Z"
   },
   {
    "duration": 77,
    "start_time": "2021-08-08T22:15:57.074Z"
   },
   {
    "duration": 833,
    "start_time": "2021-08-09T16:34:01.212Z"
   },
   {
    "duration": 99,
    "start_time": "2021-08-09T16:34:02.048Z"
   },
   {
    "duration": 55,
    "start_time": "2021-08-09T16:34:02.150Z"
   },
   {
    "duration": 12,
    "start_time": "2021-08-09T16:34:02.209Z"
   },
   {
    "duration": 43,
    "start_time": "2021-08-09T16:34:02.224Z"
   },
   {
    "duration": 7,
    "start_time": "2021-08-09T16:34:02.270Z"
   },
   {
    "duration": 31,
    "start_time": "2021-08-09T16:34:02.280Z"
   },
   {
    "duration": 17,
    "start_time": "2021-08-09T16:34:02.315Z"
   },
   {
    "duration": 19,
    "start_time": "2021-08-09T16:34:02.335Z"
   },
   {
    "duration": 5,
    "start_time": "2021-08-09T16:34:02.357Z"
   },
   {
    "duration": 33,
    "start_time": "2021-08-09T16:34:02.367Z"
   },
   {
    "duration": 16,
    "start_time": "2021-08-09T16:34:02.402Z"
   },
   {
    "duration": 5,
    "start_time": "2021-08-09T16:34:02.420Z"
   },
   {
    "duration": 7,
    "start_time": "2021-08-09T16:34:02.428Z"
   },
   {
    "duration": 14,
    "start_time": "2021-08-09T16:34:02.437Z"
   },
   {
    "duration": 22,
    "start_time": "2021-08-09T16:34:02.453Z"
   },
   {
    "duration": 15,
    "start_time": "2021-08-09T16:34:02.477Z"
   },
   {
    "duration": 7,
    "start_time": "2021-08-09T16:34:02.494Z"
   },
   {
    "duration": 13,
    "start_time": "2021-08-09T16:34:02.503Z"
   },
   {
    "duration": 10,
    "start_time": "2021-08-09T16:34:02.518Z"
   },
   {
    "duration": 46,
    "start_time": "2021-08-09T16:34:02.530Z"
   },
   {
    "duration": 7,
    "start_time": "2021-08-09T16:34:02.578Z"
   },
   {
    "duration": 8,
    "start_time": "2021-08-09T16:34:02.591Z"
   },
   {
    "duration": 11,
    "start_time": "2021-08-09T16:34:02.602Z"
   },
   {
    "duration": 9,
    "start_time": "2021-08-09T16:34:02.616Z"
   },
   {
    "duration": 12,
    "start_time": "2021-08-09T16:34:02.627Z"
   },
   {
    "duration": 11,
    "start_time": "2021-08-09T16:34:02.667Z"
   },
   {
    "duration": 8,
    "start_time": "2021-08-09T16:34:02.681Z"
   },
   {
    "duration": 13,
    "start_time": "2021-08-09T16:34:02.692Z"
   },
   {
    "duration": 19,
    "start_time": "2021-08-09T16:34:02.707Z"
   },
   {
    "duration": 13,
    "start_time": "2021-08-09T16:34:02.728Z"
   },
   {
    "duration": 31,
    "start_time": "2021-08-09T16:34:02.743Z"
   },
   {
    "duration": 16,
    "start_time": "2021-08-09T16:34:02.777Z"
   },
   {
    "duration": 21,
    "start_time": "2021-08-09T16:34:02.796Z"
   },
   {
    "duration": 12,
    "start_time": "2021-08-09T16:34:02.820Z"
   },
   {
    "duration": 42,
    "start_time": "2021-08-09T16:34:02.836Z"
   },
   {
    "duration": 7,
    "start_time": "2021-08-09T16:34:02.881Z"
   },
   {
    "duration": 194,
    "start_time": "2021-08-09T16:34:02.890Z"
   },
   {
    "duration": 7,
    "start_time": "2021-08-09T16:34:03.086Z"
   },
   {
    "duration": 298,
    "start_time": "2021-08-09T16:34:03.095Z"
   },
   {
    "duration": 6,
    "start_time": "2021-08-09T16:34:03.396Z"
   },
   {
    "duration": 63,
    "start_time": "2021-08-09T16:34:03.405Z"
   },
   {
    "duration": 5,
    "start_time": "2021-08-09T16:34:03.471Z"
   },
   {
    "duration": 24,
    "start_time": "2021-08-09T16:34:03.478Z"
   },
   {
    "duration": 21,
    "start_time": "2021-08-09T16:34:03.504Z"
   },
   {
    "duration": 12,
    "start_time": "2021-08-09T16:34:03.568Z"
   },
   {
    "duration": 10,
    "start_time": "2021-08-09T16:34:03.582Z"
   },
   {
    "duration": 19,
    "start_time": "2021-08-09T16:34:03.594Z"
   },
   {
    "duration": 55,
    "start_time": "2021-08-09T16:34:03.616Z"
   },
   {
    "duration": 123,
    "start_time": "2021-08-09T16:34:03.674Z"
   },
   {
    "duration": 142,
    "start_time": "2021-08-09T16:34:03.799Z"
   },
   {
    "duration": 148,
    "start_time": "2021-08-09T16:34:03.944Z"
   },
   {
    "duration": 110,
    "start_time": "2021-08-09T16:34:10.576Z"
   },
   {
    "duration": 4,
    "start_time": "2021-08-09T16:46:49.698Z"
   },
   {
    "duration": 4595,
    "start_time": "2021-08-09T16:47:18.735Z"
   },
   {
    "duration": 4878,
    "start_time": "2021-08-09T16:53:22.950Z"
   },
   {
    "duration": 67,
    "start_time": "2021-08-09T16:59:28.595Z"
   },
   {
    "duration": 5,
    "start_time": "2021-08-09T17:00:10.575Z"
   },
   {
    "duration": 67,
    "start_time": "2021-08-09T17:00:12.535Z"
   },
   {
    "duration": 8031,
    "start_time": "2021-08-09T17:00:29.370Z"
   },
   {
    "duration": 2637,
    "start_time": "2021-08-09T17:00:54.851Z"
   },
   {
    "duration": 1742,
    "start_time": "2021-08-09T17:01:16.611Z"
   },
   {
    "duration": 2003,
    "start_time": "2021-08-09T17:07:40.097Z"
   },
   {
    "duration": 365,
    "start_time": "2021-08-09T17:27:02.196Z"
   },
   {
    "duration": 329,
    "start_time": "2021-08-09T17:27:15.963Z"
   },
   {
    "duration": 334,
    "start_time": "2021-08-09T17:27:24.809Z"
   },
   {
    "duration": 1660,
    "start_time": "2021-08-09T17:27:53.339Z"
   },
   {
    "duration": 325,
    "start_time": "2021-08-09T17:36:53.248Z"
   },
   {
    "duration": 356,
    "start_time": "2021-08-09T17:36:57.049Z"
   },
   {
    "duration": 286,
    "start_time": "2021-08-09T17:38:46.328Z"
   },
   {
    "duration": 2297,
    "start_time": "2021-08-09T17:38:52.723Z"
   },
   {
    "duration": 2076,
    "start_time": "2021-08-09T17:39:03.338Z"
   },
   {
    "duration": 322,
    "start_time": "2021-08-09T17:44:39.608Z"
   },
   {
    "duration": 318,
    "start_time": "2021-08-09T17:44:52.581Z"
   },
   {
    "duration": 331,
    "start_time": "2021-08-09T17:45:16.397Z"
   },
   {
    "duration": 341,
    "start_time": "2021-08-09T17:45:24.952Z"
   },
   {
    "duration": 5,
    "start_time": "2021-08-09T17:45:36.568Z"
   },
   {
    "duration": 504,
    "start_time": "2021-08-09T17:45:42.231Z"
   },
   {
    "duration": 117,
    "start_time": "2021-08-09T17:45:45.522Z"
   },
   {
    "duration": 363,
    "start_time": "2021-08-09T17:45:58.133Z"
   },
   {
    "duration": 312,
    "start_time": "2021-08-09T17:55:09.107Z"
   },
   {
    "duration": 322,
    "start_time": "2021-08-09T17:55:19.163Z"
   },
   {
    "duration": 287,
    "start_time": "2021-08-09T17:59:33.947Z"
   },
   {
    "duration": 338,
    "start_time": "2021-08-09T17:59:47.881Z"
   },
   {
    "duration": 725,
    "start_time": "2021-08-09T18:01:59.145Z"
   },
   {
    "duration": 4,
    "start_time": "2021-08-09T18:03:04.272Z"
   },
   {
    "duration": 67,
    "start_time": "2021-08-09T18:03:04.826Z"
   },
   {
    "duration": 4725,
    "start_time": "2021-08-09T18:03:06.411Z"
   },
   {
    "duration": 5,
    "start_time": "2021-08-09T18:03:48.553Z"
   },
   {
    "duration": 69,
    "start_time": "2021-08-09T18:03:48.864Z"
   },
   {
    "duration": 5382,
    "start_time": "2021-08-09T18:03:48.996Z"
   },
   {
    "duration": 1482,
    "start_time": "2021-08-09T18:07:31.997Z"
   },
   {
    "duration": 9,
    "start_time": "2021-08-09T18:25:31.233Z"
   },
   {
    "duration": 8,
    "start_time": "2021-08-09T18:26:29.128Z"
   },
   {
    "duration": 11,
    "start_time": "2021-08-09T18:27:08.757Z"
   },
   {
    "duration": 11,
    "start_time": "2021-08-09T18:27:19.182Z"
   },
   {
    "duration": 9,
    "start_time": "2021-08-09T18:27:37.633Z"
   },
   {
    "duration": 12,
    "start_time": "2021-08-09T18:27:50.747Z"
   },
   {
    "duration": 76,
    "start_time": "2021-08-09T18:28:12.322Z"
   },
   {
    "duration": 10,
    "start_time": "2021-08-09T18:28:22.661Z"
   },
   {
    "duration": 904,
    "start_time": "2021-08-09T18:28:39.683Z"
   },
   {
    "duration": 102,
    "start_time": "2021-08-09T18:28:40.590Z"
   },
   {
    "duration": 68,
    "start_time": "2021-08-09T18:28:40.699Z"
   },
   {
    "duration": 12,
    "start_time": "2021-08-09T18:28:40.770Z"
   },
   {
    "duration": 13,
    "start_time": "2021-08-09T18:28:40.785Z"
   },
   {
    "duration": 7,
    "start_time": "2021-08-09T18:28:40.801Z"
   },
   {
    "duration": 7,
    "start_time": "2021-08-09T18:28:40.811Z"
   },
   {
    "duration": 48,
    "start_time": "2021-08-09T18:28:40.821Z"
   },
   {
    "duration": 11,
    "start_time": "2021-08-09T18:28:40.871Z"
   },
   {
    "duration": 5,
    "start_time": "2021-08-09T18:28:40.885Z"
   },
   {
    "duration": 6,
    "start_time": "2021-08-09T18:28:40.893Z"
   },
   {
    "duration": 11,
    "start_time": "2021-08-09T18:28:40.901Z"
   },
   {
    "duration": 55,
    "start_time": "2021-08-09T18:28:40.914Z"
   },
   {
    "duration": 8,
    "start_time": "2021-08-09T18:28:40.972Z"
   },
   {
    "duration": 8,
    "start_time": "2021-08-09T18:28:40.982Z"
   },
   {
    "duration": 8,
    "start_time": "2021-08-09T18:28:40.992Z"
   },
   {
    "duration": 9,
    "start_time": "2021-08-09T18:28:41.002Z"
   },
   {
    "duration": 5,
    "start_time": "2021-08-09T18:28:41.013Z"
   },
   {
    "duration": 6,
    "start_time": "2021-08-09T18:28:41.067Z"
   },
   {
    "duration": 8,
    "start_time": "2021-08-09T18:28:41.075Z"
   },
   {
    "duration": 12,
    "start_time": "2021-08-09T18:28:41.085Z"
   },
   {
    "duration": 5,
    "start_time": "2021-08-09T18:28:41.103Z"
   },
   {
    "duration": 5,
    "start_time": "2021-08-09T18:28:41.111Z"
   },
   {
    "duration": 48,
    "start_time": "2021-08-09T18:28:41.119Z"
   },
   {
    "duration": 6,
    "start_time": "2021-08-09T18:28:41.169Z"
   },
   {
    "duration": 15,
    "start_time": "2021-08-09T18:28:41.177Z"
   },
   {
    "duration": 9,
    "start_time": "2021-08-09T18:28:41.195Z"
   },
   {
    "duration": 7,
    "start_time": "2021-08-09T18:28:41.206Z"
   },
   {
    "duration": 6,
    "start_time": "2021-08-09T18:28:41.215Z"
   },
   {
    "duration": 48,
    "start_time": "2021-08-09T18:28:41.223Z"
   },
   {
    "duration": 6,
    "start_time": "2021-08-09T18:28:41.273Z"
   },
   {
    "duration": 10,
    "start_time": "2021-08-09T18:28:41.281Z"
   },
   {
    "duration": 7,
    "start_time": "2021-08-09T18:28:41.294Z"
   },
   {
    "duration": 16,
    "start_time": "2021-08-09T18:28:41.304Z"
   },
   {
    "duration": 53,
    "start_time": "2021-08-09T18:28:41.322Z"
   },
   {
    "duration": 22,
    "start_time": "2021-08-09T18:28:41.377Z"
   },
   {
    "duration": 6,
    "start_time": "2021-08-09T18:28:41.402Z"
   },
   {
    "duration": 158,
    "start_time": "2021-08-09T18:28:41.410Z"
   },
   {
    "duration": 5,
    "start_time": "2021-08-09T18:28:41.571Z"
   },
   {
    "duration": 158,
    "start_time": "2021-08-09T18:28:41.578Z"
   },
   {
    "duration": 8,
    "start_time": "2021-08-09T18:28:41.739Z"
   },
   {
    "duration": 26,
    "start_time": "2021-08-09T18:28:41.749Z"
   },
   {
    "duration": 4,
    "start_time": "2021-08-09T18:28:41.778Z"
   },
   {
    "duration": 13,
    "start_time": "2021-08-09T18:28:41.785Z"
   },
   {
    "duration": 8,
    "start_time": "2021-08-09T18:28:41.800Z"
   },
   {
    "duration": 7,
    "start_time": "2021-08-09T18:28:41.811Z"
   },
   {
    "duration": 50,
    "start_time": "2021-08-09T18:28:41.821Z"
   },
   {
    "duration": 17,
    "start_time": "2021-08-09T18:28:41.874Z"
   },
   {
    "duration": 7,
    "start_time": "2021-08-09T18:28:41.893Z"
   },
   {
    "duration": 115,
    "start_time": "2021-08-09T18:28:41.903Z"
   },
   {
    "duration": 86,
    "start_time": "2021-08-09T18:28:42.020Z"
   },
   {
    "duration": 126,
    "start_time": "2021-08-09T18:28:42.109Z"
   },
   {
    "duration": 96,
    "start_time": "2021-08-09T18:28:42.238Z"
   },
   {
    "duration": 11,
    "start_time": "2021-08-09T18:28:42.337Z"
   },
   {
    "duration": 10,
    "start_time": "2021-08-09T18:28:50.669Z"
   },
   {
    "duration": 85,
    "start_time": "2021-08-09T18:28:53.864Z"
   },
   {
    "duration": 10,
    "start_time": "2021-08-09T18:29:55.676Z"
   },
   {
    "duration": 130,
    "start_time": "2021-08-09T18:29:59.579Z"
   },
   {
    "duration": 844,
    "start_time": "2021-08-09T18:30:19.172Z"
   },
   {
    "duration": 103,
    "start_time": "2021-08-09T18:30:20.019Z"
   },
   {
    "duration": 62,
    "start_time": "2021-08-09T18:30:20.125Z"
   },
   {
    "duration": 12,
    "start_time": "2021-08-09T18:30:20.189Z"
   },
   {
    "duration": 12,
    "start_time": "2021-08-09T18:30:20.203Z"
   },
   {
    "duration": 6,
    "start_time": "2021-08-09T18:30:20.218Z"
   },
   {
    "duration": 42,
    "start_time": "2021-08-09T18:30:20.227Z"
   },
   {
    "duration": 6,
    "start_time": "2021-08-09T18:30:20.273Z"
   },
   {
    "duration": 18,
    "start_time": "2021-08-09T18:30:20.282Z"
   },
   {
    "duration": 9,
    "start_time": "2021-08-09T18:30:20.303Z"
   },
   {
    "duration": 9,
    "start_time": "2021-08-09T18:30:20.315Z"
   },
   {
    "duration": 45,
    "start_time": "2021-08-09T18:30:20.326Z"
   },
   {
    "duration": 12,
    "start_time": "2021-08-09T18:30:20.373Z"
   },
   {
    "duration": 6,
    "start_time": "2021-08-09T18:30:20.387Z"
   },
   {
    "duration": 9,
    "start_time": "2021-08-09T18:30:20.396Z"
   },
   {
    "duration": 8,
    "start_time": "2021-08-09T18:30:20.407Z"
   },
   {
    "duration": 10,
    "start_time": "2021-08-09T18:30:20.417Z"
   },
   {
    "duration": 6,
    "start_time": "2021-08-09T18:30:20.468Z"
   },
   {
    "duration": 13,
    "start_time": "2021-08-09T18:30:20.476Z"
   },
   {
    "duration": 10,
    "start_time": "2021-08-09T18:30:20.491Z"
   },
   {
    "duration": 9,
    "start_time": "2021-08-09T18:30:20.504Z"
   },
   {
    "duration": 8,
    "start_time": "2021-08-09T18:30:20.515Z"
   },
   {
    "duration": 9,
    "start_time": "2021-08-09T18:30:20.528Z"
   },
   {
    "duration": 6,
    "start_time": "2021-08-09T18:30:20.568Z"
   },
   {
    "duration": 7,
    "start_time": "2021-08-09T18:30:20.576Z"
   },
   {
    "duration": 12,
    "start_time": "2021-08-09T18:30:20.586Z"
   },
   {
    "duration": 10,
    "start_time": "2021-08-09T18:30:20.600Z"
   },
   {
    "duration": 10,
    "start_time": "2021-08-09T18:30:20.612Z"
   },
   {
    "duration": 47,
    "start_time": "2021-08-09T18:30:20.624Z"
   },
   {
    "duration": 16,
    "start_time": "2021-08-09T18:30:20.673Z"
   },
   {
    "duration": 8,
    "start_time": "2021-08-09T18:30:20.691Z"
   },
   {
    "duration": 13,
    "start_time": "2021-08-09T18:30:20.701Z"
   },
   {
    "duration": 7,
    "start_time": "2021-08-09T18:30:20.717Z"
   },
   {
    "duration": 48,
    "start_time": "2021-08-09T18:30:20.727Z"
   },
   {
    "duration": 13,
    "start_time": "2021-08-09T18:30:20.778Z"
   },
   {
    "duration": 15,
    "start_time": "2021-08-09T18:30:20.794Z"
   },
   {
    "duration": 7,
    "start_time": "2021-08-09T18:30:20.812Z"
   },
   {
    "duration": 155,
    "start_time": "2021-08-09T18:30:20.866Z"
   },
   {
    "duration": 7,
    "start_time": "2021-08-09T18:30:21.024Z"
   },
   {
    "duration": 165,
    "start_time": "2021-08-09T18:30:21.034Z"
   },
   {
    "duration": 7,
    "start_time": "2021-08-09T18:30:21.202Z"
   },
   {
    "duration": 12,
    "start_time": "2021-08-09T18:30:21.212Z"
   },
   {
    "duration": 4,
    "start_time": "2021-08-09T18:30:21.226Z"
   },
   {
    "duration": 40,
    "start_time": "2021-08-09T18:30:21.232Z"
   },
   {
    "duration": 8,
    "start_time": "2021-08-09T18:30:21.274Z"
   },
   {
    "duration": 7,
    "start_time": "2021-08-09T18:30:21.285Z"
   },
   {
    "duration": 13,
    "start_time": "2021-08-09T18:30:21.294Z"
   },
   {
    "duration": 17,
    "start_time": "2021-08-09T18:30:21.309Z"
   },
   {
    "duration": 43,
    "start_time": "2021-08-09T18:30:21.328Z"
   },
   {
    "duration": 95,
    "start_time": "2021-08-09T18:30:21.373Z"
   },
   {
    "duration": 87,
    "start_time": "2021-08-09T18:30:21.471Z"
   },
   {
    "duration": 129,
    "start_time": "2021-08-09T18:30:21.560Z"
   },
   {
    "duration": 97,
    "start_time": "2021-08-09T18:30:21.691Z"
   },
   {
    "duration": 110,
    "start_time": "2021-08-09T18:30:21.791Z"
   },
   {
    "duration": 14,
    "start_time": "2021-08-09T18:31:08.652Z"
   },
   {
    "duration": 424,
    "start_time": "2021-08-09T18:31:14.399Z"
   },
   {
    "duration": 343,
    "start_time": "2021-08-09T18:31:17.423Z"
   },
   {
    "duration": 11,
    "start_time": "2021-08-09T18:31:27.797Z"
   },
   {
    "duration": 118,
    "start_time": "2021-08-09T18:32:55.442Z"
   },
   {
    "duration": 327,
    "start_time": "2021-08-09T18:33:00.883Z"
   },
   {
    "duration": 838,
    "start_time": "2021-08-09T18:33:22.188Z"
   },
   {
    "duration": 98,
    "start_time": "2021-08-09T18:33:23.028Z"
   },
   {
    "duration": 58,
    "start_time": "2021-08-09T18:33:23.129Z"
   },
   {
    "duration": 14,
    "start_time": "2021-08-09T18:33:23.190Z"
   },
   {
    "duration": 12,
    "start_time": "2021-08-09T18:33:23.206Z"
   },
   {
    "duration": 7,
    "start_time": "2021-08-09T18:33:23.220Z"
   },
   {
    "duration": 42,
    "start_time": "2021-08-09T18:33:23.229Z"
   },
   {
    "duration": 9,
    "start_time": "2021-08-09T18:33:23.275Z"
   },
   {
    "duration": 12,
    "start_time": "2021-08-09T18:33:23.287Z"
   },
   {
    "duration": 6,
    "start_time": "2021-08-09T18:33:23.301Z"
   },
   {
    "duration": 8,
    "start_time": "2021-08-09T18:33:23.309Z"
   },
   {
    "duration": 54,
    "start_time": "2021-08-09T18:33:23.319Z"
   },
   {
    "duration": 5,
    "start_time": "2021-08-09T18:33:23.376Z"
   },
   {
    "duration": 7,
    "start_time": "2021-08-09T18:33:23.383Z"
   },
   {
    "duration": 7,
    "start_time": "2021-08-09T18:33:23.392Z"
   },
   {
    "duration": 10,
    "start_time": "2021-08-09T18:33:23.402Z"
   },
   {
    "duration": 53,
    "start_time": "2021-08-09T18:33:23.414Z"
   },
   {
    "duration": 5,
    "start_time": "2021-08-09T18:33:23.470Z"
   },
   {
    "duration": 19,
    "start_time": "2021-08-09T18:33:23.478Z"
   },
   {
    "duration": 16,
    "start_time": "2021-08-09T18:33:23.500Z"
   },
   {
    "duration": 21,
    "start_time": "2021-08-09T18:33:23.519Z"
   },
   {
    "duration": 26,
    "start_time": "2021-08-09T18:33:23.542Z"
   },
   {
    "duration": 12,
    "start_time": "2021-08-09T18:33:23.574Z"
   },
   {
    "duration": 20,
    "start_time": "2021-08-09T18:33:23.589Z"
   },
   {
    "duration": 20,
    "start_time": "2021-08-09T18:33:23.611Z"
   },
   {
    "duration": 30,
    "start_time": "2021-08-09T18:33:23.633Z"
   },
   {
    "duration": 9,
    "start_time": "2021-08-09T18:33:23.666Z"
   },
   {
    "duration": 18,
    "start_time": "2021-08-09T18:33:23.678Z"
   },
   {
    "duration": 29,
    "start_time": "2021-08-09T18:33:23.698Z"
   },
   {
    "duration": 27,
    "start_time": "2021-08-09T18:33:23.729Z"
   },
   {
    "duration": 25,
    "start_time": "2021-08-09T18:33:23.758Z"
   },
   {
    "duration": 14,
    "start_time": "2021-08-09T18:33:23.785Z"
   },
   {
    "duration": 16,
    "start_time": "2021-08-09T18:33:23.802Z"
   },
   {
    "duration": 22,
    "start_time": "2021-08-09T18:33:23.820Z"
   },
   {
    "duration": 21,
    "start_time": "2021-08-09T18:33:23.844Z"
   },
   {
    "duration": 18,
    "start_time": "2021-08-09T18:33:23.868Z"
   },
   {
    "duration": 9,
    "start_time": "2021-08-09T18:33:23.888Z"
   },
   {
    "duration": 157,
    "start_time": "2021-08-09T18:33:23.900Z"
   },
   {
    "duration": 7,
    "start_time": "2021-08-09T18:33:24.060Z"
   },
   {
    "duration": 157,
    "start_time": "2021-08-09T18:33:24.070Z"
   },
   {
    "duration": 7,
    "start_time": "2021-08-09T18:33:24.229Z"
   },
   {
    "duration": 30,
    "start_time": "2021-08-09T18:33:24.238Z"
   },
   {
    "duration": 4,
    "start_time": "2021-08-09T18:33:24.270Z"
   },
   {
    "duration": 27,
    "start_time": "2021-08-09T18:33:24.276Z"
   },
   {
    "duration": 11,
    "start_time": "2021-08-09T18:33:24.306Z"
   },
   {
    "duration": 16,
    "start_time": "2021-08-09T18:33:24.320Z"
   },
   {
    "duration": 26,
    "start_time": "2021-08-09T18:33:24.338Z"
   },
   {
    "duration": 31,
    "start_time": "2021-08-09T18:33:24.367Z"
   },
   {
    "duration": 9,
    "start_time": "2021-08-09T18:33:24.401Z"
   },
   {
    "duration": 86,
    "start_time": "2021-08-09T18:33:24.412Z"
   },
   {
    "duration": 93,
    "start_time": "2021-08-09T18:33:24.501Z"
   },
   {
    "duration": 124,
    "start_time": "2021-08-09T18:33:24.597Z"
   },
   {
    "duration": 102,
    "start_time": "2021-08-09T18:33:24.724Z"
   },
   {
    "duration": 443,
    "start_time": "2021-08-09T18:33:24.829Z"
   },
   {
    "duration": 366,
    "start_time": "2021-08-09T18:33:42.734Z"
   },
   {
    "duration": 623,
    "start_time": "2021-08-09T18:34:09.786Z"
   },
   {
    "duration": 329,
    "start_time": "2021-08-09T18:34:40.857Z"
   },
   {
    "duration": 888,
    "start_time": "2021-08-09T18:34:51.232Z"
   },
   {
    "duration": 108,
    "start_time": "2021-08-09T18:34:52.123Z"
   },
   {
    "duration": 57,
    "start_time": "2021-08-09T18:34:52.234Z"
   },
   {
    "duration": 13,
    "start_time": "2021-08-09T18:34:52.294Z"
   },
   {
    "duration": 21,
    "start_time": "2021-08-09T18:34:52.309Z"
   },
   {
    "duration": 35,
    "start_time": "2021-08-09T18:34:52.333Z"
   },
   {
    "duration": 7,
    "start_time": "2021-08-09T18:34:52.371Z"
   },
   {
    "duration": 18,
    "start_time": "2021-08-09T18:34:52.380Z"
   },
   {
    "duration": 18,
    "start_time": "2021-08-09T18:34:52.402Z"
   },
   {
    "duration": 7,
    "start_time": "2021-08-09T18:34:52.423Z"
   },
   {
    "duration": 34,
    "start_time": "2021-08-09T18:34:52.433Z"
   },
   {
    "duration": 14,
    "start_time": "2021-08-09T18:34:52.470Z"
   },
   {
    "duration": 7,
    "start_time": "2021-08-09T18:34:52.486Z"
   },
   {
    "duration": 12,
    "start_time": "2021-08-09T18:34:52.496Z"
   },
   {
    "duration": 12,
    "start_time": "2021-08-09T18:34:52.510Z"
   },
   {
    "duration": 13,
    "start_time": "2021-08-09T18:34:52.525Z"
   },
   {
    "duration": 10,
    "start_time": "2021-08-09T18:34:52.567Z"
   },
   {
    "duration": 7,
    "start_time": "2021-08-09T18:34:52.579Z"
   },
   {
    "duration": 7,
    "start_time": "2021-08-09T18:34:52.589Z"
   },
   {
    "duration": 11,
    "start_time": "2021-08-09T18:34:52.599Z"
   },
   {
    "duration": 9,
    "start_time": "2021-08-09T18:34:52.612Z"
   },
   {
    "duration": 5,
    "start_time": "2021-08-09T18:34:52.623Z"
   },
   {
    "duration": 6,
    "start_time": "2021-08-09T18:34:52.668Z"
   },
   {
    "duration": 13,
    "start_time": "2021-08-09T18:34:52.676Z"
   },
   {
    "duration": 16,
    "start_time": "2021-08-09T18:34:52.691Z"
   },
   {
    "duration": 23,
    "start_time": "2021-08-09T18:34:52.709Z"
   },
   {
    "duration": 29,
    "start_time": "2021-08-09T18:34:52.738Z"
   },
   {
    "duration": 7,
    "start_time": "2021-08-09T18:34:52.770Z"
   },
   {
    "duration": 6,
    "start_time": "2021-08-09T18:34:52.779Z"
   },
   {
    "duration": 13,
    "start_time": "2021-08-09T18:34:52.787Z"
   },
   {
    "duration": 7,
    "start_time": "2021-08-09T18:34:52.802Z"
   },
   {
    "duration": 9,
    "start_time": "2021-08-09T18:34:52.811Z"
   },
   {
    "duration": 48,
    "start_time": "2021-08-09T18:34:52.822Z"
   },
   {
    "duration": 12,
    "start_time": "2021-08-09T18:34:52.872Z"
   },
   {
    "duration": 10,
    "start_time": "2021-08-09T18:34:52.886Z"
   },
   {
    "duration": 13,
    "start_time": "2021-08-09T18:34:52.899Z"
   },
   {
    "duration": 6,
    "start_time": "2021-08-09T18:34:52.914Z"
   },
   {
    "duration": 191,
    "start_time": "2021-08-09T18:34:52.923Z"
   },
   {
    "duration": 6,
    "start_time": "2021-08-09T18:34:53.116Z"
   },
   {
    "duration": 158,
    "start_time": "2021-08-09T18:34:53.125Z"
   },
   {
    "duration": 6,
    "start_time": "2021-08-09T18:34:53.286Z"
   },
   {
    "duration": 24,
    "start_time": "2021-08-09T18:34:53.295Z"
   },
   {
    "duration": 8,
    "start_time": "2021-08-09T18:34:53.322Z"
   },
   {
    "duration": 26,
    "start_time": "2021-08-09T18:34:53.332Z"
   },
   {
    "duration": 33,
    "start_time": "2021-08-09T18:34:53.361Z"
   },
   {
    "duration": 19,
    "start_time": "2021-08-09T18:34:53.397Z"
   },
   {
    "duration": 23,
    "start_time": "2021-08-09T18:34:53.419Z"
   },
   {
    "duration": 31,
    "start_time": "2021-08-09T18:34:53.445Z"
   },
   {
    "duration": 7,
    "start_time": "2021-08-09T18:34:53.479Z"
   },
   {
    "duration": 96,
    "start_time": "2021-08-09T18:34:53.488Z"
   },
   {
    "duration": 92,
    "start_time": "2021-08-09T18:34:53.587Z"
   },
   {
    "duration": 135,
    "start_time": "2021-08-09T18:34:53.682Z"
   },
   {
    "duration": 105,
    "start_time": "2021-08-09T18:34:53.820Z"
   },
   {
    "duration": 421,
    "start_time": "2021-08-09T18:34:53.928Z"
   },
   {
    "duration": 298,
    "start_time": "2021-08-09T18:35:03.499Z"
   },
   {
    "duration": 37,
    "start_time": "2021-08-09T18:35:35.543Z"
   },
   {
    "duration": 124,
    "start_time": "2021-08-09T18:35:39.183Z"
   },
   {
    "duration": 129,
    "start_time": "2021-08-09T18:36:07.657Z"
   },
   {
    "duration": 858,
    "start_time": "2021-08-09T18:37:21.260Z"
   },
   {
    "duration": 95,
    "start_time": "2021-08-09T18:37:22.120Z"
   },
   {
    "duration": 61,
    "start_time": "2021-08-09T18:37:22.217Z"
   },
   {
    "duration": 11,
    "start_time": "2021-08-09T18:37:22.281Z"
   },
   {
    "duration": 13,
    "start_time": "2021-08-09T18:37:22.294Z"
   },
   {
    "duration": 12,
    "start_time": "2021-08-09T18:37:22.310Z"
   },
   {
    "duration": 42,
    "start_time": "2021-08-09T18:37:22.325Z"
   },
   {
    "duration": 10,
    "start_time": "2021-08-09T18:37:22.370Z"
   },
   {
    "duration": 12,
    "start_time": "2021-08-09T18:37:22.384Z"
   },
   {
    "duration": 5,
    "start_time": "2021-08-09T18:37:22.399Z"
   },
   {
    "duration": 8,
    "start_time": "2021-08-09T18:37:22.407Z"
   },
   {
    "duration": 58,
    "start_time": "2021-08-09T18:37:22.417Z"
   },
   {
    "duration": 7,
    "start_time": "2021-08-09T18:37:22.477Z"
   },
   {
    "duration": 7,
    "start_time": "2021-08-09T18:37:22.487Z"
   },
   {
    "duration": 10,
    "start_time": "2021-08-09T18:37:22.497Z"
   },
   {
    "duration": 10,
    "start_time": "2021-08-09T18:37:22.510Z"
   },
   {
    "duration": 53,
    "start_time": "2021-08-09T18:37:22.522Z"
   },
   {
    "duration": 6,
    "start_time": "2021-08-09T18:37:22.578Z"
   },
   {
    "duration": 7,
    "start_time": "2021-08-09T18:37:22.587Z"
   },
   {
    "duration": 10,
    "start_time": "2021-08-09T18:37:22.597Z"
   },
   {
    "duration": 7,
    "start_time": "2021-08-09T18:37:22.610Z"
   },
   {
    "duration": 50,
    "start_time": "2021-08-09T18:37:22.620Z"
   },
   {
    "duration": 7,
    "start_time": "2021-08-09T18:37:22.673Z"
   },
   {
    "duration": 7,
    "start_time": "2021-08-09T18:37:22.682Z"
   },
   {
    "duration": 8,
    "start_time": "2021-08-09T18:37:22.691Z"
   },
   {
    "duration": 14,
    "start_time": "2021-08-09T18:37:22.701Z"
   },
   {
    "duration": 51,
    "start_time": "2021-08-09T18:37:22.723Z"
   },
   {
    "duration": 7,
    "start_time": "2021-08-09T18:37:22.777Z"
   },
   {
    "duration": 6,
    "start_time": "2021-08-09T18:37:22.786Z"
   },
   {
    "duration": 9,
    "start_time": "2021-08-09T18:37:22.794Z"
   },
   {
    "duration": 6,
    "start_time": "2021-08-09T18:37:22.805Z"
   },
   {
    "duration": 9,
    "start_time": "2021-08-09T18:37:22.813Z"
   },
   {
    "duration": 7,
    "start_time": "2021-08-09T18:37:22.867Z"
   },
   {
    "duration": 21,
    "start_time": "2021-08-09T18:37:22.877Z"
   },
   {
    "duration": 10,
    "start_time": "2021-08-09T18:37:22.900Z"
   },
   {
    "duration": 13,
    "start_time": "2021-08-09T18:37:22.912Z"
   },
   {
    "duration": 39,
    "start_time": "2021-08-09T18:37:22.928Z"
   },
   {
    "duration": 159,
    "start_time": "2021-08-09T18:37:22.969Z"
   },
   {
    "duration": 5,
    "start_time": "2021-08-09T18:37:23.131Z"
   },
   {
    "duration": 156,
    "start_time": "2021-08-09T18:37:23.139Z"
   },
   {
    "duration": 7,
    "start_time": "2021-08-09T18:37:23.298Z"
   },
   {
    "duration": 12,
    "start_time": "2021-08-09T18:37:23.307Z"
   },
   {
    "duration": 3,
    "start_time": "2021-08-09T18:37:23.322Z"
   },
   {
    "duration": 42,
    "start_time": "2021-08-09T18:37:23.328Z"
   },
   {
    "duration": 14,
    "start_time": "2021-08-09T18:37:23.373Z"
   },
   {
    "duration": 11,
    "start_time": "2021-08-09T18:37:23.389Z"
   },
   {
    "duration": 11,
    "start_time": "2021-08-09T18:37:23.403Z"
   },
   {
    "duration": 20,
    "start_time": "2021-08-09T18:37:23.416Z"
   },
   {
    "duration": 29,
    "start_time": "2021-08-09T18:37:23.438Z"
   },
   {
    "duration": 80,
    "start_time": "2021-08-09T18:37:23.470Z"
   },
   {
    "duration": 84,
    "start_time": "2021-08-09T18:37:23.567Z"
   },
   {
    "duration": 139,
    "start_time": "2021-08-09T18:37:23.653Z"
   },
   {
    "duration": 141,
    "start_time": "2021-08-09T18:37:23.795Z"
   },
   {
    "duration": 134,
    "start_time": "2021-08-09T18:37:23.939Z"
   },
   {
    "duration": 91,
    "start_time": "2021-08-09T18:37:33.525Z"
   },
   {
    "duration": 15,
    "start_time": "2021-08-09T18:38:04.570Z"
   },
   {
    "duration": 92,
    "start_time": "2021-08-09T18:38:23.089Z"
   },
   {
    "duration": 46,
    "start_time": "2021-08-09T18:38:49.552Z"
   },
   {
    "duration": 59,
    "start_time": "2021-08-09T18:38:58.449Z"
   },
   {
    "duration": 15,
    "start_time": "2021-08-09T18:39:26.622Z"
   },
   {
    "duration": 14,
    "start_time": "2021-08-09T18:39:47.525Z"
   },
   {
    "duration": 7,
    "start_time": "2021-08-09T18:51:13.276Z"
   },
   {
    "duration": 85,
    "start_time": "2021-08-09T18:51:17.192Z"
   },
   {
    "duration": 428,
    "start_time": "2021-08-09T19:17:01.737Z"
   },
   {
    "duration": 603,
    "start_time": "2021-08-09T19:17:11.219Z"
   },
   {
    "duration": 383,
    "start_time": "2021-08-09T19:17:55.215Z"
   },
   {
    "duration": 634,
    "start_time": "2021-08-09T19:19:19.025Z"
   },
   {
    "duration": 6,
    "start_time": "2021-08-09T19:24:30.485Z"
   },
   {
    "duration": 356,
    "start_time": "2021-08-09T19:24:33.111Z"
   },
   {
    "duration": 304,
    "start_time": "2021-08-09T19:25:21.272Z"
   },
   {
    "duration": 626,
    "start_time": "2021-08-09T19:25:28.346Z"
   },
   {
    "duration": 574,
    "start_time": "2021-08-09T19:25:50.542Z"
   },
   {
    "duration": 25289,
    "start_time": "2021-08-09T19:26:42.196Z"
   },
   {
    "duration": 326,
    "start_time": "2021-08-09T19:34:18.370Z"
   },
   {
    "duration": 314,
    "start_time": "2021-08-09T19:34:46.142Z"
   },
   {
    "duration": 710,
    "start_time": "2021-08-09T19:36:13.537Z"
   },
   {
    "duration": 686,
    "start_time": "2021-08-09T19:36:43.505Z"
   },
   {
    "duration": 762,
    "start_time": "2021-08-09T19:39:19.115Z"
   },
   {
    "duration": 714,
    "start_time": "2021-08-09T19:39:33.375Z"
   },
   {
    "duration": 833,
    "start_time": "2021-08-09T19:40:28.153Z"
   },
   {
    "duration": 701,
    "start_time": "2021-08-09T19:41:36.798Z"
   },
   {
    "duration": 12,
    "start_time": "2021-08-09T19:43:25.048Z"
   },
   {
    "duration": 11,
    "start_time": "2021-08-09T19:45:32.194Z"
   },
   {
    "duration": 12,
    "start_time": "2021-08-09T19:46:59.269Z"
   },
   {
    "duration": 313,
    "start_time": "2021-08-09T19:51:52.377Z"
   },
   {
    "duration": 544,
    "start_time": "2021-08-09T19:52:27.540Z"
   },
   {
    "duration": 1032,
    "start_time": "2021-08-09T19:52:32.801Z"
   },
   {
    "duration": 850,
    "start_time": "2021-08-09T19:53:23.895Z"
   },
   {
    "duration": 839,
    "start_time": "2021-08-09T19:53:38.565Z"
   },
   {
    "duration": 533,
    "start_time": "2021-08-09T19:53:44.271Z"
   },
   {
    "duration": 634,
    "start_time": "2021-08-09T20:05:00.840Z"
   },
   {
    "duration": 558,
    "start_time": "2021-08-09T20:05:09.740Z"
   },
   {
    "duration": 915,
    "start_time": "2021-08-09T20:05:58.589Z"
   },
   {
    "duration": 717,
    "start_time": "2021-08-09T20:06:04.940Z"
   },
   {
    "duration": 540,
    "start_time": "2021-08-09T20:06:27.717Z"
   },
   {
    "duration": 547,
    "start_time": "2021-08-09T20:06:33.956Z"
   },
   {
    "duration": 3132,
    "start_time": "2021-08-09T20:06:43.024Z"
   },
   {
    "duration": 3176,
    "start_time": "2021-08-09T20:07:15.569Z"
   },
   {
    "duration": 532,
    "start_time": "2021-08-09T20:07:48.786Z"
   },
   {
    "duration": 12,
    "start_time": "2021-08-09T20:08:02.855Z"
   },
   {
    "duration": 775,
    "start_time": "2021-08-09T20:08:07.320Z"
   },
   {
    "duration": 8524,
    "start_time": "2021-08-09T20:09:05.062Z"
   },
   {
    "duration": 464,
    "start_time": "2021-08-09T20:09:43.448Z"
   },
   {
    "duration": 560,
    "start_time": "2021-08-09T20:09:49.818Z"
   },
   {
    "duration": 912,
    "start_time": "2021-08-09T20:10:05.392Z"
   },
   {
    "duration": 1092,
    "start_time": "2021-08-09T20:10:09.467Z"
   },
   {
    "duration": 1062,
    "start_time": "2021-08-09T20:10:12.572Z"
   },
   {
    "duration": 1061,
    "start_time": "2021-08-09T20:10:21.798Z"
   },
   {
    "duration": 4185,
    "start_time": "2021-08-09T20:23:46.959Z"
   },
   {
    "duration": 1701,
    "start_time": "2021-08-09T20:28:33.728Z"
   },
   {
    "duration": 1349,
    "start_time": "2021-08-09T20:28:50.623Z"
   },
   {
    "duration": 11,
    "start_time": "2021-08-09T20:46:56.131Z"
   },
   {
    "duration": 5,
    "start_time": "2021-08-09T20:48:52.634Z"
   },
   {
    "duration": 11,
    "start_time": "2021-08-09T20:49:16.955Z"
   },
   {
    "duration": 3282,
    "start_time": "2021-08-09T20:50:16.699Z"
   },
   {
    "duration": 3331,
    "start_time": "2021-08-09T20:52:29.736Z"
   },
   {
    "duration": 3781,
    "start_time": "2021-08-09T20:53:01.752Z"
   },
   {
    "duration": 552,
    "start_time": "2021-08-09T20:54:09.522Z"
   },
   {
    "duration": 303,
    "start_time": "2021-08-09T20:55:18.284Z"
   },
   {
    "duration": 374,
    "start_time": "2021-08-09T20:55:55.820Z"
   },
   {
    "duration": 508,
    "start_time": "2021-08-09T20:56:43.325Z"
   },
   {
    "duration": 616,
    "start_time": "2021-08-09T20:56:46.684Z"
   },
   {
    "duration": 7,
    "start_time": "2021-08-09T21:04:14.091Z"
   },
   {
    "duration": 9,
    "start_time": "2021-08-09T21:04:21.265Z"
   },
   {
    "duration": 10,
    "start_time": "2021-08-09T21:04:39.707Z"
   },
   {
    "duration": 396,
    "start_time": "2021-08-09T21:05:36.240Z"
   },
   {
    "duration": 338,
    "start_time": "2021-08-10T16:13:47.478Z"
   },
   {
    "duration": 1447,
    "start_time": "2021-08-10T16:13:54.612Z"
   },
   {
    "duration": 90,
    "start_time": "2021-08-10T16:13:56.062Z"
   },
   {
    "duration": 58,
    "start_time": "2021-08-10T16:13:56.155Z"
   },
   {
    "duration": 11,
    "start_time": "2021-08-10T16:13:56.216Z"
   },
   {
    "duration": 14,
    "start_time": "2021-08-10T16:13:56.230Z"
   },
   {
    "duration": 7,
    "start_time": "2021-08-10T16:13:56.247Z"
   },
   {
    "duration": 48,
    "start_time": "2021-08-10T16:13:56.257Z"
   },
   {
    "duration": 7,
    "start_time": "2021-08-10T16:13:56.309Z"
   },
   {
    "duration": 12,
    "start_time": "2021-08-10T16:13:56.319Z"
   },
   {
    "duration": 5,
    "start_time": "2021-08-10T16:13:56.334Z"
   },
   {
    "duration": 9,
    "start_time": "2021-08-10T16:13:56.341Z"
   },
   {
    "duration": 52,
    "start_time": "2021-08-10T16:13:56.353Z"
   },
   {
    "duration": 6,
    "start_time": "2021-08-10T16:13:56.407Z"
   },
   {
    "duration": 7,
    "start_time": "2021-08-10T16:13:56.415Z"
   },
   {
    "duration": 11,
    "start_time": "2021-08-10T16:13:56.424Z"
   },
   {
    "duration": 9,
    "start_time": "2021-08-10T16:13:56.438Z"
   },
   {
    "duration": 9,
    "start_time": "2021-08-10T16:13:56.449Z"
   },
   {
    "duration": 6,
    "start_time": "2021-08-10T16:13:56.502Z"
   },
   {
    "duration": 12,
    "start_time": "2021-08-10T16:13:56.510Z"
   },
   {
    "duration": 12,
    "start_time": "2021-08-10T16:13:56.524Z"
   },
   {
    "duration": 12,
    "start_time": "2021-08-10T16:13:56.539Z"
   },
   {
    "duration": 9,
    "start_time": "2021-08-10T16:13:56.553Z"
   },
   {
    "duration": 35,
    "start_time": "2021-08-10T16:13:56.569Z"
   },
   {
    "duration": 6,
    "start_time": "2021-08-10T16:13:56.609Z"
   },
   {
    "duration": 10,
    "start_time": "2021-08-10T16:13:56.618Z"
   },
   {
    "duration": 14,
    "start_time": "2021-08-10T16:13:56.630Z"
   },
   {
    "duration": 13,
    "start_time": "2021-08-10T16:13:56.646Z"
   },
   {
    "duration": 9,
    "start_time": "2021-08-10T16:13:56.701Z"
   },
   {
    "duration": 8,
    "start_time": "2021-08-10T16:13:56.713Z"
   },
   {
    "duration": 8,
    "start_time": "2021-08-10T16:13:56.724Z"
   },
   {
    "duration": 16,
    "start_time": "2021-08-10T16:13:56.734Z"
   },
   {
    "duration": 52,
    "start_time": "2021-08-10T16:13:56.753Z"
   },
   {
    "duration": 6,
    "start_time": "2021-08-10T16:13:56.808Z"
   },
   {
    "duration": 14,
    "start_time": "2021-08-10T16:13:56.817Z"
   },
   {
    "duration": 11,
    "start_time": "2021-08-10T16:13:56.834Z"
   },
   {
    "duration": 60,
    "start_time": "2021-08-10T16:13:56.848Z"
   },
   {
    "duration": 7,
    "start_time": "2021-08-10T16:13:56.911Z"
   },
   {
    "duration": 164,
    "start_time": "2021-08-10T16:13:56.921Z"
   },
   {
    "duration": 15,
    "start_time": "2021-08-10T16:13:57.088Z"
   },
   {
    "duration": 166,
    "start_time": "2021-08-10T16:13:57.105Z"
   },
   {
    "duration": 6,
    "start_time": "2021-08-10T16:13:57.273Z"
   },
   {
    "duration": 24,
    "start_time": "2021-08-10T16:13:57.281Z"
   },
   {
    "duration": 6,
    "start_time": "2021-08-10T16:13:57.307Z"
   },
   {
    "duration": 14,
    "start_time": "2021-08-10T16:13:57.315Z"
   },
   {
    "duration": 10,
    "start_time": "2021-08-10T16:13:57.332Z"
   },
   {
    "duration": 10,
    "start_time": "2021-08-10T16:13:57.345Z"
   },
   {
    "duration": 46,
    "start_time": "2021-08-10T16:13:57.357Z"
   },
   {
    "duration": 15,
    "start_time": "2021-08-10T16:13:57.405Z"
   },
   {
    "duration": 7,
    "start_time": "2021-08-10T16:13:57.422Z"
   },
   {
    "duration": 108,
    "start_time": "2021-08-10T16:13:57.432Z"
   },
   {
    "duration": 84,
    "start_time": "2021-08-10T16:13:57.543Z"
   },
   {
    "duration": 123,
    "start_time": "2021-08-10T16:13:57.630Z"
   },
   {
    "duration": 14,
    "start_time": "2021-08-10T16:13:57.755Z"
   },
   {
    "duration": 6,
    "start_time": "2021-08-10T16:13:57.771Z"
   },
   {
    "duration": 29,
    "start_time": "2021-08-10T16:13:57.779Z"
   },
   {
    "duration": 628,
    "start_time": "2021-08-10T16:13:57.810Z"
   },
   {
    "duration": 11,
    "start_time": "2021-08-10T16:13:58.440Z"
   },
   {
    "duration": 605,
    "start_time": "2021-08-10T16:13:58.453Z"
   },
   {
    "duration": 12,
    "start_time": "2021-08-10T16:13:59.060Z"
   },
   {
    "duration": 3144,
    "start_time": "2021-08-10T16:13:59.075Z"
   },
   {
    "duration": 12,
    "start_time": "2021-08-10T16:14:02.221Z"
   },
   {
    "duration": 667,
    "start_time": "2021-08-10T16:14:02.236Z"
   },
   {
    "duration": 1630,
    "start_time": "2021-08-10T16:14:13.999Z"
   },
   {
    "duration": 552,
    "start_time": "2021-08-10T16:14:21.996Z"
   },
   {
    "duration": 402,
    "start_time": "2021-08-10T16:14:28.555Z"
   },
   {
    "duration": 421,
    "start_time": "2021-08-10T16:14:35.132Z"
   },
   {
    "duration": 530,
    "start_time": "2021-08-10T16:17:56.629Z"
   },
   {
    "duration": 281,
    "start_time": "2021-08-10T16:19:08.535Z"
   },
   {
    "duration": 422,
    "start_time": "2021-08-10T16:19:19.560Z"
   },
   {
    "duration": 538,
    "start_time": "2021-08-10T16:30:15.393Z"
   },
   {
    "duration": 118,
    "start_time": "2021-08-10T19:05:16.678Z"
   },
   {
    "duration": 79,
    "start_time": "2021-08-10T19:05:42.708Z"
   },
   {
    "duration": 117,
    "start_time": "2021-08-10T19:05:54.549Z"
   },
   {
    "duration": 86,
    "start_time": "2021-08-10T19:07:33.669Z"
   },
   {
    "duration": 116,
    "start_time": "2021-08-10T19:07:40.079Z"
   },
   {
    "duration": 99,
    "start_time": "2021-08-10T19:08:45.430Z"
   },
   {
    "duration": 88,
    "start_time": "2021-08-10T19:08:50.689Z"
   },
   {
    "duration": 156,
    "start_time": "2021-08-10T19:08:57.165Z"
   },
   {
    "duration": 123,
    "start_time": "2021-08-10T19:09:01.958Z"
   },
   {
    "duration": 206,
    "start_time": "2021-08-10T19:13:20.833Z"
   },
   {
    "duration": 167,
    "start_time": "2021-08-10T19:13:33.891Z"
   },
   {
    "duration": 483,
    "start_time": "2021-08-10T19:13:46.522Z"
   },
   {
    "duration": 184,
    "start_time": "2021-08-10T19:13:50.650Z"
   },
   {
    "duration": 126,
    "start_time": "2021-08-10T19:15:31.321Z"
   },
   {
    "duration": 235,
    "start_time": "2021-08-10T19:15:34.668Z"
   },
   {
    "duration": 189,
    "start_time": "2021-08-10T19:16:47.672Z"
   },
   {
    "duration": 289,
    "start_time": "2021-08-10T19:32:20.194Z"
   },
   {
    "duration": 80,
    "start_time": "2021-08-10T19:32:30.533Z"
   },
   {
    "duration": 87,
    "start_time": "2021-08-10T19:32:44.690Z"
   },
   {
    "duration": 304,
    "start_time": "2021-08-10T20:17:57.409Z"
   },
   {
    "duration": 278,
    "start_time": "2021-08-10T20:18:33.426Z"
   },
   {
    "duration": 118,
    "start_time": "2021-08-10T20:18:36.291Z"
   },
   {
    "duration": 106,
    "start_time": "2021-08-10T20:19:13.422Z"
   },
   {
    "duration": 260,
    "start_time": "2021-08-10T20:19:26.172Z"
   },
   {
    "duration": 282,
    "start_time": "2021-08-10T20:19:49.987Z"
   },
   {
    "duration": 358,
    "start_time": "2021-08-10T20:19:53.834Z"
   },
   {
    "duration": 9,
    "start_time": "2021-08-10T20:20:58.184Z"
   },
   {
    "duration": -407,
    "start_time": "2021-08-10T20:21:57.931Z"
   },
   {
    "duration": 263,
    "start_time": "2021-08-10T20:22:03.879Z"
   },
   {
    "duration": 4079,
    "start_time": "2021-08-10T20:22:16.213Z"
   },
   {
    "duration": 7250,
    "start_time": "2021-08-10T20:22:21.497Z"
   },
   {
    "duration": 8,
    "start_time": "2021-08-10T20:22:44.445Z"
   },
   {
    "duration": 339,
    "start_time": "2021-08-10T20:22:54.346Z"
   },
   {
    "duration": 673,
    "start_time": "2021-08-10T20:25:22.644Z"
   },
   {
    "duration": 994,
    "start_time": "2021-08-10T20:26:01.590Z"
   },
   {
    "duration": -431,
    "start_time": "2021-08-10T20:27:18.487Z"
   },
   {
    "duration": 303,
    "start_time": "2021-08-10T20:27:44.277Z"
   },
   {
    "duration": 272,
    "start_time": "2021-08-10T20:28:00.654Z"
   },
   {
    "duration": 258,
    "start_time": "2021-08-10T20:28:08.287Z"
   },
   {
    "duration": 484,
    "start_time": "2021-08-10T20:28:13.771Z"
   },
   {
    "duration": 115,
    "start_time": "2021-08-10T20:28:48.730Z"
   },
   {
    "duration": 746,
    "start_time": "2021-08-10T20:28:54.955Z"
   },
   {
    "duration": 578,
    "start_time": "2021-08-10T20:29:10.612Z"
   },
   {
    "duration": 695,
    "start_time": "2021-08-10T20:29:16.532Z"
   },
   {
    "duration": 661,
    "start_time": "2021-08-10T20:29:25.255Z"
   },
   {
    "duration": 1516,
    "start_time": "2021-08-10T20:29:41.266Z"
   },
   {
    "duration": 87,
    "start_time": "2021-08-10T20:31:07.582Z"
   },
   {
    "duration": 546,
    "start_time": "2021-08-10T20:31:12.703Z"
   },
   {
    "duration": 106,
    "start_time": "2021-08-10T20:31:43.439Z"
   },
   {
    "duration": 572,
    "start_time": "2021-08-10T20:31:48.217Z"
   },
   {
    "duration": 223,
    "start_time": "2021-08-10T20:32:04.862Z"
   },
   {
    "duration": 294,
    "start_time": "2021-08-10T20:32:28.700Z"
   },
   {
    "duration": 11,
    "start_time": "2021-08-10T20:33:17.265Z"
   },
   {
    "duration": 329,
    "start_time": "2021-08-10T20:33:26.098Z"
   },
   {
    "duration": 554,
    "start_time": "2021-08-10T20:33:36.228Z"
   },
   {
    "duration": 499,
    "start_time": "2021-08-10T20:33:44.049Z"
   },
   {
    "duration": 227,
    "start_time": "2021-08-10T20:34:43.479Z"
   },
   {
    "duration": 550,
    "start_time": "2021-08-10T20:34:56.907Z"
   },
   {
    "duration": 332,
    "start_time": "2021-08-10T20:35:50.759Z"
   },
   {
    "duration": 263,
    "start_time": "2021-08-10T20:36:03.383Z"
   },
   {
    "duration": 615,
    "start_time": "2021-08-10T20:43:04.085Z"
   },
   {
    "duration": 277,
    "start_time": "2021-08-10T20:43:24.235Z"
   },
   {
    "duration": 732,
    "start_time": "2021-08-10T20:43:35.351Z"
   },
   {
    "duration": 617,
    "start_time": "2021-08-10T20:44:00.615Z"
   },
   {
    "duration": 356,
    "start_time": "2021-08-10T20:44:14.732Z"
   },
   {
    "duration": 353,
    "start_time": "2021-08-10T20:44:58.280Z"
   },
   {
    "duration": 348,
    "start_time": "2021-08-10T20:45:20.380Z"
   },
   {
    "duration": 277,
    "start_time": "2021-08-10T20:46:57.938Z"
   },
   {
    "duration": 293,
    "start_time": "2021-08-10T20:47:14.049Z"
   },
   {
    "duration": 284,
    "start_time": "2021-08-10T20:47:41.404Z"
   },
   {
    "duration": 296,
    "start_time": "2021-08-10T20:47:56.855Z"
   },
   {
    "duration": 272,
    "start_time": "2021-08-10T20:48:01.144Z"
   },
   {
    "duration": 120,
    "start_time": "2021-08-10T20:50:18.065Z"
   },
   {
    "duration": 266,
    "start_time": "2021-08-10T20:50:22.330Z"
   },
   {
    "duration": 353,
    "start_time": "2021-08-10T20:50:35.607Z"
   },
   {
    "duration": 307,
    "start_time": "2021-08-10T20:50:38.151Z"
   },
   {
    "duration": 298,
    "start_time": "2021-08-10T20:50:48.773Z"
   },
   {
    "duration": 293,
    "start_time": "2021-08-10T20:50:53.124Z"
   },
   {
    "duration": 360,
    "start_time": "2021-08-10T20:50:58.769Z"
   },
   {
    "duration": 257,
    "start_time": "2021-08-10T20:51:03.954Z"
   },
   {
    "duration": 288,
    "start_time": "2021-08-10T20:52:48.652Z"
   },
   {
    "duration": 44,
    "start_time": "2021-08-10T20:53:02.197Z"
   },
   {
    "duration": 13,
    "start_time": "2021-08-10T20:53:36.258Z"
   },
   {
    "duration": 11,
    "start_time": "2021-08-10T20:53:46.648Z"
   },
   {
    "duration": 12,
    "start_time": "2021-08-10T20:53:50.401Z"
   },
   {
    "duration": 12,
    "start_time": "2021-08-10T20:54:02.404Z"
   },
   {
    "duration": 11,
    "start_time": "2021-08-10T20:54:43.006Z"
   },
   {
    "duration": 35,
    "start_time": "2021-08-10T20:56:59.565Z"
   },
   {
    "duration": 29,
    "start_time": "2021-08-10T20:57:21.957Z"
   },
   {
    "duration": 27,
    "start_time": "2021-08-10T20:57:39.276Z"
   },
   {
    "duration": 34,
    "start_time": "2021-08-10T20:58:25.073Z"
   },
   {
    "duration": 35,
    "start_time": "2021-08-10T20:58:28.879Z"
   },
   {
    "duration": 36,
    "start_time": "2021-08-10T20:59:09.370Z"
   },
   {
    "duration": 35,
    "start_time": "2021-08-10T20:59:14.830Z"
   },
   {
    "duration": 284,
    "start_time": "2021-08-10T21:02:44.408Z"
   },
   {
    "duration": 38,
    "start_time": "2021-08-10T21:02:47.107Z"
   },
   {
    "duration": 304,
    "start_time": "2021-08-10T21:06:17.258Z"
   },
   {
    "duration": 11,
    "start_time": "2021-08-10T21:06:36.863Z"
   },
   {
    "duration": 13,
    "start_time": "2021-08-10T21:07:07.465Z"
   },
   {
    "duration": 69,
    "start_time": "2021-08-10T21:07:18.302Z"
   },
   {
    "duration": 11,
    "start_time": "2021-08-10T21:07:24.050Z"
   },
   {
    "duration": 267,
    "start_time": "2021-08-10T21:08:48.331Z"
   },
   {
    "duration": 316,
    "start_time": "2021-08-10T21:08:57.322Z"
   },
   {
    "duration": 521,
    "start_time": "2021-08-10T21:10:18.819Z"
   },
   {
    "duration": 525,
    "start_time": "2021-08-10T21:10:28.800Z"
   },
   {
    "duration": 327,
    "start_time": "2021-08-10T21:10:35.073Z"
   },
   {
    "duration": 349,
    "start_time": "2021-08-10T21:12:06.241Z"
   },
   {
    "duration": 656,
    "start_time": "2021-08-10T21:13:29.487Z"
   },
   {
    "duration": 632,
    "start_time": "2021-08-10T21:14:12.685Z"
   },
   {
    "duration": 827,
    "start_time": "2021-08-10T21:14:40.581Z"
   },
   {
    "duration": 667,
    "start_time": "2021-08-10T21:15:00.598Z"
   },
   {
    "duration": 840,
    "start_time": "2021-08-10T21:15:11.041Z"
   },
   {
    "duration": 14,
    "start_time": "2021-08-10T21:17:30.529Z"
   },
   {
    "duration": 22,
    "start_time": "2021-08-10T21:17:48.133Z"
   },
   {
    "duration": 1279,
    "start_time": "2021-08-10T21:18:00.010Z"
   },
   {
    "duration": 1198,
    "start_time": "2021-08-10T21:18:16.660Z"
   },
   {
    "duration": 14,
    "start_time": "2021-08-10T21:19:39.072Z"
   },
   {
    "duration": 74,
    "start_time": "2021-08-10T21:20:05.705Z"
   },
   {
    "duration": 20,
    "start_time": "2021-08-10T21:20:16.596Z"
   },
   {
    "duration": 16,
    "start_time": "2021-08-10T21:20:22.369Z"
   },
   {
    "duration": 13,
    "start_time": "2021-08-10T21:21:05.470Z"
   },
   {
    "duration": 69,
    "start_time": "2021-08-10T21:21:14.520Z"
   },
   {
    "duration": 12,
    "start_time": "2021-08-10T21:21:25.165Z"
   },
   {
    "duration": 18,
    "start_time": "2021-08-10T21:21:45.312Z"
   },
   {
    "duration": 77,
    "start_time": "2021-08-10T21:21:50.011Z"
   },
   {
    "duration": 75,
    "start_time": "2021-08-10T21:21:58.935Z"
   },
   {
    "duration": 14,
    "start_time": "2021-08-10T21:22:09.224Z"
   },
   {
    "duration": 290,
    "start_time": "2021-08-10T21:24:14.088Z"
   },
   {
    "duration": 13,
    "start_time": "2021-08-10T21:24:45.818Z"
   },
   {
    "duration": 272,
    "start_time": "2021-08-10T21:25:05.224Z"
   },
   {
    "duration": 45,
    "start_time": "2021-08-10T21:25:19.695Z"
   },
   {
    "duration": 81,
    "start_time": "2021-08-10T21:25:32.477Z"
   },
   {
    "duration": 13,
    "start_time": "2021-08-10T21:25:39.169Z"
   },
   {
    "duration": 37,
    "start_time": "2021-08-10T21:26:56.813Z"
   },
   {
    "duration": 319,
    "start_time": "2021-08-10T21:27:05.189Z"
   },
   {
    "duration": 288,
    "start_time": "2021-08-10T21:27:20.538Z"
   },
   {
    "duration": 372,
    "start_time": "2021-08-10T21:27:36.789Z"
   },
   {
    "duration": 38,
    "start_time": "2021-08-10T21:27:43.233Z"
   },
   {
    "duration": 1011,
    "start_time": "2021-08-10T21:28:11.352Z"
   },
   {
    "duration": 533,
    "start_time": "2021-08-10T21:28:49.113Z"
   },
   {
    "duration": 460,
    "start_time": "2021-08-10T21:28:52.991Z"
   },
   {
    "duration": 74,
    "start_time": "2021-08-10T21:29:19.850Z"
   },
   {
    "duration": 78,
    "start_time": "2021-08-10T21:29:35.348Z"
   },
   {
    "duration": 414,
    "start_time": "2021-08-10T21:29:43.903Z"
   },
   {
    "duration": 443,
    "start_time": "2021-08-10T21:29:48.949Z"
   },
   {
    "duration": 309,
    "start_time": "2021-08-10T21:29:57.819Z"
   },
   {
    "duration": 341,
    "start_time": "2021-08-10T21:30:44.090Z"
   },
   {
    "duration": 88,
    "start_time": "2021-08-10T21:33:57.654Z"
   },
   {
    "duration": 24,
    "start_time": "2021-08-10T21:34:20.427Z"
   },
   {
    "duration": 299,
    "start_time": "2021-08-10T21:34:31.336Z"
   },
   {
    "duration": 23,
    "start_time": "2021-08-10T21:34:42.844Z"
   },
   {
    "duration": 304,
    "start_time": "2021-08-10T21:34:59.819Z"
   },
   {
    "duration": 22,
    "start_time": "2021-08-10T21:35:06.378Z"
   },
   {
    "duration": 24,
    "start_time": "2021-08-10T21:35:19.795Z"
   },
   {
    "duration": 262,
    "start_time": "2021-08-10T21:35:27.628Z"
   },
   {
    "duration": 292,
    "start_time": "2021-08-10T21:35:45.174Z"
   },
   {
    "duration": 536,
    "start_time": "2021-08-10T21:38:43.831Z"
   },
   {
    "duration": 567,
    "start_time": "2021-08-10T21:38:50.292Z"
   },
   {
    "duration": 537,
    "start_time": "2021-08-10T21:46:17.757Z"
   },
   {
    "duration": 265,
    "start_time": "2021-08-10T21:46:29.197Z"
   },
   {
    "duration": 541,
    "start_time": "2021-08-10T21:46:41.629Z"
   },
   {
    "duration": 289,
    "start_time": "2021-08-10T21:48:14.060Z"
   },
   {
    "duration": 65,
    "start_time": "2021-08-10T21:52:50.105Z"
   },
   {
    "duration": 30,
    "start_time": "2021-08-10T21:54:16.339Z"
   },
   {
    "duration": 33,
    "start_time": "2021-08-10T21:54:24.763Z"
   },
   {
    "duration": 12,
    "start_time": "2021-08-10T21:55:29.575Z"
   },
   {
    "duration": 571,
    "start_time": "2021-08-10T21:55:33.844Z"
   },
   {
    "duration": 553,
    "start_time": "2021-08-10T21:55:58.208Z"
   },
   {
    "duration": 554,
    "start_time": "2021-08-10T21:56:12.112Z"
   },
   {
    "duration": 567,
    "start_time": "2021-08-10T21:56:43.745Z"
   },
   {
    "duration": 274,
    "start_time": "2021-08-10T22:00:26.098Z"
   },
   {
    "duration": 4599,
    "start_time": "2021-08-10T22:00:42.849Z"
   },
   {
    "duration": 11,
    "start_time": "2021-08-10T22:00:58.178Z"
   },
   {
    "duration": 11,
    "start_time": "2021-08-10T22:01:13.512Z"
   },
   {
    "duration": 96,
    "start_time": "2021-08-10T22:18:18.142Z"
   },
   {
    "duration": 824,
    "start_time": "2021-08-10T22:18:25.521Z"
   },
   {
    "duration": 100,
    "start_time": "2021-08-10T22:18:26.348Z"
   },
   {
    "duration": 56,
    "start_time": "2021-08-10T22:18:26.452Z"
   },
   {
    "duration": 12,
    "start_time": "2021-08-10T22:18:26.510Z"
   },
   {
    "duration": 12,
    "start_time": "2021-08-10T22:18:26.525Z"
   },
   {
    "duration": 7,
    "start_time": "2021-08-10T22:18:26.540Z"
   },
   {
    "duration": 50,
    "start_time": "2021-08-10T22:18:26.550Z"
   },
   {
    "duration": 7,
    "start_time": "2021-08-10T22:18:26.604Z"
   },
   {
    "duration": 12,
    "start_time": "2021-08-10T22:18:26.614Z"
   },
   {
    "duration": 6,
    "start_time": "2021-08-10T22:18:26.628Z"
   },
   {
    "duration": 8,
    "start_time": "2021-08-10T22:18:26.636Z"
   },
   {
    "duration": 15,
    "start_time": "2021-08-10T22:18:26.647Z"
   },
   {
    "duration": 6,
    "start_time": "2021-08-10T22:18:26.701Z"
   },
   {
    "duration": 18,
    "start_time": "2021-08-10T22:18:26.709Z"
   },
   {
    "duration": 9,
    "start_time": "2021-08-10T22:18:26.730Z"
   },
   {
    "duration": 14,
    "start_time": "2021-08-10T22:18:26.741Z"
   },
   {
    "duration": 15,
    "start_time": "2021-08-10T22:18:26.757Z"
   },
   {
    "duration": 27,
    "start_time": "2021-08-10T22:18:26.774Z"
   },
   {
    "duration": 10,
    "start_time": "2021-08-10T22:18:26.804Z"
   },
   {
    "duration": 6,
    "start_time": "2021-08-10T22:18:26.817Z"
   },
   {
    "duration": 11,
    "start_time": "2021-08-10T22:18:26.825Z"
   },
   {
    "duration": 13,
    "start_time": "2021-08-10T22:18:26.839Z"
   },
   {
    "duration": 5,
    "start_time": "2021-08-10T22:18:26.858Z"
   },
   {
    "duration": 38,
    "start_time": "2021-08-10T22:18:26.867Z"
   },
   {
    "duration": 9,
    "start_time": "2021-08-10T22:18:26.907Z"
   },
   {
    "duration": 15,
    "start_time": "2021-08-10T22:18:26.918Z"
   },
   {
    "duration": 9,
    "start_time": "2021-08-10T22:18:26.935Z"
   },
   {
    "duration": 9,
    "start_time": "2021-08-10T22:18:26.947Z"
   },
   {
    "duration": 45,
    "start_time": "2021-08-10T22:18:26.959Z"
   },
   {
    "duration": 12,
    "start_time": "2021-08-10T22:18:27.006Z"
   },
   {
    "duration": 7,
    "start_time": "2021-08-10T22:18:27.020Z"
   },
   {
    "duration": 10,
    "start_time": "2021-08-10T22:18:27.029Z"
   },
   {
    "duration": 6,
    "start_time": "2021-08-10T22:18:27.041Z"
   },
   {
    "duration": 54,
    "start_time": "2021-08-10T22:18:27.050Z"
   },
   {
    "duration": 11,
    "start_time": "2021-08-10T22:18:27.106Z"
   },
   {
    "duration": 15,
    "start_time": "2021-08-10T22:18:27.120Z"
   },
   {
    "duration": 8,
    "start_time": "2021-08-10T22:18:27.138Z"
   },
   {
    "duration": 186,
    "start_time": "2021-08-10T22:18:27.148Z"
   },
   {
    "duration": 6,
    "start_time": "2021-08-10T22:18:27.336Z"
   },
   {
    "duration": 159,
    "start_time": "2021-08-10T22:18:27.344Z"
   },
   {
    "duration": 6,
    "start_time": "2021-08-10T22:18:27.505Z"
   },
   {
    "duration": 13,
    "start_time": "2021-08-10T22:18:27.513Z"
   },
   {
    "duration": 4,
    "start_time": "2021-08-10T22:18:27.528Z"
   },
   {
    "duration": 15,
    "start_time": "2021-08-10T22:18:27.534Z"
   },
   {
    "duration": 7,
    "start_time": "2021-08-10T22:18:27.551Z"
   },
   {
    "duration": 44,
    "start_time": "2021-08-10T22:18:27.561Z"
   },
   {
    "duration": 11,
    "start_time": "2021-08-10T22:18:27.607Z"
   },
   {
    "duration": 19,
    "start_time": "2021-08-10T22:18:27.620Z"
   },
   {
    "duration": 6,
    "start_time": "2021-08-10T22:18:27.641Z"
   },
   {
    "duration": 106,
    "start_time": "2021-08-10T22:18:27.650Z"
   },
   {
    "duration": 84,
    "start_time": "2021-08-10T22:18:27.758Z"
   },
   {
    "duration": 124,
    "start_time": "2021-08-10T22:18:27.844Z"
   },
   {
    "duration": 15,
    "start_time": "2021-08-10T22:18:27.970Z"
   },
   {
    "duration": 7,
    "start_time": "2021-08-10T22:18:28.001Z"
   },
   {
    "duration": 20,
    "start_time": "2021-08-10T22:18:28.010Z"
   },
   {
    "duration": 683,
    "start_time": "2021-08-10T22:18:28.033Z"
   },
   {
    "duration": 735,
    "start_time": "2021-08-10T22:18:28.719Z"
   },
   {
    "duration": 13,
    "start_time": "2021-08-10T22:18:29.457Z"
   },
   {
    "duration": 649,
    "start_time": "2021-08-10T22:18:29.473Z"
   },
   {
    "duration": 12,
    "start_time": "2021-08-10T22:18:30.125Z"
   },
   {
    "duration": 333,
    "start_time": "2021-08-10T22:18:30.140Z"
   },
   {
    "duration": 25,
    "start_time": "2021-08-10T22:18:30.476Z"
   },
   {
    "duration": 409,
    "start_time": "2021-08-10T22:18:30.504Z"
   },
   {
    "duration": 88,
    "start_time": "2021-08-10T22:18:30.916Z"
   },
   {
    "duration": 939,
    "start_time": "2021-08-10T22:18:31.006Z"
   },
   {
    "duration": 312,
    "start_time": "2021-08-10T22:18:31.947Z"
   },
   {
    "duration": 274,
    "start_time": "2021-08-10T22:18:32.262Z"
   },
   {
    "duration": 34,
    "start_time": "2021-08-10T22:18:32.542Z"
   },
   {
    "duration": 302,
    "start_time": "2021-08-10T22:18:32.579Z"
   },
   {
    "duration": 41,
    "start_time": "2021-08-10T22:18:32.883Z"
   },
   {
    "duration": 12,
    "start_time": "2021-08-10T22:18:32.927Z"
   },
   {
    "duration": 6,
    "start_time": "2021-08-10T22:20:35.468Z"
   },
   {
    "duration": 6,
    "start_time": "2021-08-10T22:22:32.150Z"
   },
   {
    "duration": 11,
    "start_time": "2021-08-10T22:25:19.202Z"
   },
   {
    "duration": 6,
    "start_time": "2021-08-10T22:25:24.312Z"
   },
   {
    "duration": 74,
    "start_time": "2021-08-10T22:25:33.396Z"
   },
   {
    "duration": 450,
    "start_time": "2021-08-10T22:27:37.161Z"
   },
   {
    "duration": 324,
    "start_time": "2021-08-10T22:29:01.357Z"
   },
   {
    "duration": 330,
    "start_time": "2021-08-10T22:29:06.505Z"
   },
   {
    "duration": 1016,
    "start_time": "2021-08-10T22:29:29.070Z"
   },
   {
    "duration": 888,
    "start_time": "2021-08-11T05:48:26.074Z"
   },
   {
    "duration": 110,
    "start_time": "2021-08-11T05:48:26.964Z"
   },
   {
    "duration": 83,
    "start_time": "2021-08-11T05:48:27.077Z"
   },
   {
    "duration": 16,
    "start_time": "2021-08-11T05:48:27.163Z"
   },
   {
    "duration": 20,
    "start_time": "2021-08-11T05:48:27.182Z"
   },
   {
    "duration": 9,
    "start_time": "2021-08-11T05:48:27.205Z"
   },
   {
    "duration": 41,
    "start_time": "2021-08-11T05:48:27.217Z"
   },
   {
    "duration": 8,
    "start_time": "2021-08-11T05:48:27.260Z"
   },
   {
    "duration": 15,
    "start_time": "2021-08-11T05:48:27.274Z"
   },
   {
    "duration": 5,
    "start_time": "2021-08-11T05:48:27.293Z"
   },
   {
    "duration": 58,
    "start_time": "2021-08-11T05:48:27.301Z"
   },
   {
    "duration": 15,
    "start_time": "2021-08-11T05:48:27.362Z"
   },
   {
    "duration": 13,
    "start_time": "2021-08-11T05:48:27.380Z"
   },
   {
    "duration": 6,
    "start_time": "2021-08-11T05:48:27.396Z"
   },
   {
    "duration": 53,
    "start_time": "2021-08-11T05:48:27.405Z"
   },
   {
    "duration": 9,
    "start_time": "2021-08-11T05:48:27.460Z"
   },
   {
    "duration": 14,
    "start_time": "2021-08-11T05:48:27.473Z"
   },
   {
    "duration": 7,
    "start_time": "2021-08-11T05:48:27.491Z"
   },
   {
    "duration": 7,
    "start_time": "2021-08-11T05:48:27.500Z"
   },
   {
    "duration": 51,
    "start_time": "2021-08-11T05:48:27.510Z"
   },
   {
    "duration": 7,
    "start_time": "2021-08-11T05:48:27.564Z"
   },
   {
    "duration": 7,
    "start_time": "2021-08-11T05:48:27.574Z"
   },
   {
    "duration": 9,
    "start_time": "2021-08-11T05:48:27.583Z"
   },
   {
    "duration": 13,
    "start_time": "2021-08-11T05:48:27.594Z"
   },
   {
    "duration": 6,
    "start_time": "2021-08-11T05:48:27.656Z"
   },
   {
    "duration": 16,
    "start_time": "2021-08-11T05:48:27.665Z"
   },
   {
    "duration": 9,
    "start_time": "2021-08-11T05:48:27.688Z"
   },
   {
    "duration": 7,
    "start_time": "2021-08-11T05:48:27.701Z"
   },
   {
    "duration": 47,
    "start_time": "2021-08-11T05:48:27.711Z"
   },
   {
    "duration": 6,
    "start_time": "2021-08-11T05:48:27.761Z"
   },
   {
    "duration": 7,
    "start_time": "2021-08-11T05:48:27.769Z"
   },
   {
    "duration": 11,
    "start_time": "2021-08-11T05:48:27.778Z"
   },
   {
    "duration": 5,
    "start_time": "2021-08-11T05:48:27.792Z"
   },
   {
    "duration": 12,
    "start_time": "2021-08-11T05:48:27.800Z"
   },
   {
    "duration": 49,
    "start_time": "2021-08-11T05:48:27.815Z"
   },
   {
    "duration": 15,
    "start_time": "2021-08-11T05:48:27.866Z"
   },
   {
    "duration": 16,
    "start_time": "2021-08-11T05:48:27.883Z"
   },
   {
    "duration": 164,
    "start_time": "2021-08-11T05:48:27.901Z"
   },
   {
    "duration": 7,
    "start_time": "2021-08-11T05:48:28.067Z"
   },
   {
    "duration": 157,
    "start_time": "2021-08-11T05:48:28.076Z"
   },
   {
    "duration": 6,
    "start_time": "2021-08-11T05:48:28.236Z"
   },
   {
    "duration": 22,
    "start_time": "2021-08-11T05:48:28.244Z"
   },
   {
    "duration": 5,
    "start_time": "2021-08-11T05:48:28.269Z"
   },
   {
    "duration": 12,
    "start_time": "2021-08-11T05:48:28.276Z"
   },
   {
    "duration": 11,
    "start_time": "2021-08-11T05:48:28.290Z"
   },
   {
    "duration": 14,
    "start_time": "2021-08-11T05:48:28.303Z"
   },
   {
    "duration": 37,
    "start_time": "2021-08-11T05:48:28.320Z"
   },
   {
    "duration": 16,
    "start_time": "2021-08-11T05:48:28.359Z"
   },
   {
    "duration": 7,
    "start_time": "2021-08-11T05:48:28.378Z"
   },
   {
    "duration": 107,
    "start_time": "2021-08-11T05:48:28.388Z"
   },
   {
    "duration": 84,
    "start_time": "2021-08-11T05:48:28.497Z"
   },
   {
    "duration": 129,
    "start_time": "2021-08-11T05:48:28.584Z"
   },
   {
    "duration": 10,
    "start_time": "2021-08-11T05:48:28.715Z"
   },
   {
    "duration": 109,
    "start_time": "2021-08-11T05:48:28.727Z"
   },
   {
    "duration": 20,
    "start_time": "2021-08-11T05:48:28.838Z"
   },
   {
    "duration": 636,
    "start_time": "2021-08-11T05:48:28.860Z"
   },
   {
    "duration": 749,
    "start_time": "2021-08-11T05:48:29.499Z"
   },
   {
    "duration": 11,
    "start_time": "2021-08-11T05:48:30.255Z"
   },
   {
    "duration": 561,
    "start_time": "2021-08-11T05:48:30.269Z"
   },
   {
    "duration": 28,
    "start_time": "2021-08-11T05:48:30.833Z"
   },
   {
    "duration": 319,
    "start_time": "2021-08-11T05:48:30.864Z"
   },
   {
    "duration": 11,
    "start_time": "2021-08-11T05:48:31.185Z"
   },
   {
    "duration": 424,
    "start_time": "2021-08-11T05:48:31.198Z"
   },
   {
    "duration": 87,
    "start_time": "2021-08-11T05:48:31.625Z"
   },
   {
    "duration": 793,
    "start_time": "2021-08-11T05:48:31.714Z"
   },
   {
    "duration": 6855,
    "start_time": "2021-08-11T05:48:25.655Z"
   },
   {
    "duration": 6853,
    "start_time": "2021-08-11T05:48:25.658Z"
   },
   {
    "duration": 6851,
    "start_time": "2021-08-11T05:48:25.662Z"
   },
   {
    "duration": 6849,
    "start_time": "2021-08-11T05:48:25.665Z"
   },
   {
    "duration": 6846,
    "start_time": "2021-08-11T05:48:25.669Z"
   },
   {
    "duration": 6845,
    "start_time": "2021-08-11T05:48:25.672Z"
   },
   {
    "duration": 6843,
    "start_time": "2021-08-11T05:48:25.676Z"
   },
   {
    "duration": 6836,
    "start_time": "2021-08-11T05:48:25.684Z"
   },
   {
    "duration": 836,
    "start_time": "2021-08-11T06:37:08.873Z"
   },
   {
    "duration": 99,
    "start_time": "2021-08-11T06:37:09.712Z"
   },
   {
    "duration": 56,
    "start_time": "2021-08-11T06:37:09.814Z"
   },
   {
    "duration": 18,
    "start_time": "2021-08-11T06:37:09.872Z"
   },
   {
    "duration": 26,
    "start_time": "2021-08-11T06:37:09.893Z"
   },
   {
    "duration": 8,
    "start_time": "2021-08-11T06:37:09.922Z"
   },
   {
    "duration": 25,
    "start_time": "2021-08-11T06:37:09.933Z"
   },
   {
    "duration": 22,
    "start_time": "2021-08-11T06:37:09.960Z"
   },
   {
    "duration": 20,
    "start_time": "2021-08-11T06:37:09.986Z"
   },
   {
    "duration": 7,
    "start_time": "2021-08-11T06:37:10.009Z"
   },
   {
    "duration": 28,
    "start_time": "2021-08-11T06:37:10.018Z"
   },
   {
    "duration": 27,
    "start_time": "2021-08-11T06:37:10.048Z"
   },
   {
    "duration": 5,
    "start_time": "2021-08-11T06:37:10.078Z"
   },
   {
    "duration": 9,
    "start_time": "2021-08-11T06:37:10.085Z"
   },
   {
    "duration": 20,
    "start_time": "2021-08-11T06:37:10.096Z"
   },
   {
    "duration": 17,
    "start_time": "2021-08-11T06:37:10.118Z"
   },
   {
    "duration": 18,
    "start_time": "2021-08-11T06:37:10.138Z"
   },
   {
    "duration": 5,
    "start_time": "2021-08-11T06:37:10.158Z"
   },
   {
    "duration": 15,
    "start_time": "2021-08-11T06:37:10.166Z"
   },
   {
    "duration": 12,
    "start_time": "2021-08-11T06:37:10.183Z"
   },
   {
    "duration": 16,
    "start_time": "2021-08-11T06:37:10.198Z"
   },
   {
    "duration": 16,
    "start_time": "2021-08-11T06:37:10.216Z"
   },
   {
    "duration": 17,
    "start_time": "2021-08-11T06:37:10.234Z"
   },
   {
    "duration": 14,
    "start_time": "2021-08-11T06:37:10.256Z"
   },
   {
    "duration": 14,
    "start_time": "2021-08-11T06:37:10.273Z"
   },
   {
    "duration": 17,
    "start_time": "2021-08-11T06:37:10.290Z"
   },
   {
    "duration": 10,
    "start_time": "2021-08-11T06:37:10.315Z"
   },
   {
    "duration": 30,
    "start_time": "2021-08-11T06:37:10.328Z"
   },
   {
    "duration": 6,
    "start_time": "2021-08-11T06:37:10.360Z"
   },
   {
    "duration": 14,
    "start_time": "2021-08-11T06:37:10.369Z"
   },
   {
    "duration": 15,
    "start_time": "2021-08-11T06:37:10.386Z"
   },
   {
    "duration": 15,
    "start_time": "2021-08-11T06:37:10.404Z"
   },
   {
    "duration": 36,
    "start_time": "2021-08-11T06:37:10.421Z"
   },
   {
    "duration": 14,
    "start_time": "2021-08-11T06:37:10.460Z"
   },
   {
    "duration": 16,
    "start_time": "2021-08-11T06:37:10.477Z"
   },
   {
    "duration": 16,
    "start_time": "2021-08-11T06:37:10.497Z"
   },
   {
    "duration": 44,
    "start_time": "2021-08-11T06:37:10.516Z"
   },
   {
    "duration": 157,
    "start_time": "2021-08-11T06:37:10.563Z"
   },
   {
    "duration": 7,
    "start_time": "2021-08-11T06:37:10.723Z"
   },
   {
    "duration": 166,
    "start_time": "2021-08-11T06:37:10.733Z"
   },
   {
    "duration": 6,
    "start_time": "2021-08-11T06:37:10.901Z"
   },
   {
    "duration": 10,
    "start_time": "2021-08-11T06:37:10.910Z"
   },
   {
    "duration": 4,
    "start_time": "2021-08-11T06:37:10.923Z"
   },
   {
    "duration": 9,
    "start_time": "2021-08-11T06:37:10.955Z"
   },
   {
    "duration": 9,
    "start_time": "2021-08-11T06:37:10.967Z"
   },
   {
    "duration": 9,
    "start_time": "2021-08-11T06:37:10.979Z"
   },
   {
    "duration": 18,
    "start_time": "2021-08-11T06:37:10.990Z"
   },
   {
    "duration": 27,
    "start_time": "2021-08-11T06:37:11.011Z"
   },
   {
    "duration": 7,
    "start_time": "2021-08-11T06:37:11.056Z"
   },
   {
    "duration": 90,
    "start_time": "2021-08-11T06:37:11.066Z"
   },
   {
    "duration": 82,
    "start_time": "2021-08-11T06:37:11.158Z"
   },
   {
    "duration": 126,
    "start_time": "2021-08-11T06:37:11.242Z"
   },
   {
    "duration": 10,
    "start_time": "2021-08-11T06:37:11.371Z"
   },
   {
    "duration": 101,
    "start_time": "2021-08-11T06:37:11.384Z"
   },
   {
    "duration": 11,
    "start_time": "2021-08-11T06:37:11.488Z"
   },
   {
    "duration": 645,
    "start_time": "2021-08-11T06:37:11.501Z"
   },
   {
    "duration": 621,
    "start_time": "2021-08-11T06:37:12.156Z"
   },
   {
    "duration": 12,
    "start_time": "2021-08-11T06:37:12.781Z"
   },
   {
    "duration": 571,
    "start_time": "2021-08-11T06:37:12.796Z"
   },
   {
    "duration": 14,
    "start_time": "2021-08-11T06:37:13.369Z"
   },
   {
    "duration": 336,
    "start_time": "2021-08-11T06:37:13.386Z"
   },
   {
    "duration": 10,
    "start_time": "2021-08-11T06:37:13.724Z"
   },
   {
    "duration": 435,
    "start_time": "2021-08-11T06:37:13.736Z"
   },
   {
    "duration": 95,
    "start_time": "2021-08-11T06:37:14.173Z"
   },
   {
    "duration": 474,
    "start_time": "2021-08-11T06:37:14.270Z"
   },
   {
    "duration": -58,
    "start_time": "2021-08-11T06:37:14.805Z"
   },
   {
    "duration": -60,
    "start_time": "2021-08-11T06:37:14.809Z"
   },
   {
    "duration": -75,
    "start_time": "2021-08-11T06:37:14.825Z"
   },
   {
    "duration": -85,
    "start_time": "2021-08-11T06:37:14.836Z"
   },
   {
    "duration": -89,
    "start_time": "2021-08-11T06:37:14.842Z"
   },
   {
    "duration": -115,
    "start_time": "2021-08-11T06:37:14.869Z"
   },
   {
    "duration": -117,
    "start_time": "2021-08-11T06:37:14.873Z"
   },
   {
    "duration": -120,
    "start_time": "2021-08-11T06:37:14.877Z"
   },
   {
    "duration": 413,
    "start_time": "2021-08-11T06:45:37.418Z"
   },
   {
    "duration": 392,
    "start_time": "2021-08-11T06:45:56.681Z"
   },
   {
    "duration": 409,
    "start_time": "2021-08-11T06:46:06.630Z"
   },
   {
    "duration": 464,
    "start_time": "2021-08-11T06:46:15.721Z"
   },
   {
    "duration": 286,
    "start_time": "2021-08-11T06:48:53.265Z"
   },
   {
    "duration": 485,
    "start_time": "2021-08-11T06:49:02.110Z"
   },
   {
    "duration": 574,
    "start_time": "2021-08-11T06:57:34.390Z"
   },
   {
    "duration": 4,
    "start_time": "2021-08-11T06:57:38.122Z"
   },
   {
    "duration": 1047,
    "start_time": "2021-08-11T06:57:38.842Z"
   },
   {
    "duration": 362,
    "start_time": "2021-08-11T06:57:53.833Z"
   },
   {
    "duration": 396,
    "start_time": "2021-08-11T06:59:41.102Z"
   },
   {
    "duration": 266,
    "start_time": "2021-08-11T07:00:24.625Z"
   },
   {
    "duration": 37,
    "start_time": "2021-08-11T07:00:33.781Z"
   },
   {
    "duration": 274,
    "start_time": "2021-08-11T07:00:44.121Z"
   },
   {
    "duration": 34,
    "start_time": "2021-08-11T07:02:55.391Z"
   },
   {
    "duration": 12,
    "start_time": "2021-08-11T07:03:02.022Z"
   },
   {
    "duration": 344,
    "start_time": "2021-08-11T07:03:03.746Z"
   },
   {
    "duration": 352,
    "start_time": "2021-08-11T07:07:56.779Z"
   },
   {
    "duration": 335,
    "start_time": "2021-08-11T07:08:10.390Z"
   },
   {
    "duration": 315,
    "start_time": "2021-08-11T07:08:44.521Z"
   },
   {
    "duration": 612,
    "start_time": "2021-08-11T07:08:55.161Z"
   },
   {
    "duration": 310,
    "start_time": "2021-08-11T07:08:58.391Z"
   },
   {
    "duration": 799,
    "start_time": "2021-08-11T14:13:33.296Z"
   },
   {
    "duration": 96,
    "start_time": "2021-08-11T14:13:34.099Z"
   },
   {
    "duration": 47,
    "start_time": "2021-08-11T14:13:34.199Z"
   },
   {
    "duration": 40,
    "start_time": "2021-08-11T14:13:34.249Z"
   },
   {
    "duration": 15,
    "start_time": "2021-08-11T14:13:34.292Z"
   },
   {
    "duration": 7,
    "start_time": "2021-08-11T14:13:34.310Z"
   },
   {
    "duration": 10,
    "start_time": "2021-08-11T14:13:34.320Z"
   },
   {
    "duration": 7,
    "start_time": "2021-08-11T14:13:34.333Z"
   },
   {
    "duration": 12,
    "start_time": "2021-08-11T14:13:34.382Z"
   },
   {
    "duration": 15,
    "start_time": "2021-08-11T14:14:03.619Z"
   },
   {
    "duration": 16,
    "start_time": "2021-08-11T14:14:26.262Z"
   },
   {
    "duration": 14,
    "start_time": "2021-08-11T14:18:32.361Z"
   },
   {
    "duration": 6,
    "start_time": "2021-08-11T14:20:20.355Z"
   },
   {
    "duration": 10,
    "start_time": "2021-08-11T14:20:21.040Z"
   },
   {
    "duration": 10,
    "start_time": "2021-08-11T14:20:21.839Z"
   },
   {
    "duration": 6,
    "start_time": "2021-08-11T14:20:23.831Z"
   },
   {
    "duration": 6,
    "start_time": "2021-08-11T14:20:24.601Z"
   },
   {
    "duration": 134,
    "start_time": "2021-08-11T14:26:39.060Z"
   },
   {
    "duration": 74,
    "start_time": "2021-08-11T14:28:47.915Z"
   },
   {
    "duration": 90,
    "start_time": "2021-08-11T14:28:47.992Z"
   },
   {
    "duration": 37,
    "start_time": "2021-08-11T14:28:48.085Z"
   },
   {
    "duration": 12,
    "start_time": "2021-08-11T14:28:48.124Z"
   },
   {
    "duration": 44,
    "start_time": "2021-08-11T14:28:48.138Z"
   },
   {
    "duration": 7,
    "start_time": "2021-08-11T14:28:48.184Z"
   },
   {
    "duration": 8,
    "start_time": "2021-08-11T14:28:48.193Z"
   },
   {
    "duration": 8,
    "start_time": "2021-08-11T14:28:48.204Z"
   },
   {
    "duration": 10,
    "start_time": "2021-08-11T14:28:48.214Z"
   },
   {
    "duration": 20,
    "start_time": "2021-08-11T14:28:48.227Z"
   },
   {
    "duration": 38,
    "start_time": "2021-08-11T14:28:48.249Z"
   },
   {
    "duration": 5,
    "start_time": "2021-08-11T14:28:48.289Z"
   },
   {
    "duration": 10,
    "start_time": "2021-08-11T14:28:48.297Z"
   },
   {
    "duration": 15,
    "start_time": "2021-08-11T14:28:48.309Z"
   },
   {
    "duration": 5,
    "start_time": "2021-08-11T14:28:48.326Z"
   },
   {
    "duration": 53,
    "start_time": "2021-08-11T14:28:48.333Z"
   },
   {
    "duration": 6,
    "start_time": "2021-08-11T14:28:48.388Z"
   },
   {
    "duration": 8,
    "start_time": "2021-08-11T14:28:48.396Z"
   },
   {
    "duration": 9,
    "start_time": "2021-08-11T14:28:48.406Z"
   },
   {
    "duration": 6,
    "start_time": "2021-08-11T14:28:48.417Z"
   },
   {
    "duration": 57,
    "start_time": "2021-08-11T14:28:48.425Z"
   },
   {
    "duration": 5,
    "start_time": "2021-08-11T14:28:48.485Z"
   },
   {
    "duration": 6,
    "start_time": "2021-08-11T14:28:48.495Z"
   },
   {
    "duration": 6,
    "start_time": "2021-08-11T14:28:48.503Z"
   },
   {
    "duration": 6,
    "start_time": "2021-08-11T14:28:48.511Z"
   },
   {
    "duration": 5,
    "start_time": "2021-08-11T14:28:48.519Z"
   },
   {
    "duration": 6,
    "start_time": "2021-08-11T14:28:48.527Z"
   },
   {
    "duration": 56,
    "start_time": "2021-08-11T14:28:48.535Z"
   },
   {
    "duration": 10,
    "start_time": "2021-08-11T14:28:48.593Z"
   },
   {
    "duration": 9,
    "start_time": "2021-08-11T14:28:48.605Z"
   },
   {
    "duration": 6,
    "start_time": "2021-08-11T14:28:48.616Z"
   },
   {
    "duration": 5,
    "start_time": "2021-08-11T14:28:48.625Z"
   },
   {
    "duration": 53,
    "start_time": "2021-08-11T14:28:48.633Z"
   },
   {
    "duration": 8,
    "start_time": "2021-08-11T14:28:48.689Z"
   },
   {
    "duration": 6,
    "start_time": "2021-08-11T14:28:48.700Z"
   },
   {
    "duration": 11,
    "start_time": "2021-08-11T14:28:48.708Z"
   },
   {
    "duration": 10,
    "start_time": "2021-08-11T14:28:48.721Z"
   },
   {
    "duration": 14,
    "start_time": "2021-08-11T14:28:48.782Z"
   },
   {
    "duration": 5,
    "start_time": "2021-08-11T14:28:48.799Z"
   },
   {
    "duration": 228,
    "start_time": "2021-08-11T14:28:48.807Z"
   },
   {
    "duration": 6,
    "start_time": "2021-08-11T14:28:49.038Z"
   },
   {
    "duration": 216,
    "start_time": "2021-08-11T14:28:49.047Z"
   },
   {
    "duration": 17,
    "start_time": "2021-08-11T14:28:49.267Z"
   },
   {
    "duration": 9,
    "start_time": "2021-08-11T14:29:25.462Z"
   },
   {
    "duration": 4,
    "start_time": "2021-08-11T14:29:25.744Z"
   },
   {
    "duration": 10,
    "start_time": "2021-08-11T14:29:26.115Z"
   },
   {
    "duration": 6,
    "start_time": "2021-08-11T14:29:26.427Z"
   },
   {
    "duration": 6,
    "start_time": "2021-08-11T14:29:27.238Z"
   },
   {
    "duration": 8,
    "start_time": "2021-08-11T14:29:27.550Z"
   },
   {
    "duration": 16,
    "start_time": "2021-08-11T14:29:28.723Z"
   },
   {
    "duration": 7,
    "start_time": "2021-08-11T14:29:30.521Z"
   },
   {
    "duration": 74,
    "start_time": "2021-08-11T14:29:31.197Z"
   },
   {
    "duration": 253,
    "start_time": "2021-08-11T14:29:37.623Z"
   },
   {
    "duration": 106,
    "start_time": "2021-08-11T14:29:38.371Z"
   },
   {
    "duration": 11,
    "start_time": "2021-08-11T14:29:39.537Z"
   },
   {
    "duration": 90,
    "start_time": "2021-08-11T14:29:40.426Z"
   },
   {
    "duration": 11,
    "start_time": "2021-08-11T14:29:43.294Z"
   },
   {
    "duration": 652,
    "start_time": "2021-08-11T14:29:43.904Z"
   },
   {
    "duration": 567,
    "start_time": "2021-08-11T14:30:07.475Z"
   },
   {
    "duration": 929,
    "start_time": "2021-08-11T14:34:16.992Z"
   },
   {
    "duration": 871,
    "start_time": "2021-08-11T14:35:28.791Z"
   },
   {
    "duration": 346,
    "start_time": "2021-08-11T14:36:48.405Z"
   },
   {
    "duration": 95,
    "start_time": "2021-08-11T14:36:55.516Z"
   },
   {
    "duration": 887,
    "start_time": "2021-08-11T14:36:58.438Z"
   },
   {
    "duration": 308,
    "start_time": "2021-08-11T14:37:22.781Z"
   },
   {
    "duration": 612,
    "start_time": "2021-08-11T14:37:24.950Z"
   },
   {
    "duration": 1047,
    "start_time": "2021-08-11T14:37:25.565Z"
   },
   {
    "duration": 389,
    "start_time": "2021-08-11T14:37:27.981Z"
   },
   {
    "duration": 427,
    "start_time": "2021-08-11T14:37:31.559Z"
   },
   {
    "duration": 356,
    "start_time": "2021-08-11T14:37:33.039Z"
   },
   {
    "duration": 4,
    "start_time": "2021-08-11T14:38:35.218Z"
   },
   {
    "duration": 495,
    "start_time": "2021-08-11T14:39:43.818Z"
   },
   {
    "duration": 285,
    "start_time": "2021-08-11T14:40:11.993Z"
   },
   {
    "duration": 3,
    "start_time": "2021-08-11T14:42:16.600Z"
   },
   {
    "duration": 357,
    "start_time": "2021-08-11T14:43:18.026Z"
   },
   {
    "duration": 497,
    "start_time": "2021-08-11T14:45:31.637Z"
   },
   {
    "duration": 874,
    "start_time": "2021-08-11T14:48:20.694Z"
   },
   {
    "duration": 1026,
    "start_time": "2021-08-11T14:52:19.738Z"
   },
   {
    "duration": 596,
    "start_time": "2021-08-11T14:52:42.546Z"
   },
   {
    "duration": 298,
    "start_time": "2021-08-11T15:48:02.401Z"
   },
   {
    "duration": 256,
    "start_time": "2021-08-11T15:48:07.526Z"
   },
   {
    "duration": 353,
    "start_time": "2021-08-11T15:55:33.590Z"
   },
   {
    "duration": 343,
    "start_time": "2021-08-11T15:55:49.196Z"
   },
   {
    "duration": 353,
    "start_time": "2021-08-11T16:00:13.121Z"
   },
   {
    "duration": 288,
    "start_time": "2021-08-11T16:02:12.266Z"
   },
   {
    "duration": 309,
    "start_time": "2021-08-11T16:03:18.956Z"
   },
   {
    "duration": 544,
    "start_time": "2021-08-11T16:05:29.992Z"
   },
   {
    "duration": 975,
    "start_time": "2021-08-11T16:06:09.396Z"
   },
   {
    "duration": 582,
    "start_time": "2021-08-11T16:06:31.668Z"
   },
   {
    "duration": 574,
    "start_time": "2021-08-11T16:06:38.319Z"
   },
   {
    "duration": 553,
    "start_time": "2021-08-11T16:06:51.087Z"
   },
   {
    "duration": 564,
    "start_time": "2021-08-11T16:07:30.469Z"
   },
   {
    "duration": 623,
    "start_time": "2021-08-11T16:07:44.275Z"
   },
   {
    "duration": 543,
    "start_time": "2021-08-11T16:08:03.142Z"
   },
   {
    "duration": 3,
    "start_time": "2021-08-11T16:11:06.760Z"
   },
   {
    "duration": 36,
    "start_time": "2021-08-11T16:13:44.669Z"
   },
   {
    "duration": 372,
    "start_time": "2021-08-11T16:13:47.149Z"
   },
   {
    "duration": 569,
    "start_time": "2021-08-11T16:14:29.030Z"
   },
   {
    "duration": 733,
    "start_time": "2021-08-11T16:14:53.503Z"
   },
   {
    "duration": 196,
    "start_time": "2021-08-11T16:15:24.708Z"
   },
   {
    "duration": 321,
    "start_time": "2021-08-11T16:15:30.719Z"
   },
   {
    "duration": 363,
    "start_time": "2021-08-11T16:16:21.047Z"
   },
   {
    "duration": 414,
    "start_time": "2021-08-11T16:17:23.191Z"
   },
   {
    "duration": 503,
    "start_time": "2021-08-11T16:17:30.122Z"
   },
   {
    "duration": 471,
    "start_time": "2021-08-11T16:18:41.035Z"
   },
   {
    "duration": 258,
    "start_time": "2021-08-11T16:19:04.901Z"
   },
   {
    "duration": 286,
    "start_time": "2021-08-11T16:19:08.896Z"
   },
   {
    "duration": 296,
    "start_time": "2021-08-11T16:19:15.401Z"
   },
   {
    "duration": 347,
    "start_time": "2021-08-11T16:19:19.603Z"
   },
   {
    "duration": 462,
    "start_time": "2021-08-11T16:19:23.744Z"
   },
   {
    "duration": 12,
    "start_time": "2021-08-11T16:19:38.367Z"
   },
   {
    "duration": 524,
    "start_time": "2021-08-11T16:19:38.690Z"
   },
   {
    "duration": 12,
    "start_time": "2021-08-11T16:19:40.047Z"
   },
   {
    "duration": 294,
    "start_time": "2021-08-11T16:19:40.361Z"
   },
   {
    "duration": 11,
    "start_time": "2021-08-11T16:19:41.676Z"
   },
   {
    "duration": 411,
    "start_time": "2021-08-11T16:19:42.147Z"
   },
   {
    "duration": 76,
    "start_time": "2021-08-11T16:19:44.227Z"
   },
   {
    "duration": 781,
    "start_time": "2021-08-11T16:20:21.310Z"
   },
   {
    "duration": 529,
    "start_time": "2021-08-11T16:20:34.668Z"
   },
   {
    "duration": 677,
    "start_time": "2021-08-11T16:20:44.163Z"
   },
   {
    "duration": 508,
    "start_time": "2021-08-11T16:20:48.368Z"
   },
   {
    "duration": 519,
    "start_time": "2021-08-11T16:22:08.574Z"
   },
   {
    "duration": 529,
    "start_time": "2021-08-11T16:23:19.972Z"
   },
   {
    "duration": 548,
    "start_time": "2021-08-11T16:23:27.523Z"
   },
   {
    "duration": 319,
    "start_time": "2021-08-11T16:23:51.807Z"
   },
   {
    "duration": 350,
    "start_time": "2021-08-11T16:24:10.791Z"
   },
   {
    "duration": 524,
    "start_time": "2021-08-11T16:24:24.276Z"
   },
   {
    "duration": 709,
    "start_time": "2021-08-11T16:24:33.761Z"
   },
   {
    "duration": 391,
    "start_time": "2021-08-11T16:25:55.101Z"
   },
   {
    "duration": 419,
    "start_time": "2021-08-11T16:26:00.608Z"
   },
   {
    "duration": 423,
    "start_time": "2021-08-11T16:26:14.736Z"
   },
   {
    "duration": 318,
    "start_time": "2021-08-11T16:26:39.346Z"
   },
   {
    "duration": 322,
    "start_time": "2021-08-11T16:26:43.072Z"
   },
   {
    "duration": 560,
    "start_time": "2021-08-11T16:27:08.169Z"
   },
   {
    "duration": 598,
    "start_time": "2021-08-11T16:27:33.385Z"
   },
   {
    "duration": 544,
    "start_time": "2021-08-11T16:27:43.789Z"
   },
   {
    "duration": 552,
    "start_time": "2021-08-11T16:27:45.860Z"
   },
   {
    "duration": 536,
    "start_time": "2021-08-11T16:27:48.372Z"
   },
   {
    "duration": 528,
    "start_time": "2021-08-11T16:27:51.033Z"
   },
   {
    "duration": 34,
    "start_time": "2021-08-11T16:28:50.912Z"
   },
   {
    "duration": 13,
    "start_time": "2021-08-11T16:28:52.434Z"
   },
   {
    "duration": 342,
    "start_time": "2021-08-11T16:28:52.780Z"
   },
   {
    "duration": 299,
    "start_time": "2021-08-11T16:30:01.364Z"
   },
   {
    "duration": 244,
    "start_time": "2021-08-11T16:31:02.627Z"
   },
   {
    "duration": 240,
    "start_time": "2021-08-11T16:31:05.253Z"
   },
   {
    "duration": 242,
    "start_time": "2021-08-11T16:32:59.603Z"
   },
   {
    "duration": 1303,
    "start_time": "2021-08-12T05:21:44.596Z"
   },
   {
    "duration": 96,
    "start_time": "2021-08-12T05:21:45.901Z"
   },
   {
    "duration": 46,
    "start_time": "2021-08-12T05:21:46.000Z"
   },
   {
    "duration": 39,
    "start_time": "2021-08-12T05:21:46.049Z"
   },
   {
    "duration": 12,
    "start_time": "2021-08-12T05:21:46.090Z"
   },
   {
    "duration": 6,
    "start_time": "2021-08-12T05:21:46.104Z"
   },
   {
    "duration": 7,
    "start_time": "2021-08-12T05:21:46.112Z"
   },
   {
    "duration": 7,
    "start_time": "2021-08-12T05:21:46.123Z"
   },
   {
    "duration": 53,
    "start_time": "2021-08-12T05:21:46.133Z"
   },
   {
    "duration": 14,
    "start_time": "2021-08-12T05:21:46.188Z"
   },
   {
    "duration": 4,
    "start_time": "2021-08-12T05:21:46.204Z"
   },
   {
    "duration": 9,
    "start_time": "2021-08-12T05:21:46.211Z"
   },
   {
    "duration": 10,
    "start_time": "2021-08-12T05:21:46.222Z"
   },
   {
    "duration": 60,
    "start_time": "2021-08-12T05:21:46.234Z"
   },
   {
    "duration": 5,
    "start_time": "2021-08-12T05:21:46.296Z"
   },
   {
    "duration": 6,
    "start_time": "2021-08-12T05:21:46.303Z"
   },
   {
    "duration": 8,
    "start_time": "2021-08-12T05:21:46.311Z"
   },
   {
    "duration": 8,
    "start_time": "2021-08-12T05:21:46.321Z"
   },
   {
    "duration": 58,
    "start_time": "2021-08-12T05:21:46.332Z"
   },
   {
    "duration": 6,
    "start_time": "2021-08-12T05:21:46.393Z"
   },
   {
    "duration": 6,
    "start_time": "2021-08-12T05:21:46.402Z"
   },
   {
    "duration": 6,
    "start_time": "2021-08-12T05:21:46.410Z"
   },
   {
    "duration": 6,
    "start_time": "2021-08-12T05:21:46.423Z"
   },
   {
    "duration": 5,
    "start_time": "2021-08-12T05:21:46.484Z"
   },
   {
    "duration": 11,
    "start_time": "2021-08-12T05:21:46.491Z"
   },
   {
    "duration": 10,
    "start_time": "2021-08-12T05:21:46.504Z"
   },
   {
    "duration": 6,
    "start_time": "2021-08-12T05:21:46.517Z"
   },
   {
    "duration": 11,
    "start_time": "2021-08-12T05:21:46.525Z"
   },
   {
    "duration": 50,
    "start_time": "2021-08-12T05:21:46.538Z"
   },
   {
    "duration": 9,
    "start_time": "2021-08-12T05:21:46.592Z"
   },
   {
    "duration": 6,
    "start_time": "2021-08-12T05:21:46.604Z"
   },
   {
    "duration": 6,
    "start_time": "2021-08-12T05:21:46.613Z"
   },
   {
    "duration": 8,
    "start_time": "2021-08-12T05:21:46.622Z"
   },
   {
    "duration": 51,
    "start_time": "2021-08-12T05:21:46.632Z"
   },
   {
    "duration": 7,
    "start_time": "2021-08-12T05:21:46.685Z"
   },
   {
    "duration": 13,
    "start_time": "2021-08-12T05:21:46.694Z"
   },
   {
    "duration": 10,
    "start_time": "2021-08-12T05:21:46.709Z"
   },
   {
    "duration": 12,
    "start_time": "2021-08-12T05:21:46.722Z"
   },
   {
    "duration": 50,
    "start_time": "2021-08-12T05:21:46.736Z"
   },
   {
    "duration": 139,
    "start_time": "2021-08-12T05:21:46.789Z"
   },
   {
    "duration": 6,
    "start_time": "2021-08-12T05:21:46.930Z"
   },
   {
    "duration": 143,
    "start_time": "2021-08-12T05:21:46.937Z"
   },
   {
    "duration": 5,
    "start_time": "2021-08-12T05:21:47.083Z"
   },
   {
    "duration": 10,
    "start_time": "2021-08-12T05:21:47.090Z"
   },
   {
    "duration": 3,
    "start_time": "2021-08-12T05:21:47.103Z"
   },
   {
    "duration": 9,
    "start_time": "2021-08-12T05:21:47.108Z"
   },
   {
    "duration": 6,
    "start_time": "2021-08-12T05:21:47.120Z"
   },
   {
    "duration": 8,
    "start_time": "2021-08-12T05:21:47.128Z"
   },
   {
    "duration": 48,
    "start_time": "2021-08-12T05:21:47.139Z"
   },
   {
    "duration": 17,
    "start_time": "2021-08-12T05:21:47.190Z"
   },
   {
    "duration": 5,
    "start_time": "2021-08-12T05:21:47.209Z"
   },
   {
    "duration": 99,
    "start_time": "2021-08-12T05:21:47.217Z"
   },
   {
    "duration": 87,
    "start_time": "2021-08-12T05:21:47.318Z"
   },
   {
    "duration": 110,
    "start_time": "2021-08-12T05:21:47.408Z"
   },
   {
    "duration": 11,
    "start_time": "2021-08-12T05:21:47.520Z"
   },
   {
    "duration": 108,
    "start_time": "2021-08-12T05:21:47.533Z"
   },
   {
    "duration": 674,
    "start_time": "2021-08-12T05:21:47.643Z"
   },
   {
    "duration": 12,
    "start_time": "2021-08-12T05:21:48.319Z"
   },
   {
    "duration": 680,
    "start_time": "2021-08-12T05:21:48.333Z"
   },
   {
    "duration": 553,
    "start_time": "2021-08-12T05:21:49.016Z"
   },
   {
    "duration": 21,
    "start_time": "2021-08-12T05:21:49.571Z"
   },
   {
    "duration": 605,
    "start_time": "2021-08-12T05:21:49.594Z"
   },
   {
    "duration": 11,
    "start_time": "2021-08-12T05:21:50.202Z"
   },
   {
    "duration": 338,
    "start_time": "2021-08-12T05:21:50.216Z"
   },
   {
    "duration": 11,
    "start_time": "2021-08-12T05:21:50.556Z"
   },
   {
    "duration": 413,
    "start_time": "2021-08-12T05:21:50.583Z"
   },
   {
    "duration": 92,
    "start_time": "2021-08-12T05:21:50.999Z"
   },
   {
    "duration": 1019,
    "start_time": "2021-08-12T05:21:51.100Z"
   },
   {
    "duration": 320,
    "start_time": "2021-08-12T05:21:52.123Z"
   },
   {
    "duration": 360,
    "start_time": "2021-08-12T05:21:52.446Z"
   },
   {
    "duration": 362,
    "start_time": "2021-08-12T05:21:52.809Z"
   },
   {
    "duration": 301,
    "start_time": "2021-08-12T05:21:53.173Z"
   },
   {
    "duration": 291,
    "start_time": "2021-08-12T05:21:53.483Z"
   },
   {
    "duration": 269,
    "start_time": "2021-08-12T05:21:53.776Z"
   },
   {
    "duration": 46,
    "start_time": "2021-08-12T05:21:54.048Z"
   },
   {
    "duration": 489,
    "start_time": "2021-08-12T05:21:54.096Z"
   },
   {
    "duration": 31,
    "start_time": "2021-08-12T05:21:54.587Z"
   },
   {
    "duration": 11,
    "start_time": "2021-08-12T05:21:54.620Z"
   },
   {
    "duration": 429,
    "start_time": "2021-08-12T05:21:54.633Z"
   },
   {
    "duration": 244,
    "start_time": "2021-08-12T05:21:55.064Z"
   },
   {
    "duration": 16,
    "start_time": "2021-08-12T05:37:48.834Z"
   },
   {
    "duration": 3,
    "start_time": "2021-08-12T05:38:42.300Z"
   },
   {
    "duration": 15,
    "start_time": "2021-08-12T05:38:43.539Z"
   },
   {
    "duration": 61178,
    "start_time": "2021-08-12T05:39:22.580Z"
   },
   {
    "duration": 4,
    "start_time": "2021-08-12T05:40:57.396Z"
   },
   {
    "duration": 27,
    "start_time": "2021-08-12T05:41:04.026Z"
   }
  ],
  "kernelspec": {
   "display_name": "Python 3 (ipykernel)",
   "language": "python",
   "name": "python3"
  },
  "language_info": {
   "codemirror_mode": {
    "name": "ipython",
    "version": 3
   },
   "file_extension": ".py",
   "mimetype": "text/x-python",
   "name": "python",
   "nbconvert_exporter": "python",
   "pygments_lexer": "ipython3",
   "version": "3.8.13"
  },
  "toc": {
   "base_numbering": 1,
   "nav_menu": {},
   "number_sections": true,
   "sideBar": true,
   "skip_h1_title": true,
   "title_cell": "Содержание",
   "title_sidebar": "Contents",
   "toc_cell": true,
   "toc_position": {},
   "toc_section_display": true,
   "toc_window_display": true
  }
 },
 "nbformat": 4,
 "nbformat_minor": 2
}
