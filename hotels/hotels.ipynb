{
 "cells": [
  {
   "cell_type": "markdown",
   "metadata": {},
   "source": [
    "# Прогнозирование оттока клиентов в сети отелей «Как в гостях»"
   ]
  },
  {
   "cell_type": "code",
   "execution_count": 1,
   "metadata": {
    "scrolled": false
   },
   "outputs": [],
   "source": [
    "import pandas as pd\n",
    "import seaborn as sns\n",
    "import numpy as np\n",
    "from sklearn.linear_model import LinearRegression\n",
    "from sklearn.preprocessing import OrdinalEncoder\n",
    "from sklearn.preprocessing import MinMaxScaler\n",
    "from sklearn.tree import DecisionTreeClassifier\n",
    "from sklearn.model_selection import GridSearchCV\n",
    "from sklearn.ensemble import RandomForestClassifier\n",
    "from sklearn.model_selection import RandomizedSearchCV\n",
    "from sklearn.model_selection import StratifiedKFold\n",
    "from sklearn.neighbors import KNeighborsClassifier\n",
    "import matplotlib.pyplot as plt\n",
    "from sklearn.metrics import roc_curve\n",
    "from sklearn.metrics import f1_score\n",
    "from sklearn.metrics import roc_auc_score\n",
    "from sklearn.metrics import confusion_matrix\n",
    "from sklearn.utils import shuffle\n",
    "from imblearn.over_sampling import SMOTE\n",
    "from imblearn.under_sampling import TomekLinks\n",
    "from imblearn.pipeline import Pipeline as imbpipeline\n",
    "from sklearn.pipeline import Pipeline\n",
    "from imblearn.under_sampling import RandomUnderSampler\n",
    "from lightgbm import LGBMClassifier"
   ]
  },
  {
   "cell_type": "markdown",
   "metadata": {},
   "source": [
    "Для начала прочитаем и просмотрим предоставленные нам данные:"
   ]
  },
  {
   "cell_type": "code",
   "execution_count": 2,
   "metadata": {},
   "outputs": [],
   "source": [
    "df = pd.read_csv('datasets/hotel_train.csv')\n",
    "df_test = pd.read_csv('datasets/hotel_test.csv')"
   ]
  },
  {
   "cell_type": "code",
   "execution_count": 3,
   "metadata": {
    "scrolled": false
   },
   "outputs": [
    {
     "name": "stdout",
     "output_type": "stream",
     "text": [
      "<class 'pandas.core.frame.DataFrame'>\n",
      "RangeIndex: 65229 entries, 0 to 65228\n",
      "Data columns (total 25 columns):\n",
      " #   Column                          Non-Null Count  Dtype  \n",
      "---  ------                          --------------  -----  \n",
      " 0   id                              65229 non-null  int64  \n",
      " 1   is_canceled                     65229 non-null  int64  \n",
      " 2   lead_time                       65229 non-null  float64\n",
      " 3   arrival_date_year               65229 non-null  int64  \n",
      " 4   arrival_date_month              65229 non-null  object \n",
      " 5   arrival_date_week_number        65229 non-null  int64  \n",
      " 6   arrival_date_day_of_month       65229 non-null  int64  \n",
      " 7   stays_in_weekend_nights         65229 non-null  int64  \n",
      " 8   stays_in_week_nights            65229 non-null  int64  \n",
      " 9   adults                          65229 non-null  float64\n",
      " 10  children                        65229 non-null  float64\n",
      " 11  babies                          65229 non-null  float64\n",
      " 12  meal                            65229 non-null  object \n",
      " 13  country                         65229 non-null  object \n",
      " 14  distribution_channel            65229 non-null  object \n",
      " 15  is_repeated_guest               65229 non-null  int64  \n",
      " 16  previous_cancellations          65229 non-null  int64  \n",
      " 17  previous_bookings_not_canceled  65229 non-null  int64  \n",
      " 18  reserved_room_type              65229 non-null  object \n",
      " 19  booking_changes                 65229 non-null  int64  \n",
      " 20  days_in_waiting_list            65229 non-null  int64  \n",
      " 21  customer_type                   65229 non-null  object \n",
      " 22  required_car_parking_spaces     65229 non-null  int64  \n",
      " 23  total_of_special_requests       65229 non-null  int64  \n",
      " 24  total_nights                    65229 non-null  int64  \n",
      "dtypes: float64(4), int64(15), object(6)\n",
      "memory usage: 12.4+ MB\n"
     ]
    }
   ],
   "source": [
    "df.info()"
   ]
  },
  {
   "cell_type": "code",
   "execution_count": 4,
   "metadata": {},
   "outputs": [
    {
     "data": {
      "text/html": [
       "<div>\n",
       "<style scoped>\n",
       "    .dataframe tbody tr th:only-of-type {\n",
       "        vertical-align: middle;\n",
       "    }\n",
       "\n",
       "    .dataframe tbody tr th {\n",
       "        vertical-align: top;\n",
       "    }\n",
       "\n",
       "    .dataframe thead th {\n",
       "        text-align: right;\n",
       "    }\n",
       "</style>\n",
       "<table border=\"1\" class=\"dataframe\">\n",
       "  <thead>\n",
       "    <tr style=\"text-align: right;\">\n",
       "      <th></th>\n",
       "      <th>id</th>\n",
       "      <th>is_canceled</th>\n",
       "      <th>lead_time</th>\n",
       "      <th>arrival_date_year</th>\n",
       "      <th>arrival_date_week_number</th>\n",
       "      <th>arrival_date_day_of_month</th>\n",
       "      <th>stays_in_weekend_nights</th>\n",
       "      <th>stays_in_week_nights</th>\n",
       "      <th>adults</th>\n",
       "      <th>children</th>\n",
       "      <th>babies</th>\n",
       "      <th>is_repeated_guest</th>\n",
       "      <th>previous_cancellations</th>\n",
       "      <th>previous_bookings_not_canceled</th>\n",
       "      <th>booking_changes</th>\n",
       "      <th>days_in_waiting_list</th>\n",
       "      <th>required_car_parking_spaces</th>\n",
       "      <th>total_of_special_requests</th>\n",
       "      <th>total_nights</th>\n",
       "    </tr>\n",
       "  </thead>\n",
       "  <tbody>\n",
       "    <tr>\n",
       "      <th>count</th>\n",
       "      <td>65229.000000</td>\n",
       "      <td>65229.000000</td>\n",
       "      <td>65229.000000</td>\n",
       "      <td>65229.000000</td>\n",
       "      <td>65229.000000</td>\n",
       "      <td>65229.000000</td>\n",
       "      <td>65229.000000</td>\n",
       "      <td>65229.000000</td>\n",
       "      <td>65229.000000</td>\n",
       "      <td>65229.000000</td>\n",
       "      <td>65229.000000</td>\n",
       "      <td>65229.000000</td>\n",
       "      <td>65229.000000</td>\n",
       "      <td>65229.000000</td>\n",
       "      <td>65229.000000</td>\n",
       "      <td>65229.000000</td>\n",
       "      <td>65229.000000</td>\n",
       "      <td>65229.000000</td>\n",
       "      <td>65229.000000</td>\n",
       "    </tr>\n",
       "    <tr>\n",
       "      <th>mean</th>\n",
       "      <td>43544.069172</td>\n",
       "      <td>0.368609</td>\n",
       "      <td>96.337917</td>\n",
       "      <td>2015.719021</td>\n",
       "      <td>31.339772</td>\n",
       "      <td>15.847813</td>\n",
       "      <td>0.825185</td>\n",
       "      <td>2.224793</td>\n",
       "      <td>1.836576</td>\n",
       "      <td>0.074890</td>\n",
       "      <td>0.007236</td>\n",
       "      <td>0.027151</td>\n",
       "      <td>0.128915</td>\n",
       "      <td>0.107713</td>\n",
       "      <td>0.194269</td>\n",
       "      <td>3.334422</td>\n",
       "      <td>0.056647</td>\n",
       "      <td>0.512763</td>\n",
       "      <td>3.049978</td>\n",
       "    </tr>\n",
       "    <tr>\n",
       "      <th>std</th>\n",
       "      <td>25614.858971</td>\n",
       "      <td>0.482431</td>\n",
       "      <td>96.127545</td>\n",
       "      <td>0.449481</td>\n",
       "      <td>13.464024</td>\n",
       "      <td>8.748182</td>\n",
       "      <td>0.853477</td>\n",
       "      <td>1.354992</td>\n",
       "      <td>0.480245</td>\n",
       "      <td>0.334243</td>\n",
       "      <td>0.098790</td>\n",
       "      <td>0.162523</td>\n",
       "      <td>0.965326</td>\n",
       "      <td>1.326638</td>\n",
       "      <td>0.593838</td>\n",
       "      <td>18.239606</td>\n",
       "      <td>0.232094</td>\n",
       "      <td>0.752590</td>\n",
       "      <td>1.738108</td>\n",
       "    </tr>\n",
       "    <tr>\n",
       "      <th>min</th>\n",
       "      <td>0.000000</td>\n",
       "      <td>0.000000</td>\n",
       "      <td>0.000000</td>\n",
       "      <td>2015.000000</td>\n",
       "      <td>1.000000</td>\n",
       "      <td>1.000000</td>\n",
       "      <td>0.000000</td>\n",
       "      <td>0.000000</td>\n",
       "      <td>0.000000</td>\n",
       "      <td>0.000000</td>\n",
       "      <td>0.000000</td>\n",
       "      <td>0.000000</td>\n",
       "      <td>0.000000</td>\n",
       "      <td>0.000000</td>\n",
       "      <td>0.000000</td>\n",
       "      <td>0.000000</td>\n",
       "      <td>0.000000</td>\n",
       "      <td>0.000000</td>\n",
       "      <td>1.000000</td>\n",
       "    </tr>\n",
       "    <tr>\n",
       "      <th>25%</th>\n",
       "      <td>19108.000000</td>\n",
       "      <td>0.000000</td>\n",
       "      <td>17.000000</td>\n",
       "      <td>2015.000000</td>\n",
       "      <td>21.000000</td>\n",
       "      <td>8.000000</td>\n",
       "      <td>0.000000</td>\n",
       "      <td>1.000000</td>\n",
       "      <td>2.000000</td>\n",
       "      <td>0.000000</td>\n",
       "      <td>0.000000</td>\n",
       "      <td>0.000000</td>\n",
       "      <td>0.000000</td>\n",
       "      <td>0.000000</td>\n",
       "      <td>0.000000</td>\n",
       "      <td>0.000000</td>\n",
       "      <td>0.000000</td>\n",
       "      <td>0.000000</td>\n",
       "      <td>2.000000</td>\n",
       "    </tr>\n",
       "    <tr>\n",
       "      <th>50%</th>\n",
       "      <td>40554.000000</td>\n",
       "      <td>0.000000</td>\n",
       "      <td>64.000000</td>\n",
       "      <td>2016.000000</td>\n",
       "      <td>34.000000</td>\n",
       "      <td>16.000000</td>\n",
       "      <td>1.000000</td>\n",
       "      <td>2.000000</td>\n",
       "      <td>2.000000</td>\n",
       "      <td>0.000000</td>\n",
       "      <td>0.000000</td>\n",
       "      <td>0.000000</td>\n",
       "      <td>0.000000</td>\n",
       "      <td>0.000000</td>\n",
       "      <td>0.000000</td>\n",
       "      <td>0.000000</td>\n",
       "      <td>0.000000</td>\n",
       "      <td>0.000000</td>\n",
       "      <td>3.000000</td>\n",
       "    </tr>\n",
       "    <tr>\n",
       "      <th>75%</th>\n",
       "      <td>67414.000000</td>\n",
       "      <td>1.000000</td>\n",
       "      <td>151.000000</td>\n",
       "      <td>2016.000000</td>\n",
       "      <td>42.000000</td>\n",
       "      <td>23.000000</td>\n",
       "      <td>2.000000</td>\n",
       "      <td>3.000000</td>\n",
       "      <td>2.000000</td>\n",
       "      <td>0.000000</td>\n",
       "      <td>0.000000</td>\n",
       "      <td>0.000000</td>\n",
       "      <td>0.000000</td>\n",
       "      <td>0.000000</td>\n",
       "      <td>0.000000</td>\n",
       "      <td>0.000000</td>\n",
       "      <td>0.000000</td>\n",
       "      <td>1.000000</td>\n",
       "      <td>4.000000</td>\n",
       "    </tr>\n",
       "    <tr>\n",
       "      <th>max</th>\n",
       "      <td>84121.000000</td>\n",
       "      <td>1.000000</td>\n",
       "      <td>374.000000</td>\n",
       "      <td>2016.000000</td>\n",
       "      <td>53.000000</td>\n",
       "      <td>31.000000</td>\n",
       "      <td>4.000000</td>\n",
       "      <td>6.000000</td>\n",
       "      <td>4.000000</td>\n",
       "      <td>3.000000</td>\n",
       "      <td>10.000000</td>\n",
       "      <td>1.000000</td>\n",
       "      <td>26.000000</td>\n",
       "      <td>58.000000</td>\n",
       "      <td>17.000000</td>\n",
       "      <td>259.000000</td>\n",
       "      <td>3.000000</td>\n",
       "      <td>5.000000</td>\n",
       "      <td>10.000000</td>\n",
       "    </tr>\n",
       "  </tbody>\n",
       "</table>\n",
       "</div>"
      ],
      "text/plain": [
       "                 id   is_canceled     lead_time  arrival_date_year  \\\n",
       "count  65229.000000  65229.000000  65229.000000       65229.000000   \n",
       "mean   43544.069172      0.368609     96.337917        2015.719021   \n",
       "std    25614.858971      0.482431     96.127545           0.449481   \n",
       "min        0.000000      0.000000      0.000000        2015.000000   \n",
       "25%    19108.000000      0.000000     17.000000        2015.000000   \n",
       "50%    40554.000000      0.000000     64.000000        2016.000000   \n",
       "75%    67414.000000      1.000000    151.000000        2016.000000   \n",
       "max    84121.000000      1.000000    374.000000        2016.000000   \n",
       "\n",
       "       arrival_date_week_number  arrival_date_day_of_month  \\\n",
       "count              65229.000000               65229.000000   \n",
       "mean                  31.339772                  15.847813   \n",
       "std                   13.464024                   8.748182   \n",
       "min                    1.000000                   1.000000   \n",
       "25%                   21.000000                   8.000000   \n",
       "50%                   34.000000                  16.000000   \n",
       "75%                   42.000000                  23.000000   \n",
       "max                   53.000000                  31.000000   \n",
       "\n",
       "       stays_in_weekend_nights  stays_in_week_nights        adults  \\\n",
       "count             65229.000000          65229.000000  65229.000000   \n",
       "mean                  0.825185              2.224793      1.836576   \n",
       "std                   0.853477              1.354992      0.480245   \n",
       "min                   0.000000              0.000000      0.000000   \n",
       "25%                   0.000000              1.000000      2.000000   \n",
       "50%                   1.000000              2.000000      2.000000   \n",
       "75%                   2.000000              3.000000      2.000000   \n",
       "max                   4.000000              6.000000      4.000000   \n",
       "\n",
       "           children        babies  is_repeated_guest  previous_cancellations  \\\n",
       "count  65229.000000  65229.000000       65229.000000            65229.000000   \n",
       "mean       0.074890      0.007236           0.027151                0.128915   \n",
       "std        0.334243      0.098790           0.162523                0.965326   \n",
       "min        0.000000      0.000000           0.000000                0.000000   \n",
       "25%        0.000000      0.000000           0.000000                0.000000   \n",
       "50%        0.000000      0.000000           0.000000                0.000000   \n",
       "75%        0.000000      0.000000           0.000000                0.000000   \n",
       "max        3.000000     10.000000           1.000000               26.000000   \n",
       "\n",
       "       previous_bookings_not_canceled  booking_changes  days_in_waiting_list  \\\n",
       "count                    65229.000000     65229.000000          65229.000000   \n",
       "mean                         0.107713         0.194269              3.334422   \n",
       "std                          1.326638         0.593838             18.239606   \n",
       "min                          0.000000         0.000000              0.000000   \n",
       "25%                          0.000000         0.000000              0.000000   \n",
       "50%                          0.000000         0.000000              0.000000   \n",
       "75%                          0.000000         0.000000              0.000000   \n",
       "max                         58.000000        17.000000            259.000000   \n",
       "\n",
       "       required_car_parking_spaces  total_of_special_requests  total_nights  \n",
       "count                 65229.000000               65229.000000  65229.000000  \n",
       "mean                      0.056647                   0.512763      3.049978  \n",
       "std                       0.232094                   0.752590      1.738108  \n",
       "min                       0.000000                   0.000000      1.000000  \n",
       "25%                       0.000000                   0.000000      2.000000  \n",
       "50%                       0.000000                   0.000000      3.000000  \n",
       "75%                       0.000000                   1.000000      4.000000  \n",
       "max                       3.000000                   5.000000     10.000000  "
      ]
     },
     "execution_count": 4,
     "metadata": {},
     "output_type": "execute_result"
    }
   ],
   "source": [
    "df.describe()"
   ]
  },
  {
   "cell_type": "code",
   "execution_count": 5,
   "metadata": {
    "scrolled": false
   },
   "outputs": [
    {
     "data": {
      "text/html": [
       "<div>\n",
       "<style scoped>\n",
       "    .dataframe tbody tr th:only-of-type {\n",
       "        vertical-align: middle;\n",
       "    }\n",
       "\n",
       "    .dataframe tbody tr th {\n",
       "        vertical-align: top;\n",
       "    }\n",
       "\n",
       "    .dataframe thead th {\n",
       "        text-align: right;\n",
       "    }\n",
       "</style>\n",
       "<table border=\"1\" class=\"dataframe\">\n",
       "  <thead>\n",
       "    <tr style=\"text-align: right;\">\n",
       "      <th></th>\n",
       "      <th>id</th>\n",
       "      <th>is_canceled</th>\n",
       "      <th>lead_time</th>\n",
       "      <th>arrival_date_year</th>\n",
       "      <th>arrival_date_month</th>\n",
       "      <th>arrival_date_week_number</th>\n",
       "      <th>arrival_date_day_of_month</th>\n",
       "      <th>stays_in_weekend_nights</th>\n",
       "      <th>stays_in_week_nights</th>\n",
       "      <th>adults</th>\n",
       "      <th>...</th>\n",
       "      <th>is_repeated_guest</th>\n",
       "      <th>previous_cancellations</th>\n",
       "      <th>previous_bookings_not_canceled</th>\n",
       "      <th>reserved_room_type</th>\n",
       "      <th>booking_changes</th>\n",
       "      <th>days_in_waiting_list</th>\n",
       "      <th>customer_type</th>\n",
       "      <th>required_car_parking_spaces</th>\n",
       "      <th>total_of_special_requests</th>\n",
       "      <th>total_nights</th>\n",
       "    </tr>\n",
       "  </thead>\n",
       "  <tbody>\n",
       "    <tr>\n",
       "      <th>0</th>\n",
       "      <td>0</td>\n",
       "      <td>0</td>\n",
       "      <td>7.0</td>\n",
       "      <td>2015</td>\n",
       "      <td>July</td>\n",
       "      <td>27</td>\n",
       "      <td>1</td>\n",
       "      <td>0</td>\n",
       "      <td>1</td>\n",
       "      <td>1.0</td>\n",
       "      <td>...</td>\n",
       "      <td>0</td>\n",
       "      <td>0</td>\n",
       "      <td>0</td>\n",
       "      <td>A</td>\n",
       "      <td>0</td>\n",
       "      <td>0</td>\n",
       "      <td>Transient</td>\n",
       "      <td>0</td>\n",
       "      <td>0</td>\n",
       "      <td>1</td>\n",
       "    </tr>\n",
       "    <tr>\n",
       "      <th>1</th>\n",
       "      <td>1</td>\n",
       "      <td>0</td>\n",
       "      <td>14.0</td>\n",
       "      <td>2015</td>\n",
       "      <td>July</td>\n",
       "      <td>27</td>\n",
       "      <td>1</td>\n",
       "      <td>0</td>\n",
       "      <td>2</td>\n",
       "      <td>2.0</td>\n",
       "      <td>...</td>\n",
       "      <td>0</td>\n",
       "      <td>0</td>\n",
       "      <td>0</td>\n",
       "      <td>A</td>\n",
       "      <td>0</td>\n",
       "      <td>0</td>\n",
       "      <td>Transient</td>\n",
       "      <td>0</td>\n",
       "      <td>1</td>\n",
       "      <td>2</td>\n",
       "    </tr>\n",
       "    <tr>\n",
       "      <th>2</th>\n",
       "      <td>2</td>\n",
       "      <td>0</td>\n",
       "      <td>0.0</td>\n",
       "      <td>2015</td>\n",
       "      <td>July</td>\n",
       "      <td>27</td>\n",
       "      <td>1</td>\n",
       "      <td>0</td>\n",
       "      <td>2</td>\n",
       "      <td>2.0</td>\n",
       "      <td>...</td>\n",
       "      <td>0</td>\n",
       "      <td>0</td>\n",
       "      <td>0</td>\n",
       "      <td>C</td>\n",
       "      <td>0</td>\n",
       "      <td>0</td>\n",
       "      <td>Transient</td>\n",
       "      <td>0</td>\n",
       "      <td>0</td>\n",
       "      <td>2</td>\n",
       "    </tr>\n",
       "    <tr>\n",
       "      <th>3</th>\n",
       "      <td>3</td>\n",
       "      <td>0</td>\n",
       "      <td>9.0</td>\n",
       "      <td>2015</td>\n",
       "      <td>July</td>\n",
       "      <td>27</td>\n",
       "      <td>1</td>\n",
       "      <td>0</td>\n",
       "      <td>2</td>\n",
       "      <td>2.0</td>\n",
       "      <td>...</td>\n",
       "      <td>0</td>\n",
       "      <td>0</td>\n",
       "      <td>0</td>\n",
       "      <td>C</td>\n",
       "      <td>0</td>\n",
       "      <td>0</td>\n",
       "      <td>Transient</td>\n",
       "      <td>0</td>\n",
       "      <td>1</td>\n",
       "      <td>2</td>\n",
       "    </tr>\n",
       "    <tr>\n",
       "      <th>4</th>\n",
       "      <td>4</td>\n",
       "      <td>1</td>\n",
       "      <td>85.0</td>\n",
       "      <td>2015</td>\n",
       "      <td>July</td>\n",
       "      <td>27</td>\n",
       "      <td>1</td>\n",
       "      <td>0</td>\n",
       "      <td>3</td>\n",
       "      <td>2.0</td>\n",
       "      <td>...</td>\n",
       "      <td>0</td>\n",
       "      <td>0</td>\n",
       "      <td>0</td>\n",
       "      <td>A</td>\n",
       "      <td>0</td>\n",
       "      <td>0</td>\n",
       "      <td>Transient</td>\n",
       "      <td>0</td>\n",
       "      <td>1</td>\n",
       "      <td>3</td>\n",
       "    </tr>\n",
       "    <tr>\n",
       "      <th>...</th>\n",
       "      <td>...</td>\n",
       "      <td>...</td>\n",
       "      <td>...</td>\n",
       "      <td>...</td>\n",
       "      <td>...</td>\n",
       "      <td>...</td>\n",
       "      <td>...</td>\n",
       "      <td>...</td>\n",
       "      <td>...</td>\n",
       "      <td>...</td>\n",
       "      <td>...</td>\n",
       "      <td>...</td>\n",
       "      <td>...</td>\n",
       "      <td>...</td>\n",
       "      <td>...</td>\n",
       "      <td>...</td>\n",
       "      <td>...</td>\n",
       "      <td>...</td>\n",
       "      <td>...</td>\n",
       "      <td>...</td>\n",
       "      <td>...</td>\n",
       "    </tr>\n",
       "    <tr>\n",
       "      <th>65224</th>\n",
       "      <td>84057</td>\n",
       "      <td>0</td>\n",
       "      <td>23.0</td>\n",
       "      <td>2016</td>\n",
       "      <td>December</td>\n",
       "      <td>53</td>\n",
       "      <td>30</td>\n",
       "      <td>2</td>\n",
       "      <td>4</td>\n",
       "      <td>2.0</td>\n",
       "      <td>...</td>\n",
       "      <td>0</td>\n",
       "      <td>0</td>\n",
       "      <td>0</td>\n",
       "      <td>D</td>\n",
       "      <td>0</td>\n",
       "      <td>0</td>\n",
       "      <td>Transient</td>\n",
       "      <td>0</td>\n",
       "      <td>2</td>\n",
       "      <td>6</td>\n",
       "    </tr>\n",
       "    <tr>\n",
       "      <th>65225</th>\n",
       "      <td>84063</td>\n",
       "      <td>0</td>\n",
       "      <td>53.0</td>\n",
       "      <td>2016</td>\n",
       "      <td>December</td>\n",
       "      <td>53</td>\n",
       "      <td>31</td>\n",
       "      <td>2</td>\n",
       "      <td>3</td>\n",
       "      <td>2.0</td>\n",
       "      <td>...</td>\n",
       "      <td>0</td>\n",
       "      <td>0</td>\n",
       "      <td>0</td>\n",
       "      <td>D</td>\n",
       "      <td>0</td>\n",
       "      <td>0</td>\n",
       "      <td>Transient</td>\n",
       "      <td>0</td>\n",
       "      <td>3</td>\n",
       "      <td>5</td>\n",
       "    </tr>\n",
       "    <tr>\n",
       "      <th>65226</th>\n",
       "      <td>84094</td>\n",
       "      <td>0</td>\n",
       "      <td>7.0</td>\n",
       "      <td>2016</td>\n",
       "      <td>December</td>\n",
       "      <td>53</td>\n",
       "      <td>31</td>\n",
       "      <td>2</td>\n",
       "      <td>4</td>\n",
       "      <td>2.0</td>\n",
       "      <td>...</td>\n",
       "      <td>0</td>\n",
       "      <td>0</td>\n",
       "      <td>0</td>\n",
       "      <td>D</td>\n",
       "      <td>0</td>\n",
       "      <td>0</td>\n",
       "      <td>Transient</td>\n",
       "      <td>0</td>\n",
       "      <td>1</td>\n",
       "      <td>6</td>\n",
       "    </tr>\n",
       "    <tr>\n",
       "      <th>65227</th>\n",
       "      <td>84117</td>\n",
       "      <td>0</td>\n",
       "      <td>17.0</td>\n",
       "      <td>2016</td>\n",
       "      <td>December</td>\n",
       "      <td>53</td>\n",
       "      <td>30</td>\n",
       "      <td>2</td>\n",
       "      <td>5</td>\n",
       "      <td>2.0</td>\n",
       "      <td>...</td>\n",
       "      <td>0</td>\n",
       "      <td>0</td>\n",
       "      <td>0</td>\n",
       "      <td>A</td>\n",
       "      <td>0</td>\n",
       "      <td>0</td>\n",
       "      <td>Transient</td>\n",
       "      <td>0</td>\n",
       "      <td>1</td>\n",
       "      <td>7</td>\n",
       "    </tr>\n",
       "    <tr>\n",
       "      <th>65228</th>\n",
       "      <td>84121</td>\n",
       "      <td>0</td>\n",
       "      <td>107.0</td>\n",
       "      <td>2016</td>\n",
       "      <td>December</td>\n",
       "      <td>53</td>\n",
       "      <td>31</td>\n",
       "      <td>2</td>\n",
       "      <td>5</td>\n",
       "      <td>2.0</td>\n",
       "      <td>...</td>\n",
       "      <td>0</td>\n",
       "      <td>0</td>\n",
       "      <td>0</td>\n",
       "      <td>A</td>\n",
       "      <td>0</td>\n",
       "      <td>0</td>\n",
       "      <td>Transient</td>\n",
       "      <td>0</td>\n",
       "      <td>0</td>\n",
       "      <td>7</td>\n",
       "    </tr>\n",
       "  </tbody>\n",
       "</table>\n",
       "<p>65229 rows × 25 columns</p>\n",
       "</div>"
      ],
      "text/plain": [
       "          id  is_canceled  lead_time  arrival_date_year arrival_date_month  \\\n",
       "0          0            0        7.0               2015               July   \n",
       "1          1            0       14.0               2015               July   \n",
       "2          2            0        0.0               2015               July   \n",
       "3          3            0        9.0               2015               July   \n",
       "4          4            1       85.0               2015               July   \n",
       "...      ...          ...        ...                ...                ...   \n",
       "65224  84057            0       23.0               2016           December   \n",
       "65225  84063            0       53.0               2016           December   \n",
       "65226  84094            0        7.0               2016           December   \n",
       "65227  84117            0       17.0               2016           December   \n",
       "65228  84121            0      107.0               2016           December   \n",
       "\n",
       "       arrival_date_week_number  arrival_date_day_of_month  \\\n",
       "0                            27                          1   \n",
       "1                            27                          1   \n",
       "2                            27                          1   \n",
       "3                            27                          1   \n",
       "4                            27                          1   \n",
       "...                         ...                        ...   \n",
       "65224                        53                         30   \n",
       "65225                        53                         31   \n",
       "65226                        53                         31   \n",
       "65227                        53                         30   \n",
       "65228                        53                         31   \n",
       "\n",
       "       stays_in_weekend_nights  stays_in_week_nights  adults  ...  \\\n",
       "0                            0                     1     1.0  ...   \n",
       "1                            0                     2     2.0  ...   \n",
       "2                            0                     2     2.0  ...   \n",
       "3                            0                     2     2.0  ...   \n",
       "4                            0                     3     2.0  ...   \n",
       "...                        ...                   ...     ...  ...   \n",
       "65224                        2                     4     2.0  ...   \n",
       "65225                        2                     3     2.0  ...   \n",
       "65226                        2                     4     2.0  ...   \n",
       "65227                        2                     5     2.0  ...   \n",
       "65228                        2                     5     2.0  ...   \n",
       "\n",
       "       is_repeated_guest  previous_cancellations  \\\n",
       "0                      0                       0   \n",
       "1                      0                       0   \n",
       "2                      0                       0   \n",
       "3                      0                       0   \n",
       "4                      0                       0   \n",
       "...                  ...                     ...   \n",
       "65224                  0                       0   \n",
       "65225                  0                       0   \n",
       "65226                  0                       0   \n",
       "65227                  0                       0   \n",
       "65228                  0                       0   \n",
       "\n",
       "      previous_bookings_not_canceled reserved_room_type booking_changes  \\\n",
       "0                                  0   A                              0   \n",
       "1                                  0   A                              0   \n",
       "2                                  0   C                              0   \n",
       "3                                  0   C                              0   \n",
       "4                                  0   A                              0   \n",
       "...                              ...                ...             ...   \n",
       "65224                              0   D                              0   \n",
       "65225                              0   D                              0   \n",
       "65226                              0   D                              0   \n",
       "65227                              0   A                              0   \n",
       "65228                              0   A                              0   \n",
       "\n",
       "       days_in_waiting_list  customer_type  required_car_parking_spaces  \\\n",
       "0                         0      Transient                            0   \n",
       "1                         0      Transient                            0   \n",
       "2                         0      Transient                            0   \n",
       "3                         0      Transient                            0   \n",
       "4                         0      Transient                            0   \n",
       "...                     ...            ...                          ...   \n",
       "65224                     0      Transient                            0   \n",
       "65225                     0      Transient                            0   \n",
       "65226                     0      Transient                            0   \n",
       "65227                     0      Transient                            0   \n",
       "65228                     0      Transient                            0   \n",
       "\n",
       "      total_of_special_requests  total_nights  \n",
       "0                             0             1  \n",
       "1                             1             2  \n",
       "2                             0             2  \n",
       "3                             1             2  \n",
       "4                             1             3  \n",
       "...                         ...           ...  \n",
       "65224                         2             6  \n",
       "65225                         3             5  \n",
       "65226                         1             6  \n",
       "65227                         1             7  \n",
       "65228                         0             7  \n",
       "\n",
       "[65229 rows x 25 columns]"
      ]
     },
     "execution_count": 5,
     "metadata": {},
     "output_type": "execute_result"
    }
   ],
   "source": [
    "df"
   ]
  },
  {
   "cell_type": "code",
   "execution_count": 6,
   "metadata": {},
   "outputs": [
    {
     "name": "stdout",
     "output_type": "stream",
     "text": [
      "<class 'pandas.core.frame.DataFrame'>\n",
      "RangeIndex: 32412 entries, 0 to 32411\n",
      "Data columns (total 25 columns):\n",
      " #   Column                          Non-Null Count  Dtype  \n",
      "---  ------                          --------------  -----  \n",
      " 0   id                              32412 non-null  int64  \n",
      " 1   is_canceled                     32412 non-null  int64  \n",
      " 2   lead_time                       32412 non-null  float64\n",
      " 3   arrival_date_year               32412 non-null  int64  \n",
      " 4   arrival_date_month              32412 non-null  object \n",
      " 5   arrival_date_week_number        32412 non-null  int64  \n",
      " 6   arrival_date_day_of_month       32412 non-null  int64  \n",
      " 7   stays_in_weekend_nights         32412 non-null  int64  \n",
      " 8   stays_in_week_nights            32412 non-null  int64  \n",
      " 9   adults                          32412 non-null  float64\n",
      " 10  children                        32412 non-null  float64\n",
      " 11  babies                          32412 non-null  float64\n",
      " 12  meal                            32412 non-null  object \n",
      " 13  country                         32412 non-null  object \n",
      " 14  distribution_channel            32412 non-null  object \n",
      " 15  is_repeated_guest               32412 non-null  int64  \n",
      " 16  previous_cancellations          32412 non-null  int64  \n",
      " 17  previous_bookings_not_canceled  32412 non-null  int64  \n",
      " 18  reserved_room_type              32412 non-null  object \n",
      " 19  booking_changes                 32412 non-null  int64  \n",
      " 20  days_in_waiting_list            32412 non-null  int64  \n",
      " 21  customer_type                   32412 non-null  object \n",
      " 22  required_car_parking_spaces     32412 non-null  int64  \n",
      " 23  total_of_special_requests       32412 non-null  int64  \n",
      " 24  total_nights                    32412 non-null  int64  \n",
      "dtypes: float64(4), int64(15), object(6)\n",
      "memory usage: 6.2+ MB\n"
     ]
    }
   ],
   "source": [
    "df_test.info()"
   ]
  },
  {
   "cell_type": "code",
   "execution_count": 7,
   "metadata": {},
   "outputs": [
    {
     "data": {
      "text/html": [
       "<div>\n",
       "<style scoped>\n",
       "    .dataframe tbody tr th:only-of-type {\n",
       "        vertical-align: middle;\n",
       "    }\n",
       "\n",
       "    .dataframe tbody tr th {\n",
       "        vertical-align: top;\n",
       "    }\n",
       "\n",
       "    .dataframe thead th {\n",
       "        text-align: right;\n",
       "    }\n",
       "</style>\n",
       "<table border=\"1\" class=\"dataframe\">\n",
       "  <thead>\n",
       "    <tr style=\"text-align: right;\">\n",
       "      <th></th>\n",
       "      <th>id</th>\n",
       "      <th>is_canceled</th>\n",
       "      <th>lead_time</th>\n",
       "      <th>arrival_date_year</th>\n",
       "      <th>arrival_date_week_number</th>\n",
       "      <th>arrival_date_day_of_month</th>\n",
       "      <th>stays_in_weekend_nights</th>\n",
       "      <th>stays_in_week_nights</th>\n",
       "      <th>adults</th>\n",
       "      <th>children</th>\n",
       "      <th>babies</th>\n",
       "      <th>is_repeated_guest</th>\n",
       "      <th>previous_cancellations</th>\n",
       "      <th>previous_bookings_not_canceled</th>\n",
       "      <th>booking_changes</th>\n",
       "      <th>days_in_waiting_list</th>\n",
       "      <th>required_car_parking_spaces</th>\n",
       "      <th>total_of_special_requests</th>\n",
       "      <th>total_nights</th>\n",
       "    </tr>\n",
       "  </thead>\n",
       "  <tbody>\n",
       "    <tr>\n",
       "      <th>count</th>\n",
       "      <td>32412.000000</td>\n",
       "      <td>32412.000000</td>\n",
       "      <td>32412.000000</td>\n",
       "      <td>32412.0</td>\n",
       "      <td>32412.000000</td>\n",
       "      <td>32412.000000</td>\n",
       "      <td>32412.000000</td>\n",
       "      <td>32412.00000</td>\n",
       "      <td>32412.000000</td>\n",
       "      <td>32412.000000</td>\n",
       "      <td>32412.000000</td>\n",
       "      <td>32412.000000</td>\n",
       "      <td>32412.000000</td>\n",
       "      <td>32412.000000</td>\n",
       "      <td>32412.000000</td>\n",
       "      <td>32412.000000</td>\n",
       "      <td>32412.000000</td>\n",
       "      <td>32412.000000</td>\n",
       "      <td>32412.000000</td>\n",
       "    </tr>\n",
       "    <tr>\n",
       "      <th>mean</th>\n",
       "      <td>60131.505183</td>\n",
       "      <td>0.388467</td>\n",
       "      <td>97.587869</td>\n",
       "      <td>2017.0</td>\n",
       "      <td>17.804054</td>\n",
       "      <td>15.656948</td>\n",
       "      <td>0.867888</td>\n",
       "      <td>2.34009</td>\n",
       "      <td>1.858602</td>\n",
       "      <td>0.083765</td>\n",
       "      <td>0.005523</td>\n",
       "      <td>0.031377</td>\n",
       "      <td>0.011601</td>\n",
       "      <td>0.171418</td>\n",
       "      <td>0.216741</td>\n",
       "      <td>0.262341</td>\n",
       "      <td>0.046248</td>\n",
       "      <td>0.657781</td>\n",
       "      <td>3.207979</td>\n",
       "    </tr>\n",
       "    <tr>\n",
       "      <th>std</th>\n",
       "      <td>29953.586177</td>\n",
       "      <td>0.487409</td>\n",
       "      <td>86.507146</td>\n",
       "      <td>0.0</td>\n",
       "      <td>9.177384</td>\n",
       "      <td>8.766429</td>\n",
       "      <td>0.853394</td>\n",
       "      <td>1.37517</td>\n",
       "      <td>0.489341</td>\n",
       "      <td>0.343470</td>\n",
       "      <td>0.075757</td>\n",
       "      <td>0.174338</td>\n",
       "      <td>0.180473</td>\n",
       "      <td>1.875170</td>\n",
       "      <td>0.640551</td>\n",
       "      <td>4.733027</td>\n",
       "      <td>0.219367</td>\n",
       "      <td>0.834341</td>\n",
       "      <td>1.738683</td>\n",
       "    </tr>\n",
       "    <tr>\n",
       "      <th>min</th>\n",
       "      <td>6086.000000</td>\n",
       "      <td>0.000000</td>\n",
       "      <td>0.000000</td>\n",
       "      <td>2017.0</td>\n",
       "      <td>1.000000</td>\n",
       "      <td>1.000000</td>\n",
       "      <td>0.000000</td>\n",
       "      <td>0.00000</td>\n",
       "      <td>0.000000</td>\n",
       "      <td>0.000000</td>\n",
       "      <td>0.000000</td>\n",
       "      <td>0.000000</td>\n",
       "      <td>0.000000</td>\n",
       "      <td>0.000000</td>\n",
       "      <td>0.000000</td>\n",
       "      <td>0.000000</td>\n",
       "      <td>0.000000</td>\n",
       "      <td>0.000000</td>\n",
       "      <td>1.000000</td>\n",
       "    </tr>\n",
       "    <tr>\n",
       "      <th>25%</th>\n",
       "      <td>45291.750000</td>\n",
       "      <td>0.000000</td>\n",
       "      <td>23.000000</td>\n",
       "      <td>2017.0</td>\n",
       "      <td>10.000000</td>\n",
       "      <td>8.000000</td>\n",
       "      <td>0.000000</td>\n",
       "      <td>1.00000</td>\n",
       "      <td>2.000000</td>\n",
       "      <td>0.000000</td>\n",
       "      <td>0.000000</td>\n",
       "      <td>0.000000</td>\n",
       "      <td>0.000000</td>\n",
       "      <td>0.000000</td>\n",
       "      <td>0.000000</td>\n",
       "      <td>0.000000</td>\n",
       "      <td>0.000000</td>\n",
       "      <td>0.000000</td>\n",
       "      <td>2.000000</td>\n",
       "    </tr>\n",
       "    <tr>\n",
       "      <th>50%</th>\n",
       "      <td>53394.500000</td>\n",
       "      <td>0.000000</td>\n",
       "      <td>76.000000</td>\n",
       "      <td>2017.0</td>\n",
       "      <td>18.000000</td>\n",
       "      <td>15.500000</td>\n",
       "      <td>1.000000</td>\n",
       "      <td>2.00000</td>\n",
       "      <td>2.000000</td>\n",
       "      <td>0.000000</td>\n",
       "      <td>0.000000</td>\n",
       "      <td>0.000000</td>\n",
       "      <td>0.000000</td>\n",
       "      <td>0.000000</td>\n",
       "      <td>0.000000</td>\n",
       "      <td>0.000000</td>\n",
       "      <td>0.000000</td>\n",
       "      <td>0.000000</td>\n",
       "      <td>3.000000</td>\n",
       "    </tr>\n",
       "    <tr>\n",
       "      <th>75%</th>\n",
       "      <td>89800.250000</td>\n",
       "      <td>1.000000</td>\n",
       "      <td>155.000000</td>\n",
       "      <td>2017.0</td>\n",
       "      <td>25.000000</td>\n",
       "      <td>23.000000</td>\n",
       "      <td>2.000000</td>\n",
       "      <td>3.00000</td>\n",
       "      <td>2.000000</td>\n",
       "      <td>0.000000</td>\n",
       "      <td>0.000000</td>\n",
       "      <td>0.000000</td>\n",
       "      <td>0.000000</td>\n",
       "      <td>0.000000</td>\n",
       "      <td>0.000000</td>\n",
       "      <td>0.000000</td>\n",
       "      <td>0.000000</td>\n",
       "      <td>1.000000</td>\n",
       "      <td>4.000000</td>\n",
       "    </tr>\n",
       "    <tr>\n",
       "      <th>max</th>\n",
       "      <td>97903.000000</td>\n",
       "      <td>1.000000</td>\n",
       "      <td>373.000000</td>\n",
       "      <td>2017.0</td>\n",
       "      <td>35.000000</td>\n",
       "      <td>31.000000</td>\n",
       "      <td>4.000000</td>\n",
       "      <td>6.00000</td>\n",
       "      <td>4.000000</td>\n",
       "      <td>3.000000</td>\n",
       "      <td>2.000000</td>\n",
       "      <td>1.000000</td>\n",
       "      <td>6.000000</td>\n",
       "      <td>72.000000</td>\n",
       "      <td>18.000000</td>\n",
       "      <td>223.000000</td>\n",
       "      <td>8.000000</td>\n",
       "      <td>5.000000</td>\n",
       "      <td>10.000000</td>\n",
       "    </tr>\n",
       "  </tbody>\n",
       "</table>\n",
       "</div>"
      ],
      "text/plain": [
       "                 id   is_canceled     lead_time  arrival_date_year  \\\n",
       "count  32412.000000  32412.000000  32412.000000            32412.0   \n",
       "mean   60131.505183      0.388467     97.587869             2017.0   \n",
       "std    29953.586177      0.487409     86.507146                0.0   \n",
       "min     6086.000000      0.000000      0.000000             2017.0   \n",
       "25%    45291.750000      0.000000     23.000000             2017.0   \n",
       "50%    53394.500000      0.000000     76.000000             2017.0   \n",
       "75%    89800.250000      1.000000    155.000000             2017.0   \n",
       "max    97903.000000      1.000000    373.000000             2017.0   \n",
       "\n",
       "       arrival_date_week_number  arrival_date_day_of_month  \\\n",
       "count              32412.000000               32412.000000   \n",
       "mean                  17.804054                  15.656948   \n",
       "std                    9.177384                   8.766429   \n",
       "min                    1.000000                   1.000000   \n",
       "25%                   10.000000                   8.000000   \n",
       "50%                   18.000000                  15.500000   \n",
       "75%                   25.000000                  23.000000   \n",
       "max                   35.000000                  31.000000   \n",
       "\n",
       "       stays_in_weekend_nights  stays_in_week_nights        adults  \\\n",
       "count             32412.000000           32412.00000  32412.000000   \n",
       "mean                  0.867888               2.34009      1.858602   \n",
       "std                   0.853394               1.37517      0.489341   \n",
       "min                   0.000000               0.00000      0.000000   \n",
       "25%                   0.000000               1.00000      2.000000   \n",
       "50%                   1.000000               2.00000      2.000000   \n",
       "75%                   2.000000               3.00000      2.000000   \n",
       "max                   4.000000               6.00000      4.000000   \n",
       "\n",
       "           children        babies  is_repeated_guest  previous_cancellations  \\\n",
       "count  32412.000000  32412.000000       32412.000000            32412.000000   \n",
       "mean       0.083765      0.005523           0.031377                0.011601   \n",
       "std        0.343470      0.075757           0.174338                0.180473   \n",
       "min        0.000000      0.000000           0.000000                0.000000   \n",
       "25%        0.000000      0.000000           0.000000                0.000000   \n",
       "50%        0.000000      0.000000           0.000000                0.000000   \n",
       "75%        0.000000      0.000000           0.000000                0.000000   \n",
       "max        3.000000      2.000000           1.000000                6.000000   \n",
       "\n",
       "       previous_bookings_not_canceled  booking_changes  days_in_waiting_list  \\\n",
       "count                    32412.000000     32412.000000          32412.000000   \n",
       "mean                         0.171418         0.216741              0.262341   \n",
       "std                          1.875170         0.640551              4.733027   \n",
       "min                          0.000000         0.000000              0.000000   \n",
       "25%                          0.000000         0.000000              0.000000   \n",
       "50%                          0.000000         0.000000              0.000000   \n",
       "75%                          0.000000         0.000000              0.000000   \n",
       "max                         72.000000        18.000000            223.000000   \n",
       "\n",
       "       required_car_parking_spaces  total_of_special_requests  total_nights  \n",
       "count                 32412.000000               32412.000000  32412.000000  \n",
       "mean                      0.046248                   0.657781      3.207979  \n",
       "std                       0.219367                   0.834341      1.738683  \n",
       "min                       0.000000                   0.000000      1.000000  \n",
       "25%                       0.000000                   0.000000      2.000000  \n",
       "50%                       0.000000                   0.000000      3.000000  \n",
       "75%                       0.000000                   1.000000      4.000000  \n",
       "max                       8.000000                   5.000000     10.000000  "
      ]
     },
     "execution_count": 7,
     "metadata": {},
     "output_type": "execute_result"
    }
   ],
   "source": [
    "df_test.describe()"
   ]
  },
  {
   "cell_type": "code",
   "execution_count": 8,
   "metadata": {},
   "outputs": [
    {
     "data": {
      "text/html": [
       "<div>\n",
       "<style scoped>\n",
       "    .dataframe tbody tr th:only-of-type {\n",
       "        vertical-align: middle;\n",
       "    }\n",
       "\n",
       "    .dataframe tbody tr th {\n",
       "        vertical-align: top;\n",
       "    }\n",
       "\n",
       "    .dataframe thead th {\n",
       "        text-align: right;\n",
       "    }\n",
       "</style>\n",
       "<table border=\"1\" class=\"dataframe\">\n",
       "  <thead>\n",
       "    <tr style=\"text-align: right;\">\n",
       "      <th></th>\n",
       "      <th>id</th>\n",
       "      <th>is_canceled</th>\n",
       "      <th>lead_time</th>\n",
       "      <th>arrival_date_year</th>\n",
       "      <th>arrival_date_month</th>\n",
       "      <th>arrival_date_week_number</th>\n",
       "      <th>arrival_date_day_of_month</th>\n",
       "      <th>stays_in_weekend_nights</th>\n",
       "      <th>stays_in_week_nights</th>\n",
       "      <th>adults</th>\n",
       "      <th>...</th>\n",
       "      <th>is_repeated_guest</th>\n",
       "      <th>previous_cancellations</th>\n",
       "      <th>previous_bookings_not_canceled</th>\n",
       "      <th>reserved_room_type</th>\n",
       "      <th>booking_changes</th>\n",
       "      <th>days_in_waiting_list</th>\n",
       "      <th>customer_type</th>\n",
       "      <th>required_car_parking_spaces</th>\n",
       "      <th>total_of_special_requests</th>\n",
       "      <th>total_nights</th>\n",
       "    </tr>\n",
       "  </thead>\n",
       "  <tbody>\n",
       "    <tr>\n",
       "      <th>0</th>\n",
       "      <td>6086</td>\n",
       "      <td>1</td>\n",
       "      <td>74.0</td>\n",
       "      <td>2017</td>\n",
       "      <td>January</td>\n",
       "      <td>1</td>\n",
       "      <td>1</td>\n",
       "      <td>1</td>\n",
       "      <td>0</td>\n",
       "      <td>2.0</td>\n",
       "      <td>...</td>\n",
       "      <td>0</td>\n",
       "      <td>0</td>\n",
       "      <td>0</td>\n",
       "      <td>A</td>\n",
       "      <td>0</td>\n",
       "      <td>0</td>\n",
       "      <td>Transient</td>\n",
       "      <td>0</td>\n",
       "      <td>0</td>\n",
       "      <td>1</td>\n",
       "    </tr>\n",
       "    <tr>\n",
       "      <th>1</th>\n",
       "      <td>6087</td>\n",
       "      <td>1</td>\n",
       "      <td>62.0</td>\n",
       "      <td>2017</td>\n",
       "      <td>January</td>\n",
       "      <td>1</td>\n",
       "      <td>1</td>\n",
       "      <td>2</td>\n",
       "      <td>2</td>\n",
       "      <td>2.0</td>\n",
       "      <td>...</td>\n",
       "      <td>0</td>\n",
       "      <td>0</td>\n",
       "      <td>0</td>\n",
       "      <td>A</td>\n",
       "      <td>0</td>\n",
       "      <td>0</td>\n",
       "      <td>Transient</td>\n",
       "      <td>0</td>\n",
       "      <td>1</td>\n",
       "      <td>4</td>\n",
       "    </tr>\n",
       "    <tr>\n",
       "      <th>2</th>\n",
       "      <td>6088</td>\n",
       "      <td>1</td>\n",
       "      <td>62.0</td>\n",
       "      <td>2017</td>\n",
       "      <td>January</td>\n",
       "      <td>1</td>\n",
       "      <td>1</td>\n",
       "      <td>2</td>\n",
       "      <td>2</td>\n",
       "      <td>2.0</td>\n",
       "      <td>...</td>\n",
       "      <td>0</td>\n",
       "      <td>0</td>\n",
       "      <td>0</td>\n",
       "      <td>A</td>\n",
       "      <td>0</td>\n",
       "      <td>0</td>\n",
       "      <td>Transient</td>\n",
       "      <td>0</td>\n",
       "      <td>1</td>\n",
       "      <td>4</td>\n",
       "    </tr>\n",
       "    <tr>\n",
       "      <th>3</th>\n",
       "      <td>6089</td>\n",
       "      <td>1</td>\n",
       "      <td>71.0</td>\n",
       "      <td>2017</td>\n",
       "      <td>January</td>\n",
       "      <td>1</td>\n",
       "      <td>1</td>\n",
       "      <td>2</td>\n",
       "      <td>2</td>\n",
       "      <td>1.0</td>\n",
       "      <td>...</td>\n",
       "      <td>0</td>\n",
       "      <td>0</td>\n",
       "      <td>0</td>\n",
       "      <td>A</td>\n",
       "      <td>0</td>\n",
       "      <td>0</td>\n",
       "      <td>Transient</td>\n",
       "      <td>0</td>\n",
       "      <td>1</td>\n",
       "      <td>4</td>\n",
       "    </tr>\n",
       "    <tr>\n",
       "      <th>4</th>\n",
       "      <td>6090</td>\n",
       "      <td>1</td>\n",
       "      <td>172.0</td>\n",
       "      <td>2017</td>\n",
       "      <td>January</td>\n",
       "      <td>1</td>\n",
       "      <td>1</td>\n",
       "      <td>2</td>\n",
       "      <td>5</td>\n",
       "      <td>2.0</td>\n",
       "      <td>...</td>\n",
       "      <td>0</td>\n",
       "      <td>0</td>\n",
       "      <td>0</td>\n",
       "      <td>A</td>\n",
       "      <td>0</td>\n",
       "      <td>0</td>\n",
       "      <td>Transient</td>\n",
       "      <td>0</td>\n",
       "      <td>0</td>\n",
       "      <td>7</td>\n",
       "    </tr>\n",
       "    <tr>\n",
       "      <th>...</th>\n",
       "      <td>...</td>\n",
       "      <td>...</td>\n",
       "      <td>...</td>\n",
       "      <td>...</td>\n",
       "      <td>...</td>\n",
       "      <td>...</td>\n",
       "      <td>...</td>\n",
       "      <td>...</td>\n",
       "      <td>...</td>\n",
       "      <td>...</td>\n",
       "      <td>...</td>\n",
       "      <td>...</td>\n",
       "      <td>...</td>\n",
       "      <td>...</td>\n",
       "      <td>...</td>\n",
       "      <td>...</td>\n",
       "      <td>...</td>\n",
       "      <td>...</td>\n",
       "      <td>...</td>\n",
       "      <td>...</td>\n",
       "      <td>...</td>\n",
       "    </tr>\n",
       "    <tr>\n",
       "      <th>32407</th>\n",
       "      <td>97899</td>\n",
       "      <td>0</td>\n",
       "      <td>164.0</td>\n",
       "      <td>2017</td>\n",
       "      <td>August</td>\n",
       "      <td>35</td>\n",
       "      <td>31</td>\n",
       "      <td>2</td>\n",
       "      <td>4</td>\n",
       "      <td>2.0</td>\n",
       "      <td>...</td>\n",
       "      <td>0</td>\n",
       "      <td>0</td>\n",
       "      <td>0</td>\n",
       "      <td>A</td>\n",
       "      <td>0</td>\n",
       "      <td>0</td>\n",
       "      <td>Transient</td>\n",
       "      <td>0</td>\n",
       "      <td>0</td>\n",
       "      <td>6</td>\n",
       "    </tr>\n",
       "    <tr>\n",
       "      <th>32408</th>\n",
       "      <td>97900</td>\n",
       "      <td>0</td>\n",
       "      <td>21.0</td>\n",
       "      <td>2017</td>\n",
       "      <td>August</td>\n",
       "      <td>35</td>\n",
       "      <td>30</td>\n",
       "      <td>2</td>\n",
       "      <td>5</td>\n",
       "      <td>2.0</td>\n",
       "      <td>...</td>\n",
       "      <td>0</td>\n",
       "      <td>0</td>\n",
       "      <td>0</td>\n",
       "      <td>A</td>\n",
       "      <td>0</td>\n",
       "      <td>0</td>\n",
       "      <td>Transient</td>\n",
       "      <td>0</td>\n",
       "      <td>2</td>\n",
       "      <td>7</td>\n",
       "    </tr>\n",
       "    <tr>\n",
       "      <th>32409</th>\n",
       "      <td>97901</td>\n",
       "      <td>0</td>\n",
       "      <td>23.0</td>\n",
       "      <td>2017</td>\n",
       "      <td>August</td>\n",
       "      <td>35</td>\n",
       "      <td>30</td>\n",
       "      <td>2</td>\n",
       "      <td>5</td>\n",
       "      <td>2.0</td>\n",
       "      <td>...</td>\n",
       "      <td>0</td>\n",
       "      <td>0</td>\n",
       "      <td>0</td>\n",
       "      <td>A</td>\n",
       "      <td>0</td>\n",
       "      <td>0</td>\n",
       "      <td>Transient</td>\n",
       "      <td>0</td>\n",
       "      <td>0</td>\n",
       "      <td>7</td>\n",
       "    </tr>\n",
       "    <tr>\n",
       "      <th>32410</th>\n",
       "      <td>97902</td>\n",
       "      <td>0</td>\n",
       "      <td>34.0</td>\n",
       "      <td>2017</td>\n",
       "      <td>August</td>\n",
       "      <td>35</td>\n",
       "      <td>31</td>\n",
       "      <td>2</td>\n",
       "      <td>5</td>\n",
       "      <td>2.0</td>\n",
       "      <td>...</td>\n",
       "      <td>0</td>\n",
       "      <td>0</td>\n",
       "      <td>0</td>\n",
       "      <td>D</td>\n",
       "      <td>0</td>\n",
       "      <td>0</td>\n",
       "      <td>Transient</td>\n",
       "      <td>0</td>\n",
       "      <td>4</td>\n",
       "      <td>7</td>\n",
       "    </tr>\n",
       "    <tr>\n",
       "      <th>32411</th>\n",
       "      <td>97903</td>\n",
       "      <td>0</td>\n",
       "      <td>109.0</td>\n",
       "      <td>2017</td>\n",
       "      <td>August</td>\n",
       "      <td>35</td>\n",
       "      <td>31</td>\n",
       "      <td>2</td>\n",
       "      <td>5</td>\n",
       "      <td>2.0</td>\n",
       "      <td>...</td>\n",
       "      <td>0</td>\n",
       "      <td>0</td>\n",
       "      <td>0</td>\n",
       "      <td>A</td>\n",
       "      <td>0</td>\n",
       "      <td>0</td>\n",
       "      <td>Transient</td>\n",
       "      <td>0</td>\n",
       "      <td>0</td>\n",
       "      <td>7</td>\n",
       "    </tr>\n",
       "  </tbody>\n",
       "</table>\n",
       "<p>32412 rows × 25 columns</p>\n",
       "</div>"
      ],
      "text/plain": [
       "          id  is_canceled  lead_time  arrival_date_year arrival_date_month  \\\n",
       "0       6086            1       74.0               2017            January   \n",
       "1       6087            1       62.0               2017            January   \n",
       "2       6088            1       62.0               2017            January   \n",
       "3       6089            1       71.0               2017            January   \n",
       "4       6090            1      172.0               2017            January   \n",
       "...      ...          ...        ...                ...                ...   \n",
       "32407  97899            0      164.0               2017             August   \n",
       "32408  97900            0       21.0               2017             August   \n",
       "32409  97901            0       23.0               2017             August   \n",
       "32410  97902            0       34.0               2017             August   \n",
       "32411  97903            0      109.0               2017             August   \n",
       "\n",
       "       arrival_date_week_number  arrival_date_day_of_month  \\\n",
       "0                             1                          1   \n",
       "1                             1                          1   \n",
       "2                             1                          1   \n",
       "3                             1                          1   \n",
       "4                             1                          1   \n",
       "...                         ...                        ...   \n",
       "32407                        35                         31   \n",
       "32408                        35                         30   \n",
       "32409                        35                         30   \n",
       "32410                        35                         31   \n",
       "32411                        35                         31   \n",
       "\n",
       "       stays_in_weekend_nights  stays_in_week_nights  adults  ...  \\\n",
       "0                            1                     0     2.0  ...   \n",
       "1                            2                     2     2.0  ...   \n",
       "2                            2                     2     2.0  ...   \n",
       "3                            2                     2     1.0  ...   \n",
       "4                            2                     5     2.0  ...   \n",
       "...                        ...                   ...     ...  ...   \n",
       "32407                        2                     4     2.0  ...   \n",
       "32408                        2                     5     2.0  ...   \n",
       "32409                        2                     5     2.0  ...   \n",
       "32410                        2                     5     2.0  ...   \n",
       "32411                        2                     5     2.0  ...   \n",
       "\n",
       "       is_repeated_guest  previous_cancellations  \\\n",
       "0                      0                       0   \n",
       "1                      0                       0   \n",
       "2                      0                       0   \n",
       "3                      0                       0   \n",
       "4                      0                       0   \n",
       "...                  ...                     ...   \n",
       "32407                  0                       0   \n",
       "32408                  0                       0   \n",
       "32409                  0                       0   \n",
       "32410                  0                       0   \n",
       "32411                  0                       0   \n",
       "\n",
       "      previous_bookings_not_canceled reserved_room_type booking_changes  \\\n",
       "0                                  0   A                              0   \n",
       "1                                  0   A                              0   \n",
       "2                                  0   A                              0   \n",
       "3                                  0   A                              0   \n",
       "4                                  0   A                              0   \n",
       "...                              ...                ...             ...   \n",
       "32407                              0   A                              0   \n",
       "32408                              0   A                              0   \n",
       "32409                              0   A                              0   \n",
       "32410                              0   D                              0   \n",
       "32411                              0   A                              0   \n",
       "\n",
       "       days_in_waiting_list  customer_type  required_car_parking_spaces  \\\n",
       "0                         0      Transient                            0   \n",
       "1                         0      Transient                            0   \n",
       "2                         0      Transient                            0   \n",
       "3                         0      Transient                            0   \n",
       "4                         0      Transient                            0   \n",
       "...                     ...            ...                          ...   \n",
       "32407                     0      Transient                            0   \n",
       "32408                     0      Transient                            0   \n",
       "32409                     0      Transient                            0   \n",
       "32410                     0      Transient                            0   \n",
       "32411                     0      Transient                            0   \n",
       "\n",
       "      total_of_special_requests  total_nights  \n",
       "0                             0             1  \n",
       "1                             1             4  \n",
       "2                             1             4  \n",
       "3                             1             4  \n",
       "4                             0             7  \n",
       "...                         ...           ...  \n",
       "32407                         0             6  \n",
       "32408                         2             7  \n",
       "32409                         0             7  \n",
       "32410                         4             7  \n",
       "32411                         0             7  \n",
       "\n",
       "[32412 rows x 25 columns]"
      ]
     },
     "execution_count": 8,
     "metadata": {},
     "output_type": "execute_result"
    }
   ],
   "source": [
    "df_test"
   ]
  },
  {
   "cell_type": "markdown",
   "metadata": {},
   "source": [
    "Данные прочитаны и просмотрены. Первое впечатление о данных: пропусков нет, аномальных значений, сильно выбивающихся из общей картины или данных которые явно являются неверными (например отрицательное количество дней), не замечено."
   ]
  },
  {
   "cell_type": "markdown",
   "metadata": {},
   "source": [
    "### Предобработка и исследовательский анализ данных"
   ]
  },
  {
   "cell_type": "code",
   "execution_count": 9,
   "metadata": {},
   "outputs": [
    {
     "data": {
      "text/plain": [
       "array(['BB       ', 'FB       ', 'HB       ', 'SC       ', 'SC'],\n",
       "      dtype=object)"
      ]
     },
     "execution_count": 9,
     "metadata": {},
     "output_type": "execute_result"
    }
   ],
   "source": [
    "df['meal'].unique()"
   ]
  },
  {
   "cell_type": "code",
   "execution_count": 10,
   "metadata": {},
   "outputs": [
    {
     "data": {
      "text/plain": [
       "array(['A               ', 'C               ', 'D               ',\n",
       "       'E               ', 'G               ', 'F               ',\n",
       "       'B               '], dtype=object)"
      ]
     },
     "execution_count": 10,
     "metadata": {},
     "output_type": "execute_result"
    }
   ],
   "source": [
    "df['reserved_room_type'].unique()"
   ]
  },
  {
   "cell_type": "code",
   "execution_count": 11,
   "metadata": {},
   "outputs": [],
   "source": [
    "df['meal'] = df['meal'].apply(lambda x: x.replace(' ', ''))\n",
    "df['reserved_room_type'] = df['reserved_room_type'].apply(lambda x: x.replace(' ', ''))\n",
    "df_test['meal'] = df_test['meal'].apply(lambda x: x.replace(' ', ''))\n",
    "df_test['reserved_room_type'] = df_test['reserved_room_type'].apply(lambda x: x.replace(' ', ''))"
   ]
  },
  {
   "cell_type": "code",
   "execution_count": 12,
   "metadata": {
    "scrolled": true
   },
   "outputs": [
    {
     "data": {
      "text/plain": [
       "array(['BB', 'FB', 'HB', 'SC'], dtype=object)"
      ]
     },
     "execution_count": 12,
     "metadata": {},
     "output_type": "execute_result"
    }
   ],
   "source": [
    "df['meal'].unique()"
   ]
  },
  {
   "cell_type": "code",
   "execution_count": 13,
   "metadata": {
    "scrolled": true
   },
   "outputs": [
    {
     "data": {
      "text/plain": [
       "array(['A', 'C', 'D', 'E', 'G', 'F', 'B'], dtype=object)"
      ]
     },
     "execution_count": 13,
     "metadata": {},
     "output_type": "execute_result"
    }
   ],
   "source": [
    "df['reserved_room_type'].unique()"
   ]
  },
  {
   "cell_type": "code",
   "execution_count": 14,
   "metadata": {},
   "outputs": [],
   "source": [
    "df_total = pd.concat([df, df_test], ignore_index=True)"
   ]
  },
  {
   "cell_type": "code",
   "execution_count": 15,
   "metadata": {
    "scrolled": true
   },
   "outputs": [
    {
     "data": {
      "image/png": "[encoded data removed]",
      "text/plain": [
       "<Figure size 432x288 with 1 Axes>"
      ]
     },
     "metadata": {},
     "output_type": "display_data"
    },
    {
     "data": {
      "image/png": "[encoded data removed]",
      "text/plain": [
       "<Figure size 432x288 with 1 Axes>"
      ]
     },
     "metadata": {},
     "output_type": "display_data"
    },
    {
     "data": {
      "image/png": "[encoded data removed]",
      "text/plain": [
       "<Figure size 432x288 with 1 Axes>"
      ]
     },
     "metadata": {},
     "output_type": "display_data"
    },
    {
     "data": {
      "image/png": "[encoded data removed]",
      "text/plain": [
       "<Figure size 432x288 with 1 Axes>"
      ]
     },
     "metadata": {},
     "output_type": "display_data"
    },
    {
     "data": {
      "image/png": "[encoded data removed]",
      "text/plain": [
       "<Figure size 432x288 with 1 Axes>"
      ]
     },
     "metadata": {},
     "output_type": "display_data"
    },
    {
     "data": {
      "image/png": "[encoded data removed]",
      "text/plain": [
       "<Figure size 432x288 with 1 Axes>"
      ]
     },
     "metadata": {},
     "output_type": "display_data"
    },
    {
     "data": {
      "image/png": "[encoded data removed]",
      "text/plain": [
       "<Figure size 432x288 with 1 Axes>"
      ]
     },
     "metadata": {},
     "output_type": "display_data"
    },
    {
     "data": {
      "image/png": "[encoded data removed]",
      "text/plain": [
       "<Figure size 432x288 with 1 Axes>"
      ]
     },
     "metadata": {},
     "output_type": "display_data"
    },
    {
     "data": {
      "image/png": "[encoded data removed]",
      "text/plain": [
       "<Figure size 432x288 with 1 Axes>"
      ]
     },
     "metadata": {},
     "output_type": "display_data"
    },
    {
     "data": {
      "image/png": "[encoded data removed]",
      "text/plain": [
       "<Figure size 432x288 with 1 Axes>"
      ]
     },
     "metadata": {},
     "output_type": "display_data"
    },
    {
     "data": {
      "image/png": "[encoded data removed]",
      "text/plain": [
       "<Figure size 432x288 with 1 Axes>"
      ]
     },
     "metadata": {},
     "output_type": "display_data"
    },
    {
     "data": {
      "image/png": "[encoded data removed]",
      "text/plain": [
       "<Figure size 432x288 with 1 Axes>"
      ]
     },
     "metadata": {},
     "output_type": "display_data"
    }
   ],
   "source": [
    "categories = ['adults', \n",
    "             'babies', \n",
    "             'booking_changes', \n",
    "             'children', \n",
    "             'days_in_waiting_list', \n",
    "             'lead_time', \n",
    "             'previous_bookings_not_canceled', \n",
    "             'previous_cancellations', \n",
    "             'stays_in_weekend_nights', \n",
    "             'stays_in_week_nights', \n",
    "             'total_nights', \n",
    "             'total_of_special_requests']\n",
    "\n",
    "sns.set(style=\"whitegrid\")\n",
    "\n",
    "for cat in categories:\n",
    "    fig = plt.figure()\n",
    "    ax = sns.boxplot(y=df_total[cat])\n",
    "    ax.set_title(f'Распределение для категории {cat}\\n')\n",
    "    ax.set_ylabel(ylabel='Количество')\n",
    "    ax.set_xlabel(xlabel=f'\\n{cat}')\n",
    "    plt.show()"
   ]
  },
  {
   "cell_type": "code",
   "execution_count": 16,
   "metadata": {
    "scrolled": true
   },
   "outputs": [
    {
     "data": {
      "text/html": [
       "<div>\n",
       "<style scoped>\n",
       "    .dataframe tbody tr th:only-of-type {\n",
       "        vertical-align: middle;\n",
       "    }\n",
       "\n",
       "    .dataframe tbody tr th {\n",
       "        vertical-align: top;\n",
       "    }\n",
       "\n",
       "    .dataframe thead th {\n",
       "        text-align: right;\n",
       "    }\n",
       "</style>\n",
       "<table border=\"1\" class=\"dataframe\">\n",
       "  <thead>\n",
       "    <tr style=\"text-align: right;\">\n",
       "      <th></th>\n",
       "      <th>adults</th>\n",
       "      <th>babies</th>\n",
       "      <th>booking_changes</th>\n",
       "      <th>days_in_waiting_list</th>\n",
       "      <th>lead_time</th>\n",
       "      <th>previous_bookings_not_canceled</th>\n",
       "      <th>previous_cancellations</th>\n",
       "    </tr>\n",
       "  </thead>\n",
       "  <tbody>\n",
       "    <tr>\n",
       "      <th>count</th>\n",
       "      <td>97641.000000</td>\n",
       "      <td>97641.000000</td>\n",
       "      <td>97641.000000</td>\n",
       "      <td>97641.000000</td>\n",
       "      <td>97641.000000</td>\n",
       "      <td>97641.000000</td>\n",
       "      <td>97641.000000</td>\n",
       "    </tr>\n",
       "    <tr>\n",
       "      <th>mean</th>\n",
       "      <td>1.843887</td>\n",
       "      <td>0.006667</td>\n",
       "      <td>0.201729</td>\n",
       "      <td>2.314642</td>\n",
       "      <td>96.752839</td>\n",
       "      <td>0.128860</td>\n",
       "      <td>0.089972</td>\n",
       "    </tr>\n",
       "    <tr>\n",
       "      <th>std</th>\n",
       "      <td>0.483393</td>\n",
       "      <td>0.091790</td>\n",
       "      <td>0.609830</td>\n",
       "      <td>15.224212</td>\n",
       "      <td>93.045823</td>\n",
       "      <td>1.530961</td>\n",
       "      <td>0.797737</td>\n",
       "    </tr>\n",
       "    <tr>\n",
       "      <th>min</th>\n",
       "      <td>0.000000</td>\n",
       "      <td>0.000000</td>\n",
       "      <td>0.000000</td>\n",
       "      <td>0.000000</td>\n",
       "      <td>0.000000</td>\n",
       "      <td>0.000000</td>\n",
       "      <td>0.000000</td>\n",
       "    </tr>\n",
       "    <tr>\n",
       "      <th>25%</th>\n",
       "      <td>2.000000</td>\n",
       "      <td>0.000000</td>\n",
       "      <td>0.000000</td>\n",
       "      <td>0.000000</td>\n",
       "      <td>19.000000</td>\n",
       "      <td>0.000000</td>\n",
       "      <td>0.000000</td>\n",
       "    </tr>\n",
       "    <tr>\n",
       "      <th>50%</th>\n",
       "      <td>2.000000</td>\n",
       "      <td>0.000000</td>\n",
       "      <td>0.000000</td>\n",
       "      <td>0.000000</td>\n",
       "      <td>68.000000</td>\n",
       "      <td>0.000000</td>\n",
       "      <td>0.000000</td>\n",
       "    </tr>\n",
       "    <tr>\n",
       "      <th>75%</th>\n",
       "      <td>2.000000</td>\n",
       "      <td>0.000000</td>\n",
       "      <td>0.000000</td>\n",
       "      <td>0.000000</td>\n",
       "      <td>152.000000</td>\n",
       "      <td>0.000000</td>\n",
       "      <td>0.000000</td>\n",
       "    </tr>\n",
       "    <tr>\n",
       "      <th>max</th>\n",
       "      <td>4.000000</td>\n",
       "      <td>10.000000</td>\n",
       "      <td>18.000000</td>\n",
       "      <td>259.000000</td>\n",
       "      <td>374.000000</td>\n",
       "      <td>72.000000</td>\n",
       "      <td>26.000000</td>\n",
       "    </tr>\n",
       "  </tbody>\n",
       "</table>\n",
       "</div>"
      ],
      "text/plain": [
       "             adults        babies  booking_changes  days_in_waiting_list  \\\n",
       "count  97641.000000  97641.000000     97641.000000          97641.000000   \n",
       "mean       1.843887      0.006667         0.201729              2.314642   \n",
       "std        0.483393      0.091790         0.609830             15.224212   \n",
       "min        0.000000      0.000000         0.000000              0.000000   \n",
       "25%        2.000000      0.000000         0.000000              0.000000   \n",
       "50%        2.000000      0.000000         0.000000              0.000000   \n",
       "75%        2.000000      0.000000         0.000000              0.000000   \n",
       "max        4.000000     10.000000        18.000000            259.000000   \n",
       "\n",
       "          lead_time  previous_bookings_not_canceled  previous_cancellations  \n",
       "count  97641.000000                    97641.000000            97641.000000  \n",
       "mean      96.752839                        0.128860                0.089972  \n",
       "std       93.045823                        1.530961                0.797737  \n",
       "min        0.000000                        0.000000                0.000000  \n",
       "25%       19.000000                        0.000000                0.000000  \n",
       "50%       68.000000                        0.000000                0.000000  \n",
       "75%      152.000000                        0.000000                0.000000  \n",
       "max      374.000000                       72.000000               26.000000  "
      ]
     },
     "execution_count": 16,
     "metadata": {},
     "output_type": "execute_result"
    }
   ],
   "source": [
    "categories = ['adults', \n",
    "             'babies', \n",
    "             'booking_changes', \n",
    "             'days_in_waiting_list', \n",
    "             'lead_time', \n",
    "             'previous_bookings_not_canceled', \n",
    "             'previous_cancellations']\n",
    "\n",
    "df_total[categories].describe()"
   ]
  },
  {
   "cell_type": "code",
   "execution_count": 17,
   "metadata": {},
   "outputs": [
    {
     "data": {
      "text/plain": [
       "count    97639.000000\n",
       "mean         0.006473\n",
       "std          0.081083\n",
       "min          0.000000\n",
       "25%          0.000000\n",
       "50%          0.000000\n",
       "75%          0.000000\n",
       "max          2.000000\n",
       "Name: babies, dtype: float64"
      ]
     },
     "execution_count": 17,
     "metadata": {},
     "output_type": "execute_result"
    }
   ],
   "source": [
    "df = df[~df['babies'].isin([9,10])]\n",
    "df_test = df_test[~df_test['babies'].isin([9,10])]\n",
    "df_total = df_total[~df_total['babies'].isin([9,10])]\n",
    "df_total['babies'].describe()"
   ]
  },
  {
   "cell_type": "code",
   "execution_count": 18,
   "metadata": {},
   "outputs": [],
   "source": [
    "df = df.drop(df[~df['booking_changes'].isin(range(0,4))].index)\n",
    "df_test = df_test.drop(df_test[~df_test['booking_changes'].isin(range(0,4))].index)\n",
    "df_total = df_total.drop(df_total[~df_total['booking_changes'].isin(range(0,4))].index)\n",
    "\n",
    "df = df.drop(df[~df['days_in_waiting_list'].isin(range(0,49))].index)\n",
    "df_test = df_test.drop(df_test[~df_test['days_in_waiting_list'].isin(range(0,49))].index)\n",
    "df_total = df_total.drop(df_total[~df_total['days_in_waiting_list'].isin(range(0,49))].index)\n",
    "\n",
    "df = df.drop(df[~df['lead_time'].isin(range(0,376))].index)\n",
    "df_test = df_test.drop(df_test[~df_test['lead_time'].isin(range(0,376))].index)\n",
    "df_total = df_total.drop(df_total[~df_total['lead_time'].isin(range(0,376))].index)\n",
    "\n",
    "df = df.drop(df[~df['previous_bookings_not_canceled'].isin(range(0,6))].index)\n",
    "df_test = df_test.drop(df_test[~df_test['previous_bookings_not_canceled'].isin(range(0,6))].index)\n",
    "df_total = df_total.drop(df_total[~df_total['previous_bookings_not_canceled'].isin(range(0,6))].index)\n",
    "\n",
    "df = df.drop(df[~df['previous_cancellations'].isin(range(0,4))].index)\n",
    "df_test = df_test.drop(df_test[~df_test['previous_bookings_not_canceled'].isin(range(0,4))].index)\n",
    "df_total = df_total.drop(df_total[~df_total['previous_bookings_not_canceled'].isin(range(0,4))].index)\n",
    "\n",
    "df = df.reset_index(drop=True)\n",
    "df_test = df_test.reset_index(drop=True)\n",
    "df_total = df_total.reset_index(drop=True)"
   ]
  },
  {
   "cell_type": "code",
   "execution_count": 19,
   "metadata": {},
   "outputs": [
    {
     "data": {
      "text/plain": [
       "(94546, 25)"
      ]
     },
     "execution_count": 19,
     "metadata": {},
     "output_type": "execute_result"
    }
   ],
   "source": [
    "df_total.shape"
   ]
  },
  {
   "cell_type": "code",
   "execution_count": 20,
   "metadata": {},
   "outputs": [
    {
     "data": {
      "text/plain": [
       "(31791, 25)"
      ]
     },
     "execution_count": 20,
     "metadata": {},
     "output_type": "execute_result"
    }
   ],
   "source": [
    "df_test.shape"
   ]
  },
  {
   "cell_type": "code",
   "execution_count": 21,
   "metadata": {},
   "outputs": [
    {
     "data": {
      "text/plain": [
       "(62824, 25)"
      ]
     },
     "execution_count": 21,
     "metadata": {},
     "output_type": "execute_result"
    }
   ],
   "source": [
    "df.shape"
   ]
  },
  {
   "cell_type": "code",
   "execution_count": 22,
   "metadata": {
    "scrolled": true
   },
   "outputs": [
    {
     "data": {
      "text/plain": [
       "0"
      ]
     },
     "execution_count": 22,
     "metadata": {},
     "output_type": "execute_result"
    }
   ],
   "source": [
    "df_total['id'].duplicated().sum()"
   ]
  },
  {
   "cell_type": "markdown",
   "metadata": {},
   "source": [
    "По `id` дубликатов нет. Проверим по всему остальному:"
   ]
  },
  {
   "cell_type": "code",
   "execution_count": 23,
   "metadata": {},
   "outputs": [
    {
     "data": {
      "text/plain": [
       "34860"
      ]
     },
     "execution_count": 23,
     "metadata": {},
     "output_type": "execute_result"
    }
   ],
   "source": [
    "df_total.drop('id', axis=1).duplicated(keep=False).sum()"
   ]
  },
  {
   "cell_type": "markdown",
   "metadata": {},
   "source": [
    "Интересно... Полного совпадения строк нет, но по всем столбцам, кроме `id`, дубликаты есть. Проверим, возможно для этих данных есть ярко выраженный тип заказчика."
   ]
  },
  {
   "cell_type": "code",
   "execution_count": 24,
   "metadata": {},
   "outputs": [
    {
     "data": {
      "text/plain": [
       "customer_type\n",
       "Contract            1123\n",
       "Group                 60\n",
       "Transient          19271\n",
       "Transient-Party    14406\n",
       "Name: id, dtype: int64"
      ]
     },
     "execution_count": 24,
     "metadata": {},
     "output_type": "execute_result"
    }
   ],
   "source": [
    "df_total[df_total.drop('id', axis=1).duplicated(keep=False)].groupby('customer_type')['id'].count()"
   ]
  },
  {
   "cell_type": "markdown",
   "metadata": {},
   "source": [
    "Очень странно... Данных слишком много, что бы это было ошибкой, и в то же время они никак не связаны. Дубликаты не связаны групповыми заездами. Что ж, без возможности уточнения этих данных, можно предположить, что у большого количества людей совпадают графики отпусков."
   ]
  },
  {
   "cell_type": "markdown",
   "metadata": {},
   "source": [
    "Предварительно мы уже просмотрели данные, не заметив никаких критических ошибок. Но в сыром виде наши данные нам явно не подойдут, покольку у нас имеются некоторые столбца с данными типа `object`, следовательно при создании модели будут возникать проблемы с ними. Избавимся от категориальных данных в датафреймах при помощи `OrdinalEncoder`."
   ]
  },
  {
   "cell_type": "code",
   "execution_count": 25,
   "metadata": {
    "scrolled": true
   },
   "outputs": [
    {
     "data": {
      "text/html": [
       "<div>\n",
       "<style scoped>\n",
       "    .dataframe tbody tr th:only-of-type {\n",
       "        vertical-align: middle;\n",
       "    }\n",
       "\n",
       "    .dataframe tbody tr th {\n",
       "        vertical-align: top;\n",
       "    }\n",
       "\n",
       "    .dataframe thead th {\n",
       "        text-align: right;\n",
       "    }\n",
       "</style>\n",
       "<table border=\"1\" class=\"dataframe\">\n",
       "  <thead>\n",
       "    <tr style=\"text-align: right;\">\n",
       "      <th></th>\n",
       "      <th>id</th>\n",
       "      <th>is_canceled</th>\n",
       "      <th>lead_time</th>\n",
       "      <th>arrival_date_year</th>\n",
       "      <th>arrival_date_month</th>\n",
       "      <th>arrival_date_week_number</th>\n",
       "      <th>arrival_date_day_of_month</th>\n",
       "      <th>stays_in_weekend_nights</th>\n",
       "      <th>stays_in_week_nights</th>\n",
       "      <th>adults</th>\n",
       "      <th>...</th>\n",
       "      <th>is_repeated_guest</th>\n",
       "      <th>previous_cancellations</th>\n",
       "      <th>previous_bookings_not_canceled</th>\n",
       "      <th>reserved_room_type</th>\n",
       "      <th>booking_changes</th>\n",
       "      <th>days_in_waiting_list</th>\n",
       "      <th>customer_type</th>\n",
       "      <th>required_car_parking_spaces</th>\n",
       "      <th>total_of_special_requests</th>\n",
       "      <th>total_nights</th>\n",
       "    </tr>\n",
       "  </thead>\n",
       "  <tbody>\n",
       "    <tr>\n",
       "      <th>0</th>\n",
       "      <td>0</td>\n",
       "      <td>0</td>\n",
       "      <td>7.0</td>\n",
       "      <td>2015</td>\n",
       "      <td>5</td>\n",
       "      <td>27</td>\n",
       "      <td>1</td>\n",
       "      <td>0</td>\n",
       "      <td>1</td>\n",
       "      <td>1.0</td>\n",
       "      <td>...</td>\n",
       "      <td>0</td>\n",
       "      <td>0</td>\n",
       "      <td>0</td>\n",
       "      <td>0</td>\n",
       "      <td>0</td>\n",
       "      <td>0</td>\n",
       "      <td>2</td>\n",
       "      <td>0</td>\n",
       "      <td>0</td>\n",
       "      <td>1</td>\n",
       "    </tr>\n",
       "    <tr>\n",
       "      <th>1</th>\n",
       "      <td>1</td>\n",
       "      <td>0</td>\n",
       "      <td>14.0</td>\n",
       "      <td>2015</td>\n",
       "      <td>5</td>\n",
       "      <td>27</td>\n",
       "      <td>1</td>\n",
       "      <td>0</td>\n",
       "      <td>2</td>\n",
       "      <td>2.0</td>\n",
       "      <td>...</td>\n",
       "      <td>0</td>\n",
       "      <td>0</td>\n",
       "      <td>0</td>\n",
       "      <td>0</td>\n",
       "      <td>0</td>\n",
       "      <td>0</td>\n",
       "      <td>2</td>\n",
       "      <td>0</td>\n",
       "      <td>1</td>\n",
       "      <td>2</td>\n",
       "    </tr>\n",
       "    <tr>\n",
       "      <th>2</th>\n",
       "      <td>2</td>\n",
       "      <td>0</td>\n",
       "      <td>0.0</td>\n",
       "      <td>2015</td>\n",
       "      <td>5</td>\n",
       "      <td>27</td>\n",
       "      <td>1</td>\n",
       "      <td>0</td>\n",
       "      <td>2</td>\n",
       "      <td>2.0</td>\n",
       "      <td>...</td>\n",
       "      <td>0</td>\n",
       "      <td>0</td>\n",
       "      <td>0</td>\n",
       "      <td>2</td>\n",
       "      <td>0</td>\n",
       "      <td>0</td>\n",
       "      <td>2</td>\n",
       "      <td>0</td>\n",
       "      <td>0</td>\n",
       "      <td>2</td>\n",
       "    </tr>\n",
       "    <tr>\n",
       "      <th>3</th>\n",
       "      <td>3</td>\n",
       "      <td>0</td>\n",
       "      <td>9.0</td>\n",
       "      <td>2015</td>\n",
       "      <td>5</td>\n",
       "      <td>27</td>\n",
       "      <td>1</td>\n",
       "      <td>0</td>\n",
       "      <td>2</td>\n",
       "      <td>2.0</td>\n",
       "      <td>...</td>\n",
       "      <td>0</td>\n",
       "      <td>0</td>\n",
       "      <td>0</td>\n",
       "      <td>2</td>\n",
       "      <td>0</td>\n",
       "      <td>0</td>\n",
       "      <td>2</td>\n",
       "      <td>0</td>\n",
       "      <td>1</td>\n",
       "      <td>2</td>\n",
       "    </tr>\n",
       "    <tr>\n",
       "      <th>4</th>\n",
       "      <td>4</td>\n",
       "      <td>1</td>\n",
       "      <td>85.0</td>\n",
       "      <td>2015</td>\n",
       "      <td>5</td>\n",
       "      <td>27</td>\n",
       "      <td>1</td>\n",
       "      <td>0</td>\n",
       "      <td>3</td>\n",
       "      <td>2.0</td>\n",
       "      <td>...</td>\n",
       "      <td>0</td>\n",
       "      <td>0</td>\n",
       "      <td>0</td>\n",
       "      <td>0</td>\n",
       "      <td>0</td>\n",
       "      <td>0</td>\n",
       "      <td>2</td>\n",
       "      <td>0</td>\n",
       "      <td>1</td>\n",
       "      <td>3</td>\n",
       "    </tr>\n",
       "    <tr>\n",
       "      <th>5</th>\n",
       "      <td>5</td>\n",
       "      <td>1</td>\n",
       "      <td>75.0</td>\n",
       "      <td>2015</td>\n",
       "      <td>5</td>\n",
       "      <td>27</td>\n",
       "      <td>1</td>\n",
       "      <td>0</td>\n",
       "      <td>3</td>\n",
       "      <td>2.0</td>\n",
       "      <td>...</td>\n",
       "      <td>0</td>\n",
       "      <td>0</td>\n",
       "      <td>0</td>\n",
       "      <td>3</td>\n",
       "      <td>0</td>\n",
       "      <td>0</td>\n",
       "      <td>2</td>\n",
       "      <td>0</td>\n",
       "      <td>0</td>\n",
       "      <td>3</td>\n",
       "    </tr>\n",
       "    <tr>\n",
       "      <th>6</th>\n",
       "      <td>6</td>\n",
       "      <td>1</td>\n",
       "      <td>23.0</td>\n",
       "      <td>2015</td>\n",
       "      <td>5</td>\n",
       "      <td>27</td>\n",
       "      <td>1</td>\n",
       "      <td>0</td>\n",
       "      <td>4</td>\n",
       "      <td>2.0</td>\n",
       "      <td>...</td>\n",
       "      <td>0</td>\n",
       "      <td>0</td>\n",
       "      <td>0</td>\n",
       "      <td>4</td>\n",
       "      <td>0</td>\n",
       "      <td>0</td>\n",
       "      <td>2</td>\n",
       "      <td>0</td>\n",
       "      <td>0</td>\n",
       "      <td>4</td>\n",
       "    </tr>\n",
       "    <tr>\n",
       "      <th>7</th>\n",
       "      <td>7</td>\n",
       "      <td>0</td>\n",
       "      <td>18.0</td>\n",
       "      <td>2015</td>\n",
       "      <td>5</td>\n",
       "      <td>27</td>\n",
       "      <td>1</td>\n",
       "      <td>0</td>\n",
       "      <td>4</td>\n",
       "      <td>2.0</td>\n",
       "      <td>...</td>\n",
       "      <td>0</td>\n",
       "      <td>0</td>\n",
       "      <td>0</td>\n",
       "      <td>6</td>\n",
       "      <td>1</td>\n",
       "      <td>0</td>\n",
       "      <td>2</td>\n",
       "      <td>0</td>\n",
       "      <td>1</td>\n",
       "      <td>4</td>\n",
       "    </tr>\n",
       "    <tr>\n",
       "      <th>8</th>\n",
       "      <td>8</td>\n",
       "      <td>0</td>\n",
       "      <td>68.0</td>\n",
       "      <td>2015</td>\n",
       "      <td>5</td>\n",
       "      <td>27</td>\n",
       "      <td>1</td>\n",
       "      <td>0</td>\n",
       "      <td>4</td>\n",
       "      <td>2.0</td>\n",
       "      <td>...</td>\n",
       "      <td>0</td>\n",
       "      <td>0</td>\n",
       "      <td>0</td>\n",
       "      <td>3</td>\n",
       "      <td>0</td>\n",
       "      <td>0</td>\n",
       "      <td>2</td>\n",
       "      <td>0</td>\n",
       "      <td>3</td>\n",
       "      <td>4</td>\n",
       "    </tr>\n",
       "    <tr>\n",
       "      <th>9</th>\n",
       "      <td>9</td>\n",
       "      <td>0</td>\n",
       "      <td>37.0</td>\n",
       "      <td>2015</td>\n",
       "      <td>5</td>\n",
       "      <td>27</td>\n",
       "      <td>1</td>\n",
       "      <td>0</td>\n",
       "      <td>4</td>\n",
       "      <td>2.0</td>\n",
       "      <td>...</td>\n",
       "      <td>0</td>\n",
       "      <td>0</td>\n",
       "      <td>0</td>\n",
       "      <td>4</td>\n",
       "      <td>0</td>\n",
       "      <td>0</td>\n",
       "      <td>0</td>\n",
       "      <td>0</td>\n",
       "      <td>0</td>\n",
       "      <td>4</td>\n",
       "    </tr>\n",
       "  </tbody>\n",
       "</table>\n",
       "<p>10 rows × 25 columns</p>\n",
       "</div>"
      ],
      "text/plain": [
       "   id  is_canceled  lead_time  arrival_date_year  arrival_date_month  \\\n",
       "0   0            0        7.0               2015                   5   \n",
       "1   1            0       14.0               2015                   5   \n",
       "2   2            0        0.0               2015                   5   \n",
       "3   3            0        9.0               2015                   5   \n",
       "4   4            1       85.0               2015                   5   \n",
       "5   5            1       75.0               2015                   5   \n",
       "6   6            1       23.0               2015                   5   \n",
       "7   7            0       18.0               2015                   5   \n",
       "8   8            0       68.0               2015                   5   \n",
       "9   9            0       37.0               2015                   5   \n",
       "\n",
       "   arrival_date_week_number  arrival_date_day_of_month  \\\n",
       "0                        27                          1   \n",
       "1                        27                          1   \n",
       "2                        27                          1   \n",
       "3                        27                          1   \n",
       "4                        27                          1   \n",
       "5                        27                          1   \n",
       "6                        27                          1   \n",
       "7                        27                          1   \n",
       "8                        27                          1   \n",
       "9                        27                          1   \n",
       "\n",
       "   stays_in_weekend_nights  stays_in_week_nights  adults  ...  \\\n",
       "0                        0                     1     1.0  ...   \n",
       "1                        0                     2     2.0  ...   \n",
       "2                        0                     2     2.0  ...   \n",
       "3                        0                     2     2.0  ...   \n",
       "4                        0                     3     2.0  ...   \n",
       "5                        0                     3     2.0  ...   \n",
       "6                        0                     4     2.0  ...   \n",
       "7                        0                     4     2.0  ...   \n",
       "8                        0                     4     2.0  ...   \n",
       "9                        0                     4     2.0  ...   \n",
       "\n",
       "   is_repeated_guest  previous_cancellations  previous_bookings_not_canceled  \\\n",
       "0                  0                       0                               0   \n",
       "1                  0                       0                               0   \n",
       "2                  0                       0                               0   \n",
       "3                  0                       0                               0   \n",
       "4                  0                       0                               0   \n",
       "5                  0                       0                               0   \n",
       "6                  0                       0                               0   \n",
       "7                  0                       0                               0   \n",
       "8                  0                       0                               0   \n",
       "9                  0                       0                               0   \n",
       "\n",
       "  reserved_room_type  booking_changes  days_in_waiting_list  customer_type  \\\n",
       "0                  0                0                     0              2   \n",
       "1                  0                0                     0              2   \n",
       "2                  2                0                     0              2   \n",
       "3                  2                0                     0              2   \n",
       "4                  0                0                     0              2   \n",
       "5                  3                0                     0              2   \n",
       "6                  4                0                     0              2   \n",
       "7                  6                1                     0              2   \n",
       "8                  3                0                     0              2   \n",
       "9                  4                0                     0              0   \n",
       "\n",
       "   required_car_parking_spaces  total_of_special_requests  total_nights  \n",
       "0                            0                          0             1  \n",
       "1                            0                          1             2  \n",
       "2                            0                          0             2  \n",
       "3                            0                          1             2  \n",
       "4                            0                          1             3  \n",
       "5                            0                          0             3  \n",
       "6                            0                          0             4  \n",
       "7                            0                          1             4  \n",
       "8                            0                          3             4  \n",
       "9                            0                          0             4  \n",
       "\n",
       "[10 rows x 25 columns]"
      ]
     },
     "metadata": {},
     "output_type": "display_data"
    },
    {
     "data": {
      "text/html": [
       "<div>\n",
       "<style scoped>\n",
       "    .dataframe tbody tr th:only-of-type {\n",
       "        vertical-align: middle;\n",
       "    }\n",
       "\n",
       "    .dataframe tbody tr th {\n",
       "        vertical-align: top;\n",
       "    }\n",
       "\n",
       "    .dataframe thead th {\n",
       "        text-align: right;\n",
       "    }\n",
       "</style>\n",
       "<table border=\"1\" class=\"dataframe\">\n",
       "  <thead>\n",
       "    <tr style=\"text-align: right;\">\n",
       "      <th></th>\n",
       "      <th>id</th>\n",
       "      <th>is_canceled</th>\n",
       "      <th>lead_time</th>\n",
       "      <th>arrival_date_year</th>\n",
       "      <th>arrival_date_month</th>\n",
       "      <th>arrival_date_week_number</th>\n",
       "      <th>arrival_date_day_of_month</th>\n",
       "      <th>stays_in_weekend_nights</th>\n",
       "      <th>stays_in_week_nights</th>\n",
       "      <th>adults</th>\n",
       "      <th>...</th>\n",
       "      <th>is_repeated_guest</th>\n",
       "      <th>previous_cancellations</th>\n",
       "      <th>previous_bookings_not_canceled</th>\n",
       "      <th>reserved_room_type</th>\n",
       "      <th>booking_changes</th>\n",
       "      <th>days_in_waiting_list</th>\n",
       "      <th>customer_type</th>\n",
       "      <th>required_car_parking_spaces</th>\n",
       "      <th>total_of_special_requests</th>\n",
       "      <th>total_nights</th>\n",
       "    </tr>\n",
       "  </thead>\n",
       "  <tbody>\n",
       "    <tr>\n",
       "      <th>0</th>\n",
       "      <td>6086</td>\n",
       "      <td>1</td>\n",
       "      <td>74.0</td>\n",
       "      <td>2017</td>\n",
       "      <td>4</td>\n",
       "      <td>1</td>\n",
       "      <td>1</td>\n",
       "      <td>1</td>\n",
       "      <td>0</td>\n",
       "      <td>2.0</td>\n",
       "      <td>...</td>\n",
       "      <td>0</td>\n",
       "      <td>0</td>\n",
       "      <td>0</td>\n",
       "      <td>0</td>\n",
       "      <td>0</td>\n",
       "      <td>0</td>\n",
       "      <td>2</td>\n",
       "      <td>0</td>\n",
       "      <td>0</td>\n",
       "      <td>1</td>\n",
       "    </tr>\n",
       "    <tr>\n",
       "      <th>1</th>\n",
       "      <td>6087</td>\n",
       "      <td>1</td>\n",
       "      <td>62.0</td>\n",
       "      <td>2017</td>\n",
       "      <td>4</td>\n",
       "      <td>1</td>\n",
       "      <td>1</td>\n",
       "      <td>2</td>\n",
       "      <td>2</td>\n",
       "      <td>2.0</td>\n",
       "      <td>...</td>\n",
       "      <td>0</td>\n",
       "      <td>0</td>\n",
       "      <td>0</td>\n",
       "      <td>0</td>\n",
       "      <td>0</td>\n",
       "      <td>0</td>\n",
       "      <td>2</td>\n",
       "      <td>0</td>\n",
       "      <td>1</td>\n",
       "      <td>4</td>\n",
       "    </tr>\n",
       "    <tr>\n",
       "      <th>2</th>\n",
       "      <td>6088</td>\n",
       "      <td>1</td>\n",
       "      <td>62.0</td>\n",
       "      <td>2017</td>\n",
       "      <td>4</td>\n",
       "      <td>1</td>\n",
       "      <td>1</td>\n",
       "      <td>2</td>\n",
       "      <td>2</td>\n",
       "      <td>2.0</td>\n",
       "      <td>...</td>\n",
       "      <td>0</td>\n",
       "      <td>0</td>\n",
       "      <td>0</td>\n",
       "      <td>0</td>\n",
       "      <td>0</td>\n",
       "      <td>0</td>\n",
       "      <td>2</td>\n",
       "      <td>0</td>\n",
       "      <td>1</td>\n",
       "      <td>4</td>\n",
       "    </tr>\n",
       "    <tr>\n",
       "      <th>3</th>\n",
       "      <td>6089</td>\n",
       "      <td>1</td>\n",
       "      <td>71.0</td>\n",
       "      <td>2017</td>\n",
       "      <td>4</td>\n",
       "      <td>1</td>\n",
       "      <td>1</td>\n",
       "      <td>2</td>\n",
       "      <td>2</td>\n",
       "      <td>1.0</td>\n",
       "      <td>...</td>\n",
       "      <td>0</td>\n",
       "      <td>0</td>\n",
       "      <td>0</td>\n",
       "      <td>0</td>\n",
       "      <td>0</td>\n",
       "      <td>0</td>\n",
       "      <td>2</td>\n",
       "      <td>0</td>\n",
       "      <td>1</td>\n",
       "      <td>4</td>\n",
       "    </tr>\n",
       "    <tr>\n",
       "      <th>4</th>\n",
       "      <td>6090</td>\n",
       "      <td>1</td>\n",
       "      <td>172.0</td>\n",
       "      <td>2017</td>\n",
       "      <td>4</td>\n",
       "      <td>1</td>\n",
       "      <td>1</td>\n",
       "      <td>2</td>\n",
       "      <td>5</td>\n",
       "      <td>2.0</td>\n",
       "      <td>...</td>\n",
       "      <td>0</td>\n",
       "      <td>0</td>\n",
       "      <td>0</td>\n",
       "      <td>0</td>\n",
       "      <td>0</td>\n",
       "      <td>0</td>\n",
       "      <td>2</td>\n",
       "      <td>0</td>\n",
       "      <td>0</td>\n",
       "      <td>7</td>\n",
       "    </tr>\n",
       "    <tr>\n",
       "      <th>5</th>\n",
       "      <td>6091</td>\n",
       "      <td>1</td>\n",
       "      <td>52.0</td>\n",
       "      <td>2017</td>\n",
       "      <td>4</td>\n",
       "      <td>1</td>\n",
       "      <td>1</td>\n",
       "      <td>2</td>\n",
       "      <td>5</td>\n",
       "      <td>1.0</td>\n",
       "      <td>...</td>\n",
       "      <td>0</td>\n",
       "      <td>0</td>\n",
       "      <td>0</td>\n",
       "      <td>0</td>\n",
       "      <td>0</td>\n",
       "      <td>0</td>\n",
       "      <td>2</td>\n",
       "      <td>0</td>\n",
       "      <td>0</td>\n",
       "      <td>7</td>\n",
       "    </tr>\n",
       "    <tr>\n",
       "      <th>6</th>\n",
       "      <td>6092</td>\n",
       "      <td>1</td>\n",
       "      <td>143.0</td>\n",
       "      <td>2017</td>\n",
       "      <td>4</td>\n",
       "      <td>1</td>\n",
       "      <td>2</td>\n",
       "      <td>1</td>\n",
       "      <td>1</td>\n",
       "      <td>2.0</td>\n",
       "      <td>...</td>\n",
       "      <td>0</td>\n",
       "      <td>0</td>\n",
       "      <td>0</td>\n",
       "      <td>0</td>\n",
       "      <td>1</td>\n",
       "      <td>0</td>\n",
       "      <td>2</td>\n",
       "      <td>0</td>\n",
       "      <td>1</td>\n",
       "      <td>2</td>\n",
       "    </tr>\n",
       "    <tr>\n",
       "      <th>7</th>\n",
       "      <td>6093</td>\n",
       "      <td>1</td>\n",
       "      <td>21.0</td>\n",
       "      <td>2017</td>\n",
       "      <td>4</td>\n",
       "      <td>1</td>\n",
       "      <td>2</td>\n",
       "      <td>1</td>\n",
       "      <td>3</td>\n",
       "      <td>2.0</td>\n",
       "      <td>...</td>\n",
       "      <td>0</td>\n",
       "      <td>0</td>\n",
       "      <td>0</td>\n",
       "      <td>0</td>\n",
       "      <td>0</td>\n",
       "      <td>0</td>\n",
       "      <td>2</td>\n",
       "      <td>0</td>\n",
       "      <td>1</td>\n",
       "      <td>4</td>\n",
       "    </tr>\n",
       "    <tr>\n",
       "      <th>8</th>\n",
       "      <td>6094</td>\n",
       "      <td>1</td>\n",
       "      <td>89.0</td>\n",
       "      <td>2017</td>\n",
       "      <td>4</td>\n",
       "      <td>1</td>\n",
       "      <td>2</td>\n",
       "      <td>1</td>\n",
       "      <td>3</td>\n",
       "      <td>2.0</td>\n",
       "      <td>...</td>\n",
       "      <td>0</td>\n",
       "      <td>0</td>\n",
       "      <td>0</td>\n",
       "      <td>4</td>\n",
       "      <td>0</td>\n",
       "      <td>0</td>\n",
       "      <td>2</td>\n",
       "      <td>0</td>\n",
       "      <td>0</td>\n",
       "      <td>4</td>\n",
       "    </tr>\n",
       "    <tr>\n",
       "      <th>9</th>\n",
       "      <td>6095</td>\n",
       "      <td>1</td>\n",
       "      <td>48.0</td>\n",
       "      <td>2017</td>\n",
       "      <td>4</td>\n",
       "      <td>1</td>\n",
       "      <td>2</td>\n",
       "      <td>1</td>\n",
       "      <td>4</td>\n",
       "      <td>2.0</td>\n",
       "      <td>...</td>\n",
       "      <td>0</td>\n",
       "      <td>0</td>\n",
       "      <td>0</td>\n",
       "      <td>0</td>\n",
       "      <td>1</td>\n",
       "      <td>0</td>\n",
       "      <td>2</td>\n",
       "      <td>0</td>\n",
       "      <td>2</td>\n",
       "      <td>5</td>\n",
       "    </tr>\n",
       "  </tbody>\n",
       "</table>\n",
       "<p>10 rows × 25 columns</p>\n",
       "</div>"
      ],
      "text/plain": [
       "     id  is_canceled  lead_time  arrival_date_year  arrival_date_month  \\\n",
       "0  6086            1       74.0               2017                   4   \n",
       "1  6087            1       62.0               2017                   4   \n",
       "2  6088            1       62.0               2017                   4   \n",
       "3  6089            1       71.0               2017                   4   \n",
       "4  6090            1      172.0               2017                   4   \n",
       "5  6091            1       52.0               2017                   4   \n",
       "6  6092            1      143.0               2017                   4   \n",
       "7  6093            1       21.0               2017                   4   \n",
       "8  6094            1       89.0               2017                   4   \n",
       "9  6095            1       48.0               2017                   4   \n",
       "\n",
       "   arrival_date_week_number  arrival_date_day_of_month  \\\n",
       "0                         1                          1   \n",
       "1                         1                          1   \n",
       "2                         1                          1   \n",
       "3                         1                          1   \n",
       "4                         1                          1   \n",
       "5                         1                          1   \n",
       "6                         1                          2   \n",
       "7                         1                          2   \n",
       "8                         1                          2   \n",
       "9                         1                          2   \n",
       "\n",
       "   stays_in_weekend_nights  stays_in_week_nights  adults  ...  \\\n",
       "0                        1                     0     2.0  ...   \n",
       "1                        2                     2     2.0  ...   \n",
       "2                        2                     2     2.0  ...   \n",
       "3                        2                     2     1.0  ...   \n",
       "4                        2                     5     2.0  ...   \n",
       "5                        2                     5     1.0  ...   \n",
       "6                        1                     1     2.0  ...   \n",
       "7                        1                     3     2.0  ...   \n",
       "8                        1                     3     2.0  ...   \n",
       "9                        1                     4     2.0  ...   \n",
       "\n",
       "   is_repeated_guest  previous_cancellations  previous_bookings_not_canceled  \\\n",
       "0                  0                       0                               0   \n",
       "1                  0                       0                               0   \n",
       "2                  0                       0                               0   \n",
       "3                  0                       0                               0   \n",
       "4                  0                       0                               0   \n",
       "5                  0                       0                               0   \n",
       "6                  0                       0                               0   \n",
       "7                  0                       0                               0   \n",
       "8                  0                       0                               0   \n",
       "9                  0                       0                               0   \n",
       "\n",
       "  reserved_room_type  booking_changes  days_in_waiting_list  customer_type  \\\n",
       "0                  0                0                     0              2   \n",
       "1                  0                0                     0              2   \n",
       "2                  0                0                     0              2   \n",
       "3                  0                0                     0              2   \n",
       "4                  0                0                     0              2   \n",
       "5                  0                0                     0              2   \n",
       "6                  0                1                     0              2   \n",
       "7                  0                0                     0              2   \n",
       "8                  4                0                     0              2   \n",
       "9                  0                1                     0              2   \n",
       "\n",
       "   required_car_parking_spaces  total_of_special_requests  total_nights  \n",
       "0                            0                          0             1  \n",
       "1                            0                          1             4  \n",
       "2                            0                          1             4  \n",
       "3                            0                          1             4  \n",
       "4                            0                          0             7  \n",
       "5                            0                          0             7  \n",
       "6                            0                          1             2  \n",
       "7                            0                          1             4  \n",
       "8                            0                          0             4  \n",
       "9                            0                          2             5  \n",
       "\n",
       "[10 rows x 25 columns]"
      ]
     },
     "metadata": {},
     "output_type": "display_data"
    }
   ],
   "source": [
    "encoder = OrdinalEncoder()\n",
    "df_col_for_transform = ['arrival_date_month', 'meal', 'distribution_channel', 'reserved_room_type', 'customer_type']\n",
    "\n",
    "encoder.fit(df[df_col_for_transform])\n",
    "\n",
    "df_ordinal_transformed = pd.DataFrame(encoder.transform(df[df_col_for_transform]), \n",
    "                                     columns=df[df_col_for_transform].columns,\n",
    "                                     dtype=np.dtype(int))\n",
    "df_test_ordinal_transformed = pd.DataFrame(encoder.transform(df_test[df_col_for_transform]), \n",
    "                                     columns=df_test[df_col_for_transform].columns,\n",
    "                                     dtype=np.dtype(int))\n",
    "\n",
    "df_ordinal = df.copy()\n",
    "df_test_ordinal = df_test.copy()\n",
    "df_ordinal[df_col_for_transform] = df_ordinal_transformed\n",
    "df_test_ordinal[df_col_for_transform] = df_test_ordinal_transformed\n",
    "display(df_ordinal.head(10))\n",
    "display(df_test_ordinal.head(10))"
   ]
  },
  {
   "cell_type": "code",
   "execution_count": 26,
   "metadata": {},
   "outputs": [
    {
     "data": {
      "text/html": [
       "<div>\n",
       "<style scoped>\n",
       "    .dataframe tbody tr th:only-of-type {\n",
       "        vertical-align: middle;\n",
       "    }\n",
       "\n",
       "    .dataframe tbody tr th {\n",
       "        vertical-align: top;\n",
       "    }\n",
       "\n",
       "    .dataframe thead th {\n",
       "        text-align: right;\n",
       "    }\n",
       "</style>\n",
       "<table border=\"1\" class=\"dataframe\">\n",
       "  <thead>\n",
       "    <tr style=\"text-align: right;\">\n",
       "      <th></th>\n",
       "      <th>train</th>\n",
       "      <th>test</th>\n",
       "      <th>sum</th>\n",
       "    </tr>\n",
       "    <tr>\n",
       "      <th>country</th>\n",
       "      <th></th>\n",
       "      <th></th>\n",
       "      <th></th>\n",
       "    </tr>\n",
       "  </thead>\n",
       "  <tbody>\n",
       "    <tr>\n",
       "      <th>PRT</th>\n",
       "      <td>27123.0</td>\n",
       "      <td>9466.0</td>\n",
       "      <td>36589.0</td>\n",
       "    </tr>\n",
       "    <tr>\n",
       "      <th>FRA</th>\n",
       "      <td>5857.0</td>\n",
       "      <td>3443.0</td>\n",
       "      <td>9300.0</td>\n",
       "    </tr>\n",
       "    <tr>\n",
       "      <th>GBR</th>\n",
       "      <td>5048.0</td>\n",
       "      <td>3884.0</td>\n",
       "      <td>8932.0</td>\n",
       "    </tr>\n",
       "    <tr>\n",
       "      <th>ESP</th>\n",
       "      <td>4849.0</td>\n",
       "      <td>1919.0</td>\n",
       "      <td>6768.0</td>\n",
       "    </tr>\n",
       "    <tr>\n",
       "      <th>DEU</th>\n",
       "      <td>3814.0</td>\n",
       "      <td>2363.0</td>\n",
       "      <td>6177.0</td>\n",
       "    </tr>\n",
       "    <tr>\n",
       "      <th>ITA</th>\n",
       "      <td>2277.0</td>\n",
       "      <td>1148.0</td>\n",
       "      <td>3425.0</td>\n",
       "    </tr>\n",
       "    <tr>\n",
       "      <th>IRL</th>\n",
       "      <td>1412.0</td>\n",
       "      <td>1050.0</td>\n",
       "      <td>2462.0</td>\n",
       "    </tr>\n",
       "    <tr>\n",
       "      <th>BEL</th>\n",
       "      <td>1229.0</td>\n",
       "      <td>878.0</td>\n",
       "      <td>2107.0</td>\n",
       "    </tr>\n",
       "    <tr>\n",
       "      <th>BRA</th>\n",
       "      <td>1074.0</td>\n",
       "      <td>877.0</td>\n",
       "      <td>1951.0</td>\n",
       "    </tr>\n",
       "    <tr>\n",
       "      <th>NLD</th>\n",
       "      <td>1149.0</td>\n",
       "      <td>701.0</td>\n",
       "      <td>1850.0</td>\n",
       "    </tr>\n",
       "  </tbody>\n",
       "</table>\n",
       "</div>"
      ],
      "text/plain": [
       "           train    test      sum\n",
       "country                          \n",
       "PRT      27123.0  9466.0  36589.0\n",
       "FRA       5857.0  3443.0   9300.0\n",
       "GBR       5048.0  3884.0   8932.0\n",
       "ESP       4849.0  1919.0   6768.0\n",
       "DEU       3814.0  2363.0   6177.0\n",
       "ITA       2277.0  1148.0   3425.0\n",
       "IRL       1412.0  1050.0   2462.0\n",
       "BEL       1229.0   878.0   2107.0\n",
       "BRA       1074.0   877.0   1951.0\n",
       "NLD       1149.0   701.0   1850.0"
      ]
     },
     "execution_count": 26,
     "metadata": {},
     "output_type": "execute_result"
    }
   ],
   "source": [
    "country_data = pd.DataFrame([df.groupby('country')['id'].count(), df_test.groupby('country')['id'].count()]).T\n",
    "country_data.columns=['train', 'test']\n",
    "country_data = country_data.fillna(0)\n",
    "country_data['sum'] = country_data['test'] + country_data['train']\n",
    "country_data_sorted = country_data.sort_values('sum', ascending = False).head(10)\n",
    "country_data_sorted"
   ]
  },
  {
   "cell_type": "code",
   "execution_count": 27,
   "metadata": {},
   "outputs": [],
   "source": [
    "not_other = country_data_sorted[country_data_sorted['sum'] >= 2000].index\n",
    "df['country'] = df['country'].where(df['country'].isin(not_other), 'other')\n",
    "df_test['country'] = df_test['country'].where(df_test['country'].isin(not_other), 'other')"
   ]
  },
  {
   "cell_type": "code",
   "execution_count": 28,
   "metadata": {},
   "outputs": [
    {
     "name": "stderr",
     "output_type": "stream",
     "text": [
      "C:\\Users\\artem\\anaconda3\\lib\\site-packages\\sklearn\\base.py:443: UserWarning: X has feature names, but OrdinalEncoder was fitted without feature names\n",
      "  warnings.warn(\n",
      "C:\\Users\\artem\\anaconda3\\lib\\site-packages\\sklearn\\base.py:443: UserWarning: X has feature names, but OrdinalEncoder was fitted without feature names\n",
      "  warnings.warn(\n"
     ]
    },
    {
     "data": {
      "text/plain": [
       "0    4\n",
       "1    4\n",
       "2    7\n",
       "3    7\n",
       "4    7\n",
       "5    7\n",
       "6    7\n",
       "7    2\n",
       "8    5\n",
       "9    7\n",
       "Name: country, dtype: int32"
      ]
     },
     "metadata": {},
     "output_type": "display_data"
    },
    {
     "data": {
      "text/plain": [
       "0    7\n",
       "1    8\n",
       "2    8\n",
       "3    7\n",
       "4    0\n",
       "5    1\n",
       "6    8\n",
       "7    8\n",
       "8    4\n",
       "9    7\n",
       "Name: country, dtype: int32"
      ]
     },
     "metadata": {},
     "output_type": "display_data"
    }
   ],
   "source": [
    "encoder_country = OrdinalEncoder()\n",
    "\n",
    "country_list = pd.DataFrame(list(set(df['country'].unique().tolist() + df_test['country'].unique().tolist())))\n",
    "\n",
    "encoder_country.fit(country_list)\n",
    "\n",
    "df_ordinal_transformed_c = encoder_country.transform(df[['country']])\n",
    "df_test_ordinal_transformed_c = encoder_country.transform(df_test[['country']])\n",
    "\n",
    "df_ordinal['country'] = df_ordinal_transformed_c.astype('int')\n",
    "df_test_ordinal['country'] = df_test_ordinal_transformed_c.astype('int')\n",
    "display(df_ordinal['country'].head(10))\n",
    "display(df_test_ordinal['country'].head(10))"
   ]
  },
  {
   "cell_type": "markdown",
   "metadata": {},
   "source": [
    "Данные закодированы, можем приступать к работе с моделями."
   ]
  },
  {
   "cell_type": "markdown",
   "metadata": {},
   "source": [
    "### Шаг 3. Формулировка ML-задачи на основе бизнес-задачи"
   ]
  },
  {
   "cell_type": "markdown",
   "metadata": {},
   "source": [
    "Исходя из данного нам задания, необходимо создать модель, которая предскажет нам неблагонадежных клиентов, для которых необходимо будет внести депозит при бронировании. Предварительно рассчитаем прибыль отеля до внесения каких либо изменений, для этого напишем функцию:"
   ]
  },
  {
   "cell_type": "code",
   "execution_count": 29,
   "metadata": {},
   "outputs": [],
   "source": [
    "SPRING = ['March', 'April', 'May']\n",
    "SUMMER = ['June', 'July', 'August']\n",
    "AUTUMN = ['September', 'October', 'November']\n",
    "WINTER = ['December', 'January', 'Febuary']\n",
    "\n",
    "ROOM_TYPE = {'A':[1000, 400],\n",
    "             'B':[800, 350],\n",
    "             'C':[600, 350],\n",
    "             'D':[550, 150],\n",
    "             'E':[500, 150],\n",
    "             'F':[450, 150],\n",
    "             'G':[350, 150]\n",
    "            }"
   ]
  },
  {
   "cell_type": "code",
   "execution_count": 30,
   "metadata": {},
   "outputs": [],
   "source": [
    "def profit(row):\n",
    "    \n",
    "    profit = 0\n",
    "    coef = 0\n",
    "    \n",
    "    if row['arrival_date_month'] in (SPRING or AUTUMN):\n",
    "        coef = 1.2\n",
    "    elif row['arrival_date_month'] in SUMMER:\n",
    "        coef = 1.4\n",
    "    elif row['arrival_date_month'] in WINTER:\n",
    "        coef = 1\n",
    "        \n",
    "    stayed = row['stays_in_weekend_nights'] + row['stays_in_week_nights']\n",
    "    multipliers = ROOM_TYPE[row['reserved_room_type']]\n",
    "    profit += multipliers[0] * stayed * coef\n",
    "    profit -= multipliers[1] * (np.floor(stayed/2) + 1) ### в этой строке ничего не происходит *вроде поправил V.1*\n",
    "    \n",
    "    return profit"
   ]
  },
  {
   "cell_type": "code",
   "execution_count": 31,
   "metadata": {},
   "outputs": [
    {
     "data": {
      "text/plain": [
       "150909140.0"
      ]
     },
     "execution_count": 31,
     "metadata": {},
     "output_type": "execute_result"
    }
   ],
   "source": [
    "df['potentional_profit'] = df.apply(profit, axis=1)\n",
    "df_test['potentional_profit'] = df_test.apply(profit, axis=1)\n",
    "df['potentional_profit'].sum() + df_test['potentional_profit'].sum()"
   ]
  },
  {
   "cell_type": "markdown",
   "metadata": {},
   "source": [
    "Если бы не было отмен, то отель заработал бы около 150 млн. Но отмены есть, посчитаем прибыль с учетом отмен:"
   ]
  },
  {
   "cell_type": "code",
   "execution_count": 32,
   "metadata": {
    "scrolled": true
   },
   "outputs": [
    {
     "data": {
      "text/plain": [
       "91441780.0"
      ]
     },
     "execution_count": 32,
     "metadata": {},
     "output_type": "execute_result"
    }
   ],
   "source": [
    "df[df['is_canceled'] == 0].apply(profit, axis=1).sum() + df_test[df_test['is_canceled'] == 0].apply(profit, axis=1).sum()"
   ]
  },
  {
   "cell_type": "markdown",
   "metadata": {},
   "source": [
    "Прибыль с учетом отмен чуть больше 91 млн. Потери весьма и весьма значимые, с учетом того, что в данном случае мы еще не учли затраты на подготовку номера и затраты на продукты для потенциального гостя. Оценить эти затраты мы не сможем, поскольку не знаем за какой срок до заезда была отменена бронь, за сколько закупаются продукты и получилось ли найти замену клиенту."
   ]
  },
  {
   "cell_type": "code",
   "execution_count": 33,
   "metadata": {},
   "outputs": [],
   "source": [
    "def cleaning(row):\n",
    "    prices = ROOM_TYPE[row['reserved_room_type']]\n",
    "    return prices[1]"
   ]
  },
  {
   "cell_type": "code",
   "execution_count": 34,
   "metadata": {},
   "outputs": [
    {
     "data": {
      "text/plain": [
       "39349640.0"
      ]
     },
     "execution_count": 34,
     "metadata": {},
     "output_type": "execute_result"
    }
   ],
   "source": [
    "test_profit_no_pred = (\n",
    "    df_test[df_test['is_canceled'] == 0].apply(profit, axis=1).sum() - \n",
    "    df_test[df_test['is_canceled'] == 1].apply(cleaning, axis=1).sum()\n",
    ")\n",
    "\n",
    "test_profit_no_pred"
   ]
  },
  {
   "cell_type": "markdown",
   "metadata": {},
   "source": [
    "Итак, можно утверждать, что прибыль с клиентов, указанных в тестовой выборке состовляет около 40 млн. с учетом отмен."
   ]
  },
  {
   "cell_type": "markdown",
   "metadata": {},
   "source": [
    "### Разработка модели ML"
   ]
  },
  {
   "cell_type": "markdown",
   "metadata": {},
   "source": [
    "Приступим к работе с моделями. Для начала оценим значимость признаков, обучив первые модели:"
   ]
  },
  {
   "cell_type": "code",
   "execution_count": 35,
   "metadata": {
    "scrolled": true
   },
   "outputs": [
    {
     "name": "stdout",
     "output_type": "stream",
     "text": [
      "Fitting 5 folds for each of 30 candidates, totalling 150 fits\n",
      "0.5963735431235454\n",
      "{'n_estimators': 501, 'max_leaf_nodes': 5, 'max_features': 7, 'max_depth': 8}\n"
     ]
    }
   ],
   "source": [
    "target = df_ordinal['is_canceled']\n",
    "features = df_ordinal.drop(['is_canceled', 'id'], axis=1)\n",
    "params = {'max_depth': range(1,10,1),\n",
    "          'max_features': range(1, 10, 1),\n",
    "          'n_estimators': range(1,1000,100),\n",
    "          'max_leaf_nodes': range(2,20,1)\n",
    "         }\n",
    "\n",
    "model = RandomizedSearchCV(RandomForestClassifier(random_state=25, class_weight='balanced'), \n",
    "                    params, \n",
    "                    cv=5,\n",
    "                    pre_dispatch=3,\n",
    "                    verbose=5,\n",
    "                    n_iter = 30,\n",
    "                    scoring='f1',\n",
    "                    random_state=25,\n",
    "                    n_jobs=-1\n",
    "                    )\n",
    "\n",
    "model.fit(features, target)\n",
    "print(model.best_score_)\n",
    "print(model.best_params_)"
   ]
  },
  {
   "cell_type": "code",
   "execution_count": 36,
   "metadata": {
    "scrolled": true
   },
   "outputs": [
    {
     "name": "stdout",
     "output_type": "stream",
     "text": [
      "Fitting 5 folds for each of 135 candidates, totalling 675 fits\n",
      "0.608349161828819\n",
      "{'max_depth': 6, 'max_features': 8, 'max_leaf_nodes': 4, 'n_estimators': 475}\n"
     ]
    }
   ],
   "source": [
    "params = {'max_depth': range(6,9,1),\n",
    "          'max_features': range(6, 9, 1),\n",
    "          'n_estimators': range(450,551,25),\n",
    "          'max_leaf_nodes': range(4,7,1)\n",
    "         }\n",
    "\n",
    "model = GridSearchCV(RandomForestClassifier(random_state=25, class_weight='balanced'), \n",
    "                    params, \n",
    "                    cv=5,\n",
    "                    pre_dispatch=5,\n",
    "                    verbose=5,\n",
    "                    scoring='f1',\n",
    "                    n_jobs=-1\n",
    "                    )\n",
    "\n",
    "model.fit(features, target)\n",
    "print(model.best_score_)\n",
    "print(model.best_params_)"
   ]
  },
  {
   "cell_type": "markdown",
   "metadata": {},
   "source": [
    "Изучим веса признаков:"
   ]
  },
  {
   "cell_type": "code",
   "execution_count": 37,
   "metadata": {
    "scrolled": false
   },
   "outputs": [
    {
     "data": {
      "image/png": "[encoded data removed]",
      "text/plain": [
       "<Figure size 1080x576 with 1 Axes>"
      ]
     },
     "metadata": {},
     "output_type": "display_data"
    }
   ],
   "source": [
    "model = RandomForestClassifier(random_state=25, class_weight='balanced', max_depth=6, max_features = 8, n_estimators = 475, max_leaf_nodes=4)\n",
    "model.fit(features, target)\n",
    "data = pd.DataFrame(features.columns, model.feature_importances_).reset_index().sort_values(by='index')\n",
    "\n",
    "fig = plt.figure(figsize=(15,8))\n",
    "\n",
    "sns.set(style=\"whitegrid\")\n",
    "ax = sns.barplot(data = data, x=0, y='index')\n",
    "ax.set_title('Веса для features\\n')\n",
    "ax.set_ylabel(ylabel='Вес')\n",
    "ax.set_xlabel(xlabel='\\nFeatures')\n",
    "\n",
    "ax.xaxis.set_ticklabels(ax.xaxis.get_ticklabels())\n",
    "plt.xticks(rotation=45, ha='right')\n",
    "plt.show()"
   ]
  },
  {
   "cell_type": "markdown",
   "metadata": {},
   "source": [
    "Исходя из полученных результатов исследования, можно сделать вывод, что достаточным для нас будет использование первых 8 признаков."
   ]
  },
  {
   "cell_type": "code",
   "execution_count": 38,
   "metadata": {},
   "outputs": [],
   "source": [
    "target_column = 'is_canceled'\n",
    "features_columns = ['lead_time',\n",
    "                    'total_of_special_requests',\n",
    "                    'previous_cancellations',\n",
    "                    'required_car_parking_spaces',\n",
    "                    'booking_changes',\n",
    "                    'distribution_channel',\n",
    "                    'customer_type',\n",
    "                   'country']"
   ]
  },
  {
   "cell_type": "markdown",
   "metadata": {},
   "source": [
    "Обучим новую модель на основании этих признаков и проверим её точность:"
   ]
  },
  {
   "cell_type": "code",
   "execution_count": 39,
   "metadata": {
    "scrolled": true
   },
   "outputs": [
    {
     "name": "stdout",
     "output_type": "stream",
     "text": [
      "Fitting 5 folds for each of 50 candidates, totalling 250 fits\n",
      "0.6766213076926029\n",
      "{'n_estimators': 201, 'max_leaf_nodes': 18, 'max_depth': 7}\n"
     ]
    }
   ],
   "source": [
    "target = df_ordinal[target_column]\n",
    "features = df_ordinal[features_columns]\n",
    "params = {'max_depth': range(1,10,1),\n",
    "          'n_estimators': range(1,1000,100),\n",
    "          'max_leaf_nodes': range(2,20,1)\n",
    "         }\n",
    "\n",
    "model = RandomizedSearchCV(RandomForestClassifier(random_state=25, class_weight='balanced'), \n",
    "                    params, \n",
    "                    cv=5,\n",
    "                    pre_dispatch=3,\n",
    "                    verbose=5,\n",
    "                    n_iter = 50,\n",
    "                    scoring='f1',\n",
    "                    n_jobs=-1,\n",
    "                    random_state=25\n",
    "                    )\n",
    "\n",
    "model.fit(features, target)\n",
    "print(model.best_score_)\n",
    "print(model.best_params_)"
   ]
  },
  {
   "cell_type": "markdown",
   "metadata": {},
   "source": [
    "Предварительно можно утверждать, что точность модели повысилась. Впоследствии будем работать с этими признаками. Проверим модель метрикой auc-roc и взглянем на метрику F1 и confusion matrix (на <b> ТЕСТОВЫХ </b> данных):"
   ]
  },
  {
   "cell_type": "code",
   "execution_count": 40,
   "metadata": {},
   "outputs": [],
   "source": [
    "target_test = df_test_ordinal[target_column]\n",
    "features_test = df_test_ordinal[features_columns]"
   ]
  },
  {
   "cell_type": "code",
   "execution_count": 41,
   "metadata": {},
   "outputs": [
    {
     "name": "stdout",
     "output_type": "stream",
     "text": [
      "auc-roc: 0.8212725108864215\n",
      "F1: 0.6587471080263393\n",
      "[[16718  2569]\n",
      " [ 5101  7403]]\n"
     ]
    }
   ],
   "source": [
    "prob = model.predict_proba(features_test)\n",
    "prob_one = prob[:,1]\n",
    "auc_roc = roc_auc_score(target_test, prob_one)\n",
    "print('auc-roc:', auc_roc)\n",
    "print('F1:', f1_score(target_test, model.predict(features_test)))\n",
    "print(confusion_matrix(target_test, model.predict(features_test)))"
   ]
  },
  {
   "cell_type": "markdown",
   "metadata": {},
   "source": [
    "Продолжим работать в направлении увеличесния метрики F1. Проведем уменьшение выборки, для уменьшения дисбаланса классов:"
   ]
  },
  {
   "cell_type": "markdown",
   "metadata": {},
   "source": [
    "Мы провели уменьшение выборки, или же \"downsampling\". Теперь клиентов с отменой брони и без отмены брони примерно поровну. Попробуем обучить модель еще раз, и понаблюдаем за изменением F1 и других метрик:"
   ]
  },
  {
   "cell_type": "code",
   "execution_count": 42,
   "metadata": {
    "scrolled": true
   },
   "outputs": [
    {
     "name": "stdout",
     "output_type": "stream",
     "text": [
      "Fitting 5 folds for each of 20 candidates, totalling 100 fits\n",
      "0.7356127403641314\n",
      "{'random_forest__n_estimators': 400, 'random_forest__max_leaf_nodes': 18, 'random_forest__max_depth': 7}\n"
     ]
    }
   ],
   "source": [
    "params = {'random_forest__max_depth': range(6,10,1),\n",
    "          'random_forest__n_estimators': range(350,451,50),\n",
    "          'random_forest__max_leaf_nodes': range(13,19,1)\n",
    "         }\n",
    "\n",
    "pipeline = imbpipeline([['rus', RandomUnderSampler(random_state=25)], \n",
    "                        ['random_forest', RandomForestClassifier(random_state=25, class_weight='balanced')]])\n",
    "\n",
    "stratified_kfold = StratifiedKFold(n_splits=5,\n",
    "                                   shuffle=True,\n",
    "                                   random_state=25)\n",
    "\n",
    "random_search_ds = RandomizedSearchCV(pipeline, \n",
    "                    param_distributions = params, \n",
    "                    cv=stratified_kfold,\n",
    "                    pre_dispatch=3,\n",
    "                    verbose=5,\n",
    "                    n_iter = 20,\n",
    "                    scoring='f1',\n",
    "                    n_jobs=-1,\n",
    "                    random_state=25\n",
    "                    )\n",
    "\n",
    "random_search_ds.fit(features, target)\n",
    "print(random_search_ds.best_score_)\n",
    "print(random_search_ds.best_params_)"
   ]
  },
  {
   "cell_type": "code",
   "execution_count": 43,
   "metadata": {
    "scrolled": false
   },
   "outputs": [
    {
     "name": "stdout",
     "output_type": "stream",
     "text": [
      "0.7356127403641314\n",
      "{'random_forest__n_estimators': 400, 'random_forest__max_leaf_nodes': 18, 'random_forest__max_depth': 7}\n",
      "auc-roc: 0.8260774978926431\n",
      "F1: 0.6457721188377408\n",
      "[[17273  2014]\n",
      " [ 5581  6923]]\n"
     ]
    }
   ],
   "source": [
    "prob = random_search_ds.predict_proba(features_test)\n",
    "prob_one = prob[:,1]\n",
    "auc_roc = roc_auc_score(target_test, prob_one)\n",
    "print(random_search_ds.best_score_)\n",
    "print(random_search_ds.best_params_)\n",
    "print('auc-roc:', auc_roc)\n",
    "print('F1:', f1_score(target_test, random_search_ds.predict(features_test)))\n",
    "print(confusion_matrix(target_test, random_search_ds.predict(features_test)))"
   ]
  },
  {
   "cell_type": "code",
   "execution_count": 44,
   "metadata": {
    "scrolled": false
   },
   "outputs": [
    {
     "name": "stdout",
     "output_type": "stream",
     "text": [
      "Fitting 5 folds for each of 20 candidates, totalling 100 fits\n",
      "0.7360666249940556\n",
      "{'random_forest__n_estimators': 350, 'random_forest__max_leaf_nodes': 18, 'random_forest__max_depth': 7}\n"
     ]
    }
   ],
   "source": [
    "params = {'random_forest__max_depth': range(6,10,1),\n",
    "          'random_forest__n_estimators': range(350,451,50),\n",
    "          'random_forest__max_leaf_nodes': range(13,19,1)\n",
    "         }\n",
    "\n",
    "pipeline = imbpipeline([['smote', SMOTE(random_state=25)], \n",
    "                        ['random_forest', RandomForestClassifier(random_state=25, class_weight='balanced')]])\n",
    "\n",
    "stratified_kfold = StratifiedKFold(n_splits=5,\n",
    "                                   shuffle=True,\n",
    "                                   random_state=25)\n",
    "\n",
    "random_search_sm = RandomizedSearchCV(estimator = pipeline,\n",
    "                    param_distributions = params, \n",
    "                    cv=stratified_kfold,\n",
    "                    pre_dispatch=3,\n",
    "                    verbose=5,\n",
    "                    n_iter = 20,\n",
    "                    scoring='f1',\n",
    "                    n_jobs=-1,\n",
    "                    random_state=25\n",
    "                    )\n",
    "\n",
    "random_search_sm.fit(features, target)\n",
    "print(random_search_sm.best_score_)\n",
    "print(random_search_sm.best_params_)"
   ]
  },
  {
   "cell_type": "code",
   "execution_count": 45,
   "metadata": {
    "scrolled": false
   },
   "outputs": [
    {
     "name": "stdout",
     "output_type": "stream",
     "text": [
      "0.7360666249940556\n",
      "{'random_forest__n_estimators': 350, 'random_forest__max_leaf_nodes': 18, 'random_forest__max_depth': 7}\n",
      "auc-roc: 0.8232738925317113\n",
      "F1: 0.6675889498940815\n",
      "[[16381  2906]\n",
      " [ 4783  7721]]\n"
     ]
    }
   ],
   "source": [
    "print(random_search_sm.best_score_)\n",
    "print(random_search_sm.best_params_)\n",
    "prob = random_search_sm.predict_proba(features_test)\n",
    "prob_one = prob[:,1]\n",
    "auc_roc = roc_auc_score(target_test, prob_one)\n",
    "print('auc-roc:', auc_roc)\n",
    "print('F1:', f1_score(target_test, random_search_sm.predict(features_test)))\n",
    "print(confusion_matrix(target_test, random_search_sm.predict(features_test)))"
   ]
  },
  {
   "cell_type": "code",
   "execution_count": 46,
   "metadata": {
    "scrolled": true
   },
   "outputs": [
    {
     "name": "stdout",
     "output_type": "stream",
     "text": [
      "Fitting 5 folds for each of 20 candidates, totalling 100 fits\n",
      "[LightGBM] [Warning] min_data_in_leaf is set=6, min_child_samples=20 will be ignored. Current value: min_data_in_leaf=6\n",
      "0.7701120434354132\n",
      "{'lgb__num_leaves': 51, 'lgb__min_data_in_leaf': 6, 'lgb__max_depth': 10}\n"
     ]
    }
   ],
   "source": [
    "params = {'lgb__num_leaves': range(1,101,5),\n",
    "          'lgb__min_data_in_leaf': range(1,10,1),\n",
    "          'lgb__max_depth': range(1,11,1)          \n",
    "         }\n",
    "\n",
    "pipeline = imbpipeline([['rus', RandomUnderSampler(random_state=25)], \n",
    "                        ['lgb', LGBMClassifier()]])\n",
    "\n",
    "stratified_kfold = StratifiedKFold(n_splits=5,\n",
    "                                   shuffle=True,\n",
    "                                   random_state=25)\n",
    "\n",
    "lgb_ds = RandomizedSearchCV(pipeline, \n",
    "                    param_distributions = params, \n",
    "                    cv=stratified_kfold,\n",
    "                    pre_dispatch=3,\n",
    "                    verbose=5,\n",
    "                    scoring='f1',\n",
    "                    n_jobs=-1,\n",
    "                    random_state=25,\n",
    "                    n_iter=20\n",
    "                    )\n",
    "\n",
    "lgb_ds.fit(features, target)\n",
    "print(lgb_ds.best_score_)\n",
    "print(lgb_ds.best_params_)"
   ]
  },
  {
   "cell_type": "code",
   "execution_count": 47,
   "metadata": {
    "scrolled": false
   },
   "outputs": [
    {
     "name": "stdout",
     "output_type": "stream",
     "text": [
      "0.7701120434354132\n",
      "{'lgb__num_leaves': 51, 'lgb__min_data_in_leaf': 6, 'lgb__max_depth': 10}\n",
      "auc-roc: 0.8374749685534341\n",
      "F1: 0.6728480248404348\n",
      "[[16404  2883]\n",
      " [ 4703  7801]]\n"
     ]
    }
   ],
   "source": [
    "prob = lgb_ds.predict_proba(features_test)\n",
    "prob_one = prob[:,1]\n",
    "auc_roc = roc_auc_score(target_test, prob_one)\n",
    "print(lgb_ds.best_score_)\n",
    "print(lgb_ds.best_params_)\n",
    "print('auc-roc:', auc_roc)\n",
    "print('F1:', f1_score(target_test, lgb_ds.predict(features_test)))\n",
    "print(confusion_matrix(target_test, lgb_ds.predict(features_test)))"
   ]
  },
  {
   "cell_type": "code",
   "execution_count": 48,
   "metadata": {
    "scrolled": false
   },
   "outputs": [
    {
     "name": "stdout",
     "output_type": "stream",
     "text": [
      "Fitting 5 folds for each of 20 candidates, totalling 100 fits\n",
      "[LightGBM] [Warning] min_data_in_leaf is set=6, min_child_samples=20 will be ignored. Current value: min_data_in_leaf=6\n",
      "0.769986305433625\n",
      "{'lgb__num_leaves': 51, 'lgb__min_data_in_leaf': 6, 'lgb__max_depth': 10}\n"
     ]
    }
   ],
   "source": [
    "params = {'lgb__num_leaves': range(1,101,5),\n",
    "          'lgb__min_data_in_leaf': range(1,10,1),\n",
    "          'lgb__max_depth': range(1,11,1)          \n",
    "         }\n",
    "\n",
    "pipeline = imbpipeline([['smote', SMOTE(random_state=25)], \n",
    "                        ['lgb', LGBMClassifier()]])\n",
    "\n",
    "stratified_kfold = StratifiedKFold(n_splits=5,\n",
    "                                   shuffle=True,\n",
    "                                   random_state=25)\n",
    "\n",
    "lgb_sm = RandomizedSearchCV(pipeline, \n",
    "                    param_distributions = params, \n",
    "                    cv=stratified_kfold,\n",
    "                    pre_dispatch=3,\n",
    "                    verbose=5,\n",
    "                    scoring='f1',\n",
    "                    n_jobs=-1,\n",
    "                    random_state=25,\n",
    "                    n_iter=20\n",
    "                    )\n",
    "\n",
    "lgb_sm.fit(features, target)\n",
    "print(lgb_sm.best_score_)\n",
    "print(lgb_sm.best_params_)"
   ]
  },
  {
   "cell_type": "code",
   "execution_count": 49,
   "metadata": {
    "scrolled": true
   },
   "outputs": [
    {
     "name": "stdout",
     "output_type": "stream",
     "text": [
      "0.769986305433625\n",
      "{'lgb__num_leaves': 51, 'lgb__min_data_in_leaf': 6, 'lgb__max_depth': 10}\n",
      "auc-roc: 0.8335040838987313\n",
      "F1: 0.6717197670435081\n",
      "[[16282  3005]\n",
      " [ 4661  7843]]\n"
     ]
    }
   ],
   "source": [
    "print(lgb_sm.best_score_)\n",
    "print(lgb_sm.best_params_)\n",
    "prob = lgb_sm.predict_proba(features_test)\n",
    "prob_one = prob[:,1]\n",
    "auc_roc = roc_auc_score(target_test, prob_one)\n",
    "print('auc-roc:', auc_roc)\n",
    "print('F1:', f1_score(target_test, lgb_sm.predict(features_test)))\n",
    "print(confusion_matrix(target_test, lgb_sm.predict(features_test)))"
   ]
  },
  {
   "cell_type": "markdown",
   "metadata": {},
   "source": [
    "#### Вывод"
   ]
  },
  {
   "cell_type": "markdown",
   "metadata": {},
   "source": [
    "Лучше всего себя показала модель LightGBM с использованием SMOTE для метрики F1."
   ]
  },
  {
   "cell_type": "markdown",
   "metadata": {},
   "source": [
    "Модель обучена, теперь можем посчитать, сколько потерь получилось бы предотвратить, основываясь на предсказаниях модели:"
   ]
  },
  {
   "cell_type": "code",
   "execution_count": 50,
   "metadata": {},
   "outputs": [],
   "source": [
    "def deposit(row):\n",
    "    \n",
    "    deposit = 0\n",
    "    coef = 0\n",
    "    \n",
    "    if row['arrival_date_month'] in (SPRING or AUTUMN):\n",
    "        coef = 1.2\n",
    "    elif row['arrival_date_month'] in SUMMER:\n",
    "        coef = 1.4\n",
    "    elif row['arrival_date_month'] in WINTER:\n",
    "        coef = 1\n",
    "    \n",
    "    price = ROOM_TYPE[row['reserved_room_type']]\n",
    "    deposit = (price[0] * coef + price[1]) * 0.8 \n",
    "    \n",
    "    return deposit"
   ]
  },
  {
   "cell_type": "code",
   "execution_count": 51,
   "metadata": {},
   "outputs": [],
   "source": [
    "df_test['predict'] = lgb_ds.predict(features_test)\n",
    "df['predict'] = lgb_ds.predict(features)\n",
    "df_final = pd.concat([df, df_test], ignore_index=True)"
   ]
  },
  {
   "cell_type": "code",
   "execution_count": 52,
   "metadata": {},
   "outputs": [],
   "source": [
    "df['deposit'] = df.apply(deposit, axis=1)\n",
    "df_test['deposit'] = df_test.apply(deposit, axis=1)\n",
    "df_total['deposit'] = df_total.apply(deposit, axis=1)"
   ]
  },
  {
   "cell_type": "code",
   "execution_count": 53,
   "metadata": {},
   "outputs": [
    {
     "data": {
      "text/plain": [
       "23801952.0"
      ]
     },
     "execution_count": 53,
     "metadata": {},
     "output_type": "execute_result"
    }
   ],
   "source": [
    "df[(df['predict'] == 1) & (df['is_canceled'] == 1)]['deposit'].sum() + df_test[(df_test['predict']==1) & (df_test['is_canceled']==1)]['deposit'].sum()"
   ]
  },
  {
   "cell_type": "markdown",
   "metadata": {},
   "source": [
    "Из этого можно сделать вывод, что за все время, если бы использовалась модель для предсказания взятия депозита, то получилось бы сэкономить почти 24 млн на отменненых заказах. А сколько же получилось бы сэкономить за год? (Для оценки возьмем 2016 год)"
   ]
  },
  {
   "cell_type": "code",
   "execution_count": 54,
   "metadata": {
    "scrolled": true
   },
   "outputs": [
    {
     "data": {
      "text/plain": [
       "10077144.0"
      ]
     },
     "execution_count": 54,
     "metadata": {},
     "output_type": "execute_result"
    }
   ],
   "source": [
    "(df[(df['predict'] == 1) & (df['is_canceled'] == 1) & (df['arrival_date_year'] == 2016)]['deposit'].sum() \n",
    " + df_test[(df_test['predict']==1) & (df_test['is_canceled']==1) & (df_test['arrival_date_year'] == 2016)]['deposit'].sum())"
   ]
  },
  {
   "cell_type": "markdown",
   "metadata": {},
   "source": [
    "Итак, за 2016 год получилось бы сэкономить 101 млн. Что покрывает затраты на разработку модели. Посмотрим, какой для скольки процентов посетителей модель рекомендует брать депозит:"
   ]
  },
  {
   "cell_type": "code",
   "execution_count": 55,
   "metadata": {},
   "outputs": [
    {
     "data": {
      "text/plain": [
       "0.3556543595812526"
      ]
     },
     "execution_count": 55,
     "metadata": {},
     "output_type": "execute_result"
    }
   ],
   "source": [
    "(df['predict'].mean() + df_test['predict'].mean())/2"
   ]
  },
  {
   "cell_type": "markdown",
   "metadata": {},
   "source": [
    "Примерно для 36% посетителей рекомендуется требовать депозит. Что соотносимо с количеством отмен, которое мы оценивали в начале исследования."
   ]
  },
  {
   "cell_type": "code",
   "execution_count": 56,
   "metadata": {
    "scrolled": true
   },
   "outputs": [
    {
     "data": {
      "text/plain": [
       "8768152.0"
      ]
     },
     "execution_count": 56,
     "metadata": {},
     "output_type": "execute_result"
    }
   ],
   "source": [
    "df_test[(df_test['predict']==1) & (df_test['is_canceled']==1)]['deposit'].sum()"
   ]
  },
  {
   "cell_type": "code",
   "execution_count": 57,
   "metadata": {
    "scrolled": true
   },
   "outputs": [
    {
     "name": "stdout",
     "output_type": "stream",
     "text": [
      "Прибыль с использованием модели:\n"
     ]
    },
    {
     "data": {
      "text/plain": [
       "48117792.0"
      ]
     },
     "execution_count": 57,
     "metadata": {},
     "output_type": "execute_result"
    }
   ],
   "source": [
    "print('Прибыль с использованием модели:')\n",
    "(df_test[df_test['is_canceled']==0]['potentional_profit'].sum() +\n",
    " df_test[(df_test['predict']==1) & (df_test['is_canceled']==1)]['deposit'].sum() -\n",
    " (df_test[(df_test['is_canceled']==1)]['reserved_room_type'].transform(lambda x: ROOM_TYPE[x][1])).sum())"
   ]
  },
  {
   "cell_type": "code",
   "execution_count": 58,
   "metadata": {},
   "outputs": [
    {
     "name": "stdout",
     "output_type": "stream",
     "text": [
      "Прибыль без использования модели:\n"
     ]
    },
    {
     "data": {
      "text/plain": [
       "39349640.0"
      ]
     },
     "execution_count": 58,
     "metadata": {},
     "output_type": "execute_result"
    }
   ],
   "source": [
    "print('Прибыль без использования модели:')\n",
    "(df_test[df_test['is_canceled']==0]['potentional_profit'].sum() -\n",
    "(df_test[(df_test['is_canceled']==1)]['reserved_room_type'].transform(lambda x: ROOM_TYPE[x][1])).sum())"
   ]
  },
  {
   "cell_type": "markdown",
   "metadata": {},
   "source": [
    "### Опишем портрет «ненадёжного» клиента"
   ]
  },
  {
   "cell_type": "markdown",
   "metadata": {},
   "source": [
    "Исходя из тех параметров, на которых мы обучали модель, можно сделать предположение о типичном \"ненадежном\" клиенте:"
   ]
  },
  {
   "cell_type": "code",
   "execution_count": 78,
   "metadata": {},
   "outputs": [
    {
     "name": "stderr",
     "output_type": "stream",
     "text": [
      "C:\\Users\\artem\\AppData\\Local\\Temp\\ipykernel_5728\\663699182.py:1: FutureWarning: Dropping of nuisance columns in DataFrame reductions (with 'numeric_only=None') is deprecated; in a future version this will raise TypeError.  Select only valid columns before calling the reduction.\n",
      "  df_final[df_final['is_canceled']==1][features_columns].mean()\n"
     ]
    },
    {
     "data": {
      "text/plain": [
       "lead_time                      130.419784\n",
       "total_of_special_requests        0.325882\n",
       "previous_cancellations           0.149494\n",
       "required_car_parking_spaces      0.000000\n",
       "booking_changes                  0.080033\n",
       "dtype: float64"
      ]
     },
     "execution_count": 78,
     "metadata": {},
     "output_type": "execute_result"
    }
   ],
   "source": [
    "df_final[df_final['is_canceled']==1][features_columns].mean()"
   ]
  },
  {
   "cell_type": "code",
   "execution_count": 79,
   "metadata": {},
   "outputs": [
    {
     "name": "stderr",
     "output_type": "stream",
     "text": [
      "C:\\Users\\artem\\AppData\\Local\\Temp\\ipykernel_5728\\2313762104.py:1: FutureWarning: Dropping of nuisance columns in DataFrame reductions (with 'numeric_only=None') is deprecated; in a future version this will raise TypeError.  Select only valid columns before calling the reduction.\n",
      "  df_final[features_columns].mean()\n"
     ]
    },
    {
     "data": {
      "text/plain": [
       "lead_time                      95.265444\n",
       "total_of_special_requests       0.567458\n",
       "previous_cancellations          0.057560\n",
       "required_car_parking_spaces     0.052846\n",
       "booking_changes                 0.179993\n",
       "dtype: float64"
      ]
     },
     "execution_count": 79,
     "metadata": {},
     "output_type": "execute_result"
    }
   ],
   "source": [
    "df_final[features_columns].mean()"
   ]
  },
  {
   "cell_type": "code",
   "execution_count": 61,
   "metadata": {},
   "outputs": [],
   "source": [
    "df_canceled_distribution_channel = df_final[df_final['is_canceled']==1].groupby('distribution_channel')['id'].count().sort_values(ascending=False)"
   ]
  },
  {
   "cell_type": "code",
   "execution_count": 62,
   "metadata": {},
   "outputs": [],
   "source": [
    "df_distribution_channel = df_final.groupby('distribution_channel')['id'].count().sort_values(ascending=False)"
   ]
  },
  {
   "cell_type": "code",
   "execution_count": 63,
   "metadata": {},
   "outputs": [
    {
     "data": {
      "text/html": [
       "<div>\n",
       "<style scoped>\n",
       "    .dataframe tbody tr th:only-of-type {\n",
       "        vertical-align: middle;\n",
       "    }\n",
       "\n",
       "    .dataframe tbody tr th {\n",
       "        vertical-align: top;\n",
       "    }\n",
       "\n",
       "    .dataframe thead th {\n",
       "        text-align: right;\n",
       "    }\n",
       "</style>\n",
       "<table border=\"1\" class=\"dataframe\">\n",
       "  <thead>\n",
       "    <tr style=\"text-align: right;\">\n",
       "      <th></th>\n",
       "      <th>canceled</th>\n",
       "      <th>total</th>\n",
       "    </tr>\n",
       "    <tr>\n",
       "      <th>distribution_channel</th>\n",
       "      <th></th>\n",
       "      <th></th>\n",
       "    </tr>\n",
       "  </thead>\n",
       "  <tbody>\n",
       "    <tr>\n",
       "      <th>TA/TO</th>\n",
       "      <td>32462</td>\n",
       "      <td>79318</td>\n",
       "    </tr>\n",
       "    <tr>\n",
       "      <th>Direct</th>\n",
       "      <td>1800</td>\n",
       "      <td>10301</td>\n",
       "    </tr>\n",
       "    <tr>\n",
       "      <th>Corporate</th>\n",
       "      <td>1178</td>\n",
       "      <td>4812</td>\n",
       "    </tr>\n",
       "    <tr>\n",
       "      <th>GDS</th>\n",
       "      <td>33</td>\n",
       "      <td>184</td>\n",
       "    </tr>\n",
       "  </tbody>\n",
       "</table>\n",
       "</div>"
      ],
      "text/plain": [
       "                      canceled  total\n",
       "distribution_channel                 \n",
       "TA/TO                    32462  79318\n",
       "Direct                    1800  10301\n",
       "Corporate                 1178   4812\n",
       "GDS                         33    184"
      ]
     },
     "execution_count": 63,
     "metadata": {},
     "output_type": "execute_result"
    }
   ],
   "source": [
    "df_by_channel = pd.DataFrame([df_canceled_distribution_channel, df_distribution_channel]).T\n",
    "df_by_channel.columns = ['canceled', 'total']\n",
    "df_by_channel"
   ]
  },
  {
   "cell_type": "code",
   "execution_count": 64,
   "metadata": {},
   "outputs": [
    {
     "data": {
      "text/html": [
       "<div>\n",
       "<style scoped>\n",
       "    .dataframe tbody tr th:only-of-type {\n",
       "        vertical-align: middle;\n",
       "    }\n",
       "\n",
       "    .dataframe tbody tr th {\n",
       "        vertical-align: top;\n",
       "    }\n",
       "\n",
       "    .dataframe thead th {\n",
       "        text-align: right;\n",
       "    }\n",
       "</style>\n",
       "<table border=\"1\" class=\"dataframe\">\n",
       "  <thead>\n",
       "    <tr style=\"text-align: right;\">\n",
       "      <th></th>\n",
       "      <th>canceled</th>\n",
       "      <th>total</th>\n",
       "      <th>ratio</th>\n",
       "    </tr>\n",
       "    <tr>\n",
       "      <th>distribution_channel</th>\n",
       "      <th></th>\n",
       "      <th></th>\n",
       "      <th></th>\n",
       "    </tr>\n",
       "  </thead>\n",
       "  <tbody>\n",
       "    <tr>\n",
       "      <th>TA/TO</th>\n",
       "      <td>32462</td>\n",
       "      <td>79318</td>\n",
       "      <td>0.409264</td>\n",
       "    </tr>\n",
       "    <tr>\n",
       "      <th>Direct</th>\n",
       "      <td>1800</td>\n",
       "      <td>10301</td>\n",
       "      <td>0.174740</td>\n",
       "    </tr>\n",
       "    <tr>\n",
       "      <th>Corporate</th>\n",
       "      <td>1178</td>\n",
       "      <td>4812</td>\n",
       "      <td>0.244805</td>\n",
       "    </tr>\n",
       "    <tr>\n",
       "      <th>GDS</th>\n",
       "      <td>33</td>\n",
       "      <td>184</td>\n",
       "      <td>0.179348</td>\n",
       "    </tr>\n",
       "  </tbody>\n",
       "</table>\n",
       "</div>"
      ],
      "text/plain": [
       "                      canceled  total     ratio\n",
       "distribution_channel                           \n",
       "TA/TO                    32462  79318  0.409264\n",
       "Direct                    1800  10301  0.174740\n",
       "Corporate                 1178   4812  0.244805\n",
       "GDS                         33    184  0.179348"
      ]
     },
     "execution_count": 64,
     "metadata": {},
     "output_type": "execute_result"
    }
   ],
   "source": [
    "df_by_channel['ratio'] = df_by_channel['canceled'] / df_by_channel['total']\n",
    "df_by_channel"
   ]
  },
  {
   "cell_type": "code",
   "execution_count": 65,
   "metadata": {},
   "outputs": [
    {
     "data": {
      "image/png": "[encoded data removed]",
      "text/plain": [
       "<Figure size 432x288 with 1 Axes>"
      ]
     },
     "metadata": {},
     "output_type": "display_data"
    }
   ],
   "source": [
    "fig = plt.figure()\n",
    "\n",
    "sns.set(style=\"whitegrid\")\n",
    "ax = sns.barplot(data = df_by_channel.sort_values('ratio', ascending=False), x=df_by_channel.sort_values('ratio', ascending=False).index, y='ratio')\n",
    "ax.set_title('Доля отмененных заказов для клиентов по типу приобритения брони\\n')\n",
    "ax.set_ylabel(ylabel='Доля')\n",
    "ax.set_xlabel(xlabel='\\nТип приобритения брони')\n",
    "\n",
    "plt.show()"
   ]
  },
  {
   "cell_type": "code",
   "execution_count": 66,
   "metadata": {},
   "outputs": [],
   "source": [
    "df_canceled_customer_type = df_final[df_final['is_canceled']==1].groupby('customer_type')['id'].count().sort_values(ascending=False)"
   ]
  },
  {
   "cell_type": "code",
   "execution_count": 67,
   "metadata": {},
   "outputs": [],
   "source": [
    "df_customer_type = df_final.groupby('customer_type')['id'].count().sort_values(ascending=False)"
   ]
  },
  {
   "cell_type": "code",
   "execution_count": 68,
   "metadata": {},
   "outputs": [
    {
     "data": {
      "text/html": [
       "<div>\n",
       "<style scoped>\n",
       "    .dataframe tbody tr th:only-of-type {\n",
       "        vertical-align: middle;\n",
       "    }\n",
       "\n",
       "    .dataframe tbody tr th {\n",
       "        vertical-align: top;\n",
       "    }\n",
       "\n",
       "    .dataframe thead th {\n",
       "        text-align: right;\n",
       "    }\n",
       "</style>\n",
       "<table border=\"1\" class=\"dataframe\">\n",
       "  <thead>\n",
       "    <tr style=\"text-align: right;\">\n",
       "      <th></th>\n",
       "      <th>canceled</th>\n",
       "      <th>total</th>\n",
       "    </tr>\n",
       "    <tr>\n",
       "      <th>customer_type</th>\n",
       "      <th></th>\n",
       "      <th></th>\n",
       "    </tr>\n",
       "  </thead>\n",
       "  <tbody>\n",
       "    <tr>\n",
       "      <th>Transient</th>\n",
       "      <td>28924</td>\n",
       "      <td>71251</td>\n",
       "    </tr>\n",
       "    <tr>\n",
       "      <th>Transient-Party</th>\n",
       "      <td>5382</td>\n",
       "      <td>19827</td>\n",
       "    </tr>\n",
       "    <tr>\n",
       "      <th>Contract</th>\n",
       "      <td>1135</td>\n",
       "      <td>3100</td>\n",
       "    </tr>\n",
       "    <tr>\n",
       "      <th>Group</th>\n",
       "      <td>32</td>\n",
       "      <td>437</td>\n",
       "    </tr>\n",
       "  </tbody>\n",
       "</table>\n",
       "</div>"
      ],
      "text/plain": [
       "                 canceled  total\n",
       "customer_type                   \n",
       "Transient           28924  71251\n",
       "Transient-Party      5382  19827\n",
       "Contract             1135   3100\n",
       "Group                  32    437"
      ]
     },
     "execution_count": 68,
     "metadata": {},
     "output_type": "execute_result"
    }
   ],
   "source": [
    "df_by_customer_type = pd.DataFrame([df_canceled_customer_type, df_customer_type]).T\n",
    "df_by_customer_type.columns = ['canceled', 'total']\n",
    "df_by_customer_type"
   ]
  },
  {
   "cell_type": "code",
   "execution_count": 69,
   "metadata": {},
   "outputs": [
    {
     "data": {
      "text/html": [
       "<div>\n",
       "<style scoped>\n",
       "    .dataframe tbody tr th:only-of-type {\n",
       "        vertical-align: middle;\n",
       "    }\n",
       "\n",
       "    .dataframe tbody tr th {\n",
       "        vertical-align: top;\n",
       "    }\n",
       "\n",
       "    .dataframe thead th {\n",
       "        text-align: right;\n",
       "    }\n",
       "</style>\n",
       "<table border=\"1\" class=\"dataframe\">\n",
       "  <thead>\n",
       "    <tr style=\"text-align: right;\">\n",
       "      <th></th>\n",
       "      <th>canceled</th>\n",
       "      <th>total</th>\n",
       "      <th>ratio</th>\n",
       "    </tr>\n",
       "    <tr>\n",
       "      <th>distribution_channel</th>\n",
       "      <th></th>\n",
       "      <th></th>\n",
       "      <th></th>\n",
       "    </tr>\n",
       "  </thead>\n",
       "  <tbody>\n",
       "    <tr>\n",
       "      <th>TA/TO</th>\n",
       "      <td>32462</td>\n",
       "      <td>79318</td>\n",
       "      <td>0.409264</td>\n",
       "    </tr>\n",
       "    <tr>\n",
       "      <th>Direct</th>\n",
       "      <td>1800</td>\n",
       "      <td>10301</td>\n",
       "      <td>0.174740</td>\n",
       "    </tr>\n",
       "    <tr>\n",
       "      <th>Corporate</th>\n",
       "      <td>1178</td>\n",
       "      <td>4812</td>\n",
       "      <td>0.244805</td>\n",
       "    </tr>\n",
       "    <tr>\n",
       "      <th>GDS</th>\n",
       "      <td>33</td>\n",
       "      <td>184</td>\n",
       "      <td>0.179348</td>\n",
       "    </tr>\n",
       "  </tbody>\n",
       "</table>\n",
       "</div>"
      ],
      "text/plain": [
       "                      canceled  total     ratio\n",
       "distribution_channel                           \n",
       "TA/TO                    32462  79318  0.409264\n",
       "Direct                    1800  10301  0.174740\n",
       "Corporate                 1178   4812  0.244805\n",
       "GDS                         33    184  0.179348"
      ]
     },
     "execution_count": 69,
     "metadata": {},
     "output_type": "execute_result"
    }
   ],
   "source": [
    "df_by_channel['ratio'] = df_by_channel['canceled'] / df_by_channel['total']\n",
    "df_by_channel"
   ]
  },
  {
   "cell_type": "code",
   "execution_count": 70,
   "metadata": {},
   "outputs": [
    {
     "data": {
      "image/png": "[encoded data removed]",
      "text/plain": [
       "<Figure size 432x288 with 1 Axes>"
      ]
     },
     "metadata": {},
     "output_type": "display_data"
    }
   ],
   "source": [
    "fig = plt.figure()\n",
    "\n",
    "sns.set(style=\"whitegrid\")\n",
    "ax = sns.barplot(data = df_by_channel.sort_values('ratio', ascending=False), x=df_by_channel.sort_values('ratio', ascending=False).index, y='ratio')\n",
    "ax.set_title('Доля отмененных заказов для различных типов клиентов\\n')\n",
    "ax.set_ylabel(ylabel='Доля')\n",
    "ax.set_xlabel(xlabel='\\nТип клиента')\n",
    "\n",
    "plt.show()"
   ]
  },
  {
   "cell_type": "code",
   "execution_count": 71,
   "metadata": {
    "scrolled": false
   },
   "outputs": [
    {
     "data": {
      "text/plain": [
       "country\n",
       "PRT      21442\n",
       "other     5233\n",
       "GBR       1998\n",
       "FRA       1718\n",
       "ESP       1690\n",
       "ITA       1250\n",
       "DEU       1108\n",
       "IRL        622\n",
       "BEL        412\n",
       "Name: id, dtype: int64"
      ]
     },
     "execution_count": 71,
     "metadata": {},
     "output_type": "execute_result"
    }
   ],
   "source": [
    "df_canceled_by_country = df_final[df_final['is_canceled']==1].groupby('country')['id'].count().sort_values(ascending=False)\n",
    "df_canceled_by_country"
   ]
  },
  {
   "cell_type": "code",
   "execution_count": 72,
   "metadata": {},
   "outputs": [
    {
     "data": {
      "text/html": [
       "<div>\n",
       "<style scoped>\n",
       "    .dataframe tbody tr th:only-of-type {\n",
       "        vertical-align: middle;\n",
       "    }\n",
       "\n",
       "    .dataframe tbody tr th {\n",
       "        vertical-align: top;\n",
       "    }\n",
       "\n",
       "    .dataframe thead th {\n",
       "        text-align: right;\n",
       "    }\n",
       "</style>\n",
       "<table border=\"1\" class=\"dataframe\">\n",
       "  <thead>\n",
       "    <tr style=\"text-align: right;\">\n",
       "      <th></th>\n",
       "      <th>canceled</th>\n",
       "      <th>total</th>\n",
       "    </tr>\n",
       "    <tr>\n",
       "      <th>country</th>\n",
       "      <th></th>\n",
       "      <th></th>\n",
       "    </tr>\n",
       "  </thead>\n",
       "  <tbody>\n",
       "    <tr>\n",
       "      <th>PRT</th>\n",
       "      <td>21442</td>\n",
       "      <td>36589</td>\n",
       "    </tr>\n",
       "    <tr>\n",
       "      <th>other</th>\n",
       "      <td>5233</td>\n",
       "      <td>18855</td>\n",
       "    </tr>\n",
       "    <tr>\n",
       "      <th>GBR</th>\n",
       "      <td>1998</td>\n",
       "      <td>8932</td>\n",
       "    </tr>\n",
       "    <tr>\n",
       "      <th>FRA</th>\n",
       "      <td>1718</td>\n",
       "      <td>9300</td>\n",
       "    </tr>\n",
       "    <tr>\n",
       "      <th>ESP</th>\n",
       "      <td>1690</td>\n",
       "      <td>6768</td>\n",
       "    </tr>\n",
       "    <tr>\n",
       "      <th>ITA</th>\n",
       "      <td>1250</td>\n",
       "      <td>3425</td>\n",
       "    </tr>\n",
       "    <tr>\n",
       "      <th>DEU</th>\n",
       "      <td>1108</td>\n",
       "      <td>6177</td>\n",
       "    </tr>\n",
       "    <tr>\n",
       "      <th>IRL</th>\n",
       "      <td>622</td>\n",
       "      <td>2462</td>\n",
       "    </tr>\n",
       "    <tr>\n",
       "      <th>BEL</th>\n",
       "      <td>412</td>\n",
       "      <td>2107</td>\n",
       "    </tr>\n",
       "  </tbody>\n",
       "</table>\n",
       "</div>"
      ],
      "text/plain": [
       "         canceled  total\n",
       "country                 \n",
       "PRT         21442  36589\n",
       "other        5233  18855\n",
       "GBR          1998   8932\n",
       "FRA          1718   9300\n",
       "ESP          1690   6768\n",
       "ITA          1250   3425\n",
       "DEU          1108   6177\n",
       "IRL           622   2462\n",
       "BEL           412   2107"
      ]
     },
     "execution_count": 72,
     "metadata": {},
     "output_type": "execute_result"
    }
   ],
   "source": [
    "df_groupped_by_country = df_final.groupby('country')['country'].count().sort_values(ascending=False)\n",
    "df_by_country = pd.DataFrame([df_canceled_by_country, df_groupped_by_country]).T\n",
    "df_by_country.columns = ['canceled', 'total']\n",
    "df_by_country"
   ]
  },
  {
   "cell_type": "code",
   "execution_count": 73,
   "metadata": {},
   "outputs": [
    {
     "data": {
      "text/html": [
       "<div>\n",
       "<style scoped>\n",
       "    .dataframe tbody tr th:only-of-type {\n",
       "        vertical-align: middle;\n",
       "    }\n",
       "\n",
       "    .dataframe tbody tr th {\n",
       "        vertical-align: top;\n",
       "    }\n",
       "\n",
       "    .dataframe thead th {\n",
       "        text-align: right;\n",
       "    }\n",
       "</style>\n",
       "<table border=\"1\" class=\"dataframe\">\n",
       "  <thead>\n",
       "    <tr style=\"text-align: right;\">\n",
       "      <th></th>\n",
       "      <th>canceled</th>\n",
       "      <th>total</th>\n",
       "      <th>ratio</th>\n",
       "    </tr>\n",
       "    <tr>\n",
       "      <th>country</th>\n",
       "      <th></th>\n",
       "      <th></th>\n",
       "      <th></th>\n",
       "    </tr>\n",
       "  </thead>\n",
       "  <tbody>\n",
       "    <tr>\n",
       "      <th>PRT</th>\n",
       "      <td>21442</td>\n",
       "      <td>36589</td>\n",
       "      <td>0.586023</td>\n",
       "    </tr>\n",
       "    <tr>\n",
       "      <th>other</th>\n",
       "      <td>5233</td>\n",
       "      <td>18855</td>\n",
       "      <td>0.277539</td>\n",
       "    </tr>\n",
       "    <tr>\n",
       "      <th>GBR</th>\n",
       "      <td>1998</td>\n",
       "      <td>8932</td>\n",
       "      <td>0.223690</td>\n",
       "    </tr>\n",
       "    <tr>\n",
       "      <th>FRA</th>\n",
       "      <td>1718</td>\n",
       "      <td>9300</td>\n",
       "      <td>0.184731</td>\n",
       "    </tr>\n",
       "    <tr>\n",
       "      <th>ESP</th>\n",
       "      <td>1690</td>\n",
       "      <td>6768</td>\n",
       "      <td>0.249704</td>\n",
       "    </tr>\n",
       "    <tr>\n",
       "      <th>ITA</th>\n",
       "      <td>1250</td>\n",
       "      <td>3425</td>\n",
       "      <td>0.364964</td>\n",
       "    </tr>\n",
       "    <tr>\n",
       "      <th>DEU</th>\n",
       "      <td>1108</td>\n",
       "      <td>6177</td>\n",
       "      <td>0.179375</td>\n",
       "    </tr>\n",
       "    <tr>\n",
       "      <th>IRL</th>\n",
       "      <td>622</td>\n",
       "      <td>2462</td>\n",
       "      <td>0.252640</td>\n",
       "    </tr>\n",
       "    <tr>\n",
       "      <th>BEL</th>\n",
       "      <td>412</td>\n",
       "      <td>2107</td>\n",
       "      <td>0.195539</td>\n",
       "    </tr>\n",
       "  </tbody>\n",
       "</table>\n",
       "</div>"
      ],
      "text/plain": [
       "         canceled  total     ratio\n",
       "country                           \n",
       "PRT         21442  36589  0.586023\n",
       "other        5233  18855  0.277539\n",
       "GBR          1998   8932  0.223690\n",
       "FRA          1718   9300  0.184731\n",
       "ESP          1690   6768  0.249704\n",
       "ITA          1250   3425  0.364964\n",
       "DEU          1108   6177  0.179375\n",
       "IRL           622   2462  0.252640\n",
       "BEL           412   2107  0.195539"
      ]
     },
     "execution_count": 73,
     "metadata": {},
     "output_type": "execute_result"
    }
   ],
   "source": [
    "df_by_country['ratio'] = df_by_country['canceled'] / df_by_country['total']\n",
    "df_by_country"
   ]
  },
  {
   "cell_type": "code",
   "execution_count": 74,
   "metadata": {},
   "outputs": [
    {
     "data": {
      "image/png": "[encoded data removed]",
      "text/plain": [
       "<Figure size 1080x576 with 1 Axes>"
      ]
     },
     "metadata": {},
     "output_type": "display_data"
    }
   ],
   "source": [
    "fig = plt.figure(figsize=(15,8))\n",
    "\n",
    "sns.set(style=\"whitegrid\")\n",
    "ax = sns.barplot(data = df_by_country.sort_values('ratio', ascending=False), x=df_by_country.sort_values('ratio', ascending=False).index, y='ratio')\n",
    "ax.set_title('Доля отмененных заказов для клиентов конкретной страны\\n')\n",
    "ax.set_ylabel(ylabel='Доля')\n",
    "ax.set_xlabel(xlabel='\\nСтрана')\n",
    "\n",
    "plt.show()"
   ]
  },
  {
   "cell_type": "markdown",
   "metadata": {},
   "source": [
    "Исходя из этих данных, можно утверждать, что \"ненадежный\" клиент это клиент, который создал бронь задолго до посещения (более чем за 100 дней), почти не делал специальных отметок, достаточно часто отменял бронь в прошлом, не указывал о необходимости парковочного места, не изменял параметры заказа, оформлял бронь через турагенство и не связан с договором или групповым заездом."
   ]
  },
  {
   "cell_type": "markdown",
   "metadata": {},
   "source": [
    "### Шаг 6. Напишем общий вывод"
   ]
  },
  {
   "cell_type": "markdown",
   "metadata": {},
   "source": [
    "Исходя из всего выше написанного можно утверждать, что примерно 35% (как по предсказанию модели, так и по факту) клиентов отменяют бронь. Также можно утверждать, что на основании обученной модели можно успешно компенсировать часть расходов, причем не затрагивая \"благонадежных\" клиентов, которым не свойственно отменять бронь.\n",
    "\n",
    "Но к сожалению ввод данной системы все равно повлечет какой-то отток клиентов, поскольку не всегда \"неблагонадежные\" клиенты (по мнению модели) отменяют бронь. Поэтому я бы рассмотрел иные схемы по оформлению брони."
   ]
  },
  {
   "cell_type": "code",
   "execution_count": null,
   "metadata": {},
   "outputs": [],
   "source": []
  }
 ],
 "metadata": {
  "ExecuteTimeLog": [
   {
    "duration": 754,
    "start_time": "2021-11-28T16:21:36.308Z"
   },
   {
    "duration": 302,
    "start_time": "2021-11-28T16:22:52.317Z"
   },
   {
    "duration": 97,
    "start_time": "2021-11-28T16:22:57.226Z"
   },
   {
    "duration": 261,
    "start_time": "2021-11-28T16:24:31.878Z"
   },
   {
    "duration": 594,
    "start_time": "2021-12-04T14:13:59.128Z"
   },
   {
    "duration": 817,
    "start_time": "2021-12-04T14:14:01.833Z"
   },
   {
    "duration": 1209,
    "start_time": "2021-12-04T14:14:03.069Z"
   },
   {
    "duration": 32,
    "start_time": "2021-12-04T14:14:04.281Z"
   },
   {
    "duration": 133,
    "start_time": "2021-12-04T14:14:12.496Z"
   },
   {
    "duration": 88,
    "start_time": "2021-12-04T14:14:17.782Z"
   },
   {
    "duration": 22,
    "start_time": "2021-12-04T14:14:29.276Z"
   },
   {
    "duration": 117,
    "start_time": "2021-12-04T14:14:42.409Z"
   },
   {
    "duration": 60,
    "start_time": "2021-12-04T14:14:47.853Z"
   },
   {
    "duration": 1051,
    "start_time": "2021-12-05T11:33:47.944Z"
   },
   {
    "duration": 206,
    "start_time": "2021-12-05T11:33:51.099Z"
   },
   {
    "duration": 25,
    "start_time": "2021-12-05T11:33:51.814Z"
   },
   {
    "duration": 86,
    "start_time": "2021-12-05T11:33:52.947Z"
   },
   {
    "duration": 49,
    "start_time": "2021-12-05T11:33:53.879Z"
   },
   {
    "duration": 15,
    "start_time": "2021-12-05T11:33:54.820Z"
   },
   {
    "duration": 68,
    "start_time": "2021-12-05T11:33:55.804Z"
   },
   {
    "duration": 35,
    "start_time": "2021-12-05T11:33:56.674Z"
   },
   {
    "duration": 123,
    "start_time": "2021-12-05T11:40:38.111Z"
   },
   {
    "duration": 3,
    "start_time": "2021-12-05T13:23:40.992Z"
   },
   {
    "duration": 406,
    "start_time": "2021-12-05T13:25:13.074Z"
   },
   {
    "duration": 3,
    "start_time": "2021-12-05T13:25:22.609Z"
   },
   {
    "duration": 244,
    "start_time": "2021-12-05T13:25:22.985Z"
   },
   {
    "duration": 3,
    "start_time": "2021-12-05T14:10:49.666Z"
   },
   {
    "duration": 96,
    "start_time": "2021-12-05T14:10:50.633Z"
   },
   {
    "duration": 128,
    "start_time": "2021-12-05T14:10:55.980Z"
   },
   {
    "duration": 120,
    "start_time": "2021-12-05T14:11:21.327Z"
   },
   {
    "duration": 8,
    "start_time": "2021-12-05T14:11:42.409Z"
   },
   {
    "duration": 244,
    "start_time": "2021-12-05T14:11:51.925Z"
   },
   {
    "duration": 85,
    "start_time": "2021-12-05T14:15:51.760Z"
   },
   {
    "duration": 242,
    "start_time": "2021-12-05T14:15:52.812Z"
   },
   {
    "duration": 1630,
    "start_time": "2021-12-05T14:16:11.067Z"
   },
   {
    "duration": 389,
    "start_time": "2021-12-05T14:16:12.700Z"
   },
   {
    "duration": 42,
    "start_time": "2021-12-05T14:16:13.092Z"
   },
   {
    "duration": 157,
    "start_time": "2021-12-05T14:16:13.137Z"
   },
   {
    "duration": 88,
    "start_time": "2021-12-05T14:16:13.296Z"
   },
   {
    "duration": 25,
    "start_time": "2021-12-05T14:16:13.387Z"
   },
   {
    "duration": 93,
    "start_time": "2021-12-05T14:16:13.415Z"
   },
   {
    "duration": 39,
    "start_time": "2021-12-05T14:16:13.510Z"
   },
   {
    "duration": 13,
    "start_time": "2021-12-05T14:16:13.551Z"
   },
   {
    "duration": 114,
    "start_time": "2021-12-05T14:16:13.567Z"
   },
   {
    "duration": 465,
    "start_time": "2021-12-05T14:16:13.683Z"
   },
   {
    "duration": 5,
    "start_time": "2021-12-05T14:16:31.347Z"
   },
   {
    "duration": 4,
    "start_time": "2021-12-05T14:17:05.815Z"
   },
   {
    "duration": 5,
    "start_time": "2021-12-05T14:17:10.515Z"
   },
   {
    "duration": 5,
    "start_time": "2021-12-05T14:17:14.323Z"
   },
   {
    "duration": 6253,
    "start_time": "2021-12-05T14:19:37.184Z"
   },
   {
    "duration": 80,
    "start_time": "2021-12-05T14:20:04.658Z"
   },
   {
    "duration": 4,
    "start_time": "2021-12-05T14:20:06.158Z"
   },
   {
    "duration": 6,
    "start_time": "2021-12-05T14:22:07.741Z"
   },
   {
    "duration": 34,
    "start_time": "2021-12-05T14:22:24.508Z"
   },
   {
    "duration": 5,
    "start_time": "2021-12-05T14:22:25.051Z"
   },
   {
    "duration": 1696,
    "start_time": "2021-12-08T17:36:29.551Z"
   },
   {
    "duration": 262,
    "start_time": "2021-12-08T17:36:31.250Z"
   },
   {
    "duration": 31,
    "start_time": "2021-12-08T17:36:31.515Z"
   },
   {
    "duration": 142,
    "start_time": "2021-12-08T17:36:31.549Z"
   },
   {
    "duration": 85,
    "start_time": "2021-12-08T17:36:31.693Z"
   },
   {
    "duration": 21,
    "start_time": "2021-12-08T17:36:31.780Z"
   },
   {
    "duration": 138,
    "start_time": "2021-12-08T17:36:31.804Z"
   },
   {
    "duration": 72,
    "start_time": "2021-12-08T17:36:31.947Z"
   },
   {
    "duration": 9,
    "start_time": "2021-12-08T17:36:32.022Z"
   },
   {
    "duration": 29,
    "start_time": "2021-12-08T17:36:32.033Z"
   },
   {
    "duration": 131,
    "start_time": "2021-12-08T17:36:32.064Z"
   },
   {
    "duration": 10,
    "start_time": "2021-12-08T17:36:32.197Z"
   },
   {
    "duration": 9,
    "start_time": "2021-12-08T17:36:32.210Z"
   },
   {
    "duration": 256,
    "start_time": "2021-12-08T17:36:32.223Z"
   },
   {
    "duration": 6,
    "start_time": "2021-12-08T17:36:32.483Z"
   },
   {
    "duration": 14,
    "start_time": "2021-12-08T17:36:32.492Z"
   },
   {
    "duration": 5605,
    "start_time": "2021-12-08T17:36:32.508Z"
   },
   {
    "duration": 4217,
    "start_time": "2021-12-08T17:36:38.115Z"
   },
   {
    "duration": 2055843,
    "start_time": "2021-12-08T17:36:42.335Z"
   },
   {
    "duration": 2292498,
    "start_time": "2021-12-08T18:10:58.180Z"
   },
   {
    "duration": -1619,
    "start_time": "2021-12-08T18:49:12.301Z"
   },
   {
    "duration": -1619,
    "start_time": "2021-12-08T18:49:12.303Z"
   },
   {
    "duration": -1620,
    "start_time": "2021-12-08T18:49:12.305Z"
   },
   {
    "duration": -1638,
    "start_time": "2021-12-08T18:49:12.325Z"
   },
   {
    "duration": -1641,
    "start_time": "2021-12-08T18:49:12.329Z"
   },
   {
    "duration": -1642,
    "start_time": "2021-12-08T18:49:12.332Z"
   },
   {
    "duration": -1642,
    "start_time": "2021-12-08T18:49:12.333Z"
   },
   {
    "duration": -1644,
    "start_time": "2021-12-08T18:49:12.336Z"
   },
   {
    "duration": -1644,
    "start_time": "2021-12-08T18:49:12.338Z"
   },
   {
    "duration": -1645,
    "start_time": "2021-12-08T18:49:12.340Z"
   },
   {
    "duration": -1646,
    "start_time": "2021-12-08T18:49:12.342Z"
   },
   {
    "duration": -1647,
    "start_time": "2021-12-08T18:49:12.344Z"
   },
   {
    "duration": -1645,
    "start_time": "2021-12-08T18:49:12.345Z"
   },
   {
    "duration": -1646,
    "start_time": "2021-12-08T18:49:12.347Z"
   },
   {
    "duration": -1656,
    "start_time": "2021-12-08T18:49:12.358Z"
   },
   {
    "duration": -1663,
    "start_time": "2021-12-08T18:49:12.366Z"
   },
   {
    "duration": -1663,
    "start_time": "2021-12-08T18:49:12.368Z"
   },
   {
    "duration": -1663,
    "start_time": "2021-12-08T18:49:12.370Z"
   },
   {
    "duration": -1664,
    "start_time": "2021-12-08T18:49:12.372Z"
   },
   {
    "duration": -1665,
    "start_time": "2021-12-08T18:49:12.375Z"
   },
   {
    "duration": -1665,
    "start_time": "2021-12-08T18:49:12.377Z"
   },
   {
    "duration": -1618,
    "start_time": "2021-12-08T18:49:12.379Z"
   },
   {
    "duration": -1619,
    "start_time": "2021-12-08T18:49:12.381Z"
   },
   {
    "duration": -1625,
    "start_time": "2021-12-08T18:49:12.389Z"
   },
   {
    "duration": -1625,
    "start_time": "2021-12-08T18:49:12.391Z"
   },
   {
    "duration": -1625,
    "start_time": "2021-12-08T18:49:12.393Z"
   },
   {
    "duration": -1626,
    "start_time": "2021-12-08T18:49:12.395Z"
   },
   {
    "duration": -1626,
    "start_time": "2021-12-08T18:49:12.397Z"
   },
   {
    "duration": -1626,
    "start_time": "2021-12-08T18:49:12.399Z"
   },
   {
    "duration": -1627,
    "start_time": "2021-12-08T18:49:12.401Z"
   },
   {
    "duration": -1627,
    "start_time": "2021-12-08T18:49:12.402Z"
   },
   {
    "duration": -1628,
    "start_time": "2021-12-08T18:49:12.405Z"
   },
   {
    "duration": -1639,
    "start_time": "2021-12-08T18:49:12.417Z"
   },
   {
    "duration": -1639,
    "start_time": "2021-12-08T18:49:12.419Z"
   },
   {
    "duration": -1639,
    "start_time": "2021-12-08T18:49:12.420Z"
   },
   {
    "duration": 1989,
    "start_time": "2021-12-10T22:14:24.643Z"
   },
   {
    "duration": -102,
    "start_time": "2021-12-10T22:14:26.737Z"
   },
   {
    "duration": -112,
    "start_time": "2021-12-10T22:14:26.749Z"
   },
   {
    "duration": -121,
    "start_time": "2021-12-10T22:14:26.759Z"
   },
   {
    "duration": -129,
    "start_time": "2021-12-10T22:14:26.768Z"
   },
   {
    "duration": -137,
    "start_time": "2021-12-10T22:14:26.778Z"
   },
   {
    "duration": -180,
    "start_time": "2021-12-10T22:14:26.822Z"
   },
   {
    "duration": -191,
    "start_time": "2021-12-10T22:14:26.834Z"
   },
   {
    "duration": -196,
    "start_time": "2021-12-10T22:14:26.841Z"
   },
   {
    "duration": -229,
    "start_time": "2021-12-10T22:14:26.876Z"
   },
   {
    "duration": -236,
    "start_time": "2021-12-10T22:14:26.884Z"
   },
   {
    "duration": -254,
    "start_time": "2021-12-10T22:14:26.903Z"
   },
   {
    "duration": -259,
    "start_time": "2021-12-10T22:14:26.910Z"
   },
   {
    "duration": -265,
    "start_time": "2021-12-10T22:14:26.917Z"
   },
   {
    "duration": -272,
    "start_time": "2021-12-10T22:14:26.925Z"
   },
   {
    "duration": -280,
    "start_time": "2021-12-10T22:14:26.934Z"
   },
   {
    "duration": -289,
    "start_time": "2021-12-10T22:14:26.944Z"
   },
   {
    "duration": -295,
    "start_time": "2021-12-10T22:14:26.952Z"
   },
   {
    "duration": -301,
    "start_time": "2021-12-10T22:14:26.959Z"
   },
   {
    "duration": -312,
    "start_time": "2021-12-10T22:14:26.971Z"
   },
   {
    "duration": -319,
    "start_time": "2021-12-10T22:14:26.979Z"
   },
   {
    "duration": -326,
    "start_time": "2021-12-10T22:14:26.988Z"
   },
   {
    "duration": -334,
    "start_time": "2021-12-10T22:14:26.997Z"
   },
   {
    "duration": -354,
    "start_time": "2021-12-10T22:14:27.018Z"
   },
   {
    "duration": -358,
    "start_time": "2021-12-10T22:14:27.024Z"
   },
   {
    "duration": 268,
    "start_time": "2021-12-10T22:17:03.355Z"
   },
   {
    "duration": 6,
    "start_time": "2021-12-10T22:17:33.359Z"
   },
   {
    "duration": 309,
    "start_time": "2021-12-10T22:17:33.368Z"
   },
   {
    "duration": 32,
    "start_time": "2021-12-10T22:17:33.681Z"
   },
   {
    "duration": 139,
    "start_time": "2021-12-10T22:17:33.716Z"
   },
   {
    "duration": 68,
    "start_time": "2021-12-10T22:17:33.860Z"
   },
   {
    "duration": 38,
    "start_time": "2021-12-10T22:17:33.930Z"
   },
   {
    "duration": 115,
    "start_time": "2021-12-10T22:17:33.972Z"
   },
   {
    "duration": 53,
    "start_time": "2021-12-10T22:17:34.090Z"
   },
   {
    "duration": 7,
    "start_time": "2021-12-10T22:17:34.159Z"
   },
   {
    "duration": 8,
    "start_time": "2021-12-10T22:17:34.169Z"
   },
   {
    "duration": 133,
    "start_time": "2021-12-10T22:17:34.180Z"
   },
   {
    "duration": 8,
    "start_time": "2021-12-10T22:17:34.317Z"
   },
   {
    "duration": 8,
    "start_time": "2021-12-10T22:17:34.328Z"
   },
   {
    "duration": 47,
    "start_time": "2021-12-10T22:17:34.338Z"
   },
   {
    "duration": 308,
    "start_time": "2021-12-10T22:17:34.387Z"
   },
   {
    "duration": -246,
    "start_time": "2021-12-10T22:17:34.943Z"
   },
   {
    "duration": -255,
    "start_time": "2021-12-10T22:17:34.954Z"
   },
   {
    "duration": -260,
    "start_time": "2021-12-10T22:17:34.960Z"
   },
   {
    "duration": -268,
    "start_time": "2021-12-10T22:17:34.970Z"
   },
   {
    "duration": -273,
    "start_time": "2021-12-10T22:17:34.976Z"
   },
   {
    "duration": -280,
    "start_time": "2021-12-10T22:17:34.984Z"
   },
   {
    "duration": -286,
    "start_time": "2021-12-10T22:17:34.991Z"
   },
   {
    "duration": -292,
    "start_time": "2021-12-10T22:17:34.999Z"
   },
   {
    "duration": -298,
    "start_time": "2021-12-10T22:17:35.006Z"
   },
   {
    "duration": -319,
    "start_time": "2021-12-10T22:17:35.028Z"
   },
   {
    "duration": 107,
    "start_time": "2021-12-10T22:18:17.844Z"
   },
   {
    "duration": 384,
    "start_time": "2021-12-10T22:22:30.168Z"
   },
   {
    "duration": 55,
    "start_time": "2021-12-10T22:22:49.685Z"
   },
   {
    "duration": 334,
    "start_time": "2021-12-10T22:22:53.425Z"
   },
   {
    "duration": 5,
    "start_time": "2021-12-10T22:22:55.714Z"
   },
   {
    "duration": 5,
    "start_time": "2021-12-10T22:22:56.525Z"
   },
   {
    "duration": 6,
    "start_time": "2021-12-10T22:22:57.126Z"
   },
   {
    "duration": 11,
    "start_time": "2021-12-10T22:23:00.895Z"
   },
   {
    "duration": 90,
    "start_time": "2021-12-10T22:23:02.768Z"
   },
   {
    "duration": 104,
    "start_time": "2021-12-10T22:23:05.558Z"
   },
   {
    "duration": 235,
    "start_time": "2021-12-10T22:23:11.611Z"
   },
   {
    "duration": 14,
    "start_time": "2021-12-10T22:26:01.632Z"
   },
   {
    "duration": 479,
    "start_time": "2021-12-10T22:39:38.449Z"
   },
   {
    "duration": 327,
    "start_time": "2021-12-10T22:40:05.182Z"
   },
   {
    "duration": 99,
    "start_time": "2021-12-10T22:41:45.496Z"
   },
   {
    "duration": 63,
    "start_time": "2021-12-10T22:42:04.227Z"
   },
   {
    "duration": 6,
    "start_time": "2021-12-10T23:24:30.372Z"
   },
   {
    "duration": 6,
    "start_time": "2021-12-10T23:24:59.313Z"
   },
   {
    "duration": 4,
    "start_time": "2021-12-10T23:25:13.230Z"
   },
   {
    "duration": 1337,
    "start_time": "2021-12-10T23:25:24.484Z"
   },
   {
    "duration": 70141,
    "start_time": "2021-12-12T05:59:01.956Z"
   },
   {
    "duration": 1283,
    "start_time": "2021-12-12T06:02:03.716Z"
   },
   {
    "duration": 825,
    "start_time": "2021-12-12T06:02:05.002Z"
   },
   {
    "duration": 27,
    "start_time": "2021-12-12T06:02:05.830Z"
   },
   {
    "duration": 88,
    "start_time": "2021-12-12T06:02:05.859Z"
   },
   {
    "duration": 57,
    "start_time": "2021-12-12T06:02:05.949Z"
   },
   {
    "duration": 20,
    "start_time": "2021-12-12T06:02:06.008Z"
   },
   {
    "duration": 87,
    "start_time": "2021-12-12T06:02:06.030Z"
   },
   {
    "duration": 38,
    "start_time": "2021-12-12T06:02:06.119Z"
   },
   {
    "duration": 6,
    "start_time": "2021-12-12T06:02:06.159Z"
   },
   {
    "duration": 7,
    "start_time": "2021-12-12T06:02:06.167Z"
   },
   {
    "duration": 103,
    "start_time": "2021-12-12T06:02:06.176Z"
   },
   {
    "duration": 6,
    "start_time": "2021-12-12T06:02:06.281Z"
   },
   {
    "duration": 21,
    "start_time": "2021-12-12T06:02:06.289Z"
   },
   {
    "duration": 26,
    "start_time": "2021-12-12T06:02:06.312Z"
   },
   {
    "duration": 1229,
    "start_time": "2021-12-12T06:02:06.340Z"
   },
   {
    "duration": 4,
    "start_time": "2021-12-12T06:04:10.562Z"
   },
   {
    "duration": 1809,
    "start_time": "2021-12-12T06:04:25.772Z"
   },
   {
    "duration": 247,
    "start_time": "2021-12-12T06:04:35.506Z"
   }
  ],
  "kernelspec": {
   "display_name": "Python 3 (ipykernel)",
   "language": "python",
   "name": "python3"
  },
  "language_info": {
   "codemirror_mode": {
    "name": "ipython",
    "version": 3
   },
   "file_extension": ".py",
   "mimetype": "text/x-python",
   "name": "python",
   "nbconvert_exporter": "python",
   "pygments_lexer": "ipython3",
   "version": "3.8.13"
  },
  "toc": {
   "base_numbering": 1,
   "nav_menu": {},
   "number_sections": true,
   "sideBar": true,
   "skip_h1_title": true,
   "title_cell": "Table of Contents",
   "title_sidebar": "Contents",
   "toc_cell": false,
   "toc_position": {},
   "toc_section_display": true,
   "toc_window_display": false
  }
 },
 "nbformat": 4,
 "nbformat_minor": 2
}
