{
 "cells": [
  {
   "cell_type": "markdown",
   "metadata": {},
   "source": [
    "# Иследованние данных телеком компании для определения перспективного тарифа"
   ]
  },
  {
   "cell_type": "markdown",
   "metadata": {},
   "source": [
    "В данном исследовании мы проведем предворительный анализ выборки абонентов и данных о тарифах для определения наиболее перспективного тарифного плана."
   ]
  },
  {
   "cell_type": "code",
   "execution_count": 1,
   "metadata": {},
   "outputs": [],
   "source": [
    "import pandas as pd\n",
    "import seaborn as sns\n",
    "import matplotlib.pyplot as plt\n",
    "import numpy as np\n",
    "from scipy import stats as st\n",
    "import datetime as dt\n",
    "from dateutil.relativedelta import *\n",
    "import math"
   ]
  },
  {
   "cell_type": "markdown",
   "metadata": {},
   "source": [
    "## Предварительное изучение и подготовка данных"
   ]
  },
  {
   "cell_type": "markdown",
   "metadata": {},
   "source": [
    "Прочитаем и изучим имеющиеся данные:"
   ]
  },
  {
   "cell_type": "code",
   "execution_count": 2,
   "metadata": {},
   "outputs": [],
   "source": [
    "df_calls = pd.read_csv('datasets/calls.csv')\n",
    "df_internet = pd.read_csv('datasets/internet.csv')\n",
    "df_messages = pd.read_csv('datasets/messages.csv')\n",
    "df_users = pd.read_csv('datasets/users.csv')\n",
    "df_tariffs = pd.read_csv('datasets/tariffs.csv')"
   ]
  },
  {
   "cell_type": "code",
   "execution_count": 3,
   "metadata": {},
   "outputs": [],
   "source": [
    "def introduce(df):\n",
    "    df.info()\n",
    "    display(df.describe())\n",
    "    display(df.head(5))"
   ]
  },
  {
   "cell_type": "code",
   "execution_count": 4,
   "metadata": {
    "scrolled": true
   },
   "outputs": [
    {
     "name": "stdout",
     "output_type": "stream",
     "text": [
      "<class 'pandas.core.frame.DataFrame'>\n",
      "RangeIndex: 202607 entries, 0 to 202606\n",
      "Data columns (total 4 columns):\n",
      " #   Column     Non-Null Count   Dtype  \n",
      "---  ------     --------------   -----  \n",
      " 0   id         202607 non-null  object \n",
      " 1   call_date  202607 non-null  object \n",
      " 2   duration   202607 non-null  float64\n",
      " 3   user_id    202607 non-null  int64  \n",
      "dtypes: float64(1), int64(1), object(2)\n",
      "memory usage: 6.2+ MB\n"
     ]
    },
    {
     "data": {
      "text/html": [
       "<div>\n",
       "<style scoped>\n",
       "    .dataframe tbody tr th:only-of-type {\n",
       "        vertical-align: middle;\n",
       "    }\n",
       "\n",
       "    .dataframe tbody tr th {\n",
       "        vertical-align: top;\n",
       "    }\n",
       "\n",
       "    .dataframe thead th {\n",
       "        text-align: right;\n",
       "    }\n",
       "</style>\n",
       "<table border=\"1\" class=\"dataframe\">\n",
       "  <thead>\n",
       "    <tr style=\"text-align: right;\">\n",
       "      <th></th>\n",
       "      <th>duration</th>\n",
       "      <th>user_id</th>\n",
       "    </tr>\n",
       "  </thead>\n",
       "  <tbody>\n",
       "    <tr>\n",
       "      <th>count</th>\n",
       "      <td>202607.000000</td>\n",
       "      <td>202607.000000</td>\n",
       "    </tr>\n",
       "    <tr>\n",
       "      <th>mean</th>\n",
       "      <td>6.755887</td>\n",
       "      <td>1253.940619</td>\n",
       "    </tr>\n",
       "    <tr>\n",
       "      <th>std</th>\n",
       "      <td>5.843365</td>\n",
       "      <td>144.722751</td>\n",
       "    </tr>\n",
       "    <tr>\n",
       "      <th>min</th>\n",
       "      <td>0.000000</td>\n",
       "      <td>1000.000000</td>\n",
       "    </tr>\n",
       "    <tr>\n",
       "      <th>25%</th>\n",
       "      <td>1.300000</td>\n",
       "      <td>1126.000000</td>\n",
       "    </tr>\n",
       "    <tr>\n",
       "      <th>50%</th>\n",
       "      <td>6.000000</td>\n",
       "      <td>1260.000000</td>\n",
       "    </tr>\n",
       "    <tr>\n",
       "      <th>75%</th>\n",
       "      <td>10.700000</td>\n",
       "      <td>1379.000000</td>\n",
       "    </tr>\n",
       "    <tr>\n",
       "      <th>max</th>\n",
       "      <td>38.000000</td>\n",
       "      <td>1499.000000</td>\n",
       "    </tr>\n",
       "  </tbody>\n",
       "</table>\n",
       "</div>"
      ],
      "text/plain": [
       "            duration        user_id\n",
       "count  202607.000000  202607.000000\n",
       "mean        6.755887    1253.940619\n",
       "std         5.843365     144.722751\n",
       "min         0.000000    1000.000000\n",
       "25%         1.300000    1126.000000\n",
       "50%         6.000000    1260.000000\n",
       "75%        10.700000    1379.000000\n",
       "max        38.000000    1499.000000"
      ]
     },
     "metadata": {},
     "output_type": "display_data"
    },
    {
     "data": {
      "text/html": [
       "<div>\n",
       "<style scoped>\n",
       "    .dataframe tbody tr th:only-of-type {\n",
       "        vertical-align: middle;\n",
       "    }\n",
       "\n",
       "    .dataframe tbody tr th {\n",
       "        vertical-align: top;\n",
       "    }\n",
       "\n",
       "    .dataframe thead th {\n",
       "        text-align: right;\n",
       "    }\n",
       "</style>\n",
       "<table border=\"1\" class=\"dataframe\">\n",
       "  <thead>\n",
       "    <tr style=\"text-align: right;\">\n",
       "      <th></th>\n",
       "      <th>id</th>\n",
       "      <th>call_date</th>\n",
       "      <th>duration</th>\n",
       "      <th>user_id</th>\n",
       "    </tr>\n",
       "  </thead>\n",
       "  <tbody>\n",
       "    <tr>\n",
       "      <th>0</th>\n",
       "      <td>1000_0</td>\n",
       "      <td>2018-07-25</td>\n",
       "      <td>0.00</td>\n",
       "      <td>1000</td>\n",
       "    </tr>\n",
       "    <tr>\n",
       "      <th>1</th>\n",
       "      <td>1000_1</td>\n",
       "      <td>2018-08-17</td>\n",
       "      <td>0.00</td>\n",
       "      <td>1000</td>\n",
       "    </tr>\n",
       "    <tr>\n",
       "      <th>2</th>\n",
       "      <td>1000_2</td>\n",
       "      <td>2018-06-11</td>\n",
       "      <td>2.85</td>\n",
       "      <td>1000</td>\n",
       "    </tr>\n",
       "    <tr>\n",
       "      <th>3</th>\n",
       "      <td>1000_3</td>\n",
       "      <td>2018-09-21</td>\n",
       "      <td>13.80</td>\n",
       "      <td>1000</td>\n",
       "    </tr>\n",
       "    <tr>\n",
       "      <th>4</th>\n",
       "      <td>1000_4</td>\n",
       "      <td>2018-12-15</td>\n",
       "      <td>5.18</td>\n",
       "      <td>1000</td>\n",
       "    </tr>\n",
       "  </tbody>\n",
       "</table>\n",
       "</div>"
      ],
      "text/plain": [
       "       id   call_date  duration  user_id\n",
       "0  1000_0  2018-07-25      0.00     1000\n",
       "1  1000_1  2018-08-17      0.00     1000\n",
       "2  1000_2  2018-06-11      2.85     1000\n",
       "3  1000_3  2018-09-21     13.80     1000\n",
       "4  1000_4  2018-12-15      5.18     1000"
      ]
     },
     "metadata": {},
     "output_type": "display_data"
    },
    {
     "name": "stdout",
     "output_type": "stream",
     "text": [
      "<class 'pandas.core.frame.DataFrame'>\n",
      "RangeIndex: 149396 entries, 0 to 149395\n",
      "Data columns (total 5 columns):\n",
      " #   Column        Non-Null Count   Dtype  \n",
      "---  ------        --------------   -----  \n",
      " 0   Unnamed: 0    149396 non-null  int64  \n",
      " 1   id            149396 non-null  object \n",
      " 2   mb_used       149396 non-null  float64\n",
      " 3   session_date  149396 non-null  object \n",
      " 4   user_id       149396 non-null  int64  \n",
      "dtypes: float64(1), int64(2), object(2)\n",
      "memory usage: 5.7+ MB\n"
     ]
    },
    {
     "data": {
      "text/html": [
       "<div>\n",
       "<style scoped>\n",
       "    .dataframe tbody tr th:only-of-type {\n",
       "        vertical-align: middle;\n",
       "    }\n",
       "\n",
       "    .dataframe tbody tr th {\n",
       "        vertical-align: top;\n",
       "    }\n",
       "\n",
       "    .dataframe thead th {\n",
       "        text-align: right;\n",
       "    }\n",
       "</style>\n",
       "<table border=\"1\" class=\"dataframe\">\n",
       "  <thead>\n",
       "    <tr style=\"text-align: right;\">\n",
       "      <th></th>\n",
       "      <th>Unnamed: 0</th>\n",
       "      <th>mb_used</th>\n",
       "      <th>user_id</th>\n",
       "    </tr>\n",
       "  </thead>\n",
       "  <tbody>\n",
       "    <tr>\n",
       "      <th>count</th>\n",
       "      <td>149396.000000</td>\n",
       "      <td>149396.000000</td>\n",
       "      <td>149396.000000</td>\n",
       "    </tr>\n",
       "    <tr>\n",
       "      <th>mean</th>\n",
       "      <td>74697.500000</td>\n",
       "      <td>370.192426</td>\n",
       "      <td>1252.099842</td>\n",
       "    </tr>\n",
       "    <tr>\n",
       "      <th>std</th>\n",
       "      <td>43127.054745</td>\n",
       "      <td>278.300951</td>\n",
       "      <td>144.050823</td>\n",
       "    </tr>\n",
       "    <tr>\n",
       "      <th>min</th>\n",
       "      <td>0.000000</td>\n",
       "      <td>0.000000</td>\n",
       "      <td>1000.000000</td>\n",
       "    </tr>\n",
       "    <tr>\n",
       "      <th>25%</th>\n",
       "      <td>37348.750000</td>\n",
       "      <td>138.187500</td>\n",
       "      <td>1130.000000</td>\n",
       "    </tr>\n",
       "    <tr>\n",
       "      <th>50%</th>\n",
       "      <td>74697.500000</td>\n",
       "      <td>348.015000</td>\n",
       "      <td>1251.000000</td>\n",
       "    </tr>\n",
       "    <tr>\n",
       "      <th>75%</th>\n",
       "      <td>112046.250000</td>\n",
       "      <td>559.552500</td>\n",
       "      <td>1380.000000</td>\n",
       "    </tr>\n",
       "    <tr>\n",
       "      <th>max</th>\n",
       "      <td>149395.000000</td>\n",
       "      <td>1724.830000</td>\n",
       "      <td>1499.000000</td>\n",
       "    </tr>\n",
       "  </tbody>\n",
       "</table>\n",
       "</div>"
      ],
      "text/plain": [
       "          Unnamed: 0        mb_used        user_id\n",
       "count  149396.000000  149396.000000  149396.000000\n",
       "mean    74697.500000     370.192426    1252.099842\n",
       "std     43127.054745     278.300951     144.050823\n",
       "min         0.000000       0.000000    1000.000000\n",
       "25%     37348.750000     138.187500    1130.000000\n",
       "50%     74697.500000     348.015000    1251.000000\n",
       "75%    112046.250000     559.552500    1380.000000\n",
       "max    149395.000000    1724.830000    1499.000000"
      ]
     },
     "metadata": {},
     "output_type": "display_data"
    },
    {
     "data": {
      "text/html": [
       "<div>\n",
       "<style scoped>\n",
       "    .dataframe tbody tr th:only-of-type {\n",
       "        vertical-align: middle;\n",
       "    }\n",
       "\n",
       "    .dataframe tbody tr th {\n",
       "        vertical-align: top;\n",
       "    }\n",
       "\n",
       "    .dataframe thead th {\n",
       "        text-align: right;\n",
       "    }\n",
       "</style>\n",
       "<table border=\"1\" class=\"dataframe\">\n",
       "  <thead>\n",
       "    <tr style=\"text-align: right;\">\n",
       "      <th></th>\n",
       "      <th>Unnamed: 0</th>\n",
       "      <th>id</th>\n",
       "      <th>mb_used</th>\n",
       "      <th>session_date</th>\n",
       "      <th>user_id</th>\n",
       "    </tr>\n",
       "  </thead>\n",
       "  <tbody>\n",
       "    <tr>\n",
       "      <th>0</th>\n",
       "      <td>0</td>\n",
       "      <td>1000_0</td>\n",
       "      <td>112.95</td>\n",
       "      <td>2018-11-25</td>\n",
       "      <td>1000</td>\n",
       "    </tr>\n",
       "    <tr>\n",
       "      <th>1</th>\n",
       "      <td>1</td>\n",
       "      <td>1000_1</td>\n",
       "      <td>1052.81</td>\n",
       "      <td>2018-09-07</td>\n",
       "      <td>1000</td>\n",
       "    </tr>\n",
       "    <tr>\n",
       "      <th>2</th>\n",
       "      <td>2</td>\n",
       "      <td>1000_2</td>\n",
       "      <td>1197.26</td>\n",
       "      <td>2018-06-25</td>\n",
       "      <td>1000</td>\n",
       "    </tr>\n",
       "    <tr>\n",
       "      <th>3</th>\n",
       "      <td>3</td>\n",
       "      <td>1000_3</td>\n",
       "      <td>550.27</td>\n",
       "      <td>2018-08-22</td>\n",
       "      <td>1000</td>\n",
       "    </tr>\n",
       "    <tr>\n",
       "      <th>4</th>\n",
       "      <td>4</td>\n",
       "      <td>1000_4</td>\n",
       "      <td>302.56</td>\n",
       "      <td>2018-09-24</td>\n",
       "      <td>1000</td>\n",
       "    </tr>\n",
       "  </tbody>\n",
       "</table>\n",
       "</div>"
      ],
      "text/plain": [
       "   Unnamed: 0      id  mb_used session_date  user_id\n",
       "0           0  1000_0   112.95   2018-11-25     1000\n",
       "1           1  1000_1  1052.81   2018-09-07     1000\n",
       "2           2  1000_2  1197.26   2018-06-25     1000\n",
       "3           3  1000_3   550.27   2018-08-22     1000\n",
       "4           4  1000_4   302.56   2018-09-24     1000"
      ]
     },
     "metadata": {},
     "output_type": "display_data"
    },
    {
     "name": "stdout",
     "output_type": "stream",
     "text": [
      "<class 'pandas.core.frame.DataFrame'>\n",
      "RangeIndex: 123036 entries, 0 to 123035\n",
      "Data columns (total 3 columns):\n",
      " #   Column        Non-Null Count   Dtype \n",
      "---  ------        --------------   ----- \n",
      " 0   id            123036 non-null  object\n",
      " 1   message_date  123036 non-null  object\n",
      " 2   user_id       123036 non-null  int64 \n",
      "dtypes: int64(1), object(2)\n",
      "memory usage: 2.8+ MB\n"
     ]
    },
    {
     "data": {
      "text/html": [
       "<div>\n",
       "<style scoped>\n",
       "    .dataframe tbody tr th:only-of-type {\n",
       "        vertical-align: middle;\n",
       "    }\n",
       "\n",
       "    .dataframe tbody tr th {\n",
       "        vertical-align: top;\n",
       "    }\n",
       "\n",
       "    .dataframe thead th {\n",
       "        text-align: right;\n",
       "    }\n",
       "</style>\n",
       "<table border=\"1\" class=\"dataframe\">\n",
       "  <thead>\n",
       "    <tr style=\"text-align: right;\">\n",
       "      <th></th>\n",
       "      <th>user_id</th>\n",
       "    </tr>\n",
       "  </thead>\n",
       "  <tbody>\n",
       "    <tr>\n",
       "      <th>count</th>\n",
       "      <td>123036.000000</td>\n",
       "    </tr>\n",
       "    <tr>\n",
       "      <th>mean</th>\n",
       "      <td>1256.989410</td>\n",
       "    </tr>\n",
       "    <tr>\n",
       "      <th>std</th>\n",
       "      <td>143.523967</td>\n",
       "    </tr>\n",
       "    <tr>\n",
       "      <th>min</th>\n",
       "      <td>1000.000000</td>\n",
       "    </tr>\n",
       "    <tr>\n",
       "      <th>25%</th>\n",
       "      <td>1134.000000</td>\n",
       "    </tr>\n",
       "    <tr>\n",
       "      <th>50%</th>\n",
       "      <td>1271.000000</td>\n",
       "    </tr>\n",
       "    <tr>\n",
       "      <th>75%</th>\n",
       "      <td>1381.000000</td>\n",
       "    </tr>\n",
       "    <tr>\n",
       "      <th>max</th>\n",
       "      <td>1499.000000</td>\n",
       "    </tr>\n",
       "  </tbody>\n",
       "</table>\n",
       "</div>"
      ],
      "text/plain": [
       "             user_id\n",
       "count  123036.000000\n",
       "mean     1256.989410\n",
       "std       143.523967\n",
       "min      1000.000000\n",
       "25%      1134.000000\n",
       "50%      1271.000000\n",
       "75%      1381.000000\n",
       "max      1499.000000"
      ]
     },
     "metadata": {},
     "output_type": "display_data"
    },
    {
     "data": {
      "text/html": [
       "<div>\n",
       "<style scoped>\n",
       "    .dataframe tbody tr th:only-of-type {\n",
       "        vertical-align: middle;\n",
       "    }\n",
       "\n",
       "    .dataframe tbody tr th {\n",
       "        vertical-align: top;\n",
       "    }\n",
       "\n",
       "    .dataframe thead th {\n",
       "        text-align: right;\n",
       "    }\n",
       "</style>\n",
       "<table border=\"1\" class=\"dataframe\">\n",
       "  <thead>\n",
       "    <tr style=\"text-align: right;\">\n",
       "      <th></th>\n",
       "      <th>id</th>\n",
       "      <th>message_date</th>\n",
       "      <th>user_id</th>\n",
       "    </tr>\n",
       "  </thead>\n",
       "  <tbody>\n",
       "    <tr>\n",
       "      <th>0</th>\n",
       "      <td>1000_0</td>\n",
       "      <td>2018-06-27</td>\n",
       "      <td>1000</td>\n",
       "    </tr>\n",
       "    <tr>\n",
       "      <th>1</th>\n",
       "      <td>1000_1</td>\n",
       "      <td>2018-10-08</td>\n",
       "      <td>1000</td>\n",
       "    </tr>\n",
       "    <tr>\n",
       "      <th>2</th>\n",
       "      <td>1000_2</td>\n",
       "      <td>2018-08-04</td>\n",
       "      <td>1000</td>\n",
       "    </tr>\n",
       "    <tr>\n",
       "      <th>3</th>\n",
       "      <td>1000_3</td>\n",
       "      <td>2018-06-16</td>\n",
       "      <td>1000</td>\n",
       "    </tr>\n",
       "    <tr>\n",
       "      <th>4</th>\n",
       "      <td>1000_4</td>\n",
       "      <td>2018-12-05</td>\n",
       "      <td>1000</td>\n",
       "    </tr>\n",
       "  </tbody>\n",
       "</table>\n",
       "</div>"
      ],
      "text/plain": [
       "       id message_date  user_id\n",
       "0  1000_0   2018-06-27     1000\n",
       "1  1000_1   2018-10-08     1000\n",
       "2  1000_2   2018-08-04     1000\n",
       "3  1000_3   2018-06-16     1000\n",
       "4  1000_4   2018-12-05     1000"
      ]
     },
     "metadata": {},
     "output_type": "display_data"
    },
    {
     "name": "stdout",
     "output_type": "stream",
     "text": [
      "<class 'pandas.core.frame.DataFrame'>\n",
      "RangeIndex: 500 entries, 0 to 499\n",
      "Data columns (total 8 columns):\n",
      " #   Column      Non-Null Count  Dtype \n",
      "---  ------      --------------  ----- \n",
      " 0   user_id     500 non-null    int64 \n",
      " 1   age         500 non-null    int64 \n",
      " 2   churn_date  38 non-null     object\n",
      " 3   city        500 non-null    object\n",
      " 4   first_name  500 non-null    object\n",
      " 5   last_name   500 non-null    object\n",
      " 6   reg_date    500 non-null    object\n",
      " 7   tariff      500 non-null    object\n",
      "dtypes: int64(2), object(6)\n",
      "memory usage: 31.4+ KB\n"
     ]
    },
    {
     "data": {
      "text/html": [
       "<div>\n",
       "<style scoped>\n",
       "    .dataframe tbody tr th:only-of-type {\n",
       "        vertical-align: middle;\n",
       "    }\n",
       "\n",
       "    .dataframe tbody tr th {\n",
       "        vertical-align: top;\n",
       "    }\n",
       "\n",
       "    .dataframe thead th {\n",
       "        text-align: right;\n",
       "    }\n",
       "</style>\n",
       "<table border=\"1\" class=\"dataframe\">\n",
       "  <thead>\n",
       "    <tr style=\"text-align: right;\">\n",
       "      <th></th>\n",
       "      <th>user_id</th>\n",
       "      <th>age</th>\n",
       "    </tr>\n",
       "  </thead>\n",
       "  <tbody>\n",
       "    <tr>\n",
       "      <th>count</th>\n",
       "      <td>500.000000</td>\n",
       "      <td>500.00000</td>\n",
       "    </tr>\n",
       "    <tr>\n",
       "      <th>mean</th>\n",
       "      <td>1249.500000</td>\n",
       "      <td>46.58800</td>\n",
       "    </tr>\n",
       "    <tr>\n",
       "      <th>std</th>\n",
       "      <td>144.481833</td>\n",
       "      <td>16.66763</td>\n",
       "    </tr>\n",
       "    <tr>\n",
       "      <th>min</th>\n",
       "      <td>1000.000000</td>\n",
       "      <td>18.00000</td>\n",
       "    </tr>\n",
       "    <tr>\n",
       "      <th>25%</th>\n",
       "      <td>1124.750000</td>\n",
       "      <td>32.00000</td>\n",
       "    </tr>\n",
       "    <tr>\n",
       "      <th>50%</th>\n",
       "      <td>1249.500000</td>\n",
       "      <td>46.00000</td>\n",
       "    </tr>\n",
       "    <tr>\n",
       "      <th>75%</th>\n",
       "      <td>1374.250000</td>\n",
       "      <td>62.00000</td>\n",
       "    </tr>\n",
       "    <tr>\n",
       "      <th>max</th>\n",
       "      <td>1499.000000</td>\n",
       "      <td>75.00000</td>\n",
       "    </tr>\n",
       "  </tbody>\n",
       "</table>\n",
       "</div>"
      ],
      "text/plain": [
       "           user_id        age\n",
       "count   500.000000  500.00000\n",
       "mean   1249.500000   46.58800\n",
       "std     144.481833   16.66763\n",
       "min    1000.000000   18.00000\n",
       "25%    1124.750000   32.00000\n",
       "50%    1249.500000   46.00000\n",
       "75%    1374.250000   62.00000\n",
       "max    1499.000000   75.00000"
      ]
     },
     "metadata": {},
     "output_type": "display_data"
    },
    {
     "data": {
      "text/html": [
       "<div>\n",
       "<style scoped>\n",
       "    .dataframe tbody tr th:only-of-type {\n",
       "        vertical-align: middle;\n",
       "    }\n",
       "\n",
       "    .dataframe tbody tr th {\n",
       "        vertical-align: top;\n",
       "    }\n",
       "\n",
       "    .dataframe thead th {\n",
       "        text-align: right;\n",
       "    }\n",
       "</style>\n",
       "<table border=\"1\" class=\"dataframe\">\n",
       "  <thead>\n",
       "    <tr style=\"text-align: right;\">\n",
       "      <th></th>\n",
       "      <th>user_id</th>\n",
       "      <th>age</th>\n",
       "      <th>churn_date</th>\n",
       "      <th>city</th>\n",
       "      <th>first_name</th>\n",
       "      <th>last_name</th>\n",
       "      <th>reg_date</th>\n",
       "      <th>tariff</th>\n",
       "    </tr>\n",
       "  </thead>\n",
       "  <tbody>\n",
       "    <tr>\n",
       "      <th>0</th>\n",
       "      <td>1000</td>\n",
       "      <td>52</td>\n",
       "      <td>NaN</td>\n",
       "      <td>Краснодар</td>\n",
       "      <td>Рафаил</td>\n",
       "      <td>Верещагин</td>\n",
       "      <td>2018-05-25</td>\n",
       "      <td>ultra</td>\n",
       "    </tr>\n",
       "    <tr>\n",
       "      <th>1</th>\n",
       "      <td>1001</td>\n",
       "      <td>41</td>\n",
       "      <td>NaN</td>\n",
       "      <td>Москва</td>\n",
       "      <td>Иван</td>\n",
       "      <td>Ежов</td>\n",
       "      <td>2018-11-01</td>\n",
       "      <td>smart</td>\n",
       "    </tr>\n",
       "    <tr>\n",
       "      <th>2</th>\n",
       "      <td>1002</td>\n",
       "      <td>59</td>\n",
       "      <td>NaN</td>\n",
       "      <td>Стерлитамак</td>\n",
       "      <td>Евгений</td>\n",
       "      <td>Абрамович</td>\n",
       "      <td>2018-06-17</td>\n",
       "      <td>smart</td>\n",
       "    </tr>\n",
       "    <tr>\n",
       "      <th>3</th>\n",
       "      <td>1003</td>\n",
       "      <td>23</td>\n",
       "      <td>NaN</td>\n",
       "      <td>Москва</td>\n",
       "      <td>Белла</td>\n",
       "      <td>Белякова</td>\n",
       "      <td>2018-08-17</td>\n",
       "      <td>ultra</td>\n",
       "    </tr>\n",
       "    <tr>\n",
       "      <th>4</th>\n",
       "      <td>1004</td>\n",
       "      <td>68</td>\n",
       "      <td>NaN</td>\n",
       "      <td>Новокузнецк</td>\n",
       "      <td>Татьяна</td>\n",
       "      <td>Авдеенко</td>\n",
       "      <td>2018-05-14</td>\n",
       "      <td>ultra</td>\n",
       "    </tr>\n",
       "  </tbody>\n",
       "</table>\n",
       "</div>"
      ],
      "text/plain": [
       "   user_id  age churn_date         city first_name  last_name    reg_date  \\\n",
       "0     1000   52        NaN    Краснодар     Рафаил  Верещагин  2018-05-25   \n",
       "1     1001   41        NaN       Москва       Иван       Ежов  2018-11-01   \n",
       "2     1002   59        NaN  Стерлитамак    Евгений  Абрамович  2018-06-17   \n",
       "3     1003   23        NaN       Москва      Белла   Белякова  2018-08-17   \n",
       "4     1004   68        NaN  Новокузнецк    Татьяна   Авдеенко  2018-05-14   \n",
       "\n",
       "  tariff  \n",
       "0  ultra  \n",
       "1  smart  \n",
       "2  smart  \n",
       "3  ultra  \n",
       "4  ultra  "
      ]
     },
     "metadata": {},
     "output_type": "display_data"
    },
    {
     "name": "stdout",
     "output_type": "stream",
     "text": [
      "<class 'pandas.core.frame.DataFrame'>\n",
      "RangeIndex: 2 entries, 0 to 1\n",
      "Data columns (total 8 columns):\n",
      " #   Column                 Non-Null Count  Dtype \n",
      "---  ------                 --------------  ----- \n",
      " 0   messages_included      2 non-null      int64 \n",
      " 1   mb_per_month_included  2 non-null      int64 \n",
      " 2   minutes_included       2 non-null      int64 \n",
      " 3   rub_monthly_fee        2 non-null      int64 \n",
      " 4   rub_per_gb             2 non-null      int64 \n",
      " 5   rub_per_message        2 non-null      int64 \n",
      " 6   rub_per_minute         2 non-null      int64 \n",
      " 7   tariff_name            2 non-null      object\n",
      "dtypes: int64(7), object(1)\n",
      "memory usage: 256.0+ bytes\n"
     ]
    },
    {
     "data": {
      "text/html": [
       "<div>\n",
       "<style scoped>\n",
       "    .dataframe tbody tr th:only-of-type {\n",
       "        vertical-align: middle;\n",
       "    }\n",
       "\n",
       "    .dataframe tbody tr th {\n",
       "        vertical-align: top;\n",
       "    }\n",
       "\n",
       "    .dataframe thead th {\n",
       "        text-align: right;\n",
       "    }\n",
       "</style>\n",
       "<table border=\"1\" class=\"dataframe\">\n",
       "  <thead>\n",
       "    <tr style=\"text-align: right;\">\n",
       "      <th></th>\n",
       "      <th>messages_included</th>\n",
       "      <th>mb_per_month_included</th>\n",
       "      <th>minutes_included</th>\n",
       "      <th>rub_monthly_fee</th>\n",
       "      <th>rub_per_gb</th>\n",
       "      <th>rub_per_message</th>\n",
       "      <th>rub_per_minute</th>\n",
       "    </tr>\n",
       "  </thead>\n",
       "  <tbody>\n",
       "    <tr>\n",
       "      <th>count</th>\n",
       "      <td>2.000000</td>\n",
       "      <td>2.000000</td>\n",
       "      <td>2.000000</td>\n",
       "      <td>2.000000</td>\n",
       "      <td>2.000000</td>\n",
       "      <td>2.000000</td>\n",
       "      <td>2.000000</td>\n",
       "    </tr>\n",
       "    <tr>\n",
       "      <th>mean</th>\n",
       "      <td>525.000000</td>\n",
       "      <td>23040.000000</td>\n",
       "      <td>1750.000000</td>\n",
       "      <td>1250.000000</td>\n",
       "      <td>175.000000</td>\n",
       "      <td>2.000000</td>\n",
       "      <td>2.000000</td>\n",
       "    </tr>\n",
       "    <tr>\n",
       "      <th>std</th>\n",
       "      <td>671.751442</td>\n",
       "      <td>10861.160159</td>\n",
       "      <td>1767.766953</td>\n",
       "      <td>989.949494</td>\n",
       "      <td>35.355339</td>\n",
       "      <td>1.414214</td>\n",
       "      <td>1.414214</td>\n",
       "    </tr>\n",
       "    <tr>\n",
       "      <th>min</th>\n",
       "      <td>50.000000</td>\n",
       "      <td>15360.000000</td>\n",
       "      <td>500.000000</td>\n",
       "      <td>550.000000</td>\n",
       "      <td>150.000000</td>\n",
       "      <td>1.000000</td>\n",
       "      <td>1.000000</td>\n",
       "    </tr>\n",
       "    <tr>\n",
       "      <th>25%</th>\n",
       "      <td>287.500000</td>\n",
       "      <td>19200.000000</td>\n",
       "      <td>1125.000000</td>\n",
       "      <td>900.000000</td>\n",
       "      <td>162.500000</td>\n",
       "      <td>1.500000</td>\n",
       "      <td>1.500000</td>\n",
       "    </tr>\n",
       "    <tr>\n",
       "      <th>50%</th>\n",
       "      <td>525.000000</td>\n",
       "      <td>23040.000000</td>\n",
       "      <td>1750.000000</td>\n",
       "      <td>1250.000000</td>\n",
       "      <td>175.000000</td>\n",
       "      <td>2.000000</td>\n",
       "      <td>2.000000</td>\n",
       "    </tr>\n",
       "    <tr>\n",
       "      <th>75%</th>\n",
       "      <td>762.500000</td>\n",
       "      <td>26880.000000</td>\n",
       "      <td>2375.000000</td>\n",
       "      <td>1600.000000</td>\n",
       "      <td>187.500000</td>\n",
       "      <td>2.500000</td>\n",
       "      <td>2.500000</td>\n",
       "    </tr>\n",
       "    <tr>\n",
       "      <th>max</th>\n",
       "      <td>1000.000000</td>\n",
       "      <td>30720.000000</td>\n",
       "      <td>3000.000000</td>\n",
       "      <td>1950.000000</td>\n",
       "      <td>200.000000</td>\n",
       "      <td>3.000000</td>\n",
       "      <td>3.000000</td>\n",
       "    </tr>\n",
       "  </tbody>\n",
       "</table>\n",
       "</div>"
      ],
      "text/plain": [
       "       messages_included  mb_per_month_included  minutes_included  \\\n",
       "count           2.000000               2.000000          2.000000   \n",
       "mean          525.000000           23040.000000       1750.000000   \n",
       "std           671.751442           10861.160159       1767.766953   \n",
       "min            50.000000           15360.000000        500.000000   \n",
       "25%           287.500000           19200.000000       1125.000000   \n",
       "50%           525.000000           23040.000000       1750.000000   \n",
       "75%           762.500000           26880.000000       2375.000000   \n",
       "max          1000.000000           30720.000000       3000.000000   \n",
       "\n",
       "       rub_monthly_fee  rub_per_gb  rub_per_message  rub_per_minute  \n",
       "count         2.000000    2.000000         2.000000        2.000000  \n",
       "mean       1250.000000  175.000000         2.000000        2.000000  \n",
       "std         989.949494   35.355339         1.414214        1.414214  \n",
       "min         550.000000  150.000000         1.000000        1.000000  \n",
       "25%         900.000000  162.500000         1.500000        1.500000  \n",
       "50%        1250.000000  175.000000         2.000000        2.000000  \n",
       "75%        1600.000000  187.500000         2.500000        2.500000  \n",
       "max        1950.000000  200.000000         3.000000        3.000000  "
      ]
     },
     "metadata": {},
     "output_type": "display_data"
    },
    {
     "data": {
      "text/html": [
       "<div>\n",
       "<style scoped>\n",
       "    .dataframe tbody tr th:only-of-type {\n",
       "        vertical-align: middle;\n",
       "    }\n",
       "\n",
       "    .dataframe tbody tr th {\n",
       "        vertical-align: top;\n",
       "    }\n",
       "\n",
       "    .dataframe thead th {\n",
       "        text-align: right;\n",
       "    }\n",
       "</style>\n",
       "<table border=\"1\" class=\"dataframe\">\n",
       "  <thead>\n",
       "    <tr style=\"text-align: right;\">\n",
       "      <th></th>\n",
       "      <th>messages_included</th>\n",
       "      <th>mb_per_month_included</th>\n",
       "      <th>minutes_included</th>\n",
       "      <th>rub_monthly_fee</th>\n",
       "      <th>rub_per_gb</th>\n",
       "      <th>rub_per_message</th>\n",
       "      <th>rub_per_minute</th>\n",
       "      <th>tariff_name</th>\n",
       "    </tr>\n",
       "  </thead>\n",
       "  <tbody>\n",
       "    <tr>\n",
       "      <th>0</th>\n",
       "      <td>50</td>\n",
       "      <td>15360</td>\n",
       "      <td>500</td>\n",
       "      <td>550</td>\n",
       "      <td>200</td>\n",
       "      <td>3</td>\n",
       "      <td>3</td>\n",
       "      <td>smart</td>\n",
       "    </tr>\n",
       "    <tr>\n",
       "      <th>1</th>\n",
       "      <td>1000</td>\n",
       "      <td>30720</td>\n",
       "      <td>3000</td>\n",
       "      <td>1950</td>\n",
       "      <td>150</td>\n",
       "      <td>1</td>\n",
       "      <td>1</td>\n",
       "      <td>ultra</td>\n",
       "    </tr>\n",
       "  </tbody>\n",
       "</table>\n",
       "</div>"
      ],
      "text/plain": [
       "   messages_included  mb_per_month_included  minutes_included  \\\n",
       "0                 50                  15360               500   \n",
       "1               1000                  30720              3000   \n",
       "\n",
       "   rub_monthly_fee  rub_per_gb  rub_per_message  rub_per_minute tariff_name  \n",
       "0              550         200                3               3       smart  \n",
       "1             1950         150                1               1       ultra  "
      ]
     },
     "metadata": {},
     "output_type": "display_data"
    }
   ],
   "source": [
    "for df_ in [df_calls, df_internet, df_messages, df_users, df_tariffs]:\n",
    "    introduce(df_)"
   ]
  },
  {
   "cell_type": "code",
   "execution_count": 5,
   "metadata": {
    "scrolled": true
   },
   "outputs": [
    {
     "data": {
      "text/plain": [
       "user_id       0.000\n",
       "age           0.000\n",
       "churn_date    0.924\n",
       "city          0.000\n",
       "first_name    0.000\n",
       "last_name     0.000\n",
       "reg_date      0.000\n",
       "tariff        0.000\n",
       "dtype: float64"
      ]
     },
     "execution_count": 5,
     "metadata": {},
     "output_type": "execute_result"
    }
   ],
   "source": [
    "df_users.isna().mean()"
   ]
  },
  {
   "cell_type": "markdown",
   "metadata": {},
   "source": [
    "Проверим все ли пользователи пользуются всеми функциями своих тарифов (звонки, интернет, сообщения)"
   ]
  },
  {
   "cell_type": "code",
   "execution_count": 6,
   "metadata": {},
   "outputs": [],
   "source": [
    "all_users = df_users['user_id'].unique()"
   ]
  },
  {
   "cell_type": "code",
   "execution_count": 7,
   "metadata": {},
   "outputs": [],
   "source": [
    "users_calls = df_calls['user_id'].unique()\n",
    "users_internet = df_internet['user_id'].unique()\n",
    "users_messages = df_messages['user_id'].unique()"
   ]
  },
  {
   "cell_type": "code",
   "execution_count": 8,
   "metadata": {},
   "outputs": [
    {
     "name": "stdout",
     "output_type": "stream",
     "text": [
      "Количество пользователей не использующих звонки:8\n",
      "Количество пользователей не использующих интернет:3\n",
      "Количество пользователей не использующих сообщения:74\n"
     ]
    }
   ],
   "source": [
    "var_names = ['звонки', 'интернет', 'сообщения']\n",
    "variables = [users_calls, users_internet, users_messages]\n",
    "dict_ = dict(zip(var_names, variables))\n",
    "for v in dict_:\n",
    "    print(f'Количество пользователей не использующих {v}:{len(set(all_users) - set(dict_[v]))}')"
   ]
  },
  {
   "cell_type": "markdown",
   "metadata": {},
   "source": [
    "Выходит, что некоторые пользователи **не используют** часть ресурсов, предоставляемых тарифом, а следовательно, их нет в датафреймах с информацией о использовании звонков/интернета/сообщений. Соответственно, нам необходимо посчитать количество использованных ресурсов за каждый месяц для каждого из пользователей. Для начала изменим тип данных в столбцах с датами."
   ]
  },
  {
   "cell_type": "code",
   "execution_count": 9,
   "metadata": {},
   "outputs": [],
   "source": [
    "df_calls['call_date'] = pd.to_datetime(df_calls['call_date'], format='%Y-%m-%d')\n",
    "df_internet['session_date'] = pd.to_datetime(df_internet['session_date'], format='%Y-%m-%d')\n",
    "df_messages['message_date'] = pd.to_datetime(df_messages['message_date'], format='%Y-%m-%d')\n",
    "df_users['reg_date'] = pd.to_datetime(df_users['reg_date'], format='%Y-%m-%d')\n",
    "df_users['churn_date'] = pd.to_datetime(df_users['churn_date'], format='%Y-%m-%d')"
   ]
  },
  {
   "cell_type": "code",
   "execution_count": 10,
   "metadata": {},
   "outputs": [
    {
     "data": {
      "text/plain": [
       "count                           202607\n",
       "mean     2018-09-02 20:01:37.583992832\n",
       "min                2018-01-01 00:00:00\n",
       "25%                2018-07-05 00:00:00\n",
       "50%                2018-09-17 00:00:00\n",
       "75%                2018-11-14 00:00:00\n",
       "max                2018-12-31 00:00:00\n",
       "Name: call_date, dtype: object"
      ]
     },
     "metadata": {},
     "output_type": "display_data"
    },
    {
     "data": {
      "text/plain": [
       "count                           149396\n",
       "mean     2018-09-02 12:55:35.221826560\n",
       "min                2018-01-01 00:00:00\n",
       "25%                2018-07-05 00:00:00\n",
       "50%                2018-09-17 00:00:00\n",
       "75%                2018-11-14 00:00:00\n",
       "max                2018-12-31 00:00:00\n",
       "Name: session_date, dtype: object"
      ]
     },
     "metadata": {},
     "output_type": "display_data"
    },
    {
     "data": {
      "text/plain": [
       "count                           123036\n",
       "mean     2018-09-04 15:28:42.227640576\n",
       "min                2018-01-02 00:00:00\n",
       "25%                2018-07-09 00:00:00\n",
       "50%                2018-09-20 00:00:00\n",
       "75%                2018-11-14 00:00:00\n",
       "max                2018-12-31 00:00:00\n",
       "Name: message_date, dtype: object"
      ]
     },
     "metadata": {},
     "output_type": "display_data"
    },
    {
     "data": {
      "text/plain": [
       "count                              500\n",
       "mean     2018-06-30 18:57:35.999999744\n",
       "min                2018-01-01 00:00:00\n",
       "25%                2018-04-07 12:00:00\n",
       "50%                2018-07-02 12:00:00\n",
       "75%                2018-09-29 00:00:00\n",
       "max                2018-12-31 00:00:00\n",
       "Name: reg_date, dtype: object"
      ]
     },
     "metadata": {},
     "output_type": "display_data"
    },
    {
     "data": {
      "text/plain": [
       "count                               38\n",
       "mean     2018-11-13 00:37:53.684210432\n",
       "min                2018-08-17 00:00:00\n",
       "25%                2018-10-14 00:00:00\n",
       "50%                2018-11-24 00:00:00\n",
       "75%                2018-12-15 12:00:00\n",
       "max                2018-12-30 00:00:00\n",
       "Name: churn_date, dtype: object"
      ]
     },
     "metadata": {},
     "output_type": "display_data"
    }
   ],
   "source": [
    "display(df_calls['call_date'].describe(datetime_is_numeric=True))\n",
    "display(df_internet['session_date'].describe(datetime_is_numeric=True))\n",
    "display(df_messages['message_date'].describe(datetime_is_numeric=True))\n",
    "display(df_users['reg_date'].describe(datetime_is_numeric=True))\n",
    "display(df_users['churn_date'].describe(datetime_is_numeric=True))"
   ]
  },
  {
   "cell_type": "markdown",
   "metadata": {},
   "source": [
    "Исходя из этих данных можно сделать вывод, что данный датафрейм имеет данные о 2018 годе. "
   ]
  },
  {
   "cell_type": "markdown",
   "metadata": {},
   "source": [
    "Перейдем к данным с информацией о звонках. Как нам известно, каждый звонок обсчитывается отдельно, секунды округляются до минут всегда в большую сторону. Перезапишем столбец с информацией о длительности звонков:"
   ]
  },
  {
   "cell_type": "code",
   "execution_count": 11,
   "metadata": {},
   "outputs": [
    {
     "name": "stdout",
     "output_type": "stream",
     "text": [
      "<class 'pandas.core.frame.DataFrame'>\n",
      "RangeIndex: 202607 entries, 0 to 202606\n",
      "Data columns (total 4 columns):\n",
      " #   Column     Non-Null Count   Dtype         \n",
      "---  ------     --------------   -----         \n",
      " 0   id         202607 non-null  object        \n",
      " 1   call_date  202607 non-null  datetime64[ns]\n",
      " 2   duration   202607 non-null  float64       \n",
      " 3   user_id    202607 non-null  int64         \n",
      "dtypes: datetime64[ns](1), float64(1), int64(1), object(1)\n",
      "memory usage: 6.2+ MB\n"
     ]
    }
   ],
   "source": [
    "df_calls['duration'] = np.ceil(df_calls['duration'])\n",
    "df_calls.info()"
   ]
  },
  {
   "cell_type": "markdown",
   "metadata": {},
   "source": [
    "Данные в столбеце `id` состоят из 2ух частей. До знака `_` - `user_id` абонента, а после - порядковый номер звонка. Создадим столбец с порядковыми номерами звонков, а столбец `id` уберем из датафрейма."
   ]
  },
  {
   "cell_type": "code",
   "execution_count": 12,
   "metadata": {},
   "outputs": [],
   "source": [
    "def id_to_serial(column):\n",
    "    '''Функция возвращает значение порядкового номера звонка/сессии/сообщения'''\n",
    "    serial_number = (\n",
    "    column\n",
    "    .transform(lambda x: x.str.split('_'))\n",
    "    .transform(lambda x: int(x[1]) + 1)\n",
    "    .astype('int')\n",
    "    )\n",
    "    return serial_number"
   ]
  },
  {
   "cell_type": "code",
   "execution_count": 13,
   "metadata": {
    "scrolled": true
   },
   "outputs": [],
   "source": [
    "df_calls['calls_serial_number'] = id_to_serial(df_calls['id'])"
   ]
  },
  {
   "cell_type": "code",
   "execution_count": 14,
   "metadata": {},
   "outputs": [],
   "source": [
    "df_calls = df_calls.drop(columns='id', axis=1)"
   ]
  },
  {
   "cell_type": "code",
   "execution_count": 15,
   "metadata": {},
   "outputs": [
    {
     "data": {
      "text/html": [
       "<div>\n",
       "<style scoped>\n",
       "    .dataframe tbody tr th:only-of-type {\n",
       "        vertical-align: middle;\n",
       "    }\n",
       "\n",
       "    .dataframe tbody tr th {\n",
       "        vertical-align: top;\n",
       "    }\n",
       "\n",
       "    .dataframe thead th {\n",
       "        text-align: right;\n",
       "    }\n",
       "</style>\n",
       "<table border=\"1\" class=\"dataframe\">\n",
       "  <thead>\n",
       "    <tr style=\"text-align: right;\">\n",
       "      <th></th>\n",
       "      <th>date</th>\n",
       "      <th>duration</th>\n",
       "      <th>user_id</th>\n",
       "      <th>calls_serial_number</th>\n",
       "    </tr>\n",
       "  </thead>\n",
       "  <tbody>\n",
       "    <tr>\n",
       "      <th>0</th>\n",
       "      <td>2018-07-25</td>\n",
       "      <td>0.0</td>\n",
       "      <td>1000</td>\n",
       "      <td>1</td>\n",
       "    </tr>\n",
       "    <tr>\n",
       "      <th>1</th>\n",
       "      <td>2018-08-17</td>\n",
       "      <td>0.0</td>\n",
       "      <td>1000</td>\n",
       "      <td>2</td>\n",
       "    </tr>\n",
       "    <tr>\n",
       "      <th>2</th>\n",
       "      <td>2018-06-11</td>\n",
       "      <td>3.0</td>\n",
       "      <td>1000</td>\n",
       "      <td>3</td>\n",
       "    </tr>\n",
       "    <tr>\n",
       "      <th>3</th>\n",
       "      <td>2018-09-21</td>\n",
       "      <td>14.0</td>\n",
       "      <td>1000</td>\n",
       "      <td>4</td>\n",
       "    </tr>\n",
       "    <tr>\n",
       "      <th>4</th>\n",
       "      <td>2018-12-15</td>\n",
       "      <td>6.0</td>\n",
       "      <td>1000</td>\n",
       "      <td>5</td>\n",
       "    </tr>\n",
       "    <tr>\n",
       "      <th>...</th>\n",
       "      <td>...</td>\n",
       "      <td>...</td>\n",
       "      <td>...</td>\n",
       "      <td>...</td>\n",
       "    </tr>\n",
       "    <tr>\n",
       "      <th>202602</th>\n",
       "      <td>2018-12-26</td>\n",
       "      <td>1.0</td>\n",
       "      <td>1499</td>\n",
       "      <td>216</td>\n",
       "    </tr>\n",
       "    <tr>\n",
       "      <th>202603</th>\n",
       "      <td>2018-10-18</td>\n",
       "      <td>19.0</td>\n",
       "      <td>1499</td>\n",
       "      <td>217</td>\n",
       "    </tr>\n",
       "    <tr>\n",
       "      <th>202604</th>\n",
       "      <td>2018-11-10</td>\n",
       "      <td>11.0</td>\n",
       "      <td>1499</td>\n",
       "      <td>218</td>\n",
       "    </tr>\n",
       "    <tr>\n",
       "      <th>202605</th>\n",
       "      <td>2018-10-06</td>\n",
       "      <td>5.0</td>\n",
       "      <td>1499</td>\n",
       "      <td>219</td>\n",
       "    </tr>\n",
       "    <tr>\n",
       "      <th>202606</th>\n",
       "      <td>2018-12-14</td>\n",
       "      <td>20.0</td>\n",
       "      <td>1499</td>\n",
       "      <td>220</td>\n",
       "    </tr>\n",
       "  </tbody>\n",
       "</table>\n",
       "<p>202607 rows × 4 columns</p>\n",
       "</div>"
      ],
      "text/plain": [
       "             date  duration  user_id  calls_serial_number\n",
       "0      2018-07-25       0.0     1000                    1\n",
       "1      2018-08-17       0.0     1000                    2\n",
       "2      2018-06-11       3.0     1000                    3\n",
       "3      2018-09-21      14.0     1000                    4\n",
       "4      2018-12-15       6.0     1000                    5\n",
       "...           ...       ...      ...                  ...\n",
       "202602 2018-12-26       1.0     1499                  216\n",
       "202603 2018-10-18      19.0     1499                  217\n",
       "202604 2018-11-10      11.0     1499                  218\n",
       "202605 2018-10-06       5.0     1499                  219\n",
       "202606 2018-12-14      20.0     1499                  220\n",
       "\n",
       "[202607 rows x 4 columns]"
      ]
     },
     "metadata": {},
     "output_type": "display_data"
    },
    {
     "name": "stdout",
     "output_type": "stream",
     "text": [
      "<class 'pandas.core.frame.DataFrame'>\n",
      "RangeIndex: 202607 entries, 0 to 202606\n",
      "Data columns (total 4 columns):\n",
      " #   Column               Non-Null Count   Dtype         \n",
      "---  ------               --------------   -----         \n",
      " 0   date                 202607 non-null  datetime64[ns]\n",
      " 1   duration             202607 non-null  float64       \n",
      " 2   user_id              202607 non-null  int64         \n",
      " 3   calls_serial_number  202607 non-null  int32         \n",
      "dtypes: datetime64[ns](1), float64(1), int32(1), int64(1)\n",
      "memory usage: 5.4 MB\n"
     ]
    }
   ],
   "source": [
    "df_calls.columns = ['date', 'duration', 'user_id', 'calls_serial_number']\n",
    "display(df_calls)\n",
    "df_calls.info()"
   ]
  },
  {
   "cell_type": "markdown",
   "metadata": {},
   "source": [
    "Пожалуй закончим на этом с информацией о звонках. Перейдем к информации о интернете. Мы знаем, что суммирование траффика происходит по итогам месяца и округляется до Гб. Соответственно, округлять как в случае со звонками данный столбец мы не будем.\n",
    "\n",
    "Зато мы можем заметить здесь странный столбец. С первого взгляда он похож на дублирование столбца индексов, т.е. является ошибкой при выгрузке данных. Проверим это:"
   ]
  },
  {
   "cell_type": "code",
   "execution_count": 16,
   "metadata": {
    "scrolled": true
   },
   "outputs": [
    {
     "data": {
      "text/html": [
       "<div>\n",
       "<style scoped>\n",
       "    .dataframe tbody tr th:only-of-type {\n",
       "        vertical-align: middle;\n",
       "    }\n",
       "\n",
       "    .dataframe tbody tr th {\n",
       "        vertical-align: top;\n",
       "    }\n",
       "\n",
       "    .dataframe thead th {\n",
       "        text-align: right;\n",
       "    }\n",
       "</style>\n",
       "<table border=\"1\" class=\"dataframe\">\n",
       "  <thead>\n",
       "    <tr style=\"text-align: right;\">\n",
       "      <th></th>\n",
       "      <th>Unnamed: 0</th>\n",
       "      <th>id</th>\n",
       "      <th>mb_used</th>\n",
       "      <th>session_date</th>\n",
       "      <th>user_id</th>\n",
       "    </tr>\n",
       "  </thead>\n",
       "  <tbody>\n",
       "    <tr>\n",
       "      <th>0</th>\n",
       "      <td>0</td>\n",
       "      <td>1000_0</td>\n",
       "      <td>112.95</td>\n",
       "      <td>2018-11-25</td>\n",
       "      <td>1000</td>\n",
       "    </tr>\n",
       "    <tr>\n",
       "      <th>1</th>\n",
       "      <td>1</td>\n",
       "      <td>1000_1</td>\n",
       "      <td>1052.81</td>\n",
       "      <td>2018-09-07</td>\n",
       "      <td>1000</td>\n",
       "    </tr>\n",
       "    <tr>\n",
       "      <th>2</th>\n",
       "      <td>2</td>\n",
       "      <td>1000_2</td>\n",
       "      <td>1197.26</td>\n",
       "      <td>2018-06-25</td>\n",
       "      <td>1000</td>\n",
       "    </tr>\n",
       "    <tr>\n",
       "      <th>3</th>\n",
       "      <td>3</td>\n",
       "      <td>1000_3</td>\n",
       "      <td>550.27</td>\n",
       "      <td>2018-08-22</td>\n",
       "      <td>1000</td>\n",
       "    </tr>\n",
       "    <tr>\n",
       "      <th>4</th>\n",
       "      <td>4</td>\n",
       "      <td>1000_4</td>\n",
       "      <td>302.56</td>\n",
       "      <td>2018-09-24</td>\n",
       "      <td>1000</td>\n",
       "    </tr>\n",
       "    <tr>\n",
       "      <th>...</th>\n",
       "      <td>...</td>\n",
       "      <td>...</td>\n",
       "      <td>...</td>\n",
       "      <td>...</td>\n",
       "      <td>...</td>\n",
       "    </tr>\n",
       "    <tr>\n",
       "      <th>149391</th>\n",
       "      <td>149391</td>\n",
       "      <td>1499_152</td>\n",
       "      <td>318.90</td>\n",
       "      <td>2018-10-03</td>\n",
       "      <td>1499</td>\n",
       "    </tr>\n",
       "    <tr>\n",
       "      <th>149392</th>\n",
       "      <td>149392</td>\n",
       "      <td>1499_153</td>\n",
       "      <td>490.13</td>\n",
       "      <td>2018-12-14</td>\n",
       "      <td>1499</td>\n",
       "    </tr>\n",
       "    <tr>\n",
       "      <th>149393</th>\n",
       "      <td>149393</td>\n",
       "      <td>1499_154</td>\n",
       "      <td>0.00</td>\n",
       "      <td>2018-10-27</td>\n",
       "      <td>1499</td>\n",
       "    </tr>\n",
       "    <tr>\n",
       "      <th>149394</th>\n",
       "      <td>149394</td>\n",
       "      <td>1499_155</td>\n",
       "      <td>1246.32</td>\n",
       "      <td>2018-11-26</td>\n",
       "      <td>1499</td>\n",
       "    </tr>\n",
       "    <tr>\n",
       "      <th>149395</th>\n",
       "      <td>149395</td>\n",
       "      <td>1499_156</td>\n",
       "      <td>544.37</td>\n",
       "      <td>2018-10-26</td>\n",
       "      <td>1499</td>\n",
       "    </tr>\n",
       "  </tbody>\n",
       "</table>\n",
       "<p>149396 rows × 5 columns</p>\n",
       "</div>"
      ],
      "text/plain": [
       "        Unnamed: 0        id  mb_used session_date  user_id\n",
       "0                0    1000_0   112.95   2018-11-25     1000\n",
       "1                1    1000_1  1052.81   2018-09-07     1000\n",
       "2                2    1000_2  1197.26   2018-06-25     1000\n",
       "3                3    1000_3   550.27   2018-08-22     1000\n",
       "4                4    1000_4   302.56   2018-09-24     1000\n",
       "...            ...       ...      ...          ...      ...\n",
       "149391      149391  1499_152   318.90   2018-10-03     1499\n",
       "149392      149392  1499_153   490.13   2018-12-14     1499\n",
       "149393      149393  1499_154     0.00   2018-10-27     1499\n",
       "149394      149394  1499_155  1246.32   2018-11-26     1499\n",
       "149395      149395  1499_156   544.37   2018-10-26     1499\n",
       "\n",
       "[149396 rows x 5 columns]"
      ]
     },
     "execution_count": 16,
     "metadata": {},
     "output_type": "execute_result"
    }
   ],
   "source": [
    "df_internet"
   ]
  },
  {
   "cell_type": "code",
   "execution_count": 17,
   "metadata": {
    "scrolled": true
   },
   "outputs": [
    {
     "data": {
      "text/plain": [
       "Unnamed: 0      0\n",
       "id              0\n",
       "mb_used         0\n",
       "session_date    0\n",
       "user_id         0\n",
       "dtype: int64"
      ]
     },
     "execution_count": 17,
     "metadata": {},
     "output_type": "execute_result"
    }
   ],
   "source": [
    "df_internet[df_internet['Unnamed: 0'] != df_internet.index].count()"
   ]
  },
  {
   "cell_type": "markdown",
   "metadata": {},
   "source": [
    "Мы подтвердили, что столбец `Unnamed: 0` дублирует значения индексов, значит он нам не нужен. Удаляем его."
   ]
  },
  {
   "cell_type": "code",
   "execution_count": 18,
   "metadata": {},
   "outputs": [],
   "source": [
    "df_internet = df_internet.drop(columns='Unnamed: 0', axis=1)"
   ]
  },
  {
   "cell_type": "code",
   "execution_count": 19,
   "metadata": {},
   "outputs": [],
   "source": [
    "df_internet['sessions_serial_number'] = id_to_serial(df_internet['id'])"
   ]
  },
  {
   "cell_type": "code",
   "execution_count": 20,
   "metadata": {},
   "outputs": [],
   "source": [
    "df_internet = df_internet.drop(columns='id', axis=1)"
   ]
  },
  {
   "cell_type": "code",
   "execution_count": 21,
   "metadata": {},
   "outputs": [
    {
     "data": {
      "text/html": [
       "<div>\n",
       "<style scoped>\n",
       "    .dataframe tbody tr th:only-of-type {\n",
       "        vertical-align: middle;\n",
       "    }\n",
       "\n",
       "    .dataframe tbody tr th {\n",
       "        vertical-align: top;\n",
       "    }\n",
       "\n",
       "    .dataframe thead th {\n",
       "        text-align: right;\n",
       "    }\n",
       "</style>\n",
       "<table border=\"1\" class=\"dataframe\">\n",
       "  <thead>\n",
       "    <tr style=\"text-align: right;\">\n",
       "      <th></th>\n",
       "      <th>mb_used</th>\n",
       "      <th>date</th>\n",
       "      <th>user_id</th>\n",
       "      <th>sessions_serial_number</th>\n",
       "    </tr>\n",
       "  </thead>\n",
       "  <tbody>\n",
       "    <tr>\n",
       "      <th>0</th>\n",
       "      <td>112.95</td>\n",
       "      <td>2018-11-25</td>\n",
       "      <td>1000</td>\n",
       "      <td>1</td>\n",
       "    </tr>\n",
       "    <tr>\n",
       "      <th>1</th>\n",
       "      <td>1052.81</td>\n",
       "      <td>2018-09-07</td>\n",
       "      <td>1000</td>\n",
       "      <td>2</td>\n",
       "    </tr>\n",
       "    <tr>\n",
       "      <th>2</th>\n",
       "      <td>1197.26</td>\n",
       "      <td>2018-06-25</td>\n",
       "      <td>1000</td>\n",
       "      <td>3</td>\n",
       "    </tr>\n",
       "    <tr>\n",
       "      <th>3</th>\n",
       "      <td>550.27</td>\n",
       "      <td>2018-08-22</td>\n",
       "      <td>1000</td>\n",
       "      <td>4</td>\n",
       "    </tr>\n",
       "    <tr>\n",
       "      <th>4</th>\n",
       "      <td>302.56</td>\n",
       "      <td>2018-09-24</td>\n",
       "      <td>1000</td>\n",
       "      <td>5</td>\n",
       "    </tr>\n",
       "    <tr>\n",
       "      <th>...</th>\n",
       "      <td>...</td>\n",
       "      <td>...</td>\n",
       "      <td>...</td>\n",
       "      <td>...</td>\n",
       "    </tr>\n",
       "    <tr>\n",
       "      <th>149391</th>\n",
       "      <td>318.90</td>\n",
       "      <td>2018-10-03</td>\n",
       "      <td>1499</td>\n",
       "      <td>153</td>\n",
       "    </tr>\n",
       "    <tr>\n",
       "      <th>149392</th>\n",
       "      <td>490.13</td>\n",
       "      <td>2018-12-14</td>\n",
       "      <td>1499</td>\n",
       "      <td>154</td>\n",
       "    </tr>\n",
       "    <tr>\n",
       "      <th>149393</th>\n",
       "      <td>0.00</td>\n",
       "      <td>2018-10-27</td>\n",
       "      <td>1499</td>\n",
       "      <td>155</td>\n",
       "    </tr>\n",
       "    <tr>\n",
       "      <th>149394</th>\n",
       "      <td>1246.32</td>\n",
       "      <td>2018-11-26</td>\n",
       "      <td>1499</td>\n",
       "      <td>156</td>\n",
       "    </tr>\n",
       "    <tr>\n",
       "      <th>149395</th>\n",
       "      <td>544.37</td>\n",
       "      <td>2018-10-26</td>\n",
       "      <td>1499</td>\n",
       "      <td>157</td>\n",
       "    </tr>\n",
       "  </tbody>\n",
       "</table>\n",
       "<p>149396 rows × 4 columns</p>\n",
       "</div>"
      ],
      "text/plain": [
       "        mb_used       date  user_id  sessions_serial_number\n",
       "0        112.95 2018-11-25     1000                       1\n",
       "1       1052.81 2018-09-07     1000                       2\n",
       "2       1197.26 2018-06-25     1000                       3\n",
       "3        550.27 2018-08-22     1000                       4\n",
       "4        302.56 2018-09-24     1000                       5\n",
       "...         ...        ...      ...                     ...\n",
       "149391   318.90 2018-10-03     1499                     153\n",
       "149392   490.13 2018-12-14     1499                     154\n",
       "149393     0.00 2018-10-27     1499                     155\n",
       "149394  1246.32 2018-11-26     1499                     156\n",
       "149395   544.37 2018-10-26     1499                     157\n",
       "\n",
       "[149396 rows x 4 columns]"
      ]
     },
     "metadata": {},
     "output_type": "display_data"
    },
    {
     "name": "stdout",
     "output_type": "stream",
     "text": [
      "<class 'pandas.core.frame.DataFrame'>\n",
      "RangeIndex: 149396 entries, 0 to 149395\n",
      "Data columns (total 4 columns):\n",
      " #   Column                  Non-Null Count   Dtype         \n",
      "---  ------                  --------------   -----         \n",
      " 0   mb_used                 149396 non-null  float64       \n",
      " 1   date                    149396 non-null  datetime64[ns]\n",
      " 2   user_id                 149396 non-null  int64         \n",
      " 3   sessions_serial_number  149396 non-null  int32         \n",
      "dtypes: datetime64[ns](1), float64(1), int32(1), int64(1)\n",
      "memory usage: 4.0 MB\n"
     ]
    }
   ],
   "source": [
    "df_internet.columns = ['mb_used', 'date', 'user_id', 'sessions_serial_number']\n",
    "display(df_internet)\n",
    "df_internet.info()"
   ]
  },
  {
   "cell_type": "markdown",
   "metadata": {},
   "source": [
    "Как мы могли заметить, в датафрейме встречаются сессии с нулевым траффиком. Не ясно, откуда они взялись (возможно это связано с акциями от телеком-компании по типу \"бесплатный траффик в соцсетях\" и т.д.), но вряд ли их можно назвать полезными. Хотя, их можно будет посчитать отдельно, чтобы определить насколько популярны бесплатные сессии в соцсетях (если мы предполагаем, что природа этих сессий такова). В любом случае: держим в голове, что при расчете среднего и т.д. следует добавлять фильтр на сессии с нулевым траффиком."
   ]
  },
  {
   "cell_type": "markdown",
   "metadata": {},
   "source": [
    "Вот и еще одна таблица данных приведена к виду, радующему глаз. \n",
    "\n",
    "Итак, осталось обработать последюю таблицу: сообщения. Проделаем со столбцом `id` то же, что и с одноименными столбцами в предыдущих случаях:"
   ]
  },
  {
   "cell_type": "code",
   "execution_count": 22,
   "metadata": {},
   "outputs": [],
   "source": [
    "df_messages['messages_serial_number'] = id_to_serial(df_messages['id'])"
   ]
  },
  {
   "cell_type": "code",
   "execution_count": 23,
   "metadata": {},
   "outputs": [],
   "source": [
    "df_messages = df_messages.drop(columns='id', axis=1)"
   ]
  },
  {
   "cell_type": "code",
   "execution_count": 24,
   "metadata": {},
   "outputs": [
    {
     "data": {
      "text/html": [
       "<div>\n",
       "<style scoped>\n",
       "    .dataframe tbody tr th:only-of-type {\n",
       "        vertical-align: middle;\n",
       "    }\n",
       "\n",
       "    .dataframe tbody tr th {\n",
       "        vertical-align: top;\n",
       "    }\n",
       "\n",
       "    .dataframe thead th {\n",
       "        text-align: right;\n",
       "    }\n",
       "</style>\n",
       "<table border=\"1\" class=\"dataframe\">\n",
       "  <thead>\n",
       "    <tr style=\"text-align: right;\">\n",
       "      <th></th>\n",
       "      <th>date</th>\n",
       "      <th>user_id</th>\n",
       "      <th>messages_serial_number</th>\n",
       "    </tr>\n",
       "  </thead>\n",
       "  <tbody>\n",
       "    <tr>\n",
       "      <th>0</th>\n",
       "      <td>2018-06-27</td>\n",
       "      <td>1000</td>\n",
       "      <td>1</td>\n",
       "    </tr>\n",
       "    <tr>\n",
       "      <th>1</th>\n",
       "      <td>2018-10-08</td>\n",
       "      <td>1000</td>\n",
       "      <td>2</td>\n",
       "    </tr>\n",
       "    <tr>\n",
       "      <th>2</th>\n",
       "      <td>2018-08-04</td>\n",
       "      <td>1000</td>\n",
       "      <td>3</td>\n",
       "    </tr>\n",
       "    <tr>\n",
       "      <th>3</th>\n",
       "      <td>2018-06-16</td>\n",
       "      <td>1000</td>\n",
       "      <td>4</td>\n",
       "    </tr>\n",
       "    <tr>\n",
       "      <th>4</th>\n",
       "      <td>2018-12-05</td>\n",
       "      <td>1000</td>\n",
       "      <td>5</td>\n",
       "    </tr>\n",
       "    <tr>\n",
       "      <th>...</th>\n",
       "      <td>...</td>\n",
       "      <td>...</td>\n",
       "      <td>...</td>\n",
       "    </tr>\n",
       "    <tr>\n",
       "      <th>123031</th>\n",
       "      <td>2018-12-12</td>\n",
       "      <td>1499</td>\n",
       "      <td>180</td>\n",
       "    </tr>\n",
       "    <tr>\n",
       "      <th>123032</th>\n",
       "      <td>2018-09-28</td>\n",
       "      <td>1499</td>\n",
       "      <td>181</td>\n",
       "    </tr>\n",
       "    <tr>\n",
       "      <th>123033</th>\n",
       "      <td>2018-09-27</td>\n",
       "      <td>1499</td>\n",
       "      <td>182</td>\n",
       "    </tr>\n",
       "    <tr>\n",
       "      <th>123034</th>\n",
       "      <td>2018-11-15</td>\n",
       "      <td>1499</td>\n",
       "      <td>183</td>\n",
       "    </tr>\n",
       "    <tr>\n",
       "      <th>123035</th>\n",
       "      <td>2018-11-16</td>\n",
       "      <td>1499</td>\n",
       "      <td>184</td>\n",
       "    </tr>\n",
       "  </tbody>\n",
       "</table>\n",
       "<p>123036 rows × 3 columns</p>\n",
       "</div>"
      ],
      "text/plain": [
       "             date  user_id  messages_serial_number\n",
       "0      2018-06-27     1000                       1\n",
       "1      2018-10-08     1000                       2\n",
       "2      2018-08-04     1000                       3\n",
       "3      2018-06-16     1000                       4\n",
       "4      2018-12-05     1000                       5\n",
       "...           ...      ...                     ...\n",
       "123031 2018-12-12     1499                     180\n",
       "123032 2018-09-28     1499                     181\n",
       "123033 2018-09-27     1499                     182\n",
       "123034 2018-11-15     1499                     183\n",
       "123035 2018-11-16     1499                     184\n",
       "\n",
       "[123036 rows x 3 columns]"
      ]
     },
     "metadata": {},
     "output_type": "display_data"
    },
    {
     "name": "stdout",
     "output_type": "stream",
     "text": [
      "<class 'pandas.core.frame.DataFrame'>\n",
      "RangeIndex: 123036 entries, 0 to 123035\n",
      "Data columns (total 3 columns):\n",
      " #   Column                  Non-Null Count   Dtype         \n",
      "---  ------                  --------------   -----         \n",
      " 0   date                    123036 non-null  datetime64[ns]\n",
      " 1   user_id                 123036 non-null  int64         \n",
      " 2   messages_serial_number  123036 non-null  int32         \n",
      "dtypes: datetime64[ns](1), int32(1), int64(1)\n",
      "memory usage: 2.3 MB\n"
     ]
    }
   ],
   "source": [
    "df_messages.columns = ['date', 'user_id', 'messages_serial_number']\n",
    "display(df_messages)\n",
    "df_messages.info()"
   ]
  },
  {
   "cell_type": "markdown",
   "metadata": {},
   "source": [
    "Что ж, данные приведены к виду, в котором с ними удобно работать. Избавится от пропусков в столбце `churn_date` таблицы с абонентами мы можем заменив их, разве что только на нули, что сломает нам тип данных в столбце, поэтому оставим пропуски как есть."
   ]
  },
  {
   "cell_type": "markdown",
   "metadata": {},
   "source": [
    "Для таблицы с данными о пользователях необходимо посчитать количество полных месяцев пользования услугами связи для каждого. Напишем функцию, которая это сделает:"
   ]
  },
  {
   "cell_type": "code",
   "execution_count": 25,
   "metadata": {
    "scrolled": true
   },
   "outputs": [],
   "source": [
    "def full_month(user_id):\n",
    "    '''Функция считает количество ПОЛНЫХ месяцев, на протяжении которых абонент пользовался тарифом'''\n",
    "    \n",
    "    month_counter = 0\n",
    "    s_date = df_users[df_users['user_id'] == user_id]['reg_date'].dt.date.values[0]\n",
    "    \n",
    "    if df_users[df_users['user_id'] == user_id]['churn_date'].isna().values[0] == False:\n",
    "        while s_date + relativedelta(days=-1) <= df_users[df_users['user_id'] == user_id]['churn_date'].dt.date.values[0]:\n",
    "            s_date = s_date + relativedelta(months=+1)\n",
    "            month_counter += 1\n",
    "        return month_counter - 1\n",
    "    \n",
    "    else:\n",
    "        while s_date + relativedelta(days=-1) <= dt.date.fromisoformat('2018-12-31'):\n",
    "            s_date = s_date + relativedelta(months=+1)\n",
    "            month_counter += 1\n",
    "        return month_counter - 1"
   ]
  },
  {
   "cell_type": "code",
   "execution_count": 26,
   "metadata": {},
   "outputs": [],
   "source": [
    "df_users['full_months_number'] = df_users['user_id'].apply(full_month)"
   ]
  },
  {
   "cell_type": "code",
   "execution_count": 27,
   "metadata": {
    "scrolled": false
   },
   "outputs": [
    {
     "data": {
      "text/html": [
       "<div>\n",
       "<style scoped>\n",
       "    .dataframe tbody tr th:only-of-type {\n",
       "        vertical-align: middle;\n",
       "    }\n",
       "\n",
       "    .dataframe tbody tr th {\n",
       "        vertical-align: top;\n",
       "    }\n",
       "\n",
       "    .dataframe thead th {\n",
       "        text-align: right;\n",
       "    }\n",
       "</style>\n",
       "<table border=\"1\" class=\"dataframe\">\n",
       "  <thead>\n",
       "    <tr style=\"text-align: right;\">\n",
       "      <th></th>\n",
       "      <th>user_id</th>\n",
       "      <th>age</th>\n",
       "      <th>churn_date</th>\n",
       "      <th>city</th>\n",
       "      <th>first_name</th>\n",
       "      <th>last_name</th>\n",
       "      <th>reg_date</th>\n",
       "      <th>tariff</th>\n",
       "      <th>full_months_number</th>\n",
       "    </tr>\n",
       "  </thead>\n",
       "  <tbody>\n",
       "    <tr>\n",
       "      <th>0</th>\n",
       "      <td>1000</td>\n",
       "      <td>52</td>\n",
       "      <td>NaT</td>\n",
       "      <td>Краснодар</td>\n",
       "      <td>Рафаил</td>\n",
       "      <td>Верещагин</td>\n",
       "      <td>2018-05-25</td>\n",
       "      <td>ultra</td>\n",
       "      <td>7</td>\n",
       "    </tr>\n",
       "    <tr>\n",
       "      <th>1</th>\n",
       "      <td>1001</td>\n",
       "      <td>41</td>\n",
       "      <td>NaT</td>\n",
       "      <td>Москва</td>\n",
       "      <td>Иван</td>\n",
       "      <td>Ежов</td>\n",
       "      <td>2018-11-01</td>\n",
       "      <td>smart</td>\n",
       "      <td>2</td>\n",
       "    </tr>\n",
       "    <tr>\n",
       "      <th>2</th>\n",
       "      <td>1002</td>\n",
       "      <td>59</td>\n",
       "      <td>NaT</td>\n",
       "      <td>Стерлитамак</td>\n",
       "      <td>Евгений</td>\n",
       "      <td>Абрамович</td>\n",
       "      <td>2018-06-17</td>\n",
       "      <td>smart</td>\n",
       "      <td>6</td>\n",
       "    </tr>\n",
       "    <tr>\n",
       "      <th>3</th>\n",
       "      <td>1003</td>\n",
       "      <td>23</td>\n",
       "      <td>NaT</td>\n",
       "      <td>Москва</td>\n",
       "      <td>Белла</td>\n",
       "      <td>Белякова</td>\n",
       "      <td>2018-08-17</td>\n",
       "      <td>ultra</td>\n",
       "      <td>4</td>\n",
       "    </tr>\n",
       "    <tr>\n",
       "      <th>4</th>\n",
       "      <td>1004</td>\n",
       "      <td>68</td>\n",
       "      <td>NaT</td>\n",
       "      <td>Новокузнецк</td>\n",
       "      <td>Татьяна</td>\n",
       "      <td>Авдеенко</td>\n",
       "      <td>2018-05-14</td>\n",
       "      <td>ultra</td>\n",
       "      <td>7</td>\n",
       "    </tr>\n",
       "    <tr>\n",
       "      <th>...</th>\n",
       "      <td>...</td>\n",
       "      <td>...</td>\n",
       "      <td>...</td>\n",
       "      <td>...</td>\n",
       "      <td>...</td>\n",
       "      <td>...</td>\n",
       "      <td>...</td>\n",
       "      <td>...</td>\n",
       "      <td>...</td>\n",
       "    </tr>\n",
       "    <tr>\n",
       "      <th>495</th>\n",
       "      <td>1495</td>\n",
       "      <td>65</td>\n",
       "      <td>NaT</td>\n",
       "      <td>Иркутск</td>\n",
       "      <td>Авксентий</td>\n",
       "      <td>Фокин</td>\n",
       "      <td>2018-08-28</td>\n",
       "      <td>ultra</td>\n",
       "      <td>4</td>\n",
       "    </tr>\n",
       "    <tr>\n",
       "      <th>496</th>\n",
       "      <td>1496</td>\n",
       "      <td>36</td>\n",
       "      <td>NaT</td>\n",
       "      <td>Вологда</td>\n",
       "      <td>Трифон</td>\n",
       "      <td>Блохин</td>\n",
       "      <td>2018-01-27</td>\n",
       "      <td>smart</td>\n",
       "      <td>11</td>\n",
       "    </tr>\n",
       "    <tr>\n",
       "      <th>497</th>\n",
       "      <td>1497</td>\n",
       "      <td>32</td>\n",
       "      <td>NaT</td>\n",
       "      <td>Челябинск</td>\n",
       "      <td>Каролина</td>\n",
       "      <td>Агеева</td>\n",
       "      <td>2018-10-09</td>\n",
       "      <td>smart</td>\n",
       "      <td>2</td>\n",
       "    </tr>\n",
       "    <tr>\n",
       "      <th>498</th>\n",
       "      <td>1498</td>\n",
       "      <td>68</td>\n",
       "      <td>2018-10-25</td>\n",
       "      <td>Владикавказ</td>\n",
       "      <td>Всеволод</td>\n",
       "      <td>Акимчин</td>\n",
       "      <td>2018-07-19</td>\n",
       "      <td>smart</td>\n",
       "      <td>3</td>\n",
       "    </tr>\n",
       "    <tr>\n",
       "      <th>499</th>\n",
       "      <td>1499</td>\n",
       "      <td>35</td>\n",
       "      <td>NaT</td>\n",
       "      <td>Пермь</td>\n",
       "      <td>Гектор</td>\n",
       "      <td>Корнилов</td>\n",
       "      <td>2018-09-27</td>\n",
       "      <td>smart</td>\n",
       "      <td>3</td>\n",
       "    </tr>\n",
       "  </tbody>\n",
       "</table>\n",
       "<p>500 rows × 9 columns</p>\n",
       "</div>"
      ],
      "text/plain": [
       "     user_id  age churn_date         city first_name  last_name   reg_date  \\\n",
       "0       1000   52        NaT    Краснодар     Рафаил  Верещагин 2018-05-25   \n",
       "1       1001   41        NaT       Москва       Иван       Ежов 2018-11-01   \n",
       "2       1002   59        NaT  Стерлитамак    Евгений  Абрамович 2018-06-17   \n",
       "3       1003   23        NaT       Москва      Белла   Белякова 2018-08-17   \n",
       "4       1004   68        NaT  Новокузнецк    Татьяна   Авдеенко 2018-05-14   \n",
       "..       ...  ...        ...          ...        ...        ...        ...   \n",
       "495     1495   65        NaT      Иркутск  Авксентий      Фокин 2018-08-28   \n",
       "496     1496   36        NaT      Вологда     Трифон     Блохин 2018-01-27   \n",
       "497     1497   32        NaT    Челябинск   Каролина     Агеева 2018-10-09   \n",
       "498     1498   68 2018-10-25  Владикавказ   Всеволод    Акимчин 2018-07-19   \n",
       "499     1499   35        NaT        Пермь     Гектор   Корнилов 2018-09-27   \n",
       "\n",
       "    tariff  full_months_number  \n",
       "0    ultra                   7  \n",
       "1    smart                   2  \n",
       "2    smart                   6  \n",
       "3    ultra                   4  \n",
       "4    ultra                   7  \n",
       "..     ...                 ...  \n",
       "495  ultra                   4  \n",
       "496  smart                  11  \n",
       "497  smart                   2  \n",
       "498  smart                   3  \n",
       "499  smart                   3  \n",
       "\n",
       "[500 rows x 9 columns]"
      ]
     },
     "execution_count": 27,
     "metadata": {},
     "output_type": "execute_result"
    }
   ],
   "source": [
    "df_users"
   ]
  },
  {
   "cell_type": "markdown",
   "metadata": {},
   "source": [
    "Теперь создадим новые таблицы, в которых будет указано количество потраченных минут/траффика/сообщений за месяц для каждого пользователя."
   ]
  },
  {
   "cell_type": "code",
   "execution_count": 28,
   "metadata": {},
   "outputs": [
    {
     "data": {
      "text/plain": [
       "count    500.000000\n",
       "mean       5.442000\n",
       "std        3.386084\n",
       "min        0.000000\n",
       "25%        2.000000\n",
       "50%        5.000000\n",
       "75%        8.000000\n",
       "max       12.000000\n",
       "Name: full_months_number, dtype: float64"
      ]
     },
     "execution_count": 28,
     "metadata": {},
     "output_type": "execute_result"
    }
   ],
   "source": [
    "df_users['full_months_number'].describe()"
   ]
  },
  {
   "cell_type": "markdown",
   "metadata": {},
   "source": [
    "Как мы видим, встречаются пользователи, которые пользуются услугами телеком-компании менее месяца. Для расчета общей статистики их использовать мы не будем, поскольку из условий нам известно, что данные о тарифах считаются помесячно."
   ]
  },
  {
   "cell_type": "markdown",
   "metadata": {},
   "source": [
    "Создадим для каждой из таблиц новую таблицу, где будет собрана информация о каждом месяце пользования абонентом тарифа и общая информация по всем месяцам. Для этой цели реализуем функцию, которая исходя из заданного датафрейма и столбца в нем расчитает нам количество и сумму по указанному столбцу для каждого из месяцев:"
   ]
  },
  {
   "cell_type": "code",
   "execution_count": 29,
   "metadata": {},
   "outputs": [],
   "source": [
    "def per_month(df, column_name, check):\n",
    "    '''Функция возращает датафрейм с суммой и счетчиком для указанного столбца по месяцам'''\n",
    "    numbers = ['first', 'second', 'third', 'fourth', 'fifth', 'sixth', 'seventh', 'eighth', 'ninth', 'tenth', 'eleventh', 'twelfth']   \n",
    "    df_ = df_users.loc[:, ['user_id', 'tariff', 'full_months_number']]\n",
    "    df_ = df_.set_index('user_id')\n",
    "    for user_id in df_.index:\n",
    "        df_filtered = df[df['user_id'] == user_id]\n",
    "        start_date = df_users[df_users['user_id'] == user_id]['reg_date'].dt.date.values[0]\n",
    "        for num in range(12):\n",
    "            if df_users[df_users['user_id'] == user_id]['full_months_number'].values[0] > num:\n",
    "                c_date = start_date + relativedelta(months=+(num+1), days=-1)\n",
    "                df_filtered_by_date = df_filtered[\n",
    "                    (df_filtered['date'].dt.date >= start_date + relativedelta(months=+num)) & (df_filtered['date'].dt.date <= c_date)\n",
    "                ]\n",
    "                df_.loc[user_id, f'{numbers[num]}_month_count'] = df_filtered_by_date[column_name].count()\n",
    "                if check == True:\n",
    "                    df_.loc[user_id, f'{numbers[num]}_month_sum'] = df_filtered_by_date[column_name].sum()\n",
    "        df_.loc[user_id, 'total_count'] = df_filtered[column_name].count()\n",
    "        if check == True:\n",
    "            df_.loc[user_id, 'total_sum'] = df_filtered[column_name].sum()\n",
    "    return df_"
   ]
  },
  {
   "cell_type": "code",
   "execution_count": 30,
   "metadata": {
    "scrolled": false
   },
   "outputs": [
    {
     "data": {
      "text/html": [
       "<div>\n",
       "<style scoped>\n",
       "    .dataframe tbody tr th:only-of-type {\n",
       "        vertical-align: middle;\n",
       "    }\n",
       "\n",
       "    .dataframe tbody tr th {\n",
       "        vertical-align: top;\n",
       "    }\n",
       "\n",
       "    .dataframe thead th {\n",
       "        text-align: right;\n",
       "    }\n",
       "</style>\n",
       "<table border=\"1\" class=\"dataframe\">\n",
       "  <thead>\n",
       "    <tr style=\"text-align: right;\">\n",
       "      <th></th>\n",
       "      <th>tariff</th>\n",
       "      <th>full_months_number</th>\n",
       "      <th>first_month_count</th>\n",
       "      <th>first_month_sum</th>\n",
       "      <th>second_month_count</th>\n",
       "      <th>second_month_sum</th>\n",
       "      <th>third_month_count</th>\n",
       "      <th>third_month_sum</th>\n",
       "      <th>fourth_month_count</th>\n",
       "      <th>fourth_month_sum</th>\n",
       "      <th>...</th>\n",
       "      <th>eighth_month_count</th>\n",
       "      <th>eighth_month_sum</th>\n",
       "      <th>ninth_month_count</th>\n",
       "      <th>ninth_month_sum</th>\n",
       "      <th>tenth_month_count</th>\n",
       "      <th>tenth_month_sum</th>\n",
       "      <th>eleventh_month_count</th>\n",
       "      <th>eleventh_month_sum</th>\n",
       "      <th>twelfth_month_count</th>\n",
       "      <th>twelfth_month_sum</th>\n",
       "    </tr>\n",
       "    <tr>\n",
       "      <th>user_id</th>\n",
       "      <th></th>\n",
       "      <th></th>\n",
       "      <th></th>\n",
       "      <th></th>\n",
       "      <th></th>\n",
       "      <th></th>\n",
       "      <th></th>\n",
       "      <th></th>\n",
       "      <th></th>\n",
       "      <th></th>\n",
       "      <th></th>\n",
       "      <th></th>\n",
       "      <th></th>\n",
       "      <th></th>\n",
       "      <th></th>\n",
       "      <th></th>\n",
       "      <th></th>\n",
       "      <th></th>\n",
       "      <th></th>\n",
       "      <th></th>\n",
       "      <th></th>\n",
       "    </tr>\n",
       "  </thead>\n",
       "  <tbody>\n",
       "    <tr>\n",
       "      <th>1000</th>\n",
       "      <td>ultra</td>\n",
       "      <td>7</td>\n",
       "      <td>54.0</td>\n",
       "      <td>299.0</td>\n",
       "      <td>46.0</td>\n",
       "      <td>284.0</td>\n",
       "      <td>54.0</td>\n",
       "      <td>403.0</td>\n",
       "      <td>55.0</td>\n",
       "      <td>482.0</td>\n",
       "      <td>...</td>\n",
       "      <td>NaN</td>\n",
       "      <td>NaN</td>\n",
       "      <td>NaN</td>\n",
       "      <td>NaN</td>\n",
       "      <td>NaN</td>\n",
       "      <td>NaN</td>\n",
       "      <td>NaN</td>\n",
       "      <td>NaN</td>\n",
       "      <td>NaN</td>\n",
       "      <td>NaN</td>\n",
       "    </tr>\n",
       "    <tr>\n",
       "      <th>1001</th>\n",
       "      <td>smart</td>\n",
       "      <td>2</td>\n",
       "      <td>59.0</td>\n",
       "      <td>430.0</td>\n",
       "      <td>63.0</td>\n",
       "      <td>414.0</td>\n",
       "      <td>NaN</td>\n",
       "      <td>NaN</td>\n",
       "      <td>NaN</td>\n",
       "      <td>NaN</td>\n",
       "      <td>...</td>\n",
       "      <td>NaN</td>\n",
       "      <td>NaN</td>\n",
       "      <td>NaN</td>\n",
       "      <td>NaN</td>\n",
       "      <td>NaN</td>\n",
       "      <td>NaN</td>\n",
       "      <td>NaN</td>\n",
       "      <td>NaN</td>\n",
       "      <td>NaN</td>\n",
       "      <td>NaN</td>\n",
       "    </tr>\n",
       "    <tr>\n",
       "      <th>1002</th>\n",
       "      <td>smart</td>\n",
       "      <td>6</td>\n",
       "      <td>28.0</td>\n",
       "      <td>220.0</td>\n",
       "      <td>34.0</td>\n",
       "      <td>262.0</td>\n",
       "      <td>40.0</td>\n",
       "      <td>227.0</td>\n",
       "      <td>30.0</td>\n",
       "      <td>191.0</td>\n",
       "      <td>...</td>\n",
       "      <td>NaN</td>\n",
       "      <td>NaN</td>\n",
       "      <td>NaN</td>\n",
       "      <td>NaN</td>\n",
       "      <td>NaN</td>\n",
       "      <td>NaN</td>\n",
       "      <td>NaN</td>\n",
       "      <td>NaN</td>\n",
       "      <td>NaN</td>\n",
       "      <td>NaN</td>\n",
       "    </tr>\n",
       "    <tr>\n",
       "      <th>1003</th>\n",
       "      <td>ultra</td>\n",
       "      <td>4</td>\n",
       "      <td>135.0</td>\n",
       "      <td>938.0</td>\n",
       "      <td>108.0</td>\n",
       "      <td>851.0</td>\n",
       "      <td>107.0</td>\n",
       "      <td>806.0</td>\n",
       "      <td>119.0</td>\n",
       "      <td>922.0</td>\n",
       "      <td>...</td>\n",
       "      <td>NaN</td>\n",
       "      <td>NaN</td>\n",
       "      <td>NaN</td>\n",
       "      <td>NaN</td>\n",
       "      <td>NaN</td>\n",
       "      <td>NaN</td>\n",
       "      <td>NaN</td>\n",
       "      <td>NaN</td>\n",
       "      <td>NaN</td>\n",
       "      <td>NaN</td>\n",
       "    </tr>\n",
       "    <tr>\n",
       "      <th>1004</th>\n",
       "      <td>ultra</td>\n",
       "      <td>7</td>\n",
       "      <td>21.0</td>\n",
       "      <td>92.0</td>\n",
       "      <td>27.0</td>\n",
       "      <td>154.0</td>\n",
       "      <td>20.0</td>\n",
       "      <td>141.0</td>\n",
       "      <td>26.0</td>\n",
       "      <td>151.0</td>\n",
       "      <td>...</td>\n",
       "      <td>NaN</td>\n",
       "      <td>NaN</td>\n",
       "      <td>NaN</td>\n",
       "      <td>NaN</td>\n",
       "      <td>NaN</td>\n",
       "      <td>NaN</td>\n",
       "      <td>NaN</td>\n",
       "      <td>NaN</td>\n",
       "      <td>NaN</td>\n",
       "      <td>NaN</td>\n",
       "    </tr>\n",
       "    <tr>\n",
       "      <th>...</th>\n",
       "      <td>...</td>\n",
       "      <td>...</td>\n",
       "      <td>...</td>\n",
       "      <td>...</td>\n",
       "      <td>...</td>\n",
       "      <td>...</td>\n",
       "      <td>...</td>\n",
       "      <td>...</td>\n",
       "      <td>...</td>\n",
       "      <td>...</td>\n",
       "      <td>...</td>\n",
       "      <td>...</td>\n",
       "      <td>...</td>\n",
       "      <td>...</td>\n",
       "      <td>...</td>\n",
       "      <td>...</td>\n",
       "      <td>...</td>\n",
       "      <td>...</td>\n",
       "      <td>...</td>\n",
       "      <td>...</td>\n",
       "      <td>...</td>\n",
       "    </tr>\n",
       "    <tr>\n",
       "      <th>1495</th>\n",
       "      <td>ultra</td>\n",
       "      <td>4</td>\n",
       "      <td>118.0</td>\n",
       "      <td>856.0</td>\n",
       "      <td>145.0</td>\n",
       "      <td>963.0</td>\n",
       "      <td>135.0</td>\n",
       "      <td>956.0</td>\n",
       "      <td>145.0</td>\n",
       "      <td>1002.0</td>\n",
       "      <td>...</td>\n",
       "      <td>NaN</td>\n",
       "      <td>NaN</td>\n",
       "      <td>NaN</td>\n",
       "      <td>NaN</td>\n",
       "      <td>NaN</td>\n",
       "      <td>NaN</td>\n",
       "      <td>NaN</td>\n",
       "      <td>NaN</td>\n",
       "      <td>NaN</td>\n",
       "      <td>NaN</td>\n",
       "    </tr>\n",
       "    <tr>\n",
       "      <th>1496</th>\n",
       "      <td>smart</td>\n",
       "      <td>11</td>\n",
       "      <td>78.0</td>\n",
       "      <td>611.0</td>\n",
       "      <td>69.0</td>\n",
       "      <td>483.0</td>\n",
       "      <td>76.0</td>\n",
       "      <td>570.0</td>\n",
       "      <td>56.0</td>\n",
       "      <td>438.0</td>\n",
       "      <td>...</td>\n",
       "      <td>70.0</td>\n",
       "      <td>489.0</td>\n",
       "      <td>70.0</td>\n",
       "      <td>428.0</td>\n",
       "      <td>85.0</td>\n",
       "      <td>702.0</td>\n",
       "      <td>73.0</td>\n",
       "      <td>475.0</td>\n",
       "      <td>NaN</td>\n",
       "      <td>NaN</td>\n",
       "    </tr>\n",
       "    <tr>\n",
       "      <th>1497</th>\n",
       "      <td>smart</td>\n",
       "      <td>2</td>\n",
       "      <td>87.0</td>\n",
       "      <td>616.0</td>\n",
       "      <td>59.0</td>\n",
       "      <td>352.0</td>\n",
       "      <td>NaN</td>\n",
       "      <td>NaN</td>\n",
       "      <td>NaN</td>\n",
       "      <td>NaN</td>\n",
       "      <td>...</td>\n",
       "      <td>NaN</td>\n",
       "      <td>NaN</td>\n",
       "      <td>NaN</td>\n",
       "      <td>NaN</td>\n",
       "      <td>NaN</td>\n",
       "      <td>NaN</td>\n",
       "      <td>NaN</td>\n",
       "      <td>NaN</td>\n",
       "      <td>NaN</td>\n",
       "      <td>NaN</td>\n",
       "    </tr>\n",
       "    <tr>\n",
       "      <th>1498</th>\n",
       "      <td>smart</td>\n",
       "      <td>3</td>\n",
       "      <td>50.0</td>\n",
       "      <td>394.0</td>\n",
       "      <td>68.0</td>\n",
       "      <td>467.0</td>\n",
       "      <td>48.0</td>\n",
       "      <td>325.0</td>\n",
       "      <td>NaN</td>\n",
       "      <td>NaN</td>\n",
       "      <td>...</td>\n",
       "      <td>NaN</td>\n",
       "      <td>NaN</td>\n",
       "      <td>NaN</td>\n",
       "      <td>NaN</td>\n",
       "      <td>NaN</td>\n",
       "      <td>NaN</td>\n",
       "      <td>NaN</td>\n",
       "      <td>NaN</td>\n",
       "      <td>NaN</td>\n",
       "      <td>NaN</td>\n",
       "    </tr>\n",
       "    <tr>\n",
       "      <th>1499</th>\n",
       "      <td>smart</td>\n",
       "      <td>3</td>\n",
       "      <td>71.0</td>\n",
       "      <td>498.0</td>\n",
       "      <td>67.0</td>\n",
       "      <td>510.0</td>\n",
       "      <td>71.0</td>\n",
       "      <td>558.0</td>\n",
       "      <td>NaN</td>\n",
       "      <td>NaN</td>\n",
       "      <td>...</td>\n",
       "      <td>NaN</td>\n",
       "      <td>NaN</td>\n",
       "      <td>NaN</td>\n",
       "      <td>NaN</td>\n",
       "      <td>NaN</td>\n",
       "      <td>NaN</td>\n",
       "      <td>NaN</td>\n",
       "      <td>NaN</td>\n",
       "      <td>NaN</td>\n",
       "      <td>NaN</td>\n",
       "    </tr>\n",
       "  </tbody>\n",
       "</table>\n",
       "<p>500 rows × 28 columns</p>\n",
       "</div>"
      ],
      "text/plain": [
       "        tariff  full_months_number  first_month_count  first_month_sum  \\\n",
       "user_id                                                                  \n",
       "1000     ultra                   7               54.0            299.0   \n",
       "1001     smart                   2               59.0            430.0   \n",
       "1002     smart                   6               28.0            220.0   \n",
       "1003     ultra                   4              135.0            938.0   \n",
       "1004     ultra                   7               21.0             92.0   \n",
       "...        ...                 ...                ...              ...   \n",
       "1495     ultra                   4              118.0            856.0   \n",
       "1496     smart                  11               78.0            611.0   \n",
       "1497     smart                   2               87.0            616.0   \n",
       "1498     smart                   3               50.0            394.0   \n",
       "1499     smart                   3               71.0            498.0   \n",
       "\n",
       "         second_month_count  second_month_sum  third_month_count  \\\n",
       "user_id                                                            \n",
       "1000                   46.0             284.0               54.0   \n",
       "1001                   63.0             414.0                NaN   \n",
       "1002                   34.0             262.0               40.0   \n",
       "1003                  108.0             851.0              107.0   \n",
       "1004                   27.0             154.0               20.0   \n",
       "...                     ...               ...                ...   \n",
       "1495                  145.0             963.0              135.0   \n",
       "1496                   69.0             483.0               76.0   \n",
       "1497                   59.0             352.0                NaN   \n",
       "1498                   68.0             467.0               48.0   \n",
       "1499                   67.0             510.0               71.0   \n",
       "\n",
       "         third_month_sum  fourth_month_count  fourth_month_sum  ...  \\\n",
       "user_id                                                         ...   \n",
       "1000               403.0                55.0             482.0  ...   \n",
       "1001                 NaN                 NaN               NaN  ...   \n",
       "1002               227.0                30.0             191.0  ...   \n",
       "1003               806.0               119.0             922.0  ...   \n",
       "1004               141.0                26.0             151.0  ...   \n",
       "...                  ...                 ...               ...  ...   \n",
       "1495               956.0               145.0            1002.0  ...   \n",
       "1496               570.0                56.0             438.0  ...   \n",
       "1497                 NaN                 NaN               NaN  ...   \n",
       "1498               325.0                 NaN               NaN  ...   \n",
       "1499               558.0                 NaN               NaN  ...   \n",
       "\n",
       "         eighth_month_count  eighth_month_sum  ninth_month_count  \\\n",
       "user_id                                                            \n",
       "1000                    NaN               NaN                NaN   \n",
       "1001                    NaN               NaN                NaN   \n",
       "1002                    NaN               NaN                NaN   \n",
       "1003                    NaN               NaN                NaN   \n",
       "1004                    NaN               NaN                NaN   \n",
       "...                     ...               ...                ...   \n",
       "1495                    NaN               NaN                NaN   \n",
       "1496                   70.0             489.0               70.0   \n",
       "1497                    NaN               NaN                NaN   \n",
       "1498                    NaN               NaN                NaN   \n",
       "1499                    NaN               NaN                NaN   \n",
       "\n",
       "         ninth_month_sum  tenth_month_count  tenth_month_sum  \\\n",
       "user_id                                                        \n",
       "1000                 NaN                NaN              NaN   \n",
       "1001                 NaN                NaN              NaN   \n",
       "1002                 NaN                NaN              NaN   \n",
       "1003                 NaN                NaN              NaN   \n",
       "1004                 NaN                NaN              NaN   \n",
       "...                  ...                ...              ...   \n",
       "1495                 NaN                NaN              NaN   \n",
       "1496               428.0               85.0            702.0   \n",
       "1497                 NaN                NaN              NaN   \n",
       "1498                 NaN                NaN              NaN   \n",
       "1499                 NaN                NaN              NaN   \n",
       "\n",
       "         eleventh_month_count  eleventh_month_sum  twelfth_month_count  \\\n",
       "user_id                                                                  \n",
       "1000                      NaN                 NaN                  NaN   \n",
       "1001                      NaN                 NaN                  NaN   \n",
       "1002                      NaN                 NaN                  NaN   \n",
       "1003                      NaN                 NaN                  NaN   \n",
       "1004                      NaN                 NaN                  NaN   \n",
       "...                       ...                 ...                  ...   \n",
       "1495                      NaN                 NaN                  NaN   \n",
       "1496                     73.0               475.0                  NaN   \n",
       "1497                      NaN                 NaN                  NaN   \n",
       "1498                      NaN                 NaN                  NaN   \n",
       "1499                      NaN                 NaN                  NaN   \n",
       "\n",
       "         twelfth_month_sum  \n",
       "user_id                     \n",
       "1000                   NaN  \n",
       "1001                   NaN  \n",
       "1002                   NaN  \n",
       "1003                   NaN  \n",
       "1004                   NaN  \n",
       "...                    ...  \n",
       "1495                   NaN  \n",
       "1496                   NaN  \n",
       "1497                   NaN  \n",
       "1498                   NaN  \n",
       "1499                   NaN  \n",
       "\n",
       "[500 rows x 28 columns]"
      ]
     },
     "execution_count": 30,
     "metadata": {},
     "output_type": "execute_result"
    }
   ],
   "source": [
    "df_calls_by_month = per_month(df_calls, 'duration', True)\n",
    "df_calls_by_month"
   ]
  },
  {
   "cell_type": "markdown",
   "metadata": {},
   "source": [
    "Также мы помним, что у нас присутствовали звонки с нулевой длительностью, которые являются пропущенными звонками. Посчитаем их количество для каждого из пользователей в каждом месяце:"
   ]
  },
  {
   "cell_type": "code",
   "execution_count": 31,
   "metadata": {},
   "outputs": [
    {
     "data": {
      "text/html": [
       "<div>\n",
       "<style scoped>\n",
       "    .dataframe tbody tr th:only-of-type {\n",
       "        vertical-align: middle;\n",
       "    }\n",
       "\n",
       "    .dataframe tbody tr th {\n",
       "        vertical-align: top;\n",
       "    }\n",
       "\n",
       "    .dataframe thead th {\n",
       "        text-align: right;\n",
       "    }\n",
       "</style>\n",
       "<table border=\"1\" class=\"dataframe\">\n",
       "  <thead>\n",
       "    <tr style=\"text-align: right;\">\n",
       "      <th></th>\n",
       "      <th>tariff</th>\n",
       "      <th>full_months_number</th>\n",
       "      <th>first_month_count</th>\n",
       "      <th>second_month_count</th>\n",
       "      <th>third_month_count</th>\n",
       "      <th>fourth_month_count</th>\n",
       "      <th>fifth_month_count</th>\n",
       "      <th>sixth_month_count</th>\n",
       "      <th>seventh_month_count</th>\n",
       "      <th>total_count</th>\n",
       "      <th>eighth_month_count</th>\n",
       "      <th>ninth_month_count</th>\n",
       "      <th>tenth_month_count</th>\n",
       "      <th>eleventh_month_count</th>\n",
       "      <th>twelfth_month_count</th>\n",
       "    </tr>\n",
       "    <tr>\n",
       "      <th>user_id</th>\n",
       "      <th></th>\n",
       "      <th></th>\n",
       "      <th></th>\n",
       "      <th></th>\n",
       "      <th></th>\n",
       "      <th></th>\n",
       "      <th></th>\n",
       "      <th></th>\n",
       "      <th></th>\n",
       "      <th></th>\n",
       "      <th></th>\n",
       "      <th></th>\n",
       "      <th></th>\n",
       "      <th></th>\n",
       "      <th></th>\n",
       "    </tr>\n",
       "  </thead>\n",
       "  <tbody>\n",
       "    <tr>\n",
       "      <th>1000</th>\n",
       "      <td>ultra</td>\n",
       "      <td>7</td>\n",
       "      <td>14.0</td>\n",
       "      <td>11.0</td>\n",
       "      <td>10.0</td>\n",
       "      <td>8.0</td>\n",
       "      <td>14.0</td>\n",
       "      <td>7.0</td>\n",
       "      <td>10.0</td>\n",
       "      <td>75.0</td>\n",
       "      <td>NaN</td>\n",
       "      <td>NaN</td>\n",
       "      <td>NaN</td>\n",
       "      <td>NaN</td>\n",
       "      <td>NaN</td>\n",
       "    </tr>\n",
       "    <tr>\n",
       "      <th>1001</th>\n",
       "      <td>smart</td>\n",
       "      <td>2</td>\n",
       "      <td>14.0</td>\n",
       "      <td>16.0</td>\n",
       "      <td>NaN</td>\n",
       "      <td>NaN</td>\n",
       "      <td>NaN</td>\n",
       "      <td>NaN</td>\n",
       "      <td>NaN</td>\n",
       "      <td>30.0</td>\n",
       "      <td>NaN</td>\n",
       "      <td>NaN</td>\n",
       "      <td>NaN</td>\n",
       "      <td>NaN</td>\n",
       "      <td>NaN</td>\n",
       "    </tr>\n",
       "    <tr>\n",
       "      <th>1002</th>\n",
       "      <td>smart</td>\n",
       "      <td>6</td>\n",
       "      <td>4.0</td>\n",
       "      <td>4.0</td>\n",
       "      <td>11.0</td>\n",
       "      <td>9.0</td>\n",
       "      <td>8.0</td>\n",
       "      <td>4.0</td>\n",
       "      <td>NaN</td>\n",
       "      <td>44.0</td>\n",
       "      <td>NaN</td>\n",
       "      <td>NaN</td>\n",
       "      <td>NaN</td>\n",
       "      <td>NaN</td>\n",
       "      <td>NaN</td>\n",
       "    </tr>\n",
       "    <tr>\n",
       "      <th>1003</th>\n",
       "      <td>ultra</td>\n",
       "      <td>4</td>\n",
       "      <td>28.0</td>\n",
       "      <td>17.0</td>\n",
       "      <td>14.0</td>\n",
       "      <td>18.0</td>\n",
       "      <td>NaN</td>\n",
       "      <td>NaN</td>\n",
       "      <td>NaN</td>\n",
       "      <td>92.0</td>\n",
       "      <td>NaN</td>\n",
       "      <td>NaN</td>\n",
       "      <td>NaN</td>\n",
       "      <td>NaN</td>\n",
       "      <td>NaN</td>\n",
       "    </tr>\n",
       "    <tr>\n",
       "      <th>1004</th>\n",
       "      <td>ultra</td>\n",
       "      <td>7</td>\n",
       "      <td>6.0</td>\n",
       "      <td>3.0</td>\n",
       "      <td>2.0</td>\n",
       "      <td>3.0</td>\n",
       "      <td>7.0</td>\n",
       "      <td>8.0</td>\n",
       "      <td>6.0</td>\n",
       "      <td>37.0</td>\n",
       "      <td>NaN</td>\n",
       "      <td>NaN</td>\n",
       "      <td>NaN</td>\n",
       "      <td>NaN</td>\n",
       "      <td>NaN</td>\n",
       "    </tr>\n",
       "    <tr>\n",
       "      <th>...</th>\n",
       "      <td>...</td>\n",
       "      <td>...</td>\n",
       "      <td>...</td>\n",
       "      <td>...</td>\n",
       "      <td>...</td>\n",
       "      <td>...</td>\n",
       "      <td>...</td>\n",
       "      <td>...</td>\n",
       "      <td>...</td>\n",
       "      <td>...</td>\n",
       "      <td>...</td>\n",
       "      <td>...</td>\n",
       "      <td>...</td>\n",
       "      <td>...</td>\n",
       "      <td>...</td>\n",
       "    </tr>\n",
       "    <tr>\n",
       "      <th>1495</th>\n",
       "      <td>ultra</td>\n",
       "      <td>4</td>\n",
       "      <td>18.0</td>\n",
       "      <td>25.0</td>\n",
       "      <td>21.0</td>\n",
       "      <td>30.0</td>\n",
       "      <td>NaN</td>\n",
       "      <td>NaN</td>\n",
       "      <td>NaN</td>\n",
       "      <td>99.0</td>\n",
       "      <td>NaN</td>\n",
       "      <td>NaN</td>\n",
       "      <td>NaN</td>\n",
       "      <td>NaN</td>\n",
       "      <td>NaN</td>\n",
       "    </tr>\n",
       "    <tr>\n",
       "      <th>1496</th>\n",
       "      <td>smart</td>\n",
       "      <td>11</td>\n",
       "      <td>12.0</td>\n",
       "      <td>9.0</td>\n",
       "      <td>18.0</td>\n",
       "      <td>11.0</td>\n",
       "      <td>20.0</td>\n",
       "      <td>6.0</td>\n",
       "      <td>25.0</td>\n",
       "      <td>161.0</td>\n",
       "      <td>14.0</td>\n",
       "      <td>14.0</td>\n",
       "      <td>15.0</td>\n",
       "      <td>14.0</td>\n",
       "      <td>NaN</td>\n",
       "    </tr>\n",
       "    <tr>\n",
       "      <th>1497</th>\n",
       "      <td>smart</td>\n",
       "      <td>2</td>\n",
       "      <td>19.0</td>\n",
       "      <td>16.0</td>\n",
       "      <td>NaN</td>\n",
       "      <td>NaN</td>\n",
       "      <td>NaN</td>\n",
       "      <td>NaN</td>\n",
       "      <td>NaN</td>\n",
       "      <td>45.0</td>\n",
       "      <td>NaN</td>\n",
       "      <td>NaN</td>\n",
       "      <td>NaN</td>\n",
       "      <td>NaN</td>\n",
       "      <td>NaN</td>\n",
       "    </tr>\n",
       "    <tr>\n",
       "      <th>1498</th>\n",
       "      <td>smart</td>\n",
       "      <td>3</td>\n",
       "      <td>7.0</td>\n",
       "      <td>14.0</td>\n",
       "      <td>10.0</td>\n",
       "      <td>NaN</td>\n",
       "      <td>NaN</td>\n",
       "      <td>NaN</td>\n",
       "      <td>NaN</td>\n",
       "      <td>34.0</td>\n",
       "      <td>NaN</td>\n",
       "      <td>NaN</td>\n",
       "      <td>NaN</td>\n",
       "      <td>NaN</td>\n",
       "      <td>NaN</td>\n",
       "    </tr>\n",
       "    <tr>\n",
       "      <th>1499</th>\n",
       "      <td>smart</td>\n",
       "      <td>3</td>\n",
       "      <td>21.0</td>\n",
       "      <td>16.0</td>\n",
       "      <td>10.0</td>\n",
       "      <td>NaN</td>\n",
       "      <td>NaN</td>\n",
       "      <td>NaN</td>\n",
       "      <td>NaN</td>\n",
       "      <td>50.0</td>\n",
       "      <td>NaN</td>\n",
       "      <td>NaN</td>\n",
       "      <td>NaN</td>\n",
       "      <td>NaN</td>\n",
       "      <td>NaN</td>\n",
       "    </tr>\n",
       "  </tbody>\n",
       "</table>\n",
       "<p>500 rows × 15 columns</p>\n",
       "</div>"
      ],
      "text/plain": [
       "        tariff  full_months_number  first_month_count  second_month_count  \\\n",
       "user_id                                                                     \n",
       "1000     ultra                   7               14.0                11.0   \n",
       "1001     smart                   2               14.0                16.0   \n",
       "1002     smart                   6                4.0                 4.0   \n",
       "1003     ultra                   4               28.0                17.0   \n",
       "1004     ultra                   7                6.0                 3.0   \n",
       "...        ...                 ...                ...                 ...   \n",
       "1495     ultra                   4               18.0                25.0   \n",
       "1496     smart                  11               12.0                 9.0   \n",
       "1497     smart                   2               19.0                16.0   \n",
       "1498     smart                   3                7.0                14.0   \n",
       "1499     smart                   3               21.0                16.0   \n",
       "\n",
       "         third_month_count  fourth_month_count  fifth_month_count  \\\n",
       "user_id                                                             \n",
       "1000                  10.0                 8.0               14.0   \n",
       "1001                   NaN                 NaN                NaN   \n",
       "1002                  11.0                 9.0                8.0   \n",
       "1003                  14.0                18.0                NaN   \n",
       "1004                   2.0                 3.0                7.0   \n",
       "...                    ...                 ...                ...   \n",
       "1495                  21.0                30.0                NaN   \n",
       "1496                  18.0                11.0               20.0   \n",
       "1497                   NaN                 NaN                NaN   \n",
       "1498                  10.0                 NaN                NaN   \n",
       "1499                  10.0                 NaN                NaN   \n",
       "\n",
       "         sixth_month_count  seventh_month_count  total_count  \\\n",
       "user_id                                                        \n",
       "1000                   7.0                 10.0         75.0   \n",
       "1001                   NaN                  NaN         30.0   \n",
       "1002                   4.0                  NaN         44.0   \n",
       "1003                   NaN                  NaN         92.0   \n",
       "1004                   8.0                  6.0         37.0   \n",
       "...                    ...                  ...          ...   \n",
       "1495                   NaN                  NaN         99.0   \n",
       "1496                   6.0                 25.0        161.0   \n",
       "1497                   NaN                  NaN         45.0   \n",
       "1498                   NaN                  NaN         34.0   \n",
       "1499                   NaN                  NaN         50.0   \n",
       "\n",
       "         eighth_month_count  ninth_month_count  tenth_month_count  \\\n",
       "user_id                                                             \n",
       "1000                    NaN                NaN                NaN   \n",
       "1001                    NaN                NaN                NaN   \n",
       "1002                    NaN                NaN                NaN   \n",
       "1003                    NaN                NaN                NaN   \n",
       "1004                    NaN                NaN                NaN   \n",
       "...                     ...                ...                ...   \n",
       "1495                    NaN                NaN                NaN   \n",
       "1496                   14.0               14.0               15.0   \n",
       "1497                    NaN                NaN                NaN   \n",
       "1498                    NaN                NaN                NaN   \n",
       "1499                    NaN                NaN                NaN   \n",
       "\n",
       "         eleventh_month_count  twelfth_month_count  \n",
       "user_id                                             \n",
       "1000                      NaN                  NaN  \n",
       "1001                      NaN                  NaN  \n",
       "1002                      NaN                  NaN  \n",
       "1003                      NaN                  NaN  \n",
       "1004                      NaN                  NaN  \n",
       "...                       ...                  ...  \n",
       "1495                      NaN                  NaN  \n",
       "1496                     14.0                  NaN  \n",
       "1497                      NaN                  NaN  \n",
       "1498                      NaN                  NaN  \n",
       "1499                      NaN                  NaN  \n",
       "\n",
       "[500 rows x 15 columns]"
      ]
     },
     "execution_count": 31,
     "metadata": {},
     "output_type": "execute_result"
    }
   ],
   "source": [
    "df_missed_calls_by_month = per_month(df_calls[df_calls['duration'] == 0], 'duration', False)\n",
    "df_missed_calls_by_month"
   ]
  },
  {
   "cell_type": "markdown",
   "metadata": {},
   "source": [
    "Со звонками все понятно, разберемся с интернет-траффиком:"
   ]
  },
  {
   "cell_type": "code",
   "execution_count": 32,
   "metadata": {},
   "outputs": [
    {
     "data": {
      "text/html": [
       "<div>\n",
       "<style scoped>\n",
       "    .dataframe tbody tr th:only-of-type {\n",
       "        vertical-align: middle;\n",
       "    }\n",
       "\n",
       "    .dataframe tbody tr th {\n",
       "        vertical-align: top;\n",
       "    }\n",
       "\n",
       "    .dataframe thead th {\n",
       "        text-align: right;\n",
       "    }\n",
       "</style>\n",
       "<table border=\"1\" class=\"dataframe\">\n",
       "  <thead>\n",
       "    <tr style=\"text-align: right;\">\n",
       "      <th></th>\n",
       "      <th>tariff</th>\n",
       "      <th>full_months_number</th>\n",
       "      <th>first_month_count</th>\n",
       "      <th>first_month_sum</th>\n",
       "      <th>second_month_count</th>\n",
       "      <th>second_month_sum</th>\n",
       "      <th>third_month_count</th>\n",
       "      <th>third_month_sum</th>\n",
       "      <th>fourth_month_count</th>\n",
       "      <th>fourth_month_sum</th>\n",
       "      <th>...</th>\n",
       "      <th>eighth_month_count</th>\n",
       "      <th>eighth_month_sum</th>\n",
       "      <th>ninth_month_count</th>\n",
       "      <th>ninth_month_sum</th>\n",
       "      <th>tenth_month_count</th>\n",
       "      <th>tenth_month_sum</th>\n",
       "      <th>eleventh_month_count</th>\n",
       "      <th>eleventh_month_sum</th>\n",
       "      <th>twelfth_month_count</th>\n",
       "      <th>twelfth_month_sum</th>\n",
       "    </tr>\n",
       "    <tr>\n",
       "      <th>user_id</th>\n",
       "      <th></th>\n",
       "      <th></th>\n",
       "      <th></th>\n",
       "      <th></th>\n",
       "      <th></th>\n",
       "      <th></th>\n",
       "      <th></th>\n",
       "      <th></th>\n",
       "      <th></th>\n",
       "      <th></th>\n",
       "      <th></th>\n",
       "      <th></th>\n",
       "      <th></th>\n",
       "      <th></th>\n",
       "      <th></th>\n",
       "      <th></th>\n",
       "      <th></th>\n",
       "      <th></th>\n",
       "      <th></th>\n",
       "      <th></th>\n",
       "      <th></th>\n",
       "    </tr>\n",
       "  </thead>\n",
       "  <tbody>\n",
       "    <tr>\n",
       "      <th>1000</th>\n",
       "      <td>ultra</td>\n",
       "      <td>7</td>\n",
       "      <td>40.0</td>\n",
       "      <td>17821.04</td>\n",
       "      <td>36.0</td>\n",
       "      <td>18727.60</td>\n",
       "      <td>26.0</td>\n",
       "      <td>11440.52</td>\n",
       "      <td>32.0</td>\n",
       "      <td>17144.44</td>\n",
       "      <td>...</td>\n",
       "      <td>NaN</td>\n",
       "      <td>NaN</td>\n",
       "      <td>NaN</td>\n",
       "      <td>NaN</td>\n",
       "      <td>NaN</td>\n",
       "      <td>NaN</td>\n",
       "      <td>NaN</td>\n",
       "      <td>NaN</td>\n",
       "      <td>NaN</td>\n",
       "      <td>NaN</td>\n",
       "    </tr>\n",
       "    <tr>\n",
       "      <th>1001</th>\n",
       "      <td>smart</td>\n",
       "      <td>2</td>\n",
       "      <td>55.0</td>\n",
       "      <td>18429.34</td>\n",
       "      <td>41.0</td>\n",
       "      <td>14036.66</td>\n",
       "      <td>NaN</td>\n",
       "      <td>NaN</td>\n",
       "      <td>NaN</td>\n",
       "      <td>NaN</td>\n",
       "      <td>...</td>\n",
       "      <td>NaN</td>\n",
       "      <td>NaN</td>\n",
       "      <td>NaN</td>\n",
       "      <td>NaN</td>\n",
       "      <td>NaN</td>\n",
       "      <td>NaN</td>\n",
       "      <td>NaN</td>\n",
       "      <td>NaN</td>\n",
       "      <td>NaN</td>\n",
       "      <td>NaN</td>\n",
       "    </tr>\n",
       "    <tr>\n",
       "      <th>1002</th>\n",
       "      <td>smart</td>\n",
       "      <td>6</td>\n",
       "      <td>62.0</td>\n",
       "      <td>19275.09</td>\n",
       "      <td>57.0</td>\n",
       "      <td>16909.50</td>\n",
       "      <td>64.0</td>\n",
       "      <td>21135.63</td>\n",
       "      <td>41.0</td>\n",
       "      <td>12799.53</td>\n",
       "      <td>...</td>\n",
       "      <td>NaN</td>\n",
       "      <td>NaN</td>\n",
       "      <td>NaN</td>\n",
       "      <td>NaN</td>\n",
       "      <td>NaN</td>\n",
       "      <td>NaN</td>\n",
       "      <td>NaN</td>\n",
       "      <td>NaN</td>\n",
       "      <td>NaN</td>\n",
       "      <td>NaN</td>\n",
       "    </tr>\n",
       "    <tr>\n",
       "      <th>1003</th>\n",
       "      <td>ultra</td>\n",
       "      <td>4</td>\n",
       "      <td>23.0</td>\n",
       "      <td>11958.23</td>\n",
       "      <td>24.0</td>\n",
       "      <td>16425.59</td>\n",
       "      <td>31.0</td>\n",
       "      <td>16102.61</td>\n",
       "      <td>15.0</td>\n",
       "      <td>6814.97</td>\n",
       "      <td>...</td>\n",
       "      <td>NaN</td>\n",
       "      <td>NaN</td>\n",
       "      <td>NaN</td>\n",
       "      <td>NaN</td>\n",
       "      <td>NaN</td>\n",
       "      <td>NaN</td>\n",
       "      <td>NaN</td>\n",
       "      <td>NaN</td>\n",
       "      <td>NaN</td>\n",
       "      <td>NaN</td>\n",
       "    </tr>\n",
       "    <tr>\n",
       "      <th>1004</th>\n",
       "      <td>ultra</td>\n",
       "      <td>7</td>\n",
       "      <td>40.0</td>\n",
       "      <td>20602.05</td>\n",
       "      <td>36.0</td>\n",
       "      <td>19906.94</td>\n",
       "      <td>38.0</td>\n",
       "      <td>25339.45</td>\n",
       "      <td>47.0</td>\n",
       "      <td>22305.11</td>\n",
       "      <td>...</td>\n",
       "      <td>NaN</td>\n",
       "      <td>NaN</td>\n",
       "      <td>NaN</td>\n",
       "      <td>NaN</td>\n",
       "      <td>NaN</td>\n",
       "      <td>NaN</td>\n",
       "      <td>NaN</td>\n",
       "      <td>NaN</td>\n",
       "      <td>NaN</td>\n",
       "      <td>NaN</td>\n",
       "    </tr>\n",
       "    <tr>\n",
       "      <th>...</th>\n",
       "      <td>...</td>\n",
       "      <td>...</td>\n",
       "      <td>...</td>\n",
       "      <td>...</td>\n",
       "      <td>...</td>\n",
       "      <td>...</td>\n",
       "      <td>...</td>\n",
       "      <td>...</td>\n",
       "      <td>...</td>\n",
       "      <td>...</td>\n",
       "      <td>...</td>\n",
       "      <td>...</td>\n",
       "      <td>...</td>\n",
       "      <td>...</td>\n",
       "      <td>...</td>\n",
       "      <td>...</td>\n",
       "      <td>...</td>\n",
       "      <td>...</td>\n",
       "      <td>...</td>\n",
       "      <td>...</td>\n",
       "      <td>...</td>\n",
       "    </tr>\n",
       "    <tr>\n",
       "      <th>1495</th>\n",
       "      <td>ultra</td>\n",
       "      <td>4</td>\n",
       "      <td>63.0</td>\n",
       "      <td>30357.99</td>\n",
       "      <td>61.0</td>\n",
       "      <td>27542.36</td>\n",
       "      <td>75.0</td>\n",
       "      <td>42785.53</td>\n",
       "      <td>48.0</td>\n",
       "      <td>22235.34</td>\n",
       "      <td>...</td>\n",
       "      <td>NaN</td>\n",
       "      <td>NaN</td>\n",
       "      <td>NaN</td>\n",
       "      <td>NaN</td>\n",
       "      <td>NaN</td>\n",
       "      <td>NaN</td>\n",
       "      <td>NaN</td>\n",
       "      <td>NaN</td>\n",
       "      <td>NaN</td>\n",
       "      <td>NaN</td>\n",
       "    </tr>\n",
       "    <tr>\n",
       "      <th>1496</th>\n",
       "      <td>smart</td>\n",
       "      <td>11</td>\n",
       "      <td>87.0</td>\n",
       "      <td>29162.65</td>\n",
       "      <td>70.0</td>\n",
       "      <td>23161.34</td>\n",
       "      <td>76.0</td>\n",
       "      <td>25102.64</td>\n",
       "      <td>68.0</td>\n",
       "      <td>21084.38</td>\n",
       "      <td>...</td>\n",
       "      <td>77.0</td>\n",
       "      <td>25844.34</td>\n",
       "      <td>85.0</td>\n",
       "      <td>29134.64</td>\n",
       "      <td>87.0</td>\n",
       "      <td>27239.76</td>\n",
       "      <td>64.0</td>\n",
       "      <td>17761.5</td>\n",
       "      <td>NaN</td>\n",
       "      <td>NaN</td>\n",
       "    </tr>\n",
       "    <tr>\n",
       "      <th>1497</th>\n",
       "      <td>smart</td>\n",
       "      <td>2</td>\n",
       "      <td>46.0</td>\n",
       "      <td>17254.73</td>\n",
       "      <td>39.0</td>\n",
       "      <td>14518.68</td>\n",
       "      <td>NaN</td>\n",
       "      <td>NaN</td>\n",
       "      <td>NaN</td>\n",
       "      <td>NaN</td>\n",
       "      <td>...</td>\n",
       "      <td>NaN</td>\n",
       "      <td>NaN</td>\n",
       "      <td>NaN</td>\n",
       "      <td>NaN</td>\n",
       "      <td>NaN</td>\n",
       "      <td>NaN</td>\n",
       "      <td>NaN</td>\n",
       "      <td>NaN</td>\n",
       "      <td>NaN</td>\n",
       "      <td>NaN</td>\n",
       "    </tr>\n",
       "    <tr>\n",
       "      <th>1498</th>\n",
       "      <td>smart</td>\n",
       "      <td>3</td>\n",
       "      <td>72.0</td>\n",
       "      <td>24181.54</td>\n",
       "      <td>66.0</td>\n",
       "      <td>20427.34</td>\n",
       "      <td>84.0</td>\n",
       "      <td>24761.12</td>\n",
       "      <td>NaN</td>\n",
       "      <td>NaN</td>\n",
       "      <td>...</td>\n",
       "      <td>NaN</td>\n",
       "      <td>NaN</td>\n",
       "      <td>NaN</td>\n",
       "      <td>NaN</td>\n",
       "      <td>NaN</td>\n",
       "      <td>NaN</td>\n",
       "      <td>NaN</td>\n",
       "      <td>NaN</td>\n",
       "      <td>NaN</td>\n",
       "      <td>NaN</td>\n",
       "    </tr>\n",
       "    <tr>\n",
       "      <th>1499</th>\n",
       "      <td>smart</td>\n",
       "      <td>3</td>\n",
       "      <td>54.0</td>\n",
       "      <td>17243.93</td>\n",
       "      <td>50.0</td>\n",
       "      <td>16670.19</td>\n",
       "      <td>47.0</td>\n",
       "      <td>15114.71</td>\n",
       "      <td>NaN</td>\n",
       "      <td>NaN</td>\n",
       "      <td>...</td>\n",
       "      <td>NaN</td>\n",
       "      <td>NaN</td>\n",
       "      <td>NaN</td>\n",
       "      <td>NaN</td>\n",
       "      <td>NaN</td>\n",
       "      <td>NaN</td>\n",
       "      <td>NaN</td>\n",
       "      <td>NaN</td>\n",
       "      <td>NaN</td>\n",
       "      <td>NaN</td>\n",
       "    </tr>\n",
       "  </tbody>\n",
       "</table>\n",
       "<p>500 rows × 28 columns</p>\n",
       "</div>"
      ],
      "text/plain": [
       "        tariff  full_months_number  first_month_count  first_month_sum  \\\n",
       "user_id                                                                  \n",
       "1000     ultra                   7               40.0         17821.04   \n",
       "1001     smart                   2               55.0         18429.34   \n",
       "1002     smart                   6               62.0         19275.09   \n",
       "1003     ultra                   4               23.0         11958.23   \n",
       "1004     ultra                   7               40.0         20602.05   \n",
       "...        ...                 ...                ...              ...   \n",
       "1495     ultra                   4               63.0         30357.99   \n",
       "1496     smart                  11               87.0         29162.65   \n",
       "1497     smart                   2               46.0         17254.73   \n",
       "1498     smart                   3               72.0         24181.54   \n",
       "1499     smart                   3               54.0         17243.93   \n",
       "\n",
       "         second_month_count  second_month_sum  third_month_count  \\\n",
       "user_id                                                            \n",
       "1000                   36.0          18727.60               26.0   \n",
       "1001                   41.0          14036.66                NaN   \n",
       "1002                   57.0          16909.50               64.0   \n",
       "1003                   24.0          16425.59               31.0   \n",
       "1004                   36.0          19906.94               38.0   \n",
       "...                     ...               ...                ...   \n",
       "1495                   61.0          27542.36               75.0   \n",
       "1496                   70.0          23161.34               76.0   \n",
       "1497                   39.0          14518.68                NaN   \n",
       "1498                   66.0          20427.34               84.0   \n",
       "1499                   50.0          16670.19               47.0   \n",
       "\n",
       "         third_month_sum  fourth_month_count  fourth_month_sum  ...  \\\n",
       "user_id                                                         ...   \n",
       "1000            11440.52                32.0          17144.44  ...   \n",
       "1001                 NaN                 NaN               NaN  ...   \n",
       "1002            21135.63                41.0          12799.53  ...   \n",
       "1003            16102.61                15.0           6814.97  ...   \n",
       "1004            25339.45                47.0          22305.11  ...   \n",
       "...                  ...                 ...               ...  ...   \n",
       "1495            42785.53                48.0          22235.34  ...   \n",
       "1496            25102.64                68.0          21084.38  ...   \n",
       "1497                 NaN                 NaN               NaN  ...   \n",
       "1498            24761.12                 NaN               NaN  ...   \n",
       "1499            15114.71                 NaN               NaN  ...   \n",
       "\n",
       "         eighth_month_count  eighth_month_sum  ninth_month_count  \\\n",
       "user_id                                                            \n",
       "1000                    NaN               NaN                NaN   \n",
       "1001                    NaN               NaN                NaN   \n",
       "1002                    NaN               NaN                NaN   \n",
       "1003                    NaN               NaN                NaN   \n",
       "1004                    NaN               NaN                NaN   \n",
       "...                     ...               ...                ...   \n",
       "1495                    NaN               NaN                NaN   \n",
       "1496                   77.0          25844.34               85.0   \n",
       "1497                    NaN               NaN                NaN   \n",
       "1498                    NaN               NaN                NaN   \n",
       "1499                    NaN               NaN                NaN   \n",
       "\n",
       "         ninth_month_sum  tenth_month_count  tenth_month_sum  \\\n",
       "user_id                                                        \n",
       "1000                 NaN                NaN              NaN   \n",
       "1001                 NaN                NaN              NaN   \n",
       "1002                 NaN                NaN              NaN   \n",
       "1003                 NaN                NaN              NaN   \n",
       "1004                 NaN                NaN              NaN   \n",
       "...                  ...                ...              ...   \n",
       "1495                 NaN                NaN              NaN   \n",
       "1496            29134.64               87.0         27239.76   \n",
       "1497                 NaN                NaN              NaN   \n",
       "1498                 NaN                NaN              NaN   \n",
       "1499                 NaN                NaN              NaN   \n",
       "\n",
       "         eleventh_month_count  eleventh_month_sum  twelfth_month_count  \\\n",
       "user_id                                                                  \n",
       "1000                      NaN                 NaN                  NaN   \n",
       "1001                      NaN                 NaN                  NaN   \n",
       "1002                      NaN                 NaN                  NaN   \n",
       "1003                      NaN                 NaN                  NaN   \n",
       "1004                      NaN                 NaN                  NaN   \n",
       "...                       ...                 ...                  ...   \n",
       "1495                      NaN                 NaN                  NaN   \n",
       "1496                     64.0             17761.5                  NaN   \n",
       "1497                      NaN                 NaN                  NaN   \n",
       "1498                      NaN                 NaN                  NaN   \n",
       "1499                      NaN                 NaN                  NaN   \n",
       "\n",
       "         twelfth_month_sum  \n",
       "user_id                     \n",
       "1000                   NaN  \n",
       "1001                   NaN  \n",
       "1002                   NaN  \n",
       "1003                   NaN  \n",
       "1004                   NaN  \n",
       "...                    ...  \n",
       "1495                   NaN  \n",
       "1496                   NaN  \n",
       "1497                   NaN  \n",
       "1498                   NaN  \n",
       "1499                   NaN  \n",
       "\n",
       "[500 rows x 28 columns]"
      ]
     },
     "execution_count": 32,
     "metadata": {},
     "output_type": "execute_result"
    }
   ],
   "source": [
    "df_internet_by_month = per_month(df_internet, 'mb_used', True)\n",
    "df_internet_by_month"
   ]
  },
  {
   "cell_type": "markdown",
   "metadata": {},
   "source": [
    "Ну и раз уж на то пошло, то посчитаем еще сессии с нулевым траффиком:"
   ]
  },
  {
   "cell_type": "code",
   "execution_count": 33,
   "metadata": {},
   "outputs": [
    {
     "data": {
      "text/html": [
       "<div>\n",
       "<style scoped>\n",
       "    .dataframe tbody tr th:only-of-type {\n",
       "        vertical-align: middle;\n",
       "    }\n",
       "\n",
       "    .dataframe tbody tr th {\n",
       "        vertical-align: top;\n",
       "    }\n",
       "\n",
       "    .dataframe thead th {\n",
       "        text-align: right;\n",
       "    }\n",
       "</style>\n",
       "<table border=\"1\" class=\"dataframe\">\n",
       "  <thead>\n",
       "    <tr style=\"text-align: right;\">\n",
       "      <th></th>\n",
       "      <th>tariff</th>\n",
       "      <th>full_months_number</th>\n",
       "      <th>first_month_count</th>\n",
       "      <th>second_month_count</th>\n",
       "      <th>third_month_count</th>\n",
       "      <th>fourth_month_count</th>\n",
       "      <th>fifth_month_count</th>\n",
       "      <th>sixth_month_count</th>\n",
       "      <th>seventh_month_count</th>\n",
       "      <th>total_count</th>\n",
       "      <th>eighth_month_count</th>\n",
       "      <th>ninth_month_count</th>\n",
       "      <th>tenth_month_count</th>\n",
       "      <th>eleventh_month_count</th>\n",
       "      <th>twelfth_month_count</th>\n",
       "    </tr>\n",
       "    <tr>\n",
       "      <th>user_id</th>\n",
       "      <th></th>\n",
       "      <th></th>\n",
       "      <th></th>\n",
       "      <th></th>\n",
       "      <th></th>\n",
       "      <th></th>\n",
       "      <th></th>\n",
       "      <th></th>\n",
       "      <th></th>\n",
       "      <th></th>\n",
       "      <th></th>\n",
       "      <th></th>\n",
       "      <th></th>\n",
       "      <th></th>\n",
       "      <th></th>\n",
       "    </tr>\n",
       "  </thead>\n",
       "  <tbody>\n",
       "    <tr>\n",
       "      <th>1000</th>\n",
       "      <td>ultra</td>\n",
       "      <td>7</td>\n",
       "      <td>5.0</td>\n",
       "      <td>2.0</td>\n",
       "      <td>1.0</td>\n",
       "      <td>3.0</td>\n",
       "      <td>0.0</td>\n",
       "      <td>0.0</td>\n",
       "      <td>2.0</td>\n",
       "      <td>14.0</td>\n",
       "      <td>NaN</td>\n",
       "      <td>NaN</td>\n",
       "      <td>NaN</td>\n",
       "      <td>NaN</td>\n",
       "      <td>NaN</td>\n",
       "    </tr>\n",
       "    <tr>\n",
       "      <th>1001</th>\n",
       "      <td>smart</td>\n",
       "      <td>2</td>\n",
       "      <td>8.0</td>\n",
       "      <td>6.0</td>\n",
       "      <td>NaN</td>\n",
       "      <td>NaN</td>\n",
       "      <td>NaN</td>\n",
       "      <td>NaN</td>\n",
       "      <td>NaN</td>\n",
       "      <td>14.0</td>\n",
       "      <td>NaN</td>\n",
       "      <td>NaN</td>\n",
       "      <td>NaN</td>\n",
       "      <td>NaN</td>\n",
       "      <td>NaN</td>\n",
       "    </tr>\n",
       "    <tr>\n",
       "      <th>1002</th>\n",
       "      <td>smart</td>\n",
       "      <td>6</td>\n",
       "      <td>15.0</td>\n",
       "      <td>12.0</td>\n",
       "      <td>12.0</td>\n",
       "      <td>8.0</td>\n",
       "      <td>9.0</td>\n",
       "      <td>13.0</td>\n",
       "      <td>NaN</td>\n",
       "      <td>72.0</td>\n",
       "      <td>NaN</td>\n",
       "      <td>NaN</td>\n",
       "      <td>NaN</td>\n",
       "      <td>NaN</td>\n",
       "      <td>NaN</td>\n",
       "    </tr>\n",
       "    <tr>\n",
       "      <th>1003</th>\n",
       "      <td>ultra</td>\n",
       "      <td>4</td>\n",
       "      <td>1.0</td>\n",
       "      <td>0.0</td>\n",
       "      <td>1.0</td>\n",
       "      <td>0.0</td>\n",
       "      <td>NaN</td>\n",
       "      <td>NaN</td>\n",
       "      <td>NaN</td>\n",
       "      <td>2.0</td>\n",
       "      <td>NaN</td>\n",
       "      <td>NaN</td>\n",
       "      <td>NaN</td>\n",
       "      <td>NaN</td>\n",
       "      <td>NaN</td>\n",
       "    </tr>\n",
       "    <tr>\n",
       "      <th>1004</th>\n",
       "      <td>ultra</td>\n",
       "      <td>7</td>\n",
       "      <td>1.0</td>\n",
       "      <td>3.0</td>\n",
       "      <td>2.0</td>\n",
       "      <td>4.0</td>\n",
       "      <td>4.0</td>\n",
       "      <td>3.0</td>\n",
       "      <td>3.0</td>\n",
       "      <td>22.0</td>\n",
       "      <td>NaN</td>\n",
       "      <td>NaN</td>\n",
       "      <td>NaN</td>\n",
       "      <td>NaN</td>\n",
       "      <td>NaN</td>\n",
       "    </tr>\n",
       "    <tr>\n",
       "      <th>...</th>\n",
       "      <td>...</td>\n",
       "      <td>...</td>\n",
       "      <td>...</td>\n",
       "      <td>...</td>\n",
       "      <td>...</td>\n",
       "      <td>...</td>\n",
       "      <td>...</td>\n",
       "      <td>...</td>\n",
       "      <td>...</td>\n",
       "      <td>...</td>\n",
       "      <td>...</td>\n",
       "      <td>...</td>\n",
       "      <td>...</td>\n",
       "      <td>...</td>\n",
       "      <td>...</td>\n",
       "    </tr>\n",
       "    <tr>\n",
       "      <th>1495</th>\n",
       "      <td>ultra</td>\n",
       "      <td>4</td>\n",
       "      <td>2.0</td>\n",
       "      <td>6.0</td>\n",
       "      <td>1.0</td>\n",
       "      <td>1.0</td>\n",
       "      <td>NaN</td>\n",
       "      <td>NaN</td>\n",
       "      <td>NaN</td>\n",
       "      <td>10.0</td>\n",
       "      <td>NaN</td>\n",
       "      <td>NaN</td>\n",
       "      <td>NaN</td>\n",
       "      <td>NaN</td>\n",
       "      <td>NaN</td>\n",
       "    </tr>\n",
       "    <tr>\n",
       "      <th>1496</th>\n",
       "      <td>smart</td>\n",
       "      <td>11</td>\n",
       "      <td>16.0</td>\n",
       "      <td>8.0</td>\n",
       "      <td>14.0</td>\n",
       "      <td>10.0</td>\n",
       "      <td>11.0</td>\n",
       "      <td>15.0</td>\n",
       "      <td>8.0</td>\n",
       "      <td>141.0</td>\n",
       "      <td>11.0</td>\n",
       "      <td>11.0</td>\n",
       "      <td>21.0</td>\n",
       "      <td>12.0</td>\n",
       "      <td>NaN</td>\n",
       "    </tr>\n",
       "    <tr>\n",
       "      <th>1497</th>\n",
       "      <td>smart</td>\n",
       "      <td>2</td>\n",
       "      <td>5.0</td>\n",
       "      <td>6.0</td>\n",
       "      <td>NaN</td>\n",
       "      <td>NaN</td>\n",
       "      <td>NaN</td>\n",
       "      <td>NaN</td>\n",
       "      <td>NaN</td>\n",
       "      <td>16.0</td>\n",
       "      <td>NaN</td>\n",
       "      <td>NaN</td>\n",
       "      <td>NaN</td>\n",
       "      <td>NaN</td>\n",
       "      <td>NaN</td>\n",
       "    </tr>\n",
       "    <tr>\n",
       "      <th>1498</th>\n",
       "      <td>smart</td>\n",
       "      <td>3</td>\n",
       "      <td>7.0</td>\n",
       "      <td>14.0</td>\n",
       "      <td>20.0</td>\n",
       "      <td>NaN</td>\n",
       "      <td>NaN</td>\n",
       "      <td>NaN</td>\n",
       "      <td>NaN</td>\n",
       "      <td>41.0</td>\n",
       "      <td>NaN</td>\n",
       "      <td>NaN</td>\n",
       "      <td>NaN</td>\n",
       "      <td>NaN</td>\n",
       "      <td>NaN</td>\n",
       "    </tr>\n",
       "    <tr>\n",
       "      <th>1499</th>\n",
       "      <td>smart</td>\n",
       "      <td>3</td>\n",
       "      <td>13.0</td>\n",
       "      <td>11.0</td>\n",
       "      <td>7.0</td>\n",
       "      <td>NaN</td>\n",
       "      <td>NaN</td>\n",
       "      <td>NaN</td>\n",
       "      <td>NaN</td>\n",
       "      <td>31.0</td>\n",
       "      <td>NaN</td>\n",
       "      <td>NaN</td>\n",
       "      <td>NaN</td>\n",
       "      <td>NaN</td>\n",
       "      <td>NaN</td>\n",
       "    </tr>\n",
       "  </tbody>\n",
       "</table>\n",
       "<p>500 rows × 15 columns</p>\n",
       "</div>"
      ],
      "text/plain": [
       "        tariff  full_months_number  first_month_count  second_month_count  \\\n",
       "user_id                                                                     \n",
       "1000     ultra                   7                5.0                 2.0   \n",
       "1001     smart                   2                8.0                 6.0   \n",
       "1002     smart                   6               15.0                12.0   \n",
       "1003     ultra                   4                1.0                 0.0   \n",
       "1004     ultra                   7                1.0                 3.0   \n",
       "...        ...                 ...                ...                 ...   \n",
       "1495     ultra                   4                2.0                 6.0   \n",
       "1496     smart                  11               16.0                 8.0   \n",
       "1497     smart                   2                5.0                 6.0   \n",
       "1498     smart                   3                7.0                14.0   \n",
       "1499     smart                   3               13.0                11.0   \n",
       "\n",
       "         third_month_count  fourth_month_count  fifth_month_count  \\\n",
       "user_id                                                             \n",
       "1000                   1.0                 3.0                0.0   \n",
       "1001                   NaN                 NaN                NaN   \n",
       "1002                  12.0                 8.0                9.0   \n",
       "1003                   1.0                 0.0                NaN   \n",
       "1004                   2.0                 4.0                4.0   \n",
       "...                    ...                 ...                ...   \n",
       "1495                   1.0                 1.0                NaN   \n",
       "1496                  14.0                10.0               11.0   \n",
       "1497                   NaN                 NaN                NaN   \n",
       "1498                  20.0                 NaN                NaN   \n",
       "1499                   7.0                 NaN                NaN   \n",
       "\n",
       "         sixth_month_count  seventh_month_count  total_count  \\\n",
       "user_id                                                        \n",
       "1000                   0.0                  2.0         14.0   \n",
       "1001                   NaN                  NaN         14.0   \n",
       "1002                  13.0                  NaN         72.0   \n",
       "1003                   NaN                  NaN          2.0   \n",
       "1004                   3.0                  3.0         22.0   \n",
       "...                    ...                  ...          ...   \n",
       "1495                   NaN                  NaN         10.0   \n",
       "1496                  15.0                  8.0        141.0   \n",
       "1497                   NaN                  NaN         16.0   \n",
       "1498                   NaN                  NaN         41.0   \n",
       "1499                   NaN                  NaN         31.0   \n",
       "\n",
       "         eighth_month_count  ninth_month_count  tenth_month_count  \\\n",
       "user_id                                                             \n",
       "1000                    NaN                NaN                NaN   \n",
       "1001                    NaN                NaN                NaN   \n",
       "1002                    NaN                NaN                NaN   \n",
       "1003                    NaN                NaN                NaN   \n",
       "1004                    NaN                NaN                NaN   \n",
       "...                     ...                ...                ...   \n",
       "1495                    NaN                NaN                NaN   \n",
       "1496                   11.0               11.0               21.0   \n",
       "1497                    NaN                NaN                NaN   \n",
       "1498                    NaN                NaN                NaN   \n",
       "1499                    NaN                NaN                NaN   \n",
       "\n",
       "         eleventh_month_count  twelfth_month_count  \n",
       "user_id                                             \n",
       "1000                      NaN                  NaN  \n",
       "1001                      NaN                  NaN  \n",
       "1002                      NaN                  NaN  \n",
       "1003                      NaN                  NaN  \n",
       "1004                      NaN                  NaN  \n",
       "...                       ...                  ...  \n",
       "1495                      NaN                  NaN  \n",
       "1496                     12.0                  NaN  \n",
       "1497                      NaN                  NaN  \n",
       "1498                      NaN                  NaN  \n",
       "1499                      NaN                  NaN  \n",
       "\n",
       "[500 rows x 15 columns]"
      ]
     },
     "execution_count": 33,
     "metadata": {},
     "output_type": "execute_result"
    }
   ],
   "source": [
    "df_zero_ses_internet_by_month = per_month(df_internet[df_internet['mb_used'] == 0], 'mb_used', False)\n",
    "df_zero_ses_internet_by_month"
   ]
  },
  {
   "cell_type": "markdown",
   "metadata": {},
   "source": [
    "С интернетом все, остались сообщения:"
   ]
  },
  {
   "cell_type": "code",
   "execution_count": 34,
   "metadata": {
    "scrolled": false
   },
   "outputs": [
    {
     "data": {
      "text/html": [
       "<div>\n",
       "<style scoped>\n",
       "    .dataframe tbody tr th:only-of-type {\n",
       "        vertical-align: middle;\n",
       "    }\n",
       "\n",
       "    .dataframe tbody tr th {\n",
       "        vertical-align: top;\n",
       "    }\n",
       "\n",
       "    .dataframe thead th {\n",
       "        text-align: right;\n",
       "    }\n",
       "</style>\n",
       "<table border=\"1\" class=\"dataframe\">\n",
       "  <thead>\n",
       "    <tr style=\"text-align: right;\">\n",
       "      <th></th>\n",
       "      <th>tariff</th>\n",
       "      <th>full_months_number</th>\n",
       "      <th>first_month_count</th>\n",
       "      <th>second_month_count</th>\n",
       "      <th>third_month_count</th>\n",
       "      <th>fourth_month_count</th>\n",
       "      <th>fifth_month_count</th>\n",
       "      <th>sixth_month_count</th>\n",
       "      <th>seventh_month_count</th>\n",
       "      <th>total_count</th>\n",
       "      <th>eighth_month_count</th>\n",
       "      <th>ninth_month_count</th>\n",
       "      <th>tenth_month_count</th>\n",
       "      <th>eleventh_month_count</th>\n",
       "      <th>twelfth_month_count</th>\n",
       "    </tr>\n",
       "    <tr>\n",
       "      <th>user_id</th>\n",
       "      <th></th>\n",
       "      <th></th>\n",
       "      <th></th>\n",
       "      <th></th>\n",
       "      <th></th>\n",
       "      <th></th>\n",
       "      <th></th>\n",
       "      <th></th>\n",
       "      <th></th>\n",
       "      <th></th>\n",
       "      <th></th>\n",
       "      <th></th>\n",
       "      <th></th>\n",
       "      <th></th>\n",
       "      <th></th>\n",
       "    </tr>\n",
       "  </thead>\n",
       "  <tbody>\n",
       "    <tr>\n",
       "      <th>1000</th>\n",
       "      <td>ultra</td>\n",
       "      <td>7</td>\n",
       "      <td>63.0</td>\n",
       "      <td>70.0</td>\n",
       "      <td>81.0</td>\n",
       "      <td>74.0</td>\n",
       "      <td>56.0</td>\n",
       "      <td>70.0</td>\n",
       "      <td>69.0</td>\n",
       "      <td>496.0</td>\n",
       "      <td>NaN</td>\n",
       "      <td>NaN</td>\n",
       "      <td>NaN</td>\n",
       "      <td>NaN</td>\n",
       "      <td>NaN</td>\n",
       "    </tr>\n",
       "    <tr>\n",
       "      <th>1001</th>\n",
       "      <td>smart</td>\n",
       "      <td>2</td>\n",
       "      <td>0.0</td>\n",
       "      <td>0.0</td>\n",
       "      <td>NaN</td>\n",
       "      <td>NaN</td>\n",
       "      <td>NaN</td>\n",
       "      <td>NaN</td>\n",
       "      <td>NaN</td>\n",
       "      <td>0.0</td>\n",
       "      <td>NaN</td>\n",
       "      <td>NaN</td>\n",
       "      <td>NaN</td>\n",
       "      <td>NaN</td>\n",
       "      <td>NaN</td>\n",
       "    </tr>\n",
       "    <tr>\n",
       "      <th>1002</th>\n",
       "      <td>smart</td>\n",
       "      <td>6</td>\n",
       "      <td>8.0</td>\n",
       "      <td>14.0</td>\n",
       "      <td>8.0</td>\n",
       "      <td>6.0</td>\n",
       "      <td>13.0</td>\n",
       "      <td>17.0</td>\n",
       "      <td>NaN</td>\n",
       "      <td>70.0</td>\n",
       "      <td>NaN</td>\n",
       "      <td>NaN</td>\n",
       "      <td>NaN</td>\n",
       "      <td>NaN</td>\n",
       "      <td>NaN</td>\n",
       "    </tr>\n",
       "    <tr>\n",
       "      <th>1003</th>\n",
       "      <td>ultra</td>\n",
       "      <td>4</td>\n",
       "      <td>81.0</td>\n",
       "      <td>95.0</td>\n",
       "      <td>85.0</td>\n",
       "      <td>82.0</td>\n",
       "      <td>NaN</td>\n",
       "      <td>NaN</td>\n",
       "      <td>NaN</td>\n",
       "      <td>380.0</td>\n",
       "      <td>NaN</td>\n",
       "      <td>NaN</td>\n",
       "      <td>NaN</td>\n",
       "      <td>NaN</td>\n",
       "      <td>NaN</td>\n",
       "    </tr>\n",
       "    <tr>\n",
       "      <th>1004</th>\n",
       "      <td>ultra</td>\n",
       "      <td>7</td>\n",
       "      <td>154.0</td>\n",
       "      <td>155.0</td>\n",
       "      <td>163.0</td>\n",
       "      <td>160.0</td>\n",
       "      <td>141.0</td>\n",
       "      <td>165.0</td>\n",
       "      <td>170.0</td>\n",
       "      <td>1192.0</td>\n",
       "      <td>NaN</td>\n",
       "      <td>NaN</td>\n",
       "      <td>NaN</td>\n",
       "      <td>NaN</td>\n",
       "      <td>NaN</td>\n",
       "    </tr>\n",
       "    <tr>\n",
       "      <th>...</th>\n",
       "      <td>...</td>\n",
       "      <td>...</td>\n",
       "      <td>...</td>\n",
       "      <td>...</td>\n",
       "      <td>...</td>\n",
       "      <td>...</td>\n",
       "      <td>...</td>\n",
       "      <td>...</td>\n",
       "      <td>...</td>\n",
       "      <td>...</td>\n",
       "      <td>...</td>\n",
       "      <td>...</td>\n",
       "      <td>...</td>\n",
       "      <td>...</td>\n",
       "      <td>...</td>\n",
       "    </tr>\n",
       "    <tr>\n",
       "      <th>1495</th>\n",
       "      <td>ultra</td>\n",
       "      <td>4</td>\n",
       "      <td>81.0</td>\n",
       "      <td>89.0</td>\n",
       "      <td>80.0</td>\n",
       "      <td>75.0</td>\n",
       "      <td>NaN</td>\n",
       "      <td>NaN</td>\n",
       "      <td>NaN</td>\n",
       "      <td>340.0</td>\n",
       "      <td>NaN</td>\n",
       "      <td>NaN</td>\n",
       "      <td>NaN</td>\n",
       "      <td>NaN</td>\n",
       "      <td>NaN</td>\n",
       "    </tr>\n",
       "    <tr>\n",
       "      <th>1496</th>\n",
       "      <td>smart</td>\n",
       "      <td>11</td>\n",
       "      <td>50.0</td>\n",
       "      <td>43.0</td>\n",
       "      <td>46.0</td>\n",
       "      <td>46.0</td>\n",
       "      <td>36.0</td>\n",
       "      <td>36.0</td>\n",
       "      <td>43.0</td>\n",
       "      <td>468.0</td>\n",
       "      <td>34.0</td>\n",
       "      <td>33.0</td>\n",
       "      <td>41.0</td>\n",
       "      <td>53.0</td>\n",
       "      <td>NaN</td>\n",
       "    </tr>\n",
       "    <tr>\n",
       "      <th>1497</th>\n",
       "      <td>smart</td>\n",
       "      <td>2</td>\n",
       "      <td>22.0</td>\n",
       "      <td>16.0</td>\n",
       "      <td>NaN</td>\n",
       "      <td>NaN</td>\n",
       "      <td>NaN</td>\n",
       "      <td>NaN</td>\n",
       "      <td>NaN</td>\n",
       "      <td>51.0</td>\n",
       "      <td>NaN</td>\n",
       "      <td>NaN</td>\n",
       "      <td>NaN</td>\n",
       "      <td>NaN</td>\n",
       "      <td>NaN</td>\n",
       "    </tr>\n",
       "    <tr>\n",
       "      <th>1498</th>\n",
       "      <td>smart</td>\n",
       "      <td>3</td>\n",
       "      <td>53.0</td>\n",
       "      <td>50.0</td>\n",
       "      <td>57.0</td>\n",
       "      <td>NaN</td>\n",
       "      <td>NaN</td>\n",
       "      <td>NaN</td>\n",
       "      <td>NaN</td>\n",
       "      <td>168.0</td>\n",
       "      <td>NaN</td>\n",
       "      <td>NaN</td>\n",
       "      <td>NaN</td>\n",
       "      <td>NaN</td>\n",
       "      <td>NaN</td>\n",
       "    </tr>\n",
       "    <tr>\n",
       "      <th>1499</th>\n",
       "      <td>smart</td>\n",
       "      <td>3</td>\n",
       "      <td>52.0</td>\n",
       "      <td>60.0</td>\n",
       "      <td>64.0</td>\n",
       "      <td>NaN</td>\n",
       "      <td>NaN</td>\n",
       "      <td>NaN</td>\n",
       "      <td>NaN</td>\n",
       "      <td>184.0</td>\n",
       "      <td>NaN</td>\n",
       "      <td>NaN</td>\n",
       "      <td>NaN</td>\n",
       "      <td>NaN</td>\n",
       "      <td>NaN</td>\n",
       "    </tr>\n",
       "  </tbody>\n",
       "</table>\n",
       "<p>500 rows × 15 columns</p>\n",
       "</div>"
      ],
      "text/plain": [
       "        tariff  full_months_number  first_month_count  second_month_count  \\\n",
       "user_id                                                                     \n",
       "1000     ultra                   7               63.0                70.0   \n",
       "1001     smart                   2                0.0                 0.0   \n",
       "1002     smart                   6                8.0                14.0   \n",
       "1003     ultra                   4               81.0                95.0   \n",
       "1004     ultra                   7              154.0               155.0   \n",
       "...        ...                 ...                ...                 ...   \n",
       "1495     ultra                   4               81.0                89.0   \n",
       "1496     smart                  11               50.0                43.0   \n",
       "1497     smart                   2               22.0                16.0   \n",
       "1498     smart                   3               53.0                50.0   \n",
       "1499     smart                   3               52.0                60.0   \n",
       "\n",
       "         third_month_count  fourth_month_count  fifth_month_count  \\\n",
       "user_id                                                             \n",
       "1000                  81.0                74.0               56.0   \n",
       "1001                   NaN                 NaN                NaN   \n",
       "1002                   8.0                 6.0               13.0   \n",
       "1003                  85.0                82.0                NaN   \n",
       "1004                 163.0               160.0              141.0   \n",
       "...                    ...                 ...                ...   \n",
       "1495                  80.0                75.0                NaN   \n",
       "1496                  46.0                46.0               36.0   \n",
       "1497                   NaN                 NaN                NaN   \n",
       "1498                  57.0                 NaN                NaN   \n",
       "1499                  64.0                 NaN                NaN   \n",
       "\n",
       "         sixth_month_count  seventh_month_count  total_count  \\\n",
       "user_id                                                        \n",
       "1000                  70.0                 69.0        496.0   \n",
       "1001                   NaN                  NaN          0.0   \n",
       "1002                  17.0                  NaN         70.0   \n",
       "1003                   NaN                  NaN        380.0   \n",
       "1004                 165.0                170.0       1192.0   \n",
       "...                    ...                  ...          ...   \n",
       "1495                   NaN                  NaN        340.0   \n",
       "1496                  36.0                 43.0        468.0   \n",
       "1497                   NaN                  NaN         51.0   \n",
       "1498                   NaN                  NaN        168.0   \n",
       "1499                   NaN                  NaN        184.0   \n",
       "\n",
       "         eighth_month_count  ninth_month_count  tenth_month_count  \\\n",
       "user_id                                                             \n",
       "1000                    NaN                NaN                NaN   \n",
       "1001                    NaN                NaN                NaN   \n",
       "1002                    NaN                NaN                NaN   \n",
       "1003                    NaN                NaN                NaN   \n",
       "1004                    NaN                NaN                NaN   \n",
       "...                     ...                ...                ...   \n",
       "1495                    NaN                NaN                NaN   \n",
       "1496                   34.0               33.0               41.0   \n",
       "1497                    NaN                NaN                NaN   \n",
       "1498                    NaN                NaN                NaN   \n",
       "1499                    NaN                NaN                NaN   \n",
       "\n",
       "         eleventh_month_count  twelfth_month_count  \n",
       "user_id                                             \n",
       "1000                      NaN                  NaN  \n",
       "1001                      NaN                  NaN  \n",
       "1002                      NaN                  NaN  \n",
       "1003                      NaN                  NaN  \n",
       "1004                      NaN                  NaN  \n",
       "...                       ...                  ...  \n",
       "1495                      NaN                  NaN  \n",
       "1496                     53.0                  NaN  \n",
       "1497                      NaN                  NaN  \n",
       "1498                      NaN                  NaN  \n",
       "1499                      NaN                  NaN  \n",
       "\n",
       "[500 rows x 15 columns]"
      ]
     },
     "execution_count": 34,
     "metadata": {},
     "output_type": "execute_result"
    }
   ],
   "source": [
    "df_messages_by_month = per_month(df_messages, 'messages_serial_number', False)\n",
    "df_messages_by_month"
   ]
  },
  {
   "cell_type": "markdown",
   "metadata": {},
   "source": [
    "Теперь у нас есть почти вся информация о абонентах за каждый месяц их пользования тарифом. Осталось посчитать, сколько каждый абонент заплатил за каждый из месяцев пользования тарифом. В очередной раз реализуем это через функцию:"
   ]
  },
  {
   "cell_type": "code",
   "execution_count": 35,
   "metadata": {},
   "outputs": [],
   "source": [
    "list_of_users_by_month = []\n",
    "for user in df_users['user_id']:\n",
    "    for month in range(df_users[(df_users['user_id'] == user)]['full_months_number'].values[0]):\n",
    "        list_of_users_by_month.append(f'{user}_{month + 1}')"
   ]
  },
  {
   "cell_type": "code",
   "execution_count": 36,
   "metadata": {},
   "outputs": [],
   "source": [
    "def give_me_my_money_v_2(user_id_mod):\n",
    "    '''Функция возвращает ежемесячные значения переплат сверх тарифа по звонкам, трафику, сообщениям. Также возвращает среднее значение ежемесячного платежа'''\n",
    "    user_id = int(user_id_mod.split('_')[0])\n",
    "    month = int(user_id_mod.split('_')[1])\n",
    "    numbers = ['first', 'second', 'third', 'fourth', 'fifth', 'sixth', 'seventh', 'eighth', 'ninth', 'tenth', 'eleventh', 'twelfth']\n",
    "    tariff = df_users[df_users['user_id'] == user_id]['tariff'].values[0]\n",
    "    total = 0\n",
    "    extra_calls = 0\n",
    "    extra_mb = 0\n",
    "    extra_messages = 0\n",
    "    num = numbers[month - 1]\n",
    "    a = df_calls_by_month.loc[user_id, f'{num}_month_sum'] - df_tariffs[df_tariffs['tariff_name'] == tariff]['minutes_included'].values[0]\n",
    "    b = df_internet_by_month.loc[user_id, f'{num}_month_sum'] - df_tariffs[df_tariffs['tariff_name'] == tariff]['mb_per_month_included'].values[0]\n",
    "    c = df_messages_by_month.loc[user_id, f'{num}_month_count'] - df_tariffs[df_tariffs['tariff_name'] == tariff]['messages_included'].values[0]\n",
    "    if a > 0:\n",
    "        extra_calls = a * df_tariffs[df_tariffs['tariff_name'] == tariff]['rub_per_minute'].values[0]\n",
    "    if b > 0:\n",
    "        extra_mb = (math.ceil(b / 1024)) * df_tariffs[df_tariffs['tariff_name'] == tariff]['rub_per_gb'].values[0]\n",
    "    if c > 0:\n",
    "        extra_messages = c * df_tariffs[df_tariffs['tariff_name'] == tariff]['rub_per_message'].values[0]\n",
    "    total_by_month = extra_calls + extra_mb + extra_messages + df_tariffs[df_tariffs['tariff_name'] == tariff]['rub_monthly_fee'].values[0]\n",
    "    res = [extra_calls, extra_mb, extra_messages, total_by_month]\n",
    "    return res"
   ]
  },
  {
   "cell_type": "code",
   "execution_count": 37,
   "metadata": {},
   "outputs": [],
   "source": [
    "def what_is_user_id(user_id_month):\n",
    "    return int(user_id_month.split('_')[0])\n",
    "\n",
    "def what_is_user_tariff(user_id):\n",
    "    return df_users.loc[user_id - 1000, 'tariff']\n",
    "\n",
    "def what_is_user_city(user_id):\n",
    "    return df_users.loc[user_id - 1000, 'city']"
   ]
  },
  {
   "cell_type": "code",
   "execution_count": 38,
   "metadata": {},
   "outputs": [],
   "source": [
    "df_money_v2 = pd.DataFrame(columns = ['user_id_month', 'tariff', 'city', 'calls', 'internet', 'messages', 'total'])\n",
    "df_money_v2['user_id_month'] = list_of_users_by_month\n",
    "df_money_v2['tariff'] = df_money_v2['user_id_month'].transform(what_is_user_id).transform(what_is_user_tariff)\n",
    "df_money_v2['city'] = df_money_v2['user_id_month'].transform(what_is_user_id).transform(what_is_user_city)\n",
    "df_money_v2['city'] = df_money_v2['city'].where(df_money_v2['city'] == 'Москва', 'Другой')"
   ]
  },
  {
   "cell_type": "code",
   "execution_count": 39,
   "metadata": {
    "scrolled": false
   },
   "outputs": [
    {
     "data": {
      "text/html": [
       "<div>\n",
       "<style scoped>\n",
       "    .dataframe tbody tr th:only-of-type {\n",
       "        vertical-align: middle;\n",
       "    }\n",
       "\n",
       "    .dataframe tbody tr th {\n",
       "        vertical-align: top;\n",
       "    }\n",
       "\n",
       "    .dataframe thead th {\n",
       "        text-align: right;\n",
       "    }\n",
       "</style>\n",
       "<table border=\"1\" class=\"dataframe\">\n",
       "  <thead>\n",
       "    <tr style=\"text-align: right;\">\n",
       "      <th></th>\n",
       "      <th>user_id_month</th>\n",
       "      <th>tariff</th>\n",
       "      <th>city</th>\n",
       "      <th>calls</th>\n",
       "      <th>internet</th>\n",
       "      <th>messages</th>\n",
       "      <th>total</th>\n",
       "    </tr>\n",
       "  </thead>\n",
       "  <tbody>\n",
       "    <tr>\n",
       "      <th>0</th>\n",
       "      <td>1000_1</td>\n",
       "      <td>ultra</td>\n",
       "      <td>Другой</td>\n",
       "      <td>0.0</td>\n",
       "      <td>0</td>\n",
       "      <td>0.0</td>\n",
       "      <td>1950.0</td>\n",
       "    </tr>\n",
       "    <tr>\n",
       "      <th>1</th>\n",
       "      <td>1000_2</td>\n",
       "      <td>ultra</td>\n",
       "      <td>Другой</td>\n",
       "      <td>0.0</td>\n",
       "      <td>0</td>\n",
       "      <td>0.0</td>\n",
       "      <td>1950.0</td>\n",
       "    </tr>\n",
       "    <tr>\n",
       "      <th>2</th>\n",
       "      <td>1000_3</td>\n",
       "      <td>ultra</td>\n",
       "      <td>Другой</td>\n",
       "      <td>0.0</td>\n",
       "      <td>0</td>\n",
       "      <td>0.0</td>\n",
       "      <td>1950.0</td>\n",
       "    </tr>\n",
       "    <tr>\n",
       "      <th>3</th>\n",
       "      <td>1000_4</td>\n",
       "      <td>ultra</td>\n",
       "      <td>Другой</td>\n",
       "      <td>0.0</td>\n",
       "      <td>0</td>\n",
       "      <td>0.0</td>\n",
       "      <td>1950.0</td>\n",
       "    </tr>\n",
       "    <tr>\n",
       "      <th>4</th>\n",
       "      <td>1000_5</td>\n",
       "      <td>ultra</td>\n",
       "      <td>Другой</td>\n",
       "      <td>0.0</td>\n",
       "      <td>0</td>\n",
       "      <td>0.0</td>\n",
       "      <td>1950.0</td>\n",
       "    </tr>\n",
       "    <tr>\n",
       "      <th>...</th>\n",
       "      <td>...</td>\n",
       "      <td>...</td>\n",
       "      <td>...</td>\n",
       "      <td>...</td>\n",
       "      <td>...</td>\n",
       "      <td>...</td>\n",
       "      <td>...</td>\n",
       "    </tr>\n",
       "    <tr>\n",
       "      <th>2716</th>\n",
       "      <td>1498_2</td>\n",
       "      <td>smart</td>\n",
       "      <td>Другой</td>\n",
       "      <td>0.0</td>\n",
       "      <td>1000</td>\n",
       "      <td>0.0</td>\n",
       "      <td>1550.0</td>\n",
       "    </tr>\n",
       "    <tr>\n",
       "      <th>2717</th>\n",
       "      <td>1498_3</td>\n",
       "      <td>smart</td>\n",
       "      <td>Другой</td>\n",
       "      <td>0.0</td>\n",
       "      <td>2000</td>\n",
       "      <td>21.0</td>\n",
       "      <td>2571.0</td>\n",
       "    </tr>\n",
       "    <tr>\n",
       "      <th>2718</th>\n",
       "      <td>1499_1</td>\n",
       "      <td>smart</td>\n",
       "      <td>Другой</td>\n",
       "      <td>0.0</td>\n",
       "      <td>400</td>\n",
       "      <td>6.0</td>\n",
       "      <td>956.0</td>\n",
       "    </tr>\n",
       "    <tr>\n",
       "      <th>2719</th>\n",
       "      <td>1499_2</td>\n",
       "      <td>smart</td>\n",
       "      <td>Другой</td>\n",
       "      <td>30.0</td>\n",
       "      <td>400</td>\n",
       "      <td>30.0</td>\n",
       "      <td>1010.0</td>\n",
       "    </tr>\n",
       "    <tr>\n",
       "      <th>2720</th>\n",
       "      <td>1499_3</td>\n",
       "      <td>smart</td>\n",
       "      <td>Другой</td>\n",
       "      <td>174.0</td>\n",
       "      <td>0</td>\n",
       "      <td>42.0</td>\n",
       "      <td>766.0</td>\n",
       "    </tr>\n",
       "  </tbody>\n",
       "</table>\n",
       "<p>2721 rows × 7 columns</p>\n",
       "</div>"
      ],
      "text/plain": [
       "     user_id_month tariff    city  calls  internet  messages   total\n",
       "0           1000_1  ultra  Другой    0.0         0       0.0  1950.0\n",
       "1           1000_2  ultra  Другой    0.0         0       0.0  1950.0\n",
       "2           1000_3  ultra  Другой    0.0         0       0.0  1950.0\n",
       "3           1000_4  ultra  Другой    0.0         0       0.0  1950.0\n",
       "4           1000_5  ultra  Другой    0.0         0       0.0  1950.0\n",
       "...            ...    ...     ...    ...       ...       ...     ...\n",
       "2716        1498_2  smart  Другой    0.0      1000       0.0  1550.0\n",
       "2717        1498_3  smart  Другой    0.0      2000      21.0  2571.0\n",
       "2718        1499_1  smart  Другой    0.0       400       6.0   956.0\n",
       "2719        1499_2  smart  Другой   30.0       400      30.0  1010.0\n",
       "2720        1499_3  smart  Другой  174.0         0      42.0   766.0\n",
       "\n",
       "[2721 rows x 7 columns]"
      ]
     },
     "execution_count": 39,
     "metadata": {},
     "output_type": "execute_result"
    }
   ],
   "source": [
    "df_money_v2[['calls', 'internet', 'messages', 'total']] = pd.DataFrame(df_money_v2['user_id_month'].apply(give_me_my_money_v_2).tolist(), columns=['calls', 'internet', 'messages', 'total'])\n",
    "df_money_v2"
   ]
  },
  {
   "cell_type": "code",
   "execution_count": 40,
   "metadata": {},
   "outputs": [
    {
     "data": {
      "text/html": [
       "<div>\n",
       "<style scoped>\n",
       "    .dataframe tbody tr th:only-of-type {\n",
       "        vertical-align: middle;\n",
       "    }\n",
       "\n",
       "    .dataframe tbody tr th {\n",
       "        vertical-align: top;\n",
       "    }\n",
       "\n",
       "    .dataframe thead th {\n",
       "        text-align: right;\n",
       "    }\n",
       "</style>\n",
       "<table border=\"1\" class=\"dataframe\">\n",
       "  <thead>\n",
       "    <tr style=\"text-align: right;\">\n",
       "      <th></th>\n",
       "      <th>user_id_month</th>\n",
       "    </tr>\n",
       "    <tr>\n",
       "      <th>tariff</th>\n",
       "      <th></th>\n",
       "    </tr>\n",
       "  </thead>\n",
       "  <tbody>\n",
       "    <tr>\n",
       "      <th>smart</th>\n",
       "      <td>1883</td>\n",
       "    </tr>\n",
       "    <tr>\n",
       "      <th>ultra</th>\n",
       "      <td>838</td>\n",
       "    </tr>\n",
       "  </tbody>\n",
       "</table>\n",
       "</div>"
      ],
      "text/plain": [
       "        user_id_month\n",
       "tariff               \n",
       "smart            1883\n",
       "ultra             838"
      ]
     },
     "execution_count": 40,
     "metadata": {},
     "output_type": "execute_result"
    }
   ],
   "source": [
    "df_money_v2.pivot_table(index='tariff', values='user_id_month', aggfunc='count')"
   ]
  },
  {
   "cell_type": "markdown",
   "metadata": {},
   "source": [
    "## Анализ данных"
   ]
  },
  {
   "cell_type": "markdown",
   "metadata": {},
   "source": [
    "Изучим поведение абонентов с разными тарифами отдельно для звонков, интернета и сообщений. Для начала построим гистограмы, что бы понять тип распределения:"
   ]
  },
  {
   "cell_type": "code",
   "execution_count": 41,
   "metadata": {},
   "outputs": [
    {
     "data": {
      "image/png": "[encoded data removed]",
      "text/plain": [
       "<Figure size 432x288 with 1 Axes>"
      ]
     },
     "metadata": {
      "needs_background": "light"
     },
     "output_type": "display_data"
    }
   ],
   "source": [
    "ax = df_money_v2[df_money_v2['tariff'] == 'smart']['calls'].hist(bins=list(range(0, 1000, 50)))\n",
    "ax.set_xlabel(xlabel='Переплата за месяц, руб')\n",
    "ax.set_ylabel(ylabel='Количество переплат, шт')\n",
    "ax.set_title('Переплаты за звонки. Тариф \"Смарт\"')\n",
    "plt.show()"
   ]
  },
  {
   "cell_type": "markdown",
   "metadata": {},
   "source": [
    "Мы видим, что очень большое количество пользователей укладывается в тариф, и не говорит по телефону сверх меры. Скорректируем график так, что бы принимать во внимание только тех пользователей, кто превышает лимит, установленный тарифом:"
   ]
  },
  {
   "cell_type": "code",
   "execution_count": 42,
   "metadata": {},
   "outputs": [
    {
     "data": {
      "image/png": "[encoded data removed]",
      "text/plain": [
       "<Figure size 432x288 with 1 Axes>"
      ]
     },
     "metadata": {
      "needs_background": "light"
     },
     "output_type": "display_data"
    }
   ],
   "source": [
    "ax = df_money_v2[df_money_v2['tariff'] == 'smart']['calls'].hist(bins=list(range(1, 2001, 50)))\n",
    "ax.set_xlabel(xlabel='Переплата за месяц, руб')\n",
    "ax.set_ylabel(ylabel='Количество переплат, шт')\n",
    "ax.set_title('Переплаты за звонки. Тариф \"Смарт\"')\n",
    "plt.show()"
   ]
  },
  {
   "cell_type": "markdown",
   "metadata": {},
   "source": [
    "Проверим остальные полученные данные:"
   ]
  },
  {
   "cell_type": "code",
   "execution_count": 43,
   "metadata": {},
   "outputs": [
    {
     "data": {
      "image/png": "[encoded data removed]",
      "text/plain": [
       "<Figure size 432x288 with 1 Axes>"
      ]
     },
     "metadata": {
      "needs_background": "light"
     },
     "output_type": "display_data"
    }
   ],
   "source": [
    "ax = df_money_v2[df_money_v2['tariff'] == 'smart']['internet'].hist(bins=list(range(1, 2001, 250)))\n",
    "ax.set_xlabel(xlabel='Переплата за месяц, руб')\n",
    "ax.set_ylabel(ylabel='Количество переплат, шт')\n",
    "ax.set_title('Переплаты за интернет. Тариф \"Смарт\"')\n",
    "plt.show()"
   ]
  },
  {
   "cell_type": "code",
   "execution_count": 44,
   "metadata": {},
   "outputs": [
    {
     "data": {
      "image/png": "[encoded data removed]",
      "text/plain": [
       "<Figure size 432x288 with 1 Axes>"
      ]
     },
     "metadata": {
      "needs_background": "light"
     },
     "output_type": "display_data"
    }
   ],
   "source": [
    "ax = df_money_v2[df_money_v2['tariff'] == 'smart']['messages'].hist(bins=list(range(1, 250, 10)))\n",
    "ax.set_xlabel(xlabel='Переплата за месяц, руб')\n",
    "ax.set_ylabel(ylabel='Количество переплат, шт')\n",
    "ax.set_title('Переплаты за сообщения. Тариф \"Смарт\"')\n",
    "plt.show()"
   ]
  },
  {
   "cell_type": "markdown",
   "metadata": {},
   "source": [
    "Проверим все то же самое, но для тарифа \"Ультра\":"
   ]
  },
  {
   "cell_type": "code",
   "execution_count": 45,
   "metadata": {},
   "outputs": [
    {
     "data": {
      "image/png": "[encoded data removed]",
      "text/plain": [
       "<Figure size 432x288 with 1 Axes>"
      ]
     },
     "metadata": {
      "needs_background": "light"
     },
     "output_type": "display_data"
    }
   ],
   "source": [
    "ax = df_money_v2[df_money_v2['tariff'] == 'ultra']['calls'].hist(bins=list(range(1, 2001, 50)))\n",
    "ax.set_xlabel(xlabel='Переплата за месяц, руб')\n",
    "ax.set_ylabel(ylabel='Количество переплат, шт')\n",
    "ax.set_title('Переплаты за звонки. Тариф \"Ультра\"')\n",
    "plt.show()"
   ]
  },
  {
   "cell_type": "code",
   "execution_count": 46,
   "metadata": {},
   "outputs": [
    {
     "data": {
      "image/png": "[encoded data removed]",
      "text/plain": [
       "<Figure size 432x288 with 1 Axes>"
      ]
     },
     "metadata": {
      "needs_background": "light"
     },
     "output_type": "display_data"
    }
   ],
   "source": [
    "ax = df_money_v2[df_money_v2['tariff'] == 'ultra']['internet'].hist(bins=list(range(1, 2001, 50)))\n",
    "ax.set_xlabel(xlabel='Переплата за месяц, руб')\n",
    "ax.set_ylabel(ylabel='Количество переплат, шт')\n",
    "ax.set_title('Переплаты за интернет. Тариф \"Ультра\"')\n",
    "plt.show()"
   ]
  },
  {
   "cell_type": "code",
   "execution_count": 47,
   "metadata": {},
   "outputs": [
    {
     "data": {
      "image/png": "[encoded data removed]",
      "text/plain": [
       "<Figure size 432x288 with 1 Axes>"
      ]
     },
     "metadata": {
      "needs_background": "light"
     },
     "output_type": "display_data"
    }
   ],
   "source": [
    "ax = df_money_v2[df_money_v2['tariff'] == 'ultra']['messages'].hist(bins=list(range(1, 250, 10)))\n",
    "ax.set_xlabel(xlabel='Переплата за месяц, руб')\n",
    "ax.set_ylabel(ylabel='Количество переплат, шт')\n",
    "ax.set_title('Переплаты за сообщения. Тариф \"Ультра\"')\n",
    "plt.show()"
   ]
  },
  {
   "cell_type": "markdown",
   "metadata": {},
   "source": [
    "Как можно заметить, тут присутствуют переплаты только за интернет. Следовательно, возможно в тарифе заложено либо слишком много минут и сообщений и пользователи не успевают их потратить."
   ]
  },
  {
   "cell_type": "markdown",
   "metadata": {},
   "source": [
    "Теперь рассмотрим количество звонков, сообщений и потраченного трафика для каждого из тарифов, вне зависимости от превышения лимита по тарифу. Реализовывать мы это будем через написание очередной функции, которая выдаст нам Series со всеми значениями по месяцам:"
   ]
  },
  {
   "cell_type": "code",
   "execution_count": 48,
   "metadata": {},
   "outputs": [],
   "source": [
    "numbers = ['first', 'second', 'third', 'fourth', 'fifth', 'sixth', 'seventh', 'eighth', 'ninth', 'tenth', 'eleventh', 'twelfth']\n",
    "def ser_for_hist(df, needed_type):\n",
    "    '''Функция возвращает Series состоящий из данных о количестве потраченных минут/мегабайт/сообщений за каждый полный месяц использования тарифом'''\n",
    "    lst = []\n",
    "    for num in numbers:\n",
    "        if needed_type == True:\n",
    "            lst.extend(df[f'{num}_month_sum'].tolist())\n",
    "        else:\n",
    "            lst.extend(df[f'{num}_month_count'].tolist())\n",
    "    return pd.Series(lst)"
   ]
  },
  {
   "cell_type": "code",
   "execution_count": 49,
   "metadata": {},
   "outputs": [
    {
     "data": {
      "image/png": "[encoded data removed]",
      "text/plain": [
       "<Figure size 432x288 with 1 Axes>"
      ]
     },
     "metadata": {
      "needs_background": "light"
     },
     "output_type": "display_data"
    }
   ],
   "source": [
    "ax = ser_for_hist(df_calls_by_month[df_calls_by_month['tariff'] == 'smart'], True).hist(bins=list(range(0, 1250, 50)))\n",
    "ax.set_xlabel(xlabel='Количество потраченных минут')\n",
    "ax.set_ylabel(ylabel='Количество звонков')\n",
    "ax.set_title('Распределение звонков в зависимоти от их длительности. Тариф \"Смарт\"')\n",
    "plt.show()"
   ]
  },
  {
   "cell_type": "markdown",
   "metadata": {},
   "source": [
    "Тут распределение больше напоминает нормальное, но скорее это все же распределение Стьюдента."
   ]
  },
  {
   "cell_type": "code",
   "execution_count": 50,
   "metadata": {},
   "outputs": [
    {
     "data": {
      "image/png": "[encoded data removed]",
      "text/plain": [
       "<Figure size 432x288 with 1 Axes>"
      ]
     },
     "metadata": {
      "needs_background": "light"
     },
     "output_type": "display_data"
    }
   ],
   "source": [
    "ax = ser_for_hist(df_internet_by_month[df_internet_by_month['tariff'] == 'smart'], True).hist(bins=list(range(0, 40000, 1000)))\n",
    "ax.set_xlabel(xlabel='Количество потраченных мегабайт')\n",
    "ax.set_ylabel(ylabel='Количество интернет-сессий')\n",
    "ax.set_title('Распределение потраченных мегабайт за сессию. Тариф \"Смарт\"')\n",
    "plt.show()"
   ]
  },
  {
   "cell_type": "markdown",
   "metadata": {},
   "source": [
    "Та же картина. А что же с сообщениями?"
   ]
  },
  {
   "cell_type": "code",
   "execution_count": 51,
   "metadata": {},
   "outputs": [
    {
     "data": {
      "image/png": "[encoded data removed]",
      "text/plain": [
       "<Figure size 432x288 with 1 Axes>"
      ]
     },
     "metadata": {
      "needs_background": "light"
     },
     "output_type": "display_data"
    }
   ],
   "source": [
    "ax = ser_for_hist(df_messages_by_month[df_messages_by_month['tariff'] == 'smart'], False).hist(bins=list(range(0, 100, 5)))\n",
    "ax.set_xlabel(xlabel='Количество отправленных сообщений за месяц')\n",
    "ax.set_ylabel(ylabel='Количество пользователей, отправивших данное количество сообщений')\n",
    "ax.set_title('Распределение отправленных сообщений. Тариф \"Смарт\"')\n",
    "plt.show()"
   ]
  },
  {
   "cell_type": "markdown",
   "metadata": {},
   "source": [
    "Тут датасет можно считать скошенным вправо. Построим те же графики для тарифа \"Ультра\":"
   ]
  },
  {
   "cell_type": "code",
   "execution_count": 52,
   "metadata": {},
   "outputs": [
    {
     "data": {
      "image/png": "[encoded data removed]",
      "text/plain": [
       "<Figure size 432x288 with 1 Axes>"
      ]
     },
     "metadata": {
      "needs_background": "light"
     },
     "output_type": "display_data"
    }
   ],
   "source": [
    "ax = ser_for_hist(df_calls_by_month[df_calls_by_month['tariff'] == 'ultra'], True).hist(bins=list(range(0, 2000, 50)))\n",
    "ax.set_xlabel(xlabel='Количество потраченных минут')\n",
    "ax.set_ylabel(ylabel='Количество звонков')\n",
    "ax.set_title('Распределение звонков в зависимоти от их длительности. Тариф \"Ультра\"')\n",
    "plt.show()"
   ]
  },
  {
   "cell_type": "markdown",
   "metadata": {},
   "source": [
    "Изменился масштаб графика. Т.е. распределение стало с большим размахом, но меньшим средним, модой и медианой."
   ]
  },
  {
   "cell_type": "code",
   "execution_count": 53,
   "metadata": {},
   "outputs": [
    {
     "data": {
      "image/png": "[encoded data removed]",
      "text/plain": [
       "<Figure size 432x288 with 1 Axes>"
      ]
     },
     "metadata": {
      "needs_background": "light"
     },
     "output_type": "display_data"
    }
   ],
   "source": [
    "ax = ser_for_hist(df_internet_by_month[df_internet_by_month['tariff'] == 'ultra'], True).hist(bins=list(range(0, 60000, 2000)))\n",
    "ax.set_xlabel(xlabel='Количество потраченных мегабайт')\n",
    "ax.set_ylabel(ylabel='Количество интернет-сессий')\n",
    "ax.set_title('Распределение потраченных мегабайт за месяц. Тариф \"Ультра\"')\n",
    "plt.show()"
   ]
  },
  {
   "cell_type": "markdown",
   "metadata": {},
   "source": [
    "Аналогично с гистограммой со звонками."
   ]
  },
  {
   "cell_type": "code",
   "execution_count": 54,
   "metadata": {},
   "outputs": [
    {
     "data": {
      "image/png": "[encoded data removed]",
      "text/plain": [
       "<Figure size 432x288 with 1 Axes>"
      ]
     },
     "metadata": {
      "needs_background": "light"
     },
     "output_type": "display_data"
    }
   ],
   "source": [
    "ax = ser_for_hist(df_messages_by_month[df_messages_by_month['tariff'] == 'ultra'], False).hist(bins=list(range(0, 200, 10)))\n",
    "ax.set_xlabel(xlabel='Количество отправленных сообщений за месяц')\n",
    "ax.set_ylabel(ylabel=f'Количество пользователей, \\nотправивших данное количество сообщений')\n",
    "ax.set_title('Распределение отправленных сообщений. Тариф \"Ультра\"')\n",
    "plt.show()"
   ]
  },
  {
   "cell_type": "markdown",
   "metadata": {},
   "source": [
    "Для всех графиков тип распределения при изменении тарифа не поменялся. Изменились лишь их меры центральных тенденций. Также следует обратить внимание, что на некоторых графиках присутствуют выбросы на нулевом значении. При расчетах потребуется учитывать это."
   ]
  },
  {
   "cell_type": "markdown",
   "metadata": {},
   "source": [
    "Посчитаем среднее, дисперсию и стандартное отклонение для каждой из величин, добавив для звонков и сообщений фильтр >0, что бы избавится от выбросов на нулевом значении:"
   ]
  },
  {
   "cell_type": "code",
   "execution_count": 55,
   "metadata": {},
   "outputs": [],
   "source": [
    "def mds(series):\n",
    "    '''Функция возвращает словарь, состоящий из среднего значения переданных функции данных, дисперсию и среднее отклонение'''\n",
    "    m = series.mean()\n",
    "    d = np.var(series)\n",
    "    s = np.sqrt(d)\n",
    "    return {'mean': m, 'dispersion': d, 'se': s}"
   ]
  },
  {
   "cell_type": "code",
   "execution_count": 56,
   "metadata": {},
   "outputs": [
    {
     "data": {
      "text/plain": [
       "[{'mean': 449.96811902231667,\n",
       "  'dispersion': 30245.552649915768,\n",
       "  'se': 173.9124856067435},\n",
       " {'mean': 17487.542788104078,\n",
       "  'dispersion': 22979958.8860989,\n",
       "  'se': 4793.741637395459},\n",
       " {'mean': 35.93517534537726,\n",
       "  'dispersion': 800.1339486674494,\n",
       "  'se': 28.286639048629468},\n",
       " {'mean': 570.2819593787335,\n",
       "  'dispersion': 93022.8237247152,\n",
       "  'se': 304.9964323147325},\n",
       " {'mean': 20994.060799522653,\n",
       "  'dispersion': 89584189.71900779,\n",
       "  'se': 9464.89248322493},\n",
       " {'mean': 52.941457586618874,\n",
       "  'dispersion': 2382.9129407667165,\n",
       "  'se': 48.81508927336625}]"
      ]
     },
     "execution_count": 56,
     "metadata": {},
     "output_type": "execute_result"
    }
   ],
   "source": [
    "lst = [ser_for_hist(df_calls_by_month[(df_calls_by_month['tariff'] == 'smart')], True).drop(0).dropna(),\n",
    "       ser_for_hist(df_internet_by_month[df_internet_by_month['tariff'] == 'smart'], True).dropna(),\n",
    "       ser_for_hist(df_messages_by_month[df_messages_by_month['tariff'] == 'smart'], False).drop(0).dropna(),\n",
    "       ser_for_hist(df_calls_by_month[(df_calls_by_month['tariff'] == 'ultra')], True).drop(0).dropna(),\n",
    "       ser_for_hist(df_internet_by_month[df_internet_by_month['tariff'] == 'ultra'], True).dropna(),\n",
    "       ser_for_hist(df_messages_by_month[df_messages_by_month['tariff'] == 'ultra'], False).drop(0).dropna()\n",
    "      ]\n",
    "res_list = []\n",
    "for el in lst:\n",
    "    res_list.append(mds(el))\n",
    "res_list"
   ]
  },
  {
   "cell_type": "markdown",
   "metadata": {},
   "source": [
    "Что интересного вы видим в этих данных. Для тарифа смарт среднее значение потраченных минут не превышает лимит установленный тарифом, та же ситуация с сообщениями. Причем среднее значение по сообщениям и по минутам близко к лимиту установленному тарифом. Следовательно, количество минут и сообщений для этого тарифа подобраны оптимально. А вот среднее значение потраченного трафика значительно превышает лимит установленный тарифом. Возможно следует задуматься над увеличением лимита трафика для этого тарифа. С тарифом \"ультра\" ситуация немного иная. В среднем ни один из лимитов не достигается. Для этого тарифа можно уменьшить помесячную оплату вместе с лимитами на минуты и сообщения. Лимит траффика можно оставить, поскольку уже на этом этапе начинают встречаться превышения лимита."
   ]
  },
  {
   "cell_type": "markdown",
   "metadata": {},
   "source": [
    "## Проверка гипотез"
   ]
  },
  {
   "cell_type": "markdown",
   "metadata": {},
   "source": [
    "Нам требуется проверить две гипотезы:\n",
    "* средняя выручка пользователей тарифов «Ультра» и «Смарт» различаются\n",
    "* средняя выручка пользователей из Москвы отличается от выручки пользователей из других регионов"
   ]
  },
  {
   "cell_type": "markdown",
   "metadata": {},
   "source": [
    "Для начала проверим первую гипотезу. Нулевая гипотеза для неё будет звучать так:\n",
    "***H$_0$: Средняя выручка тарифов «Ультра» и «Смарт» не отличается.***\n",
    "Соответственно, альтернативная гипотеза будет звучать так:\n",
    "***H$_1$: Средняя выручка тарифов «Ультра» и «Смарт» отличается.***\n",
    "Посчитаем p-значение для этих данных. alpha примем за _`alpha = 0.05`_:"
   ]
  },
  {
   "cell_type": "code",
   "execution_count": 57,
   "metadata": {},
   "outputs": [
    {
     "name": "stdout",
     "output_type": "stream",
     "text": [
      "p-значение:  9.726422809076593e-115\n",
      "Отвергаем нулевую гипотезу\n"
     ]
    }
   ],
   "source": [
    "alpha = .05\n",
    "\n",
    "results = st.ttest_ind(df_money_v2[df_money_v2['tariff'] == 'smart']['total'], df_money_v2[df_money_v2['tariff'] == 'ultra']['total'])\n",
    "\n",
    "print('p-значение: ', results.pvalue)\n",
    "\n",
    "if results.pvalue < alpha:\n",
    "    print(\"Отвергаем нулевую гипотезу\")\n",
    "else:\n",
    "    print(\"Не получилось отвергнуть нулевую гипотезу\") "
   ]
  },
  {
   "cell_type": "markdown",
   "metadata": {},
   "source": [
    "Нулевая гипотеза отвергнута. Повторяем то же самое для проверки второй гипотезы:"
   ]
  },
  {
   "cell_type": "markdown",
   "metadata": {},
   "source": [
    " * ***H$_0$: Средняя выручка пользователей из Москвы не отличается от выручки пользователей из других регионов***\n",
    " * ***H$_1$: Средняя выручка пользователей из Москвы отличается от выручки пользователей из других регионов***"
   ]
  },
  {
   "cell_type": "code",
   "execution_count": 58,
   "metadata": {
    "scrolled": true
   },
   "outputs": [
    {
     "name": "stdout",
     "output_type": "stream",
     "text": [
      "p-значение:  0.5970193520812996\n",
      "Не получилось отвергнуть нулевую гипотезу\n"
     ]
    }
   ],
   "source": [
    "alpha = .05\n",
    "\n",
    "results = st.ttest_ind(df_money_v2[df_money_v2['city'] == 'Москва']['total'], df_money_v2[df_money_v2['city'] == 'Другой']['total'])\n",
    "\n",
    "print('p-значение: ', results.pvalue)\n",
    "\n",
    "if results.pvalue < alpha:\n",
    "    print(\"Отвергаем нулевую гипотезу\")\n",
    "else:\n",
    "    print(\"Не получилось отвергнуть нулевую гипотезу\") "
   ]
  },
  {
   "cell_type": "markdown",
   "metadata": {},
   "source": [
    "По итогам t-теста отвергнуть нулевую гипотезу не получилось."
   ]
  },
  {
   "cell_type": "markdown",
   "metadata": {},
   "source": [
    "## Выводы"
   ]
  },
  {
   "cell_type": "markdown",
   "metadata": {},
   "source": [
    "Проведя исследование данных мы смогли прийти к выводу, что гипотеза о том, что ситуация с тарифом по Москве и по другим городам скорее всего не отличается. Зато с достаточно большой вероятностью можно утверждать, что выручка по различным тарифам отличается. Также после изучения данных мы смогли прийти к выводу, что для тарифа \"Smart\" можно увеличить лимит траффика покрыв это изменение, например, увеличением ежемесячной платы. В то же время ситуация для тарифа \"Ultra\" в корне отличается. Для этого тарифа можно уменьшить количество минут и сообщений, тем самым уменьшив ежемесячную плату по тарифу, и таким образом привлечь новых абонентов на этот тариф. С точки зрения популярности выигрывает тариф \"Smart\", и при увеличении трафика за фиксированную месячную оплату он станет еще более популярным."
   ]
  }
 ],
 "metadata": {
  "ExecuteTimeLog": [
   {
    "duration": 1533,
    "start_time": "2021-09-13T17:05:28.651Z"
   },
   {
    "duration": 565,
    "start_time": "2021-09-13T17:08:29.144Z"
   },
   {
    "duration": 43,
    "start_time": "2021-09-13T17:09:24.032Z"
   },
   {
    "duration": 122,
    "start_time": "2021-09-13T17:11:51.060Z"
   },
   {
    "duration": 561,
    "start_time": "2021-09-13T17:14:53.563Z"
   },
   {
    "duration": 105,
    "start_time": "2021-09-13T17:15:05.708Z"
   },
   {
    "duration": 21,
    "start_time": "2021-09-13T17:15:23.731Z"
   },
   {
    "duration": 9,
    "start_time": "2021-09-13T17:15:29.979Z"
   },
   {
    "duration": 8,
    "start_time": "2021-09-13T17:15:46.975Z"
   },
   {
    "duration": 100,
    "start_time": "2021-09-13T18:03:42.126Z"
   },
   {
    "duration": 8,
    "start_time": "2021-09-13T18:03:44.332Z"
   },
   {
    "duration": 8,
    "start_time": "2021-09-13T18:03:53.730Z"
   },
   {
    "duration": 7,
    "start_time": "2021-09-13T18:04:05.385Z"
   },
   {
    "duration": 7,
    "start_time": "2021-09-13T18:04:12.751Z"
   },
   {
    "duration": 8,
    "start_time": "2021-09-13T18:04:18.288Z"
   },
   {
    "duration": 8,
    "start_time": "2021-09-13T18:10:53.037Z"
   },
   {
    "duration": 342,
    "start_time": "2021-09-13T18:11:03.771Z"
   },
   {
    "duration": 8,
    "start_time": "2021-09-13T18:11:10.431Z"
   },
   {
    "duration": 6,
    "start_time": "2021-09-13T18:11:17.019Z"
   },
   {
    "duration": 6,
    "start_time": "2021-09-13T18:11:47.447Z"
   },
   {
    "duration": 8,
    "start_time": "2021-09-13T18:12:57.576Z"
   },
   {
    "duration": 7,
    "start_time": "2021-09-13T18:18:37.700Z"
   },
   {
    "duration": 12,
    "start_time": "2021-09-13T18:18:41.947Z"
   },
   {
    "duration": 98,
    "start_time": "2021-09-13T18:20:20.619Z"
   },
   {
    "duration": 314,
    "start_time": "2021-09-13T18:20:25.171Z"
   },
   {
    "duration": 333,
    "start_time": "2021-09-13T18:20:33.192Z"
   },
   {
    "duration": 152,
    "start_time": "2021-09-13T18:20:45.005Z"
   },
   {
    "duration": 8,
    "start_time": "2021-09-13T18:23:26.958Z"
   },
   {
    "duration": 295,
    "start_time": "2021-09-13T18:23:45.621Z"
   },
   {
    "duration": 351,
    "start_time": "2021-09-13T18:23:48.164Z"
   },
   {
    "duration": 317,
    "start_time": "2021-09-13T18:23:50.794Z"
   },
   {
    "duration": 6,
    "start_time": "2021-09-13T18:24:07.310Z"
   },
   {
    "duration": 7,
    "start_time": "2021-09-13T18:24:46.852Z"
   },
   {
    "duration": 7,
    "start_time": "2021-09-13T18:25:03.541Z"
   },
   {
    "duration": 7,
    "start_time": "2021-09-13T18:25:21.974Z"
   },
   {
    "duration": 6,
    "start_time": "2021-09-13T18:26:54.896Z"
   },
   {
    "duration": 20,
    "start_time": "2021-09-13T18:52:31.926Z"
   },
   {
    "duration": 4,
    "start_time": "2021-09-13T18:52:36.296Z"
   },
   {
    "duration": 367,
    "start_time": "2021-09-13T19:20:34.317Z"
   },
   {
    "duration": 353,
    "start_time": "2021-09-13T19:20:40.254Z"
   },
   {
    "duration": 35,
    "start_time": "2021-09-13T19:20:44.495Z"
   },
   {
    "duration": 4,
    "start_time": "2021-09-13T19:34:28.031Z"
   },
   {
    "duration": 3,
    "start_time": "2021-09-13T19:40:24.426Z"
   },
   {
    "duration": 377,
    "start_time": "2021-09-15T18:08:46.230Z"
   },
   {
    "duration": 1482,
    "start_time": "2021-09-15T18:08:52.524Z"
   },
   {
    "duration": 519,
    "start_time": "2021-09-15T18:08:54.009Z"
   },
   {
    "duration": 113,
    "start_time": "2021-09-15T18:08:54.531Z"
   },
   {
    "duration": 8,
    "start_time": "2021-09-15T18:08:54.647Z"
   },
   {
    "duration": 5,
    "start_time": "2021-09-15T18:08:54.658Z"
   },
   {
    "duration": 14,
    "start_time": "2021-09-15T18:08:54.665Z"
   },
   {
    "duration": 7,
    "start_time": "2021-09-15T18:08:54.717Z"
   },
   {
    "duration": 19,
    "start_time": "2021-09-15T18:08:54.726Z"
   },
   {
    "duration": 424,
    "start_time": "2021-09-15T18:17:06.106Z"
   },
   {
    "duration": 474,
    "start_time": "2021-09-15T18:17:24.991Z"
   },
   {
    "duration": 1729,
    "start_time": "2021-09-15T18:17:43.569Z"
   },
   {
    "duration": 34796,
    "start_time": "2021-09-15T18:19:13.585Z"
   },
   {
    "duration": 45,
    "start_time": "2021-09-15T18:20:03.612Z"
   },
   {
    "duration": 18,
    "start_time": "2021-09-15T18:20:11.222Z"
   },
   {
    "duration": 20,
    "start_time": "2021-09-15T18:20:16.490Z"
   },
   {
    "duration": 17064,
    "start_time": "2021-09-15T18:21:14.788Z"
   },
   {
    "duration": 4486,
    "start_time": "2021-09-15T18:21:34.742Z"
   },
   {
    "duration": 1421,
    "start_time": "2021-09-15T18:21:41.871Z"
   },
   {
    "duration": 505,
    "start_time": "2021-09-15T18:21:43.295Z"
   },
   {
    "duration": 113,
    "start_time": "2021-09-15T18:21:43.803Z"
   },
   {
    "duration": 7,
    "start_time": "2021-09-15T18:21:43.919Z"
   },
   {
    "duration": 6,
    "start_time": "2021-09-15T18:21:43.928Z"
   },
   {
    "duration": 13,
    "start_time": "2021-09-15T18:21:43.937Z"
   },
   {
    "duration": 6,
    "start_time": "2021-09-15T18:21:43.952Z"
   },
   {
    "duration": 15910,
    "start_time": "2021-09-15T18:21:43.961Z"
   },
   {
    "duration": 1466,
    "start_time": "2021-09-15T18:22:02.030Z"
   },
   {
    "duration": 506,
    "start_time": "2021-09-15T18:22:03.498Z"
   },
   {
    "duration": 120,
    "start_time": "2021-09-15T18:22:04.010Z"
   },
   {
    "duration": 8,
    "start_time": "2021-09-15T18:22:04.133Z"
   },
   {
    "duration": 17,
    "start_time": "2021-09-15T18:22:04.143Z"
   },
   {
    "duration": 15,
    "start_time": "2021-09-15T18:22:04.162Z"
   },
   {
    "duration": 11,
    "start_time": "2021-09-15T18:22:04.179Z"
   },
   {
    "duration": 127,
    "start_time": "2021-09-15T18:22:04.193Z"
   },
   {
    "duration": 423,
    "start_time": "2021-09-15T18:25:36.392Z"
   },
   {
    "duration": 318,
    "start_time": "2021-09-15T18:25:39.848Z"
   },
   {
    "duration": 589,
    "start_time": "2021-09-15T18:25:42.593Z"
   },
   {
    "duration": 594,
    "start_time": "2021-09-15T18:25:44.942Z"
   },
   {
    "duration": 41,
    "start_time": "2021-09-15T18:26:41.799Z"
   },
   {
    "duration": 356,
    "start_time": "2021-09-15T18:26:46.475Z"
   },
   {
    "duration": 47,
    "start_time": "2021-09-15T18:26:50.127Z"
   },
   {
    "duration": 18,
    "start_time": "2021-09-15T18:27:22.554Z"
   },
   {
    "duration": 32,
    "start_time": "2021-09-15T18:33:14.660Z"
   },
   {
    "duration": 43,
    "start_time": "2021-09-15T18:33:43.363Z"
   },
   {
    "duration": 23,
    "start_time": "2021-09-15T19:54:11.760Z"
   },
   {
    "duration": 47,
    "start_time": "2021-09-15T19:54:19.843Z"
   },
   {
    "duration": 328,
    "start_time": "2021-09-15T20:03:14.299Z"
   },
   {
    "duration": 5,
    "start_time": "2021-09-15T20:03:26.456Z"
   },
   {
    "duration": 281,
    "start_time": "2021-09-15T20:04:13.657Z"
   },
   {
    "duration": 5,
    "start_time": "2021-09-15T20:04:46.914Z"
   },
   {
    "duration": 7,
    "start_time": "2021-09-15T20:04:50.580Z"
   },
   {
    "duration": 7,
    "start_time": "2021-09-15T20:04:53.911Z"
   },
   {
    "duration": 7,
    "start_time": "2021-09-15T20:05:04.199Z"
   },
   {
    "duration": 8,
    "start_time": "2021-09-15T20:05:26.418Z"
   },
   {
    "duration": 9,
    "start_time": "2021-09-15T20:05:34.918Z"
   },
   {
    "duration": 8,
    "start_time": "2021-09-15T20:06:03.173Z"
   },
   {
    "duration": 8,
    "start_time": "2021-09-15T20:06:07.570Z"
   },
   {
    "duration": 7,
    "start_time": "2021-09-15T20:06:14.606Z"
   },
   {
    "duration": 8,
    "start_time": "2021-09-15T20:06:25.491Z"
   },
   {
    "duration": 289,
    "start_time": "2021-09-15T20:07:37.331Z"
   },
   {
    "duration": 298,
    "start_time": "2021-09-15T20:07:53.772Z"
   },
   {
    "duration": 286,
    "start_time": "2021-09-15T20:08:06.779Z"
   },
   {
    "duration": 331,
    "start_time": "2021-09-15T20:08:33.894Z"
   },
   {
    "duration": 7,
    "start_time": "2021-09-15T20:08:51.988Z"
   },
   {
    "duration": 288,
    "start_time": "2021-09-15T20:09:07.959Z"
   },
   {
    "duration": 316,
    "start_time": "2021-09-15T20:09:10.697Z"
   },
   {
    "duration": 296,
    "start_time": "2021-09-15T20:10:15.660Z"
   },
   {
    "duration": 4,
    "start_time": "2021-09-15T20:10:50.773Z"
   },
   {
    "duration": 8,
    "start_time": "2021-09-15T20:10:57.682Z"
   },
   {
    "duration": 5,
    "start_time": "2021-09-15T20:23:22.382Z"
   },
   {
    "duration": 5,
    "start_time": "2021-09-15T20:23:36.036Z"
   },
   {
    "duration": 4,
    "start_time": "2021-09-15T20:34:15.677Z"
   },
   {
    "duration": 4,
    "start_time": "2021-09-15T20:34:36.897Z"
   },
   {
    "duration": 5,
    "start_time": "2021-09-15T20:36:09.909Z"
   },
   {
    "duration": 5399,
    "start_time": "2021-09-15T20:37:21.941Z"
   },
   {
    "duration": 5,
    "start_time": "2021-09-15T20:37:39.873Z"
   },
   {
    "duration": 7052,
    "start_time": "2021-09-15T20:37:41.390Z"
   },
   {
    "duration": 4944,
    "start_time": "2021-09-15T20:38:17.387Z"
   },
   {
    "duration": 1573,
    "start_time": "2021-09-15T20:39:17.066Z"
   },
   {
    "duration": 5,
    "start_time": "2021-09-15T20:40:21.103Z"
   },
   {
    "duration": 1440,
    "start_time": "2021-09-15T20:40:22.346Z"
   },
   {
    "duration": 5,
    "start_time": "2021-09-15T20:41:55.297Z"
   },
   {
    "duration": 1479,
    "start_time": "2021-09-15T20:41:56.542Z"
   },
   {
    "duration": 5,
    "start_time": "2021-09-15T20:42:57.165Z"
   },
   {
    "duration": 2536,
    "start_time": "2021-09-15T20:42:58.328Z"
   },
   {
    "duration": 6,
    "start_time": "2021-09-15T20:44:39.662Z"
   },
   {
    "duration": 1477,
    "start_time": "2021-09-15T20:44:41.039Z"
   },
   {
    "duration": 5,
    "start_time": "2021-09-15T20:44:48.019Z"
   },
   {
    "duration": 1434,
    "start_time": "2021-09-15T20:44:48.438Z"
   },
   {
    "duration": 5,
    "start_time": "2021-09-15T20:45:08.407Z"
   },
   {
    "duration": 1444,
    "start_time": "2021-09-15T20:45:09.567Z"
   },
   {
    "duration": 5,
    "start_time": "2021-09-15T20:45:42.627Z"
   },
   {
    "duration": 2615,
    "start_time": "2021-09-15T20:45:43.419Z"
   },
   {
    "duration": 4,
    "start_time": "2021-09-15T20:45:54.751Z"
   },
   {
    "duration": 1445,
    "start_time": "2021-09-15T20:45:55.573Z"
   },
   {
    "duration": 5,
    "start_time": "2021-09-15T20:46:26.680Z"
   },
   {
    "duration": 1442,
    "start_time": "2021-09-15T20:46:27.880Z"
   },
   {
    "duration": 5,
    "start_time": "2021-09-15T20:46:36.917Z"
   },
   {
    "duration": 1431,
    "start_time": "2021-09-15T20:46:38.008Z"
   },
   {
    "duration": 4,
    "start_time": "2021-09-15T20:46:58.816Z"
   },
   {
    "duration": 1487,
    "start_time": "2021-09-15T20:46:59.637Z"
   },
   {
    "duration": 5,
    "start_time": "2021-09-15T20:47:06.034Z"
   },
   {
    "duration": 1659,
    "start_time": "2021-09-15T20:47:06.355Z"
   },
   {
    "duration": 4,
    "start_time": "2021-09-15T20:49:08.830Z"
   },
   {
    "duration": 1824,
    "start_time": "2021-09-15T20:49:09.268Z"
   },
   {
    "duration": 5,
    "start_time": "2021-09-15T20:49:33.616Z"
   },
   {
    "duration": 2359,
    "start_time": "2021-09-15T20:49:34.006Z"
   },
   {
    "duration": 5,
    "start_time": "2021-09-15T20:49:45.193Z"
   },
   {
    "duration": 1977,
    "start_time": "2021-09-15T20:49:46.301Z"
   },
   {
    "duration": 5,
    "start_time": "2021-09-15T20:49:55.436Z"
   },
   {
    "duration": 5584,
    "start_time": "2021-09-15T20:49:56.785Z"
   },
   {
    "duration": 5,
    "start_time": "2021-09-15T20:50:11.502Z"
   },
   {
    "duration": 1767,
    "start_time": "2021-09-15T20:50:12.023Z"
   },
   {
    "duration": 2111,
    "start_time": "2021-09-15T20:50:42.248Z"
   },
   {
    "duration": 2218,
    "start_time": "2021-09-15T20:51:27.028Z"
   },
   {
    "duration": 1498,
    "start_time": "2021-09-15T20:52:07.378Z"
   },
   {
    "duration": 5,
    "start_time": "2021-09-15T20:52:17.014Z"
   },
   {
    "duration": 1824,
    "start_time": "2021-09-15T20:52:20.890Z"
   },
   {
    "duration": 4,
    "start_time": "2021-09-15T20:52:40.778Z"
   },
   {
    "duration": 1531,
    "start_time": "2021-09-15T20:52:41.385Z"
   },
   {
    "duration": 139,
    "start_time": "2021-09-15T20:59:43.264Z"
   },
   {
    "duration": 4,
    "start_time": "2021-09-15T20:59:47.005Z"
   },
   {
    "duration": 2283,
    "start_time": "2021-09-15T20:59:47.310Z"
   },
   {
    "duration": 4,
    "start_time": "2021-09-15T21:00:17.980Z"
   },
   {
    "duration": 1790,
    "start_time": "2021-09-15T21:00:18.365Z"
   },
   {
    "duration": 5,
    "start_time": "2021-09-15T21:01:00.794Z"
   },
   {
    "duration": 1560,
    "start_time": "2021-09-15T21:01:01.279Z"
   },
   {
    "duration": 5,
    "start_time": "2021-09-15T21:01:09.370Z"
   },
   {
    "duration": 2526,
    "start_time": "2021-09-15T21:01:09.880Z"
   },
   {
    "duration": 8,
    "start_time": "2021-09-15T21:02:05.254Z"
   },
   {
    "duration": 9,
    "start_time": "2021-09-15T21:02:13.924Z"
   },
   {
    "duration": 296,
    "start_time": "2021-09-15T21:02:33.352Z"
   },
   {
    "duration": 301,
    "start_time": "2021-09-15T21:02:36.763Z"
   },
   {
    "duration": 8,
    "start_time": "2021-09-15T21:02:40.095Z"
   },
   {
    "duration": 268,
    "start_time": "2021-09-15T21:02:55.837Z"
   },
   {
    "duration": 8,
    "start_time": "2021-09-15T21:02:57.742Z"
   },
   {
    "duration": 9,
    "start_time": "2021-09-15T21:03:12.282Z"
   },
   {
    "duration": 10,
    "start_time": "2021-09-15T21:03:36.747Z"
   },
   {
    "duration": 10,
    "start_time": "2021-09-15T21:03:42.160Z"
   },
   {
    "duration": 10,
    "start_time": "2021-09-15T21:04:03.025Z"
   },
   {
    "duration": 10,
    "start_time": "2021-09-15T21:04:39.792Z"
   },
   {
    "duration": 366,
    "start_time": "2021-09-15T21:04:43.520Z"
   },
   {
    "duration": 9,
    "start_time": "2021-09-15T21:04:47.263Z"
   },
   {
    "duration": 8,
    "start_time": "2021-09-15T21:04:51.435Z"
   },
   {
    "duration": 8,
    "start_time": "2021-09-15T21:05:31.400Z"
   },
   {
    "duration": 4,
    "start_time": "2021-09-15T21:05:41.896Z"
   },
   {
    "duration": 1521,
    "start_time": "2021-09-15T21:05:42.453Z"
   },
   {
    "duration": 5,
    "start_time": "2021-09-15T21:06:02.049Z"
   },
   {
    "duration": 1884,
    "start_time": "2021-09-15T21:06:02.391Z"
   },
   {
    "duration": 4,
    "start_time": "2021-09-15T21:06:36.960Z"
   },
   {
    "duration": 1578,
    "start_time": "2021-09-15T21:06:37.556Z"
   },
   {
    "duration": 5,
    "start_time": "2021-09-15T21:06:51.190Z"
   },
   {
    "duration": 1445,
    "start_time": "2021-09-15T21:06:52.538Z"
   },
   {
    "duration": 8,
    "start_time": "2021-09-15T21:07:48.022Z"
   },
   {
    "duration": 1534,
    "start_time": "2021-09-15T21:07:48.536Z"
   },
   {
    "duration": 5,
    "start_time": "2021-09-15T21:08:00.127Z"
   },
   {
    "duration": 18236,
    "start_time": "2021-09-15T21:08:00.514Z"
   },
   {
    "duration": 1433,
    "start_time": "2021-09-16T18:31:55.907Z"
   },
   {
    "duration": 603,
    "start_time": "2021-09-16T18:31:57.342Z"
   },
   {
    "duration": 123,
    "start_time": "2021-09-16T18:31:57.948Z"
   },
   {
    "duration": 7,
    "start_time": "2021-09-16T18:31:58.074Z"
   },
   {
    "duration": 5,
    "start_time": "2021-09-16T18:31:58.084Z"
   },
   {
    "duration": 12,
    "start_time": "2021-09-16T18:31:58.091Z"
   },
   {
    "duration": 5,
    "start_time": "2021-09-16T18:31:58.106Z"
   },
   {
    "duration": 142,
    "start_time": "2021-09-16T18:31:58.114Z"
   },
   {
    "duration": 49,
    "start_time": "2021-09-16T18:31:58.259Z"
   },
   {
    "duration": 8,
    "start_time": "2021-09-16T18:31:58.310Z"
   },
   {
    "duration": 5,
    "start_time": "2021-09-16T18:31:58.357Z"
   },
   {
    "duration": 6219,
    "start_time": "2021-09-16T18:31:58.364Z"
   },
   {
    "duration": 5,
    "start_time": "2021-09-16T18:34:40.093Z"
   },
   {
    "duration": 1468,
    "start_time": "2021-09-16T18:34:41.472Z"
   },
   {
    "duration": 5,
    "start_time": "2021-09-16T18:35:00.219Z"
   },
   {
    "duration": 2327,
    "start_time": "2021-09-16T18:35:01.061Z"
   },
   {
    "duration": 5,
    "start_time": "2021-09-16T18:35:13.719Z"
   },
   {
    "duration": 2344,
    "start_time": "2021-09-16T18:35:14.352Z"
   },
   {
    "duration": 6,
    "start_time": "2021-09-16T18:42:12.288Z"
   },
   {
    "duration": 1508,
    "start_time": "2021-09-16T18:42:12.586Z"
   },
   {
    "duration": 5,
    "start_time": "2021-09-16T18:46:33.759Z"
   },
   {
    "duration": 1804,
    "start_time": "2021-09-16T18:46:34.284Z"
   },
   {
    "duration": 4,
    "start_time": "2021-09-16T18:46:47.348Z"
   },
   {
    "duration": 1377,
    "start_time": "2021-09-16T18:46:47.850Z"
   },
   {
    "duration": 5,
    "start_time": "2021-09-16T18:46:53.595Z"
   },
   {
    "duration": 2164,
    "start_time": "2021-09-16T18:46:54.236Z"
   },
   {
    "duration": 5,
    "start_time": "2021-09-16T18:48:22.953Z"
   },
   {
    "duration": 1346,
    "start_time": "2021-09-16T18:48:24.177Z"
   },
   {
    "duration": 601,
    "start_time": "2021-09-16T18:49:33.465Z"
   },
   {
    "duration": 5117,
    "start_time": "2021-09-16T18:50:12.288Z"
   },
   {
    "duration": 9,
    "start_time": "2021-09-16T18:50:57.837Z"
   },
   {
    "duration": 345,
    "start_time": "2021-09-16T18:51:36.668Z"
   },
   {
    "duration": 10,
    "start_time": "2021-09-16T18:51:46.321Z"
   },
   {
    "duration": 7,
    "start_time": "2021-09-16T18:51:56.716Z"
   },
   {
    "duration": 9,
    "start_time": "2021-09-16T18:52:04.106Z"
   },
   {
    "duration": 332,
    "start_time": "2021-09-16T18:52:06.971Z"
   },
   {
    "duration": 9,
    "start_time": "2021-09-16T18:52:10.738Z"
   },
   {
    "duration": 283,
    "start_time": "2021-09-16T18:52:20.396Z"
   },
   {
    "duration": 8,
    "start_time": "2021-09-16T18:52:24.445Z"
   },
   {
    "duration": 8,
    "start_time": "2021-09-16T18:52:36.104Z"
   },
   {
    "duration": 5,
    "start_time": "2021-09-16T18:52:46.373Z"
   },
   {
    "duration": 4743,
    "start_time": "2021-09-16T18:52:46.813Z"
   },
   {
    "duration": 277,
    "start_time": "2021-09-16T18:53:16.775Z"
   },
   {
    "duration": 9,
    "start_time": "2021-09-16T18:53:19.215Z"
   },
   {
    "duration": 4699,
    "start_time": "2021-09-16T18:53:23.176Z"
   },
   {
    "duration": 5309,
    "start_time": "2021-09-16T18:53:29.952Z"
   },
   {
    "duration": 9,
    "start_time": "2021-09-16T18:53:41.272Z"
   },
   {
    "duration": 285,
    "start_time": "2021-09-16T18:53:48.665Z"
   },
   {
    "duration": 270,
    "start_time": "2021-09-16T18:53:51.886Z"
   },
   {
    "duration": 8,
    "start_time": "2021-09-16T18:53:55.038Z"
   },
   {
    "duration": 7,
    "start_time": "2021-09-16T18:54:09.407Z"
   },
   {
    "duration": 582,
    "start_time": "2021-09-16T18:54:10.031Z"
   },
   {
    "duration": 277,
    "start_time": "2021-09-16T18:54:38.888Z"
   },
   {
    "duration": 10,
    "start_time": "2021-09-16T18:54:45.024Z"
   },
   {
    "duration": 8,
    "start_time": "2021-09-16T18:54:57.216Z"
   },
   {
    "duration": 10,
    "start_time": "2021-09-16T18:55:06.665Z"
   },
   {
    "duration": 9,
    "start_time": "2021-09-16T18:55:12.618Z"
   },
   {
    "duration": 10,
    "start_time": "2021-09-16T18:55:26.754Z"
   },
   {
    "duration": 266,
    "start_time": "2021-09-16T18:55:39.825Z"
   },
   {
    "duration": 287,
    "start_time": "2021-09-16T18:55:45.425Z"
   },
   {
    "duration": 8,
    "start_time": "2021-09-16T18:57:19.989Z"
   },
   {
    "duration": 271,
    "start_time": "2021-09-16T18:57:24.553Z"
   },
   {
    "duration": 494,
    "start_time": "2021-09-16T18:57:36.467Z"
   },
   {
    "duration": 8,
    "start_time": "2021-09-16T18:57:39.406Z"
   },
   {
    "duration": 8,
    "start_time": "2021-09-16T18:57:44.490Z"
   },
   {
    "duration": 533,
    "start_time": "2021-09-16T18:57:48.472Z"
   },
   {
    "duration": 17,
    "start_time": "2021-09-16T18:59:02.196Z"
   },
   {
    "duration": 8,
    "start_time": "2021-09-16T18:59:11.572Z"
   },
   {
    "duration": 279,
    "start_time": "2021-09-16T18:59:20.146Z"
   },
   {
    "duration": 301,
    "start_time": "2021-09-16T19:00:48.286Z"
   },
   {
    "duration": 283,
    "start_time": "2021-09-16T19:00:57.026Z"
   },
   {
    "duration": 8,
    "start_time": "2021-09-16T19:01:08.756Z"
   },
   {
    "duration": 8,
    "start_time": "2021-09-16T19:01:12.354Z"
   },
   {
    "duration": 273,
    "start_time": "2021-09-16T19:01:16.528Z"
   },
   {
    "duration": 300,
    "start_time": "2021-09-16T19:02:36.461Z"
   },
   {
    "duration": 9,
    "start_time": "2021-09-16T19:02:46.858Z"
   },
   {
    "duration": 9,
    "start_time": "2021-09-16T19:02:50.872Z"
   },
   {
    "duration": 8,
    "start_time": "2021-09-16T19:02:55.539Z"
   },
   {
    "duration": 10,
    "start_time": "2021-09-16T19:03:01.691Z"
   },
   {
    "duration": 9,
    "start_time": "2021-09-16T19:03:08.705Z"
   },
   {
    "duration": 9,
    "start_time": "2021-09-16T19:03:16.410Z"
   },
   {
    "duration": 9,
    "start_time": "2021-09-16T19:03:20.347Z"
   },
   {
    "duration": 8,
    "start_time": "2021-09-16T19:03:22.966Z"
   },
   {
    "duration": 9,
    "start_time": "2021-09-16T19:03:25.506Z"
   },
   {
    "duration": 1443,
    "start_time": "2021-09-16T19:03:44.401Z"
   },
   {
    "duration": 2259,
    "start_time": "2021-09-16T19:03:45.847Z"
   },
   {
    "duration": 99,
    "start_time": "2021-09-16T19:03:48.109Z"
   },
   {
    "duration": 7,
    "start_time": "2021-09-16T19:03:48.211Z"
   },
   {
    "duration": 6,
    "start_time": "2021-09-16T19:03:48.221Z"
   },
   {
    "duration": 33,
    "start_time": "2021-09-16T19:03:48.230Z"
   },
   {
    "duration": 9,
    "start_time": "2021-09-16T19:03:48.265Z"
   },
   {
    "duration": 122,
    "start_time": "2021-09-16T19:03:48.277Z"
   },
   {
    "duration": 69,
    "start_time": "2021-09-16T19:03:48.402Z"
   },
   {
    "duration": 9,
    "start_time": "2021-09-16T19:03:48.473Z"
   },
   {
    "duration": 5,
    "start_time": "2021-09-16T19:03:48.485Z"
   },
   {
    "duration": 645,
    "start_time": "2021-09-16T19:03:48.492Z"
   },
   {
    "duration": 9,
    "start_time": "2021-09-16T19:03:54.775Z"
   },
   {
    "duration": 8,
    "start_time": "2021-09-16T19:03:59.053Z"
   },
   {
    "duration": 9,
    "start_time": "2021-09-16T19:04:02.579Z"
   },
   {
    "duration": 8,
    "start_time": "2021-09-16T19:04:17.084Z"
   },
   {
    "duration": 17,
    "start_time": "2021-09-16T19:04:21.214Z"
   },
   {
    "duration": 8,
    "start_time": "2021-09-16T19:04:38.045Z"
   },
   {
    "duration": 9,
    "start_time": "2021-09-16T19:04:43.627Z"
   },
   {
    "duration": 9,
    "start_time": "2021-09-16T19:04:57.271Z"
   },
   {
    "duration": 9,
    "start_time": "2021-09-16T19:04:58.537Z"
   },
   {
    "duration": 8,
    "start_time": "2021-09-16T19:05:19.905Z"
   },
   {
    "duration": 5,
    "start_time": "2021-09-16T19:05:51.062Z"
   },
   {
    "duration": 526,
    "start_time": "2021-09-16T19:05:52.019Z"
   },
   {
    "duration": 5,
    "start_time": "2021-09-16T19:06:30.075Z"
   },
   {
    "duration": 556,
    "start_time": "2021-09-16T19:06:30.697Z"
   },
   {
    "duration": 5,
    "start_time": "2021-09-16T19:07:34.875Z"
   },
   {
    "duration": 554,
    "start_time": "2021-09-16T19:07:35.225Z"
   },
   {
    "duration": 568,
    "start_time": "2021-09-16T19:08:10.142Z"
   },
   {
    "duration": 6,
    "start_time": "2021-09-16T19:08:13.196Z"
   },
   {
    "duration": 276,
    "start_time": "2021-09-16T19:09:21.407Z"
   },
   {
    "duration": 9,
    "start_time": "2021-09-16T19:09:27.352Z"
   },
   {
    "duration": 9,
    "start_time": "2021-09-16T19:09:39.863Z"
   },
   {
    "duration": 9,
    "start_time": "2021-09-16T19:09:42.957Z"
   },
   {
    "duration": 5,
    "start_time": "2021-09-16T19:09:48.139Z"
   },
   {
    "duration": 514,
    "start_time": "2021-09-16T19:09:48.790Z"
   },
   {
    "duration": 8,
    "start_time": "2021-09-16T19:10:09.958Z"
   },
   {
    "duration": 8,
    "start_time": "2021-09-16T19:10:21.419Z"
   },
   {
    "duration": 262,
    "start_time": "2021-09-16T19:10:33.664Z"
   },
   {
    "duration": 8,
    "start_time": "2021-09-16T19:10:39.291Z"
   },
   {
    "duration": 5,
    "start_time": "2021-09-16T19:12:07.403Z"
   },
   {
    "duration": 595,
    "start_time": "2021-09-16T19:12:08.123Z"
   },
   {
    "duration": 5,
    "start_time": "2021-09-16T19:12:15.366Z"
   },
   {
    "duration": 1923,
    "start_time": "2021-09-16T19:12:16.159Z"
   },
   {
    "duration": 543,
    "start_time": "2021-09-16T19:22:11.237Z"
   },
   {
    "duration": 5,
    "start_time": "2021-09-16T19:22:27.554Z"
   },
   {
    "duration": 1193,
    "start_time": "2021-09-16T19:22:27.871Z"
   },
   {
    "duration": 8,
    "start_time": "2021-09-16T19:25:42.571Z"
   },
   {
    "duration": 7,
    "start_time": "2021-09-16T19:26:00.875Z"
   },
   {
    "duration": 6,
    "start_time": "2021-09-16T19:26:04.319Z"
   },
   {
    "duration": 283,
    "start_time": "2021-09-16T19:26:36.177Z"
   },
   {
    "duration": 8,
    "start_time": "2021-09-16T19:26:45.630Z"
   },
   {
    "duration": 6,
    "start_time": "2021-09-17T13:15:15.582Z"
   },
   {
    "duration": 602,
    "start_time": "2021-09-17T13:15:16.356Z"
   },
   {
    "duration": 1629,
    "start_time": "2021-09-17T13:15:21.157Z"
   },
   {
    "duration": 592,
    "start_time": "2021-09-17T13:15:22.790Z"
   },
   {
    "duration": 117,
    "start_time": "2021-09-17T13:15:23.384Z"
   },
   {
    "duration": 10,
    "start_time": "2021-09-17T13:15:23.504Z"
   },
   {
    "duration": 16,
    "start_time": "2021-09-17T13:15:23.516Z"
   },
   {
    "duration": 12,
    "start_time": "2021-09-17T13:15:23.564Z"
   },
   {
    "duration": 7,
    "start_time": "2021-09-17T13:15:23.583Z"
   },
   {
    "duration": 133,
    "start_time": "2021-09-17T13:15:23.592Z"
   },
   {
    "duration": 78,
    "start_time": "2021-09-17T13:15:23.729Z"
   },
   {
    "duration": 8,
    "start_time": "2021-09-17T13:15:23.810Z"
   },
   {
    "duration": 46,
    "start_time": "2021-09-17T13:15:23.820Z"
   },
   {
    "duration": 12,
    "start_time": "2021-09-17T13:15:23.869Z"
   },
   {
    "duration": 711,
    "start_time": "2021-09-17T13:15:23.883Z"
   },
   {
    "duration": 125,
    "start_time": "2021-09-17T13:15:24.471Z"
   },
   {
    "duration": 12,
    "start_time": "2021-09-17T13:15:47.556Z"
   },
   {
    "duration": 598,
    "start_time": "2021-09-17T13:15:48.006Z"
   },
   {
    "duration": 5,
    "start_time": "2021-09-17T13:15:56.514Z"
   },
   {
    "duration": 520,
    "start_time": "2021-09-17T13:15:57.004Z"
   },
   {
    "duration": 4,
    "start_time": "2021-09-17T13:16:09.809Z"
   },
   {
    "duration": 529,
    "start_time": "2021-09-17T13:16:10.285Z"
   },
   {
    "duration": 86,
    "start_time": "2021-09-17T13:16:30.106Z"
   },
   {
    "duration": 4,
    "start_time": "2021-09-17T13:16:34.616Z"
   },
   {
    "duration": 8,
    "start_time": "2021-09-17T13:16:35.597Z"
   },
   {
    "duration": 5,
    "start_time": "2021-09-17T13:17:02.820Z"
   },
   {
    "duration": 18,
    "start_time": "2021-09-17T13:17:05.759Z"
   },
   {
    "duration": 4,
    "start_time": "2021-09-17T13:17:08.305Z"
   },
   {
    "duration": 8,
    "start_time": "2021-09-17T13:17:08.906Z"
   },
   {
    "duration": 11,
    "start_time": "2021-09-17T13:17:24.556Z"
   },
   {
    "duration": 8,
    "start_time": "2021-09-17T13:17:24.921Z"
   },
   {
    "duration": 4,
    "start_time": "2021-09-17T13:18:13.919Z"
   },
   {
    "duration": 10,
    "start_time": "2021-09-17T13:18:14.540Z"
   },
   {
    "duration": 5,
    "start_time": "2021-09-17T13:18:28.519Z"
   },
   {
    "duration": 13,
    "start_time": "2021-09-17T13:18:28.860Z"
   },
   {
    "duration": 5,
    "start_time": "2021-09-17T13:19:12.627Z"
   },
   {
    "duration": 531,
    "start_time": "2021-09-17T13:19:13.254Z"
   },
   {
    "duration": 6,
    "start_time": "2021-09-17T13:22:01.838Z"
   },
   {
    "duration": 655,
    "start_time": "2021-09-17T13:22:02.198Z"
   },
   {
    "duration": 6,
    "start_time": "2021-09-17T13:23:24.684Z"
   },
   {
    "duration": 529,
    "start_time": "2021-09-17T13:23:25.148Z"
   },
   {
    "duration": 9,
    "start_time": "2021-09-17T13:37:18.287Z"
   },
   {
    "duration": 524,
    "start_time": "2021-09-17T13:37:19.083Z"
   },
   {
    "duration": 10,
    "start_time": "2021-09-17T13:38:04.473Z"
   },
   {
    "duration": 15,
    "start_time": "2021-09-17T13:38:11.650Z"
   },
   {
    "duration": 7,
    "start_time": "2021-09-17T13:38:17.104Z"
   },
   {
    "duration": 9037,
    "start_time": "2021-09-17T13:38:17.437Z"
   },
   {
    "duration": 90,
    "start_time": "2021-09-17T13:38:55.041Z"
   },
   {
    "duration": 7,
    "start_time": "2021-09-17T13:39:01.817Z"
   },
   {
    "duration": 1191,
    "start_time": "2021-09-17T13:39:02.705Z"
   },
   {
    "duration": 20,
    "start_time": "2021-09-17T14:04:05.353Z"
   },
   {
    "duration": 555,
    "start_time": "2021-09-17T14:04:05.841Z"
   },
   {
    "duration": 7,
    "start_time": "2021-09-17T14:04:19.832Z"
   },
   {
    "duration": 1795,
    "start_time": "2021-09-17T14:04:20.531Z"
   },
   {
    "duration": 6,
    "start_time": "2021-09-17T14:05:11.206Z"
   },
   {
    "duration": 569,
    "start_time": "2021-09-17T14:05:11.612Z"
   },
   {
    "duration": 112,
    "start_time": "2021-09-17T14:06:09.476Z"
   },
   {
    "duration": 6,
    "start_time": "2021-09-17T14:06:15.126Z"
   },
   {
    "duration": 544,
    "start_time": "2021-09-17T14:06:16.830Z"
   },
   {
    "duration": 7,
    "start_time": "2021-09-17T14:06:31.819Z"
   },
   {
    "duration": 516,
    "start_time": "2021-09-17T14:06:32.400Z"
   },
   {
    "duration": 6,
    "start_time": "2021-09-17T14:06:42.108Z"
   },
   {
    "duration": 12,
    "start_time": "2021-09-17T14:06:42.658Z"
   },
   {
    "duration": 13,
    "start_time": "2021-09-17T14:06:58.652Z"
   },
   {
    "duration": 11,
    "start_time": "2021-09-17T14:06:59.156Z"
   },
   {
    "duration": 7,
    "start_time": "2021-09-17T14:07:05.930Z"
   },
   {
    "duration": 11,
    "start_time": "2021-09-17T14:07:11.735Z"
   },
   {
    "duration": 9,
    "start_time": "2021-09-17T14:07:12.343Z"
   },
   {
    "duration": 1774,
    "start_time": "2021-09-17T14:08:41.968Z"
   },
   {
    "duration": 30,
    "start_time": "2021-09-17T14:08:48.882Z"
   },
   {
    "duration": 11,
    "start_time": "2021-09-17T14:09:41.660Z"
   },
   {
    "duration": 1776,
    "start_time": "2021-09-17T14:09:42.514Z"
   },
   {
    "duration": 36,
    "start_time": "2021-09-17T14:09:44.945Z"
   },
   {
    "duration": 1729,
    "start_time": "2021-09-17T17:38:26.804Z"
   },
   {
    "duration": 38,
    "start_time": "2021-09-17T17:38:28.536Z"
   },
   {
    "duration": 1463,
    "start_time": "2021-09-17T17:49:09.181Z"
   },
   {
    "duration": 534,
    "start_time": "2021-09-17T17:49:10.647Z"
   },
   {
    "duration": 105,
    "start_time": "2021-09-17T17:49:11.184Z"
   },
   {
    "duration": 9,
    "start_time": "2021-09-17T17:49:11.292Z"
   },
   {
    "duration": 25,
    "start_time": "2021-09-17T17:49:11.304Z"
   },
   {
    "duration": 33,
    "start_time": "2021-09-17T17:49:11.331Z"
   },
   {
    "duration": 35,
    "start_time": "2021-09-17T17:49:11.367Z"
   },
   {
    "duration": 139,
    "start_time": "2021-09-17T17:49:11.405Z"
   },
   {
    "duration": 57,
    "start_time": "2021-09-17T17:49:11.547Z"
   },
   {
    "duration": 6,
    "start_time": "2021-09-17T17:49:11.607Z"
   },
   {
    "duration": 58,
    "start_time": "2021-09-17T17:49:11.616Z"
   },
   {
    "duration": 4,
    "start_time": "2021-09-17T17:49:19.279Z"
   },
   {
    "duration": 4,
    "start_time": "2021-09-17T17:49:46.718Z"
   },
   {
    "duration": 1494,
    "start_time": "2021-09-17T17:49:51.169Z"
   },
   {
    "duration": 529,
    "start_time": "2021-09-17T17:49:52.666Z"
   },
   {
    "duration": 103,
    "start_time": "2021-09-17T17:49:53.199Z"
   },
   {
    "duration": 9,
    "start_time": "2021-09-17T17:49:53.304Z"
   },
   {
    "duration": 22,
    "start_time": "2021-09-17T17:49:53.315Z"
   },
   {
    "duration": 27,
    "start_time": "2021-09-17T17:49:53.340Z"
   },
   {
    "duration": 29,
    "start_time": "2021-09-17T17:49:53.370Z"
   },
   {
    "duration": 127,
    "start_time": "2021-09-17T17:49:53.402Z"
   },
   {
    "duration": 56,
    "start_time": "2021-09-17T17:49:53.532Z"
   },
   {
    "duration": 7,
    "start_time": "2021-09-17T17:49:53.590Z"
   },
   {
    "duration": 55,
    "start_time": "2021-09-17T17:49:53.599Z"
   },
   {
    "duration": 7,
    "start_time": "2021-09-17T17:49:57.528Z"
   },
   {
    "duration": 1711,
    "start_time": "2021-09-17T17:55:13.964Z"
   },
   {
    "duration": 27,
    "start_time": "2021-09-17T17:55:15.678Z"
   },
   {
    "duration": 10,
    "start_time": "2021-09-17T17:56:20.653Z"
   },
   {
    "duration": 1898,
    "start_time": "2021-09-17T17:56:21.585Z"
   },
   {
    "duration": 25,
    "start_time": "2021-09-17T17:56:23.485Z"
   },
   {
    "duration": 549,
    "start_time": "2021-09-17T18:04:43.856Z"
   },
   {
    "duration": 133,
    "start_time": "2021-09-17T18:04:57.349Z"
   },
   {
    "duration": 1492,
    "start_time": "2021-09-18T10:35:13.588Z"
   },
   {
    "duration": 544,
    "start_time": "2021-09-18T10:35:15.082Z"
   },
   {
    "duration": 142,
    "start_time": "2021-09-18T10:35:15.629Z"
   },
   {
    "duration": 9,
    "start_time": "2021-09-18T10:35:15.774Z"
   },
   {
    "duration": 6,
    "start_time": "2021-09-18T10:35:15.786Z"
   },
   {
    "duration": 11,
    "start_time": "2021-09-18T10:35:15.794Z"
   },
   {
    "duration": 7,
    "start_time": "2021-09-18T10:35:15.807Z"
   },
   {
    "duration": 158,
    "start_time": "2021-09-18T10:35:15.816Z"
   },
   {
    "duration": 52,
    "start_time": "2021-09-18T10:35:15.977Z"
   },
   {
    "duration": 37,
    "start_time": "2021-09-18T10:35:16.031Z"
   },
   {
    "duration": 1898,
    "start_time": "2021-09-18T10:35:16.071Z"
   },
   {
    "duration": 43,
    "start_time": "2021-09-18T10:35:17.972Z"
   },
   {
    "duration": 7,
    "start_time": "2021-09-18T10:38:26.395Z"
   },
   {
    "duration": 20,
    "start_time": "2021-09-18T11:07:05.883Z"
   },
   {
    "duration": 12,
    "start_time": "2021-09-18T11:08:40.587Z"
   },
   {
    "duration": 14,
    "start_time": "2021-09-18T11:08:48.798Z"
   },
   {
    "duration": 13,
    "start_time": "2021-09-18T11:09:43.250Z"
   },
   {
    "duration": 14,
    "start_time": "2021-09-18T11:09:59.407Z"
   },
   {
    "duration": 14,
    "start_time": "2021-09-18T11:10:06.745Z"
   },
   {
    "duration": 9,
    "start_time": "2021-09-18T11:10:09.526Z"
   },
   {
    "duration": 2116,
    "start_time": "2021-09-18T11:11:14.299Z"
   },
   {
    "duration": 4,
    "start_time": "2021-09-18T11:12:32.823Z"
   },
   {
    "duration": 1745,
    "start_time": "2021-09-18T11:12:41.095Z"
   },
   {
    "duration": 110,
    "start_time": "2021-09-18T11:12:57.963Z"
   },
   {
    "duration": 97,
    "start_time": "2021-09-18T11:13:02.844Z"
   },
   {
    "duration": 10,
    "start_time": "2021-09-18T11:13:08.675Z"
   },
   {
    "duration": 19,
    "start_time": "2021-09-18T11:13:20.529Z"
   },
   {
    "duration": 8,
    "start_time": "2021-09-18T11:13:28.947Z"
   },
   {
    "duration": 92,
    "start_time": "2021-09-18T11:13:59.956Z"
   },
   {
    "duration": 1588,
    "start_time": "2021-09-18T11:14:08.274Z"
   },
   {
    "duration": 531,
    "start_time": "2021-09-18T11:14:09.865Z"
   },
   {
    "duration": 121,
    "start_time": "2021-09-18T11:14:10.399Z"
   },
   {
    "duration": 10,
    "start_time": "2021-09-18T11:14:10.523Z"
   },
   {
    "duration": 4,
    "start_time": "2021-09-18T11:14:10.568Z"
   },
   {
    "duration": 23,
    "start_time": "2021-09-18T11:14:10.575Z"
   },
   {
    "duration": 15,
    "start_time": "2021-09-18T11:14:10.600Z"
   },
   {
    "duration": 146,
    "start_time": "2021-09-18T11:14:10.617Z"
   },
   {
    "duration": 66,
    "start_time": "2021-09-18T11:14:10.770Z"
   },
   {
    "duration": 35,
    "start_time": "2021-09-18T11:14:10.839Z"
   },
   {
    "duration": 2907,
    "start_time": "2021-09-18T11:14:10.877Z"
   },
   {
    "duration": 45,
    "start_time": "2021-09-18T11:14:13.787Z"
   },
   {
    "duration": 245,
    "start_time": "2021-09-18T11:14:13.835Z"
   },
   {
    "duration": 18,
    "start_time": "2021-09-18T11:30:33.115Z"
   },
   {
    "duration": 95,
    "start_time": "2021-09-18T11:30:51.209Z"
   },
   {
    "duration": 18,
    "start_time": "2021-09-18T11:30:51.935Z"
   },
   {
    "duration": 92,
    "start_time": "2021-09-18T11:31:06.622Z"
   },
   {
    "duration": 18,
    "start_time": "2021-09-18T11:31:08.159Z"
   },
   {
    "duration": 1492,
    "start_time": "2021-09-18T11:31:54.181Z"
   },
   {
    "duration": 548,
    "start_time": "2021-09-18T11:31:55.675Z"
   },
   {
    "duration": 117,
    "start_time": "2021-09-18T11:31:56.226Z"
   },
   {
    "duration": 9,
    "start_time": "2021-09-18T11:31:56.367Z"
   },
   {
    "duration": 6,
    "start_time": "2021-09-18T11:31:56.378Z"
   },
   {
    "duration": 11,
    "start_time": "2021-09-18T11:31:56.387Z"
   },
   {
    "duration": 12,
    "start_time": "2021-09-18T11:31:56.400Z"
   },
   {
    "duration": 142,
    "start_time": "2021-09-18T11:31:56.414Z"
   },
   {
    "duration": 54,
    "start_time": "2021-09-18T11:31:56.560Z"
   },
   {
    "duration": 150,
    "start_time": "2021-09-18T11:31:56.617Z"
   },
   {
    "duration": 18,
    "start_time": "2021-09-18T11:31:56.769Z"
   },
   {
    "duration": 7,
    "start_time": "2021-09-18T11:31:56.789Z"
   },
   {
    "duration": 1700,
    "start_time": "2021-09-18T11:31:56.799Z"
   },
   {
    "duration": 29,
    "start_time": "2021-09-18T11:31:58.501Z"
   },
   {
    "duration": 7,
    "start_time": "2021-09-18T11:32:17.191Z"
   },
   {
    "duration": 546,
    "start_time": "2021-09-18T11:32:32.096Z"
   },
   {
    "duration": 19,
    "start_time": "2021-09-18T11:32:37.131Z"
   },
   {
    "duration": 1478,
    "start_time": "2021-09-18T11:32:49.490Z"
   },
   {
    "duration": 526,
    "start_time": "2021-09-18T11:32:50.971Z"
   },
   {
    "duration": 123,
    "start_time": "2021-09-18T11:32:51.501Z"
   },
   {
    "duration": 9,
    "start_time": "2021-09-18T11:32:51.626Z"
   },
   {
    "duration": 31,
    "start_time": "2021-09-18T11:32:51.637Z"
   },
   {
    "duration": 12,
    "start_time": "2021-09-18T11:32:51.670Z"
   },
   {
    "duration": 6,
    "start_time": "2021-09-18T11:32:51.685Z"
   },
   {
    "duration": 130,
    "start_time": "2021-09-18T11:32:51.694Z"
   },
   {
    "duration": 68,
    "start_time": "2021-09-18T11:32:51.827Z"
   },
   {
    "duration": 142,
    "start_time": "2021-09-18T11:32:51.897Z"
   },
   {
    "duration": 28,
    "start_time": "2021-09-18T11:32:52.041Z"
   },
   {
    "duration": 6,
    "start_time": "2021-09-18T11:32:52.072Z"
   },
   {
    "duration": 1708,
    "start_time": "2021-09-18T11:32:52.081Z"
   },
   {
    "duration": 28,
    "start_time": "2021-09-18T11:32:53.791Z"
   },
   {
    "duration": 98,
    "start_time": "2021-09-18T11:32:57.616Z"
   },
   {
    "duration": 19,
    "start_time": "2021-09-18T11:32:58.104Z"
   },
   {
    "duration": 828,
    "start_time": "2021-09-18T11:38:34.214Z"
   },
   {
    "duration": 350,
    "start_time": "2021-09-18T11:41:02.566Z"
   },
   {
    "duration": 398,
    "start_time": "2021-09-18T11:41:24.358Z"
   },
   {
    "duration": 390,
    "start_time": "2021-09-18T11:41:40.501Z"
   },
   {
    "duration": 324,
    "start_time": "2021-09-18T11:41:46.591Z"
   },
   {
    "duration": 1571,
    "start_time": "2021-09-18T11:42:36.423Z"
   },
   {
    "duration": 1552,
    "start_time": "2021-09-18T11:43:02.756Z"
   },
   {
    "duration": 273,
    "start_time": "2021-09-18T11:47:08.043Z"
   },
   {
    "duration": 860,
    "start_time": "2021-09-18T11:47:24.581Z"
   },
   {
    "duration": 763,
    "start_time": "2021-09-18T11:47:31.750Z"
   },
   {
    "duration": 647,
    "start_time": "2021-09-18T11:47:36.800Z"
   },
   {
    "duration": 426,
    "start_time": "2021-09-18T11:50:55.683Z"
   },
   {
    "duration": 2267,
    "start_time": "2021-09-18T11:51:13.018Z"
   },
   {
    "duration": 345,
    "start_time": "2021-09-18T11:51:26.157Z"
   },
   {
    "duration": 193,
    "start_time": "2021-09-18T11:51:30.544Z"
   },
   {
    "duration": 338,
    "start_time": "2021-09-18T11:51:33.671Z"
   },
   {
    "duration": 1545,
    "start_time": "2021-09-18T11:52:26.335Z"
   },
   {
    "duration": 312,
    "start_time": "2021-09-18T11:52:35.057Z"
   },
   {
    "duration": 17,
    "start_time": "2021-09-18T11:52:49.613Z"
   },
   {
    "duration": 389,
    "start_time": "2021-09-18T11:53:38.579Z"
   },
   {
    "duration": 386,
    "start_time": "2021-09-18T11:53:55.187Z"
   },
   {
    "duration": 21,
    "start_time": "2021-09-18T11:53:56.626Z"
   },
   {
    "duration": 355,
    "start_time": "2021-09-18T11:54:55.308Z"
   },
   {
    "duration": 43,
    "start_time": "2021-09-18T11:55:03.537Z"
   },
   {
    "duration": 385,
    "start_time": "2021-09-18T11:55:06.950Z"
   },
   {
    "duration": 1608,
    "start_time": "2021-09-18T11:55:17.752Z"
   },
   {
    "duration": 531,
    "start_time": "2021-09-18T11:55:19.363Z"
   },
   {
    "duration": 119,
    "start_time": "2021-09-18T11:55:19.897Z"
   },
   {
    "duration": 10,
    "start_time": "2021-09-18T11:55:20.020Z"
   },
   {
    "duration": 5,
    "start_time": "2021-09-18T11:55:20.068Z"
   },
   {
    "duration": 15,
    "start_time": "2021-09-18T11:55:20.075Z"
   },
   {
    "duration": 6,
    "start_time": "2021-09-18T11:55:20.092Z"
   },
   {
    "duration": 139,
    "start_time": "2021-09-18T11:55:20.100Z"
   },
   {
    "duration": 54,
    "start_time": "2021-09-18T11:55:20.242Z"
   },
   {
    "duration": 148,
    "start_time": "2021-09-18T11:55:20.299Z"
   },
   {
    "duration": 28,
    "start_time": "2021-09-18T11:55:20.449Z"
   },
   {
    "duration": 412,
    "start_time": "2021-09-18T11:55:20.479Z"
   },
   {
    "duration": 52,
    "start_time": "2021-09-18T11:55:20.894Z"
   },
   {
    "duration": 19,
    "start_time": "2021-09-18T11:55:20.948Z"
   },
   {
    "duration": 1682,
    "start_time": "2021-09-18T11:55:20.969Z"
   },
   {
    "duration": 35,
    "start_time": "2021-09-18T11:55:22.653Z"
   },
   {
    "duration": 36,
    "start_time": "2021-09-18T11:56:00.909Z"
   },
   {
    "duration": 1527,
    "start_time": "2021-09-18T11:56:47.045Z"
   },
   {
    "duration": 552,
    "start_time": "2021-09-18T11:56:48.575Z"
   },
   {
    "duration": 145,
    "start_time": "2021-09-18T11:56:49.130Z"
   },
   {
    "duration": 10,
    "start_time": "2021-09-18T11:56:49.279Z"
   },
   {
    "duration": 9,
    "start_time": "2021-09-18T11:56:49.291Z"
   },
   {
    "duration": 14,
    "start_time": "2021-09-18T11:56:49.302Z"
   },
   {
    "duration": 9,
    "start_time": "2021-09-18T11:56:49.319Z"
   },
   {
    "duration": 120,
    "start_time": "2021-09-18T11:56:49.368Z"
   },
   {
    "duration": 75,
    "start_time": "2021-09-18T11:56:49.492Z"
   },
   {
    "duration": 136,
    "start_time": "2021-09-18T11:56:49.571Z"
   },
   {
    "duration": 20,
    "start_time": "2021-09-18T11:56:49.709Z"
   },
   {
    "duration": 463,
    "start_time": "2021-09-18T11:56:49.731Z"
   },
   {
    "duration": 18,
    "start_time": "2021-09-18T11:56:50.197Z"
   },
   {
    "duration": 21,
    "start_time": "2021-09-18T11:56:50.217Z"
   },
   {
    "duration": 7,
    "start_time": "2021-09-18T11:56:50.267Z"
   },
   {
    "duration": 1707,
    "start_time": "2021-09-18T11:56:50.276Z"
   },
   {
    "duration": 26,
    "start_time": "2021-09-18T11:56:51.986Z"
   },
   {
    "duration": 20,
    "start_time": "2021-09-18T12:02:27.105Z"
   },
   {
    "duration": 9,
    "start_time": "2021-09-18T12:02:55.256Z"
   },
   {
    "duration": 9,
    "start_time": "2021-09-18T12:03:39.633Z"
   },
   {
    "duration": 29,
    "start_time": "2021-09-18T12:03:47.979Z"
   },
   {
    "duration": 10,
    "start_time": "2021-09-18T12:03:55.587Z"
   },
   {
    "duration": 28,
    "start_time": "2021-09-18T12:03:59.994Z"
   },
   {
    "duration": 9,
    "start_time": "2021-09-18T12:04:03.172Z"
   },
   {
    "duration": 9,
    "start_time": "2021-09-18T12:05:35.813Z"
   },
   {
    "duration": 4,
    "start_time": "2021-09-18T12:10:25.749Z"
   },
   {
    "duration": 8,
    "start_time": "2021-09-18T12:10:37.868Z"
   },
   {
    "duration": 362,
    "start_time": "2021-09-18T12:10:47.882Z"
   },
   {
    "duration": 4,
    "start_time": "2021-09-18T12:11:47.738Z"
   },
   {
    "duration": 1626,
    "start_time": "2021-09-18T12:12:59.292Z"
   },
   {
    "duration": 569,
    "start_time": "2021-09-18T12:13:00.921Z"
   },
   {
    "duration": 122,
    "start_time": "2021-09-18T12:13:01.493Z"
   },
   {
    "duration": 9,
    "start_time": "2021-09-18T12:13:01.618Z"
   },
   {
    "duration": 21,
    "start_time": "2021-09-18T12:13:01.630Z"
   },
   {
    "duration": 43,
    "start_time": "2021-09-18T12:13:01.654Z"
   },
   {
    "duration": 9,
    "start_time": "2021-09-18T12:13:01.700Z"
   },
   {
    "duration": 152,
    "start_time": "2021-09-18T12:13:01.713Z"
   },
   {
    "duration": 52,
    "start_time": "2021-09-18T12:13:01.869Z"
   },
   {
    "duration": 126,
    "start_time": "2021-09-18T12:13:01.924Z"
   },
   {
    "duration": 23,
    "start_time": "2021-09-18T12:13:02.052Z"
   },
   {
    "duration": 44,
    "start_time": "2021-09-18T12:13:02.078Z"
   },
   {
    "duration": 480,
    "start_time": "2021-09-18T12:13:02.125Z"
   },
   {
    "duration": 60,
    "start_time": "2021-09-18T12:13:02.607Z"
   },
   {
    "duration": 53,
    "start_time": "2021-09-18T12:13:02.670Z"
   },
   {
    "duration": 52,
    "start_time": "2021-09-18T12:13:02.726Z"
   },
   {
    "duration": 13,
    "start_time": "2021-09-18T12:13:02.781Z"
   },
   {
    "duration": 24,
    "start_time": "2021-09-18T12:13:02.797Z"
   },
   {
    "duration": 9192,
    "start_time": "2021-09-18T12:13:02.823Z"
   },
   {
    "duration": 1017,
    "start_time": "2021-09-18T12:13:11.000Z"
   },
   {
    "duration": 1017,
    "start_time": "2021-09-18T12:13:11.002Z"
   },
   {
    "duration": 1017,
    "start_time": "2021-09-18T12:13:11.003Z"
   },
   {
    "duration": 1017,
    "start_time": "2021-09-18T12:13:11.004Z"
   },
   {
    "duration": 359,
    "start_time": "2021-09-18T12:14:12.230Z"
   },
   {
    "duration": 300,
    "start_time": "2021-09-18T12:14:32.585Z"
   },
   {
    "duration": 10832,
    "start_time": "2021-09-18T12:14:50.174Z"
   },
   {
    "duration": 1482,
    "start_time": "2021-09-18T12:15:49.484Z"
   },
   {
    "duration": 527,
    "start_time": "2021-09-18T12:15:50.969Z"
   },
   {
    "duration": 123,
    "start_time": "2021-09-18T12:15:51.499Z"
   },
   {
    "duration": 9,
    "start_time": "2021-09-18T12:15:51.625Z"
   },
   {
    "duration": 34,
    "start_time": "2021-09-18T12:15:51.637Z"
   },
   {
    "duration": 23,
    "start_time": "2021-09-18T12:15:51.673Z"
   },
   {
    "duration": 19,
    "start_time": "2021-09-18T12:15:51.698Z"
   },
   {
    "duration": 114,
    "start_time": "2021-09-18T12:15:51.721Z"
   },
   {
    "duration": 62,
    "start_time": "2021-09-18T12:15:51.838Z"
   },
   {
    "duration": 143,
    "start_time": "2021-09-18T12:15:51.903Z"
   },
   {
    "duration": 34,
    "start_time": "2021-09-18T12:15:52.049Z"
   },
   {
    "duration": 7,
    "start_time": "2021-09-18T12:15:52.086Z"
   },
   {
    "duration": 467,
    "start_time": "2021-09-18T12:15:52.095Z"
   },
   {
    "duration": 18,
    "start_time": "2021-09-18T12:15:52.564Z"
   },
   {
    "duration": 21,
    "start_time": "2021-09-18T12:15:52.584Z"
   },
   {
    "duration": 19,
    "start_time": "2021-09-18T12:15:52.607Z"
   },
   {
    "duration": 42,
    "start_time": "2021-09-18T12:15:52.628Z"
   },
   {
    "duration": 10,
    "start_time": "2021-09-18T12:15:52.672Z"
   },
   {
    "duration": 385,
    "start_time": "2021-09-18T12:15:52.685Z"
   },
   {
    "duration": 11,
    "start_time": "2021-09-18T12:15:53.072Z"
   },
   {
    "duration": 24,
    "start_time": "2021-09-18T12:15:53.085Z"
   },
   {
    "duration": 7,
    "start_time": "2021-09-18T12:15:53.111Z"
   },
   {
    "duration": 1720,
    "start_time": "2021-09-18T12:15:53.123Z"
   },
   {
    "duration": 39,
    "start_time": "2021-09-18T12:15:54.845Z"
   },
   {
    "duration": 1582,
    "start_time": "2021-09-18T18:12:52.489Z"
   },
   {
    "duration": 657,
    "start_time": "2021-09-18T18:12:54.074Z"
   },
   {
    "duration": 182,
    "start_time": "2021-09-18T18:12:54.734Z"
   },
   {
    "duration": 42,
    "start_time": "2021-09-18T18:12:54.919Z"
   },
   {
    "duration": 14,
    "start_time": "2021-09-18T18:12:54.964Z"
   },
   {
    "duration": 15,
    "start_time": "2021-09-18T18:12:54.981Z"
   },
   {
    "duration": 16,
    "start_time": "2021-09-18T18:12:54.998Z"
   },
   {
    "duration": 142,
    "start_time": "2021-09-18T18:12:55.017Z"
   },
   {
    "duration": 60,
    "start_time": "2021-09-18T18:12:55.165Z"
   },
   {
    "duration": 225,
    "start_time": "2021-09-18T18:12:55.256Z"
   },
   {
    "duration": 38,
    "start_time": "2021-09-18T18:12:55.484Z"
   },
   {
    "duration": 14,
    "start_time": "2021-09-18T18:12:55.525Z"
   },
   {
    "duration": 637,
    "start_time": "2021-09-18T18:12:55.542Z"
   },
   {
    "duration": 17,
    "start_time": "2021-09-18T18:12:56.182Z"
   },
   {
    "duration": 21,
    "start_time": "2021-09-18T18:12:56.202Z"
   },
   {
    "duration": 49,
    "start_time": "2021-09-18T18:12:56.226Z"
   },
   {
    "duration": 38,
    "start_time": "2021-09-18T18:12:56.278Z"
   },
   {
    "duration": 23,
    "start_time": "2021-09-18T18:12:56.318Z"
   },
   {
    "duration": 624,
    "start_time": "2021-09-18T18:12:56.345Z"
   },
   {
    "duration": 17,
    "start_time": "2021-09-18T18:12:56.973Z"
   },
   {
    "duration": 36,
    "start_time": "2021-09-18T18:12:56.994Z"
   },
   {
    "duration": 10,
    "start_time": "2021-09-18T18:12:57.057Z"
   },
   {
    "duration": 1910,
    "start_time": "2021-09-18T18:12:57.070Z"
   },
   {
    "duration": 30,
    "start_time": "2021-09-18T18:12:58.984Z"
   },
   {
    "duration": 257,
    "start_time": "2021-09-18T18:15:40.283Z"
   },
   {
    "duration": 1562,
    "start_time": "2021-09-18T18:16:56.017Z"
   },
   {
    "duration": 559,
    "start_time": "2021-09-18T18:16:57.582Z"
   },
   {
    "duration": 140,
    "start_time": "2021-09-18T18:16:58.145Z"
   },
   {
    "duration": 8,
    "start_time": "2021-09-18T18:16:58.288Z"
   },
   {
    "duration": 17,
    "start_time": "2021-09-18T18:16:58.298Z"
   },
   {
    "duration": 40,
    "start_time": "2021-09-18T18:16:58.318Z"
   },
   {
    "duration": 19,
    "start_time": "2021-09-18T18:16:58.361Z"
   },
   {
    "duration": 121,
    "start_time": "2021-09-18T18:16:58.383Z"
   },
   {
    "duration": 76,
    "start_time": "2021-09-18T18:16:58.508Z"
   },
   {
    "duration": 143,
    "start_time": "2021-09-18T18:16:58.588Z"
   },
   {
    "duration": 30,
    "start_time": "2021-09-18T18:16:58.734Z"
   },
   {
    "duration": 13,
    "start_time": "2021-09-18T18:16:58.767Z"
   },
   {
    "duration": 433,
    "start_time": "2021-09-18T18:16:58.782Z"
   },
   {
    "duration": 19,
    "start_time": "2021-09-18T18:16:59.218Z"
   },
   {
    "duration": 39,
    "start_time": "2021-09-18T18:16:59.240Z"
   },
   {
    "duration": 24,
    "start_time": "2021-09-18T18:16:59.283Z"
   },
   {
    "duration": 45,
    "start_time": "2021-09-18T18:16:59.310Z"
   },
   {
    "duration": 30,
    "start_time": "2021-09-18T18:16:59.358Z"
   },
   {
    "duration": 481,
    "start_time": "2021-09-18T18:16:59.391Z"
   },
   {
    "duration": 10,
    "start_time": "2021-09-18T18:16:59.875Z"
   },
   {
    "duration": 35,
    "start_time": "2021-09-18T18:16:59.888Z"
   },
   {
    "duration": 286,
    "start_time": "2021-09-18T18:16:59.926Z"
   },
   {
    "duration": 7,
    "start_time": "2021-09-18T18:17:00.214Z"
   },
   {
    "duration": 103,
    "start_time": "2021-09-18T18:17:00.223Z"
   },
   {
    "duration": 121,
    "start_time": "2021-09-18T18:17:00.329Z"
   },
   {
    "duration": 1872,
    "start_time": "2021-09-18T18:17:00.453Z"
   },
   {
    "duration": 50,
    "start_time": "2021-09-18T18:17:02.331Z"
   },
   {
    "duration": 273,
    "start_time": "2021-09-19T07:47:04.957Z"
   },
   {
    "duration": 254,
    "start_time": "2021-09-19T07:47:08.141Z"
   },
   {
    "duration": 1256,
    "start_time": "2021-09-19T07:47:14.378Z"
   },
   {
    "duration": 550,
    "start_time": "2021-09-19T07:47:15.636Z"
   },
   {
    "duration": 81,
    "start_time": "2021-09-19T07:47:16.188Z"
   },
   {
    "duration": 6,
    "start_time": "2021-09-19T07:47:16.271Z"
   },
   {
    "duration": 5,
    "start_time": "2021-09-19T07:47:16.278Z"
   },
   {
    "duration": 8,
    "start_time": "2021-09-19T07:47:16.285Z"
   },
   {
    "duration": 5,
    "start_time": "2021-09-19T07:47:16.294Z"
   },
   {
    "duration": 97,
    "start_time": "2021-09-19T07:47:16.301Z"
   },
   {
    "duration": 33,
    "start_time": "2021-09-19T07:47:16.400Z"
   },
   {
    "duration": 82,
    "start_time": "2021-09-19T07:47:16.450Z"
   },
   {
    "duration": 25,
    "start_time": "2021-09-19T07:47:16.533Z"
   },
   {
    "duration": 3,
    "start_time": "2021-09-19T07:47:16.560Z"
   },
   {
    "duration": 354,
    "start_time": "2021-09-19T07:47:16.565Z"
   },
   {
    "duration": 12,
    "start_time": "2021-09-19T07:47:16.921Z"
   },
   {
    "duration": 23,
    "start_time": "2021-09-19T07:47:16.935Z"
   },
   {
    "duration": 12,
    "start_time": "2021-09-19T07:47:16.959Z"
   },
   {
    "duration": 7,
    "start_time": "2021-09-19T07:47:16.973Z"
   },
   {
    "duration": 7,
    "start_time": "2021-09-19T07:47:16.982Z"
   },
   {
    "duration": 308,
    "start_time": "2021-09-19T07:47:16.991Z"
   },
   {
    "duration": 9,
    "start_time": "2021-09-19T07:47:17.301Z"
   },
   {
    "duration": 17,
    "start_time": "2021-09-19T07:47:17.312Z"
   },
   {
    "duration": 242,
    "start_time": "2021-09-19T07:47:17.349Z"
   },
   {
    "duration": 6,
    "start_time": "2021-09-19T07:47:17.593Z"
   },
   {
    "duration": 14,
    "start_time": "2021-09-19T07:47:17.601Z"
   },
   {
    "duration": 79,
    "start_time": "2021-09-19T07:47:17.617Z"
   },
   {
    "duration": 5,
    "start_time": "2021-09-19T07:47:17.697Z"
   },
   {
    "duration": 964,
    "start_time": "2021-09-19T07:47:17.706Z"
   },
   {
    "duration": 18,
    "start_time": "2021-09-19T07:47:18.672Z"
   },
   {
    "duration": 77,
    "start_time": "2021-09-19T07:47:36.949Z"
   },
   {
    "duration": 115,
    "start_time": "2021-09-19T07:47:43.886Z"
   },
   {
    "duration": 1175,
    "start_time": "2021-09-19T11:20:19.021Z"
   },
   {
    "duration": 419,
    "start_time": "2021-09-19T11:20:20.198Z"
   },
   {
    "duration": 99,
    "start_time": "2021-09-19T11:20:20.621Z"
   },
   {
    "duration": 34,
    "start_time": "2021-09-19T11:20:20.722Z"
   },
   {
    "duration": 5,
    "start_time": "2021-09-19T11:20:20.760Z"
   },
   {
    "duration": 29,
    "start_time": "2021-09-19T11:20:20.767Z"
   },
   {
    "duration": 16,
    "start_time": "2021-09-19T11:20:20.798Z"
   },
   {
    "duration": 106,
    "start_time": "2021-09-19T11:20:20.816Z"
   },
   {
    "duration": 46,
    "start_time": "2021-09-19T11:20:20.924Z"
   },
   {
    "duration": 105,
    "start_time": "2021-09-19T11:20:20.971Z"
   },
   {
    "duration": 14,
    "start_time": "2021-09-19T11:20:21.077Z"
   },
   {
    "duration": 22,
    "start_time": "2021-09-19T11:20:21.092Z"
   },
   {
    "duration": 2012,
    "start_time": "2021-09-19T11:20:21.115Z"
   },
   {
    "duration": 721,
    "start_time": "2021-09-19T11:20:22.408Z"
   },
   {
    "duration": 721,
    "start_time": "2021-09-19T11:20:22.409Z"
   },
   {
    "duration": 721,
    "start_time": "2021-09-19T11:20:22.410Z"
   },
   {
    "duration": 722,
    "start_time": "2021-09-19T11:20:22.410Z"
   },
   {
    "duration": 722,
    "start_time": "2021-09-19T11:20:22.411Z"
   },
   {
    "duration": 722,
    "start_time": "2021-09-19T11:20:22.412Z"
   },
   {
    "duration": 722,
    "start_time": "2021-09-19T11:20:22.413Z"
   },
   {
    "duration": 722,
    "start_time": "2021-09-19T11:20:22.414Z"
   },
   {
    "duration": 722,
    "start_time": "2021-09-19T11:20:22.414Z"
   },
   {
    "duration": 722,
    "start_time": "2021-09-19T11:20:22.415Z"
   },
   {
    "duration": 722,
    "start_time": "2021-09-19T11:20:22.416Z"
   },
   {
    "duration": 700,
    "start_time": "2021-09-19T11:20:22.439Z"
   },
   {
    "duration": 700,
    "start_time": "2021-09-19T11:20:22.440Z"
   },
   {
    "duration": 700,
    "start_time": "2021-09-19T11:20:22.441Z"
   },
   {
    "duration": 3,
    "start_time": "2021-09-19T11:20:57.495Z"
   },
   {
    "duration": 421,
    "start_time": "2021-09-19T11:20:58.954Z"
   },
   {
    "duration": 1192,
    "start_time": "2021-09-19T11:21:05.164Z"
   },
   {
    "duration": 429,
    "start_time": "2021-09-19T11:21:06.358Z"
   },
   {
    "duration": 110,
    "start_time": "2021-09-19T11:21:06.789Z"
   },
   {
    "duration": 7,
    "start_time": "2021-09-19T11:21:06.901Z"
   },
   {
    "duration": 5,
    "start_time": "2021-09-19T11:21:06.910Z"
   },
   {
    "duration": 32,
    "start_time": "2021-09-19T11:21:06.917Z"
   },
   {
    "duration": 10,
    "start_time": "2021-09-19T11:21:06.951Z"
   },
   {
    "duration": 86,
    "start_time": "2021-09-19T11:21:06.963Z"
   },
   {
    "duration": 38,
    "start_time": "2021-09-19T11:21:07.053Z"
   },
   {
    "duration": 119,
    "start_time": "2021-09-19T11:21:07.094Z"
   },
   {
    "duration": 15,
    "start_time": "2021-09-19T11:21:07.215Z"
   },
   {
    "duration": 21,
    "start_time": "2021-09-19T11:21:07.232Z"
   },
   {
    "duration": 400,
    "start_time": "2021-09-19T11:21:07.256Z"
   },
   {
    "duration": 13,
    "start_time": "2021-09-19T11:21:07.658Z"
   },
   {
    "duration": 14,
    "start_time": "2021-09-19T11:21:07.672Z"
   },
   {
    "duration": 12,
    "start_time": "2021-09-19T11:21:07.688Z"
   },
   {
    "duration": 7,
    "start_time": "2021-09-19T11:21:07.702Z"
   },
   {
    "duration": 44,
    "start_time": "2021-09-19T11:21:07.711Z"
   },
   {
    "duration": 338,
    "start_time": "2021-09-19T11:21:07.758Z"
   },
   {
    "duration": 6,
    "start_time": "2021-09-19T11:21:08.098Z"
   },
   {
    "duration": 17,
    "start_time": "2021-09-19T11:21:08.106Z"
   },
   {
    "duration": 256,
    "start_time": "2021-09-19T11:21:08.125Z"
   },
   {
    "duration": 5,
    "start_time": "2021-09-19T11:21:08.383Z"
   },
   {
    "duration": 13,
    "start_time": "2021-09-19T11:21:08.390Z"
   },
   {
    "duration": 5,
    "start_time": "2021-09-19T11:21:08.404Z"
   },
   {
    "duration": 1429,
    "start_time": "2021-09-19T11:21:08.411Z"
   },
   {
    "duration": 24,
    "start_time": "2021-09-19T11:21:09.848Z"
   },
   {
    "duration": 4,
    "start_time": "2021-09-19T11:41:27.441Z"
   },
   {
    "duration": 9,
    "start_time": "2021-09-19T12:39:15.446Z"
   },
   {
    "duration": 5,
    "start_time": "2021-09-19T12:44:58.186Z"
   },
   {
    "duration": 1423,
    "start_time": "2021-09-19T12:44:59.576Z"
   },
   {
    "duration": 9,
    "start_time": "2021-09-19T12:45:08.356Z"
   },
   {
    "duration": 5,
    "start_time": "2021-09-19T12:45:11.898Z"
   },
   {
    "duration": 2228,
    "start_time": "2021-09-19T12:45:12.286Z"
   },
   {
    "duration": 6,
    "start_time": "2021-09-19T12:45:19.279Z"
   },
   {
    "duration": 1207,
    "start_time": "2021-09-19T12:45:19.885Z"
   },
   {
    "duration": 5,
    "start_time": "2021-09-19T12:46:03.977Z"
   },
   {
    "duration": 1248,
    "start_time": "2021-09-19T12:46:04.474Z"
   },
   {
    "duration": 4,
    "start_time": "2021-09-19T12:46:18.628Z"
   },
   {
    "duration": 1982,
    "start_time": "2021-09-19T12:46:19.025Z"
   },
   {
    "duration": 5,
    "start_time": "2021-09-19T12:46:28.122Z"
   },
   {
    "duration": 1072,
    "start_time": "2021-09-19T12:46:28.461Z"
   },
   {
    "duration": 18,
    "start_time": "2021-09-19T12:46:33.382Z"
   },
   {
    "duration": 8,
    "start_time": "2021-09-19T12:46:45.503Z"
   },
   {
    "duration": 5,
    "start_time": "2021-09-19T12:50:22.639Z"
   },
   {
    "duration": 1228,
    "start_time": "2021-09-19T12:50:22.781Z"
   },
   {
    "duration": 4,
    "start_time": "2021-09-19T12:51:19.072Z"
   },
   {
    "duration": 1019,
    "start_time": "2021-09-19T12:51:24.724Z"
   },
   {
    "duration": 16,
    "start_time": "2021-09-19T12:51:27.698Z"
   },
   {
    "duration": 8,
    "start_time": "2021-09-19T12:51:30.198Z"
   },
   {
    "duration": 6,
    "start_time": "2021-09-19T12:52:12.083Z"
   },
   {
    "duration": 6,
    "start_time": "2021-09-19T12:52:20.073Z"
   },
   {
    "duration": 1439,
    "start_time": "2021-09-19T12:52:20.429Z"
   },
   {
    "duration": 15,
    "start_time": "2021-09-19T12:52:21.870Z"
   },
   {
    "duration": 8,
    "start_time": "2021-09-19T12:52:25.131Z"
   },
   {
    "duration": 7,
    "start_time": "2021-09-19T13:00:29.384Z"
   },
   {
    "duration": 23,
    "start_time": "2021-09-19T13:05:34.930Z"
   },
   {
    "duration": 10,
    "start_time": "2021-09-19T13:05:38.230Z"
   },
   {
    "duration": 937,
    "start_time": "2021-09-19T13:07:13.942Z"
   },
   {
    "duration": 10,
    "start_time": "2021-09-19T13:07:25.137Z"
   },
   {
    "duration": 474,
    "start_time": "2021-09-19T13:39:33.295Z"
   },
   {
    "duration": 447,
    "start_time": "2021-09-19T13:39:41.954Z"
   },
   {
    "duration": 21,
    "start_time": "2021-09-19T13:39:52.270Z"
   },
   {
    "duration": 15,
    "start_time": "2021-09-19T13:40:37.414Z"
   },
   {
    "duration": 1604,
    "start_time": "2021-09-20T17:07:00.535Z"
   },
   {
    "duration": 615,
    "start_time": "2021-09-20T17:07:02.142Z"
   },
   {
    "duration": 117,
    "start_time": "2021-09-20T17:07:02.760Z"
   },
   {
    "duration": 8,
    "start_time": "2021-09-20T17:07:02.880Z"
   },
   {
    "duration": 7,
    "start_time": "2021-09-20T17:07:02.918Z"
   },
   {
    "duration": 16,
    "start_time": "2021-09-20T17:07:02.928Z"
   },
   {
    "duration": 9,
    "start_time": "2021-09-20T17:07:02.947Z"
   },
   {
    "duration": 153,
    "start_time": "2021-09-20T17:07:02.959Z"
   },
   {
    "duration": 70,
    "start_time": "2021-09-20T17:07:03.118Z"
   },
   {
    "duration": 252,
    "start_time": "2021-09-20T17:07:03.193Z"
   },
   {
    "duration": 30,
    "start_time": "2021-09-20T17:07:03.449Z"
   },
   {
    "duration": 7,
    "start_time": "2021-09-20T17:07:03.482Z"
   },
   {
    "duration": 765,
    "start_time": "2021-09-20T17:07:03.492Z"
   },
   {
    "duration": 19,
    "start_time": "2021-09-20T17:07:04.261Z"
   },
   {
    "duration": 45,
    "start_time": "2021-09-20T17:07:04.283Z"
   },
   {
    "duration": 26,
    "start_time": "2021-09-20T17:07:04.331Z"
   },
   {
    "duration": 10,
    "start_time": "2021-09-20T17:07:04.360Z"
   },
   {
    "duration": 44,
    "start_time": "2021-09-20T17:07:04.373Z"
   },
   {
    "duration": 431,
    "start_time": "2021-09-20T17:07:04.420Z"
   },
   {
    "duration": 8,
    "start_time": "2021-09-20T17:07:04.853Z"
   },
   {
    "duration": 23,
    "start_time": "2021-09-20T17:07:04.863Z"
   },
   {
    "duration": 336,
    "start_time": "2021-09-20T17:07:04.889Z"
   },
   {
    "duration": 6,
    "start_time": "2021-09-20T17:07:05.228Z"
   },
   {
    "duration": 25,
    "start_time": "2021-09-20T17:07:05.236Z"
   },
   {
    "duration": 8,
    "start_time": "2021-09-20T17:07:05.264Z"
   },
   {
    "duration": 1762,
    "start_time": "2021-09-20T17:07:05.274Z"
   },
   {
    "duration": 28,
    "start_time": "2021-09-20T17:07:07.042Z"
   },
   {
    "duration": 10,
    "start_time": "2021-09-20T17:07:07.072Z"
   },
   {
    "duration": 26,
    "start_time": "2021-09-20T17:26:44.255Z"
   },
   {
    "duration": 23,
    "start_time": "2021-09-20T17:27:03.746Z"
   },
   {
    "duration": 26,
    "start_time": "2021-09-20T17:27:53.272Z"
   },
   {
    "duration": 22,
    "start_time": "2021-09-20T17:28:22.723Z"
   },
   {
    "duration": 1518,
    "start_time": "2021-09-20T17:28:39.179Z"
   },
   {
    "duration": 578,
    "start_time": "2021-09-20T17:28:40.699Z"
   },
   {
    "duration": 136,
    "start_time": "2021-09-20T17:28:41.280Z"
   },
   {
    "duration": 10,
    "start_time": "2021-09-20T17:28:41.419Z"
   },
   {
    "duration": 5,
    "start_time": "2021-09-20T17:28:41.431Z"
   },
   {
    "duration": 10,
    "start_time": "2021-09-20T17:28:41.438Z"
   },
   {
    "duration": 6,
    "start_time": "2021-09-20T17:28:41.451Z"
   },
   {
    "duration": 143,
    "start_time": "2021-09-20T17:28:41.460Z"
   },
   {
    "duration": 57,
    "start_time": "2021-09-20T17:28:41.607Z"
   },
   {
    "duration": 156,
    "start_time": "2021-09-20T17:28:41.667Z"
   },
   {
    "duration": 22,
    "start_time": "2021-09-20T17:28:41.826Z"
   },
   {
    "duration": 5,
    "start_time": "2021-09-20T17:28:41.851Z"
   },
   {
    "duration": 609,
    "start_time": "2021-09-20T17:28:41.859Z"
   },
   {
    "duration": 14,
    "start_time": "2021-09-20T17:28:42.470Z"
   },
   {
    "duration": 20,
    "start_time": "2021-09-20T17:28:42.487Z"
   },
   {
    "duration": 18,
    "start_time": "2021-09-20T17:28:42.516Z"
   },
   {
    "duration": 9,
    "start_time": "2021-09-20T17:28:42.536Z"
   },
   {
    "duration": 10,
    "start_time": "2021-09-20T17:28:42.547Z"
   },
   {
    "duration": 444,
    "start_time": "2021-09-20T17:28:42.559Z"
   },
   {
    "duration": 13,
    "start_time": "2021-09-20T17:28:43.006Z"
   },
   {
    "duration": 22,
    "start_time": "2021-09-20T17:28:43.021Z"
   },
   {
    "duration": 372,
    "start_time": "2021-09-20T17:28:43.046Z"
   },
   {
    "duration": 8,
    "start_time": "2021-09-20T17:28:43.421Z"
   },
   {
    "duration": 19,
    "start_time": "2021-09-20T17:28:43.432Z"
   },
   {
    "duration": 7,
    "start_time": "2021-09-20T17:28:43.454Z"
   },
   {
    "duration": 1955,
    "start_time": "2021-09-20T17:28:43.464Z"
   },
   {
    "duration": 30,
    "start_time": "2021-09-20T17:28:45.424Z"
   },
   {
    "duration": 11,
    "start_time": "2021-09-20T17:28:45.457Z"
   },
   {
    "duration": 10,
    "start_time": "2021-09-20T18:02:09.966Z"
   },
   {
    "duration": 33,
    "start_time": "2021-09-20T18:02:12.256Z"
   },
   {
    "duration": 15,
    "start_time": "2021-09-20T18:02:14.320Z"
   },
   {
    "duration": 953,
    "start_time": "2021-09-20T18:02:47.253Z"
   },
   {
    "duration": 9,
    "start_time": "2021-09-20T18:04:09.943Z"
   },
   {
    "duration": 745,
    "start_time": "2021-09-20T18:04:10.593Z"
   },
   {
    "duration": 8,
    "start_time": "2021-09-20T18:04:23.378Z"
   },
   {
    "duration": 648,
    "start_time": "2021-09-20T18:04:25.513Z"
   },
   {
    "duration": 8,
    "start_time": "2021-09-20T18:04:50.237Z"
   },
   {
    "duration": 1182,
    "start_time": "2021-09-20T18:04:50.672Z"
   },
   {
    "duration": 9,
    "start_time": "2021-09-20T18:05:41.417Z"
   },
   {
    "duration": 765,
    "start_time": "2021-09-20T18:05:42.458Z"
   },
   {
    "duration": 8,
    "start_time": "2021-09-20T18:05:49.811Z"
   },
   {
    "duration": 645,
    "start_time": "2021-09-20T18:05:50.401Z"
   },
   {
    "duration": 8,
    "start_time": "2021-09-20T18:06:09.734Z"
   },
   {
    "duration": 644,
    "start_time": "2021-09-20T18:06:10.610Z"
   },
   {
    "duration": 9,
    "start_time": "2021-09-20T18:06:53.916Z"
   },
   {
    "duration": 691,
    "start_time": "2021-09-20T18:06:54.868Z"
   },
   {
    "duration": 322,
    "start_time": "2021-09-20T18:07:14.188Z"
   },
   {
    "duration": 326,
    "start_time": "2021-09-20T18:07:24.116Z"
   },
   {
    "duration": 367,
    "start_time": "2021-09-20T18:07:27.508Z"
   },
   {
    "duration": 9,
    "start_time": "2021-09-20T18:07:33.039Z"
   },
   {
    "duration": 6241,
    "start_time": "2021-09-20T18:08:31.669Z"
   },
   {
    "duration": 6242,
    "start_time": "2021-09-20T18:09:27.814Z"
   },
   {
    "duration": 6628,
    "start_time": "2021-09-20T18:10:09.745Z"
   },
   {
    "duration": 9,
    "start_time": "2021-09-20T18:10:59.248Z"
   },
   {
    "duration": 8655,
    "start_time": "2021-09-20T18:11:00.254Z"
   },
   {
    "duration": 9,
    "start_time": "2021-09-20T18:11:15.251Z"
   },
   {
    "duration": 5840,
    "start_time": "2021-09-20T18:11:15.826Z"
   },
   {
    "duration": 8981,
    "start_time": "2021-09-20T18:11:25.212Z"
   },
   {
    "duration": 9,
    "start_time": "2021-09-20T18:15:31.198Z"
   },
   {
    "duration": 6314,
    "start_time": "2021-09-20T18:15:31.791Z"
   },
   {
    "duration": 7651,
    "start_time": "2021-09-20T18:16:04.350Z"
   },
   {
    "duration": 9,
    "start_time": "2021-09-20T18:18:23.246Z"
   },
   {
    "duration": 8020,
    "start_time": "2021-09-20T18:18:23.859Z"
   },
   {
    "duration": 9,
    "start_time": "2021-09-20T18:19:44.173Z"
   },
   {
    "duration": 6710,
    "start_time": "2021-09-20T18:19:44.730Z"
   },
   {
    "duration": 9,
    "start_time": "2021-09-20T18:20:36.189Z"
   },
   {
    "duration": 6398,
    "start_time": "2021-09-20T18:20:36.764Z"
   },
   {
    "duration": 9,
    "start_time": "2021-09-20T18:27:06.298Z"
   },
   {
    "duration": 3892,
    "start_time": "2021-09-20T18:27:06.914Z"
   },
   {
    "duration": 9,
    "start_time": "2021-09-20T18:27:24.449Z"
   },
   {
    "duration": 2536,
    "start_time": "2021-09-20T18:27:25.855Z"
   },
   {
    "duration": 6,
    "start_time": "2021-09-20T18:32:43.495Z"
   },
   {
    "duration": 1887,
    "start_time": "2021-09-20T18:32:43.664Z"
   },
   {
    "duration": 6,
    "start_time": "2021-09-20T18:33:21.231Z"
   },
   {
    "duration": 1989,
    "start_time": "2021-09-20T18:33:22.000Z"
   },
   {
    "duration": 8,
    "start_time": "2021-09-20T18:36:10.734Z"
   },
   {
    "duration": 6605,
    "start_time": "2021-09-20T18:36:11.436Z"
   },
   {
    "duration": 9,
    "start_time": "2021-09-20T18:37:49.946Z"
   },
   {
    "duration": 5872,
    "start_time": "2021-09-20T18:37:50.472Z"
   },
   {
    "duration": 8,
    "start_time": "2021-09-20T18:38:18.663Z"
   },
   {
    "duration": 6638,
    "start_time": "2021-09-20T18:38:19.161Z"
   },
   {
    "duration": 7,
    "start_time": "2021-09-20T18:39:11.553Z"
   },
   {
    "duration": 6305,
    "start_time": "2021-09-20T18:39:11.828Z"
   },
   {
    "duration": 131,
    "start_time": "2021-09-20T18:41:09.115Z"
   },
   {
    "duration": 7,
    "start_time": "2021-09-20T18:41:23.209Z"
   },
   {
    "duration": 2088,
    "start_time": "2021-09-20T18:41:23.872Z"
   },
   {
    "duration": 9,
    "start_time": "2021-09-20T18:41:47.547Z"
   },
   {
    "duration": 6649,
    "start_time": "2021-09-20T18:41:47.964Z"
   },
   {
    "duration": 8,
    "start_time": "2021-09-20T18:42:15.227Z"
   },
   {
    "duration": 6648,
    "start_time": "2021-09-20T18:42:15.841Z"
   },
   {
    "duration": 8,
    "start_time": "2021-09-20T18:42:58.846Z"
   },
   {
    "duration": 6057,
    "start_time": "2021-09-20T18:42:59.246Z"
   },
   {
    "duration": 8,
    "start_time": "2021-09-20T18:45:14.144Z"
   },
   {
    "duration": 6422,
    "start_time": "2021-09-20T18:45:14.435Z"
   },
   {
    "duration": 845,
    "start_time": "2021-09-20T18:51:25.863Z"
   },
   {
    "duration": 9,
    "start_time": "2021-09-20T18:51:51.505Z"
   },
   {
    "duration": 943,
    "start_time": "2021-09-20T18:51:52.757Z"
   },
   {
    "duration": 9,
    "start_time": "2021-09-20T18:57:54.901Z"
   },
   {
    "duration": 510285,
    "start_time": "2021-09-20T18:57:55.743Z"
   },
   {
    "duration": 320,
    "start_time": "2021-09-20T19:12:11.745Z"
   },
   {
    "duration": 6,
    "start_time": "2021-09-20T19:12:25.017Z"
   },
   {
    "duration": 672,
    "start_time": "2021-09-20T19:12:26.004Z"
   },
   {
    "duration": 4,
    "start_time": "2021-09-20T19:12:38.441Z"
   },
   {
    "duration": 9602,
    "start_time": "2021-09-20T19:12:39.093Z"
   },
   {
    "duration": 4,
    "start_time": "2021-09-20T19:13:10.069Z"
   },
   {
    "duration": -571,
    "start_time": "2021-09-20T19:13:27.868Z"
   },
   {
    "duration": -569,
    "start_time": "2021-09-20T19:13:27.870Z"
   },
   {
    "duration": 9604,
    "start_time": "2021-09-20T19:13:29.788Z"
   },
   {
    "duration": 4,
    "start_time": "2021-09-20T19:14:16.458Z"
   },
   {
    "duration": 9538,
    "start_time": "2021-09-20T19:14:17.420Z"
   },
   {
    "duration": 4,
    "start_time": "2021-09-20T19:15:08.499Z"
   },
   {
    "duration": 15,
    "start_time": "2021-09-20T19:15:09.268Z"
   },
   {
    "duration": 14,
    "start_time": "2021-09-20T19:15:25.222Z"
   },
   {
    "duration": 4,
    "start_time": "2021-09-20T19:37:42.712Z"
   },
   {
    "duration": 17,
    "start_time": "2021-09-20T19:37:44.226Z"
   },
   {
    "duration": 8,
    "start_time": "2021-09-20T20:04:06.599Z"
   },
   {
    "duration": 715,
    "start_time": "2021-09-20T20:04:09.516Z"
   },
   {
    "duration": 9,
    "start_time": "2021-09-20T20:06:03.447Z"
   },
   {
    "duration": 625,
    "start_time": "2021-09-20T20:06:04.070Z"
   },
   {
    "duration": 9,
    "start_time": "2021-09-20T20:06:56.952Z"
   },
   {
    "duration": 658,
    "start_time": "2021-09-20T20:06:57.757Z"
   },
   {
    "duration": 9,
    "start_time": "2021-09-20T20:07:20.396Z"
   },
   {
    "duration": 773,
    "start_time": "2021-09-20T20:07:21.154Z"
   },
   {
    "duration": 9,
    "start_time": "2021-09-20T20:08:09.645Z"
   },
   {
    "duration": 661,
    "start_time": "2021-09-20T20:08:10.282Z"
   },
   {
    "duration": 9,
    "start_time": "2021-09-20T20:10:01.470Z"
   },
   {
    "duration": 27045,
    "start_time": "2021-09-20T20:10:02.135Z"
   },
   {
    "duration": 5,
    "start_time": "2021-09-20T20:12:58.345Z"
   },
   {
    "duration": 20,
    "start_time": "2021-09-20T20:13:00.253Z"
   },
   {
    "duration": 5,
    "start_time": "2021-09-20T20:13:09.758Z"
   },
   {
    "duration": 15,
    "start_time": "2021-09-20T20:13:10.898Z"
   },
   {
    "duration": 9,
    "start_time": "2021-09-20T20:14:15.876Z"
   },
   {
    "duration": 10064,
    "start_time": "2021-09-20T20:14:16.584Z"
   },
   {
    "duration": 9,
    "start_time": "2021-09-20T20:14:49.401Z"
   },
   {
    "duration": 24210,
    "start_time": "2021-09-20T20:14:50.214Z"
   },
   {
    "duration": 8,
    "start_time": "2021-09-20T20:16:37.097Z"
   },
   {
    "duration": 19726,
    "start_time": "2021-09-20T20:16:38.135Z"
   },
   {
    "duration": 16,
    "start_time": "2021-09-20T20:17:33.641Z"
   },
   {
    "duration": 9,
    "start_time": "2021-09-20T20:18:22.392Z"
   },
   {
    "duration": 19836,
    "start_time": "2021-09-20T20:18:23.037Z"
   },
   {
    "duration": 20060,
    "start_time": "2021-09-20T20:25:49.920Z"
   },
   {
    "duration": 19757,
    "start_time": "2021-09-20T20:28:01.644Z"
   },
   {
    "duration": 19885,
    "start_time": "2021-09-20T20:28:39.317Z"
   },
   {
    "duration": 8,
    "start_time": "2021-09-20T20:30:24.307Z"
   },
   {
    "duration": 20240,
    "start_time": "2021-09-20T20:30:25.397Z"
   },
   {
    "duration": 21101,
    "start_time": "2021-09-20T20:30:45.640Z"
   },
   {
    "duration": 57,
    "start_time": "2021-09-20T20:35:39.674Z"
   },
   {
    "duration": 328,
    "start_time": "2021-09-20T20:38:06.165Z"
   },
   {
    "duration": 24,
    "start_time": "2021-09-20T20:38:10.181Z"
   },
   {
    "duration": 18,
    "start_time": "2021-09-20T20:38:43.842Z"
   },
   {
    "duration": 27,
    "start_time": "2021-09-20T20:38:48.656Z"
   },
   {
    "duration": 331,
    "start_time": "2021-09-20T20:42:07.564Z"
   },
   {
    "duration": 1608,
    "start_time": "2021-09-20T20:42:37.911Z"
   },
   {
    "duration": 665,
    "start_time": "2021-09-20T20:42:46.632Z"
   },
   {
    "duration": 9,
    "start_time": "2021-09-20T20:42:57.414Z"
   },
   {
    "duration": 17078,
    "start_time": "2021-09-20T20:43:00.070Z"
   },
   {
    "duration": 1527,
    "start_time": "2021-09-20T20:43:37.479Z"
   },
   {
    "duration": 538,
    "start_time": "2021-09-20T20:43:39.009Z"
   },
   {
    "duration": 185,
    "start_time": "2021-09-20T20:43:39.552Z"
   },
   {
    "duration": 11,
    "start_time": "2021-09-20T20:43:39.741Z"
   },
   {
    "duration": 4,
    "start_time": "2021-09-20T20:43:39.756Z"
   },
   {
    "duration": 9,
    "start_time": "2021-09-20T20:43:39.762Z"
   },
   {
    "duration": 43,
    "start_time": "2021-09-20T20:43:39.773Z"
   },
   {
    "duration": 117,
    "start_time": "2021-09-20T20:43:39.819Z"
   },
   {
    "duration": 78,
    "start_time": "2021-09-20T20:43:39.940Z"
   },
   {
    "duration": 137,
    "start_time": "2021-09-20T20:43:40.022Z"
   },
   {
    "duration": 21,
    "start_time": "2021-09-20T20:43:40.162Z"
   },
   {
    "duration": 30,
    "start_time": "2021-09-20T20:43:40.186Z"
   },
   {
    "duration": 529,
    "start_time": "2021-09-20T20:43:40.219Z"
   },
   {
    "duration": 15,
    "start_time": "2021-09-20T20:43:40.751Z"
   },
   {
    "duration": 47,
    "start_time": "2021-09-20T20:43:40.769Z"
   },
   {
    "duration": 19,
    "start_time": "2021-09-20T20:43:40.818Z"
   },
   {
    "duration": 10,
    "start_time": "2021-09-20T20:43:40.839Z"
   },
   {
    "duration": 11,
    "start_time": "2021-09-20T20:43:40.852Z"
   },
   {
    "duration": 446,
    "start_time": "2021-09-20T20:43:40.865Z"
   },
   {
    "duration": 8,
    "start_time": "2021-09-20T20:43:41.313Z"
   },
   {
    "duration": 23,
    "start_time": "2021-09-20T20:43:41.323Z"
   },
   {
    "duration": 322,
    "start_time": "2021-09-20T20:43:41.348Z"
   },
   {
    "duration": 6,
    "start_time": "2021-09-20T20:43:41.672Z"
   },
   {
    "duration": 36,
    "start_time": "2021-09-20T20:43:41.680Z"
   },
   {
    "duration": 7,
    "start_time": "2021-09-20T20:43:41.718Z"
   },
   {
    "duration": 1760,
    "start_time": "2021-09-20T20:43:41.727Z"
   },
   {
    "duration": 36,
    "start_time": "2021-09-20T20:43:43.492Z"
   },
   {
    "duration": 11,
    "start_time": "2021-09-20T20:43:43.530Z"
   },
   {
    "duration": 461,
    "start_time": "2021-09-20T20:43:43.544Z"
   },
   {
    "duration": -428,
    "start_time": "2021-09-20T20:43:44.435Z"
   },
   {
    "duration": -430,
    "start_time": "2021-09-20T20:43:44.439Z"
   },
   {
    "duration": -430,
    "start_time": "2021-09-20T20:43:44.440Z"
   },
   {
    "duration": -454,
    "start_time": "2021-09-20T20:43:44.465Z"
   },
   {
    "duration": -453,
    "start_time": "2021-09-20T20:43:44.466Z"
   },
   {
    "duration": 1548,
    "start_time": "2021-09-20T20:44:09.337Z"
   },
   {
    "duration": 532,
    "start_time": "2021-09-20T20:44:10.888Z"
   },
   {
    "duration": 131,
    "start_time": "2021-09-20T20:44:11.423Z"
   },
   {
    "duration": 8,
    "start_time": "2021-09-20T20:44:11.557Z"
   },
   {
    "duration": 7,
    "start_time": "2021-09-20T20:44:11.567Z"
   },
   {
    "duration": 43,
    "start_time": "2021-09-20T20:44:11.576Z"
   },
   {
    "duration": 7,
    "start_time": "2021-09-20T20:44:11.622Z"
   },
   {
    "duration": 126,
    "start_time": "2021-09-20T20:44:11.631Z"
   },
   {
    "duration": 76,
    "start_time": "2021-09-20T20:44:11.762Z"
   },
   {
    "duration": 134,
    "start_time": "2021-09-20T20:44:11.841Z"
   },
   {
    "duration": 19,
    "start_time": "2021-09-20T20:44:11.977Z"
   },
   {
    "duration": 18,
    "start_time": "2021-09-20T20:44:11.999Z"
   },
   {
    "duration": 515,
    "start_time": "2021-09-20T20:44:12.020Z"
   },
   {
    "duration": 14,
    "start_time": "2021-09-20T20:44:12.537Z"
   },
   {
    "duration": 21,
    "start_time": "2021-09-20T20:44:12.554Z"
   },
   {
    "duration": 49,
    "start_time": "2021-09-20T20:44:12.578Z"
   },
   {
    "duration": 9,
    "start_time": "2021-09-20T20:44:12.629Z"
   },
   {
    "duration": 10,
    "start_time": "2021-09-20T20:44:12.641Z"
   },
   {
    "duration": 442,
    "start_time": "2021-09-20T20:44:12.653Z"
   },
   {
    "duration": 21,
    "start_time": "2021-09-20T20:44:13.097Z"
   },
   {
    "duration": 52,
    "start_time": "2021-09-20T20:44:13.121Z"
   },
   {
    "duration": 285,
    "start_time": "2021-09-20T20:44:13.176Z"
   },
   {
    "duration": 7,
    "start_time": "2021-09-20T20:44:13.463Z"
   },
   {
    "duration": 23,
    "start_time": "2021-09-20T20:44:13.472Z"
   },
   {
    "duration": 7,
    "start_time": "2021-09-20T20:44:13.516Z"
   },
   {
    "duration": 1898,
    "start_time": "2021-09-20T20:44:13.525Z"
   },
   {
    "duration": 27,
    "start_time": "2021-09-20T20:44:15.428Z"
   },
   {
    "duration": 12,
    "start_time": "2021-09-20T20:44:15.458Z"
   },
   {
    "duration": 44,
    "start_time": "2021-09-20T20:44:15.472Z"
   },
   {
    "duration": 19926,
    "start_time": "2021-09-20T20:44:15.518Z"
   },
   {
    "duration": 19849,
    "start_time": "2021-09-20T20:44:35.447Z"
   },
   {
    "duration": 59,
    "start_time": "2021-09-20T20:44:55.298Z"
   },
   {
    "duration": 17037,
    "start_time": "2021-09-20T20:44:55.359Z"
   },
   {
    "duration": 10,
    "start_time": "2021-09-20T20:48:24.766Z"
   },
   {
    "duration": 1506,
    "start_time": "2021-09-20T20:48:29.900Z"
   },
   {
    "duration": 542,
    "start_time": "2021-09-20T20:48:31.409Z"
   },
   {
    "duration": 112,
    "start_time": "2021-09-20T20:48:31.954Z"
   },
   {
    "duration": 8,
    "start_time": "2021-09-20T20:48:32.069Z"
   },
   {
    "duration": 36,
    "start_time": "2021-09-20T20:48:32.080Z"
   },
   {
    "duration": 15,
    "start_time": "2021-09-20T20:48:32.119Z"
   },
   {
    "duration": 16,
    "start_time": "2021-09-20T20:48:32.136Z"
   },
   {
    "duration": 117,
    "start_time": "2021-09-20T20:48:32.154Z"
   },
   {
    "duration": 60,
    "start_time": "2021-09-20T20:48:32.276Z"
   },
   {
    "duration": 146,
    "start_time": "2021-09-20T20:48:32.339Z"
   },
   {
    "duration": 30,
    "start_time": "2021-09-20T20:48:32.487Z"
   },
   {
    "duration": 5,
    "start_time": "2021-09-20T20:48:32.520Z"
   },
   {
    "duration": 509,
    "start_time": "2021-09-20T20:48:32.527Z"
   },
   {
    "duration": 14,
    "start_time": "2021-09-20T20:48:33.039Z"
   },
   {
    "duration": 20,
    "start_time": "2021-09-20T20:48:33.056Z"
   },
   {
    "duration": 47,
    "start_time": "2021-09-20T20:48:33.079Z"
   },
   {
    "duration": 8,
    "start_time": "2021-09-20T20:48:33.129Z"
   },
   {
    "duration": 11,
    "start_time": "2021-09-20T20:48:33.139Z"
   },
   {
    "duration": 440,
    "start_time": "2021-09-20T20:48:33.152Z"
   },
   {
    "duration": 8,
    "start_time": "2021-09-20T20:48:33.595Z"
   },
   {
    "duration": 20,
    "start_time": "2021-09-20T20:48:33.616Z"
   },
   {
    "duration": 301,
    "start_time": "2021-09-20T20:48:33.639Z"
   },
   {
    "duration": 6,
    "start_time": "2021-09-20T20:48:33.943Z"
   },
   {
    "duration": 20,
    "start_time": "2021-09-20T20:48:33.951Z"
   },
   {
    "duration": 6,
    "start_time": "2021-09-20T20:48:33.974Z"
   },
   {
    "duration": 1733,
    "start_time": "2021-09-20T20:48:33.983Z"
   },
   {
    "duration": 31,
    "start_time": "2021-09-20T20:48:35.720Z"
   },
   {
    "duration": 11,
    "start_time": "2021-09-20T20:48:35.753Z"
   },
   {
    "duration": 10,
    "start_time": "2021-09-20T20:48:35.766Z"
   },
   {
    "duration": 21795,
    "start_time": "2021-09-20T20:48:35.779Z"
   },
   {
    "duration": 21606,
    "start_time": "2021-09-20T20:48:57.577Z"
   },
   {
    "duration": 60,
    "start_time": "2021-09-20T20:49:19.185Z"
   },
   {
    "duration": 19191,
    "start_time": "2021-09-20T20:49:19.248Z"
   },
   {
    "duration": 10,
    "start_time": "2021-09-20T20:49:56.228Z"
   },
   {
    "duration": 9,
    "start_time": "2021-09-20T20:52:16.746Z"
   },
   {
    "duration": 1506,
    "start_time": "2021-09-20T20:52:22.884Z"
   },
   {
    "duration": 567,
    "start_time": "2021-09-20T20:52:24.393Z"
   },
   {
    "duration": 133,
    "start_time": "2021-09-20T20:52:24.963Z"
   },
   {
    "duration": 11,
    "start_time": "2021-09-20T20:52:25.118Z"
   },
   {
    "duration": 22,
    "start_time": "2021-09-20T20:52:25.131Z"
   },
   {
    "duration": 20,
    "start_time": "2021-09-20T20:52:25.155Z"
   },
   {
    "duration": 22,
    "start_time": "2021-09-20T20:52:25.178Z"
   },
   {
    "duration": 109,
    "start_time": "2021-09-20T20:52:25.217Z"
   },
   {
    "duration": 51,
    "start_time": "2021-09-20T20:52:25.329Z"
   },
   {
    "duration": 159,
    "start_time": "2021-09-20T20:52:25.383Z"
   },
   {
    "duration": 20,
    "start_time": "2021-09-20T20:52:25.544Z"
   },
   {
    "duration": 8,
    "start_time": "2021-09-20T20:52:25.567Z"
   },
   {
    "duration": 516,
    "start_time": "2021-09-20T20:52:25.578Z"
   },
   {
    "duration": 27,
    "start_time": "2021-09-20T20:52:26.097Z"
   },
   {
    "duration": 22,
    "start_time": "2021-09-20T20:52:26.126Z"
   },
   {
    "duration": 18,
    "start_time": "2021-09-20T20:52:26.152Z"
   },
   {
    "duration": 45,
    "start_time": "2021-09-20T20:52:26.173Z"
   },
   {
    "duration": 10,
    "start_time": "2021-09-20T20:52:26.221Z"
   },
   {
    "duration": 437,
    "start_time": "2021-09-20T20:52:26.234Z"
   },
   {
    "duration": 10,
    "start_time": "2021-09-20T20:52:26.674Z"
   },
   {
    "duration": 46,
    "start_time": "2021-09-20T20:52:26.686Z"
   },
   {
    "duration": 303,
    "start_time": "2021-09-20T20:52:26.735Z"
   },
   {
    "duration": 7,
    "start_time": "2021-09-20T20:52:27.045Z"
   },
   {
    "duration": 28,
    "start_time": "2021-09-20T20:52:27.055Z"
   },
   {
    "duration": 7,
    "start_time": "2021-09-20T20:52:27.086Z"
   },
   {
    "duration": 1696,
    "start_time": "2021-09-20T20:52:27.117Z"
   },
   {
    "duration": 28,
    "start_time": "2021-09-20T20:52:28.817Z"
   },
   {
    "duration": 15,
    "start_time": "2021-09-20T20:52:28.848Z"
   },
   {
    "duration": 12,
    "start_time": "2021-09-20T20:52:28.865Z"
   },
   {
    "duration": 21539,
    "start_time": "2021-09-20T20:52:28.879Z"
   },
   {
    "duration": 21166,
    "start_time": "2021-09-20T20:52:50.420Z"
   },
   {
    "duration": 57,
    "start_time": "2021-09-20T20:53:11.588Z"
   },
   {
    "duration": 18021,
    "start_time": "2021-09-20T20:53:11.648Z"
   },
   {
    "duration": 9,
    "start_time": "2021-09-20T20:55:35.499Z"
   },
   {
    "duration": 20867,
    "start_time": "2021-09-20T20:55:36.162Z"
   },
   {
    "duration": 5,
    "start_time": "2021-09-20T20:56:22.054Z"
   },
   {
    "duration": 17674,
    "start_time": "2021-09-20T21:08:14.853Z"
   },
   {
    "duration": 17472,
    "start_time": "2021-09-20T21:10:36.315Z"
   },
   {
    "duration": 10,
    "start_time": "2021-09-20T21:23:37.066Z"
   },
   {
    "duration": 10,
    "start_time": "2021-09-20T21:23:52.274Z"
   },
   {
    "duration": 5,
    "start_time": "2021-09-20T21:24:23.762Z"
   },
   {
    "duration": 10471,
    "start_time": "2021-09-20T22:56:27.151Z"
   },
   {
    "duration": 10,
    "start_time": "2021-09-20T22:58:36.611Z"
   },
   {
    "duration": 9129,
    "start_time": "2021-09-20T22:58:37.350Z"
   },
   {
    "duration": 676,
    "start_time": "2021-09-20T23:00:38.848Z"
   },
   {
    "duration": 680,
    "start_time": "2021-09-20T23:02:17.822Z"
   },
   {
    "duration": 6,
    "start_time": "2021-09-20T23:03:30.066Z"
   },
   {
    "duration": 8,
    "start_time": "2021-09-20T23:03:37.658Z"
   },
   {
    "duration": 8,
    "start_time": "2021-09-20T23:03:45.988Z"
   },
   {
    "duration": 9,
    "start_time": "2021-09-20T23:03:57.768Z"
   },
   {
    "duration": 685,
    "start_time": "2021-09-20T23:03:58.527Z"
   },
   {
    "duration": 8,
    "start_time": "2021-09-20T23:04:27.711Z"
   },
   {
    "duration": 9,
    "start_time": "2021-09-20T23:05:11.126Z"
   },
   {
    "duration": 658,
    "start_time": "2021-09-20T23:05:11.880Z"
   },
   {
    "duration": 12,
    "start_time": "2021-09-20T23:05:37.020Z"
   },
   {
    "duration": 774,
    "start_time": "2021-09-20T23:05:38.431Z"
   },
   {
    "duration": 10,
    "start_time": "2021-09-20T23:06:22.960Z"
   },
   {
    "duration": 692,
    "start_time": "2021-09-20T23:06:23.306Z"
   },
   {
    "duration": 10,
    "start_time": "2021-09-20T23:06:51.598Z"
   },
   {
    "duration": 74,
    "start_time": "2021-09-20T23:06:51.928Z"
   },
   {
    "duration": 70,
    "start_time": "2021-09-20T23:08:04.827Z"
   },
   {
    "duration": 71,
    "start_time": "2021-09-20T23:08:08.887Z"
   },
   {
    "duration": 170,
    "start_time": "2021-09-20T23:08:47.793Z"
   },
   {
    "duration": 69,
    "start_time": "2021-09-20T23:08:48.136Z"
   },
   {
    "duration": 76,
    "start_time": "2021-09-20T23:11:15.568Z"
   },
   {
    "duration": 8,
    "start_time": "2021-09-20T23:12:46.231Z"
   },
   {
    "duration": 378,
    "start_time": "2021-09-20T23:12:52.914Z"
   },
   {
    "duration": 877,
    "start_time": "2021-09-20T23:12:54.918Z"
   },
   {
    "duration": 7,
    "start_time": "2021-09-20T23:13:03.693Z"
   },
   {
    "duration": 4,
    "start_time": "2021-09-20T23:13:26.903Z"
   },
   {
    "duration": 432,
    "start_time": "2021-09-20T23:14:34.621Z"
   },
   {
    "duration": 321,
    "start_time": "2021-09-20T23:14:58.929Z"
   },
   {
    "duration": 8,
    "start_time": "2021-09-20T23:15:03.241Z"
   },
   {
    "duration": 8,
    "start_time": "2021-09-20T23:15:12.433Z"
   },
   {
    "duration": 7,
    "start_time": "2021-09-20T23:15:18.522Z"
   },
   {
    "duration": 8,
    "start_time": "2021-09-20T23:15:24.494Z"
   },
   {
    "duration": 1488,
    "start_time": "2021-09-20T23:16:28.129Z"
   },
   {
    "duration": 558,
    "start_time": "2021-09-20T23:16:29.620Z"
   },
   {
    "duration": 138,
    "start_time": "2021-09-20T23:16:30.184Z"
   },
   {
    "duration": 8,
    "start_time": "2021-09-20T23:16:30.325Z"
   },
   {
    "duration": 22,
    "start_time": "2021-09-20T23:16:30.336Z"
   },
   {
    "duration": 21,
    "start_time": "2021-09-20T23:16:30.361Z"
   },
   {
    "duration": 13,
    "start_time": "2021-09-20T23:16:30.386Z"
   },
   {
    "duration": 109,
    "start_time": "2021-09-20T23:16:30.418Z"
   },
   {
    "duration": 52,
    "start_time": "2021-09-20T23:16:30.529Z"
   },
   {
    "duration": 155,
    "start_time": "2021-09-20T23:16:30.583Z"
   },
   {
    "duration": 5,
    "start_time": "2021-09-20T23:16:30.740Z"
   },
   {
    "duration": 552,
    "start_time": "2021-09-20T23:16:30.747Z"
   },
   {
    "duration": 18,
    "start_time": "2021-09-20T23:16:31.302Z"
   },
   {
    "duration": 27,
    "start_time": "2021-09-20T23:16:31.322Z"
   },
   {
    "duration": 39,
    "start_time": "2021-09-20T23:16:31.352Z"
   },
   {
    "duration": 36,
    "start_time": "2021-09-20T23:16:31.394Z"
   },
   {
    "duration": 29,
    "start_time": "2021-09-20T23:16:31.432Z"
   },
   {
    "duration": 434,
    "start_time": "2021-09-20T23:16:31.463Z"
   },
   {
    "duration": 16,
    "start_time": "2021-09-20T23:16:31.900Z"
   },
   {
    "duration": 45,
    "start_time": "2021-09-20T23:16:31.918Z"
   },
   {
    "duration": 305,
    "start_time": "2021-09-20T23:16:31.966Z"
   },
   {
    "duration": 7,
    "start_time": "2021-09-20T23:16:32.276Z"
   },
   {
    "duration": 39,
    "start_time": "2021-09-20T23:16:32.285Z"
   },
   {
    "duration": 7,
    "start_time": "2021-09-20T23:16:32.327Z"
   },
   {
    "duration": 1754,
    "start_time": "2021-09-20T23:16:32.336Z"
   },
   {
    "duration": 35,
    "start_time": "2021-09-20T23:16:34.092Z"
   },
   {
    "duration": 11,
    "start_time": "2021-09-20T23:16:34.130Z"
   },
   {
    "duration": 13,
    "start_time": "2021-09-20T23:16:34.144Z"
   },
   {
    "duration": 22047,
    "start_time": "2021-09-20T23:16:34.160Z"
   },
   {
    "duration": 16569,
    "start_time": "2021-09-20T23:16:56.217Z"
   },
   {
    "duration": 20261,
    "start_time": "2021-09-20T23:17:12.788Z"
   },
   {
    "duration": 16952,
    "start_time": "2021-09-20T23:17:33.052Z"
   },
   {
    "duration": 17336,
    "start_time": "2021-09-20T23:17:50.006Z"
   },
   {
    "duration": 10,
    "start_time": "2021-09-20T23:18:07.344Z"
   },
   {
    "duration": 89,
    "start_time": "2021-09-20T23:18:07.356Z"
   },
   {
    "duration": 7,
    "start_time": "2021-09-20T23:18:07.448Z"
   },
   {
    "duration": 6,
    "start_time": "2021-09-20T23:18:07.457Z"
   },
   {
    "duration": 11,
    "start_time": "2021-09-20T23:18:07.465Z"
   },
   {
    "duration": 72,
    "start_time": "2021-09-20T23:19:16.436Z"
   },
   {
    "duration": 71,
    "start_time": "2021-09-20T23:19:21.005Z"
   },
   {
    "duration": 11,
    "start_time": "2021-09-20T23:20:01.139Z"
   },
   {
    "duration": 64,
    "start_time": "2021-09-20T23:20:01.579Z"
   },
   {
    "duration": 9,
    "start_time": "2021-09-20T23:20:03.261Z"
   },
   {
    "duration": 63,
    "start_time": "2021-09-20T23:20:09.509Z"
   },
   {
    "duration": 11,
    "start_time": "2021-09-20T23:21:11.228Z"
   },
   {
    "duration": 65,
    "start_time": "2021-09-20T23:21:11.598Z"
   },
   {
    "duration": 8,
    "start_time": "2021-09-20T23:22:10.355Z"
   },
   {
    "duration": 480,
    "start_time": "2021-09-20T23:23:46.693Z"
   },
   {
    "duration": 75,
    "start_time": "2021-09-20T23:23:58.965Z"
   },
   {
    "duration": 75,
    "start_time": "2021-09-20T23:24:19.228Z"
   },
   {
    "duration": 8,
    "start_time": "2021-09-20T23:24:44.346Z"
   },
   {
    "duration": 8,
    "start_time": "2021-09-20T23:25:05.045Z"
   },
   {
    "duration": 382,
    "start_time": "2021-09-20T23:25:44.890Z"
   },
   {
    "duration": 77,
    "start_time": "2021-09-20T23:25:53.268Z"
   },
   {
    "duration": 83,
    "start_time": "2021-09-20T23:26:13.649Z"
   },
   {
    "duration": 82,
    "start_time": "2021-09-20T23:26:33.545Z"
   },
   {
    "duration": 86,
    "start_time": "2021-09-20T23:26:38.252Z"
   },
   {
    "duration": 363,
    "start_time": "2021-09-20T23:27:08.706Z"
   },
   {
    "duration": 87,
    "start_time": "2021-09-20T23:27:17.065Z"
   },
   {
    "duration": 78,
    "start_time": "2021-09-20T23:27:32.147Z"
   },
   {
    "duration": 64,
    "start_time": "2021-09-20T23:28:41.452Z"
   },
   {
    "duration": 63,
    "start_time": "2021-09-20T23:29:08.268Z"
   },
   {
    "duration": 10,
    "start_time": "2021-09-20T23:29:16.596Z"
   },
   {
    "duration": 8,
    "start_time": "2021-09-20T23:29:18.315Z"
   },
   {
    "duration": 50,
    "start_time": "2021-09-20T23:29:18.954Z"
   },
   {
    "duration": 59,
    "start_time": "2021-09-20T23:30:18.413Z"
   },
   {
    "duration": 10,
    "start_time": "2021-09-20T23:32:21.558Z"
   },
   {
    "duration": 8,
    "start_time": "2021-09-20T23:32:22.258Z"
   },
   {
    "duration": 74,
    "start_time": "2021-09-20T23:32:22.815Z"
   },
   {
    "duration": 10,
    "start_time": "2021-09-20T23:33:30.020Z"
   },
   {
    "duration": 8,
    "start_time": "2021-09-20T23:33:30.634Z"
   },
   {
    "duration": 58,
    "start_time": "2021-09-20T23:33:31.030Z"
   },
   {
    "duration": 8,
    "start_time": "2021-09-20T23:36:28.801Z"
   },
   {
    "duration": 10,
    "start_time": "2021-09-20T23:36:33.421Z"
   },
   {
    "duration": 9,
    "start_time": "2021-09-20T23:37:27.722Z"
   },
   {
    "duration": 10,
    "start_time": "2021-09-20T23:37:28.073Z"
   },
   {
    "duration": 6,
    "start_time": "2021-09-20T23:38:05.453Z"
   },
   {
    "duration": 20,
    "start_time": "2021-09-20T23:38:14.010Z"
   },
   {
    "duration": -192,
    "start_time": "2021-09-20T23:38:47.727Z"
   },
   {
    "duration": -190,
    "start_time": "2021-09-20T23:38:47.729Z"
   },
   {
    "duration": 7,
    "start_time": "2021-09-20T23:38:53.124Z"
   },
   {
    "duration": 18,
    "start_time": "2021-09-20T23:38:54.087Z"
   },
   {
    "duration": 8,
    "start_time": "2021-09-20T23:39:26.898Z"
   },
   {
    "duration": 27,
    "start_time": "2021-09-20T23:39:28.717Z"
   },
   {
    "duration": 105,
    "start_time": "2021-09-20T23:40:28.004Z"
   },
   {
    "duration": 121,
    "start_time": "2021-09-20T23:41:07.382Z"
   },
   {
    "duration": 101,
    "start_time": "2021-09-20T23:41:19.626Z"
   },
   {
    "duration": 8939,
    "start_time": "2021-09-20T23:41:28.036Z"
   },
   {
    "duration": 12,
    "start_time": "2021-09-20T23:41:39.710Z"
   },
   {
    "duration": 11,
    "start_time": "2021-09-20T23:41:57.552Z"
   },
   {
    "duration": 242,
    "start_time": "2021-09-20T23:41:59.018Z"
   },
   {
    "duration": 11,
    "start_time": "2021-09-20T23:42:16.566Z"
   },
   {
    "duration": 10,
    "start_time": "2021-09-20T23:42:25.209Z"
   },
   {
    "duration": 103,
    "start_time": "2021-09-20T23:42:25.865Z"
   },
   {
    "duration": 69,
    "start_time": "2021-09-20T23:42:29.570Z"
   },
   {
    "duration": 114,
    "start_time": "2021-09-20T23:43:06.247Z"
   },
   {
    "duration": 21819,
    "start_time": "2021-09-20T23:43:12.385Z"
   },
   {
    "duration": 104,
    "start_time": "2021-09-20T23:43:50.671Z"
   },
   {
    "duration": 21825,
    "start_time": "2021-09-20T23:44:09.981Z"
   },
   {
    "duration": 11123,
    "start_time": "2021-09-20T23:44:45.099Z"
   },
   {
    "duration": 21592,
    "start_time": "2021-09-20T23:45:05.279Z"
   },
   {
    "duration": 21938,
    "start_time": "2021-09-20T23:47:53.362Z"
   },
   {
    "duration": 10,
    "start_time": "2021-09-20T23:48:33.942Z"
   },
   {
    "duration": 22886,
    "start_time": "2021-09-20T23:48:40.390Z"
   },
   {
    "duration": 11,
    "start_time": "2021-09-20T23:51:33.581Z"
   },
   {
    "duration": 21979,
    "start_time": "2021-09-20T23:51:36.929Z"
   },
   {
    "duration": 22152,
    "start_time": "2021-09-20T23:52:28.285Z"
   },
   {
    "duration": 22,
    "start_time": "2021-09-20T23:52:52.883Z"
   },
   {
    "duration": 21355,
    "start_time": "2021-09-20T23:53:32.621Z"
   },
   {
    "duration": 22,
    "start_time": "2021-09-20T23:53:56.169Z"
   },
   {
    "duration": 23,
    "start_time": "2021-09-20T23:54:00.676Z"
   },
   {
    "duration": 21839,
    "start_time": "2021-09-20T23:54:15.915Z"
   },
   {
    "duration": 21553,
    "start_time": "2021-09-20T23:54:46.982Z"
   },
   {
    "duration": 251,
    "start_time": "2021-09-20T23:55:15.506Z"
   },
   {
    "duration": 13,
    "start_time": "2021-09-20T23:55:21.335Z"
   },
   {
    "duration": 25,
    "start_time": "2021-09-20T23:55:23.878Z"
   },
   {
    "duration": 21498,
    "start_time": "2021-09-20T23:57:34.871Z"
   },
   {
    "duration": 30,
    "start_time": "2021-09-20T23:58:32.430Z"
   },
   {
    "duration": 126,
    "start_time": "2021-09-20T23:59:46.923Z"
   },
   {
    "duration": 12,
    "start_time": "2021-09-21T00:00:13.491Z"
   },
   {
    "duration": 21644,
    "start_time": "2021-09-21T00:00:17.424Z"
   },
   {
    "duration": 30,
    "start_time": "2021-09-21T00:00:43.973Z"
   },
   {
    "duration": 21968,
    "start_time": "2021-09-21T00:02:36.369Z"
   },
   {
    "duration": 635,
    "start_time": "2021-09-21T00:03:16.354Z"
   },
   {
    "duration": 745,
    "start_time": "2021-09-21T00:03:30.085Z"
   },
   {
    "duration": 54,
    "start_time": "2021-09-21T00:03:38.500Z"
   },
   {
    "duration": 33,
    "start_time": "2021-09-21T00:03:41.653Z"
   },
   {
    "duration": 13,
    "start_time": "2021-09-21T00:03:47.580Z"
   },
   {
    "duration": 54,
    "start_time": "2021-09-21T00:03:48.165Z"
   },
   {
    "duration": 27,
    "start_time": "2021-09-21T00:03:48.735Z"
   },
   {
    "duration": 21736,
    "start_time": "2021-09-21T00:05:10.082Z"
   },
   {
    "duration": 21930,
    "start_time": "2021-09-21T00:05:48.991Z"
   },
   {
    "duration": 22058,
    "start_time": "2021-09-21T00:08:04.766Z"
   },
   {
    "duration": 22361,
    "start_time": "2021-09-21T00:11:01.515Z"
   },
   {
    "duration": 10,
    "start_time": "2021-09-21T00:11:43.591Z"
   },
   {
    "duration": 21741,
    "start_time": "2021-09-21T00:11:45.702Z"
   },
   {
    "duration": 614,
    "start_time": "2021-09-21T00:13:11.931Z"
   },
   {
    "duration": 654,
    "start_time": "2021-09-21T00:13:39.884Z"
   },
   {
    "duration": 124,
    "start_time": "2021-09-21T00:14:24.265Z"
   },
   {
    "duration": 98,
    "start_time": "2021-09-21T00:14:33.649Z"
   },
   {
    "duration": 626,
    "start_time": "2021-09-21T00:15:11.334Z"
   },
   {
    "duration": 1339,
    "start_time": "2021-09-21T00:15:40.337Z"
   },
   {
    "duration": 714,
    "start_time": "2021-09-21T00:16:32.151Z"
   },
   {
    "duration": 7,
    "start_time": "2021-09-21T00:17:03.265Z"
   },
   {
    "duration": 312,
    "start_time": "2021-09-21T00:17:13.298Z"
   },
   {
    "duration": 312,
    "start_time": "2021-09-21T00:17:17.599Z"
   },
   {
    "duration": 14,
    "start_time": "2021-09-21T00:17:23.585Z"
   },
   {
    "duration": 671,
    "start_time": "2021-09-21T00:17:36.810Z"
   },
   {
    "duration": 19,
    "start_time": "2021-09-21T00:17:49.676Z"
   },
   {
    "duration": 555,
    "start_time": "2021-09-21T00:17:55.108Z"
   },
   {
    "duration": 505,
    "start_time": "2021-09-21T00:18:06.338Z"
   },
   {
    "duration": 504,
    "start_time": "2021-09-21T00:18:11.017Z"
   },
   {
    "duration": 1103,
    "start_time": "2021-09-21T00:18:20.402Z"
   },
   {
    "duration": 617,
    "start_time": "2021-09-21T00:18:37.944Z"
   },
   {
    "duration": 618,
    "start_time": "2021-09-21T00:18:47.621Z"
   },
   {
    "duration": 21265,
    "start_time": "2021-09-21T00:19:32.170Z"
   },
   {
    "duration": 17,
    "start_time": "2021-09-21T00:20:16.326Z"
   },
   {
    "duration": 21625,
    "start_time": "2021-09-21T00:21:12.431Z"
   },
   {
    "duration": 22098,
    "start_time": "2021-09-21T00:22:20.749Z"
   },
   {
    "duration": 71,
    "start_time": "2021-09-21T00:23:08.013Z"
   },
   {
    "duration": 1612,
    "start_time": "2021-09-21T00:24:06.867Z"
   },
   {
    "duration": 10,
    "start_time": "2021-09-21T00:26:36.116Z"
   },
   {
    "duration": 21639,
    "start_time": "2021-09-21T00:26:45.045Z"
   },
   {
    "duration": 21911,
    "start_time": "2021-09-21T00:29:47.444Z"
   },
   {
    "duration": 22112,
    "start_time": "2021-09-21T00:32:46.298Z"
   },
   {
    "duration": 21722,
    "start_time": "2021-09-21T00:33:29.717Z"
   },
   {
    "duration": 21459,
    "start_time": "2021-09-21T00:35:30.310Z"
   },
   {
    "duration": 22300,
    "start_time": "2021-09-21T00:36:30.850Z"
   },
   {
    "duration": 13,
    "start_time": "2021-09-21T00:37:21.375Z"
   },
   {
    "duration": 21337,
    "start_time": "2021-09-21T00:38:09.905Z"
   },
   {
    "duration": 14,
    "start_time": "2021-09-21T00:39:24.676Z"
   },
   {
    "duration": 14,
    "start_time": "2021-09-21T00:39:25.288Z"
   },
   {
    "duration": 21564,
    "start_time": "2021-09-21T00:39:50.825Z"
   },
   {
    "duration": 135,
    "start_time": "2021-09-21T00:40:31.956Z"
   },
   {
    "duration": 21601,
    "start_time": "2021-09-21T00:40:59.130Z"
   },
   {
    "duration": 13,
    "start_time": "2021-09-21T00:41:58.820Z"
   },
   {
    "duration": 21317,
    "start_time": "2021-09-21T00:42:02.475Z"
   },
   {
    "duration": 21744,
    "start_time": "2021-09-21T00:42:40.431Z"
   },
   {
    "duration": 21240,
    "start_time": "2021-09-21T00:43:58.720Z"
   },
   {
    "duration": 21448,
    "start_time": "2021-09-21T00:45:29.430Z"
   },
   {
    "duration": 14,
    "start_time": "2021-09-21T00:46:15.947Z"
   },
   {
    "duration": 21843,
    "start_time": "2021-09-21T00:46:21.635Z"
   },
   {
    "duration": 24,
    "start_time": "2021-09-21T00:46:59.768Z"
   },
   {
    "duration": 21593,
    "start_time": "2021-09-21T00:47:24.138Z"
   },
   {
    "duration": 295,
    "start_time": "2021-09-21T01:25:16.323Z"
   },
   {
    "duration": 274,
    "start_time": "2021-09-21T01:26:05.226Z"
   },
   {
    "duration": 764,
    "start_time": "2021-09-21T01:27:50.973Z"
   },
   {
    "duration": 784,
    "start_time": "2021-09-21T01:28:29.403Z"
   },
   {
    "duration": 803,
    "start_time": "2021-09-21T01:28:40.785Z"
   },
   {
    "duration": 6,
    "start_time": "2021-09-21T01:29:13.913Z"
   },
   {
    "duration": 6,
    "start_time": "2021-09-21T01:29:21.105Z"
   },
   {
    "duration": 6,
    "start_time": "2021-09-21T01:29:26.721Z"
   },
   {
    "duration": 766,
    "start_time": "2021-09-21T01:29:34.632Z"
   },
   {
    "duration": 281,
    "start_time": "2021-09-21T01:30:55.262Z"
   },
   {
    "duration": 6,
    "start_time": "2021-09-21T01:31:12.860Z"
   },
   {
    "duration": 6,
    "start_time": "2021-09-21T01:31:18.972Z"
   },
   {
    "duration": 320,
    "start_time": "2021-09-21T01:31:29.101Z"
   },
   {
    "duration": 290,
    "start_time": "2021-09-21T01:31:34.993Z"
   },
   {
    "duration": 311,
    "start_time": "2021-09-21T01:31:44.546Z"
   },
   {
    "duration": 427,
    "start_time": "2021-09-21T01:33:31.529Z"
   },
   {
    "duration": 348,
    "start_time": "2021-09-21T01:35:20.617Z"
   },
   {
    "duration": 324,
    "start_time": "2021-09-21T01:37:49.718Z"
   },
   {
    "duration": 368,
    "start_time": "2021-09-21T01:37:59.130Z"
   },
   {
    "duration": 390,
    "start_time": "2021-09-21T01:38:06.933Z"
   },
   {
    "duration": 384,
    "start_time": "2021-09-21T01:38:11.063Z"
   },
   {
    "duration": 399,
    "start_time": "2021-09-21T01:38:40.651Z"
   },
   {
    "duration": 348,
    "start_time": "2021-09-21T01:38:47.827Z"
   },
   {
    "duration": 382,
    "start_time": "2021-09-21T01:49:39.234Z"
   },
   {
    "duration": 388,
    "start_time": "2021-09-21T01:50:15.659Z"
   },
   {
    "duration": 396,
    "start_time": "2021-09-21T01:50:21.506Z"
   },
   {
    "duration": 486,
    "start_time": "2021-09-21T01:50:27.715Z"
   },
   {
    "duration": 389,
    "start_time": "2021-09-21T01:50:40.246Z"
   },
   {
    "duration": 410,
    "start_time": "2021-09-21T01:50:44.519Z"
   },
   {
    "duration": 328,
    "start_time": "2021-09-21T01:50:48.679Z"
   },
   {
    "duration": 404,
    "start_time": "2021-09-21T01:51:12.607Z"
   },
   {
    "duration": 335,
    "start_time": "2021-09-21T01:51:15.681Z"
   },
   {
    "duration": 6,
    "start_time": "2021-09-21T02:02:02.950Z"
   },
   {
    "duration": 8786,
    "start_time": "2021-09-21T02:02:28.242Z"
   },
   {
    "duration": 5,
    "start_time": "2021-09-21T02:04:35.349Z"
   },
   {
    "duration": 10238,
    "start_time": "2021-09-21T02:04:38.308Z"
   },
   {
    "duration": 8833,
    "start_time": "2021-09-21T02:06:08.354Z"
   },
   {
    "duration": 8637,
    "start_time": "2021-09-21T02:06:47.652Z"
   },
   {
    "duration": 7,
    "start_time": "2021-09-21T02:06:57.171Z"
   },
   {
    "duration": 313,
    "start_time": "2021-09-21T02:07:10.875Z"
   },
   {
    "duration": 8,
    "start_time": "2021-09-21T02:07:15.210Z"
   },
   {
    "duration": 9,
    "start_time": "2021-09-21T02:07:24.136Z"
   },
   {
    "duration": 312,
    "start_time": "2021-09-21T02:07:36.742Z"
   },
   {
    "duration": 326,
    "start_time": "2021-09-21T02:07:56.146Z"
   },
   {
    "duration": 1049,
    "start_time": "2021-09-21T02:08:00.187Z"
   },
   {
    "duration": 249,
    "start_time": "2021-09-21T02:08:08.540Z"
   },
   {
    "duration": 325,
    "start_time": "2021-09-21T02:08:15.118Z"
   },
   {
    "duration": 347,
    "start_time": "2021-09-21T02:09:11.220Z"
   },
   {
    "duration": 353,
    "start_time": "2021-09-21T02:10:00.104Z"
   },
   {
    "duration": 343,
    "start_time": "2021-09-21T02:13:15.154Z"
   },
   {
    "duration": 349,
    "start_time": "2021-09-21T02:13:31.038Z"
   },
   {
    "duration": 829,
    "start_time": "2021-09-21T02:13:39.078Z"
   },
   {
    "duration": 425,
    "start_time": "2021-09-21T02:13:53.180Z"
   },
   {
    "duration": 603,
    "start_time": "2021-09-21T02:15:31.407Z"
   },
   {
    "duration": 301,
    "start_time": "2021-09-21T02:15:38.055Z"
   },
   {
    "duration": 339,
    "start_time": "2021-09-21T02:15:43.763Z"
   },
   {
    "duration": 346,
    "start_time": "2021-09-21T02:16:57.034Z"
   },
   {
    "duration": 418,
    "start_time": "2021-09-21T02:16:59.894Z"
   },
   {
    "duration": 360,
    "start_time": "2021-09-21T02:17:05.414Z"
   },
   {
    "duration": 564,
    "start_time": "2021-09-21T02:17:13.157Z"
   },
   {
    "duration": 424,
    "start_time": "2021-09-21T02:17:18.192Z"
   },
   {
    "duration": 416,
    "start_time": "2021-09-21T02:17:23.717Z"
   },
   {
    "duration": 451,
    "start_time": "2021-09-21T02:17:34.469Z"
   },
   {
    "duration": 402,
    "start_time": "2021-09-21T02:17:40.062Z"
   },
   {
    "duration": 366,
    "start_time": "2021-09-21T02:17:45.131Z"
   },
   {
    "duration": 412,
    "start_time": "2021-09-21T02:18:03.007Z"
   },
   {
    "duration": 413,
    "start_time": "2021-09-21T02:18:08.560Z"
   },
   {
    "duration": 358,
    "start_time": "2021-09-21T02:22:41.008Z"
   },
   {
    "duration": 1614,
    "start_time": "2021-09-21T14:13:16.402Z"
   },
   {
    "duration": 573,
    "start_time": "2021-09-21T14:13:18.019Z"
   },
   {
    "duration": 145,
    "start_time": "2021-09-21T14:13:18.595Z"
   },
   {
    "duration": 9,
    "start_time": "2021-09-21T14:13:18.745Z"
   },
   {
    "duration": 6,
    "start_time": "2021-09-21T14:13:18.756Z"
   },
   {
    "duration": 17,
    "start_time": "2021-09-21T14:13:18.764Z"
   },
   {
    "duration": 36,
    "start_time": "2021-09-21T14:13:18.783Z"
   },
   {
    "duration": 118,
    "start_time": "2021-09-21T14:13:18.823Z"
   },
   {
    "duration": 48,
    "start_time": "2021-09-21T14:13:18.944Z"
   },
   {
    "duration": 143,
    "start_time": "2021-09-21T14:13:18.994Z"
   },
   {
    "duration": 6,
    "start_time": "2021-09-21T14:13:19.139Z"
   },
   {
    "duration": 839,
    "start_time": "2021-09-21T14:13:19.148Z"
   },
   {
    "duration": 28,
    "start_time": "2021-09-21T14:13:19.990Z"
   },
   {
    "duration": 32,
    "start_time": "2021-09-21T14:13:20.022Z"
   },
   {
    "duration": 58,
    "start_time": "2021-09-21T14:13:20.058Z"
   },
   {
    "duration": 12,
    "start_time": "2021-09-21T14:13:20.120Z"
   },
   {
    "duration": 10,
    "start_time": "2021-09-21T14:13:20.135Z"
   },
   {
    "duration": 422,
    "start_time": "2021-09-21T14:13:20.148Z"
   },
   {
    "duration": 9,
    "start_time": "2021-09-21T14:13:20.573Z"
   },
   {
    "duration": 47,
    "start_time": "2021-09-21T14:13:20.585Z"
   },
   {
    "duration": 307,
    "start_time": "2021-09-21T14:13:20.634Z"
   },
   {
    "duration": 7,
    "start_time": "2021-09-21T14:13:20.946Z"
   },
   {
    "duration": 20,
    "start_time": "2021-09-21T14:13:20.959Z"
   },
   {
    "duration": 34,
    "start_time": "2021-09-21T14:13:20.983Z"
   },
   {
    "duration": 1822,
    "start_time": "2021-09-21T14:13:21.019Z"
   },
   {
    "duration": 31,
    "start_time": "2021-09-21T14:13:22.844Z"
   },
   {
    "duration": 10,
    "start_time": "2021-09-21T14:13:22.877Z"
   },
   {
    "duration": 10,
    "start_time": "2021-09-21T14:13:22.916Z"
   },
   {
    "duration": 21467,
    "start_time": "2021-09-21T14:13:22.929Z"
   },
   {
    "duration": 20414,
    "start_time": "2021-09-21T14:13:44.398Z"
   },
   {
    "duration": 22030,
    "start_time": "2021-09-21T14:14:04.817Z"
   },
   {
    "duration": 17691,
    "start_time": "2021-09-21T14:14:26.849Z"
   },
   {
    "duration": 18069,
    "start_time": "2021-09-21T14:14:44.542Z"
   },
   {
    "duration": 12,
    "start_time": "2021-09-21T14:15:02.625Z"
   },
   {
    "duration": 23020,
    "start_time": "2021-09-21T14:15:02.640Z"
   },
   {
    "duration": 400,
    "start_time": "2021-09-21T14:15:25.662Z"
   },
   {
    "duration": 452,
    "start_time": "2021-09-21T14:15:26.064Z"
   },
   {
    "duration": 501,
    "start_time": "2021-09-21T14:15:26.518Z"
   },
   {
    "duration": 372,
    "start_time": "2021-09-21T14:15:27.022Z"
   },
   {
    "duration": 450,
    "start_time": "2021-09-21T14:15:27.397Z"
   },
   {
    "duration": 434,
    "start_time": "2021-09-21T14:15:27.849Z"
   },
   {
    "duration": 364,
    "start_time": "2021-09-21T14:15:28.285Z"
   },
   {
    "duration": 7,
    "start_time": "2021-09-21T14:15:28.652Z"
   },
   {
    "duration": 378,
    "start_time": "2021-09-21T14:15:28.662Z"
   },
   {
    "duration": 459,
    "start_time": "2021-09-21T14:15:29.043Z"
   },
   {
    "duration": 605,
    "start_time": "2021-09-21T14:15:29.505Z"
   },
   {
    "duration": 553,
    "start_time": "2021-09-21T14:15:30.116Z"
   },
   {
    "duration": 432,
    "start_time": "2021-09-21T14:15:30.672Z"
   },
   {
    "duration": 402,
    "start_time": "2021-09-21T14:15:31.107Z"
   },
   {
    "duration": 477,
    "start_time": "2021-09-21T14:56:28.026Z"
   },
   {
    "duration": 383,
    "start_time": "2021-09-21T14:56:33.948Z"
   },
   {
    "duration": 437,
    "start_time": "2021-09-21T14:56:42.105Z"
   },
   {
    "duration": 381,
    "start_time": "2021-09-21T14:56:50.077Z"
   },
   {
    "duration": 357,
    "start_time": "2021-09-21T15:02:59.648Z"
   },
   {
    "duration": 430,
    "start_time": "2021-09-21T15:03:02.951Z"
   },
   {
    "duration": 364,
    "start_time": "2021-09-21T15:03:07.570Z"
   },
   {
    "duration": 438,
    "start_time": "2021-09-21T15:03:10.966Z"
   },
   {
    "duration": 521,
    "start_time": "2021-09-21T15:03:15.239Z"
   },
   {
    "duration": 494,
    "start_time": "2021-09-21T15:03:23.781Z"
   },
   {
    "duration": 393,
    "start_time": "2021-09-21T15:03:27.312Z"
   },
   {
    "duration": 472,
    "start_time": "2021-09-21T15:03:41.753Z"
   },
   {
    "duration": 449,
    "start_time": "2021-09-21T15:03:46.560Z"
   },
   {
    "duration": 360,
    "start_time": "2021-09-21T15:03:50.463Z"
   },
   {
    "duration": 4,
    "start_time": "2021-09-21T15:10:18.751Z"
   },
   {
    "duration": 30,
    "start_time": "2021-09-21T15:16:12.697Z"
   },
   {
    "duration": 30,
    "start_time": "2021-09-21T15:16:42.118Z"
   },
   {
    "duration": 33,
    "start_time": "2021-09-21T15:16:49.600Z"
   },
   {
    "duration": 32,
    "start_time": "2021-09-21T15:19:42.476Z"
   },
   {
    "duration": 12,
    "start_time": "2021-09-21T15:20:05.036Z"
   },
   {
    "duration": 1457,
    "start_time": "2021-09-21T15:22:23.812Z"
   },
   {
    "duration": 1792,
    "start_time": "2021-09-21T15:23:38.299Z"
   },
   {
    "duration": 35,
    "start_time": "2021-09-21T15:23:47.025Z"
   },
   {
    "duration": 12,
    "start_time": "2021-09-21T15:24:02.473Z"
   },
   {
    "duration": 22,
    "start_time": "2021-09-21T16:13:37.321Z"
   },
   {
    "duration": 35,
    "start_time": "2021-09-21T16:20:11.889Z"
   },
   {
    "duration": 43,
    "start_time": "2021-09-21T16:20:28.819Z"
   },
   {
    "duration": 12601,
    "start_time": "2021-09-21T16:22:31.089Z"
   },
   {
    "duration": 42,
    "start_time": "2021-09-21T16:22:50.095Z"
   },
   {
    "duration": 8052,
    "start_time": "2021-09-21T16:23:09.547Z"
   },
   {
    "duration": 7,
    "start_time": "2021-09-21T16:23:19.591Z"
   },
   {
    "duration": 53,
    "start_time": "2021-09-21T16:23:50.962Z"
   },
   {
    "duration": 29,
    "start_time": "2021-09-21T16:24:11.425Z"
   },
   {
    "duration": 25,
    "start_time": "2021-09-21T16:24:17.681Z"
   },
   {
    "duration": 48,
    "start_time": "2021-09-21T16:24:27.897Z"
   },
   {
    "duration": 10,
    "start_time": "2021-09-21T16:24:58.142Z"
   },
   {
    "duration": 23,
    "start_time": "2021-09-21T16:25:06.249Z"
   },
   {
    "duration": 9,
    "start_time": "2021-09-21T16:25:16.231Z"
   },
   {
    "duration": 5,
    "start_time": "2021-09-21T16:25:21.661Z"
   },
   {
    "duration": 4707,
    "start_time": "2021-09-21T16:25:50.657Z"
   },
   {
    "duration": 22774,
    "start_time": "2021-09-21T16:26:44.484Z"
   },
   {
    "duration": 6517,
    "start_time": "2021-09-21T16:27:38.168Z"
   },
   {
    "duration": 28,
    "start_time": "2021-09-21T16:28:37.636Z"
   },
   {
    "duration": 4116,
    "start_time": "2021-09-21T16:28:54.051Z"
   },
   {
    "duration": 26,
    "start_time": "2021-09-21T16:29:04.857Z"
   },
   {
    "duration": 22812,
    "start_time": "2021-09-21T16:29:16.112Z"
   },
   {
    "duration": 29,
    "start_time": "2021-09-21T16:29:38.927Z"
   },
   {
    "duration": 40,
    "start_time": "2021-09-21T16:29:49.337Z"
   },
   {
    "duration": 13,
    "start_time": "2021-09-21T16:33:32.486Z"
   },
   {
    "duration": 10,
    "start_time": "2021-09-21T16:33:42.426Z"
   },
   {
    "duration": 10,
    "start_time": "2021-09-21T16:33:46.298Z"
   },
   {
    "duration": 11,
    "start_time": "2021-09-21T16:34:12.125Z"
   },
   {
    "duration": 12,
    "start_time": "2021-09-21T16:57:37.380Z"
   },
   {
    "duration": 13,
    "start_time": "2021-09-21T16:57:53.793Z"
   },
   {
    "duration": 350,
    "start_time": "2021-09-21T16:59:47.226Z"
   },
   {
    "duration": 6,
    "start_time": "2021-09-21T17:06:54.879Z"
   },
   {
    "duration": 7,
    "start_time": "2021-09-21T17:13:15.912Z"
   },
   {
    "duration": 5,
    "start_time": "2021-09-21T17:13:35.239Z"
   },
   {
    "duration": 17,
    "start_time": "2021-09-21T17:16:14.001Z"
   },
   {
    "duration": 1663,
    "start_time": "2021-09-21T22:30:49.405Z"
   },
   {
    "duration": 563,
    "start_time": "2021-09-21T22:30:51.071Z"
   },
   {
    "duration": 138,
    "start_time": "2021-09-21T22:30:51.637Z"
   },
   {
    "duration": 9,
    "start_time": "2021-09-21T22:30:51.778Z"
   },
   {
    "duration": 7,
    "start_time": "2021-09-21T22:30:51.789Z"
   },
   {
    "duration": 12,
    "start_time": "2021-09-21T22:30:51.799Z"
   },
   {
    "duration": 7,
    "start_time": "2021-09-21T22:30:51.814Z"
   },
   {
    "duration": 152,
    "start_time": "2021-09-21T22:30:51.825Z"
   },
   {
    "duration": 49,
    "start_time": "2021-09-21T22:30:51.980Z"
   },
   {
    "duration": 168,
    "start_time": "2021-09-21T22:30:52.031Z"
   },
   {
    "duration": 5,
    "start_time": "2021-09-21T22:30:52.201Z"
   },
   {
    "duration": 774,
    "start_time": "2021-09-21T22:30:52.208Z"
   },
   {
    "duration": 17,
    "start_time": "2021-09-21T22:30:52.985Z"
   },
   {
    "duration": 29,
    "start_time": "2021-09-21T22:30:53.005Z"
   },
   {
    "duration": 46,
    "start_time": "2021-09-21T22:30:53.036Z"
   },
   {
    "duration": 12,
    "start_time": "2021-09-21T22:30:53.084Z"
   },
   {
    "duration": 9,
    "start_time": "2021-09-21T22:30:53.099Z"
   },
   {
    "duration": 467,
    "start_time": "2021-09-21T22:30:53.111Z"
   },
   {
    "duration": 9,
    "start_time": "2021-09-21T22:30:53.580Z"
   },
   {
    "duration": 22,
    "start_time": "2021-09-21T22:30:53.592Z"
   },
   {
    "duration": 354,
    "start_time": "2021-09-21T22:30:53.616Z"
   },
   {
    "duration": 7,
    "start_time": "2021-09-21T22:30:53.973Z"
   },
   {
    "duration": 23,
    "start_time": "2021-09-21T22:30:53.986Z"
   },
   {
    "duration": 10,
    "start_time": "2021-09-21T22:30:54.013Z"
   },
   {
    "duration": 1844,
    "start_time": "2021-09-21T22:30:54.026Z"
   },
   {
    "duration": 28,
    "start_time": "2021-09-21T22:30:55.873Z"
   },
   {
    "duration": 10,
    "start_time": "2021-09-21T22:30:55.904Z"
   },
   {
    "duration": 10,
    "start_time": "2021-09-21T22:30:55.917Z"
   },
   {
    "duration": 21215,
    "start_time": "2021-09-21T22:30:55.966Z"
   },
   {
    "duration": 17066,
    "start_time": "2021-09-21T22:31:17.184Z"
   },
   {
    "duration": 20863,
    "start_time": "2021-09-21T22:31:34.253Z"
   },
   {
    "duration": 17735,
    "start_time": "2021-09-21T22:31:55.120Z"
   },
   {
    "duration": 17994,
    "start_time": "2021-09-21T22:32:12.857Z"
   },
   {
    "duration": 19,
    "start_time": "2021-09-21T22:32:30.854Z"
   },
   {
    "duration": 22520,
    "start_time": "2021-09-21T22:32:30.875Z"
   },
   {
    "duration": 31,
    "start_time": "2021-09-21T22:32:53.397Z"
   },
   {
    "duration": 36,
    "start_time": "2021-09-21T22:32:53.430Z"
   },
   {
    "duration": 388,
    "start_time": "2021-09-21T22:32:53.468Z"
   },
   {
    "duration": 501,
    "start_time": "2021-09-21T22:32:53.858Z"
   },
   {
    "duration": 427,
    "start_time": "2021-09-21T22:32:54.361Z"
   },
   {
    "duration": 372,
    "start_time": "2021-09-21T22:32:54.790Z"
   },
   {
    "duration": 428,
    "start_time": "2021-09-21T22:32:55.165Z"
   },
   {
    "duration": 457,
    "start_time": "2021-09-21T22:32:55.596Z"
   },
   {
    "duration": 374,
    "start_time": "2021-09-21T22:32:56.056Z"
   },
   {
    "duration": 6,
    "start_time": "2021-09-21T22:32:56.433Z"
   },
   {
    "duration": 390,
    "start_time": "2021-09-21T22:32:56.442Z"
   },
   {
    "duration": 470,
    "start_time": "2021-09-21T22:32:56.835Z"
   },
   {
    "duration": 379,
    "start_time": "2021-09-21T22:32:57.307Z"
   },
   {
    "duration": 447,
    "start_time": "2021-09-21T22:32:57.689Z"
   },
   {
    "duration": 417,
    "start_time": "2021-09-21T22:32:58.138Z"
   },
   {
    "duration": 508,
    "start_time": "2021-09-21T22:32:58.566Z"
   },
   {
    "duration": 6,
    "start_time": "2021-09-21T22:32:59.077Z"
   },
   {
    "duration": 38,
    "start_time": "2021-09-21T22:32:59.086Z"
   },
   {
    "duration": 49,
    "start_time": "2021-09-21T22:32:59.127Z"
   },
   {
    "duration": 15,
    "start_time": "2021-09-21T22:32:59.180Z"
   },
   {
    "duration": 17,
    "start_time": "2021-09-21T22:38:45.916Z"
   },
   {
    "duration": 16,
    "start_time": "2021-09-21T22:39:08.949Z"
   },
   {
    "duration": 41,
    "start_time": "2021-09-21T22:48:44.819Z"
   },
   {
    "duration": 12,
    "start_time": "2021-09-21T22:49:01.356Z"
   },
   {
    "duration": 12,
    "start_time": "2021-09-21T22:49:11.026Z"
   },
   {
    "duration": 12,
    "start_time": "2021-09-21T22:49:23.310Z"
   },
   {
    "duration": 642,
    "start_time": "2021-09-21T22:55:26.876Z"
   },
   {
    "duration": 2444,
    "start_time": "2021-09-21T22:56:06.495Z"
   },
   {
    "duration": 20,
    "start_time": "2021-09-21T22:56:13.316Z"
   },
   {
    "duration": 538,
    "start_time": "2021-09-21T22:56:20.143Z"
   },
   {
    "duration": 525,
    "start_time": "2021-09-21T22:56:36.530Z"
   },
   {
    "duration": 941,
    "start_time": "2021-09-21T22:58:10.797Z"
   },
   {
    "duration": 889,
    "start_time": "2021-09-21T22:58:25.742Z"
   },
   {
    "duration": 362,
    "start_time": "2021-09-22T14:28:35.347Z"
   },
   {
    "duration": 1197,
    "start_time": "2021-09-22T14:28:52.636Z"
   },
   {
    "duration": 442,
    "start_time": "2021-09-22T14:28:53.954Z"
   },
   {
    "duration": 378,
    "start_time": "2021-09-22T14:28:55.070Z"
   },
   {
    "duration": 167,
    "start_time": "2021-09-22T14:29:25.113Z"
   },
   {
    "duration": 215,
    "start_time": "2021-09-22T14:29:42.074Z"
   },
   {
    "duration": 3,
    "start_time": "2021-09-22T14:31:10.522Z"
   },
   {
    "duration": 3,
    "start_time": "2021-09-22T14:31:21.402Z"
   },
   {
    "duration": 190,
    "start_time": "2021-09-22T14:31:22.066Z"
   },
   {
    "duration": 27,
    "start_time": "2021-09-22T14:32:45.745Z"
   },
   {
    "duration": 7,
    "start_time": "2021-09-22T14:34:06.247Z"
   },
   {
    "duration": 3,
    "start_time": "2021-09-22T14:34:07.396Z"
   },
   {
    "duration": 6,
    "start_time": "2021-09-22T14:34:07.689Z"
   },
   {
    "duration": 5,
    "start_time": "2021-09-22T14:34:07.986Z"
   },
   {
    "duration": 71,
    "start_time": "2021-09-22T14:34:09.000Z"
   },
   {
    "duration": 36,
    "start_time": "2021-09-22T14:34:09.505Z"
   },
   {
    "duration": 17,
    "start_time": "2021-09-22T14:34:12.349Z"
   },
   {
    "duration": 3,
    "start_time": "2021-09-22T14:34:14.434Z"
   },
   {
    "duration": 372,
    "start_time": "2021-09-22T14:34:15.206Z"
   },
   {
    "duration": 11,
    "start_time": "2021-09-22T14:34:18.193Z"
   },
   {
    "duration": 17,
    "start_time": "2021-09-22T14:34:19.149Z"
   },
   {
    "duration": 13,
    "start_time": "2021-09-22T14:34:21.115Z"
   },
   {
    "duration": 7,
    "start_time": "2021-09-22T14:34:22.657Z"
   },
   {
    "duration": 7,
    "start_time": "2021-09-22T14:34:24.472Z"
   },
   {
    "duration": 307,
    "start_time": "2021-09-22T14:35:10.681Z"
   },
   {
    "duration": 9,
    "start_time": "2021-09-22T14:35:11.316Z"
   },
   {
    "duration": 20,
    "start_time": "2021-09-22T14:35:12.134Z"
   },
   {
    "duration": 212,
    "start_time": "2021-09-22T14:35:16.137Z"
   },
   {
    "duration": 6,
    "start_time": "2021-09-22T14:35:16.981Z"
   },
   {
    "duration": 14,
    "start_time": "2021-09-22T14:35:17.835Z"
   },
   {
    "duration": 307,
    "start_time": "2021-09-22T14:37:33.280Z"
   },
   {
    "duration": 106,
    "start_time": "2021-09-22T14:37:53.138Z"
   },
   {
    "duration": 3,
    "start_time": "2021-09-22T14:37:58.312Z"
   },
   {
    "duration": 5,
    "start_time": "2021-09-22T14:41:24.161Z"
   },
   {
    "duration": 1025,
    "start_time": "2021-09-22T14:41:25.144Z"
   },
   {
    "duration": 21,
    "start_time": "2021-09-22T14:41:26.171Z"
   },
   {
    "duration": 8,
    "start_time": "2021-09-22T14:41:27.936Z"
   },
   {
    "duration": 6,
    "start_time": "2021-09-22T14:41:29.695Z"
   },
   {
    "duration": 12861,
    "start_time": "2021-09-22T14:42:15.518Z"
   },
   {
    "duration": 13096,
    "start_time": "2021-09-22T14:46:14.847Z"
   },
   {
    "duration": 10843,
    "start_time": "2021-09-22T14:46:27.945Z"
   },
   {
    "duration": 12478,
    "start_time": "2021-09-22T14:46:38.790Z"
   },
   {
    "duration": 10414,
    "start_time": "2021-09-22T14:46:51.270Z"
   },
   {
    "duration": 10398,
    "start_time": "2021-09-22T14:47:01.686Z"
   },
   {
    "duration": 8,
    "start_time": "2021-09-22T14:47:12.085Z"
   },
   {
    "duration": 12807,
    "start_time": "2021-09-22T14:47:12.095Z"
   },
   {
    "duration": 23,
    "start_time": "2021-09-22T14:47:24.904Z"
   },
   {
    "duration": 13,
    "start_time": "2021-09-22T14:47:24.929Z"
   },
   {
    "duration": 213,
    "start_time": "2021-09-22T14:48:06.384Z"
   },
   {
    "duration": 7,
    "start_time": "2021-09-22T14:55:53.815Z"
   },
   {
    "duration": 11,
    "start_time": "2021-09-22T15:01:00.331Z"
   },
   {
    "duration": 89,
    "start_time": "2021-09-22T15:05:58.167Z"
   },
   {
    "duration": 271,
    "start_time": "2021-09-22T15:06:02.518Z"
   },
   {
    "duration": 282,
    "start_time": "2021-09-22T15:06:11.067Z"
   },
   {
    "duration": 333,
    "start_time": "2021-09-22T15:06:23.909Z"
   },
   {
    "duration": 331,
    "start_time": "2021-09-22T15:06:38.526Z"
   },
   {
    "duration": 325,
    "start_time": "2021-09-22T15:07:19.369Z"
   },
   {
    "duration": 278,
    "start_time": "2021-09-22T15:08:57.456Z"
   },
   {
    "duration": 344,
    "start_time": "2021-09-22T15:09:45.466Z"
   },
   {
    "duration": 353,
    "start_time": "2021-09-22T15:09:52.362Z"
   },
   {
    "duration": 439,
    "start_time": "2021-09-22T15:10:28.166Z"
   },
   {
    "duration": 342,
    "start_time": "2021-09-22T15:10:41.986Z"
   },
   {
    "duration": 4,
    "start_time": "2021-09-22T15:10:50.775Z"
   },
   {
    "duration": 4,
    "start_time": "2021-09-22T15:10:54.334Z"
   },
   {
    "duration": 3,
    "start_time": "2021-09-22T15:10:57.953Z"
   },
   {
    "duration": 7338,
    "start_time": "2021-09-22T15:12:17.457Z"
   },
   {
    "duration": 24,
    "start_time": "2021-09-22T15:12:32.430Z"
   },
   {
    "duration": 348,
    "start_time": "2021-09-22T15:13:22.344Z"
   },
   {
    "duration": 331,
    "start_time": "2021-09-22T15:17:49.102Z"
   },
   {
    "duration": 8,
    "start_time": "2021-09-22T15:42:07.776Z"
   },
   {
    "duration": 6,
    "start_time": "2021-09-22T15:44:16.165Z"
   },
   {
    "duration": 10,
    "start_time": "2021-09-22T15:44:23.073Z"
   },
   {
    "duration": 7,
    "start_time": "2021-09-22T15:44:43.389Z"
   },
   {
    "duration": 23,
    "start_time": "2021-09-22T15:44:48.496Z"
   },
   {
    "duration": 131,
    "start_time": "2021-09-22T15:45:57.148Z"
   },
   {
    "duration": 2,
    "start_time": "2021-09-22T15:46:06.477Z"
   },
   {
    "duration": 647,
    "start_time": "2021-09-22T15:46:53.039Z"
   },
   {
    "duration": 555,
    "start_time": "2021-09-22T15:47:07.155Z"
   },
   {
    "duration": 1321,
    "start_time": "2021-09-22T15:47:56.504Z"
   },
   {
    "duration": 2109,
    "start_time": "2021-09-22T15:48:04.488Z"
   },
   {
    "duration": 2209,
    "start_time": "2021-09-22T15:48:21.902Z"
   },
   {
    "duration": 1972,
    "start_time": "2021-09-22T15:48:34.173Z"
   },
   {
    "duration": 559,
    "start_time": "2021-09-22T15:49:26.710Z"
   },
   {
    "duration": 500,
    "start_time": "2021-09-22T15:53:33.526Z"
   },
   {
    "duration": 1322,
    "start_time": "2021-09-22T15:54:05.745Z"
   },
   {
    "duration": 1957,
    "start_time": "2021-09-22T15:54:11.742Z"
   },
   {
    "duration": 2034,
    "start_time": "2021-09-22T15:54:26.555Z"
   },
   {
    "duration": 8,
    "start_time": "2021-09-22T15:55:19.513Z"
   },
   {
    "duration": 8,
    "start_time": "2021-09-22T15:55:21.917Z"
   },
   {
    "duration": 3,
    "start_time": "2021-09-22T15:55:22.436Z"
   },
   {
    "duration": 1416,
    "start_time": "2021-09-22T15:55:52.699Z"
   },
   {
    "duration": 21,
    "start_time": "2021-09-22T15:55:58.128Z"
   },
   {
    "duration": 2640,
    "start_time": "2021-09-22T15:56:20.589Z"
   },
   {
    "duration": 1684,
    "start_time": "2021-09-22T15:56:28.752Z"
   },
   {
    "duration": 2241,
    "start_time": "2021-09-22T15:56:39.519Z"
   },
   {
    "duration": 2497,
    "start_time": "2021-09-22T15:57:14.880Z"
   },
   {
    "duration": 754,
    "start_time": "2021-09-22T15:58:15.320Z"
   },
   {
    "duration": 547,
    "start_time": "2021-09-22T15:58:24.757Z"
   },
   {
    "duration": 551,
    "start_time": "2021-09-22T15:59:11.236Z"
   },
   {
    "duration": 551,
    "start_time": "2021-09-22T15:59:33.519Z"
   },
   {
    "duration": 555,
    "start_time": "2021-09-22T15:59:39.402Z"
   },
   {
    "duration": 22,
    "start_time": "2021-09-22T15:59:57.617Z"
   },
   {
    "duration": 320,
    "start_time": "2021-09-22T16:02:31.057Z"
   },
   {
    "duration": 325,
    "start_time": "2021-09-22T16:03:06.361Z"
   },
   {
    "duration": 22,
    "start_time": "2021-09-22T16:03:11.761Z"
   },
   {
    "duration": 3,
    "start_time": "2021-09-22T16:05:29.629Z"
   },
   {
    "duration": 1363,
    "start_time": "2021-09-22T16:05:43.604Z"
   },
   {
    "duration": 3,
    "start_time": "2021-09-22T16:06:30.287Z"
   },
   {
    "duration": 2473,
    "start_time": "2021-09-22T16:06:32.872Z"
   },
   {
    "duration": 2505,
    "start_time": "2021-09-22T16:07:31.727Z"
   },
   {
    "duration": 2487,
    "start_time": "2021-09-22T16:07:39.955Z"
   },
   {
    "duration": 2568,
    "start_time": "2021-09-22T16:07:56.304Z"
   },
   {
    "duration": 2431,
    "start_time": "2021-09-22T16:08:19.173Z"
   },
   {
    "duration": 3,
    "start_time": "2021-09-22T16:09:06.612Z"
   },
   {
    "duration": 37,
    "start_time": "2021-09-22T16:09:07.456Z"
   },
   {
    "duration": 37,
    "start_time": "2021-09-22T16:09:15.501Z"
   },
   {
    "duration": 3,
    "start_time": "2021-09-22T16:11:19.573Z"
   },
   {
    "duration": 38,
    "start_time": "2021-09-22T16:11:25.053Z"
   },
   {
    "duration": 288,
    "start_time": "2021-09-22T16:12:19.081Z"
   },
   {
    "duration": 3,
    "start_time": "2021-09-22T16:12:22.573Z"
   },
   {
    "duration": 59,
    "start_time": "2021-09-22T16:12:22.983Z"
   },
   {
    "duration": 61,
    "start_time": "2021-09-22T16:12:51.994Z"
   },
   {
    "duration": 4,
    "start_time": "2021-09-22T16:12:58.668Z"
   },
   {
    "duration": 59,
    "start_time": "2021-09-22T16:12:59.147Z"
   },
   {
    "duration": 60,
    "start_time": "2021-09-22T16:13:19.955Z"
   },
   {
    "duration": 3,
    "start_time": "2021-09-22T16:13:23.514Z"
   },
   {
    "duration": 56,
    "start_time": "2021-09-22T16:13:26.090Z"
   },
   {
    "duration": 1506,
    "start_time": "2021-09-22T16:14:49.815Z"
   },
   {
    "duration": 48,
    "start_time": "2021-09-22T16:15:06.534Z"
   },
   {
    "duration": 59,
    "start_time": "2021-09-22T16:15:14.830Z"
   },
   {
    "duration": 1387,
    "start_time": "2021-09-22T16:15:16.598Z"
   },
   {
    "duration": 7,
    "start_time": "2021-09-22T16:15:28.559Z"
   },
   {
    "duration": 1393,
    "start_time": "2021-09-22T16:15:32.290Z"
   },
   {
    "duration": 7,
    "start_time": "2021-09-22T16:16:07.569Z"
   },
   {
    "duration": 4,
    "start_time": "2021-09-22T16:16:08.695Z"
   },
   {
    "duration": 98,
    "start_time": "2021-09-22T16:16:09.441Z"
   },
   {
    "duration": 2674,
    "start_time": "2021-09-22T16:16:11.171Z"
   },
   {
    "duration": 8,
    "start_time": "2021-09-22T16:16:31.658Z"
   },
   {
    "duration": 4,
    "start_time": "2021-09-22T16:16:32.086Z"
   },
   {
    "duration": 61,
    "start_time": "2021-09-22T16:16:32.979Z"
   },
   {
    "duration": 9557,
    "start_time": "2021-09-22T16:16:34.293Z"
   },
   {
    "duration": 51,
    "start_time": "2021-09-22T16:16:55.105Z"
   },
   {
    "duration": 236,
    "start_time": "2021-09-22T16:19:04.481Z"
   },
   {
    "duration": 247,
    "start_time": "2021-09-22T16:19:11.838Z"
   },
   {
    "duration": 244,
    "start_time": "2021-09-22T16:19:15.343Z"
   },
   {
    "duration": 200,
    "start_time": "2021-09-22T16:19:18.579Z"
   },
   {
    "duration": 244,
    "start_time": "2021-09-22T16:19:22.070Z"
   },
   {
    "duration": 238,
    "start_time": "2021-09-22T16:19:25.265Z"
   },
   {
    "duration": 203,
    "start_time": "2021-09-22T16:19:28.190Z"
   },
   {
    "duration": 7699,
    "start_time": "2021-09-22T16:21:01.635Z"
   },
   {
    "duration": 291,
    "start_time": "2021-09-22T16:21:15.912Z"
   },
   {
    "duration": 215,
    "start_time": "2021-09-22T16:22:06.122Z"
   },
   {
    "duration": 215,
    "start_time": "2021-09-22T16:22:21.606Z"
   },
   {
    "duration": 8,
    "start_time": "2021-09-22T16:22:59.228Z"
   },
   {
    "duration": 13,
    "start_time": "2021-09-22T16:23:12.072Z"
   },
   {
    "duration": 9583,
    "start_time": "2021-09-22T16:23:23.493Z"
   },
   {
    "duration": 224,
    "start_time": "2021-09-22T16:23:40.398Z"
   },
   {
    "duration": 227,
    "start_time": "2021-09-22T16:23:44.814Z"
   },
   {
    "duration": 320,
    "start_time": "2021-09-22T16:23:50.205Z"
   },
   {
    "duration": 199,
    "start_time": "2021-09-22T16:23:55.385Z"
   },
   {
    "duration": 195,
    "start_time": "2021-09-22T16:24:14.973Z"
   },
   {
    "duration": 261,
    "start_time": "2021-09-22T16:24:30.641Z"
   },
   {
    "duration": 342,
    "start_time": "2021-09-22T16:25:59.240Z"
   },
   {
    "duration": 215,
    "start_time": "2021-09-22T16:26:22.919Z"
   },
   {
    "duration": 193,
    "start_time": "2021-09-22T16:26:27.129Z"
   },
   {
    "duration": 189,
    "start_time": "2021-09-22T16:26:31.604Z"
   },
   {
    "duration": 211,
    "start_time": "2021-09-22T16:26:50.265Z"
   },
   {
    "duration": 240,
    "start_time": "2021-09-22T16:27:23.457Z"
   },
   {
    "duration": 6620,
    "start_time": "2021-09-22T16:27:37.523Z"
   },
   {
    "duration": 251,
    "start_time": "2021-09-22T16:27:45.566Z"
   },
   {
    "duration": 202,
    "start_time": "2021-09-22T16:27:59.592Z"
   },
   {
    "duration": 4,
    "start_time": "2021-09-22T16:28:19.512Z"
   },
   {
    "duration": 220,
    "start_time": "2021-09-22T16:29:02.400Z"
   },
   {
    "duration": 269,
    "start_time": "2021-09-22T16:29:03.532Z"
   },
   {
    "duration": 221,
    "start_time": "2021-09-22T16:29:04.138Z"
   },
   {
    "duration": 504,
    "start_time": "2021-09-22T16:29:06.662Z"
   },
   {
    "duration": 790,
    "start_time": "2021-09-22T16:29:22.232Z"
   },
   {
    "duration": 236,
    "start_time": "2021-09-22T16:36:21.008Z"
   },
   {
    "duration": 246,
    "start_time": "2021-09-22T16:36:24.279Z"
   },
   {
    "duration": 4,
    "start_time": "2021-09-22T16:36:29.998Z"
   },
   {
    "duration": 24,
    "start_time": "2021-09-22T16:36:33.065Z"
   },
   {
    "duration": 10,
    "start_time": "2021-09-22T16:37:15.405Z"
   },
   {
    "duration": 8,
    "start_time": "2021-09-22T16:38:15.330Z"
   },
   {
    "duration": 8,
    "start_time": "2021-09-22T16:38:54.702Z"
   },
   {
    "duration": 8,
    "start_time": "2021-09-22T16:38:56.475Z"
   },
   {
    "duration": 1189,
    "start_time": "2021-09-23T16:55:54.723Z"
   },
   {
    "duration": 436,
    "start_time": "2021-09-23T16:55:55.914Z"
   },
   {
    "duration": 2,
    "start_time": "2021-09-23T16:55:56.353Z"
   },
   {
    "duration": 179,
    "start_time": "2021-09-23T16:55:56.357Z"
   },
   {
    "duration": 5,
    "start_time": "2021-09-23T16:55:56.538Z"
   },
   {
    "duration": 4,
    "start_time": "2021-09-23T16:55:56.545Z"
   },
   {
    "duration": 6,
    "start_time": "2021-09-23T16:55:56.576Z"
   },
   {
    "duration": 5,
    "start_time": "2021-09-23T16:55:56.585Z"
   },
   {
    "duration": 87,
    "start_time": "2021-09-23T16:55:56.592Z"
   },
   {
    "duration": 34,
    "start_time": "2021-09-23T16:55:56.681Z"
   },
   {
    "duration": 15,
    "start_time": "2021-09-23T16:55:56.717Z"
   },
   {
    "duration": 3,
    "start_time": "2021-09-23T16:55:56.734Z"
   },
   {
    "duration": 389,
    "start_time": "2021-09-23T16:55:56.739Z"
   },
   {
    "duration": 13,
    "start_time": "2021-09-23T16:55:57.130Z"
   },
   {
    "duration": 31,
    "start_time": "2021-09-23T16:55:57.145Z"
   },
   {
    "duration": 13,
    "start_time": "2021-09-23T16:55:57.179Z"
   },
   {
    "duration": 8,
    "start_time": "2021-09-23T16:55:57.195Z"
   },
   {
    "duration": 10,
    "start_time": "2021-09-23T16:55:57.205Z"
   },
   {
    "duration": 343,
    "start_time": "2021-09-23T16:55:57.218Z"
   },
   {
    "duration": 8,
    "start_time": "2021-09-23T16:55:57.563Z"
   },
   {
    "duration": 21,
    "start_time": "2021-09-23T16:55:57.577Z"
   },
   {
    "duration": 205,
    "start_time": "2021-09-23T16:55:57.600Z"
   },
   {
    "duration": 5,
    "start_time": "2021-09-23T16:55:57.809Z"
   },
   {
    "duration": 14,
    "start_time": "2021-09-23T16:55:57.817Z"
   },
   {
    "duration": 5,
    "start_time": "2021-09-23T16:55:57.832Z"
   },
   {
    "duration": 1052,
    "start_time": "2021-09-23T16:55:57.839Z"
   },
   {
    "duration": 21,
    "start_time": "2021-09-23T16:55:58.893Z"
   },
   {
    "duration": 7,
    "start_time": "2021-09-23T16:55:58.915Z"
   },
   {
    "duration": 7,
    "start_time": "2021-09-23T16:55:58.924Z"
   },
   {
    "duration": 12585,
    "start_time": "2021-09-23T16:55:58.932Z"
   },
   {
    "duration": 10034,
    "start_time": "2021-09-23T16:56:11.518Z"
   },
   {
    "duration": 12136,
    "start_time": "2021-09-23T16:56:21.554Z"
   },
   {
    "duration": 10155,
    "start_time": "2021-09-23T16:56:33.692Z"
   },
   {
    "duration": 10588,
    "start_time": "2021-09-23T16:56:43.849Z"
   },
   {
    "duration": 7,
    "start_time": "2021-09-23T16:56:54.439Z"
   },
   {
    "duration": 14196,
    "start_time": "2021-09-23T16:56:54.448Z"
   },
   {
    "duration": 42,
    "start_time": "2021-09-23T16:57:08.645Z"
   },
   {
    "duration": 463,
    "start_time": "2021-09-23T16:57:08.690Z"
   },
   {
    "duration": 9,
    "start_time": "2021-09-23T16:57:09.154Z"
   },
   {
    "duration": 19,
    "start_time": "2021-09-23T16:57:09.165Z"
   },
   {
    "duration": 57,
    "start_time": "2021-09-23T16:57:09.186Z"
   },
   {
    "duration": 9710,
    "start_time": "2021-09-23T16:57:09.245Z"
   },
   {
    "duration": 20,
    "start_time": "2021-09-23T16:57:18.957Z"
   },
   {
    "duration": 206,
    "start_time": "2021-09-23T16:57:18.979Z"
   },
   {
    "duration": 255,
    "start_time": "2021-09-23T16:57:19.186Z"
   },
   {
    "duration": 252,
    "start_time": "2021-09-23T16:57:19.442Z"
   },
   {
    "duration": 217,
    "start_time": "2021-09-23T16:57:19.696Z"
   },
   {
    "duration": 242,
    "start_time": "2021-09-23T16:57:19.915Z"
   },
   {
    "duration": 361,
    "start_time": "2021-09-23T16:57:20.158Z"
   },
   {
    "duration": 216,
    "start_time": "2021-09-23T16:57:20.520Z"
   },
   {
    "duration": 3,
    "start_time": "2021-09-23T16:57:20.738Z"
   },
   {
    "duration": 223,
    "start_time": "2021-09-23T16:57:20.743Z"
   },
   {
    "duration": 263,
    "start_time": "2021-09-23T16:57:20.967Z"
   },
   {
    "duration": 226,
    "start_time": "2021-09-23T16:57:21.232Z"
   },
   {
    "duration": 266,
    "start_time": "2021-09-23T16:57:21.460Z"
   },
   {
    "duration": 999,
    "start_time": "2021-09-23T16:57:21.728Z"
   },
   {
    "duration": 241,
    "start_time": "2021-09-23T16:57:22.728Z"
   },
   {
    "duration": 336,
    "start_time": "2021-09-23T16:57:22.971Z"
   },
   {
    "duration": 3,
    "start_time": "2021-09-23T16:57:23.309Z"
   },
   {
    "duration": 31,
    "start_time": "2021-09-23T16:57:23.313Z"
   },
   {
    "duration": 7,
    "start_time": "2021-09-23T16:57:23.346Z"
   },
   {
    "duration": 9,
    "start_time": "2021-09-23T16:57:23.355Z"
   },
   {
    "duration": 53,
    "start_time": "2021-09-23T16:59:38.207Z"
   },
   {
    "duration": 12,
    "start_time": "2021-09-23T16:59:45.447Z"
   },
   {
    "duration": 15,
    "start_time": "2021-09-23T17:00:05.324Z"
   },
   {
    "duration": 4,
    "start_time": "2021-09-23T17:00:14.230Z"
   },
   {
    "duration": 14,
    "start_time": "2021-09-23T17:00:48.540Z"
   },
   {
    "duration": 3216,
    "start_time": "2021-09-23T17:01:39.888Z"
   },
   {
    "duration": 9542,
    "start_time": "2021-09-23T17:02:25.001Z"
   },
   {
    "duration": 8824,
    "start_time": "2021-09-23T17:02:42.544Z"
   },
   {
    "duration": 13,
    "start_time": "2021-09-23T17:03:00.087Z"
   },
   {
    "duration": 2324,
    "start_time": "2021-09-23T17:03:18.212Z"
   },
   {
    "duration": 12,
    "start_time": "2021-09-23T17:03:32.610Z"
   },
   {
    "duration": 12,
    "start_time": "2021-09-23T17:03:37.692Z"
   },
   {
    "duration": 409,
    "start_time": "2021-09-23T17:03:59.728Z"
   },
   {
    "duration": 4,
    "start_time": "2021-09-23T17:04:06.105Z"
   },
   {
    "duration": 7,
    "start_time": "2021-09-23T17:04:07.101Z"
   },
   {
    "duration": 69,
    "start_time": "2021-09-23T17:04:11.579Z"
   },
   {
    "duration": 1388,
    "start_time": "2021-09-23T17:04:27.854Z"
   },
   {
    "duration": 18,
    "start_time": "2021-09-23T17:04:38.394Z"
   },
   {
    "duration": 1192,
    "start_time": "2021-09-23T17:06:10.332Z"
   },
   {
    "duration": 442,
    "start_time": "2021-09-23T17:06:11.526Z"
   },
   {
    "duration": 3,
    "start_time": "2021-09-23T17:06:11.970Z"
   },
   {
    "duration": 228,
    "start_time": "2021-09-23T17:06:11.975Z"
   },
   {
    "duration": 7,
    "start_time": "2021-09-23T17:06:12.205Z"
   },
   {
    "duration": 6,
    "start_time": "2021-09-23T17:06:12.214Z"
   },
   {
    "duration": 7,
    "start_time": "2021-09-23T17:06:12.222Z"
   },
   {
    "duration": 5,
    "start_time": "2021-09-23T17:06:12.232Z"
   },
   {
    "duration": 103,
    "start_time": "2021-09-23T17:06:12.239Z"
   },
   {
    "duration": 46,
    "start_time": "2021-09-23T17:06:12.344Z"
   },
   {
    "duration": 16,
    "start_time": "2021-09-23T17:06:12.392Z"
   },
   {
    "duration": 4,
    "start_time": "2021-09-23T17:06:12.410Z"
   },
   {
    "duration": 515,
    "start_time": "2021-09-23T17:06:12.416Z"
   },
   {
    "duration": 10,
    "start_time": "2021-09-23T17:06:12.933Z"
   },
   {
    "duration": 32,
    "start_time": "2021-09-23T17:06:12.945Z"
   },
   {
    "duration": 15,
    "start_time": "2021-09-23T17:06:12.978Z"
   },
   {
    "duration": 9,
    "start_time": "2021-09-23T17:06:12.997Z"
   },
   {
    "duration": 8,
    "start_time": "2021-09-23T17:06:13.008Z"
   },
   {
    "duration": 349,
    "start_time": "2021-09-23T17:06:13.018Z"
   },
   {
    "duration": 12,
    "start_time": "2021-09-23T17:06:13.369Z"
   },
   {
    "duration": 15,
    "start_time": "2021-09-23T17:06:13.383Z"
   },
   {
    "duration": 225,
    "start_time": "2021-09-23T17:06:13.400Z"
   },
   {
    "duration": 5,
    "start_time": "2021-09-23T17:06:13.629Z"
   },
   {
    "duration": 15,
    "start_time": "2021-09-23T17:06:13.636Z"
   },
   {
    "duration": 5,
    "start_time": "2021-09-23T17:06:13.653Z"
   },
   {
    "duration": 1041,
    "start_time": "2021-09-23T17:06:13.676Z"
   },
   {
    "duration": 18,
    "start_time": "2021-09-23T17:06:14.719Z"
   },
   {
    "duration": 7,
    "start_time": "2021-09-23T17:06:14.739Z"
   },
   {
    "duration": 30,
    "start_time": "2021-09-23T17:06:14.747Z"
   },
   {
    "duration": 14165,
    "start_time": "2021-09-23T17:06:14.779Z"
   },
   {
    "duration": 11360,
    "start_time": "2021-09-23T17:06:28.946Z"
   },
   {
    "duration": 14118,
    "start_time": "2021-09-23T17:06:40.308Z"
   },
   {
    "duration": 11023,
    "start_time": "2021-09-23T17:06:54.428Z"
   },
   {
    "duration": 11857,
    "start_time": "2021-09-23T17:07:05.453Z"
   },
   {
    "duration": 8,
    "start_time": "2021-09-23T17:07:17.312Z"
   },
   {
    "duration": 13145,
    "start_time": "2021-09-23T17:07:17.322Z"
   },
   {
    "duration": 27,
    "start_time": "2021-09-23T17:07:30.469Z"
   },
   {
    "duration": 355,
    "start_time": "2021-09-23T17:07:30.498Z"
   },
   {
    "duration": 23,
    "start_time": "2021-09-23T17:07:30.855Z"
   },
   {
    "duration": 15,
    "start_time": "2021-09-23T17:07:30.880Z"
   },
   {
    "duration": 8,
    "start_time": "2021-09-23T17:07:30.897Z"
   },
   {
    "duration": 29,
    "start_time": "2021-09-23T17:07:30.906Z"
   },
   {
    "duration": 66,
    "start_time": "2021-09-23T17:07:30.938Z"
   },
   {
    "duration": 3,
    "start_time": "2021-09-23T17:07:31.006Z"
   },
   {
    "duration": 37,
    "start_time": "2021-09-23T17:07:31.010Z"
   },
   {
    "duration": 5667,
    "start_time": "2021-09-23T17:07:31.048Z"
   },
   {
    "duration": -1533,
    "start_time": "2021-09-23T17:07:38.250Z"
   },
   {
    "duration": -1540,
    "start_time": "2021-09-23T17:07:38.258Z"
   },
   {
    "duration": -1549,
    "start_time": "2021-09-23T17:07:38.268Z"
   },
   {
    "duration": -1569,
    "start_time": "2021-09-23T17:07:38.289Z"
   },
   {
    "duration": -1578,
    "start_time": "2021-09-23T17:07:38.299Z"
   },
   {
    "duration": -1585,
    "start_time": "2021-09-23T17:07:38.307Z"
   },
   {
    "duration": -1592,
    "start_time": "2021-09-23T17:07:38.315Z"
   },
   {
    "duration": -1597,
    "start_time": "2021-09-23T17:07:38.322Z"
   },
   {
    "duration": -1613,
    "start_time": "2021-09-23T17:07:38.339Z"
   },
   {
    "duration": -1619,
    "start_time": "2021-09-23T17:07:38.345Z"
   },
   {
    "duration": -1637,
    "start_time": "2021-09-23T17:07:38.364Z"
   },
   {
    "duration": -1642,
    "start_time": "2021-09-23T17:07:38.370Z"
   },
   {
    "duration": -1649,
    "start_time": "2021-09-23T17:07:38.378Z"
   },
   {
    "duration": -1657,
    "start_time": "2021-09-23T17:07:38.387Z"
   },
   {
    "duration": -1663,
    "start_time": "2021-09-23T17:07:38.393Z"
   },
   {
    "duration": -1671,
    "start_time": "2021-09-23T17:07:38.402Z"
   },
   {
    "duration": -1679,
    "start_time": "2021-09-23T17:07:38.411Z"
   },
   {
    "duration": -1688,
    "start_time": "2021-09-23T17:07:38.420Z"
   },
   {
    "duration": -1693,
    "start_time": "2021-09-23T17:07:38.426Z"
   },
   {
    "duration": -1698,
    "start_time": "2021-09-23T17:07:38.432Z"
   },
   {
    "duration": 13,
    "start_time": "2021-09-23T17:08:08.895Z"
   },
   {
    "duration": 5,
    "start_time": "2021-09-23T17:10:00.448Z"
   },
   {
    "duration": 1058,
    "start_time": "2021-09-23T17:10:01.285Z"
   },
   {
    "duration": 56,
    "start_time": "2021-09-23T17:16:27.759Z"
   },
   {
    "duration": 5547,
    "start_time": "2021-09-23T17:16:29.619Z"
   },
   {
    "duration": 1085,
    "start_time": "2021-09-23T17:16:54.526Z"
   },
   {
    "duration": 417,
    "start_time": "2021-09-23T17:16:55.613Z"
   },
   {
    "duration": 2,
    "start_time": "2021-09-23T17:16:56.032Z"
   },
   {
    "duration": 198,
    "start_time": "2021-09-23T17:16:56.036Z"
   },
   {
    "duration": 7,
    "start_time": "2021-09-23T17:16:56.237Z"
   },
   {
    "duration": 4,
    "start_time": "2021-09-23T17:16:56.277Z"
   },
   {
    "duration": 8,
    "start_time": "2021-09-23T17:16:56.283Z"
   },
   {
    "duration": 5,
    "start_time": "2021-09-23T17:16:56.293Z"
   },
   {
    "duration": 97,
    "start_time": "2021-09-23T17:16:56.299Z"
   },
   {
    "duration": 43,
    "start_time": "2021-09-23T17:16:56.398Z"
   },
   {
    "duration": 42,
    "start_time": "2021-09-23T17:16:56.443Z"
   },
   {
    "duration": 4,
    "start_time": "2021-09-23T17:16:56.487Z"
   },
   {
    "duration": 387,
    "start_time": "2021-09-23T17:16:56.493Z"
   },
   {
    "duration": 10,
    "start_time": "2021-09-23T17:16:56.881Z"
   },
   {
    "duration": 15,
    "start_time": "2021-09-23T17:16:56.893Z"
   },
   {
    "duration": 13,
    "start_time": "2021-09-23T17:16:56.910Z"
   },
   {
    "duration": 15,
    "start_time": "2021-09-23T17:16:56.925Z"
   },
   {
    "duration": 36,
    "start_time": "2021-09-23T17:16:56.941Z"
   },
   {
    "duration": 370,
    "start_time": "2021-09-23T17:16:56.979Z"
   },
   {
    "duration": 9,
    "start_time": "2021-09-23T17:16:57.351Z"
   },
   {
    "duration": 25,
    "start_time": "2021-09-23T17:16:57.361Z"
   },
   {
    "duration": 218,
    "start_time": "2021-09-23T17:16:57.388Z"
   },
   {
    "duration": 6,
    "start_time": "2021-09-23T17:16:57.610Z"
   },
   {
    "duration": 16,
    "start_time": "2021-09-23T17:16:57.619Z"
   },
   {
    "duration": 5,
    "start_time": "2021-09-23T17:16:57.637Z"
   },
   {
    "duration": 1043,
    "start_time": "2021-09-23T17:16:57.644Z"
   },
   {
    "duration": 24,
    "start_time": "2021-09-23T17:16:58.689Z"
   },
   {
    "duration": 8,
    "start_time": "2021-09-23T17:16:58.715Z"
   },
   {
    "duration": 7,
    "start_time": "2021-09-23T17:16:58.725Z"
   },
   {
    "duration": 12698,
    "start_time": "2021-09-23T17:16:58.733Z"
   },
   {
    "duration": 10278,
    "start_time": "2021-09-23T17:17:11.433Z"
   },
   {
    "duration": 12677,
    "start_time": "2021-09-23T17:17:21.713Z"
   },
   {
    "duration": 10288,
    "start_time": "2021-09-23T17:17:34.392Z"
   },
   {
    "duration": 10633,
    "start_time": "2021-09-23T17:17:44.681Z"
   },
   {
    "duration": 7,
    "start_time": "2021-09-23T17:17:55.316Z"
   },
   {
    "duration": 12898,
    "start_time": "2021-09-23T17:17:55.324Z"
   },
   {
    "duration": 20,
    "start_time": "2021-09-23T17:18:08.224Z"
   },
   {
    "duration": 344,
    "start_time": "2021-09-23T17:18:08.246Z"
   },
   {
    "duration": 7,
    "start_time": "2021-09-23T17:18:08.592Z"
   },
   {
    "duration": 32,
    "start_time": "2021-09-23T17:18:08.601Z"
   },
   {
    "duration": 55,
    "start_time": "2021-09-23T17:18:08.635Z"
   },
   {
    "duration": 9421,
    "start_time": "2021-09-23T17:18:08.692Z"
   },
   {
    "duration": 12,
    "start_time": "2021-09-23T17:18:18.115Z"
   },
   {
    "duration": 210,
    "start_time": "2021-09-23T17:18:18.129Z"
   },
   {
    "duration": 251,
    "start_time": "2021-09-23T17:18:18.341Z"
   },
   {
    "duration": 255,
    "start_time": "2021-09-23T17:18:18.594Z"
   },
   {
    "duration": 216,
    "start_time": "2021-09-23T17:18:18.851Z"
   },
   {
    "duration": 241,
    "start_time": "2021-09-23T17:18:19.076Z"
   },
   {
    "duration": 286,
    "start_time": "2021-09-23T17:18:19.319Z"
   },
   {
    "duration": 221,
    "start_time": "2021-09-23T17:18:19.606Z"
   },
   {
    "duration": 4,
    "start_time": "2021-09-23T17:18:19.829Z"
   },
   {
    "duration": 232,
    "start_time": "2021-09-23T17:18:19.834Z"
   },
   {
    "duration": 272,
    "start_time": "2021-09-23T17:18:20.067Z"
   },
   {
    "duration": 218,
    "start_time": "2021-09-23T17:18:20.341Z"
   },
   {
    "duration": 250,
    "start_time": "2021-09-23T17:18:20.560Z"
   },
   {
    "duration": 853,
    "start_time": "2021-09-23T17:18:20.812Z"
   },
   {
    "duration": 239,
    "start_time": "2021-09-23T17:18:21.668Z"
   },
   {
    "duration": 338,
    "start_time": "2021-09-23T17:18:21.909Z"
   },
   {
    "duration": 4,
    "start_time": "2021-09-23T17:18:22.250Z"
   },
   {
    "duration": 37,
    "start_time": "2021-09-23T17:18:22.256Z"
   },
   {
    "duration": 9,
    "start_time": "2021-09-23T17:18:22.295Z"
   },
   {
    "duration": 9,
    "start_time": "2021-09-23T17:18:22.306Z"
   },
   {
    "duration": 13,
    "start_time": "2021-09-23T17:22:27.762Z"
   },
   {
    "duration": 354,
    "start_time": "2021-09-23T17:24:34.788Z"
   },
   {
    "duration": 286,
    "start_time": "2021-09-23T17:25:04.251Z"
   },
   {
    "duration": 70,
    "start_time": "2021-09-23T17:25:32.542Z"
   },
   {
    "duration": 5,
    "start_time": "2021-09-23T17:25:39.363Z"
   },
   {
    "duration": 334,
    "start_time": "2021-09-23T17:26:01.669Z"
   },
   {
    "duration": 125,
    "start_time": "2021-09-23T17:26:32.279Z"
   },
   {
    "duration": 107,
    "start_time": "2021-09-23T17:26:59.218Z"
   },
   {
    "duration": 118,
    "start_time": "2021-09-23T17:27:04.483Z"
   },
   {
    "duration": 195,
    "start_time": "2021-09-23T17:28:33.681Z"
   },
   {
    "duration": 120,
    "start_time": "2021-09-23T17:29:20.112Z"
   },
   {
    "duration": 122,
    "start_time": "2021-09-23T17:29:35.291Z"
   },
   {
    "duration": 121,
    "start_time": "2021-09-23T17:29:57.901Z"
   },
   {
    "duration": 122,
    "start_time": "2021-09-23T17:30:33.013Z"
   },
   {
    "duration": 117,
    "start_time": "2021-09-23T17:30:39.149Z"
   },
   {
    "duration": 33,
    "start_time": "2021-09-23T17:33:14.586Z"
   },
   {
    "duration": 53,
    "start_time": "2021-09-23T17:33:40.277Z"
   },
   {
    "duration": 51,
    "start_time": "2021-09-23T17:33:47.507Z"
   },
   {
    "duration": 19,
    "start_time": "2021-09-23T17:34:02.909Z"
   },
   {
    "duration": 12,
    "start_time": "2021-09-23T17:34:18.941Z"
   },
   {
    "duration": 22,
    "start_time": "2021-09-23T17:34:23.643Z"
   },
   {
    "duration": 309,
    "start_time": "2021-09-23T17:35:29.115Z"
   },
   {
    "duration": 11,
    "start_time": "2021-09-23T17:35:32.721Z"
   },
   {
    "duration": 1300,
    "start_time": "2021-09-23T17:39:06.629Z"
   },
   {
    "duration": 3007,
    "start_time": "2021-09-23T17:39:18.014Z"
   },
   {
    "duration": 313,
    "start_time": "2021-09-23T17:40:14.756Z"
   },
   {
    "duration": 334,
    "start_time": "2021-09-23T17:40:30.530Z"
   },
   {
    "duration": 3541,
    "start_time": "2021-09-23T17:45:42.214Z"
   },
   {
    "duration": 11013,
    "start_time": "2021-09-23T17:49:49.161Z"
   },
   {
    "duration": 335,
    "start_time": "2021-09-23T17:50:01.172Z"
   },
   {
    "duration": 16,
    "start_time": "2021-09-23T17:51:26.450Z"
   },
   {
    "duration": 1503,
    "start_time": "2021-09-23T17:51:48.166Z"
   },
   {
    "duration": 1164,
    "start_time": "2021-09-27T18:10:24.094Z"
   },
   {
    "duration": 1064,
    "start_time": "2021-09-27T18:10:29.732Z"
   },
   {
    "duration": 388,
    "start_time": "2021-09-27T18:10:30.798Z"
   },
   {
    "duration": 3,
    "start_time": "2021-09-27T18:10:31.188Z"
   },
   {
    "duration": 181,
    "start_time": "2021-09-27T18:10:31.192Z"
   },
   {
    "duration": 31,
    "start_time": "2021-09-27T18:10:31.374Z"
   },
   {
    "duration": 4,
    "start_time": "2021-09-27T18:10:31.407Z"
   },
   {
    "duration": 18,
    "start_time": "2021-09-27T18:10:31.412Z"
   },
   {
    "duration": 5,
    "start_time": "2021-09-27T18:10:31.433Z"
   },
   {
    "duration": 82,
    "start_time": "2021-09-27T18:10:31.440Z"
   },
   {
    "duration": 29,
    "start_time": "2021-09-27T18:10:31.524Z"
   },
   {
    "duration": 15,
    "start_time": "2021-09-27T18:10:31.554Z"
   },
   {
    "duration": 3,
    "start_time": "2021-09-27T18:10:31.570Z"
   },
   {
    "duration": 390,
    "start_time": "2021-09-27T18:10:31.575Z"
   },
   {
    "duration": 10,
    "start_time": "2021-09-27T18:10:31.967Z"
   },
   {
    "duration": 27,
    "start_time": "2021-09-27T18:10:31.978Z"
   },
   {
    "duration": 11,
    "start_time": "2021-09-27T18:10:32.007Z"
   },
   {
    "duration": 6,
    "start_time": "2021-09-27T18:10:32.020Z"
   },
   {
    "duration": 7,
    "start_time": "2021-09-27T18:10:32.027Z"
   },
   {
    "duration": 314,
    "start_time": "2021-09-27T18:10:32.035Z"
   },
   {
    "duration": 8,
    "start_time": "2021-09-27T18:10:32.351Z"
   },
   {
    "duration": 15,
    "start_time": "2021-09-27T18:10:32.360Z"
   },
   {
    "duration": 213,
    "start_time": "2021-09-27T18:10:32.377Z"
   },
   {
    "duration": 7,
    "start_time": "2021-09-27T18:10:32.595Z"
   },
   {
    "duration": 13,
    "start_time": "2021-09-27T18:10:32.605Z"
   },
   {
    "duration": 8,
    "start_time": "2021-09-27T18:10:32.619Z"
   },
   {
    "duration": 997,
    "start_time": "2021-09-27T18:10:32.629Z"
   },
   {
    "duration": 16,
    "start_time": "2021-09-27T18:10:33.628Z"
   },
   {
    "duration": 6,
    "start_time": "2021-09-27T18:10:33.645Z"
   },
   {
    "duration": 7,
    "start_time": "2021-09-27T18:10:33.653Z"
   },
   {
    "duration": 11884,
    "start_time": "2021-09-27T18:10:33.662Z"
   },
   {
    "duration": 9340,
    "start_time": "2021-09-27T18:10:45.547Z"
   },
   {
    "duration": 11439,
    "start_time": "2021-09-27T18:10:54.889Z"
   },
   {
    "duration": 9089,
    "start_time": "2021-09-27T18:11:06.330Z"
   },
   {
    "duration": 9774,
    "start_time": "2021-09-27T18:11:15.421Z"
   },
   {
    "duration": 7,
    "start_time": "2021-09-27T18:11:25.200Z"
   },
   {
    "duration": 11806,
    "start_time": "2021-09-27T18:11:25.208Z"
   },
   {
    "duration": 17,
    "start_time": "2021-09-27T18:11:37.016Z"
   },
   {
    "duration": 311,
    "start_time": "2021-09-27T18:11:37.034Z"
   },
   {
    "duration": 6,
    "start_time": "2021-09-27T18:11:37.347Z"
   },
   {
    "duration": 22,
    "start_time": "2021-09-27T18:11:37.355Z"
   },
   {
    "duration": 57,
    "start_time": "2021-09-27T18:11:37.379Z"
   },
   {
    "duration": 8696,
    "start_time": "2021-09-27T18:11:37.438Z"
   },
   {
    "duration": 5660,
    "start_time": "2021-09-27T18:11:46.135Z"
   },
   {
    "duration": 149,
    "start_time": "2021-09-27T18:11:51.648Z"
   },
   {
    "duration": 147,
    "start_time": "2021-09-27T18:11:51.651Z"
   },
   {
    "duration": 146,
    "start_time": "2021-09-27T18:11:51.653Z"
   },
   {
    "duration": 145,
    "start_time": "2021-09-27T18:11:51.655Z"
   },
   {
    "duration": 143,
    "start_time": "2021-09-27T18:11:51.657Z"
   },
   {
    "duration": 142,
    "start_time": "2021-09-27T18:11:51.659Z"
   },
   {
    "duration": 141,
    "start_time": "2021-09-27T18:11:51.661Z"
   },
   {
    "duration": 140,
    "start_time": "2021-09-27T18:11:51.663Z"
   },
   {
    "duration": 139,
    "start_time": "2021-09-27T18:11:51.665Z"
   },
   {
    "duration": 138,
    "start_time": "2021-09-27T18:11:51.667Z"
   },
   {
    "duration": 137,
    "start_time": "2021-09-27T18:11:51.669Z"
   },
   {
    "duration": 130,
    "start_time": "2021-09-27T18:11:51.676Z"
   },
   {
    "duration": 130,
    "start_time": "2021-09-27T18:11:51.678Z"
   },
   {
    "duration": 129,
    "start_time": "2021-09-27T18:11:51.680Z"
   },
   {
    "duration": 127,
    "start_time": "2021-09-27T18:11:51.682Z"
   },
   {
    "duration": 126,
    "start_time": "2021-09-27T18:11:51.684Z"
   },
   {
    "duration": 125,
    "start_time": "2021-09-27T18:11:51.686Z"
   },
   {
    "duration": 124,
    "start_time": "2021-09-27T18:11:51.688Z"
   },
   {
    "duration": 122,
    "start_time": "2021-09-27T18:11:51.691Z"
   },
   {
    "duration": 120,
    "start_time": "2021-09-27T18:11:51.693Z"
   },
   {
    "duration": 119,
    "start_time": "2021-09-27T18:11:51.695Z"
   },
   {
    "duration": 117,
    "start_time": "2021-09-27T18:11:51.698Z"
   },
   {
    "duration": 116,
    "start_time": "2021-09-27T18:11:51.700Z"
   },
   {
    "duration": 115,
    "start_time": "2021-09-27T18:11:51.702Z"
   },
   {
    "duration": 5408,
    "start_time": "2021-09-27T18:12:09.399Z"
   },
   {
    "duration": 1262,
    "start_time": "2021-09-27T18:12:20.783Z"
   },
   {
    "duration": 118,
    "start_time": "2021-09-27T18:12:29.548Z"
   },
   {
    "duration": 17,
    "start_time": "2021-09-27T18:12:31.046Z"
   },
   {
    "duration": 13,
    "start_time": "2021-09-27T18:12:47.585Z"
   },
   {
    "duration": 215,
    "start_time": "2021-09-27T18:12:47.599Z"
   },
   {
    "duration": 310,
    "start_time": "2021-09-27T18:12:47.816Z"
   },
   {
    "duration": 225,
    "start_time": "2021-09-27T18:12:48.128Z"
   },
   {
    "duration": 218,
    "start_time": "2021-09-27T18:12:48.355Z"
   },
   {
    "duration": 248,
    "start_time": "2021-09-27T18:12:48.575Z"
   },
   {
    "duration": 254,
    "start_time": "2021-09-27T18:12:48.824Z"
   },
   {
    "duration": 207,
    "start_time": "2021-09-27T18:12:49.080Z"
   },
   {
    "duration": 11,
    "start_time": "2021-09-27T18:12:49.289Z"
   },
   {
    "duration": 218,
    "start_time": "2021-09-27T18:12:49.301Z"
   },
   {
    "duration": 271,
    "start_time": "2021-09-27T18:12:49.521Z"
   },
   {
    "duration": 215,
    "start_time": "2021-09-27T18:12:49.794Z"
   },
   {
    "duration": 261,
    "start_time": "2021-09-27T18:12:50.010Z"
   },
   {
    "duration": 735,
    "start_time": "2021-09-27T18:12:50.273Z"
   },
   {
    "duration": 1002,
    "start_time": "2021-09-27T18:12:51.010Z"
   },
   {
    "duration": 334,
    "start_time": "2021-09-27T18:12:52.014Z"
   },
   {
    "duration": 234,
    "start_time": "2021-09-27T18:12:52.350Z"
   },
   {
    "duration": 3,
    "start_time": "2021-09-27T18:12:52.586Z"
   },
   {
    "duration": 22,
    "start_time": "2021-09-27T18:12:52.599Z"
   },
   {
    "duration": 780,
    "start_time": "2021-09-27T18:12:52.623Z"
   },
   {
    "duration": 9,
    "start_time": "2021-09-27T18:12:53.405Z"
   },
   {
    "duration": 8,
    "start_time": "2021-09-27T18:12:53.415Z"
   }
  ],
  "kernelspec": {
   "display_name": "Python 3 (ipykernel)",
   "language": "python",
   "name": "python3"
  },
  "language_info": {
   "codemirror_mode": {
    "name": "ipython",
    "version": 3
   },
   "file_extension": ".py",
   "mimetype": "text/x-python",
   "name": "python",
   "nbconvert_exporter": "python",
   "pygments_lexer": "ipython3",
   "version": "3.8.13"
  },
  "toc": {
   "base_numbering": 1,
   "nav_menu": {},
   "number_sections": true,
   "sideBar": true,
   "skip_h1_title": true,
   "title_cell": "Table of Contents",
   "title_sidebar": "Contents",
   "toc_cell": false,
   "toc_position": {},
   "toc_section_display": true,
   "toc_window_display": false
  }
 },
 "nbformat": 4,
 "nbformat_minor": 2
}
